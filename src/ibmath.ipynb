{
 "metadata": {
  "language_info": {
   "codemirror_mode": {
    "name": "ipython",
    "version": 3
   },
   "file_extension": ".py",
   "mimetype": "text/x-python",
   "name": "python",
   "nbconvert_exporter": "python",
   "pygments_lexer": "ipython3",
   "version": "3.7.6-final"
  },
  "orig_nbformat": 2,
  "kernelspec": {
   "name": "Python 3.7.6 64-bit ('base': conda)",
   "display_name": "Python 3.7.6 64-bit ('base': conda)",
   "metadata": {
    "interpreter": {
     "hash": "baacbb4663b2efd07f9b7f875f668c98eac748873443d0ce630b512dc5ae7e3f"
    }
   }
  }
 },
 "nbformat": 4,
 "nbformat_minor": 2,
 "cells": [
  {
   "cell_type": "code",
   "execution_count": 1,
   "metadata": {},
   "outputs": [
    {
     "output_type": "execute_result",
     "data": {
      "text/plain": "'/Users/chris/GitHub/mathai/src'"
     },
     "metadata": {},
     "execution_count": 1
    }
   ],
   "source": [
    "import os\n",
    "import sys\n",
    "import subprocess\n",
    "import pandas as pd\n",
    "import numpy as np\n",
    "from ast import literal_eval\n",
    "os.getcwd()\n"
   ]
  },
  {
   "cell_type": "code",
   "execution_count": 2,
   "metadata": {
    "tags": []
   },
   "outputs": [
    {
     "output_type": "stream",
     "name": "stdout",
     "text": "ran main\n"
    }
   ],
   "source": [
    "from main import map_course_files\n",
    "from main import parse_course_files\n",
    "#from main import build_pset_df_tex\n",
    "#from main import build_problem_df_tex\n",
    "#from main import build_pset_df_pdf"
   ]
  },
  {
   "cell_type": "code",
   "execution_count": 3,
   "metadata": {
    "tags": []
   },
   "outputs": [
    {
     "output_type": "execute_result",
     "data": {
      "text/plain": "'/Users/chris/GitHub/course-files/IB'"
     },
     "metadata": {},
     "execution_count": 3
    }
   ],
   "source": [
    "HOME = os.environ[\"HOME\"]\n",
    "db_dir = HOME + \"/GitHub/mathai/db/\"\n",
    "out_dir = HOME + \"/GitHub/mathai/out/\"\n",
    "in_dir = HOME + \"/GitHub/mathai/in/\"\n",
    "course_dir = HOME + \"/GitHub/course-files/IB2021/\"\n",
    "search_dir = HOME + \"/GitHub/course-files/IB\"\n",
    "search_dir"
   ]
  },
  {
   "cell_type": "code",
   "execution_count": 11,
   "metadata": {},
   "outputs": [],
   "source": [
    "problem_df.to_csv('/Users/chris/GitHub/mathai/db/IB_problem_df.csv')\n",
    "pset_df.to_csv('/Users/chris/GitHub/mathai/db/IB_pset_df.csv')\n",
    "course_file_df.to_csv('/Users/chris/GitHub/mathai/db/IB_course_file_df.csv')"
   ]
  },
  {
   "cell_type": "code",
   "execution_count": 4,
   "metadata": {
    "tags": []
   },
   "outputs": [
    {
     "output_type": "execute_result",
     "data": {
      "text/plain": "array(['01-Measurement', '02-Trig+3D', '03-Descriptive-Statistics',\n       '04-Coordinate-geometry', '05-Linear-functions', '06-Bivariates',\n       '07-Probability', '09-Polynomial-functions',\n       '10-Exponential+log-functions', '11-Periodic-functions',\n       '12-Derivatives', '13-Integration', 'Archive-topics', 'Slides'],\n      dtype=object)"
     },
     "metadata": {},
     "execution_count": 4
    }
   ],
   "source": [
    "d, course_file_df = map_course_files(course_dir=search_dir)\n",
    "course_file_df.unit.unique()"
   ]
  },
  {
   "cell_type": "code",
   "execution_count": 5,
   "metadata": {
    "tags": []
   },
   "outputs": [
    {
     "output_type": "stream",
     "name": "stdout",
     "text": "\n df len:  169 \n Index(['unit', 'file_count', 'filename'], dtype='object')\n"
    },
    {
     "output_type": "execute_result",
     "data": {
      "text/plain": "unit                        \n01-Measurement                   3\n02-Trig+3D                       3\n03-Descriptive-Statistics        7\n04-Coordinate-geometry          19\n05-Linear-functions             10\n06-Bivariates                    7\n07-Probability                  11\n09-Polynomial-functions         40\n10-Exponential+log-functions    36\n11-Periodic-functions            4\n12-Derivatives                  18\n13-Integration                  11\ndtype: int64"
     },
     "metadata": {},
     "execution_count": 5
    }
   ],
   "source": [
    "drop_units = ['Slides', 'Archive-topics']\n",
    "for unit in drop_units:\n",
    "    course_file_df.drop(course_file_df[course_file_df.unit == unit].index, inplace=True)\n",
    "\n",
    "print('\\n df len: ', len(course_file_df), '\\n', course_file_df.columns)\n",
    "course_file_df.value_counts(['unit']).sort_index()\n",
    "#course_file_df.unit.unique()"
   ]
  },
  {
   "cell_type": "code",
   "execution_count": 6,
   "metadata": {
    "tags": []
   },
   "outputs": [
    {
     "output_type": "stream",
     "name": "stdout",
     "text": "pset_df:  169 Index(['unit', 'filename', 'problem_count', 'problem_IDs', 'problems_list',\n       'problem_kind', 'head', 'body'],\n      dtype='object')\nproblem_df:  2853 Index(['problem_set_ID', 'question', 'kind', 'filename', 'q_len'], dtype='object')\n"
    }
   ],
   "source": [
    "pset_df, problem_df = parse_course_files(course_file_df, course_dir=search_dir)\n",
    "print('pset_df: ', len(pset_df), pset_df.columns)\n",
    "print('problem_df: ', len(problem_df), problem_df.columns)"
   ]
  },
  {
   "cell_type": "code",
   "execution_count": 10,
   "metadata": {},
   "outputs": [
    {
     "output_type": "execute_result",
     "data": {
      "text/plain": "                                                                                                                                                                                                                                                                                                                                                                                                                                                                                                                                                                                                                                                                                                                                                                                                                                                                                                                                                                                                                                                                                                                                                                                                                                                                                                                                                                                                                                                                                                       25\n  \\newpage\\n                                                                                                                                                                                                                                                                                                                                                                                                                                                                                                                                                                                                                                                                                                                                                                                                                                                                                                                                                                                                                                                                                                                                                                                                                                                                                                                                                                                                                                                                                                                                                                                                                                                                                                                                                                                                                                                                                                                                                                                                                                                                                                                                                                                                                                                                                                                                                                                                                                                                                                                                                                                                                                                                                                                                        9\nSketch a graph with the following characteristics: \\n\\begin{itemize}\\n\\item polynomial function of order four\\n\\item a positive leading coefficient\\n\\item four real zeros\\n\\end{itemize}\\n\\begin{center}\\n    \\begin{tikzpicture}[scale=2/4]\\n    \\draw[thick,<->] (-7.5,0) -- (7.5,0) node[anchor=north west] {\\textbf{x}};\\n    \\draw[thick,<->] (0,-7.5) -- (0,7.5) node[anchor=south east] {\\textbf{y}};\\n    \\end{tikzpicture}\\n\\end{center}\\n\\n                                                                                                                                                                                                                                                                                                                                                                                                                                                                                                                                                                                                                                                                                                                                                                                                                                                                                                                                                                                                                                                                                                                                                                                                                                                                                                                                                                                                                                                                                                                                                                                                                                                                                                                                                                                                                                                                                                                                                                                                                                                                                                                                                                                                                                                                                              8\n\\subsection*{Function substitution}\\n                                                                                                                                                                                                                                                                                                                                                                                                                                                                                                                                                                                                                                                                                                                                                                                                                                                                                                                                                                                                                                                                                                                                                                                                                                                                                                                                                                                                                                                                                                                                                                                                                                                                                                                                                                                                                                                                                                                                                                                                                                                                                                                                                                                                                                                                                                                                                                                                                                                                                                                                                                                                                                                                                                               8\nFor each polynomial graph, state \\n\\begin{enumerate}\\n\\item its degree,\\n\\item how many distinct zeros it has, and\\n\\item the sign of its leading coefficient.\\n\\end{enumerate}\\n\\n    \\begin{tikzpicture}[scale=2/4]\\n    %\\draw[step=1cm,gray,very thin] (-7,-7) grid (7,7);\\n    \\draw[thick,<->] (-7.5,0) -- (7.5,0) node[anchor=north west] {\\textbf{x}};\\n    \\draw[thick,<->] (0,-7.5) -- (0,7.5) node[anchor=south east] {\\textbf{y}};\\n    %\\foreach \\x in {-6, -4, -2, 2, 4, 6} \\draw (\\x cm,1pt) -- (\\x cm,-1pt) node[anchor=north] {$\\x$};\\n    %\\foreach \\y in {5} \\draw (1pt,\\y cm) -- (-1pt,\\y cm) node[anchor=east] {50}; %{$\\y$};\\n    \\tkzInit[xmin=-6,xmax=6,ymin=-7,ymax=7,ystep=1]   \\n    \\tkzFct[color=black,thick,<->,domain = -4.3:5.2] {-0.1*(x+3)*(x)*(x-4)};\\n    \\end{tikzpicture}\\n    \\begin{tikzpicture}[scale=2/4]\\n    %\\draw[step=1cm,gray,very thin] (-7,-7) grid (7,7);\\n    \\draw[thick,<->] (-7.5,0) -- (7.5,0) node[anchor=north west] {\\textbf{x}};\\n    \\draw[thick,<->] (0,-7.5) -- (0,7.5) node[anchor=south east] {\\textbf{y}};\\n    %\\foreach \\x in {-6, -4, -2, 2, 4, 6} \\draw (\\x cm,1pt) -- (\\x cm,-1pt) node[anchor=north] {$\\x$};\\n    %\\foreach \\y in {5} \\draw (1pt,\\y cm) -- (-1pt,\\y cm) node[anchor=east] {50}; %{$\\y$};\\n    \\tkzInit[xmin=-6,xmax=6,ymin=-7,ymax=7,ystep=1]   \\n    \\tkzFct[color=black,thick,<->,domain = -5.3:4.2] {-0.05*(x+5)*(x+3)*(x-1)*(x-4)};\\n    \\end{tikzpicture}\\n\\\\[30pt]\\n    \\begin{tikzpicture}[scale=2/4]\\n    %\\draw[step=1cm,gray,very thin] (-7,-7) grid (7,7);\\n    \\draw[thick,<->] (-7.5,0) -- (7.5,0) node[anchor=north west] {\\textbf{x}};\\n    \\draw[thick,<->] (0,-7.5) -- (0,7.5) node[anchor=south east] {\\textbf{y}};\\n    %\\foreach \\x in {-6, -4, -2, 2, 4, 6} \\draw (\\x cm,1pt) -- (\\x cm,-1pt) node[anchor=north] {$\\x$};\\n    %\\foreach \\y in {5} \\draw (1pt,\\y cm) -- (-1pt,\\y cm) node[anchor=east] {50}; %{$\\y$};\\n    \\tkzInit[xmin=-6,xmax=6,ymin=-7,ymax=7,ystep=1]   \\n    \\tkzFct[color=black,thick,<->,domain = -1.3:5.2] {-0.5*(x-2)*(x-2)};\\n    \\end{tikzpicture}\\n    \\begin{tikzpicture}[scale=2/4]\\n    %\\draw[step=1cm,gray,very thin] (-7,-7) grid (7,7);\\n    \\draw[thick,<->] (-7.5,0) -- (7.5,0) node[anchor=north west] {\\textbf{x}};\\n    \\draw[thick,<->] (0,-7.5) -- (0,7.5) node[anchor=south east] {\\textbf{y}};\\n    %\\foreach \\x in {-6, -4, -2, 2, 4, 6} \\draw (\\x cm,1pt) -- (\\x cm,-1pt) node[anchor=north] {$\\x$};\\n    %\\foreach \\y in {5} \\draw (1pt,\\y cm) -- (-1pt,\\y cm) node[anchor=east] {50}; %{$\\y$};\\n    \\tkzInit[xmin=-6,xmax=6,ymin=-7,ymax=7,ystep=1]   \\n    \\tkzFct[color=black,thick,<->,domain = -3.3:5.2] {0.05*(x*x*x*x-3*x*x*x-9*x*x+10*x+20)};\\n    \\end{tikzpicture}\\n\\n\\n      7\n\\newpage \\n                                                                                                                                                                                                                                                                                                                                                                                                                                                                                                                                                                                                                                                                                                                                                                                                                                                                                                                                                                                                                                                                                                                                                                                                                                                                                                                                                                                                                                                                                                                                                                                                                                                                                                                                                                                                                                                                                                                                                                                                                                                                                                                                                                                                                                                                                                                                                                                                                                                                                                                                                                                                                                                                                                                                         7\nWhat are the quotient and remainder when $x^3+3x^2-x+2$ is divided by $x - 1$?\\\\*[25pt]\\n\\n                                                                                                                                                                                                                                                                                                                                                                                                                                                                                                                                                                                                                                                                                                                                                                                                                                                                                                                                                                                                                                                                                                                                                                                                                                                                                                                                                                                                                                                                                                                                                                                                                                                                                                                                                                                                                                                                                                                                                                                                                                                                                                                                                                                                                                                                                                                                                                                                                                                                                                                                                                                                                                                         6\n\\subsubsection*{Simplifying polynomials, standard form}\\n\\n                                                                                                                                                                                                                                                                                                                                                                                                                                                                                                                                                                                                                                                                                                                                                                                                                                                                                                                                                                                                                                                                                                                                                                                                                                                                                                                                                                                                                                                                                                                                                                                                                                                                                                                                                                                                                                                                                                                                                                                                                                                                                                                                                                                                                                                                                                                                                                                                                                                                                                                                                                                                                                                                                         6\nName: question, dtype: int64"
     },
     "metadata": {},
     "execution_count": 10
    }
   ],
   "source": [
    "problem_df.question.value_counts().reindex().head(10)"
   ]
  },
  {
   "cell_type": "code",
   "execution_count": 7,
   "metadata": {},
   "outputs": [
    {
     "output_type": "execute_result",
     "data": {
      "text/plain": "Empty DataFrame\nColumns: [unit, filename, problem_count, problem_kind, problems_list]\nIndex: []",
      "text/html": "<div>\n<style scoped>\n    .dataframe tbody tr th:only-of-type {\n        vertical-align: middle;\n    }\n\n    .dataframe tbody tr th {\n        vertical-align: top;\n    }\n\n    .dataframe thead th {\n        text-align: right;\n    }\n</style>\n<table border=\"1\" class=\"dataframe\">\n  <thead>\n    <tr style=\"text-align: right;\">\n      <th></th>\n      <th>unit</th>\n      <th>filename</th>\n      <th>problem_count</th>\n      <th>problem_kind</th>\n      <th>problems_list</th>\n    </tr>\n    <tr>\n      <th>problem_set_ID</th>\n      <th></th>\n      <th></th>\n      <th></th>\n      <th></th>\n      <th></th>\n    </tr>\n  </thead>\n  <tbody>\n  </tbody>\n</table>\n</div>"
     },
     "metadata": {},
     "execution_count": 7
    }
   ],
   "source": [
    "pset_df[pset_df.problem_kind.apply(len) != pset_df.problem_count][['unit', 'filename', 'problem_count', 'problem_kind', 'problems_list']]\n",
    "#[pset_df.filename.str.startswith('0326')]"
   ]
  },
  {
   "cell_type": "code",
   "execution_count": 10,
   "metadata": {
    "tags": []
   },
   "outputs": [
    {
     "output_type": "stream",
     "name": "stdout",
     "text": "\n 01-Measurement\npset_df:  3 Index(['unit', 'filename', 'problem_count', 'problem_IDs', 'problems_list',\n       'problem_kind', 'head', 'body'],\n      dtype='object')\nproblem_df:  36 Index(['problem_set_ID', 'question', 'kind', 'filename', 'q_len'], dtype='object')\n\n 02-Trig+3D\npset_df:  3 Index(['unit', 'filename', 'problem_count', 'problem_IDs', 'problems_list',\n       'problem_kind', 'head', 'body'],\n      dtype='object')\nproblem_df:  31 Index(['problem_set_ID', 'question', 'kind', 'filename', 'q_len'], dtype='object')\n\n 03-Descriptive-Statistics\npset_df:  7 Index(['unit', 'filename', 'problem_count', 'problem_IDs', 'problems_list',\n       'problem_kind', 'head', 'body'],\n      dtype='object')\nproblem_df:  86 Index(['problem_set_ID', 'question', 'kind', 'filename', 'q_len'], dtype='object')\n\n 04-Coordinate-geometry\n"
    },
    {
     "output_type": "error",
     "ename": "ValueError",
     "evalue": "arrays must all be same length",
     "traceback": [
      "\u001b[0;31m---------------------------------------------------------------------------\u001b[0m",
      "\u001b[0;31mValueError\u001b[0m                                Traceback (most recent call last)",
      "\u001b[0;32m<ipython-input-10-f7f40e9682b8>\u001b[0m in \u001b[0;36m<module>\u001b[0;34m\u001b[0m\n\u001b[1;32m      6\u001b[0m       '12-Derivatives', '13-Integration']:\n\u001b[1;32m      7\u001b[0m    \u001b[0mprint\u001b[0m\u001b[0;34m(\u001b[0m\u001b[0;34m'\\n'\u001b[0m\u001b[0;34m,\u001b[0m \u001b[0munit\u001b[0m\u001b[0;34m)\u001b[0m\u001b[0;34m\u001b[0m\u001b[0;34m\u001b[0m\u001b[0m\n\u001b[0;32m----> 8\u001b[0;31m    \u001b[0mpset_df\u001b[0m\u001b[0;34m,\u001b[0m \u001b[0mproblem_df\u001b[0m \u001b[0;34m=\u001b[0m \u001b[0mparse_course_files\u001b[0m\u001b[0;34m(\u001b[0m\u001b[0mcourse_file_df\u001b[0m\u001b[0;34m[\u001b[0m\u001b[0mcourse_file_df\u001b[0m\u001b[0;34m.\u001b[0m\u001b[0munit\u001b[0m \u001b[0;34m==\u001b[0m \u001b[0munit\u001b[0m\u001b[0;34m]\u001b[0m\u001b[0;34m,\u001b[0m \u001b[0mcourse_dir\u001b[0m\u001b[0;34m=\u001b[0m\u001b[0msearch_dir\u001b[0m\u001b[0;34m)\u001b[0m\u001b[0;34m\u001b[0m\u001b[0;34m\u001b[0m\u001b[0m\n\u001b[0m\u001b[1;32m      9\u001b[0m    \u001b[0mprint\u001b[0m\u001b[0;34m(\u001b[0m\u001b[0;34m'pset_df: '\u001b[0m\u001b[0;34m,\u001b[0m \u001b[0mlen\u001b[0m\u001b[0;34m(\u001b[0m\u001b[0mpset_df\u001b[0m\u001b[0;34m)\u001b[0m\u001b[0;34m,\u001b[0m \u001b[0mpset_df\u001b[0m\u001b[0;34m.\u001b[0m\u001b[0mcolumns\u001b[0m\u001b[0;34m)\u001b[0m\u001b[0;34m\u001b[0m\u001b[0;34m\u001b[0m\u001b[0m\n\u001b[1;32m     10\u001b[0m    \u001b[0mprint\u001b[0m\u001b[0;34m(\u001b[0m\u001b[0;34m'problem_df: '\u001b[0m\u001b[0;34m,\u001b[0m \u001b[0mlen\u001b[0m\u001b[0;34m(\u001b[0m\u001b[0mproblem_df\u001b[0m\u001b[0;34m)\u001b[0m\u001b[0;34m,\u001b[0m \u001b[0mproblem_df\u001b[0m\u001b[0;34m.\u001b[0m\u001b[0mcolumns\u001b[0m\u001b[0;34m)\u001b[0m\u001b[0;34m\u001b[0m\u001b[0;34m\u001b[0m\u001b[0m\n",
      "\u001b[0;32m~/GitHub/mathai/src/main.py\u001b[0m in \u001b[0;36mparse_course_files\u001b[0;34m(course_file_df, course_dir)\u001b[0m\n\u001b[1;32m    279\u001b[0m     \u001b[0mpset_df\u001b[0m\u001b[0;34m[\u001b[0m\u001b[0;34m'problem_count'\u001b[0m\u001b[0;34m]\u001b[0m \u001b[0;34m=\u001b[0m \u001b[0mpset_df\u001b[0m\u001b[0;34m[\u001b[0m\u001b[0;34m'problems_list'\u001b[0m\u001b[0;34m]\u001b[0m\u001b[0;34m.\u001b[0m\u001b[0mapply\u001b[0m\u001b[0;34m(\u001b[0m\u001b[0mlen\u001b[0m\u001b[0;34m)\u001b[0m\u001b[0;34m\u001b[0m\u001b[0;34m\u001b[0m\u001b[0m\n\u001b[1;32m    280\u001b[0m \u001b[0;34m\u001b[0m\u001b[0m\n\u001b[0;32m--> 281\u001b[0;31m     \u001b[0mproblem_df\u001b[0m \u001b[0;34m=\u001b[0m \u001b[0mparse_problem_sets\u001b[0m\u001b[0;34m(\u001b[0m\u001b[0mpset_df\u001b[0m\u001b[0;34m)\u001b[0m\u001b[0;34m\u001b[0m\u001b[0;34m\u001b[0m\u001b[0m\n\u001b[0m\u001b[1;32m    282\u001b[0m \u001b[0;34m\u001b[0m\u001b[0m\n\u001b[1;32m    283\u001b[0m     \u001b[0mproblem_IDs\u001b[0m \u001b[0;34m=\u001b[0m \u001b[0;34m[\u001b[0m\u001b[0;34m]\u001b[0m\u001b[0;34m\u001b[0m\u001b[0;34m\u001b[0m\u001b[0m\n",
      "\u001b[0;32m~/GitHub/mathai/src/main.py\u001b[0m in \u001b[0;36mparse_problem_sets\u001b[0;34m(pset_df)\u001b[0m\n\u001b[1;32m    312\u001b[0m \u001b[0;34m\u001b[0m\u001b[0m\n\u001b[1;32m    313\u001b[0m     problem_df = pd.DataFrame({'problem_set_ID':all_problem_set_IDs, \n\u001b[0;32m--> 314\u001b[0;31m                                 'question':all_questions, 'kind':all_kinds}) # bug mismatched lengths\n\u001b[0m\u001b[1;32m    315\u001b[0m     \u001b[0mproblem_df\u001b[0m\u001b[0;34m.\u001b[0m\u001b[0mindex\u001b[0m\u001b[0;34m.\u001b[0m\u001b[0mname\u001b[0m \u001b[0;34m=\u001b[0m \u001b[0;34m'problem_ID'\u001b[0m\u001b[0;34m\u001b[0m\u001b[0;34m\u001b[0m\u001b[0m\n\u001b[1;32m    316\u001b[0m \u001b[0;34m\u001b[0m\u001b[0m\n",
      "\u001b[0;32m~/opt/anaconda3/lib/python3.7/site-packages/pandas/core/frame.py\u001b[0m in \u001b[0;36m__init__\u001b[0;34m(self, data, index, columns, dtype, copy)\u001b[0m\n\u001b[1;32m    466\u001b[0m \u001b[0;34m\u001b[0m\u001b[0m\n\u001b[1;32m    467\u001b[0m         \u001b[0;32melif\u001b[0m \u001b[0misinstance\u001b[0m\u001b[0;34m(\u001b[0m\u001b[0mdata\u001b[0m\u001b[0;34m,\u001b[0m \u001b[0mdict\u001b[0m\u001b[0;34m)\u001b[0m\u001b[0;34m:\u001b[0m\u001b[0;34m\u001b[0m\u001b[0;34m\u001b[0m\u001b[0m\n\u001b[0;32m--> 468\u001b[0;31m             \u001b[0mmgr\u001b[0m \u001b[0;34m=\u001b[0m \u001b[0minit_dict\u001b[0m\u001b[0;34m(\u001b[0m\u001b[0mdata\u001b[0m\u001b[0;34m,\u001b[0m \u001b[0mindex\u001b[0m\u001b[0;34m,\u001b[0m \u001b[0mcolumns\u001b[0m\u001b[0;34m,\u001b[0m \u001b[0mdtype\u001b[0m\u001b[0;34m=\u001b[0m\u001b[0mdtype\u001b[0m\u001b[0;34m)\u001b[0m\u001b[0;34m\u001b[0m\u001b[0;34m\u001b[0m\u001b[0m\n\u001b[0m\u001b[1;32m    469\u001b[0m         \u001b[0;32melif\u001b[0m \u001b[0misinstance\u001b[0m\u001b[0;34m(\u001b[0m\u001b[0mdata\u001b[0m\u001b[0;34m,\u001b[0m \u001b[0mma\u001b[0m\u001b[0;34m.\u001b[0m\u001b[0mMaskedArray\u001b[0m\u001b[0;34m)\u001b[0m\u001b[0;34m:\u001b[0m\u001b[0;34m\u001b[0m\u001b[0;34m\u001b[0m\u001b[0m\n\u001b[1;32m    470\u001b[0m             \u001b[0;32mimport\u001b[0m \u001b[0mnumpy\u001b[0m\u001b[0;34m.\u001b[0m\u001b[0mma\u001b[0m\u001b[0;34m.\u001b[0m\u001b[0mmrecords\u001b[0m \u001b[0;32mas\u001b[0m \u001b[0mmrecords\u001b[0m\u001b[0;34m\u001b[0m\u001b[0;34m\u001b[0m\u001b[0m\n",
      "\u001b[0;32m~/opt/anaconda3/lib/python3.7/site-packages/pandas/core/internals/construction.py\u001b[0m in \u001b[0;36minit_dict\u001b[0;34m(data, index, columns, dtype)\u001b[0m\n\u001b[1;32m    281\u001b[0m             \u001b[0marr\u001b[0m \u001b[0;32mif\u001b[0m \u001b[0;32mnot\u001b[0m \u001b[0mis_datetime64tz_dtype\u001b[0m\u001b[0;34m(\u001b[0m\u001b[0marr\u001b[0m\u001b[0;34m)\u001b[0m \u001b[0;32melse\u001b[0m \u001b[0marr\u001b[0m\u001b[0;34m.\u001b[0m\u001b[0mcopy\u001b[0m\u001b[0;34m(\u001b[0m\u001b[0;34m)\u001b[0m \u001b[0;32mfor\u001b[0m \u001b[0marr\u001b[0m \u001b[0;32min\u001b[0m \u001b[0marrays\u001b[0m\u001b[0;34m\u001b[0m\u001b[0;34m\u001b[0m\u001b[0m\n\u001b[1;32m    282\u001b[0m         ]\n\u001b[0;32m--> 283\u001b[0;31m     \u001b[0;32mreturn\u001b[0m \u001b[0marrays_to_mgr\u001b[0m\u001b[0;34m(\u001b[0m\u001b[0marrays\u001b[0m\u001b[0;34m,\u001b[0m \u001b[0mdata_names\u001b[0m\u001b[0;34m,\u001b[0m \u001b[0mindex\u001b[0m\u001b[0;34m,\u001b[0m \u001b[0mcolumns\u001b[0m\u001b[0;34m,\u001b[0m \u001b[0mdtype\u001b[0m\u001b[0;34m=\u001b[0m\u001b[0mdtype\u001b[0m\u001b[0;34m)\u001b[0m\u001b[0;34m\u001b[0m\u001b[0;34m\u001b[0m\u001b[0m\n\u001b[0m\u001b[1;32m    284\u001b[0m \u001b[0;34m\u001b[0m\u001b[0m\n\u001b[1;32m    285\u001b[0m \u001b[0;34m\u001b[0m\u001b[0m\n",
      "\u001b[0;32m~/opt/anaconda3/lib/python3.7/site-packages/pandas/core/internals/construction.py\u001b[0m in \u001b[0;36marrays_to_mgr\u001b[0;34m(arrays, arr_names, index, columns, dtype, verify_integrity)\u001b[0m\n\u001b[1;32m     76\u001b[0m         \u001b[0;31m# figure out the index, if necessary\u001b[0m\u001b[0;34m\u001b[0m\u001b[0;34m\u001b[0m\u001b[0;34m\u001b[0m\u001b[0m\n\u001b[1;32m     77\u001b[0m         \u001b[0;32mif\u001b[0m \u001b[0mindex\u001b[0m \u001b[0;32mis\u001b[0m \u001b[0;32mNone\u001b[0m\u001b[0;34m:\u001b[0m\u001b[0;34m\u001b[0m\u001b[0;34m\u001b[0m\u001b[0m\n\u001b[0;32m---> 78\u001b[0;31m             \u001b[0mindex\u001b[0m \u001b[0;34m=\u001b[0m \u001b[0mextract_index\u001b[0m\u001b[0;34m(\u001b[0m\u001b[0marrays\u001b[0m\u001b[0;34m)\u001b[0m\u001b[0;34m\u001b[0m\u001b[0;34m\u001b[0m\u001b[0m\n\u001b[0m\u001b[1;32m     79\u001b[0m         \u001b[0;32melse\u001b[0m\u001b[0;34m:\u001b[0m\u001b[0;34m\u001b[0m\u001b[0;34m\u001b[0m\u001b[0m\n\u001b[1;32m     80\u001b[0m             \u001b[0mindex\u001b[0m \u001b[0;34m=\u001b[0m \u001b[0mensure_index\u001b[0m\u001b[0;34m(\u001b[0m\u001b[0mindex\u001b[0m\u001b[0;34m)\u001b[0m\u001b[0;34m\u001b[0m\u001b[0;34m\u001b[0m\u001b[0m\n",
      "\u001b[0;32m~/opt/anaconda3/lib/python3.7/site-packages/pandas/core/internals/construction.py\u001b[0m in \u001b[0;36mextract_index\u001b[0;34m(data)\u001b[0m\n\u001b[1;32m    395\u001b[0m             \u001b[0mlengths\u001b[0m \u001b[0;34m=\u001b[0m \u001b[0mlist\u001b[0m\u001b[0;34m(\u001b[0m\u001b[0mset\u001b[0m\u001b[0;34m(\u001b[0m\u001b[0mraw_lengths\u001b[0m\u001b[0;34m)\u001b[0m\u001b[0;34m)\u001b[0m\u001b[0;34m\u001b[0m\u001b[0;34m\u001b[0m\u001b[0m\n\u001b[1;32m    396\u001b[0m             \u001b[0;32mif\u001b[0m \u001b[0mlen\u001b[0m\u001b[0;34m(\u001b[0m\u001b[0mlengths\u001b[0m\u001b[0;34m)\u001b[0m \u001b[0;34m>\u001b[0m \u001b[0;36m1\u001b[0m\u001b[0;34m:\u001b[0m\u001b[0;34m\u001b[0m\u001b[0;34m\u001b[0m\u001b[0m\n\u001b[0;32m--> 397\u001b[0;31m                 \u001b[0;32mraise\u001b[0m \u001b[0mValueError\u001b[0m\u001b[0;34m(\u001b[0m\u001b[0;34m\"arrays must all be same length\"\u001b[0m\u001b[0;34m)\u001b[0m\u001b[0;34m\u001b[0m\u001b[0;34m\u001b[0m\u001b[0m\n\u001b[0m\u001b[1;32m    398\u001b[0m \u001b[0;34m\u001b[0m\u001b[0m\n\u001b[1;32m    399\u001b[0m             \u001b[0;32mif\u001b[0m \u001b[0mhave_dicts\u001b[0m\u001b[0;34m:\u001b[0m\u001b[0;34m\u001b[0m\u001b[0;34m\u001b[0m\u001b[0m\n",
      "\u001b[0;31mValueError\u001b[0m: arrays must all be same length"
     ]
    }
   ],
   "source": [
    " for unit in ['01-Measurement', '02-Trig+3D', '03-Descriptive-Statistics', '04-Coordinate-geometry', '05-Linear-functions', \n",
    "       #'06-Bivariates', \n",
    "       #\n",
    "       #'07-Probability', '09-Polynomial-functions',\n",
    "       #'10-Exponential+log-functions', '11-Periodic-functions',\n",
    "       '12-Derivatives', '13-Integration']:\n",
    "    print('\\n', unit)\n",
    "    pset_df, problem_df = parse_course_files(course_file_df[course_file_df.unit == unit], course_dir=search_dir)\n",
    "    print('pset_df: ', len(pset_df), pset_df.columns)\n",
    "    print('problem_df: ', len(problem_df), problem_df.columns)"
   ]
  },
  {
   "cell_type": "code",
   "execution_count": 6,
   "metadata": {},
   "outputs": [
    {
     "output_type": "execute_result",
     "data": {
      "text/plain": "                         unit  file_count                             filename\n8   03-Descriptive-Statistics           7        2-16DNQ_Descriptive-stats.tex\n9   03-Descriptive-Statistics           7  2-16DN_reQuiz_Descriptive-stats.tex\n48              06-Bivariates           8         2-16DN_Linear-regression.tex",
      "text/html": "<div>\n<style scoped>\n    .dataframe tbody tr th:only-of-type {\n        vertical-align: middle;\n    }\n\n    .dataframe tbody tr th {\n        vertical-align: top;\n    }\n\n    .dataframe thead th {\n        text-align: right;\n    }\n</style>\n<table border=\"1\" class=\"dataframe\">\n  <thead>\n    <tr style=\"text-align: right;\">\n      <th></th>\n      <th>unit</th>\n      <th>file_count</th>\n      <th>filename</th>\n    </tr>\n  </thead>\n  <tbody>\n    <tr>\n      <th>8</th>\n      <td>03-Descriptive-Statistics</td>\n      <td>7</td>\n      <td>2-16DNQ_Descriptive-stats.tex</td>\n    </tr>\n    <tr>\n      <th>9</th>\n      <td>03-Descriptive-Statistics</td>\n      <td>7</td>\n      <td>2-16DN_reQuiz_Descriptive-stats.tex</td>\n    </tr>\n    <tr>\n      <th>48</th>\n      <td>06-Bivariates</td>\n      <td>8</td>\n      <td>2-16DN_Linear-regression.tex</td>\n    </tr>\n  </tbody>\n</table>\n</div>"
     },
     "metadata": {},
     "execution_count": 6
    }
   ],
   "source": [
    "nested_file_df = course_file_df[course_file_df.filename.str.startswith('2-16DN')]\n",
    "nested_file_df"
   ]
  },
  {
   "cell_type": "code",
   "execution_count": 7,
   "metadata": {
    "tags": []
   },
   "outputs": [],
   "source": [
    "nested_pset_df, nested_problem_df = parse_course_files(nested_file_df, course_dir=search_dir)"
   ]
  },
  {
   "cell_type": "code",
   "execution_count": 9,
   "metadata": {
    "tags": []
   },
   "outputs": [
    {
     "output_type": "stream",
     "name": "stdout",
     "text": "\n  \\item Write down the topic of your exploration paper. Start with the phrase, ``The aim of my paper is ...''  \\vspace{3cm}\n  \n  \\item For homework, you read an exploration paper written by a BECA student last year titled, \\emph{Subway Linear Regression}. Where did the author collect his data?  \\vspace{1cm}\n  \n  \\item A box contains 100 cards. Each card has a number between one and six written on it. The following table shows the frequencies for each number.\n  \n  \\begin{tabular}{|l|r|r|r|r|r|r|}\n    \\hline\n    Number & 1 & 2 & 3 & 4 & 5 & 6\\\\ \n    \\hline \n    Frequency & 26 & 10 & 20 & $k$ & 29 & 11\\\\ \n    \\hline \n    \\end{tabular}\n\n  \\begin{enumerate}\n    \\item Calculate the value of $k$. \\hfill [3 marks] \\vspace{3cm}\n    \\item Find\n    \\begin{enumerate}\n      \\item the median; \\hfill [2 marks] \\vspace{3cm}\n      \\item the interquartile range. \\hfill [3 marks] \\vspace{3cm}\n    \\end{enumerate}\n  \\end{enumerate}\n\n\\newpage\n\n  \\item The following box-and-whisker plot represents the examination scores of a group of students.\\\\\n  \\includegraphics[width=9cm]{2-16exam-scores-box-plot.png}\n  \\begin{enumerate}\n    \\item Write down the median score. \\hfill [1 marks]\\\\[1.5cm]\n    The range of the scores is 52 marks, and the interquartile range is 19 marks.\n    \\item Find the value of\n    \\begin{enumerate}\n      \\item $c$; \\hfill [2 marks] \\vspace{2cm}\n      \\item $d$. \\hfill [2 marks] \\vspace{2cm}\n    \\end{enumerate}\n  \\end{enumerate}\n\n  \\item The scores of 30 students taking an IB Paper 2 are shown in the frequency table below.\n    \n    \\begin{tabular}{|l|c|c|c|c|}\n      \\hline\n      Mark ($x$) & $10 \\leq x < 30$ & $30 \\leq x < 50$ & $50 \\leq x < 70$ & $70 \\leq x < 90$\\\\ \n      \\hline \n      Frequency & 8 & 12 & 7 & 3\\\\ \n      \\hline \n      \\end{tabular}\n\n    \\begin{enumerate}\n      \\item Write down the modal class.  \\hfill [1 mark]  \\vspace{2cm}\n      \\item Estimate the mean score $\\overline{x}$. \\hfill [3 marks] \\vspace{2cm}\n      \\item Estimate the standard deviation of the scores, $\\sigma$.  \\hfill [3 marks] \\vspace{1cm}\n    \\end{enumerate}\n\n\\end{enumerate}\n \n  \\item A box contains 100 cards. Each card has a number between one and six written on it. The following table shows the frequencies for each number.\n  \n  \\begin{tabular}{|l|r|r|r|r|r|r|}\n    \\hline\n    Number & 1 & 2 & 3 & 4 & 5 & 6\\\\ \n    \\hline \n    Frequency & 6 & $k$ & 20 & 30 & 29 & 11\\\\ \n    \\hline \n    \\end{tabular}\n\n  \\begin{enumerate}\n    \\item Calculate the value of $k$. \\hfill [3 marks] \\vspace{2cm}\n    \\item Find\n    \\begin{enumerate}\n      \\item the median; \\hfill [2 marks] \\vspace{2cm}\n      \\item the interquartile range. \\hfill [3 marks] \\vspace{2cm}\n    \\end{enumerate}\n  \\end{enumerate}\n\n  \\item The following box-and-whisker plot represents the examination scores of a group of students.\\\\\n  \\includegraphics[width=9cm]{2-16exam-scores-box-plot.png}\n  \\begin{enumerate}\n    \\item Write down the median score. \\hfill [1 marks]\\\\[1.25cm]\n    The range of the scores is 48 marks, and the interquartile range is 17 marks.\n    \\item Find the value of\n    \\begin{enumerate}\n      \\item $c$; \\hfill [2 marks] \\vspace{1.5cm}\n      \\item $d$. \\hfill [2 marks] \\vspace{1.5cm}\n    \\end{enumerate}\n  \\end{enumerate}\n\n  \\item The scores of 30 students taking an IB Paper 2 are shown in the frequency table below.\n    \n    \\begin{tabular}{|l|c|c|c|c|}\n      \\hline\n      Mark ($x$) & $10 \\leq x < 30$ & $30 \\leq x < 50$ & $50 \\leq x < 70$ & $70 \\leq x < 90$\\\\ \n      \\hline \n      Frequency & 6 & 10 & 11 & 3\\\\ \n      \\hline \n      \\end{tabular}\n\n    \\begin{enumerate}\n      \\item Write down the modal class.  \\hfill [1 mark]  \\vspace{2cm}\n      \\item Estimate the mean score $\\overline{x}$. \\hfill [3 marks] \\vspace{2cm}\n      \\item Estimate the standard deviation of the scores, $\\sigma$.  \\hfill [3 marks] \\vspace{1cm}\n    \\end{enumerate}\n\n\\end{enumerate}\n \n  \\item The flash rate of fireflies depends on various factors, including temperature. As the temperature drops, the flash rate slows down.\n  \n  \n  %\\begin{enumerate}\n  \n  %\\item  Assume the given data\n  \n  %\\subsubsection*{Table of timing data}\n  \n  Firefly field data (simulated) where $T$ is the temperature and $f(T)$ is the number of seconds between flashes. \\\\[10pt]\n  \\begin{tabular}{|c|r|r|r|r|r|}\n  \\hline\n  $T$ & 54 & 60 & 64 & 70 & 75 \\\\ [3pt]\n  \\hline\n  $f(T)$ & 5 & 8 & 10 & 11 & 13  \\\\  [3pt]\n  \\hline\n  \\end{tabular}\n  \\begin{enumerate}\n      \\item Plot the data in the table on the grid below \\\\\n      (one point is plotted for you)\n      \\item Calculate $\\bar{x}$ and $\\bar{y}$\n      \\item Enter the data in your calculator\n  \\end{enumerate}\n  \n  \\vspace{1in}\n  %\\item\n  \\begin{tikzpicture}[scale=1.3]\n  \\begin{axis}[\n      title={Temperature dependence of male \\emph{Photinus aquilonius} fireflies},\n      xlabel={Temperature [$^{\\circ}F$]},\n      ylabel={Flash period [seconds per flash]},\n      xmin=50, xmax=80,\n      ymin=0, ymax=15,\n      xtick={50,55,60,65,70,75,80},\n      ytick={0,1,2,3,4,5,6,7,8,9,10,11,12,13,14,15},\n      legend pos=north west,\n      xmajorgrids=true,\n      ymajorgrids=true,\n      grid style=dashed,\n  ]\n  \\addplot[only marks,\n      color=blue,\n      mark=square,\n      ]\n      coordinates {\n      (54,5)%(60,8)(64,10)(70,11)(75,13)\n      };\n      \\legend{male \\emph{Photinus aquilonius}}\n  \\end{axis}\n  \\end{tikzpicture}\n  \n\\newpage\n\\item Dr. Huson buys a new plant and measures how tall it is after a number of weeks. Some of his measurements are shown below. Plot the points in the grid below.\n  \\renewcommand{\\arraystretch}{1.6}\n    \\begin{center}\n      \\begin{tabular}{|l|r|r|r|r|}\n      \\hline\n      Weeks & 2 & 5 & 7 & 10\\\\\n      \\hline\n      Height (cm) & 5 & 6 & 8 & 9 \\\\\n      \\hline\n      \\end{tabular}\n    \\end{center}\n\n\\begin{center} %4 quadrant regents grid w T-Chart\n\\begin{tikzpicture}[scale=.635]\n  \\draw [help lines] (0,0) grid (10,12);\n  \\draw [thick, ->] (0,0) -- (10.4,0) node [below right] {$Weeks$};\n  \\draw [thick, ->] (0,0)--(0,12.4) node [left] {$Height$};\n  \\node at (12,9)[right]{Calculator};\n  \\node at (12,8)[right]{$ax+b$};\n  \\node at (12,7)[right]{$a=0.592$};\n  \\node at (12,6)[right]{$b=3.82$};\n  \\node at (12,5)[right]{$r=0.972$};\n\\end{tikzpicture}\n\\end{center}\nState, to the \\emph{nearest tenth}, the linear regression equation that approximates the height, $y$, of the plants after $x$ weeks.\\\\[2cm]\nExplain what the $y$-intercept means in the context of the problem. \\\\[3cm]\nExplain what the slope means in the context of the problem.\n\n\n\\end{enumerate}\n"
    }
   ],
   "source": [
    "for line in nested_pset_df.body.iteritems():\n",
    "    for l in line[1]:\n",
    "        print(l, end='')"
   ]
  },
  {
   "cell_type": "code",
   "execution_count": 8,
   "metadata": {
    "tags": []
   },
   "outputs": [
    {
     "output_type": "stream",
     "name": "stdout",
     "text": "0 question 119\nWrite down the topic of your exploration paper. Start with the phrase, ``The aim of my paper is ...''  \\vspace{3cm}\n  \n\n1 question 177\nFor homework, you read an exploration paper written by a BECA student last year titled, \\emph{Subway Linear Regression}. Where did the author collect his data?  \\vspace{1cm}\n  \n\n2 question 606\nA box contains 100 cards. Each card has a number between one and six written on it. The following table shows the frequencies for each number.\n  \n  \\begin{tabular}{|l|r|r|r|r|r|r|}\n    \\hline\n    Number & 1 & 2 & 3 & 4 & 5 & 6\\\\ \n    \\hline \n    Frequency & 26 & 10 & 20 & $k$ & 29 & 11\\\\ \n    \\hline \n    \\end{tabular}\n\n  \\begin{enumerate}\n    \\item Calculate the value of $k$. \\hfill [3 marks] \\vspace{3cm}\n    \\item Find\n    \\begin{enumerate}\n      \\item the median; \\hfill [2 marks] \\vspace{3cm}\n      \\item the interquartile range. \\hfill [3 marks] \\vspace{3cm}\n    \\end{enumerate}\n  \\end{enumerate}\n\n\n3 newpage 10\n\\newpage\n\n\n4 question 505\nThe following box-and-whisker plot represents the examination scores of a group of students.\\\\\n  \\includegraphics[width=9cm]{2-16exam-scores-box-plot.png}\n  \\begin{enumerate}\n    \\item Write down the median score. \\hfill [1 marks]\\\\[1.5cm]\n    The range of the scores is 52 marks, and the interquartile range is 19 marks.\n    \\item Find the value of\n    \\begin{enumerate}\n      \\item $c$; \\hfill [2 marks] \\vspace{2cm}\n      \\item $d$. \\hfill [2 marks] \\vspace{2cm}\n    \\end{enumerate}\n  \\end{enumerate}\n\n\n5 question 615\nThe scores of 30 students taking an IB Paper 2 are shown in the frequency table below.\n    \n    \\begin{tabular}{|l|c|c|c|c|}\n      \\hline\n      Mark ($x$) & $10 \\leq x < 30$ & $30 \\leq x < 50$ & $50 \\leq x < 70$ & $70 \\leq x < 90$\\\\ \n      \\hline \n      Frequency & 8 & 12 & 7 & 3\\\\ \n      \\hline \n      \\end{tabular}\n\n    \\begin{enumerate}\n      \\item Write down the modal class.  \\hfill [1 mark]  \\vspace{2cm}\n      \\item Estimate the mean score $\\overline{x}$. \\hfill [3 marks] \\vspace{2cm}\n      \\item Estimate the standard deviation of the scores, $\\sigma$.  \\hfill [3 marks] \\vspace{1cm}\n    \\end{enumerate}\n\n\n6 question 605\nA box contains 100 cards. Each card has a number between one and six written on it. The following table shows the frequencies for each number.\n  \n  \\begin{tabular}{|l|r|r|r|r|r|r|}\n    \\hline\n    Number & 1 & 2 & 3 & 4 & 5 & 6\\\\ \n    \\hline \n    Frequency & 6 & $k$ & 20 & 30 & 29 & 11\\\\ \n    \\hline \n    \\end{tabular}\n\n  \\begin{enumerate}\n    \\item Calculate the value of $k$. \\hfill [3 marks] \\vspace{2cm}\n    \\item Find\n    \\begin{enumerate}\n      \\item the median; \\hfill [2 marks] \\vspace{2cm}\n      \\item the interquartile range. \\hfill [3 marks] \\vspace{2cm}\n    \\end{enumerate}\n  \\end{enumerate}\n\n\n7 question 510\nThe following box-and-whisker plot represents the examination scores of a group of students.\\\\\n  \\includegraphics[width=9cm]{2-16exam-scores-box-plot.png}\n  \\begin{enumerate}\n    \\item Write down the median score. \\hfill [1 marks]\\\\[1.25cm]\n    The range of the scores is 48 marks, and the interquartile range is 17 marks.\n    \\item Find the value of\n    \\begin{enumerate}\n      \\item $c$; \\hfill [2 marks] \\vspace{1.5cm}\n      \\item $d$. \\hfill [2 marks] \\vspace{1.5cm}\n    \\end{enumerate}\n  \\end{enumerate}\n\n\n8 question 616\nThe scores of 30 students taking an IB Paper 2 are shown in the frequency table below.\n    \n    \\begin{tabular}{|l|c|c|c|c|}\n      \\hline\n      Mark ($x$) & $10 \\leq x < 30$ & $30 \\leq x < 50$ & $50 \\leq x < 70$ & $70 \\leq x < 90$\\\\ \n      \\hline \n      Frequency & 6 & 10 & 11 & 3\\\\ \n      \\hline \n      \\end{tabular}\n\n    \\begin{enumerate}\n      \\item Write down the modal class.  \\hfill [1 mark]  \\vspace{2cm}\n      \\item Estimate the mean score $\\overline{x}$. \\hfill [3 marks] \\vspace{2cm}\n      \\item Estimate the standard deviation of the scores, $\\sigma$.  \\hfill [3 marks] \\vspace{1cm}\n    \\end{enumerate}\n\n\n9 question 1344\nThe flash rate of fireflies depends on various factors, including temperature. As the temperature drops, the flash rate slows down.\n  \n  Firefly field data (simulated) where $T$ is the temperature and $f(T)$ is the number of seconds between flashes. \\\\[10pt]\n  \\begin{tabular}{|c|r|r|r|r|r|}\n  \\hline\n  $T$ & 54 & 60 & 64 & 70 & 75 \\\\ [3pt]\n  \\hline\n  $f(T)$ & 5 & 8 & 10 & 11 & 13  \\\\  [3pt]\n  \\hline\n  \\end{tabular}\n  \\begin{enumerate}\n      \\item Plot the data in the table on the grid below \\\\\n      (one point is plotted for you)\n      \\item Calculate $\\bar{x}$ and $\\bar{y}$\n      \\item Enter the data in your calculator\n  \\end{enumerate} \\vspace{1in}\n  \\begin{tikzpicture}[scale=1.3]\n  \\begin{axis}[\n      title={Temperature dependence of male \\emph{Photinus aquilonius} fireflies},\n      xlabel={Temperature [$^{\\circ}F$]},\n      ylabel={Flash period [seconds per flash]},\n      xmin=50, xmax=80,\n      ymin=0, ymax=15,\n      xtick={50,55,60,65,70,75,80},\n      ytick={0,1,2,3,4,5,6,7,8,9,10,11,12,13,14,15},\n      legend pos=north west,\n      xmajorgrids=true,\n      ymajorgrids=true,\n      grid style=dashed,\n  ]\n  \\addplot[only marks,\n      color=blue,\n      mark=square,\n      ]\n      coordinates {\n      (54,5)%(60,8)(64,10)(70,11)(75,13)\n      };\n      \\legend{male \\emph{Photinus aquilonius}}\n  \\end{axis}\n  \\end{tikzpicture}\n  \n\n10 newpage 9\n\\newpage\n\n11 question 1134\nDr. Huson buys a new plant and measures how tall it is after a number of weeks. Some of his measurements are shown below. Plot the points in the grid below.\n  \\renewcommand{\\arraystretch}{1.6}\n    \\begin{center}\n      \\begin{tabular}{|l|r|r|r|r|}\n      \\hline\n      Weeks & 2 & 5 & 7 & 10\\\\\n      \\hline\n      Height (cm) & 5 & 6 & 8 & 9 \\\\\n      \\hline\n      \\end{tabular}\n    \\end{center}\n\n\\begin{center} %4 quadrant regents grid w T-Chart\n\\begin{tikzpicture}[scale=.635]\n  \\draw [help lines] (0,0) grid (10,12);\n  \\draw [thick, ->] (0,0) -- (10.4,0) node [below right] {$Weeks$};\n  \\draw [thick, ->] (0,0)--(0,12.4) node [left] {$Height$};\n  \\node at (12,9)[right]{Calculator};\n  \\node at (12,8)[right]{$ax+b$};\n  \\node at (12,7)[right]{$a=0.592$};\n  \\node at (12,6)[right]{$b=3.82$};\n  \\node at (12,5)[right]{$r=0.972$};\n\\end{tikzpicture}\n\\end{center}\nState, to the \\emph{nearest tenth}, the linear regression equation that approximates the height, $y$, of the plants after $x$ weeks.\\\\[2cm]\nExplain what the $y$-intercept means in the context of the problem. \\\\[3cm]\nExplain what the slope means in the context of the problem.\n\n\n\n"
    }
   ],
   "source": [
    "for p in nested_problem_df.itertuples():\n",
    "    print(p.Index, p.kind, p.q_len)\n",
    "    print(p.question)"
   ]
  },
  {
   "cell_type": "code",
   "execution_count": 10,
   "metadata": {},
   "outputs": [
    {
     "output_type": "execute_result",
     "data": {
      "text/plain": "'The scores of 30 students taking an IB Paper 2 are shown in the frequency table below.\\n    \\n    \\\\begin{tabular}{|l|c|c|c|c|}\\n      \\\\hline\\n      Mark ($x$) & $10 \\\\leq x < 30$ & $30 \\\\leq x < 50$ & $50 \\\\leq x < 70$ & $70 \\\\leq x < 90$\\\\\\\\ \\n      \\\\hline \\n      Frequency & 8 & 12 & 7 & 3\\\\\\\\ \\n      \\\\hline \\n      \\\\end{tabular}\\n\\n    \\\\begin{enumerate}\\n      \\\\item Write down the modal class.  \\\\hfill [1 mark]  \\\\vspace{2cm}\\n      \\\\item Estimate the mean score $\\\\overline{x}$. \\\\hfill [3 marks] \\\\vspace{2cm}\\n      \\\\item Estimate the standard deviation of the scores, $\\\\sigma$.  \\\\hfill [3 marks] \\\\vspace{1cm}\\n    \\\\end{enumerate}\\n\\n'"
     },
     "metadata": {},
     "execution_count": 10
    }
   ],
   "source": [
    "nested_problem_df.loc[5, \"question\"]"
   ]
  },
  {
   "source": [
    "## Required for pgf plots\n",
    "### in code: \\\\\n",
    "    \\usepackage{pgfplots}\n",
    "    \\pgfplotsset{width=10cm,compat=1.9}\n",
    "    \\usepgfplotslibrary{statistics}\n",
    "    \\usepackage{pgfplotstable}\n",
    "\n",
    "### Search for: \\\\\n",
    "    \\begin{axis}[\n",
    "\n",
    "### Files:\n",
    " 06-Bivariates/2-16DN\n",
    "\n",
    " note also: \\usepackage{venndiagram}\n",
    " ### tkz-fct problems won't run. \n",
    " Search for tkzInit or tkzFct"
   ],
   "cell_type": "markdown",
   "metadata": {}
  },
  {
   "cell_type": "code",
   "execution_count": null,
   "metadata": {},
   "outputs": [],
   "source": []
  }
 ]
}