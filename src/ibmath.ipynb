{
 "metadata": {
  "language_info": {
   "codemirror_mode": {
    "name": "ipython",
    "version": 3
   },
   "file_extension": ".py",
   "mimetype": "text/x-python",
   "name": "python",
   "nbconvert_exporter": "python",
   "pygments_lexer": "ipython3",
   "version": "3.7.6-final"
  },
  "orig_nbformat": 2,
  "kernelspec": {
   "name": "Python 3.7.6 64-bit ('base': conda)",
   "display_name": "Python 3.7.6 64-bit ('base': conda)",
   "metadata": {
    "interpreter": {
     "hash": "baacbb4663b2efd07f9b7f875f668c98eac748873443d0ce630b512dc5ae7e3f"
    }
   }
  }
 },
 "nbformat": 4,
 "nbformat_minor": 2,
 "cells": [
  {
   "cell_type": "code",
   "execution_count": 1,
   "metadata": {},
   "outputs": [
    {
     "output_type": "execute_result",
     "data": {
      "text/plain": "'/Users/chris/GitHub/mathai/src'"
     },
     "metadata": {},
     "execution_count": 1
    }
   ],
   "source": [
    "import os\n",
    "import sys\n",
    "import subprocess\n",
    "import pandas as pd\n",
    "import numpy as np\n",
    "from ast import literal_eval\n",
    "os.getcwd()\n"
   ]
  },
  {
   "cell_type": "code",
   "execution_count": 2,
   "metadata": {
    "tags": []
   },
   "outputs": [
    {
     "output_type": "stream",
     "name": "stdout",
     "text": "ran main\n"
    }
   ],
   "source": [
    "from main import map_course_files\n",
    "from main import parse_course_files\n",
    "#from main import build_pset_df_tex\n",
    "#from main import build_problem_df_tex\n",
    "#from main import build_pset_df_pdf"
   ]
  },
  {
   "cell_type": "code",
   "execution_count": 3,
   "metadata": {
    "tags": []
   },
   "outputs": [
    {
     "output_type": "stream",
     "name": "stdout",
     "text": "/Users/chris/GitHub/mathai/db/\n"
    }
   ],
   "source": [
    "HOME = os.environ[\"HOME\"]\n",
    "db_dir = HOME + \"/GitHub/mathai/db/\"\n",
    "out_dir = HOME + \"/GitHub/mathai/out/\"\n",
    "in_dir = HOME + \"/GitHub/mathai/in/\"\n",
    "course_dir = HOME + \"/GitHub/course-files/IB2021/\"\n",
    "search_dir = HOME + \"/GitHub/course-files/IB/\"\n",
    "search_dir"
   ]
  },
  {
   "cell_type": "code",
   "execution_count": 5,
   "metadata": {
    "tags": []
   },
   "outputs": [
    {
     "output_type": "stream",
     "name": "stdout",
     "text": "\n df len:  215 \n Index(['unit', 'file_count', 'filename'], dtype='object')\n"
    },
    {
     "output_type": "execute_result",
     "data": {
      "text/plain": "array(['01-Measurement', '02-Trig+3D', '03-Descriptive-Statistics',\n       '04-Coordinate-geometry', '05-Linear-functions', '06-Bivariates',\n       '07-Probability', '09-Polynomial-functions',\n       '10-Exponential+log-functions', '11-Periodic-functions',\n       '12-Derivatives', '13-Integration', 'Slides'], dtype=object)"
     },
     "metadata": {},
     "execution_count": 5
    }
   ],
   "source": [
    "d, course_file_df = map_course_files(course_dir=search_dir)\n",
    "print('\\n df len: ', len(course_file_df), '\\n', course_file_df.columns)\n",
    "course_file_df.unit.unique()"
   ]
  },
  {
   "cell_type": "code",
   "execution_count": 6,
   "metadata": {},
   "outputs": [
    {
     "output_type": "execute_result",
     "data": {
      "text/plain": "               unit  file_count                                filename\n190  13-Integration          11             6-5-P1_Calculus-volumes.tex\n191  13-Integration          11  7-2DNQ_integration-solids-rotation.tex",
      "text/html": "<div>\n<style scoped>\n    .dataframe tbody tr th:only-of-type {\n        vertical-align: middle;\n    }\n\n    .dataframe tbody tr th {\n        vertical-align: top;\n    }\n\n    .dataframe thead th {\n        text-align: right;\n    }\n</style>\n<table border=\"1\" class=\"dataframe\">\n  <thead>\n    <tr style=\"text-align: right;\">\n      <th></th>\n      <th>unit</th>\n      <th>file_count</th>\n      <th>filename</th>\n    </tr>\n  </thead>\n  <tbody>\n    <tr>\n      <th>190</th>\n      <td>13-Integration</td>\n      <td>11</td>\n      <td>6-5-P1_Calculus-volumes.tex</td>\n    </tr>\n    <tr>\n      <th>191</th>\n      <td>13-Integration</td>\n      <td>11</td>\n      <td>7-2DNQ_integration-solids-rotation.tex</td>\n    </tr>\n  </tbody>\n</table>\n</div>"
     },
     "metadata": {},
     "execution_count": 6
    }
   ],
   "source": [
    "drop_units = ['Slides']\n",
    "for unit in drop_units:\n",
    "    course_file_df.drop(course_file_df[course_file_df.unit == unit].index, inplace=True)\n",
    "\n",
    "course_file_df.tail(2)"
   ]
  },
  {
   "cell_type": "code",
   "execution_count": 7,
   "metadata": {},
   "outputs": [
    {
     "output_type": "execute_result",
     "data": {
      "text/plain": "unit                        \n01-Measurement                   3\n02-Trig+3D                       3\n03-Descriptive-Statistics        7\n04-Coordinate-geometry          20\n05-Linear-functions             11\n06-Bivariates                   10\n07-Probability                  13\n09-Polynomial-functions         46\n10-Exponential+log-functions    44\n11-Periodic-functions            6\n12-Derivatives                  18\n13-Integration                  11\ndtype: int64"
     },
     "metadata": {},
     "execution_count": 7
    }
   ],
   "source": [
    "course_file_df.value_counts(['unit']).sort_index()"
   ]
  },
  {
   "cell_type": "code",
   "execution_count": 13,
   "metadata": {
    "tags": []
   },
   "outputs": [
    {
     "output_type": "stream",
     "name": "stdout",
     "text": "my IndexError: pop from empty list /Users/chris/GitHub/course-files/IB//07-Probability/Simulation-Alg2-word-problems.tex\nmy IndexError: pop from empty list /Users/chris/GitHub/course-files/IB//09-Polynomial-functions/Worksheet3-factoring.tex\nmy IndexError: pop from empty list /Users/chris/GitHub/course-files/IB//09-Polynomial-functions/factoring-quadratics.tex\nmy IndexError: pop from empty list /Users/chris/GitHub/course-files/IB//09-Polynomial-functions/function-ops-scaffolded.tex\nmy IndexError: pop from empty list /Users/chris/GitHub/course-files/IB//09-Polynomial-functions/function-ops.tex\nmy IndexError: pop from empty list /Users/chris/GitHub/course-files/IB//10-Exponential+log-functions/factoring-quadratics.tex\nmy IndexError: pop from empty list /Users/chris/GitHub/course-files/IB//10-Exponential+log-functions/function-ops-scaffolded.tex\nmy IndexError: pop from empty list /Users/chris/GitHub/course-files/IB//10-Exponential+log-functions/function-ops.tex\nmy IndexError: pop from empty list /Users/chris/GitHub/course-files/IB//11-Periodic-functions/graphing.tex\nWarning: Double nested. Not parsed properly. \n ['  \\\\item A box contains 100 cards. Each card has a number between one and six written on it. The following table shows the frequencies for each number.\\n', '  \\n', '  \\\\begin{tabular}{|l|r|r|r|r|r|r|}\\n', '    \\\\hline\\n', '    Number & 1 & 2 & 3 & 4 & 5 & 6\\\\\\\\ \\n', '    \\\\hline \\n', '    Frequency & 26 & 10 & 20 & $k$ & 29 & 11\\\\\\\\ \\n', '    \\\\hline \\n', '    \\\\end{tabular}\\n', '\\n', '  \\\\begin{enumerate}\\n', '    \\\\item Calculate the value of $k$. \\\\hfill [3 marks] \\\\vspace{3cm}\\n', '    \\\\item Find\\n']\nWarning: Double nested. Not parsed properly. \n ['  \\\\item A box contains 100 cards. Each card has a number between one and six written on it. The following table shows the frequencies for each number.\\n', '  \\n', '  \\\\begin{tabular}{|l|r|r|r|r|r|r|}\\n', '    \\\\hline\\n', '    Number & 1 & 2 & 3 & 4 & 5 & 6\\\\\\\\ \\n', '    \\\\hline \\n', '    Frequency & 6 & $k$ & 20 & 30 & 29 & 11\\\\\\\\ \\n', '    \\\\hline \\n', '    \\\\end{tabular}\\n', '\\n', '  \\\\begin{enumerate}\\n', '    \\\\item Calculate the value of $k$. \\\\hfill [3 marks] \\\\vspace{2cm}\\n', '    \\\\item Find\\n']\nWarning: Double nested. Not parsed properly. \n ['  \\\\item The following box-and-whisker plot represents the examination scores of a group of students.\\\\\\\\\\n', '  \\\\includegraphics[width=9cm]{2-16exam-scores-box-plot.png}\\n', '  \\\\begin{enumerate}\\n', '    \\\\item Write down the median score. \\\\hfill [1 marks]\\\\\\\\[1.5cm]\\n', '    The range of the scores is 54 marks, and the interquartile range is 21 marks.\\n', '    \\\\item Find the value of\\n']\nWarning: Double nested. Not parsed properly. \n ['\\\\begin{enumerate} \\\\item Write down the value of\\n']\nWarning: Double nested. Not parsed properly. \n ['    \\\\item {[Maximum mark: 6]} \\\\\\\\[0.3cm]\\n', '    The diagram shows the straight line $L_1$, which intersects the $x$-axis at $A(k, 0)$ and the $y$-axis at $B(0,3)$.\\n', '        \\\\begin{center}\\n', '            \\\\begin{tikzpicture}[scale=1]\\n', '            %\\\\draw [help lines] (0,0) grid (10,8);\\n', '            \\\\draw [thick, ->] (-0.5,0) -- (7.4,0) node [below right] {$x$};\\n', '            \\\\draw [thick, ->] (0,-0.5)--(0,3.4) node [left] {$y$};\\n', '            %\\\\draw [fill] (9,5) circle [radius=0.1];\\n', '            \\\\draw [thick, -] (-0.25,3) node [below] {$B$}--(6,-0.1) node [above] {$A$};\\n', '            \\\\node at (6,4){\\\\textbf{diagram is not to scale}};\\n', '            \\\\end{tikzpicture}\\n', '        \\\\end{center}\\n', '        The gradient of $L_1$ is $-\\\\frac{3}{4}$.\\n', '        \\\\begin{enumerate}%[itemsep=3cm]\\n', '            \\\\item Write down the equation of the line $L_1$. \\\\hfill [1]\\n', '            \\\\item Find the value of $k$. \\\\hfill [2]\\n', '            \\\\item The line $L_2$ is perpendicular to $L_1$ and passes through $(2,1)$.\\n']\nWarning: Double nested. Not parsed properly. \n ['    \\\\item \\\\begin{enumerate}[itemsep=0.75cm]\\n', '    \\\\item A set of six bivariate data are plotted and a linear regression is performed, as shown below. The correlation coefficient, $r$, has the value 0.853.\\n', '    \\\\begin{center}\\n', '        \\\\begin{tikzpicture}%[scale=.635]\\n', '        \\\\draw [help lines] (0,0) grid (10,8);\\n', '        \\\\draw [thick, ->] (0,0) -- (10.4,0) node [below right] {$x$};\\n', '        \\\\draw [thick, ->] (0,0)--(0,8.4) node [left] {$y$};\\n', '        \\\\draw [fill] (1,2) circle [radius=0.1];\\n', '        \\\\draw [fill] (2,5) circle [radius=0.1];\\n', '        \\\\draw [fill] (4,4) circle [radius=0.1];\\n', '        \\\\draw [fill] (6,5) circle [radius=0.1];\\n', '        \\\\draw [fill] (8,6) circle [radius=0.1];\\n', '        \\\\draw [fill] (9,5) circle [radius=0.1];\\n', '        \\\\draw [] (5,4.5) circle [radius=0.2]node[below right]{$(5,4.5)$};\\n', '        \\\\draw [thick, -] (0,2.96)--(10,6.038) node [below right] {$y=0.308x+2.96$};\\n', '        \\\\draw [thick, dashed] (0,4.5)--(10,4.5) node [below left] {$h$};\\n', '        \\\\draw [thick, dashed] (5,0)--(5,8) node [below right] {$v$};\\n', '        \\\\end{tikzpicture}\\n', '    \\\\end{center}\\n', '    \\\\item The line of best fit has the equation $y=ax+b$. Write down the value of \\n']\nWarning: Double nested. Not parsed properly. \n ['  %\\\\subsubsection*{Table of timing data}\\n', '  \\n', '  Firefly field data (simulated) where $T$ is the temperature and $f(T)$ is the number of seconds between flashes. \\\\\\\\[10pt]\\n', '  \\\\begin{tabular}{|c|r|r|r|r|r|}\\n', '  \\\\hline\\n', '  $T$ & 54 & 60 & 64 & 70 & 75 \\\\\\\\ [3pt]\\n', '  \\\\hline\\n', '  $f(T)$ & 5 & 8 & 10 & 11 & 13  \\\\\\\\  [3pt]\\n', '  \\\\hline\\n', '  \\\\end{tabular}\\n']\nWarning: Double nested. Not parsed properly. \n ['    \\\\item The histogram below shows the weight $w$ in kilograms for 70 professional football players.\\n', '\\n', '    \\\\begin{center}\\n', '        \\\\begin{tikzpicture}\\n', '        \\\\begin{axis}[\\n', '        xlabel=Weight (kilograms),\\n', '        ylabel=Frequency,\\n', '        ybar interval=1,\\n', '        xmin=60, xmax=195,\\n', '        ymin=0, ymax=24,\\n', '        xtick={70,90,110,130,150,170,190},\\n', '        ytick={0,2,4,6,8,10,12,14,16,18,20,22},\\n', '        axis lines = left,\\n', '        ymajorgrids=true,\\n', '        axis x discontinuity=crunch,\\n', '        ]\\n', '        \\\\addplot+ [color=black, fill=lightgray]\\n', '        coordinates {(80,5) (100,14)\\n', '            (120,21) (140,17) \\n', '            (160,13) \\n', '            (180,3)}; %Last pair does not show\\n', '        \\\\end{axis}\\n', '        \\\\end{tikzpicture}\\n', '    \\\\end{center}\\n', '\\n', '    The following is the frequency table for the distribution of $w$. \\\\\\\\[0.25cm]\\n', '        \\\\begin{tabular}{|l|c|c|c|c|c|}\\n', '        \\\\hline\\n', '        HR ($x$) & $70 \\\\leq x < 90$ & $90 \\\\leq x < 110$ & $110 \\\\leq x < 130$ & $130 \\\\leq x < 150$ & $150 \\\\leq x < 170$ \\\\\\\\ \\n', '        \\\\hline \\n', '        Freq & 5 & 14 & 21 & $p$ & 13  \\\\\\\\ \\n', '        \\\\hline \\n', '        \\\\end{tabular}\\n', '        \\\\begin{enumerate}\\n', '        \\\\item Write down the value of $p$. \\\\hfill [1 mark] \\\\vspace{0.8cm}\\n', '        \\\\item Write down the modal class. \\\\hfill [2 marks] \\\\vspace{0.8cm}\\n', '        \\\\item A player is selected at random. Find the probability that the athlete weighs less than 110 kilograms. \\\\hfill [2 marks] \\\\vspace{1cm}\\n', '        \\\\item Write down the mid-interval value for the class $110 \\\\leq x < 130$. \\\\hfill [1 mark] \\\\vspace{0.8cm}\\n', '        \\\\item Hence find an estimate for the\\n']\nTried to run parse_body on empty file\nWarning: Double nested. Not parsed properly. \n ['\\\\item Part of the function $f(x)=x^3-5x^2+2x+8$\\n', '      %$f(x)=(x-2)(x-4)(x+1)$\\\\\\\\*\\n', '      is shown on the graph.\\n', '\\n', '      %\\\\begin{tikzpicture}[scale=.635]\\n', '        %\\\\draw [help lines] (-10,-10) grid (10,10);\\n', '        %\\\\draw [thick, ->] (-10.2,0) -- (10.4,0) node [below right] {$x$};\\n', '        %\\\\draw [thick, ->] (0,-10.2)--(0,10.4) node [left] {$y$};\\n', '        %\\\\draw [domain=-1:5] plot(\\\\x,{(\\\\x)^3-5*(\\\\x)^2+2*(\\\\x)+8}); %{(\\\\x)^3-5*(\\\\x)^2+2*(\\\\x)+8}\\n', '\\n', '      %\\\\end{tikzpicture}\\n', '\\n', '\\\\begin{tikzpicture}[scale=.75]\\n', '  \\\\tkzInit[xmin=-5,xmax=5,ymin=-10,ymax=10,ystep=2]\\n', '  \\\\tkzGrid\\n', '  \\\\tkzAxeXY\\n', '  \\\\draw [<->,thick,smooth,domain=-1.5:4.5] plot(\\\\x,{0.5*((\\\\x)^3-5*(\\\\x)^2+2*(\\\\x)+8)});\\n', '  %\\\\tkzFct[color=blue,thick,domain = -5:5]{x**3-5*x**2+2*x+8};\\n', '\\\\end{tikzpicture}\\n', '\\n', '\\\\begin{enumerate}\\n', '    \\\\item Write down the $y$-intercept.\\n', '    \\\\item Show that $f(0)$ is the $y$-intercept by substituting $x=0$ into the function $f(x)$.\\\\\\\\*[20pt]\\n', '    \\\\item Write down the $x$-intercepts.\\n', '    \\\\item Show that $2$ is an $x$-intercept because $x=2$ is a solution to $f(x)=0$.\\\\\\\\*[20pt]\\n', '    \\\\item What is the end behavior?\\n']\nWarning: Double nested. Not parsed properly. \n ['\\\\item The function $f(x)=x^3-3x^2-2x+2$\\n', '      is shown on the graph.\\n', '\\n', '\\\\begin{tikzpicture}[scale=.75]\\n', '  \\\\tkzInit[xmin=-5,xmax=5,ymin=-10,ymax=10,ystep=2]\\n', '  \\\\tkzGrid\\n', '  \\\\tkzAxeXY\\n', '  %\\\\tkzFct[color=blue,thick,domain = -5:5]{x**3-3*x**2-2*x+2};\\n', '  \\\\draw [<->,thick,smooth,domain=-1.8:4.02] plot(\\\\x,{0.5*((\\\\x)^3-3*(\\\\x)^2-2*(\\\\x)+2)});\\n', '\\\\end{tikzpicture}\\n', '\\n', '\\\\begin{enumerate}\\n', '    \\\\item Write down the $y$-intercept.\\n', '    \\\\item Show that $f(0)$ is the $y$-intercept by substituting $x=0$ into the function $f(x)$.\\\\\\\\*[20pt]\\n', '    \\\\item Write down the $x$-intercepts.\\n', '    \\\\item Show that $-1$ is an $x$-intercept because $x=-1$ is a solution to $f(x)=0$.\\\\\\\\*[20pt]\\n', '    \\\\item What is the end behavior?\\n']\nWarning: Double nested. Not parsed properly. \n ['    \\\\item {[Maximum mark: 5]} \\\\\\\\[0.3cm]\\n', '    The diagram shows the straight line $L_1$, which intersects the $x$-axis at $A(j, 0)$ and the $y$-axis at $B(0,k)$.\\n', '        \\\\begin{center}\\n', '            \\\\begin{tikzpicture}[scale=1]\\n', '            %\\\\draw [help lines] (0,0) grid (10,8);\\n', '            \\\\draw [thick, ->] (-0.5,0) -- (7.4,0) node [below right] {$x$};\\n', '            \\\\draw [thick, ->] (0,-0.5)--(0,3.4) node [left] {$y$};\\n', '            %\\\\draw [fill] (9,5) circle [radius=0.1];\\n', '            \\\\draw [thick, -] (-0.25,3) node [below] {$B$}--(6,-0.1) node [above] {$A$};\\n', '            \\\\node at (6,4){\\\\textbf{diagram is not to scale}};\\n', '            \\\\end{tikzpicture}\\n', '        \\\\end{center}\\n', '        The equation of $L_1$ is $\\\\displaystyle y=-\\\\frac{2}{5}x+3$.\\n', '        \\\\begin{enumerate}%[itemsep=3cm]\\n', '            \\\\item Find the value of \\\\hfill [2]\\n']\nTried to run parse_body on empty file\nTried to run parse_body on empty file\nTried to run parse_body on empty file\nTried to run parse_body on empty file\nWarning: Double nested. Not parsed properly. \n ['\\\\item Let $f(x)= e^{x+3}$.\\n', '\\\\begin{enumerate}\\n', '    \\\\item\\n']\nWarning: Double nested. Not parsed properly. \n ['\\\\item Let $\\\\displaystyle f(x) = −0.5x^2 + 5x - 8$, for $0 \\\\leq x \\\\leq 9$.\\n', '\\\\begin{enumerate}\\n', '\\\\item On the  grid below, sketch the graph of $f$.\\n', '\\\\item Consider the graph of $f$ . Write down\\n']\nWarning: Double nested. Not parsed properly. \n ['\\\\item Let $\\\\displaystyle f(x) = \\\\frac{1}{2}x  - 2$, for $-5 \\\\leq x \\\\leq 5$.\\n', '\\\\begin{enumerate}\\n', '\\\\item On the  grid below, sketch the graph of $f$.\\n', '\\\\item Consider the graph of $f$ . Write down\\n']\nTried to run parse_body on empty file\nTried to run parse_body on empty file\nTried to run parse_body on empty file\nTried to run parse_body on empty file\nWarning: Double nested. Not parsed properly. \n ['\\\\item An arithmetic sequence is given by 5, 8, 11, $\\\\ldots$.\\n', '\\\\begin{enumerate}\\n', '    \\\\item Write down the value of $d$.\\n', '\\t\\\\item Find\\n']\nWarning: Double nested. Not parsed properly. \n ['\\\\item Let $\\\\displaystyle f(x) = 5 \\\\cos \\\\frac{\\\\pi}{4} x$ and $g(x)= -0.5 x^2 +5x-8$, for $0 \\\\leq x \\\\leq 9$.\\n', '  \\\\begin{enumerate}\\n', '    \\\\item On the same diagram, sketch the graphs of $f$ and $g$.\\n', '    \\\\item Consider the graph of $f$ . Write down\\n']\nWarning: Double nested. Not parsed properly. \n ['  \\\\item 13M.1.sl.TZ2.9 (Spicy)\\\\\\\\\\n', '  Let $f(x)=\\\\sin x + \\\\frac{1}{2} x^2 -2x$, for $0 \\\\leq x \\\\leq \\\\pi$.\\\\\\\\\\n', '  \\\\begin{enumerate}\\n', \"    \\\\item Find $f'(x)$. [3 marks]\\n\", '    \\\\item Let $g$ be a quadratic function such that $g(0)=5$. The line $x=2$ is the axis of symmetry of the graph of $g$.\\\\\\\\\\n', '    Find $g(4)$. [3 marks]\\n', '    \\\\item The function $g$ can be expressed in the form $g(x)=a(x-h)^2+3$.\\n']\nWarning: Double nested. Not parsed properly. \n ['  \\\\item 12M.1.sl.TZ1.3\\\\\\\\\\n', '  Let $f(x)=e^{6x}$.\\n', '  \\\\begin{enumerate}\\n', \"    \\\\item Write down $f'(x)$ [1 mark]\\n\", '    \\\\item The tangent to the graph of $f$ at the point $P(0,b)$ has gradient $m$.  [4 marks]\\n']\nWarning: Double nested. Not parsed properly. \n ['   \\\\item 09M.1.sl.TZ2.8 \\\\hfill [6 marks]\\\\\\\\\\n', '   Let $f(x)=e^{-3x}$ and $g(x)= \\\\sin(x- \\\\frac{\\\\pi}{3})$.\\n', '   \\\\begin{enumerate}\\n', '     \\\\item Write down \\\\hfill [2]\\n']\nWarning: Double nested. Not parsed properly. \n ['  \\\\item 10M.1.sl.TZ1.8 \\\\hfill [14 marks]\\\\\\\\\\n', '    Let $f(x)=\\\\frac{1}{3}x^3-x^2-3x$. Part of the graph of $f$ is shown below.\\n', '      \\\\begin{center}\\n', '        \\\\begin{tikzpicture}[yscale=0.5]\\n', '          \\\\draw [thick, ->] (-2,0) -- (5,0) node [below] {$x$};\\n', '          \\\\draw [thick, ->] (0,-10) -- (0,3) node [left] {$y$};\\n', '          \\\\draw[thick, domain=-2:5] plot[samples=100](\\\\x, {0.333*(\\\\x)^3 - (\\\\x)^2 -3*(\\\\x)});\\n', '          \\\\node at (3,-9) {\\\\textbullet};\\n', '          \\\\node at (3,-9)[below] {$B$};\\n', '          \\\\node at (-1,1.666) {\\\\textbullet};\\n', '          \\\\node at (-1,1.666)[above] {$A$};\\n', '        \\\\end{tikzpicture}\\n', '      \\\\end{center}\\n', '    There is a maximum point at $A$ and a minimum point at $B(3, -9)$.\\n', '    \\\\begin{enumerate}\\n', '      \\\\item Find the coordinates of $A$. \\\\hfill [8]\\n', '      \\\\item Write down the coordinates of \\\\hfill [6]\\n']\nWarning: Double nested. Not parsed properly. \n ['    \\\\item A cubic function $f(x)=x^3-\\\\frac{3}{2}x^2-6x+3$ is shown on the axes below.\\n', '    \\\\begin{center}\\n', '    \\\\begin{tikzpicture}[xscale=1.0, yscale=0.5]\\n', '        \\\\foreach \\\\x in {-2,-1,1,2,3}\\n', '          \\\\draw[shift={(\\\\x,0)},color=black] (0pt,-1pt) -- (0pt,4pt) node[below]  {$\\\\x$};\\n', '        %\\\\foreach \\\\y in {-5,-4,-3,-2,-1,1,2,3}\\n', '          %\\\\draw[shift={(0,\\\\y)},color=black] (2pt,0pt) -- (-2pt,0pt) node[left]  {$\\\\y$};\\n', '          \\\\draw [thick, ->] (-2.5,0) -- (+3.5,0) node [right] {$x$};\\n', '          \\\\draw [thick, ->] (0,-7) -- (0,6) node [right] {$y$};\\n', '        %\\\\fill (1,-4.5) circle[radius=2pt] node [below] {$P$};\\n', '        %\\\\fill (0,-4) circle[radius=2pt] node [right] {$Q$};\\n', '        \\\\draw [<->] plot[samples=50,domain= -2.4:3.5] (\\\\x, {(\\\\x*\\\\x*\\\\x-1.5*\\\\x*\\\\x - 6*\\\\x +3)});\\n', '        \\\\draw [<->] plot[domain= -2.5:-1.5] (\\\\x, {12*\\\\x+25});\\n', '        \\\\draw [<->, dashed] plot[domain= -2.5:-0.5] (\\\\x, {-1/12*\\\\x+5/6});\\n', '        \\\\fill (-2,1) circle[radius=0.08cm] node[above left]{$P$};\\n', '    \\\\end{tikzpicture}\\n', '    \\\\end{center}\\n', '    A tangent to the function at $x=-2$ is drawn with the point of tangency $P$.\\n', '    \\\\begin{enumerate}%[itemsep=0.8cm]\\n', \"      \\\\item Write down the derivative of the function, $f'(x)$. \\\\hfill [2]\\n\", '      \\\\item Show that the gradient of the tangent line is $12$. \\\\hfill [1]\\n', '      \\\\item Find the equation of the tangent line. \\\\hfill [2]\\n', \"      \\\\item Write down the slope of the perpendicular to the tangent line (the ``normal'') \\\\hfill [1]\\n\", '      \\\\item Find the $x$ values of \\n']\nWarning: Double nested. Not parsed properly. \n ['    \\\\item A cubic function $f(x)=-x^3+3x^2+x-4$ is shown on the axes below.\\n', '    \\\\begin{center}\\n', '    \\\\begin{tikzpicture}[xscale=1.0, yscale=0.8]\\n', '        \\\\foreach \\\\x in {-2,-1,1,2,3}\\n', '          \\\\draw[shift={(\\\\x,0)},color=black] (0pt,-1pt) -- (0pt,4pt) node[below]  {$\\\\x$};\\n', '        %\\\\foreach \\\\y in {-5,-4,-3,-2,-1,1,2,3}\\n', '          %\\\\draw[shift={(0,\\\\y)},color=black] (2pt,0pt) -- (-2pt,0pt) node[left]  {$\\\\y$};\\n', '          \\\\draw [thick, ->] (-2.5,0) -- (+3.5,0) node [right] {$x$};\\n', '          \\\\draw [thick, ->] (0,-4.2) -- (0,4) node [below left] {$y$};\\n', '        %\\\\fill (1,-4.5) circle[radius=2pt] node [below] {$P$};\\n', '        %\\\\fill (0,-4) circle[radius=2pt] node [right] {$Q$};\\n', '        \\\\draw [<->] plot[samples=50,domain= -1.4:3.2] (\\\\x, {(-\\\\x*\\\\x*\\\\x+3*\\\\x*\\\\x +\\\\x -4)});\\n', '        \\\\draw [<->] plot[domain= -2.3:3] (\\\\x, {\\\\x});\\n', '        \\\\draw [<->, dashed] plot[domain= 0.5:3] (\\\\x, {-\\\\x+4});\\n', '        \\\\fill (2,2) circle[radius=0.08cm] node[above]{$P$};\\n', '    \\\\end{tikzpicture}\\n', '    \\\\end{center}\\n', '    A tangent to the function at $x=2$ is drawn with the point of tangency $P$.\\n', '    \\\\begin{enumerate}%[itemsep=0.8cm]\\n', \"      \\\\item Write down the derivative of the function, $f'(x)$. \\\\hfill [2]\\n\", '      \\\\item Show that the gradient of the tangent line is $1$. \\\\hfill [1]\\n', '      \\\\item Find the equation of the tangent line. \\\\hfill [2]\\n', \"      \\\\item Write down the slope of the perpendicular to the tangent line (the ``normal'') \\\\hfill [1]\\n\", '      \\\\item Find the $x$ values of \\n']\nWarning: Double nested. Not parsed properly. \n ['\\\\item 12M.1.sl.TZ1.3 \\\\hfill [6 marks]\\\\\\\\\\n', 'Let $f(x)=e^{6x}$.\\n', '\\\\begin{enumerate}\\n', \"  \\\\item Write down $f'(x)$ \\\\hfill [1]\\n\", '  \\\\item The tangent to the graph of $f$ at the point $P(0,b)$ has gradient $m$.  \\\\hfill [4]\\n']\nException on apply (parse_body). Returning partial pset_df\n"
    },
    {
     "output_type": "error",
     "ename": "ValueError",
     "evalue": "too many values to unpack (expected 2)",
     "traceback": [
      "\u001b[0;31m---------------------------------------------------------------------------\u001b[0m",
      "\u001b[0;31mValueError\u001b[0m                                Traceback (most recent call last)",
      "\u001b[0;32m<ipython-input-13-9b92bef5494e>\u001b[0m in \u001b[0;36m<module>\u001b[0;34m\u001b[0m\n\u001b[0;32m----> 1\u001b[0;31m \u001b[0mpset_df\u001b[0m\u001b[0;34m,\u001b[0m \u001b[0mproblem_df\u001b[0m \u001b[0;34m=\u001b[0m \u001b[0mparse_course_files\u001b[0m\u001b[0;34m(\u001b[0m\u001b[0mcourse_file_df\u001b[0m\u001b[0;34m,\u001b[0m \u001b[0mcourse_dir\u001b[0m\u001b[0;34m=\u001b[0m\u001b[0msearch_dir\u001b[0m\u001b[0;34m)\u001b[0m\u001b[0;34m\u001b[0m\u001b[0;34m\u001b[0m\u001b[0m\n\u001b[0m\u001b[1;32m      2\u001b[0m \u001b[0mprint\u001b[0m\u001b[0;34m(\u001b[0m\u001b[0;34m'pset_df: '\u001b[0m\u001b[0;34m,\u001b[0m \u001b[0mlen\u001b[0m\u001b[0;34m(\u001b[0m\u001b[0mpset_df\u001b[0m\u001b[0;34m)\u001b[0m\u001b[0;34m,\u001b[0m \u001b[0mpset_df\u001b[0m\u001b[0;34m.\u001b[0m\u001b[0mcolumns\u001b[0m\u001b[0;34m)\u001b[0m\u001b[0;34m\u001b[0m\u001b[0;34m\u001b[0m\u001b[0m\n\u001b[1;32m      3\u001b[0m \u001b[0mprint\u001b[0m\u001b[0;34m(\u001b[0m\u001b[0;34m'problem_df: '\u001b[0m\u001b[0;34m,\u001b[0m \u001b[0mlen\u001b[0m\u001b[0;34m(\u001b[0m\u001b[0mproblem_df\u001b[0m\u001b[0;34m)\u001b[0m\u001b[0;34m,\u001b[0m \u001b[0mproblem_df\u001b[0m\u001b[0;34m.\u001b[0m\u001b[0mcolumns\u001b[0m\u001b[0;34m)\u001b[0m\u001b[0;34m\u001b[0m\u001b[0;34m\u001b[0m\u001b[0m\n",
      "\u001b[0;31mValueError\u001b[0m: too many values to unpack (expected 2)"
     ]
    }
   ],
   "source": [
    "pset_df, problem_df = parse_course_files(course_file_df, course_dir=search_dir)\n",
    "print('pset_df: ', len(pset_df), pset_df.columns)\n",
    "print('problem_df: ', len(problem_df), problem_df.columns)"
   ]
  },
  {
   "cell_type": "code",
   "execution_count": 8,
   "metadata": {},
   "outputs": [
    {
     "output_type": "execute_result",
     "data": {
      "text/plain": "array(['01-Measurement', '02-Trig+3D', '03-Descriptive-Statistics',\n       '04-Coordinate-geometry', '05-Linear-functions', '06-Bivariates',\n       '07-Probability', '09-Polynomial-functions',\n       '10-Exponential+log-functions', '11-Periodic-functions',\n       '12-Derivatives', '13-Integration'], dtype=object)"
     },
     "metadata": {},
     "execution_count": 8
    }
   ],
   "source": [
    "course_file_df.unit.unique()"
   ]
  },
  {
   "cell_type": "code",
   "execution_count": 46,
   "metadata": {
    "tags": []
   },
   "outputs": [
    {
     "output_type": "stream",
     "name": "stdout",
     "text": "\n 01-Measurement\npset_df:  3 Index(['unit', 'filename', 'problem_count', 'problem_IDs', 'problems_list',\n       'problem_kind', 'head', 'body'],\n      dtype='object')\nproblem_df:  36 Index(['problem_set_ID', 'question', 'kind', 'filename', 'q_len'], dtype='object')\n\n 02-Trig+3D\npset_df:  3 Index(['unit', 'filename', 'problem_count', 'problem_IDs', 'problems_list',\n       'problem_kind', 'head', 'body'],\n      dtype='object')\nproblem_df:  31 Index(['problem_set_ID', 'question', 'kind', 'filename', 'q_len'], dtype='object')\n\n 12-Derivatives\nWarning: Double nested. Not parsed properly. \n ['\\\\subsubsection*{Do Now Quiz 2.6: Mixed review}\\n', 'No calculators on this problem set, no notes.\\n', '\\n', '\\\\begin{enumerate}\\n', '  \\\\item Find the first derivative of $\\\\displaystyle f(x)=\\\\frac{14x^4 - 35x^2 + 7x}{7x^2}$ \\\\vspace{5cm}\\n', '  \\\\item Simplify the expression $\\\\log_3 18 - \\\\log_3 2$ \\\\vspace{3cm}\\n', '  \\\\item Given $y=e^x \\\\cos x$, find $\\\\displaystyle \\\\frac{\\\\mathrm{d}y}{\\\\mathrm{d}x}$. \\\\vspace{6cm}\\n', '  \\\\item Round each value to three significant figures:\\n']\nWarning: Double nested. Not parsed properly. \n ['\\\\item An arithmetic sequence is given by 5, 8, 11, $\\\\ldots$.\\n', '\\\\begin{enumerate}\\n', '    \\\\item Write down the value of $d$.\\n', '\\t\\\\item Find\\n']\nWarning: Double nested. Not parsed properly. \n ['\\\\item Let $\\\\displaystyle f(x) = 5 \\\\cos \\\\frac{\\\\pi}{4} x$ and $g(x)= -0.5 x^2 +5x-8$, for $0 \\\\leq x \\\\leq 9$.\\n', '  \\\\begin{enumerate}\\n', '    \\\\item On the same diagram, sketch the graphs of $f$ and $g$.\\n', '    \\\\item Consider the graph of $f$ . Write down\\n']\nWarning: Double nested. Not parsed properly. \n ['  \\\\item 13M.1.sl.TZ2.9 (Spicy)\\\\\\\\\\n', '  Let $f(x)=\\\\sin x + \\\\frac{1}{2} x^2 -2x$, for $0 \\\\leq x \\\\leq \\\\pi$.\\\\\\\\\\n', '  \\\\begin{enumerate}\\n', \"    \\\\item Find $f'(x)$. [3 marks]\\n\", '    \\\\item Let $g$ be a quadratic function such that $g(0)=5$. The line $x=2$ is the axis of symmetry of the graph of $g$.\\\\\\\\\\n', '    Find $g(4)$. [3 marks]\\n', '    \\\\item The function $g$ can be expressed in the form $g(x)=a(x-h)^2+3$.\\n']\nWarning: Double nested. Not parsed properly. \n ['  \\\\item 12M.1.sl.TZ1.3 (Mild)\\\\\\\\\\n', '  Let $f(x)=e^{6x}$.\\n', '  \\\\begin{enumerate}\\n', \"    \\\\item Write down $f'(x)$ [1 mark]\\n\", '    \\\\item The tangent to the graph of $f$ at the point $P(0,b)$ has gradient $m$.  [4 marks]\\n']\nWarning: Double nested. Not parsed properly. \n ['  \\\\item 11N.1.sl.TZ0.9 (Spicy)\\\\\\\\\\n', '  The following diagram shows the graph of $f(x)=a \\\\sin (b(x-c))+d$, for $2 \\\\leq x \\\\leq 10$.\\n', '    \\\\begin{center}\\n', '      \\\\begin{tikzpicture}[x=0.6cm, y=0.4cm]\\n', '        \\\\draw [thick, ->] (-1,0) -- (12,0) node [below right] {$x$};\\n', '        \\\\draw [thick, ->] (0,-5) -- (0,14) node [left] {$y$};\\n', '        \\\\foreach \\\\x in {0,5, 10}\\n', '        \\\\draw[shift={(\\\\x,0)},color=black] (0pt,-3pt) -- (0pt,0pt) node[below=4pt]  {$\\\\x$};\\n', '        \\\\foreach \\\\y in {-5,0,5,10}\\n', '        \\\\draw[shift={(0,\\\\y)},color=black] (-3pt,0pt) -- (0pt,0pt) node[left=3pt]  {$\\\\y$};\\n', '        \\\\draw[thick, domain=2:10] plot[samples=100](\\\\x, {8*sin(deg(3.14159*(\\\\x-2)/4)) +4});\\n', '        \\\\draw [fill] (4,12) circle [radius=0.05cm] node[above] {$P(4,12)$};\\n', '        \\\\draw [fill] (8,-4) circle [radius=0.05cm] node[below]{$Q(8,-4)$};\\n', '      \\\\end{tikzpicture}\\n', '    \\\\end{center}\\n', '    There is a maximum point at $P(4,12)$ and a minimum point ast $Q(8, -4)$.\\n', '    \\\\begin{enumerate}\\n', '      \\\\item Use the graph to write down the value of [3 marks]\\n']\nWarning: Double nested. Not parsed properly. \n ['  \\\\item 11M.1.sl.TZ2.8 (Spicy)\\\\\\\\\\n', '  The following diagram shows part of the graph of the function $f(x)=2x^2$.\\n', '    \\\\begin{center}\\n', '      \\\\begin{tikzpicture}[xscale=4, yscale=1.5]\\n', '        \\\\draw [thick, ->] (-0.5,0) -- (1.4,0) node [below right] {$x$};\\n', '        \\\\draw [thick, ->] (0,-1) -- (0,4) node [left] {$y$};\\n', '        \\\\draw[thick] plot[samples=100, domain=0.4:1.4](\\\\x, {4*\\\\x-2});\\n', '        \\\\draw[thick, domain=-0.4:1.4] plot[samples=100](\\\\x, {2*\\\\x*\\\\x});\\n', '        \\\\fill[gray,opacity=.3] (0.5,0)--plot[domain=0:1](\\\\x, {2*\\\\x*\\\\x});\\n', '        \\\\draw[thick, dashed] (1,0) node[below]{$1$} --(1,2);\\n', '        \\\\draw (0.7,0.5) node {$T$};\\n', '        \\\\draw (0.45,0.2) node {$\\\\mathbf{R}$};\\n', '        \\\\draw (0.5,0.8) node {$f$};\\n', '      \\\\end{tikzpicture}\\n', '    \\\\end{center}\\n', '    The line T is the tangent to the graph of $f$ at $x=1$.\\n', '    \\\\begin{enumerate}\\n', '      \\\\item Show that the equation of $T$ is $y=4x-2$. [5 marks]\\n', '      \\\\item Find the $x$-intercept of $T$. [2 marks]\\n', '      \\\\item The shaded region $R$ is enclosed by the graph of $f$, the line $T$, and the $x$-axis. [9 marks]\\n']\nWarning: Double nested. Not parsed properly. \n ['  \\\\item 12M.1.sl.TZ1.3\\\\\\\\\\n', '  Let $f(x)=e^{6x}$.\\n', '  \\\\begin{enumerate}\\n', \"    \\\\item Write down $f'(x)$ [1 mark]\\n\", '    \\\\item The tangent to the graph of $f$ at the point $P(0,b)$ has gradient $m$.  [4 marks]\\n']\nWarning: Double nested. Not parsed properly. \n ['  \\\\item 11M.1.sl.TZ2.8\\\\\\\\\\n', '  The following diagram shows part of the graph of the function $f(x)=2x^2$.\\n', '    \\\\begin{center}\\n', '      \\\\begin{tikzpicture}[xscale=4, yscale=1.5]\\n', '        \\\\draw [thick, ->] (-0.5,0) -- (1.4,0) node [below right] {$x$};\\n', '        \\\\draw [thick, ->] (0,-1) -- (0,4) node [left] {$y$};\\n', '        \\\\draw[thick] plot[samples=100, domain=0.4:1.4](\\\\x, {4*\\\\x-2});\\n', '        \\\\draw[thick, domain=-0.4:1.4] plot[samples=100](\\\\x, {2*\\\\x*\\\\x});\\n', '        \\\\fill[gray,opacity=.3] (0.5,0)--plot[domain=0:1](\\\\x, {2*\\\\x*\\\\x});\\n', '        \\\\draw[thick, dashed] (1,0) node[below]{$1$} --(1,2);\\n', '        \\\\draw (0.7,0.5) node {$T$};\\n', '        \\\\draw (0.45,0.2) node {$\\\\mathbf{R}$};\\n', '        \\\\draw (0.5,0.8) node {$f$};\\n', '      \\\\end{tikzpicture}\\n', '    \\\\end{center}\\n', '\\n', '    The line T is the tangent to the graph of $f$ at $x=1$.\\n', '    \\\\begin{enumerate}\\n', '      \\\\item Show that the equation of $T$ is $y=4x-2$. [5 marks]\\n', '      \\\\item Find the $x$-intercept of $T$. [2 marks]\\n', '      \\\\item The shaded region $R$ is enclosed by the graph of $f$, the line $T$, and the $x$-axis. [9 marks]\\n']\nWarning: Double nested. Not parsed properly. \n ['    \\\\item 13M.1.sl.TZ2.9\\\\\\\\\\n', '    Let $f(x)=\\\\sin x + \\\\frac{1}{2} x^2 -2x$, for $0 \\\\leq x \\\\leq \\\\pi$.\\n', '    \\\\begin{enumerate}\\n', \"      \\\\item Find $f'(x)$. [3 marks]\\n\", '      \\\\item Let $g$ be a quadratic function such that $g(0)=5$. The line $x=2$ is the axis of symmetry of the graph of $g$.\\\\\\\\\\n', '      Find $g(4)$. [3 marks]\\n', '      \\\\item The function $g$ can be expressed in the form $g(x)=a(x-h)^2+3$.\\n']\nWarning: Double nested. Not parsed properly. \n ['    \\\\item 11N.1.sl.TZ0.9\\\\\\\\\\n', '    The following diagram shows the graph of $f(x)=a \\\\sin (b(x-c))+d$, for $2 \\\\leq x \\\\leq 10$.\\n', '      \\\\begin{center}\\n', '        \\\\begin{tikzpicture}[x=0.6cm, y=0.5cm]\\n', '          \\\\draw [thick, ->] (-1,0) -- (12,0) node [below right] {$x$};\\n', '          \\\\draw [thick, ->] (0,-5) -- (0,14) node [left] {$y$};\\n', '          \\\\foreach \\\\x in {0,5, 10}\\n', '          \\\\draw[shift={(\\\\x,0)},color=black] (0pt,-3pt) -- (0pt,0pt) node[below=4pt]  {$\\\\x$};\\n', '          \\\\foreach \\\\y in {-5,0,5,10}\\n', '          \\\\draw[shift={(0,\\\\y)},color=black] (-3pt,0pt) -- (0pt,0pt) node[left=3pt]  {$\\\\y$};\\n', '\\n', '          \\\\draw[thick, domain=2:10] plot[samples=100](\\\\x, {8*sin(deg(3.14159*(\\\\x-2)/4)) +4});\\n', '          \\\\draw [fill] (4,12) circle [radius=0.05cm] node[above] {$P(4,12)$};\\n', '          \\\\draw [fill] (8,-4) circle [radius=0.05cm] node[below]{$Q(8,-4)$};\\n', '        \\\\end{tikzpicture}\\n', '      \\\\end{center}\\n', '      There is a maximum point at $P(4,12)$ and a minimum point ast $Q(8, -4)$.\\n', '      \\\\begin{enumerate}\\n', '        \\\\item Use the graph to write down the value of [3 marks]\\n']\nWarning: Double nested. Not parsed properly. \n ['\\\\subsubsection*{Spiral Review: 6-2 P1 (No Calculator) Calculus Differentiation - B}\\n', '   \\\\begin{enumerate}\\n', '\\n', '\\n', '   \\\\item 11M.1.sl.TZ1.5 \\\\hfill [7 marks]\\\\\\\\\\n', '   Let $g(x)= \\\\frac{\\\\ln x}{x^2}$, for $x>0$.\\n']\nWarning: Double nested. Not parsed properly. \n ['   \\\\item 09M.1.sl.TZ2.8 \\\\hfill [6 marks]\\\\\\\\\\n', '   Let $f(x)=e^{-3x}$ and $g(x)= \\\\sin(x- \\\\frac{\\\\pi}{3})$.\\n', '   \\\\begin{enumerate}\\n', '     \\\\item Write down \\\\hfill [2]\\n']\nWarning: Double nested. Not parsed properly. \n ['\\\\subsubsection*{Spiral Review: 6-2 P1 (No Calculator) Calculus Differentiation - C}\\n', '  \\\\begin{enumerate}\\n', '\\n', '  \\\\item 09N.1.sl.TZ0.5 \\\\hfill [6 marks]\\\\\\\\\\n', '    Consider $f(x)= x^2+\\\\frac{p}{x}$, $x \\\\neq 0$, where $p$ is a constant.\\n']\nWarning: Double nested. Not parsed properly. \n ['  \\\\item 10M.1.sl.TZ1.8 \\\\hfill [14 marks]\\\\\\\\\\n', '    Let $f(x)=\\\\frac{1}{3}x^3-x^2-3x$. Part of the graph of $f$ is shown below.\\n', '      \\\\begin{center}\\n', '        \\\\begin{tikzpicture}[yscale=0.5]\\n', '          \\\\draw [thick, ->] (-2,0) -- (5,0) node [below] {$x$};\\n', '          \\\\draw [thick, ->] (0,-10) -- (0,3) node [left] {$y$};\\n', '          \\\\draw[thick, domain=-2:5] plot[samples=100](\\\\x, {0.333*(\\\\x)^3 - (\\\\x)^2 -3*(\\\\x)});\\n', '          \\\\node at (3,-9) {\\\\textbullet};\\n', '          \\\\node at (3,-9)[below] {$B$};\\n', '          \\\\node at (-1,1.666) {\\\\textbullet};\\n', '          \\\\node at (-1,1.666)[above] {$A$};\\n', '        \\\\end{tikzpicture}\\n', '      \\\\end{center}\\n', '    There is a maximum point at $A$ and a minimum point at $B(3, -9)$.\\n', '    \\\\begin{enumerate}\\n', '      \\\\item Find the coordinates of $A$. \\\\hfill [8]\\n', '      \\\\item Write down the coordinates of \\\\hfill [6]\\n']\nWarning: Double nested. Not parsed properly. \n ['    \\\\item A cubic function $f(x)=x^3-\\\\frac{3}{2}x^2-6x+3$ is shown on the axes below.\\n', '    \\\\begin{center}\\n', '    \\\\begin{tikzpicture}[xscale=1.0, yscale=0.5]\\n', '        \\\\foreach \\\\x in {-2,-1,1,2,3}\\n', '          \\\\draw[shift={(\\\\x,0)},color=black] (0pt,-1pt) -- (0pt,4pt) node[below]  {$\\\\x$};\\n', '        %\\\\foreach \\\\y in {-5,-4,-3,-2,-1,1,2,3}\\n', '          %\\\\draw[shift={(0,\\\\y)},color=black] (2pt,0pt) -- (-2pt,0pt) node[left]  {$\\\\y$};\\n', '          \\\\draw [thick, ->] (-2.5,0) -- (+3.5,0) node [right] {$x$};\\n', '          \\\\draw [thick, ->] (0,-7) -- (0,6) node [right] {$y$};\\n', '        %\\\\fill (1,-4.5) circle[radius=2pt] node [below] {$P$};\\n', '        %\\\\fill (0,-4) circle[radius=2pt] node [right] {$Q$};\\n', '        \\\\draw [<->] plot[samples=50,domain= -2.4:3.5] (\\\\x, {(\\\\x*\\\\x*\\\\x-1.5*\\\\x*\\\\x - 6*\\\\x +3)});\\n', '        \\\\draw [<->] plot[domain= -2.5:-1.5] (\\\\x, {12*\\\\x+25});\\n', '        \\\\draw [<->, dashed] plot[domain= -2.5:-0.5] (\\\\x, {-1/12*\\\\x+5/6});\\n', '        \\\\fill (-2,1) circle[radius=0.08cm] node[above left]{$P$};\\n', '    \\\\end{tikzpicture}\\n', '    \\\\end{center}\\n', '    A tangent to the function at $x=-2$ is drawn with the point of tangency $P$.\\n', '    \\\\begin{enumerate}%[itemsep=0.8cm]\\n', \"      \\\\item Write down the derivative of the function, $f'(x)$. \\\\hfill [2]\\n\", '      \\\\item Show that the gradient of the tangent line is $12$. \\\\hfill [1]\\n', '      \\\\item Find the equation of the tangent line. \\\\hfill [2]\\n', \"      \\\\item Write down the slope of the perpendicular to the tangent line (the ``normal'') \\\\hfill [1]\\n\", '      \\\\item Find the $x$ values of \\n']\nWarning: Double nested. Not parsed properly. \n ['    \\\\item A cubic function $f(x)=-x^3+3x^2+x-4$ is shown on the axes below.\\n', '    \\\\begin{center}\\n', '    \\\\begin{tikzpicture}[xscale=1.0, yscale=0.8]\\n', '        \\\\foreach \\\\x in {-2,-1,1,2,3}\\n', '          \\\\draw[shift={(\\\\x,0)},color=black] (0pt,-1pt) -- (0pt,4pt) node[below]  {$\\\\x$};\\n', '        %\\\\foreach \\\\y in {-5,-4,-3,-2,-1,1,2,3}\\n', '          %\\\\draw[shift={(0,\\\\y)},color=black] (2pt,0pt) -- (-2pt,0pt) node[left]  {$\\\\y$};\\n', '          \\\\draw [thick, ->] (-2.5,0) -- (+3.5,0) node [right] {$x$};\\n', '          \\\\draw [thick, ->] (0,-4.2) -- (0,4) node [below left] {$y$};\\n', '        %\\\\fill (1,-4.5) circle[radius=2pt] node [below] {$P$};\\n', '        %\\\\fill (0,-4) circle[radius=2pt] node [right] {$Q$};\\n', '        \\\\draw [<->] plot[samples=50,domain= -1.4:3.2] (\\\\x, {(-\\\\x*\\\\x*\\\\x+3*\\\\x*\\\\x +\\\\x -4)});\\n', '        \\\\draw [<->] plot[domain= -2.3:3] (\\\\x, {\\\\x});\\n', '        \\\\draw [<->, dashed] plot[domain= 0.5:3] (\\\\x, {-\\\\x+4});\\n', '        \\\\fill (2,2) circle[radius=0.08cm] node[above]{$P$};\\n', '    \\\\end{tikzpicture}\\n', '    \\\\end{center}\\n', '    A tangent to the function at $x=2$ is drawn with the point of tangency $P$.\\n', '    \\\\begin{enumerate}%[itemsep=0.8cm]\\n', \"      \\\\item Write down the derivative of the function, $f'(x)$. \\\\hfill [2]\\n\", '      \\\\item Show that the gradient of the tangent line is $1$. \\\\hfill [1]\\n', '      \\\\item Find the equation of the tangent line. \\\\hfill [2]\\n', \"      \\\\item Write down the slope of the perpendicular to the tangent line (the ``normal'') \\\\hfill [1]\\n\", '      \\\\item Find the $x$ values of \\n']\nWarning: Double nested. Not parsed properly. \n ['\\\\item 12M.1.sl.TZ1.3 \\\\hfill [6 marks]\\\\\\\\\\n', 'Let $f(x)=e^{6x}$.\\n', '\\\\begin{enumerate}\\n', \"  \\\\item Write down $f'(x)$ \\\\hfill [1]\\n\", '  \\\\item The tangent to the graph of $f$ at the point $P(0,b)$ has gradient $m$.  \\\\hfill [4]\\n']\n"
    },
    {
     "output_type": "error",
     "ename": "ValueError",
     "evalue": "arrays must all be same length",
     "traceback": [
      "\u001b[0;31m---------------------------------------------------------------------------\u001b[0m",
      "\u001b[0;31mValueError\u001b[0m                                Traceback (most recent call last)",
      "\u001b[0;32m<ipython-input-46-5919dc3bb4a3>\u001b[0m in \u001b[0;36m<module>\u001b[0;34m\u001b[0m\n\u001b[1;32m      6\u001b[0m       '12-Derivatives', '13-Integration']:\n\u001b[1;32m      7\u001b[0m    \u001b[0mprint\u001b[0m\u001b[0;34m(\u001b[0m\u001b[0;34m'\\n'\u001b[0m\u001b[0;34m,\u001b[0m \u001b[0munit\u001b[0m\u001b[0;34m)\u001b[0m\u001b[0;34m\u001b[0m\u001b[0;34m\u001b[0m\u001b[0m\n\u001b[0;32m----> 8\u001b[0;31m    \u001b[0mpset_df\u001b[0m\u001b[0;34m,\u001b[0m \u001b[0mproblem_df\u001b[0m \u001b[0;34m=\u001b[0m \u001b[0mparse_course_files\u001b[0m\u001b[0;34m(\u001b[0m\u001b[0mcourse_file_df\u001b[0m\u001b[0;34m[\u001b[0m\u001b[0mcourse_file_df\u001b[0m\u001b[0;34m.\u001b[0m\u001b[0munit\u001b[0m \u001b[0;34m==\u001b[0m \u001b[0munit\u001b[0m\u001b[0;34m]\u001b[0m\u001b[0;34m,\u001b[0m \u001b[0mcourse_dir\u001b[0m\u001b[0;34m=\u001b[0m\u001b[0msearch_dir\u001b[0m\u001b[0;34m)\u001b[0m\u001b[0;34m\u001b[0m\u001b[0;34m\u001b[0m\u001b[0m\n\u001b[0m\u001b[1;32m      9\u001b[0m    \u001b[0mprint\u001b[0m\u001b[0;34m(\u001b[0m\u001b[0;34m'pset_df: '\u001b[0m\u001b[0;34m,\u001b[0m \u001b[0mlen\u001b[0m\u001b[0;34m(\u001b[0m\u001b[0mpset_df\u001b[0m\u001b[0;34m)\u001b[0m\u001b[0;34m,\u001b[0m \u001b[0mpset_df\u001b[0m\u001b[0;34m.\u001b[0m\u001b[0mcolumns\u001b[0m\u001b[0;34m)\u001b[0m\u001b[0;34m\u001b[0m\u001b[0;34m\u001b[0m\u001b[0m\n\u001b[1;32m     10\u001b[0m    \u001b[0mprint\u001b[0m\u001b[0;34m(\u001b[0m\u001b[0;34m'problem_df: '\u001b[0m\u001b[0;34m,\u001b[0m \u001b[0mlen\u001b[0m\u001b[0;34m(\u001b[0m\u001b[0mproblem_df\u001b[0m\u001b[0;34m)\u001b[0m\u001b[0;34m,\u001b[0m \u001b[0mproblem_df\u001b[0m\u001b[0;34m.\u001b[0m\u001b[0mcolumns\u001b[0m\u001b[0;34m)\u001b[0m\u001b[0;34m\u001b[0m\u001b[0;34m\u001b[0m\u001b[0m\n",
      "\u001b[0;32m~/GitHub/mathai/src/main.py\u001b[0m in \u001b[0;36mparse_course_files\u001b[0;34m(course_file_df, course_dir)\u001b[0m\n\u001b[1;32m    279\u001b[0m     \u001b[0mpset_df\u001b[0m\u001b[0;34m[\u001b[0m\u001b[0;34m'problem_count'\u001b[0m\u001b[0;34m]\u001b[0m \u001b[0;34m=\u001b[0m \u001b[0mpset_df\u001b[0m\u001b[0;34m[\u001b[0m\u001b[0;34m'problems_list'\u001b[0m\u001b[0;34m]\u001b[0m\u001b[0;34m.\u001b[0m\u001b[0mapply\u001b[0m\u001b[0;34m(\u001b[0m\u001b[0mlen\u001b[0m\u001b[0;34m)\u001b[0m\u001b[0;34m\u001b[0m\u001b[0;34m\u001b[0m\u001b[0m\n\u001b[1;32m    280\u001b[0m \u001b[0;34m\u001b[0m\u001b[0m\n\u001b[0;32m--> 281\u001b[0;31m     \u001b[0mproblem_df\u001b[0m \u001b[0;34m=\u001b[0m \u001b[0mparse_problem_sets\u001b[0m\u001b[0;34m(\u001b[0m\u001b[0mpset_df\u001b[0m\u001b[0;34m)\u001b[0m\u001b[0;34m\u001b[0m\u001b[0;34m\u001b[0m\u001b[0m\n\u001b[0m\u001b[1;32m    282\u001b[0m \u001b[0;34m\u001b[0m\u001b[0m\n\u001b[1;32m    283\u001b[0m     \u001b[0mproblem_IDs\u001b[0m \u001b[0;34m=\u001b[0m \u001b[0;34m[\u001b[0m\u001b[0;34m]\u001b[0m\u001b[0;34m\u001b[0m\u001b[0;34m\u001b[0m\u001b[0m\n",
      "\u001b[0;32m~/GitHub/mathai/src/main.py\u001b[0m in \u001b[0;36mparse_problem_sets\u001b[0;34m(pset_df)\u001b[0m\n\u001b[1;32m    306\u001b[0m \u001b[0;34m\u001b[0m\u001b[0m\n\u001b[1;32m    307\u001b[0m     problem_df = pd.DataFrame({'problem_set_ID':all_problem_set_IDs, \n\u001b[0;32m--> 308\u001b[0;31m                                 'question':all_questions, 'kind':all_kinds})\n\u001b[0m\u001b[1;32m    309\u001b[0m     \u001b[0mproblem_df\u001b[0m\u001b[0;34m.\u001b[0m\u001b[0mindex\u001b[0m\u001b[0;34m.\u001b[0m\u001b[0mname\u001b[0m \u001b[0;34m=\u001b[0m \u001b[0;34m'problem_ID'\u001b[0m\u001b[0;34m\u001b[0m\u001b[0;34m\u001b[0m\u001b[0m\n\u001b[1;32m    310\u001b[0m \u001b[0;34m\u001b[0m\u001b[0m\n",
      "\u001b[0;32m~/opt/anaconda3/lib/python3.7/site-packages/pandas/core/frame.py\u001b[0m in \u001b[0;36m__init__\u001b[0;34m(self, data, index, columns, dtype, copy)\u001b[0m\n\u001b[1;32m    466\u001b[0m \u001b[0;34m\u001b[0m\u001b[0m\n\u001b[1;32m    467\u001b[0m         \u001b[0;32melif\u001b[0m \u001b[0misinstance\u001b[0m\u001b[0;34m(\u001b[0m\u001b[0mdata\u001b[0m\u001b[0;34m,\u001b[0m \u001b[0mdict\u001b[0m\u001b[0;34m)\u001b[0m\u001b[0;34m:\u001b[0m\u001b[0;34m\u001b[0m\u001b[0;34m\u001b[0m\u001b[0m\n\u001b[0;32m--> 468\u001b[0;31m             \u001b[0mmgr\u001b[0m \u001b[0;34m=\u001b[0m \u001b[0minit_dict\u001b[0m\u001b[0;34m(\u001b[0m\u001b[0mdata\u001b[0m\u001b[0;34m,\u001b[0m \u001b[0mindex\u001b[0m\u001b[0;34m,\u001b[0m \u001b[0mcolumns\u001b[0m\u001b[0;34m,\u001b[0m \u001b[0mdtype\u001b[0m\u001b[0;34m=\u001b[0m\u001b[0mdtype\u001b[0m\u001b[0;34m)\u001b[0m\u001b[0;34m\u001b[0m\u001b[0;34m\u001b[0m\u001b[0m\n\u001b[0m\u001b[1;32m    469\u001b[0m         \u001b[0;32melif\u001b[0m \u001b[0misinstance\u001b[0m\u001b[0;34m(\u001b[0m\u001b[0mdata\u001b[0m\u001b[0;34m,\u001b[0m \u001b[0mma\u001b[0m\u001b[0;34m.\u001b[0m\u001b[0mMaskedArray\u001b[0m\u001b[0;34m)\u001b[0m\u001b[0;34m:\u001b[0m\u001b[0;34m\u001b[0m\u001b[0;34m\u001b[0m\u001b[0m\n\u001b[1;32m    470\u001b[0m             \u001b[0;32mimport\u001b[0m \u001b[0mnumpy\u001b[0m\u001b[0;34m.\u001b[0m\u001b[0mma\u001b[0m\u001b[0;34m.\u001b[0m\u001b[0mmrecords\u001b[0m \u001b[0;32mas\u001b[0m \u001b[0mmrecords\u001b[0m\u001b[0;34m\u001b[0m\u001b[0;34m\u001b[0m\u001b[0m\n",
      "\u001b[0;32m~/opt/anaconda3/lib/python3.7/site-packages/pandas/core/internals/construction.py\u001b[0m in \u001b[0;36minit_dict\u001b[0;34m(data, index, columns, dtype)\u001b[0m\n\u001b[1;32m    281\u001b[0m             \u001b[0marr\u001b[0m \u001b[0;32mif\u001b[0m \u001b[0;32mnot\u001b[0m \u001b[0mis_datetime64tz_dtype\u001b[0m\u001b[0;34m(\u001b[0m\u001b[0marr\u001b[0m\u001b[0;34m)\u001b[0m \u001b[0;32melse\u001b[0m \u001b[0marr\u001b[0m\u001b[0;34m.\u001b[0m\u001b[0mcopy\u001b[0m\u001b[0;34m(\u001b[0m\u001b[0;34m)\u001b[0m \u001b[0;32mfor\u001b[0m \u001b[0marr\u001b[0m \u001b[0;32min\u001b[0m \u001b[0marrays\u001b[0m\u001b[0;34m\u001b[0m\u001b[0;34m\u001b[0m\u001b[0m\n\u001b[1;32m    282\u001b[0m         ]\n\u001b[0;32m--> 283\u001b[0;31m     \u001b[0;32mreturn\u001b[0m \u001b[0marrays_to_mgr\u001b[0m\u001b[0;34m(\u001b[0m\u001b[0marrays\u001b[0m\u001b[0;34m,\u001b[0m \u001b[0mdata_names\u001b[0m\u001b[0;34m,\u001b[0m \u001b[0mindex\u001b[0m\u001b[0;34m,\u001b[0m \u001b[0mcolumns\u001b[0m\u001b[0;34m,\u001b[0m \u001b[0mdtype\u001b[0m\u001b[0;34m=\u001b[0m\u001b[0mdtype\u001b[0m\u001b[0;34m)\u001b[0m\u001b[0;34m\u001b[0m\u001b[0;34m\u001b[0m\u001b[0m\n\u001b[0m\u001b[1;32m    284\u001b[0m \u001b[0;34m\u001b[0m\u001b[0m\n\u001b[1;32m    285\u001b[0m \u001b[0;34m\u001b[0m\u001b[0m\n",
      "\u001b[0;32m~/opt/anaconda3/lib/python3.7/site-packages/pandas/core/internals/construction.py\u001b[0m in \u001b[0;36marrays_to_mgr\u001b[0;34m(arrays, arr_names, index, columns, dtype, verify_integrity)\u001b[0m\n\u001b[1;32m     76\u001b[0m         \u001b[0;31m# figure out the index, if necessary\u001b[0m\u001b[0;34m\u001b[0m\u001b[0;34m\u001b[0m\u001b[0;34m\u001b[0m\u001b[0m\n\u001b[1;32m     77\u001b[0m         \u001b[0;32mif\u001b[0m \u001b[0mindex\u001b[0m \u001b[0;32mis\u001b[0m \u001b[0;32mNone\u001b[0m\u001b[0;34m:\u001b[0m\u001b[0;34m\u001b[0m\u001b[0;34m\u001b[0m\u001b[0m\n\u001b[0;32m---> 78\u001b[0;31m             \u001b[0mindex\u001b[0m \u001b[0;34m=\u001b[0m \u001b[0mextract_index\u001b[0m\u001b[0;34m(\u001b[0m\u001b[0marrays\u001b[0m\u001b[0;34m)\u001b[0m\u001b[0;34m\u001b[0m\u001b[0;34m\u001b[0m\u001b[0m\n\u001b[0m\u001b[1;32m     79\u001b[0m         \u001b[0;32melse\u001b[0m\u001b[0;34m:\u001b[0m\u001b[0;34m\u001b[0m\u001b[0;34m\u001b[0m\u001b[0m\n\u001b[1;32m     80\u001b[0m             \u001b[0mindex\u001b[0m \u001b[0;34m=\u001b[0m \u001b[0mensure_index\u001b[0m\u001b[0;34m(\u001b[0m\u001b[0mindex\u001b[0m\u001b[0;34m)\u001b[0m\u001b[0;34m\u001b[0m\u001b[0;34m\u001b[0m\u001b[0m\n",
      "\u001b[0;32m~/opt/anaconda3/lib/python3.7/site-packages/pandas/core/internals/construction.py\u001b[0m in \u001b[0;36mextract_index\u001b[0;34m(data)\u001b[0m\n\u001b[1;32m    395\u001b[0m             \u001b[0mlengths\u001b[0m \u001b[0;34m=\u001b[0m \u001b[0mlist\u001b[0m\u001b[0;34m(\u001b[0m\u001b[0mset\u001b[0m\u001b[0;34m(\u001b[0m\u001b[0mraw_lengths\u001b[0m\u001b[0;34m)\u001b[0m\u001b[0;34m)\u001b[0m\u001b[0;34m\u001b[0m\u001b[0;34m\u001b[0m\u001b[0m\n\u001b[1;32m    396\u001b[0m             \u001b[0;32mif\u001b[0m \u001b[0mlen\u001b[0m\u001b[0;34m(\u001b[0m\u001b[0mlengths\u001b[0m\u001b[0;34m)\u001b[0m \u001b[0;34m>\u001b[0m \u001b[0;36m1\u001b[0m\u001b[0;34m:\u001b[0m\u001b[0;34m\u001b[0m\u001b[0;34m\u001b[0m\u001b[0m\n\u001b[0;32m--> 397\u001b[0;31m                 \u001b[0;32mraise\u001b[0m \u001b[0mValueError\u001b[0m\u001b[0;34m(\u001b[0m\u001b[0;34m\"arrays must all be same length\"\u001b[0m\u001b[0;34m)\u001b[0m\u001b[0;34m\u001b[0m\u001b[0;34m\u001b[0m\u001b[0m\n\u001b[0m\u001b[1;32m    398\u001b[0m \u001b[0;34m\u001b[0m\u001b[0m\n\u001b[1;32m    399\u001b[0m             \u001b[0;32mif\u001b[0m \u001b[0mhave_dicts\u001b[0m\u001b[0;34m:\u001b[0m\u001b[0;34m\u001b[0m\u001b[0;34m\u001b[0m\u001b[0m\n",
      "\u001b[0;31mValueError\u001b[0m: arrays must all be same length"
     ]
    }
   ],
   "source": [
    " for unit in ['01-Measurement', '02-Trig+3D', #'03-Descriptive-Statistics', '04-Coordinate-geometry', '05-Linear-functions', \n",
    "       #'06-Bivariates', \n",
    "       #\n",
    "       #'07-Probability', '09-Polynomial-functions',\n",
    "       #'10-Exponential+log-functions', '11-Periodic-functions',\n",
    "       '12-Derivatives', '13-Integration']:\n",
    "    print('\\n', unit)\n",
    "    pset_df, problem_df = parse_course_files(course_file_df[course_file_df.unit == unit], course_dir=search_dir)\n",
    "    print('pset_df: ', len(pset_df), pset_df.columns)\n",
    "    print('problem_df: ', len(problem_df), problem_df.columns)"
   ]
  },
  {
   "cell_type": "code",
   "execution_count": 9,
   "metadata": {},
   "outputs": [],
   "source": [
    "multi_file_df = course_file_df[course_file_df.filename.str.startswith('2-HW-IB2')]"
   ]
  },
  {
   "cell_type": "code",
   "execution_count": 10,
   "metadata": {
    "tags": []
   },
   "outputs": [],
   "source": [
    "multi_pset_df, multi_problem_df = parse_course_files(multi_file_df, course_dir=search_dir)"
   ]
  },
  {
   "cell_type": "code",
   "execution_count": 11,
   "metadata": {
    "tags": []
   },
   "outputs": [
    {
     "output_type": "stream",
     "name": "stdout",
     "text": "  \\item Find the first derivative of $\\displaystyle f(x)=\\frac{6x^2 - 3x + 9}{3x}$ \\vspace{5cm}\n  \\item Simplify the expression $\\log_6 12 + \\log_6 3$ \\vspace{3cm}\n  \\item Given $y=e^x \\ln x$, find $\\frac{\\mathrm{d}y}{\\mathrm{d}x}$. \\vspace{6cm}\n  \\item Round each value to three significant figures:\n  \\begin{enumerate}\n    \\item $72.09867 \\approx$ \\vspace{2cm}\n    \\item $17.98 \\approx$\n  \\end{enumerate}\n  \\newpage\n  \\item The tangent to $y=x^2-kx+17$ at $x=4$ has a gradient of $-2$. Find $k$. \\vspace{8cm}\n  \\item Find $\\sin \\frac{\\pi}{3}$ \\vspace{3cm}\n  \\item Find the average rate of change of $f(x)=x^2+3$ over the interval $[1,3]$.\n\n  \\end{enumerate}\n\n\\newpage\n\\setcounter{page}{1}\n\\subsubsection*{Do Now Quiz 2.6: Mixed review}\nNo calculators on this problem set, no notes.\n\n\\begin{enumerate}\n  \\item Find the first derivative of $\\displaystyle f(x)=\\frac{14x^4 - 35x^2 + 7x}{7x^2}$ \\vspace{5cm}\n  \\item Simplify the expression $\\log_3 18 - \\log_3 2$ \\vspace{3cm}\n  \\item Given $y=e^x \\cos x$, find $\\displaystyle \\frac{\\mathrm{d}y}{\\mathrm{d}x}$. \\vspace{6cm}\n  \\item Round each value to three significant figures:\n  \\begin{enumerate}\n    \\item $0.098607 \\approx$ \\vspace{2cm}\n    \\item $3.4958 \\approx$\n  \\end{enumerate}\n  \\newpage\n  \\item The tangent to $y=kx^2-3x+9$ at $x=-1$ has a gradient of $5$. Find $k$. \\vspace{8cm}\n  \\item Write down the exact value of $\\displaystyle \\sin \\frac{\\pi}{6}$ \\vspace{3cm}\n  \\item Find the instantaneous rate of change of $h(x)=-4.9x^2+30$ when $x=2$.\n\n\\end{enumerate}\n\n\n"
    }
   ],
   "source": [
    "for line in multi_pset_df.body.iteritems():\n",
    "    for l in line[1]:\n",
    "        print(l, end='')"
   ]
  },
  {
   "cell_type": "code",
   "execution_count": 12,
   "metadata": {
    "tags": []
   },
   "outputs": [
    {
     "output_type": "stream",
     "name": "stdout",
     "text": "0 question 88\nFind the first derivative of $\\displaystyle f(x)=\\frac{6x^2 - 3x + 9}{3x}$ \\vspace{5cm}\n\n1 question 60\nSimplify the expression $\\log_6 12 + \\log_6 3$ \\vspace{3cm}\n\n2 question 74\nGiven $y=e^x \\ln x$, find $\\frac{\\mathrm{d}y}{\\mathrm{d}x}$. \\vspace{6cm}\n\n3 question 153\nRound each value to three significant figures:\n  \\begin{enumerate}\n    \\item $72.09867 \\approx$ \\vspace{2cm}\n    \\item $17.98 \\approx$\n  \\end{enumerate}\n\n4 newpage 11\n  \\newpage\n\n5 question 85\nThe tangent to $y=x^2-kx+17$ at $x=4$ has a gradient of $-2$. Find $k$. \\vspace{8cm}\n\n6 question 39\nFind $\\sin \\frac{\\pi}{3}$ \\vspace{3cm}\n\n7 question 76\nFind the average rate of change of $f(x)=x^2+3$ over the interval $[1,3]$.\n\n\n8 newpage 30\n\\newpage\n\\setcounter{page}{1}\n\n9 section 94\n\\subsubsection*{Do Now Quiz 2.6: Mixed review}\nNo calculators on this problem set, no notes.\n\n\n10 question 95\nFind the first derivative of $\\displaystyle f(x)=\\frac{14x^4 - 35x^2 + 7x}{7x^2}$ \\vspace{5cm}\n\n11 question 60\nSimplify the expression $\\log_3 18 - \\log_3 2$ \\vspace{3cm}\n\n12 question 89\nGiven $y=e^x \\cos x$, find $\\displaystyle \\frac{\\mathrm{d}y}{\\mathrm{d}x}$. \\vspace{6cm}\n\n13 question 154\nRound each value to three significant figures:\n  \\begin{enumerate}\n    \\item $0.098607 \\approx$ \\vspace{2cm}\n    \\item $3.4958 \\approx$\n  \\end{enumerate}\n\n14 newpage 11\n  \\newpage\n\n15 question 85\nThe tangent to $y=kx^2-3x+9$ at $x=-1$ has a gradient of $5$. Find $k$. \\vspace{8cm}\n\n16 question 78\nWrite down the exact value of $\\displaystyle \\sin \\frac{\\pi}{6}$ \\vspace{3cm}\n\n17 question 72\nFind the instantaneous rate of change of $h(x)=-4.9x^2+30$ when $x=2$.\n\n\n"
    }
   ],
   "source": [
    "for p in multi_problem_df.itertuples():\n",
    "    print(p.Index, p.kind, p.q_len)\n",
    "    print(p.question)"
   ]
  },
  {
   "cell_type": "code",
   "execution_count": null,
   "metadata": {},
   "outputs": [],
   "source": []
  }
 ]
}