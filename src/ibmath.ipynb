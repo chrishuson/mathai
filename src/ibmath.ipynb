{
 "metadata": {
  "language_info": {
   "codemirror_mode": {
    "name": "ipython",
    "version": 3
   },
   "file_extension": ".py",
   "mimetype": "text/x-python",
   "name": "python",
   "nbconvert_exporter": "python",
   "pygments_lexer": "ipython3",
   "version": "3.7.6-final"
  },
  "orig_nbformat": 2,
  "kernelspec": {
   "name": "Python 3.7.6 64-bit ('base': conda)",
   "display_name": "Python 3.7.6 64-bit ('base': conda)",
   "metadata": {
    "interpreter": {
     "hash": "baacbb4663b2efd07f9b7f875f668c98eac748873443d0ce630b512dc5ae7e3f"
    }
   }
  }
 },
 "nbformat": 4,
 "nbformat_minor": 2,
 "cells": [
  {
   "cell_type": "code",
   "execution_count": 1,
   "metadata": {},
   "outputs": [
    {
     "output_type": "execute_result",
     "data": {
      "text/plain": "'/Users/chris/GitHub/mathai/src'"
     },
     "metadata": {},
     "execution_count": 1
    }
   ],
   "source": [
    "import os\n",
    "import sys\n",
    "import subprocess\n",
    "import pandas as pd\n",
    "import numpy as np\n",
    "from ast import literal_eval\n",
    "os.getcwd()\n"
   ]
  },
  {
   "cell_type": "code",
   "execution_count": 2,
   "metadata": {
    "tags": []
   },
   "outputs": [
    {
     "output_type": "stream",
     "name": "stdout",
     "text": "ran main\n"
    }
   ],
   "source": [
    "from main import map_course_files\n",
    "from main import parse_course_files\n",
    "#from main import build_pset_df_tex\n",
    "#from main import build_problem_df_tex\n",
    "#from main import build_pset_df_pdf"
   ]
  },
  {
   "cell_type": "code",
   "execution_count": 3,
   "metadata": {
    "tags": []
   },
   "outputs": [
    {
     "output_type": "stream",
     "name": "stdout",
     "text": "/Users/chris/GitHub/mathai/db/\n"
    }
   ],
   "source": [
    "HOME = os.environ[\"HOME\"]\n",
    "db_dir = HOME + \"/GitHub/mathai/db/\"\n",
    "out_dir = HOME + \"/GitHub/mathai/out/\"\n",
    "in_dir = HOME + \"/GitHub/mathai/in/\"\n",
    "course_dir = HOME + \"/GitHub/course-files/IB2021/\"\n",
    "print(db_dir)"
   ]
  },
  {
   "cell_type": "code",
   "execution_count": 4,
   "metadata": {},
   "outputs": [
    {
     "output_type": "execute_result",
     "data": {
      "text/plain": "'/Users/chris/GitHub/course-files/IB2019-2020/'"
     },
     "metadata": {},
     "execution_count": 4
    }
   ],
   "source": [
    "search_dir = HOME + \"/GitHub/course-files/IB2019-2020/\"\n",
    "search_dir"
   ]
  },
  {
   "cell_type": "code",
   "execution_count": 5,
   "metadata": {},
   "outputs": [],
   "source": [
    "d, course_file_df = map_course_files(course_dir=search_dir)"
   ]
  },
  {
   "cell_type": "code",
   "execution_count": 9,
   "metadata": {
    "tags": []
   },
   "outputs": [
    {
     "output_type": "stream",
     "name": "stdout",
     "text": "\n df len:  52 \n Index(['unit', 'file_count', 'filename'], dtype='object')\n"
    },
    {
     "output_type": "execute_result",
     "data": {
      "text/plain": "array(['01-Algebra-Review', '02-Statistics', '03-Probability',\n       '04-Linear-functions', '05-Polynomial-functions', '06-Derivatives',\n       '07-Exponential-functions', 'Slides-IB'], dtype=object)"
     },
     "metadata": {},
     "execution_count": 9
    }
   ],
   "source": [
    "print('\\n df len: ', len(course_file_df), '\\n', course_file_df.columns)\n",
    "course_file_df.unit.unique()"
   ]
  },
  {
   "cell_type": "code",
   "execution_count": 10,
   "metadata": {},
   "outputs": [
    {
     "output_type": "execute_result",
     "data": {
      "text/plain": "                        unit  file_count  \\\n22       04-Linear-functions           9   \n23   05-Polynomial-functions          11   \n24   05-Polynomial-functions          11   \n25   05-Polynomial-functions          11   \n26   05-Polynomial-functions          11   \n27   05-Polynomial-functions          11   \n28   05-Polynomial-functions          11   \n29   05-Polynomial-functions          11   \n30   05-Polynomial-functions          11   \n31   05-Polynomial-functions          11   \n32   05-Polynomial-functions          11   \n33   05-Polynomial-functions          11   \n34            06-Derivatives           6   \n35            06-Derivatives           6   \n36            06-Derivatives           6   \n37            06-Derivatives           6   \n38            06-Derivatives           6   \n39            06-Derivatives           6   \n40  07-Exponential-functions           2   \n41  07-Exponential-functions           2   \n\n                                      filename  \n22              4-9DNQ_Function-operations.tex  \n23  1-4HW-Quadratics-completing-the-square.tex  \n24                            1012IB-Exam2.tex  \n25               5-0CW_Calculator-practice.tex  \n26                     5-11Exam-Quadratics.tex  \n27              5-1CW_Factoring-quadratics.tex  \n28                 5-3DN-Completing_square.tex  \n29                 5-4DN-Completing_square.tex  \n30              5-5CW_Calculator-practiceB.tex  \n31              5-7CW_Calculator-practiceC.tex  \n32               5-8DN_Graphing_quadratics.tex  \n33             5-8HW_Completing-the-square.tex  \n34             6-10DN_Calculator-practiceJ.tex  \n35             6-5DNQ_Calculator-practiceD.tex  \n36              6-6DN_Calculator-practiceE.tex  \n37             6-7DNQ_Calculator-practiceF.tex  \n38              6-8DN_Calculator-practiceG.tex  \n39             6-9DNQ_Calculator-practiceH.tex  \n40                   7-17Pretest-sequences.tex  \n41                         7-5HW-sequences.tex  ",
      "text/html": "<div>\n<style scoped>\n    .dataframe tbody tr th:only-of-type {\n        vertical-align: middle;\n    }\n\n    .dataframe tbody tr th {\n        vertical-align: top;\n    }\n\n    .dataframe thead th {\n        text-align: right;\n    }\n</style>\n<table border=\"1\" class=\"dataframe\">\n  <thead>\n    <tr style=\"text-align: right;\">\n      <th></th>\n      <th>unit</th>\n      <th>file_count</th>\n      <th>filename</th>\n    </tr>\n  </thead>\n  <tbody>\n    <tr>\n      <th>22</th>\n      <td>04-Linear-functions</td>\n      <td>9</td>\n      <td>4-9DNQ_Function-operations.tex</td>\n    </tr>\n    <tr>\n      <th>23</th>\n      <td>05-Polynomial-functions</td>\n      <td>11</td>\n      <td>1-4HW-Quadratics-completing-the-square.tex</td>\n    </tr>\n    <tr>\n      <th>24</th>\n      <td>05-Polynomial-functions</td>\n      <td>11</td>\n      <td>1012IB-Exam2.tex</td>\n    </tr>\n    <tr>\n      <th>25</th>\n      <td>05-Polynomial-functions</td>\n      <td>11</td>\n      <td>5-0CW_Calculator-practice.tex</td>\n    </tr>\n    <tr>\n      <th>26</th>\n      <td>05-Polynomial-functions</td>\n      <td>11</td>\n      <td>5-11Exam-Quadratics.tex</td>\n    </tr>\n    <tr>\n      <th>27</th>\n      <td>05-Polynomial-functions</td>\n      <td>11</td>\n      <td>5-1CW_Factoring-quadratics.tex</td>\n    </tr>\n    <tr>\n      <th>28</th>\n      <td>05-Polynomial-functions</td>\n      <td>11</td>\n      <td>5-3DN-Completing_square.tex</td>\n    </tr>\n    <tr>\n      <th>29</th>\n      <td>05-Polynomial-functions</td>\n      <td>11</td>\n      <td>5-4DN-Completing_square.tex</td>\n    </tr>\n    <tr>\n      <th>30</th>\n      <td>05-Polynomial-functions</td>\n      <td>11</td>\n      <td>5-5CW_Calculator-practiceB.tex</td>\n    </tr>\n    <tr>\n      <th>31</th>\n      <td>05-Polynomial-functions</td>\n      <td>11</td>\n      <td>5-7CW_Calculator-practiceC.tex</td>\n    </tr>\n    <tr>\n      <th>32</th>\n      <td>05-Polynomial-functions</td>\n      <td>11</td>\n      <td>5-8DN_Graphing_quadratics.tex</td>\n    </tr>\n    <tr>\n      <th>33</th>\n      <td>05-Polynomial-functions</td>\n      <td>11</td>\n      <td>5-8HW_Completing-the-square.tex</td>\n    </tr>\n    <tr>\n      <th>34</th>\n      <td>06-Derivatives</td>\n      <td>6</td>\n      <td>6-10DN_Calculator-practiceJ.tex</td>\n    </tr>\n    <tr>\n      <th>35</th>\n      <td>06-Derivatives</td>\n      <td>6</td>\n      <td>6-5DNQ_Calculator-practiceD.tex</td>\n    </tr>\n    <tr>\n      <th>36</th>\n      <td>06-Derivatives</td>\n      <td>6</td>\n      <td>6-6DN_Calculator-practiceE.tex</td>\n    </tr>\n    <tr>\n      <th>37</th>\n      <td>06-Derivatives</td>\n      <td>6</td>\n      <td>6-7DNQ_Calculator-practiceF.tex</td>\n    </tr>\n    <tr>\n      <th>38</th>\n      <td>06-Derivatives</td>\n      <td>6</td>\n      <td>6-8DN_Calculator-practiceG.tex</td>\n    </tr>\n    <tr>\n      <th>39</th>\n      <td>06-Derivatives</td>\n      <td>6</td>\n      <td>6-9DNQ_Calculator-practiceH.tex</td>\n    </tr>\n    <tr>\n      <th>40</th>\n      <td>07-Exponential-functions</td>\n      <td>2</td>\n      <td>7-17Pretest-sequences.tex</td>\n    </tr>\n    <tr>\n      <th>41</th>\n      <td>07-Exponential-functions</td>\n      <td>2</td>\n      <td>7-5HW-sequences.tex</td>\n    </tr>\n  </tbody>\n</table>\n</div>"
     },
     "metadata": {},
     "execution_count": 10
    }
   ],
   "source": [
    "drop_units = ['Slides-IB']\n",
    "for unit in drop_units:\n",
    "    course_file_df.drop(course_file_df[course_file_df.unit == unit].index, inplace=True)\n",
    "\n",
    "course_file_df.tail(20)"
   ]
  },
  {
   "cell_type": "code",
   "execution_count": null,
   "metadata": {},
   "outputs": [],
   "source": []
  }
 ]
}