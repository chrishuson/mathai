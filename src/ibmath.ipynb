{
 "metadata": {
  "language_info": {
   "codemirror_mode": {
    "name": "ipython",
    "version": 3
   },
   "file_extension": ".py",
   "mimetype": "text/x-python",
   "name": "python",
   "nbconvert_exporter": "python",
   "pygments_lexer": "ipython3",
   "version": "3.7.6-final"
  },
  "orig_nbformat": 2,
  "kernelspec": {
   "name": "python3",
   "display_name": "Python 3.7.6 64-bit ('base': conda)",
   "metadata": {
    "interpreter": {
     "hash": "baacbb4663b2efd07f9b7f875f668c98eac748873443d0ce630b512dc5ae7e3f"
    }
   }
  }
 },
 "nbformat": 4,
 "nbformat_minor": 2,
 "cells": [
  {
   "cell_type": "code",
   "execution_count": 1,
   "metadata": {},
   "outputs": [
    {
     "output_type": "execute_result",
     "data": {
      "text/plain": [
       "'/Users/chris/GitHub/mathai/src'"
      ]
     },
     "metadata": {},
     "execution_count": 1
    }
   ],
   "source": [
    "import os\n",
    "import sys\n",
    "import subprocess\n",
    "import pandas as pd\n",
    "import numpy as np\n",
    "from ast import literal_eval\n",
    "os.getcwd()\n"
   ]
  },
  {
   "cell_type": "code",
   "execution_count": 2,
   "metadata": {
    "tags": []
   },
   "outputs": [
    {
     "output_type": "stream",
     "name": "stdout",
     "text": [
      "ran main\n"
     ]
    }
   ],
   "source": [
    "from main import map_course_files\n",
    "from main import parse_course_files\n",
    "from main import build_pset_df_tex\n",
    "from main import build_problem_df_tex\n",
    "from main import build_pset_df_pdf"
   ]
  },
  {
   "cell_type": "code",
   "execution_count": 3,
   "metadata": {
    "tags": []
   },
   "outputs": [
    {
     "output_type": "execute_result",
     "data": {
      "text/plain": [
       "'/Users/chris/GitHub/course-files/IB'"
      ]
     },
     "metadata": {},
     "execution_count": 3
    }
   ],
   "source": [
    "HOME = os.environ[\"HOME\"]\n",
    "db_dir = HOME + \"/GitHub/mathai/db/\"\n",
    "out_dir = HOME + \"/GitHub/mathai/out/\"\n",
    "in_dir = HOME + \"/GitHub/mathai/in/\"\n",
    "course_dir = HOME + \"/GitHub/course-files/IB2021/\"\n",
    "search_dir = HOME + \"/GitHub/course-files/IB\"\n",
    "search_dir"
   ]
  },
  {
   "cell_type": "code",
   "execution_count": 11,
   "metadata": {},
   "outputs": [],
   "source": [
    "# Save \n",
    "problem_df.to_csv('/Users/chris/GitHub/mathai/db/IB_problem_df.csv')\n",
    "pset_df.to_csv('/Users/chris/GitHub/mathai/db/IB_pset_df.csv')\n",
    "course_file_df.to_csv('/Users/chris/GitHub/mathai/db/IB_course_file_df.csv')"
   ]
  },
  {
   "cell_type": "code",
   "execution_count": 4,
   "metadata": {
    "tags": []
   },
   "outputs": [
    {
     "output_type": "stream",
     "name": "stdout",
     "text": [
      "course_file_df:  169 None Index(['unit', 'file_count', 'filename'], dtype='object')\npset_df:     169 problem_set_ID Index(['unit', 'filename', 'problem_count', 'problem_IDs', 'problems_list',\n       'problem_kind', 'head', 'body'],\n      dtype='object')\nproblem_df:  2853 problem_ID Index(['problem_set_ID', 'question', 'kind', 'filename', 'q_len'], dtype='object')\n"
     ]
    }
   ],
   "source": [
    "# Load\n",
    "course_file_df = pd.read_csv('/Users/chris/GitHub/mathai/db/IB_course_file_df.csv', index_col=0)\n",
    "print('course_file_df: ', len(course_file_df), course_file_df.index.name, course_file_df.columns)\n",
    "\n",
    "cols_into_lists = {'problem_IDs':literal_eval, 'header':literal_eval, 'body':literal_eval, 'problems_list':literal_eval, 'problem_kind':literal_eval}\n",
    "pset_df = pd.read_csv('../db/IB_pset_df.csv', index_col='problem_set_ID', converters=cols_into_lists)\n",
    "print('pset_df:    ', len(pset_df), pset_df.index.name, pset_df.columns)\n",
    "\n",
    "problem_df = pd.read_csv('../db/IB_problem_df.csv', index_col='problem_ID')\n",
    "print('problem_df: ', len(problem_df), problem_df.index.name, problem_df.columns)"
   ]
  },
  {
   "cell_type": "code",
   "execution_count": 4,
   "metadata": {
    "tags": []
   },
   "outputs": [
    {
     "output_type": "execute_result",
     "data": {
      "text/plain": "array(['01-Measurement', '02-Trig+3D', '03-Descriptive-Statistics',\n       '04-Coordinate-geometry', '05-Linear-functions', '06-Bivariates',\n       '07-Probability', '09-Polynomial-functions',\n       '10-Exponential+log-functions', '11-Periodic-functions',\n       '12-Derivatives', '13-Integration', 'Archive-topics', 'Slides'],\n      dtype=object)"
     },
     "metadata": {},
     "execution_count": 4
    }
   ],
   "source": [
    "# Parse / recreate dfs\n",
    "d, course_file_df = map_course_files(course_dir=search_dir)\n",
    "course_file_df.unit.unique()"
   ]
  },
  {
   "cell_type": "code",
   "execution_count": 5,
   "metadata": {
    "tags": []
   },
   "outputs": [
    {
     "output_type": "stream",
     "name": "stdout",
     "text": "\n df len:  169 \n Index(['unit', 'file_count', 'filename'], dtype='object')\n"
    },
    {
     "output_type": "execute_result",
     "data": {
      "text/plain": "unit                        \n01-Measurement                   3\n02-Trig+3D                       3\n03-Descriptive-Statistics        7\n04-Coordinate-geometry          19\n05-Linear-functions             10\n06-Bivariates                    7\n07-Probability                  11\n09-Polynomial-functions         40\n10-Exponential+log-functions    36\n11-Periodic-functions            4\n12-Derivatives                  18\n13-Integration                  11\ndtype: int64"
     },
     "metadata": {},
     "execution_count": 5
    }
   ],
   "source": [
    "drop_units = ['Slides', 'Archive-topics']\n",
    "for unit in drop_units:\n",
    "    course_file_df.drop(course_file_df[course_file_df.unit == unit].index, inplace=True)\n",
    "\n",
    "print('\\n df len: ', len(course_file_df), '\\n', course_file_df.columns)\n",
    "course_file_df.value_counts(['unit']).sort_index()\n",
    "#course_file_df.unit.unique()"
   ]
  },
  {
   "cell_type": "code",
   "execution_count": 6,
   "metadata": {
    "tags": []
   },
   "outputs": [
    {
     "output_type": "stream",
     "name": "stdout",
     "text": "pset_df:  169 Index(['unit', 'filename', 'problem_count', 'problem_IDs', 'problems_list',\n       'problem_kind', 'head', 'body'],\n      dtype='object')\nproblem_df:  2853 Index(['problem_set_ID', 'question', 'kind', 'filename', 'q_len'], dtype='object')\n"
    }
   ],
   "source": [
    "pset_df, problem_df = parse_course_files(course_file_df, course_dir=search_dir)\n",
    "print('pset_df: ', len(pset_df), pset_df.columns)\n",
    "print('problem_df: ', len(problem_df), problem_df.columns)"
   ]
  },
  {
   "cell_type": "code",
   "execution_count": 10,
   "metadata": {},
   "outputs": [
    {
     "output_type": "execute_result",
     "data": {
      "text/plain": "                                                                                                                                                                                                                                                                                                                                                                                                                                                                                                                                                                                                                                                                                                                                                                                                                                                                                                                                                                                                                                                                                                                                                                                                                                                                                                                                                                                                                                                                                                       25\n  \\newpage\\n                                                                                                                                                                                                                                                                                                                                                                                                                                                                                                                                                                                                                                                                                                                                                                                                                                                                                                                                                                                                                                                                                                                                                                                                                                                                                                                                                                                                                                                                                                                                                                                                                                                                                                                                                                                                                                                                                                                                                                                                                                                                                                                                                                                                                                                                                                                                                                                                                                                                                                                                                                                                                                                                                                                                        9\nSketch a graph with the following characteristics: \\n\\begin{itemize}\\n\\item polynomial function of order four\\n\\item a positive leading coefficient\\n\\item four real zeros\\n\\end{itemize}\\n\\begin{center}\\n    \\begin{tikzpicture}[scale=2/4]\\n    \\draw[thick,<->] (-7.5,0) -- (7.5,0) node[anchor=north west] {\\textbf{x}};\\n    \\draw[thick,<->] (0,-7.5) -- (0,7.5) node[anchor=south east] {\\textbf{y}};\\n    \\end{tikzpicture}\\n\\end{center}\\n\\n                                                                                                                                                                                                                                                                                                                                                                                                                                                                                                                                                                                                                                                                                                                                                                                                                                                                                                                                                                                                                                                                                                                                                                                                                                                                                                                                                                                                                                                                                                                                                                                                                                                                                                                                                                                                                                                                                                                                                                                                                                                                                                                                                                                                                                                                                              8\n\\subsection*{Function substitution}\\n                                                                                                                                                                                                                                                                                                                                                                                                                                                                                                                                                                                                                                                                                                                                                                                                                                                                                                                                                                                                                                                                                                                                                                                                                                                                                                                                                                                                                                                                                                                                                                                                                                                                                                                                                                                                                                                                                                                                                                                                                                                                                                                                                                                                                                                                                                                                                                                                                                                                                                                                                                                                                                                                                                               8\nFor each polynomial graph, state \\n\\begin{enumerate}\\n\\item its degree,\\n\\item how many distinct zeros it has, and\\n\\item the sign of its leading coefficient.\\n\\end{enumerate}\\n\\n    \\begin{tikzpicture}[scale=2/4]\\n    %\\draw[step=1cm,gray,very thin] (-7,-7) grid (7,7);\\n    \\draw[thick,<->] (-7.5,0) -- (7.5,0) node[anchor=north west] {\\textbf{x}};\\n    \\draw[thick,<->] (0,-7.5) -- (0,7.5) node[anchor=south east] {\\textbf{y}};\\n    %\\foreach \\x in {-6, -4, -2, 2, 4, 6} \\draw (\\x cm,1pt) -- (\\x cm,-1pt) node[anchor=north] {$\\x$};\\n    %\\foreach \\y in {5} \\draw (1pt,\\y cm) -- (-1pt,\\y cm) node[anchor=east] {50}; %{$\\y$};\\n    \\tkzInit[xmin=-6,xmax=6,ymin=-7,ymax=7,ystep=1]   \\n    \\tkzFct[color=black,thick,<->,domain = -4.3:5.2] {-0.1*(x+3)*(x)*(x-4)};\\n    \\end{tikzpicture}\\n    \\begin{tikzpicture}[scale=2/4]\\n    %\\draw[step=1cm,gray,very thin] (-7,-7) grid (7,7);\\n    \\draw[thick,<->] (-7.5,0) -- (7.5,0) node[anchor=north west] {\\textbf{x}};\\n    \\draw[thick,<->] (0,-7.5) -- (0,7.5) node[anchor=south east] {\\textbf{y}};\\n    %\\foreach \\x in {-6, -4, -2, 2, 4, 6} \\draw (\\x cm,1pt) -- (\\x cm,-1pt) node[anchor=north] {$\\x$};\\n    %\\foreach \\y in {5} \\draw (1pt,\\y cm) -- (-1pt,\\y cm) node[anchor=east] {50}; %{$\\y$};\\n    \\tkzInit[xmin=-6,xmax=6,ymin=-7,ymax=7,ystep=1]   \\n    \\tkzFct[color=black,thick,<->,domain = -5.3:4.2] {-0.05*(x+5)*(x+3)*(x-1)*(x-4)};\\n    \\end{tikzpicture}\\n\\\\[30pt]\\n    \\begin{tikzpicture}[scale=2/4]\\n    %\\draw[step=1cm,gray,very thin] (-7,-7) grid (7,7);\\n    \\draw[thick,<->] (-7.5,0) -- (7.5,0) node[anchor=north west] {\\textbf{x}};\\n    \\draw[thick,<->] (0,-7.5) -- (0,7.5) node[anchor=south east] {\\textbf{y}};\\n    %\\foreach \\x in {-6, -4, -2, 2, 4, 6} \\draw (\\x cm,1pt) -- (\\x cm,-1pt) node[anchor=north] {$\\x$};\\n    %\\foreach \\y in {5} \\draw (1pt,\\y cm) -- (-1pt,\\y cm) node[anchor=east] {50}; %{$\\y$};\\n    \\tkzInit[xmin=-6,xmax=6,ymin=-7,ymax=7,ystep=1]   \\n    \\tkzFct[color=black,thick,<->,domain = -1.3:5.2] {-0.5*(x-2)*(x-2)};\\n    \\end{tikzpicture}\\n    \\begin{tikzpicture}[scale=2/4]\\n    %\\draw[step=1cm,gray,very thin] (-7,-7) grid (7,7);\\n    \\draw[thick,<->] (-7.5,0) -- (7.5,0) node[anchor=north west] {\\textbf{x}};\\n    \\draw[thick,<->] (0,-7.5) -- (0,7.5) node[anchor=south east] {\\textbf{y}};\\n    %\\foreach \\x in {-6, -4, -2, 2, 4, 6} \\draw (\\x cm,1pt) -- (\\x cm,-1pt) node[anchor=north] {$\\x$};\\n    %\\foreach \\y in {5} \\draw (1pt,\\y cm) -- (-1pt,\\y cm) node[anchor=east] {50}; %{$\\y$};\\n    \\tkzInit[xmin=-6,xmax=6,ymin=-7,ymax=7,ystep=1]   \\n    \\tkzFct[color=black,thick,<->,domain = -3.3:5.2] {0.05*(x*x*x*x-3*x*x*x-9*x*x+10*x+20)};\\n    \\end{tikzpicture}\\n\\n\\n      7\n\\newpage \\n                                                                                                                                                                                                                                                                                                                                                                                                                                                                                                                                                                                                                                                                                                                                                                                                                                                                                                                                                                                                                                                                                                                                                                                                                                                                                                                                                                                                                                                                                                                                                                                                                                                                                                                                                                                                                                                                                                                                                                                                                                                                                                                                                                                                                                                                                                                                                                                                                                                                                                                                                                                                                                                                                                                                         7\nWhat are the quotient and remainder when $x^3+3x^2-x+2$ is divided by $x - 1$?\\\\*[25pt]\\n\\n                                                                                                                                                                                                                                                                                                                                                                                                                                                                                                                                                                                                                                                                                                                                                                                                                                                                                                                                                                                                                                                                                                                                                                                                                                                                                                                                                                                                                                                                                                                                                                                                                                                                                                                                                                                                                                                                                                                                                                                                                                                                                                                                                                                                                                                                                                                                                                                                                                                                                                                                                                                                                                                         6\n\\subsubsection*{Simplifying polynomials, standard form}\\n\\n                                                                                                                                                                                                                                                                                                                                                                                                                                                                                                                                                                                                                                                                                                                                                                                                                                                                                                                                                                                                                                                                                                                                                                                                                                                                                                                                                                                                                                                                                                                                                                                                                                                                                                                                                                                                                                                                                                                                                                                                                                                                                                                                                                                                                                                                                                                                                                                                                                                                                                                                                                                                                                                                                         6\nName: question, dtype: int64"
     },
     "metadata": {},
     "execution_count": 10
    }
   ],
   "source": [
    "problem_df.question.value_counts().reindex().head(10)"
   ]
  },
  {
   "cell_type": "code",
   "execution_count": 6,
   "metadata": {},
   "outputs": [
    {
     "output_type": "execute_result",
     "data": {
      "text/plain": "unit                        \n01-Measurement                   3\n02-Trig+3D                       3\n03-Descriptive-Statistics        7\n04-Coordinate-geometry          19\n05-Linear-functions             10\n06-Bivariates                    7\n07-Probability                  11\n09-Polynomial-functions         40\n10-Exponential+log-functions    36\n11-Periodic-functions            4\n12-Derivatives                  18\n13-Integration                  11\ndtype: int64"
     },
     "metadata": {},
     "execution_count": 6
    }
   ],
   "source": [
    "pset_df.value_counts(['unit']).sort_index()"
   ]
  },
  {
   "cell_type": "code",
   "execution_count": 13,
   "metadata": {},
   "outputs": [
    {
     "output_type": "execute_result",
     "data": {
      "text/plain": "\\newpage\\n                                                                                                                                                                                                                                                                                                                                                                 239\n\\newpage\\n\\n                                                                                                                                                                                                                                                                                                                                                               165\n\\newpage\\n\\n\\n                                                                                                                                                                                                                                                                                                                                                              25\n  \\newpage\\n                                                                                                                                                                                                                                                                                                                                                                 9\n\\newpage \\n                                                                                                                                                                                                                                                                                                                                                                  7\n\\newpage\\nSimplify, leaving no negative or fractional exponents.\\n\\n                                                                                                                                                                                                                                                                                                         6\n  \\newpage\\n\\n\\n                                                                                                                                                                                                                                                                                                                                                             5\n\\newpage \\n\\n                                                                                                                                                                                                                                                                                                                                                                5\n    \\newpage\\n                                                                                                                                                                                                                                                                                                                                                               4\n\\newpage\\n\\setcounter{enumi}{0}\\n                                                                                                                                                                                                                                                                                                                                            4\n\\newpage\\n\\n\\n\\n                                                                                                                                                                                                                                                                                                                                                             3\n   \\newpage\\n\\n                                                                                                                                                                                                                                                                                                                                                              3\n    \\newpage\\n    Graphing calculators may be used on this section.\\n\\n                                                                                                                                                                                                                                                                                                      2\n\\newpage\\n\\noindent BECA / Huson / 11.1 IB Math SL \\hspace{2in} Name:\\\\*\\n14 December 2017\\n\\n                                                                                                                                                                                                                                                                               2\n\\newpage\\n\\n\\n    %missing: identifying a function vs relation,\\n\\n\\n                                                                                                                                                                                                                                                                                                        2\n\\newpage\\nSimplify\\n\\n                                                                                                                                                                                                                                                                                                                                                       2\n\\newpage\\nWhat is the slope and $y$-intercept of each equation?\\n                                                                                                                                                                                                                                                                                                            2\n\\newpage\\n\\setcounter{page}{1}\\n                                                                                                                                                                                                                                                                                                                                             2\n\\newpage\\nGraphing calculators may be used on this section.\\n\\n                                                                                                                                                                                                                                                                                                              1\n\\newpage\\nDifficulty=6\\n                                                                                                                                                                                                                                                                                                                                                     1\n\\newpage\\n\\noindent BECA / Huson / 11.1 IB Math SL \\qquad \\qquad Name:\\\\\\n20 September 2017\\\\\\nGraph accurately in pencil using a straight edge or smooth curve.\\n\\n                                                                                                                                                                                                         1\n\\newpage\\n\\noindent BECA / Huson / 11.1 IB Math SL \\hspace{2in} Name:\\\\*\\n20 November 2017\\n\\begin{center}\\n{\\Large Quiz Corrections: Exponents and radicals}\\\\\\n\\textit{In addition to correcting your quiz, work these problems. Answer in the space provided.}\\n\\end{center}\\n\\n%\\vspace{0.2 cm}\\n\\n\\nSimplify, leaving no negative or fractional exponents.\\n\\n\\n\\n      1\n\\newpage\\nSimplify by collecting like terms.\\n\\n                                                                                                                                                                                                                                                                                                                             1\n\\newpage \\n\\n\\noindent BECA / Huson / 11.1 IB Math SL \\hspace{2in} Name:\\\\*\\n6 November 2017\\n\\begin{center}\\n{\\Large Review: Exponents and radicals (challenge)}\\\\*\\n\\textit{Do these problems without a calculator. Answer the first page on loose leaf paper.}\\n\\end{center}\\n\\n%\\vspace{0.2 cm}\\nSimplify, leaving no negative or fractional exponents.\\n\\n              1\n    \\newpage\\n    \\n                                                                                                                                                                                                                                                                                                                                                         1\n\\newpage\\n\\nSimplify\\n\\n                                                                                                                                                                                                                                                                                                                                                     1\n\\newpage\\n\\n\\n\\nSimplify, leaving no negative or fractional exponents.\\n\\n\\n\\n                                                                                                                                                                                                                                                                                               1\n\\newpage\\n    \\n\\n                                                                                                                                                                                                                                                                                                                                                           1\n\\newpage\\nUse pencil for graphs. Label each function with its name or equation. \\n                                                                                                                                                                                                                                                                                           1\n  \\newpage\\n\\n                                                                                                                                                                                                                                                                                                                                                               1\n\\newpage\\n\\noindent BECA / Huson / 11.1 IB Math SL \\hspace{2in} Name:\\\\*\\n29 November 2017\\n\\begin{center}\\n{\\Large Trimester Exam: Function operations, quadratics, exponentials}\\\\\\n\\textit{Answer separately on lined paper unless otherwise instructed.}\\n\\end{center}\\n\\n%\\vspace{0.2 cm}\\n                                                                             1\nName: question, dtype: int64"
     },
     "metadata": {},
     "execution_count": 13
    }
   ],
   "source": [
    "#problem_df.kind.value_counts()\n",
    "problem_df[problem_df.kind == 'newpage'].question.value_counts()"
   ]
  },
  {
   "cell_type": "code",
   "execution_count": 17,
   "metadata": {},
   "outputs": [
    {
     "output_type": "execute_result",
     "data": {
      "text/plain": "                          unit           filename  problem_count  \\\nproblem_set_ID                                                     \n0               01-Measurement  1-1DN_Algebra.tex              8   \n\n                             problem_IDs  \\\nproblem_set_ID                             \n0               [0, 1, 2, 3, 4, 5, 6, 7]   \n\n                                                    problems_list  \\\nproblem_set_ID                                                      \n0               [In the following two problems, solve for the ...   \n\n                                                     problem_kind  \\\nproblem_set_ID                                                      \n0               [question, question, question, question, quest...   \n\n                                                             head  \\\nproblem_set_ID                                                      \n0               ['\\\\begin{document}\\n', '\\\\subsubsection*{1-1 ...   \n\n                                                             body  \nproblem_set_ID                                                     \n0               [\\n, \\n,   \\item In the following two problems...  ",
      "text/html": "<div>\n<style scoped>\n    .dataframe tbody tr th:only-of-type {\n        vertical-align: middle;\n    }\n\n    .dataframe tbody tr th {\n        vertical-align: top;\n    }\n\n    .dataframe thead th {\n        text-align: right;\n    }\n</style>\n<table border=\"1\" class=\"dataframe\">\n  <thead>\n    <tr style=\"text-align: right;\">\n      <th></th>\n      <th>unit</th>\n      <th>filename</th>\n      <th>problem_count</th>\n      <th>problem_IDs</th>\n      <th>problems_list</th>\n      <th>problem_kind</th>\n      <th>head</th>\n      <th>body</th>\n    </tr>\n    <tr>\n      <th>problem_set_ID</th>\n      <th></th>\n      <th></th>\n      <th></th>\n      <th></th>\n      <th></th>\n      <th></th>\n      <th></th>\n      <th></th>\n    </tr>\n  </thead>\n  <tbody>\n    <tr>\n      <th>0</th>\n      <td>01-Measurement</td>\n      <td>1-1DN_Algebra.tex</td>\n      <td>8</td>\n      <td>[0, 1, 2, 3, 4, 5, 6, 7]</td>\n      <td>[In the following two problems, solve for the ...</td>\n      <td>[question, question, question, question, quest...</td>\n      <td>['\\\\begin{document}\\n', '\\\\subsubsection*{1-1 ...</td>\n      <td>[\\n, \\n,   \\item In the following two problems...</td>\n    </tr>\n  </tbody>\n</table>\n</div>"
     },
     "metadata": {},
     "execution_count": 17
    }
   ],
   "source": [
    "pset_df.loc[[0]]"
   ]
  },
  {
   "cell_type": "code",
   "execution_count": 21,
   "metadata": {},
   "outputs": [
    {
     "output_type": "execute_result",
     "data": {
      "text/plain": "                               filename            unit  \\\npset_ID                                                   \n1        1-2HW_Alg2_graphing-review.tex  01-Measurement   \n2         1-4HW_Precision+exponents.tex  01-Measurement   \n\n                                        path_plus_filename  \npset_ID                                                     \n1        /Users/chris/GitHub/course-files/IB2021/01-Mea...  \n2        /Users/chris/GitHub/course-files/IB2021/01-Mea...  ",
      "text/html": "<div>\n<style scoped>\n    .dataframe tbody tr th:only-of-type {\n        vertical-align: middle;\n    }\n\n    .dataframe tbody tr th {\n        vertical-align: top;\n    }\n\n    .dataframe thead th {\n        text-align: right;\n    }\n</style>\n<table border=\"1\" class=\"dataframe\">\n  <thead>\n    <tr style=\"text-align: right;\">\n      <th></th>\n      <th>filename</th>\n      <th>unit</th>\n      <th>path_plus_filename</th>\n    </tr>\n    <tr>\n      <th>pset_ID</th>\n      <th></th>\n      <th></th>\n      <th></th>\n    </tr>\n  </thead>\n  <tbody>\n    <tr>\n      <th>1</th>\n      <td>1-2HW_Alg2_graphing-review.tex</td>\n      <td>01-Measurement</td>\n      <td>/Users/chris/GitHub/course-files/IB2021/01-Mea...</td>\n    </tr>\n    <tr>\n      <th>2</th>\n      <td>1-4HW_Precision+exponents.tex</td>\n      <td>01-Measurement</td>\n      <td>/Users/chris/GitHub/course-files/IB2021/01-Mea...</td>\n    </tr>\n  </tbody>\n</table>\n</div>"
     },
     "metadata": {},
     "execution_count": 21
    }
   ],
   "source": [
    "build_pset_df_tex(pset_df.loc[[1,2]], problem_df, course_dir='/Users/chris/GitHub/course-files/IB2021/')"
   ]
  },
  {
   "cell_type": "code",
   "execution_count": 23,
   "metadata": {},
   "outputs": [],
   "source": [
    "build_pset_df_pdf(pset_df.loc[[1]], problem_df, course_dir='/Users/chris/GitHub/course-files/IB2021/')"
   ]
  },
  {
   "cell_type": "code",
   "execution_count": 28,
   "metadata": {},
   "outputs": [
    {
     "output_type": "execute_result",
     "data": {
      "text/plain": "problem_ID\n11                    $-9= \\frac{3}{4}x$ \\vspace{3cm}\\n\n12             $\\frac{2}{3}(3x-6)=-2x$ \\vspace{3cm}\\n\\n\n13    \\newpage\\nWhat is the slope and $y$-intercept ...\n14                               \\begin{multicols}{2}\\n\n15                                      $y=-3.4x-1.8$\\n\n16                                          $5x+2y=8$\\n\n17      \\end{multicols} \\vspace{3cm}\\n\\nUse pencil f...\n18    Given the function $f(x)=\\frac{2}{5}x-5$.\\n\\be...\n19                                         \\newpage\\n\\n\n20    Explain why the radical $\\sqrt[3]{5^2}$ is equ...\nName: question, dtype: object"
     },
     "metadata": {},
     "execution_count": 28
    }
   ],
   "source": [
    "problem_df.loc[11:20, \"question\"]"
   ]
  },
  {
   "cell_type": "code",
   "execution_count": 24,
   "metadata": {},
   "outputs": [
    {
     "output_type": "execute_result",
     "data": {
      "text/plain": [
       "31"
      ]
     },
     "metadata": {},
     "execution_count": 24
    }
   ],
   "source": [
    "list(range(36,67))"
   ]
  },
  {
   "cell_type": "code",
   "execution_count": 28,
   "metadata": {},
   "outputs": [
    {
     "output_type": "execute_result",
     "data": {
      "text/plain": [
       "                      unit              filename  problem_count  \\\n",
       "problem_set_ID                                                    \n",
       "3               02-Trig+3D   1-16ENQuiz_trig.tex              3   \n",
       "4               02-Trig+3D  1-20PreExam_trig.tex             13   \n",
       "5               02-Trig+3D     1-21Exam_trig.tex             15   \n",
       "\n",
       "                                                      problem_IDs  \\\n",
       "problem_set_ID                                                      \n",
       "3                                                    [36, 37, 38]   \n",
       "4               [39, 40, 41, 42, 43, 44, 45, 46, 47, 48, 49, 5...   \n",
       "5               [52, 53, 54, 55, 56, 57, 58, 59, 60, 61, 62, 6...   \n",
       "\n",
       "                                                    problems_list  \\\n",
       "problem_set_ID                                                      \n",
       "3               [Solve the given triangle (determine the value...   \n",
       "4               [Express each value as a decimal, first writin...   \n",
       "5               [Express each value as a decimal, first writin...   \n",
       "\n",
       "                                                     problem_kind  \\\n",
       "problem_set_ID                                                      \n",
       "3                                  [question, question, question]   \n",
       "4               [question, question, question, question, quest...   \n",
       "5               [question, question, question, question, quest...   \n",
       "\n",
       "                                                             head  \\\n",
       "problem_set_ID                                                      \n",
       "3               ['\\\\begin{document}\\n', '\\\\subsubsection*{1.16...   \n",
       "4               ['\\\\begin{document}\\n', '\\\\subsubsection*{1.20...   \n",
       "5               ['\\\\begin{document}\\n', '\\\\subsubsection*{1.21...   \n",
       "\n",
       "                                                             body  \n",
       "problem_set_ID                                                     \n",
       "3               [\\n,   \\item Solve the given triangle (determi...  \n",
       "4               [\\n,   \\item Express each value as a decimal, ...  \n",
       "5               [\\n,   \\item Express each value as a decimal, ...  "
      ],
      "text/html": "<div>\n<style scoped>\n    .dataframe tbody tr th:only-of-type {\n        vertical-align: middle;\n    }\n\n    .dataframe tbody tr th {\n        vertical-align: top;\n    }\n\n    .dataframe thead th {\n        text-align: right;\n    }\n</style>\n<table border=\"1\" class=\"dataframe\">\n  <thead>\n    <tr style=\"text-align: right;\">\n      <th></th>\n      <th>unit</th>\n      <th>filename</th>\n      <th>problem_count</th>\n      <th>problem_IDs</th>\n      <th>problems_list</th>\n      <th>problem_kind</th>\n      <th>head</th>\n      <th>body</th>\n    </tr>\n    <tr>\n      <th>problem_set_ID</th>\n      <th></th>\n      <th></th>\n      <th></th>\n      <th></th>\n      <th></th>\n      <th></th>\n      <th></th>\n      <th></th>\n    </tr>\n  </thead>\n  <tbody>\n    <tr>\n      <th>3</th>\n      <td>02-Trig+3D</td>\n      <td>1-16ENQuiz_trig.tex</td>\n      <td>3</td>\n      <td>[36, 37, 38]</td>\n      <td>[Solve the given triangle (determine the value...</td>\n      <td>[question, question, question]</td>\n      <td>['\\\\begin{document}\\n', '\\\\subsubsection*{1.16...</td>\n      <td>[\\n,   \\item Solve the given triangle (determi...</td>\n    </tr>\n    <tr>\n      <th>4</th>\n      <td>02-Trig+3D</td>\n      <td>1-20PreExam_trig.tex</td>\n      <td>13</td>\n      <td>[39, 40, 41, 42, 43, 44, 45, 46, 47, 48, 49, 5...</td>\n      <td>[Express each value as a decimal, first writin...</td>\n      <td>[question, question, question, question, quest...</td>\n      <td>['\\\\begin{document}\\n', '\\\\subsubsection*{1.20...</td>\n      <td>[\\n,   \\item Express each value as a decimal, ...</td>\n    </tr>\n    <tr>\n      <th>5</th>\n      <td>02-Trig+3D</td>\n      <td>1-21Exam_trig.tex</td>\n      <td>15</td>\n      <td>[52, 53, 54, 55, 56, 57, 58, 59, 60, 61, 62, 6...</td>\n      <td>[Express each value as a decimal, first writin...</td>\n      <td>[question, question, question, question, quest...</td>\n      <td>['\\\\begin{document}\\n', '\\\\subsubsection*{1.21...</td>\n      <td>[\\n,   \\item Express each value as a decimal, ...</td>\n    </tr>\n  </tbody>\n</table>\n</div>"
     },
     "metadata": {},
     "execution_count": 28
    }
   ],
   "source": [
    "pset_df.loc[pset_df.unit.str.startswith('02')]"
   ]
  },
  {
   "cell_type": "code",
   "execution_count": 42,
   "metadata": {},
   "outputs": [],
   "source": [
    "trig_pset_df = pd.DataFrame({'unit':['tmp_trig'], 'filename':['trig_unit.tex'], 'problem_IDs':[list(range(36,67))]})"
   ]
  },
  {
   "cell_type": "code",
   "execution_count": 43,
   "metadata": {},
   "outputs": [
    {
     "output_type": "execute_result",
     "data": {
      "text/plain": [
       "       unit       filename                                        problem_IDs\n",
       "0  tmp_trig  trig_unit.tex  [36, 37, 38, 39, 40, 41, 42, 43, 44, 45, 46, 4..."
      ],
      "text/html": "<div>\n<style scoped>\n    .dataframe tbody tr th:only-of-type {\n        vertical-align: middle;\n    }\n\n    .dataframe tbody tr th {\n        vertical-align: top;\n    }\n\n    .dataframe thead th {\n        text-align: right;\n    }\n</style>\n<table border=\"1\" class=\"dataframe\">\n  <thead>\n    <tr style=\"text-align: right;\">\n      <th></th>\n      <th>unit</th>\n      <th>filename</th>\n      <th>problem_IDs</th>\n    </tr>\n  </thead>\n  <tbody>\n    <tr>\n      <th>0</th>\n      <td>tmp_trig</td>\n      <td>trig_unit.tex</td>\n      <td>[36, 37, 38, 39, 40, 41, 42, 43, 44, 45, 46, 4...</td>\n    </tr>\n  </tbody>\n</table>\n</div>"
     },
     "metadata": {},
     "execution_count": 43
    }
   ],
   "source": [
    "trig_pset_df"
   ]
  },
  {
   "cell_type": "code",
   "execution_count": 44,
   "metadata": {},
   "outputs": [
    {
     "output_type": "execute_result",
     "data": {
      "text/plain": [
       "              filename      unit  \\\n",
       "pset_ID                            \n",
       "0        trig_unit.tex  tmp_trig   \n",
       "\n",
       "                                        path_plus_filename  \n",
       "pset_ID                                                     \n",
       "0        /Users/chris/GitHub/course-files/IB2021/tmp_tr...  "
      ],
      "text/html": "<div>\n<style scoped>\n    .dataframe tbody tr th:only-of-type {\n        vertical-align: middle;\n    }\n\n    .dataframe tbody tr th {\n        vertical-align: top;\n    }\n\n    .dataframe thead th {\n        text-align: right;\n    }\n</style>\n<table border=\"1\" class=\"dataframe\">\n  <thead>\n    <tr style=\"text-align: right;\">\n      <th></th>\n      <th>filename</th>\n      <th>unit</th>\n      <th>path_plus_filename</th>\n    </tr>\n    <tr>\n      <th>pset_ID</th>\n      <th></th>\n      <th></th>\n      <th></th>\n    </tr>\n  </thead>\n  <tbody>\n    <tr>\n      <th>0</th>\n      <td>trig_unit.tex</td>\n      <td>tmp_trig</td>\n      <td>/Users/chris/GitHub/course-files/IB2021/tmp_tr...</td>\n    </tr>\n  </tbody>\n</table>\n</div>"
     },
     "metadata": {},
     "execution_count": 44
    }
   ],
   "source": [
    "build_pset_df_tex(trig_pset_df, problem_df, course_dir='/Users/chris/GitHub/course-files/IB2021/')"
   ]
  },
  {
   "cell_type": "code",
   "execution_count": 45,
   "metadata": {},
   "outputs": [],
   "source": [
    "build_pset_df_pdf(trig_pset_df, problem_df, course_dir='/Users/chris/GitHub/course-files/IB2021/')"
   ]
  },
  {
   "cell_type": "code",
   "execution_count": 46,
   "metadata": {},
   "outputs": [],
   "source": [
    "title = ('build-problem-df', 'p_IDs: 36-66', 'filename trig-unit.tex')"
   ]
  },
  {
   "cell_type": "code",
   "execution_count": 47,
   "metadata": {},
   "outputs": [],
   "source": [
    "build_problem_df_tex(problem_df.loc[36:67], title=title, path_plus_filename='/Users/chris/GitHub/course-files/IB2021/tmp_trig/trig_unit.tex')"
   ]
  },
  {
   "cell_type": "code",
   "execution_count": null,
   "metadata": {},
   "outputs": [],
   "source": []
  },
  {
   "cell_type": "code",
   "execution_count": null,
   "metadata": {},
   "outputs": [],
   "source": []
  },
  {
   "source": [
    "## Required for pgf plots\n",
    "### in code: \\\\\n",
    "    \\usepackage{pgfplots}\n",
    "    \\pgfplotsset{width=10cm,compat=1.9}\n",
    "    \\usepgfplotslibrary{statistics}\n",
    "    \\usepackage{pgfplotstable}\n",
    "\n",
    "### Search for: \\\\\n",
    "    \\begin{axis}[\n",
    "\n",
    "### Files:\n",
    " 06-Bivariates/2-16DN\n",
    "\n",
    " note also: \\usepackage{venndiagram}\n",
    " ### tkz-fct problems won't run. \n",
    " Search for tkzInit or tkzFct"
   ],
   "cell_type": "code",
   "metadata": {},
   "execution_count": 6,
   "outputs": [
    {
     "output_type": "error",
     "ename": "IndentationError",
     "evalue": "unexpected indent (<ipython-input-6-82d3ab243769>, line 3)",
     "traceback": [
      "\u001b[0;36m  File \u001b[0;32m\"<ipython-input-6-82d3ab243769>\"\u001b[0;36m, line \u001b[0;32m3\u001b[0m\n\u001b[0;31m    \\usepackage{pgfplots}\u001b[0m\n\u001b[0m    ^\u001b[0m\n\u001b[0;31mIndentationError\u001b[0m\u001b[0;31m:\u001b[0m unexpected indent\n"
     ]
    }
   ]
  }
 ]
}