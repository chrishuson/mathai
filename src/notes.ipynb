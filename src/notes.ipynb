{
 "metadata": {
  "language_info": {
   "codemirror_mode": {
    "name": "ipython",
    "version": 3
   },
   "file_extension": ".py",
   "mimetype": "text/x-python",
   "name": "python",
   "nbconvert_exporter": "python",
   "pygments_lexer": "ipython3",
   "version": "3.7.6-final"
  },
  "orig_nbformat": 2,
  "kernelspec": {
   "name": "python_defaultSpec_1597931294362",
   "display_name": "Python 3.7.6 64-bit ('base': conda)"
  }
 },
 "nbformat": 4,
 "nbformat_minor": 2,
 "cells": [
  {
   "cell_type": "code",
   "execution_count": 1,
   "metadata": {
    "tags": []
   },
   "outputs": [
    {
     "output_type": "execute_result",
     "data": {
      "text/plain": "'/Users/chris/GitHub/mathai/src'"
     },
     "metadata": {},
     "execution_count": 1
    }
   ],
   "source": [
    "import os\n",
    "import sys\n",
    "import pandas as pd\n",
    "import numpy as np\n",
    "from ast import literal_eval\n",
    "\n",
    "os.getcwd()"
   ]
  },
  {
   "cell_type": "code",
   "execution_count": 30,
   "metadata": {
    "tags": []
   },
   "outputs": [],
   "source": [
    "from main import print_problems_df"
   ]
  },
  {
   "cell_type": "code",
   "execution_count": 2,
   "metadata": {
    "tags": []
   },
   "outputs": [
    {
     "output_type": "stream",
     "name": "stdout",
     "text": "Loaded dataframes: \nworksheet_files_df:\n index name:  None \ncolumns:  Index(['Unnamed: 0', 'unit', 'file_count', 'filename'], dtype='object') \n149 rows:  149 \n\nproblem_sets_df:\n index name:  problem_set_ID \ncolumns:  Index(['filename', 'head', 'body', 'problems_list', 'problem_count',\n       'problem_IDs'],\n      dtype='object') \n149 rows:  149 \n\nproblems_df:\n index name:  problem_ID \ncolumns:  Index(['problem_set_ID', 'question'], dtype='object') \n1855 rows:  1855 \n\nstandards_df:\n index name:  None \ncolumns:  Index(['course', 'chapter', 'topic', 'ccss_ID'], dtype='object') \n314 rows:  314 \n\nstandards_desc_df:\n index name:  ccss_ID \ncolumns:  Index(['description'], dtype='object') \n131 rows:  131 \n\n"
    }
   ],
   "source": [
    "from main import map_course_files\n",
    "from main import parse_course_files\n",
    "from main import parse_problem_sets"
   ]
  },
  {
   "cell_type": "markdown",
   "metadata": {},
   "source": [
    "## saving and loading problem and problem set dataframes"
   ]
  },
  {
   "cell_type": "code",
   "execution_count": 31,
   "metadata": {},
   "outputs": [],
   "source": [
    "problem_df.to_csv('/Users/chris/GitHub/mathai/db/problem_df.csv')\n",
    "pset_df.to_csv('/Users/chris/GitHub/mathai/db/pset_df.csv')"
   ]
  },
  {
   "cell_type": "code",
   "execution_count": 2,
   "metadata": {
    "tags": []
   },
   "outputs": [
    {
     "output_type": "stream",
     "name": "stdout",
     "text": "problem_df:  2107 problem_ID Index(['problem_set_ID', 'question', 'q_len', 'file'], dtype='object')\nnewpage_df:  513 problem_ID Index(['problem_set_ID', 'question', 'q_len', 'file'], dtype='object')\npset_df:  172 problem_set_ID Index(['filename', 'head', 'body', 'problems_list', 'problem_count', 'path',\n       'unit', 'file'],\n      dtype='object')\nmulticol_error_pset_df:  38\n"
    }
   ],
   "source": [
    "problem_df = pd.read_csv('../db/problem_df.csv', index_col='problem_ID')\n",
    "cols_into_lists = {'problem_IDs':literal_eval, 'head':literal_eval, 'body':literal_eval, 'problems_list':literal_eval}\n",
    "pset_df = pd.read_csv('../db/pset_df.csv', index_col='problem_set_ID', converters=cols_into_lists)\n",
    "print('problem_df: ', len(problem_df), problem_df.index.name, problem_df.columns)\n",
    "print('newpage_df: ', len(newpage_df), newpage_df.index.name, newpage_df.columns)\n",
    "print('pset_df: ', len(pset_df), pset_df.index.name, pset_df.columns)\n",
    "print('multicol_error_pset_df: ', len(multicol_error_pset_df))"
   ]
  },
  {
   "cell_type": "markdown",
   "metadata": {},
   "source": [
    "## Printing Problem Sets"
   ]
  },
  {
   "cell_type": "code",
   "execution_count": 39,
   "metadata": {},
   "outputs": [],
   "source": [
    "title = ('file is complete-problem-df.tex', '20 August 2020', 'Complete problems df')\n",
    "df = problem_df[problem_df.file.str.startswith('1-1')].sort_index()\n",
    "print_problems_df(df, filename='starts-w-one-df', title=title)"
   ]
  },
  {
   "cell_type": "markdown",
   "metadata": {},
   "source": [
    "## Fix issue with item prefix for new lines, stop trimming \\item prefix from problem question text"
   ]
  },
  {
   "cell_type": "code",
   "execution_count": 95,
   "metadata": {},
   "outputs": [],
   "source": [
    "print_list = [0, 1, 2]\n",
    "for pset in print_list:\n",
    "    title = ('file is 1-temp-' + str(pset), '17 August 2020', 'Test run of print unit')\n",
    "    df = problem_df[problem_df.problem_set_ID == pset].sort_index()\n",
    "    print_problems_df(df, filename='1-temp-' + str(pset), title=title)"
   ]
  },
  {
   "cell_type": "markdown",
   "metadata": {},
   "source": [
    "## Reinitialize dfs from course files"
   ]
  },
  {
   "cell_type": "code",
   "execution_count": 3,
   "metadata": {
    "tags": []
   },
   "outputs": [
    {
     "output_type": "stream",
     "name": "stdout",
     "text": "dict len, type:  13 <class 'dict'> \n df len:  208 \n\n"
    },
    {
     "output_type": "execute_result",
     "data": {
      "text/plain": "array(['01-Intro', '02-Midpoint+distance', '03-Volume+angle-bisectors',\n       '04-Transversals', '05-Transformations', '06-Analytic-geometry',\n       '07-Similarity', '08-Area+volume', '09-Congruence-transformations',\n       '10-Trig+similarity+analytics', '11-Algebra2-intro', 'Slides',\n       'Trajectories'], dtype=object)"
     },
     "metadata": {},
     "execution_count": 3
    }
   ],
   "source": [
    "course_files, course_file_df = map_course_files(course_dir='/Users/chris/GitHub/course-files/Geom')\n",
    "print('dict len, type: ', len(course_files), type(course_files), '\\n df len: ', len(course_file_df), '\\n')\n",
    "course_file_df.unit.unique()"
   ]
  },
  {
   "cell_type": "code",
   "execution_count": 4,
   "metadata": {},
   "outputs": [
    {
     "output_type": "execute_result",
     "data": {
      "text/plain": "                             unit  file_count                       filename\n0                        01-Intro          16          1-1CW_Measurement.tex\n1                        01-Intro          16      1-1DNQ_Distance+slope.tex\n2                        01-Intro          16              1-1DN_Algebra.tex\n3                        01-Intro          16              1-1HW_Algebra.tex\n4                        01-Intro          16  1-3DN_Function-intercepts.tex\n..                            ...         ...                            ...\n167  10-Trig+similarity+analytics           7    10-2DN_Analytics-review.tex\n168  10-Trig+similarity+analytics           7   10-2bDN_Analytics-review.tex\n169  10-Trig+similarity+analytics           7  10-4DN_Tangent-situations.tex\n170  10-Trig+similarity+analytics           7   10-4bDN_Analytics-review.tex\n171  10-Trig+similarity+analytics           7  10-6DN_Tangent-situations.tex\n\n[172 rows x 3 columns]",
      "text/html": "<div>\n<style scoped>\n    .dataframe tbody tr th:only-of-type {\n        vertical-align: middle;\n    }\n\n    .dataframe tbody tr th {\n        vertical-align: top;\n    }\n\n    .dataframe thead th {\n        text-align: right;\n    }\n</style>\n<table border=\"1\" class=\"dataframe\">\n  <thead>\n    <tr style=\"text-align: right;\">\n      <th></th>\n      <th>unit</th>\n      <th>file_count</th>\n      <th>filename</th>\n    </tr>\n  </thead>\n  <tbody>\n    <tr>\n      <th>0</th>\n      <td>01-Intro</td>\n      <td>16</td>\n      <td>1-1CW_Measurement.tex</td>\n    </tr>\n    <tr>\n      <th>1</th>\n      <td>01-Intro</td>\n      <td>16</td>\n      <td>1-1DNQ_Distance+slope.tex</td>\n    </tr>\n    <tr>\n      <th>2</th>\n      <td>01-Intro</td>\n      <td>16</td>\n      <td>1-1DN_Algebra.tex</td>\n    </tr>\n    <tr>\n      <th>3</th>\n      <td>01-Intro</td>\n      <td>16</td>\n      <td>1-1HW_Algebra.tex</td>\n    </tr>\n    <tr>\n      <th>4</th>\n      <td>01-Intro</td>\n      <td>16</td>\n      <td>1-3DN_Function-intercepts.tex</td>\n    </tr>\n    <tr>\n      <th>...</th>\n      <td>...</td>\n      <td>...</td>\n      <td>...</td>\n    </tr>\n    <tr>\n      <th>167</th>\n      <td>10-Trig+similarity+analytics</td>\n      <td>7</td>\n      <td>10-2DN_Analytics-review.tex</td>\n    </tr>\n    <tr>\n      <th>168</th>\n      <td>10-Trig+similarity+analytics</td>\n      <td>7</td>\n      <td>10-2bDN_Analytics-review.tex</td>\n    </tr>\n    <tr>\n      <th>169</th>\n      <td>10-Trig+similarity+analytics</td>\n      <td>7</td>\n      <td>10-4DN_Tangent-situations.tex</td>\n    </tr>\n    <tr>\n      <th>170</th>\n      <td>10-Trig+similarity+analytics</td>\n      <td>7</td>\n      <td>10-4bDN_Analytics-review.tex</td>\n    </tr>\n    <tr>\n      <th>171</th>\n      <td>10-Trig+similarity+analytics</td>\n      <td>7</td>\n      <td>10-6DN_Tangent-situations.tex</td>\n    </tr>\n  </tbody>\n</table>\n<p>172 rows × 3 columns</p>\n</div>"
     },
     "metadata": {},
     "execution_count": 4
    }
   ],
   "source": [
    "drop_units = ['11-Algebra2-intro', 'Slides', 'Trajectories']\n",
    "for unit in drop_units:\n",
    "    course_file_df.drop(course_file_df[course_file_df.unit == unit].index, inplace=True)\n",
    "#course_file_df"
   ]
  },
  {
   "cell_type": "code",
   "execution_count": 17,
   "metadata": {
    "tags": []
   },
   "outputs": [
    {
     "output_type": "execute_result",
     "data": {
      "text/plain": "                                                         filename  \\\nproblem_set_ID                                                      \n0               /Users/chris/GitHub/course-files/Geom/01-Intro...   \n1               /Users/chris/GitHub/course-files/Geom/01-Intro...   \n2               /Users/chris/GitHub/course-files/Geom/01-Intro...   \n3               /Users/chris/GitHub/course-files/Geom/01-Intro...   \n4               /Users/chris/GitHub/course-files/Geom/01-Intro...   \n...                                                           ...   \n167             /Users/chris/GitHub/course-files/Geom/10-Trig+...   \n168             /Users/chris/GitHub/course-files/Geom/10-Trig+...   \n169             /Users/chris/GitHub/course-files/Geom/10-Trig+...   \n170             /Users/chris/GitHub/course-files/Geom/10-Trig+...   \n171             /Users/chris/GitHub/course-files/Geom/10-Trig+...   \n\n                                                             head  \\\nproblem_set_ID                                                      \n0               [\\begin{document}\\n, \\subsubsection*{1-1 Class...   \n1               [\\begin{document}\\n, \\subsubsection*{0.1 Quiz:...   \n2               [\\begin{document}\\n, \\subsubsection*{1-1 Do No...   \n3               [\\begin{document}\\n, \\subsubsection*{1-1 Homew...   \n4               [\\begin{document}\\n, \\subsubsection*{1-3 Do No...   \n...                                                           ...   \n167             [\\begin{document}\\n, \\subsubsection*{10.3 Do N...   \n168             [\\begin{document}\\n, \\subsubsection*{10.3b Do ...   \n169             [\\begin{document}\\n, \\subsubsection*{10.4 Do N...   \n170             [\\begin{document}\\n, \\subsubsection*{10.4b Do ...   \n171             [\\begin{document}\\n, \\subsubsection*{10.6 Clas...   \n\n                                                             body  \\\nproblem_set_ID                                                      \n0               [\\n,   \\item Given the line segment $\\overline...   \n1               [\\n,   \\item Write down the slope and $y$-inte...   \n2               [\\n, \\n,   \\item In the following two problems...   \n3               [\\n, \\n,   \\item In the following two problems...   \n4               [  \\item I have a compass, ruler, protractor, ...   \n...                                                           ...   \n167             [\\n, \\n,   \\item Write down the slope perpendi...   \n168             [\\n,   \\item Write down the slope parallel or ...   \n169             [\\n,   \\item Write down the slope perpendicula...   \n170             [\\n,   \\item Write down the slope parallel or ...   \n171             [\\n,   \\item Write down the slope perpendicula...   \n\n                                                    problems_list  \\\nproblem_set_ID                                                      \n0               [Given the line segment $\\overline{PQ}$ shown ...   \n1               [Write down the slope and $y$-intercept of eac...   \n2               [In the following two problems, solve for the ...   \n3               [In the following two problems, solve for the ...   \n4               [I have a compass, ruler, protractor, notebook...   \n...                                                           ...   \n167             [Write down the slope perpendicular to the giv...   \n168             [Write down the slope parallel or perpendicula...   \n169             [Write down the slope perpendicular to the giv...   \n170             [Write down the slope parallel or perpendicula...   \n171             [Write down the slope perpendicular to the giv...   \n\n                problem_count                                   path  \\\nproblem_set_ID                                                         \n0                           8  /Users/chris/GitHub/course-files/Geom   \n1                           4  /Users/chris/GitHub/course-files/Geom   \n2                           7  /Users/chris/GitHub/course-files/Geom   \n3                           8  /Users/chris/GitHub/course-files/Geom   \n4                           6  /Users/chris/GitHub/course-files/Geom   \n...                       ...                                    ...   \n167                         9  /Users/chris/GitHub/course-files/Geom   \n168                        13  /Users/chris/GitHub/course-files/Geom   \n169                         8  /Users/chris/GitHub/course-files/Geom   \n170                        13  /Users/chris/GitHub/course-files/Geom   \n171                         8  /Users/chris/GitHub/course-files/Geom   \n\n                                        unit                           file  \nproblem_set_ID                                                               \n0                                   01-Intro          1-1CW_Measurement.tex  \n1                                   01-Intro      1-1DNQ_Distance+slope.tex  \n2                                   01-Intro              1-1DN_Algebra.tex  \n3                                   01-Intro              1-1HW_Algebra.tex  \n4                                   01-Intro  1-3DN_Function-intercepts.tex  \n...                                      ...                            ...  \n167             10-Trig+similarity+analytics    10-2DN_Analytics-review.tex  \n168             10-Trig+similarity+analytics   10-2bDN_Analytics-review.tex  \n169             10-Trig+similarity+analytics  10-4DN_Tangent-situations.tex  \n170             10-Trig+similarity+analytics   10-4bDN_Analytics-review.tex  \n171             10-Trig+similarity+analytics  10-6DN_Tangent-situations.tex  \n\n[172 rows x 8 columns]",
      "text/html": "<div>\n<style scoped>\n    .dataframe tbody tr th:only-of-type {\n        vertical-align: middle;\n    }\n\n    .dataframe tbody tr th {\n        vertical-align: top;\n    }\n\n    .dataframe thead th {\n        text-align: right;\n    }\n</style>\n<table border=\"1\" class=\"dataframe\">\n  <thead>\n    <tr style=\"text-align: right;\">\n      <th></th>\n      <th>filename</th>\n      <th>head</th>\n      <th>body</th>\n      <th>problems_list</th>\n      <th>problem_count</th>\n      <th>path</th>\n      <th>unit</th>\n      <th>file</th>\n    </tr>\n    <tr>\n      <th>problem_set_ID</th>\n      <th></th>\n      <th></th>\n      <th></th>\n      <th></th>\n      <th></th>\n      <th></th>\n      <th></th>\n      <th></th>\n    </tr>\n  </thead>\n  <tbody>\n    <tr>\n      <th>0</th>\n      <td>/Users/chris/GitHub/course-files/Geom/01-Intro...</td>\n      <td>[\\begin{document}\\n, \\subsubsection*{1-1 Class...</td>\n      <td>[\\n,   \\item Given the line segment $\\overline...</td>\n      <td>[Given the line segment $\\overline{PQ}$ shown ...</td>\n      <td>8</td>\n      <td>/Users/chris/GitHub/course-files/Geom</td>\n      <td>01-Intro</td>\n      <td>1-1CW_Measurement.tex</td>\n    </tr>\n    <tr>\n      <th>1</th>\n      <td>/Users/chris/GitHub/course-files/Geom/01-Intro...</td>\n      <td>[\\begin{document}\\n, \\subsubsection*{0.1 Quiz:...</td>\n      <td>[\\n,   \\item Write down the slope and $y$-inte...</td>\n      <td>[Write down the slope and $y$-intercept of eac...</td>\n      <td>4</td>\n      <td>/Users/chris/GitHub/course-files/Geom</td>\n      <td>01-Intro</td>\n      <td>1-1DNQ_Distance+slope.tex</td>\n    </tr>\n    <tr>\n      <th>2</th>\n      <td>/Users/chris/GitHub/course-files/Geom/01-Intro...</td>\n      <td>[\\begin{document}\\n, \\subsubsection*{1-1 Do No...</td>\n      <td>[\\n, \\n,   \\item In the following two problems...</td>\n      <td>[In the following two problems, solve for the ...</td>\n      <td>7</td>\n      <td>/Users/chris/GitHub/course-files/Geom</td>\n      <td>01-Intro</td>\n      <td>1-1DN_Algebra.tex</td>\n    </tr>\n    <tr>\n      <th>3</th>\n      <td>/Users/chris/GitHub/course-files/Geom/01-Intro...</td>\n      <td>[\\begin{document}\\n, \\subsubsection*{1-1 Homew...</td>\n      <td>[\\n, \\n,   \\item In the following two problems...</td>\n      <td>[In the following two problems, solve for the ...</td>\n      <td>8</td>\n      <td>/Users/chris/GitHub/course-files/Geom</td>\n      <td>01-Intro</td>\n      <td>1-1HW_Algebra.tex</td>\n    </tr>\n    <tr>\n      <th>4</th>\n      <td>/Users/chris/GitHub/course-files/Geom/01-Intro...</td>\n      <td>[\\begin{document}\\n, \\subsubsection*{1-3 Do No...</td>\n      <td>[  \\item I have a compass, ruler, protractor, ...</td>\n      <td>[I have a compass, ruler, protractor, notebook...</td>\n      <td>6</td>\n      <td>/Users/chris/GitHub/course-files/Geom</td>\n      <td>01-Intro</td>\n      <td>1-3DN_Function-intercepts.tex</td>\n    </tr>\n    <tr>\n      <th>...</th>\n      <td>...</td>\n      <td>...</td>\n      <td>...</td>\n      <td>...</td>\n      <td>...</td>\n      <td>...</td>\n      <td>...</td>\n      <td>...</td>\n    </tr>\n    <tr>\n      <th>167</th>\n      <td>/Users/chris/GitHub/course-files/Geom/10-Trig+...</td>\n      <td>[\\begin{document}\\n, \\subsubsection*{10.3 Do N...</td>\n      <td>[\\n, \\n,   \\item Write down the slope perpendi...</td>\n      <td>[Write down the slope perpendicular to the giv...</td>\n      <td>9</td>\n      <td>/Users/chris/GitHub/course-files/Geom</td>\n      <td>10-Trig+similarity+analytics</td>\n      <td>10-2DN_Analytics-review.tex</td>\n    </tr>\n    <tr>\n      <th>168</th>\n      <td>/Users/chris/GitHub/course-files/Geom/10-Trig+...</td>\n      <td>[\\begin{document}\\n, \\subsubsection*{10.3b Do ...</td>\n      <td>[\\n,   \\item Write down the slope parallel or ...</td>\n      <td>[Write down the slope parallel or perpendicula...</td>\n      <td>13</td>\n      <td>/Users/chris/GitHub/course-files/Geom</td>\n      <td>10-Trig+similarity+analytics</td>\n      <td>10-2bDN_Analytics-review.tex</td>\n    </tr>\n    <tr>\n      <th>169</th>\n      <td>/Users/chris/GitHub/course-files/Geom/10-Trig+...</td>\n      <td>[\\begin{document}\\n, \\subsubsection*{10.4 Do N...</td>\n      <td>[\\n,   \\item Write down the slope perpendicula...</td>\n      <td>[Write down the slope perpendicular to the giv...</td>\n      <td>8</td>\n      <td>/Users/chris/GitHub/course-files/Geom</td>\n      <td>10-Trig+similarity+analytics</td>\n      <td>10-4DN_Tangent-situations.tex</td>\n    </tr>\n    <tr>\n      <th>170</th>\n      <td>/Users/chris/GitHub/course-files/Geom/10-Trig+...</td>\n      <td>[\\begin{document}\\n, \\subsubsection*{10.4b Do ...</td>\n      <td>[\\n,   \\item Write down the slope parallel or ...</td>\n      <td>[Write down the slope parallel or perpendicula...</td>\n      <td>13</td>\n      <td>/Users/chris/GitHub/course-files/Geom</td>\n      <td>10-Trig+similarity+analytics</td>\n      <td>10-4bDN_Analytics-review.tex</td>\n    </tr>\n    <tr>\n      <th>171</th>\n      <td>/Users/chris/GitHub/course-files/Geom/10-Trig+...</td>\n      <td>[\\begin{document}\\n, \\subsubsection*{10.6 Clas...</td>\n      <td>[\\n,   \\item Write down the slope perpendicula...</td>\n      <td>[Write down the slope perpendicular to the giv...</td>\n      <td>8</td>\n      <td>/Users/chris/GitHub/course-files/Geom</td>\n      <td>10-Trig+similarity+analytics</td>\n      <td>10-6DN_Tangent-situations.tex</td>\n    </tr>\n  </tbody>\n</table>\n<p>172 rows × 8 columns</p>\n</div>"
     },
     "metadata": {},
     "execution_count": 17
    }
   ],
   "source": [
    "pset_df = parse_course_files(course_file_df, course_dir='/Users/chris/GitHub/course-files/Geom')\n",
    "pset_df[['path', 'unit', 'file']] = pset_df.filename.str.rsplit('/', n=2, expand=True)\n",
    "new_cols = ['unit', 'file', 'problem_count', 'head', 'body', 'problems_list', 'path', 'filename']\n",
    "pset_df = pset_df.reindex(columns=new_cols)\n",
    "pset_df[pset_df.unit.str.startswith('01')]"
   ]
  },
  {
   "cell_type": "code",
   "execution_count": 19,
   "metadata": {},
   "outputs": [],
   "source": [
    "problem_df = parse_problem_sets(pset_df)\n",
    "problem_df['file'] = problem_df.problem_set_ID.apply(lambda x: pset_df.loc[x, 'file'])\n",
    "problem_df['q_len'] = problem_df.question.str.len()\n",
    "problem_df.sort_values('q_len', inplace=True)"
   ]
  },
  {
   "cell_type": "markdown",
   "metadata": {},
   "source": [
    "## Review problems"
   ]
  },
  {
   "cell_type": "code",
   "execution_count": 26,
   "metadata": {},
   "outputs": [
    {
     "output_type": "execute_result",
     "data": {
      "text/plain": "            problem_set_ID    question                                 file  \\\nproblem_ID                                                                    \n2248                   163  \\newpage\\n          9-9Exam-transformations.tex   \n2112                   155  \\newpage\\n  9-4CW_Triangle-congruence-proof.tex   \n1405                   100  \\newpage\\n            7-12DN_Transformation.tex   \n670                     52  \\newpage\\n           4-7DN_angle-situations.tex   \n1397                    99  \\newpage\\n          7-11bDN_Transformations.tex   \n\n            q_len  \nproblem_ID         \n2248            9  \n2112            9  \n1405            9  \n670             9  \n1397            9  ",
      "text/html": "<div>\n<style scoped>\n    .dataframe tbody tr th:only-of-type {\n        vertical-align: middle;\n    }\n\n    .dataframe tbody tr th {\n        vertical-align: top;\n    }\n\n    .dataframe thead th {\n        text-align: right;\n    }\n</style>\n<table border=\"1\" class=\"dataframe\">\n  <thead>\n    <tr style=\"text-align: right;\">\n      <th></th>\n      <th>problem_set_ID</th>\n      <th>question</th>\n      <th>file</th>\n      <th>q_len</th>\n    </tr>\n    <tr>\n      <th>problem_ID</th>\n      <th></th>\n      <th></th>\n      <th></th>\n      <th></th>\n    </tr>\n  </thead>\n  <tbody>\n    <tr>\n      <th>2248</th>\n      <td>163</td>\n      <td>\\newpage\\n</td>\n      <td>9-9Exam-transformations.tex</td>\n      <td>9</td>\n    </tr>\n    <tr>\n      <th>2112</th>\n      <td>155</td>\n      <td>\\newpage\\n</td>\n      <td>9-4CW_Triangle-congruence-proof.tex</td>\n      <td>9</td>\n    </tr>\n    <tr>\n      <th>1405</th>\n      <td>100</td>\n      <td>\\newpage\\n</td>\n      <td>7-12DN_Transformation.tex</td>\n      <td>9</td>\n    </tr>\n    <tr>\n      <th>670</th>\n      <td>52</td>\n      <td>\\newpage\\n</td>\n      <td>4-7DN_angle-situations.tex</td>\n      <td>9</td>\n    </tr>\n    <tr>\n      <th>1397</th>\n      <td>99</td>\n      <td>\\newpage\\n</td>\n      <td>7-11bDN_Transformations.tex</td>\n      <td>9</td>\n    </tr>\n  </tbody>\n</table>\n</div>"
     },
     "metadata": {},
     "execution_count": 26
    }
   ],
   "source": [
    "problem_df[problem_df.q_len > 0].head()"
   ]
  },
  {
   "cell_type": "code",
   "execution_count": 12,
   "metadata": {},
   "outputs": [
    {
     "output_type": "execute_result",
     "data": {
      "text/plain": "       problem_set_ID  question  file\nq_len                                \n9                 431       431   431\n10                 22        22    22\n11                 40        40    40\n12                  2         2     2\n13                 13        13    13",
      "text/html": "<div>\n<style scoped>\n    .dataframe tbody tr th:only-of-type {\n        vertical-align: middle;\n    }\n\n    .dataframe tbody tr th {\n        vertical-align: top;\n    }\n\n    .dataframe thead th {\n        text-align: right;\n    }\n</style>\n<table border=\"1\" class=\"dataframe\">\n  <thead>\n    <tr style=\"text-align: right;\">\n      <th></th>\n      <th>problem_set_ID</th>\n      <th>question</th>\n      <th>file</th>\n    </tr>\n    <tr>\n      <th>q_len</th>\n      <th></th>\n      <th></th>\n      <th></th>\n    </tr>\n  </thead>\n  <tbody>\n    <tr>\n      <th>9</th>\n      <td>431</td>\n      <td>431</td>\n      <td>431</td>\n    </tr>\n    <tr>\n      <th>10</th>\n      <td>22</td>\n      <td>22</td>\n      <td>22</td>\n    </tr>\n    <tr>\n      <th>11</th>\n      <td>40</td>\n      <td>40</td>\n      <td>40</td>\n    </tr>\n    <tr>\n      <th>12</th>\n      <td>2</td>\n      <td>2</td>\n      <td>2</td>\n    </tr>\n    <tr>\n      <th>13</th>\n      <td>13</td>\n      <td>13</td>\n      <td>13</td>\n    </tr>\n  </tbody>\n</table>\n</div>"
     },
     "metadata": {},
     "execution_count": 12
    }
   ],
   "source": [
    "problem_df[problem_df.question.str.contains(r'\\\\newpage')].groupby('q_len').count()"
   ]
  },
  {
   "cell_type": "code",
   "execution_count": 21,
   "metadata": {},
   "outputs": [
    {
     "output_type": "execute_result",
     "data": {
      "text/plain": "            problem_set_ID                                           question  \\\nproblem_ID                                                                      \n2063                   148  Check those transformations that are rigid mot...   \n2053                   147  Check those transformations that are rigid mot...   \n797                     59  Exams and test corrections\\n    \\begin{itemize...   \n1769                   130  \\textbf{Inscribed polygons and angles:} Circle...   \n1768                   130  \\textbf{Areas:} Circle with center at point $Q...   \n1974                   142  \\textbf{Polygons and angles in circles:} %Circ...   \n1864                   134  \\textbf{Polygons and angles in circles:} %Circ...   \n1891                   136  \\textbf{Polygons and angles in circles:} %Circ...   \n2050                   147  Reflect $\\triangle TRS$ across the $y$-axis, l...   \n2061                   148  Reflect $\\triangle TRS$ across the $y$-axis, l...   \n796                     59  Constructions and projects\\n    \\begin{itemize...   \n1890                   136  \\textbf{Areas:} Circle with center at point $Q...   \n1863                   134  \\textbf{Areas:} Circle with center at point $Q...   \n1973                   142  \\textbf{Areas:} Circle with center at point $Q...   \n1767                   130  \\textbf{External lines:} Circle with center at...   \n1766                   130  \\textbf{Internal line segments:} Circle with c...   \n990                     74  Checklist:\\n  \\begin{itemize}\\n    \\item[$\\squ...   \n1972                   142  \\textbf{External lines:} Circle with center at...   \n1889                   136  \\textbf{External lines:} Circle with center at...   \n1862                   134  \\textbf{External lines:} Circle with center at...   \n1888                   136  \\textbf{Internal line segments:} Circle with c...   \n1861                   134  \\textbf{Internal line segments:} Circle with c...   \n1971                   142  \\textbf{Internal line segments:} Circle with c...   \n2121                   157  A transformation is applied to a triangle, $\\t...   \n2264                   164  Which of the following would map $\\triangle DO...   \n2066                   149  A transformation is applied to a triangle, $\\t...   \n2077                   151  A transformation is applied to a triangle, $\\t...   \n2094                   153  A transformation is applied to a triangle, $\\t...   \n2152                   159  Which of the following would map $\\triangle CA...   \n2233                   163  Which of the following would map $\\triangle DO...   \n2114                   156  Which of the following would map $\\triangle CA...   \n2127                   158  Which of the following would map $\\triangle CA...   \n1045                    76  Checklist:\\n  \\begin{itemize}\\n    \\item[$\\squ...   \n1314                    95  Checklist:\\n  \\begin{itemize}\\n    \\item[$\\squ...   \n593                     47  Do Not Solve. Circle the appropriate equation,...   \n\n                                     file  q_len  \nproblem_ID                                        \n2063            9-1bDN_Correspondence.tex    301  \n2053             9-1DN_Correspondence.tex    301  \n797         5-2CW_Portfolio-checklist.tex    662  \n1769                    8-1DN_Circles.tex    712  \n1768                    8-1DN_Circles.tex    735  \n1974                8-7DN_Unit-review.tex    754  \n1864                    8-3DN_Density.tex    754  \n1891               8-4cEN_Area+volume.tex    755  \n2050             9-1DN_Correspondence.tex    779  \n2061            9-1bDN_Correspondence.tex    780  \n796         5-2CW_Portfolio-checklist.tex    810  \n1890               8-4cEN_Area+volume.tex    816  \n1863                    8-3DN_Density.tex    816  \n1973                8-7DN_Unit-review.tex    816  \n1767                    8-1DN_Circles.tex    855  \n1766                    8-1DN_Circles.tex    945  \n990                  6-10bDN_Graphing.tex    946  \n1972                8-7DN_Unit-review.tex    964  \n1889               8-4cEN_Area+volume.tex    964  \n1862                    8-3DN_Density.tex    964  \n1888               8-4cEN_Area+volume.tex   1079  \n1861                    8-3DN_Density.tex   1079  \n1971                8-7DN_Unit-review.tex   1079  \n2121               9-4bCW_Composition.tex   1080  \n2264         9-9bExam-transformations.tex   1093  \n2066               9-2bCW_Composition.tex   1095  \n2077                9-3DN_Composition.tex   1095  \n2094               9-3bDN_Composition.tex   1104  \n2152         9-5bExam-transformations.tex   1105  \n2233          9-9Exam-transformations.tex   1121  \n2114                 9-4DN-reflection.tex   1131  \n2127                9-4bDN-reflection.tex   1131  \n1045            6-11HW_pretest-angles.tex   1263  \n1314           6-9HW_pretest-graphing.tex   1264  \n593             4-11Exam_Transversals.tex   3636  ",
      "text/html": "<div>\n<style scoped>\n    .dataframe tbody tr th:only-of-type {\n        vertical-align: middle;\n    }\n\n    .dataframe tbody tr th {\n        vertical-align: top;\n    }\n\n    .dataframe thead th {\n        text-align: right;\n    }\n</style>\n<table border=\"1\" class=\"dataframe\">\n  <thead>\n    <tr style=\"text-align: right;\">\n      <th></th>\n      <th>problem_set_ID</th>\n      <th>question</th>\n      <th>file</th>\n      <th>q_len</th>\n    </tr>\n    <tr>\n      <th>problem_ID</th>\n      <th></th>\n      <th></th>\n      <th></th>\n      <th></th>\n    </tr>\n  </thead>\n  <tbody>\n    <tr>\n      <th>2063</th>\n      <td>148</td>\n      <td>Check those transformations that are rigid mot...</td>\n      <td>9-1bDN_Correspondence.tex</td>\n      <td>301</td>\n    </tr>\n    <tr>\n      <th>2053</th>\n      <td>147</td>\n      <td>Check those transformations that are rigid mot...</td>\n      <td>9-1DN_Correspondence.tex</td>\n      <td>301</td>\n    </tr>\n    <tr>\n      <th>797</th>\n      <td>59</td>\n      <td>Exams and test corrections\\n    \\begin{itemize...</td>\n      <td>5-2CW_Portfolio-checklist.tex</td>\n      <td>662</td>\n    </tr>\n    <tr>\n      <th>1769</th>\n      <td>130</td>\n      <td>\\textbf{Inscribed polygons and angles:} Circle...</td>\n      <td>8-1DN_Circles.tex</td>\n      <td>712</td>\n    </tr>\n    <tr>\n      <th>1768</th>\n      <td>130</td>\n      <td>\\textbf{Areas:} Circle with center at point $Q...</td>\n      <td>8-1DN_Circles.tex</td>\n      <td>735</td>\n    </tr>\n    <tr>\n      <th>1974</th>\n      <td>142</td>\n      <td>\\textbf{Polygons and angles in circles:} %Circ...</td>\n      <td>8-7DN_Unit-review.tex</td>\n      <td>754</td>\n    </tr>\n    <tr>\n      <th>1864</th>\n      <td>134</td>\n      <td>\\textbf{Polygons and angles in circles:} %Circ...</td>\n      <td>8-3DN_Density.tex</td>\n      <td>754</td>\n    </tr>\n    <tr>\n      <th>1891</th>\n      <td>136</td>\n      <td>\\textbf{Polygons and angles in circles:} %Circ...</td>\n      <td>8-4cEN_Area+volume.tex</td>\n      <td>755</td>\n    </tr>\n    <tr>\n      <th>2050</th>\n      <td>147</td>\n      <td>Reflect $\\triangle TRS$ across the $y$-axis, l...</td>\n      <td>9-1DN_Correspondence.tex</td>\n      <td>779</td>\n    </tr>\n    <tr>\n      <th>2061</th>\n      <td>148</td>\n      <td>Reflect $\\triangle TRS$ across the $y$-axis, l...</td>\n      <td>9-1bDN_Correspondence.tex</td>\n      <td>780</td>\n    </tr>\n    <tr>\n      <th>796</th>\n      <td>59</td>\n      <td>Constructions and projects\\n    \\begin{itemize...</td>\n      <td>5-2CW_Portfolio-checklist.tex</td>\n      <td>810</td>\n    </tr>\n    <tr>\n      <th>1890</th>\n      <td>136</td>\n      <td>\\textbf{Areas:} Circle with center at point $Q...</td>\n      <td>8-4cEN_Area+volume.tex</td>\n      <td>816</td>\n    </tr>\n    <tr>\n      <th>1863</th>\n      <td>134</td>\n      <td>\\textbf{Areas:} Circle with center at point $Q...</td>\n      <td>8-3DN_Density.tex</td>\n      <td>816</td>\n    </tr>\n    <tr>\n      <th>1973</th>\n      <td>142</td>\n      <td>\\textbf{Areas:} Circle with center at point $Q...</td>\n      <td>8-7DN_Unit-review.tex</td>\n      <td>816</td>\n    </tr>\n    <tr>\n      <th>1767</th>\n      <td>130</td>\n      <td>\\textbf{External lines:} Circle with center at...</td>\n      <td>8-1DN_Circles.tex</td>\n      <td>855</td>\n    </tr>\n    <tr>\n      <th>1766</th>\n      <td>130</td>\n      <td>\\textbf{Internal line segments:} Circle with c...</td>\n      <td>8-1DN_Circles.tex</td>\n      <td>945</td>\n    </tr>\n    <tr>\n      <th>990</th>\n      <td>74</td>\n      <td>Checklist:\\n  \\begin{itemize}\\n    \\item[$\\squ...</td>\n      <td>6-10bDN_Graphing.tex</td>\n      <td>946</td>\n    </tr>\n    <tr>\n      <th>1972</th>\n      <td>142</td>\n      <td>\\textbf{External lines:} Circle with center at...</td>\n      <td>8-7DN_Unit-review.tex</td>\n      <td>964</td>\n    </tr>\n    <tr>\n      <th>1889</th>\n      <td>136</td>\n      <td>\\textbf{External lines:} Circle with center at...</td>\n      <td>8-4cEN_Area+volume.tex</td>\n      <td>964</td>\n    </tr>\n    <tr>\n      <th>1862</th>\n      <td>134</td>\n      <td>\\textbf{External lines:} Circle with center at...</td>\n      <td>8-3DN_Density.tex</td>\n      <td>964</td>\n    </tr>\n    <tr>\n      <th>1888</th>\n      <td>136</td>\n      <td>\\textbf{Internal line segments:} Circle with c...</td>\n      <td>8-4cEN_Area+volume.tex</td>\n      <td>1079</td>\n    </tr>\n    <tr>\n      <th>1861</th>\n      <td>134</td>\n      <td>\\textbf{Internal line segments:} Circle with c...</td>\n      <td>8-3DN_Density.tex</td>\n      <td>1079</td>\n    </tr>\n    <tr>\n      <th>1971</th>\n      <td>142</td>\n      <td>\\textbf{Internal line segments:} Circle with c...</td>\n      <td>8-7DN_Unit-review.tex</td>\n      <td>1079</td>\n    </tr>\n    <tr>\n      <th>2121</th>\n      <td>157</td>\n      <td>A transformation is applied to a triangle, $\\t...</td>\n      <td>9-4bCW_Composition.tex</td>\n      <td>1080</td>\n    </tr>\n    <tr>\n      <th>2264</th>\n      <td>164</td>\n      <td>Which of the following would map $\\triangle DO...</td>\n      <td>9-9bExam-transformations.tex</td>\n      <td>1093</td>\n    </tr>\n    <tr>\n      <th>2066</th>\n      <td>149</td>\n      <td>A transformation is applied to a triangle, $\\t...</td>\n      <td>9-2bCW_Composition.tex</td>\n      <td>1095</td>\n    </tr>\n    <tr>\n      <th>2077</th>\n      <td>151</td>\n      <td>A transformation is applied to a triangle, $\\t...</td>\n      <td>9-3DN_Composition.tex</td>\n      <td>1095</td>\n    </tr>\n    <tr>\n      <th>2094</th>\n      <td>153</td>\n      <td>A transformation is applied to a triangle, $\\t...</td>\n      <td>9-3bDN_Composition.tex</td>\n      <td>1104</td>\n    </tr>\n    <tr>\n      <th>2152</th>\n      <td>159</td>\n      <td>Which of the following would map $\\triangle CA...</td>\n      <td>9-5bExam-transformations.tex</td>\n      <td>1105</td>\n    </tr>\n    <tr>\n      <th>2233</th>\n      <td>163</td>\n      <td>Which of the following would map $\\triangle DO...</td>\n      <td>9-9Exam-transformations.tex</td>\n      <td>1121</td>\n    </tr>\n    <tr>\n      <th>2114</th>\n      <td>156</td>\n      <td>Which of the following would map $\\triangle CA...</td>\n      <td>9-4DN-reflection.tex</td>\n      <td>1131</td>\n    </tr>\n    <tr>\n      <th>2127</th>\n      <td>158</td>\n      <td>Which of the following would map $\\triangle CA...</td>\n      <td>9-4bDN-reflection.tex</td>\n      <td>1131</td>\n    </tr>\n    <tr>\n      <th>1045</th>\n      <td>76</td>\n      <td>Checklist:\\n  \\begin{itemize}\\n    \\item[$\\squ...</td>\n      <td>6-11HW_pretest-angles.tex</td>\n      <td>1263</td>\n    </tr>\n    <tr>\n      <th>1314</th>\n      <td>95</td>\n      <td>Checklist:\\n  \\begin{itemize}\\n    \\item[$\\squ...</td>\n      <td>6-9HW_pretest-graphing.tex</td>\n      <td>1264</td>\n    </tr>\n    <tr>\n      <th>593</th>\n      <td>47</td>\n      <td>Do Not Solve. Circle the appropriate equation,...</td>\n      <td>4-11Exam_Transversals.tex</td>\n      <td>3636</td>\n    </tr>\n  </tbody>\n</table>\n</div>"
     },
     "metadata": {},
     "execution_count": 21
    }
   ],
   "source": [
    "problem_df[problem_df.question.str.contains('itemize')]"
   ]
  },
  {
   "cell_type": "code",
   "execution_count": 16,
   "metadata": {},
   "outputs": [
    {
     "output_type": "execute_result",
     "data": {
      "text/plain": "Empty DataFrame\nColumns: [filename, head, body, problems_list, problem_count, path, unit, file]\nIndex: []",
      "text/html": "<div>\n<style scoped>\n    .dataframe tbody tr th:only-of-type {\n        vertical-align: middle;\n    }\n\n    .dataframe tbody tr th {\n        vertical-align: top;\n    }\n\n    .dataframe thead th {\n        text-align: right;\n    }\n</style>\n<table border=\"1\" class=\"dataframe\">\n  <thead>\n    <tr style=\"text-align: right;\">\n      <th></th>\n      <th>filename</th>\n      <th>head</th>\n      <th>body</th>\n      <th>problems_list</th>\n      <th>problem_count</th>\n      <th>path</th>\n      <th>unit</th>\n      <th>file</th>\n    </tr>\n    <tr>\n      <th>problem_set_ID</th>\n      <th></th>\n      <th></th>\n      <th></th>\n      <th></th>\n      <th></th>\n      <th></th>\n      <th></th>\n      <th></th>\n    </tr>\n  </thead>\n  <tbody>\n  </tbody>\n</table>\n</div>"
     },
     "metadata": {},
     "execution_count": 16
    }
   ],
   "source": [
    "# Look for string in pset body\n",
    "pset_df[pset_df.body.apply(lambda x: r'[\\\\item' in str(x))]"
   ]
  },
  {
   "cell_type": "code",
   "execution_count": 14,
   "metadata": {},
   "outputs": [
    {
     "output_type": "execute_result",
     "data": {
      "text/plain": "            problem_set_ID                                           question  \\\nproblem_ID                                                                      \n794                     59   Optional binder cover sheet with original work\\n   \n795                     59  Title page (An original construction with your...   \n796                     59  Constructions and projects\\n    \\begin{itemize...   \n797                     59  Exams and test corrections\\n    \\begin{itemize...   \n798                     59  $\\square$] October 17 - 3.9 Area, volume, peri...   \n799                     59  $\\square$] November 1 - 4.11 Transversals, vol...   \n\n                                     file  q_len  \nproblem_ID                                        \n794         5-2CW_Portfolio-checklist.tex     47  \n795         5-2CW_Portfolio-checklist.tex     75  \n796         5-2CW_Portfolio-checklist.tex    810  \n797         5-2CW_Portfolio-checklist.tex    440  \n798         5-2CW_Portfolio-checklist.tex    165  \n799         5-2CW_Portfolio-checklist.tex    153  ",
      "text/html": "<div>\n<style scoped>\n    .dataframe tbody tr th:only-of-type {\n        vertical-align: middle;\n    }\n\n    .dataframe tbody tr th {\n        vertical-align: top;\n    }\n\n    .dataframe thead th {\n        text-align: right;\n    }\n</style>\n<table border=\"1\" class=\"dataframe\">\n  <thead>\n    <tr style=\"text-align: right;\">\n      <th></th>\n      <th>problem_set_ID</th>\n      <th>question</th>\n      <th>file</th>\n      <th>q_len</th>\n    </tr>\n    <tr>\n      <th>problem_ID</th>\n      <th></th>\n      <th></th>\n      <th></th>\n      <th></th>\n    </tr>\n  </thead>\n  <tbody>\n    <tr>\n      <th>794</th>\n      <td>59</td>\n      <td>Optional binder cover sheet with original work\\n</td>\n      <td>5-2CW_Portfolio-checklist.tex</td>\n      <td>47</td>\n    </tr>\n    <tr>\n      <th>795</th>\n      <td>59</td>\n      <td>Title page (An original construction with your...</td>\n      <td>5-2CW_Portfolio-checklist.tex</td>\n      <td>75</td>\n    </tr>\n    <tr>\n      <th>796</th>\n      <td>59</td>\n      <td>Constructions and projects\\n    \\begin{itemize...</td>\n      <td>5-2CW_Portfolio-checklist.tex</td>\n      <td>810</td>\n    </tr>\n    <tr>\n      <th>797</th>\n      <td>59</td>\n      <td>Exams and test corrections\\n    \\begin{itemize...</td>\n      <td>5-2CW_Portfolio-checklist.tex</td>\n      <td>440</td>\n    </tr>\n    <tr>\n      <th>798</th>\n      <td>59</td>\n      <td>$\\square$] October 17 - 3.9 Area, volume, peri...</td>\n      <td>5-2CW_Portfolio-checklist.tex</td>\n      <td>165</td>\n    </tr>\n    <tr>\n      <th>799</th>\n      <td>59</td>\n      <td>$\\square$] November 1 - 4.11 Transversals, vol...</td>\n      <td>5-2CW_Portfolio-checklist.tex</td>\n      <td>153</td>\n    </tr>\n  </tbody>\n</table>\n</div>"
     },
     "metadata": {},
     "execution_count": 14
    }
   ],
   "source": [
    "# CHECK Problem with itemize instead of enumerate\n",
    "problem_df[problem_df.problem_set_ID == 59].sort_index()"
   ]
  },
  {
   "cell_type": "code",
   "execution_count": 22,
   "metadata": {
    "tags": []
   },
   "outputs": [
    {
     "output_type": "stream",
     "name": "stdout",
     "text": "Optional binder cover sheet with original work\n\nTitle page (An original construction with your name and class information)\n\nConstructions and projects\n    \\begin{itemize}\n      \\item[$\\square$] September 10 - 1.4 Equilateral triangle (compass)\n      \\item[$\\square$] September 17 - 2.2 Equilateral triangle (Geogebra)\n      \\item[$\\square$] September 24 - 2.7 Four constructions (Geogebra \\& MS Word)\n      \\item[$\\square$] October 8 - 3.4 Compare four constructions in one paper \\\\(duplicate with prior, make sure you have at least one)\n      \\item[$\\square$] October 11 - 3.6 Perpendicular, angle bisector, hexagon (optional)(compass)\n      \\item[$\\square$] October 15 - 3.7 Angle bisector construction (Geogebra \\& MS Word)\n      \\item[$\\square$] October 22 - 4.3 Angle bisector revision (Geogebra \\& MS Word)\n      \\item[$\\square$] October 29 - 4.8 A polygon’s internal angles' measures (Geogebra \\& MS Word)\n    \\end{itemize}\n  \n\nExams and test corrections\n    \\begin{itemize}\n      \\item[$\\square$] September 13 - 1.7 Exam: Tools of Geometry\n      \\item[$\\square$] September 20 - 2.5 Pop Quiz: Segment \\& Area Calculations\n      \\item[$\\square$] September 25 - 2.7 Re-Quiz: Segment \\& Area Calculations\n      \\item[$\\square$] September 27 - 2.9 Area, perimeter, line segments\n          \\item[$\\square$] Test corrections\n      \\item[$\\square$] October 17 - 3.9 Area, volume, perimeter; line segments and angles\n        \\item[$\\square$] Test corrections\n     \\item[$\\square$] November 1 - 4.11 Transversals, volume; angle relationships\n      \\item[$\\square$] Test corrections\n  \\end{itemize}\n\n\n"
    }
   ],
   "source": [
    "for q in problem_df[problem_df.problem_set_ID == 59].sort_index().question:\n",
    "    print(q)"
   ]
  },
  {
   "cell_type": "code",
   "execution_count": 87,
   "metadata": {
    "tags": []
   },
   "outputs": [
    {
     "output_type": "stream",
     "name": "stdout",
     "text": "Translate $\\triangle ABC$ by $(x,y) \\rightarrow (x+3, y-5)$. Label the image $\\triangle A'B'C'$.\n  \\begin{center}\n      \\begin{tikzpicture}[scale=.48]\n      \\draw [help lines] (-7,-5) grid (10,6);\n      \\draw [thick, <->] (-7.4,0) -- (10.4,0) node [right] {$x$};\n      \\draw [thick, <->] (0,-5.4)--(0,6.4) node [above] {$y$};  \n      \\draw [thick]\n        (-4,4) node[below left] {$A$}--\n        (3,4) node[above] {$B$}--\n        (1,1) node[below] {$C$}--cycle;  \n    \\end{tikzpicture}\n  \\end{center}\n\n  \n  \\begin{multicols}{2}\n\nWhat transformation maps $\\triangle ABC$ onto $\\triangle DEC$, shown below? Fully specify the transformation. Complete the table of mappings to  corresponding objects.]  \\vspace{0.5cm}\n    \\begin{enumerate}\n      \\item $A \\rightarrow$ \\rule{2cm}{0.15mm}\n      \\item $B \\rightarrow$ \\rule{2cm}{0.15mm}\n      \\item $C \\rightarrow$ \\rule{2cm}{0.15mm}\n      \\item $\\angle ACB \\cong$ \\rule{2cm}{0.15mm}\n      \\item \\rule{2cm}{0.15mm} $\\cong \\overline {DE}$\n    \\end{enumerate}\n    \\begin{tikzpicture}[scale=.48]\n      \\draw [help lines] (-4,-3) grid (9,8);\n      \\draw [thick, <->] (-4.4,0) -- (9.4,0) node [right] {$x$};\n      \\draw [thick, <->] (0,-3.4)--(0,8.4) node [above] {$y$};  \n      \\draw [thick]\n      (4,-2) node[below left] {$A$}--\n      (7,1) node[right] {$B$}--\n      (1,1) node[below left] {$C$}--cycle;  \n      \\draw [thick]\n      (4,4) node[right] {$D$}--\n      (1,7) node[left] {$E$}--\n      (1,1) --cycle; \n    \\end{tikzpicture}\n  \\end{multicols}\n  \n  \\begin{multicols}{2}\n\nReflect $\\triangle TRS$ across the $y$-axis, labeling the image $\\triangle T'R'S'$. Check those properties that are maintained by reflection.]  \\vspace{0.5cm}\n    \\begin{itemize}\n\n$\\square$] Length\n\n$\\square$] Angle measures\n\n$\\square$] Orientation\n\n$\\square$] Parallel relationships\n\n$\\square$] Area\n    \\end{itemize}\n    \\begin{tikzpicture}[scale=.48]\n      \\draw [help lines] (-7,-4) grid (7,5);\n      \\draw [thick, <->] (-7.4,0) -- (7.4,0) node [right] {$x$};\n      \\draw [thick, <->] (0,-4.4)--(0,5.4) node [above] {$y$};  \n      \\draw [thick]\n      (4,-2) node[below left] {$T$}--\n      (5,1) node[right] {$R$}--\n      (2,2) node[below left] {$S$}--cycle;\n    \\end{tikzpicture}\n  \\end{multicols}\n\n\n  \\begin{multicols}{2}\n\nA translation maps triangle $PQR$ onto triangle $STU$.] \\vspace{0.5cm}\n      \\begin{tikzpicture}[scale=0.9]\n        \\coordinate [label=above left:$P$](A) at (95:2);\n        \\coordinate [label=below:$Q$](B) at (0, 0);\n        \\coordinate [label=right:$R$](C) at (-10:3.5);\n        \\draw [thick] (A)--(B)--(C)--cycle;\n        \\draw [thick, xshift=3cm, yshift=1.5cm] (95:2) node[above]{$S$}--\n        (0,0) node[below]{$T$}--\n        (-10:3.5) node[right]{$U$}--cycle;\n      \\end{tikzpicture}\\\\\n      Write each corresponding object.\n      \\begin{enumerate}\n        \\item $Q \\rightarrow$ \\rule{2cm}{0.15mm}\n        \\item $\\angle QRP \\cong$ \\rule{2cm}{0.15mm}\n        \\item \\rule{2cm}{0.15mm} $\\cong \\overline {ST}$\n        \\item Justify $\\triangle PQR \\cong \\triangle STU$. Use the words ``rigid motion\".\n      \\end{enumerate}\n    \\end{multicols}  \\vspace{2cm}\n\n\nCheck those transformations that are rigid motions.\n    \\begin{itemize}\n\n$\\square$] Dilation\n\n$\\square$] Translation\n\n$\\square$] Reflection\n\n$\\square$] Rotation\n\n$\\square$] An isometry\n\n$\\square$] Horizontal stretch\n    \\end{itemize}\n\n  \\begin{multicols}{2}\n\nA rigid motion maps $\\triangle DEF$ onto $\\triangle LMN$. Fill in the blanks.] \\vspace{0.5cm}\n      The following is given:\\\\*[0.5cm]\n      $DE=10$ \\\\\n      $m\\angle E = 40^\\circ$ \\\\\n      $m\\angle F = 110^\\circ$ \\\\[0.5cm]\n      \\columnbreak\n      \n      \\begin{enumerate}\n        \\item $D \\rightarrow$ \\rule{2cm}{0.15mm}\n        \\item $LM =$ \\rule{2cm}{0.15mm}\n        \\item $m\\angle M =$ \\rule{2cm}{0.15mm}\n        \\item $\\overline{LM} \\cong$ \\rule{2cm}{0.15mm}\n      \\end{enumerate}\n    \\end{multicols} \n\n\nGiven $\\triangle JKL \\sim \\triangle MNO$. $m\\angle K = 40^\\circ$ and $m\\angle M = 100^\\circ$.\\\\\n    Find the measure of $\\angle J$. \\vspace{3cm}\n\n\n\n\n"
    }
   ],
   "source": [
    "for q in problem_df[problem_df.file == '9-1DN_Correspondence.tex'].sort_index().question:\n",
    "    print(q)"
   ]
  },
  {
   "cell_type": "code",
   "execution_count": 62,
   "metadata": {
    "tags": []
   },
   "outputs": [
    {
     "output_type": "stream",
     "name": "stdout",
     "text": "<class 'list'>\n['\\n', \"  \\\\item Translate $\\\\triangle ABC$ by $(x,y) \\\\rightarrow (x+3, y-5)$. Label the image $\\\\triangle A'B'C'$.\\n\", '  \\\\begin{center}\\n', '      \\\\begin{tikzpicture}[scale=.48]\\n', '      \\\\draw [help lines] (-7,-5) grid (10,6);\\n', '      \\\\draw [thick, <->] (-7.4,0) -- (10.4,0) node [right] {$x$};\\n', '      \\\\draw [thick, <->] (0,-5.4)--(0,6.4) node [above] {$y$};  \\n', '      \\\\draw [thick]\\n', '        (-4,4) node[below left] {$A$}--\\n', '        (3,4) node[above] {$B$}--\\n', '        (1,1) node[below] {$C$}--cycle;  \\n', '    \\\\end{tikzpicture}\\n', '  \\\\end{center}\\n', '\\n', '  \\\\item What transformation maps $\\\\triangle ABC$ onto $\\\\triangle DEC$, shown below? Fully specify the transformation. Complete the table of mappings to  corresponding objects.  \\\\vspace{0.5cm}\\n', '    \\\\begin{multicols}{2}\\n', '      \\\\begin{enumerate}\\n', '        \\\\item $A \\\\rightarrow$ \\\\rule{2cm}{0.15mm}\\n', '        \\\\item $B \\\\rightarrow$ \\\\rule{2cm}{0.15mm}\\n', '        \\\\item $C \\\\rightarrow$ \\\\rule{2cm}{0.15mm}\\n', '        \\\\item $\\\\angle ACB \\\\cong$ \\\\rule{2cm}{0.15mm}\\n', '        \\\\item \\\\rule{2cm}{0.15mm} $\\\\cong \\\\overline {DE}$\\n', '      \\\\end{enumerate}\\n', '      \\\\begin{tikzpicture}[scale=.48]\\n', '        \\\\draw [help lines] (-4,-3) grid (9,8);\\n', '        \\\\draw [thick, <->] (-4.4,0) -- (9.4,0) node [right] {$x$};\\n', '        \\\\draw [thick, <->] (0,-3.4)--(0,8.4) node [above] {$y$};  \\n', '        \\\\draw [thick]\\n', '        (4,-2) node[below left] {$A$}--\\n', '        (7,1) node[right] {$B$}--\\n', '        (1,1) node[below left] {$C$}--cycle;  \\n', '        \\\\draw [thick]\\n', '        (4,4) node[right] {$D$}--\\n', '        (1,7) node[left] {$E$}--\\n', '        (1,1) --cycle; \\n', '      \\\\end{tikzpicture}\\n', '    \\\\end{multicols}\\n', '  \\n', \"  \\\\item Reflect $\\\\triangle TRS$ across the $y$-axis, labeling the image $\\\\triangle T'R'S'$. Check those properties that are maintained by reflection. \\\\vspace{0.5cm}\\n\", '  \\\\begin{multicols}{2}\\n', '    \\\\begin{itemize}\\n', '      \\\\item[$\\\\square$] Length\\n', '      \\\\item[$\\\\square$] Angle measures\\n', '      \\\\item[$\\\\square$] Orientation\\n', '      \\\\item[$\\\\square$] Parallel relationships\\n', '      \\\\item[$\\\\square$] Area\\n', '    \\\\end{itemize}\\n', '    \\\\begin{tikzpicture}[scale=.48]\\n', '      \\\\draw [help lines] (-7,-4) grid (7,3);\\n', '      \\\\draw [thick, <->] (-7.4,0) -- (7.4,0) node [right] {$x$};\\n', '      \\\\draw [thick, <->] (0,-4.4)--(0,3.4) node [above] {$y$};  \\n', '      \\\\draw [thick]\\n', '      (4,-2) node[below left] {$T$}--\\n', '      (5,1) node[right] {$R$}--\\n', '      (2,2) node[below left] {$S$}--cycle;\\n', '    \\\\end{tikzpicture}\\n', '  \\\\end{multicols}\\n', '\\n', '\\\\newpage\\n', '  \\\\item A translation maps triangle $PQR$ onto triangle $STU$. \\\\vspace{0.5cm}\\n', '    \\\\begin{multicols}{2}\\n', '      \\\\begin{tikzpicture}[scale=0.9]\\n', '        \\\\coordinate [label=above left:$P$](A) at (95:2);\\n', '        \\\\coordinate [label=below:$Q$](B) at (0, 0);\\n', '        \\\\coordinate [label=right:$R$](C) at (-10:3.5);\\n', '        \\\\draw [thick] (A)--(B)--(C)--cycle;\\n', '        \\\\draw [thick, xshift=3cm, yshift=1.5cm] (95:2) node[above]{$S$}--\\n', '        (0,0) node[below]{$T$}--\\n', '        (-10:3.5) node[right]{$U$}--cycle;\\n', '      \\\\end{tikzpicture}\\\\\\\\\\n', '      Write each corresponding object.\\n', '      \\\\begin{enumerate}\\n', '        \\\\item $Q \\\\rightarrow$ \\\\rule{2cm}{0.15mm}\\n', '        \\\\item $\\\\angle QRP \\\\cong$ \\\\rule{2cm}{0.15mm}\\n', '        \\\\item \\\\rule{2cm}{0.15mm} $\\\\cong \\\\overline {ST}$\\n', '        \\\\item Justify $\\\\triangle PQR \\\\cong \\\\triangle STU$. Use the words ``rigid motion\".\\n', '      \\\\end{enumerate}\\n', '    \\\\end{multicols}  \\\\vspace{2cm}\\n', '\\n', '    \\\\item Check those transformations that are rigid motions.\\n', '    \\\\begin{itemize}\\n', '      \\\\item[$\\\\square$] Dilation\\n', '      \\\\item[$\\\\square$] Translation\\n', '      \\\\item[$\\\\square$] Reflection\\n', '      \\\\item[$\\\\square$] Rotation\\n', '      \\\\item[$\\\\square$] An isometry\\n', '      \\\\item[$\\\\square$] Horizontal stretch\\n', '    \\\\end{itemize}\\n', '\\n', '  \\\\item A rigid motion maps $\\\\triangle DEF$ onto $\\\\triangle LMN$. Fill in the blanks. \\\\vspace{0.5cm}\\n', '  \\\\begin{multicols}{2}\\n', '    The following is given:\\\\\\\\*[0.5cm]\\n', '    $DE=10$ \\\\\\\\\\n', '    $m\\\\angle E = 40^\\\\circ$ \\\\\\\\\\n', '    $m\\\\angle F = 110^\\\\circ$ \\\\\\\\[0.5cm]\\n', '    \\\\columnbreak\\n', '    \\\\begin{enumerate}\\n', '      \\\\item $D \\\\rightarrow$ \\\\rule{2cm}{0.15mm}\\n', '      \\\\item $LM =$ \\\\rule{2cm}{0.15mm}\\n', '      \\\\item $m\\\\angle M =$ \\\\rule{2cm}{0.15mm}\\n', '      \\\\item $\\\\overline{LM} \\\\cong$ \\\\rule{2cm}{0.15mm}\\n', '    \\\\end{enumerate}\\n', '  \\\\end{multicols} \\n', '\\n', '  \\\\item Given $\\\\triangle JKL \\\\sim \\\\triangle MNO$. $m\\\\angle K = 40^\\\\circ$ and $m\\\\angle M = 100^\\\\circ$.\\\\\\\\\\n', '    Find the measure of $\\\\angle J$. \\\\vspace{3cm}\\n', '\\n', '\\\\end{enumerate}\\n']\n"
    }
   ],
   "source": [
    "body = pset_df.loc[147, 'body']\n",
    "print(type(body))\n",
    "print(body)"
   ]
  },
  {
   "cell_type": "code",
   "execution_count": 38,
   "metadata": {},
   "outputs": [
    {
     "output_type": "execute_result",
     "data": {
      "text/plain": "            problem_set_ID                                           question  \\\nproblem_ID                                                                      \n0                        0  Given the line segment $\\overline{PQ}$ shown b...   \n1                        0                                         \\newpage\\n   \n2                        0  Given an angle with vertex $A$. Answer the que...   \n3                        0                                         \\newpage\\n   \n4                        0  Given the rectangle $ABCD$ shown below. Answer...   \n5                        0                                         \\newpage\\n   \n6                        0  The points shown are in a straight line, $\\ove...   \n7                        0  Given $\\overleftrightarrow{QS}$ as shown on th...   \n8                        1  Write down the slope and $y$-intercept of each...   \n9                        1  What is the slope of a line parallel to the li...   \n10                       1                                         \\newpage\\n   \n11                       1  Graph and label the two equations. Mark their ...   \n12                       2  In the following two problems, solve for the v...   \n13                       2  Given $g(x)=3x^2-7x+5$. Fine $g(0)$. \\vspace{4...   \n14                       2  Given $f(x)=2x-1$. Solve for $x$ such that for...   \n15                       2  Given $x^2+6x+5=0$. Factor and find the roots....   \n16                       2                                         \\newpage\\n   \n17                       2  The line $l$ has the equation $y=\\frac{1}{2}x+...   \n18                       2  On the grid below, graph the line $y=2x-4$.\\n ...   \n19                       3  In the following two problems, solve for the v...   \n20                       3  Given $g(x)=x^2-5x+15$. Simplify $g(0)$. \\vspa...   \n21                       3  Given $f(x)=3x-2$. Solve for $x$ such that for...   \n22                       3  Given $h(x)=x^2-x-12$. Solve $h(x)=0$. \\vspace...   \n23                       3  Simplify each expression. (Leave it in radical...   \n24                       3                                         \\newpage\\n   \n25                       3  The line $l$ has the equation $y=\\frac{3}{2}x-...   \n26                       3  On the grid below, graph the line $y=-\\frac{1}...   \n\n                                 file  q_len  \nproblem_ID                                    \n0               1-1CW_Measurement.tex    732  \n1               1-1CW_Measurement.tex     11  \n2               1-1CW_Measurement.tex    675  \n3               1-1CW_Measurement.tex      9  \n4               1-1CW_Measurement.tex   1164  \n5               1-1CW_Measurement.tex      9  \n6               1-1CW_Measurement.tex    533  \n7               1-1CW_Measurement.tex    680  \n8           1-1DNQ_Distance+slope.tex    433  \n9           1-1DNQ_Distance+slope.tex     81  \n10          1-1DNQ_Distance+slope.tex      9  \n11          1-1DNQ_Distance+slope.tex    494  \n12                  1-1DN_Algebra.tex    232  \n13                  1-1DN_Algebra.tex     50  \n14                  1-1DN_Algebra.tex     70  \n15                  1-1DN_Algebra.tex     63  \n16                  1-1DN_Algebra.tex      9  \n17                  1-1DN_Algebra.tex    208  \n18                  1-1DN_Algebra.tex    376  \n19                  1-1HW_Algebra.tex    233  \n20                  1-1HW_Algebra.tex     54  \n21                  1-1HW_Algebra.tex     71  \n22                  1-1HW_Algebra.tex     56  \n23                  1-1HW_Algebra.tex    275  \n24                  1-1HW_Algebra.tex      9  \n25                  1-1HW_Algebra.tex    283  \n26                  1-1HW_Algebra.tex    387  ",
      "text/html": "<div>\n<style scoped>\n    .dataframe tbody tr th:only-of-type {\n        vertical-align: middle;\n    }\n\n    .dataframe tbody tr th {\n        vertical-align: top;\n    }\n\n    .dataframe thead th {\n        text-align: right;\n    }\n</style>\n<table border=\"1\" class=\"dataframe\">\n  <thead>\n    <tr style=\"text-align: right;\">\n      <th></th>\n      <th>problem_set_ID</th>\n      <th>question</th>\n      <th>file</th>\n      <th>q_len</th>\n    </tr>\n    <tr>\n      <th>problem_ID</th>\n      <th></th>\n      <th></th>\n      <th></th>\n      <th></th>\n    </tr>\n  </thead>\n  <tbody>\n    <tr>\n      <th>0</th>\n      <td>0</td>\n      <td>Given the line segment $\\overline{PQ}$ shown b...</td>\n      <td>1-1CW_Measurement.tex</td>\n      <td>732</td>\n    </tr>\n    <tr>\n      <th>1</th>\n      <td>0</td>\n      <td>\\newpage\\n</td>\n      <td>1-1CW_Measurement.tex</td>\n      <td>11</td>\n    </tr>\n    <tr>\n      <th>2</th>\n      <td>0</td>\n      <td>Given an angle with vertex $A$. Answer the que...</td>\n      <td>1-1CW_Measurement.tex</td>\n      <td>675</td>\n    </tr>\n    <tr>\n      <th>3</th>\n      <td>0</td>\n      <td>\\newpage\\n</td>\n      <td>1-1CW_Measurement.tex</td>\n      <td>9</td>\n    </tr>\n    <tr>\n      <th>4</th>\n      <td>0</td>\n      <td>Given the rectangle $ABCD$ shown below. Answer...</td>\n      <td>1-1CW_Measurement.tex</td>\n      <td>1164</td>\n    </tr>\n    <tr>\n      <th>5</th>\n      <td>0</td>\n      <td>\\newpage\\n</td>\n      <td>1-1CW_Measurement.tex</td>\n      <td>9</td>\n    </tr>\n    <tr>\n      <th>6</th>\n      <td>0</td>\n      <td>The points shown are in a straight line, $\\ove...</td>\n      <td>1-1CW_Measurement.tex</td>\n      <td>533</td>\n    </tr>\n    <tr>\n      <th>7</th>\n      <td>0</td>\n      <td>Given $\\overleftrightarrow{QS}$ as shown on th...</td>\n      <td>1-1CW_Measurement.tex</td>\n      <td>680</td>\n    </tr>\n    <tr>\n      <th>8</th>\n      <td>1</td>\n      <td>Write down the slope and $y$-intercept of each...</td>\n      <td>1-1DNQ_Distance+slope.tex</td>\n      <td>433</td>\n    </tr>\n    <tr>\n      <th>9</th>\n      <td>1</td>\n      <td>What is the slope of a line parallel to the li...</td>\n      <td>1-1DNQ_Distance+slope.tex</td>\n      <td>81</td>\n    </tr>\n    <tr>\n      <th>10</th>\n      <td>1</td>\n      <td>\\newpage\\n</td>\n      <td>1-1DNQ_Distance+slope.tex</td>\n      <td>9</td>\n    </tr>\n    <tr>\n      <th>11</th>\n      <td>1</td>\n      <td>Graph and label the two equations. Mark their ...</td>\n      <td>1-1DNQ_Distance+slope.tex</td>\n      <td>494</td>\n    </tr>\n    <tr>\n      <th>12</th>\n      <td>2</td>\n      <td>In the following two problems, solve for the v...</td>\n      <td>1-1DN_Algebra.tex</td>\n      <td>232</td>\n    </tr>\n    <tr>\n      <th>13</th>\n      <td>2</td>\n      <td>Given $g(x)=3x^2-7x+5$. Fine $g(0)$. \\vspace{4...</td>\n      <td>1-1DN_Algebra.tex</td>\n      <td>50</td>\n    </tr>\n    <tr>\n      <th>14</th>\n      <td>2</td>\n      <td>Given $f(x)=2x-1$. Solve for $x$ such that for...</td>\n      <td>1-1DN_Algebra.tex</td>\n      <td>70</td>\n    </tr>\n    <tr>\n      <th>15</th>\n      <td>2</td>\n      <td>Given $x^2+6x+5=0$. Factor and find the roots....</td>\n      <td>1-1DN_Algebra.tex</td>\n      <td>63</td>\n    </tr>\n    <tr>\n      <th>16</th>\n      <td>2</td>\n      <td>\\newpage\\n</td>\n      <td>1-1DN_Algebra.tex</td>\n      <td>9</td>\n    </tr>\n    <tr>\n      <th>17</th>\n      <td>2</td>\n      <td>The line $l$ has the equation $y=\\frac{1}{2}x+...</td>\n      <td>1-1DN_Algebra.tex</td>\n      <td>208</td>\n    </tr>\n    <tr>\n      <th>18</th>\n      <td>2</td>\n      <td>On the grid below, graph the line $y=2x-4$.\\n ...</td>\n      <td>1-1DN_Algebra.tex</td>\n      <td>376</td>\n    </tr>\n    <tr>\n      <th>19</th>\n      <td>3</td>\n      <td>In the following two problems, solve for the v...</td>\n      <td>1-1HW_Algebra.tex</td>\n      <td>233</td>\n    </tr>\n    <tr>\n      <th>20</th>\n      <td>3</td>\n      <td>Given $g(x)=x^2-5x+15$. Simplify $g(0)$. \\vspa...</td>\n      <td>1-1HW_Algebra.tex</td>\n      <td>54</td>\n    </tr>\n    <tr>\n      <th>21</th>\n      <td>3</td>\n      <td>Given $f(x)=3x-2$. Solve for $x$ such that for...</td>\n      <td>1-1HW_Algebra.tex</td>\n      <td>71</td>\n    </tr>\n    <tr>\n      <th>22</th>\n      <td>3</td>\n      <td>Given $h(x)=x^2-x-12$. Solve $h(x)=0$. \\vspace...</td>\n      <td>1-1HW_Algebra.tex</td>\n      <td>56</td>\n    </tr>\n    <tr>\n      <th>23</th>\n      <td>3</td>\n      <td>Simplify each expression. (Leave it in radical...</td>\n      <td>1-1HW_Algebra.tex</td>\n      <td>275</td>\n    </tr>\n    <tr>\n      <th>24</th>\n      <td>3</td>\n      <td>\\newpage\\n</td>\n      <td>1-1HW_Algebra.tex</td>\n      <td>9</td>\n    </tr>\n    <tr>\n      <th>25</th>\n      <td>3</td>\n      <td>The line $l$ has the equation $y=\\frac{3}{2}x-...</td>\n      <td>1-1HW_Algebra.tex</td>\n      <td>283</td>\n    </tr>\n    <tr>\n      <th>26</th>\n      <td>3</td>\n      <td>On the grid below, graph the line $y=-\\frac{1}...</td>\n      <td>1-1HW_Algebra.tex</td>\n      <td>387</td>\n    </tr>\n  </tbody>\n</table>\n</div>"
     },
     "metadata": {},
     "execution_count": 38
    }
   ],
   "source": [
    "problem_df[problem_df.file.str.startswith('1-1')].sort_index()"
   ]
  },
  {
   "cell_type": "code",
   "execution_count": null,
   "metadata": {},
   "outputs": [],
   "source": []
  }
 ]
}