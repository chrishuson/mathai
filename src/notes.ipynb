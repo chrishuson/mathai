{
 "metadata": {
  "language_info": {
   "codemirror_mode": {
    "name": "ipython",
    "version": 3
   },
   "file_extension": ".py",
   "mimetype": "text/x-python",
   "name": "python",
   "nbconvert_exporter": "python",
   "pygments_lexer": "ipython3",
   "version": "3.7.6-final"
  },
  "orig_nbformat": 2,
  "kernelspec": {
   "name": "python_defaultSpec_1597765172746",
   "display_name": "Python 3.7.6 64-bit ('base': conda)"
  }
 },
 "nbformat": 4,
 "nbformat_minor": 2,
 "cells": [
  {
   "cell_type": "code",
   "execution_count": 1,
   "metadata": {
    "tags": []
   },
   "outputs": [
    {
     "output_type": "execute_result",
     "data": {
      "text/plain": "'/Users/chris/GitHub/mathai/src'"
     },
     "metadata": {},
     "execution_count": 1
    }
   ],
   "source": [
    "import os\n",
    "import sys\n",
    "import pandas as pd\n",
    "import numpy as np\n",
    "from ast import literal_eval\n",
    "\n",
    "os.getcwd()"
   ]
  },
  {
   "cell_type": "code",
   "execution_count": 68,
   "metadata": {
    "tags": []
   },
   "outputs": [
    {
     "output_type": "stream",
     "name": "stdout",
     "text": "Loaded dataframes: \nworksheet_files_df:\n index name:  None \ncolumns:  Index(['Unnamed: 0', 'unit', 'file_count', 'filename'], dtype='object') \n149 rows:  149 \n\nproblem_sets_df:\n index name:  problem_set_ID \ncolumns:  Index(['filename', 'head', 'body', 'problems_list', 'problem_count',\n       'problem_IDs'],\n      dtype='object') \n149 rows:  149 \n\nproblems_df:\n index name:  problem_ID \ncolumns:  Index(['problem_set_ID', 'question'], dtype='object') \n1855 rows:  1855 \n\nstandards_df:\n index name:  None \ncolumns:  Index(['course', 'chapter', 'topic', 'ccss_ID'], dtype='object') \n314 rows:  314 \n\nstandards_desc_df:\n index name:  ccss_ID \ncolumns:  Index(['description'], dtype='object') \n131 rows:  131 \n\n"
    }
   ],
   "source": [
    "from main import print_problems_df\n",
    "    #map_course_files, parse_course_files, parse_problem_sets, "
   ]
  },
  {
   "cell_type": "markdown",
   "metadata": {},
   "source": [
    "## problems and problem set dataframes, refactoring"
   ]
  },
  {
   "cell_type": "code",
   "execution_count": 90,
   "metadata": {},
   "outputs": [],
   "source": [
    "newpage_df.to_csv('/Users/chris/GitHub/mathai/db/newpage_df.csv')\n",
    "problem_df.to_csv('/Users/chris/GitHub/mathai/db/problem_df.csv')\n",
    "pset_df.to_csv('/Users/chris/GitHub/mathai/db/pset_df.csv')\n",
    "multicol_error_pset_df.to_csv('/Users/chris/GitHub/mathai/db/multicol_error_pset_df.csv')"
   ]
  },
  {
   "cell_type": "code",
   "execution_count": 67,
   "metadata": {},
   "outputs": [],
   "source": []
  },
  {
   "cell_type": "code",
   "execution_count": 2,
   "metadata": {
    "tags": []
   },
   "outputs": [
    {
     "output_type": "stream",
     "name": "stdout",
     "text": "problem_df:  2107 problem_ID Index(['problem_set_ID', 'question', 'q_len', 'file'], dtype='object')\nnewpage_df:  513 problem_ID Index(['problem_set_ID', 'question', 'q_len', 'file'], dtype='object')\npset_df:  172 problem_set_ID Index(['filename', 'head', 'body', 'problems_list', 'problem_count', 'path',\n       'unit', 'file'],\n      dtype='object')\nmulticol_error_pset_df:  38\n"
    }
   ],
   "source": [
    "problem_df = pd.read_csv('../db/problem_df.csv', index_col='problem_ID')\n",
    "newpage_df = pd.read_csv('../db/newpage_df.csv', index_col='problem_ID')\n",
    "cols_into_lists = {'problem_IDs':literal_eval, 'head':literal_eval, 'body':literal_eval, 'problems_list':literal_eval}\n",
    "pset_df = pd.read_csv('../db/pset_df.csv', index_col='problem_set_ID', converters=cols_into_lists)\n",
    "multicol_error_pset_df = pd.read_csv('../db/multicol_error_pset_df.csv', index_col='problem_set_ID', converters=cols_into_lists)\n",
    "print('problem_df: ', len(problem_df), problem_df.index.name, problem_df.columns)\n",
    "print('newpage_df: ', len(newpage_df), newpage_df.index.name, newpage_df.columns)\n",
    "print('pset_df: ', len(pset_df), pset_df.index.name, pset_df.columns)\n",
    "print('multicol_error_pset_df: ', len(multicol_error_pset_df))"
   ]
  },
  {
   "cell_type": "code",
   "execution_count": 8,
   "metadata": {},
   "outputs": [
    {
     "output_type": "execute_result",
     "data": {
      "text/plain": "                                                         filename  \\\nproblem_set_ID                                                      \n0               /Users/chris/GitHub/course-files/Geom/01-Intro...   \n1               /Users/chris/GitHub/course-files/Geom/01-Intro...   \n2               /Users/chris/GitHub/course-files/Geom/01-Intro...   \n3               /Users/chris/GitHub/course-files/Geom/01-Intro...   \n4               /Users/chris/GitHub/course-files/Geom/01-Intro...   \n...                                                           ...   \n167             /Users/chris/GitHub/course-files/Geom/10-Trig+...   \n168             /Users/chris/GitHub/course-files/Geom/10-Trig+...   \n169             /Users/chris/GitHub/course-files/Geom/10-Trig+...   \n170             /Users/chris/GitHub/course-files/Geom/10-Trig+...   \n171             /Users/chris/GitHub/course-files/Geom/10-Trig+...   \n\n                                                             head  \\\nproblem_set_ID                                                      \n0               [\\begin{document}\\n, \\subsubsection*{1-1 Class...   \n1               [\\begin{document}\\n, \\subsubsection*{1-1 Do No...   \n2               [\\begin{document}\\n, \\subsubsection*{1-1 Homew...   \n3               [\\begin{document}\\n, \\subsubsection*{1-3 Do No...   \n4               [\\begin{document}\\n, \\subsubsection*{Homework ...   \n...                                                           ...   \n167             [\\begin{document}\\n, \\subsubsection*{10.3 Do N...   \n168             [\\begin{document}\\n, \\subsubsection*{10.3b Do ...   \n169             [\\begin{document}\\n, \\subsubsection*{10.4 Do N...   \n170             [\\begin{document}\\n, \\subsubsection*{10.4b Do ...   \n171             [\\begin{document}\\n, \\subsubsection*{10.6 Clas...   \n\n                                                             body  \\\nproblem_set_ID                                                      \n0               [\\n,   \\item Given the line segment $\\overline...   \n1               [\\n, \\n,   \\item In the following two problems...   \n2               [\\n, \\n,   \\item In the following two problems...   \n3               [  \\item I have a compass, ruler, protractor, ...   \n4               [\\n,     \\item Construct an equilateral triang...   \n...                                                           ...   \n167             [\\n, \\n,   \\item Write down the slope perpendi...   \n168             [\\n,   \\item Write down the slope parallel or ...   \n169             [\\n,   \\item Write down the slope perpendicula...   \n170             [\\n,   \\item Write down the slope parallel or ...   \n171             [\\n,   \\item Write down the slope perpendicula...   \n\n                                                    problems_list  \\\nproblem_set_ID                                                      \n0               [Given the line segment $\\overline{PQ}$ shown ...   \n1               [\\n\\n, In the following two problems, solve fo...   \n2               [\\n\\n, In the following two problems, solve fo...   \n3               [I have a compass, ruler, protractor, notebook...   \n4               [Construct an equilateral triangle with $\\over...   \n...                                                           ...   \n167             [\\n\\n, Write down the slope perpendicular to t...   \n168             [Write down the slope parallel or perpendicula...   \n169             [Write down the slope perpendicular to the giv...   \n170             [Write down the slope parallel or perpendicula...   \n171             [Write down the slope perpendicular to the giv...   \n\n                problem_count                                   path  \\\nproblem_set_ID                                                         \n0                           9  /Users/chris/GitHub/course-files/Geom   \n1                           8  /Users/chris/GitHub/course-files/Geom   \n2                           9  /Users/chris/GitHub/course-files/Geom   \n3                           6  /Users/chris/GitHub/course-files/Geom   \n4                          11  /Users/chris/GitHub/course-files/Geom   \n...                       ...                                    ...   \n167                        10  /Users/chris/GitHub/course-files/Geom   \n168                        13  /Users/chris/GitHub/course-files/Geom   \n169                         8  /Users/chris/GitHub/course-files/Geom   \n170                        13  /Users/chris/GitHub/course-files/Geom   \n171                         8  /Users/chris/GitHub/course-files/Geom   \n\n                                        unit                            file  \nproblem_set_ID                                                                \n0                                   01-Intro           1-1CW_Measurement.tex  \n1                                   01-Intro               1-1DN_Algebra.tex  \n2                                   01-Intro               1-1HW_Algebra.tex  \n3                                   01-Intro   1-3DN_Function-intercepts.tex  \n4                                   01-Intro  1-3HW_Equilateral-triangle.tex  \n...                                      ...                             ...  \n167             10-Trig+similarity+analytics     10-2DN_Analytics-review.tex  \n168             10-Trig+similarity+analytics    10-2bDN_Analytics-review.tex  \n169             10-Trig+similarity+analytics   10-4DN_Tangent-situations.tex  \n170             10-Trig+similarity+analytics    10-4bDN_Analytics-review.tex  \n171             10-Trig+similarity+analytics   10-6DN_Tangent-situations.tex  \n\n[172 rows x 8 columns]",
      "text/html": "<div>\n<style scoped>\n    .dataframe tbody tr th:only-of-type {\n        vertical-align: middle;\n    }\n\n    .dataframe tbody tr th {\n        vertical-align: top;\n    }\n\n    .dataframe thead th {\n        text-align: right;\n    }\n</style>\n<table border=\"1\" class=\"dataframe\">\n  <thead>\n    <tr style=\"text-align: right;\">\n      <th></th>\n      <th>filename</th>\n      <th>head</th>\n      <th>body</th>\n      <th>problems_list</th>\n      <th>problem_count</th>\n      <th>path</th>\n      <th>unit</th>\n      <th>file</th>\n    </tr>\n    <tr>\n      <th>problem_set_ID</th>\n      <th></th>\n      <th></th>\n      <th></th>\n      <th></th>\n      <th></th>\n      <th></th>\n      <th></th>\n      <th></th>\n    </tr>\n  </thead>\n  <tbody>\n    <tr>\n      <th>0</th>\n      <td>/Users/chris/GitHub/course-files/Geom/01-Intro...</td>\n      <td>[\\begin{document}\\n, \\subsubsection*{1-1 Class...</td>\n      <td>[\\n,   \\item Given the line segment $\\overline...</td>\n      <td>[Given the line segment $\\overline{PQ}$ shown ...</td>\n      <td>9</td>\n      <td>/Users/chris/GitHub/course-files/Geom</td>\n      <td>01-Intro</td>\n      <td>1-1CW_Measurement.tex</td>\n    </tr>\n    <tr>\n      <th>1</th>\n      <td>/Users/chris/GitHub/course-files/Geom/01-Intro...</td>\n      <td>[\\begin{document}\\n, \\subsubsection*{1-1 Do No...</td>\n      <td>[\\n, \\n,   \\item In the following two problems...</td>\n      <td>[\\n\\n, In the following two problems, solve fo...</td>\n      <td>8</td>\n      <td>/Users/chris/GitHub/course-files/Geom</td>\n      <td>01-Intro</td>\n      <td>1-1DN_Algebra.tex</td>\n    </tr>\n    <tr>\n      <th>2</th>\n      <td>/Users/chris/GitHub/course-files/Geom/01-Intro...</td>\n      <td>[\\begin{document}\\n, \\subsubsection*{1-1 Homew...</td>\n      <td>[\\n, \\n,   \\item In the following two problems...</td>\n      <td>[\\n\\n, In the following two problems, solve fo...</td>\n      <td>9</td>\n      <td>/Users/chris/GitHub/course-files/Geom</td>\n      <td>01-Intro</td>\n      <td>1-1HW_Algebra.tex</td>\n    </tr>\n    <tr>\n      <th>3</th>\n      <td>/Users/chris/GitHub/course-files/Geom/01-Intro...</td>\n      <td>[\\begin{document}\\n, \\subsubsection*{1-3 Do No...</td>\n      <td>[  \\item I have a compass, ruler, protractor, ...</td>\n      <td>[I have a compass, ruler, protractor, notebook...</td>\n      <td>6</td>\n      <td>/Users/chris/GitHub/course-files/Geom</td>\n      <td>01-Intro</td>\n      <td>1-3DN_Function-intercepts.tex</td>\n    </tr>\n    <tr>\n      <th>4</th>\n      <td>/Users/chris/GitHub/course-files/Geom/01-Intro...</td>\n      <td>[\\begin{document}\\n, \\subsubsection*{Homework ...</td>\n      <td>[\\n,     \\item Construct an equilateral triang...</td>\n      <td>[Construct an equilateral triangle with $\\over...</td>\n      <td>11</td>\n      <td>/Users/chris/GitHub/course-files/Geom</td>\n      <td>01-Intro</td>\n      <td>1-3HW_Equilateral-triangle.tex</td>\n    </tr>\n    <tr>\n      <th>...</th>\n      <td>...</td>\n      <td>...</td>\n      <td>...</td>\n      <td>...</td>\n      <td>...</td>\n      <td>...</td>\n      <td>...</td>\n      <td>...</td>\n    </tr>\n    <tr>\n      <th>167</th>\n      <td>/Users/chris/GitHub/course-files/Geom/10-Trig+...</td>\n      <td>[\\begin{document}\\n, \\subsubsection*{10.3 Do N...</td>\n      <td>[\\n, \\n,   \\item Write down the slope perpendi...</td>\n      <td>[\\n\\n, Write down the slope perpendicular to t...</td>\n      <td>10</td>\n      <td>/Users/chris/GitHub/course-files/Geom</td>\n      <td>10-Trig+similarity+analytics</td>\n      <td>10-2DN_Analytics-review.tex</td>\n    </tr>\n    <tr>\n      <th>168</th>\n      <td>/Users/chris/GitHub/course-files/Geom/10-Trig+...</td>\n      <td>[\\begin{document}\\n, \\subsubsection*{10.3b Do ...</td>\n      <td>[\\n,   \\item Write down the slope parallel or ...</td>\n      <td>[Write down the slope parallel or perpendicula...</td>\n      <td>13</td>\n      <td>/Users/chris/GitHub/course-files/Geom</td>\n      <td>10-Trig+similarity+analytics</td>\n      <td>10-2bDN_Analytics-review.tex</td>\n    </tr>\n    <tr>\n      <th>169</th>\n      <td>/Users/chris/GitHub/course-files/Geom/10-Trig+...</td>\n      <td>[\\begin{document}\\n, \\subsubsection*{10.4 Do N...</td>\n      <td>[\\n,   \\item Write down the slope perpendicula...</td>\n      <td>[Write down the slope perpendicular to the giv...</td>\n      <td>8</td>\n      <td>/Users/chris/GitHub/course-files/Geom</td>\n      <td>10-Trig+similarity+analytics</td>\n      <td>10-4DN_Tangent-situations.tex</td>\n    </tr>\n    <tr>\n      <th>170</th>\n      <td>/Users/chris/GitHub/course-files/Geom/10-Trig+...</td>\n      <td>[\\begin{document}\\n, \\subsubsection*{10.4b Do ...</td>\n      <td>[\\n,   \\item Write down the slope parallel or ...</td>\n      <td>[Write down the slope parallel or perpendicula...</td>\n      <td>13</td>\n      <td>/Users/chris/GitHub/course-files/Geom</td>\n      <td>10-Trig+similarity+analytics</td>\n      <td>10-4bDN_Analytics-review.tex</td>\n    </tr>\n    <tr>\n      <th>171</th>\n      <td>/Users/chris/GitHub/course-files/Geom/10-Trig+...</td>\n      <td>[\\begin{document}\\n, \\subsubsection*{10.6 Clas...</td>\n      <td>[\\n,   \\item Write down the slope perpendicula...</td>\n      <td>[Write down the slope perpendicular to the giv...</td>\n      <td>8</td>\n      <td>/Users/chris/GitHub/course-files/Geom</td>\n      <td>10-Trig+similarity+analytics</td>\n      <td>10-6DN_Tangent-situations.tex</td>\n    </tr>\n  </tbody>\n</table>\n<p>172 rows × 8 columns</p>\n</div>"
     },
     "metadata": {},
     "execution_count": 8
    }
   ],
   "source": [
    "pset_df"
   ]
  },
  {
   "cell_type": "code",
   "execution_count": 3,
   "metadata": {},
   "outputs": [
    {
     "output_type": "error",
     "ename": "NameError",
     "evalue": "name 'p_df' is not defined",
     "traceback": [
      "\u001b[0;31m---------------------------------------------------------------------------\u001b[0m",
      "\u001b[0;31mNameError\u001b[0m                                 Traceback (most recent call last)",
      "\u001b[0;32m<ipython-input-3-d4148adb8b51>\u001b[0m in \u001b[0;36m<module>\u001b[0;34m\u001b[0m\n\u001b[0;32m----> 1\u001b[0;31m \u001b[0mp_df\u001b[0m\u001b[0;34m[\u001b[0m\u001b[0;34m'file'\u001b[0m\u001b[0;34m]\u001b[0m \u001b[0;34m=\u001b[0m \u001b[0mproblem_df\u001b[0m\u001b[0;34m.\u001b[0m\u001b[0mproblem_set_ID\u001b[0m\u001b[0;34m.\u001b[0m\u001b[0mapply\u001b[0m\u001b[0;34m(\u001b[0m\u001b[0;32mlambda\u001b[0m \u001b[0mx\u001b[0m\u001b[0;34m:\u001b[0m \u001b[0mpset_df\u001b[0m\u001b[0;34m.\u001b[0m\u001b[0mloc\u001b[0m\u001b[0;34m[\u001b[0m\u001b[0mx\u001b[0m\u001b[0;34m,\u001b[0m \u001b[0;34m'file'\u001b[0m\u001b[0;34m]\u001b[0m\u001b[0;34m)\u001b[0m\u001b[0;34m\u001b[0m\u001b[0;34m\u001b[0m\u001b[0m\n\u001b[0m\u001b[1;32m      2\u001b[0m \u001b[0mp_df\u001b[0m\u001b[0;34m[\u001b[0m\u001b[0;34m'q_len'\u001b[0m\u001b[0;34m]\u001b[0m \u001b[0;34m=\u001b[0m \u001b[0mproblem_df\u001b[0m\u001b[0;34m.\u001b[0m\u001b[0mquestion\u001b[0m\u001b[0;34m.\u001b[0m\u001b[0mstr\u001b[0m\u001b[0;34m.\u001b[0m\u001b[0mlen\u001b[0m\u001b[0;34m(\u001b[0m\u001b[0;34m)\u001b[0m\u001b[0;34m\u001b[0m\u001b[0;34m\u001b[0m\u001b[0m\n\u001b[1;32m      3\u001b[0m \u001b[0mp_df\u001b[0m\u001b[0;34m.\u001b[0m\u001b[0msort_values\u001b[0m\u001b[0;34m(\u001b[0m\u001b[0;34m'q_len'\u001b[0m\u001b[0;34m,\u001b[0m \u001b[0minplace\u001b[0m\u001b[0;34m=\u001b[0m\u001b[0;32mTrue\u001b[0m\u001b[0;34m)\u001b[0m\u001b[0;34m\u001b[0m\u001b[0;34m\u001b[0m\u001b[0m\n\u001b[1;32m      4\u001b[0m \u001b[0mp_df\u001b[0m\u001b[0;34m\u001b[0m\u001b[0;34m\u001b[0m\u001b[0m\n",
      "\u001b[0;31mNameError\u001b[0m: name 'p_df' is not defined"
     ]
    }
   ],
   "source": [
    "p_df['file'] = problem_df.problem_set_ID.apply(lambda x: pset_df.loc[x, 'file'])\n",
    "p_df['q_len'] = problem_df.question.str.len()\n",
    "p_df.sort_values('q_len', inplace=True)\n",
    "p_df"
   ]
  },
  {
   "cell_type": "code",
   "execution_count": 63,
   "metadata": {
    "tags": []
   },
   "outputs": [],
   "source": [
    "#print(pset_df.loc[62, 'body'])\n",
    "multicol_error_pset_df = pset_df[pset_df.body.apply(lambda x: r'[\\\\item' in str(x))].copy()"
   ]
  },
  {
   "cell_type": "code",
   "execution_count": 94,
   "metadata": {
    "tags": []
   },
   "outputs": [
    {
     "output_type": "execute_result",
     "data": {
      "text/plain": "                    unit                              file  problem_count  \\\nproblem_set_ID                                                              \n0               01-Intro             1-1CW_Measurement.tex              9   \n1               01-Intro                 1-1DN_Algebra.tex              8   \n2               01-Intro                 1-1HW_Algebra.tex              9   \n3               01-Intro     1-3DN_Function-intercepts.tex              6   \n4               01-Intro    1-3HW_Equilateral-triangle.tex             11   \n5               01-Intro        1-4HW_Segment-addition.tex             11   \n6               01-Intro       1-5CW_Angle-terminology.tex              8   \n7               01-Intro  1-5HW_Pretest-segments-intro.tex             18   \n8               01-Intro             1-6DN_Angle-pairs.tex              6   \n9               01-Intro             1-6HW_Angle-pairs.tex              6   \n10              01-Intro                 1-7Exam-Intro.tex             26   \n11              01-Intro           1-7Exam-corrections.tex              0   \n12              01-Intro                 1-7Exam-spicy.tex              7   \n13              01-Intro            1-7HW_Calculations.tex              8   \n14              01-Intro                    1-HW-Intro.tex            104   \n\n                                                             head  \\\nproblem_set_ID                                                      \n0               [\\begin{document}\\n, \\subsubsection*{1-1 Class...   \n1               [\\begin{document}\\n, \\subsubsection*{1-1 Do No...   \n2               [\\begin{document}\\n, \\subsubsection*{1-1 Homew...   \n3               [\\begin{document}\\n, \\subsubsection*{1-3 Do No...   \n4               [\\begin{document}\\n, \\subsubsection*{Homework ...   \n5               [\\begin{document}\\n, \\subsubsection*{Homework ...   \n6               [\\begin{document}\\n, \\subsubsection*{Classwork...   \n7               [\\begin{document}\\n, \\subsubsection*{1-8 Homew...   \n8               [\\begin{document}\\n, \\subsubsection*{1.6 Do No...   \n9               [\\begin{document}\\n, \\subsubsection*{1.6 Homew...   \n10              [\\begin{document}\\n,   \\subsubsection*{1.7 Exa...   \n11                                                             []   \n12              [\\begin{document}\\n, \\subsubsection*{1.7 Exam:...   \n13              [\\begin{document}\\n, \\subsubsection*{1.7 Homew...   \n14              [\\begin{document}\\n, \\subsubsection*{Quiz Corr...   \n\n                                                             body  \\\nproblem_set_ID                                                      \n0               [\\n,   \\item Given the line segment $\\overline...   \n1               [\\n, \\n,   \\item In the following two problems...   \n2               [\\n, \\n,   \\item In the following two problems...   \n3               [  \\item I have a compass, ruler, protractor, ...   \n4               [\\n,     \\item Construct an equilateral triang...   \n5               [    \\item I have a compass, ruler, protractor...   \n6               [    \\item I have a compass, ruler, protractor...   \n7               [    \\item Points that are all located on the ...   \n8               [\\n,   \\item Complete the construction of an e...   \n9               [\\n,   \\item Points that are all located on th...   \n10              [      \\item I have a calculator. (circle one)...   \n11                                                             []   \n12              [\\n,   \\item Given $\\overline{ABC}$, $AB=4$, a...   \n13              [\\n,   \\item Given $\\overline{ABC}$, $AB=84$, ...   \n14              [    \\item The points where a line segment beg...   \n\n                                                    problems_list  \\\nproblem_set_ID                                                      \n0               [Given the line segment $\\overline{PQ}$ shown ...   \n1               [\\n\\n, In the following two problems, solve fo...   \n2               [\\n\\n, In the following two problems, solve fo...   \n3               [I have a compass, ruler, protractor, notebook...   \n4               [Construct an equilateral triangle with $\\over...   \n5               [I have a compass, ruler, protractor, notebook...   \n6               [I have a compass, ruler, protractor, notebook...   \n7               [Points that are all located on the same line ...   \n8               [Complete the construction of an equilateral t...   \n9               [Points that are all located on the same line ...   \n10              [I have a calculator. (circle one). Yes \\qquad...   \n11                                                             []   \n12              [Given $\\overline{ABC}$, $AB=4$, and $AC=25$.\\...   \n13              [Given $\\overline{ABC}$, $AB=84$, and $AC=116$...   \n14              [The points where a line segment begins and en...   \n\n                                                 path  \\\nproblem_set_ID                                          \n0               /Users/chris/GitHub/course-files/Geom   \n1               /Users/chris/GitHub/course-files/Geom   \n2               /Users/chris/GitHub/course-files/Geom   \n3               /Users/chris/GitHub/course-files/Geom   \n4               /Users/chris/GitHub/course-files/Geom   \n5               /Users/chris/GitHub/course-files/Geom   \n6               /Users/chris/GitHub/course-files/Geom   \n7               /Users/chris/GitHub/course-files/Geom   \n8               /Users/chris/GitHub/course-files/Geom   \n9               /Users/chris/GitHub/course-files/Geom   \n10              /Users/chris/GitHub/course-files/Geom   \n11              /Users/chris/GitHub/course-files/Geom   \n12              /Users/chris/GitHub/course-files/Geom   \n13              /Users/chris/GitHub/course-files/Geom   \n14              /Users/chris/GitHub/course-files/Geom   \n\n                                                         filename  \nproblem_set_ID                                                     \n0               /Users/chris/GitHub/course-files/Geom/01-Intro...  \n1               /Users/chris/GitHub/course-files/Geom/01-Intro...  \n2               /Users/chris/GitHub/course-files/Geom/01-Intro...  \n3               /Users/chris/GitHub/course-files/Geom/01-Intro...  \n4               /Users/chris/GitHub/course-files/Geom/01-Intro...  \n5               /Users/chris/GitHub/course-files/Geom/01-Intro...  \n6               /Users/chris/GitHub/course-files/Geom/01-Intro...  \n7               /Users/chris/GitHub/course-files/Geom/01-Intro...  \n8               /Users/chris/GitHub/course-files/Geom/01-Intro...  \n9               /Users/chris/GitHub/course-files/Geom/01-Intro...  \n10              /Users/chris/GitHub/course-files/Geom/01-Intro...  \n11              /Users/chris/GitHub/course-files/Geom/01-Intro...  \n12              /Users/chris/GitHub/course-files/Geom/01-Intro...  \n13              /Users/chris/GitHub/course-files/Geom/01-Intro...  \n14              /Users/chris/GitHub/course-files/Geom/01-Intro...  ",
      "text/html": "<div>\n<style scoped>\n    .dataframe tbody tr th:only-of-type {\n        vertical-align: middle;\n    }\n\n    .dataframe tbody tr th {\n        vertical-align: top;\n    }\n\n    .dataframe thead th {\n        text-align: right;\n    }\n</style>\n<table border=\"1\" class=\"dataframe\">\n  <thead>\n    <tr style=\"text-align: right;\">\n      <th></th>\n      <th>unit</th>\n      <th>file</th>\n      <th>problem_count</th>\n      <th>head</th>\n      <th>body</th>\n      <th>problems_list</th>\n      <th>path</th>\n      <th>filename</th>\n    </tr>\n    <tr>\n      <th>problem_set_ID</th>\n      <th></th>\n      <th></th>\n      <th></th>\n      <th></th>\n      <th></th>\n      <th></th>\n      <th></th>\n      <th></th>\n    </tr>\n  </thead>\n  <tbody>\n    <tr>\n      <th>0</th>\n      <td>01-Intro</td>\n      <td>1-1CW_Measurement.tex</td>\n      <td>9</td>\n      <td>[\\begin{document}\\n, \\subsubsection*{1-1 Class...</td>\n      <td>[\\n,   \\item Given the line segment $\\overline...</td>\n      <td>[Given the line segment $\\overline{PQ}$ shown ...</td>\n      <td>/Users/chris/GitHub/course-files/Geom</td>\n      <td>/Users/chris/GitHub/course-files/Geom/01-Intro...</td>\n    </tr>\n    <tr>\n      <th>1</th>\n      <td>01-Intro</td>\n      <td>1-1DN_Algebra.tex</td>\n      <td>8</td>\n      <td>[\\begin{document}\\n, \\subsubsection*{1-1 Do No...</td>\n      <td>[\\n, \\n,   \\item In the following two problems...</td>\n      <td>[\\n\\n, In the following two problems, solve fo...</td>\n      <td>/Users/chris/GitHub/course-files/Geom</td>\n      <td>/Users/chris/GitHub/course-files/Geom/01-Intro...</td>\n    </tr>\n    <tr>\n      <th>2</th>\n      <td>01-Intro</td>\n      <td>1-1HW_Algebra.tex</td>\n      <td>9</td>\n      <td>[\\begin{document}\\n, \\subsubsection*{1-1 Homew...</td>\n      <td>[\\n, \\n,   \\item In the following two problems...</td>\n      <td>[\\n\\n, In the following two problems, solve fo...</td>\n      <td>/Users/chris/GitHub/course-files/Geom</td>\n      <td>/Users/chris/GitHub/course-files/Geom/01-Intro...</td>\n    </tr>\n    <tr>\n      <th>3</th>\n      <td>01-Intro</td>\n      <td>1-3DN_Function-intercepts.tex</td>\n      <td>6</td>\n      <td>[\\begin{document}\\n, \\subsubsection*{1-3 Do No...</td>\n      <td>[  \\item I have a compass, ruler, protractor, ...</td>\n      <td>[I have a compass, ruler, protractor, notebook...</td>\n      <td>/Users/chris/GitHub/course-files/Geom</td>\n      <td>/Users/chris/GitHub/course-files/Geom/01-Intro...</td>\n    </tr>\n    <tr>\n      <th>4</th>\n      <td>01-Intro</td>\n      <td>1-3HW_Equilateral-triangle.tex</td>\n      <td>11</td>\n      <td>[\\begin{document}\\n, \\subsubsection*{Homework ...</td>\n      <td>[\\n,     \\item Construct an equilateral triang...</td>\n      <td>[Construct an equilateral triangle with $\\over...</td>\n      <td>/Users/chris/GitHub/course-files/Geom</td>\n      <td>/Users/chris/GitHub/course-files/Geom/01-Intro...</td>\n    </tr>\n    <tr>\n      <th>5</th>\n      <td>01-Intro</td>\n      <td>1-4HW_Segment-addition.tex</td>\n      <td>11</td>\n      <td>[\\begin{document}\\n, \\subsubsection*{Homework ...</td>\n      <td>[    \\item I have a compass, ruler, protractor...</td>\n      <td>[I have a compass, ruler, protractor, notebook...</td>\n      <td>/Users/chris/GitHub/course-files/Geom</td>\n      <td>/Users/chris/GitHub/course-files/Geom/01-Intro...</td>\n    </tr>\n    <tr>\n      <th>6</th>\n      <td>01-Intro</td>\n      <td>1-5CW_Angle-terminology.tex</td>\n      <td>8</td>\n      <td>[\\begin{document}\\n, \\subsubsection*{Classwork...</td>\n      <td>[    \\item I have a compass, ruler, protractor...</td>\n      <td>[I have a compass, ruler, protractor, notebook...</td>\n      <td>/Users/chris/GitHub/course-files/Geom</td>\n      <td>/Users/chris/GitHub/course-files/Geom/01-Intro...</td>\n    </tr>\n    <tr>\n      <th>7</th>\n      <td>01-Intro</td>\n      <td>1-5HW_Pretest-segments-intro.tex</td>\n      <td>18</td>\n      <td>[\\begin{document}\\n, \\subsubsection*{1-8 Homew...</td>\n      <td>[    \\item Points that are all located on the ...</td>\n      <td>[Points that are all located on the same line ...</td>\n      <td>/Users/chris/GitHub/course-files/Geom</td>\n      <td>/Users/chris/GitHub/course-files/Geom/01-Intro...</td>\n    </tr>\n    <tr>\n      <th>8</th>\n      <td>01-Intro</td>\n      <td>1-6DN_Angle-pairs.tex</td>\n      <td>6</td>\n      <td>[\\begin{document}\\n, \\subsubsection*{1.6 Do No...</td>\n      <td>[\\n,   \\item Complete the construction of an e...</td>\n      <td>[Complete the construction of an equilateral t...</td>\n      <td>/Users/chris/GitHub/course-files/Geom</td>\n      <td>/Users/chris/GitHub/course-files/Geom/01-Intro...</td>\n    </tr>\n    <tr>\n      <th>9</th>\n      <td>01-Intro</td>\n      <td>1-6HW_Angle-pairs.tex</td>\n      <td>6</td>\n      <td>[\\begin{document}\\n, \\subsubsection*{1.6 Homew...</td>\n      <td>[\\n,   \\item Points that are all located on th...</td>\n      <td>[Points that are all located on the same line ...</td>\n      <td>/Users/chris/GitHub/course-files/Geom</td>\n      <td>/Users/chris/GitHub/course-files/Geom/01-Intro...</td>\n    </tr>\n    <tr>\n      <th>10</th>\n      <td>01-Intro</td>\n      <td>1-7Exam-Intro.tex</td>\n      <td>26</td>\n      <td>[\\begin{document}\\n,   \\subsubsection*{1.7 Exa...</td>\n      <td>[      \\item I have a calculator. (circle one)...</td>\n      <td>[I have a calculator. (circle one). Yes \\qquad...</td>\n      <td>/Users/chris/GitHub/course-files/Geom</td>\n      <td>/Users/chris/GitHub/course-files/Geom/01-Intro...</td>\n    </tr>\n    <tr>\n      <th>11</th>\n      <td>01-Intro</td>\n      <td>1-7Exam-corrections.tex</td>\n      <td>0</td>\n      <td>[]</td>\n      <td>[]</td>\n      <td>[]</td>\n      <td>/Users/chris/GitHub/course-files/Geom</td>\n      <td>/Users/chris/GitHub/course-files/Geom/01-Intro...</td>\n    </tr>\n    <tr>\n      <th>12</th>\n      <td>01-Intro</td>\n      <td>1-7Exam-spicy.tex</td>\n      <td>7</td>\n      <td>[\\begin{document}\\n, \\subsubsection*{1.7 Exam:...</td>\n      <td>[\\n,   \\item Given $\\overline{ABC}$, $AB=4$, a...</td>\n      <td>[Given $\\overline{ABC}$, $AB=4$, and $AC=25$.\\...</td>\n      <td>/Users/chris/GitHub/course-files/Geom</td>\n      <td>/Users/chris/GitHub/course-files/Geom/01-Intro...</td>\n    </tr>\n    <tr>\n      <th>13</th>\n      <td>01-Intro</td>\n      <td>1-7HW_Calculations.tex</td>\n      <td>8</td>\n      <td>[\\begin{document}\\n, \\subsubsection*{1.7 Homew...</td>\n      <td>[\\n,   \\item Given $\\overline{ABC}$, $AB=84$, ...</td>\n      <td>[Given $\\overline{ABC}$, $AB=84$, and $AC=116$...</td>\n      <td>/Users/chris/GitHub/course-files/Geom</td>\n      <td>/Users/chris/GitHub/course-files/Geom/01-Intro...</td>\n    </tr>\n    <tr>\n      <th>14</th>\n      <td>01-Intro</td>\n      <td>1-HW-Intro.tex</td>\n      <td>104</td>\n      <td>[\\begin{document}\\n, \\subsubsection*{Quiz Corr...</td>\n      <td>[    \\item The points where a line segment beg...</td>\n      <td>[The points where a line segment begins and en...</td>\n      <td>/Users/chris/GitHub/course-files/Geom</td>\n      <td>/Users/chris/GitHub/course-files/Geom/01-Intro...</td>\n    </tr>\n  </tbody>\n</table>\n</div>"
     },
     "metadata": {},
     "execution_count": 94
    }
   ],
   "source": [
    "new_cols = ['unit', 'file', 'problem_count', 'head', 'body', 'problems_list', 'path', 'filename']\n",
    "pset_df = pset_df.reindex(columns=new_cols)\n",
    "pset_df[pset_df.unit.str.startswith('01')]"
   ]
  },
  {
   "cell_type": "code",
   "execution_count": 133,
   "metadata": {
    "tags": []
   },
   "outputs": [
    {
     "output_type": "stream",
     "name": "stdout",
     "text": "Given $\\triangle ABP \\sim \\triangle JKP$ as shown below. $AP=5.7$, $JP=11.4$, and $JK=14.8$. Find $AB$.\n \\begin{flushright}\n   \\begin{tikzpicture}[scale=1.4]\n       \\draw [thick]\n         (0.25,-1)node[right]{$B$}--\n         (-0.5,2)node[left]{$K$}--\n         (4,0)node[right]{$J$}--\n         (0,0)node[above right]{$P$}--\n         (-2,0)node[left]{$A$}--cycle;\n     \\end{tikzpicture}\n     \\end{flushright}\n     \\vspace{3cm}\n\n   \\begin{multicols}{2}\n\n"
    },
    {
     "output_type": "execute_result",
     "data": {
      "text/plain": "'A translation maps triangle $CAT$ onto triangle $DOG$.] \\\\vspace{0.5cm}\\n      \\\\begin{tikzpicture}[scale=0.9]\\n        \\\\coordinate [label=above left:$C$](A) at (95:2);\\n        \\\\coordinate [label=below:$A$](B) at (0, 0);\\n        \\\\coordinate [label=right:$T$](C) at (-10:3.5);\\n        \\\\draw [thick] (A)--(B)--(C)--cycle;\\n  \\n        \\\\draw [thick, xshift=3cm, yshift=1.5cm] (95:2) node[above]{$D$}--\\n        (0,0) node[below]{$O$}--\\n        (-10:3.5) node[right]{$G$}--cycle;\\n      \\\\end{tikzpicture}\\\\\\\\\\n      Fill in the blank with the corresponding object.\\n      \\\\begin{enumerate}\\n        \\\\item $A \\\\rightarrow$ \\\\rule{2cm}{0.15mm}\\n        \\\\item $\\\\angle CTA \\\\cong$ \\\\rule{2cm}{0.15mm}\\n        \\\\item \\\\rule{2cm}{0.15mm} $\\\\cong \\\\overline {DG}$\\n      \\\\end{enumerate}\\n    \\\\end{multicols}  \\\\vspace{4cm}\\n\\n'"
     },
     "metadata": {},
     "execution_count": 133
    }
   ],
   "source": [
    "print(pset_df.loc[62, 'problems_list'][7])\n",
    "pset_df.loc[62, 'problems_list'][8]"
   ]
  },
  {
   "cell_type": "code",
   "execution_count": 88,
   "metadata": {},
   "outputs": [
    {
     "output_type": "execute_result",
     "data": {
      "text/plain": "problem_set_ID\n0.0      5\n1.0      6\n2.0      7\n3.0      5\n4.0     10\n5.0     10\n6.0      7\n7.0     14\n8.0      5\n9.0      5\n10.0    20\n12.0     6\n13.0     7\n14.0    83\n15.0     1\n16.0     4\n17.0     6\n18.0     6\n19.0     5\n20.0     6\n21.0     5\n22.0     6\n23.0     4\n24.0     5\n25.0     7\n26.0     5\n27.0     6\n28.0     9\n29.0     3\n30.0     5\nName: question, dtype: int64"
     },
     "metadata": {},
     "execution_count": 88
    }
   ],
   "source": [
    "problem_df.groupby('problem_set_ID').question.count().head(30)"
   ]
  },
  {
   "cell_type": "markdown",
   "metadata": {},
   "source": [
    "## Printing Problem Sets"
   ]
  },
  {
   "cell_type": "code",
   "execution_count": 84,
   "metadata": {},
   "outputs": [],
   "source": [
    "title = ('file is 1-6DN-Angle-pairs.tex', '17 August 2020', 'Test run of problems df')\n",
    "df = problem_df[problem_df.file == '1-6DN_Angle-pairs.tex'].sort_index()\n",
    "print_problems_df(df, filename='1-6DN_', title=title)"
   ]
  },
  {
   "cell_type": "code",
   "execution_count": 134,
   "metadata": {},
   "outputs": [],
   "source": [
    "title = ('file is 5-4DN-similarity-ratios.tex, PSet 62', '18 August 2020', 'Issue with multicols')\n",
    "df = problem_df[problem_df.problem_set_ID == 62].sort_index()\n",
    "print_problems_df(df, filename='5-4DN-mulitcols-issue', title=title)"
   ]
  },
  {
   "cell_type": "code",
   "execution_count": 95,
   "metadata": {},
   "outputs": [],
   "source": [
    "print_list = [0, 1, 2]\n",
    "for pset in print_list:\n",
    "    title = ('file is 1-temp-' + str(pset), '17 August 2020', 'Test run of print unit')\n",
    "    df = problem_df[problem_df.problem_set_ID == pset].sort_index()\n",
    "    print_problems_df(df, filename='1-temp-' + str(pset), title=title)"
   ]
  },
  {
   "cell_type": "code",
   "execution_count": null,
   "metadata": {},
   "outputs": [],
   "source": []
  },
  {
   "cell_type": "code",
   "execution_count": 6,
   "metadata": {
    "tags": []
   },
   "outputs": [
    {
     "output_type": "stream",
     "name": "stdout",
     "text": "dict len, type:  14 <class 'dict'> \n df len:  209 \n\n"
    },
    {
     "output_type": "execute_result",
     "data": {
      "text/plain": "array(['00-Prior-knowledge', '01-Intro', '02-Midpoint+distance',\n       '03-Volume+angle-bisectors', '04-Transversals',\n       '05-Transformations', '06-Analytic-geometry', '07-Similarity',\n       '08-Area+volume', '09-Congruence-transformations',\n       '10-Trig+similarity+analytics', '11-Algebra2-intro', 'Slides',\n       'Trajectories'], dtype=object)"
     },
     "metadata": {},
     "execution_count": 6
    }
   ],
   "source": [
    "course_files, course_file_df = map_course_files(course_dir='/Users/chris/GitHub/course-files/Geom')\n",
    "print('dict len, type: ', len(course_files), type(course_files), '\\n df len: ', len(course_file_df), '\\n')\n",
    "course_file_df.unit.unique()"
   ]
  },
  {
   "cell_type": "code",
   "execution_count": 9,
   "metadata": {},
   "outputs": [
    {
     "output_type": "execute_result",
     "data": {
      "text/plain": "                             unit  file_count                        filename\n1                        01-Intro          15           1-1CW_Measurement.tex\n2                        01-Intro          15               1-1DN_Algebra.tex\n3                        01-Intro          15               1-1HW_Algebra.tex\n4                        01-Intro          15   1-3DN_Function-intercepts.tex\n5                        01-Intro          15  1-3HW_Equilateral-triangle.tex\n..                            ...         ...                             ...\n168  10-Trig+similarity+analytics           7     10-2DN_Analytics-review.tex\n169  10-Trig+similarity+analytics           7    10-2bDN_Analytics-review.tex\n170  10-Trig+similarity+analytics           7   10-4DN_Tangent-situations.tex\n171  10-Trig+similarity+analytics           7    10-4bDN_Analytics-review.tex\n172  10-Trig+similarity+analytics           7   10-6DN_Tangent-situations.tex\n\n[172 rows x 3 columns]",
      "text/html": "<div>\n<style scoped>\n    .dataframe tbody tr th:only-of-type {\n        vertical-align: middle;\n    }\n\n    .dataframe tbody tr th {\n        vertical-align: top;\n    }\n\n    .dataframe thead th {\n        text-align: right;\n    }\n</style>\n<table border=\"1\" class=\"dataframe\">\n  <thead>\n    <tr style=\"text-align: right;\">\n      <th></th>\n      <th>unit</th>\n      <th>file_count</th>\n      <th>filename</th>\n    </tr>\n  </thead>\n  <tbody>\n    <tr>\n      <th>1</th>\n      <td>01-Intro</td>\n      <td>15</td>\n      <td>1-1CW_Measurement.tex</td>\n    </tr>\n    <tr>\n      <th>2</th>\n      <td>01-Intro</td>\n      <td>15</td>\n      <td>1-1DN_Algebra.tex</td>\n    </tr>\n    <tr>\n      <th>3</th>\n      <td>01-Intro</td>\n      <td>15</td>\n      <td>1-1HW_Algebra.tex</td>\n    </tr>\n    <tr>\n      <th>4</th>\n      <td>01-Intro</td>\n      <td>15</td>\n      <td>1-3DN_Function-intercepts.tex</td>\n    </tr>\n    <tr>\n      <th>5</th>\n      <td>01-Intro</td>\n      <td>15</td>\n      <td>1-3HW_Equilateral-triangle.tex</td>\n    </tr>\n    <tr>\n      <th>...</th>\n      <td>...</td>\n      <td>...</td>\n      <td>...</td>\n    </tr>\n    <tr>\n      <th>168</th>\n      <td>10-Trig+similarity+analytics</td>\n      <td>7</td>\n      <td>10-2DN_Analytics-review.tex</td>\n    </tr>\n    <tr>\n      <th>169</th>\n      <td>10-Trig+similarity+analytics</td>\n      <td>7</td>\n      <td>10-2bDN_Analytics-review.tex</td>\n    </tr>\n    <tr>\n      <th>170</th>\n      <td>10-Trig+similarity+analytics</td>\n      <td>7</td>\n      <td>10-4DN_Tangent-situations.tex</td>\n    </tr>\n    <tr>\n      <th>171</th>\n      <td>10-Trig+similarity+analytics</td>\n      <td>7</td>\n      <td>10-4bDN_Analytics-review.tex</td>\n    </tr>\n    <tr>\n      <th>172</th>\n      <td>10-Trig+similarity+analytics</td>\n      <td>7</td>\n      <td>10-6DN_Tangent-situations.tex</td>\n    </tr>\n  </tbody>\n</table>\n<p>172 rows × 3 columns</p>\n</div>"
     },
     "metadata": {},
     "execution_count": 9
    }
   ],
   "source": [
    "drop_units = ['00-Prior-knowledge', '11-Algebra2-intro', 'Slides',\n",
    "       'Trajectories']\n",
    "for unit in drop_units:\n",
    "    course_file_df.drop(course_file_df[course_file_df.unit == unit].index, inplace=True)\n",
    "course_file_df"
   ]
  },
  {
   "cell_type": "code",
   "execution_count": 10,
   "metadata": {
    "tags": []
   },
   "outputs": [
    {
     "output_type": "stream",
     "name": "stdout",
     "text": "my IndexError: pop from empty list /Users/chris/GitHub/course-files/Geom/01-Intro/1-7Exam-corrections.tex\nTried to run parse_body on empty file\n"
    },
    {
     "output_type": "execute_result",
     "data": {
      "text/plain": "                                                         filename  \\\nproblem_set_ID                                                      \n0               /Users/chris/GitHub/course-files/Geom/01-Intro...   \n1               /Users/chris/GitHub/course-files/Geom/01-Intro...   \n2               /Users/chris/GitHub/course-files/Geom/01-Intro...   \n3               /Users/chris/GitHub/course-files/Geom/01-Intro...   \n4               /Users/chris/GitHub/course-files/Geom/01-Intro...   \n...                                                           ...   \n167             /Users/chris/GitHub/course-files/Geom/10-Trig+...   \n168             /Users/chris/GitHub/course-files/Geom/10-Trig+...   \n169             /Users/chris/GitHub/course-files/Geom/10-Trig+...   \n170             /Users/chris/GitHub/course-files/Geom/10-Trig+...   \n171             /Users/chris/GitHub/course-files/Geom/10-Trig+...   \n\n                                                             head  \\\nproblem_set_ID                                                      \n0               [\\begin{document}\\n, \\subsubsection*{1-1 Class...   \n1               [\\begin{document}\\n, \\subsubsection*{1-1 Do No...   \n2               [\\begin{document}\\n, \\subsubsection*{1-1 Homew...   \n3               [\\begin{document}\\n, \\subsubsection*{1-3 Do No...   \n4               [\\begin{document}\\n, \\subsubsection*{Homework ...   \n...                                                           ...   \n167             [\\begin{document}\\n, \\subsubsection*{10.3 Do N...   \n168             [\\begin{document}\\n, \\subsubsection*{10.3b Do ...   \n169             [\\begin{document}\\n, \\subsubsection*{10.4 Do N...   \n170             [\\begin{document}\\n, \\subsubsection*{10.4b Do ...   \n171             [\\begin{document}\\n, \\subsubsection*{10.6 Clas...   \n\n                                                             body  \\\nproblem_set_ID                                                      \n0               [\\n,   \\item Given the line segment $\\overline...   \n1               [\\n, \\n,   \\item In the following two problems...   \n2               [\\n, \\n,   \\item In the following two problems...   \n3               [  \\item I have a compass, ruler, protractor, ...   \n4               [\\n,     \\item Construct an equilateral triang...   \n...                                                           ...   \n167             [\\n, \\n,   \\item Write down the slope perpendi...   \n168             [\\n,   \\item Write down the slope parallel or ...   \n169             [\\n,   \\item Write down the slope perpendicula...   \n170             [\\n,   \\item Write down the slope parallel or ...   \n171             [\\n,   \\item Write down the slope perpendicula...   \n\n                                                    problems_list  \\\nproblem_set_ID                                                      \n0               [Given the line segment $\\overline{PQ}$ shown ...   \n1               [\\n\\n, In the following two problems, solve fo...   \n2               [\\n\\n, In the following two problems, solve fo...   \n3               [I have a compass, ruler, protractor, notebook...   \n4               [Construct an equilateral triangle with $\\over...   \n...                                                           ...   \n167             [\\n\\n, Write down the slope perpendicular to t...   \n168             [Write down the slope parallel or perpendicula...   \n169             [Write down the slope perpendicular to the giv...   \n170             [Write down the slope parallel or perpendicula...   \n171             [Write down the slope perpendicular to the giv...   \n\n                problem_count  \nproblem_set_ID                 \n0                           9  \n1                           8  \n2                           9  \n3                           6  \n4                          11  \n...                       ...  \n167                        10  \n168                        13  \n169                         8  \n170                        13  \n171                         8  \n\n[172 rows x 5 columns]",
      "text/html": "<div>\n<style scoped>\n    .dataframe tbody tr th:only-of-type {\n        vertical-align: middle;\n    }\n\n    .dataframe tbody tr th {\n        vertical-align: top;\n    }\n\n    .dataframe thead th {\n        text-align: right;\n    }\n</style>\n<table border=\"1\" class=\"dataframe\">\n  <thead>\n    <tr style=\"text-align: right;\">\n      <th></th>\n      <th>filename</th>\n      <th>head</th>\n      <th>body</th>\n      <th>problems_list</th>\n      <th>problem_count</th>\n    </tr>\n    <tr>\n      <th>problem_set_ID</th>\n      <th></th>\n      <th></th>\n      <th></th>\n      <th></th>\n      <th></th>\n    </tr>\n  </thead>\n  <tbody>\n    <tr>\n      <th>0</th>\n      <td>/Users/chris/GitHub/course-files/Geom/01-Intro...</td>\n      <td>[\\begin{document}\\n, \\subsubsection*{1-1 Class...</td>\n      <td>[\\n,   \\item Given the line segment $\\overline...</td>\n      <td>[Given the line segment $\\overline{PQ}$ shown ...</td>\n      <td>9</td>\n    </tr>\n    <tr>\n      <th>1</th>\n      <td>/Users/chris/GitHub/course-files/Geom/01-Intro...</td>\n      <td>[\\begin{document}\\n, \\subsubsection*{1-1 Do No...</td>\n      <td>[\\n, \\n,   \\item In the following two problems...</td>\n      <td>[\\n\\n, In the following two problems, solve fo...</td>\n      <td>8</td>\n    </tr>\n    <tr>\n      <th>2</th>\n      <td>/Users/chris/GitHub/course-files/Geom/01-Intro...</td>\n      <td>[\\begin{document}\\n, \\subsubsection*{1-1 Homew...</td>\n      <td>[\\n, \\n,   \\item In the following two problems...</td>\n      <td>[\\n\\n, In the following two problems, solve fo...</td>\n      <td>9</td>\n    </tr>\n    <tr>\n      <th>3</th>\n      <td>/Users/chris/GitHub/course-files/Geom/01-Intro...</td>\n      <td>[\\begin{document}\\n, \\subsubsection*{1-3 Do No...</td>\n      <td>[  \\item I have a compass, ruler, protractor, ...</td>\n      <td>[I have a compass, ruler, protractor, notebook...</td>\n      <td>6</td>\n    </tr>\n    <tr>\n      <th>4</th>\n      <td>/Users/chris/GitHub/course-files/Geom/01-Intro...</td>\n      <td>[\\begin{document}\\n, \\subsubsection*{Homework ...</td>\n      <td>[\\n,     \\item Construct an equilateral triang...</td>\n      <td>[Construct an equilateral triangle with $\\over...</td>\n      <td>11</td>\n    </tr>\n    <tr>\n      <th>...</th>\n      <td>...</td>\n      <td>...</td>\n      <td>...</td>\n      <td>...</td>\n      <td>...</td>\n    </tr>\n    <tr>\n      <th>167</th>\n      <td>/Users/chris/GitHub/course-files/Geom/10-Trig+...</td>\n      <td>[\\begin{document}\\n, \\subsubsection*{10.3 Do N...</td>\n      <td>[\\n, \\n,   \\item Write down the slope perpendi...</td>\n      <td>[\\n\\n, Write down the slope perpendicular to t...</td>\n      <td>10</td>\n    </tr>\n    <tr>\n      <th>168</th>\n      <td>/Users/chris/GitHub/course-files/Geom/10-Trig+...</td>\n      <td>[\\begin{document}\\n, \\subsubsection*{10.3b Do ...</td>\n      <td>[\\n,   \\item Write down the slope parallel or ...</td>\n      <td>[Write down the slope parallel or perpendicula...</td>\n      <td>13</td>\n    </tr>\n    <tr>\n      <th>169</th>\n      <td>/Users/chris/GitHub/course-files/Geom/10-Trig+...</td>\n      <td>[\\begin{document}\\n, \\subsubsection*{10.4 Do N...</td>\n      <td>[\\n,   \\item Write down the slope perpendicula...</td>\n      <td>[Write down the slope perpendicular to the giv...</td>\n      <td>8</td>\n    </tr>\n    <tr>\n      <th>170</th>\n      <td>/Users/chris/GitHub/course-files/Geom/10-Trig+...</td>\n      <td>[\\begin{document}\\n, \\subsubsection*{10.4b Do ...</td>\n      <td>[\\n,   \\item Write down the slope parallel or ...</td>\n      <td>[Write down the slope parallel or perpendicula...</td>\n      <td>13</td>\n    </tr>\n    <tr>\n      <th>171</th>\n      <td>/Users/chris/GitHub/course-files/Geom/10-Trig+...</td>\n      <td>[\\begin{document}\\n, \\subsubsection*{10.6 Clas...</td>\n      <td>[\\n,   \\item Write down the slope perpendicula...</td>\n      <td>[Write down the slope perpendicular to the giv...</td>\n      <td>8</td>\n    </tr>\n  </tbody>\n</table>\n<p>172 rows × 5 columns</p>\n</div>"
     },
     "metadata": {},
     "execution_count": 10
    }
   ],
   "source": [
    "pset_df = parse_course_files(course_file_df, course_dir='/Users/chris/GitHub/course-files/Geom')\n",
    "pset_df[['path', 'unit', 'file']] = pset_df.filename.str.rsplit('/', n=2, expand=True)\n",
    "pset_df"
   ]
  },
  {
   "cell_type": "code",
   "execution_count": 3,
   "metadata": {
    "tags": []
   },
   "outputs": [
    {
     "output_type": "stream",
     "name": "stdout",
     "text": "Loaded dataframes: \nworksheet_files_df:\n index name:  None \ncolumns:  Index(['Unnamed: 0', 'unit', 'file_count', 'filename'], dtype='object') \n149 rows:  149 \n\nproblem_sets_df:\n index name:  problem_set_ID \ncolumns:  Index(['filename', 'head', 'body', 'problems_list', 'problem_count',\n       'problem_IDs'],\n      dtype='object') \n149 rows:  149 \n\nproblems_df:\n index name:  problem_ID \ncolumns:  Index(['problem_set_ID', 'question'], dtype='object') \n1855 rows:  1855 \n\nstandards_df:\n index name:  None \ncolumns:  Index(['course', 'chapter', 'topic', 'ccss_ID'], dtype='object') \n314 rows:  314 \n\nstandards_desc_df:\n index name:  ccss_ID \ncolumns:  Index(['description'], dtype='object') \n131 rows:  131 \n\n"
    }
   ],
   "source": [
    "from main import parse_problem_sets"
   ]
  },
  {
   "cell_type": "code",
   "execution_count": 43,
   "metadata": {},
   "outputs": [],
   "source": [
    "p_df = parse_problem_sets(pset_df)"
   ]
  },
  {
   "cell_type": "code",
   "execution_count": 44,
   "metadata": {},
   "outputs": [],
   "source": [
    "p_df['file'] = p_df.problem_set_ID.apply(lambda x: pset_df.loc[x, 'file'])\n",
    "p_df['q_len'] = p_df.question.str.len()\n",
    "p_df.sort_values('q_len', inplace=True)"
   ]
  },
  {
   "cell_type": "code",
   "execution_count": 45,
   "metadata": {},
   "outputs": [
    {
     "output_type": "execute_result",
     "data": {
      "text/plain": "            problem_set_ID                                           question  \\\nproblem_ID                                                                      \n2383                 155.0                                                 \\n   \n1305                  82.0                                                 \\n   \n874                   61.0                                               \\n\\n   \n264                   20.0                                               \\n\\n   \n291                   24.0                                               \\n\\n   \n...                    ...                                                ...   \n2633                 167.0  Mark the missing labels for a reflection acros...   \n2664                 170.0  Mark the missing labels for a rotation of $180...   \n2643                 168.0  Mark the missing labels for a reflection acros...   \n2385                 155.0  Two parallel lines intersect a transversal,  $...   \n1394                  91.0  This diagram is an example of what is called `...   \n\n                                           file  q_len  \nproblem_ID                                              \n2383        9-4CW_Triangle-congruence-proof.tex      2  \n1305                   6-3CW_Absense-packet.tex      2  \n874                        5-3DN_area-units.tex      2  \n264                 2-4HW_Parameter-solving.tex      2  \n291                   2-6HW_Compound-shapes.tex      2  \n...                                         ...    ...  \n2633                10-2DN_Analytics-review.tex   1382  \n2664               10-4bDN_Analytics-review.tex   1382  \n2643               10-2bDN_Analytics-review.tex   1382  \n2385        9-4CW_Triangle-congruence-proof.tex   1858  \n1394                  6-8DN_Euclids-orchard.tex   2123  \n\n[2677 rows x 4 columns]",
      "text/html": "<div>\n<style scoped>\n    .dataframe tbody tr th:only-of-type {\n        vertical-align: middle;\n    }\n\n    .dataframe tbody tr th {\n        vertical-align: top;\n    }\n\n    .dataframe thead th {\n        text-align: right;\n    }\n</style>\n<table border=\"1\" class=\"dataframe\">\n  <thead>\n    <tr style=\"text-align: right;\">\n      <th></th>\n      <th>problem_set_ID</th>\n      <th>question</th>\n      <th>file</th>\n      <th>q_len</th>\n    </tr>\n    <tr>\n      <th>problem_ID</th>\n      <th></th>\n      <th></th>\n      <th></th>\n      <th></th>\n    </tr>\n  </thead>\n  <tbody>\n    <tr>\n      <th>2383</th>\n      <td>155.0</td>\n      <td>\\n</td>\n      <td>9-4CW_Triangle-congruence-proof.tex</td>\n      <td>2</td>\n    </tr>\n    <tr>\n      <th>1305</th>\n      <td>82.0</td>\n      <td>\\n</td>\n      <td>6-3CW_Absense-packet.tex</td>\n      <td>2</td>\n    </tr>\n    <tr>\n      <th>874</th>\n      <td>61.0</td>\n      <td>\\n\\n</td>\n      <td>5-3DN_area-units.tex</td>\n      <td>2</td>\n    </tr>\n    <tr>\n      <th>264</th>\n      <td>20.0</td>\n      <td>\\n\\n</td>\n      <td>2-4HW_Parameter-solving.tex</td>\n      <td>2</td>\n    </tr>\n    <tr>\n      <th>291</th>\n      <td>24.0</td>\n      <td>\\n\\n</td>\n      <td>2-6HW_Compound-shapes.tex</td>\n      <td>2</td>\n    </tr>\n    <tr>\n      <th>...</th>\n      <td>...</td>\n      <td>...</td>\n      <td>...</td>\n      <td>...</td>\n    </tr>\n    <tr>\n      <th>2633</th>\n      <td>167.0</td>\n      <td>Mark the missing labels for a reflection acros...</td>\n      <td>10-2DN_Analytics-review.tex</td>\n      <td>1382</td>\n    </tr>\n    <tr>\n      <th>2664</th>\n      <td>170.0</td>\n      <td>Mark the missing labels for a rotation of $180...</td>\n      <td>10-4bDN_Analytics-review.tex</td>\n      <td>1382</td>\n    </tr>\n    <tr>\n      <th>2643</th>\n      <td>168.0</td>\n      <td>Mark the missing labels for a reflection acros...</td>\n      <td>10-2bDN_Analytics-review.tex</td>\n      <td>1382</td>\n    </tr>\n    <tr>\n      <th>2385</th>\n      <td>155.0</td>\n      <td>Two parallel lines intersect a transversal,  $...</td>\n      <td>9-4CW_Triangle-congruence-proof.tex</td>\n      <td>1858</td>\n    </tr>\n    <tr>\n      <th>1394</th>\n      <td>91.0</td>\n      <td>This diagram is an example of what is called `...</td>\n      <td>6-8DN_Euclids-orchard.tex</td>\n      <td>2123</td>\n    </tr>\n  </tbody>\n</table>\n<p>2677 rows × 4 columns</p>\n</div>"
     },
     "metadata": {},
     "execution_count": 45
    }
   ],
   "source": [
    "p_df"
   ]
  },
  {
   "cell_type": "code",
   "execution_count": 46,
   "metadata": {},
   "outputs": [
    {
     "output_type": "execute_result",
     "data": {
      "text/plain": "            problem_set_ID                                           question  \\\nproblem_ID                                                                      \n1273                  82.0  Given $\\overline{ABC}$, with $AB=2x-1$, $BC=3x...   \n1274                  82.0  Given $m\\angle 3 = x+30$ and $m\\angle 5 = 4x-2...   \n1275                  82.0  In the diagram below $m\\angle AOB = 6x+5$ and ...   \n1276                  82.0  The point $K$ is the midpoint of $\\overline{JL...   \n1277                  82.0                                         \\newpage\\n   \n1278                  82.0  On the graph below, $\\overleftrightarrow{AB}$ ...   \n1279                  82.0                                         \\newpage\\n   \n1280                  82.0                                                 \\n   \n1281                  82.0  Triangle $ABC$ is dilated with a scale factor ...   \n1282                  82.0  Find the image of $P(3,1)$ after the translati...   \n1283                  82.0  A translation maps triangle $ABC$ onto triangl...   \n1284                  82.0                                         \\newpage\\n   \n1285                  82.0                                                 \\n   \n1286                  82.0  A dilation centered at $A$ maps $\\triangle ABC...   \n1287                  82.0  Given $\\triangle ABC \\sim \\triangle DEF$. $m\\a...   \n1288                  82.0  Translate $\\triangle ABC$ by $(x,y) \\rightarro...   \n1289                  82.0                                         \\newpage\\n   \n1290                  82.0  Solve for $y$, then graph and label, marking t...   \n1291                  82.0                                         \\newpage\\n   \n1292                  82.0                                                 \\n   \n1293                  82.0  Given two parallel lines and a transversal, as...   \n1294                  82.0  The side $\\overline{AB}$ of triangle $ABC$ is ...   \n1295                  82.0                                      \\newpage   \\n   \n1296                  82.0  The point $Q$ is the midpoint of $\\overline{PR...   \n1297                  82.0  Given $\\overline{PQR}$, with $PQ=3x-7$, $QR=x+...   \n1298                  82.0  Given that $Q$ bisects $\\overline{PR}$. $PQ=2x...   \n1299                  82.0  The points $P$, $Q$, and $R$ are collinear, wi...   \n1300                  82.0                                         \\newpage\\n   \n1301                  82.0  Given isosceles $\\triangle TUV$ with $\\overlin...   \n1302                  82.0  The points $R$, $S$, and $T$ are collinear, wi...   \n1303                  82.0  A translation maps $X(2,-7) \\rightarrow X'(3,5...   \n1304                  82.0                                         \\newpage\\n   \n1305                  82.0                                                 \\n   \n1306                  82.0  Given $\\triangle ABC$ point $D$ on $\\overline{...   \n1307                  82.0  $\\triangle ABC$ is shown with vertices $A(2,-3...   \n1308                  82.0                                         \\newpage\\n   \n1309                  82.0  The shape shown below is composed of straight ...   \n1310                  82.0  Given isosceles $\\triangle RSU$ with $\\overlin...   \n1311                  82.0                                         \\newpage\\n   \n1312                  82.0  One side of the $\\triangle ABC$ has a length $...   \n1313                  82.0  The point $K$ is the midpoint of $\\overline{JL...   \n\n                                file  q_len  \nproblem_ID                                   \n1273        6-3CW_Absense-packet.tex    441  \n1274        6-3CW_Absense-packet.tex    579  \n1275        6-3CW_Absense-packet.tex    797  \n1276        6-3CW_Absense-packet.tex    453  \n1277        6-3CW_Absense-packet.tex      9  \n1278        6-3CW_Absense-packet.tex    951  \n1279        6-3CW_Absense-packet.tex      9  \n1280        6-3CW_Absense-packet.tex      3  \n1281        6-3CW_Absense-packet.tex    669  \n1282        6-3CW_Absense-packet.tex    123  \n1283        6-3CW_Absense-packet.tex    810  \n1284        6-3CW_Absense-packet.tex      9  \n1285        6-3CW_Absense-packet.tex      3  \n1286        6-3CW_Absense-packet.tex    738  \n1287        6-3CW_Absense-packet.tex    213  \n1288        6-3CW_Absense-packet.tex    579  \n1289        6-3CW_Absense-packet.tex      9  \n1290        6-3CW_Absense-packet.tex    560  \n1291        6-3CW_Absense-packet.tex      9  \n1292        6-3CW_Absense-packet.tex      5  \n1293        6-3CW_Absense-packet.tex    968  \n1294        6-3CW_Absense-packet.tex    652  \n1295        6-3CW_Absense-packet.tex     12  \n1296        6-3CW_Absense-packet.tex    104  \n1297        6-3CW_Absense-packet.tex     93  \n1298        6-3CW_Absense-packet.tex     90  \n1299        6-3CW_Absense-packet.tex    146  \n1300        6-3CW_Absense-packet.tex      9  \n1301        6-3CW_Absense-packet.tex    450  \n1302        6-3CW_Absense-packet.tex    480  \n1303        6-3CW_Absense-packet.tex    251  \n1304        6-3CW_Absense-packet.tex      9  \n1305        6-3CW_Absense-packet.tex      2  \n1306        6-3CW_Absense-packet.tex    781  \n1307        6-3CW_Absense-packet.tex    649  \n1308        6-3CW_Absense-packet.tex      9  \n1309        6-3CW_Absense-packet.tex    789  \n1310        6-3CW_Absense-packet.tex    412  \n1311        6-3CW_Absense-packet.tex      9  \n1312        6-3CW_Absense-packet.tex    491  \n1313        6-3CW_Absense-packet.tex    369  ",
      "text/html": "<div>\n<style scoped>\n    .dataframe tbody tr th:only-of-type {\n        vertical-align: middle;\n    }\n\n    .dataframe tbody tr th {\n        vertical-align: top;\n    }\n\n    .dataframe thead th {\n        text-align: right;\n    }\n</style>\n<table border=\"1\" class=\"dataframe\">\n  <thead>\n    <tr style=\"text-align: right;\">\n      <th></th>\n      <th>problem_set_ID</th>\n      <th>question</th>\n      <th>file</th>\n      <th>q_len</th>\n    </tr>\n    <tr>\n      <th>problem_ID</th>\n      <th></th>\n      <th></th>\n      <th></th>\n      <th></th>\n    </tr>\n  </thead>\n  <tbody>\n    <tr>\n      <th>1273</th>\n      <td>82.0</td>\n      <td>Given $\\overline{ABC}$, with $AB=2x-1$, $BC=3x...</td>\n      <td>6-3CW_Absense-packet.tex</td>\n      <td>441</td>\n    </tr>\n    <tr>\n      <th>1274</th>\n      <td>82.0</td>\n      <td>Given $m\\angle 3 = x+30$ and $m\\angle 5 = 4x-2...</td>\n      <td>6-3CW_Absense-packet.tex</td>\n      <td>579</td>\n    </tr>\n    <tr>\n      <th>1275</th>\n      <td>82.0</td>\n      <td>In the diagram below $m\\angle AOB = 6x+5$ and ...</td>\n      <td>6-3CW_Absense-packet.tex</td>\n      <td>797</td>\n    </tr>\n    <tr>\n      <th>1276</th>\n      <td>82.0</td>\n      <td>The point $K$ is the midpoint of $\\overline{JL...</td>\n      <td>6-3CW_Absense-packet.tex</td>\n      <td>453</td>\n    </tr>\n    <tr>\n      <th>1277</th>\n      <td>82.0</td>\n      <td>\\newpage\\n</td>\n      <td>6-3CW_Absense-packet.tex</td>\n      <td>9</td>\n    </tr>\n    <tr>\n      <th>1278</th>\n      <td>82.0</td>\n      <td>On the graph below, $\\overleftrightarrow{AB}$ ...</td>\n      <td>6-3CW_Absense-packet.tex</td>\n      <td>951</td>\n    </tr>\n    <tr>\n      <th>1279</th>\n      <td>82.0</td>\n      <td>\\newpage\\n</td>\n      <td>6-3CW_Absense-packet.tex</td>\n      <td>9</td>\n    </tr>\n    <tr>\n      <th>1280</th>\n      <td>82.0</td>\n      <td>\\n</td>\n      <td>6-3CW_Absense-packet.tex</td>\n      <td>3</td>\n    </tr>\n    <tr>\n      <th>1281</th>\n      <td>82.0</td>\n      <td>Triangle $ABC$ is dilated with a scale factor ...</td>\n      <td>6-3CW_Absense-packet.tex</td>\n      <td>669</td>\n    </tr>\n    <tr>\n      <th>1282</th>\n      <td>82.0</td>\n      <td>Find the image of $P(3,1)$ after the translati...</td>\n      <td>6-3CW_Absense-packet.tex</td>\n      <td>123</td>\n    </tr>\n    <tr>\n      <th>1283</th>\n      <td>82.0</td>\n      <td>A translation maps triangle $ABC$ onto triangl...</td>\n      <td>6-3CW_Absense-packet.tex</td>\n      <td>810</td>\n    </tr>\n    <tr>\n      <th>1284</th>\n      <td>82.0</td>\n      <td>\\newpage\\n</td>\n      <td>6-3CW_Absense-packet.tex</td>\n      <td>9</td>\n    </tr>\n    <tr>\n      <th>1285</th>\n      <td>82.0</td>\n      <td>\\n</td>\n      <td>6-3CW_Absense-packet.tex</td>\n      <td>3</td>\n    </tr>\n    <tr>\n      <th>1286</th>\n      <td>82.0</td>\n      <td>A dilation centered at $A$ maps $\\triangle ABC...</td>\n      <td>6-3CW_Absense-packet.tex</td>\n      <td>738</td>\n    </tr>\n    <tr>\n      <th>1287</th>\n      <td>82.0</td>\n      <td>Given $\\triangle ABC \\sim \\triangle DEF$. $m\\a...</td>\n      <td>6-3CW_Absense-packet.tex</td>\n      <td>213</td>\n    </tr>\n    <tr>\n      <th>1288</th>\n      <td>82.0</td>\n      <td>Translate $\\triangle ABC$ by $(x,y) \\rightarro...</td>\n      <td>6-3CW_Absense-packet.tex</td>\n      <td>579</td>\n    </tr>\n    <tr>\n      <th>1289</th>\n      <td>82.0</td>\n      <td>\\newpage\\n</td>\n      <td>6-3CW_Absense-packet.tex</td>\n      <td>9</td>\n    </tr>\n    <tr>\n      <th>1290</th>\n      <td>82.0</td>\n      <td>Solve for $y$, then graph and label, marking t...</td>\n      <td>6-3CW_Absense-packet.tex</td>\n      <td>560</td>\n    </tr>\n    <tr>\n      <th>1291</th>\n      <td>82.0</td>\n      <td>\\newpage\\n</td>\n      <td>6-3CW_Absense-packet.tex</td>\n      <td>9</td>\n    </tr>\n    <tr>\n      <th>1292</th>\n      <td>82.0</td>\n      <td>\\n</td>\n      <td>6-3CW_Absense-packet.tex</td>\n      <td>5</td>\n    </tr>\n    <tr>\n      <th>1293</th>\n      <td>82.0</td>\n      <td>Given two parallel lines and a transversal, as...</td>\n      <td>6-3CW_Absense-packet.tex</td>\n      <td>968</td>\n    </tr>\n    <tr>\n      <th>1294</th>\n      <td>82.0</td>\n      <td>The side $\\overline{AB}$ of triangle $ABC$ is ...</td>\n      <td>6-3CW_Absense-packet.tex</td>\n      <td>652</td>\n    </tr>\n    <tr>\n      <th>1295</th>\n      <td>82.0</td>\n      <td>\\newpage   \\n</td>\n      <td>6-3CW_Absense-packet.tex</td>\n      <td>12</td>\n    </tr>\n    <tr>\n      <th>1296</th>\n      <td>82.0</td>\n      <td>The point $Q$ is the midpoint of $\\overline{PR...</td>\n      <td>6-3CW_Absense-packet.tex</td>\n      <td>104</td>\n    </tr>\n    <tr>\n      <th>1297</th>\n      <td>82.0</td>\n      <td>Given $\\overline{PQR}$, with $PQ=3x-7$, $QR=x+...</td>\n      <td>6-3CW_Absense-packet.tex</td>\n      <td>93</td>\n    </tr>\n    <tr>\n      <th>1298</th>\n      <td>82.0</td>\n      <td>Given that $Q$ bisects $\\overline{PR}$. $PQ=2x...</td>\n      <td>6-3CW_Absense-packet.tex</td>\n      <td>90</td>\n    </tr>\n    <tr>\n      <th>1299</th>\n      <td>82.0</td>\n      <td>The points $P$, $Q$, and $R$ are collinear, wi...</td>\n      <td>6-3CW_Absense-packet.tex</td>\n      <td>146</td>\n    </tr>\n    <tr>\n      <th>1300</th>\n      <td>82.0</td>\n      <td>\\newpage\\n</td>\n      <td>6-3CW_Absense-packet.tex</td>\n      <td>9</td>\n    </tr>\n    <tr>\n      <th>1301</th>\n      <td>82.0</td>\n      <td>Given isosceles $\\triangle TUV$ with $\\overlin...</td>\n      <td>6-3CW_Absense-packet.tex</td>\n      <td>450</td>\n    </tr>\n    <tr>\n      <th>1302</th>\n      <td>82.0</td>\n      <td>The points $R$, $S$, and $T$ are collinear, wi...</td>\n      <td>6-3CW_Absense-packet.tex</td>\n      <td>480</td>\n    </tr>\n    <tr>\n      <th>1303</th>\n      <td>82.0</td>\n      <td>A translation maps $X(2,-7) \\rightarrow X'(3,5...</td>\n      <td>6-3CW_Absense-packet.tex</td>\n      <td>251</td>\n    </tr>\n    <tr>\n      <th>1304</th>\n      <td>82.0</td>\n      <td>\\newpage\\n</td>\n      <td>6-3CW_Absense-packet.tex</td>\n      <td>9</td>\n    </tr>\n    <tr>\n      <th>1305</th>\n      <td>82.0</td>\n      <td>\\n</td>\n      <td>6-3CW_Absense-packet.tex</td>\n      <td>2</td>\n    </tr>\n    <tr>\n      <th>1306</th>\n      <td>82.0</td>\n      <td>Given $\\triangle ABC$ point $D$ on $\\overline{...</td>\n      <td>6-3CW_Absense-packet.tex</td>\n      <td>781</td>\n    </tr>\n    <tr>\n      <th>1307</th>\n      <td>82.0</td>\n      <td>$\\triangle ABC$ is shown with vertices $A(2,-3...</td>\n      <td>6-3CW_Absense-packet.tex</td>\n      <td>649</td>\n    </tr>\n    <tr>\n      <th>1308</th>\n      <td>82.0</td>\n      <td>\\newpage\\n</td>\n      <td>6-3CW_Absense-packet.tex</td>\n      <td>9</td>\n    </tr>\n    <tr>\n      <th>1309</th>\n      <td>82.0</td>\n      <td>The shape shown below is composed of straight ...</td>\n      <td>6-3CW_Absense-packet.tex</td>\n      <td>789</td>\n    </tr>\n    <tr>\n      <th>1310</th>\n      <td>82.0</td>\n      <td>Given isosceles $\\triangle RSU$ with $\\overlin...</td>\n      <td>6-3CW_Absense-packet.tex</td>\n      <td>412</td>\n    </tr>\n    <tr>\n      <th>1311</th>\n      <td>82.0</td>\n      <td>\\newpage\\n</td>\n      <td>6-3CW_Absense-packet.tex</td>\n      <td>9</td>\n    </tr>\n    <tr>\n      <th>1312</th>\n      <td>82.0</td>\n      <td>One side of the $\\triangle ABC$ has a length $...</td>\n      <td>6-3CW_Absense-packet.tex</td>\n      <td>491</td>\n    </tr>\n    <tr>\n      <th>1313</th>\n      <td>82.0</td>\n      <td>The point $K$ is the midpoint of $\\overline{JL...</td>\n      <td>6-3CW_Absense-packet.tex</td>\n      <td>369</td>\n    </tr>\n  </tbody>\n</table>\n</div>"
     },
     "metadata": {},
     "execution_count": 46
    }
   ],
   "source": [
    "p_df[p_df.problem_set_ID == 82].sort_index()"
   ]
  },
  {
   "cell_type": "code",
   "execution_count": 28,
   "metadata": {
    "tags": []
   },
   "outputs": [
    {
     "output_type": "stream",
     "name": "stdout",
     "text": "<class 'list'>\n['\\n', '\\n', '  \\\\item In the following two problems, solve for the value of $x$.\\n', '  \\\\begin{multicols}{2}\\n', '    \\\\begin{enumerate}\\n', '      \\\\item   $x-5=12$ \\\\vspace{6cm}\\n', '      \\\\item   $13-x=-3$ \\\\vspace{6cm}\\n', '    \\\\end{enumerate}\\n', '  \\\\end{multicols}\\n', '    \\\\vspace{3cm}\\n', '\\n', '  \\\\item Given $g(x)=x^2-5x+15$. Simplify $g(0)$. \\\\vspace{3cm}\\n', '  \\\\item Given $f(x)=3x-2$. Solve for $x$ such that for $f(x)=13$. \\\\vspace{4cm}\\n', '  \\\\item Given $h(x)=x^2-x-12$. Solve $h(x)=0$. \\\\vspace{5cm}\\n', '  \\n', '\\n', '  \\\\item Simplify each expression. (Leave it in radical form if necessary, not a decimal.)\\n', '    \\\\begin{enumerate}\\n', '      \\\\begin{multicols}{2}\\n', '      \\\\item   $\\\\sqrt{25}$ \\\\vspace{1.5cm}\\n', '      \\\\item   $\\\\sqrt{24}$ \\\\vspace{1.5cm}\\n', '      \\\\end{multicols}\\n', '    \\\\end{enumerate}\\n', '    \\\\vspace{0.5cm}\\n', '\\n', '\\\\newpage\\n', '\\n', '\\\\item The line $l$ has the equation $y=\\\\frac{3}{2}x-1$. \\n', '\\\\begin{enumerate}\\n', \"  \\\\item Write down it's slope. $m=$\\n\", '  \\\\vspace{0.5cm}\\n', \"  \\\\item Write down it's $y$-intercept. $b=$\\n\", '  \\\\vspace{0.5cm}\\n', '  \\\\item Is the point $(4, 4)$ on the line $l$? Justify your answer.\\n', '\\\\end{enumerate}\\n', '\\\\vspace{2.5cm}\\n', '\\n', '\\\\item On the grid below, graph the line $y=-\\\\frac{1}{2}x+2$.\\n', '  \\\\vspace{0.5cm}\\n', '\\n', '    \\\\begin{center} %4 quadrant regents grid w T-Chart\\n', '    \\\\begin{tikzpicture}[scale=.635]\\n', '      \\\\draw [help lines] (-10,-10) grid (10,10);\\n', '      \\\\draw [thick, ->] (-10.2,0) -- (10.4,0) node [below right] {$x$};\\n', '      \\\\draw [thick, ->] (0,-10.2)--(0,10.4) node [left] {$y$};\\n', '    \\\\end{tikzpicture}\\n', '    \\\\end{center}\\n', '\\n', '\\\\end{enumerate}\\n', '\\n']\n"
    }
   ],
   "source": [
    "body = pset_df.loc[2, 'body']\n",
    "print(type(body))\n",
    "print(body)"
   ]
  },
  {
   "cell_type": "code",
   "execution_count": 28,
   "metadata": {},
   "outputs": [
    {
     "output_type": "execute_result",
     "data": {
      "text/plain": "'  \\\\newpage\\n'"
     },
     "metadata": {},
     "execution_count": 28
    }
   ],
   "source": [
    "p_df.loc[1240].question #561, 1240"
   ]
  },
  {
   "cell_type": "code",
   "execution_count": 36,
   "metadata": {
    "tags": []
   },
   "outputs": [
    {
     "output_type": "execute_result",
     "data": {
      "text/plain": "            problem_set_ID    question  q_len                          file\nproblem_ID                                                                 \n884                   62.0  \\newpage\\n      9   5-4DN-similarity-ratios.tex\n1621                 109.0  \\newpage\\n      9            7-4bCW_Tangent.tex\n876                   61.0  \\newpage\\n      9          5-3DN_area-units.tex\n1606                 107.0  \\newpage\\n      9       7-3HW_AA-similarity.tex\n2531                 162.0  \\newpage\\n      9  9-8bDN-Similarity-review.tex",
      "text/html": "<div>\n<style scoped>\n    .dataframe tbody tr th:only-of-type {\n        vertical-align: middle;\n    }\n\n    .dataframe tbody tr th {\n        vertical-align: top;\n    }\n\n    .dataframe thead th {\n        text-align: right;\n    }\n</style>\n<table border=\"1\" class=\"dataframe\">\n  <thead>\n    <tr style=\"text-align: right;\">\n      <th></th>\n      <th>problem_set_ID</th>\n      <th>question</th>\n      <th>q_len</th>\n      <th>file</th>\n    </tr>\n    <tr>\n      <th>problem_ID</th>\n      <th></th>\n      <th></th>\n      <th></th>\n      <th></th>\n    </tr>\n  </thead>\n  <tbody>\n    <tr>\n      <th>884</th>\n      <td>62.0</td>\n      <td>\\newpage\\n</td>\n      <td>9</td>\n      <td>5-4DN-similarity-ratios.tex</td>\n    </tr>\n    <tr>\n      <th>1621</th>\n      <td>109.0</td>\n      <td>\\newpage\\n</td>\n      <td>9</td>\n      <td>7-4bCW_Tangent.tex</td>\n    </tr>\n    <tr>\n      <th>876</th>\n      <td>61.0</td>\n      <td>\\newpage\\n</td>\n      <td>9</td>\n      <td>5-3DN_area-units.tex</td>\n    </tr>\n    <tr>\n      <th>1606</th>\n      <td>107.0</td>\n      <td>\\newpage\\n</td>\n      <td>9</td>\n      <td>7-3HW_AA-similarity.tex</td>\n    </tr>\n    <tr>\n      <th>2531</th>\n      <td>162.0</td>\n      <td>\\newpage\\n</td>\n      <td>9</td>\n      <td>9-8bDN-Similarity-review.tex</td>\n    </tr>\n  </tbody>\n</table>\n</div>"
     },
     "metadata": {},
     "execution_count": 36
    }
   ],
   "source": [
    "problem_df.drop(problem_df.iloc[:57].index, inplace=True) #careful to check rows before deleting (only once)"
   ]
  },
  {
   "cell_type": "code",
   "execution_count": 73,
   "metadata": {
    "tags": []
   },
   "outputs": [],
   "source": [
    "newpage_df = problem_df[problem_df.q_len < 13].copy()\n",
    "problem_df = problem_df[problem_df.q_len > 12]\n",
    "#newpage_df = newpage_df.append(problem_df[problem_df.q_len == 10])"
   ]
  },
  {
   "cell_type": "code",
   "execution_count": 77,
   "metadata": {
    "tags": []
   },
   "outputs": [
    {
     "output_type": "stream",
     "name": "stdout",
     "text": "Int64Index([1221, 2578,  334,  121,  282,  288, 1904,  316, 1750, 1930,  295,\n             329,  160,  430,   67,  452, 2541,   89,  368,   95],\n           dtype='int64', name='problem_ID')\n"
    }
   ],
   "source": [
    "len13 = problem_df[problem_df.q_len == 13].index\n",
    "print(len13)"
   ]
  },
  {
   "cell_type": "code",
   "execution_count": 80,
   "metadata": {},
   "outputs": [
    {
     "output_type": "execute_result",
     "data": {
      "text/plain": "            problem_set_ID        question  q_len  \\\nproblem_ID                                          \n929                   68.0      \\newpage\\n     12   \n917                   67.0      \\newpage\\n     12   \n1221                  79.0      \\newpage\\n     13   \n2578                 164.0  \\newpage    \\n     13   \n121                   12.0      \\newpage\\n     13   \n282                   22.0      \\newpage\\n     13   \n288                   23.0      \\newpage\\n     13   \n1904                 129.0  \\newpage    \\n     13   \n316                   27.0      \\newpage\\n     13   \n1750                 116.0  \\newpage    \\n     13   \n1930                 130.0  \\newpage    \\n     13   \n295                   24.0      \\newpage\\n     13   \n329                   28.0     \\newpage \\n     13   \n160                   14.0      \\newpage\\n     13   \n430                   39.0      \\newpage\\n     13   \n67                     7.0      \\newpage\\n     13   \n452                   42.0      \\newpage\\n     13   \n2541                 163.0  \\newpage    \\n     13   \n89                     9.0      \\newpage\\n     13   \n95                    10.0      \\newpage\\n     13   \n\n                                           file  \nproblem_ID                                       \n929                5-8DNb-similarity-ratios.tex  \n917                 5-8DN-similarity-ratios.tex  \n1221             6-12Exam-Analytic-geometry.tex  \n2578               9-9bExam-transformations.tex  \n121                           1-7Exam-spicy.tex  \n282                         2-5HW_Perimeter.tex  \n288                2-6DN_Distance+Perimeter.tex  \n1904              8-1DN_Circle-trajectories.tex  \n316         2-7DN_Compound-areas+perimeters.tex  \n1750                     7-7Exam-Similarity.tex  \n1930                          8-1DN_Circles.tex  \n295                   2-6HW_Compound-shapes.tex  \n329            2-7Pretest_areas+numberlines.tex  \n160                              1-HW-Intro.tex  \n430                       3-3DN_Area+volume.tex  \n67             1-5HW_Pretest-segments-intro.tex  \n452           3-7DN_Segment-modeling+volume.tex  \n2541                9-9Exam-transformations.tex  \n89                        1-6HW_Angle-pairs.tex  \n95                            1-7Exam-Intro.tex  ",
      "text/html": "<div>\n<style scoped>\n    .dataframe tbody tr th:only-of-type {\n        vertical-align: middle;\n    }\n\n    .dataframe tbody tr th {\n        vertical-align: top;\n    }\n\n    .dataframe thead th {\n        text-align: right;\n    }\n</style>\n<table border=\"1\" class=\"dataframe\">\n  <thead>\n    <tr style=\"text-align: right;\">\n      <th></th>\n      <th>problem_set_ID</th>\n      <th>question</th>\n      <th>q_len</th>\n      <th>file</th>\n    </tr>\n    <tr>\n      <th>problem_ID</th>\n      <th></th>\n      <th></th>\n      <th></th>\n      <th></th>\n    </tr>\n  </thead>\n  <tbody>\n    <tr>\n      <th>929</th>\n      <td>68.0</td>\n      <td>\\newpage\\n</td>\n      <td>12</td>\n      <td>5-8DNb-similarity-ratios.tex</td>\n    </tr>\n    <tr>\n      <th>917</th>\n      <td>67.0</td>\n      <td>\\newpage\\n</td>\n      <td>12</td>\n      <td>5-8DN-similarity-ratios.tex</td>\n    </tr>\n    <tr>\n      <th>1221</th>\n      <td>79.0</td>\n      <td>\\newpage\\n</td>\n      <td>13</td>\n      <td>6-12Exam-Analytic-geometry.tex</td>\n    </tr>\n    <tr>\n      <th>2578</th>\n      <td>164.0</td>\n      <td>\\newpage    \\n</td>\n      <td>13</td>\n      <td>9-9bExam-transformations.tex</td>\n    </tr>\n    <tr>\n      <th>121</th>\n      <td>12.0</td>\n      <td>\\newpage\\n</td>\n      <td>13</td>\n      <td>1-7Exam-spicy.tex</td>\n    </tr>\n    <tr>\n      <th>282</th>\n      <td>22.0</td>\n      <td>\\newpage\\n</td>\n      <td>13</td>\n      <td>2-5HW_Perimeter.tex</td>\n    </tr>\n    <tr>\n      <th>288</th>\n      <td>23.0</td>\n      <td>\\newpage\\n</td>\n      <td>13</td>\n      <td>2-6DN_Distance+Perimeter.tex</td>\n    </tr>\n    <tr>\n      <th>1904</th>\n      <td>129.0</td>\n      <td>\\newpage    \\n</td>\n      <td>13</td>\n      <td>8-1DN_Circle-trajectories.tex</td>\n    </tr>\n    <tr>\n      <th>316</th>\n      <td>27.0</td>\n      <td>\\newpage\\n</td>\n      <td>13</td>\n      <td>2-7DN_Compound-areas+perimeters.tex</td>\n    </tr>\n    <tr>\n      <th>1750</th>\n      <td>116.0</td>\n      <td>\\newpage    \\n</td>\n      <td>13</td>\n      <td>7-7Exam-Similarity.tex</td>\n    </tr>\n    <tr>\n      <th>1930</th>\n      <td>130.0</td>\n      <td>\\newpage    \\n</td>\n      <td>13</td>\n      <td>8-1DN_Circles.tex</td>\n    </tr>\n    <tr>\n      <th>295</th>\n      <td>24.0</td>\n      <td>\\newpage\\n</td>\n      <td>13</td>\n      <td>2-6HW_Compound-shapes.tex</td>\n    </tr>\n    <tr>\n      <th>329</th>\n      <td>28.0</td>\n      <td>\\newpage \\n</td>\n      <td>13</td>\n      <td>2-7Pretest_areas+numberlines.tex</td>\n    </tr>\n    <tr>\n      <th>160</th>\n      <td>14.0</td>\n      <td>\\newpage\\n</td>\n      <td>13</td>\n      <td>1-HW-Intro.tex</td>\n    </tr>\n    <tr>\n      <th>430</th>\n      <td>39.0</td>\n      <td>\\newpage\\n</td>\n      <td>13</td>\n      <td>3-3DN_Area+volume.tex</td>\n    </tr>\n    <tr>\n      <th>67</th>\n      <td>7.0</td>\n      <td>\\newpage\\n</td>\n      <td>13</td>\n      <td>1-5HW_Pretest-segments-intro.tex</td>\n    </tr>\n    <tr>\n      <th>452</th>\n      <td>42.0</td>\n      <td>\\newpage\\n</td>\n      <td>13</td>\n      <td>3-7DN_Segment-modeling+volume.tex</td>\n    </tr>\n    <tr>\n      <th>2541</th>\n      <td>163.0</td>\n      <td>\\newpage    \\n</td>\n      <td>13</td>\n      <td>9-9Exam-transformations.tex</td>\n    </tr>\n    <tr>\n      <th>89</th>\n      <td>9.0</td>\n      <td>\\newpage\\n</td>\n      <td>13</td>\n      <td>1-6HW_Angle-pairs.tex</td>\n    </tr>\n    <tr>\n      <th>95</th>\n      <td>10.0</td>\n      <td>\\newpage\\n</td>\n      <td>13</td>\n      <td>1-7Exam-Intro.tex</td>\n    </tr>\n  </tbody>\n</table>\n</div>"
     },
     "metadata": {},
     "execution_count": 80
    }
   ],
   "source": [
    "#newpage_df\n",
    "newpage_df = newpage_df.append(problem_df.loc[[1221, 2578, 121, 282, 288, 1904, 316, 1750, 1930, 295, 329,  160,  430,   67,  452, 2541, 89, 95]])\n",
    "problem_df.drop([1221, 2578, 121, 282, 288, 1904, 316, 1750, 1930, 295, 329,  160,  430,   67,  452, 2541, 89, 95], inplace=True)\n",
    "newpage_df = newpage_df.append(problem_df.loc[[1959, 1900, 102, 76, 107, 73]])\n",
    "problem_df.drop([1959, 1900, 102, 76, 107, 73], inplace=True)"
   ]
  },
  {
   "cell_type": "code",
   "execution_count": null,
   "metadata": {},
   "outputs": [],
   "source": []
  },
  {
   "cell_type": "code",
   "execution_count": 87,
   "metadata": {
    "tags": []
   },
   "outputs": [
    {
     "output_type": "stream",
     "name": "stdout",
     "text": "Translate $\\triangle ABC$ by $(x,y) \\rightarrow (x+3, y-5)$. Label the image $\\triangle A'B'C'$.\n  \\begin{center}\n      \\begin{tikzpicture}[scale=.48]\n      \\draw [help lines] (-7,-5) grid (10,6);\n      \\draw [thick, <->] (-7.4,0) -- (10.4,0) node [right] {$x$};\n      \\draw [thick, <->] (0,-5.4)--(0,6.4) node [above] {$y$};  \n      \\draw [thick]\n        (-4,4) node[below left] {$A$}--\n        (3,4) node[above] {$B$}--\n        (1,1) node[below] {$C$}--cycle;  \n    \\end{tikzpicture}\n  \\end{center}\n\n  \n  \\begin{multicols}{2}\n\nWhat transformation maps $\\triangle ABC$ onto $\\triangle DEC$, shown below? Fully specify the transformation. Complete the table of mappings to  corresponding objects.]  \\vspace{0.5cm}\n    \\begin{enumerate}\n      \\item $A \\rightarrow$ \\rule{2cm}{0.15mm}\n      \\item $B \\rightarrow$ \\rule{2cm}{0.15mm}\n      \\item $C \\rightarrow$ \\rule{2cm}{0.15mm}\n      \\item $\\angle ACB \\cong$ \\rule{2cm}{0.15mm}\n      \\item \\rule{2cm}{0.15mm} $\\cong \\overline {DE}$\n    \\end{enumerate}\n    \\begin{tikzpicture}[scale=.48]\n      \\draw [help lines] (-4,-3) grid (9,8);\n      \\draw [thick, <->] (-4.4,0) -- (9.4,0) node [right] {$x$};\n      \\draw [thick, <->] (0,-3.4)--(0,8.4) node [above] {$y$};  \n      \\draw [thick]\n      (4,-2) node[below left] {$A$}--\n      (7,1) node[right] {$B$}--\n      (1,1) node[below left] {$C$}--cycle;  \n      \\draw [thick]\n      (4,4) node[right] {$D$}--\n      (1,7) node[left] {$E$}--\n      (1,1) --cycle; \n    \\end{tikzpicture}\n  \\end{multicols}\n  \n  \\begin{multicols}{2}\n\nReflect $\\triangle TRS$ across the $y$-axis, labeling the image $\\triangle T'R'S'$. Check those properties that are maintained by reflection.]  \\vspace{0.5cm}\n    \\begin{itemize}\n\n$\\square$] Length\n\n$\\square$] Angle measures\n\n$\\square$] Orientation\n\n$\\square$] Parallel relationships\n\n$\\square$] Area\n    \\end{itemize}\n    \\begin{tikzpicture}[scale=.48]\n      \\draw [help lines] (-7,-4) grid (7,5);\n      \\draw [thick, <->] (-7.4,0) -- (7.4,0) node [right] {$x$};\n      \\draw [thick, <->] (0,-4.4)--(0,5.4) node [above] {$y$};  \n      \\draw [thick]\n      (4,-2) node[below left] {$T$}--\n      (5,1) node[right] {$R$}--\n      (2,2) node[below left] {$S$}--cycle;\n    \\end{tikzpicture}\n  \\end{multicols}\n\n\n  \\begin{multicols}{2}\n\nA translation maps triangle $PQR$ onto triangle $STU$.] \\vspace{0.5cm}\n      \\begin{tikzpicture}[scale=0.9]\n        \\coordinate [label=above left:$P$](A) at (95:2);\n        \\coordinate [label=below:$Q$](B) at (0, 0);\n        \\coordinate [label=right:$R$](C) at (-10:3.5);\n        \\draw [thick] (A)--(B)--(C)--cycle;\n        \\draw [thick, xshift=3cm, yshift=1.5cm] (95:2) node[above]{$S$}--\n        (0,0) node[below]{$T$}--\n        (-10:3.5) node[right]{$U$}--cycle;\n      \\end{tikzpicture}\\\\\n      Write each corresponding object.\n      \\begin{enumerate}\n        \\item $Q \\rightarrow$ \\rule{2cm}{0.15mm}\n        \\item $\\angle QRP \\cong$ \\rule{2cm}{0.15mm}\n        \\item \\rule{2cm}{0.15mm} $\\cong \\overline {ST}$\n        \\item Justify $\\triangle PQR \\cong \\triangle STU$. Use the words ``rigid motion\".\n      \\end{enumerate}\n    \\end{multicols}  \\vspace{2cm}\n\n\nCheck those transformations that are rigid motions.\n    \\begin{itemize}\n\n$\\square$] Dilation\n\n$\\square$] Translation\n\n$\\square$] Reflection\n\n$\\square$] Rotation\n\n$\\square$] An isometry\n\n$\\square$] Horizontal stretch\n    \\end{itemize}\n\n  \\begin{multicols}{2}\n\nA rigid motion maps $\\triangle DEF$ onto $\\triangle LMN$. Fill in the blanks.] \\vspace{0.5cm}\n      The following is given:\\\\*[0.5cm]\n      $DE=10$ \\\\\n      $m\\angle E = 40^\\circ$ \\\\\n      $m\\angle F = 110^\\circ$ \\\\[0.5cm]\n      \\columnbreak\n      \n      \\begin{enumerate}\n        \\item $D \\rightarrow$ \\rule{2cm}{0.15mm}\n        \\item $LM =$ \\rule{2cm}{0.15mm}\n        \\item $m\\angle M =$ \\rule{2cm}{0.15mm}\n        \\item $\\overline{LM} \\cong$ \\rule{2cm}{0.15mm}\n      \\end{enumerate}\n    \\end{multicols} \n\n\nGiven $\\triangle JKL \\sim \\triangle MNO$. $m\\angle K = 40^\\circ$ and $m\\angle M = 100^\\circ$.\\\\\n    Find the measure of $\\angle J$. \\vspace{3cm}\n\n\n\n\n"
    }
   ],
   "source": [
    "for q in problem_df[problem_df.file == '9-1DN_Correspondence.tex'].sort_index().question:\n",
    "    print(q)"
   ]
  },
  {
   "cell_type": "code",
   "execution_count": null,
   "metadata": {},
   "outputs": [],
   "source": []
  },
  {
   "cell_type": "code",
   "execution_count": 270,
   "metadata": {},
   "outputs": [
    {
     "output_type": "execute_result",
     "data": {
      "text/plain": "            problem_set_ID                                           question  \\\nproblem_ID                                                                      \n1754                   140  \\n\\subsubsection*{Draw a linear pair with give...   \n1785                   142  \\subsubsection*{Perpendicular (bisector, throu...   \n1815                   144  \\n\\begin{enumerate}\\n\\subsubsection*{Segment a...   \n964                     91   \\fancyhead[L]{BECA / Dr. Huson / 10th Grade G...   \n356                     24  \\subsubsection*{Circle the appropriate equatio...   \n111                      3  \\subsubsection*{Do Now 1b.6: Angle pair practi...   \n1442                   120  \\setcounter{page}{1}\\n%\\subsubsection*{13-1 Ho...   \n1631                   133  \\setcounter{page}{1}\\n\\subsubsection*{13.9 Exi...   \n1759                   140  \\emph{variation} Given two perpendicular rays,...   \n1757                   140  \\n\\subsubsection*{Vertical angle algebra}\\n  \\...   \n1756                   140  \\n\\subsubsection*{Complementary \\& supplementa...   \n1042                    94   \\fancyhead[L]{BECA / Dr. Huson / 10th Grade G...   \n1035                    94    \\setcounter{page}{1}\\n\\subsubsection*{9.10 H...   \n1749                   139  \\n  \\begin{enumerate}\\n    \\subsubsection*{Abs...   \n1231                   102    \\setcounter{page}{1}\\n\\subsubsection*{10.10 ...   \n\n            n_begin_enumerate  n_end_enumerate  n_sub-subsection  n_subsection  \nproblem_ID                                                                      \n1754                        5                4                 3             0  \n1785                        0                0                 2             0  \n1815                        2                1                 2             0  \n964                         2                1                 1             0  \n356                         0                0                 1             0  \n111                         2                1                 1             0  \n1442                        2                1                 1             0  \n1631                        1                0                 1             0  \n1759                        0                0                 1             0  \n1757                        2                1                 1             0  \n1756                        2                1                 1             0  \n1042                        2                1                 1             0  \n1035                        2                1                 1             0  \n1749                        1                1                 1             0  \n1231                        2                1                 1             0  ",
      "text/html": "<div>\n<style scoped>\n    .dataframe tbody tr th:only-of-type {\n        vertical-align: middle;\n    }\n\n    .dataframe tbody tr th {\n        vertical-align: top;\n    }\n\n    .dataframe thead th {\n        text-align: right;\n    }\n</style>\n<table border=\"1\" class=\"dataframe\">\n  <thead>\n    <tr style=\"text-align: right;\">\n      <th></th>\n      <th>problem_set_ID</th>\n      <th>question</th>\n      <th>n_begin_enumerate</th>\n      <th>n_end_enumerate</th>\n      <th>n_sub-subsection</th>\n      <th>n_subsection</th>\n    </tr>\n    <tr>\n      <th>problem_ID</th>\n      <th></th>\n      <th></th>\n      <th></th>\n      <th></th>\n      <th></th>\n      <th></th>\n    </tr>\n  </thead>\n  <tbody>\n    <tr>\n      <th>1754</th>\n      <td>140</td>\n      <td>\\n\\subsubsection*{Draw a linear pair with give...</td>\n      <td>5</td>\n      <td>4</td>\n      <td>3</td>\n      <td>0</td>\n    </tr>\n    <tr>\n      <th>1785</th>\n      <td>142</td>\n      <td>\\subsubsection*{Perpendicular (bisector, throu...</td>\n      <td>0</td>\n      <td>0</td>\n      <td>2</td>\n      <td>0</td>\n    </tr>\n    <tr>\n      <th>1815</th>\n      <td>144</td>\n      <td>\\n\\begin{enumerate}\\n\\subsubsection*{Segment a...</td>\n      <td>2</td>\n      <td>1</td>\n      <td>2</td>\n      <td>0</td>\n    </tr>\n    <tr>\n      <th>964</th>\n      <td>91</td>\n      <td>\\fancyhead[L]{BECA / Dr. Huson / 10th Grade G...</td>\n      <td>2</td>\n      <td>1</td>\n      <td>1</td>\n      <td>0</td>\n    </tr>\n    <tr>\n      <th>356</th>\n      <td>24</td>\n      <td>\\subsubsection*{Circle the appropriate equatio...</td>\n      <td>0</td>\n      <td>0</td>\n      <td>1</td>\n      <td>0</td>\n    </tr>\n    <tr>\n      <th>111</th>\n      <td>3</td>\n      <td>\\subsubsection*{Do Now 1b.6: Angle pair practi...</td>\n      <td>2</td>\n      <td>1</td>\n      <td>1</td>\n      <td>0</td>\n    </tr>\n    <tr>\n      <th>1442</th>\n      <td>120</td>\n      <td>\\setcounter{page}{1}\\n%\\subsubsection*{13-1 Ho...</td>\n      <td>2</td>\n      <td>1</td>\n      <td>1</td>\n      <td>0</td>\n    </tr>\n    <tr>\n      <th>1631</th>\n      <td>133</td>\n      <td>\\setcounter{page}{1}\\n\\subsubsection*{13.9 Exi...</td>\n      <td>1</td>\n      <td>0</td>\n      <td>1</td>\n      <td>0</td>\n    </tr>\n    <tr>\n      <th>1759</th>\n      <td>140</td>\n      <td>\\emph{variation} Given two perpendicular rays,...</td>\n      <td>0</td>\n      <td>0</td>\n      <td>1</td>\n      <td>0</td>\n    </tr>\n    <tr>\n      <th>1757</th>\n      <td>140</td>\n      <td>\\n\\subsubsection*{Vertical angle algebra}\\n  \\...</td>\n      <td>2</td>\n      <td>1</td>\n      <td>1</td>\n      <td>0</td>\n    </tr>\n    <tr>\n      <th>1756</th>\n      <td>140</td>\n      <td>\\n\\subsubsection*{Complementary \\&amp; supplementa...</td>\n      <td>2</td>\n      <td>1</td>\n      <td>1</td>\n      <td>0</td>\n    </tr>\n    <tr>\n      <th>1042</th>\n      <td>94</td>\n      <td>\\fancyhead[L]{BECA / Dr. Huson / 10th Grade G...</td>\n      <td>2</td>\n      <td>1</td>\n      <td>1</td>\n      <td>0</td>\n    </tr>\n    <tr>\n      <th>1035</th>\n      <td>94</td>\n      <td>\\setcounter{page}{1}\\n\\subsubsection*{9.10 H...</td>\n      <td>2</td>\n      <td>1</td>\n      <td>1</td>\n      <td>0</td>\n    </tr>\n    <tr>\n      <th>1749</th>\n      <td>139</td>\n      <td>\\n  \\begin{enumerate}\\n    \\subsubsection*{Abs...</td>\n      <td>1</td>\n      <td>1</td>\n      <td>1</td>\n      <td>0</td>\n    </tr>\n    <tr>\n      <th>1231</th>\n      <td>102</td>\n      <td>\\setcounter{page}{1}\\n\\subsubsection*{10.10 ...</td>\n      <td>2</td>\n      <td>1</td>\n      <td>1</td>\n      <td>0</td>\n    </tr>\n  </tbody>\n</table>\n</div>"
     },
     "metadata": {},
     "execution_count": 270
    }
   ],
   "source": [
    "p_df = problems_df.copy()\n",
    "p_df['n_begin_enumerate'] = problems_df.question.str.count(r'\\\\begin{enumerate}')\n",
    "p_df['n_end_enumerate'] = problems_df.question.str.count('end{enumerate}')\n",
    "p_df['n_sub-subsection'] = problems_df.question.str.count(r'\\\\subsubsection')\n",
    "p_df['n_subsection'] = problems_df.question.str.count(r'\\\\subsection')\n",
    "p_df.sort_values('n_sub-subsection', ascending=False)[:15]"
   ]
  }
 ]
}