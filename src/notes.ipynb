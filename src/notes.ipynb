{
 "metadata": {
  "language_info": {
   "codemirror_mode": {
    "name": "ipython",
    "version": 3
   },
   "file_extension": ".py",
   "mimetype": "text/x-python",
   "name": "python",
   "nbconvert_exporter": "python",
   "pygments_lexer": "ipython3",
   "version": 3
  },
  "orig_nbformat": 2,
  "kernelspec": {
   "name": "python_defaultSpec_1596811256884",
   "display_name": "Python 3.7.6 64-bit ('base': conda)"
  }
 },
 "nbformat": 4,
 "nbformat_minor": 2,
 "cells": [
  {
   "cell_type": "code",
   "execution_count": 78,
   "metadata": {
    "tags": []
   },
   "outputs": [
    {
     "output_type": "execute_result",
     "data": {
      "text/plain": "'/Users/chris/GitHub/mathai/src'"
     },
     "metadata": {},
     "execution_count": 78
    }
   ],
   "source": [
    "import os\n",
    "import sys\n",
    "import pandas as pd\n",
    "import numpy as np\n",
    "from ast import literal_eval\n",
    "\n",
    "os.getcwd()"
   ]
  },
  {
   "cell_type": "markdown",
   "metadata": {},
   "source": [
    "## problems and problem set dataframes, refactoring"
   ]
  },
  {
   "cell_type": "code",
   "execution_count": 105,
   "metadata": {
    "tags": []
   },
   "outputs": [],
   "source": [
    "problems_df = pd.read_csv('../db/problems_df.csv', index_col='problem_ID')\n",
    "cols_into_lists = {'problem_IDs':literal_eval, 'head':literal_eval, 'body':literal_eval, 'problems_list':literal_eval}\n",
    "problem_sets_df = pd.read_csv('../db/problem_sets_df.csv', index_col='problem_set_ID', converters=cols_into_lists)"
   ]
  },
  {
   "cell_type": "code",
   "execution_count": 108,
   "metadata": {
    "tags": []
   },
   "outputs": [
    {
     "output_type": "display_data",
     "data": {
      "text/plain": "            problem_set_ID                                           question\nproblem_ID                                                                   \n0                        0  Points that are all located on the same line a...\n1                        0  Use symbols to write the name of each geometri...",
      "text/html": "<div>\n<style scoped>\n    .dataframe tbody tr th:only-of-type {\n        vertical-align: middle;\n    }\n\n    .dataframe tbody tr th {\n        vertical-align: top;\n    }\n\n    .dataframe thead th {\n        text-align: right;\n    }\n</style>\n<table border=\"1\" class=\"dataframe\">\n  <thead>\n    <tr style=\"text-align: right;\">\n      <th></th>\n      <th>problem_set_ID</th>\n      <th>question</th>\n    </tr>\n    <tr>\n      <th>problem_ID</th>\n      <th></th>\n      <th></th>\n    </tr>\n  </thead>\n  <tbody>\n    <tr>\n      <th>0</th>\n      <td>0</td>\n      <td>Points that are all located on the same line a...</td>\n    </tr>\n    <tr>\n      <th>1</th>\n      <td>0</td>\n      <td>Use symbols to write the name of each geometri...</td>\n    </tr>\n  </tbody>\n</table>\n</div>"
     },
     "metadata": {}
    },
    {
     "output_type": "stream",
     "name": "stdout",
     "text": "problem count:  1855\n\nquestion text length min, mean, max:\n 2 506 3217 \n\nproblem_set_ID <class 'numpy.int64'>\nquestion <class 'str'>\n"
    }
   ],
   "source": [
    "# Problems DF\n",
    "display(problems_df.head(2))\n",
    "print('problem count: ', len(problems_df))\n",
    "\n",
    "question_lengths = problems_df.question.apply(len)\n",
    "print('\\nquestion text length min, mean, max:\\n', question_lengths.min(), \n",
    "    round(question_lengths.mean()), question_lengths.max(), '\\n')\n",
    "\n",
    "#for col in problems_df.columns:\n",
    "#    print(col, type(problems_df.loc[0,col]))"
   ]
  },
  {
   "cell_type": "code",
   "execution_count": 137,
   "metadata": {
    "tags": []
   },
   "outputs": [
    {
     "output_type": "display_data",
     "data": {
      "text/plain": "                                                         filename  \\\nproblem_set_ID                                                      \n146             /Users/chris/GitHub/course-files/Geometry/15-T...   \n147             /Users/chris/GitHub/course-files/Geometry/15-T...   \n\n                                                             head  \\\nproblem_set_ID                                                      \n146             [\\begin{document}\\n, \\subsubsection*{Transvers...   \n147                 [\\begin{document}\\n, \\subsubsection*{Trig}\\n]   \n\n                                                             body  \\\nproblem_set_ID                                                      \n146             [  \\item Corresponding angles\\n,   \\item Alter...   \n147             [    \\item Slope as $\\tan \\theta$\\n,     \\item...   \n\n                                                    problems_list  \\\nproblem_set_ID                                                      \n146             [Corresponding angles\\n, Alternate interior an...   \n147             [Slope as $\\tan \\theta$\\n, calculate sine, cos...   \n\n                problem_count  \\\nproblem_set_ID                  \n146                         6   \n147                         9   \n\n                                                      problem_IDs  \nproblem_set_ID                                                     \n146                          [1825, 1826, 1827, 1828, 1829, 1830]  \n147             [1831, 1832, 1833, 1834, 1835, 1836, 1837, 183...  ",
      "text/html": "<div>\n<style scoped>\n    .dataframe tbody tr th:only-of-type {\n        vertical-align: middle;\n    }\n\n    .dataframe tbody tr th {\n        vertical-align: top;\n    }\n\n    .dataframe thead th {\n        text-align: right;\n    }\n</style>\n<table border=\"1\" class=\"dataframe\">\n  <thead>\n    <tr style=\"text-align: right;\">\n      <th></th>\n      <th>filename</th>\n      <th>head</th>\n      <th>body</th>\n      <th>problems_list</th>\n      <th>problem_count</th>\n      <th>problem_IDs</th>\n    </tr>\n    <tr>\n      <th>problem_set_ID</th>\n      <th></th>\n      <th></th>\n      <th></th>\n      <th></th>\n      <th></th>\n      <th></th>\n    </tr>\n  </thead>\n  <tbody>\n    <tr>\n      <th>146</th>\n      <td>/Users/chris/GitHub/course-files/Geometry/15-T...</td>\n      <td>[\\begin{document}\\n, \\subsubsection*{Transvers...</td>\n      <td>[  \\item Corresponding angles\\n,   \\item Alter...</td>\n      <td>[Corresponding angles\\n, Alternate interior an...</td>\n      <td>6</td>\n      <td>[1825, 1826, 1827, 1828, 1829, 1830]</td>\n    </tr>\n    <tr>\n      <th>147</th>\n      <td>/Users/chris/GitHub/course-files/Geometry/15-T...</td>\n      <td>[\\begin{document}\\n, \\subsubsection*{Trig}\\n]</td>\n      <td>[    \\item Slope as $\\tan \\theta$\\n,     \\item...</td>\n      <td>[Slope as $\\tan \\theta$\\n, calculate sine, cos...</td>\n      <td>9</td>\n      <td>[1831, 1832, 1833, 1834, 1835, 1836, 1837, 183...</td>\n    </tr>\n  </tbody>\n</table>\n</div>"
     },
     "metadata": {}
    },
    {
     "output_type": "stream",
     "name": "stdout",
     "text": "pset count:  149\nAverage length of problems_list (num lines): \n 12\n"
    }
   ],
   "source": [
    "\n",
    "# Problem Sets DF\n",
    "#for col in problem_sets_df.columns:\n",
    "#    print(col, type(problem_sets_df.loc[0,col]))\n",
    "display(problem_sets_df[146:148])\n",
    "print('pset count: ', len(problem_sets_df))\n",
    "\n",
    "print('Average length of problems_list (num lines): \\n', round(problem_sets_df.problems_list.str.len().mean()))"
   ]
  },
  {
   "cell_type": "code",
   "execution_count": 154,
   "metadata": {
    "tags": []
   },
   "outputs": [
    {
     "output_type": "stream",
     "name": "stdout",
     "text": "['A(n) $\\\\rule{4cm}{0.15mm}$ is a straight continuous arrangement of an infinite number of points.\\n', 'A(n) $\\\\rule{4cm}{0.15mm}$ is a portion of a line that begins with a single point and extends infinitely in one direction.\\n', 'Points that are all located on the same line are $\\\\rule{4cm}{0.15mm}$.\\n', 'The points where a line segment begins and ends are the $\\\\rule{4cm}{0.15mm}$.\\n', 'Two or more line segments of equal measure are $\\\\rule{4cm}{0.15mm}$.\\n', 'A(n) $\\\\rule{4cm}{0.15mm}$ is a portion of a line that includes two points and all of the collinear points between the two points.\\n', 'A flat surface is a(n) $\\\\rule{4cm}{0.15mm}$.\\n\\n', 'Use each term according to its geometric meaning: ``sketch\", ``draw\", ``construct\".\\n', '$\\\\rule{4cm}{0.15mm}$ is to make a freehand diagram showing important features.\\n', '$\\\\rule{4cm}{0.15mm}$ is to depict with accurate measures using ruler, protractor, and compass.\\n', '$\\\\rule{4cm}{0.15mm}$ is a formal, logical process to create geometric figures using only a straightedge and compass.\\n\\n', 'Use symbols to write the name of each geometric figure.\\n  \\\\begin{enumerate}\\n  \\\\item %Ray DE\\n    \\\\begin{tikzpicture}\\n      \\\\draw [->, thick] (0,0)--(3,1.5);\\n      \\\\draw [fill] (0,0) circle [radius=0.05] node[below]{$D$};\\n      \\\\draw [fill] (2,1) circle [radius=0.05] node[below]{$E$};\\n    \\\\end{tikzpicture}\\n  \\\\item \\\\hspace{1cm}%Line AB\\n    \\\\begin{tikzpicture}\\n      \\\\draw [<->, thick] (1,0)--(1,3);\\n      \\\\draw [fill] (1,0.5) circle [radius=0.05] node[right]{$A$};\\n      \\\\draw [fill] (1,2.5) circle [radius=0.05] node[right]{$B$};\\n    \\\\end{tikzpicture}\\n    \\\\item %Line segment XY\\n      \\\\begin{tikzpicture}\\n        \\\\draw [-, thick] (1,0)--(0,2);\\n        \\\\draw [fill] (1,0) circle [radius=0.05] node[below]{$X$};\\n        \\\\draw [fill] (0,2) circle [radius=0.05] node[left]{$Y$};\\n      \\\\end{tikzpicture}\\n  \\\\end{enumerate}\\n\\n', 'Draw the line segment $\\\\overline{AB}$ with $AB=2 \\\\text{ inches}$\\n', 'Draw and label the geometric object $\\\\overrightarrow{AB}$.\\n  \\\\vspace{2cm}\\n\\n', 'Given the points $X$ and $Y$, draw $\\\\overrightarrow{YX}$.\\\\\\\\\\n  \\\\vspace{2cm}\\n  \\\\begin{center}\\n    \\\\begin{tikzpicture}\\n    \\\\draw [fill] (0,2) circle [radius=0.05] node[below]{$X$};\\n    \\\\draw [fill] (5,0) circle [radius=0.05] node[below]{$Y$};\\n  \\\\end{tikzpicture}\\n  \\\\end{center}\\n  \\\\vspace{2cm}\\n\\n'] <class 'list'> \n A(n) $\\rule{4cm}{0.15mm}$ is a straight continuous arrangement of an infinite number of points.\n\n1831\n"
    }
   ],
   "source": [
    "n = 148\n",
    "pset_list = problem_sets_df.loc[n, 'problems_list']\n",
    "print(pset_list, type(pset_list), '\\n', pset_list[0])\n",
    "print(problem_sets_df.loc[147,'problem_IDs'][0])\n"
   ]
  },
  {
   "cell_type": "code",
   "execution_count": 169,
   "metadata": {},
   "outputs": [
    {
     "output_type": "execute_result",
     "data": {
      "text/plain": "problem_set_ID\n120      [13-Review, 13-01-DN-similarity-ratios.tex]\n121         [13-Review, 13-01DN-transformations.tex]\n122    [13-Review, 13-02DN+HW-similarity-ratios.tex]\n123            [13-Review, 13-03HW-construction.tex]\nName: filename, dtype: object"
     },
     "metadata": {},
     "execution_count": 169
    }
   ],
   "source": [
    "names = problem_sets_df.filename\n",
    "names.apply(lambda x: x.split('/')[-2:]).iloc[120:124]"
   ]
  },
  {
   "cell_type": "code",
   "execution_count": 194,
   "metadata": {},
   "outputs": [
    {
     "output_type": "display_data",
     "data": {
      "text/plain": "problem_set_ID\n0      [, Users, chris, GitHub, course-files, Geometr...\n1      [, Users, chris, GitHub, course-files, Geometr...\n2      [, Users, chris, GitHub, course-files, Geometr...\n3      [, Users, chris, GitHub, course-files, Geometr...\n4      [, Users, chris, GitHub, course-files, Geometr...\n                             ...                        \n144    [, Users, chris, GitHub, course-files, Geometr...\n145    [, Users, chris, GitHub, course-files, Geometr...\n146    [, Users, chris, GitHub, course-files, Geometr...\n147    [, Users, chris, GitHub, course-files, Geometr...\n148    [, Users, chris, GitHub, course-files, Geometr...\nName: filename, Length: 149, dtype: object"
     },
     "metadata": {}
    },
    {
     "output_type": "execute_result",
     "data": {
      "text/plain": "                        chapter                       fn\nproblem_set_ID                                          \n0                      01-Intro         1-Exam-Intro.tex\n1                      01-Intro           1-HW-Intro.tex\n2                      01-Intro  1b-Exam-Angle-pairs.tex\n3                      01-Intro         1b2-HW-Intro.tex\n4                      01-Intro         Exam-1-Intro.tex\n...                         ...                      ...\n144             15-Trajectories             Segments.tex\n145             15-Trajectories      Transformations.tex\n146             15-Trajectories         Transversals.tex\n147             15-Trajectories                 Trig.tex\n148             15-Trajectories           Vocabulary.tex\n\n[149 rows x 2 columns]",
      "text/html": "<div>\n<style scoped>\n    .dataframe tbody tr th:only-of-type {\n        vertical-align: middle;\n    }\n\n    .dataframe tbody tr th {\n        vertical-align: top;\n    }\n\n    .dataframe thead th {\n        text-align: right;\n    }\n</style>\n<table border=\"1\" class=\"dataframe\">\n  <thead>\n    <tr style=\"text-align: right;\">\n      <th></th>\n      <th>chapter</th>\n      <th>fn</th>\n    </tr>\n    <tr>\n      <th>problem_set_ID</th>\n      <th></th>\n      <th></th>\n    </tr>\n  </thead>\n  <tbody>\n    <tr>\n      <th>0</th>\n      <td>01-Intro</td>\n      <td>1-Exam-Intro.tex</td>\n    </tr>\n    <tr>\n      <th>1</th>\n      <td>01-Intro</td>\n      <td>1-HW-Intro.tex</td>\n    </tr>\n    <tr>\n      <th>2</th>\n      <td>01-Intro</td>\n      <td>1b-Exam-Angle-pairs.tex</td>\n    </tr>\n    <tr>\n      <th>3</th>\n      <td>01-Intro</td>\n      <td>1b2-HW-Intro.tex</td>\n    </tr>\n    <tr>\n      <th>4</th>\n      <td>01-Intro</td>\n      <td>Exam-1-Intro.tex</td>\n    </tr>\n    <tr>\n      <th>...</th>\n      <td>...</td>\n      <td>...</td>\n    </tr>\n    <tr>\n      <th>144</th>\n      <td>15-Trajectories</td>\n      <td>Segments.tex</td>\n    </tr>\n    <tr>\n      <th>145</th>\n      <td>15-Trajectories</td>\n      <td>Transformations.tex</td>\n    </tr>\n    <tr>\n      <th>146</th>\n      <td>15-Trajectories</td>\n      <td>Transversals.tex</td>\n    </tr>\n    <tr>\n      <th>147</th>\n      <td>15-Trajectories</td>\n      <td>Trig.tex</td>\n    </tr>\n    <tr>\n      <th>148</th>\n      <td>15-Trajectories</td>\n      <td>Vocabulary.tex</td>\n    </tr>\n  </tbody>\n</table>\n<p>149 rows × 2 columns</p>\n</div>"
     },
     "metadata": {},
     "execution_count": 194
    }
   ],
   "source": [
    "names2 = problem_sets_df.filename.str.split('/')\n",
    "display(names2)\n",
    "file_list = pd.DataFrame()\n",
    "file_list['chapter'] = names2.str.get(-2)\n",
    "file_list['fn'] = names2.str.get(-1)\n",
    "file_list"
   ]
  },
  {
   "cell_type": "code",
   "execution_count": 201,
   "metadata": {
    "tags": []
   },
   "outputs": [
    {
     "output_type": "stream",
     "name": "stdout",
     "text": "Given parallelogram $ABCD$ with $m\\angle A=75^\\circ$, $AB=8$, and $BC=12$. Find the value of each angle measure or side length.\n     \\begin{enumerate}\n       \\item $m\\angle B=$\\vspace{0.5cm}\n       \\item $m\\angle C=$\\vspace{0.5cm}\n       \\item $m\\angle D=$\\vspace{0.5cm}\n       \\item $CD=$ \\vspace{0.5cm}\n       \\item $AD=$ \\vspace{0.5cm}\n     \\end{enumerate}\n\n\n"
    }
   ],
   "source": [
    "print(problems_df.loc[problem_sets_df.loc[117,'problem_IDs']].iloc[0]['question'])\n"
   ]
  },
  {
   "cell_type": "code",
   "execution_count": 211,
   "metadata": {
    "tags": []
   },
   "outputs": [
    {
     "output_type": "display_data",
     "data": {
      "text/plain": "['\\n',\n '   \\\\item Given parallelogram $ABCD$ with $m\\\\angle A=75^\\\\circ$, $AB=8$, and $BC=12$. Find the value of each angle measure or side length.\\n',\n '     \\\\begin{enumerate}\\n',\n '       \\\\item $m\\\\angle B=$\\\\vspace{0.5cm}\\n',\n '       \\\\item $m\\\\angle C=$\\\\vspace{0.5cm}\\n',\n '       \\\\item $m\\\\angle D=$\\\\vspace{0.5cm}\\n',\n '       \\\\item $CD=$ \\\\vspace{0.5cm}\\n',\n '       \\\\item $AD=$ \\\\vspace{0.5cm}\\n',\n '     \\\\end{enumerate}\\n']"
     },
     "metadata": {}
    },
    {
     "output_type": "stream",
     "name": "stdout",
     "text": "Given parallelogram $ABCD$ with $m\\angle A=75^\\circ$, $AB=8$, and $BC=12$. Find the value of each angle measure or side length.\n     \\begin{enumerate}\n       \\item $m\\angle B=$\\vspace{0.5cm}\n       \\item $m\\angle C=$\\vspace{0.5cm}\n       \\item $m\\angle D=$\\vspace{0.5cm}\n       \\item $CD=$ \\vspace{0.5cm}\n       \\item $AD=$ \\vspace{0.5cm}\n     \\end{enumerate}\n\n\n"
    }
   ],
   "source": [
    "display(problem_sets_df.loc[117, 'body'][:9])\n",
    "print(problem_sets_df.loc[117, 'problems_list'][:1][0])"
   ]
  },
  {
   "cell_type": "code",
   "execution_count": 24,
   "metadata": {
    "tags": []
   },
   "outputs": [
    {
     "output_type": "stream",
     "name": "stdout",
     "text": "Identify a linear pair of angles in the given diagram.\n    \\begin{center}\n    \\begin{tikzpicture}\n      %\\draw [->, thick] (0,0)--(5,5);\n      \\draw [<-, thick] (-2,0)--(3,0)--(2,3)--(0,0);\n      \\draw [fill] (-1.5,0) circle [radius=0.05] node[below]{$R$};\n      \\draw [fill] (0,0) circle [radius=0.05] node[below]{$S$};\n      \\draw [fill] (2,3) circle [radius=0.05] node[right]{$U$};\n      \\draw [fill] (3,0) circle [radius=0.05] node[right]{$T$};\n    \\end{tikzpicture}\n    \\end{center}\n\n\nNew Problem\nIdentify three rays in the given plane.\\\\[0.25in]\n      \\begin{tikzpicture}[scale=0.8]\n        \\draw [thick](0,0) node[above right]{$\\ m$} --(6,0)--(8,4)--(2,4)--(0,0);\n        \\draw [<->, thick] (1,1)--(6,3);\n        \\draw [fill] (3.5,2) circle [radius=0.05] node[below]{$P \\ $};\n        \\draw [fill] (5,2.6) circle [radius=0.05] node[below]{$Q$};\n        \\draw [<->, thick] (2,3.5)--(5.25,.25);\n        \\draw [fill] (5,0.5) circle [radius=0.05] node[left]{$R \\ $};\n      \\end{tikzpicture}\n      \\vspace{0.5cm}\n\n\nNew Problem\nGiven $\\overleftrightarrow{QS}$ as shown on the number line. \\\\[10pt] %\\vspace{1cm}\n      \\begin{tikzpicture}\n        \\draw [<->] (-4.5,0)--(6.5,0);\n        \\foreach \\x in {-4,...,6} %2 leading for diff!=1\n          \\draw[shift={(\\x,0)},color=black] (0pt,-3pt) -- (0pt,3pt) node[below=5pt]  {$\\x$};\n          \\draw [fill] (2,0) circle [radius=0.05] node[above] {$Q$};\n          \\draw [fill] (5,0) circle [radius=0.05] node[above] {$S$};\n      \\end{tikzpicture}\n      \\begin{enumerate}\n        \\item Mark the point $R$, the midpoint of $\\overline{QS}$.\n        \\item The point $P$ is collinear with $\\overleftrightarrow{QS}$ such that $Q$ is the midpoint of $\\overleftrightarrow{PS}$. Mark $P$ on the line.\n      \\end{enumerate}\n\n\n"
    }
   ],
   "source": [
    "short_df = problems_df[problems_df.problem_set_ID==7].head(3)\n",
    "prefix = '\\nNew Problem\\n'\n",
    "problem_tex = short_df.question.str.cat(sep=prefix)\n",
    "print(problem_tex)"
   ]
  },
  {
   "cell_type": "code",
   "execution_count": null,
   "metadata": {},
   "outputs": [],
   "source": []
  }
 ]
}