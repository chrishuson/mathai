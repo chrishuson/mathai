{
 "metadata": {
  "language_info": {
   "codemirror_mode": {
    "name": "ipython",
    "version": 3
   },
   "file_extension": ".py",
   "mimetype": "text/x-python",
   "name": "python",
   "nbconvert_exporter": "python",
   "pygments_lexer": "ipython3",
   "version": "3.7.6-final"
  },
  "orig_nbformat": 2,
  "kernelspec": {
   "name": "python_defaultSpec_1599053025681",
   "display_name": "Python 3.7.6 64-bit ('base': conda)"
  }
 },
 "nbformat": 4,
 "nbformat_minor": 2,
 "cells": [
  {
   "cell_type": "code",
   "execution_count": 1,
   "metadata": {
    "tags": []
   },
   "outputs": [],
   "source": [
    "import os\n",
    "import sys\n",
    "import subprocess\n",
    "import pandas as pd\n",
    "import numpy as np\n",
    "from ast import literal_eval\n",
    "# os.getcwd()"
   ]
  },
  {
   "cell_type": "code",
   "execution_count": 2,
   "metadata": {
    "tags": []
   },
   "outputs": [
    {
     "output_type": "stream",
     "name": "stdout",
     "text": "Loaded dataframes: \nworksheet_files_df:\n index name:  None \ncolumns:  Index(['Unnamed: 0', 'unit', 'file_count', 'filename'], dtype='object') \n149 rows:  149 \n\nproblem_sets_df:\n index name:  problem_set_ID \ncolumns:  Index(['filename', 'head', 'body', 'problems_list', 'problem_count',\n       'problem_IDs'],\n      dtype='object') \n149 rows:  149 \n\nproblems_df:\n index name:  problem_ID \ncolumns:  Index(['problem_set_ID', 'question'], dtype='object') \n1855 rows:  1855 \n\nstandards_df:\n index name:  None \ncolumns:  Index(['course', 'chapter', 'topic', 'ccss_ID'], dtype='object') \n314 rows:  314 \n\nstandards_desc_df:\n index name:  ccss_ID \ncolumns:  Index(['description'], dtype='object') \n131 rows:  131 \n\n"
    }
   ],
   "source": [
    "from main import map_course_files\n",
    "from main import parse_course_files\n",
    "from main import parse_problem_sets\n",
    "#from main import print_problems_df\n",
    "#from main import print_problem_set_df\n",
    "from main import build_pset_df_tex\n",
    "from main import build_problem_df_tex"
   ]
  },
  {
   "cell_type": "markdown",
   "metadata": {},
   "source": [
    "## saving and loading problem and problem set dataframes"
   ]
  },
  {
   "cell_type": "code",
   "execution_count": 25,
   "metadata": {},
   "outputs": [],
   "source": [
    "problem_df.to_csv('/Users/chris/GitHub/mathai/db/problem_df.csv')\n",
    "pset_df.to_csv('/Users/chris/GitHub/mathai/db/pset_df.csv')\n",
    "course_file_df.to_csv('/Users/chris/GitHub/mathai/db/course_file_df.csv')"
   ]
  },
  {
   "cell_type": "code",
   "execution_count": 7,
   "metadata": {
    "tags": []
   },
   "outputs": [
    {
     "output_type": "stream",
     "name": "stdout",
     "text": "course_file_df:  172 None Index(['unit', 'file_count', 'filename'], dtype='object')\npset_df:  172 problem_set_ID Index(['unit', 'file', 'problem_count', 'problems_list', 'problem_kind',\n       'head', 'body', 'path', 'filename'],\n      dtype='object')\nproblem_df:  2443 problem_ID Index(['problem_set_ID', 'question', 'file', 'q_len'], dtype='object')\n"
    }
   ],
   "source": [
    "course_file_df = pd.read_csv('/Users/chris/GitHub/mathai/db/course_file_df.csv', index_col=0)\n",
    "print('course_file_df: ', len(course_file_df), course_file_df.index.name, course_file_df.columns)\n",
    "\n",
    "cols_into_lists = {'problem_IDs':literal_eval, 'head':literal_eval, 'body':literal_eval, 'problems_list':literal_eval, 'problem_kind':literal_eval}\n",
    "pset_df = pd.read_csv('../db/pset_df.csv', index_col='problem_set_ID', converters=cols_into_lists)\n",
    "print('pset_df: ', len(pset_df), pset_df.index.name, pset_df.columns)\n",
    "\n",
    "problem_df = pd.read_csv('../db/problem_df.csv', index_col='problem_ID')\n",
    "print('problem_df: ', len(problem_df), problem_df.index.name, problem_df.columns)"
   ]
  },
  {
   "cell_type": "code",
   "execution_count": 3,
   "metadata": {},
   "outputs": [],
   "source": [
    "cols_into_lists = {'problem_IDs':literal_eval, 'head':literal_eval, 'body':literal_eval, 'problems_list':literal_eval, 'problem_kind':literal_eval}\n",
    "pset_df2 = pd.read_csv('../db/pset_df.csv', index_col='problem_set_ID', converters=cols_into_lists)\n",
    "problem_df2 = pd.read_csv('../db/problem_df.csv', index_col='problem_ID')"
   ]
  },
  {
   "cell_type": "markdown",
   "metadata": {},
   "source": [
    "## Printing Problem Sets"
   ]
  },
  {
   "cell_type": "code",
   "execution_count": 20,
   "metadata": {},
   "outputs": [
    {
     "output_type": "execute_result",
     "data": {
      "text/plain": "unit                                          02-Midpoint+distance\nfile                                       2-8DN_Constructions.tex\nproblem_count                                                    4\nhead             [\\begin{document}\\n,   \\subsubsection*{2.8 Do ...\nbody             [    \\item Complete the construction of an equ...\nproblems_list    [Complete the construction of an equilateral t...\npath                         /Users/chris/GitHub/course-files/Geom\nfilename         /Users/chris/GitHub/course-files/Geom/02-Midpo...\nproblem_IDs                                   [351, 352, 353, 354]\nName: 30, dtype: object"
     },
     "metadata": {},
     "execution_count": 20
    }
   ],
   "source": [
    "pset_df.loc[pset_ID]"
   ]
  },
  {
   "cell_type": "code",
   "execution_count": 19,
   "metadata": {},
   "outputs": [
    {
     "output_type": "execute_result",
     "data": {
      "text/plain": "            problem_set_ID                                           question  \\\nproblem_ID                                                                      \n351                     30  Complete the construction of an equilateral tr...   \n352                     30                                         \\newpage\\n   \n353                     30                                     $x^2+6x+5=0$\\n   \n354                     30             $x^2+5x=14$\\n    \\end{multicols}\\n\\n\\n   \n\n                               file  q_len  \nproblem_ID                                  \n351         2-8DN_Constructions.tex    684  \n352         2-8DN_Constructions.tex     11  \n353         2-8DN_Constructions.tex     13  \n354         2-8DN_Constructions.tex     34  ",
      "text/html": "<div>\n<style scoped>\n    .dataframe tbody tr th:only-of-type {\n        vertical-align: middle;\n    }\n\n    .dataframe tbody tr th {\n        vertical-align: top;\n    }\n\n    .dataframe thead th {\n        text-align: right;\n    }\n</style>\n<table border=\"1\" class=\"dataframe\">\n  <thead>\n    <tr style=\"text-align: right;\">\n      <th></th>\n      <th>problem_set_ID</th>\n      <th>question</th>\n      <th>file</th>\n      <th>q_len</th>\n    </tr>\n    <tr>\n      <th>problem_ID</th>\n      <th></th>\n      <th></th>\n      <th></th>\n      <th></th>\n    </tr>\n  </thead>\n  <tbody>\n    <tr>\n      <th>351</th>\n      <td>30</td>\n      <td>Complete the construction of an equilateral tr...</td>\n      <td>2-8DN_Constructions.tex</td>\n      <td>684</td>\n    </tr>\n    <tr>\n      <th>352</th>\n      <td>30</td>\n      <td>\\newpage\\n</td>\n      <td>2-8DN_Constructions.tex</td>\n      <td>11</td>\n    </tr>\n    <tr>\n      <th>353</th>\n      <td>30</td>\n      <td>$x^2+6x+5=0$\\n</td>\n      <td>2-8DN_Constructions.tex</td>\n      <td>13</td>\n    </tr>\n    <tr>\n      <th>354</th>\n      <td>30</td>\n      <td>$x^2+5x=14$\\n    \\end{multicols}\\n\\n\\n</td>\n      <td>2-8DN_Constructions.tex</td>\n      <td>34</td>\n    </tr>\n  </tbody>\n</table>\n</div>"
     },
     "metadata": {},
     "execution_count": 19
    }
   ],
   "source": [
    "pset_ID = 30\n",
    "p_df = problem_df[problem_df.problem_set_ID == pset_ID]\n",
    "p_df"
   ]
  },
  {
   "cell_type": "code",
   "execution_count": 23,
   "metadata": {},
   "outputs": [],
   "source": [
    "filename = pset_df.loc[pset_ID, 'file'][:-4]\n",
    "title = (filename, 'pset ID: ' + str(pset_ID), 'find dangling end-multicols') #no underbars\n",
    "build_problem_df_tex(p_df, filename, title)"
   ]
  },
  {
   "cell_type": "code",
   "execution_count": 24,
   "metadata": {},
   "outputs": [
    {
     "output_type": "execute_result",
     "data": {
      "text/plain": "256"
     },
     "metadata": {},
     "execution_count": 24
    }
   ],
   "source": [
    "os.system('pdflatex ../out/' + 'filename' + '.tex')"
   ]
  },
  {
   "cell_type": "code",
   "execution_count": 7,
   "metadata": {
    "tags": []
   },
   "outputs": [
    {
     "output_type": "execute_result",
     "data": {
      "text/plain": "                             filename                          unit\npset_ID                                                            \n170      10-4bDN_Analytics-review.tex  10-Trig+similarity+analytics\n71              5-9bDN_Multi-step.tex            05-Transformations\n75         6-11DN_Transformations.tex          06-Analytic-geometry",
      "text/html": "<div>\n<style scoped>\n    .dataframe tbody tr th:only-of-type {\n        vertical-align: middle;\n    }\n\n    .dataframe tbody tr th {\n        vertical-align: top;\n    }\n\n    .dataframe thead th {\n        text-align: right;\n    }\n</style>\n<table border=\"1\" class=\"dataframe\">\n  <thead>\n    <tr style=\"text-align: right;\">\n      <th></th>\n      <th>filename</th>\n      <th>unit</th>\n    </tr>\n    <tr>\n      <th>pset_ID</th>\n      <th></th>\n      <th></th>\n    </tr>\n  </thead>\n  <tbody>\n    <tr>\n      <th>170</th>\n      <td>10-4bDN_Analytics-review.tex</td>\n      <td>10-Trig+similarity+analytics</td>\n    </tr>\n    <tr>\n      <th>71</th>\n      <td>5-9bDN_Multi-step.tex</td>\n      <td>05-Transformations</td>\n    </tr>\n    <tr>\n      <th>75</th>\n      <td>6-11DN_Transformations.tex</td>\n      <td>06-Analytic-geometry</td>\n    </tr>\n  </tbody>\n</table>\n</div>"
     },
     "metadata": {},
     "execution_count": 7
    }
   ],
   "source": [
    "out_file_df = build_pset_df_tex(pset_df.loc[[170, 71, 75]], problem_df)\n",
    "out_file_df"
   ]
  },
  {
   "cell_type": "code",
   "execution_count": 8,
   "metadata": {
    "tags": []
   },
   "outputs": [
    {
     "output_type": "stream",
     "name": "stdout",
     "text": "pdflatex 10-4bDN_Analytics-review.tex\npdflatex 5-9bDN_Multi-step.tex\npdflatex 6-11DN_Transformations.tex\n"
    }
   ],
   "source": [
    "for file in out_file_df.filename:\n",
    "    print('pdflatex ' + file)\n",
    "    os.system('pdflatex ../out/' + file)"
   ]
  },
  {
   "cell_type": "code",
   "execution_count": null,
   "metadata": {},
   "outputs": [],
   "source": []
  },
  {
   "cell_type": "code",
   "execution_count": 26,
   "metadata": {
    "tags": []
   },
   "outputs": [
    {
     "output_type": "stream",
     "name": "stdout",
     "text": "problem_set_ID                                           question  \\\nproblem_ID                                                                      \n2094                   153  A transformation is applied to a triangle, $\\t...   \n2095                   153  Determine and state the transformation mapping...   \n2096                   153  First reflect the trapezoid $BECA$ across the ...   \n2097                   153                                         \\newpage\\n   \n2098                   153  Two transformations have been applied to a tri...   \n2099                   153  The quadrilateral $ROCK$ undergoes two transfo...   \n\n                              file  q_len  \nproblem_ID                                 \n2094        9-3bDN_Composition.tex   1104  \n2095        9-3bDN_Composition.tex    674  \n2096        9-3bDN_Composition.tex    577  \n2097        9-3bDN_Composition.tex      9  \n2098        9-3bDN_Composition.tex    948  \n2099        9-3bDN_Composition.tex    905  \n            problem_set_ID                                           question  \\\nproblem_ID                                                                      \n2100                   154  Apply the translation $(x,y) \\rightarrow (x-2,...   \n2101                   154  What is the image of $B(2,4)$ under a reflecti...   \n2102                   154  State the translation that would map $C(-3,1)$...   \n2103                   154                                         \\newpage\\n   \n2104                   154  Given $D(1,9) \\rightarrow D'(4,3)$. Find the i...   \n2105                   154  The image of triangle $ABC$ after a translatio...   \n2106                   154  On the graph below, draw $\\overline{AB}$, with...   \n\n                                  file  q_len  \nproblem_ID                                     \n2100        9-3bHW_Transformations.tex    333  \n2101        9-3bHW_Transformations.tex    340  \n2102        9-3bHW_Transformations.tex    333  \n2103        9-3bHW_Transformations.tex      9  \n2104        9-3bHW_Transformations.tex    357  \n2105        9-3bHW_Transformations.tex    187  \n2106        9-3bHW_Transformations.tex    454  \n            problem_set_ID                                           question  \\\nproblem_ID                                                                      \n2107                   155  Given $\\triangle ABC$ and $\\triangle EFG$ with...   \n2108                   155  Two parallel lines intersect a transversal,  $...   \n2109                   155                                         \\newpage\\n   \n2110                   155  Given $\\triangle ABC$ and $\\triangle EFG$ with...   \n2111                   155  Given $\\triangle ABP$ and $\\triangle JKP$ with...   \n2112                   155                                         \\newpage\\n   \n2113                   155  List of theorem/situations for $\\triangle \\con...   \n\n                                           file  q_len  \nproblem_ID                                              \n2107        9-4CW_Triangle-congruence-proof.tex   1297  \n2108        9-4CW_Triangle-congruence-proof.tex   1858  \n2109        9-4CW_Triangle-congruence-proof.tex      9  \n2110        9-4CW_Triangle-congruence-proof.tex   1279  \n2111        9-4CW_Triangle-congruence-proof.tex   1110  \n2112        9-4CW_Triangle-congruence-proof.tex      9  \n2113        9-4CW_Triangle-congruence-proof.tex    423  \n            problem_set_ID                                           question  \\\nproblem_ID                                                                      \n2114                   156  Which of the following would map $\\triangle CA...   \n2115                   156  Draw the line of reflection used to map $\\tria...   \n2116                   156  Draw the line of reflection for each diagram b...   \n2117                   156                                         \\newpage\\n   \n2118                   156  Given two parallel lines are intersected by a ...   \n2119                   156  In the diagram above, the point $M$ bisects $\\...   \n2120                   156  Given two vertical angles, $m \\angle 1 = 5x+9$...   \n\n                            file  q_len  \nproblem_ID                               \n2114        9-4DN-reflection.tex   1131  \n2115        9-4DN-reflection.tex    625  \n2116        9-4DN-reflection.tex    755  \n2117        9-4DN-reflection.tex      9  \n2118        9-4DN-reflection.tex    724  \n2119        9-4DN-reflection.tex     97  \n2120        9-4DN-reflection.tex    405  \n            problem_set_ID                                           question  \\\nproblem_ID                                                                      \n2121                   157  A transformation is applied to a triangle, $\\t...   \n2122                   157  Determine and state the transformation mapping...   \n2123                   157  First reflect the trapezoid $BECA$ across the ...   \n2124                   157                                         \\newpage\\n   \n2125                   157  Two transformations have been applied to a tri...   \n2126                   157  The quadrilateral $ROCK$ undergoes two transfo...   \n\n                              file  q_len  \nproblem_ID                                 \n2121        9-4bCW_Composition.tex   1080  \n2122        9-4bCW_Composition.tex    674  \n2123        9-4bCW_Composition.tex    580  \n2124        9-4bCW_Composition.tex      9  \n2125        9-4bCW_Composition.tex    944  \n2126        9-4bCW_Composition.tex    905  \n            problem_set_ID                                           question  \\\nproblem_ID                                                                      \n2127                   158  Which of the following would map $\\triangle CA...   \n2128                   158  Draw the line of reflection used to map $\\tria...   \n2129                   158  Draw the line of reflection for each diagram b...   \n2130                   158                                         \\newpage\\n   \n2131                   158  Determine and state the sequence of transfroma...   \n\n                             file  q_len  \nproblem_ID                                \n2127        9-4bDN-reflection.tex   1131  \n2128        9-4bDN-reflection.tex    625  \n2129        9-4bDN-reflection.tex    755  \n2130        9-4bDN-reflection.tex      9  \n2131        9-4bDN-reflection.tex    890  \n            problem_set_ID                                           question  \\\nproblem_ID                                                                      \n2132                   159  Slide $\\triangle ABC$ to the left four and up ...   \n2133                   159  Apply the translation $(x,y) \\rightarrow (x-3,...   \n2134                   159  On the axes below, graph the point $N(-3,2)$ a...   \n2135                   159                                         \\newpage\\n   \n2136                   159  Identify the transformation that maps $\\triang...   \n2137                   159  State the translation that would map $Q(4,3)$ ...   \n2138                   159  On the set of axes below, $\\triangle ABC \\cong...   \n2139                   159                                         \\newpage\\n   \n2140                   159  Triangle $A'B'C'$ is the image of triangle $AB...   \n2141                   159  Rotate $\\triangle JKL$ $90^\\circ$ counterclock...   \n2142                   159  Draw the line of reflection that would map $\\t...   \n2143                   159                                         \\newpage\\n   \n2144                   159  On the axes below, plot the point $A(-4,-1)$ a...   \n2145                   159  The image of triangle $ABC$ after a translatio...   \n2146                   159  Determine and state the transformation mapping...   \n2147                   159                                         \\newpage\\n   \n2148                   159  State the translation that would map $C(-4,0)$...   \n2149                   159  Two transformations have been applied to a tri...   \n2150                   159  What are the coordinates of the image of $B(2,...   \n2151                   159                                         \\newpage\\n   \n2152                   159  Which of the following would map $\\triangle CA...   \n2153                   159  First reflect the trapezoid $BECA$ across the ...   \n2154                   159  Draw the line of reflection for quadrilaterals...   \n2155                   159                                         \\newpage\\n   \n2156                   159  The quadrilateral $ROCK$ undergoes rigid motio...   \n2157                   159  The quadrilateral $MATH$ is mapped to $M'A'T'H...   \n2158                   159  What are the coordinates of the image of $C(4,...   \n2159                   159                                         \\newpage\\n   \n2160                   159  Given $\\triangle WIN \\cong \\triangle W'I'N'$. ...   \n2161                   159  Determine and state the sequence of transfroma...   \n2162                   159  Determine and state the transformation mapping...   \n\n                                    file  q_len  \nproblem_ID                                       \n2132        9-5bExam-transformations.tex    525  \n2133        9-5bExam-transformations.tex     93  \n2134        9-5bExam-transformations.tex    426  \n2135        9-5bExam-transformations.tex      9  \n2136        9-5bExam-transformations.tex    641  \n2137        9-5bExam-transformations.tex     80  \n2138        9-5bExam-transformations.tex    687  \n2139        9-5bExam-transformations.tex      9  \n2140        9-5bExam-transformations.tex    177  \n2141        9-5bExam-transformations.tex    540  \n2142        9-5bExam-transformations.tex    613  \n2143        9-5bExam-transformations.tex      9  \n2144        9-5bExam-transformations.tex    427  \n2145        9-5bExam-transformations.tex    189  \n2146        9-5bExam-transformations.tex    623  \n2147        9-5bExam-transformations.tex      9  \n2148        9-5bExam-transformations.tex    374  \n2149        9-5bExam-transformations.tex    893  \n2150        9-5bExam-transformations.tex    511  \n2151        9-5bExam-transformations.tex      9  \n2152        9-5bExam-transformations.tex   1105  \n2153        9-5bExam-transformations.tex    605  \n2154        9-5bExam-transformations.tex    452  \n2155        9-5bExam-transformations.tex      9  \n2156        9-5bExam-transformations.tex    898  \n2157        9-5bExam-transformations.tex    858  \n2158        9-5bExam-transformations.tex    557  \n2159        9-5bExam-transformations.tex      9  \n2160        9-5bExam-transformations.tex    664  \n2161        9-5bExam-transformations.tex    706  \n2162        9-5bExam-transformations.tex    639  \n            problem_set_ID                                           question  \\\nproblem_ID                                                                      \n2163                   160  Find the image of $P(1,-4)$ after the translat...   \n2164                   160  Given $\\triangle ABC \\sim \\triangle DEF$. $m\\a...   \n2165                   160  In the diagram of $\\triangle ABC$, $D$ is a po...   \n2166                   160  \\begin{enumerate}[itemsep=1.5cm]\\n    \\item In...   \n2167                   160                                         \\newpage\\n   \n2168                   160  Given $\\triangle ABP \\sim \\triangle JKP$ as sh...   \n2169                   160  A dilation centered at the origin with scale f...   \n2170                   160  A translation maps $N(-2, 7) \\rightarrow N'(-4...   \n2171                   160                                         \\newpage\\n   \n2172                   160  The vertices of $\\triangle JKL$ have the coord...   \n2173                   160  A dilation centered at $A$ maps $\\triangle ABC...   \n2174                   160                                         \\newpage\\n   \n2175                   160  The line $\\overleftrightarrow{AB}$ has the equ...   \n2176                   160  The diagram below shows $\\triangle ABC$, with ...   \n2177                   160  In the diagram below, the chords $\\overline{AE...   \n2178                   160                                         \\newpage\\n   \n2179                   160  What transformation or series of transformatio...   \n2180                   160  Reflect $\\triangle ABC$ over the $y$-axis. Mak...   \n2181                   160                                         \\newpage\\n   \n2182                   160  Rotate $\\triangle ABC$ $90^\\circ$ counterclock...   \n2183                   160  The $\\triangle ABC$ is reflected across $l$ to...   \n2184                   160                                         \\newpage\\n   \n2185                   160  In this problem use the following theorem (cop...   \n\n                                   file  q_len  \nproblem_ID                                      \n2163        9-7CW-Similarity-review.tex     99  \n2164        9-7CW-Similarity-review.tex    141  \n2165        9-7CW-Similarity-review.tex    617  \n2166        9-7CW-Similarity-review.tex    758  \n2167        9-7CW-Similarity-review.tex      9  \n2168        9-7CW-Similarity-review.tex    459  \n2169        9-7CW-Similarity-review.tex    914  \n2170        9-7CW-Similarity-review.tex    118  \n2171        9-7CW-Similarity-review.tex      9  \n2172        9-7CW-Similarity-review.tex    882  \n2173        9-7CW-Similarity-review.tex    954  \n2174        9-7CW-Similarity-review.tex      9  \n2175        9-7CW-Similarity-review.tex    876  \n2176        9-7CW-Similarity-review.tex    717  \n2177        9-7CW-Similarity-review.tex    538  \n2178        9-7CW-Similarity-review.tex      9  \n2179        9-7CW-Similarity-review.tex    693  \n2180        9-7CW-Similarity-review.tex    510  \n2181        9-7CW-Similarity-review.tex      9  \n2182        9-7CW-Similarity-review.tex    762  \n2183        9-7CW-Similarity-review.tex    585  \n2184        9-7CW-Similarity-review.tex      9  \n2185        9-7CW-Similarity-review.tex   1028  \n"
    }
   ],
   "source": [
    "for x in range(153, 161):\n",
    "    print(problem_df[problem_df.problem_set_ID == x].sort_index())"
   ]
  },
  {
   "cell_type": "code",
   "execution_count": 13,
   "metadata": {
    "tags": []
   },
   "outputs": [
    {
     "output_type": "stream",
     "name": "stdout",
     "text": "problem_ID \n Index(['problem_set_ID', 'question', 'file', 'q_len'], dtype='object') \n 2351\n"
    }
   ],
   "source": [
    "print(problem_df.index.name, '\\n', problem_df.columns, '\\n', len(problem_df))"
   ]
  },
  {
   "cell_type": "code",
   "execution_count": null,
   "metadata": {},
   "outputs": [],
   "source": []
  },
  {
   "cell_type": "code",
   "execution_count": 76,
   "metadata": {
    "tags": []
   },
   "outputs": [
    {
     "output_type": "stream",
     "name": "stdout",
     "text": "Num of newpage *:  496\nNum of >= triples:  204\nNum of doubles ~ :  416\n"
    }
   ],
   "source": [
    "# DUPES\n",
    "print('Num of newpage * : ',\n",
    "    problem_df.groupby('question').file.count().sort_values().iloc[-4:].sum())\n",
    "print('Num of >= triples: ',\n",
    "    problem_df.groupby('question').file.count().sort_values().iloc[-67:-4].sum())\n",
    "print('Num of doubles ~ : ',\n",
    "    problem_df.groupby('question').file.count().sort_values().iloc[-275:-67].sum())"
   ]
  },
  {
   "cell_type": "code",
   "execution_count": 135,
   "metadata": {},
   "outputs": [
    {
     "output_type": "execute_result",
     "data": {
      "text/plain": "            problem_set_ID                                           question  \\\nproblem_ID                                                                      \n2346                   171  What is the equation of a line through $(-7,10...   \n2347                   171  What is an equation of the perpendicular bisec...   \n2348                   171                                         \\newpage\\n   \n2349                   171  $\\triangle ABC$ is shown with $m\\angle C=90^\\c...   \n2350                   171  The following diagram shows a pole BT 1.6 m ta...   \n\n                                     file  q_len  \nproblem_ID                                        \n2346        10-6DN_Tangent-situations.tex    104  \n2347        10-6DN_Tangent-situations.tex    113  \n2348        10-6DN_Tangent-situations.tex      9  \n2349        10-6DN_Tangent-situations.tex    745  \n2350        10-6DN_Tangent-situations.tex    885  ",
      "text/html": "<div>\n<style scoped>\n    .dataframe tbody tr th:only-of-type {\n        vertical-align: middle;\n    }\n\n    .dataframe tbody tr th {\n        vertical-align: top;\n    }\n\n    .dataframe thead th {\n        text-align: right;\n    }\n</style>\n<table border=\"1\" class=\"dataframe\">\n  <thead>\n    <tr style=\"text-align: right;\">\n      <th></th>\n      <th>problem_set_ID</th>\n      <th>question</th>\n      <th>file</th>\n      <th>q_len</th>\n    </tr>\n    <tr>\n      <th>problem_ID</th>\n      <th></th>\n      <th></th>\n      <th></th>\n      <th></th>\n    </tr>\n  </thead>\n  <tbody>\n    <tr>\n      <th>2346</th>\n      <td>171</td>\n      <td>What is the equation of a line through $(-7,10...</td>\n      <td>10-6DN_Tangent-situations.tex</td>\n      <td>104</td>\n    </tr>\n    <tr>\n      <th>2347</th>\n      <td>171</td>\n      <td>What is an equation of the perpendicular bisec...</td>\n      <td>10-6DN_Tangent-situations.tex</td>\n      <td>113</td>\n    </tr>\n    <tr>\n      <th>2348</th>\n      <td>171</td>\n      <td>\\newpage\\n</td>\n      <td>10-6DN_Tangent-situations.tex</td>\n      <td>9</td>\n    </tr>\n    <tr>\n      <th>2349</th>\n      <td>171</td>\n      <td>$\\triangle ABC$ is shown with $m\\angle C=90^\\c...</td>\n      <td>10-6DN_Tangent-situations.tex</td>\n      <td>745</td>\n    </tr>\n    <tr>\n      <th>2350</th>\n      <td>171</td>\n      <td>The following diagram shows a pole BT 1.6 m ta...</td>\n      <td>10-6DN_Tangent-situations.tex</td>\n      <td>885</td>\n    </tr>\n  </tbody>\n</table>\n</div>"
     },
     "metadata": {},
     "execution_count": 135
    }
   ],
   "source": [
    "problem_df.tail(5)"
   ]
  },
  {
   "cell_type": "markdown",
   "metadata": {},
   "source": [
    "## Reinitialize dfs from course files"
   ]
  },
  {
   "cell_type": "code",
   "execution_count": 4,
   "metadata": {
    "tags": []
   },
   "outputs": [
    {
     "output_type": "stream",
     "name": "stdout",
     "text": "dict len, type:  13 <class 'dict'> \n df len:  208 \n\n"
    },
    {
     "output_type": "execute_result",
     "data": {
      "text/plain": "array(['01-Intro', '02-Midpoint+distance', '03-Volume+angle-bisectors',\n       '04-Transversals', '05-Transformations', '06-Analytic-geometry',\n       '07-Similarity', '08-Area+volume', '09-Congruence-transformations',\n       '10-Trig+similarity+analytics', '11-Algebra2-intro', 'Slides',\n       'Trajectories'], dtype=object)"
     },
     "metadata": {},
     "execution_count": 4
    }
   ],
   "source": [
    "course_files, course_file_df = map_course_files(course_dir='/Users/chris/GitHub/course-files/Geom')\n",
    "print('dict len, type: ', len(course_files), type(course_files), '\\n df len: ', len(course_file_df), '\\n')\n",
    "course_file_df.unit.unique()"
   ]
  },
  {
   "cell_type": "code",
   "execution_count": 5,
   "metadata": {},
   "outputs": [],
   "source": [
    "drop_units = ['11-Algebra2-intro', 'Slides', 'Trajectories']\n",
    "for unit in drop_units:\n",
    "    course_file_df.drop(course_file_df[course_file_df.unit == unit].index, inplace=True)\n",
    "#course_file_df"
   ]
  },
  {
   "cell_type": "code",
   "execution_count": 4,
   "metadata": {
    "tags": []
   },
   "outputs": [
    {
     "output_type": "stream",
     "name": "stdout",
     "text": "course_file_df:  172 None Index(['unit', 'file_count', 'filename'], dtype='object')\n"
    },
    {
     "output_type": "execute_result",
     "data": {
      "text/plain": "       unit  file_count                   filename\n0  01-Intro          16      1-1CW_Measurement.tex\n1  01-Intro          16  1-1DNQ_Distance+slope.tex",
      "text/html": "<div>\n<style scoped>\n    .dataframe tbody tr th:only-of-type {\n        vertical-align: middle;\n    }\n\n    .dataframe tbody tr th {\n        vertical-align: top;\n    }\n\n    .dataframe thead th {\n        text-align: right;\n    }\n</style>\n<table border=\"1\" class=\"dataframe\">\n  <thead>\n    <tr style=\"text-align: right;\">\n      <th></th>\n      <th>unit</th>\n      <th>file_count</th>\n      <th>filename</th>\n    </tr>\n  </thead>\n  <tbody>\n    <tr>\n      <th>0</th>\n      <td>01-Intro</td>\n      <td>16</td>\n      <td>1-1CW_Measurement.tex</td>\n    </tr>\n    <tr>\n      <th>1</th>\n      <td>01-Intro</td>\n      <td>16</td>\n      <td>1-1DNQ_Distance+slope.tex</td>\n    </tr>\n  </tbody>\n</table>\n</div>"
     },
     "metadata": {},
     "execution_count": 4
    }
   ],
   "source": [
    "# Initialize for testing\n",
    "course_file_df = pd.read_csv('/Users/chris/GitHub/mathai/db/course_file_df.csv', index_col=0)\n",
    "print('course_file_df: ', len(course_file_df), course_file_df.index.name, course_file_df.columns)\n",
    "course_file_df.head(2)"
   ]
  },
  {
   "cell_type": "code",
   "execution_count": 5,
   "metadata": {},
   "outputs": [
    {
     "output_type": "execute_result",
     "data": {
      "text/plain": "                    unit                       filename  problem_count  \\\nproblem_set_ID                                                           \n0               01-Intro          1-1CW_Measurement.tex              8   \n1               01-Intro      1-1DNQ_Distance+slope.tex              4   \n2               01-Intro              1-1DN_Algebra.tex              7   \n3               01-Intro              1-1HW_Algebra.tex              8   \n4               01-Intro  1-3DN_Function-intercepts.tex              6   \n\n                                                    problems_list  \\\nproblem_set_ID                                                      \n0               [Given the line segment $\\overline{PQ}$ shown ...   \n1               [Write down the slope and $y$-intercept of eac...   \n2               [In the following two problems, solve for the ...   \n3               [In the following two problems, solve for the ...   \n4               [I have a compass, ruler, protractor, notebook...   \n\n                                                     problem_kind  \\\nproblem_set_ID                                                      \n0               [question, newpage, question, newpage, questio...   \n1                         [question, question, newpage, question]   \n2               [question, question, question, question, newpa...   \n3               [question, question, question, question, quest...   \n4               [question, question, question, newpage, questi...   \n\n                                                             head  \\\nproblem_set_ID                                                      \n0               [\\begin{document}\\n, \\subsubsection*{1-1 Class...   \n1               [\\begin{document}\\n, \\subsubsection*{0.1 Quiz:...   \n2               [\\begin{document}\\n, \\subsubsection*{1-1 Do No...   \n3               [\\begin{document}\\n, \\subsubsection*{1-1 Homew...   \n4               [\\begin{document}\\n, \\subsubsection*{1-3 Do No...   \n\n                                                             body  \nproblem_set_ID                                                     \n0               [\\n,   \\item Given the line segment $\\overline...  \n1               [\\n,   \\item Write down the slope and $y$-inte...  \n2               [\\n, \\n,   \\item In the following two problems...  \n3               [\\n, \\n,   \\item In the following two problems...  \n4               [  \\item I have a compass, ruler, protractor, ...  ",
      "text/html": "<div>\n<style scoped>\n    .dataframe tbody tr th:only-of-type {\n        vertical-align: middle;\n    }\n\n    .dataframe tbody tr th {\n        vertical-align: top;\n    }\n\n    .dataframe thead th {\n        text-align: right;\n    }\n</style>\n<table border=\"1\" class=\"dataframe\">\n  <thead>\n    <tr style=\"text-align: right;\">\n      <th></th>\n      <th>unit</th>\n      <th>filename</th>\n      <th>problem_count</th>\n      <th>problems_list</th>\n      <th>problem_kind</th>\n      <th>head</th>\n      <th>body</th>\n    </tr>\n    <tr>\n      <th>problem_set_ID</th>\n      <th></th>\n      <th></th>\n      <th></th>\n      <th></th>\n      <th></th>\n      <th></th>\n      <th></th>\n    </tr>\n  </thead>\n  <tbody>\n    <tr>\n      <th>0</th>\n      <td>01-Intro</td>\n      <td>1-1CW_Measurement.tex</td>\n      <td>8</td>\n      <td>[Given the line segment $\\overline{PQ}$ shown ...</td>\n      <td>[question, newpage, question, newpage, questio...</td>\n      <td>[\\begin{document}\\n, \\subsubsection*{1-1 Class...</td>\n      <td>[\\n,   \\item Given the line segment $\\overline...</td>\n    </tr>\n    <tr>\n      <th>1</th>\n      <td>01-Intro</td>\n      <td>1-1DNQ_Distance+slope.tex</td>\n      <td>4</td>\n      <td>[Write down the slope and $y$-intercept of eac...</td>\n      <td>[question, question, newpage, question]</td>\n      <td>[\\begin{document}\\n, \\subsubsection*{0.1 Quiz:...</td>\n      <td>[\\n,   \\item Write down the slope and $y$-inte...</td>\n    </tr>\n    <tr>\n      <th>2</th>\n      <td>01-Intro</td>\n      <td>1-1DN_Algebra.tex</td>\n      <td>7</td>\n      <td>[In the following two problems, solve for the ...</td>\n      <td>[question, question, question, question, newpa...</td>\n      <td>[\\begin{document}\\n, \\subsubsection*{1-1 Do No...</td>\n      <td>[\\n, \\n,   \\item In the following two problems...</td>\n    </tr>\n    <tr>\n      <th>3</th>\n      <td>01-Intro</td>\n      <td>1-1HW_Algebra.tex</td>\n      <td>8</td>\n      <td>[In the following two problems, solve for the ...</td>\n      <td>[question, question, question, question, quest...</td>\n      <td>[\\begin{document}\\n, \\subsubsection*{1-1 Homew...</td>\n      <td>[\\n, \\n,   \\item In the following two problems...</td>\n    </tr>\n    <tr>\n      <th>4</th>\n      <td>01-Intro</td>\n      <td>1-3DN_Function-intercepts.tex</td>\n      <td>6</td>\n      <td>[I have a compass, ruler, protractor, notebook...</td>\n      <td>[question, question, question, newpage, questi...</td>\n      <td>[\\begin{document}\\n, \\subsubsection*{1-3 Do No...</td>\n      <td>[  \\item I have a compass, ruler, protractor, ...</td>\n    </tr>\n  </tbody>\n</table>\n</div>"
     },
     "metadata": {},
     "execution_count": 5
    }
   ],
   "source": [
    "pset_df = parse_course_files(course_file_df, course_dir='/Users/chris/GitHub/course-files/Geom')\n",
    "pset_df.head()"
   ]
  },
  {
   "cell_type": "code",
   "execution_count": 10,
   "metadata": {},
   "outputs": [
    {
     "output_type": "execute_result",
     "data": {
      "text/plain": "                unit  filename  problems_list  problem_kind  head  body\nproblem_set_ID                                                         \n0               True     False           True          True  True  True\n1               True     False           True          True  True  True\n2               True     False           True          True  True  True\n3               True     False           True          True  True  True\n4               True     False           True          True  True  True\n...              ...       ...            ...           ...   ...   ...\n167             True     False           True          True  True  True\n168             True     False           True          True  True  True\n169             True     False           True          True  True  True\n170             True     False           True          True  True  True\n171             True     False           True          True  True  True\n\n[172 rows x 6 columns]",
      "text/html": "<div>\n<style scoped>\n    .dataframe tbody tr th:only-of-type {\n        vertical-align: middle;\n    }\n\n    .dataframe tbody tr th {\n        vertical-align: top;\n    }\n\n    .dataframe thead th {\n        text-align: right;\n    }\n</style>\n<table border=\"1\" class=\"dataframe\">\n  <thead>\n    <tr style=\"text-align: right;\">\n      <th></th>\n      <th>unit</th>\n      <th>filename</th>\n      <th>problems_list</th>\n      <th>problem_kind</th>\n      <th>head</th>\n      <th>body</th>\n    </tr>\n    <tr>\n      <th>problem_set_ID</th>\n      <th></th>\n      <th></th>\n      <th></th>\n      <th></th>\n      <th></th>\n      <th></th>\n    </tr>\n  </thead>\n  <tbody>\n    <tr>\n      <th>0</th>\n      <td>True</td>\n      <td>False</td>\n      <td>True</td>\n      <td>True</td>\n      <td>True</td>\n      <td>True</td>\n    </tr>\n    <tr>\n      <th>1</th>\n      <td>True</td>\n      <td>False</td>\n      <td>True</td>\n      <td>True</td>\n      <td>True</td>\n      <td>True</td>\n    </tr>\n    <tr>\n      <th>2</th>\n      <td>True</td>\n      <td>False</td>\n      <td>True</td>\n      <td>True</td>\n      <td>True</td>\n      <td>True</td>\n    </tr>\n    <tr>\n      <th>3</th>\n      <td>True</td>\n      <td>False</td>\n      <td>True</td>\n      <td>True</td>\n      <td>True</td>\n      <td>True</td>\n    </tr>\n    <tr>\n      <th>4</th>\n      <td>True</td>\n      <td>False</td>\n      <td>True</td>\n      <td>True</td>\n      <td>True</td>\n      <td>True</td>\n    </tr>\n    <tr>\n      <th>...</th>\n      <td>...</td>\n      <td>...</td>\n      <td>...</td>\n      <td>...</td>\n      <td>...</td>\n      <td>...</td>\n    </tr>\n    <tr>\n      <th>167</th>\n      <td>True</td>\n      <td>False</td>\n      <td>True</td>\n      <td>True</td>\n      <td>True</td>\n      <td>True</td>\n    </tr>\n    <tr>\n      <th>168</th>\n      <td>True</td>\n      <td>False</td>\n      <td>True</td>\n      <td>True</td>\n      <td>True</td>\n      <td>True</td>\n    </tr>\n    <tr>\n      <th>169</th>\n      <td>True</td>\n      <td>False</td>\n      <td>True</td>\n      <td>True</td>\n      <td>True</td>\n      <td>True</td>\n    </tr>\n    <tr>\n      <th>170</th>\n      <td>True</td>\n      <td>False</td>\n      <td>True</td>\n      <td>True</td>\n      <td>True</td>\n      <td>True</td>\n    </tr>\n    <tr>\n      <th>171</th>\n      <td>True</td>\n      <td>False</td>\n      <td>True</td>\n      <td>True</td>\n      <td>True</td>\n      <td>True</td>\n    </tr>\n  </tbody>\n</table>\n<p>172 rows × 6 columns</p>\n</div>"
     },
     "metadata": {},
     "execution_count": 10
    }
   ],
   "source": [
    "pset_df[['unit', 'filename', 'problems_list', 'problem_kind', 'head', 'body']] == pset_df2[['unit', 'filename', 'problems_list', 'problem_kind', 'head', 'body']]"
   ]
  },
  {
   "cell_type": "code",
   "execution_count": 14,
   "metadata": {},
   "outputs": [],
   "source": [
    "# add functions below to parse_problem_sets (& refactor)\n",
    "problem_df = parse_problem_sets(pset_df)\n",
    "problem_df['filename'] = problem_df.problem_set_ID.apply(lambda x: pset_df.loc[x, 'filename'])\n",
    "problem_df['q_len'] = problem_df.question.str.len()\n",
    "problem_df.sort_values('q_len', inplace=True)"
   ]
  },
  {
   "cell_type": "code",
   "execution_count": 15,
   "metadata": {
    "tags": []
   },
   "outputs": [
    {
     "output_type": "stream",
     "name": "stdout",
     "text": "pset_df:  172 problem_set_ID Index(['unit', 'filename', 'problem_count', 'problems_list', 'problem_kind',\n       'head', 'body', 'problem_IDs'],\n      dtype='object')\nproblem_df:  2443 problem_ID Index(['problem_set_ID', 'question', 'filename', 'q_len'], dtype='object')\n"
    }
   ],
   "source": [
    "# add_problem_IDs_to_set(pset_df) - refactor\n",
    "problem_IDs = []\n",
    "for problem_set_ID in pset_df.index:\n",
    "    problem_IDs.append(\n",
    "        [p_ID for p_ID in problem_df[problem_df.problem_set_ID == problem_set_ID].index])\n",
    "pset_df['problem_IDs'] = problem_IDs\n",
    "\n",
    "print('pset_df: ', len(pset_df), pset_df.index.name, pset_df.columns)\n",
    "print('problem_df: ', len(problem_df), problem_df.index.name, problem_df.columns)"
   ]
  },
  {
   "cell_type": "code",
   "execution_count": 17,
   "metadata": {},
   "outputs": [
    {
     "output_type": "execute_result",
     "data": {
      "text/plain": "            problem_set_ID    question                      filename  q_len\nproblem_ID                                                                 \n1000                    73  \\newpage\\n          6-10bCW_Dilation.tex      9\n758                     56  \\newpage\\n  5-11Exam_Transformations.tex      9\n2301                   162  \\newpage\\n  9-8bDN-Similarity-review.tex      9\n762                     56  \\newpage\\n  5-11Exam_Transformations.tex      9\n766                     56  \\newpage\\n  5-11Exam_Transformations.tex      9",
      "text/html": "<div>\n<style scoped>\n    .dataframe tbody tr th:only-of-type {\n        vertical-align: middle;\n    }\n\n    .dataframe tbody tr th {\n        vertical-align: top;\n    }\n\n    .dataframe thead th {\n        text-align: right;\n    }\n</style>\n<table border=\"1\" class=\"dataframe\">\n  <thead>\n    <tr style=\"text-align: right;\">\n      <th></th>\n      <th>problem_set_ID</th>\n      <th>question</th>\n      <th>filename</th>\n      <th>q_len</th>\n    </tr>\n    <tr>\n      <th>problem_ID</th>\n      <th></th>\n      <th></th>\n      <th></th>\n      <th></th>\n    </tr>\n  </thead>\n  <tbody>\n    <tr>\n      <th>1000</th>\n      <td>73</td>\n      <td>\\newpage\\n</td>\n      <td>6-10bCW_Dilation.tex</td>\n      <td>9</td>\n    </tr>\n    <tr>\n      <th>758</th>\n      <td>56</td>\n      <td>\\newpage\\n</td>\n      <td>5-11Exam_Transformations.tex</td>\n      <td>9</td>\n    </tr>\n    <tr>\n      <th>2301</th>\n      <td>162</td>\n      <td>\\newpage\\n</td>\n      <td>9-8bDN-Similarity-review.tex</td>\n      <td>9</td>\n    </tr>\n    <tr>\n      <th>762</th>\n      <td>56</td>\n      <td>\\newpage\\n</td>\n      <td>5-11Exam_Transformations.tex</td>\n      <td>9</td>\n    </tr>\n    <tr>\n      <th>766</th>\n      <td>56</td>\n      <td>\\newpage\\n</td>\n      <td>5-11Exam_Transformations.tex</td>\n      <td>9</td>\n    </tr>\n  </tbody>\n</table>\n</div>"
     },
     "metadata": {},
     "execution_count": 17
    }
   ],
   "source": [
    "problem_df.head()"
   ]
  },
  {
   "cell_type": "code",
   "execution_count": 16,
   "metadata": {},
   "outputs": [
    {
     "output_type": "error",
     "ename": "ValueError",
     "evalue": "Can only compare identically-labeled DataFrame objects",
     "traceback": [
      "\u001b[0;31m---------------------------------------------------------------------------\u001b[0m",
      "\u001b[0;31mValueError\u001b[0m                                Traceback (most recent call last)",
      "\u001b[0;32m<ipython-input-16-d1ce173e5cfd>\u001b[0m in \u001b[0;36m<module>\u001b[0;34m\u001b[0m\n\u001b[0;32m----> 1\u001b[0;31m \u001b[0mall\u001b[0m\u001b[0;34m(\u001b[0m\u001b[0mproblem_df\u001b[0m \u001b[0;34m==\u001b[0m \u001b[0mproblem_df2\u001b[0m\u001b[0;34m)\u001b[0m\u001b[0;34m\u001b[0m\u001b[0;34m\u001b[0m\u001b[0m\n\u001b[0m",
      "\u001b[0;32m~/opt/anaconda3/lib/python3.7/site-packages/pandas/core/ops/__init__.py\u001b[0m in \u001b[0;36mf\u001b[0;34m(self, other)\u001b[0m\n\u001b[1;32m    773\u001b[0m             \u001b[0;32mif\u001b[0m \u001b[0;32mnot\u001b[0m \u001b[0mself\u001b[0m\u001b[0;34m.\u001b[0m\u001b[0m_indexed_same\u001b[0m\u001b[0;34m(\u001b[0m\u001b[0mother\u001b[0m\u001b[0;34m)\u001b[0m\u001b[0;34m:\u001b[0m\u001b[0;34m\u001b[0m\u001b[0;34m\u001b[0m\u001b[0m\n\u001b[1;32m    774\u001b[0m                 raise ValueError(\n\u001b[0;32m--> 775\u001b[0;31m                     \u001b[0;34m\"Can only compare identically-labeled DataFrame objects\"\u001b[0m\u001b[0;34m\u001b[0m\u001b[0;34m\u001b[0m\u001b[0m\n\u001b[0m\u001b[1;32m    776\u001b[0m                 )\n\u001b[1;32m    777\u001b[0m             \u001b[0mnew_data\u001b[0m \u001b[0;34m=\u001b[0m \u001b[0mdispatch_to_series\u001b[0m\u001b[0;34m(\u001b[0m\u001b[0mself\u001b[0m\u001b[0;34m,\u001b[0m \u001b[0mother\u001b[0m\u001b[0;34m,\u001b[0m \u001b[0mop\u001b[0m\u001b[0;34m,\u001b[0m \u001b[0mstr_rep\u001b[0m\u001b[0;34m)\u001b[0m\u001b[0;34m\u001b[0m\u001b[0;34m\u001b[0m\u001b[0m\n",
      "\u001b[0;31mValueError\u001b[0m: Can only compare identically-labeled DataFrame objects"
     ]
    }
   ],
   "source": [
    "all(problem_df == problem_df2)"
   ]
  },
  {
   "cell_type": "markdown",
   "metadata": {},
   "source": [
    "## Parse small subsets of course"
   ]
  },
  {
   "cell_type": "code",
   "execution_count": 74,
   "metadata": {},
   "outputs": [
    {
     "output_type": "execute_result",
     "data": {
      "text/plain": "       unit  file_count                       filename\n0  01-Intro           6  1-3DN_Function-intercepts.tex",
      "text/html": "<div>\n<style scoped>\n    .dataframe tbody tr th:only-of-type {\n        vertical-align: middle;\n    }\n\n    .dataframe tbody tr th {\n        vertical-align: top;\n    }\n\n    .dataframe thead th {\n        text-align: right;\n    }\n</style>\n<table border=\"1\" class=\"dataframe\">\n  <thead>\n    <tr style=\"text-align: right;\">\n      <th></th>\n      <th>unit</th>\n      <th>file_count</th>\n      <th>filename</th>\n    </tr>\n  </thead>\n  <tbody>\n    <tr>\n      <th>0</th>\n      <td>01-Intro</td>\n      <td>6</td>\n      <td>1-3DN_Function-intercepts.tex</td>\n    </tr>\n  </tbody>\n</table>\n</div>"
     },
     "metadata": {},
     "execution_count": 74
    }
   ],
   "source": [
    "course_file_df = pd.DataFrame({\"unit\":['01-Intro'], \"file_count\":[6], \"filename\":['1-3DN_Function-intercepts.tex']})\n",
    "course_file_df"
   ]
  },
  {
   "cell_type": "code",
   "execution_count": 75,
   "metadata": {
    "tags": []
   },
   "outputs": [],
   "source": [
    "#pset_df[pset_df.file.str.startswith('1-3DN')]\n",
    "pset_1_3DN_df = parse_course_files(course_file_df, course_dir='/Users/chris/GitHub/course-files/Geom')"
   ]
  },
  {
   "cell_type": "code",
   "execution_count": 78,
   "metadata": {},
   "outputs": [],
   "source": [
    "pset_1_3DN_df[['path', 'unit', 'file']] = pset_1_3DN_df.filename.str.rsplit('/', n=2, expand=True)\n",
    "new_cols = ['unit', 'file', 'problem_count', 'head', 'body', 'problems_list', 'path', 'filename']\n",
    "pset_df = pset_df.reindex(columns=new_cols)"
   ]
  },
  {
   "cell_type": "markdown",
   "metadata": {},
   "source": [
    "## Review problems"
   ]
  },
  {
   "cell_type": "code",
   "execution_count": 13,
   "metadata": {},
   "outputs": [
    {
     "output_type": "execute_result",
     "data": {
      "text/plain": "'The line $\\\\overleftrightarrow{PQ}$ has the equation $y=3x+9$ with the two points\\' coordinates $P(0,a)$ and $Q(b,0)$. Find the values of $a$ and $b$. \\\\vspace{5cm}\\n\\n  Simplify each expression (``Collect like terms\")\\n  \\\\begin{multicols}{2}\\n'"
     },
     "metadata": {},
     "execution_count": 13
    }
   ],
   "source": [
    "problem_df.loc[1160, 'question']"
   ]
  },
  {
   "cell_type": "code",
   "execution_count": 18,
   "metadata": {},
   "outputs": [
    {
     "output_type": "execute_result",
     "data": {
      "text/plain": "            problem_set_ID                                           question  \\\nproblem_ID                                                                      \n1160                    79  In this problem use the following theorem (cop...   \n1161                    79                                         \\newpage\\n   \n1162                    79    \\subsubsection*{Using the distance formula t...   \n1163                    79  In this problem use the following theorem (cop...   \n1164                    79                                         \\newpage\\n   \n1165                    79  Given $\\overleftrightarrow{AB}$ as shown on th...   \n\n                                  filename  q_len  \nproblem_ID                                         \n1160        6-12Exam-Analytic-geometry.tex   1026  \n1161        6-12Exam-Analytic-geometry.tex      9  \n1162        6-12Exam-Analytic-geometry.tex     71  \n1163        6-12Exam-Analytic-geometry.tex   1027  \n1164        6-12Exam-Analytic-geometry.tex     13  \n1165        6-12Exam-Analytic-geometry.tex    541  ",
      "text/html": "<div>\n<style scoped>\n    .dataframe tbody tr th:only-of-type {\n        vertical-align: middle;\n    }\n\n    .dataframe tbody tr th {\n        vertical-align: top;\n    }\n\n    .dataframe thead th {\n        text-align: right;\n    }\n</style>\n<table border=\"1\" class=\"dataframe\">\n  <thead>\n    <tr style=\"text-align: right;\">\n      <th></th>\n      <th>problem_set_ID</th>\n      <th>question</th>\n      <th>filename</th>\n      <th>q_len</th>\n    </tr>\n    <tr>\n      <th>problem_ID</th>\n      <th></th>\n      <th></th>\n      <th></th>\n      <th></th>\n    </tr>\n  </thead>\n  <tbody>\n    <tr>\n      <th>1160</th>\n      <td>79</td>\n      <td>In this problem use the following theorem (cop...</td>\n      <td>6-12Exam-Analytic-geometry.tex</td>\n      <td>1026</td>\n    </tr>\n    <tr>\n      <th>1161</th>\n      <td>79</td>\n      <td>\\newpage\\n</td>\n      <td>6-12Exam-Analytic-geometry.tex</td>\n      <td>9</td>\n    </tr>\n    <tr>\n      <th>1162</th>\n      <td>79</td>\n      <td>\\subsubsection*{Using the distance formula t...</td>\n      <td>6-12Exam-Analytic-geometry.tex</td>\n      <td>71</td>\n    </tr>\n    <tr>\n      <th>1163</th>\n      <td>79</td>\n      <td>In this problem use the following theorem (cop...</td>\n      <td>6-12Exam-Analytic-geometry.tex</td>\n      <td>1027</td>\n    </tr>\n    <tr>\n      <th>1164</th>\n      <td>79</td>\n      <td>\\newpage\\n</td>\n      <td>6-12Exam-Analytic-geometry.tex</td>\n      <td>13</td>\n    </tr>\n    <tr>\n      <th>1165</th>\n      <td>79</td>\n      <td>Given $\\overleftrightarrow{AB}$ as shown on th...</td>\n      <td>6-12Exam-Analytic-geometry.tex</td>\n      <td>541</td>\n    </tr>\n  </tbody>\n</table>\n</div>"
     },
     "metadata": {},
     "execution_count": 18
    }
   ],
   "source": [
    "ps = range(1160, 1166)\n",
    "problem_df.loc[ps]"
   ]
  },
  {
   "cell_type": "code",
   "execution_count": 10,
   "metadata": {},
   "outputs": [
    {
     "output_type": "execute_result",
     "data": {
      "text/plain": "['In the following two problems, solve for the value of $x$.\\n  \\\\begin{multicols}{2}\\n    \\\\begin{enumerate}\\n      \\\\item   $x-5=12$ \\\\vspace{6cm}\\n      \\\\item   $13-x=-3$ \\\\vspace{6cm}\\n    \\\\end{enumerate}\\n  \\\\end{multicols}\\n    \\\\vspace{3cm}\\n\\n',\n 'Given $g(x)=x^2-5x+15$. Simplify $g(0)$. \\\\vspace{3cm}\\n',\n 'Given $f(x)=3x-2$. Solve for $x$ such that for $f(x)=13$. \\\\vspace{4cm}\\n',\n 'Given $h(x)=x^2-x-12$. Solve $h(x)=0$. \\\\vspace{5cm}\\n  \\n\\n',\n 'Simplify each expression. (Leave it in radical form if necessary, not a decimal.)\\n    \\\\begin{enumerate}\\n      \\\\begin{multicols}{2}\\n      \\\\item   $\\\\sqrt{25}$ \\\\vspace{1.5cm}\\n      \\\\item   $\\\\sqrt{24}$ \\\\vspace{1.5cm}\\n      \\\\end{multicols}\\n    \\\\end{enumerate}\\n    \\\\vspace{0.5cm}\\n\\n',\n '\\\\newpage\\n\\n',\n \"The line $l$ has the equation $y=\\\\frac{3}{2}x-1$. \\n\\\\begin{enumerate}\\n  \\\\item Write down it's slope. $m=$\\n  \\\\vspace{0.5cm}\\n  \\\\item Write down it's $y$-intercept. $b=$\\n  \\\\vspace{0.5cm}\\n  \\\\item Is the point $(4, 4)$ on the line $l$? Justify your answer.\\n\\\\end{enumerate}\\n\\\\vspace{2.5cm}\\n\\n\",\n 'On the grid below, graph the line $y=-\\\\frac{1}{2}x+2$.\\n  \\\\vspace{0.5cm}\\n\\n    \\\\begin{center} %4 quadrant regents grid w T-Chart\\n    \\\\begin{tikzpicture}[scale=.635]\\n      \\\\draw [help lines] (-10,-10) grid (10,10);\\n      \\\\draw [thick, ->] (-10.2,0) -- (10.4,0) node [below right] {$x$};\\n      \\\\draw [thick, ->] (0,-10.2)--(0,10.4) node [left] {$y$};\\n    \\\\end{tikzpicture}\\n    \\\\end{center}\\n\\n']"
     },
     "metadata": {},
     "execution_count": 10
    }
   ],
   "source": [
    "pset_df.loc[3,'problems_list']"
   ]
  },
  {
   "cell_type": "code",
   "execution_count": 11,
   "metadata": {},
   "outputs": [
    {
     "output_type": "execute_result",
     "data": {
      "text/plain": "            problem_set_ID                                           question  \\\nproblem_ID                                                                      \n367                     30  Solve for $x$ by factoring\\n    \\begin{multico...   \n400                     32  \\emph{Factor and solve for $x$.}\\n  \\begin{enu...   \n2133                   146  Simplify each radical.\\n  \\begin{multicols}{2}...   \n2132                   146  Expand each binomial-squared expression to the...   \n1209                    81  In the following two problems, solve for the v...   \n\n                                 file  q_len  \nproblem_ID                                    \n367           2-8DN_Constructions.tex    171  \n400         2-9Exam_area-distance.tex    172  \n2133        8-9DN_Circle-equation.tex    183  \n2132        8-9DN_Circle-equation.tex    214  \n1209               6-1DN_graphing.tex    226  ",
      "text/html": "<div>\n<style scoped>\n    .dataframe tbody tr th:only-of-type {\n        vertical-align: middle;\n    }\n\n    .dataframe tbody tr th {\n        vertical-align: top;\n    }\n\n    .dataframe thead th {\n        text-align: right;\n    }\n</style>\n<table border=\"1\" class=\"dataframe\">\n  <thead>\n    <tr style=\"text-align: right;\">\n      <th></th>\n      <th>problem_set_ID</th>\n      <th>question</th>\n      <th>file</th>\n      <th>q_len</th>\n    </tr>\n    <tr>\n      <th>problem_ID</th>\n      <th></th>\n      <th></th>\n      <th></th>\n      <th></th>\n    </tr>\n  </thead>\n  <tbody>\n    <tr>\n      <th>367</th>\n      <td>30</td>\n      <td>Solve for $x$ by factoring\\n    \\begin{multico...</td>\n      <td>2-8DN_Constructions.tex</td>\n      <td>171</td>\n    </tr>\n    <tr>\n      <th>400</th>\n      <td>32</td>\n      <td>\\emph{Factor and solve for $x$.}\\n  \\begin{enu...</td>\n      <td>2-9Exam_area-distance.tex</td>\n      <td>172</td>\n    </tr>\n    <tr>\n      <th>2133</th>\n      <td>146</td>\n      <td>Simplify each radical.\\n  \\begin{multicols}{2}...</td>\n      <td>8-9DN_Circle-equation.tex</td>\n      <td>183</td>\n    </tr>\n    <tr>\n      <th>2132</th>\n      <td>146</td>\n      <td>Expand each binomial-squared expression to the...</td>\n      <td>8-9DN_Circle-equation.tex</td>\n      <td>214</td>\n    </tr>\n    <tr>\n      <th>1209</th>\n      <td>81</td>\n      <td>In the following two problems, solve for the v...</td>\n      <td>6-1DN_graphing.tex</td>\n      <td>226</td>\n    </tr>\n  </tbody>\n</table>\n</div>"
     },
     "metadata": {},
     "execution_count": 11
    }
   ],
   "source": [
    "problem_df[(problem_df.question.str.contains('multicol'))].head()"
   ]
  },
  {
   "cell_type": "code",
   "execution_count": 14,
   "metadata": {},
   "outputs": [
    {
     "output_type": "execute_result",
     "data": {
      "text/plain": "       problem_set_ID  question  file\nq_len                                \n9                 431       431   431\n10                 22        22    22\n11                 40        40    40\n12                  2         2     2\n13                 13        13    13",
      "text/html": "<div>\n<style scoped>\n    .dataframe tbody tr th:only-of-type {\n        vertical-align: middle;\n    }\n\n    .dataframe tbody tr th {\n        vertical-align: top;\n    }\n\n    .dataframe thead th {\n        text-align: right;\n    }\n</style>\n<table border=\"1\" class=\"dataframe\">\n  <thead>\n    <tr style=\"text-align: right;\">\n      <th></th>\n      <th>problem_set_ID</th>\n      <th>question</th>\n      <th>file</th>\n    </tr>\n    <tr>\n      <th>q_len</th>\n      <th></th>\n      <th></th>\n      <th></th>\n    </tr>\n  </thead>\n  <tbody>\n    <tr>\n      <th>9</th>\n      <td>431</td>\n      <td>431</td>\n      <td>431</td>\n    </tr>\n    <tr>\n      <th>10</th>\n      <td>22</td>\n      <td>22</td>\n      <td>22</td>\n    </tr>\n    <tr>\n      <th>11</th>\n      <td>40</td>\n      <td>40</td>\n      <td>40</td>\n    </tr>\n    <tr>\n      <th>12</th>\n      <td>2</td>\n      <td>2</td>\n      <td>2</td>\n    </tr>\n    <tr>\n      <th>13</th>\n      <td>13</td>\n      <td>13</td>\n      <td>13</td>\n    </tr>\n  </tbody>\n</table>\n</div>"
     },
     "metadata": {},
     "execution_count": 14
    }
   ],
   "source": [
    "problem_df[problem_df.question.str.contains(r'\\\\newpage')].groupby('q_len').count()"
   ]
  },
  {
   "cell_type": "code",
   "execution_count": 23,
   "metadata": {},
   "outputs": [
    {
     "output_type": "error",
     "ename": "KeyError",
     "evalue": "6",
     "traceback": [
      "\u001b[0;31m---------------------------------------------------------------------------\u001b[0m",
      "\u001b[0;31mKeyError\u001b[0m                                  Traceback (most recent call last)",
      "\u001b[0;32m~/opt/anaconda3/lib/python3.7/site-packages/pandas/core/indexes/base.py\u001b[0m in \u001b[0;36mget_loc\u001b[0;34m(self, key, method, tolerance)\u001b[0m\n\u001b[1;32m   2645\u001b[0m             \u001b[0;32mtry\u001b[0m\u001b[0;34m:\u001b[0m\u001b[0;34m\u001b[0m\u001b[0;34m\u001b[0m\u001b[0m\n\u001b[0;32m-> 2646\u001b[0;31m                 \u001b[0;32mreturn\u001b[0m \u001b[0mself\u001b[0m\u001b[0;34m.\u001b[0m\u001b[0m_engine\u001b[0m\u001b[0;34m.\u001b[0m\u001b[0mget_loc\u001b[0m\u001b[0;34m(\u001b[0m\u001b[0mkey\u001b[0m\u001b[0;34m)\u001b[0m\u001b[0;34m\u001b[0m\u001b[0;34m\u001b[0m\u001b[0m\n\u001b[0m\u001b[1;32m   2647\u001b[0m             \u001b[0;32mexcept\u001b[0m \u001b[0mKeyError\u001b[0m\u001b[0;34m:\u001b[0m\u001b[0;34m\u001b[0m\u001b[0;34m\u001b[0m\u001b[0m\n",
      "\u001b[0;32mpandas/_libs/index.pyx\u001b[0m in \u001b[0;36mpandas._libs.index.IndexEngine.get_loc\u001b[0;34m()\u001b[0m\n",
      "\u001b[0;32mpandas/_libs/index.pyx\u001b[0m in \u001b[0;36mpandas._libs.index.IndexEngine.get_loc\u001b[0;34m()\u001b[0m\n",
      "\u001b[0;32mpandas/_libs/hashtable_class_helper.pxi\u001b[0m in \u001b[0;36mpandas._libs.hashtable.Int64HashTable.get_item\u001b[0;34m()\u001b[0m\n",
      "\u001b[0;32mpandas/_libs/hashtable_class_helper.pxi\u001b[0m in \u001b[0;36mpandas._libs.hashtable.Int64HashTable.get_item\u001b[0;34m()\u001b[0m\n",
      "\u001b[0;31mKeyError\u001b[0m: 6",
      "\nDuring handling of the above exception, another exception occurred:\n",
      "\u001b[0;31mKeyError\u001b[0m                                  Traceback (most recent call last)",
      "\u001b[0;32m<ipython-input-23-9231ad623c85>\u001b[0m in \u001b[0;36m<module>\u001b[0;34m\u001b[0m\n\u001b[1;32m      1\u001b[0m \u001b[0;31m# Example queries\u001b[0m\u001b[0;34m\u001b[0m\u001b[0;34m\u001b[0m\u001b[0;34m\u001b[0m\u001b[0m\n\u001b[0;32m----> 2\u001b[0;31m \u001b[0mproblem_df\u001b[0m\u001b[0;34m[\u001b[0m\u001b[0mproblem_df\u001b[0m\u001b[0;34m.\u001b[0m\u001b[0mquestion\u001b[0m\u001b[0;34m.\u001b[0m\u001b[0mstr\u001b[0m\u001b[0;34m.\u001b[0m\u001b[0mcontains\u001b[0m\u001b[0;34m(\u001b[0m\u001b[0;34mr'\\\\newpage'\u001b[0m\u001b[0;34m)\u001b[0m\u001b[0;34m]\u001b[0m\u001b[0;34m.\u001b[0m\u001b[0mquestion\u001b[0m\u001b[0;34m.\u001b[0m\u001b[0mloc\u001b[0m\u001b[0;34m[\u001b[0m\u001b[0;36m6\u001b[0m\u001b[0;34m]\u001b[0m\u001b[0;34m\u001b[0m\u001b[0;34m\u001b[0m\u001b[0m\n\u001b[0m\u001b[1;32m      3\u001b[0m \u001b[0mproblem_df\u001b[0m\u001b[0;34m[\u001b[0m\u001b[0mproblem_df\u001b[0m\u001b[0;34m.\u001b[0m\u001b[0mfile\u001b[0m\u001b[0;34m.\u001b[0m\u001b[0mstr\u001b[0m\u001b[0;34m.\u001b[0m\u001b[0mstartswith\u001b[0m\u001b[0;34m(\u001b[0m\u001b[0;34m'1-1'\u001b[0m\u001b[0;34m)\u001b[0m\u001b[0;34m]\u001b[0m\u001b[0;34m.\u001b[0m\u001b[0msort_index\u001b[0m\u001b[0;34m(\u001b[0m\u001b[0;34m)\u001b[0m\u001b[0;34m\u001b[0m\u001b[0;34m\u001b[0m\u001b[0m\n",
      "\u001b[0;32m~/opt/anaconda3/lib/python3.7/site-packages/pandas/core/indexing.py\u001b[0m in \u001b[0;36m__getitem__\u001b[0;34m(self, key)\u001b[0m\n\u001b[1;32m   1765\u001b[0m \u001b[0;34m\u001b[0m\u001b[0m\n\u001b[1;32m   1766\u001b[0m             \u001b[0mmaybe_callable\u001b[0m \u001b[0;34m=\u001b[0m \u001b[0mcom\u001b[0m\u001b[0;34m.\u001b[0m\u001b[0mapply_if_callable\u001b[0m\u001b[0;34m(\u001b[0m\u001b[0mkey\u001b[0m\u001b[0;34m,\u001b[0m \u001b[0mself\u001b[0m\u001b[0;34m.\u001b[0m\u001b[0mobj\u001b[0m\u001b[0;34m)\u001b[0m\u001b[0;34m\u001b[0m\u001b[0;34m\u001b[0m\u001b[0m\n\u001b[0;32m-> 1767\u001b[0;31m             \u001b[0;32mreturn\u001b[0m \u001b[0mself\u001b[0m\u001b[0;34m.\u001b[0m\u001b[0m_getitem_axis\u001b[0m\u001b[0;34m(\u001b[0m\u001b[0mmaybe_callable\u001b[0m\u001b[0;34m,\u001b[0m \u001b[0maxis\u001b[0m\u001b[0;34m=\u001b[0m\u001b[0maxis\u001b[0m\u001b[0;34m)\u001b[0m\u001b[0;34m\u001b[0m\u001b[0;34m\u001b[0m\u001b[0m\n\u001b[0m\u001b[1;32m   1768\u001b[0m \u001b[0;34m\u001b[0m\u001b[0m\n\u001b[1;32m   1769\u001b[0m     \u001b[0;32mdef\u001b[0m \u001b[0m_is_scalar_access\u001b[0m\u001b[0;34m(\u001b[0m\u001b[0mself\u001b[0m\u001b[0;34m,\u001b[0m \u001b[0mkey\u001b[0m\u001b[0;34m:\u001b[0m \u001b[0mTuple\u001b[0m\u001b[0;34m)\u001b[0m\u001b[0;34m:\u001b[0m\u001b[0;34m\u001b[0m\u001b[0;34m\u001b[0m\u001b[0m\n",
      "\u001b[0;32m~/opt/anaconda3/lib/python3.7/site-packages/pandas/core/indexing.py\u001b[0m in \u001b[0;36m_getitem_axis\u001b[0;34m(self, key, axis)\u001b[0m\n\u001b[1;32m   1962\u001b[0m         \u001b[0;31m# fall thru to straight lookup\u001b[0m\u001b[0;34m\u001b[0m\u001b[0;34m\u001b[0m\u001b[0;34m\u001b[0m\u001b[0m\n\u001b[1;32m   1963\u001b[0m         \u001b[0mself\u001b[0m\u001b[0;34m.\u001b[0m\u001b[0m_validate_key\u001b[0m\u001b[0;34m(\u001b[0m\u001b[0mkey\u001b[0m\u001b[0;34m,\u001b[0m \u001b[0maxis\u001b[0m\u001b[0;34m)\u001b[0m\u001b[0;34m\u001b[0m\u001b[0;34m\u001b[0m\u001b[0m\n\u001b[0;32m-> 1964\u001b[0;31m         \u001b[0;32mreturn\u001b[0m \u001b[0mself\u001b[0m\u001b[0;34m.\u001b[0m\u001b[0m_get_label\u001b[0m\u001b[0;34m(\u001b[0m\u001b[0mkey\u001b[0m\u001b[0;34m,\u001b[0m \u001b[0maxis\u001b[0m\u001b[0;34m=\u001b[0m\u001b[0maxis\u001b[0m\u001b[0;34m)\u001b[0m\u001b[0;34m\u001b[0m\u001b[0;34m\u001b[0m\u001b[0m\n\u001b[0m\u001b[1;32m   1965\u001b[0m \u001b[0;34m\u001b[0m\u001b[0m\n\u001b[1;32m   1966\u001b[0m \u001b[0;34m\u001b[0m\u001b[0m\n",
      "\u001b[0;32m~/opt/anaconda3/lib/python3.7/site-packages/pandas/core/indexing.py\u001b[0m in \u001b[0;36m_get_label\u001b[0;34m(self, label, axis)\u001b[0m\n\u001b[1;32m    618\u001b[0m             \u001b[0;31m# but will fail when the index is not present\u001b[0m\u001b[0;34m\u001b[0m\u001b[0;34m\u001b[0m\u001b[0;34m\u001b[0m\u001b[0m\n\u001b[1;32m    619\u001b[0m             \u001b[0;31m# see GH5667\u001b[0m\u001b[0;34m\u001b[0m\u001b[0;34m\u001b[0m\u001b[0;34m\u001b[0m\u001b[0m\n\u001b[0;32m--> 620\u001b[0;31m             \u001b[0;32mreturn\u001b[0m \u001b[0mself\u001b[0m\u001b[0;34m.\u001b[0m\u001b[0mobj\u001b[0m\u001b[0;34m.\u001b[0m\u001b[0m_xs\u001b[0m\u001b[0;34m(\u001b[0m\u001b[0mlabel\u001b[0m\u001b[0;34m,\u001b[0m \u001b[0maxis\u001b[0m\u001b[0;34m=\u001b[0m\u001b[0maxis\u001b[0m\u001b[0;34m)\u001b[0m\u001b[0;34m\u001b[0m\u001b[0;34m\u001b[0m\u001b[0m\n\u001b[0m\u001b[1;32m    621\u001b[0m         \u001b[0;32melif\u001b[0m \u001b[0misinstance\u001b[0m\u001b[0;34m(\u001b[0m\u001b[0mlabel\u001b[0m\u001b[0;34m,\u001b[0m \u001b[0mtuple\u001b[0m\u001b[0;34m)\u001b[0m \u001b[0;32mand\u001b[0m \u001b[0misinstance\u001b[0m\u001b[0;34m(\u001b[0m\u001b[0mlabel\u001b[0m\u001b[0;34m[\u001b[0m\u001b[0maxis\u001b[0m\u001b[0;34m]\u001b[0m\u001b[0;34m,\u001b[0m \u001b[0mslice\u001b[0m\u001b[0;34m)\u001b[0m\u001b[0;34m:\u001b[0m\u001b[0;34m\u001b[0m\u001b[0;34m\u001b[0m\u001b[0m\n\u001b[1;32m    622\u001b[0m             \u001b[0;32mraise\u001b[0m \u001b[0mIndexingError\u001b[0m\u001b[0;34m(\u001b[0m\u001b[0;34m\"no slices here, handle elsewhere\"\u001b[0m\u001b[0;34m)\u001b[0m\u001b[0;34m\u001b[0m\u001b[0;34m\u001b[0m\u001b[0m\n",
      "\u001b[0;32m~/opt/anaconda3/lib/python3.7/site-packages/pandas/core/generic.py\u001b[0m in \u001b[0;36mxs\u001b[0;34m(self, key, axis, level, drop_level)\u001b[0m\n\u001b[1;32m   3535\u001b[0m             \u001b[0mloc\u001b[0m\u001b[0;34m,\u001b[0m \u001b[0mnew_index\u001b[0m \u001b[0;34m=\u001b[0m \u001b[0mself\u001b[0m\u001b[0;34m.\u001b[0m\u001b[0mindex\u001b[0m\u001b[0;34m.\u001b[0m\u001b[0mget_loc_level\u001b[0m\u001b[0;34m(\u001b[0m\u001b[0mkey\u001b[0m\u001b[0;34m,\u001b[0m \u001b[0mdrop_level\u001b[0m\u001b[0;34m=\u001b[0m\u001b[0mdrop_level\u001b[0m\u001b[0;34m)\u001b[0m\u001b[0;34m\u001b[0m\u001b[0;34m\u001b[0m\u001b[0m\n\u001b[1;32m   3536\u001b[0m         \u001b[0;32melse\u001b[0m\u001b[0;34m:\u001b[0m\u001b[0;34m\u001b[0m\u001b[0;34m\u001b[0m\u001b[0m\n\u001b[0;32m-> 3537\u001b[0;31m             \u001b[0mloc\u001b[0m \u001b[0;34m=\u001b[0m \u001b[0mself\u001b[0m\u001b[0;34m.\u001b[0m\u001b[0mindex\u001b[0m\u001b[0;34m.\u001b[0m\u001b[0mget_loc\u001b[0m\u001b[0;34m(\u001b[0m\u001b[0mkey\u001b[0m\u001b[0;34m)\u001b[0m\u001b[0;34m\u001b[0m\u001b[0;34m\u001b[0m\u001b[0m\n\u001b[0m\u001b[1;32m   3538\u001b[0m \u001b[0;34m\u001b[0m\u001b[0m\n\u001b[1;32m   3539\u001b[0m             \u001b[0;32mif\u001b[0m \u001b[0misinstance\u001b[0m\u001b[0;34m(\u001b[0m\u001b[0mloc\u001b[0m\u001b[0;34m,\u001b[0m \u001b[0mnp\u001b[0m\u001b[0;34m.\u001b[0m\u001b[0mndarray\u001b[0m\u001b[0;34m)\u001b[0m\u001b[0;34m:\u001b[0m\u001b[0;34m\u001b[0m\u001b[0;34m\u001b[0m\u001b[0m\n",
      "\u001b[0;32m~/opt/anaconda3/lib/python3.7/site-packages/pandas/core/indexes/base.py\u001b[0m in \u001b[0;36mget_loc\u001b[0;34m(self, key, method, tolerance)\u001b[0m\n\u001b[1;32m   2646\u001b[0m                 \u001b[0;32mreturn\u001b[0m \u001b[0mself\u001b[0m\u001b[0;34m.\u001b[0m\u001b[0m_engine\u001b[0m\u001b[0;34m.\u001b[0m\u001b[0mget_loc\u001b[0m\u001b[0;34m(\u001b[0m\u001b[0mkey\u001b[0m\u001b[0;34m)\u001b[0m\u001b[0;34m\u001b[0m\u001b[0;34m\u001b[0m\u001b[0m\n\u001b[1;32m   2647\u001b[0m             \u001b[0;32mexcept\u001b[0m \u001b[0mKeyError\u001b[0m\u001b[0;34m:\u001b[0m\u001b[0;34m\u001b[0m\u001b[0;34m\u001b[0m\u001b[0m\n\u001b[0;32m-> 2648\u001b[0;31m                 \u001b[0;32mreturn\u001b[0m \u001b[0mself\u001b[0m\u001b[0;34m.\u001b[0m\u001b[0m_engine\u001b[0m\u001b[0;34m.\u001b[0m\u001b[0mget_loc\u001b[0m\u001b[0;34m(\u001b[0m\u001b[0mself\u001b[0m\u001b[0;34m.\u001b[0m\u001b[0m_maybe_cast_indexer\u001b[0m\u001b[0;34m(\u001b[0m\u001b[0mkey\u001b[0m\u001b[0;34m)\u001b[0m\u001b[0;34m)\u001b[0m\u001b[0;34m\u001b[0m\u001b[0;34m\u001b[0m\u001b[0m\n\u001b[0m\u001b[1;32m   2649\u001b[0m         \u001b[0mindexer\u001b[0m \u001b[0;34m=\u001b[0m \u001b[0mself\u001b[0m\u001b[0;34m.\u001b[0m\u001b[0mget_indexer\u001b[0m\u001b[0;34m(\u001b[0m\u001b[0;34m[\u001b[0m\u001b[0mkey\u001b[0m\u001b[0;34m]\u001b[0m\u001b[0;34m,\u001b[0m \u001b[0mmethod\u001b[0m\u001b[0;34m=\u001b[0m\u001b[0mmethod\u001b[0m\u001b[0;34m,\u001b[0m \u001b[0mtolerance\u001b[0m\u001b[0;34m=\u001b[0m\u001b[0mtolerance\u001b[0m\u001b[0;34m)\u001b[0m\u001b[0;34m\u001b[0m\u001b[0;34m\u001b[0m\u001b[0m\n\u001b[1;32m   2650\u001b[0m         \u001b[0;32mif\u001b[0m \u001b[0mindexer\u001b[0m\u001b[0;34m.\u001b[0m\u001b[0mndim\u001b[0m \u001b[0;34m>\u001b[0m \u001b[0;36m1\u001b[0m \u001b[0;32mor\u001b[0m \u001b[0mindexer\u001b[0m\u001b[0;34m.\u001b[0m\u001b[0msize\u001b[0m \u001b[0;34m>\u001b[0m \u001b[0;36m1\u001b[0m\u001b[0;34m:\u001b[0m\u001b[0;34m\u001b[0m\u001b[0;34m\u001b[0m\u001b[0m\n",
      "\u001b[0;32mpandas/_libs/index.pyx\u001b[0m in \u001b[0;36mpandas._libs.index.IndexEngine.get_loc\u001b[0;34m()\u001b[0m\n",
      "\u001b[0;32mpandas/_libs/index.pyx\u001b[0m in \u001b[0;36mpandas._libs.index.IndexEngine.get_loc\u001b[0;34m()\u001b[0m\n",
      "\u001b[0;32mpandas/_libs/hashtable_class_helper.pxi\u001b[0m in \u001b[0;36mpandas._libs.hashtable.Int64HashTable.get_item\u001b[0;34m()\u001b[0m\n",
      "\u001b[0;32mpandas/_libs/hashtable_class_helper.pxi\u001b[0m in \u001b[0;36mpandas._libs.hashtable.Int64HashTable.get_item\u001b[0;34m()\u001b[0m\n",
      "\u001b[0;31mKeyError\u001b[0m: 6"
     ]
    }
   ],
   "source": [
    "# Example queries\n",
    "problem_df[problem_df.question.str.contains(r'\\\\newpage')].question.loc[6]\n",
    "problem_df[problem_df.file.str.startswith('1-1')].sort_index()"
   ]
  },
  {
   "cell_type": "code",
   "execution_count": 22,
   "metadata": {},
   "outputs": [
    {
     "output_type": "execute_result",
     "data": {
      "text/plain": "problem_set_ID                                                  163\nquestion          Given $\\triangle ABC$, $D$ is the midpoint of ...\nfilename                                9-9Exam-transformations.tex\nq_len                                                           548\nName: 2335, dtype: object"
     },
     "metadata": {},
     "execution_count": 22
    }
   ],
   "source": [
    "problem_df.loc[2335]"
   ]
  },
  {
   "cell_type": "code",
   "execution_count": 38,
   "metadata": {},
   "outputs": [
    {
     "output_type": "execute_result",
     "data": {
      "text/plain": "            problem_set_ID                                           question  \\\nproblem_ID                                                                      \n0                        0  Given the line segment $\\overline{PQ}$ shown b...   \n1                        0                                         \\newpage\\n   \n2                        0  Given an angle with vertex $A$. Answer the que...   \n3                        0                                         \\newpage\\n   \n4                        0  Given the rectangle $ABCD$ shown below. Answer...   \n5                        0                                         \\newpage\\n   \n6                        0  The points shown are in a straight line, $\\ove...   \n7                        0  Given $\\overleftrightarrow{QS}$ as shown on th...   \n8                        1  Write down the slope and $y$-intercept of each...   \n9                        1  What is the slope of a line parallel to the li...   \n10                       1                                         \\newpage\\n   \n11                       1  Graph and label the two equations. Mark their ...   \n12                       2  In the following two problems, solve for the v...   \n13                       2  Given $g(x)=3x^2-7x+5$. Fine $g(0)$. \\vspace{4...   \n14                       2  Given $f(x)=2x-1$. Solve for $x$ such that for...   \n15                       2  Given $x^2+6x+5=0$. Factor and find the roots....   \n16                       2                                         \\newpage\\n   \n17                       2  The line $l$ has the equation $y=\\frac{1}{2}x+...   \n18                       2  On the grid below, graph the line $y=2x-4$.\\n ...   \n19                       3  In the following two problems, solve for the v...   \n20                       3  Given $g(x)=x^2-5x+15$. Simplify $g(0)$. \\vspa...   \n21                       3  Given $f(x)=3x-2$. Solve for $x$ such that for...   \n22                       3  Given $h(x)=x^2-x-12$. Solve $h(x)=0$. \\vspace...   \n23                       3  Simplify each expression. (Leave it in radical...   \n24                       3                                         \\newpage\\n   \n25                       3  The line $l$ has the equation $y=\\frac{3}{2}x-...   \n26                       3  On the grid below, graph the line $y=-\\frac{1}...   \n\n                                 file  q_len  \nproblem_ID                                    \n0               1-1CW_Measurement.tex    732  \n1               1-1CW_Measurement.tex     11  \n2               1-1CW_Measurement.tex    675  \n3               1-1CW_Measurement.tex      9  \n4               1-1CW_Measurement.tex   1164  \n5               1-1CW_Measurement.tex      9  \n6               1-1CW_Measurement.tex    533  \n7               1-1CW_Measurement.tex    680  \n8           1-1DNQ_Distance+slope.tex    433  \n9           1-1DNQ_Distance+slope.tex     81  \n10          1-1DNQ_Distance+slope.tex      9  \n11          1-1DNQ_Distance+slope.tex    494  \n12                  1-1DN_Algebra.tex    232  \n13                  1-1DN_Algebra.tex     50  \n14                  1-1DN_Algebra.tex     70  \n15                  1-1DN_Algebra.tex     63  \n16                  1-1DN_Algebra.tex      9  \n17                  1-1DN_Algebra.tex    208  \n18                  1-1DN_Algebra.tex    376  \n19                  1-1HW_Algebra.tex    233  \n20                  1-1HW_Algebra.tex     54  \n21                  1-1HW_Algebra.tex     71  \n22                  1-1HW_Algebra.tex     56  \n23                  1-1HW_Algebra.tex    275  \n24                  1-1HW_Algebra.tex      9  \n25                  1-1HW_Algebra.tex    283  \n26                  1-1HW_Algebra.tex    387  ",
      "text/html": "<div>\n<style scoped>\n    .dataframe tbody tr th:only-of-type {\n        vertical-align: middle;\n    }\n\n    .dataframe tbody tr th {\n        vertical-align: top;\n    }\n\n    .dataframe thead th {\n        text-align: right;\n    }\n</style>\n<table border=\"1\" class=\"dataframe\">\n  <thead>\n    <tr style=\"text-align: right;\">\n      <th></th>\n      <th>problem_set_ID</th>\n      <th>question</th>\n      <th>file</th>\n      <th>q_len</th>\n    </tr>\n    <tr>\n      <th>problem_ID</th>\n      <th></th>\n      <th></th>\n      <th></th>\n      <th></th>\n    </tr>\n  </thead>\n  <tbody>\n    <tr>\n      <th>0</th>\n      <td>0</td>\n      <td>Given the line segment $\\overline{PQ}$ shown b...</td>\n      <td>1-1CW_Measurement.tex</td>\n      <td>732</td>\n    </tr>\n    <tr>\n      <th>1</th>\n      <td>0</td>\n      <td>\\newpage\\n</td>\n      <td>1-1CW_Measurement.tex</td>\n      <td>11</td>\n    </tr>\n    <tr>\n      <th>2</th>\n      <td>0</td>\n      <td>Given an angle with vertex $A$. Answer the que...</td>\n      <td>1-1CW_Measurement.tex</td>\n      <td>675</td>\n    </tr>\n    <tr>\n      <th>3</th>\n      <td>0</td>\n      <td>\\newpage\\n</td>\n      <td>1-1CW_Measurement.tex</td>\n      <td>9</td>\n    </tr>\n    <tr>\n      <th>4</th>\n      <td>0</td>\n      <td>Given the rectangle $ABCD$ shown below. Answer...</td>\n      <td>1-1CW_Measurement.tex</td>\n      <td>1164</td>\n    </tr>\n    <tr>\n      <th>5</th>\n      <td>0</td>\n      <td>\\newpage\\n</td>\n      <td>1-1CW_Measurement.tex</td>\n      <td>9</td>\n    </tr>\n    <tr>\n      <th>6</th>\n      <td>0</td>\n      <td>The points shown are in a straight line, $\\ove...</td>\n      <td>1-1CW_Measurement.tex</td>\n      <td>533</td>\n    </tr>\n    <tr>\n      <th>7</th>\n      <td>0</td>\n      <td>Given $\\overleftrightarrow{QS}$ as shown on th...</td>\n      <td>1-1CW_Measurement.tex</td>\n      <td>680</td>\n    </tr>\n    <tr>\n      <th>8</th>\n      <td>1</td>\n      <td>Write down the slope and $y$-intercept of each...</td>\n      <td>1-1DNQ_Distance+slope.tex</td>\n      <td>433</td>\n    </tr>\n    <tr>\n      <th>9</th>\n      <td>1</td>\n      <td>What is the slope of a line parallel to the li...</td>\n      <td>1-1DNQ_Distance+slope.tex</td>\n      <td>81</td>\n    </tr>\n    <tr>\n      <th>10</th>\n      <td>1</td>\n      <td>\\newpage\\n</td>\n      <td>1-1DNQ_Distance+slope.tex</td>\n      <td>9</td>\n    </tr>\n    <tr>\n      <th>11</th>\n      <td>1</td>\n      <td>Graph and label the two equations. Mark their ...</td>\n      <td>1-1DNQ_Distance+slope.tex</td>\n      <td>494</td>\n    </tr>\n    <tr>\n      <th>12</th>\n      <td>2</td>\n      <td>In the following two problems, solve for the v...</td>\n      <td>1-1DN_Algebra.tex</td>\n      <td>232</td>\n    </tr>\n    <tr>\n      <th>13</th>\n      <td>2</td>\n      <td>Given $g(x)=3x^2-7x+5$. Fine $g(0)$. \\vspace{4...</td>\n      <td>1-1DN_Algebra.tex</td>\n      <td>50</td>\n    </tr>\n    <tr>\n      <th>14</th>\n      <td>2</td>\n      <td>Given $f(x)=2x-1$. Solve for $x$ such that for...</td>\n      <td>1-1DN_Algebra.tex</td>\n      <td>70</td>\n    </tr>\n    <tr>\n      <th>15</th>\n      <td>2</td>\n      <td>Given $x^2+6x+5=0$. Factor and find the roots....</td>\n      <td>1-1DN_Algebra.tex</td>\n      <td>63</td>\n    </tr>\n    <tr>\n      <th>16</th>\n      <td>2</td>\n      <td>\\newpage\\n</td>\n      <td>1-1DN_Algebra.tex</td>\n      <td>9</td>\n    </tr>\n    <tr>\n      <th>17</th>\n      <td>2</td>\n      <td>The line $l$ has the equation $y=\\frac{1}{2}x+...</td>\n      <td>1-1DN_Algebra.tex</td>\n      <td>208</td>\n    </tr>\n    <tr>\n      <th>18</th>\n      <td>2</td>\n      <td>On the grid below, graph the line $y=2x-4$.\\n ...</td>\n      <td>1-1DN_Algebra.tex</td>\n      <td>376</td>\n    </tr>\n    <tr>\n      <th>19</th>\n      <td>3</td>\n      <td>In the following two problems, solve for the v...</td>\n      <td>1-1HW_Algebra.tex</td>\n      <td>233</td>\n    </tr>\n    <tr>\n      <th>20</th>\n      <td>3</td>\n      <td>Given $g(x)=x^2-5x+15$. Simplify $g(0)$. \\vspa...</td>\n      <td>1-1HW_Algebra.tex</td>\n      <td>54</td>\n    </tr>\n    <tr>\n      <th>21</th>\n      <td>3</td>\n      <td>Given $f(x)=3x-2$. Solve for $x$ such that for...</td>\n      <td>1-1HW_Algebra.tex</td>\n      <td>71</td>\n    </tr>\n    <tr>\n      <th>22</th>\n      <td>3</td>\n      <td>Given $h(x)=x^2-x-12$. Solve $h(x)=0$. \\vspace...</td>\n      <td>1-1HW_Algebra.tex</td>\n      <td>56</td>\n    </tr>\n    <tr>\n      <th>23</th>\n      <td>3</td>\n      <td>Simplify each expression. (Leave it in radical...</td>\n      <td>1-1HW_Algebra.tex</td>\n      <td>275</td>\n    </tr>\n    <tr>\n      <th>24</th>\n      <td>3</td>\n      <td>\\newpage\\n</td>\n      <td>1-1HW_Algebra.tex</td>\n      <td>9</td>\n    </tr>\n    <tr>\n      <th>25</th>\n      <td>3</td>\n      <td>The line $l$ has the equation $y=\\frac{3}{2}x-...</td>\n      <td>1-1HW_Algebra.tex</td>\n      <td>283</td>\n    </tr>\n    <tr>\n      <th>26</th>\n      <td>3</td>\n      <td>On the grid below, graph the line $y=-\\frac{1}...</td>\n      <td>1-1HW_Algebra.tex</td>\n      <td>387</td>\n    </tr>\n  </tbody>\n</table>\n</div>"
     },
     "metadata": {},
     "execution_count": 38
    }
   ],
   "source": []
  },
  {
   "cell_type": "code",
   "execution_count": 11,
   "metadata": {},
   "outputs": [
    {
     "output_type": "execute_result",
     "data": {
      "text/plain": "                                         unit                         file  \\\nproblem_set_ID                                                               \n6                                    01-Intro              1-4HW-Intro.tex   \n26                       02-Midpoint+distance           2-7CW_Modeling.tex   \n30                       02-Midpoint+distance      2-8DN_Constructions.tex   \n32                       02-Midpoint+distance    2-9Exam_area-distance.tex   \n36                  03-Volume+angle-bisectors     3-2CW_Angle-modeling.tex   \n...                                       ...                          ...   \n144                            08-Area+volume      8-8Exam_Area+volume.tex   \n145                            08-Area+volume    8-9CW_Circle-equation.tex   \n146                            08-Area+volume    8-9DN_Circle-equation.tex   \n149             09-Congruence-transformations       9-2bCW_Composition.tex   \n160             09-Congruence-transformations  9-7CW-Similarity-review.tex   \n\n                problem_count  \\\nproblem_set_ID                  \n6                         104   \n26                          8   \n30                          4   \n32                         36   \n36                          7   \n...                       ...   \n144                        33   \n145                        15   \n146                         5   \n149                         6   \n160                        23   \n\n                                                             head  \\\nproblem_set_ID                                                      \n6               [\\begin{document}\\n, \\subsubsection*{Quiz Corr...   \n26              [\\begin{document}\\n,   \\subsubsection*{2.7 Cla...   \n30              [\\begin{document}\\n,   \\subsubsection*{2.8 Do ...   \n32              [\\begin{document}\\n, \\subsubsection*{2.9 Exam:...   \n36              [\\begin{document}\\n,   \\subsubsection*{3.2 Cla...   \n...                                                           ...   \n144             [\\begin{document}\\n, \\subsubsection*{8.8 Exam:...   \n145             [\\begin{document}\\n, \\subsubsection*{8.9 Class...   \n146             [\\begin{document}\\n, \\subsubsection*{8.9 Do No...   \n149             [\\begin{document}\\n, \\subsubsection*{9.2b Do N...   \n160             [\\begin{document}\\n, \\subsubsection*{9.7 Class...   \n\n                                                             body  \\\nproblem_set_ID                                                      \n6               [    \\item The points where a line segment beg...   \n26              [    \\subsubsection*{Do Not Solve! Make a draw...   \n30              [    \\item Complete the construction of an equ...   \n32              [\\n, \\item Given the rectangle $ABCD$ shown be...   \n36              [    \\subsubsection*{Do Not Solve! \\\\\\n,     M...   \n...                                                           ...   \n144             [\\n,   \\item Use the formulas for the area and...   \n145             [\\n,   \\item What is the equation of a circle ...   \n146             [\\n,   \\item A circle centered at the origin i...   \n149             [\\n,   \\item A transformation is applied to a ...   \n160             [\\n,   \\item Find the image of $P(1,-4)$ after...   \n\n                                                    problems_list  \\\nproblem_set_ID                                                      \n6               [The points where a line segment begins and en...   \n26              [The point $Q$ is the midpoint of $\\overline{P...   \n30              [Complete the construction of an equilateral t...   \n32              [Given the rectangle $ABCD$ shown below, with ...   \n36              [Two lines intersect making four angles: $\\ang...   \n...                                                           ...   \n144             [Use the formulas for the area and circumferen...   \n145             [What is the equation of a circle with center ...   \n146             [A circle centered at the origin includes the ...   \n149             [A transformation is applied to a triangle, $\\...   \n160             [Find the image of $P(1,-4)$ after the transla...   \n\n                                                 path  \\\nproblem_set_ID                                          \n6               /Users/chris/GitHub/course-files/Geom   \n26              /Users/chris/GitHub/course-files/Geom   \n30              /Users/chris/GitHub/course-files/Geom   \n32              /Users/chris/GitHub/course-files/Geom   \n36              /Users/chris/GitHub/course-files/Geom   \n...                                               ...   \n144             /Users/chris/GitHub/course-files/Geom   \n145             /Users/chris/GitHub/course-files/Geom   \n146             /Users/chris/GitHub/course-files/Geom   \n149             /Users/chris/GitHub/course-files/Geom   \n160             /Users/chris/GitHub/course-files/Geom   \n\n                                                         filename  \\\nproblem_set_ID                                                      \n6               /Users/chris/GitHub/course-files/Geom/01-Intro...   \n26              /Users/chris/GitHub/course-files/Geom/02-Midpo...   \n30              /Users/chris/GitHub/course-files/Geom/02-Midpo...   \n32              /Users/chris/GitHub/course-files/Geom/02-Midpo...   \n36              /Users/chris/GitHub/course-files/Geom/03-Volum...   \n...                                                           ...   \n144             /Users/chris/GitHub/course-files/Geom/08-Area+...   \n145             /Users/chris/GitHub/course-files/Geom/08-Area+...   \n146             /Users/chris/GitHub/course-files/Geom/08-Area+...   \n149             /Users/chris/GitHub/course-files/Geom/09-Congr...   \n160             /Users/chris/GitHub/course-files/Geom/09-Congr...   \n\n                                                      problem_IDs  \nproblem_set_ID                                                     \n6               [44, 45, 46, 47, 48, 49, 50, 51, 52, 53, 54, 5...  \n26                       [318, 319, 320, 321, 322, 323, 324, 325]  \n30                                           [351, 352, 353, 354]  \n32              [361, 362, 363, 364, 365, 366, 367, 368, 369, ...  \n36                            [418, 419, 420, 421, 422, 423, 424]  \n...                                                           ...  \n144             [1995, 1996, 1997, 1998, 1999, 2000, 2001, 200...  \n145             [2028, 2029, 2030, 2031, 2032, 2033, 2034, 203...  \n146                                [2043, 2044, 2045, 2046, 2047]  \n149                          [2066, 2067, 2068, 2069, 2070, 2071]  \n160             [2163, 2164, 2165, 2166, 2167, 2168, 2169, 217...  \n\n[61 rows x 9 columns]",
      "text/html": "<div>\n<style scoped>\n    .dataframe tbody tr th:only-of-type {\n        vertical-align: middle;\n    }\n\n    .dataframe tbody tr th {\n        vertical-align: top;\n    }\n\n    .dataframe thead th {\n        text-align: right;\n    }\n</style>\n<table border=\"1\" class=\"dataframe\">\n  <thead>\n    <tr style=\"text-align: right;\">\n      <th></th>\n      <th>unit</th>\n      <th>file</th>\n      <th>problem_count</th>\n      <th>head</th>\n      <th>body</th>\n      <th>problems_list</th>\n      <th>path</th>\n      <th>filename</th>\n      <th>problem_IDs</th>\n    </tr>\n    <tr>\n      <th>problem_set_ID</th>\n      <th></th>\n      <th></th>\n      <th></th>\n      <th></th>\n      <th></th>\n      <th></th>\n      <th></th>\n      <th></th>\n      <th></th>\n    </tr>\n  </thead>\n  <tbody>\n    <tr>\n      <th>6</th>\n      <td>01-Intro</td>\n      <td>1-4HW-Intro.tex</td>\n      <td>104</td>\n      <td>[\\begin{document}\\n, \\subsubsection*{Quiz Corr...</td>\n      <td>[    \\item The points where a line segment beg...</td>\n      <td>[The points where a line segment begins and en...</td>\n      <td>/Users/chris/GitHub/course-files/Geom</td>\n      <td>/Users/chris/GitHub/course-files/Geom/01-Intro...</td>\n      <td>[44, 45, 46, 47, 48, 49, 50, 51, 52, 53, 54, 5...</td>\n    </tr>\n    <tr>\n      <th>26</th>\n      <td>02-Midpoint+distance</td>\n      <td>2-7CW_Modeling.tex</td>\n      <td>8</td>\n      <td>[\\begin{document}\\n,   \\subsubsection*{2.7 Cla...</td>\n      <td>[    \\subsubsection*{Do Not Solve! Make a draw...</td>\n      <td>[The point $Q$ is the midpoint of $\\overline{P...</td>\n      <td>/Users/chris/GitHub/course-files/Geom</td>\n      <td>/Users/chris/GitHub/course-files/Geom/02-Midpo...</td>\n      <td>[318, 319, 320, 321, 322, 323, 324, 325]</td>\n    </tr>\n    <tr>\n      <th>30</th>\n      <td>02-Midpoint+distance</td>\n      <td>2-8DN_Constructions.tex</td>\n      <td>4</td>\n      <td>[\\begin{document}\\n,   \\subsubsection*{2.8 Do ...</td>\n      <td>[    \\item Complete the construction of an equ...</td>\n      <td>[Complete the construction of an equilateral t...</td>\n      <td>/Users/chris/GitHub/course-files/Geom</td>\n      <td>/Users/chris/GitHub/course-files/Geom/02-Midpo...</td>\n      <td>[351, 352, 353, 354]</td>\n    </tr>\n    <tr>\n      <th>32</th>\n      <td>02-Midpoint+distance</td>\n      <td>2-9Exam_area-distance.tex</td>\n      <td>36</td>\n      <td>[\\begin{document}\\n, \\subsubsection*{2.9 Exam:...</td>\n      <td>[\\n, \\item Given the rectangle $ABCD$ shown be...</td>\n      <td>[Given the rectangle $ABCD$ shown below, with ...</td>\n      <td>/Users/chris/GitHub/course-files/Geom</td>\n      <td>/Users/chris/GitHub/course-files/Geom/02-Midpo...</td>\n      <td>[361, 362, 363, 364, 365, 366, 367, 368, 369, ...</td>\n    </tr>\n    <tr>\n      <th>36</th>\n      <td>03-Volume+angle-bisectors</td>\n      <td>3-2CW_Angle-modeling.tex</td>\n      <td>7</td>\n      <td>[\\begin{document}\\n,   \\subsubsection*{3.2 Cla...</td>\n      <td>[    \\subsubsection*{Do Not Solve! \\\\\\n,     M...</td>\n      <td>[Two lines intersect making four angles: $\\ang...</td>\n      <td>/Users/chris/GitHub/course-files/Geom</td>\n      <td>/Users/chris/GitHub/course-files/Geom/03-Volum...</td>\n      <td>[418, 419, 420, 421, 422, 423, 424]</td>\n    </tr>\n    <tr>\n      <th>...</th>\n      <td>...</td>\n      <td>...</td>\n      <td>...</td>\n      <td>...</td>\n      <td>...</td>\n      <td>...</td>\n      <td>...</td>\n      <td>...</td>\n      <td>...</td>\n    </tr>\n    <tr>\n      <th>144</th>\n      <td>08-Area+volume</td>\n      <td>8-8Exam_Area+volume.tex</td>\n      <td>33</td>\n      <td>[\\begin{document}\\n, \\subsubsection*{8.8 Exam:...</td>\n      <td>[\\n,   \\item Use the formulas for the area and...</td>\n      <td>[Use the formulas for the area and circumferen...</td>\n      <td>/Users/chris/GitHub/course-files/Geom</td>\n      <td>/Users/chris/GitHub/course-files/Geom/08-Area+...</td>\n      <td>[1995, 1996, 1997, 1998, 1999, 2000, 2001, 200...</td>\n    </tr>\n    <tr>\n      <th>145</th>\n      <td>08-Area+volume</td>\n      <td>8-9CW_Circle-equation.tex</td>\n      <td>15</td>\n      <td>[\\begin{document}\\n, \\subsubsection*{8.9 Class...</td>\n      <td>[\\n,   \\item What is the equation of a circle ...</td>\n      <td>[What is the equation of a circle with center ...</td>\n      <td>/Users/chris/GitHub/course-files/Geom</td>\n      <td>/Users/chris/GitHub/course-files/Geom/08-Area+...</td>\n      <td>[2028, 2029, 2030, 2031, 2032, 2033, 2034, 203...</td>\n    </tr>\n    <tr>\n      <th>146</th>\n      <td>08-Area+volume</td>\n      <td>8-9DN_Circle-equation.tex</td>\n      <td>5</td>\n      <td>[\\begin{document}\\n, \\subsubsection*{8.9 Do No...</td>\n      <td>[\\n,   \\item A circle centered at the origin i...</td>\n      <td>[A circle centered at the origin includes the ...</td>\n      <td>/Users/chris/GitHub/course-files/Geom</td>\n      <td>/Users/chris/GitHub/course-files/Geom/08-Area+...</td>\n      <td>[2043, 2044, 2045, 2046, 2047]</td>\n    </tr>\n    <tr>\n      <th>149</th>\n      <td>09-Congruence-transformations</td>\n      <td>9-2bCW_Composition.tex</td>\n      <td>6</td>\n      <td>[\\begin{document}\\n, \\subsubsection*{9.2b Do N...</td>\n      <td>[\\n,   \\item A transformation is applied to a ...</td>\n      <td>[A transformation is applied to a triangle, $\\...</td>\n      <td>/Users/chris/GitHub/course-files/Geom</td>\n      <td>/Users/chris/GitHub/course-files/Geom/09-Congr...</td>\n      <td>[2066, 2067, 2068, 2069, 2070, 2071]</td>\n    </tr>\n    <tr>\n      <th>160</th>\n      <td>09-Congruence-transformations</td>\n      <td>9-7CW-Similarity-review.tex</td>\n      <td>23</td>\n      <td>[\\begin{document}\\n, \\subsubsection*{9.7 Class...</td>\n      <td>[\\n,   \\item Find the image of $P(1,-4)$ after...</td>\n      <td>[Find the image of $P(1,-4)$ after the transla...</td>\n      <td>/Users/chris/GitHub/course-files/Geom</td>\n      <td>/Users/chris/GitHub/course-files/Geom/09-Congr...</td>\n      <td>[2163, 2164, 2165, 2166, 2167, 2168, 2169, 217...</td>\n    </tr>\n  </tbody>\n</table>\n<p>61 rows × 9 columns</p>\n</div>"
     },
     "metadata": {},
     "execution_count": 11
    }
   ],
   "source": [
    "# Look for string in pset body\n",
    "pset_df[pset_df.body.apply(lambda x: 'subsect' in str(x))] #r'[\\\\item'"
   ]
  },
  {
   "cell_type": "code",
   "execution_count": 13,
   "metadata": {},
   "outputs": [
    {
     "output_type": "execute_result",
     "data": {
      "text/plain": "            problem_set_ID                                           question  \\\nproblem_ID                                                                      \n351                     30  Complete the construction of an equilateral tr...   \n352                     30                                         \\newpage\\n   \n353                     30                                     $x^2+6x+5=0$\\n   \n354                     30             $x^2+5x=14$\\n    \\end{multicols}\\n\\n\\n   \n\n                               file  q_len  \nproblem_ID                                  \n351         2-8DN_Constructions.tex    684  \n352         2-8DN_Constructions.tex     11  \n353         2-8DN_Constructions.tex     13  \n354         2-8DN_Constructions.tex     34  ",
      "text/html": "<div>\n<style scoped>\n    .dataframe tbody tr th:only-of-type {\n        vertical-align: middle;\n    }\n\n    .dataframe tbody tr th {\n        vertical-align: top;\n    }\n\n    .dataframe thead th {\n        text-align: right;\n    }\n</style>\n<table border=\"1\" class=\"dataframe\">\n  <thead>\n    <tr style=\"text-align: right;\">\n      <th></th>\n      <th>problem_set_ID</th>\n      <th>question</th>\n      <th>file</th>\n      <th>q_len</th>\n    </tr>\n    <tr>\n      <th>problem_ID</th>\n      <th></th>\n      <th></th>\n      <th></th>\n      <th></th>\n    </tr>\n  </thead>\n  <tbody>\n    <tr>\n      <th>351</th>\n      <td>30</td>\n      <td>Complete the construction of an equilateral tr...</td>\n      <td>2-8DN_Constructions.tex</td>\n      <td>684</td>\n    </tr>\n    <tr>\n      <th>352</th>\n      <td>30</td>\n      <td>\\newpage\\n</td>\n      <td>2-8DN_Constructions.tex</td>\n      <td>11</td>\n    </tr>\n    <tr>\n      <th>353</th>\n      <td>30</td>\n      <td>$x^2+6x+5=0$\\n</td>\n      <td>2-8DN_Constructions.tex</td>\n      <td>13</td>\n    </tr>\n    <tr>\n      <th>354</th>\n      <td>30</td>\n      <td>$x^2+5x=14$\\n    \\end{multicols}\\n\\n\\n</td>\n      <td>2-8DN_Constructions.tex</td>\n      <td>34</td>\n    </tr>\n  </tbody>\n</table>\n</div>"
     },
     "metadata": {},
     "execution_count": 13
    }
   ],
   "source": [
    "# CHECK Problem with itemize instead of enumerate\n",
    "problem_df[problem_df.problem_set_ID == 30].sort_index()"
   ]
  },
  {
   "cell_type": "code",
   "execution_count": 34,
   "metadata": {
    "tags": []
   },
   "outputs": [
    {
     "output_type": "stream",
     "name": "stdout",
     "text": "Complete the construction of an equilateral triangle with one side as $\\overline{AB}$. \\vspace{3cm}\n    \\begin{center}\n    \\begin{tikzpicture}\n      \\draw [-, thick] (0,0)--(0,6);\n      \\draw [fill] (0,0) circle [radius=0.05] node[left]{$A$};\n      \\draw [fill] (0,6) circle [radius=0.05] node[left]{$B$};\n    \\end{tikzpicture}\n    \\end{center} \\vspace{3cm}\n    \\begin{enumerate}\n      \\item Identify two circles in the construction. For each, name the center of the circle and the radius.  \\vspace{3cm}\n      \\item Assuming that the third vertex of the triangle is point $C$, explain why the distance from $A$ to $C$ is the same as the distance from $A$ to $B$.\n    \\end{enumerate}\n\n\n  \\newpage\n\n$x^2+6x+5=0$\n\n$x^2+5x=14$\n    \\end{multicols}\n\n\n\n"
    }
   ],
   "source": [
    "for q in problem_df[problem_df.problem_set_ID == 30].sort_index().question:\n",
    "    print(q)"
   ]
  },
  {
   "cell_type": "code",
   "execution_count": 12,
   "metadata": {},
   "outputs": [
    {
     "output_type": "execute_result",
     "data": {
      "text/plain": "unit                                          02-Midpoint+distance\nfile                                       2-8DN_Constructions.tex\nproblem_count                                                    5\nhead             [\\begin{document}\\n,   \\subsubsection*{2.8 Do ...\nbody             [\\item Complete the construction of an equilat...\nproblems_list    [Complete the construction of an equilateral t...\npath                         /Users/chris/GitHub/course-files/Geom\nfilename         /Users/chris/GitHub/course-files/Geom/02-Midpo...\nproblem_IDs                              [364, 366, 367, 365, 363]\nName: 30, dtype: object"
     },
     "metadata": {},
     "execution_count": 12
    }
   ],
   "source": [
    "pset_df.loc[30]"
   ]
  },
  {
   "cell_type": "code",
   "execution_count": 24,
   "metadata": {},
   "outputs": [
    {
     "output_type": "execute_result",
     "data": {
      "text/plain": "            problem_set_ID    question                         filename  q_len\nproblem_ID                                                                    \n1000                    73  \\newpage\\n             6-10bCW_Dilation.tex      9\n758                     56  \\newpage\\n     5-11Exam_Transformations.tex      9\n2301                   162  \\newpage\\n     9-8bDN-Similarity-review.tex      9\n762                     56  \\newpage\\n     5-11Exam_Transformations.tex      9\n766                     56  \\newpage\\n     5-11Exam_Transformations.tex      9\n1705                   120  \\newpage\\n         7-8bDN_Exam-followup.tex      9\n769                     56  \\newpage\\n     5-11Exam_Transformations.tex      9\n772                     56  \\newpage\\n     5-11Exam_Transformations.tex      9\n1699                   119  \\newpage\\n  7-8HW_Right-triangle-ratios.tex      9\n776                     56  \\newpage\\n     5-11Exam_Transformations.tex      9\n1697                   119  \\newpage\\n  7-8HW_Right-triangle-ratios.tex      9\n780                     56  \\newpage\\n     5-11Exam_Transformations.tex      9\n1694                   119  \\newpage\\n  7-8HW_Right-triangle-ratios.tex      9\n783                     56  \\newpage\\n     5-11Exam_Transformations.tex      9\n786                     56  \\newpage\\n     5-11Exam_Transformations.tex      9\n2295                   161  \\newpage\\n      9-8DN-Similarity-review.tex      9\n1709                   121  \\newpage\\n         7-8bHW_Constructions.tex      9\n754                     56  \\newpage\\n     5-11Exam_Transformations.tex      9\n750                     56  \\newpage\\n     5-11Exam_Transformations.tex      9\n1714                   122  \\newpage\\n          7-9CW_Constructions.tex      9",
      "text/html": "<div>\n<style scoped>\n    .dataframe tbody tr th:only-of-type {\n        vertical-align: middle;\n    }\n\n    .dataframe tbody tr th {\n        vertical-align: top;\n    }\n\n    .dataframe thead th {\n        text-align: right;\n    }\n</style>\n<table border=\"1\" class=\"dataframe\">\n  <thead>\n    <tr style=\"text-align: right;\">\n      <th></th>\n      <th>problem_set_ID</th>\n      <th>question</th>\n      <th>filename</th>\n      <th>q_len</th>\n    </tr>\n    <tr>\n      <th>problem_ID</th>\n      <th></th>\n      <th></th>\n      <th></th>\n      <th></th>\n    </tr>\n  </thead>\n  <tbody>\n    <tr>\n      <th>1000</th>\n      <td>73</td>\n      <td>\\newpage\\n</td>\n      <td>6-10bCW_Dilation.tex</td>\n      <td>9</td>\n    </tr>\n    <tr>\n      <th>758</th>\n      <td>56</td>\n      <td>\\newpage\\n</td>\n      <td>5-11Exam_Transformations.tex</td>\n      <td>9</td>\n    </tr>\n    <tr>\n      <th>2301</th>\n      <td>162</td>\n      <td>\\newpage\\n</td>\n      <td>9-8bDN-Similarity-review.tex</td>\n      <td>9</td>\n    </tr>\n    <tr>\n      <th>762</th>\n      <td>56</td>\n      <td>\\newpage\\n</td>\n      <td>5-11Exam_Transformations.tex</td>\n      <td>9</td>\n    </tr>\n    <tr>\n      <th>766</th>\n      <td>56</td>\n      <td>\\newpage\\n</td>\n      <td>5-11Exam_Transformations.tex</td>\n      <td>9</td>\n    </tr>\n    <tr>\n      <th>1705</th>\n      <td>120</td>\n      <td>\\newpage\\n</td>\n      <td>7-8bDN_Exam-followup.tex</td>\n      <td>9</td>\n    </tr>\n    <tr>\n      <th>769</th>\n      <td>56</td>\n      <td>\\newpage\\n</td>\n      <td>5-11Exam_Transformations.tex</td>\n      <td>9</td>\n    </tr>\n    <tr>\n      <th>772</th>\n      <td>56</td>\n      <td>\\newpage\\n</td>\n      <td>5-11Exam_Transformations.tex</td>\n      <td>9</td>\n    </tr>\n    <tr>\n      <th>1699</th>\n      <td>119</td>\n      <td>\\newpage\\n</td>\n      <td>7-8HW_Right-triangle-ratios.tex</td>\n      <td>9</td>\n    </tr>\n    <tr>\n      <th>776</th>\n      <td>56</td>\n      <td>\\newpage\\n</td>\n      <td>5-11Exam_Transformations.tex</td>\n      <td>9</td>\n    </tr>\n    <tr>\n      <th>1697</th>\n      <td>119</td>\n      <td>\\newpage\\n</td>\n      <td>7-8HW_Right-triangle-ratios.tex</td>\n      <td>9</td>\n    </tr>\n    <tr>\n      <th>780</th>\n      <td>56</td>\n      <td>\\newpage\\n</td>\n      <td>5-11Exam_Transformations.tex</td>\n      <td>9</td>\n    </tr>\n    <tr>\n      <th>1694</th>\n      <td>119</td>\n      <td>\\newpage\\n</td>\n      <td>7-8HW_Right-triangle-ratios.tex</td>\n      <td>9</td>\n    </tr>\n    <tr>\n      <th>783</th>\n      <td>56</td>\n      <td>\\newpage\\n</td>\n      <td>5-11Exam_Transformations.tex</td>\n      <td>9</td>\n    </tr>\n    <tr>\n      <th>786</th>\n      <td>56</td>\n      <td>\\newpage\\n</td>\n      <td>5-11Exam_Transformations.tex</td>\n      <td>9</td>\n    </tr>\n    <tr>\n      <th>2295</th>\n      <td>161</td>\n      <td>\\newpage\\n</td>\n      <td>9-8DN-Similarity-review.tex</td>\n      <td>9</td>\n    </tr>\n    <tr>\n      <th>1709</th>\n      <td>121</td>\n      <td>\\newpage\\n</td>\n      <td>7-8bHW_Constructions.tex</td>\n      <td>9</td>\n    </tr>\n    <tr>\n      <th>754</th>\n      <td>56</td>\n      <td>\\newpage\\n</td>\n      <td>5-11Exam_Transformations.tex</td>\n      <td>9</td>\n    </tr>\n    <tr>\n      <th>750</th>\n      <td>56</td>\n      <td>\\newpage\\n</td>\n      <td>5-11Exam_Transformations.tex</td>\n      <td>9</td>\n    </tr>\n    <tr>\n      <th>1714</th>\n      <td>122</td>\n      <td>\\newpage\\n</td>\n      <td>7-9CW_Constructions.tex</td>\n      <td>9</td>\n    </tr>\n  </tbody>\n</table>\n</div>"
     },
     "metadata": {},
     "execution_count": 24
    }
   ],
   "source": [
    "problem_df[problem_df.q_len <16].head(20)"
   ]
  },
  {
   "cell_type": "code",
   "execution_count": 41,
   "metadata": {},
   "outputs": [],
   "source": [
    "def return_two_vars(x):\n",
    "    a = x[0]\n",
    "    b = x[-1]\n",
    "    return a, b"
   ]
  },
  {
   "cell_type": "code",
   "execution_count": 42,
   "metadata": {},
   "outputs": [
    {
     "output_type": "execute_result",
     "data": {
      "text/plain": "(1, 'z')"
     },
     "metadata": {},
     "execution_count": 42
    }
   ],
   "source": [
    "return_two_vars([1, 2, 'a', 'z'])"
   ]
  },
  {
   "cell_type": "code",
   "execution_count": 43,
   "metadata": {},
   "outputs": [
    {
     "output_type": "execute_result",
     "data": {
      "text/plain": "             input\n0     [1, 2, 3, 4]\n1     [a, b, c, d]\n2     [xx, yy, zz]\n3  [first, second]",
      "text/html": "<div>\n<style scoped>\n    .dataframe tbody tr th:only-of-type {\n        vertical-align: middle;\n    }\n\n    .dataframe tbody tr th {\n        vertical-align: top;\n    }\n\n    .dataframe thead th {\n        text-align: right;\n    }\n</style>\n<table border=\"1\" class=\"dataframe\">\n  <thead>\n    <tr style=\"text-align: right;\">\n      <th></th>\n      <th>input</th>\n    </tr>\n  </thead>\n  <tbody>\n    <tr>\n      <th>0</th>\n      <td>[1, 2, 3, 4]</td>\n    </tr>\n    <tr>\n      <th>1</th>\n      <td>[a, b, c, d]</td>\n    </tr>\n    <tr>\n      <th>2</th>\n      <td>[xx, yy, zz]</td>\n    </tr>\n    <tr>\n      <th>3</th>\n      <td>[first, second]</td>\n    </tr>\n  </tbody>\n</table>\n</div>"
     },
     "metadata": {},
     "execution_count": 43
    }
   ],
   "source": [
    "df = pd.DataFrame({'input':[[1, 2, 3, 4], ['a', 'b', 'c', 'd'], ['xx', 'yy', 'zz'], ['first', 'second']]})\n",
    "df"
   ]
  },
  {
   "cell_type": "code",
   "execution_count": 47,
   "metadata": {},
   "outputs": [
    {
     "output_type": "execute_result",
     "data": {
      "text/plain": "0             (1, 4)\n1             (a, d)\n2           (xx, zz)\n3    (first, second)\nName: input, dtype: object"
     },
     "metadata": {},
     "execution_count": 47
    }
   ],
   "source": [
    "df.input.apply(return_two_vars)"
   ]
  },
  {
   "cell_type": "code",
   "execution_count": 56,
   "metadata": {},
   "outputs": [
    {
     "output_type": "execute_result",
     "data": {
      "text/plain": "             input  front    back\n0     [1, 2, 3, 4]      1       4\n1     [a, b, c, d]      a       d\n2     [xx, yy, zz]     xx      zz\n3  [first, second]  first  second",
      "text/html": "<div>\n<style scoped>\n    .dataframe tbody tr th:only-of-type {\n        vertical-align: middle;\n    }\n\n    .dataframe tbody tr th {\n        vertical-align: top;\n    }\n\n    .dataframe thead th {\n        text-align: right;\n    }\n</style>\n<table border=\"1\" class=\"dataframe\">\n  <thead>\n    <tr style=\"text-align: right;\">\n      <th></th>\n      <th>input</th>\n      <th>front</th>\n      <th>back</th>\n    </tr>\n  </thead>\n  <tbody>\n    <tr>\n      <th>0</th>\n      <td>[1, 2, 3, 4]</td>\n      <td>1</td>\n      <td>4</td>\n    </tr>\n    <tr>\n      <th>1</th>\n      <td>[a, b, c, d]</td>\n      <td>a</td>\n      <td>d</td>\n    </tr>\n    <tr>\n      <th>2</th>\n      <td>[xx, yy, zz]</td>\n      <td>xx</td>\n      <td>zz</td>\n    </tr>\n    <tr>\n      <th>3</th>\n      <td>[first, second]</td>\n      <td>first</td>\n      <td>second</td>\n    </tr>\n  </tbody>\n</table>\n</div>"
     },
     "metadata": {},
     "execution_count": 56
    }
   ],
   "source": [
    "df[['front', 'back']] = df.apply(lambda x: return_two_vars(x.input), axis=1, result_type='expand')\n",
    "df"
   ]
  },
  {
   "cell_type": "code",
   "execution_count": 6,
   "metadata": {},
   "outputs": [],
   "source": [
    "from main import parse_body"
   ]
  },
  {
   "cell_type": "code",
   "execution_count": 63,
   "metadata": {},
   "outputs": [
    {
     "output_type": "execute_result",
     "data": {
      "text/plain": "['\\\\item Complete the construction of an equilateral triangle with one side as $\\\\overline{AB}$. \\\\vspace{3cm}\\n',\n '  \\\\begin{center}\\n',\n '  \\\\begin{tikzpicture}\\n',\n '    \\\\draw [-, thick] (0,0)--(0,6);\\n',\n '    \\\\draw [fill] (0,0) circle [radius=0.05] node[left]{$A$};\\n',\n '    \\\\draw [fill] (0,6) circle [radius=0.05] node[left]{$B$};\\n',\n '  \\\\end{tikzpicture}\\n',\n '  \\\\end{center} \\\\vspace{3cm}\\n',\n '  \\\\begin{enumerate}\\n',\n '    \\\\item Identify two circles in the construction. For each, name the center of the circle and the radius.  \\\\vspace{3cm}\\n',\n '    \\\\item Assuming that the third vertex of the triangle is point $C$, explain why the distance from $A$ to $C$ is the same as the distance from $A$ to $B$.\\n',\n '  \\\\end{enumerate}\\n',\n '\\n',\n '\\\\newpage\\n',\n '\\\\item Complete the construction of a perpendicular bisector of $\\\\overline{AB}$. Label the midpoint $M$. \\\\vspace{2cm}\\n',\n '  \\\\begin{center}\\n',\n '  \\\\begin{tikzpicture}\\n',\n '    \\\\draw [-, thick] (0,0)--(-2,6);\\n',\n '    \\\\draw [fill] (0,0) circle [radius=0.05] node[below right]{$A$};\\n',\n '    \\\\draw [fill] (-2,6) circle [radius=0.05] node[above left]{$B$};\\n',\n '  \\\\end{tikzpicture}\\n',\n '  \\\\end{center} \\\\vspace{3cm}\\n',\n '\\n',\n '  \\\\subsubsection*{Early finishers}\\n',\n '  \\\\item Solve for $x$ by factoring\\n',\n '    \\\\begin{multicols}{2}\\n',\n '      \\\\begin{enumerate}\\n',\n '      \\\\item $x^2+6x+5=0$\\n',\n '      \\\\item $x^2+5x=14$\\n',\n '      \\\\end{enumerate}\\n',\n '      \\\\end{multicols}\\n',\n '\\n',\n '\\n',\n '\\\\end{enumerate}\\n']"
     },
     "metadata": {},
     "execution_count": 63
    }
   ],
   "source": [
    "b = pset_df.loc[30, 'body'].copy()\n",
    "b"
   ]
  },
  {
   "cell_type": "code",
   "execution_count": 7,
   "metadata": {},
   "outputs": [
    {
     "output_type": "execute_result",
     "data": {
      "text/plain": "                                        unit                           file  \\\nproblem_set_ID                                                                \n0                                   01-Intro          1-1CW_Measurement.tex   \n1                                   01-Intro      1-1DNQ_Distance+slope.tex   \n2                                   01-Intro              1-1DN_Algebra.tex   \n3                                   01-Intro              1-1HW_Algebra.tex   \n4                                   01-Intro  1-3DN_Function-intercepts.tex   \n...                                      ...                            ...   \n167             10-Trig+similarity+analytics    10-2DN_Analytics-review.tex   \n168             10-Trig+similarity+analytics   10-2bDN_Analytics-review.tex   \n169             10-Trig+similarity+analytics  10-4DN_Tangent-situations.tex   \n170             10-Trig+similarity+analytics   10-4bDN_Analytics-review.tex   \n171             10-Trig+similarity+analytics  10-6DN_Tangent-situations.tex   \n\n                problem_count  \\\nproblem_set_ID                  \n0                           8   \n1                           4   \n2                           7   \n3                           8   \n4                           6   \n...                       ...   \n167                         9   \n168                        13   \n169                         8   \n170                        13   \n171                         8   \n\n                                                             head  \\\nproblem_set_ID                                                      \n0               [\\begin{document}\\n, \\subsubsection*{1-1 Class...   \n1               [\\begin{document}\\n, \\subsubsection*{0.1 Quiz:...   \n2               [\\begin{document}\\n, \\subsubsection*{1-1 Do No...   \n3               [\\begin{document}\\n, \\subsubsection*{1-1 Homew...   \n4               [\\begin{document}\\n, \\subsubsection*{1-3 Do No...   \n...                                                           ...   \n167             [\\begin{document}\\n, \\subsubsection*{10.3 Do N...   \n168             [\\begin{document}\\n, \\subsubsection*{10.3b Do ...   \n169             [\\begin{document}\\n, \\subsubsection*{10.4 Do N...   \n170             [\\begin{document}\\n, \\subsubsection*{10.4b Do ...   \n171             [\\begin{document}\\n, \\subsubsection*{10.6 Clas...   \n\n                                                             body  \\\nproblem_set_ID                                                      \n0               [\\n,   \\item Given the line segment $\\overline...   \n1               [\\n,   \\item Write down the slope and $y$-inte...   \n2               [\\n, \\n,   \\item In the following two problems...   \n3               [\\n, \\n,   \\item In the following two problems...   \n4               [  \\item I have a compass, ruler, protractor, ...   \n...                                                           ...   \n167             [\\n, \\n,   \\item Write down the slope perpendi...   \n168             [\\n,   \\item Write down the slope parallel or ...   \n169             [\\n,   \\item Write down the slope perpendicula...   \n170             [\\n,   \\item Write down the slope parallel or ...   \n171             [\\n,   \\item Write down the slope perpendicula...   \n\n                                                    problems_list  \\\nproblem_set_ID                                                      \n0               [Given the line segment $\\overline{PQ}$ shown ...   \n1               [Write down the slope and $y$-intercept of eac...   \n2               [In the following two problems, solve for the ...   \n3               [In the following two problems, solve for the ...   \n4               [I have a compass, ruler, protractor, notebook...   \n...                                                           ...   \n167             [Write down the slope perpendicular to the giv...   \n168             [Write down the slope parallel or perpendicula...   \n169             [Write down the slope perpendicular to the giv...   \n170             [Write down the slope parallel or perpendicula...   \n171             [Write down the slope perpendicular to the giv...   \n\n                                                 path  \\\nproblem_set_ID                                          \n0               /Users/chris/GitHub/course-files/Geom   \n1               /Users/chris/GitHub/course-files/Geom   \n2               /Users/chris/GitHub/course-files/Geom   \n3               /Users/chris/GitHub/course-files/Geom   \n4               /Users/chris/GitHub/course-files/Geom   \n...                                               ...   \n167             /Users/chris/GitHub/course-files/Geom   \n168             /Users/chris/GitHub/course-files/Geom   \n169             /Users/chris/GitHub/course-files/Geom   \n170             /Users/chris/GitHub/course-files/Geom   \n171             /Users/chris/GitHub/course-files/Geom   \n\n                                                         filename  \\\nproblem_set_ID                                                      \n0               /Users/chris/GitHub/course-files/Geom/01-Intro...   \n1               /Users/chris/GitHub/course-files/Geom/01-Intro...   \n2               /Users/chris/GitHub/course-files/Geom/01-Intro...   \n3               /Users/chris/GitHub/course-files/Geom/01-Intro...   \n4               /Users/chris/GitHub/course-files/Geom/01-Intro...   \n...                                                           ...   \n167             /Users/chris/GitHub/course-files/Geom/10-Trig+...   \n168             /Users/chris/GitHub/course-files/Geom/10-Trig+...   \n169             /Users/chris/GitHub/course-files/Geom/10-Trig+...   \n170             /Users/chris/GitHub/course-files/Geom/10-Trig+...   \n171             /Users/chris/GitHub/course-files/Geom/10-Trig+...   \n\n                                                      problem_IDs  \\\nproblem_set_ID                                                      \n0                                        [3, 5, 1, 6, 2, 7, 0, 4]   \n1                                                  [10, 9, 8, 11]   \n2                                    [16, 13, 15, 14, 17, 12, 18]   \n3                                [24, 20, 22, 21, 19, 23, 25, 26]   \n4                                        [30, 27, 28, 31, 29, 32]   \n...                                                           ...   \n167             [2397, 2395, 2394, 2400, 2396, 2393, 2392, 239...   \n168             [2406, 2410, 2405, 2403, 2404, 2402, 2413, 241...   \n169              [2419, 2417, 2416, 2418, 2414, 2415, 2420, 2421]   \n170             [2431, 2427, 2426, 2424, 2425, 2423, 2434, 243...   \n171              [2440, 2437, 2438, 2439, 2435, 2436, 2441, 2442]   \n\n                                                           p_list  \\\nproblem_set_ID                                                      \n0               [Given the line segment $\\overline{PQ}$ shown ...   \n1               [Write down the slope and $y$-intercept of eac...   \n2               [In the following two problems, solve for the ...   \n3               [In the following two problems, solve for the ...   \n4               [I have a compass, ruler, protractor, notebook...   \n...                                                           ...   \n167             [Write down the slope perpendicular to the giv...   \n168             [Write down the slope parallel or perpendicula...   \n169             [Write down the slope perpendicular to the giv...   \n170             [Write down the slope parallel or perpendicula...   \n171             [Write down the slope perpendicular to the giv...   \n\n                                                     problem_kind  \nproblem_set_ID                                                     \n0               [question, newpage, question, newpage, questio...  \n1                         [question, question, newpage, question]  \n2               [question, question, question, question, newpa...  \n3               [question, question, question, question, quest...  \n4               [question, question, question, newpage, questi...  \n...                                                           ...  \n167             [question, question, question, question, quest...  \n168             [question, question, question, question, quest...  \n169             [question, question, question, question, quest...  \n170             [question, question, question, question, quest...  \n171             [question, question, question, question, quest...  \n\n[172 rows x 11 columns]",
      "text/html": "<div>\n<style scoped>\n    .dataframe tbody tr th:only-of-type {\n        vertical-align: middle;\n    }\n\n    .dataframe tbody tr th {\n        vertical-align: top;\n    }\n\n    .dataframe thead th {\n        text-align: right;\n    }\n</style>\n<table border=\"1\" class=\"dataframe\">\n  <thead>\n    <tr style=\"text-align: right;\">\n      <th></th>\n      <th>unit</th>\n      <th>file</th>\n      <th>problem_count</th>\n      <th>head</th>\n      <th>body</th>\n      <th>problems_list</th>\n      <th>path</th>\n      <th>filename</th>\n      <th>problem_IDs</th>\n      <th>p_list</th>\n      <th>problem_kind</th>\n    </tr>\n    <tr>\n      <th>problem_set_ID</th>\n      <th></th>\n      <th></th>\n      <th></th>\n      <th></th>\n      <th></th>\n      <th></th>\n      <th></th>\n      <th></th>\n      <th></th>\n      <th></th>\n      <th></th>\n    </tr>\n  </thead>\n  <tbody>\n    <tr>\n      <th>0</th>\n      <td>01-Intro</td>\n      <td>1-1CW_Measurement.tex</td>\n      <td>8</td>\n      <td>[\\begin{document}\\n, \\subsubsection*{1-1 Class...</td>\n      <td>[\\n,   \\item Given the line segment $\\overline...</td>\n      <td>[Given the line segment $\\overline{PQ}$ shown ...</td>\n      <td>/Users/chris/GitHub/course-files/Geom</td>\n      <td>/Users/chris/GitHub/course-files/Geom/01-Intro...</td>\n      <td>[3, 5, 1, 6, 2, 7, 0, 4]</td>\n      <td>[Given the line segment $\\overline{PQ}$ shown ...</td>\n      <td>[question, newpage, question, newpage, questio...</td>\n    </tr>\n    <tr>\n      <th>1</th>\n      <td>01-Intro</td>\n      <td>1-1DNQ_Distance+slope.tex</td>\n      <td>4</td>\n      <td>[\\begin{document}\\n, \\subsubsection*{0.1 Quiz:...</td>\n      <td>[\\n,   \\item Write down the slope and $y$-inte...</td>\n      <td>[Write down the slope and $y$-intercept of eac...</td>\n      <td>/Users/chris/GitHub/course-files/Geom</td>\n      <td>/Users/chris/GitHub/course-files/Geom/01-Intro...</td>\n      <td>[10, 9, 8, 11]</td>\n      <td>[Write down the slope and $y$-intercept of eac...</td>\n      <td>[question, question, newpage, question]</td>\n    </tr>\n    <tr>\n      <th>2</th>\n      <td>01-Intro</td>\n      <td>1-1DN_Algebra.tex</td>\n      <td>7</td>\n      <td>[\\begin{document}\\n, \\subsubsection*{1-1 Do No...</td>\n      <td>[\\n, \\n,   \\item In the following two problems...</td>\n      <td>[In the following two problems, solve for the ...</td>\n      <td>/Users/chris/GitHub/course-files/Geom</td>\n      <td>/Users/chris/GitHub/course-files/Geom/01-Intro...</td>\n      <td>[16, 13, 15, 14, 17, 12, 18]</td>\n      <td>[In the following two problems, solve for the ...</td>\n      <td>[question, question, question, question, newpa...</td>\n    </tr>\n    <tr>\n      <th>3</th>\n      <td>01-Intro</td>\n      <td>1-1HW_Algebra.tex</td>\n      <td>8</td>\n      <td>[\\begin{document}\\n, \\subsubsection*{1-1 Homew...</td>\n      <td>[\\n, \\n,   \\item In the following two problems...</td>\n      <td>[In the following two problems, solve for the ...</td>\n      <td>/Users/chris/GitHub/course-files/Geom</td>\n      <td>/Users/chris/GitHub/course-files/Geom/01-Intro...</td>\n      <td>[24, 20, 22, 21, 19, 23, 25, 26]</td>\n      <td>[In the following two problems, solve for the ...</td>\n      <td>[question, question, question, question, quest...</td>\n    </tr>\n    <tr>\n      <th>4</th>\n      <td>01-Intro</td>\n      <td>1-3DN_Function-intercepts.tex</td>\n      <td>6</td>\n      <td>[\\begin{document}\\n, \\subsubsection*{1-3 Do No...</td>\n      <td>[  \\item I have a compass, ruler, protractor, ...</td>\n      <td>[I have a compass, ruler, protractor, notebook...</td>\n      <td>/Users/chris/GitHub/course-files/Geom</td>\n      <td>/Users/chris/GitHub/course-files/Geom/01-Intro...</td>\n      <td>[30, 27, 28, 31, 29, 32]</td>\n      <td>[I have a compass, ruler, protractor, notebook...</td>\n      <td>[question, question, question, newpage, questi...</td>\n    </tr>\n    <tr>\n      <th>...</th>\n      <td>...</td>\n      <td>...</td>\n      <td>...</td>\n      <td>...</td>\n      <td>...</td>\n      <td>...</td>\n      <td>...</td>\n      <td>...</td>\n      <td>...</td>\n      <td>...</td>\n      <td>...</td>\n    </tr>\n    <tr>\n      <th>167</th>\n      <td>10-Trig+similarity+analytics</td>\n      <td>10-2DN_Analytics-review.tex</td>\n      <td>9</td>\n      <td>[\\begin{document}\\n, \\subsubsection*{10.3 Do N...</td>\n      <td>[\\n, \\n,   \\item Write down the slope perpendi...</td>\n      <td>[Write down the slope perpendicular to the giv...</td>\n      <td>/Users/chris/GitHub/course-files/Geom</td>\n      <td>/Users/chris/GitHub/course-files/Geom/10-Trig+...</td>\n      <td>[2397, 2395, 2394, 2400, 2396, 2393, 2392, 239...</td>\n      <td>[Write down the slope perpendicular to the giv...</td>\n      <td>[question, question, question, question, quest...</td>\n    </tr>\n    <tr>\n      <th>168</th>\n      <td>10-Trig+similarity+analytics</td>\n      <td>10-2bDN_Analytics-review.tex</td>\n      <td>13</td>\n      <td>[\\begin{document}\\n, \\subsubsection*{10.3b Do ...</td>\n      <td>[\\n,   \\item Write down the slope parallel or ...</td>\n      <td>[Write down the slope parallel or perpendicula...</td>\n      <td>/Users/chris/GitHub/course-files/Geom</td>\n      <td>/Users/chris/GitHub/course-files/Geom/10-Trig+...</td>\n      <td>[2406, 2410, 2405, 2403, 2404, 2402, 2413, 241...</td>\n      <td>[Write down the slope parallel or perpendicula...</td>\n      <td>[question, question, question, question, quest...</td>\n    </tr>\n    <tr>\n      <th>169</th>\n      <td>10-Trig+similarity+analytics</td>\n      <td>10-4DN_Tangent-situations.tex</td>\n      <td>8</td>\n      <td>[\\begin{document}\\n, \\subsubsection*{10.4 Do N...</td>\n      <td>[\\n,   \\item Write down the slope perpendicula...</td>\n      <td>[Write down the slope perpendicular to the giv...</td>\n      <td>/Users/chris/GitHub/course-files/Geom</td>\n      <td>/Users/chris/GitHub/course-files/Geom/10-Trig+...</td>\n      <td>[2419, 2417, 2416, 2418, 2414, 2415, 2420, 2421]</td>\n      <td>[Write down the slope perpendicular to the giv...</td>\n      <td>[question, question, question, question, quest...</td>\n    </tr>\n    <tr>\n      <th>170</th>\n      <td>10-Trig+similarity+analytics</td>\n      <td>10-4bDN_Analytics-review.tex</td>\n      <td>13</td>\n      <td>[\\begin{document}\\n, \\subsubsection*{10.4b Do ...</td>\n      <td>[\\n,   \\item Write down the slope parallel or ...</td>\n      <td>[Write down the slope parallel or perpendicula...</td>\n      <td>/Users/chris/GitHub/course-files/Geom</td>\n      <td>/Users/chris/GitHub/course-files/Geom/10-Trig+...</td>\n      <td>[2431, 2427, 2426, 2424, 2425, 2423, 2434, 243...</td>\n      <td>[Write down the slope parallel or perpendicula...</td>\n      <td>[question, question, question, question, quest...</td>\n    </tr>\n    <tr>\n      <th>171</th>\n      <td>10-Trig+similarity+analytics</td>\n      <td>10-6DN_Tangent-situations.tex</td>\n      <td>8</td>\n      <td>[\\begin{document}\\n, \\subsubsection*{10.6 Clas...</td>\n      <td>[\\n,   \\item Write down the slope perpendicula...</td>\n      <td>[Write down the slope perpendicular to the giv...</td>\n      <td>/Users/chris/GitHub/course-files/Geom</td>\n      <td>/Users/chris/GitHub/course-files/Geom/10-Trig+...</td>\n      <td>[2440, 2437, 2438, 2439, 2435, 2436, 2441, 2442]</td>\n      <td>[Write down the slope perpendicular to the giv...</td>\n      <td>[question, question, question, question, quest...</td>\n    </tr>\n  </tbody>\n</table>\n<p>172 rows × 11 columns</p>\n</div>"
     },
     "metadata": {},
     "execution_count": 7
    }
   ],
   "source": [
    "#problem_sets_df['problems_list'] = problem_sets_df['body'].apply(parse_body)\n",
    "pset_df_copy = pset_df.copy()\n",
    "pset_df_copy[['p_list', 'problem_kind']] = pset_df_copy.apply(lambda x: parse_body(x.body), axis=1, result_type='expand')\n",
    "pset_df_copy"
   ]
  },
  {
   "cell_type": "code",
   "execution_count": 23,
   "metadata": {},
   "outputs": [
    {
     "output_type": "execute_result",
     "data": {
      "text/plain": "Empty DataFrame\nColumns: [filename, head, body, problems_list, problem_kind, problem_count, path, unit, file]\nIndex: []",
      "text/html": "<div>\n<style scoped>\n    .dataframe tbody tr th:only-of-type {\n        vertical-align: middle;\n    }\n\n    .dataframe tbody tr th {\n        vertical-align: top;\n    }\n\n    .dataframe thead th {\n        text-align: right;\n    }\n</style>\n<table border=\"1\" class=\"dataframe\">\n  <thead>\n    <tr style=\"text-align: right;\">\n      <th></th>\n      <th>filename</th>\n      <th>head</th>\n      <th>body</th>\n      <th>problems_list</th>\n      <th>problem_kind</th>\n      <th>problem_count</th>\n      <th>path</th>\n      <th>unit</th>\n      <th>file</th>\n    </tr>\n    <tr>\n      <th>problem_set_ID</th>\n      <th></th>\n      <th></th>\n      <th></th>\n      <th></th>\n      <th></th>\n      <th></th>\n      <th></th>\n      <th></th>\n      <th></th>\n    </tr>\n  </thead>\n  <tbody>\n  </tbody>\n</table>\n</div>"
     },
     "metadata": {},
     "execution_count": 23
    }
   ],
   "source": [
    "pset_df[pset_df.problems_list.apply(len) != pset_df.problem_kind.apply(len)]"
   ]
  },
  {
   "cell_type": "code",
   "execution_count": 28,
   "metadata": {},
   "outputs": [
    {
     "output_type": "execute_result",
     "data": {
      "text/plain": "True"
     },
     "metadata": {},
     "execution_count": 28
    }
   ],
   "source": []
  },
  {
   "cell_type": "code",
   "execution_count": null,
   "metadata": {},
   "outputs": [],
   "source": []
  }
 ]
}