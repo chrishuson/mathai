{
 "metadata": {
  "language_info": {
   "codemirror_mode": {
    "name": "ipython",
    "version": 3
   },
   "file_extension": ".py",
   "mimetype": "text/x-python",
   "name": "python",
   "nbconvert_exporter": "python",
   "pygments_lexer": "ipython3",
   "version": "3.7.6-final"
  },
  "orig_nbformat": 2,
  "kernelspec": {
   "name": "python_defaultSpec_1597926337332",
   "display_name": "Python 3.7.6 64-bit ('base': conda)"
  }
 },
 "nbformat": 4,
 "nbformat_minor": 2,
 "cells": [
  {
   "cell_type": "code",
   "execution_count": 1,
   "metadata": {
    "tags": []
   },
   "outputs": [
    {
     "output_type": "execute_result",
     "data": {
      "text/plain": "'/Users/chris/GitHub/mathai/src'"
     },
     "metadata": {},
     "execution_count": 1
    }
   ],
   "source": [
    "import os\n",
    "import sys\n",
    "import pandas as pd\n",
    "import numpy as np\n",
    "from ast import literal_eval\n",
    "\n",
    "os.getcwd()"
   ]
  },
  {
   "cell_type": "code",
   "execution_count": 5,
   "metadata": {
    "tags": []
   },
   "outputs": [
    {
     "output_type": "error",
     "ename": "SyntaxError",
     "evalue": "trailing comma not allowed without surrounding parentheses (<ipython-input-5-b8f3d3b4f3ea>, line 1)",
     "traceback": [
      "\u001b[0;36m  File \u001b[0;32m\"<ipython-input-5-b8f3d3b4f3ea>\"\u001b[0;36m, line \u001b[0;32m1\u001b[0m\n\u001b[0;31m    from main import print_problems_df, map_course_files, parse_course_files, parse_problem_sets,\u001b[0m\n\u001b[0m                    ^\u001b[0m\n\u001b[0;31mSyntaxError\u001b[0m\u001b[0;31m:\u001b[0m trailing comma not allowed without surrounding parentheses\n"
     ]
    }
   ],
   "source": [
    "from main import print_problems_df, map_course_files, parse_course_files, parse_problem_sets"
   ]
  },
  {
   "cell_type": "markdown",
   "metadata": {},
   "source": [
    "## problems and problem set dataframes, refactoring"
   ]
  },
  {
   "cell_type": "code",
   "execution_count": 70,
   "metadata": {},
   "outputs": [],
   "source": [
    "#newpage_df.to_csv('/Users/chris/GitHub/mathai/db/newpage_df.csv')\n",
    "problem_df.to_csv('/Users/chris/GitHub/mathai/db/problem_df.csv')\n",
    "pset_df.to_csv('/Users/chris/GitHub/mathai/db/pset_df.csv')\n",
    "#multicol_error_pset_df.to_csv('/Users/chris/GitHub/mathai/db/multicol_error_pset_df.csv')"
   ]
  },
  {
   "cell_type": "code",
   "execution_count": 67,
   "metadata": {},
   "outputs": [],
   "source": []
  },
  {
   "cell_type": "code",
   "execution_count": 2,
   "metadata": {
    "tags": []
   },
   "outputs": [
    {
     "output_type": "stream",
     "name": "stdout",
     "text": "problem_df:  2107 problem_ID Index(['problem_set_ID', 'question', 'q_len', 'file'], dtype='object')\nnewpage_df:  513 problem_ID Index(['problem_set_ID', 'question', 'q_len', 'file'], dtype='object')\npset_df:  172 problem_set_ID Index(['filename', 'head', 'body', 'problems_list', 'problem_count', 'path',\n       'unit', 'file'],\n      dtype='object')\nmulticol_error_pset_df:  38\n"
    }
   ],
   "source": [
    "problem_df = pd.read_csv('../db/problem_df.csv', index_col='problem_ID')\n",
    "newpage_df = pd.read_csv('../db/newpage_df.csv', index_col='problem_ID')\n",
    "cols_into_lists = {'problem_IDs':literal_eval, 'head':literal_eval, 'body':literal_eval, 'problems_list':literal_eval}\n",
    "pset_df = pd.read_csv('../db/pset_df.csv', index_col='problem_set_ID', converters=cols_into_lists)\n",
    "multicol_error_pset_df = pd.read_csv('../db/multicol_error_pset_df.csv', index_col='problem_set_ID', converters=cols_into_lists)\n",
    "print('problem_df: ', len(problem_df), problem_df.index.name, problem_df.columns)\n",
    "print('newpage_df: ', len(newpage_df), newpage_df.index.name, newpage_df.columns)\n",
    "print('pset_df: ', len(pset_df), pset_df.index.name, pset_df.columns)\n",
    "print('multicol_error_pset_df: ', len(multicol_error_pset_df))"
   ]
  },
  {
   "cell_type": "code",
   "execution_count": 47,
   "metadata": {},
   "outputs": [
    {
     "output_type": "execute_result",
     "data": {
      "text/plain": "                                                         filename  \\\nproblem_set_ID                                                      \n0               /Users/chris/GitHub/course-files/Geom/01-Intro...   \n1               /Users/chris/GitHub/course-files/Geom/01-Intro...   \n2               /Users/chris/GitHub/course-files/Geom/01-Intro...   \n3               /Users/chris/GitHub/course-files/Geom/01-Intro...   \n4               /Users/chris/GitHub/course-files/Geom/01-Intro...   \n...                                                           ...   \n167             /Users/chris/GitHub/course-files/Geom/10-Trig+...   \n168             /Users/chris/GitHub/course-files/Geom/10-Trig+...   \n169             /Users/chris/GitHub/course-files/Geom/10-Trig+...   \n170             /Users/chris/GitHub/course-files/Geom/10-Trig+...   \n171             /Users/chris/GitHub/course-files/Geom/10-Trig+...   \n\n                                                             head  \\\nproblem_set_ID                                                      \n0               [\\begin{document}\\n, \\subsubsection*{1-1 Class...   \n1               [\\begin{document}\\n, \\subsubsection*{1-1 Do No...   \n2               [\\begin{document}\\n, \\subsubsection*{1-1 Homew...   \n3               [\\begin{document}\\n, \\subsubsection*{1-3 Do No...   \n4               [\\begin{document}\\n, \\subsubsection*{Homework ...   \n...                                                           ...   \n167             [\\begin{document}\\n, \\subsubsection*{10.3 Do N...   \n168             [\\begin{document}\\n, \\subsubsection*{10.3b Do ...   \n169             [\\begin{document}\\n, \\subsubsection*{10.4 Do N...   \n170             [\\begin{document}\\n, \\subsubsection*{10.4b Do ...   \n171             [\\begin{document}\\n, \\subsubsection*{10.6 Clas...   \n\n                                                             body  \\\nproblem_set_ID                                                      \n0               [\\n,   \\item Given the line segment $\\overline...   \n1               [\\n, \\n,   \\item In the following two problems...   \n2               [\\n, \\n,   \\item In the following two problems...   \n3               [  \\item I have a compass, ruler, protractor, ...   \n4               [\\n,     \\item Construct an equilateral triang...   \n...                                                           ...   \n167             [\\n, \\n,   \\item Write down the slope perpendi...   \n168             [\\n,   \\item Write down the slope parallel or ...   \n169             [\\n,   \\item Write down the slope perpendicula...   \n170             [\\n,   \\item Write down the slope parallel or ...   \n171             [\\n,   \\item Write down the slope perpendicula...   \n\n                                                    problems_list  \\\nproblem_set_ID                                                      \n0               [Given the line segment $\\overline{PQ}$ shown ...   \n1               [\\n\\n, In the following two problems, solve fo...   \n2               [\\n\\n, In the following two problems, solve fo...   \n3               [I have a compass, ruler, protractor, notebook...   \n4               [Construct an equilateral triangle with $\\over...   \n...                                                           ...   \n167             [\\n\\n, Write down the slope perpendicular to t...   \n168             [Write down the slope parallel or perpendicula...   \n169             [Write down the slope perpendicular to the giv...   \n170             [Write down the slope parallel or perpendicula...   \n171             [Write down the slope perpendicular to the giv...   \n\n                problem_count                                   path  \\\nproblem_set_ID                                                         \n0                           9  /Users/chris/GitHub/course-files/Geom   \n1                           8  /Users/chris/GitHub/course-files/Geom   \n2                           9  /Users/chris/GitHub/course-files/Geom   \n3                           6  /Users/chris/GitHub/course-files/Geom   \n4                          11  /Users/chris/GitHub/course-files/Geom   \n...                       ...                                    ...   \n167                        10  /Users/chris/GitHub/course-files/Geom   \n168                        13  /Users/chris/GitHub/course-files/Geom   \n169                         8  /Users/chris/GitHub/course-files/Geom   \n170                        13  /Users/chris/GitHub/course-files/Geom   \n171                         8  /Users/chris/GitHub/course-files/Geom   \n\n                                        unit                            file  \nproblem_set_ID                                                                \n0                                   01-Intro           1-1CW_Measurement.tex  \n1                                   01-Intro               1-1DN_Algebra.tex  \n2                                   01-Intro               1-1HW_Algebra.tex  \n3                                   01-Intro   1-3DN_Function-intercepts.tex  \n4                                   01-Intro  1-3HW_Equilateral-triangle.tex  \n...                                      ...                             ...  \n167             10-Trig+similarity+analytics     10-2DN_Analytics-review.tex  \n168             10-Trig+similarity+analytics    10-2bDN_Analytics-review.tex  \n169             10-Trig+similarity+analytics   10-4DN_Tangent-situations.tex  \n170             10-Trig+similarity+analytics    10-4bDN_Analytics-review.tex  \n171             10-Trig+similarity+analytics   10-6DN_Tangent-situations.tex  \n\n[172 rows x 8 columns]",
      "text/html": "<div>\n<style scoped>\n    .dataframe tbody tr th:only-of-type {\n        vertical-align: middle;\n    }\n\n    .dataframe tbody tr th {\n        vertical-align: top;\n    }\n\n    .dataframe thead th {\n        text-align: right;\n    }\n</style>\n<table border=\"1\" class=\"dataframe\">\n  <thead>\n    <tr style=\"text-align: right;\">\n      <th></th>\n      <th>filename</th>\n      <th>head</th>\n      <th>body</th>\n      <th>problems_list</th>\n      <th>problem_count</th>\n      <th>path</th>\n      <th>unit</th>\n      <th>file</th>\n    </tr>\n    <tr>\n      <th>problem_set_ID</th>\n      <th></th>\n      <th></th>\n      <th></th>\n      <th></th>\n      <th></th>\n      <th></th>\n      <th></th>\n      <th></th>\n    </tr>\n  </thead>\n  <tbody>\n    <tr>\n      <th>0</th>\n      <td>/Users/chris/GitHub/course-files/Geom/01-Intro...</td>\n      <td>[\\begin{document}\\n, \\subsubsection*{1-1 Class...</td>\n      <td>[\\n,   \\item Given the line segment $\\overline...</td>\n      <td>[Given the line segment $\\overline{PQ}$ shown ...</td>\n      <td>9</td>\n      <td>/Users/chris/GitHub/course-files/Geom</td>\n      <td>01-Intro</td>\n      <td>1-1CW_Measurement.tex</td>\n    </tr>\n    <tr>\n      <th>1</th>\n      <td>/Users/chris/GitHub/course-files/Geom/01-Intro...</td>\n      <td>[\\begin{document}\\n, \\subsubsection*{1-1 Do No...</td>\n      <td>[\\n, \\n,   \\item In the following two problems...</td>\n      <td>[\\n\\n, In the following two problems, solve fo...</td>\n      <td>8</td>\n      <td>/Users/chris/GitHub/course-files/Geom</td>\n      <td>01-Intro</td>\n      <td>1-1DN_Algebra.tex</td>\n    </tr>\n    <tr>\n      <th>2</th>\n      <td>/Users/chris/GitHub/course-files/Geom/01-Intro...</td>\n      <td>[\\begin{document}\\n, \\subsubsection*{1-1 Homew...</td>\n      <td>[\\n, \\n,   \\item In the following two problems...</td>\n      <td>[\\n\\n, In the following two problems, solve fo...</td>\n      <td>9</td>\n      <td>/Users/chris/GitHub/course-files/Geom</td>\n      <td>01-Intro</td>\n      <td>1-1HW_Algebra.tex</td>\n    </tr>\n    <tr>\n      <th>3</th>\n      <td>/Users/chris/GitHub/course-files/Geom/01-Intro...</td>\n      <td>[\\begin{document}\\n, \\subsubsection*{1-3 Do No...</td>\n      <td>[  \\item I have a compass, ruler, protractor, ...</td>\n      <td>[I have a compass, ruler, protractor, notebook...</td>\n      <td>6</td>\n      <td>/Users/chris/GitHub/course-files/Geom</td>\n      <td>01-Intro</td>\n      <td>1-3DN_Function-intercepts.tex</td>\n    </tr>\n    <tr>\n      <th>4</th>\n      <td>/Users/chris/GitHub/course-files/Geom/01-Intro...</td>\n      <td>[\\begin{document}\\n, \\subsubsection*{Homework ...</td>\n      <td>[\\n,     \\item Construct an equilateral triang...</td>\n      <td>[Construct an equilateral triangle with $\\over...</td>\n      <td>11</td>\n      <td>/Users/chris/GitHub/course-files/Geom</td>\n      <td>01-Intro</td>\n      <td>1-3HW_Equilateral-triangle.tex</td>\n    </tr>\n    <tr>\n      <th>...</th>\n      <td>...</td>\n      <td>...</td>\n      <td>...</td>\n      <td>...</td>\n      <td>...</td>\n      <td>...</td>\n      <td>...</td>\n      <td>...</td>\n    </tr>\n    <tr>\n      <th>167</th>\n      <td>/Users/chris/GitHub/course-files/Geom/10-Trig+...</td>\n      <td>[\\begin{document}\\n, \\subsubsection*{10.3 Do N...</td>\n      <td>[\\n, \\n,   \\item Write down the slope perpendi...</td>\n      <td>[\\n\\n, Write down the slope perpendicular to t...</td>\n      <td>10</td>\n      <td>/Users/chris/GitHub/course-files/Geom</td>\n      <td>10-Trig+similarity+analytics</td>\n      <td>10-2DN_Analytics-review.tex</td>\n    </tr>\n    <tr>\n      <th>168</th>\n      <td>/Users/chris/GitHub/course-files/Geom/10-Trig+...</td>\n      <td>[\\begin{document}\\n, \\subsubsection*{10.3b Do ...</td>\n      <td>[\\n,   \\item Write down the slope parallel or ...</td>\n      <td>[Write down the slope parallel or perpendicula...</td>\n      <td>13</td>\n      <td>/Users/chris/GitHub/course-files/Geom</td>\n      <td>10-Trig+similarity+analytics</td>\n      <td>10-2bDN_Analytics-review.tex</td>\n    </tr>\n    <tr>\n      <th>169</th>\n      <td>/Users/chris/GitHub/course-files/Geom/10-Trig+...</td>\n      <td>[\\begin{document}\\n, \\subsubsection*{10.4 Do N...</td>\n      <td>[\\n,   \\item Write down the slope perpendicula...</td>\n      <td>[Write down the slope perpendicular to the giv...</td>\n      <td>8</td>\n      <td>/Users/chris/GitHub/course-files/Geom</td>\n      <td>10-Trig+similarity+analytics</td>\n      <td>10-4DN_Tangent-situations.tex</td>\n    </tr>\n    <tr>\n      <th>170</th>\n      <td>/Users/chris/GitHub/course-files/Geom/10-Trig+...</td>\n      <td>[\\begin{document}\\n, \\subsubsection*{10.4b Do ...</td>\n      <td>[\\n,   \\item Write down the slope parallel or ...</td>\n      <td>[Write down the slope parallel or perpendicula...</td>\n      <td>13</td>\n      <td>/Users/chris/GitHub/course-files/Geom</td>\n      <td>10-Trig+similarity+analytics</td>\n      <td>10-4bDN_Analytics-review.tex</td>\n    </tr>\n    <tr>\n      <th>171</th>\n      <td>/Users/chris/GitHub/course-files/Geom/10-Trig+...</td>\n      <td>[\\begin{document}\\n, \\subsubsection*{10.6 Clas...</td>\n      <td>[\\n,   \\item Write down the slope perpendicula...</td>\n      <td>[Write down the slope perpendicular to the giv...</td>\n      <td>8</td>\n      <td>/Users/chris/GitHub/course-files/Geom</td>\n      <td>10-Trig+similarity+analytics</td>\n      <td>10-6DN_Tangent-situations.tex</td>\n    </tr>\n  </tbody>\n</table>\n<p>172 rows × 8 columns</p>\n</div>"
     },
     "metadata": {},
     "execution_count": 47
    }
   ],
   "source": [
    "pset_df"
   ]
  },
  {
   "cell_type": "code",
   "execution_count": 3,
   "metadata": {},
   "outputs": [
    {
     "output_type": "error",
     "ename": "NameError",
     "evalue": "name 'p_df' is not defined",
     "traceback": [
      "\u001b[0;31m---------------------------------------------------------------------------\u001b[0m",
      "\u001b[0;31mNameError\u001b[0m                                 Traceback (most recent call last)",
      "\u001b[0;32m<ipython-input-3-d4148adb8b51>\u001b[0m in \u001b[0;36m<module>\u001b[0;34m\u001b[0m\n\u001b[0;32m----> 1\u001b[0;31m \u001b[0mp_df\u001b[0m\u001b[0;34m[\u001b[0m\u001b[0;34m'file'\u001b[0m\u001b[0;34m]\u001b[0m \u001b[0;34m=\u001b[0m \u001b[0mproblem_df\u001b[0m\u001b[0;34m.\u001b[0m\u001b[0mproblem_set_ID\u001b[0m\u001b[0;34m.\u001b[0m\u001b[0mapply\u001b[0m\u001b[0;34m(\u001b[0m\u001b[0;32mlambda\u001b[0m \u001b[0mx\u001b[0m\u001b[0;34m:\u001b[0m \u001b[0mpset_df\u001b[0m\u001b[0;34m.\u001b[0m\u001b[0mloc\u001b[0m\u001b[0;34m[\u001b[0m\u001b[0mx\u001b[0m\u001b[0;34m,\u001b[0m \u001b[0;34m'file'\u001b[0m\u001b[0;34m]\u001b[0m\u001b[0;34m)\u001b[0m\u001b[0;34m\u001b[0m\u001b[0;34m\u001b[0m\u001b[0m\n\u001b[0m\u001b[1;32m      2\u001b[0m \u001b[0mp_df\u001b[0m\u001b[0;34m[\u001b[0m\u001b[0;34m'q_len'\u001b[0m\u001b[0;34m]\u001b[0m \u001b[0;34m=\u001b[0m \u001b[0mproblem_df\u001b[0m\u001b[0;34m.\u001b[0m\u001b[0mquestion\u001b[0m\u001b[0;34m.\u001b[0m\u001b[0mstr\u001b[0m\u001b[0;34m.\u001b[0m\u001b[0mlen\u001b[0m\u001b[0;34m(\u001b[0m\u001b[0;34m)\u001b[0m\u001b[0;34m\u001b[0m\u001b[0;34m\u001b[0m\u001b[0m\n\u001b[1;32m      3\u001b[0m \u001b[0mp_df\u001b[0m\u001b[0;34m.\u001b[0m\u001b[0msort_values\u001b[0m\u001b[0;34m(\u001b[0m\u001b[0;34m'q_len'\u001b[0m\u001b[0;34m,\u001b[0m \u001b[0minplace\u001b[0m\u001b[0;34m=\u001b[0m\u001b[0;32mTrue\u001b[0m\u001b[0;34m)\u001b[0m\u001b[0;34m\u001b[0m\u001b[0;34m\u001b[0m\u001b[0m\n\u001b[1;32m      4\u001b[0m \u001b[0mp_df\u001b[0m\u001b[0;34m\u001b[0m\u001b[0;34m\u001b[0m\u001b[0m\n",
      "\u001b[0;31mNameError\u001b[0m: name 'p_df' is not defined"
     ]
    }
   ],
   "source": [
    "p_df['file'] = problem_df.problem_set_ID.apply(lambda x: pset_df.loc[x, 'file'])\n",
    "p_df['q_len'] = problem_df.question.str.len()\n",
    "p_df.sort_values('q_len', inplace=True)\n",
    "p_df"
   ]
  },
  {
   "cell_type": "code",
   "execution_count": 63,
   "metadata": {
    "tags": []
   },
   "outputs": [],
   "source": [
    "#print(pset_df.loc[62, 'body'])\n",
    "multicol_error_pset_df = pset_df[pset_df.body.apply(lambda x: r'[\\\\item' in str(x))].copy()"
   ]
  },
  {
   "cell_type": "code",
   "execution_count": 94,
   "metadata": {
    "tags": []
   },
   "outputs": [
    {
     "output_type": "execute_result",
     "data": {
      "text/plain": "                    unit                              file  problem_count  \\\nproblem_set_ID                                                              \n0               01-Intro             1-1CW_Measurement.tex              9   \n1               01-Intro                 1-1DN_Algebra.tex              8   \n2               01-Intro                 1-1HW_Algebra.tex              9   \n3               01-Intro     1-3DN_Function-intercepts.tex              6   \n4               01-Intro    1-3HW_Equilateral-triangle.tex             11   \n5               01-Intro        1-4HW_Segment-addition.tex             11   \n6               01-Intro       1-5CW_Angle-terminology.tex              8   \n7               01-Intro  1-5HW_Pretest-segments-intro.tex             18   \n8               01-Intro             1-6DN_Angle-pairs.tex              6   \n9               01-Intro             1-6HW_Angle-pairs.tex              6   \n10              01-Intro                 1-7Exam-Intro.tex             26   \n11              01-Intro           1-7Exam-corrections.tex              0   \n12              01-Intro                 1-7Exam-spicy.tex              7   \n13              01-Intro            1-7HW_Calculations.tex              8   \n14              01-Intro                    1-HW-Intro.tex            104   \n\n                                                             head  \\\nproblem_set_ID                                                      \n0               [\\begin{document}\\n, \\subsubsection*{1-1 Class...   \n1               [\\begin{document}\\n, \\subsubsection*{1-1 Do No...   \n2               [\\begin{document}\\n, \\subsubsection*{1-1 Homew...   \n3               [\\begin{document}\\n, \\subsubsection*{1-3 Do No...   \n4               [\\begin{document}\\n, \\subsubsection*{Homework ...   \n5               [\\begin{document}\\n, \\subsubsection*{Homework ...   \n6               [\\begin{document}\\n, \\subsubsection*{Classwork...   \n7               [\\begin{document}\\n, \\subsubsection*{1-8 Homew...   \n8               [\\begin{document}\\n, \\subsubsection*{1.6 Do No...   \n9               [\\begin{document}\\n, \\subsubsection*{1.6 Homew...   \n10              [\\begin{document}\\n,   \\subsubsection*{1.7 Exa...   \n11                                                             []   \n12              [\\begin{document}\\n, \\subsubsection*{1.7 Exam:...   \n13              [\\begin{document}\\n, \\subsubsection*{1.7 Homew...   \n14              [\\begin{document}\\n, \\subsubsection*{Quiz Corr...   \n\n                                                             body  \\\nproblem_set_ID                                                      \n0               [\\n,   \\item Given the line segment $\\overline...   \n1               [\\n, \\n,   \\item In the following two problems...   \n2               [\\n, \\n,   \\item In the following two problems...   \n3               [  \\item I have a compass, ruler, protractor, ...   \n4               [\\n,     \\item Construct an equilateral triang...   \n5               [    \\item I have a compass, ruler, protractor...   \n6               [    \\item I have a compass, ruler, protractor...   \n7               [    \\item Points that are all located on the ...   \n8               [\\n,   \\item Complete the construction of an e...   \n9               [\\n,   \\item Points that are all located on th...   \n10              [      \\item I have a calculator. (circle one)...   \n11                                                             []   \n12              [\\n,   \\item Given $\\overline{ABC}$, $AB=4$, a...   \n13              [\\n,   \\item Given $\\overline{ABC}$, $AB=84$, ...   \n14              [    \\item The points where a line segment beg...   \n\n                                                    problems_list  \\\nproblem_set_ID                                                      \n0               [Given the line segment $\\overline{PQ}$ shown ...   \n1               [\\n\\n, In the following two problems, solve fo...   \n2               [\\n\\n, In the following two problems, solve fo...   \n3               [I have a compass, ruler, protractor, notebook...   \n4               [Construct an equilateral triangle with $\\over...   \n5               [I have a compass, ruler, protractor, notebook...   \n6               [I have a compass, ruler, protractor, notebook...   \n7               [Points that are all located on the same line ...   \n8               [Complete the construction of an equilateral t...   \n9               [Points that are all located on the same line ...   \n10              [I have a calculator. (circle one). Yes \\qquad...   \n11                                                             []   \n12              [Given $\\overline{ABC}$, $AB=4$, and $AC=25$.\\...   \n13              [Given $\\overline{ABC}$, $AB=84$, and $AC=116$...   \n14              [The points where a line segment begins and en...   \n\n                                                 path  \\\nproblem_set_ID                                          \n0               /Users/chris/GitHub/course-files/Geom   \n1               /Users/chris/GitHub/course-files/Geom   \n2               /Users/chris/GitHub/course-files/Geom   \n3               /Users/chris/GitHub/course-files/Geom   \n4               /Users/chris/GitHub/course-files/Geom   \n5               /Users/chris/GitHub/course-files/Geom   \n6               /Users/chris/GitHub/course-files/Geom   \n7               /Users/chris/GitHub/course-files/Geom   \n8               /Users/chris/GitHub/course-files/Geom   \n9               /Users/chris/GitHub/course-files/Geom   \n10              /Users/chris/GitHub/course-files/Geom   \n11              /Users/chris/GitHub/course-files/Geom   \n12              /Users/chris/GitHub/course-files/Geom   \n13              /Users/chris/GitHub/course-files/Geom   \n14              /Users/chris/GitHub/course-files/Geom   \n\n                                                         filename  \nproblem_set_ID                                                     \n0               /Users/chris/GitHub/course-files/Geom/01-Intro...  \n1               /Users/chris/GitHub/course-files/Geom/01-Intro...  \n2               /Users/chris/GitHub/course-files/Geom/01-Intro...  \n3               /Users/chris/GitHub/course-files/Geom/01-Intro...  \n4               /Users/chris/GitHub/course-files/Geom/01-Intro...  \n5               /Users/chris/GitHub/course-files/Geom/01-Intro...  \n6               /Users/chris/GitHub/course-files/Geom/01-Intro...  \n7               /Users/chris/GitHub/course-files/Geom/01-Intro...  \n8               /Users/chris/GitHub/course-files/Geom/01-Intro...  \n9               /Users/chris/GitHub/course-files/Geom/01-Intro...  \n10              /Users/chris/GitHub/course-files/Geom/01-Intro...  \n11              /Users/chris/GitHub/course-files/Geom/01-Intro...  \n12              /Users/chris/GitHub/course-files/Geom/01-Intro...  \n13              /Users/chris/GitHub/course-files/Geom/01-Intro...  \n14              /Users/chris/GitHub/course-files/Geom/01-Intro...  ",
      "text/html": "<div>\n<style scoped>\n    .dataframe tbody tr th:only-of-type {\n        vertical-align: middle;\n    }\n\n    .dataframe tbody tr th {\n        vertical-align: top;\n    }\n\n    .dataframe thead th {\n        text-align: right;\n    }\n</style>\n<table border=\"1\" class=\"dataframe\">\n  <thead>\n    <tr style=\"text-align: right;\">\n      <th></th>\n      <th>unit</th>\n      <th>file</th>\n      <th>problem_count</th>\n      <th>head</th>\n      <th>body</th>\n      <th>problems_list</th>\n      <th>path</th>\n      <th>filename</th>\n    </tr>\n    <tr>\n      <th>problem_set_ID</th>\n      <th></th>\n      <th></th>\n      <th></th>\n      <th></th>\n      <th></th>\n      <th></th>\n      <th></th>\n      <th></th>\n    </tr>\n  </thead>\n  <tbody>\n    <tr>\n      <th>0</th>\n      <td>01-Intro</td>\n      <td>1-1CW_Measurement.tex</td>\n      <td>9</td>\n      <td>[\\begin{document}\\n, \\subsubsection*{1-1 Class...</td>\n      <td>[\\n,   \\item Given the line segment $\\overline...</td>\n      <td>[Given the line segment $\\overline{PQ}$ shown ...</td>\n      <td>/Users/chris/GitHub/course-files/Geom</td>\n      <td>/Users/chris/GitHub/course-files/Geom/01-Intro...</td>\n    </tr>\n    <tr>\n      <th>1</th>\n      <td>01-Intro</td>\n      <td>1-1DN_Algebra.tex</td>\n      <td>8</td>\n      <td>[\\begin{document}\\n, \\subsubsection*{1-1 Do No...</td>\n      <td>[\\n, \\n,   \\item In the following two problems...</td>\n      <td>[\\n\\n, In the following two problems, solve fo...</td>\n      <td>/Users/chris/GitHub/course-files/Geom</td>\n      <td>/Users/chris/GitHub/course-files/Geom/01-Intro...</td>\n    </tr>\n    <tr>\n      <th>2</th>\n      <td>01-Intro</td>\n      <td>1-1HW_Algebra.tex</td>\n      <td>9</td>\n      <td>[\\begin{document}\\n, \\subsubsection*{1-1 Homew...</td>\n      <td>[\\n, \\n,   \\item In the following two problems...</td>\n      <td>[\\n\\n, In the following two problems, solve fo...</td>\n      <td>/Users/chris/GitHub/course-files/Geom</td>\n      <td>/Users/chris/GitHub/course-files/Geom/01-Intro...</td>\n    </tr>\n    <tr>\n      <th>3</th>\n      <td>01-Intro</td>\n      <td>1-3DN_Function-intercepts.tex</td>\n      <td>6</td>\n      <td>[\\begin{document}\\n, \\subsubsection*{1-3 Do No...</td>\n      <td>[  \\item I have a compass, ruler, protractor, ...</td>\n      <td>[I have a compass, ruler, protractor, notebook...</td>\n      <td>/Users/chris/GitHub/course-files/Geom</td>\n      <td>/Users/chris/GitHub/course-files/Geom/01-Intro...</td>\n    </tr>\n    <tr>\n      <th>4</th>\n      <td>01-Intro</td>\n      <td>1-3HW_Equilateral-triangle.tex</td>\n      <td>11</td>\n      <td>[\\begin{document}\\n, \\subsubsection*{Homework ...</td>\n      <td>[\\n,     \\item Construct an equilateral triang...</td>\n      <td>[Construct an equilateral triangle with $\\over...</td>\n      <td>/Users/chris/GitHub/course-files/Geom</td>\n      <td>/Users/chris/GitHub/course-files/Geom/01-Intro...</td>\n    </tr>\n    <tr>\n      <th>5</th>\n      <td>01-Intro</td>\n      <td>1-4HW_Segment-addition.tex</td>\n      <td>11</td>\n      <td>[\\begin{document}\\n, \\subsubsection*{Homework ...</td>\n      <td>[    \\item I have a compass, ruler, protractor...</td>\n      <td>[I have a compass, ruler, protractor, notebook...</td>\n      <td>/Users/chris/GitHub/course-files/Geom</td>\n      <td>/Users/chris/GitHub/course-files/Geom/01-Intro...</td>\n    </tr>\n    <tr>\n      <th>6</th>\n      <td>01-Intro</td>\n      <td>1-5CW_Angle-terminology.tex</td>\n      <td>8</td>\n      <td>[\\begin{document}\\n, \\subsubsection*{Classwork...</td>\n      <td>[    \\item I have a compass, ruler, protractor...</td>\n      <td>[I have a compass, ruler, protractor, notebook...</td>\n      <td>/Users/chris/GitHub/course-files/Geom</td>\n      <td>/Users/chris/GitHub/course-files/Geom/01-Intro...</td>\n    </tr>\n    <tr>\n      <th>7</th>\n      <td>01-Intro</td>\n      <td>1-5HW_Pretest-segments-intro.tex</td>\n      <td>18</td>\n      <td>[\\begin{document}\\n, \\subsubsection*{1-8 Homew...</td>\n      <td>[    \\item Points that are all located on the ...</td>\n      <td>[Points that are all located on the same line ...</td>\n      <td>/Users/chris/GitHub/course-files/Geom</td>\n      <td>/Users/chris/GitHub/course-files/Geom/01-Intro...</td>\n    </tr>\n    <tr>\n      <th>8</th>\n      <td>01-Intro</td>\n      <td>1-6DN_Angle-pairs.tex</td>\n      <td>6</td>\n      <td>[\\begin{document}\\n, \\subsubsection*{1.6 Do No...</td>\n      <td>[\\n,   \\item Complete the construction of an e...</td>\n      <td>[Complete the construction of an equilateral t...</td>\n      <td>/Users/chris/GitHub/course-files/Geom</td>\n      <td>/Users/chris/GitHub/course-files/Geom/01-Intro...</td>\n    </tr>\n    <tr>\n      <th>9</th>\n      <td>01-Intro</td>\n      <td>1-6HW_Angle-pairs.tex</td>\n      <td>6</td>\n      <td>[\\begin{document}\\n, \\subsubsection*{1.6 Homew...</td>\n      <td>[\\n,   \\item Points that are all located on th...</td>\n      <td>[Points that are all located on the same line ...</td>\n      <td>/Users/chris/GitHub/course-files/Geom</td>\n      <td>/Users/chris/GitHub/course-files/Geom/01-Intro...</td>\n    </tr>\n    <tr>\n      <th>10</th>\n      <td>01-Intro</td>\n      <td>1-7Exam-Intro.tex</td>\n      <td>26</td>\n      <td>[\\begin{document}\\n,   \\subsubsection*{1.7 Exa...</td>\n      <td>[      \\item I have a calculator. (circle one)...</td>\n      <td>[I have a calculator. (circle one). Yes \\qquad...</td>\n      <td>/Users/chris/GitHub/course-files/Geom</td>\n      <td>/Users/chris/GitHub/course-files/Geom/01-Intro...</td>\n    </tr>\n    <tr>\n      <th>11</th>\n      <td>01-Intro</td>\n      <td>1-7Exam-corrections.tex</td>\n      <td>0</td>\n      <td>[]</td>\n      <td>[]</td>\n      <td>[]</td>\n      <td>/Users/chris/GitHub/course-files/Geom</td>\n      <td>/Users/chris/GitHub/course-files/Geom/01-Intro...</td>\n    </tr>\n    <tr>\n      <th>12</th>\n      <td>01-Intro</td>\n      <td>1-7Exam-spicy.tex</td>\n      <td>7</td>\n      <td>[\\begin{document}\\n, \\subsubsection*{1.7 Exam:...</td>\n      <td>[\\n,   \\item Given $\\overline{ABC}$, $AB=4$, a...</td>\n      <td>[Given $\\overline{ABC}$, $AB=4$, and $AC=25$.\\...</td>\n      <td>/Users/chris/GitHub/course-files/Geom</td>\n      <td>/Users/chris/GitHub/course-files/Geom/01-Intro...</td>\n    </tr>\n    <tr>\n      <th>13</th>\n      <td>01-Intro</td>\n      <td>1-7HW_Calculations.tex</td>\n      <td>8</td>\n      <td>[\\begin{document}\\n, \\subsubsection*{1.7 Homew...</td>\n      <td>[\\n,   \\item Given $\\overline{ABC}$, $AB=84$, ...</td>\n      <td>[Given $\\overline{ABC}$, $AB=84$, and $AC=116$...</td>\n      <td>/Users/chris/GitHub/course-files/Geom</td>\n      <td>/Users/chris/GitHub/course-files/Geom/01-Intro...</td>\n    </tr>\n    <tr>\n      <th>14</th>\n      <td>01-Intro</td>\n      <td>1-HW-Intro.tex</td>\n      <td>104</td>\n      <td>[\\begin{document}\\n, \\subsubsection*{Quiz Corr...</td>\n      <td>[    \\item The points where a line segment beg...</td>\n      <td>[The points where a line segment begins and en...</td>\n      <td>/Users/chris/GitHub/course-files/Geom</td>\n      <td>/Users/chris/GitHub/course-files/Geom/01-Intro...</td>\n    </tr>\n  </tbody>\n</table>\n</div>"
     },
     "metadata": {},
     "execution_count": 94
    }
   ],
   "source": [
    "new_cols = ['unit', 'file', 'problem_count', 'head', 'body', 'problems_list', 'path', 'filename']\n",
    "pset_df = pset_df.reindex(columns=new_cols)\n",
    "pset_df[pset_df.unit.str.startswith('01')]"
   ]
  },
  {
   "cell_type": "code",
   "execution_count": 133,
   "metadata": {
    "tags": []
   },
   "outputs": [
    {
     "output_type": "stream",
     "name": "stdout",
     "text": "Given $\\triangle ABP \\sim \\triangle JKP$ as shown below. $AP=5.7$, $JP=11.4$, and $JK=14.8$. Find $AB$.\n \\begin{flushright}\n   \\begin{tikzpicture}[scale=1.4]\n       \\draw [thick]\n         (0.25,-1)node[right]{$B$}--\n         (-0.5,2)node[left]{$K$}--\n         (4,0)node[right]{$J$}--\n         (0,0)node[above right]{$P$}--\n         (-2,0)node[left]{$A$}--cycle;\n     \\end{tikzpicture}\n     \\end{flushright}\n     \\vspace{3cm}\n\n   \\begin{multicols}{2}\n\n"
    },
    {
     "output_type": "execute_result",
     "data": {
      "text/plain": "'A translation maps triangle $CAT$ onto triangle $DOG$.] \\\\vspace{0.5cm}\\n      \\\\begin{tikzpicture}[scale=0.9]\\n        \\\\coordinate [label=above left:$C$](A) at (95:2);\\n        \\\\coordinate [label=below:$A$](B) at (0, 0);\\n        \\\\coordinate [label=right:$T$](C) at (-10:3.5);\\n        \\\\draw [thick] (A)--(B)--(C)--cycle;\\n  \\n        \\\\draw [thick, xshift=3cm, yshift=1.5cm] (95:2) node[above]{$D$}--\\n        (0,0) node[below]{$O$}--\\n        (-10:3.5) node[right]{$G$}--cycle;\\n      \\\\end{tikzpicture}\\\\\\\\\\n      Fill in the blank with the corresponding object.\\n      \\\\begin{enumerate}\\n        \\\\item $A \\\\rightarrow$ \\\\rule{2cm}{0.15mm}\\n        \\\\item $\\\\angle CTA \\\\cong$ \\\\rule{2cm}{0.15mm}\\n        \\\\item \\\\rule{2cm}{0.15mm} $\\\\cong \\\\overline {DG}$\\n      \\\\end{enumerate}\\n    \\\\end{multicols}  \\\\vspace{4cm}\\n\\n'"
     },
     "metadata": {},
     "execution_count": 133
    }
   ],
   "source": [
    "print(pset_df.loc[62, 'problems_list'][7])\n",
    "pset_df.loc[62, 'problems_list'][8]"
   ]
  },
  {
   "cell_type": "code",
   "execution_count": 88,
   "metadata": {},
   "outputs": [
    {
     "output_type": "execute_result",
     "data": {
      "text/plain": "problem_set_ID\n0.0      5\n1.0      6\n2.0      7\n3.0      5\n4.0     10\n5.0     10\n6.0      7\n7.0     14\n8.0      5\n9.0      5\n10.0    20\n12.0     6\n13.0     7\n14.0    83\n15.0     1\n16.0     4\n17.0     6\n18.0     6\n19.0     5\n20.0     6\n21.0     5\n22.0     6\n23.0     4\n24.0     5\n25.0     7\n26.0     5\n27.0     6\n28.0     9\n29.0     3\n30.0     5\nName: question, dtype: int64"
     },
     "metadata": {},
     "execution_count": 88
    }
   ],
   "source": [
    "problem_df.groupby('problem_set_ID').question.count().head(30)"
   ]
  },
  {
   "cell_type": "markdown",
   "metadata": {},
   "source": [
    "## Printing Problem Sets"
   ]
  },
  {
   "cell_type": "code",
   "execution_count": 84,
   "metadata": {},
   "outputs": [],
   "source": [
    "title = ('file is 1-6DN-Angle-pairs.tex', '17 August 2020', 'Test run of problems df')\n",
    "df = problem_df[problem_df.file == '1-6DN_Angle-pairs.tex'].sort_index()\n",
    "print_problems_df(df, filename='1-6DN_', title=title)"
   ]
  },
  {
   "cell_type": "code",
   "execution_count": 134,
   "metadata": {},
   "outputs": [],
   "source": [
    "title = ('file is 5-4DN-similarity-ratios.tex, PSet 62', '18 August 2020', 'Issue with multicols')\n",
    "df = problem_df[problem_df.problem_set_ID == 62].sort_index()\n",
    "print_problems_df(df, filename='5-4DN-mulitcols-issue', title=title)"
   ]
  },
  {
   "cell_type": "code",
   "execution_count": 95,
   "metadata": {},
   "outputs": [],
   "source": [
    "print_list = [0, 1, 2]\n",
    "for pset in print_list:\n",
    "    title = ('file is 1-temp-' + str(pset), '17 August 2020', 'Test run of print unit')\n",
    "    df = problem_df[problem_df.problem_set_ID == pset].sort_index()\n",
    "    print_problems_df(df, filename='1-temp-' + str(pset), title=title)"
   ]
  },
  {
   "cell_type": "code",
   "execution_count": null,
   "metadata": {},
   "outputs": [],
   "source": []
  },
  {
   "cell_type": "code",
   "execution_count": 2,
   "metadata": {
    "tags": []
   },
   "outputs": [
    {
     "output_type": "stream",
     "name": "stdout",
     "text": "Loaded dataframes: \nworksheet_files_df:\n index name:  None \ncolumns:  Index(['Unnamed: 0', 'unit', 'file_count', 'filename'], dtype='object') \n149 rows:  149 \n\nproblem_sets_df:\n index name:  problem_set_ID \ncolumns:  Index(['filename', 'head', 'body', 'problems_list', 'problem_count',\n       'problem_IDs'],\n      dtype='object') \n149 rows:  149 \n\nproblems_df:\n index name:  problem_ID \ncolumns:  Index(['problem_set_ID', 'question'], dtype='object') \n1855 rows:  1855 \n\nstandards_df:\n index name:  None \ncolumns:  Index(['course', 'chapter', 'topic', 'ccss_ID'], dtype='object') \n314 rows:  314 \n\nstandards_desc_df:\n index name:  ccss_ID \ncolumns:  Index(['description'], dtype='object') \n131 rows:  131 \n\n"
    }
   ],
   "source": [
    "from main import map_course_files"
   ]
  },
  {
   "cell_type": "code",
   "execution_count": 3,
   "metadata": {
    "tags": []
   },
   "outputs": [
    {
     "output_type": "stream",
     "name": "stdout",
     "text": "dict len, type:  13 <class 'dict'> \n df len:  208 \n\n"
    },
    {
     "output_type": "execute_result",
     "data": {
      "text/plain": "array(['01-Intro', '02-Midpoint+distance', '03-Volume+angle-bisectors',\n       '04-Transversals', '05-Transformations', '06-Analytic-geometry',\n       '07-Similarity', '08-Area+volume', '09-Congruence-transformations',\n       '10-Trig+similarity+analytics', '11-Algebra2-intro', 'Slides',\n       'Trajectories'], dtype=object)"
     },
     "metadata": {},
     "execution_count": 3
    }
   ],
   "source": [
    "course_files, course_file_df = map_course_files(course_dir='/Users/chris/GitHub/course-files/Geom')\n",
    "print('dict len, type: ', len(course_files), type(course_files), '\\n df len: ', len(course_file_df), '\\n')\n",
    "course_file_df.unit.unique()"
   ]
  },
  {
   "cell_type": "code",
   "execution_count": 4,
   "metadata": {},
   "outputs": [
    {
     "output_type": "execute_result",
     "data": {
      "text/plain": "                             unit  file_count                       filename\n0                        01-Intro          16          1-1CW_Measurement.tex\n1                        01-Intro          16      1-1DNQ_Distance+slope.tex\n2                        01-Intro          16              1-1DN_Algebra.tex\n3                        01-Intro          16              1-1HW_Algebra.tex\n4                        01-Intro          16  1-3DN_Function-intercepts.tex\n..                            ...         ...                            ...\n167  10-Trig+similarity+analytics           7    10-2DN_Analytics-review.tex\n168  10-Trig+similarity+analytics           7   10-2bDN_Analytics-review.tex\n169  10-Trig+similarity+analytics           7  10-4DN_Tangent-situations.tex\n170  10-Trig+similarity+analytics           7   10-4bDN_Analytics-review.tex\n171  10-Trig+similarity+analytics           7  10-6DN_Tangent-situations.tex\n\n[172 rows x 3 columns]",
      "text/html": "<div>\n<style scoped>\n    .dataframe tbody tr th:only-of-type {\n        vertical-align: middle;\n    }\n\n    .dataframe tbody tr th {\n        vertical-align: top;\n    }\n\n    .dataframe thead th {\n        text-align: right;\n    }\n</style>\n<table border=\"1\" class=\"dataframe\">\n  <thead>\n    <tr style=\"text-align: right;\">\n      <th></th>\n      <th>unit</th>\n      <th>file_count</th>\n      <th>filename</th>\n    </tr>\n  </thead>\n  <tbody>\n    <tr>\n      <th>0</th>\n      <td>01-Intro</td>\n      <td>16</td>\n      <td>1-1CW_Measurement.tex</td>\n    </tr>\n    <tr>\n      <th>1</th>\n      <td>01-Intro</td>\n      <td>16</td>\n      <td>1-1DNQ_Distance+slope.tex</td>\n    </tr>\n    <tr>\n      <th>2</th>\n      <td>01-Intro</td>\n      <td>16</td>\n      <td>1-1DN_Algebra.tex</td>\n    </tr>\n    <tr>\n      <th>3</th>\n      <td>01-Intro</td>\n      <td>16</td>\n      <td>1-1HW_Algebra.tex</td>\n    </tr>\n    <tr>\n      <th>4</th>\n      <td>01-Intro</td>\n      <td>16</td>\n      <td>1-3DN_Function-intercepts.tex</td>\n    </tr>\n    <tr>\n      <th>...</th>\n      <td>...</td>\n      <td>...</td>\n      <td>...</td>\n    </tr>\n    <tr>\n      <th>167</th>\n      <td>10-Trig+similarity+analytics</td>\n      <td>7</td>\n      <td>10-2DN_Analytics-review.tex</td>\n    </tr>\n    <tr>\n      <th>168</th>\n      <td>10-Trig+similarity+analytics</td>\n      <td>7</td>\n      <td>10-2bDN_Analytics-review.tex</td>\n    </tr>\n    <tr>\n      <th>169</th>\n      <td>10-Trig+similarity+analytics</td>\n      <td>7</td>\n      <td>10-4DN_Tangent-situations.tex</td>\n    </tr>\n    <tr>\n      <th>170</th>\n      <td>10-Trig+similarity+analytics</td>\n      <td>7</td>\n      <td>10-4bDN_Analytics-review.tex</td>\n    </tr>\n    <tr>\n      <th>171</th>\n      <td>10-Trig+similarity+analytics</td>\n      <td>7</td>\n      <td>10-6DN_Tangent-situations.tex</td>\n    </tr>\n  </tbody>\n</table>\n<p>172 rows × 3 columns</p>\n</div>"
     },
     "metadata": {},
     "execution_count": 4
    }
   ],
   "source": [
    "drop_units = ['11-Algebra2-intro', 'Slides', 'Trajectories']\n",
    "for unit in drop_units:\n",
    "    course_file_df.drop(course_file_df[course_file_df.unit == unit].index, inplace=True)\n",
    "course_file_df"
   ]
  },
  {
   "cell_type": "code",
   "execution_count": 5,
   "metadata": {
    "tags": []
   },
   "outputs": [],
   "source": [
    "from main import parse_course_files #parse_problem_sets"
   ]
  },
  {
   "cell_type": "code",
   "execution_count": 57,
   "metadata": {
    "tags": []
   },
   "outputs": [
    {
     "output_type": "execute_result",
     "data": {
      "text/plain": "                                                         filename  \\\nproblem_set_ID                                                      \n0               /Users/chris/GitHub/course-files/Geom/01-Intro...   \n1               /Users/chris/GitHub/course-files/Geom/01-Intro...   \n2               /Users/chris/GitHub/course-files/Geom/01-Intro...   \n3               /Users/chris/GitHub/course-files/Geom/01-Intro...   \n4               /Users/chris/GitHub/course-files/Geom/01-Intro...   \n...                                                           ...   \n167             /Users/chris/GitHub/course-files/Geom/10-Trig+...   \n168             /Users/chris/GitHub/course-files/Geom/10-Trig+...   \n169             /Users/chris/GitHub/course-files/Geom/10-Trig+...   \n170             /Users/chris/GitHub/course-files/Geom/10-Trig+...   \n171             /Users/chris/GitHub/course-files/Geom/10-Trig+...   \n\n                                                             head  \\\nproblem_set_ID                                                      \n0               [\\begin{document}\\n, \\subsubsection*{1-1 Class...   \n1               [\\begin{document}\\n, \\subsubsection*{0.1 Quiz:...   \n2               [\\begin{document}\\n, \\subsubsection*{1-1 Do No...   \n3               [\\begin{document}\\n, \\subsubsection*{1-1 Homew...   \n4               [\\begin{document}\\n, \\subsubsection*{1-3 Do No...   \n...                                                           ...   \n167             [\\begin{document}\\n, \\subsubsection*{10.3 Do N...   \n168             [\\begin{document}\\n, \\subsubsection*{10.3b Do ...   \n169             [\\begin{document}\\n, \\subsubsection*{10.4 Do N...   \n170             [\\begin{document}\\n, \\subsubsection*{10.4b Do ...   \n171             [\\begin{document}\\n, \\subsubsection*{10.6 Clas...   \n\n                                                             body  \\\nproblem_set_ID                                                      \n0               [\\n,   \\item Given the line segment $\\overline...   \n1               [\\n,   \\item Write down the slope and $y$-inte...   \n2               [\\n, \\n,   \\item In the following two problems...   \n3               [\\n, \\n,   \\item In the following two problems...   \n4               [  \\item I have a compass, ruler, protractor, ...   \n...                                                           ...   \n167             [\\n, \\n,   \\item Write down the slope perpendi...   \n168             [\\n,   \\item Write down the slope parallel or ...   \n169             [\\n,   \\item Write down the slope perpendicula...   \n170             [\\n,   \\item Write down the slope parallel or ...   \n171             [\\n,   \\item Write down the slope perpendicula...   \n\n                                                    problems_list  \\\nproblem_set_ID                                                      \n0               [Given the line segment $\\overline{PQ}$ shown ...   \n1               [Write down the slope and $y$-intercept of eac...   \n2               [In the following two problems, solve for the ...   \n3               [In the following two problems, solve for the ...   \n4               [I have a compass, ruler, protractor, notebook...   \n...                                                           ...   \n167             [Write down the slope perpendicular to the giv...   \n168             [Write down the slope parallel or perpendicula...   \n169             [Write down the slope perpendicular to the giv...   \n170             [Write down the slope parallel or perpendicula...   \n171             [Write down the slope perpendicular to the giv...   \n\n                problem_count                                   path  \\\nproblem_set_ID                                                         \n0                           8  /Users/chris/GitHub/course-files/Geom   \n1                           4  /Users/chris/GitHub/course-files/Geom   \n2                           7  /Users/chris/GitHub/course-files/Geom   \n3                           8  /Users/chris/GitHub/course-files/Geom   \n4                           6  /Users/chris/GitHub/course-files/Geom   \n...                       ...                                    ...   \n167                         9  /Users/chris/GitHub/course-files/Geom   \n168                        13  /Users/chris/GitHub/course-files/Geom   \n169                         8  /Users/chris/GitHub/course-files/Geom   \n170                        13  /Users/chris/GitHub/course-files/Geom   \n171                         8  /Users/chris/GitHub/course-files/Geom   \n\n                                        unit                           file  \nproblem_set_ID                                                               \n0                                   01-Intro          1-1CW_Measurement.tex  \n1                                   01-Intro      1-1DNQ_Distance+slope.tex  \n2                                   01-Intro              1-1DN_Algebra.tex  \n3                                   01-Intro              1-1HW_Algebra.tex  \n4                                   01-Intro  1-3DN_Function-intercepts.tex  \n...                                      ...                            ...  \n167             10-Trig+similarity+analytics    10-2DN_Analytics-review.tex  \n168             10-Trig+similarity+analytics   10-2bDN_Analytics-review.tex  \n169             10-Trig+similarity+analytics  10-4DN_Tangent-situations.tex  \n170             10-Trig+similarity+analytics   10-4bDN_Analytics-review.tex  \n171             10-Trig+similarity+analytics  10-6DN_Tangent-situations.tex  \n\n[172 rows x 8 columns]",
      "text/html": "<div>\n<style scoped>\n    .dataframe tbody tr th:only-of-type {\n        vertical-align: middle;\n    }\n\n    .dataframe tbody tr th {\n        vertical-align: top;\n    }\n\n    .dataframe thead th {\n        text-align: right;\n    }\n</style>\n<table border=\"1\" class=\"dataframe\">\n  <thead>\n    <tr style=\"text-align: right;\">\n      <th></th>\n      <th>filename</th>\n      <th>head</th>\n      <th>body</th>\n      <th>problems_list</th>\n      <th>problem_count</th>\n      <th>path</th>\n      <th>unit</th>\n      <th>file</th>\n    </tr>\n    <tr>\n      <th>problem_set_ID</th>\n      <th></th>\n      <th></th>\n      <th></th>\n      <th></th>\n      <th></th>\n      <th></th>\n      <th></th>\n      <th></th>\n    </tr>\n  </thead>\n  <tbody>\n    <tr>\n      <th>0</th>\n      <td>/Users/chris/GitHub/course-files/Geom/01-Intro...</td>\n      <td>[\\begin{document}\\n, \\subsubsection*{1-1 Class...</td>\n      <td>[\\n,   \\item Given the line segment $\\overline...</td>\n      <td>[Given the line segment $\\overline{PQ}$ shown ...</td>\n      <td>8</td>\n      <td>/Users/chris/GitHub/course-files/Geom</td>\n      <td>01-Intro</td>\n      <td>1-1CW_Measurement.tex</td>\n    </tr>\n    <tr>\n      <th>1</th>\n      <td>/Users/chris/GitHub/course-files/Geom/01-Intro...</td>\n      <td>[\\begin{document}\\n, \\subsubsection*{0.1 Quiz:...</td>\n      <td>[\\n,   \\item Write down the slope and $y$-inte...</td>\n      <td>[Write down the slope and $y$-intercept of eac...</td>\n      <td>4</td>\n      <td>/Users/chris/GitHub/course-files/Geom</td>\n      <td>01-Intro</td>\n      <td>1-1DNQ_Distance+slope.tex</td>\n    </tr>\n    <tr>\n      <th>2</th>\n      <td>/Users/chris/GitHub/course-files/Geom/01-Intro...</td>\n      <td>[\\begin{document}\\n, \\subsubsection*{1-1 Do No...</td>\n      <td>[\\n, \\n,   \\item In the following two problems...</td>\n      <td>[In the following two problems, solve for the ...</td>\n      <td>7</td>\n      <td>/Users/chris/GitHub/course-files/Geom</td>\n      <td>01-Intro</td>\n      <td>1-1DN_Algebra.tex</td>\n    </tr>\n    <tr>\n      <th>3</th>\n      <td>/Users/chris/GitHub/course-files/Geom/01-Intro...</td>\n      <td>[\\begin{document}\\n, \\subsubsection*{1-1 Homew...</td>\n      <td>[\\n, \\n,   \\item In the following two problems...</td>\n      <td>[In the following two problems, solve for the ...</td>\n      <td>8</td>\n      <td>/Users/chris/GitHub/course-files/Geom</td>\n      <td>01-Intro</td>\n      <td>1-1HW_Algebra.tex</td>\n    </tr>\n    <tr>\n      <th>4</th>\n      <td>/Users/chris/GitHub/course-files/Geom/01-Intro...</td>\n      <td>[\\begin{document}\\n, \\subsubsection*{1-3 Do No...</td>\n      <td>[  \\item I have a compass, ruler, protractor, ...</td>\n      <td>[I have a compass, ruler, protractor, notebook...</td>\n      <td>6</td>\n      <td>/Users/chris/GitHub/course-files/Geom</td>\n      <td>01-Intro</td>\n      <td>1-3DN_Function-intercepts.tex</td>\n    </tr>\n    <tr>\n      <th>...</th>\n      <td>...</td>\n      <td>...</td>\n      <td>...</td>\n      <td>...</td>\n      <td>...</td>\n      <td>...</td>\n      <td>...</td>\n      <td>...</td>\n    </tr>\n    <tr>\n      <th>167</th>\n      <td>/Users/chris/GitHub/course-files/Geom/10-Trig+...</td>\n      <td>[\\begin{document}\\n, \\subsubsection*{10.3 Do N...</td>\n      <td>[\\n, \\n,   \\item Write down the slope perpendi...</td>\n      <td>[Write down the slope perpendicular to the giv...</td>\n      <td>9</td>\n      <td>/Users/chris/GitHub/course-files/Geom</td>\n      <td>10-Trig+similarity+analytics</td>\n      <td>10-2DN_Analytics-review.tex</td>\n    </tr>\n    <tr>\n      <th>168</th>\n      <td>/Users/chris/GitHub/course-files/Geom/10-Trig+...</td>\n      <td>[\\begin{document}\\n, \\subsubsection*{10.3b Do ...</td>\n      <td>[\\n,   \\item Write down the slope parallel or ...</td>\n      <td>[Write down the slope parallel or perpendicula...</td>\n      <td>13</td>\n      <td>/Users/chris/GitHub/course-files/Geom</td>\n      <td>10-Trig+similarity+analytics</td>\n      <td>10-2bDN_Analytics-review.tex</td>\n    </tr>\n    <tr>\n      <th>169</th>\n      <td>/Users/chris/GitHub/course-files/Geom/10-Trig+...</td>\n      <td>[\\begin{document}\\n, \\subsubsection*{10.4 Do N...</td>\n      <td>[\\n,   \\item Write down the slope perpendicula...</td>\n      <td>[Write down the slope perpendicular to the giv...</td>\n      <td>8</td>\n      <td>/Users/chris/GitHub/course-files/Geom</td>\n      <td>10-Trig+similarity+analytics</td>\n      <td>10-4DN_Tangent-situations.tex</td>\n    </tr>\n    <tr>\n      <th>170</th>\n      <td>/Users/chris/GitHub/course-files/Geom/10-Trig+...</td>\n      <td>[\\begin{document}\\n, \\subsubsection*{10.4b Do ...</td>\n      <td>[\\n,   \\item Write down the slope parallel or ...</td>\n      <td>[Write down the slope parallel or perpendicula...</td>\n      <td>13</td>\n      <td>/Users/chris/GitHub/course-files/Geom</td>\n      <td>10-Trig+similarity+analytics</td>\n      <td>10-4bDN_Analytics-review.tex</td>\n    </tr>\n    <tr>\n      <th>171</th>\n      <td>/Users/chris/GitHub/course-files/Geom/10-Trig+...</td>\n      <td>[\\begin{document}\\n, \\subsubsection*{10.6 Clas...</td>\n      <td>[\\n,   \\item Write down the slope perpendicula...</td>\n      <td>[Write down the slope perpendicular to the giv...</td>\n      <td>8</td>\n      <td>/Users/chris/GitHub/course-files/Geom</td>\n      <td>10-Trig+similarity+analytics</td>\n      <td>10-6DN_Tangent-situations.tex</td>\n    </tr>\n  </tbody>\n</table>\n<p>172 rows × 8 columns</p>\n</div>"
     },
     "metadata": {},
     "execution_count": 57
    }
   ],
   "source": [
    "pset_df = parse_course_files(course_file_df, course_dir='/Users/chris/GitHub/course-files/Geom')\n",
    "pset_df[['path', 'unit', 'file']] = pset_df.filename.str.rsplit('/', n=2, expand=True)\n",
    "pset_df"
   ]
  },
  {
   "cell_type": "code",
   "execution_count": 7,
   "metadata": {},
   "outputs": [],
   "source": [
    "from main import parse_problem_sets"
   ]
  },
  {
   "cell_type": "code",
   "execution_count": 58,
   "metadata": {},
   "outputs": [],
   "source": [
    "problem_df = parse_problem_sets(pset_df)"
   ]
  },
  {
   "cell_type": "code",
   "execution_count": 59,
   "metadata": {},
   "outputs": [],
   "source": [
    "problem_df['file'] = problem_df.problem_set_ID.apply(lambda x: pset_df.loc[x, 'file'])\n",
    "problem_df['q_len'] = problem_df.question.str.len()\n",
    "problem_df.sort_values('q_len', inplace=True)"
   ]
  },
  {
   "cell_type": "code",
   "execution_count": 67,
   "metadata": {},
   "outputs": [
    {
     "output_type": "execute_result",
     "data": {
      "text/plain": "            problem_set_ID                                       question  \\\nproblem_ID                                                                  \n2168                   155                            Rotate triangle\\n\\n   \n1551                   112                            \\begin{enumerate}\\n   \n1545                   112                            \\begin{enumerate}\\n   \n1498                   108                            \\begin{enumerate}\\n   \n1423                   101                            \\begin{enumerate}\\n   \n1444                   103                            \\begin{enumerate}\\n   \n1464                   105                            \\begin{enumerate}\\n   \n1608                   115                            \\begin{enumerate}\\n   \n600                     47                            \\end{multicols}\\n\\n   \n1603                   115                         $3x+y=2$ (2 stars)\\\\\\n   \n2164                   155                    Transversal corresponding\\n   \n593                     47                   ``definition of bisector\" \\n   \n87                       6                 Find the value of $|2-7|$.\\n\\n   \n60                       6               Find the value of $|8.5-3|$.\\n\\n   \n2221                   160             \\begin{enumerate}[itemsep=1.5cm]\\n   \n2264                   162             \\begin{enumerate}[itemsep=1.5cm]\\n   \n1658                   117             \\begin{enumerate}[itemsep=1.4cm]\\n   \n1482                   106             \\begin{enumerate}[itemsep=1.5cm]\\n   \n1618                   116             \\begin{enumerate}[itemsep=1.4cm]\\n   \n354                     30         $x^2+5x=14$\\n    \\end{multicols}\\n\\n\\n   \n108                      6           Find the value of $|11-4|+|-3|$.\\n\\n   \n1504                   109            \\begin{enumerate}[itemsep=1.25cm]\\n   \n1582                   115            \\begin{enumerate}[itemsep=1.25cm]\\n   \n387                     32         $x^2+7x=18$\\n    \\end{multicols}\\n  \\n   \n595                     47           ``vertical $\\angle$s are $\\cong$\" \\n   \n594                     47          ``linear pairs sum to $180^\\circ$\" \\n   \n2163                   155          Vertical angles w segment bisectors\\n   \n1175                    81           $\\frac{2}{5}(8-3x)=2$ \\vspace{3cm}\\n   \n1171                    81        $x^2-3x -4 +2x^2+2x+4$ \\vspace{3.5cm}\\n   \n1534                   110  $\\displaystyle \\tan 26^\\circ = \\frac{4}{x}$\\n   \n\n                                           file  q_len  \nproblem_ID                                              \n2168        9-4CW_Triangle-congruence-proof.tex     17  \n1551              7-5bCW_Graphing+isosceles.tex     18  \n1545              7-5bCW_Graphing+isosceles.tex     18  \n1498                         7-3bDN_Tangent.tex     18  \n1423                  7-1DN_Graphing-review.tex     18  \n1444                          7-2DN_Tangent.tex     18  \n1464               7-2bDN_Graphing-practice.tex     18  \n1608                   7-6bCW_Tangent+mixed.tex     18  \n600                   4-11Exam_Transversals.tex     19  \n1603                   7-6bCW_Tangent+mixed.tex     21  \n2164        9-4CW_Triangle-congruence-proof.tex     26  \n593                   4-11Exam_Transversals.tex     27  \n87                              1-4HW-Intro.tex     28  \n60                              1-4HW-Intro.tex     30  \n2221                9-7CW-Similarity-review.tex     33  \n2264               9-8bDN-Similarity-review.tex     33  \n1658                    7-7bExam-Similarity.tex     33  \n1482                          7-3DN_Tangent.tex     33  \n1618                     7-7Exam-Similarity.tex     33  \n354                     2-8DN_Constructions.tex     34  \n108                             1-4HW-Intro.tex     34  \n1504                         7-4bCW_Tangent.tex     34  \n1582                   7-6bCW_Tangent+mixed.tex     34  \n387                   2-9Exam_area-distance.tex     35  \n595                   4-11Exam_Transversals.tex     35  \n594                   4-11Exam_Transversals.tex     36  \n2163        9-4CW_Triangle-congruence-proof.tex     36  \n1175                         6-1DN_graphing.tex     37  \n1171                         6-1DN_graphing.tex     38  \n1534               7-5DN_Similarity+tangent.tex     44  ",
      "text/html": "<div>\n<style scoped>\n    .dataframe tbody tr th:only-of-type {\n        vertical-align: middle;\n    }\n\n    .dataframe tbody tr th {\n        vertical-align: top;\n    }\n\n    .dataframe thead th {\n        text-align: right;\n    }\n</style>\n<table border=\"1\" class=\"dataframe\">\n  <thead>\n    <tr style=\"text-align: right;\">\n      <th></th>\n      <th>problem_set_ID</th>\n      <th>question</th>\n      <th>file</th>\n      <th>q_len</th>\n    </tr>\n    <tr>\n      <th>problem_ID</th>\n      <th></th>\n      <th></th>\n      <th></th>\n      <th></th>\n    </tr>\n  </thead>\n  <tbody>\n    <tr>\n      <th>2168</th>\n      <td>155</td>\n      <td>Rotate triangle\\n\\n</td>\n      <td>9-4CW_Triangle-congruence-proof.tex</td>\n      <td>17</td>\n    </tr>\n    <tr>\n      <th>1551</th>\n      <td>112</td>\n      <td>\\begin{enumerate}\\n</td>\n      <td>7-5bCW_Graphing+isosceles.tex</td>\n      <td>18</td>\n    </tr>\n    <tr>\n      <th>1545</th>\n      <td>112</td>\n      <td>\\begin{enumerate}\\n</td>\n      <td>7-5bCW_Graphing+isosceles.tex</td>\n      <td>18</td>\n    </tr>\n    <tr>\n      <th>1498</th>\n      <td>108</td>\n      <td>\\begin{enumerate}\\n</td>\n      <td>7-3bDN_Tangent.tex</td>\n      <td>18</td>\n    </tr>\n    <tr>\n      <th>1423</th>\n      <td>101</td>\n      <td>\\begin{enumerate}\\n</td>\n      <td>7-1DN_Graphing-review.tex</td>\n      <td>18</td>\n    </tr>\n    <tr>\n      <th>1444</th>\n      <td>103</td>\n      <td>\\begin{enumerate}\\n</td>\n      <td>7-2DN_Tangent.tex</td>\n      <td>18</td>\n    </tr>\n    <tr>\n      <th>1464</th>\n      <td>105</td>\n      <td>\\begin{enumerate}\\n</td>\n      <td>7-2bDN_Graphing-practice.tex</td>\n      <td>18</td>\n    </tr>\n    <tr>\n      <th>1608</th>\n      <td>115</td>\n      <td>\\begin{enumerate}\\n</td>\n      <td>7-6bCW_Tangent+mixed.tex</td>\n      <td>18</td>\n    </tr>\n    <tr>\n      <th>600</th>\n      <td>47</td>\n      <td>\\end{multicols}\\n\\n</td>\n      <td>4-11Exam_Transversals.tex</td>\n      <td>19</td>\n    </tr>\n    <tr>\n      <th>1603</th>\n      <td>115</td>\n      <td>$3x+y=2$ (2 stars)\\\\\\n</td>\n      <td>7-6bCW_Tangent+mixed.tex</td>\n      <td>21</td>\n    </tr>\n    <tr>\n      <th>2164</th>\n      <td>155</td>\n      <td>Transversal corresponding\\n</td>\n      <td>9-4CW_Triangle-congruence-proof.tex</td>\n      <td>26</td>\n    </tr>\n    <tr>\n      <th>593</th>\n      <td>47</td>\n      <td>``definition of bisector\" \\n</td>\n      <td>4-11Exam_Transversals.tex</td>\n      <td>27</td>\n    </tr>\n    <tr>\n      <th>87</th>\n      <td>6</td>\n      <td>Find the value of $|2-7|$.\\n\\n</td>\n      <td>1-4HW-Intro.tex</td>\n      <td>28</td>\n    </tr>\n    <tr>\n      <th>60</th>\n      <td>6</td>\n      <td>Find the value of $|8.5-3|$.\\n\\n</td>\n      <td>1-4HW-Intro.tex</td>\n      <td>30</td>\n    </tr>\n    <tr>\n      <th>2221</th>\n      <td>160</td>\n      <td>\\begin{enumerate}[itemsep=1.5cm]\\n</td>\n      <td>9-7CW-Similarity-review.tex</td>\n      <td>33</td>\n    </tr>\n    <tr>\n      <th>2264</th>\n      <td>162</td>\n      <td>\\begin{enumerate}[itemsep=1.5cm]\\n</td>\n      <td>9-8bDN-Similarity-review.tex</td>\n      <td>33</td>\n    </tr>\n    <tr>\n      <th>1658</th>\n      <td>117</td>\n      <td>\\begin{enumerate}[itemsep=1.4cm]\\n</td>\n      <td>7-7bExam-Similarity.tex</td>\n      <td>33</td>\n    </tr>\n    <tr>\n      <th>1482</th>\n      <td>106</td>\n      <td>\\begin{enumerate}[itemsep=1.5cm]\\n</td>\n      <td>7-3DN_Tangent.tex</td>\n      <td>33</td>\n    </tr>\n    <tr>\n      <th>1618</th>\n      <td>116</td>\n      <td>\\begin{enumerate}[itemsep=1.4cm]\\n</td>\n      <td>7-7Exam-Similarity.tex</td>\n      <td>33</td>\n    </tr>\n    <tr>\n      <th>354</th>\n      <td>30</td>\n      <td>$x^2+5x=14$\\n    \\end{multicols}\\n\\n\\n</td>\n      <td>2-8DN_Constructions.tex</td>\n      <td>34</td>\n    </tr>\n    <tr>\n      <th>108</th>\n      <td>6</td>\n      <td>Find the value of $|11-4|+|-3|$.\\n\\n</td>\n      <td>1-4HW-Intro.tex</td>\n      <td>34</td>\n    </tr>\n    <tr>\n      <th>1504</th>\n      <td>109</td>\n      <td>\\begin{enumerate}[itemsep=1.25cm]\\n</td>\n      <td>7-4bCW_Tangent.tex</td>\n      <td>34</td>\n    </tr>\n    <tr>\n      <th>1582</th>\n      <td>115</td>\n      <td>\\begin{enumerate}[itemsep=1.25cm]\\n</td>\n      <td>7-6bCW_Tangent+mixed.tex</td>\n      <td>34</td>\n    </tr>\n    <tr>\n      <th>387</th>\n      <td>32</td>\n      <td>$x^2+7x=18$\\n    \\end{multicols}\\n  \\n</td>\n      <td>2-9Exam_area-distance.tex</td>\n      <td>35</td>\n    </tr>\n    <tr>\n      <th>595</th>\n      <td>47</td>\n      <td>``vertical $\\angle$s are $\\cong$\" \\n</td>\n      <td>4-11Exam_Transversals.tex</td>\n      <td>35</td>\n    </tr>\n    <tr>\n      <th>594</th>\n      <td>47</td>\n      <td>``linear pairs sum to $180^\\circ$\" \\n</td>\n      <td>4-11Exam_Transversals.tex</td>\n      <td>36</td>\n    </tr>\n    <tr>\n      <th>2163</th>\n      <td>155</td>\n      <td>Vertical angles w segment bisectors\\n</td>\n      <td>9-4CW_Triangle-congruence-proof.tex</td>\n      <td>36</td>\n    </tr>\n    <tr>\n      <th>1175</th>\n      <td>81</td>\n      <td>$\\frac{2}{5}(8-3x)=2$ \\vspace{3cm}\\n</td>\n      <td>6-1DN_graphing.tex</td>\n      <td>37</td>\n    </tr>\n    <tr>\n      <th>1171</th>\n      <td>81</td>\n      <td>$x^2-3x -4 +2x^2+2x+4$ \\vspace{3.5cm}\\n</td>\n      <td>6-1DN_graphing.tex</td>\n      <td>38</td>\n    </tr>\n    <tr>\n      <th>1534</th>\n      <td>110</td>\n      <td>$\\displaystyle \\tan 26^\\circ = \\frac{4}{x}$\\n</td>\n      <td>7-5DN_Similarity+tangent.tex</td>\n      <td>44</td>\n    </tr>\n  </tbody>\n</table>\n</div>"
     },
     "metadata": {},
     "execution_count": 67
    }
   ],
   "source": [
    "problem_df[problem_df.q_len > 15].head(30)"
   ]
  },
  {
   "cell_type": "code",
   "execution_count": 60,
   "metadata": {},
   "outputs": [
    {
     "output_type": "execute_result",
     "data": {
      "text/plain": "       problem_set_ID  question  file\nq_len                                \n9                 431       431   431\n10                 22        22    22\n11                 40        40    40\n12                  2         2     2\n13                 13        13    13",
      "text/html": "<div>\n<style scoped>\n    .dataframe tbody tr th:only-of-type {\n        vertical-align: middle;\n    }\n\n    .dataframe tbody tr th {\n        vertical-align: top;\n    }\n\n    .dataframe thead th {\n        text-align: right;\n    }\n</style>\n<table border=\"1\" class=\"dataframe\">\n  <thead>\n    <tr style=\"text-align: right;\">\n      <th></th>\n      <th>problem_set_ID</th>\n      <th>question</th>\n      <th>file</th>\n    </tr>\n    <tr>\n      <th>q_len</th>\n      <th></th>\n      <th></th>\n      <th></th>\n    </tr>\n  </thead>\n  <tbody>\n    <tr>\n      <th>9</th>\n      <td>431</td>\n      <td>431</td>\n      <td>431</td>\n    </tr>\n    <tr>\n      <th>10</th>\n      <td>22</td>\n      <td>22</td>\n      <td>22</td>\n    </tr>\n    <tr>\n      <th>11</th>\n      <td>40</td>\n      <td>40</td>\n      <td>40</td>\n    </tr>\n    <tr>\n      <th>12</th>\n      <td>2</td>\n      <td>2</td>\n      <td>2</td>\n    </tr>\n    <tr>\n      <th>13</th>\n      <td>13</td>\n      <td>13</td>\n      <td>13</td>\n    </tr>\n  </tbody>\n</table>\n</div>"
     },
     "metadata": {},
     "execution_count": 60
    }
   ],
   "source": [
    "problem_df[problem_df.question.str.contains(r'\\\\newpage')].groupby('q_len').count()"
   ]
  },
  {
   "cell_type": "code",
   "execution_count": 71,
   "metadata": {},
   "outputs": [
    {
     "output_type": "execute_result",
     "data": {
      "text/plain": "            problem_set_ID                                           question  \\\nproblem_ID                                                                      \n811                     59  $\\square$] November 1 - 4.11 Transversals, vol...   \n810                     59  $\\square$] October 17 - 3.9 Area, volume, peri...   \n2103                   147  Check those transformations that are rigid mot...   \n2113                   148  Check those transformations that are rigid mot...   \n809                     59  Exams and test corrections\\n    \\begin{itemize...   \n1819                   130  \\textbf{Inscribed polygons and angles:} Circle...   \n1818                   130  \\textbf{Areas:} Circle with center at point $Q...   \n2024                   142  \\textbf{Polygons and angles in circles:} %Circ...   \n1914                   134  \\textbf{Polygons and angles in circles:} %Circ...   \n1941                   136  \\textbf{Polygons and angles in circles:} %Circ...   \n2100                   147  Reflect $\\triangle TRS$ across the $y$-axis, l...   \n2111                   148  Reflect $\\triangle TRS$ across the $y$-axis, l...   \n808                     59  Constructions and projects\\n    \\begin{itemize...   \n1913                   134  \\textbf{Areas:} Circle with center at point $Q...   \n1940                   136  \\textbf{Areas:} Circle with center at point $Q...   \n2023                   142  \\textbf{Areas:} Circle with center at point $Q...   \n1817                   130  \\textbf{External lines:} Circle with center at...   \n1816                   130  \\textbf{Internal line segments:} Circle with c...   \n1004                    74  Checklist:\\n  \\begin{itemize}\\n    \\item[$\\squ...   \n1939                   136  \\textbf{External lines:} Circle with center at...   \n2022                   142  \\textbf{External lines:} Circle with center at...   \n1912                   134  \\textbf{External lines:} Circle with center at...   \n1938                   136  \\textbf{Internal line segments:} Circle with c...   \n1911                   134  \\textbf{Internal line segments:} Circle with c...   \n2021                   142  \\textbf{Internal line segments:} Circle with c...   \n2176                   157  A transformation is applied to a triangle, $\\t...   \n2321                   164  Which of the following would map $\\triangle DO...   \n2116                   149  A transformation is applied to a triangle, $\\t...   \n2127                   151  A transformation is applied to a triangle, $\\t...   \n2144                   153  A transformation is applied to a triangle, $\\t...   \n2207                   159  Which of the following would map $\\triangle CA...   \n2290                   163  Which of the following would map $\\triangle DO...   \n2169                   156  Which of the following would map $\\triangle CA...   \n2182                   158  Which of the following would map $\\triangle CA...   \n1059                    76  Checklist:\\n  \\begin{itemize}\\n    \\item[$\\squ...   \n1328                    95  Checklist:\\n  \\begin{itemize}\\n    \\item[$\\squ...   \n\n                                     file  q_len  \nproblem_ID                                        \n811         5-2CW_Portfolio-checklist.tex    151  \n810         5-2CW_Portfolio-checklist.tex    163  \n2103             9-1DN_Correspondence.tex    301  \n2113            9-1bDN_Correspondence.tex    301  \n809         5-2CW_Portfolio-checklist.tex    438  \n1819                    8-1DN_Circles.tex    712  \n1818                    8-1DN_Circles.tex    735  \n2024                8-7DN_Unit-review.tex    754  \n1914                    8-3DN_Density.tex    754  \n1941               8-4cEN_Area+volume.tex    755  \n2100             9-1DN_Correspondence.tex    779  \n2111            9-1bDN_Correspondence.tex    780  \n808         5-2CW_Portfolio-checklist.tex    810  \n1913                    8-3DN_Density.tex    816  \n1940               8-4cEN_Area+volume.tex    816  \n2023                8-7DN_Unit-review.tex    816  \n1817                    8-1DN_Circles.tex    855  \n1816                    8-1DN_Circles.tex    945  \n1004                 6-10bDN_Graphing.tex    946  \n1939               8-4cEN_Area+volume.tex    964  \n2022                8-7DN_Unit-review.tex    964  \n1912                    8-3DN_Density.tex    964  \n1938               8-4cEN_Area+volume.tex   1079  \n1911                    8-3DN_Density.tex   1079  \n2021                8-7DN_Unit-review.tex   1079  \n2176               9-4bCW_Composition.tex   1080  \n2321         9-9bExam-transformations.tex   1093  \n2116               9-2bCW_Composition.tex   1095  \n2127                9-3DN_Composition.tex   1095  \n2144               9-3bDN_Composition.tex   1104  \n2207         9-5bExam-transformations.tex   1105  \n2290          9-9Exam-transformations.tex   1121  \n2169                 9-4DN-reflection.tex   1131  \n2182                9-4bDN-reflection.tex   1131  \n1059            6-11HW_pretest-angles.tex   1263  \n1328           6-9HW_pretest-graphing.tex   1264  ",
      "text/html": "<div>\n<style scoped>\n    .dataframe tbody tr th:only-of-type {\n        vertical-align: middle;\n    }\n\n    .dataframe tbody tr th {\n        vertical-align: top;\n    }\n\n    .dataframe thead th {\n        text-align: right;\n    }\n</style>\n<table border=\"1\" class=\"dataframe\">\n  <thead>\n    <tr style=\"text-align: right;\">\n      <th></th>\n      <th>problem_set_ID</th>\n      <th>question</th>\n      <th>file</th>\n      <th>q_len</th>\n    </tr>\n    <tr>\n      <th>problem_ID</th>\n      <th></th>\n      <th></th>\n      <th></th>\n      <th></th>\n    </tr>\n  </thead>\n  <tbody>\n    <tr>\n      <th>811</th>\n      <td>59</td>\n      <td>$\\square$] November 1 - 4.11 Transversals, vol...</td>\n      <td>5-2CW_Portfolio-checklist.tex</td>\n      <td>151</td>\n    </tr>\n    <tr>\n      <th>810</th>\n      <td>59</td>\n      <td>$\\square$] October 17 - 3.9 Area, volume, peri...</td>\n      <td>5-2CW_Portfolio-checklist.tex</td>\n      <td>163</td>\n    </tr>\n    <tr>\n      <th>2103</th>\n      <td>147</td>\n      <td>Check those transformations that are rigid mot...</td>\n      <td>9-1DN_Correspondence.tex</td>\n      <td>301</td>\n    </tr>\n    <tr>\n      <th>2113</th>\n      <td>148</td>\n      <td>Check those transformations that are rigid mot...</td>\n      <td>9-1bDN_Correspondence.tex</td>\n      <td>301</td>\n    </tr>\n    <tr>\n      <th>809</th>\n      <td>59</td>\n      <td>Exams and test corrections\\n    \\begin{itemize...</td>\n      <td>5-2CW_Portfolio-checklist.tex</td>\n      <td>438</td>\n    </tr>\n    <tr>\n      <th>1819</th>\n      <td>130</td>\n      <td>\\textbf{Inscribed polygons and angles:} Circle...</td>\n      <td>8-1DN_Circles.tex</td>\n      <td>712</td>\n    </tr>\n    <tr>\n      <th>1818</th>\n      <td>130</td>\n      <td>\\textbf{Areas:} Circle with center at point $Q...</td>\n      <td>8-1DN_Circles.tex</td>\n      <td>735</td>\n    </tr>\n    <tr>\n      <th>2024</th>\n      <td>142</td>\n      <td>\\textbf{Polygons and angles in circles:} %Circ...</td>\n      <td>8-7DN_Unit-review.tex</td>\n      <td>754</td>\n    </tr>\n    <tr>\n      <th>1914</th>\n      <td>134</td>\n      <td>\\textbf{Polygons and angles in circles:} %Circ...</td>\n      <td>8-3DN_Density.tex</td>\n      <td>754</td>\n    </tr>\n    <tr>\n      <th>1941</th>\n      <td>136</td>\n      <td>\\textbf{Polygons and angles in circles:} %Circ...</td>\n      <td>8-4cEN_Area+volume.tex</td>\n      <td>755</td>\n    </tr>\n    <tr>\n      <th>2100</th>\n      <td>147</td>\n      <td>Reflect $\\triangle TRS$ across the $y$-axis, l...</td>\n      <td>9-1DN_Correspondence.tex</td>\n      <td>779</td>\n    </tr>\n    <tr>\n      <th>2111</th>\n      <td>148</td>\n      <td>Reflect $\\triangle TRS$ across the $y$-axis, l...</td>\n      <td>9-1bDN_Correspondence.tex</td>\n      <td>780</td>\n    </tr>\n    <tr>\n      <th>808</th>\n      <td>59</td>\n      <td>Constructions and projects\\n    \\begin{itemize...</td>\n      <td>5-2CW_Portfolio-checklist.tex</td>\n      <td>810</td>\n    </tr>\n    <tr>\n      <th>1913</th>\n      <td>134</td>\n      <td>\\textbf{Areas:} Circle with center at point $Q...</td>\n      <td>8-3DN_Density.tex</td>\n      <td>816</td>\n    </tr>\n    <tr>\n      <th>1940</th>\n      <td>136</td>\n      <td>\\textbf{Areas:} Circle with center at point $Q...</td>\n      <td>8-4cEN_Area+volume.tex</td>\n      <td>816</td>\n    </tr>\n    <tr>\n      <th>2023</th>\n      <td>142</td>\n      <td>\\textbf{Areas:} Circle with center at point $Q...</td>\n      <td>8-7DN_Unit-review.tex</td>\n      <td>816</td>\n    </tr>\n    <tr>\n      <th>1817</th>\n      <td>130</td>\n      <td>\\textbf{External lines:} Circle with center at...</td>\n      <td>8-1DN_Circles.tex</td>\n      <td>855</td>\n    </tr>\n    <tr>\n      <th>1816</th>\n      <td>130</td>\n      <td>\\textbf{Internal line segments:} Circle with c...</td>\n      <td>8-1DN_Circles.tex</td>\n      <td>945</td>\n    </tr>\n    <tr>\n      <th>1004</th>\n      <td>74</td>\n      <td>Checklist:\\n  \\begin{itemize}\\n    \\item[$\\squ...</td>\n      <td>6-10bDN_Graphing.tex</td>\n      <td>946</td>\n    </tr>\n    <tr>\n      <th>1939</th>\n      <td>136</td>\n      <td>\\textbf{External lines:} Circle with center at...</td>\n      <td>8-4cEN_Area+volume.tex</td>\n      <td>964</td>\n    </tr>\n    <tr>\n      <th>2022</th>\n      <td>142</td>\n      <td>\\textbf{External lines:} Circle with center at...</td>\n      <td>8-7DN_Unit-review.tex</td>\n      <td>964</td>\n    </tr>\n    <tr>\n      <th>1912</th>\n      <td>134</td>\n      <td>\\textbf{External lines:} Circle with center at...</td>\n      <td>8-3DN_Density.tex</td>\n      <td>964</td>\n    </tr>\n    <tr>\n      <th>1938</th>\n      <td>136</td>\n      <td>\\textbf{Internal line segments:} Circle with c...</td>\n      <td>8-4cEN_Area+volume.tex</td>\n      <td>1079</td>\n    </tr>\n    <tr>\n      <th>1911</th>\n      <td>134</td>\n      <td>\\textbf{Internal line segments:} Circle with c...</td>\n      <td>8-3DN_Density.tex</td>\n      <td>1079</td>\n    </tr>\n    <tr>\n      <th>2021</th>\n      <td>142</td>\n      <td>\\textbf{Internal line segments:} Circle with c...</td>\n      <td>8-7DN_Unit-review.tex</td>\n      <td>1079</td>\n    </tr>\n    <tr>\n      <th>2176</th>\n      <td>157</td>\n      <td>A transformation is applied to a triangle, $\\t...</td>\n      <td>9-4bCW_Composition.tex</td>\n      <td>1080</td>\n    </tr>\n    <tr>\n      <th>2321</th>\n      <td>164</td>\n      <td>Which of the following would map $\\triangle DO...</td>\n      <td>9-9bExam-transformations.tex</td>\n      <td>1093</td>\n    </tr>\n    <tr>\n      <th>2116</th>\n      <td>149</td>\n      <td>A transformation is applied to a triangle, $\\t...</td>\n      <td>9-2bCW_Composition.tex</td>\n      <td>1095</td>\n    </tr>\n    <tr>\n      <th>2127</th>\n      <td>151</td>\n      <td>A transformation is applied to a triangle, $\\t...</td>\n      <td>9-3DN_Composition.tex</td>\n      <td>1095</td>\n    </tr>\n    <tr>\n      <th>2144</th>\n      <td>153</td>\n      <td>A transformation is applied to a triangle, $\\t...</td>\n      <td>9-3bDN_Composition.tex</td>\n      <td>1104</td>\n    </tr>\n    <tr>\n      <th>2207</th>\n      <td>159</td>\n      <td>Which of the following would map $\\triangle CA...</td>\n      <td>9-5bExam-transformations.tex</td>\n      <td>1105</td>\n    </tr>\n    <tr>\n      <th>2290</th>\n      <td>163</td>\n      <td>Which of the following would map $\\triangle DO...</td>\n      <td>9-9Exam-transformations.tex</td>\n      <td>1121</td>\n    </tr>\n    <tr>\n      <th>2169</th>\n      <td>156</td>\n      <td>Which of the following would map $\\triangle CA...</td>\n      <td>9-4DN-reflection.tex</td>\n      <td>1131</td>\n    </tr>\n    <tr>\n      <th>2182</th>\n      <td>158</td>\n      <td>Which of the following would map $\\triangle CA...</td>\n      <td>9-4bDN-reflection.tex</td>\n      <td>1131</td>\n    </tr>\n    <tr>\n      <th>1059</th>\n      <td>76</td>\n      <td>Checklist:\\n  \\begin{itemize}\\n    \\item[$\\squ...</td>\n      <td>6-11HW_pretest-angles.tex</td>\n      <td>1263</td>\n    </tr>\n    <tr>\n      <th>1328</th>\n      <td>95</td>\n      <td>Checklist:\\n  \\begin{itemize}\\n    \\item[$\\squ...</td>\n      <td>6-9HW_pretest-graphing.tex</td>\n      <td>1264</td>\n    </tr>\n  </tbody>\n</table>\n</div>"
     },
     "metadata": {},
     "execution_count": 71
    }
   ],
   "source": [
    "problem_df[problem_df.question.str.contains('itemize')]"
   ]
  },
  {
   "cell_type": "code",
   "execution_count": 61,
   "metadata": {},
   "outputs": [
    {
     "output_type": "execute_result",
     "data": {
      "text/plain": "Empty DataFrame\nColumns: [filename, head, body, problems_list, problem_count, path, unit, file]\nIndex: []",
      "text/html": "<div>\n<style scoped>\n    .dataframe tbody tr th:only-of-type {\n        vertical-align: middle;\n    }\n\n    .dataframe tbody tr th {\n        vertical-align: top;\n    }\n\n    .dataframe thead th {\n        text-align: right;\n    }\n</style>\n<table border=\"1\" class=\"dataframe\">\n  <thead>\n    <tr style=\"text-align: right;\">\n      <th></th>\n      <th>filename</th>\n      <th>head</th>\n      <th>body</th>\n      <th>problems_list</th>\n      <th>problem_count</th>\n      <th>path</th>\n      <th>unit</th>\n      <th>file</th>\n    </tr>\n    <tr>\n      <th>problem_set_ID</th>\n      <th></th>\n      <th></th>\n      <th></th>\n      <th></th>\n      <th></th>\n      <th></th>\n      <th></th>\n      <th></th>\n    </tr>\n  </thead>\n  <tbody>\n  </tbody>\n</table>\n</div>"
     },
     "metadata": {},
     "execution_count": 61
    }
   ],
   "source": [
    "#pset_df[pset_df.body.apply(lambda x: r'\\item' in str(x))]\n",
    "pset_df[pset_df.body.apply(lambda x: r'[\\\\item' in str(x))]"
   ]
  },
  {
   "cell_type": "code",
   "execution_count": 41,
   "metadata": {},
   "outputs": [
    {
     "output_type": "execute_result",
     "data": {
      "text/plain": "            problem_set_ID                                           question  \\\nproblem_ID                                                                      \n1873                   131  Find the volume of a pyramid ($V=\\frac{1}{3}Bh...   \n1815                   129      Find the area of a circle with radius 4 cm.\\n   \n\n                                     file  q_len  \nproblem_ID                                        \n1873                 8-2DN_Estimation.tex    204  \n1815        8-1DN_Circle-trajectories.tex     44  ",
      "text/html": "<div>\n<style scoped>\n    .dataframe tbody tr th:only-of-type {\n        vertical-align: middle;\n    }\n\n    .dataframe tbody tr th {\n        vertical-align: top;\n    }\n\n    .dataframe thead th {\n        text-align: right;\n    }\n</style>\n<table border=\"1\" class=\"dataframe\">\n  <thead>\n    <tr style=\"text-align: right;\">\n      <th></th>\n      <th>problem_set_ID</th>\n      <th>question</th>\n      <th>file</th>\n      <th>q_len</th>\n    </tr>\n    <tr>\n      <th>problem_ID</th>\n      <th></th>\n      <th></th>\n      <th></th>\n      <th></th>\n    </tr>\n  </thead>\n  <tbody>\n    <tr>\n      <th>1873</th>\n      <td>131</td>\n      <td>Find the volume of a pyramid ($V=\\frac{1}{3}Bh...</td>\n      <td>8-2DN_Estimation.tex</td>\n      <td>204</td>\n    </tr>\n    <tr>\n      <th>1815</th>\n      <td>129</td>\n      <td>Find the area of a circle with radius 4 cm.\\n</td>\n      <td>8-1DN_Circle-trajectories.tex</td>\n      <td>44</td>\n    </tr>\n  </tbody>\n</table>\n</div>"
     },
     "metadata": {},
     "execution_count": 41
    }
   ],
   "source": [
    "problem_df.loc[[1873, 1815]]"
   ]
  },
  {
   "cell_type": "code",
   "execution_count": 68,
   "metadata": {},
   "outputs": [
    {
     "output_type": "execute_result",
     "data": {
      "text/plain": "            problem_set_ID                                           question  \\\nproblem_ID                                                                      \n1545                   112                                \\begin{enumerate}\\n   \n1546                   112  Graph and label the two equations. Mark their ...   \n1547                   112  Find the slopes of the two lines. \\hfill (2 po...   \n1548                   112  Are the lines parallel, perpendicular, or neit...   \n1549                   112      \\begin{center}\\n      \\begin{tikzpicture}[...   \n1550                   112                                         \\newpage\\n   \n1551                   112                                \\begin{enumerate}\\n   \n1552                   112  Graph and label the two equations. Mark their ...   \n1553                   112  Find the slopes of the two lines. \\hfill (2 po...   \n1554                   112  Are the lines parallel, perpendicular, or neit...   \n1555                   112        \\begin{center}\\n        \\begin{tikzpictu...   \n1556                   112                                         \\newpage\\n   \n1557                   112  Given $\\triangle ABC$ is isosceles but not equ...   \n1558                   112  Given isosceles $\\triangle ABC$ with $\\overlin...   \n1559                   112  Given isosceles $\\triangle RSU$ with $\\overlin...   \n1560                   112                                         \\newpage\\n   \n1561                   112  Given isosceles $\\triangle ABC$ with $\\overlin...   \n1562                   112  Given isosceles $\\triangle RSU$ with $\\overlin...   \n1563                   112  Given parallel lines $\\overleftrightarrow{AB} ...   \n1564                   112                                         \\newpage\\n   \n1565                   112  A dilation centered at $A$ maps $\\triangle ABC...   \n1566                   112  Given $\\triangle ABP \\sim \\triangle JKP$ as sh...   \n1567                   112                                         \\newpage\\n   \n1568                   112  The diagram below shows $\\triangle ABC \\sim \\t...   \n1569                   112  Given $\\triangle ABC \\sim \\triangle ADE$ with ...   \n\n                                     file  q_len  \nproblem_ID                                        \n1545        7-5bCW_Graphing+isosceles.tex     18  \n1546        7-5bCW_Graphing+isosceles.tex    211  \n1547        7-5bCW_Graphing+isosceles.tex    134  \n1548        7-5bCW_Graphing+isosceles.tex    157  \n1549        7-5bCW_Graphing+isosceles.tex    289  \n1550        7-5bCW_Graphing+isosceles.tex      9  \n1551        7-5bCW_Graphing+isosceles.tex     18  \n1552        7-5bCW_Graphing+isosceles.tex    211  \n1553        7-5bCW_Graphing+isosceles.tex    134  \n1554        7-5bCW_Graphing+isosceles.tex    157  \n1555        7-5bCW_Graphing+isosceles.tex    307  \n1556        7-5bCW_Graphing+isosceles.tex      9  \n1557        7-5bCW_Graphing+isosceles.tex    864  \n1558        7-5bCW_Graphing+isosceles.tex    959  \n1559        7-5bCW_Graphing+isosceles.tex   1107  \n1560        7-5bCW_Graphing+isosceles.tex      9  \n1561        7-5bCW_Graphing+isosceles.tex    560  \n1562        7-5bCW_Graphing+isosceles.tex    485  \n1563        7-5bCW_Graphing+isosceles.tex    574  \n1564        7-5bCW_Graphing+isosceles.tex      9  \n1565        7-5bCW_Graphing+isosceles.tex   1020  \n1566        7-5bCW_Graphing+isosceles.tex    434  \n1567        7-5bCW_Graphing+isosceles.tex      9  \n1568        7-5bCW_Graphing+isosceles.tex    858  \n1569        7-5bCW_Graphing+isosceles.tex    928  ",
      "text/html": "<div>\n<style scoped>\n    .dataframe tbody tr th:only-of-type {\n        vertical-align: middle;\n    }\n\n    .dataframe tbody tr th {\n        vertical-align: top;\n    }\n\n    .dataframe thead th {\n        text-align: right;\n    }\n</style>\n<table border=\"1\" class=\"dataframe\">\n  <thead>\n    <tr style=\"text-align: right;\">\n      <th></th>\n      <th>problem_set_ID</th>\n      <th>question</th>\n      <th>file</th>\n      <th>q_len</th>\n    </tr>\n    <tr>\n      <th>problem_ID</th>\n      <th></th>\n      <th></th>\n      <th></th>\n      <th></th>\n    </tr>\n  </thead>\n  <tbody>\n    <tr>\n      <th>1545</th>\n      <td>112</td>\n      <td>\\begin{enumerate}\\n</td>\n      <td>7-5bCW_Graphing+isosceles.tex</td>\n      <td>18</td>\n    </tr>\n    <tr>\n      <th>1546</th>\n      <td>112</td>\n      <td>Graph and label the two equations. Mark their ...</td>\n      <td>7-5bCW_Graphing+isosceles.tex</td>\n      <td>211</td>\n    </tr>\n    <tr>\n      <th>1547</th>\n      <td>112</td>\n      <td>Find the slopes of the two lines. \\hfill (2 po...</td>\n      <td>7-5bCW_Graphing+isosceles.tex</td>\n      <td>134</td>\n    </tr>\n    <tr>\n      <th>1548</th>\n      <td>112</td>\n      <td>Are the lines parallel, perpendicular, or neit...</td>\n      <td>7-5bCW_Graphing+isosceles.tex</td>\n      <td>157</td>\n    </tr>\n    <tr>\n      <th>1549</th>\n      <td>112</td>\n      <td>\\begin{center}\\n      \\begin{tikzpicture}[...</td>\n      <td>7-5bCW_Graphing+isosceles.tex</td>\n      <td>289</td>\n    </tr>\n    <tr>\n      <th>1550</th>\n      <td>112</td>\n      <td>\\newpage\\n</td>\n      <td>7-5bCW_Graphing+isosceles.tex</td>\n      <td>9</td>\n    </tr>\n    <tr>\n      <th>1551</th>\n      <td>112</td>\n      <td>\\begin{enumerate}\\n</td>\n      <td>7-5bCW_Graphing+isosceles.tex</td>\n      <td>18</td>\n    </tr>\n    <tr>\n      <th>1552</th>\n      <td>112</td>\n      <td>Graph and label the two equations. Mark their ...</td>\n      <td>7-5bCW_Graphing+isosceles.tex</td>\n      <td>211</td>\n    </tr>\n    <tr>\n      <th>1553</th>\n      <td>112</td>\n      <td>Find the slopes of the two lines. \\hfill (2 po...</td>\n      <td>7-5bCW_Graphing+isosceles.tex</td>\n      <td>134</td>\n    </tr>\n    <tr>\n      <th>1554</th>\n      <td>112</td>\n      <td>Are the lines parallel, perpendicular, or neit...</td>\n      <td>7-5bCW_Graphing+isosceles.tex</td>\n      <td>157</td>\n    </tr>\n    <tr>\n      <th>1555</th>\n      <td>112</td>\n      <td>\\begin{center}\\n        \\begin{tikzpictu...</td>\n      <td>7-5bCW_Graphing+isosceles.tex</td>\n      <td>307</td>\n    </tr>\n    <tr>\n      <th>1556</th>\n      <td>112</td>\n      <td>\\newpage\\n</td>\n      <td>7-5bCW_Graphing+isosceles.tex</td>\n      <td>9</td>\n    </tr>\n    <tr>\n      <th>1557</th>\n      <td>112</td>\n      <td>Given $\\triangle ABC$ is isosceles but not equ...</td>\n      <td>7-5bCW_Graphing+isosceles.tex</td>\n      <td>864</td>\n    </tr>\n    <tr>\n      <th>1558</th>\n      <td>112</td>\n      <td>Given isosceles $\\triangle ABC$ with $\\overlin...</td>\n      <td>7-5bCW_Graphing+isosceles.tex</td>\n      <td>959</td>\n    </tr>\n    <tr>\n      <th>1559</th>\n      <td>112</td>\n      <td>Given isosceles $\\triangle RSU$ with $\\overlin...</td>\n      <td>7-5bCW_Graphing+isosceles.tex</td>\n      <td>1107</td>\n    </tr>\n    <tr>\n      <th>1560</th>\n      <td>112</td>\n      <td>\\newpage\\n</td>\n      <td>7-5bCW_Graphing+isosceles.tex</td>\n      <td>9</td>\n    </tr>\n    <tr>\n      <th>1561</th>\n      <td>112</td>\n      <td>Given isosceles $\\triangle ABC$ with $\\overlin...</td>\n      <td>7-5bCW_Graphing+isosceles.tex</td>\n      <td>560</td>\n    </tr>\n    <tr>\n      <th>1562</th>\n      <td>112</td>\n      <td>Given isosceles $\\triangle RSU$ with $\\overlin...</td>\n      <td>7-5bCW_Graphing+isosceles.tex</td>\n      <td>485</td>\n    </tr>\n    <tr>\n      <th>1563</th>\n      <td>112</td>\n      <td>Given parallel lines $\\overleftrightarrow{AB} ...</td>\n      <td>7-5bCW_Graphing+isosceles.tex</td>\n      <td>574</td>\n    </tr>\n    <tr>\n      <th>1564</th>\n      <td>112</td>\n      <td>\\newpage\\n</td>\n      <td>7-5bCW_Graphing+isosceles.tex</td>\n      <td>9</td>\n    </tr>\n    <tr>\n      <th>1565</th>\n      <td>112</td>\n      <td>A dilation centered at $A$ maps $\\triangle ABC...</td>\n      <td>7-5bCW_Graphing+isosceles.tex</td>\n      <td>1020</td>\n    </tr>\n    <tr>\n      <th>1566</th>\n      <td>112</td>\n      <td>Given $\\triangle ABP \\sim \\triangle JKP$ as sh...</td>\n      <td>7-5bCW_Graphing+isosceles.tex</td>\n      <td>434</td>\n    </tr>\n    <tr>\n      <th>1567</th>\n      <td>112</td>\n      <td>\\newpage\\n</td>\n      <td>7-5bCW_Graphing+isosceles.tex</td>\n      <td>9</td>\n    </tr>\n    <tr>\n      <th>1568</th>\n      <td>112</td>\n      <td>The diagram below shows $\\triangle ABC \\sim \\t...</td>\n      <td>7-5bCW_Graphing+isosceles.tex</td>\n      <td>858</td>\n    </tr>\n    <tr>\n      <th>1569</th>\n      <td>112</td>\n      <td>Given $\\triangle ABC \\sim \\triangle ADE$ with ...</td>\n      <td>7-5bCW_Graphing+isosceles.tex</td>\n      <td>928</td>\n    </tr>\n  </tbody>\n</table>\n</div>"
     },
     "metadata": {},
     "execution_count": 68
    }
   ],
   "source": [
    "# CHECK Problem with itemize instead of enumerate\n",
    "problem_df[problem_df.problem_set_ID == 112].sort_index()"
   ]
  },
  {
   "cell_type": "code",
   "execution_count": 69,
   "metadata": {
    "tags": []
   },
   "outputs": [
    {
     "output_type": "stream",
     "name": "stdout",
     "text": "\\begin{enumerate}\n\nGraph and label the two equations. Mark their intersection as an ordered pair.\n      \\begin{multicols}{2}\n        $y =\\frac{1}{3}x-5$ \\\\\n        $y=-3x+5$ \\hfill (4 pts)\n      \\end{multicols}     \\vspace{1.5cm}\n\nFind the slopes of the two lines. \\hfill (2 points)\n      \\begin{multicols}{2}\n        $m_1=$ \\\\\n        $m_2=$\n      \\end{multicols}\n\nAre the lines parallel, perpendicular, or neither? Justify your answer with an equation or inequality using the slopes. \\hfill (2 points)\n    \\vspace{1.5cm}\n\n    \\begin{center}\n      \\begin{tikzpicture}[scale=.635]\n        \\draw [help lines] (-10,-10) grid (10,10);\n        \\draw [thick, ->] (-10.2,0) -- (10.4,0) node [below right] {$x$};\n        \\draw [thick, ->] (0,-10.2)--(0,10.4) node [left] {$y$};\n      \\end{tikzpicture}\n    \\end{center}\n\n\n\\newpage\n\n\\begin{enumerate}\n\nGraph and label the two equations. Mark their intersection as an ordered pair.\n      \\begin{multicols}{2}\n        $y =\\frac{1}{2}x+3$ \\\\\n        $2x-4y=8$ \\hfill (4 pts)\n      \\end{multicols}     \\vspace{1.5cm}\n\nFind the slopes of the two lines. \\hfill (2 points)\n      \\begin{multicols}{2}\n        $m_1=$ \\\\\n        $m_2=$\n      \\end{multicols}\n\nAre the lines parallel, perpendicular, or neither? Justify your answer with an equation or inequality using the slopes. \\hfill (2 points)\n    \\vspace{1.5cm}\n\n      \\begin{center}\n        \\begin{tikzpicture}[scale=.635]\n          \\draw [help lines] (-10,-10) grid (10,10);\n          \\draw [thick, ->] (-10.2,0) -- (10.4,0) node [below right] {$x$};\n          \\draw [thick, ->] (0,-10.2)--(0,10.4) node [left] {$y$};\n        \\end{tikzpicture}\n      \\end{center}\n    \n\n\\newpage\n\nGiven $\\triangle ABC$ is isosceles but not equilateral with $\\angle B \\cong \\angle C$. \\hfill (\\emph{not draw to scale})\n    \\begin{enumerate}\n    \\item Mark the congruent sides \\& angles of $\\triangle ABC$. \\\\[0.25cm]\n    Circle True or False:\n    \\begin{multicols}{2}\n    \\item True \\quad False \\quad $\\overline{AB} \\cong \\overline{BC}$\n    \\item True \\quad False \\quad $\\overline{AB} \\cong \\overline{AC}$\n    \\item True \\quad False \\quad $\\overline{BC} \\cong \\overline{AC}$\n    \\begin{flushright}\n    \\begin{tikzpicture}[scale=0.7]\n      \\draw [thick](0,0)--(4,0)--(2,3.5)--(0,0);\n      \\draw [fill] (0,0) circle [radius=0.05] node[below]{$A$};\n      \\draw [fill] (4,0) circle [radius=0.05] node[below]{$B$};\n      \\draw [fill] (2,3.5) circle [radius=0.05] node[above right]{$C$};\n    \\end{tikzpicture}\n    \\end{flushright}\n  \\end{multicols}\n  \\end{enumerate}\n\n\nGiven isosceles $\\triangle ABC$ with $\\overline{BC} \\cong \\overline{AC}$. \\hfill (\\emph{the diagram is not to scale})\n    \\begin{enumerate}\n      \\item Mark the congruent sides \\& angles of $\\triangle ABC$. \\\\[0.25cm]\n      Circle True or False:\n      \\begin{multicols}{2}\n      \\item True \\quad False \\quad $\\angle A \\cong \\angle B$\n      \\item True \\quad False \\quad $\\angle A \\cong \\angle C$\n      \\item True \\quad False \\quad $\\angle B \\cong \\angle C$\n      \\item T \\quad F \\quad $m\\angle A + m\\angle B + m\\angle C =180$   \n      \\begin{flushright}\n      \\begin{tikzpicture}[scale=0.7]\n        \\draw [thick](0,0)--(4,0)--(2,3.5)--(0,0);\n        \\draw [fill] (0,0) circle [radius=0.05] node[below]{$A$};\n        \\draw [fill] (4,0) circle [radius=0.05] node[below]{$B$};\n        \\draw [fill] (2,3.5) circle [radius=0.05] node[above right]{$C$};\n      \\end{tikzpicture}\n      \\end{flushright}\n    \\end{multicols}\n    \\end{enumerate}\n      \\vspace{0.25cm}\n  \n\nGiven isosceles $\\triangle RSU$ with $\\overline{RS} \\cong \\overline{SU}$. \\hfill (\\emph{the diagram is not to scale})\n      \\begin{enumerate}\n      \\item Mark the congruent sides \\& angles of $\\triangle RSU$. %\\\\[0.25cm]\n        \\begin{multicols}{2}\n          Circle True or False:\n        \\item True \\quad False \\quad $\\angle R \\cong \\angle RSU$\n        \\item True \\quad False \\quad $\\angle R \\cong \\angle U$\n        \\item True \\quad False \\quad $\\angle RSU \\cong \\angle U$\n        \\item True \\quad False \\quad $\\angle R \\cong \\angle TSU$\n        \\begin{flushright}\n        \\begin{tikzpicture}[scale=0.8]\n          \\draw [<-, thick] (7,0)--\n          (6.5,0) node[below]{$T$}--\n          (0.8,0) node[below]{$R$}--\n          (3,3.1) node[above]{$U$}--\n          (5,0) node[below]{$S$};\n        \\end{tikzpicture}\n        \\end{flushright}\n      \\end{multicols}\n        \\item True \\quad False \\quad $\\angle RSU \\cong \\angle TSU$\n        \\item True \\quad False \\quad $m\\angle RSU + m\\angle TSU =180$  \n        \\item True \\quad False \\quad $m\\angle R + m\\angle RSU + m\\angle U =180$   \n    \\end{enumerate}\n    \n\n\\newpage\n\nGiven isosceles $\\triangle ABC$ with $\\overline{AB} \\cong \\overline{BC}$, $m\\angle A = x$, $m\\angle B = 59$, and $m\\angle C=y$. Mark and label the diagram, and then find $x$ and $y$. \\hfill (\\emph{the diagram is not to scale})\n  \\begin{flushright}\n  \\begin{tikzpicture}[scale=1]\n    \\draw [thick](0,0)--(4,0)--(2,3.5)--(0,0);\n    \\draw [fill] (0,0) circle [radius=0.05] node[below]{$A$};\n    \\draw [fill] (4,0) circle [radius=0.05] node[below]{$B$};\n    \\draw [fill] (2,3.5) circle [radius=0.05] node[above right]{$C$};\n  \\end{tikzpicture}\n  \\end{flushright}\n\n\nGiven isosceles $\\triangle RSU$ with $\\overline{RS} \\cong \\overline{US}$. If $m\\angle UST=133$ find $m\\angle R$. (mark and label the diagram) \\hfill (\\emph{the diagram is not to scale})\n  \\begin{flushright}\n  \\begin{tikzpicture}[scale=0.8]\n    %\\draw [->, thick] (0,0)--(5,5);\n    \\draw [<-, thick] (8,0)--\n      (7,0) node[below]{$T$}--\n      (0.5,0) node[below]{$R$}--\n      (3,3) node[above]{$U$}--\n      (5,0) node[below]{$S$};\n  \\end{tikzpicture}\n  \\end{flushright} \\vspace{1cm}\n\n\nGiven parallel lines $\\overleftrightarrow{AB} \\parallel \\overleftrightarrow{CDE}$ with $\\overline{AC} \\cong \\overline{CD}$. If $m\\angle BAD=66$ find $m\\angle ACD$. (completely mark and label the diagram)\n    \\begin{flushright}\n    \\begin{tikzpicture}\n      \\draw [<->, thick] (1,3)--(6.5,3) node[above left]{$B$};\n      \\draw [<->, thick] (0,0)--\n        (5,0)--\n        (6,0) node[below left]{$E$};\n      \\draw [-, thick] (1,0) node[below]{$C$}--\n        (2.5,3) node[above]{$A$}--\n        (4,0) node[below]{$D$};\n    \\end{tikzpicture}\n    \\end{flushright} \\vspace{1.5cm}\n\n\n\\newpage\n\nA dilation centered at $A$ maps $\\triangle ABC \\rightarrow \\triangle ADE$. Given the sides of the preimage, $AC = 6$, $BC = 5$, $AB = 8$, and of $DE = 12$ find the scale factor $k$ and the lengths $AD$ and $AE$. Then find $CE$ and $BD$. \\vspace{1cm}\n  \\begin{multicols}{2}\n    \\begin{enumerate}\n      \\item $k=$ \\vspace{0.3cm}\n      \\item $AD=$ \\vspace{0.3cm}\n      \\item $AE=$ \\vspace{0.3cm}\n      \\item $CE=$\n      \\item $BD=$\n    \\end{enumerate}\n    \\begin{flushright}\n      \\begin{tikzpicture}[scale=0.7]\n        \\draw [-, thick] (0,0) node[above left]{$A$}--\n        (8,0) node[below]{$E$}--\n        (9,6) node[above left]{$D$}--cycle;\n        \\draw [thick] (3.2,0)--(3.6,2.4);\n        \\node at (3.5,0) [below]{$C$};\n        \\node at (4,2.7) [above left]{$B$};\n        \\node at (2, 0) [below]{$6$};\n        \\node at (1.8,1.5) [above]{$8$};\n        \\node at (8.5, 3) [right]{$12$};\n        \\node at (3.5, 1.3) [right]{$5$}; \\vspace{1cm}\n      \\end{tikzpicture}\n    \\end{flushright} \n  \\end{multicols}\\vspace{1.5cm}\n\n\nGiven $\\triangle ABP \\sim \\triangle JKP$ as shown below. $AB=5.7$, $AP=7.4$, $BP=3.6$, and $KP=9.0$. Find $JK$.\n  \\begin{flushright}\n  \\begin{tikzpicture}[scale=1.4]\n      \\draw [thick]\n        (-0.25,-1)node[below left]{$B$}--\n        (0.5,2)node[left]{$K$}--\n        (4,0)node[below left]{$J$}--\n        (0,0)node[above left]{$P$}--\n        (-2,0)node[left]{$A$}--cycle;\n    \\end{tikzpicture}\n    \\end{flushright}\n    \\vspace{2cm}\n\n\n\\newpage\n\nThe diagram below shows $\\triangle ABC \\sim \\triangle ADE$, with $\\overline{AEB}$, $\\overline{ADC}$, and $\\angle ACB \\cong \\angle AED$. $AB=8$, $AD=4$, and $DE=2$.\n  \\begin{multicols}{2}\n    \\begin{enumerate}\n      \\item $\\triangle ADE \\rightarrow$ \\rule{2cm}{0.15mm} \\vspace{1cm}\n      \\item $\\overline{AD} \\rightarrow$ \\rule{2cm}{0.15mm} \\vspace{1cm}\n      \\item What is the scale factor?\\\\[0.5cm] $k=$  \\rule{2cm}{0.15mm}\n      \\item What is the length of $\\overline{BC}$?\n    \\end{enumerate}\n      \\begin{tikzpicture}[scale=1.3]\n        \\draw [thick]\n        (0,0) node[above right] {$A$}--\n        (230:6) node[below left] {$B$}--\n        (260:4.75) node[below right] {$C$}--cycle;\n        \\draw [thick]\n        (230:2.375) node[above left] {$E$}--\n        (260:3) node[right] {$D$}--cycle;\n      \\end{tikzpicture}\n    \\end{multicols} \\vspace{2cm}\n    \n\nGiven $\\triangle ABC \\sim \\triangle ADE$ with sides $AC = 9$, $BC = 6$, $AB = 12$, and of $DE = 10$ find the scale factor $k$ and the lengths $AD$ and $AE$. Then find $CD$. \\vspace{1cm}\n  \\begin{multicols}{2}\n    \\begin{enumerate}\n      \\item $k=$ \\vspace{1cm}\n      \\item $AD=$ \\vspace{1cm}\n      \\item $AE=$ \\vspace{1cm}\n      \\item $CD=$\n    \\end{enumerate}\n    \\begin{flushright}\n      \\begin{tikzpicture}[scale=0.7]\n        \\draw [-, thick] (0,0) node[above left]{$A$}--\n        (8,0) node[below]{$E$}--\n        (10,6) node[above left]{$D$}--cycle;\n        \\draw [thick] (7,0)--(5.6,3.36);\n        \\node at (7,0) [below]{$B$};\n        \\node at (5.6,3.36) [above left]{$C$};\n        \\node at (4, 0) [below]{$12$};\n        \\node at (3,2) [above]{$9$};\n        \\node at (9, 3) [right]{$10$};\n        \\node at (5.5, 1.6) [right]{$6$}; \\vspace{1cm}\n      \\end{tikzpicture}\n    \\end{flushright} \n  \\end{multicols}\\vspace{1.5cm}\n\n\n"
    }
   ],
   "source": [
    "for q in problem_df[problem_df.problem_set_ID == 112].sort_index().question:\n",
    "    print(q)"
   ]
  },
  {
   "cell_type": "code",
   "execution_count": 62,
   "metadata": {
    "tags": []
   },
   "outputs": [
    {
     "output_type": "stream",
     "name": "stdout",
     "text": "<class 'list'>\n['\\n', \"  \\\\item Translate $\\\\triangle ABC$ by $(x,y) \\\\rightarrow (x+3, y-5)$. Label the image $\\\\triangle A'B'C'$.\\n\", '  \\\\begin{center}\\n', '      \\\\begin{tikzpicture}[scale=.48]\\n', '      \\\\draw [help lines] (-7,-5) grid (10,6);\\n', '      \\\\draw [thick, <->] (-7.4,0) -- (10.4,0) node [right] {$x$};\\n', '      \\\\draw [thick, <->] (0,-5.4)--(0,6.4) node [above] {$y$};  \\n', '      \\\\draw [thick]\\n', '        (-4,4) node[below left] {$A$}--\\n', '        (3,4) node[above] {$B$}--\\n', '        (1,1) node[below] {$C$}--cycle;  \\n', '    \\\\end{tikzpicture}\\n', '  \\\\end{center}\\n', '\\n', '  \\\\item What transformation maps $\\\\triangle ABC$ onto $\\\\triangle DEC$, shown below? Fully specify the transformation. Complete the table of mappings to  corresponding objects.  \\\\vspace{0.5cm}\\n', '    \\\\begin{multicols}{2}\\n', '      \\\\begin{enumerate}\\n', '        \\\\item $A \\\\rightarrow$ \\\\rule{2cm}{0.15mm}\\n', '        \\\\item $B \\\\rightarrow$ \\\\rule{2cm}{0.15mm}\\n', '        \\\\item $C \\\\rightarrow$ \\\\rule{2cm}{0.15mm}\\n', '        \\\\item $\\\\angle ACB \\\\cong$ \\\\rule{2cm}{0.15mm}\\n', '        \\\\item \\\\rule{2cm}{0.15mm} $\\\\cong \\\\overline {DE}$\\n', '      \\\\end{enumerate}\\n', '      \\\\begin{tikzpicture}[scale=.48]\\n', '        \\\\draw [help lines] (-4,-3) grid (9,8);\\n', '        \\\\draw [thick, <->] (-4.4,0) -- (9.4,0) node [right] {$x$};\\n', '        \\\\draw [thick, <->] (0,-3.4)--(0,8.4) node [above] {$y$};  \\n', '        \\\\draw [thick]\\n', '        (4,-2) node[below left] {$A$}--\\n', '        (7,1) node[right] {$B$}--\\n', '        (1,1) node[below left] {$C$}--cycle;  \\n', '        \\\\draw [thick]\\n', '        (4,4) node[right] {$D$}--\\n', '        (1,7) node[left] {$E$}--\\n', '        (1,1) --cycle; \\n', '      \\\\end{tikzpicture}\\n', '    \\\\end{multicols}\\n', '  \\n', \"  \\\\item Reflect $\\\\triangle TRS$ across the $y$-axis, labeling the image $\\\\triangle T'R'S'$. Check those properties that are maintained by reflection. \\\\vspace{0.5cm}\\n\", '  \\\\begin{multicols}{2}\\n', '    \\\\begin{itemize}\\n', '      \\\\item[$\\\\square$] Length\\n', '      \\\\item[$\\\\square$] Angle measures\\n', '      \\\\item[$\\\\square$] Orientation\\n', '      \\\\item[$\\\\square$] Parallel relationships\\n', '      \\\\item[$\\\\square$] Area\\n', '    \\\\end{itemize}\\n', '    \\\\begin{tikzpicture}[scale=.48]\\n', '      \\\\draw [help lines] (-7,-4) grid (7,3);\\n', '      \\\\draw [thick, <->] (-7.4,0) -- (7.4,0) node [right] {$x$};\\n', '      \\\\draw [thick, <->] (0,-4.4)--(0,3.4) node [above] {$y$};  \\n', '      \\\\draw [thick]\\n', '      (4,-2) node[below left] {$T$}--\\n', '      (5,1) node[right] {$R$}--\\n', '      (2,2) node[below left] {$S$}--cycle;\\n', '    \\\\end{tikzpicture}\\n', '  \\\\end{multicols}\\n', '\\n', '\\\\newpage\\n', '  \\\\item A translation maps triangle $PQR$ onto triangle $STU$. \\\\vspace{0.5cm}\\n', '    \\\\begin{multicols}{2}\\n', '      \\\\begin{tikzpicture}[scale=0.9]\\n', '        \\\\coordinate [label=above left:$P$](A) at (95:2);\\n', '        \\\\coordinate [label=below:$Q$](B) at (0, 0);\\n', '        \\\\coordinate [label=right:$R$](C) at (-10:3.5);\\n', '        \\\\draw [thick] (A)--(B)--(C)--cycle;\\n', '        \\\\draw [thick, xshift=3cm, yshift=1.5cm] (95:2) node[above]{$S$}--\\n', '        (0,0) node[below]{$T$}--\\n', '        (-10:3.5) node[right]{$U$}--cycle;\\n', '      \\\\end{tikzpicture}\\\\\\\\\\n', '      Write each corresponding object.\\n', '      \\\\begin{enumerate}\\n', '        \\\\item $Q \\\\rightarrow$ \\\\rule{2cm}{0.15mm}\\n', '        \\\\item $\\\\angle QRP \\\\cong$ \\\\rule{2cm}{0.15mm}\\n', '        \\\\item \\\\rule{2cm}{0.15mm} $\\\\cong \\\\overline {ST}$\\n', '        \\\\item Justify $\\\\triangle PQR \\\\cong \\\\triangle STU$. Use the words ``rigid motion\".\\n', '      \\\\end{enumerate}\\n', '    \\\\end{multicols}  \\\\vspace{2cm}\\n', '\\n', '    \\\\item Check those transformations that are rigid motions.\\n', '    \\\\begin{itemize}\\n', '      \\\\item[$\\\\square$] Dilation\\n', '      \\\\item[$\\\\square$] Translation\\n', '      \\\\item[$\\\\square$] Reflection\\n', '      \\\\item[$\\\\square$] Rotation\\n', '      \\\\item[$\\\\square$] An isometry\\n', '      \\\\item[$\\\\square$] Horizontal stretch\\n', '    \\\\end{itemize}\\n', '\\n', '  \\\\item A rigid motion maps $\\\\triangle DEF$ onto $\\\\triangle LMN$. Fill in the blanks. \\\\vspace{0.5cm}\\n', '  \\\\begin{multicols}{2}\\n', '    The following is given:\\\\\\\\*[0.5cm]\\n', '    $DE=10$ \\\\\\\\\\n', '    $m\\\\angle E = 40^\\\\circ$ \\\\\\\\\\n', '    $m\\\\angle F = 110^\\\\circ$ \\\\\\\\[0.5cm]\\n', '    \\\\columnbreak\\n', '    \\\\begin{enumerate}\\n', '      \\\\item $D \\\\rightarrow$ \\\\rule{2cm}{0.15mm}\\n', '      \\\\item $LM =$ \\\\rule{2cm}{0.15mm}\\n', '      \\\\item $m\\\\angle M =$ \\\\rule{2cm}{0.15mm}\\n', '      \\\\item $\\\\overline{LM} \\\\cong$ \\\\rule{2cm}{0.15mm}\\n', '    \\\\end{enumerate}\\n', '  \\\\end{multicols} \\n', '\\n', '  \\\\item Given $\\\\triangle JKL \\\\sim \\\\triangle MNO$. $m\\\\angle K = 40^\\\\circ$ and $m\\\\angle M = 100^\\\\circ$.\\\\\\\\\\n', '    Find the measure of $\\\\angle J$. \\\\vspace{3cm}\\n', '\\n', '\\\\end{enumerate}\\n']\n"
    }
   ],
   "source": [
    "body = pset_df.loc[147, 'body']\n",
    "print(type(body))\n",
    "print(body)"
   ]
  },
  {
   "cell_type": "code",
   "execution_count": 65,
   "metadata": {},
   "outputs": [],
   "source": [
    "spacing = []\n",
    "nested = False\n",
    "problem = []\n",
    "problems = []\n",
    "line = body.pop(0)"
   ]
  },
  {
   "cell_type": "code",
   "execution_count": 66,
   "metadata": {
    "tags": []
   },
   "outputs": [],
   "source": [
    "while body:\n",
    "    if r'\\subsection' in line:\n",
    "        spacing.append(line)\n",
    "        problems.append(problem)\n",
    "        problem = []\n",
    "    elif r'\\subsubsection' in line:\n",
    "        while r'\\item' not in line and body:\n",
    "            line = body.pop(0)\n",
    "        problem = []\n",
    "        problem.append(line)\n",
    "    elif r'\\newpage' in line: #newlines are saved as problems\n",
    "        spacing.append(line)\n",
    "        problems.append(problem)\n",
    "        problem = []\n",
    "        problem.append(line)\n",
    "        problems.append(problem)\n",
    "        problem = []\n",
    "    elif r'\\item' in line and not nested:\n",
    "        problems.append(problem)\n",
    "        problem = []\n",
    "        problem.append(line)\n",
    "    elif r'\\begin{enumerate}' in line:\n",
    "        nested = True\n",
    "        problem.append(line)\n",
    "    elif r'\\end{enumerate}' in line:\n",
    "        if nested:\n",
    "            nested = False\n",
    "            problem.append(line)\n",
    "        else:\n",
    "            spacing.append(line)\n",
    "            problems.append(problem)\n",
    "            problem = []\n",
    "    else:\n",
    "        problem.append(line)\n",
    "    if body:\n",
    "        line = body.pop(0)"
   ]
  },
  {
   "cell_type": "code",
   "execution_count": 67,
   "metadata": {
    "tags": []
   },
   "outputs": [
    {
     "output_type": "execute_result",
     "data": {
      "text/plain": "[['  \\\\item Given $\\\\overline{ABC}$, with $AB=2x-1$, $BC=3x+3$, and $AC=17$. Find $x$. \\\\vspace{1cm}\\n',\n  '  \\\\begin{flushright}\\n',\n  '    \\\\begin{tikzpicture}\\n',\n  '      \\\\draw [-, thick] (0,0) node[below]{$A$}--\\n',\n  '      (2,0) node[below]{$B$}--\\n',\n  '      (6,0) node[below]{$C$};\\n',\n  '      \\\\draw [fill] (0,0) circle [radius=0.05];\\n',\n  '      \\\\draw [fill] (2,0) circle [radius=0.05];\\n',\n  '      \\\\draw [fill] (6,0) circle [radius=0.05];\\n',\n  '    \\\\end{tikzpicture}\\n',\n  '    \\\\end{flushright} \\\\vspace{1cm}\\n',\n  '  \\n'],\n ['  \\\\item Given $m\\\\angle 3 = x+30$ and $m\\\\angle 5 = 4x-20$. Find $x$. \\n',\n  '  \\\\begin{flushright}\\n',\n  '  \\\\begin{tikzpicture}\\n',\n  '    \\\\draw [<->, thick] (3,2)--(8,2);\\n',\n  '    \\\\draw [<->, thick] (2,0)--(7,0);\\n',\n  '    \\\\draw [<->, thick] (4,-1)--(5.5,3);\\n',\n  '    \\\\node at (4.5,0.3) [left]{$5$};\\n',\n  '    \\\\node at (4.5,0.3) [right]{$6$};\\n',\n  '    \\\\node at (4.3,-0.3) [left]{$7$};\\n',\n  '    \\\\node at (4.3,-0.3) [right]{$8$};\\n',\n  '    \\\\node at (5.2,2) [above left]{$1$};\\n',\n  '    \\\\node at (5.2,2) [above right]{$2$};\\n',\n  '    \\\\node at (5,2) [below left]{$3$};\\n',\n  '    \\\\node at (5,2) [below right]{$4$};\\n',\n  '  \\\\end{tikzpicture}\\n',\n  '  \\\\end{flushright} \\\\vspace{0.5cm}\\n',\n  '\\n'],\n ['  \\\\item In the diagram below $m\\\\angle AOB = 6x+5$ and $m\\\\angle COB = 8x+15$. Find $x$. %\\\\vspace{0.25cm}\\n',\n  '  \\\\begin{flushright}\\n',\n  '  \\\\begin{tikzpicture}[scale=0.7, rotate=30]\\n',\n  '  \\\\draw [<->, thick] (-25:5)--(0,0)--(155:5);\\n',\n  '  \\\\draw [<->, thick] (-5,0)--(5,0);\\n',\n  '  \\\\draw [->, thick] (0,0)--(0,4);\\n',\n  '  \\\\draw (0,0)++(0.3,0)--++(0,0.3)--+(-0.3,0);\\n',\n  '  %\\\\draw [fill] (-1,2.5) circle [radius=0.05] node[left ]{$B$};\\n',\n  '  \\\\draw [fill] (155:3) circle [radius=0.05] node[below left]{$B$};\\n',\n  '  \\\\draw [fill] (-4,0) circle [radius=0.05] node[below]{$A$}; \\n',\n  '  \\\\draw [fill] (0,0) circle [radius=0.05] node[below]{$O$};\\n',\n  '  \\\\draw [fill] (0,3) circle [radius=0.05] node[left]{$C$};\\n',\n  '  \\\\draw [fill] (4,0) circle [radius=0.05] node[below]{$D$};\\n',\n  '  \\\\draw [fill] (-25:2) circle [radius=0.05] node[below]{$E$};\\n',\n  '  \\\\end{tikzpicture}\\n',\n  '  \\\\end{flushright}\\n',\n  '\\n'],\n ['  \\\\item The point $K$ is the midpoint of $\\\\overline{JL}$, $JK=3x+15$, and $JL=9x+9$. Find $x$.  \\\\vspace{1cm}\\n',\n  '  \\\\begin{flushright}\\n',\n  '    \\\\begin{tikzpicture}\\n',\n  '      \\\\draw [-, thick] (0,0) node[below]{$J$}--\\n',\n  '      (3,0) node[below]{$K$}--\\n',\n  '      (6,0) node[below]{$L$};\\n',\n  '      \\\\draw [fill] (0,0) circle [radius=0.05];\\n',\n  '      \\\\draw [fill] (3,0) circle [radius=0.05];\\n',\n  '      \\\\draw [fill] (6,0) circle [radius=0.05];\\n',\n  '    \\\\end{tikzpicture}\\n',\n  '    \\\\end{flushright} \\\\vspace{2cm}\\n',\n  '\\n'],\n ['\\\\newpage\\n'],\n [],\n [\"    \\\\item On the graph below, $\\\\overleftrightarrow{AB}$ is shown with A(0, 4), B(3,0). A dilation of $k=2$ centered at the origin maps $\\\\overleftrightarrow{AB} \\\\rightarrow \\\\overleftrightarrow{A'B'}$.\\\\\\\\*[0.5cm]\\n\",\n  \"  Draw $\\\\overleftrightarrow{A'B'}$ on the graph, labeling $A'$ and $B'$.\\n\",\n  '    \\\\begin{center}\\n',\n  '      \\\\begin{tikzpicture}[scale=.635]\\n',\n  '        \\\\draw [help lines] (-10,-10) grid (10,10);\\n',\n  '        \\\\draw [thick, ->] (-10.2,0) -- (10.4,0) node [below right] {$x$};\\n',\n  '        \\\\draw [thick, ->] (0,-10.2)--(0,10.4) node [left] {$y$};\\n',\n  '        \\\\draw [thick, <->] (-3,8)--(6,-4);\\n',\n  '        \\\\draw [fill] (0, 4) circle[radius = 0.1] node[above right]{$A$};\\n',\n  '        \\\\draw [fill] (3, 0) circle[radius = 0.1] node[above right]{$B$};\\n',\n  '      \\\\end{tikzpicture}\\n',\n  '    \\\\end{center}\\n',\n  '      \\\\vspace{1cm}\\n',\n  '    \\\\begin{enumerate}\\n',\n  '      \\\\item Write down the equation $\\\\overleftrightarrow{AB}$ \\\\vspace{2cm}\\n',\n  \"      \\\\item Write down the equation $\\\\overleftrightarrow{A'B'}$\\n\",\n  '    \\\\end{enumerate}\\n',\n  '\\n'],\n ['\\\\newpage\\n'],\n ['  \\n'],\n ['  \\\\item Triangle $ABC$ is dilated with a scale factor of $k = 1.25$ centered at $A$, yielding $\\\\triangle ADE$, as shown. Given $AB=8$, $BC=12$, and $AC=16$. \\\\\\\\[0.25cm] Find $AD$, $DE$, and $CE$.\\n',\n  '  \\\\begin{flushright}\\n',\n  '      \\\\begin{tikzpicture}[scale=0.5]\\n',\n  '        \\\\draw [thick]\\n',\n  '        (0,0)node[left]{$B$}--\\n',\n  '        (8,0)node[above right]{$C$}--\\n',\n  '        (2,6)node[left]{$A$}--cycle;\\n',\n  '        \\\\draw [thick]\\n',\n  '        (0,0)--\\n',\n  '        (-1,-3)node[left]{$D$}--\\n',\n  '        (11,-3)node[above right]{$E$}--(8,0);\\n',\n  '        \\\\node at (4,0)[below]{$12$};\\n',\n  '        \\\\node at (5.3, 3)[right]{$16$};\\n',\n  '        \\\\node at (0.3, 2.8)[above]{$8$};\\n',\n  '      \\\\end{tikzpicture}\\n',\n  '    \\\\end{flushright} \\\\vspace{2.5cm}\\n',\n  '\\n'],\n ['  \\\\item Find the image of $P(3,1)$ after the translation $(x,y) \\\\rightarrow (x-1,y+12)$.  \\\\vspace{2.5cm}\\n',\n  '  \\n',\n  '  \\\\begin{multicols}{2}\\n'],\n ['    [\\\\item A translation maps triangle $ABC$ onto triangle $PQR$.] \\\\vspace{0.5cm}\\n',\n  '      \\\\begin{tikzpicture}[scale=0.9]\\n',\n  '        \\\\coordinate [label=above left:$A$](A) at (95:2);\\n',\n  '        \\\\coordinate [label=below:$B$](B) at (0, 0);\\n',\n  '        \\\\coordinate [label=right:$C$](C) at (25:3.5);\\n',\n  '        \\\\draw [thick] (A)--(B)--(C)--cycle;\\n',\n  '  \\n',\n  '        \\\\draw [thick, xshift=3cm, yshift=-2cm] (95:2) node[left]{$P$}--\\n',\n  '        (0,0) node[below]{$Q$}--\\n',\n  '        (25:3.5) node[right]{$R$}--cycle;\\n',\n  '      \\\\end{tikzpicture}\\\\\\\\\\n',\n  '      Write each corresponding object.\\n',\n  '      \\\\begin{enumerate}\\n',\n  '        \\\\item $B \\\\rightarrow$ \\\\rule{2cm}{0.15mm}\\n',\n  '        \\\\item $\\\\angle C \\\\cong$ \\\\rule{2cm}{0.15mm}\\n',\n  '        \\\\item $\\\\overline {AC} \\\\cong$ \\\\rule{2cm}{0.15mm} \\n',\n  '        \\\\item \\\\rule{2cm}{0.15mm} $\\\\cong \\\\overline {QR}$\\n',\n  '      \\\\end{enumerate}\\n',\n  '    \\\\end{multicols} \\n',\n  '\\n'],\n ['\\\\newpage\\n'],\n ['  \\n'],\n ['  \\\\item A dilation centered at $A$ maps $\\\\triangle ABC \\\\rightarrow \\\\triangle ADE$. Given the sides of the preimage, $AC = 4$, $BC = 3$, $AB = 5$, and of $DE = 9$ find the scale factor $k$ and the lengths $AD$ and $AE$.\\n',\n  '    \\\\begin{flushright}\\n',\n  '      \\\\begin{tikzpicture}[scale=0.6]\\n',\n  '        \\\\draw [-, thick] (0,0) node[above left]{$A$}--\\n',\n  '        (10,0) node[below]{$E$}--\\n',\n  '        (10,7.5) node[above left]{$D$}--cycle;\\n',\n  '        \\\\draw [thick] (4,0)--(4,3);\\n',\n  '        \\\\node at (4,0) [below]{$C$};\\n',\n  '        \\\\node at (4,3) [above left]{$B$};\\n',\n  '        \\\\node at (2, 0) [below]{$4$};\\n',\n  '        \\\\node at (2, 2) [above]{$5$};\\n',\n  '        \\\\node at (10, 4) [right]{$9$};\\n',\n  '        \\\\node at (4, 1.5) [right]{$3$};\\n',\n  '      \\\\end{tikzpicture}\\n',\n  '    \\\\end{flushright} \\\\vspace{0.5cm}\\n',\n  '\\n'],\n ['    \\\\item Given $\\\\triangle ABC \\\\sim \\\\triangle DEF$. $m\\\\angle A = 40^\\\\circ$ and $m\\\\angle E = 35^\\\\circ$. Find the measure of $\\\\angle C$. \\\\\\\\*[0.25cm] (\\\\emph{hint: the order of corresponding letters match}) \\\\vspace{2.5cm}\\n',\n  '    \\n'],\n ['    \\\\item Translate $\\\\triangle ABC$ by $(x,y) \\\\rightarrow (x-4, y+2)$. Make a table of the coordinates and plot and label the image on the axes.\\n',\n  '    \\\\begin{flushright}\\n',\n  '        \\\\begin{tikzpicture}[scale=.48]\\n',\n  '        \\\\draw [help lines] (-7,-4) grid (10,9);\\n',\n  '        \\\\draw [thick, <->] (-7.4,0) -- (10.4,0) node [right] {$x$};\\n',\n  '        \\\\draw [thick, <->] (0,-4.4)--(0,9.4) node [above] {$y$};  \\n',\n  '        \\\\draw [thick]\\n',\n  '          (1,2) node[below left] {$A$}--\\n',\n  '          (4,5) node[above left] {$B$}--\\n',\n  '          (5,1) node[below] {$C$}--cycle;  \\n',\n  '      \\\\end{tikzpicture}\\n',\n  '    \\\\end{flushright}\\n',\n  '     \\n'],\n ['\\\\newpage\\n'],\n [],\n ['\\\\item Solve for $y$, then graph and label, marking the intersection as an ordered pair.\\n',\n  '        \\\\vspace{0.25cm}\\n',\n  '        \\\\begin{multicols}{2}\\n',\n  '          $x + 2y =  4$\\\\\\\\\\n',\n  '          $\\\\displaystyle \\\\frac{1}{2} x -y = 4$\\n',\n  '        \\\\end{multicols}\\n',\n  '        \\\\vspace{4cm}\\n',\n  '\\n',\n  '    \\\\begin{center} %4 quadrant regents grid w T-Chart\\n',\n  '    \\\\begin{tikzpicture}[scale=.635]\\n',\n  '      \\\\draw [help lines] (-9,-9) grid (9,9);\\n',\n  '      \\\\draw [thick, ->] (-9.2,0) -- (9.4,0) node [below right] {$x$};\\n',\n  '      \\\\draw [thick, ->] (0,-9.2)--(0,9.4) node [left] {$y$};\\n',\n  '    \\\\end{tikzpicture}\\n',\n  '    \\\\end{center}\\n',\n  '\\n'],\n ['\\\\newpage\\n'],\n ['    \\n'],\n ['  \\\\item Given two parallel lines and a transversal, as shown below.\\n',\n  '  \\\\begin{center}\\n',\n  '  \\\\begin{tikzpicture}\\n',\n  '    \\\\draw [<->, thick] (1,2)--(9,2);\\n',\n  '    \\\\draw [<->, thick] (0,0)--(8,0);\\n',\n  '    \\\\draw [<->, thick] (4,-1)--(5.5,3);\\n',\n  '    \\\\node at (4.5,0.3) [left]{$5$};\\n',\n  '    \\\\node at (4.5,0.3) [right]{$6$};\\n',\n  '    \\\\node at (4.3,-0.3) [left]{$7$};\\n',\n  '    \\\\node at (4.3,-0.3) [right]{$8$};\\n',\n  '    \\\\node at (5.2,2) [above left]{$1$};\\n',\n  '    \\\\node at (5.2,2) [above right]{$2$};\\n',\n  '    \\\\node at (5,2) [below left]{$3$};\\n',\n  '    \\\\node at (5,2) [below right]{$4$};\\n',\n  '  \\\\end{tikzpicture}\\n',\n  '  \\\\end{center}\\n',\n  '  \\\\begin{enumerate}\\n',\n  '    \\\\item State the angle corresponding with $\\\\angle 1$. \\\\vspace{0.5cm}\\n',\n  '    \\\\item What theorem would justify $m\\\\angle 4 + m\\\\angle 6 =180^\\\\circ$? \\\\rule{5cm}{0.15mm} \\\\vspace{0.5cm}\\n',\n  '    \\\\item What theorem would justify $\\\\angle 3 \\\\cong \\\\angle 6$? \\\\rule{7cm}{0.15mm} \\\\vspace{0.5cm}\\n',\n  '    \\\\item Given $m\\\\angle 1 = 108^\\\\circ$ and $m\\\\angle 8 = (4x-16)^\\\\circ$. Find $x$. \\\\vspace{4.5cm}\\n',\n  '  \\\\end{enumerate}\\n',\n  '\\n'],\n [\"  \\\\item The side $\\\\overline{AB}$ of triangle $ABC$ is extended and an altitude to the vertex $C$ is drawn, as shown below. The triangle's height is $h=7.2$ and its base measures $AB=12.4$. Find the area of the triangle.\\n\",\n  '    \\\\begin{flushright}\\n',\n  '      \\\\begin{tikzpicture}[scale=0.8]\\n',\n  '        \\\\draw [thick]\\n',\n  '          (0,0)node[below]{$A$}--\\n',\n  '          (6,0)node[below]{$B$}--\\n',\n  '          (7,4)node[above]{$C$} --cycle;\\n',\n  '      \\\\draw [dashed] (7,0)--(7,4);\\n',\n  '      \\\\draw [dashed, ->] (6,0)--(7.5,0);\\n',\n  '      \\\\draw (7,0)++(-0.3,0)--++(0,0.3)--+(0.3,0);\\n',\n  '      \\\\node at (7,2.2)[right]{$h=7.2$};\\n',\n  '      \\\\node at (3,0)[below]{$12.4$};\\n',\n  '      \\\\end{tikzpicture}\\n',\n  '    \\\\end{flushright}\\n',\n  '\\n'],\n ['\\\\newpage   \\n'],\n ['  \\\\item The point $Q$ is the midpoint of $\\\\overline{PR}$, $PQ=11$, and $QR=2x+1$. Find ${x}$.\\n',\n  '  \\\\vspace{4cm}\\n',\n  '  \\n'],\n ['  \\\\item Given $\\\\overline{PQR}$, with $PQ=3x-7$, $QR=x+3$, and $PR=12$. Find ${x}$.\\n',\n  '  \\\\vspace{4cm}\\n',\n  '  \\n'],\n ['  \\\\item Given that $Q$ bisects $\\\\overline{PR}$. $PQ=2x-5$, $PR=42$. Find ${x}$.\\n',\n  '  \\\\vspace{4cm}\\n',\n  '  \\n'],\n ['  \\\\item The points $P$, $Q$, and $R$ are collinear, with $PQ=x+4$ and $PR=27$. $\\\\overline{QR}$ is twice the length of $\\\\overline{PQ}$. Find ${x}$.\\n',\n  '  \\n',\n  '  \\n',\n  '\\n'],\n ['\\\\newpage\\n'],\n [],\n ['    \\\\item Given isosceles $\\\\triangle TUV$ with $\\\\overline{TU} \\\\cong \\\\overline{UV}$ and $m\\\\angle U = 50$. Mark the triangle in the diagram and find $m\\\\angle U$ and $m\\\\angle V$.\\n',\n  '  \\\\begin{flushright}\\n',\n  '    (\\\\emph{the diagram is not to scale})\\\\\\\\\\n',\n  '  \\\\begin{tikzpicture}[scale=0.8]\\n',\n  '    \\\\draw [thick](0,0)--(4,0)--(2,3.5)--(0,0);\\n',\n  '    \\\\node at (0,0) [left]{$T$};\\n',\n  '    \\\\node at (4,0) [right]{$U$};\\n',\n  '    \\\\node at (2,3.5) [right]{$V$};\\n',\n  '  \\\\end{tikzpicture}\\n',\n  '  \\\\end{flushright}\\n',\n  '\\n'],\n ['  \\\\item The points $R$, $S$, and $T$ are collinear, with $RS=4x-8$, $ST=21$, and $RT=6x-1$. \\\\\\\\*[0.25cm]\\n',\n  '  Mark the diagram and find ${RT}$. \\\\vspace{0.5cm}\\n',\n  '  \\\\begin{flushright}\\n',\n  '    \\\\begin{tikzpicture}\\n',\n  '      \\\\draw [-, thick] (0,0)--(6,0);\\n',\n  '      \\\\draw [fill] (0,0) circle [radius=0.05] node[below]{$R$};\\n',\n  '      \\\\draw [fill] (2.9,0) circle [radius=0.05] node[below]{$S$};\\n',\n  '      \\\\draw [fill] (6,0) circle [radius=0.05] node[below]{$T$};\\n',\n  '    \\\\end{tikzpicture}\\n',\n  '    \\\\end{flushright} \\\\vspace{4cm}\\n',\n  '\\n'],\n [\"  \\\\item A translation maps $X(2,-7) \\\\rightarrow X'(3,5)$. \\n\",\n  '    \\\\begin{enumerate}\\n',\n  '      \\\\item What translation was applied (be specific)?  \\\\vspace{2cm}\\n',\n  '      \\\\item What is the image of $Y(1,3)$ under the same translation?\\n',\n  '      \\\\end{enumerate} \\\\vspace{2cm}\\n',\n  '  \\n'],\n ['\\\\newpage\\n'],\n [' \\n'],\n ['  \\\\item Given $\\\\triangle ABC$ point $D$ on $\\\\overline{AB}$ and point $E$ on $\\\\overline{BC}$ such that $\\\\triangle ABC \\\\sim \\\\triangle DBE$. \\\\\\\\*[0.25cm]\\n',\n  '  Given $AB=15$, $BC=10$, and $AD=9$. Mark the lengths on the triangle, showing $DB$ as well. \\\\\\\\*[0.25cm] Find the length of $\\\\overline{BE}$.\\n',\n  '    \\\\begin{flushright}\\n',\n  '      \\\\begin{tikzpicture}[scale=0.6]\\n',\n  '        \\\\coordinate [label=left:$A$](A) at (-12,6);\\n',\n  '        \\\\coordinate [label=below:$B$](B) at (0, 0);\\n',\n  '        \\\\coordinate [label=below left:$C$](C) at (-9.6,0);\\n',\n  '        \\\\coordinate [label=above:$D$](D) at (-5, 2.5);\\n',\n  '        \\\\coordinate [label=below:$E$](E) at (-4,0);\\n',\n  '        \\\\draw [thick] (A)--(B)--(C)--cycle;\\n',\n  '        \\\\draw [thick] (A)--(C);\\n',\n  '        \\\\draw [thick] (D)--(E);\\n',\n  '      \\\\end{tikzpicture}\\n',\n  '    \\\\end{flushright} \\\\vspace{3cm}\\n',\n  '\\n'],\n ['  \\\\item $\\\\triangle ABC$ is shown with vertices $A(2,-3)$, $B(-2,3)$, and $C(3,4)$. Translate the triangle to the left three units and up two units. Write down its coordinates in a table and plot and label it on the graph.\\n',\n  '    \\\\begin{flushright}\\n',\n  '      \\\\begin{tikzpicture}[scale=.48]\\n',\n  '        \\\\draw [help lines] (-8,-8) grid (8,8);\\n',\n  '        \\\\draw [thick, <->] (-8.4,0) -- (8.4,0) node [below right] {$x$};\\n',\n  '        \\\\draw [thick, <->] (0,-8.4)--(0,8.4) node [left] {$y$};\\n',\n  '        \\\\draw [thick] (2,-3) node[left] {$A$}--\\n',\n  '          (-2,3) node[left] {$B$}--\\n',\n  '          (3,4) node[above right] {$C$}--\\n',\n  '          cycle;\\n',\n  '      \\\\end{tikzpicture}\\n',\n  '      \\\\end{flushright}\\n',\n  '\\n'],\n ['\\\\newpage\\n'],\n [],\n ['  \\\\item The shape shown below is composed of straight lines and right angles, with some lengths as marked. Find the area of the figure. (the figure is not drawn to scale)\\n',\n  '  \\\\begin{flushleft}\\n',\n  '  \\\\begin{tikzpicture}[scale=0.5]\\n',\n  '  \\\\draw [-, thick] (0,0)--(13,0)--(13,3)--(9,3)--(9,9)--\\n',\n  '  (0,9)--(0,7)--(4,7)--(4,3)--(0,3)--cycle;\\n',\n  '  %\\\\draw [fill] (0,0) circle [radius=0.05] node[left]{$A$};\\n',\n  '  %\\\\draw [fill] (7,0) circle [radius=0.05] node[right]{$B$};\\n',\n  '  %\\\\draw [fill] (7,2) circle [radius=0.05] node[right]{$C$};\\n',\n  '  %\\\\draw [fill] (0,2) circle [radius=0.05] node[left]{$D$};\\n',\n  '  \\\\node at (4.5, 5){4};\\n',\n  '  \\\\node at (2, 2.5){4};\\n',\n  '  \\\\node at (8.5, 6){6};\\n',\n  '  \\\\node at (11, 2.5){4};\\n',\n  '  \\\\node at (6.5, -0.5){13};\\n',\n  '  \\\\node at (13.5, 1.5){3};\\n',\n  '  %\\\\node at (13.5, 8){2};\\n',\n  '  \\\\end{tikzpicture}\\n',\n  '  \\\\end{flushleft} \\\\vspace{3cm}\\n',\n  '\\n'],\n ['  \\\\item Given isosceles $\\\\triangle RSU$ with $\\\\overline{US} \\\\cong \\\\overline{RS}$. If $m\\\\angle UST=150$ find $m\\\\angle U$.\\n',\n  '  \\\\begin{flushright}\\n',\n  '  \\\\begin{tikzpicture}[scale=0.8]\\n',\n  '    %\\\\draw [->, thick] (0,0)--(5,5);\\n',\n  '    \\\\draw [<-, thick] (8,0)--\\n',\n  '      (7,0) node[below]{$T$}--\\n',\n  '      (0.5,0) node[below]{$R$}--\\n',\n  '      (2,3) node[above]{$U$}--\\n',\n  '      (5,0) node[below]{$S$};\\n',\n  '  \\\\end{tikzpicture}\\n',\n  '  \\\\end{flushright} \\\\vspace{1cm}\\n',\n  '\\n'],\n ['\\\\newpage\\n'],\n [],\n [\"  \\\\item One side of the $\\\\triangle ABC$ has a length $AB=15$. The triangle's area is $71 \\\\frac{1}{4}$. Find the length of the altitude $h$ of the triangle.\\\\\\\\[0.5cm]\\n\",\n  '  \\\\begin{tikzpicture}[scale=1, rotate=-15]\\n',\n  '  \\\\draw [thick]\\n',\n  '  (2,0)node[below left]{$A$}--\\n',\n  '  (8,0)node[below]{$B$}--\\n',\n  '  (5,3)node[above]{$C$} --(2,0);\\n',\n  '  \\\\draw [dashed] (5,0)--(5,3);\\n',\n  '  \\\\draw (5,0)++(0.3,0)--++(0,0.3)--+(-0.3,0);\\n',\n  '  \\\\node at (5.1,0.9)[right]{$h=?$};\\n',\n  '  \\\\node at (5,0)[below left]{$15$};\\n',\n  '  \\\\end{tikzpicture} \\\\vspace{3.0cm}\\n',\n  '\\n'],\n ['  \\\\item The point $K$ is the midpoint of $\\\\overline{JL}$, $JK=3x+11$, and $JL=9x+1$. Mark the line on the right and find ${JK}$.  \\\\vspace{1cm}\\n',\n  '  \\\\begin{flushright}\\n',\n  '    \\\\begin{tikzpicture}\\n',\n  '      \\\\draw [-, thick] (0,0)--(6,0);\\n',\n  '      \\\\draw [fill] (0,0) circle [radius=0.05];\\n',\n  '      \\\\draw [fill] (6,0) circle [radius=0.05];\\n',\n  '    \\\\end{tikzpicture}\\n',\n  '    \\\\end{flushright} \\\\vspace{2cm}\\n',\n  '\\n',\n  '\\n']]"
     },
     "metadata": {},
     "execution_count": 67
    }
   ],
   "source": [
    "problems.append(problem)\n",
    "problems"
   ]
  },
  {
   "cell_type": "code",
   "execution_count": 63,
   "metadata": {},
   "outputs": [
    {
     "output_type": "execute_result",
     "data": {
      "text/plain": "[['  \\\\item In the following two problems, solve for the value of $x$.\\n',\n  '  \\\\begin{multicols}{2}\\n',\n  '    \\\\begin{enumerate}\\n',\n  '      \\\\item   $x-5=12$ \\\\vspace{6cm}\\n',\n  '      \\\\item   $13-x=-3$ \\\\vspace{6cm}\\n',\n  '    \\\\end{enumerate}\\n',\n  '  \\\\end{multicols}\\n',\n  '    \\\\vspace{3cm}\\n',\n  '\\n'],\n ['  \\\\item Given $g(x)=x^2-5x+15$. Simplify $g(0)$. \\\\vspace{3cm}\\n'],\n ['  \\\\item Given $f(x)=3x-2$. Solve for $x$ such that for $f(x)=13$. \\\\vspace{4cm}\\n'],\n ['  \\\\item Given $h(x)=x^2-x-12$. Solve $h(x)=0$. \\\\vspace{5cm}\\n',\n  '  \\n',\n  '\\n'],\n ['  \\\\item Simplify each expression. (Leave it in radical form if necessary, not a decimal.)\\n',\n  '    \\\\begin{enumerate}\\n',\n  '      \\\\begin{multicols}{2}\\n',\n  '      \\\\item   $\\\\sqrt{25}$ \\\\vspace{1.5cm}\\n',\n  '      \\\\item   $\\\\sqrt{24}$ \\\\vspace{1.5cm}\\n',\n  '      \\\\end{multicols}\\n',\n  '    \\\\end{enumerate}\\n',\n  '    \\\\vspace{0.5cm}\\n',\n  '\\n'],\n ['\\\\newpage\\n'],\n ['\\\\item The line $l$ has the equation $y=\\\\frac{3}{2}x-1$. \\n',\n  '\\\\begin{enumerate}\\n',\n  \"  \\\\item Write down it's slope. $m=$\\n\",\n  '  \\\\vspace{0.5cm}\\n',\n  \"  \\\\item Write down it's $y$-intercept. $b=$\\n\",\n  '  \\\\vspace{0.5cm}\\n',\n  '  \\\\item Is the point $(4, 4)$ on the line $l$? Justify your answer.\\n',\n  '\\\\end{enumerate}\\n',\n  '\\\\vspace{2.5cm}\\n',\n  '\\n'],\n ['\\\\item On the grid below, graph the line $y=-\\\\frac{1}{2}x+2$.\\n',\n  '  \\\\vspace{0.5cm}\\n',\n  '\\n',\n  '    \\\\begin{center} %4 quadrant regents grid w T-Chart\\n',\n  '    \\\\begin{tikzpicture}[scale=.635]\\n',\n  '      \\\\draw [help lines] (-10,-10) grid (10,10);\\n',\n  '      \\\\draw [thick, ->] (-10.2,0) -- (10.4,0) node [below right] {$x$};\\n',\n  '      \\\\draw [thick, ->] (0,-10.2)--(0,10.4) node [left] {$y$};\\n',\n  '    \\\\end{tikzpicture}\\n',\n  '    \\\\end{center}\\n',\n  '\\n']]"
     },
     "metadata": {},
     "execution_count": 63
    }
   ],
   "source": [
    "newline = ['\\n', '\\n']\n",
    "problems.remove(newline)\n",
    "problems"
   ]
  },
  {
   "cell_type": "code",
   "execution_count": 28,
   "metadata": {},
   "outputs": [
    {
     "output_type": "execute_result",
     "data": {
      "text/plain": "'  \\\\newpage\\n'"
     },
     "metadata": {},
     "execution_count": 28
    }
   ],
   "source": [
    "p_df.loc[1240].question #561, 1240"
   ]
  },
  {
   "cell_type": "code",
   "execution_count": 36,
   "metadata": {
    "tags": []
   },
   "outputs": [
    {
     "output_type": "execute_result",
     "data": {
      "text/plain": "            problem_set_ID    question  q_len                          file\nproblem_ID                                                                 \n884                   62.0  \\newpage\\n      9   5-4DN-similarity-ratios.tex\n1621                 109.0  \\newpage\\n      9            7-4bCW_Tangent.tex\n876                   61.0  \\newpage\\n      9          5-3DN_area-units.tex\n1606                 107.0  \\newpage\\n      9       7-3HW_AA-similarity.tex\n2531                 162.0  \\newpage\\n      9  9-8bDN-Similarity-review.tex",
      "text/html": "<div>\n<style scoped>\n    .dataframe tbody tr th:only-of-type {\n        vertical-align: middle;\n    }\n\n    .dataframe tbody tr th {\n        vertical-align: top;\n    }\n\n    .dataframe thead th {\n        text-align: right;\n    }\n</style>\n<table border=\"1\" class=\"dataframe\">\n  <thead>\n    <tr style=\"text-align: right;\">\n      <th></th>\n      <th>problem_set_ID</th>\n      <th>question</th>\n      <th>q_len</th>\n      <th>file</th>\n    </tr>\n    <tr>\n      <th>problem_ID</th>\n      <th></th>\n      <th></th>\n      <th></th>\n      <th></th>\n    </tr>\n  </thead>\n  <tbody>\n    <tr>\n      <th>884</th>\n      <td>62.0</td>\n      <td>\\newpage\\n</td>\n      <td>9</td>\n      <td>5-4DN-similarity-ratios.tex</td>\n    </tr>\n    <tr>\n      <th>1621</th>\n      <td>109.0</td>\n      <td>\\newpage\\n</td>\n      <td>9</td>\n      <td>7-4bCW_Tangent.tex</td>\n    </tr>\n    <tr>\n      <th>876</th>\n      <td>61.0</td>\n      <td>\\newpage\\n</td>\n      <td>9</td>\n      <td>5-3DN_area-units.tex</td>\n    </tr>\n    <tr>\n      <th>1606</th>\n      <td>107.0</td>\n      <td>\\newpage\\n</td>\n      <td>9</td>\n      <td>7-3HW_AA-similarity.tex</td>\n    </tr>\n    <tr>\n      <th>2531</th>\n      <td>162.0</td>\n      <td>\\newpage\\n</td>\n      <td>9</td>\n      <td>9-8bDN-Similarity-review.tex</td>\n    </tr>\n  </tbody>\n</table>\n</div>"
     },
     "metadata": {},
     "execution_count": 36
    }
   ],
   "source": [
    "problem_df.drop(problem_df.iloc[:57].index, inplace=True) #careful to check rows before deleting (only once)"
   ]
  },
  {
   "cell_type": "code",
   "execution_count": 73,
   "metadata": {
    "tags": []
   },
   "outputs": [],
   "source": [
    "newpage_df = problem_df[problem_df.q_len < 13].copy()\n",
    "problem_df = problem_df[problem_df.q_len > 12]\n",
    "#newpage_df = newpage_df.append(problem_df[problem_df.q_len == 10])"
   ]
  },
  {
   "cell_type": "code",
   "execution_count": 77,
   "metadata": {
    "tags": []
   },
   "outputs": [
    {
     "output_type": "stream",
     "name": "stdout",
     "text": "Int64Index([1221, 2578,  334,  121,  282,  288, 1904,  316, 1750, 1930,  295,\n             329,  160,  430,   67,  452, 2541,   89,  368,   95],\n           dtype='int64', name='problem_ID')\n"
    }
   ],
   "source": [
    "len13 = problem_df[problem_df.q_len == 13].index\n",
    "print(len13)"
   ]
  },
  {
   "cell_type": "code",
   "execution_count": 80,
   "metadata": {},
   "outputs": [
    {
     "output_type": "execute_result",
     "data": {
      "text/plain": "            problem_set_ID        question  q_len  \\\nproblem_ID                                          \n929                   68.0      \\newpage\\n     12   \n917                   67.0      \\newpage\\n     12   \n1221                  79.0      \\newpage\\n     13   \n2578                 164.0  \\newpage    \\n     13   \n121                   12.0      \\newpage\\n     13   \n282                   22.0      \\newpage\\n     13   \n288                   23.0      \\newpage\\n     13   \n1904                 129.0  \\newpage    \\n     13   \n316                   27.0      \\newpage\\n     13   \n1750                 116.0  \\newpage    \\n     13   \n1930                 130.0  \\newpage    \\n     13   \n295                   24.0      \\newpage\\n     13   \n329                   28.0     \\newpage \\n     13   \n160                   14.0      \\newpage\\n     13   \n430                   39.0      \\newpage\\n     13   \n67                     7.0      \\newpage\\n     13   \n452                   42.0      \\newpage\\n     13   \n2541                 163.0  \\newpage    \\n     13   \n89                     9.0      \\newpage\\n     13   \n95                    10.0      \\newpage\\n     13   \n\n                                           file  \nproblem_ID                                       \n929                5-8DNb-similarity-ratios.tex  \n917                 5-8DN-similarity-ratios.tex  \n1221             6-12Exam-Analytic-geometry.tex  \n2578               9-9bExam-transformations.tex  \n121                           1-7Exam-spicy.tex  \n282                         2-5HW_Perimeter.tex  \n288                2-6DN_Distance+Perimeter.tex  \n1904              8-1DN_Circle-trajectories.tex  \n316         2-7DN_Compound-areas+perimeters.tex  \n1750                     7-7Exam-Similarity.tex  \n1930                          8-1DN_Circles.tex  \n295                   2-6HW_Compound-shapes.tex  \n329            2-7Pretest_areas+numberlines.tex  \n160                              1-HW-Intro.tex  \n430                       3-3DN_Area+volume.tex  \n67             1-5HW_Pretest-segments-intro.tex  \n452           3-7DN_Segment-modeling+volume.tex  \n2541                9-9Exam-transformations.tex  \n89                        1-6HW_Angle-pairs.tex  \n95                            1-7Exam-Intro.tex  ",
      "text/html": "<div>\n<style scoped>\n    .dataframe tbody tr th:only-of-type {\n        vertical-align: middle;\n    }\n\n    .dataframe tbody tr th {\n        vertical-align: top;\n    }\n\n    .dataframe thead th {\n        text-align: right;\n    }\n</style>\n<table border=\"1\" class=\"dataframe\">\n  <thead>\n    <tr style=\"text-align: right;\">\n      <th></th>\n      <th>problem_set_ID</th>\n      <th>question</th>\n      <th>q_len</th>\n      <th>file</th>\n    </tr>\n    <tr>\n      <th>problem_ID</th>\n      <th></th>\n      <th></th>\n      <th></th>\n      <th></th>\n    </tr>\n  </thead>\n  <tbody>\n    <tr>\n      <th>929</th>\n      <td>68.0</td>\n      <td>\\newpage\\n</td>\n      <td>12</td>\n      <td>5-8DNb-similarity-ratios.tex</td>\n    </tr>\n    <tr>\n      <th>917</th>\n      <td>67.0</td>\n      <td>\\newpage\\n</td>\n      <td>12</td>\n      <td>5-8DN-similarity-ratios.tex</td>\n    </tr>\n    <tr>\n      <th>1221</th>\n      <td>79.0</td>\n      <td>\\newpage\\n</td>\n      <td>13</td>\n      <td>6-12Exam-Analytic-geometry.tex</td>\n    </tr>\n    <tr>\n      <th>2578</th>\n      <td>164.0</td>\n      <td>\\newpage    \\n</td>\n      <td>13</td>\n      <td>9-9bExam-transformations.tex</td>\n    </tr>\n    <tr>\n      <th>121</th>\n      <td>12.0</td>\n      <td>\\newpage\\n</td>\n      <td>13</td>\n      <td>1-7Exam-spicy.tex</td>\n    </tr>\n    <tr>\n      <th>282</th>\n      <td>22.0</td>\n      <td>\\newpage\\n</td>\n      <td>13</td>\n      <td>2-5HW_Perimeter.tex</td>\n    </tr>\n    <tr>\n      <th>288</th>\n      <td>23.0</td>\n      <td>\\newpage\\n</td>\n      <td>13</td>\n      <td>2-6DN_Distance+Perimeter.tex</td>\n    </tr>\n    <tr>\n      <th>1904</th>\n      <td>129.0</td>\n      <td>\\newpage    \\n</td>\n      <td>13</td>\n      <td>8-1DN_Circle-trajectories.tex</td>\n    </tr>\n    <tr>\n      <th>316</th>\n      <td>27.0</td>\n      <td>\\newpage\\n</td>\n      <td>13</td>\n      <td>2-7DN_Compound-areas+perimeters.tex</td>\n    </tr>\n    <tr>\n      <th>1750</th>\n      <td>116.0</td>\n      <td>\\newpage    \\n</td>\n      <td>13</td>\n      <td>7-7Exam-Similarity.tex</td>\n    </tr>\n    <tr>\n      <th>1930</th>\n      <td>130.0</td>\n      <td>\\newpage    \\n</td>\n      <td>13</td>\n      <td>8-1DN_Circles.tex</td>\n    </tr>\n    <tr>\n      <th>295</th>\n      <td>24.0</td>\n      <td>\\newpage\\n</td>\n      <td>13</td>\n      <td>2-6HW_Compound-shapes.tex</td>\n    </tr>\n    <tr>\n      <th>329</th>\n      <td>28.0</td>\n      <td>\\newpage \\n</td>\n      <td>13</td>\n      <td>2-7Pretest_areas+numberlines.tex</td>\n    </tr>\n    <tr>\n      <th>160</th>\n      <td>14.0</td>\n      <td>\\newpage\\n</td>\n      <td>13</td>\n      <td>1-HW-Intro.tex</td>\n    </tr>\n    <tr>\n      <th>430</th>\n      <td>39.0</td>\n      <td>\\newpage\\n</td>\n      <td>13</td>\n      <td>3-3DN_Area+volume.tex</td>\n    </tr>\n    <tr>\n      <th>67</th>\n      <td>7.0</td>\n      <td>\\newpage\\n</td>\n      <td>13</td>\n      <td>1-5HW_Pretest-segments-intro.tex</td>\n    </tr>\n    <tr>\n      <th>452</th>\n      <td>42.0</td>\n      <td>\\newpage\\n</td>\n      <td>13</td>\n      <td>3-7DN_Segment-modeling+volume.tex</td>\n    </tr>\n    <tr>\n      <th>2541</th>\n      <td>163.0</td>\n      <td>\\newpage    \\n</td>\n      <td>13</td>\n      <td>9-9Exam-transformations.tex</td>\n    </tr>\n    <tr>\n      <th>89</th>\n      <td>9.0</td>\n      <td>\\newpage\\n</td>\n      <td>13</td>\n      <td>1-6HW_Angle-pairs.tex</td>\n    </tr>\n    <tr>\n      <th>95</th>\n      <td>10.0</td>\n      <td>\\newpage\\n</td>\n      <td>13</td>\n      <td>1-7Exam-Intro.tex</td>\n    </tr>\n  </tbody>\n</table>\n</div>"
     },
     "metadata": {},
     "execution_count": 80
    }
   ],
   "source": [
    "#newpage_df\n",
    "newpage_df = newpage_df.append(problem_df.loc[[1221, 2578, 121, 282, 288, 1904, 316, 1750, 1930, 295, 329,  160,  430,   67,  452, 2541, 89, 95]])\n",
    "problem_df.drop([1221, 2578, 121, 282, 288, 1904, 316, 1750, 1930, 295, 329,  160,  430,   67,  452, 2541, 89, 95], inplace=True)\n",
    "newpage_df = newpage_df.append(problem_df.loc[[1959, 1900, 102, 76, 107, 73]])\n",
    "problem_df.drop([1959, 1900, 102, 76, 107, 73], inplace=True)"
   ]
  },
  {
   "cell_type": "code",
   "execution_count": null,
   "metadata": {},
   "outputs": [],
   "source": []
  },
  {
   "cell_type": "code",
   "execution_count": 87,
   "metadata": {
    "tags": []
   },
   "outputs": [
    {
     "output_type": "stream",
     "name": "stdout",
     "text": "Translate $\\triangle ABC$ by $(x,y) \\rightarrow (x+3, y-5)$. Label the image $\\triangle A'B'C'$.\n  \\begin{center}\n      \\begin{tikzpicture}[scale=.48]\n      \\draw [help lines] (-7,-5) grid (10,6);\n      \\draw [thick, <->] (-7.4,0) -- (10.4,0) node [right] {$x$};\n      \\draw [thick, <->] (0,-5.4)--(0,6.4) node [above] {$y$};  \n      \\draw [thick]\n        (-4,4) node[below left] {$A$}--\n        (3,4) node[above] {$B$}--\n        (1,1) node[below] {$C$}--cycle;  \n    \\end{tikzpicture}\n  \\end{center}\n\n  \n  \\begin{multicols}{2}\n\nWhat transformation maps $\\triangle ABC$ onto $\\triangle DEC$, shown below? Fully specify the transformation. Complete the table of mappings to  corresponding objects.]  \\vspace{0.5cm}\n    \\begin{enumerate}\n      \\item $A \\rightarrow$ \\rule{2cm}{0.15mm}\n      \\item $B \\rightarrow$ \\rule{2cm}{0.15mm}\n      \\item $C \\rightarrow$ \\rule{2cm}{0.15mm}\n      \\item $\\angle ACB \\cong$ \\rule{2cm}{0.15mm}\n      \\item \\rule{2cm}{0.15mm} $\\cong \\overline {DE}$\n    \\end{enumerate}\n    \\begin{tikzpicture}[scale=.48]\n      \\draw [help lines] (-4,-3) grid (9,8);\n      \\draw [thick, <->] (-4.4,0) -- (9.4,0) node [right] {$x$};\n      \\draw [thick, <->] (0,-3.4)--(0,8.4) node [above] {$y$};  \n      \\draw [thick]\n      (4,-2) node[below left] {$A$}--\n      (7,1) node[right] {$B$}--\n      (1,1) node[below left] {$C$}--cycle;  \n      \\draw [thick]\n      (4,4) node[right] {$D$}--\n      (1,7) node[left] {$E$}--\n      (1,1) --cycle; \n    \\end{tikzpicture}\n  \\end{multicols}\n  \n  \\begin{multicols}{2}\n\nReflect $\\triangle TRS$ across the $y$-axis, labeling the image $\\triangle T'R'S'$. Check those properties that are maintained by reflection.]  \\vspace{0.5cm}\n    \\begin{itemize}\n\n$\\square$] Length\n\n$\\square$] Angle measures\n\n$\\square$] Orientation\n\n$\\square$] Parallel relationships\n\n$\\square$] Area\n    \\end{itemize}\n    \\begin{tikzpicture}[scale=.48]\n      \\draw [help lines] (-7,-4) grid (7,5);\n      \\draw [thick, <->] (-7.4,0) -- (7.4,0) node [right] {$x$};\n      \\draw [thick, <->] (0,-4.4)--(0,5.4) node [above] {$y$};  \n      \\draw [thick]\n      (4,-2) node[below left] {$T$}--\n      (5,1) node[right] {$R$}--\n      (2,2) node[below left] {$S$}--cycle;\n    \\end{tikzpicture}\n  \\end{multicols}\n\n\n  \\begin{multicols}{2}\n\nA translation maps triangle $PQR$ onto triangle $STU$.] \\vspace{0.5cm}\n      \\begin{tikzpicture}[scale=0.9]\n        \\coordinate [label=above left:$P$](A) at (95:2);\n        \\coordinate [label=below:$Q$](B) at (0, 0);\n        \\coordinate [label=right:$R$](C) at (-10:3.5);\n        \\draw [thick] (A)--(B)--(C)--cycle;\n        \\draw [thick, xshift=3cm, yshift=1.5cm] (95:2) node[above]{$S$}--\n        (0,0) node[below]{$T$}--\n        (-10:3.5) node[right]{$U$}--cycle;\n      \\end{tikzpicture}\\\\\n      Write each corresponding object.\n      \\begin{enumerate}\n        \\item $Q \\rightarrow$ \\rule{2cm}{0.15mm}\n        \\item $\\angle QRP \\cong$ \\rule{2cm}{0.15mm}\n        \\item \\rule{2cm}{0.15mm} $\\cong \\overline {ST}$\n        \\item Justify $\\triangle PQR \\cong \\triangle STU$. Use the words ``rigid motion\".\n      \\end{enumerate}\n    \\end{multicols}  \\vspace{2cm}\n\n\nCheck those transformations that are rigid motions.\n    \\begin{itemize}\n\n$\\square$] Dilation\n\n$\\square$] Translation\n\n$\\square$] Reflection\n\n$\\square$] Rotation\n\n$\\square$] An isometry\n\n$\\square$] Horizontal stretch\n    \\end{itemize}\n\n  \\begin{multicols}{2}\n\nA rigid motion maps $\\triangle DEF$ onto $\\triangle LMN$. Fill in the blanks.] \\vspace{0.5cm}\n      The following is given:\\\\*[0.5cm]\n      $DE=10$ \\\\\n      $m\\angle E = 40^\\circ$ \\\\\n      $m\\angle F = 110^\\circ$ \\\\[0.5cm]\n      \\columnbreak\n      \n      \\begin{enumerate}\n        \\item $D \\rightarrow$ \\rule{2cm}{0.15mm}\n        \\item $LM =$ \\rule{2cm}{0.15mm}\n        \\item $m\\angle M =$ \\rule{2cm}{0.15mm}\n        \\item $\\overline{LM} \\cong$ \\rule{2cm}{0.15mm}\n      \\end{enumerate}\n    \\end{multicols} \n\n\nGiven $\\triangle JKL \\sim \\triangle MNO$. $m\\angle K = 40^\\circ$ and $m\\angle M = 100^\\circ$.\\\\\n    Find the measure of $\\angle J$. \\vspace{3cm}\n\n\n\n\n"
    }
   ],
   "source": [
    "for q in problem_df[problem_df.file == '9-1DN_Correspondence.tex'].sort_index().question:\n",
    "    print(q)"
   ]
  },
  {
   "cell_type": "code",
   "execution_count": null,
   "metadata": {},
   "outputs": [],
   "source": []
  },
  {
   "cell_type": "code",
   "execution_count": 270,
   "metadata": {},
   "outputs": [
    {
     "output_type": "execute_result",
     "data": {
      "text/plain": "            problem_set_ID                                           question  \\\nproblem_ID                                                                      \n1754                   140  \\n\\subsubsection*{Draw a linear pair with give...   \n1785                   142  \\subsubsection*{Perpendicular (bisector, throu...   \n1815                   144  \\n\\begin{enumerate}\\n\\subsubsection*{Segment a...   \n964                     91   \\fancyhead[L]{BECA / Dr. Huson / 10th Grade G...   \n356                     24  \\subsubsection*{Circle the appropriate equatio...   \n111                      3  \\subsubsection*{Do Now 1b.6: Angle pair practi...   \n1442                   120  \\setcounter{page}{1}\\n%\\subsubsection*{13-1 Ho...   \n1631                   133  \\setcounter{page}{1}\\n\\subsubsection*{13.9 Exi...   \n1759                   140  \\emph{variation} Given two perpendicular rays,...   \n1757                   140  \\n\\subsubsection*{Vertical angle algebra}\\n  \\...   \n1756                   140  \\n\\subsubsection*{Complementary \\& supplementa...   \n1042                    94   \\fancyhead[L]{BECA / Dr. Huson / 10th Grade G...   \n1035                    94    \\setcounter{page}{1}\\n\\subsubsection*{9.10 H...   \n1749                   139  \\n  \\begin{enumerate}\\n    \\subsubsection*{Abs...   \n1231                   102    \\setcounter{page}{1}\\n\\subsubsection*{10.10 ...   \n\n            n_begin_enumerate  n_end_enumerate  n_sub-subsection  n_subsection  \nproblem_ID                                                                      \n1754                        5                4                 3             0  \n1785                        0                0                 2             0  \n1815                        2                1                 2             0  \n964                         2                1                 1             0  \n356                         0                0                 1             0  \n111                         2                1                 1             0  \n1442                        2                1                 1             0  \n1631                        1                0                 1             0  \n1759                        0                0                 1             0  \n1757                        2                1                 1             0  \n1756                        2                1                 1             0  \n1042                        2                1                 1             0  \n1035                        2                1                 1             0  \n1749                        1                1                 1             0  \n1231                        2                1                 1             0  ",
      "text/html": "<div>\n<style scoped>\n    .dataframe tbody tr th:only-of-type {\n        vertical-align: middle;\n    }\n\n    .dataframe tbody tr th {\n        vertical-align: top;\n    }\n\n    .dataframe thead th {\n        text-align: right;\n    }\n</style>\n<table border=\"1\" class=\"dataframe\">\n  <thead>\n    <tr style=\"text-align: right;\">\n      <th></th>\n      <th>problem_set_ID</th>\n      <th>question</th>\n      <th>n_begin_enumerate</th>\n      <th>n_end_enumerate</th>\n      <th>n_sub-subsection</th>\n      <th>n_subsection</th>\n    </tr>\n    <tr>\n      <th>problem_ID</th>\n      <th></th>\n      <th></th>\n      <th></th>\n      <th></th>\n      <th></th>\n      <th></th>\n    </tr>\n  </thead>\n  <tbody>\n    <tr>\n      <th>1754</th>\n      <td>140</td>\n      <td>\\n\\subsubsection*{Draw a linear pair with give...</td>\n      <td>5</td>\n      <td>4</td>\n      <td>3</td>\n      <td>0</td>\n    </tr>\n    <tr>\n      <th>1785</th>\n      <td>142</td>\n      <td>\\subsubsection*{Perpendicular (bisector, throu...</td>\n      <td>0</td>\n      <td>0</td>\n      <td>2</td>\n      <td>0</td>\n    </tr>\n    <tr>\n      <th>1815</th>\n      <td>144</td>\n      <td>\\n\\begin{enumerate}\\n\\subsubsection*{Segment a...</td>\n      <td>2</td>\n      <td>1</td>\n      <td>2</td>\n      <td>0</td>\n    </tr>\n    <tr>\n      <th>964</th>\n      <td>91</td>\n      <td>\\fancyhead[L]{BECA / Dr. Huson / 10th Grade G...</td>\n      <td>2</td>\n      <td>1</td>\n      <td>1</td>\n      <td>0</td>\n    </tr>\n    <tr>\n      <th>356</th>\n      <td>24</td>\n      <td>\\subsubsection*{Circle the appropriate equatio...</td>\n      <td>0</td>\n      <td>0</td>\n      <td>1</td>\n      <td>0</td>\n    </tr>\n    <tr>\n      <th>111</th>\n      <td>3</td>\n      <td>\\subsubsection*{Do Now 1b.6: Angle pair practi...</td>\n      <td>2</td>\n      <td>1</td>\n      <td>1</td>\n      <td>0</td>\n    </tr>\n    <tr>\n      <th>1442</th>\n      <td>120</td>\n      <td>\\setcounter{page}{1}\\n%\\subsubsection*{13-1 Ho...</td>\n      <td>2</td>\n      <td>1</td>\n      <td>1</td>\n      <td>0</td>\n    </tr>\n    <tr>\n      <th>1631</th>\n      <td>133</td>\n      <td>\\setcounter{page}{1}\\n\\subsubsection*{13.9 Exi...</td>\n      <td>1</td>\n      <td>0</td>\n      <td>1</td>\n      <td>0</td>\n    </tr>\n    <tr>\n      <th>1759</th>\n      <td>140</td>\n      <td>\\emph{variation} Given two perpendicular rays,...</td>\n      <td>0</td>\n      <td>0</td>\n      <td>1</td>\n      <td>0</td>\n    </tr>\n    <tr>\n      <th>1757</th>\n      <td>140</td>\n      <td>\\n\\subsubsection*{Vertical angle algebra}\\n  \\...</td>\n      <td>2</td>\n      <td>1</td>\n      <td>1</td>\n      <td>0</td>\n    </tr>\n    <tr>\n      <th>1756</th>\n      <td>140</td>\n      <td>\\n\\subsubsection*{Complementary \\&amp; supplementa...</td>\n      <td>2</td>\n      <td>1</td>\n      <td>1</td>\n      <td>0</td>\n    </tr>\n    <tr>\n      <th>1042</th>\n      <td>94</td>\n      <td>\\fancyhead[L]{BECA / Dr. Huson / 10th Grade G...</td>\n      <td>2</td>\n      <td>1</td>\n      <td>1</td>\n      <td>0</td>\n    </tr>\n    <tr>\n      <th>1035</th>\n      <td>94</td>\n      <td>\\setcounter{page}{1}\\n\\subsubsection*{9.10 H...</td>\n      <td>2</td>\n      <td>1</td>\n      <td>1</td>\n      <td>0</td>\n    </tr>\n    <tr>\n      <th>1749</th>\n      <td>139</td>\n      <td>\\n  \\begin{enumerate}\\n    \\subsubsection*{Abs...</td>\n      <td>1</td>\n      <td>1</td>\n      <td>1</td>\n      <td>0</td>\n    </tr>\n    <tr>\n      <th>1231</th>\n      <td>102</td>\n      <td>\\setcounter{page}{1}\\n\\subsubsection*{10.10 ...</td>\n      <td>2</td>\n      <td>1</td>\n      <td>1</td>\n      <td>0</td>\n    </tr>\n  </tbody>\n</table>\n</div>"
     },
     "metadata": {},
     "execution_count": 270
    }
   ],
   "source": [
    "p_df = problems_df.copy()\n",
    "p_df['n_begin_enumerate'] = problems_df.question.str.count(r'\\\\begin{enumerate}')\n",
    "p_df['n_end_enumerate'] = problems_df.question.str.count('end{enumerate}')\n",
    "p_df['n_sub-subsection'] = problems_df.question.str.count(r'\\\\subsubsection')\n",
    "p_df['n_subsection'] = problems_df.question.str.count(r'\\\\subsection')\n",
    "p_df.sort_values('n_sub-subsection', ascending=False)[:15]"
   ]
  }
 ]
}