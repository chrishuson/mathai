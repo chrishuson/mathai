{
 "metadata": {
  "language_info": {
   "codemirror_mode": {
    "name": "ipython",
    "version": 3
   },
   "file_extension": ".py",
   "mimetype": "text/x-python",
   "name": "python",
   "nbconvert_exporter": "python",
   "pygments_lexer": "ipython3",
   "version": "3.7.6-final"
  },
  "orig_nbformat": 2,
  "kernelspec": {
   "name": "python_defaultSpec_1599406142494",
   "display_name": "Python 3.7.6 64-bit ('base': conda)"
  }
 },
 "nbformat": 4,
 "nbformat_minor": 2,
 "cells": [
  {
   "cell_type": "code",
   "execution_count": 1,
   "metadata": {
    "tags": []
   },
   "outputs": [],
   "source": [
    "import os\n",
    "import sys\n",
    "import subprocess\n",
    "import pandas as pd\n",
    "import numpy as np\n",
    "from ast import literal_eval\n",
    "# os.getcwd()"
   ]
  },
  {
   "cell_type": "code",
   "execution_count": 2,
   "metadata": {
    "tags": []
   },
   "outputs": [
    {
     "output_type": "stream",
     "name": "stdout",
     "text": "Loaded dataframes: \nworksheet_files_df:\n index name:  None \ncolumns:  Index(['Unnamed: 0', 'unit', 'file_count', 'filename'], dtype='object') \n149 rows:  149 \n\nproblem_sets_df:\n index name:  problem_set_ID \ncolumns:  Index(['filename', 'head', 'body', 'problems_list', 'problem_count',\n       'problem_IDs'],\n      dtype='object') \n149 rows:  149 \n\nproblems_df:\n index name:  problem_ID \ncolumns:  Index(['problem_set_ID', 'question'], dtype='object') \n1855 rows:  1855 \n\nstandards_df:\n index name:  None \ncolumns:  Index(['course', 'chapter', 'topic', 'ccss_ID'], dtype='object') \n314 rows:  314 \n\nstandards_desc_df:\n index name:  ccss_ID \ncolumns:  Index(['description'], dtype='object') \n131 rows:  131 \n\n"
    }
   ],
   "source": [
    "from main import map_course_files\n",
    "from main import parse_course_files\n",
    "from main import build_pset_df_tex\n",
    "from main import build_problem_df_tex\n",
    "from main import build_pset_df_pdf"
   ]
  },
  {
   "cell_type": "markdown",
   "metadata": {},
   "source": [
    "## saving and loading problem and problem set dataframes"
   ]
  },
  {
   "cell_type": "code",
   "execution_count": 28,
   "metadata": {},
   "outputs": [],
   "source": [
    "problem_df.to_csv('/Users/chris/GitHub/mathai/db/problem_df.csv')\n",
    "pset_df.to_csv('/Users/chris/GitHub/mathai/db/pset_df.csv')\n",
    "course_file_df.to_csv('/Users/chris/GitHub/mathai/db/course_file_df.csv')"
   ]
  },
  {
   "cell_type": "code",
   "execution_count": 3,
   "metadata": {
    "tags": []
   },
   "outputs": [
    {
     "output_type": "stream",
     "name": "stdout",
     "text": "course_file_df:  172 None Index(['unit', 'file_count', 'filename'], dtype='object')\npset_df:  172 problem_set_ID Index(['unit', 'filename', 'problem_count', 'problem_IDs', 'problems_list',\n       'problem_kind', 'head', 'body'],\n      dtype='object')\nproblem_df:  2443 problem_ID Index(['problem_set_ID', 'question', 'kind', 'filename', 'q_len'], dtype='object')\n"
    }
   ],
   "source": [
    "course_file_df = pd.read_csv('/Users/chris/GitHub/mathai/db/course_file_df.csv', index_col=0)\n",
    "print('course_file_df: ', len(course_file_df), course_file_df.index.name, course_file_df.columns)\n",
    "\n",
    "cols_into_lists = {'problem_IDs':literal_eval, 'head':literal_eval, 'body':literal_eval, 'problems_list':literal_eval, 'problem_kind':literal_eval}\n",
    "pset_df = pd.read_csv('../db/pset_df.csv', index_col='problem_set_ID', converters=cols_into_lists)\n",
    "print('pset_df: ', len(pset_df), pset_df.index.name, pset_df.columns)\n",
    "\n",
    "problem_df = pd.read_csv('../db/problem_df.csv', index_col='problem_ID')\n",
    "print('problem_df: ', len(problem_df), problem_df.index.name, problem_df.columns)"
   ]
  },
  {
   "cell_type": "code",
   "execution_count": 3,
   "metadata": {},
   "outputs": [],
   "source": [
    "# load saved dfs for test comparison\n",
    "cols_into_lists = {'problem_IDs':literal_eval, 'head':literal_eval, 'body':literal_eval, 'problems_list':literal_eval, 'problem_kind':literal_eval}\n",
    "pset_df2 = pd.read_csv('../db/pset_df.csv', index_col='problem_set_ID', converters=cols_into_lists)\n",
    "problem_df2 = pd.read_csv('../db/problem_df.csv', index_col='problem_ID')"
   ]
  },
  {
   "cell_type": "markdown",
   "metadata": {},
   "source": [
    "## Printing Problem Sets"
   ]
  },
  {
   "cell_type": "code",
   "execution_count": 4,
   "metadata": {
    "tags": []
   },
   "outputs": [
    {
     "output_type": "stream",
     "name": "stdout",
     "text": "Index(['unit', 'filename', 'problem_count', 'problem_IDs', 'problems_list',\n       'problem_kind', 'head', 'body'],\n      dtype='object')\n\nunits:  ['01-Intro' '02-Midpoint+distance' '03-Volume+angle-bisectors'\n '04-Transversals' '05-Transformations' '06-Analytic-geometry'\n '07-Similarity' '08-Area+volume' '09-Congruence-transformations'\n '10-Trig+similarity+analytics']\n"
    }
   ],
   "source": [
    "print(pset_df.columns)\n",
    "units = pset_df.unit.unique()\n",
    "print('\\nunits: ', units)"
   ]
  },
  {
   "cell_type": "code",
   "execution_count": 5,
   "metadata": {},
   "outputs": [
    {
     "output_type": "execute_result",
     "data": {
      "text/plain": "                                unit                  filename  problem_count  \\\nproblem_set_ID                                                                  \n22              02-Midpoint+distance  2-5DNQ_Segments+area.tex              6   \n\n                                   problem_IDs  \\\nproblem_set_ID                                   \n22              [303, 304, 305, 306, 307, 308]   \n\n                                                    problems_list  \\\nproblem_set_ID                                                      \n22              [Complete the construction of a perpendicular ...   \n\n                                                     problem_kind  \\\nproblem_set_ID                                                      \n22              [question, question, newpage, question, questi...   \n\n                                                             head  \\\nproblem_set_ID                                                      \n22              [\\begin{document}\\n,   \\subsubsection*{2.5 Pop...   \n\n                                                             body  \nproblem_set_ID                                                     \n22              [    \\item Complete the construction of a perp...  ",
      "text/html": "<div>\n<style scoped>\n    .dataframe tbody tr th:only-of-type {\n        vertical-align: middle;\n    }\n\n    .dataframe tbody tr th {\n        vertical-align: top;\n    }\n\n    .dataframe thead th {\n        text-align: right;\n    }\n</style>\n<table border=\"1\" class=\"dataframe\">\n  <thead>\n    <tr style=\"text-align: right;\">\n      <th></th>\n      <th>unit</th>\n      <th>filename</th>\n      <th>problem_count</th>\n      <th>problem_IDs</th>\n      <th>problems_list</th>\n      <th>problem_kind</th>\n      <th>head</th>\n      <th>body</th>\n    </tr>\n    <tr>\n      <th>problem_set_ID</th>\n      <th></th>\n      <th></th>\n      <th></th>\n      <th></th>\n      <th></th>\n      <th></th>\n      <th></th>\n      <th></th>\n    </tr>\n  </thead>\n  <tbody>\n    <tr>\n      <th>22</th>\n      <td>02-Midpoint+distance</td>\n      <td>2-5DNQ_Segments+area.tex</td>\n      <td>6</td>\n      <td>[303, 304, 305, 306, 307, 308]</td>\n      <td>[Complete the construction of a perpendicular ...</td>\n      <td>[question, question, newpage, question, questi...</td>\n      <td>[\\begin{document}\\n,   \\subsubsection*{2.5 Pop...</td>\n      <td>[    \\item Complete the construction of a perp...</td>\n    </tr>\n  </tbody>\n</table>\n</div>"
     },
     "metadata": {},
     "execution_count": 5
    }
   ],
   "source": [
    "df = pset_df.loc[22:26].copy()\n",
    "df.head(1)"
   ]
  },
  {
   "cell_type": "code",
   "execution_count": 4,
   "metadata": {
    "tags": []
   },
   "outputs": [],
   "source": [
    "course_dir = '/Users/chris/GitHub/course-files/Geom2021'\n",
    "df = pset_df.copy()\n",
    "if 'path_plus_filename' not in df.columns:\n",
    "    df['path_plus_filename'] = course_dir + '/' + df.unit + '/' + df.filename\n",
    "    #print('col not found. new vals are: \\n', df2['path_plus_filename'])\n",
    "#else: \n",
    "    #print('found. vals are: \\n', df2['path_plus_filename'])"
   ]
  },
  {
   "cell_type": "code",
   "execution_count": 5,
   "metadata": {},
   "outputs": [
    {
     "output_type": "execute_result",
     "data": {
      "text/plain": "filename                                            2-5HW_Perimeter.tex\npath_plus_filename    /Users/chris/GitHub/course-files/Geom2021/02-M...\nName: 23, dtype: object"
     },
     "metadata": {},
     "execution_count": 5
    }
   ],
   "source": [
    "df.loc[23, ['filename', 'path_plus_filename']]"
   ]
  },
  {
   "cell_type": "code",
   "execution_count": 5,
   "metadata": {},
   "outputs": [
    {
     "output_type": "execute_result",
     "data": {
      "text/plain": "                                     unit                            filename  \\\nproblem_set_ID                                                                  \n30                   02-Midpoint+distance             2-8DN_Constructions.tex   \n31                   02-Midpoint+distance         2-8HW_Parameter-solving.tex   \n32                   02-Midpoint+distance           2-9Exam_area-distance.tex   \n33                   02-Midpoint+distance              2-9HW_Calculations.tex   \n34              03-Volume+angle-bisectors         3-1DN_Angle-terminology.tex   \n35              03-Volume+angle-bisectors    3-1HW_Volume+vertical-angles.tex   \n36              03-Volume+angle-bisectors            3-2CW_Angle-modeling.tex   \n37              03-Volume+angle-bisectors               3-2DN_Area+volume.tex   \n38              03-Volume+angle-bisectors             3-2HW_Segments+area.tex   \n39              03-Volume+angle-bisectors         3-3CW_Modeling-segments.tex   \n40              03-Volume+angle-bisectors               3-3DN_Area+volume.tex   \n41              03-Volume+angle-bisectors             3-3HW_Segments+area.tex   \n42              03-Volume+angle-bisectors            3-5DN_Angle-modeling.tex   \n43              03-Volume+angle-bisectors   3-7DN_Segment-modeling+volume.tex   \n44              03-Volume+angle-bisectors            3-8DN_Angle-modeling.tex   \n45              03-Volume+angle-bisectors  3-9Exam_Volume+angle-bisectors.tex   \n46                        04-Transversals        4-10PreExam_Transversals.tex   \n47                        04-Transversals           4-11Exam_Transversals.tex   \n48                        04-Transversals               4-4DN_Area+volume.tex   \n49                        04-Transversals     4-5DN_Volume+trapezoid-area.tex   \n\n                problem_count  \\\nproblem_set_ID                  \n30                          5   \n31                          6   \n32                         37   \n33                          8   \n34                          6   \n35                          7   \n36                          9   \n37                          7   \n38                          6   \n39                          8   \n40                          5   \n41                          6   \n42                         12   \n43                          8   \n44                          8   \n45                         46   \n46                         64   \n47                         48   \n48                         20   \n49                          7   \n\n                                                      problem_IDs  \\\nproblem_set_ID                                                      \n30                                      [363, 364, 365, 366, 367]   \n31                                 [368, 369, 370, 371, 372, 373]   \n32              [374, 375, 376, 377, 378, 379, 380, 381, 382, ...   \n33                       [411, 412, 413, 414, 415, 416, 417, 418]   \n34                                 [419, 420, 421, 422, 423, 424]   \n35                            [425, 426, 427, 428, 429, 430, 431]   \n36                  [432, 433, 434, 435, 436, 437, 438, 439, 440]   \n37                            [441, 442, 443, 444, 445, 446, 447]   \n38                                 [448, 449, 450, 451, 452, 453]   \n39                       [454, 455, 456, 457, 458, 459, 460, 461]   \n40                                      [462, 463, 464, 465, 466]   \n41                                 [467, 468, 469, 470, 471, 472]   \n42              [473, 474, 475, 476, 477, 478, 479, 480, 481, ...   \n43                       [485, 486, 487, 488, 489, 490, 491, 492]   \n44                       [493, 494, 495, 496, 497, 498, 499, 500]   \n45              [501, 502, 503, 504, 505, 506, 507, 508, 509, ...   \n46              [547, 548, 549, 550, 551, 552, 553, 554, 555, ...   \n47              [611, 612, 613, 614, 615, 616, 617, 618, 619, ...   \n48              [659, 660, 661, 662, 663, 664, 665, 666, 667, ...   \n49                            [679, 680, 681, 682, 683, 684, 685]   \n\n                                                    problems_list  \\\nproblem_set_ID                                                      \n30              [Complete the construction of an equilateral t...   \n31              [Find the area of $\\triangle ABC$. The altitud...   \n32              [Given the rectangle $ABCD$ shown below, with ...   \n33              [Given $\\overline{ABC}$, $BC=36.9$, and $AC=87...   \n34              [As shown below, two lines intersect making fo...   \n35              [As shown below, two lines intersect making fo...   \n36              [    \\subsubsection*{Do Not Solve! \\\\\\n    Mod...   \n37              [The area of the rectangle $METS$ shown below ...   \n38              [Complete the construction of the bisector of ...   \n39              [An angle bisector is shown below, with $\\over...   \n40              [Complete the construction of a line perpendic...   \n41              [Complete the construction of the bisector of ...   \n42              [    \\subsubsection*{Do Not Solve! \\\\\\n    Mod...   \n43              [Complete the construction of a line perpendic...   \n44              [    \\subsubsection*{Do Not Solve! \\\\\\n    Mod...   \n45              [    \\subsubsection*{Do Not Solve! \\\\\\n    Lab...   \n46              [Construct a line perpendicular to $l$ though ...   \n47              [Find the area of the parallelogram $ABCD$ sho...   \n48              [Given the rectangle $ABCD$ shown below, with ...   \n49              [The parallelogram $BECA$ is composed of two t...   \n\n                                                     problem_kind  \\\nproblem_set_ID                                                      \n30               [question, newpage, question, section, question]   \n31              [question, question, question, newpage, questi...   \n32              [question, question, question, newpage, questi...   \n33              [question, question, question, question, newpa...   \n34              [question, question, newpage, question, questi...   \n35              [question, question, question, newpage, questi...   \n36              [section, question, question, question, questi...   \n37              [question, question, question, newpage, questi...   \n38              [question, question, newpage, question, questi...   \n39              [question, question, newpage, section, questio...   \n40              [question, question, newpage, question, question]   \n41              [question, question, newpage, question, questi...   \n42              [section, question, question, question, questi...   \n43              [question, question, newpage, section, questio...   \n44              [section, question, question, question, questi...   \n45              [section, question, question, question, questi...   \n46              [question, question, newpage, section, questio...   \n47              [question, question, question, question, newpa...   \n48              [question, question, question, newpage, questi...   \n49              [question, question, question, newpage, questi...   \n\n                                                             head  \\\nproblem_set_ID                                                      \n30              [\\begin{document}\\n,   \\subsubsection*{2.8 Do ...   \n31              [\\begin{document}\\n,   \\subsubsection*{2.8 Hom...   \n32              [\\begin{document}\\n, \\subsubsection*{2.9 Exam:...   \n33              [\\begin{document}\\n, \\subsubsection*{2.9 Homew...   \n34              [\\begin{document}\\n, \\subsubsection*{3.1 Do No...   \n35              [\\begin{document}\\n, \\subsubsection*{3.1 Homew...   \n36              [\\begin{document}\\n,   \\subsubsection*{3.2 Cla...   \n37              [\\begin{document}\\n, \\subsubsection*{3.2 Do No...   \n38              [\\begin{document}\\n,   \\subsubsection*{3.2 Hom...   \n39              [\\begin{document}\\n,   \\subsubsection*{3.3 Cla...   \n40              [\\begin{document}\\n, \\subsubsection*{3.3 Do No...   \n41              [\\begin{document}\\n,   \\subsubsection*{3.3 Hom...   \n42              [\\begin{document}\\n,   \\subsubsection*{3.5 Do ...   \n43              [\\begin{document}\\n, \\subsubsection*{3.7 Do No...   \n44              [\\begin{document}\\n,   \\subsubsection*{3.8 Do ...   \n45              [\\begin{document}\\n, \\subsubsection*{3.9 Exam:...   \n46              [\\begin{document}\\n, \\subsubsection*{4.10 PreE...   \n47              [\\begin{document}\\n, \\subsubsection*{4.11 Exam...   \n48              [\\begin{document}\\n, \\subsubsection*{4.4 Do No...   \n49              [\\begin{document}\\n, \\subsubsection*{4.5 Do No...   \n\n                                                             body  \\\nproblem_set_ID                                                      \n30              [\\item Complete the construction of an equilat...   \n31              [\\n, \\n, \\item Find the area of $\\triangle ABC...   \n32              [\\n, \\item Given the rectangle $ABCD$ shown be...   \n33              [\\n,   \\item Given $\\overline{ABC}$, $BC=36.9$...   \n34              [\\n,   \\item As shown below, two lines interse...   \n35              [\\n,   \\item As shown below, two lines interse...   \n36              [    \\subsubsection*{Do Not Solve! \\\\\\n,     M...   \n37              [\\n,   \\item The area of the rectangle $METS$ ...   \n38              [\\n,   \\item Complete the construction of the ...   \n39              [\\n,   \\item An angle bisector is shown below,...   \n40              [\\n,   \\item Complete the construction of a li...   \n41              [\\n,   \\item Complete the construction of the ...   \n42              [    \\subsubsection*{Do Not Solve! \\\\\\n,     M...   \n43              [\\n,   \\item Complete the construction of a li...   \n44              [    \\subsubsection*{Do Not Solve! \\\\\\n,     M...   \n45              [\\n,     \\subsubsection*{Do Not Solve! \\\\\\n,  ...   \n46              [\\n,   \\item Construct a line perpendicular to...   \n47              [\\n,   \\item Find the area of the parallelogra...   \n48              [\\n, \\n,   \\item Given the rectangle $ABCD$ sh...   \n49              [\\n, \\n, \\item The parallelogram $BECA$ is com...   \n\n                                               path_plus_filename  \nproblem_set_ID                                                     \n30              /Users/chris/GitHub/course-files/Geom2021/02-M...  \n31              /Users/chris/GitHub/course-files/Geom2021/02-M...  \n32              /Users/chris/GitHub/course-files/Geom2021/02-M...  \n33              /Users/chris/GitHub/course-files/Geom2021/02-M...  \n34              /Users/chris/GitHub/course-files/Geom2021/03-V...  \n35              /Users/chris/GitHub/course-files/Geom2021/03-V...  \n36              /Users/chris/GitHub/course-files/Geom2021/03-V...  \n37              /Users/chris/GitHub/course-files/Geom2021/03-V...  \n38              /Users/chris/GitHub/course-files/Geom2021/03-V...  \n39              /Users/chris/GitHub/course-files/Geom2021/03-V...  \n40              /Users/chris/GitHub/course-files/Geom2021/03-V...  \n41              /Users/chris/GitHub/course-files/Geom2021/03-V...  \n42              /Users/chris/GitHub/course-files/Geom2021/03-V...  \n43              /Users/chris/GitHub/course-files/Geom2021/03-V...  \n44              /Users/chris/GitHub/course-files/Geom2021/03-V...  \n45              /Users/chris/GitHub/course-files/Geom2021/03-V...  \n46              /Users/chris/GitHub/course-files/Geom2021/04-T...  \n47              /Users/chris/GitHub/course-files/Geom2021/04-T...  \n48              /Users/chris/GitHub/course-files/Geom2021/04-T...  \n49              /Users/chris/GitHub/course-files/Geom2021/04-T...  ",
      "text/html": "<div>\n<style scoped>\n    .dataframe tbody tr th:only-of-type {\n        vertical-align: middle;\n    }\n\n    .dataframe tbody tr th {\n        vertical-align: top;\n    }\n\n    .dataframe thead th {\n        text-align: right;\n    }\n</style>\n<table border=\"1\" class=\"dataframe\">\n  <thead>\n    <tr style=\"text-align: right;\">\n      <th></th>\n      <th>unit</th>\n      <th>filename</th>\n      <th>problem_count</th>\n      <th>problem_IDs</th>\n      <th>problems_list</th>\n      <th>problem_kind</th>\n      <th>head</th>\n      <th>body</th>\n      <th>path_plus_filename</th>\n    </tr>\n    <tr>\n      <th>problem_set_ID</th>\n      <th></th>\n      <th></th>\n      <th></th>\n      <th></th>\n      <th></th>\n      <th></th>\n      <th></th>\n      <th></th>\n      <th></th>\n    </tr>\n  </thead>\n  <tbody>\n    <tr>\n      <th>30</th>\n      <td>02-Midpoint+distance</td>\n      <td>2-8DN_Constructions.tex</td>\n      <td>5</td>\n      <td>[363, 364, 365, 366, 367]</td>\n      <td>[Complete the construction of an equilateral t...</td>\n      <td>[question, newpage, question, section, question]</td>\n      <td>[\\begin{document}\\n,   \\subsubsection*{2.8 Do ...</td>\n      <td>[\\item Complete the construction of an equilat...</td>\n      <td>/Users/chris/GitHub/course-files/Geom2021/02-M...</td>\n    </tr>\n    <tr>\n      <th>31</th>\n      <td>02-Midpoint+distance</td>\n      <td>2-8HW_Parameter-solving.tex</td>\n      <td>6</td>\n      <td>[368, 369, 370, 371, 372, 373]</td>\n      <td>[Find the area of $\\triangle ABC$. The altitud...</td>\n      <td>[question, question, question, newpage, questi...</td>\n      <td>[\\begin{document}\\n,   \\subsubsection*{2.8 Hom...</td>\n      <td>[\\n, \\n, \\item Find the area of $\\triangle ABC...</td>\n      <td>/Users/chris/GitHub/course-files/Geom2021/02-M...</td>\n    </tr>\n    <tr>\n      <th>32</th>\n      <td>02-Midpoint+distance</td>\n      <td>2-9Exam_area-distance.tex</td>\n      <td>37</td>\n      <td>[374, 375, 376, 377, 378, 379, 380, 381, 382, ...</td>\n      <td>[Given the rectangle $ABCD$ shown below, with ...</td>\n      <td>[question, question, question, newpage, questi...</td>\n      <td>[\\begin{document}\\n, \\subsubsection*{2.9 Exam:...</td>\n      <td>[\\n, \\item Given the rectangle $ABCD$ shown be...</td>\n      <td>/Users/chris/GitHub/course-files/Geom2021/02-M...</td>\n    </tr>\n    <tr>\n      <th>33</th>\n      <td>02-Midpoint+distance</td>\n      <td>2-9HW_Calculations.tex</td>\n      <td>8</td>\n      <td>[411, 412, 413, 414, 415, 416, 417, 418]</td>\n      <td>[Given $\\overline{ABC}$, $BC=36.9$, and $AC=87...</td>\n      <td>[question, question, question, question, newpa...</td>\n      <td>[\\begin{document}\\n, \\subsubsection*{2.9 Homew...</td>\n      <td>[\\n,   \\item Given $\\overline{ABC}$, $BC=36.9$...</td>\n      <td>/Users/chris/GitHub/course-files/Geom2021/02-M...</td>\n    </tr>\n    <tr>\n      <th>34</th>\n      <td>03-Volume+angle-bisectors</td>\n      <td>3-1DN_Angle-terminology.tex</td>\n      <td>6</td>\n      <td>[419, 420, 421, 422, 423, 424]</td>\n      <td>[As shown below, two lines intersect making fo...</td>\n      <td>[question, question, newpage, question, questi...</td>\n      <td>[\\begin{document}\\n, \\subsubsection*{3.1 Do No...</td>\n      <td>[\\n,   \\item As shown below, two lines interse...</td>\n      <td>/Users/chris/GitHub/course-files/Geom2021/03-V...</td>\n    </tr>\n    <tr>\n      <th>35</th>\n      <td>03-Volume+angle-bisectors</td>\n      <td>3-1HW_Volume+vertical-angles.tex</td>\n      <td>7</td>\n      <td>[425, 426, 427, 428, 429, 430, 431]</td>\n      <td>[As shown below, two lines intersect making fo...</td>\n      <td>[question, question, question, newpage, questi...</td>\n      <td>[\\begin{document}\\n, \\subsubsection*{3.1 Homew...</td>\n      <td>[\\n,   \\item As shown below, two lines interse...</td>\n      <td>/Users/chris/GitHub/course-files/Geom2021/03-V...</td>\n    </tr>\n    <tr>\n      <th>36</th>\n      <td>03-Volume+angle-bisectors</td>\n      <td>3-2CW_Angle-modeling.tex</td>\n      <td>9</td>\n      <td>[432, 433, 434, 435, 436, 437, 438, 439, 440]</td>\n      <td>[    \\subsubsection*{Do Not Solve! \\\\\\n    Mod...</td>\n      <td>[section, question, question, question, questi...</td>\n      <td>[\\begin{document}\\n,   \\subsubsection*{3.2 Cla...</td>\n      <td>[    \\subsubsection*{Do Not Solve! \\\\\\n,     M...</td>\n      <td>/Users/chris/GitHub/course-files/Geom2021/03-V...</td>\n    </tr>\n    <tr>\n      <th>37</th>\n      <td>03-Volume+angle-bisectors</td>\n      <td>3-2DN_Area+volume.tex</td>\n      <td>7</td>\n      <td>[441, 442, 443, 444, 445, 446, 447]</td>\n      <td>[The area of the rectangle $METS$ shown below ...</td>\n      <td>[question, question, question, newpage, questi...</td>\n      <td>[\\begin{document}\\n, \\subsubsection*{3.2 Do No...</td>\n      <td>[\\n,   \\item The area of the rectangle $METS$ ...</td>\n      <td>/Users/chris/GitHub/course-files/Geom2021/03-V...</td>\n    </tr>\n    <tr>\n      <th>38</th>\n      <td>03-Volume+angle-bisectors</td>\n      <td>3-2HW_Segments+area.tex</td>\n      <td>6</td>\n      <td>[448, 449, 450, 451, 452, 453]</td>\n      <td>[Complete the construction of the bisector of ...</td>\n      <td>[question, question, newpage, question, questi...</td>\n      <td>[\\begin{document}\\n,   \\subsubsection*{3.2 Hom...</td>\n      <td>[\\n,   \\item Complete the construction of the ...</td>\n      <td>/Users/chris/GitHub/course-files/Geom2021/03-V...</td>\n    </tr>\n    <tr>\n      <th>39</th>\n      <td>03-Volume+angle-bisectors</td>\n      <td>3-3CW_Modeling-segments.tex</td>\n      <td>8</td>\n      <td>[454, 455, 456, 457, 458, 459, 460, 461]</td>\n      <td>[An angle bisector is shown below, with $\\over...</td>\n      <td>[question, question, newpage, section, questio...</td>\n      <td>[\\begin{document}\\n,   \\subsubsection*{3.3 Cla...</td>\n      <td>[\\n,   \\item An angle bisector is shown below,...</td>\n      <td>/Users/chris/GitHub/course-files/Geom2021/03-V...</td>\n    </tr>\n    <tr>\n      <th>40</th>\n      <td>03-Volume+angle-bisectors</td>\n      <td>3-3DN_Area+volume.tex</td>\n      <td>5</td>\n      <td>[462, 463, 464, 465, 466]</td>\n      <td>[Complete the construction of a line perpendic...</td>\n      <td>[question, question, newpage, question, question]</td>\n      <td>[\\begin{document}\\n, \\subsubsection*{3.3 Do No...</td>\n      <td>[\\n,   \\item Complete the construction of a li...</td>\n      <td>/Users/chris/GitHub/course-files/Geom2021/03-V...</td>\n    </tr>\n    <tr>\n      <th>41</th>\n      <td>03-Volume+angle-bisectors</td>\n      <td>3-3HW_Segments+area.tex</td>\n      <td>6</td>\n      <td>[467, 468, 469, 470, 471, 472]</td>\n      <td>[Complete the construction of the bisector of ...</td>\n      <td>[question, question, newpage, question, questi...</td>\n      <td>[\\begin{document}\\n,   \\subsubsection*{3.3 Hom...</td>\n      <td>[\\n,   \\item Complete the construction of the ...</td>\n      <td>/Users/chris/GitHub/course-files/Geom2021/03-V...</td>\n    </tr>\n    <tr>\n      <th>42</th>\n      <td>03-Volume+angle-bisectors</td>\n      <td>3-5DN_Angle-modeling.tex</td>\n      <td>12</td>\n      <td>[473, 474, 475, 476, 477, 478, 479, 480, 481, ...</td>\n      <td>[    \\subsubsection*{Do Not Solve! \\\\\\n    Mod...</td>\n      <td>[section, question, question, question, questi...</td>\n      <td>[\\begin{document}\\n,   \\subsubsection*{3.5 Do ...</td>\n      <td>[    \\subsubsection*{Do Not Solve! \\\\\\n,     M...</td>\n      <td>/Users/chris/GitHub/course-files/Geom2021/03-V...</td>\n    </tr>\n    <tr>\n      <th>43</th>\n      <td>03-Volume+angle-bisectors</td>\n      <td>3-7DN_Segment-modeling+volume.tex</td>\n      <td>8</td>\n      <td>[485, 486, 487, 488, 489, 490, 491, 492]</td>\n      <td>[Complete the construction of a line perpendic...</td>\n      <td>[question, question, newpage, section, questio...</td>\n      <td>[\\begin{document}\\n, \\subsubsection*{3.7 Do No...</td>\n      <td>[\\n,   \\item Complete the construction of a li...</td>\n      <td>/Users/chris/GitHub/course-files/Geom2021/03-V...</td>\n    </tr>\n    <tr>\n      <th>44</th>\n      <td>03-Volume+angle-bisectors</td>\n      <td>3-8DN_Angle-modeling.tex</td>\n      <td>8</td>\n      <td>[493, 494, 495, 496, 497, 498, 499, 500]</td>\n      <td>[    \\subsubsection*{Do Not Solve! \\\\\\n    Mod...</td>\n      <td>[section, question, question, question, questi...</td>\n      <td>[\\begin{document}\\n,   \\subsubsection*{3.8 Do ...</td>\n      <td>[    \\subsubsection*{Do Not Solve! \\\\\\n,     M...</td>\n      <td>/Users/chris/GitHub/course-files/Geom2021/03-V...</td>\n    </tr>\n    <tr>\n      <th>45</th>\n      <td>03-Volume+angle-bisectors</td>\n      <td>3-9Exam_Volume+angle-bisectors.tex</td>\n      <td>46</td>\n      <td>[501, 502, 503, 504, 505, 506, 507, 508, 509, ...</td>\n      <td>[    \\subsubsection*{Do Not Solve! \\\\\\n    Lab...</td>\n      <td>[section, question, question, question, questi...</td>\n      <td>[\\begin{document}\\n, \\subsubsection*{3.9 Exam:...</td>\n      <td>[\\n,     \\subsubsection*{Do Not Solve! \\\\\\n,  ...</td>\n      <td>/Users/chris/GitHub/course-files/Geom2021/03-V...</td>\n    </tr>\n    <tr>\n      <th>46</th>\n      <td>04-Transversals</td>\n      <td>4-10PreExam_Transversals.tex</td>\n      <td>64</td>\n      <td>[547, 548, 549, 550, 551, 552, 553, 554, 555, ...</td>\n      <td>[Construct a line perpendicular to $l$ though ...</td>\n      <td>[question, question, newpage, section, questio...</td>\n      <td>[\\begin{document}\\n, \\subsubsection*{4.10 PreE...</td>\n      <td>[\\n,   \\item Construct a line perpendicular to...</td>\n      <td>/Users/chris/GitHub/course-files/Geom2021/04-T...</td>\n    </tr>\n    <tr>\n      <th>47</th>\n      <td>04-Transversals</td>\n      <td>4-11Exam_Transversals.tex</td>\n      <td>48</td>\n      <td>[611, 612, 613, 614, 615, 616, 617, 618, 619, ...</td>\n      <td>[Find the area of the parallelogram $ABCD$ sho...</td>\n      <td>[question, question, question, question, newpa...</td>\n      <td>[\\begin{document}\\n, \\subsubsection*{4.11 Exam...</td>\n      <td>[\\n,   \\item Find the area of the parallelogra...</td>\n      <td>/Users/chris/GitHub/course-files/Geom2021/04-T...</td>\n    </tr>\n    <tr>\n      <th>48</th>\n      <td>04-Transversals</td>\n      <td>4-4DN_Area+volume.tex</td>\n      <td>20</td>\n      <td>[659, 660, 661, 662, 663, 664, 665, 666, 667, ...</td>\n      <td>[Given the rectangle $ABCD$ shown below, with ...</td>\n      <td>[question, question, question, newpage, questi...</td>\n      <td>[\\begin{document}\\n, \\subsubsection*{4.4 Do No...</td>\n      <td>[\\n, \\n,   \\item Given the rectangle $ABCD$ sh...</td>\n      <td>/Users/chris/GitHub/course-files/Geom2021/04-T...</td>\n    </tr>\n    <tr>\n      <th>49</th>\n      <td>04-Transversals</td>\n      <td>4-5DN_Volume+trapezoid-area.tex</td>\n      <td>7</td>\n      <td>[679, 680, 681, 682, 683, 684, 685]</td>\n      <td>[The parallelogram $BECA$ is composed of two t...</td>\n      <td>[question, question, question, newpage, questi...</td>\n      <td>[\\begin{document}\\n, \\subsubsection*{4.5 Do No...</td>\n      <td>[\\n, \\n, \\item The parallelogram $BECA$ is com...</td>\n      <td>/Users/chris/GitHub/course-files/Geom2021/04-T...</td>\n    </tr>\n  </tbody>\n</table>\n</div>"
     },
     "metadata": {},
     "execution_count": 5
    }
   ],
   "source": [
    "df[30:50]"
   ]
  },
  {
   "cell_type": "code",
   "execution_count": 6,
   "metadata": {},
   "outputs": [
    {
     "output_type": "execute_result",
     "data": {
      "text/plain": "                                   filename                       unit\npset_ID                                                               \n30                  2-8DN_Constructions.tex       02-Midpoint+distance\n31              2-8HW_Parameter-solving.tex       02-Midpoint+distance\n32                2-9Exam_area-distance.tex       02-Midpoint+distance\n33                   2-9HW_Calculations.tex       02-Midpoint+distance\n34              3-1DN_Angle-terminology.tex  03-Volume+angle-bisectors\n35         3-1HW_Volume+vertical-angles.tex  03-Volume+angle-bisectors\n36                 3-2CW_Angle-modeling.tex  03-Volume+angle-bisectors\n37                    3-2DN_Area+volume.tex  03-Volume+angle-bisectors\n38                  3-2HW_Segments+area.tex  03-Volume+angle-bisectors\n39              3-3CW_Modeling-segments.tex  03-Volume+angle-bisectors\n40                    3-3DN_Area+volume.tex  03-Volume+angle-bisectors\n41                  3-3HW_Segments+area.tex  03-Volume+angle-bisectors\n42                 3-5DN_Angle-modeling.tex  03-Volume+angle-bisectors\n43        3-7DN_Segment-modeling+volume.tex  03-Volume+angle-bisectors\n44                 3-8DN_Angle-modeling.tex  03-Volume+angle-bisectors\n45       3-9Exam_Volume+angle-bisectors.tex  03-Volume+angle-bisectors\n46             4-10PreExam_Transversals.tex            04-Transversals\n47                4-11Exam_Transversals.tex            04-Transversals\n48                    4-4DN_Area+volume.tex            04-Transversals\n49          4-5DN_Volume+trapezoid-area.tex            04-Transversals",
      "text/html": "<div>\n<style scoped>\n    .dataframe tbody tr th:only-of-type {\n        vertical-align: middle;\n    }\n\n    .dataframe tbody tr th {\n        vertical-align: top;\n    }\n\n    .dataframe thead th {\n        text-align: right;\n    }\n</style>\n<table border=\"1\" class=\"dataframe\">\n  <thead>\n    <tr style=\"text-align: right;\">\n      <th></th>\n      <th>filename</th>\n      <th>unit</th>\n    </tr>\n    <tr>\n      <th>pset_ID</th>\n      <th></th>\n      <th></th>\n    </tr>\n  </thead>\n  <tbody>\n    <tr>\n      <th>30</th>\n      <td>2-8DN_Constructions.tex</td>\n      <td>02-Midpoint+distance</td>\n    </tr>\n    <tr>\n      <th>31</th>\n      <td>2-8HW_Parameter-solving.tex</td>\n      <td>02-Midpoint+distance</td>\n    </tr>\n    <tr>\n      <th>32</th>\n      <td>2-9Exam_area-distance.tex</td>\n      <td>02-Midpoint+distance</td>\n    </tr>\n    <tr>\n      <th>33</th>\n      <td>2-9HW_Calculations.tex</td>\n      <td>02-Midpoint+distance</td>\n    </tr>\n    <tr>\n      <th>34</th>\n      <td>3-1DN_Angle-terminology.tex</td>\n      <td>03-Volume+angle-bisectors</td>\n    </tr>\n    <tr>\n      <th>35</th>\n      <td>3-1HW_Volume+vertical-angles.tex</td>\n      <td>03-Volume+angle-bisectors</td>\n    </tr>\n    <tr>\n      <th>36</th>\n      <td>3-2CW_Angle-modeling.tex</td>\n      <td>03-Volume+angle-bisectors</td>\n    </tr>\n    <tr>\n      <th>37</th>\n      <td>3-2DN_Area+volume.tex</td>\n      <td>03-Volume+angle-bisectors</td>\n    </tr>\n    <tr>\n      <th>38</th>\n      <td>3-2HW_Segments+area.tex</td>\n      <td>03-Volume+angle-bisectors</td>\n    </tr>\n    <tr>\n      <th>39</th>\n      <td>3-3CW_Modeling-segments.tex</td>\n      <td>03-Volume+angle-bisectors</td>\n    </tr>\n    <tr>\n      <th>40</th>\n      <td>3-3DN_Area+volume.tex</td>\n      <td>03-Volume+angle-bisectors</td>\n    </tr>\n    <tr>\n      <th>41</th>\n      <td>3-3HW_Segments+area.tex</td>\n      <td>03-Volume+angle-bisectors</td>\n    </tr>\n    <tr>\n      <th>42</th>\n      <td>3-5DN_Angle-modeling.tex</td>\n      <td>03-Volume+angle-bisectors</td>\n    </tr>\n    <tr>\n      <th>43</th>\n      <td>3-7DN_Segment-modeling+volume.tex</td>\n      <td>03-Volume+angle-bisectors</td>\n    </tr>\n    <tr>\n      <th>44</th>\n      <td>3-8DN_Angle-modeling.tex</td>\n      <td>03-Volume+angle-bisectors</td>\n    </tr>\n    <tr>\n      <th>45</th>\n      <td>3-9Exam_Volume+angle-bisectors.tex</td>\n      <td>03-Volume+angle-bisectors</td>\n    </tr>\n    <tr>\n      <th>46</th>\n      <td>4-10PreExam_Transversals.tex</td>\n      <td>04-Transversals</td>\n    </tr>\n    <tr>\n      <th>47</th>\n      <td>4-11Exam_Transversals.tex</td>\n      <td>04-Transversals</td>\n    </tr>\n    <tr>\n      <th>48</th>\n      <td>4-4DN_Area+volume.tex</td>\n      <td>04-Transversals</td>\n    </tr>\n    <tr>\n      <th>49</th>\n      <td>4-5DN_Volume+trapezoid-area.tex</td>\n      <td>04-Transversals</td>\n    </tr>\n  </tbody>\n</table>\n</div>"
     },
     "metadata": {},
     "execution_count": 6
    }
   ],
   "source": [
    "build_pset_df_tex(df[30:50], problem_df)"
   ]
  },
  {
   "cell_type": "code",
   "execution_count": 7,
   "metadata": {},
   "outputs": [],
   "source": [
    "build_pset_df_pdf(df[30:50], problem_df)"
   ]
  },
  {
   "cell_type": "code",
   "execution_count": 66,
   "metadata": {
    "tags": []
   },
   "outputs": [
    {
     "output_type": "execute_result",
     "data": {
      "text/plain": "'/Users/chris/GitHub/course-files/Geom2021/01-Intro'"
     },
     "metadata": {},
     "execution_count": 66
    }
   ],
   "source": [
    "os.chdir('/Users/chris/GitHub/course-files/Geom2021/' + units[0])\n",
    "os.getcwd()"
   ]
  },
  {
   "cell_type": "code",
   "execution_count": 76,
   "metadata": {
    "tags": []
   },
   "outputs": [],
   "source": [
    "def test_print(pset_df):\n",
    "    for pset in pset_df[pset_df['unit'] == units[0]].itertuples():\n",
    "        print(pset.Index)\n",
    "        if 'path_plus_filename' in pset_df.columns:\n",
    "            path_plus_fn = pset.path_plus_filename\n",
    "        else: path_plus_fn = None\n",
    "        print(path_plus_fn)\n",
    "        title = (pset.filename, 'pset ID: ' + str(row.Index), 'Print to directories')\n",
    "        \n",
    "        #build_problem_df_tex(problem_df.loc[pset.problem_IDs], pset.filename, path_plus_fn, title)"
   ]
  },
  {
   "cell_type": "code",
   "execution_count": 86,
   "metadata": {
    "tags": []
   },
   "outputs": [
    {
     "output_type": "stream",
     "name": "stdout",
     "text": "22\n/Users/chris/GitHub/course-files/Geom2021/02-Midpoint+distance/2-5DNQ_Segments+area.tex\n23\n/Users/chris/GitHub/course-files/Geom2021/02-Midpoint+distance/2-5HW_Perimeter.tex\n24\n/Users/chris/GitHub/course-files/Geom2021/02-Midpoint+distance/2-6DN_Distance+Perimeter.tex\n25\n/Users/chris/GitHub/course-files/Geom2021/02-Midpoint+distance/2-6HW_Compound-shapes.tex\n26\n/Users/chris/GitHub/course-files/Geom2021/02-Midpoint+distance/2-7CW_Modeling.tex\n"
    }
   ],
   "source": [
    "for pset in df2.itertuples():\n",
    "    print(pset.Index)\n",
    "    if 'path_plus_filename' in df2.columns:\n",
    "        path_plus_filename = pset.path_plus_filename\n",
    "    else: path_plus_filename = None\n",
    "    print(path_plus_filename)\n",
    "    title = (pset.filename, 'pset ID: ' + str(row.Index), 'Print to directories')"
   ]
  },
  {
   "cell_type": "code",
   "execution_count": 85,
   "metadata": {},
   "outputs": [],
   "source": [
    "path_plus_filename = None"
   ]
  },
  {
   "cell_type": "code",
   "execution_count": 63,
   "metadata": {},
   "outputs": [],
   "source": [
    "filename = pset_df.loc[pset_ID, 'filename'][:-4]\n",
    "title = (filename, 'pset ID: ' + str(pset_ID), 'Print to directories')\n",
    "build_problem_df_tex(p_df, filename, title)"
   ]
  },
  {
   "cell_type": "code",
   "execution_count": 11,
   "metadata": {},
   "outputs": [
    {
     "output_type": "execute_result",
     "data": {
      "text/plain": "'/Users/chris/GitHub/course-files/Geom2021/02-Midpoint+distance/pdf/2-5DNQ_Segments+area.tex'"
     },
     "metadata": {},
     "execution_count": 11
    }
   ],
   "source": [
    "f = df2.path_plus_filename.loc[22]\n",
    "path_unit, filename = f.rsplit('/', 1)\n",
    "ff = path_unit + '/pdf/' + filename\n",
    "ff"
   ]
  },
  {
   "cell_type": "code",
   "execution_count": 46,
   "metadata": {},
   "outputs": [
    {
     "output_type": "execute_result",
     "data": {
      "text/plain": "'/Users/chris/GitHub/course-files/Geom2021/02-Midpoint+distance/2-5DNQ_Segments+area'"
     },
     "metadata": {},
     "execution_count": 46
    }
   ],
   "source": [
    "f[:-4]"
   ]
  },
  {
   "cell_type": "code",
   "execution_count": 59,
   "metadata": {},
   "outputs": [
    {
     "output_type": "execute_result",
     "data": {
      "text/plain": "'2-5DNQ_Segments+area.tex'"
     },
     "metadata": {},
     "execution_count": 59
    }
   ],
   "source": [
    "f = df2.filename.loc[22]\n",
    "f"
   ]
  },
  {
   "cell_type": "code",
   "execution_count": 60,
   "metadata": {},
   "outputs": [
    {
     "output_type": "execute_result",
     "data": {
      "text/plain": "0"
     },
     "metadata": {},
     "execution_count": 60
    }
   ],
   "source": [
    "os.system('pdflatex -output-directory=pdf ' + f)"
   ]
  },
  {
   "cell_type": "code",
   "execution_count": null,
   "metadata": {},
   "outputs": [],
   "source": []
  },
  {
   "cell_type": "code",
   "execution_count": 15,
   "metadata": {},
   "outputs": [],
   "source": [
    "import pylatex"
   ]
  },
  {
   "cell_type": "code",
   "execution_count": 22,
   "metadata": {},
   "outputs": [],
   "source": [
    "min_latex = (r\"\\documentclass{article}\"\n",
    "             r\"\\begin{document}\"\n",
    "             r\"Hello, world!\"\n",
    "             r\"\\end{document}\")\n",
    "\n",
    "#from latex import build_pdf\n",
    "\n",
    "# this builds a pdf-file inside a temporary directory\n",
    "#pdf = pylatex.build_pdf(min_latex)\n",
    "\n",
    "# look at the first few bytes of the header\n",
    "#print(pdf)"
   ]
  },
  {
   "cell_type": "code",
   "execution_count": 37,
   "metadata": {},
   "outputs": [],
   "source": [
    "my_doc = pylatex.Document('2-5DNQ_Segments+area')"
   ]
  },
  {
   "cell_type": "code",
   "execution_count": 38,
   "metadata": {
    "tags": []
   },
   "outputs": [
    {
     "output_type": "stream",
     "name": "stdout",
     "text": "\\documentclass{article}%\n\\usepackage[T1]{fontenc}%\n\\usepackage[utf8]{inputenc}%\n\\usepackage{lmodern}%\n\\usepackage{textcomp}%\n\\usepackage{lastpage}%\n%\n%\n%\n\\begin{document}%\n\\normalsize%\n\\end{document}\n"
    }
   ],
   "source": [
    "print(my_doc.dumps())"
   ]
  },
  {
   "cell_type": "code",
   "execution_count": 39,
   "metadata": {
    "tags": []
   },
   "outputs": [
    {
     "output_type": "error",
     "ename": "AttributeError",
     "evalue": "'str' object has no attribute '_select_filepath'",
     "traceback": [
      "\u001b[0;31m---------------------------------------------------------------------------\u001b[0m",
      "\u001b[0;31mAttributeError\u001b[0m                            Traceback (most recent call last)",
      "\u001b[0;32m<ipython-input-39-fb17941c7dd3>\u001b[0m in \u001b[0;36m<module>\u001b[0;34m\u001b[0m\n\u001b[0;32m----> 1\u001b[0;31m \u001b[0mmy_pdf\u001b[0m \u001b[0;34m=\u001b[0m \u001b[0mpylatex\u001b[0m\u001b[0;34m.\u001b[0m\u001b[0mDocument\u001b[0m\u001b[0;34m.\u001b[0m\u001b[0mgenerate_pdf\u001b[0m\u001b[0;34m(\u001b[0m\u001b[0;34m'2-5DNQ_Segments+area'\u001b[0m\u001b[0;34m)\u001b[0m\u001b[0;34m\u001b[0m\u001b[0;34m\u001b[0m\u001b[0m\n\u001b[0m",
      "\u001b[0;32m~/opt/anaconda3/lib/python3.7/site-packages/pylatex/document.py\u001b[0m in \u001b[0;36mgenerate_pdf\u001b[0;34m(self, filepath, clean, clean_tex, compiler, compiler_args, silent)\u001b[0m\n\u001b[1;32m    204\u001b[0m         \u001b[0mpython_cwd_available\u001b[0m \u001b[0;34m=\u001b[0m \u001b[0msys\u001b[0m\u001b[0;34m.\u001b[0m\u001b[0mversion_info\u001b[0m \u001b[0;34m>=\u001b[0m \u001b[0;34m(\u001b[0m\u001b[0;36m3\u001b[0m\u001b[0;34m,\u001b[0m \u001b[0;36m6\u001b[0m\u001b[0;34m)\u001b[0m\u001b[0;34m\u001b[0m\u001b[0;34m\u001b[0m\u001b[0m\n\u001b[1;32m    205\u001b[0m \u001b[0;34m\u001b[0m\u001b[0m\n\u001b[0;32m--> 206\u001b[0;31m         \u001b[0mfilepath\u001b[0m \u001b[0;34m=\u001b[0m \u001b[0mself\u001b[0m\u001b[0;34m.\u001b[0m\u001b[0m_select_filepath\u001b[0m\u001b[0;34m(\u001b[0m\u001b[0mfilepath\u001b[0m\u001b[0;34m)\u001b[0m\u001b[0;34m\u001b[0m\u001b[0;34m\u001b[0m\u001b[0m\n\u001b[0m\u001b[1;32m    207\u001b[0m         \u001b[0;32mif\u001b[0m \u001b[0;32mnot\u001b[0m \u001b[0mos\u001b[0m\u001b[0;34m.\u001b[0m\u001b[0mpath\u001b[0m\u001b[0;34m.\u001b[0m\u001b[0mbasename\u001b[0m\u001b[0;34m(\u001b[0m\u001b[0mfilepath\u001b[0m\u001b[0;34m)\u001b[0m\u001b[0;34m:\u001b[0m\u001b[0;34m\u001b[0m\u001b[0;34m\u001b[0m\u001b[0m\n\u001b[1;32m    208\u001b[0m             filepath = os.path.join(os.path.abspath(filepath),\n",
      "\u001b[0;31mAttributeError\u001b[0m: 'str' object has no attribute '_select_filepath'"
     ]
    }
   ],
   "source": [
    "my_pdf = pylatex.Document.generate_pdf('2-5DNQ_Segments+area')"
   ]
  },
  {
   "cell_type": "code",
   "execution_count": 21,
   "metadata": {
    "tags": []
   },
   "outputs": [
    {
     "output_type": "stream",
     "name": "stdout",
     "text": "Help on module pylatex.document in pylatex:\n\nNAME\n    pylatex.document - This module implements the class that deals with the full document.\n\nDESCRIPTION\n    ..  :copyright: (c) 2014 by Jelte Fennema.\n        :license: MIT, see License for more details.\n\nCLASSES\n    pylatex.base_classes.containers.Environment(pylatex.base_classes.containers.Container)\n        Document\n    \n    class Document(pylatex.base_classes.containers.Environment)\n     |  Document(default_filepath='default_filepath', *, documentclass='article', document_options=None, fontenc='T1', inputenc='utf8', font_size='normalsize', lmodern=True, textcomp=True, microtype=None, page_numbers=True, indent=None, geometry_options=None, data=None)\n     |  \n     |  A class that contains a full LaTeX document.\n     |  \n     |  If needed, you can append stuff to the preamble or the packages.\n     |  For instance, if you need to use ``\\maketitle`` you can add the title,\n     |  author and date commands to the preamble to make it work.\n     |  \n     |  Method resolution order:\n     |      Document\n     |      pylatex.base_classes.containers.Environment\n     |      pylatex.base_classes.containers.Container\n     |      pylatex.base_classes.latex_object.LatexObject\n     |      collections.UserList\n     |      collections.abc.MutableSequence\n     |      collections.abc.Sequence\n     |      collections.abc.Reversible\n     |      collections.abc.Collection\n     |      collections.abc.Sized\n     |      collections.abc.Iterable\n     |      collections.abc.Container\n     |      builtins.object\n     |  \n     |  Methods defined here:\n     |  \n     |  __init__(self, default_filepath='default_filepath', *, documentclass='article', document_options=None, fontenc='T1', inputenc='utf8', font_size='normalsize', lmodern=True, textcomp=True, microtype=None, page_numbers=True, indent=None, geometry_options=None, data=None)\n     |      Args\n     |      ----\n     |      default_filepath: str\n     |          The default path to save files.\n     |      documentclass: str or `~.Command`\n     |          The LaTeX class of the document.\n     |      document_options: str or `list`\n     |          The options to supply to the documentclass\n     |      fontenc: str\n     |          The option for the fontenc package. If it is `None`, the fontenc\n     |          package will not be loaded at all.\n     |      inputenc: str\n     |          The option for the inputenc package. If it is `None`, the inputenc\n     |          package will not be loaded at all.\n     |      font_size: str\n     |          The font size to declare as normalsize\n     |      lmodern: bool\n     |          Use the Latin Modern font. This is a font that contains more glyphs\n     |          than the standard LaTeX font.\n     |      textcomp: bool\n     |          Adds even more glyphs, for instance the Euro (€) sign.\n     |      page_numbers: bool\n     |          Adds the ability to add the last page to the document.\n     |      indent: bool\n     |          Determines whether or not the document requires indentation. If it\n     |          is `None` it will use the value from the active config. Which is\n     |          `True` by default.\n     |      geometry_options: dict\n     |          The options to supply to the geometry package\n     |      data: list\n     |          Initial content of the document.\n     |  \n     |  add_color(self, name, model, description)\n     |      Add a color that can be used throughout the document.\n     |      \n     |      Args\n     |      ----\n     |      name: str\n     |          Name to set for the color\n     |      model: str\n     |          The color model to use when defining the color\n     |      description: str\n     |          The values to use to define the color\n     |  \n     |  change_document_style(self, style)\n     |      Alternate page style for the entire document.\n     |      \n     |      Args\n     |      ----\n     |      style: str\n     |          value to set for the document style\n     |  \n     |  change_length(self, parameter, value)\n     |      Change the length of a certain parameter to a certain value.\n     |      \n     |      Args\n     |      ----\n     |      parameter: str\n     |          The name of the parameter to change the length for\n     |      value: str\n     |          The value to set the parameter to\n     |  \n     |  change_page_style(self, style)\n     |      Alternate page styles of the current page.\n     |      \n     |      Args\n     |      ----\n     |      style: str\n     |          value to set for the page style of the current page\n     |  \n     |  dumps(self)\n     |      Represent the document as a string in LaTeX syntax.\n     |      \n     |      Returns\n     |      -------\n     |      str\n     |  \n     |  generate_pdf(self, filepath=None, *, clean=True, clean_tex=True, compiler=None, compiler_args=None, silent=True)\n     |      Generate a pdf file from the document.\n     |      \n     |      Args\n     |      ----\n     |      filepath: str\n     |          The name of the file (without .pdf), if it is `None` the\n     |          ``default_filepath`` attribute will be used.\n     |      clean: bool\n     |          Whether non-pdf files created that are created during compilation\n     |          should be removed.\n     |      clean_tex: bool\n     |          Also remove the generated tex file.\n     |      compiler: `str` or `None`\n     |          The name of the LaTeX compiler to use. If it is None, PyLaTeX will\n     |          choose a fitting one on its own. Starting with ``latexmk`` and then\n     |          ``pdflatex``.\n     |      compiler_args: `list` or `None`\n     |          Extra arguments that should be passed to the LaTeX compiler. If\n     |          this is None it defaults to an empty list.\n     |      silent: bool\n     |          Whether to hide compiler output\n     |  \n     |  generate_tex(self, filepath=None)\n     |      Generate a .tex file for the document.\n     |      \n     |      Args\n     |      ----\n     |      filepath: str\n     |          The name of the file (without .tex), if this is not supplied the\n     |          default filepath attribute is used as the path.\n     |  \n     |  set_variable(self, name, value)\n     |      Add a variable which can be used inside the document.\n     |      \n     |      Variables are defined before the preamble. If a variable with that name\n     |      has already been set, the new value will override it for future uses.\n     |      This is done by appending ``\\renewcommand`` to the document.\n     |      \n     |      Args\n     |      ----\n     |      name: str\n     |          The name to set for the variable\n     |      value: str\n     |          The value to set for the variable\n     |  \n     |  ----------------------------------------------------------------------\n     |  Data and other attributes defined here:\n     |  \n     |  __abstractmethods__ = frozenset()\n     |  \n     |  packages = OrderedSet()\n     |  \n     |  ----------------------------------------------------------------------\n     |  Data and other attributes inherited from pylatex.base_classes.containers.Environment:\n     |  \n     |  omit_if_empty = False\n     |  \n     |  ----------------------------------------------------------------------\n     |  Methods inherited from pylatex.base_classes.containers.Container:\n     |  \n     |  create(self, child)\n     |      Add a LaTeX object to current container, context-manager style.\n     |      \n     |      Args\n     |      ----\n     |      child: `~.Container`\n     |          An object to be added to the current container\n     |  \n     |  dumps_content(self, **kwargs)\n     |      Represent the container as a string in LaTeX syntax.\n     |      \n     |      Args\n     |      ----\n     |      \\*\\*kwargs:\n     |          Arguments that can be passed to `~.dumps_list`\n     |      \n     |      \n     |      Returns\n     |      -------\n     |      string:\n     |          A LaTeX string representing the container\n     |  \n     |  dumps_packages(self)\n     |      Represent the packages needed as a string in LaTeX syntax.\n     |      \n     |      Returns\n     |      -------\n     |      string:\n     |          A LaTeX string representing the packages of the container\n     |  \n     |  ----------------------------------------------------------------------\n     |  Data and other attributes inherited from pylatex.base_classes.containers.Container:\n     |  \n     |  content_separator = '%\\n'\n     |  \n     |  ----------------------------------------------------------------------\n     |  Methods inherited from pylatex.base_classes.latex_object.LatexObject:\n     |  \n     |  __repr__(self)\n     |      Create a printable representation of the object.\n     |  \n     |  dump(self, file_w)\n     |      Write the LaTeX representation of the class to a file.\n     |      \n     |      Args\n     |      ----\n     |      file_w: io.TextIOBase\n     |          The file object in which to save the data\n     |  \n     |  dump_packages(self, file_w)\n     |      Write the LaTeX representation of the packages to a file.\n     |      \n     |      Args\n     |      ----\n     |      file_w: io.TextIOBase\n     |          The file object in which to save the data\n     |  \n     |  dumps_as_content(self)\n     |      Create a string representation of the object as content.\n     |      \n     |      This is currently only used to add new lines before and after the\n     |      output of the dumps function. These can be added or removed by changing\n     |      the `begin_paragraph`, `end_paragraph` and `separate_paragraph`\n     |      attributes of the class.\n     |  \n     |  ----------------------------------------------------------------------\n     |  Data descriptors inherited from pylatex.base_classes.latex_object.LatexObject:\n     |  \n     |  __dict__\n     |      dictionary for instance variables (if defined)\n     |  \n     |  __weakref__\n     |      list of weak references to the object (if defined)\n     |  \n     |  escape\n     |      Determine whether or not to escape content of this class.\n     |      \n     |      This defaults to `True` for most classes.\n     |  \n     |  latex_name\n     |      Return the name of the class used in LaTeX.\n     |      \n     |      It can be `None` when the class doesn't have a name.\n     |  \n     |  ----------------------------------------------------------------------\n     |  Data and other attributes inherited from pylatex.base_classes.latex_object.LatexObject:\n     |  \n     |  begin_paragraph = False\n     |  \n     |  end_paragraph = False\n     |  \n     |  separate_paragraph = False\n     |  \n     |  ----------------------------------------------------------------------\n     |  Methods inherited from collections.UserList:\n     |  \n     |  __add__(self, other)\n     |  \n     |  __contains__(self, item)\n     |  \n     |  __copy__(self)\n     |  \n     |  __delitem__(self, i)\n     |  \n     |  __eq__(self, other)\n     |      Return self==value.\n     |  \n     |  __ge__(self, other)\n     |      Return self>=value.\n     |  \n     |  __getitem__(self, i)\n     |  \n     |  __gt__(self, other)\n     |      Return self>value.\n     |  \n     |  __iadd__(self, other)\n     |  \n     |  __imul__(self, n)\n     |  \n     |  __le__(self, other)\n     |      Return self<=value.\n     |  \n     |  __len__(self)\n     |  \n     |  __lt__(self, other)\n     |      Return self<value.\n     |  \n     |  __mul__(self, n)\n     |  \n     |  __radd__(self, other)\n     |  \n     |  __rmul__ = __mul__(self, n)\n     |  \n     |  __setitem__(self, i, item)\n     |  \n     |  append(self, item)\n     |      S.append(value) -- append value to the end of the sequence\n     |  \n     |  clear(self)\n     |      S.clear() -> None -- remove all items from S\n     |  \n     |  copy(self)\n     |  \n     |  count(self, item)\n     |      S.count(value) -> integer -- return number of occurrences of value\n     |  \n     |  extend(self, other)\n     |      S.extend(iterable) -- extend sequence by appending elements from the iterable\n     |  \n     |  index(self, item, *args)\n     |      S.index(value, [start, [stop]]) -> integer -- return first index of value.\n     |      Raises ValueError if the value is not present.\n     |      \n     |      Supporting start and stop arguments is optional, but\n     |      recommended.\n     |  \n     |  insert(self, i, item)\n     |      S.insert(index, value) -- insert value before index\n     |  \n     |  pop(self, i=-1)\n     |      S.pop([index]) -> item -- remove and return item at index (default last).\n     |      Raise IndexError if list is empty or index is out of range.\n     |  \n     |  remove(self, item)\n     |      S.remove(value) -- remove first occurrence of value.\n     |      Raise ValueError if the value is not present.\n     |  \n     |  reverse(self)\n     |      S.reverse() -- reverse *IN PLACE*\n     |  \n     |  sort(self, *args, **kwds)\n     |  \n     |  ----------------------------------------------------------------------\n     |  Data and other attributes inherited from collections.UserList:\n     |  \n     |  __hash__ = None\n     |  \n     |  ----------------------------------------------------------------------\n     |  Methods inherited from collections.abc.Sequence:\n     |  \n     |  __iter__(self)\n     |  \n     |  __reversed__(self)\n     |  \n     |  ----------------------------------------------------------------------\n     |  Class methods inherited from collections.abc.Reversible:\n     |  \n     |  __subclasshook__(C) from pylatex.base_classes.latex_object._CreatePackages\n     |      Abstract classes can override this to customize issubclass().\n     |      \n     |      This is invoked early on by abc.ABCMeta.__subclasscheck__().\n     |      It should return True, False or NotImplemented.  If it returns\n     |      NotImplemented, the normal algorithm is used.  Otherwise, it\n     |      overrides the normal algorithm (and the outcome is cached).\n\nFILE\n    /Users/chris/opt/anaconda3/lib/python3.7/site-packages/pylatex/document.py\n\n\n"
    }
   ],
   "source": [
    "help(pylatex.document)"
   ]
  },
  {
   "cell_type": "code",
   "execution_count": 73,
   "metadata": {},
   "outputs": [
    {
     "output_type": "execute_result",
     "data": {
      "text/plain": "0"
     },
     "metadata": {},
     "execution_count": 73
    }
   ],
   "source": [
    "os.system('pdflatex ' + f)"
   ]
  },
  {
   "cell_type": "code",
   "execution_count": 7,
   "metadata": {
    "tags": []
   },
   "outputs": [
    {
     "output_type": "execute_result",
     "data": {
      "text/plain": "                             filename                          unit\npset_ID                                                            \n170      10-4bDN_Analytics-review.tex  10-Trig+similarity+analytics\n71              5-9bDN_Multi-step.tex            05-Transformations\n75         6-11DN_Transformations.tex          06-Analytic-geometry",
      "text/html": "<div>\n<style scoped>\n    .dataframe tbody tr th:only-of-type {\n        vertical-align: middle;\n    }\n\n    .dataframe tbody tr th {\n        vertical-align: top;\n    }\n\n    .dataframe thead th {\n        text-align: right;\n    }\n</style>\n<table border=\"1\" class=\"dataframe\">\n  <thead>\n    <tr style=\"text-align: right;\">\n      <th></th>\n      <th>filename</th>\n      <th>unit</th>\n    </tr>\n    <tr>\n      <th>pset_ID</th>\n      <th></th>\n      <th></th>\n    </tr>\n  </thead>\n  <tbody>\n    <tr>\n      <th>170</th>\n      <td>10-4bDN_Analytics-review.tex</td>\n      <td>10-Trig+similarity+analytics</td>\n    </tr>\n    <tr>\n      <th>71</th>\n      <td>5-9bDN_Multi-step.tex</td>\n      <td>05-Transformations</td>\n    </tr>\n    <tr>\n      <th>75</th>\n      <td>6-11DN_Transformations.tex</td>\n      <td>06-Analytic-geometry</td>\n    </tr>\n  </tbody>\n</table>\n</div>"
     },
     "metadata": {},
     "execution_count": 7
    }
   ],
   "source": [
    "out_file_df = build_pset_df_tex(pset_df.loc[[170, 71, 75]], problem_df)\n",
    "out_file_df"
   ]
  },
  {
   "cell_type": "code",
   "execution_count": 8,
   "metadata": {
    "tags": []
   },
   "outputs": [
    {
     "output_type": "stream",
     "name": "stdout",
     "text": "pdflatex 10-4bDN_Analytics-review.tex\npdflatex 5-9bDN_Multi-step.tex\npdflatex 6-11DN_Transformations.tex\n"
    }
   ],
   "source": [
    "for file in out_file_df.filename:\n",
    "    print('pdflatex ' + file)\n",
    "    os.system('pdflatex ../out/' + file)"
   ]
  },
  {
   "cell_type": "code",
   "execution_count": 32,
   "metadata": {
    "tags": []
   },
   "outputs": [
    {
     "output_type": "execute_result",
     "data": {
      "text/plain": "            problem_set_ID                                           question  \\\nproblem_ID                                                                      \n2184                   153  A transformation is applied to a triangle, $\\t...   \n2185                   153  Determine and state the transformation mapping...   \n2186                   153  First reflect the trapezoid $BECA$ across the ...   \n2187                   153                                         \\newpage\\n   \n2188                   153  Two transformations have been applied to a tri...   \n2189                   153  The quadrilateral $ROCK$ undergoes two transfo...   \n2197                   155  Given $\\triangle ABC$ and $\\triangle EFG$ with...   \n2198                   155  Two parallel lines intersect a transversal,  $...   \n2199                   155                                         \\newpage\\n   \n2200                   155  Given $\\triangle ABC$ and $\\triangle EFG$ with...   \n2201                   155  Given $\\triangle ABP$ and $\\triangle JKP$ with...   \n2202                   155                                         \\newpage\\n   \n2203                   155  List of theorem/situations for $\\triangle \\con...   \n\n                                       filename  q_len  \nproblem_ID                                              \n2184                     9-3bDN_Composition.tex   1104  \n2185                     9-3bDN_Composition.tex    674  \n2186                     9-3bDN_Composition.tex    577  \n2187                     9-3bDN_Composition.tex      9  \n2188                     9-3bDN_Composition.tex    948  \n2189                     9-3bDN_Composition.tex    905  \n2197        9-4CW_Triangle-congruence-proof.tex   1297  \n2198        9-4CW_Triangle-congruence-proof.tex   1858  \n2199        9-4CW_Triangle-congruence-proof.tex      9  \n2200        9-4CW_Triangle-congruence-proof.tex   1279  \n2201        9-4CW_Triangle-congruence-proof.tex   1110  \n2202        9-4CW_Triangle-congruence-proof.tex      9  \n2203        9-4CW_Triangle-congruence-proof.tex    423  ",
      "text/html": "<div>\n<style scoped>\n    .dataframe tbody tr th:only-of-type {\n        vertical-align: middle;\n    }\n\n    .dataframe tbody tr th {\n        vertical-align: top;\n    }\n\n    .dataframe thead th {\n        text-align: right;\n    }\n</style>\n<table border=\"1\" class=\"dataframe\">\n  <thead>\n    <tr style=\"text-align: right;\">\n      <th></th>\n      <th>problem_set_ID</th>\n      <th>question</th>\n      <th>filename</th>\n      <th>q_len</th>\n    </tr>\n    <tr>\n      <th>problem_ID</th>\n      <th></th>\n      <th></th>\n      <th></th>\n      <th></th>\n    </tr>\n  </thead>\n  <tbody>\n    <tr>\n      <th>2184</th>\n      <td>153</td>\n      <td>A transformation is applied to a triangle, $\\t...</td>\n      <td>9-3bDN_Composition.tex</td>\n      <td>1104</td>\n    </tr>\n    <tr>\n      <th>2185</th>\n      <td>153</td>\n      <td>Determine and state the transformation mapping...</td>\n      <td>9-3bDN_Composition.tex</td>\n      <td>674</td>\n    </tr>\n    <tr>\n      <th>2186</th>\n      <td>153</td>\n      <td>First reflect the trapezoid $BECA$ across the ...</td>\n      <td>9-3bDN_Composition.tex</td>\n      <td>577</td>\n    </tr>\n    <tr>\n      <th>2187</th>\n      <td>153</td>\n      <td>\\newpage\\n</td>\n      <td>9-3bDN_Composition.tex</td>\n      <td>9</td>\n    </tr>\n    <tr>\n      <th>2188</th>\n      <td>153</td>\n      <td>Two transformations have been applied to a tri...</td>\n      <td>9-3bDN_Composition.tex</td>\n      <td>948</td>\n    </tr>\n    <tr>\n      <th>2189</th>\n      <td>153</td>\n      <td>The quadrilateral $ROCK$ undergoes two transfo...</td>\n      <td>9-3bDN_Composition.tex</td>\n      <td>905</td>\n    </tr>\n    <tr>\n      <th>2197</th>\n      <td>155</td>\n      <td>Given $\\triangle ABC$ and $\\triangle EFG$ with...</td>\n      <td>9-4CW_Triangle-congruence-proof.tex</td>\n      <td>1297</td>\n    </tr>\n    <tr>\n      <th>2198</th>\n      <td>155</td>\n      <td>Two parallel lines intersect a transversal,  $...</td>\n      <td>9-4CW_Triangle-congruence-proof.tex</td>\n      <td>1858</td>\n    </tr>\n    <tr>\n      <th>2199</th>\n      <td>155</td>\n      <td>\\newpage\\n</td>\n      <td>9-4CW_Triangle-congruence-proof.tex</td>\n      <td>9</td>\n    </tr>\n    <tr>\n      <th>2200</th>\n      <td>155</td>\n      <td>Given $\\triangle ABC$ and $\\triangle EFG$ with...</td>\n      <td>9-4CW_Triangle-congruence-proof.tex</td>\n      <td>1279</td>\n    </tr>\n    <tr>\n      <th>2201</th>\n      <td>155</td>\n      <td>Given $\\triangle ABP$ and $\\triangle JKP$ with...</td>\n      <td>9-4CW_Triangle-congruence-proof.tex</td>\n      <td>1110</td>\n    </tr>\n    <tr>\n      <th>2202</th>\n      <td>155</td>\n      <td>\\newpage\\n</td>\n      <td>9-4CW_Triangle-congruence-proof.tex</td>\n      <td>9</td>\n    </tr>\n    <tr>\n      <th>2203</th>\n      <td>155</td>\n      <td>List of theorem/situations for $\\triangle \\con...</td>\n      <td>9-4CW_Triangle-congruence-proof.tex</td>\n      <td>423</td>\n    </tr>\n  </tbody>\n</table>\n</div>"
     },
     "metadata": {},
     "execution_count": 32
    }
   ],
   "source": [
    "problem_df[problem_df.problem_set_ID.apply(lambda x: x in [153, 155])].sort_index()"
   ]
  },
  {
   "cell_type": "code",
   "execution_count": 76,
   "metadata": {
    "tags": []
   },
   "outputs": [
    {
     "output_type": "stream",
     "name": "stdout",
     "text": "Num of newpage *:  496\nNum of >= triples:  204\nNum of doubles ~ :  416\n"
    }
   ],
   "source": [
    "# DUPES\n",
    "print('Num of newpage * : ',\n",
    "    problem_df.groupby('question').file.count().sort_values().iloc[-4:].sum())\n",
    "print('Num of >= triples: ',\n",
    "    problem_df.groupby('question').file.count().sort_values().iloc[-67:-4].sum())\n",
    "print('Num of doubles ~ : ',\n",
    "    problem_df.groupby('question').file.count().sort_values().iloc[-275:-67].sum())"
   ]
  },
  {
   "cell_type": "code",
   "execution_count": 135,
   "metadata": {},
   "outputs": [
    {
     "output_type": "execute_result",
     "data": {
      "text/plain": "            problem_set_ID                                           question  \\\nproblem_ID                                                                      \n2346                   171  What is the equation of a line through $(-7,10...   \n2347                   171  What is an equation of the perpendicular bisec...   \n2348                   171                                         \\newpage\\n   \n2349                   171  $\\triangle ABC$ is shown with $m\\angle C=90^\\c...   \n2350                   171  The following diagram shows a pole BT 1.6 m ta...   \n\n                                     file  q_len  \nproblem_ID                                        \n2346        10-6DN_Tangent-situations.tex    104  \n2347        10-6DN_Tangent-situations.tex    113  \n2348        10-6DN_Tangent-situations.tex      9  \n2349        10-6DN_Tangent-situations.tex    745  \n2350        10-6DN_Tangent-situations.tex    885  ",
      "text/html": "<div>\n<style scoped>\n    .dataframe tbody tr th:only-of-type {\n        vertical-align: middle;\n    }\n\n    .dataframe tbody tr th {\n        vertical-align: top;\n    }\n\n    .dataframe thead th {\n        text-align: right;\n    }\n</style>\n<table border=\"1\" class=\"dataframe\">\n  <thead>\n    <tr style=\"text-align: right;\">\n      <th></th>\n      <th>problem_set_ID</th>\n      <th>question</th>\n      <th>file</th>\n      <th>q_len</th>\n    </tr>\n    <tr>\n      <th>problem_ID</th>\n      <th></th>\n      <th></th>\n      <th></th>\n      <th></th>\n    </tr>\n  </thead>\n  <tbody>\n    <tr>\n      <th>2346</th>\n      <td>171</td>\n      <td>What is the equation of a line through $(-7,10...</td>\n      <td>10-6DN_Tangent-situations.tex</td>\n      <td>104</td>\n    </tr>\n    <tr>\n      <th>2347</th>\n      <td>171</td>\n      <td>What is an equation of the perpendicular bisec...</td>\n      <td>10-6DN_Tangent-situations.tex</td>\n      <td>113</td>\n    </tr>\n    <tr>\n      <th>2348</th>\n      <td>171</td>\n      <td>\\newpage\\n</td>\n      <td>10-6DN_Tangent-situations.tex</td>\n      <td>9</td>\n    </tr>\n    <tr>\n      <th>2349</th>\n      <td>171</td>\n      <td>$\\triangle ABC$ is shown with $m\\angle C=90^\\c...</td>\n      <td>10-6DN_Tangent-situations.tex</td>\n      <td>745</td>\n    </tr>\n    <tr>\n      <th>2350</th>\n      <td>171</td>\n      <td>The following diagram shows a pole BT 1.6 m ta...</td>\n      <td>10-6DN_Tangent-situations.tex</td>\n      <td>885</td>\n    </tr>\n  </tbody>\n</table>\n</div>"
     },
     "metadata": {},
     "execution_count": 135
    }
   ],
   "source": [
    "problem_df.tail(5)"
   ]
  },
  {
   "cell_type": "markdown",
   "metadata": {},
   "source": [
    "## Reinitialize dfs from course files"
   ]
  },
  {
   "cell_type": "code",
   "execution_count": 4,
   "metadata": {
    "tags": []
   },
   "outputs": [
    {
     "output_type": "stream",
     "name": "stdout",
     "text": "dict len, type:  13 <class 'dict'> \n df len:  208 \n\n"
    },
    {
     "output_type": "execute_result",
     "data": {
      "text/plain": "array(['01-Intro', '02-Midpoint+distance', '03-Volume+angle-bisectors',\n       '04-Transversals', '05-Transformations', '06-Analytic-geometry',\n       '07-Similarity', '08-Area+volume', '09-Congruence-transformations',\n       '10-Trig+similarity+analytics', '11-Algebra2-intro', 'Slides',\n       'Trajectories'], dtype=object)"
     },
     "metadata": {},
     "execution_count": 4
    }
   ],
   "source": [
    "course_files, course_file_df = map_course_files(course_dir='/Users/chris/GitHub/course-files/Geom')\n",
    "print('dict len, type: ', len(course_files), type(course_files), '\\n df len: ', len(course_file_df), '\\n')\n",
    "course_file_df.unit.unique()"
   ]
  },
  {
   "cell_type": "code",
   "execution_count": 5,
   "metadata": {},
   "outputs": [],
   "source": [
    "drop_units = ['11-Algebra2-intro', 'Slides', 'Trajectories']\n",
    "for unit in drop_units:\n",
    "    course_file_df.drop(course_file_df[course_file_df.unit == unit].index, inplace=True)\n",
    "#course_file_df"
   ]
  },
  {
   "cell_type": "code",
   "execution_count": 4,
   "metadata": {
    "tags": []
   },
   "outputs": [
    {
     "output_type": "stream",
     "name": "stdout",
     "text": "course_file_df:  172 None Index(['unit', 'file_count', 'filename'], dtype='object')\n"
    },
    {
     "output_type": "execute_result",
     "data": {
      "text/plain": "       unit  file_count                   filename\n0  01-Intro          16      1-1CW_Measurement.tex\n1  01-Intro          16  1-1DNQ_Distance+slope.tex",
      "text/html": "<div>\n<style scoped>\n    .dataframe tbody tr th:only-of-type {\n        vertical-align: middle;\n    }\n\n    .dataframe tbody tr th {\n        vertical-align: top;\n    }\n\n    .dataframe thead th {\n        text-align: right;\n    }\n</style>\n<table border=\"1\" class=\"dataframe\">\n  <thead>\n    <tr style=\"text-align: right;\">\n      <th></th>\n      <th>unit</th>\n      <th>file_count</th>\n      <th>filename</th>\n    </tr>\n  </thead>\n  <tbody>\n    <tr>\n      <th>0</th>\n      <td>01-Intro</td>\n      <td>16</td>\n      <td>1-1CW_Measurement.tex</td>\n    </tr>\n    <tr>\n      <th>1</th>\n      <td>01-Intro</td>\n      <td>16</td>\n      <td>1-1DNQ_Distance+slope.tex</td>\n    </tr>\n  </tbody>\n</table>\n</div>"
     },
     "metadata": {},
     "execution_count": 4
    }
   ],
   "source": [
    "# Initialize for testing\n",
    "course_file_df = pd.read_csv('/Users/chris/GitHub/mathai/db/course_file_df.csv', index_col=0)\n",
    "print('course_file_df: ', len(course_file_df), course_file_df.index.name, course_file_df.columns)\n",
    "course_file_df.head(2)"
   ]
  },
  {
   "cell_type": "code",
   "execution_count": 5,
   "metadata": {},
   "outputs": [
    {
     "output_type": "execute_result",
     "data": {
      "text/plain": "                    unit                   filename  problem_count  \\\nproblem_set_ID                                                       \n0               01-Intro      1-1CW_Measurement.tex              8   \n1               01-Intro  1-1DNQ_Distance+slope.tex              4   \n\n                             problem_IDs  \\\nproblem_set_ID                             \n0               [0, 1, 2, 3, 4, 5, 6, 7]   \n1                         [8, 9, 10, 11]   \n\n                                                    problems_list  \\\nproblem_set_ID                                                      \n0               [Given the line segment $\\overline{PQ}$ shown ...   \n1               [Write down the slope and $y$-intercept of eac...   \n\n                                                     problem_kind  \\\nproblem_set_ID                                                      \n0               [question, newpage, question, newpage, questio...   \n1                         [question, question, newpage, question]   \n\n                                                             head  \\\nproblem_set_ID                                                      \n0               [\\begin{document}\\n, \\subsubsection*{1-1 Class...   \n1               [\\begin{document}\\n, \\subsubsection*{0.1 Quiz:...   \n\n                                                             body  \nproblem_set_ID                                                     \n0               [\\n,   \\item Given the line segment $\\overline...  \n1               [\\n,   \\item Write down the slope and $y$-inte...  ",
      "text/html": "<div>\n<style scoped>\n    .dataframe tbody tr th:only-of-type {\n        vertical-align: middle;\n    }\n\n    .dataframe tbody tr th {\n        vertical-align: top;\n    }\n\n    .dataframe thead th {\n        text-align: right;\n    }\n</style>\n<table border=\"1\" class=\"dataframe\">\n  <thead>\n    <tr style=\"text-align: right;\">\n      <th></th>\n      <th>unit</th>\n      <th>filename</th>\n      <th>problem_count</th>\n      <th>problem_IDs</th>\n      <th>problems_list</th>\n      <th>problem_kind</th>\n      <th>head</th>\n      <th>body</th>\n    </tr>\n    <tr>\n      <th>problem_set_ID</th>\n      <th></th>\n      <th></th>\n      <th></th>\n      <th></th>\n      <th></th>\n      <th></th>\n      <th></th>\n      <th></th>\n    </tr>\n  </thead>\n  <tbody>\n    <tr>\n      <th>0</th>\n      <td>01-Intro</td>\n      <td>1-1CW_Measurement.tex</td>\n      <td>8</td>\n      <td>[0, 1, 2, 3, 4, 5, 6, 7]</td>\n      <td>[Given the line segment $\\overline{PQ}$ shown ...</td>\n      <td>[question, newpage, question, newpage, questio...</td>\n      <td>[\\begin{document}\\n, \\subsubsection*{1-1 Class...</td>\n      <td>[\\n,   \\item Given the line segment $\\overline...</td>\n    </tr>\n    <tr>\n      <th>1</th>\n      <td>01-Intro</td>\n      <td>1-1DNQ_Distance+slope.tex</td>\n      <td>4</td>\n      <td>[8, 9, 10, 11]</td>\n      <td>[Write down the slope and $y$-intercept of eac...</td>\n      <td>[question, question, newpage, question]</td>\n      <td>[\\begin{document}\\n, \\subsubsection*{0.1 Quiz:...</td>\n      <td>[\\n,   \\item Write down the slope and $y$-inte...</td>\n    </tr>\n  </tbody>\n</table>\n</div>"
     },
     "metadata": {},
     "execution_count": 5
    }
   ],
   "source": [
    "pset_df, problem_df = parse_course_files(course_file_df, course_dir='/Users/chris/GitHub/course-files/Geom')\n",
    "pset_df.head(2)"
   ]
  },
  {
   "cell_type": "code",
   "execution_count": 6,
   "metadata": {},
   "outputs": [
    {
     "output_type": "execute_result",
     "data": {
      "text/plain": "True"
     },
     "metadata": {},
     "execution_count": 6
    }
   ],
   "source": [
    "all(pset_df[['unit', 'filename', 'problems_list', 'problem_kind', 'head', 'body']] == pset_df2[['unit', 'filename', 'problems_list', 'problem_kind', 'head', 'body']])"
   ]
  },
  {
   "cell_type": "code",
   "execution_count": 10,
   "metadata": {
    "tags": []
   },
   "outputs": [
    {
     "output_type": "stream",
     "name": "stdout",
     "text": "pset_df:  172 problem_set_ID Index(['unit', 'filename', 'problem_count', 'problem_IDs', 'problems_list',\n       'problem_kind', 'head', 'body'],\n      dtype='object')\n\nproblem_df:  2443 problem_ID Index(['problem_set_ID', 'question', 'kind', 'filename', 'q_len'], dtype='object')\n"
    }
   ],
   "source": [
    "print('pset_df: ', len(pset_df), pset_df.index.name, pset_df.columns)\n",
    "print('\\nproblem_df: ', len(problem_df), problem_df.index.name, problem_df.columns)"
   ]
  },
  {
   "cell_type": "code",
   "execution_count": 11,
   "metadata": {
    "tags": []
   },
   "outputs": [
    {
     "output_type": "stream",
     "name": "stdout",
     "text": "pset_df2:  172 problem_set_ID Index(['unit', 'filename', 'problem_count', 'problems_list', 'problem_kind',\n       'head', 'body', 'problem_IDs'],\n      dtype='object')\n\nproblem_df2:  2443 problem_ID Index(['problem_set_ID', 'question', 'filename', 'q_len'], dtype='object')\n"
    }
   ],
   "source": [
    "print('pset_df2: ', len(pset_df2), pset_df2.index.name, pset_df2.columns)\n",
    "print('\\nproblem_df2: ', len(problem_df2), problem_df2.index.name, problem_df2.columns)"
   ]
  },
  {
   "cell_type": "code",
   "execution_count": 7,
   "metadata": {},
   "outputs": [
    {
     "output_type": "execute_result",
     "data": {
      "text/plain": "True"
     },
     "metadata": {},
     "execution_count": 7
    }
   ],
   "source": [
    "all(pset_df[['unit', 'filename', 'problems_list', 'problem_kind', 'head', 'body', 'problem_IDs']] == pset_df2[['unit', 'filename', 'problems_list', 'problem_kind', 'head', 'body', 'problem_IDs']])"
   ]
  },
  {
   "cell_type": "code",
   "execution_count": 8,
   "metadata": {},
   "outputs": [],
   "source": [
    "problem_df.sort_values('q_len', inplace=True)"
   ]
  },
  {
   "cell_type": "code",
   "execution_count": 9,
   "metadata": {},
   "outputs": [
    {
     "output_type": "execute_result",
     "data": {
      "text/plain": "True"
     },
     "metadata": {},
     "execution_count": 9
    }
   ],
   "source": [
    "all(problem_df[['problem_set_ID', 'question', 'filename', 'q_len']] == problem_df2[['problem_set_ID', 'question', 'filename', 'q_len']])"
   ]
  },
  {
   "cell_type": "markdown",
   "metadata": {},
   "source": [
    "## Parse small subsets of course"
   ]
  },
  {
   "cell_type": "code",
   "execution_count": 74,
   "metadata": {},
   "outputs": [
    {
     "output_type": "execute_result",
     "data": {
      "text/plain": "       unit  file_count                       filename\n0  01-Intro           6  1-3DN_Function-intercepts.tex",
      "text/html": "<div>\n<style scoped>\n    .dataframe tbody tr th:only-of-type {\n        vertical-align: middle;\n    }\n\n    .dataframe tbody tr th {\n        vertical-align: top;\n    }\n\n    .dataframe thead th {\n        text-align: right;\n    }\n</style>\n<table border=\"1\" class=\"dataframe\">\n  <thead>\n    <tr style=\"text-align: right;\">\n      <th></th>\n      <th>unit</th>\n      <th>file_count</th>\n      <th>filename</th>\n    </tr>\n  </thead>\n  <tbody>\n    <tr>\n      <th>0</th>\n      <td>01-Intro</td>\n      <td>6</td>\n      <td>1-3DN_Function-intercepts.tex</td>\n    </tr>\n  </tbody>\n</table>\n</div>"
     },
     "metadata": {},
     "execution_count": 74
    }
   ],
   "source": [
    "course_file_df = pd.DataFrame({\"unit\":['01-Intro'], \"file_count\":[6], \"filename\":['1-3DN_Function-intercepts.tex']})\n",
    "course_file_df"
   ]
  },
  {
   "cell_type": "code",
   "execution_count": 75,
   "metadata": {
    "tags": []
   },
   "outputs": [],
   "source": [
    "#pset_df[pset_df.file.str.startswith('1-3DN')]\n",
    "pset_1_3DN_df = parse_course_files(course_file_df, course_dir='/Users/chris/GitHub/course-files/Geom')"
   ]
  },
  {
   "cell_type": "code",
   "execution_count": 78,
   "metadata": {},
   "outputs": [],
   "source": [
    "pset_1_3DN_df[['path', 'unit', 'file']] = pset_1_3DN_df.filename.str.rsplit('/', n=2, expand=True)\n",
    "new_cols = ['unit', 'file', 'problem_count', 'head', 'body', 'problems_list', 'path', 'filename']\n",
    "pset_df = pset_df.reindex(columns=new_cols)"
   ]
  },
  {
   "cell_type": "markdown",
   "metadata": {},
   "source": [
    "## Review problems"
   ]
  },
  {
   "cell_type": "code",
   "execution_count": 34,
   "metadata": {},
   "outputs": [
    {
     "output_type": "execute_result",
     "data": {
      "text/plain": "array(['01-Intro', '02-Midpoint+distance', '03-Volume+angle-bisectors',\n       '04-Transversals', '05-Transformations', '06-Analytic-geometry',\n       '07-Similarity', '08-Area+volume', '09-Congruence-transformations',\n       '10-Trig+similarity+analytics'], dtype=object)"
     },
     "metadata": {},
     "execution_count": 34
    }
   ],
   "source": [
    "pset_df.unit.unique()"
   ]
  },
  {
   "cell_type": "code",
   "execution_count": 39,
   "metadata": {},
   "outputs": [
    {
     "output_type": "execute_result",
     "data": {
      "text/plain": "                               filename  problem_count  problems_list  \\\nunit                                                                    \n01-Intro                             16             16             16   \n02-Midpoint+distance                 18             18             18   \n03-Volume+angle-bisectors            12             12             12   \n04-Transversals                       8              8              8   \n05-Transformations                   18             18             18   \n06-Analytic-geometry                 25             25             25   \n07-Similarity                        27             27             27   \n08-Area+volume                       23             23             23   \n09-Congruence-transformations        18             18             18   \n10-Trig+similarity+analytics          7              7              7   \n\n                               problem_kind  head  body  problem_IDs  \nunit                                                                  \n01-Intro                                 16    16    16           16  \n02-Midpoint+distance                     18    18    18           18  \n03-Volume+angle-bisectors                12    12    12           12  \n04-Transversals                           8     8     8            8  \n05-Transformations                       18    18    18           18  \n06-Analytic-geometry                     25    25    25           25  \n07-Similarity                            27    27    27           27  \n08-Area+volume                           23    23    23           23  \n09-Congruence-transformations            18    18    18           18  \n10-Trig+similarity+analytics              7     7     7            7  ",
      "text/html": "<div>\n<style scoped>\n    .dataframe tbody tr th:only-of-type {\n        vertical-align: middle;\n    }\n\n    .dataframe tbody tr th {\n        vertical-align: top;\n    }\n\n    .dataframe thead th {\n        text-align: right;\n    }\n</style>\n<table border=\"1\" class=\"dataframe\">\n  <thead>\n    <tr style=\"text-align: right;\">\n      <th></th>\n      <th>filename</th>\n      <th>problem_count</th>\n      <th>problems_list</th>\n      <th>problem_kind</th>\n      <th>head</th>\n      <th>body</th>\n      <th>problem_IDs</th>\n    </tr>\n    <tr>\n      <th>unit</th>\n      <th></th>\n      <th></th>\n      <th></th>\n      <th></th>\n      <th></th>\n      <th></th>\n      <th></th>\n    </tr>\n  </thead>\n  <tbody>\n    <tr>\n      <th>01-Intro</th>\n      <td>16</td>\n      <td>16</td>\n      <td>16</td>\n      <td>16</td>\n      <td>16</td>\n      <td>16</td>\n      <td>16</td>\n    </tr>\n    <tr>\n      <th>02-Midpoint+distance</th>\n      <td>18</td>\n      <td>18</td>\n      <td>18</td>\n      <td>18</td>\n      <td>18</td>\n      <td>18</td>\n      <td>18</td>\n    </tr>\n    <tr>\n      <th>03-Volume+angle-bisectors</th>\n      <td>12</td>\n      <td>12</td>\n      <td>12</td>\n      <td>12</td>\n      <td>12</td>\n      <td>12</td>\n      <td>12</td>\n    </tr>\n    <tr>\n      <th>04-Transversals</th>\n      <td>8</td>\n      <td>8</td>\n      <td>8</td>\n      <td>8</td>\n      <td>8</td>\n      <td>8</td>\n      <td>8</td>\n    </tr>\n    <tr>\n      <th>05-Transformations</th>\n      <td>18</td>\n      <td>18</td>\n      <td>18</td>\n      <td>18</td>\n      <td>18</td>\n      <td>18</td>\n      <td>18</td>\n    </tr>\n    <tr>\n      <th>06-Analytic-geometry</th>\n      <td>25</td>\n      <td>25</td>\n      <td>25</td>\n      <td>25</td>\n      <td>25</td>\n      <td>25</td>\n      <td>25</td>\n    </tr>\n    <tr>\n      <th>07-Similarity</th>\n      <td>27</td>\n      <td>27</td>\n      <td>27</td>\n      <td>27</td>\n      <td>27</td>\n      <td>27</td>\n      <td>27</td>\n    </tr>\n    <tr>\n      <th>08-Area+volume</th>\n      <td>23</td>\n      <td>23</td>\n      <td>23</td>\n      <td>23</td>\n      <td>23</td>\n      <td>23</td>\n      <td>23</td>\n    </tr>\n    <tr>\n      <th>09-Congruence-transformations</th>\n      <td>18</td>\n      <td>18</td>\n      <td>18</td>\n      <td>18</td>\n      <td>18</td>\n      <td>18</td>\n      <td>18</td>\n    </tr>\n    <tr>\n      <th>10-Trig+similarity+analytics</th>\n      <td>7</td>\n      <td>7</td>\n      <td>7</td>\n      <td>7</td>\n      <td>7</td>\n      <td>7</td>\n      <td>7</td>\n    </tr>\n  </tbody>\n</table>\n</div>"
     },
     "metadata": {},
     "execution_count": 39
    }
   ],
   "source": [
    "pset_df.groupby('unit').count()"
   ]
  },
  {
   "cell_type": "code",
   "execution_count": 33,
   "metadata": {},
   "outputs": [
    {
     "output_type": "execute_result",
     "data": {
      "text/plain": "                                unit                          filename  \\\nproblem_set_ID                                                           \n0                           01-Intro             1-1CW_Measurement.tex   \n1                           01-Intro         1-1DNQ_Distance+slope.tex   \n2                           01-Intro                 1-1DN_Algebra.tex   \n3                           01-Intro                 1-1HW_Algebra.tex   \n4                           01-Intro     1-3DN_Function-intercepts.tex   \n5                           01-Intro    1-3HW_Equilateral-triangle.tex   \n6                           01-Intro                   1-4HW-Intro.tex   \n7                           01-Intro        1-4HW_Segment-addition.tex   \n8                           01-Intro       1-5CW_Angle-terminology.tex   \n9                           01-Intro  1-5HW_Pretest-segments-intro.tex   \n10                          01-Intro             1-6DN_Angle-pairs.tex   \n11                          01-Intro             1-6HW_Angle-pairs.tex   \n12                          01-Intro                 1-7Exam-Intro.tex   \n13                          01-Intro           1-7Exam-corrections.tex   \n14                          01-Intro                 1-7Exam-spicy.tex   \n15                          01-Intro            1-7HW_Calculations.tex   \n16              02-Midpoint+distance             2-1DN_Exam-review.tex   \n17              02-Midpoint+distance          2-2HW_Midpoint-calcs.tex   \n18              02-Midpoint+distance     2-3DN_Midpoint+rectangles.tex   \n19              02-Midpoint+distance           2-3HW_Triangle-area.tex   \n\n                problem_count  \\\nproblem_set_ID                  \n0                           8   \n1                           4   \n2                           7   \n3                           8   \n4                           6   \n5                          11   \n6                         115   \n7                          11   \n8                           8   \n9                          17   \n10                          6   \n11                          6   \n12                         25   \n13                         23   \n14                          7   \n15                          8   \n16                          1   \n17                          5   \n18                          7   \n19                          7   \n\n                                                    problems_list  \\\nproblem_set_ID                                                      \n0               [Given the line segment $\\overline{PQ}$ shown ...   \n1               [Write down the slope and $y$-intercept of eac...   \n2               [In the following two problems, solve for the ...   \n3               [In the following two problems, solve for the ...   \n4               [I have a compass, ruler, protractor, notebook...   \n5               [Construct an equilateral triangle with $\\over...   \n6               [The points where a line segment begins and en...   \n7               [I have a compass, ruler, protractor, notebook...   \n8               [I have a compass, ruler, protractor, notebook...   \n9               [Points that are all located on the same line ...   \n10              [Complete the construction of an equilateral t...   \n11              [Points that are all located on the same line ...   \n12              [I have a calculator. (circle one). Yes \\qquad...   \n13              [Points that are all located on the same line ...   \n14              [Given $\\overline{ABC}$, $AB=4$, and $AC=25$.\\...   \n15              [Given $\\overline{ABC}$, $AB=84$, and $AC=116$...   \n16              [Complete the construction of an equilateral t...   \n17              [Complete the construction of a perpendicular ...   \n18              [Given $\\overleftrightarrow{TC}$ as shown on t...   \n19              [Find the area of $\\triangle ABC$,  $Area= \\fr...   \n\n                                                     problem_kind  \\\nproblem_set_ID                                                      \n0               [question, newpage, question, newpage, questio...   \n1                         [question, question, newpage, question]   \n2               [question, question, question, question, newpa...   \n3               [question, question, question, question, quest...   \n4               [question, question, question, newpage, questi...   \n5               [question, question, newpage, question, questi...   \n6               [question, question, question, question, quest...   \n7               [question, question, question, question, quest...   \n8               [question, question, question, question, quest...   \n9               [question, question, question, question, quest...   \n10              [question, newpage, question, question, questi...   \n11              [question, question, question, newpage, questi...   \n12              [question, question, question, newpage, questi...   \n13              [question, question, question, question, quest...   \n14              [question, question, question, newpage, questi...   \n15              [question, question, question, question, newpa...   \n16                                                     [question]   \n17              [question, newpage, question, question, question]   \n18              [question, question, question, newpage, questi...   \n19              [question, question, question, newpage, questi...   \n\n                                                             head  \\\nproblem_set_ID                                                      \n0               [\\begin{document}\\n, \\subsubsection*{1-1 Class...   \n1               [\\begin{document}\\n, \\subsubsection*{0.1 Quiz:...   \n2               [\\begin{document}\\n, \\subsubsection*{1-1 Do No...   \n3               [\\begin{document}\\n, \\subsubsection*{1-1 Homew...   \n4               [\\begin{document}\\n, \\subsubsection*{1-3 Do No...   \n5               [\\begin{document}\\n, \\subsubsection*{Homework ...   \n6               [\\begin{document}\\n, \\subsubsection*{Quiz Corr...   \n7               [\\begin{document}\\n, \\subsubsection*{Homework ...   \n8               [\\begin{document}\\n, \\subsubsection*{Classwork...   \n9               [\\begin{document}\\n, \\subsubsection*{1-8 Homew...   \n10              [\\begin{document}\\n, \\subsubsection*{1.6 Do No...   \n11              [\\begin{document}\\n, \\subsubsection*{1.6 Homew...   \n12              [\\begin{document}\\n,   \\subsubsection*{1.7 Exa...   \n13              [\\begin{document}\\n,   \\subsubsection*{2.1 Do ...   \n14              [\\begin{document}\\n, \\subsubsection*{1.7 Exam:...   \n15              [\\begin{document}\\n, \\subsubsection*{1.7 Homew...   \n16              [\\begin{document}\\n,   \\subsubsection*{2.1 Do ...   \n17              [\\begin{document}\\n,   \\subsubsection*{2.2 Hom...   \n18              [\\begin{document}\\n,   \\subsubsection*{2.3 Do ...   \n19              [\\begin{document}\\n,   \\subsubsection*{2.3 Hom...   \n\n                                                             body  \\\nproblem_set_ID                                                      \n0               [\\n,   \\item Given the line segment $\\overline...   \n1               [\\n,   \\item Write down the slope and $y$-inte...   \n2               [\\n, \\n,   \\item In the following two problems...   \n3               [\\n, \\n,   \\item In the following two problems...   \n4               [  \\item I have a compass, ruler, protractor, ...   \n5               [\\n,     \\item Construct an equilateral triang...   \n6               [  \\item The points where a line segment begin...   \n7               [    \\item I have a compass, ruler, protractor...   \n8               [    \\item I have a compass, ruler, protractor...   \n9               [  \\item Points that are all located on the sa...   \n10              [\\n,   \\item Complete the construction of an e...   \n11              [\\n,   \\item Points that are all located on th...   \n12              [\\n,   \\item I have a calculator. (circle one)...   \n13              [  \\item Points that are all located on the sa...   \n14              [\\n,   \\item Given $\\overline{ABC}$, $AB=4$, a...   \n15              [\\n,   \\item Given $\\overline{ABC}$, $AB=84$, ...   \n16              [      \\item Complete the construction of an e...   \n17              [      \\item Complete the construction of a pe...   \n18              [\\n,     \\item Given $\\overleftrightarrow{TC}$...   \n19              [\\n, \\n,    \\item Find the area of $\\triangle ...   \n\n                                                      problem_IDs  \nproblem_set_ID                                                     \n0                                        [3, 5, 1, 6, 2, 7, 0, 4]  \n1                                                  [10, 9, 8, 11]  \n2                                    [16, 13, 15, 14, 17, 12, 18]  \n3                                [24, 20, 22, 21, 19, 23, 25, 26]  \n4                                        [30, 27, 28, 31, 29, 32]  \n5                    [35, 41, 40, 39, 36, 42, 38, 37, 33, 34, 43]  \n6               [118, 100, 106, 109, 155, 123, 145, 127, 130, ...  \n7               [166, 165, 161, 159, 167, 169, 164, 163, 168, ...  \n8                        [175, 173, 170, 172, 171, 174, 177, 176]  \n9               [192, 189, 183, 180, 178, 181, 186, 187, 194, ...  \n10                                 [196, 197, 198, 199, 195, 200]  \n11                                 [204, 201, 202, 203, 205, 206]  \n12              [228, 225, 210, 217, 222, 207, 214, 211, 215, ...  \n13              [251, 249, 239, 247, 244, 236, 235, 232, 237, ...  \n14                            [258, 261, 255, 259, 256, 260, 257]  \n15                       [266, 269, 262, 263, 264, 267, 265, 268]  \n16                                                          [270]  \n17                                      [272, 275, 274, 273, 271]  \n18                            [279, 282, 280, 278, 276, 281, 277]  \n19                            [286, 288, 285, 283, 289, 287, 284]  ",
      "text/html": "<div>\n<style scoped>\n    .dataframe tbody tr th:only-of-type {\n        vertical-align: middle;\n    }\n\n    .dataframe tbody tr th {\n        vertical-align: top;\n    }\n\n    .dataframe thead th {\n        text-align: right;\n    }\n</style>\n<table border=\"1\" class=\"dataframe\">\n  <thead>\n    <tr style=\"text-align: right;\">\n      <th></th>\n      <th>unit</th>\n      <th>filename</th>\n      <th>problem_count</th>\n      <th>problems_list</th>\n      <th>problem_kind</th>\n      <th>head</th>\n      <th>body</th>\n      <th>problem_IDs</th>\n    </tr>\n    <tr>\n      <th>problem_set_ID</th>\n      <th></th>\n      <th></th>\n      <th></th>\n      <th></th>\n      <th></th>\n      <th></th>\n      <th></th>\n      <th></th>\n    </tr>\n  </thead>\n  <tbody>\n    <tr>\n      <th>0</th>\n      <td>01-Intro</td>\n      <td>1-1CW_Measurement.tex</td>\n      <td>8</td>\n      <td>[Given the line segment $\\overline{PQ}$ shown ...</td>\n      <td>[question, newpage, question, newpage, questio...</td>\n      <td>[\\begin{document}\\n, \\subsubsection*{1-1 Class...</td>\n      <td>[\\n,   \\item Given the line segment $\\overline...</td>\n      <td>[3, 5, 1, 6, 2, 7, 0, 4]</td>\n    </tr>\n    <tr>\n      <th>1</th>\n      <td>01-Intro</td>\n      <td>1-1DNQ_Distance+slope.tex</td>\n      <td>4</td>\n      <td>[Write down the slope and $y$-intercept of eac...</td>\n      <td>[question, question, newpage, question]</td>\n      <td>[\\begin{document}\\n, \\subsubsection*{0.1 Quiz:...</td>\n      <td>[\\n,   \\item Write down the slope and $y$-inte...</td>\n      <td>[10, 9, 8, 11]</td>\n    </tr>\n    <tr>\n      <th>2</th>\n      <td>01-Intro</td>\n      <td>1-1DN_Algebra.tex</td>\n      <td>7</td>\n      <td>[In the following two problems, solve for the ...</td>\n      <td>[question, question, question, question, newpa...</td>\n      <td>[\\begin{document}\\n, \\subsubsection*{1-1 Do No...</td>\n      <td>[\\n, \\n,   \\item In the following two problems...</td>\n      <td>[16, 13, 15, 14, 17, 12, 18]</td>\n    </tr>\n    <tr>\n      <th>3</th>\n      <td>01-Intro</td>\n      <td>1-1HW_Algebra.tex</td>\n      <td>8</td>\n      <td>[In the following two problems, solve for the ...</td>\n      <td>[question, question, question, question, quest...</td>\n      <td>[\\begin{document}\\n, \\subsubsection*{1-1 Homew...</td>\n      <td>[\\n, \\n,   \\item In the following two problems...</td>\n      <td>[24, 20, 22, 21, 19, 23, 25, 26]</td>\n    </tr>\n    <tr>\n      <th>4</th>\n      <td>01-Intro</td>\n      <td>1-3DN_Function-intercepts.tex</td>\n      <td>6</td>\n      <td>[I have a compass, ruler, protractor, notebook...</td>\n      <td>[question, question, question, newpage, questi...</td>\n      <td>[\\begin{document}\\n, \\subsubsection*{1-3 Do No...</td>\n      <td>[  \\item I have a compass, ruler, protractor, ...</td>\n      <td>[30, 27, 28, 31, 29, 32]</td>\n    </tr>\n    <tr>\n      <th>5</th>\n      <td>01-Intro</td>\n      <td>1-3HW_Equilateral-triangle.tex</td>\n      <td>11</td>\n      <td>[Construct an equilateral triangle with $\\over...</td>\n      <td>[question, question, newpage, question, questi...</td>\n      <td>[\\begin{document}\\n, \\subsubsection*{Homework ...</td>\n      <td>[\\n,     \\item Construct an equilateral triang...</td>\n      <td>[35, 41, 40, 39, 36, 42, 38, 37, 33, 34, 43]</td>\n    </tr>\n    <tr>\n      <th>6</th>\n      <td>01-Intro</td>\n      <td>1-4HW-Intro.tex</td>\n      <td>115</td>\n      <td>[The points where a line segment begins and en...</td>\n      <td>[question, question, question, question, quest...</td>\n      <td>[\\begin{document}\\n, \\subsubsection*{Quiz Corr...</td>\n      <td>[  \\item The points where a line segment begin...</td>\n      <td>[118, 100, 106, 109, 155, 123, 145, 127, 130, ...</td>\n    </tr>\n    <tr>\n      <th>7</th>\n      <td>01-Intro</td>\n      <td>1-4HW_Segment-addition.tex</td>\n      <td>11</td>\n      <td>[I have a compass, ruler, protractor, notebook...</td>\n      <td>[question, question, question, question, quest...</td>\n      <td>[\\begin{document}\\n, \\subsubsection*{Homework ...</td>\n      <td>[    \\item I have a compass, ruler, protractor...</td>\n      <td>[166, 165, 161, 159, 167, 169, 164, 163, 168, ...</td>\n    </tr>\n    <tr>\n      <th>8</th>\n      <td>01-Intro</td>\n      <td>1-5CW_Angle-terminology.tex</td>\n      <td>8</td>\n      <td>[I have a compass, ruler, protractor, notebook...</td>\n      <td>[question, question, question, question, quest...</td>\n      <td>[\\begin{document}\\n, \\subsubsection*{Classwork...</td>\n      <td>[    \\item I have a compass, ruler, protractor...</td>\n      <td>[175, 173, 170, 172, 171, 174, 177, 176]</td>\n    </tr>\n    <tr>\n      <th>9</th>\n      <td>01-Intro</td>\n      <td>1-5HW_Pretest-segments-intro.tex</td>\n      <td>17</td>\n      <td>[Points that are all located on the same line ...</td>\n      <td>[question, question, question, question, quest...</td>\n      <td>[\\begin{document}\\n, \\subsubsection*{1-8 Homew...</td>\n      <td>[  \\item Points that are all located on the sa...</td>\n      <td>[192, 189, 183, 180, 178, 181, 186, 187, 194, ...</td>\n    </tr>\n    <tr>\n      <th>10</th>\n      <td>01-Intro</td>\n      <td>1-6DN_Angle-pairs.tex</td>\n      <td>6</td>\n      <td>[Complete the construction of an equilateral t...</td>\n      <td>[question, newpage, question, question, questi...</td>\n      <td>[\\begin{document}\\n, \\subsubsection*{1.6 Do No...</td>\n      <td>[\\n,   \\item Complete the construction of an e...</td>\n      <td>[196, 197, 198, 199, 195, 200]</td>\n    </tr>\n    <tr>\n      <th>11</th>\n      <td>01-Intro</td>\n      <td>1-6HW_Angle-pairs.tex</td>\n      <td>6</td>\n      <td>[Points that are all located on the same line ...</td>\n      <td>[question, question, question, newpage, questi...</td>\n      <td>[\\begin{document}\\n, \\subsubsection*{1.6 Homew...</td>\n      <td>[\\n,   \\item Points that are all located on th...</td>\n      <td>[204, 201, 202, 203, 205, 206]</td>\n    </tr>\n    <tr>\n      <th>12</th>\n      <td>01-Intro</td>\n      <td>1-7Exam-Intro.tex</td>\n      <td>25</td>\n      <td>[I have a calculator. (circle one). Yes \\qquad...</td>\n      <td>[question, question, question, newpage, questi...</td>\n      <td>[\\begin{document}\\n,   \\subsubsection*{1.7 Exa...</td>\n      <td>[\\n,   \\item I have a calculator. (circle one)...</td>\n      <td>[228, 225, 210, 217, 222, 207, 214, 211, 215, ...</td>\n    </tr>\n    <tr>\n      <th>13</th>\n      <td>01-Intro</td>\n      <td>1-7Exam-corrections.tex</td>\n      <td>23</td>\n      <td>[Points that are all located on the same line ...</td>\n      <td>[question, question, question, question, quest...</td>\n      <td>[\\begin{document}\\n,   \\subsubsection*{2.1 Do ...</td>\n      <td>[  \\item Points that are all located on the sa...</td>\n      <td>[251, 249, 239, 247, 244, 236, 235, 232, 237, ...</td>\n    </tr>\n    <tr>\n      <th>14</th>\n      <td>01-Intro</td>\n      <td>1-7Exam-spicy.tex</td>\n      <td>7</td>\n      <td>[Given $\\overline{ABC}$, $AB=4$, and $AC=25$.\\...</td>\n      <td>[question, question, question, newpage, questi...</td>\n      <td>[\\begin{document}\\n, \\subsubsection*{1.7 Exam:...</td>\n      <td>[\\n,   \\item Given $\\overline{ABC}$, $AB=4$, a...</td>\n      <td>[258, 261, 255, 259, 256, 260, 257]</td>\n    </tr>\n    <tr>\n      <th>15</th>\n      <td>01-Intro</td>\n      <td>1-7HW_Calculations.tex</td>\n      <td>8</td>\n      <td>[Given $\\overline{ABC}$, $AB=84$, and $AC=116$...</td>\n      <td>[question, question, question, question, newpa...</td>\n      <td>[\\begin{document}\\n, \\subsubsection*{1.7 Homew...</td>\n      <td>[\\n,   \\item Given $\\overline{ABC}$, $AB=84$, ...</td>\n      <td>[266, 269, 262, 263, 264, 267, 265, 268]</td>\n    </tr>\n    <tr>\n      <th>16</th>\n      <td>02-Midpoint+distance</td>\n      <td>2-1DN_Exam-review.tex</td>\n      <td>1</td>\n      <td>[Complete the construction of an equilateral t...</td>\n      <td>[question]</td>\n      <td>[\\begin{document}\\n,   \\subsubsection*{2.1 Do ...</td>\n      <td>[      \\item Complete the construction of an e...</td>\n      <td>[270]</td>\n    </tr>\n    <tr>\n      <th>17</th>\n      <td>02-Midpoint+distance</td>\n      <td>2-2HW_Midpoint-calcs.tex</td>\n      <td>5</td>\n      <td>[Complete the construction of a perpendicular ...</td>\n      <td>[question, newpage, question, question, question]</td>\n      <td>[\\begin{document}\\n,   \\subsubsection*{2.2 Hom...</td>\n      <td>[      \\item Complete the construction of a pe...</td>\n      <td>[272, 275, 274, 273, 271]</td>\n    </tr>\n    <tr>\n      <th>18</th>\n      <td>02-Midpoint+distance</td>\n      <td>2-3DN_Midpoint+rectangles.tex</td>\n      <td>7</td>\n      <td>[Given $\\overleftrightarrow{TC}$ as shown on t...</td>\n      <td>[question, question, question, newpage, questi...</td>\n      <td>[\\begin{document}\\n,   \\subsubsection*{2.3 Do ...</td>\n      <td>[\\n,     \\item Given $\\overleftrightarrow{TC}$...</td>\n      <td>[279, 282, 280, 278, 276, 281, 277]</td>\n    </tr>\n    <tr>\n      <th>19</th>\n      <td>02-Midpoint+distance</td>\n      <td>2-3HW_Triangle-area.tex</td>\n      <td>7</td>\n      <td>[Find the area of $\\triangle ABC$,  $Area= \\fr...</td>\n      <td>[question, question, question, newpage, questi...</td>\n      <td>[\\begin{document}\\n,   \\subsubsection*{2.3 Hom...</td>\n      <td>[\\n, \\n,    \\item Find the area of $\\triangle ...</td>\n      <td>[286, 288, 285, 283, 289, 287, 284]</td>\n    </tr>\n  </tbody>\n</table>\n</div>"
     },
     "metadata": {},
     "execution_count": 33
    }
   ],
   "source": [
    "pset_df.head(20)"
   ]
  },
  {
   "cell_type": "code",
   "execution_count": 18,
   "metadata": {},
   "outputs": [
    {
     "output_type": "execute_result",
     "data": {
      "text/plain": "            problem_set_ID                                           question  \\\nproblem_ID                                                                      \n1160                    79  In this problem use the following theorem (cop...   \n1161                    79                                         \\newpage\\n   \n1162                    79    \\subsubsection*{Using the distance formula t...   \n1163                    79  In this problem use the following theorem (cop...   \n1164                    79                                         \\newpage\\n   \n1165                    79  Given $\\overleftrightarrow{AB}$ as shown on th...   \n\n                                  filename  q_len  \nproblem_ID                                         \n1160        6-12Exam-Analytic-geometry.tex   1026  \n1161        6-12Exam-Analytic-geometry.tex      9  \n1162        6-12Exam-Analytic-geometry.tex     71  \n1163        6-12Exam-Analytic-geometry.tex   1027  \n1164        6-12Exam-Analytic-geometry.tex     13  \n1165        6-12Exam-Analytic-geometry.tex    541  ",
      "text/html": "<div>\n<style scoped>\n    .dataframe tbody tr th:only-of-type {\n        vertical-align: middle;\n    }\n\n    .dataframe tbody tr th {\n        vertical-align: top;\n    }\n\n    .dataframe thead th {\n        text-align: right;\n    }\n</style>\n<table border=\"1\" class=\"dataframe\">\n  <thead>\n    <tr style=\"text-align: right;\">\n      <th></th>\n      <th>problem_set_ID</th>\n      <th>question</th>\n      <th>filename</th>\n      <th>q_len</th>\n    </tr>\n    <tr>\n      <th>problem_ID</th>\n      <th></th>\n      <th></th>\n      <th></th>\n      <th></th>\n    </tr>\n  </thead>\n  <tbody>\n    <tr>\n      <th>1160</th>\n      <td>79</td>\n      <td>In this problem use the following theorem (cop...</td>\n      <td>6-12Exam-Analytic-geometry.tex</td>\n      <td>1026</td>\n    </tr>\n    <tr>\n      <th>1161</th>\n      <td>79</td>\n      <td>\\newpage\\n</td>\n      <td>6-12Exam-Analytic-geometry.tex</td>\n      <td>9</td>\n    </tr>\n    <tr>\n      <th>1162</th>\n      <td>79</td>\n      <td>\\subsubsection*{Using the distance formula t...</td>\n      <td>6-12Exam-Analytic-geometry.tex</td>\n      <td>71</td>\n    </tr>\n    <tr>\n      <th>1163</th>\n      <td>79</td>\n      <td>In this problem use the following theorem (cop...</td>\n      <td>6-12Exam-Analytic-geometry.tex</td>\n      <td>1027</td>\n    </tr>\n    <tr>\n      <th>1164</th>\n      <td>79</td>\n      <td>\\newpage\\n</td>\n      <td>6-12Exam-Analytic-geometry.tex</td>\n      <td>13</td>\n    </tr>\n    <tr>\n      <th>1165</th>\n      <td>79</td>\n      <td>Given $\\overleftrightarrow{AB}$ as shown on th...</td>\n      <td>6-12Exam-Analytic-geometry.tex</td>\n      <td>541</td>\n    </tr>\n  </tbody>\n</table>\n</div>"
     },
     "metadata": {},
     "execution_count": 18
    }
   ],
   "source": [
    "ps = range(1160, 1166)\n",
    "problem_df.loc[ps]"
   ]
  },
  {
   "cell_type": "code",
   "execution_count": 10,
   "metadata": {},
   "outputs": [
    {
     "output_type": "execute_result",
     "data": {
      "text/plain": "['In the following two problems, solve for the value of $x$.\\n  \\\\begin{multicols}{2}\\n    \\\\begin{enumerate}\\n      \\\\item   $x-5=12$ \\\\vspace{6cm}\\n      \\\\item   $13-x=-3$ \\\\vspace{6cm}\\n    \\\\end{enumerate}\\n  \\\\end{multicols}\\n    \\\\vspace{3cm}\\n\\n',\n 'Given $g(x)=x^2-5x+15$. Simplify $g(0)$. \\\\vspace{3cm}\\n',\n 'Given $f(x)=3x-2$. Solve for $x$ such that for $f(x)=13$. \\\\vspace{4cm}\\n',\n 'Given $h(x)=x^2-x-12$. Solve $h(x)=0$. \\\\vspace{5cm}\\n  \\n\\n',\n 'Simplify each expression. (Leave it in radical form if necessary, not a decimal.)\\n    \\\\begin{enumerate}\\n      \\\\begin{multicols}{2}\\n      \\\\item   $\\\\sqrt{25}$ \\\\vspace{1.5cm}\\n      \\\\item   $\\\\sqrt{24}$ \\\\vspace{1.5cm}\\n      \\\\end{multicols}\\n    \\\\end{enumerate}\\n    \\\\vspace{0.5cm}\\n\\n',\n '\\\\newpage\\n\\n',\n \"The line $l$ has the equation $y=\\\\frac{3}{2}x-1$. \\n\\\\begin{enumerate}\\n  \\\\item Write down it's slope. $m=$\\n  \\\\vspace{0.5cm}\\n  \\\\item Write down it's $y$-intercept. $b=$\\n  \\\\vspace{0.5cm}\\n  \\\\item Is the point $(4, 4)$ on the line $l$? Justify your answer.\\n\\\\end{enumerate}\\n\\\\vspace{2.5cm}\\n\\n\",\n 'On the grid below, graph the line $y=-\\\\frac{1}{2}x+2$.\\n  \\\\vspace{0.5cm}\\n\\n    \\\\begin{center} %4 quadrant regents grid w T-Chart\\n    \\\\begin{tikzpicture}[scale=.635]\\n      \\\\draw [help lines] (-10,-10) grid (10,10);\\n      \\\\draw [thick, ->] (-10.2,0) -- (10.4,0) node [below right] {$x$};\\n      \\\\draw [thick, ->] (0,-10.2)--(0,10.4) node [left] {$y$};\\n    \\\\end{tikzpicture}\\n    \\\\end{center}\\n\\n']"
     },
     "metadata": {},
     "execution_count": 10
    }
   ],
   "source": [
    "pset_df.loc[3,'problems_list']"
   ]
  },
  {
   "cell_type": "code",
   "execution_count": 11,
   "metadata": {},
   "outputs": [
    {
     "output_type": "execute_result",
     "data": {
      "text/plain": "            problem_set_ID                                           question  \\\nproblem_ID                                                                      \n367                     30  Solve for $x$ by factoring\\n    \\begin{multico...   \n400                     32  \\emph{Factor and solve for $x$.}\\n  \\begin{enu...   \n2133                   146  Simplify each radical.\\n  \\begin{multicols}{2}...   \n2132                   146  Expand each binomial-squared expression to the...   \n1209                    81  In the following two problems, solve for the v...   \n\n                                 file  q_len  \nproblem_ID                                    \n367           2-8DN_Constructions.tex    171  \n400         2-9Exam_area-distance.tex    172  \n2133        8-9DN_Circle-equation.tex    183  \n2132        8-9DN_Circle-equation.tex    214  \n1209               6-1DN_graphing.tex    226  ",
      "text/html": "<div>\n<style scoped>\n    .dataframe tbody tr th:only-of-type {\n        vertical-align: middle;\n    }\n\n    .dataframe tbody tr th {\n        vertical-align: top;\n    }\n\n    .dataframe thead th {\n        text-align: right;\n    }\n</style>\n<table border=\"1\" class=\"dataframe\">\n  <thead>\n    <tr style=\"text-align: right;\">\n      <th></th>\n      <th>problem_set_ID</th>\n      <th>question</th>\n      <th>file</th>\n      <th>q_len</th>\n    </tr>\n    <tr>\n      <th>problem_ID</th>\n      <th></th>\n      <th></th>\n      <th></th>\n      <th></th>\n    </tr>\n  </thead>\n  <tbody>\n    <tr>\n      <th>367</th>\n      <td>30</td>\n      <td>Solve for $x$ by factoring\\n    \\begin{multico...</td>\n      <td>2-8DN_Constructions.tex</td>\n      <td>171</td>\n    </tr>\n    <tr>\n      <th>400</th>\n      <td>32</td>\n      <td>\\emph{Factor and solve for $x$.}\\n  \\begin{enu...</td>\n      <td>2-9Exam_area-distance.tex</td>\n      <td>172</td>\n    </tr>\n    <tr>\n      <th>2133</th>\n      <td>146</td>\n      <td>Simplify each radical.\\n  \\begin{multicols}{2}...</td>\n      <td>8-9DN_Circle-equation.tex</td>\n      <td>183</td>\n    </tr>\n    <tr>\n      <th>2132</th>\n      <td>146</td>\n      <td>Expand each binomial-squared expression to the...</td>\n      <td>8-9DN_Circle-equation.tex</td>\n      <td>214</td>\n    </tr>\n    <tr>\n      <th>1209</th>\n      <td>81</td>\n      <td>In the following two problems, solve for the v...</td>\n      <td>6-1DN_graphing.tex</td>\n      <td>226</td>\n    </tr>\n  </tbody>\n</table>\n</div>"
     },
     "metadata": {},
     "execution_count": 11
    }
   ],
   "source": [
    "problem_df[(problem_df.question.str.contains('multicol'))].head()"
   ]
  },
  {
   "cell_type": "code",
   "execution_count": 14,
   "metadata": {},
   "outputs": [
    {
     "output_type": "execute_result",
     "data": {
      "text/plain": "       problem_set_ID  question  file\nq_len                                \n9                 431       431   431\n10                 22        22    22\n11                 40        40    40\n12                  2         2     2\n13                 13        13    13",
      "text/html": "<div>\n<style scoped>\n    .dataframe tbody tr th:only-of-type {\n        vertical-align: middle;\n    }\n\n    .dataframe tbody tr th {\n        vertical-align: top;\n    }\n\n    .dataframe thead th {\n        text-align: right;\n    }\n</style>\n<table border=\"1\" class=\"dataframe\">\n  <thead>\n    <tr style=\"text-align: right;\">\n      <th></th>\n      <th>problem_set_ID</th>\n      <th>question</th>\n      <th>file</th>\n    </tr>\n    <tr>\n      <th>q_len</th>\n      <th></th>\n      <th></th>\n      <th></th>\n    </tr>\n  </thead>\n  <tbody>\n    <tr>\n      <th>9</th>\n      <td>431</td>\n      <td>431</td>\n      <td>431</td>\n    </tr>\n    <tr>\n      <th>10</th>\n      <td>22</td>\n      <td>22</td>\n      <td>22</td>\n    </tr>\n    <tr>\n      <th>11</th>\n      <td>40</td>\n      <td>40</td>\n      <td>40</td>\n    </tr>\n    <tr>\n      <th>12</th>\n      <td>2</td>\n      <td>2</td>\n      <td>2</td>\n    </tr>\n    <tr>\n      <th>13</th>\n      <td>13</td>\n      <td>13</td>\n      <td>13</td>\n    </tr>\n  </tbody>\n</table>\n</div>"
     },
     "metadata": {},
     "execution_count": 14
    }
   ],
   "source": [
    "problem_df[problem_df.question.str.contains(r'\\\\newpage')].groupby('q_len').count()"
   ]
  },
  {
   "cell_type": "code",
   "execution_count": 23,
   "metadata": {},
   "outputs": [
    {
     "output_type": "error",
     "ename": "KeyError",
     "evalue": "6",
     "traceback": [
      "\u001b[0;31m---------------------------------------------------------------------------\u001b[0m",
      "\u001b[0;31mKeyError\u001b[0m                                  Traceback (most recent call last)",
      "\u001b[0;32m~/opt/anaconda3/lib/python3.7/site-packages/pandas/core/indexes/base.py\u001b[0m in \u001b[0;36mget_loc\u001b[0;34m(self, key, method, tolerance)\u001b[0m\n\u001b[1;32m   2645\u001b[0m             \u001b[0;32mtry\u001b[0m\u001b[0;34m:\u001b[0m\u001b[0;34m\u001b[0m\u001b[0;34m\u001b[0m\u001b[0m\n\u001b[0;32m-> 2646\u001b[0;31m                 \u001b[0;32mreturn\u001b[0m \u001b[0mself\u001b[0m\u001b[0;34m.\u001b[0m\u001b[0m_engine\u001b[0m\u001b[0;34m.\u001b[0m\u001b[0mget_loc\u001b[0m\u001b[0;34m(\u001b[0m\u001b[0mkey\u001b[0m\u001b[0;34m)\u001b[0m\u001b[0;34m\u001b[0m\u001b[0;34m\u001b[0m\u001b[0m\n\u001b[0m\u001b[1;32m   2647\u001b[0m             \u001b[0;32mexcept\u001b[0m \u001b[0mKeyError\u001b[0m\u001b[0;34m:\u001b[0m\u001b[0;34m\u001b[0m\u001b[0;34m\u001b[0m\u001b[0m\n",
      "\u001b[0;32mpandas/_libs/index.pyx\u001b[0m in \u001b[0;36mpandas._libs.index.IndexEngine.get_loc\u001b[0;34m()\u001b[0m\n",
      "\u001b[0;32mpandas/_libs/index.pyx\u001b[0m in \u001b[0;36mpandas._libs.index.IndexEngine.get_loc\u001b[0;34m()\u001b[0m\n",
      "\u001b[0;32mpandas/_libs/hashtable_class_helper.pxi\u001b[0m in \u001b[0;36mpandas._libs.hashtable.Int64HashTable.get_item\u001b[0;34m()\u001b[0m\n",
      "\u001b[0;32mpandas/_libs/hashtable_class_helper.pxi\u001b[0m in \u001b[0;36mpandas._libs.hashtable.Int64HashTable.get_item\u001b[0;34m()\u001b[0m\n",
      "\u001b[0;31mKeyError\u001b[0m: 6",
      "\nDuring handling of the above exception, another exception occurred:\n",
      "\u001b[0;31mKeyError\u001b[0m                                  Traceback (most recent call last)",
      "\u001b[0;32m<ipython-input-23-9231ad623c85>\u001b[0m in \u001b[0;36m<module>\u001b[0;34m\u001b[0m\n\u001b[1;32m      1\u001b[0m \u001b[0;31m# Example queries\u001b[0m\u001b[0;34m\u001b[0m\u001b[0;34m\u001b[0m\u001b[0;34m\u001b[0m\u001b[0m\n\u001b[0;32m----> 2\u001b[0;31m \u001b[0mproblem_df\u001b[0m\u001b[0;34m[\u001b[0m\u001b[0mproblem_df\u001b[0m\u001b[0;34m.\u001b[0m\u001b[0mquestion\u001b[0m\u001b[0;34m.\u001b[0m\u001b[0mstr\u001b[0m\u001b[0;34m.\u001b[0m\u001b[0mcontains\u001b[0m\u001b[0;34m(\u001b[0m\u001b[0;34mr'\\\\newpage'\u001b[0m\u001b[0;34m)\u001b[0m\u001b[0;34m]\u001b[0m\u001b[0;34m.\u001b[0m\u001b[0mquestion\u001b[0m\u001b[0;34m.\u001b[0m\u001b[0mloc\u001b[0m\u001b[0;34m[\u001b[0m\u001b[0;36m6\u001b[0m\u001b[0;34m]\u001b[0m\u001b[0;34m\u001b[0m\u001b[0;34m\u001b[0m\u001b[0m\n\u001b[0m\u001b[1;32m      3\u001b[0m \u001b[0mproblem_df\u001b[0m\u001b[0;34m[\u001b[0m\u001b[0mproblem_df\u001b[0m\u001b[0;34m.\u001b[0m\u001b[0mfile\u001b[0m\u001b[0;34m.\u001b[0m\u001b[0mstr\u001b[0m\u001b[0;34m.\u001b[0m\u001b[0mstartswith\u001b[0m\u001b[0;34m(\u001b[0m\u001b[0;34m'1-1'\u001b[0m\u001b[0;34m)\u001b[0m\u001b[0;34m]\u001b[0m\u001b[0;34m.\u001b[0m\u001b[0msort_index\u001b[0m\u001b[0;34m(\u001b[0m\u001b[0;34m)\u001b[0m\u001b[0;34m\u001b[0m\u001b[0;34m\u001b[0m\u001b[0m\n",
      "\u001b[0;32m~/opt/anaconda3/lib/python3.7/site-packages/pandas/core/indexing.py\u001b[0m in \u001b[0;36m__getitem__\u001b[0;34m(self, key)\u001b[0m\n\u001b[1;32m   1765\u001b[0m \u001b[0;34m\u001b[0m\u001b[0m\n\u001b[1;32m   1766\u001b[0m             \u001b[0mmaybe_callable\u001b[0m \u001b[0;34m=\u001b[0m \u001b[0mcom\u001b[0m\u001b[0;34m.\u001b[0m\u001b[0mapply_if_callable\u001b[0m\u001b[0;34m(\u001b[0m\u001b[0mkey\u001b[0m\u001b[0;34m,\u001b[0m \u001b[0mself\u001b[0m\u001b[0;34m.\u001b[0m\u001b[0mobj\u001b[0m\u001b[0;34m)\u001b[0m\u001b[0;34m\u001b[0m\u001b[0;34m\u001b[0m\u001b[0m\n\u001b[0;32m-> 1767\u001b[0;31m             \u001b[0;32mreturn\u001b[0m \u001b[0mself\u001b[0m\u001b[0;34m.\u001b[0m\u001b[0m_getitem_axis\u001b[0m\u001b[0;34m(\u001b[0m\u001b[0mmaybe_callable\u001b[0m\u001b[0;34m,\u001b[0m \u001b[0maxis\u001b[0m\u001b[0;34m=\u001b[0m\u001b[0maxis\u001b[0m\u001b[0;34m)\u001b[0m\u001b[0;34m\u001b[0m\u001b[0;34m\u001b[0m\u001b[0m\n\u001b[0m\u001b[1;32m   1768\u001b[0m \u001b[0;34m\u001b[0m\u001b[0m\n\u001b[1;32m   1769\u001b[0m     \u001b[0;32mdef\u001b[0m \u001b[0m_is_scalar_access\u001b[0m\u001b[0;34m(\u001b[0m\u001b[0mself\u001b[0m\u001b[0;34m,\u001b[0m \u001b[0mkey\u001b[0m\u001b[0;34m:\u001b[0m \u001b[0mTuple\u001b[0m\u001b[0;34m)\u001b[0m\u001b[0;34m:\u001b[0m\u001b[0;34m\u001b[0m\u001b[0;34m\u001b[0m\u001b[0m\n",
      "\u001b[0;32m~/opt/anaconda3/lib/python3.7/site-packages/pandas/core/indexing.py\u001b[0m in \u001b[0;36m_getitem_axis\u001b[0;34m(self, key, axis)\u001b[0m\n\u001b[1;32m   1962\u001b[0m         \u001b[0;31m# fall thru to straight lookup\u001b[0m\u001b[0;34m\u001b[0m\u001b[0;34m\u001b[0m\u001b[0;34m\u001b[0m\u001b[0m\n\u001b[1;32m   1963\u001b[0m         \u001b[0mself\u001b[0m\u001b[0;34m.\u001b[0m\u001b[0m_validate_key\u001b[0m\u001b[0;34m(\u001b[0m\u001b[0mkey\u001b[0m\u001b[0;34m,\u001b[0m \u001b[0maxis\u001b[0m\u001b[0;34m)\u001b[0m\u001b[0;34m\u001b[0m\u001b[0;34m\u001b[0m\u001b[0m\n\u001b[0;32m-> 1964\u001b[0;31m         \u001b[0;32mreturn\u001b[0m \u001b[0mself\u001b[0m\u001b[0;34m.\u001b[0m\u001b[0m_get_label\u001b[0m\u001b[0;34m(\u001b[0m\u001b[0mkey\u001b[0m\u001b[0;34m,\u001b[0m \u001b[0maxis\u001b[0m\u001b[0;34m=\u001b[0m\u001b[0maxis\u001b[0m\u001b[0;34m)\u001b[0m\u001b[0;34m\u001b[0m\u001b[0;34m\u001b[0m\u001b[0m\n\u001b[0m\u001b[1;32m   1965\u001b[0m \u001b[0;34m\u001b[0m\u001b[0m\n\u001b[1;32m   1966\u001b[0m \u001b[0;34m\u001b[0m\u001b[0m\n",
      "\u001b[0;32m~/opt/anaconda3/lib/python3.7/site-packages/pandas/core/indexing.py\u001b[0m in \u001b[0;36m_get_label\u001b[0;34m(self, label, axis)\u001b[0m\n\u001b[1;32m    618\u001b[0m             \u001b[0;31m# but will fail when the index is not present\u001b[0m\u001b[0;34m\u001b[0m\u001b[0;34m\u001b[0m\u001b[0;34m\u001b[0m\u001b[0m\n\u001b[1;32m    619\u001b[0m             \u001b[0;31m# see GH5667\u001b[0m\u001b[0;34m\u001b[0m\u001b[0;34m\u001b[0m\u001b[0;34m\u001b[0m\u001b[0m\n\u001b[0;32m--> 620\u001b[0;31m             \u001b[0;32mreturn\u001b[0m \u001b[0mself\u001b[0m\u001b[0;34m.\u001b[0m\u001b[0mobj\u001b[0m\u001b[0;34m.\u001b[0m\u001b[0m_xs\u001b[0m\u001b[0;34m(\u001b[0m\u001b[0mlabel\u001b[0m\u001b[0;34m,\u001b[0m \u001b[0maxis\u001b[0m\u001b[0;34m=\u001b[0m\u001b[0maxis\u001b[0m\u001b[0;34m)\u001b[0m\u001b[0;34m\u001b[0m\u001b[0;34m\u001b[0m\u001b[0m\n\u001b[0m\u001b[1;32m    621\u001b[0m         \u001b[0;32melif\u001b[0m \u001b[0misinstance\u001b[0m\u001b[0;34m(\u001b[0m\u001b[0mlabel\u001b[0m\u001b[0;34m,\u001b[0m \u001b[0mtuple\u001b[0m\u001b[0;34m)\u001b[0m \u001b[0;32mand\u001b[0m \u001b[0misinstance\u001b[0m\u001b[0;34m(\u001b[0m\u001b[0mlabel\u001b[0m\u001b[0;34m[\u001b[0m\u001b[0maxis\u001b[0m\u001b[0;34m]\u001b[0m\u001b[0;34m,\u001b[0m \u001b[0mslice\u001b[0m\u001b[0;34m)\u001b[0m\u001b[0;34m:\u001b[0m\u001b[0;34m\u001b[0m\u001b[0;34m\u001b[0m\u001b[0m\n\u001b[1;32m    622\u001b[0m             \u001b[0;32mraise\u001b[0m \u001b[0mIndexingError\u001b[0m\u001b[0;34m(\u001b[0m\u001b[0;34m\"no slices here, handle elsewhere\"\u001b[0m\u001b[0;34m)\u001b[0m\u001b[0;34m\u001b[0m\u001b[0;34m\u001b[0m\u001b[0m\n",
      "\u001b[0;32m~/opt/anaconda3/lib/python3.7/site-packages/pandas/core/generic.py\u001b[0m in \u001b[0;36mxs\u001b[0;34m(self, key, axis, level, drop_level)\u001b[0m\n\u001b[1;32m   3535\u001b[0m             \u001b[0mloc\u001b[0m\u001b[0;34m,\u001b[0m \u001b[0mnew_index\u001b[0m \u001b[0;34m=\u001b[0m \u001b[0mself\u001b[0m\u001b[0;34m.\u001b[0m\u001b[0mindex\u001b[0m\u001b[0;34m.\u001b[0m\u001b[0mget_loc_level\u001b[0m\u001b[0;34m(\u001b[0m\u001b[0mkey\u001b[0m\u001b[0;34m,\u001b[0m \u001b[0mdrop_level\u001b[0m\u001b[0;34m=\u001b[0m\u001b[0mdrop_level\u001b[0m\u001b[0;34m)\u001b[0m\u001b[0;34m\u001b[0m\u001b[0;34m\u001b[0m\u001b[0m\n\u001b[1;32m   3536\u001b[0m         \u001b[0;32melse\u001b[0m\u001b[0;34m:\u001b[0m\u001b[0;34m\u001b[0m\u001b[0;34m\u001b[0m\u001b[0m\n\u001b[0;32m-> 3537\u001b[0;31m             \u001b[0mloc\u001b[0m \u001b[0;34m=\u001b[0m \u001b[0mself\u001b[0m\u001b[0;34m.\u001b[0m\u001b[0mindex\u001b[0m\u001b[0;34m.\u001b[0m\u001b[0mget_loc\u001b[0m\u001b[0;34m(\u001b[0m\u001b[0mkey\u001b[0m\u001b[0;34m)\u001b[0m\u001b[0;34m\u001b[0m\u001b[0;34m\u001b[0m\u001b[0m\n\u001b[0m\u001b[1;32m   3538\u001b[0m \u001b[0;34m\u001b[0m\u001b[0m\n\u001b[1;32m   3539\u001b[0m             \u001b[0;32mif\u001b[0m \u001b[0misinstance\u001b[0m\u001b[0;34m(\u001b[0m\u001b[0mloc\u001b[0m\u001b[0;34m,\u001b[0m \u001b[0mnp\u001b[0m\u001b[0;34m.\u001b[0m\u001b[0mndarray\u001b[0m\u001b[0;34m)\u001b[0m\u001b[0;34m:\u001b[0m\u001b[0;34m\u001b[0m\u001b[0;34m\u001b[0m\u001b[0m\n",
      "\u001b[0;32m~/opt/anaconda3/lib/python3.7/site-packages/pandas/core/indexes/base.py\u001b[0m in \u001b[0;36mget_loc\u001b[0;34m(self, key, method, tolerance)\u001b[0m\n\u001b[1;32m   2646\u001b[0m                 \u001b[0;32mreturn\u001b[0m \u001b[0mself\u001b[0m\u001b[0;34m.\u001b[0m\u001b[0m_engine\u001b[0m\u001b[0;34m.\u001b[0m\u001b[0mget_loc\u001b[0m\u001b[0;34m(\u001b[0m\u001b[0mkey\u001b[0m\u001b[0;34m)\u001b[0m\u001b[0;34m\u001b[0m\u001b[0;34m\u001b[0m\u001b[0m\n\u001b[1;32m   2647\u001b[0m             \u001b[0;32mexcept\u001b[0m \u001b[0mKeyError\u001b[0m\u001b[0;34m:\u001b[0m\u001b[0;34m\u001b[0m\u001b[0;34m\u001b[0m\u001b[0m\n\u001b[0;32m-> 2648\u001b[0;31m                 \u001b[0;32mreturn\u001b[0m \u001b[0mself\u001b[0m\u001b[0;34m.\u001b[0m\u001b[0m_engine\u001b[0m\u001b[0;34m.\u001b[0m\u001b[0mget_loc\u001b[0m\u001b[0;34m(\u001b[0m\u001b[0mself\u001b[0m\u001b[0;34m.\u001b[0m\u001b[0m_maybe_cast_indexer\u001b[0m\u001b[0;34m(\u001b[0m\u001b[0mkey\u001b[0m\u001b[0;34m)\u001b[0m\u001b[0;34m)\u001b[0m\u001b[0;34m\u001b[0m\u001b[0;34m\u001b[0m\u001b[0m\n\u001b[0m\u001b[1;32m   2649\u001b[0m         \u001b[0mindexer\u001b[0m \u001b[0;34m=\u001b[0m \u001b[0mself\u001b[0m\u001b[0;34m.\u001b[0m\u001b[0mget_indexer\u001b[0m\u001b[0;34m(\u001b[0m\u001b[0;34m[\u001b[0m\u001b[0mkey\u001b[0m\u001b[0;34m]\u001b[0m\u001b[0;34m,\u001b[0m \u001b[0mmethod\u001b[0m\u001b[0;34m=\u001b[0m\u001b[0mmethod\u001b[0m\u001b[0;34m,\u001b[0m \u001b[0mtolerance\u001b[0m\u001b[0;34m=\u001b[0m\u001b[0mtolerance\u001b[0m\u001b[0;34m)\u001b[0m\u001b[0;34m\u001b[0m\u001b[0;34m\u001b[0m\u001b[0m\n\u001b[1;32m   2650\u001b[0m         \u001b[0;32mif\u001b[0m \u001b[0mindexer\u001b[0m\u001b[0;34m.\u001b[0m\u001b[0mndim\u001b[0m \u001b[0;34m>\u001b[0m \u001b[0;36m1\u001b[0m \u001b[0;32mor\u001b[0m \u001b[0mindexer\u001b[0m\u001b[0;34m.\u001b[0m\u001b[0msize\u001b[0m \u001b[0;34m>\u001b[0m \u001b[0;36m1\u001b[0m\u001b[0;34m:\u001b[0m\u001b[0;34m\u001b[0m\u001b[0;34m\u001b[0m\u001b[0m\n",
      "\u001b[0;32mpandas/_libs/index.pyx\u001b[0m in \u001b[0;36mpandas._libs.index.IndexEngine.get_loc\u001b[0;34m()\u001b[0m\n",
      "\u001b[0;32mpandas/_libs/index.pyx\u001b[0m in \u001b[0;36mpandas._libs.index.IndexEngine.get_loc\u001b[0;34m()\u001b[0m\n",
      "\u001b[0;32mpandas/_libs/hashtable_class_helper.pxi\u001b[0m in \u001b[0;36mpandas._libs.hashtable.Int64HashTable.get_item\u001b[0;34m()\u001b[0m\n",
      "\u001b[0;32mpandas/_libs/hashtable_class_helper.pxi\u001b[0m in \u001b[0;36mpandas._libs.hashtable.Int64HashTable.get_item\u001b[0;34m()\u001b[0m\n",
      "\u001b[0;31mKeyError\u001b[0m: 6"
     ]
    }
   ],
   "source": [
    "# Example queries\n",
    "problem_df[problem_df.question.str.contains(r'\\\\newpage')].question.loc[6]\n",
    "problem_df[problem_df.file.str.startswith('1-1')].sort_index()"
   ]
  },
  {
   "cell_type": "code",
   "execution_count": 22,
   "metadata": {},
   "outputs": [
    {
     "output_type": "execute_result",
     "data": {
      "text/plain": "problem_set_ID                                                  163\nquestion          Given $\\triangle ABC$, $D$ is the midpoint of ...\nfilename                                9-9Exam-transformations.tex\nq_len                                                           548\nName: 2335, dtype: object"
     },
     "metadata": {},
     "execution_count": 22
    }
   ],
   "source": [
    "problem_df.loc[2335]"
   ]
  },
  {
   "cell_type": "code",
   "execution_count": 38,
   "metadata": {},
   "outputs": [
    {
     "output_type": "execute_result",
     "data": {
      "text/plain": "            problem_set_ID                                           question  \\\nproblem_ID                                                                      \n0                        0  Given the line segment $\\overline{PQ}$ shown b...   \n1                        0                                         \\newpage\\n   \n2                        0  Given an angle with vertex $A$. Answer the que...   \n3                        0                                         \\newpage\\n   \n4                        0  Given the rectangle $ABCD$ shown below. Answer...   \n5                        0                                         \\newpage\\n   \n6                        0  The points shown are in a straight line, $\\ove...   \n7                        0  Given $\\overleftrightarrow{QS}$ as shown on th...   \n8                        1  Write down the slope and $y$-intercept of each...   \n9                        1  What is the slope of a line parallel to the li...   \n10                       1                                         \\newpage\\n   \n11                       1  Graph and label the two equations. Mark their ...   \n12                       2  In the following two problems, solve for the v...   \n13                       2  Given $g(x)=3x^2-7x+5$. Fine $g(0)$. \\vspace{4...   \n14                       2  Given $f(x)=2x-1$. Solve for $x$ such that for...   \n15                       2  Given $x^2+6x+5=0$. Factor and find the roots....   \n16                       2                                         \\newpage\\n   \n17                       2  The line $l$ has the equation $y=\\frac{1}{2}x+...   \n18                       2  On the grid below, graph the line $y=2x-4$.\\n ...   \n19                       3  In the following two problems, solve for the v...   \n20                       3  Given $g(x)=x^2-5x+15$. Simplify $g(0)$. \\vspa...   \n21                       3  Given $f(x)=3x-2$. Solve for $x$ such that for...   \n22                       3  Given $h(x)=x^2-x-12$. Solve $h(x)=0$. \\vspace...   \n23                       3  Simplify each expression. (Leave it in radical...   \n24                       3                                         \\newpage\\n   \n25                       3  The line $l$ has the equation $y=\\frac{3}{2}x-...   \n26                       3  On the grid below, graph the line $y=-\\frac{1}...   \n\n                                 file  q_len  \nproblem_ID                                    \n0               1-1CW_Measurement.tex    732  \n1               1-1CW_Measurement.tex     11  \n2               1-1CW_Measurement.tex    675  \n3               1-1CW_Measurement.tex      9  \n4               1-1CW_Measurement.tex   1164  \n5               1-1CW_Measurement.tex      9  \n6               1-1CW_Measurement.tex    533  \n7               1-1CW_Measurement.tex    680  \n8           1-1DNQ_Distance+slope.tex    433  \n9           1-1DNQ_Distance+slope.tex     81  \n10          1-1DNQ_Distance+slope.tex      9  \n11          1-1DNQ_Distance+slope.tex    494  \n12                  1-1DN_Algebra.tex    232  \n13                  1-1DN_Algebra.tex     50  \n14                  1-1DN_Algebra.tex     70  \n15                  1-1DN_Algebra.tex     63  \n16                  1-1DN_Algebra.tex      9  \n17                  1-1DN_Algebra.tex    208  \n18                  1-1DN_Algebra.tex    376  \n19                  1-1HW_Algebra.tex    233  \n20                  1-1HW_Algebra.tex     54  \n21                  1-1HW_Algebra.tex     71  \n22                  1-1HW_Algebra.tex     56  \n23                  1-1HW_Algebra.tex    275  \n24                  1-1HW_Algebra.tex      9  \n25                  1-1HW_Algebra.tex    283  \n26                  1-1HW_Algebra.tex    387  ",
      "text/html": "<div>\n<style scoped>\n    .dataframe tbody tr th:only-of-type {\n        vertical-align: middle;\n    }\n\n    .dataframe tbody tr th {\n        vertical-align: top;\n    }\n\n    .dataframe thead th {\n        text-align: right;\n    }\n</style>\n<table border=\"1\" class=\"dataframe\">\n  <thead>\n    <tr style=\"text-align: right;\">\n      <th></th>\n      <th>problem_set_ID</th>\n      <th>question</th>\n      <th>file</th>\n      <th>q_len</th>\n    </tr>\n    <tr>\n      <th>problem_ID</th>\n      <th></th>\n      <th></th>\n      <th></th>\n      <th></th>\n    </tr>\n  </thead>\n  <tbody>\n    <tr>\n      <th>0</th>\n      <td>0</td>\n      <td>Given the line segment $\\overline{PQ}$ shown b...</td>\n      <td>1-1CW_Measurement.tex</td>\n      <td>732</td>\n    </tr>\n    <tr>\n      <th>1</th>\n      <td>0</td>\n      <td>\\newpage\\n</td>\n      <td>1-1CW_Measurement.tex</td>\n      <td>11</td>\n    </tr>\n    <tr>\n      <th>2</th>\n      <td>0</td>\n      <td>Given an angle with vertex $A$. Answer the que...</td>\n      <td>1-1CW_Measurement.tex</td>\n      <td>675</td>\n    </tr>\n    <tr>\n      <th>3</th>\n      <td>0</td>\n      <td>\\newpage\\n</td>\n      <td>1-1CW_Measurement.tex</td>\n      <td>9</td>\n    </tr>\n    <tr>\n      <th>4</th>\n      <td>0</td>\n      <td>Given the rectangle $ABCD$ shown below. Answer...</td>\n      <td>1-1CW_Measurement.tex</td>\n      <td>1164</td>\n    </tr>\n    <tr>\n      <th>5</th>\n      <td>0</td>\n      <td>\\newpage\\n</td>\n      <td>1-1CW_Measurement.tex</td>\n      <td>9</td>\n    </tr>\n    <tr>\n      <th>6</th>\n      <td>0</td>\n      <td>The points shown are in a straight line, $\\ove...</td>\n      <td>1-1CW_Measurement.tex</td>\n      <td>533</td>\n    </tr>\n    <tr>\n      <th>7</th>\n      <td>0</td>\n      <td>Given $\\overleftrightarrow{QS}$ as shown on th...</td>\n      <td>1-1CW_Measurement.tex</td>\n      <td>680</td>\n    </tr>\n    <tr>\n      <th>8</th>\n      <td>1</td>\n      <td>Write down the slope and $y$-intercept of each...</td>\n      <td>1-1DNQ_Distance+slope.tex</td>\n      <td>433</td>\n    </tr>\n    <tr>\n      <th>9</th>\n      <td>1</td>\n      <td>What is the slope of a line parallel to the li...</td>\n      <td>1-1DNQ_Distance+slope.tex</td>\n      <td>81</td>\n    </tr>\n    <tr>\n      <th>10</th>\n      <td>1</td>\n      <td>\\newpage\\n</td>\n      <td>1-1DNQ_Distance+slope.tex</td>\n      <td>9</td>\n    </tr>\n    <tr>\n      <th>11</th>\n      <td>1</td>\n      <td>Graph and label the two equations. Mark their ...</td>\n      <td>1-1DNQ_Distance+slope.tex</td>\n      <td>494</td>\n    </tr>\n    <tr>\n      <th>12</th>\n      <td>2</td>\n      <td>In the following two problems, solve for the v...</td>\n      <td>1-1DN_Algebra.tex</td>\n      <td>232</td>\n    </tr>\n    <tr>\n      <th>13</th>\n      <td>2</td>\n      <td>Given $g(x)=3x^2-7x+5$. Fine $g(0)$. \\vspace{4...</td>\n      <td>1-1DN_Algebra.tex</td>\n      <td>50</td>\n    </tr>\n    <tr>\n      <th>14</th>\n      <td>2</td>\n      <td>Given $f(x)=2x-1$. Solve for $x$ such that for...</td>\n      <td>1-1DN_Algebra.tex</td>\n      <td>70</td>\n    </tr>\n    <tr>\n      <th>15</th>\n      <td>2</td>\n      <td>Given $x^2+6x+5=0$. Factor and find the roots....</td>\n      <td>1-1DN_Algebra.tex</td>\n      <td>63</td>\n    </tr>\n    <tr>\n      <th>16</th>\n      <td>2</td>\n      <td>\\newpage\\n</td>\n      <td>1-1DN_Algebra.tex</td>\n      <td>9</td>\n    </tr>\n    <tr>\n      <th>17</th>\n      <td>2</td>\n      <td>The line $l$ has the equation $y=\\frac{1}{2}x+...</td>\n      <td>1-1DN_Algebra.tex</td>\n      <td>208</td>\n    </tr>\n    <tr>\n      <th>18</th>\n      <td>2</td>\n      <td>On the grid below, graph the line $y=2x-4$.\\n ...</td>\n      <td>1-1DN_Algebra.tex</td>\n      <td>376</td>\n    </tr>\n    <tr>\n      <th>19</th>\n      <td>3</td>\n      <td>In the following two problems, solve for the v...</td>\n      <td>1-1HW_Algebra.tex</td>\n      <td>233</td>\n    </tr>\n    <tr>\n      <th>20</th>\n      <td>3</td>\n      <td>Given $g(x)=x^2-5x+15$. Simplify $g(0)$. \\vspa...</td>\n      <td>1-1HW_Algebra.tex</td>\n      <td>54</td>\n    </tr>\n    <tr>\n      <th>21</th>\n      <td>3</td>\n      <td>Given $f(x)=3x-2$. Solve for $x$ such that for...</td>\n      <td>1-1HW_Algebra.tex</td>\n      <td>71</td>\n    </tr>\n    <tr>\n      <th>22</th>\n      <td>3</td>\n      <td>Given $h(x)=x^2-x-12$. Solve $h(x)=0$. \\vspace...</td>\n      <td>1-1HW_Algebra.tex</td>\n      <td>56</td>\n    </tr>\n    <tr>\n      <th>23</th>\n      <td>3</td>\n      <td>Simplify each expression. (Leave it in radical...</td>\n      <td>1-1HW_Algebra.tex</td>\n      <td>275</td>\n    </tr>\n    <tr>\n      <th>24</th>\n      <td>3</td>\n      <td>\\newpage\\n</td>\n      <td>1-1HW_Algebra.tex</td>\n      <td>9</td>\n    </tr>\n    <tr>\n      <th>25</th>\n      <td>3</td>\n      <td>The line $l$ has the equation $y=\\frac{3}{2}x-...</td>\n      <td>1-1HW_Algebra.tex</td>\n      <td>283</td>\n    </tr>\n    <tr>\n      <th>26</th>\n      <td>3</td>\n      <td>On the grid below, graph the line $y=-\\frac{1}...</td>\n      <td>1-1HW_Algebra.tex</td>\n      <td>387</td>\n    </tr>\n  </tbody>\n</table>\n</div>"
     },
     "metadata": {},
     "execution_count": 38
    }
   ],
   "source": []
  },
  {
   "cell_type": "code",
   "execution_count": 11,
   "metadata": {},
   "outputs": [
    {
     "output_type": "execute_result",
     "data": {
      "text/plain": "                                         unit                         file  \\\nproblem_set_ID                                                               \n6                                    01-Intro              1-4HW-Intro.tex   \n26                       02-Midpoint+distance           2-7CW_Modeling.tex   \n30                       02-Midpoint+distance      2-8DN_Constructions.tex   \n32                       02-Midpoint+distance    2-9Exam_area-distance.tex   \n36                  03-Volume+angle-bisectors     3-2CW_Angle-modeling.tex   \n...                                       ...                          ...   \n144                            08-Area+volume      8-8Exam_Area+volume.tex   \n145                            08-Area+volume    8-9CW_Circle-equation.tex   \n146                            08-Area+volume    8-9DN_Circle-equation.tex   \n149             09-Congruence-transformations       9-2bCW_Composition.tex   \n160             09-Congruence-transformations  9-7CW-Similarity-review.tex   \n\n                problem_count  \\\nproblem_set_ID                  \n6                         104   \n26                          8   \n30                          4   \n32                         36   \n36                          7   \n...                       ...   \n144                        33   \n145                        15   \n146                         5   \n149                         6   \n160                        23   \n\n                                                             head  \\\nproblem_set_ID                                                      \n6               [\\begin{document}\\n, \\subsubsection*{Quiz Corr...   \n26              [\\begin{document}\\n,   \\subsubsection*{2.7 Cla...   \n30              [\\begin{document}\\n,   \\subsubsection*{2.8 Do ...   \n32              [\\begin{document}\\n, \\subsubsection*{2.9 Exam:...   \n36              [\\begin{document}\\n,   \\subsubsection*{3.2 Cla...   \n...                                                           ...   \n144             [\\begin{document}\\n, \\subsubsection*{8.8 Exam:...   \n145             [\\begin{document}\\n, \\subsubsection*{8.9 Class...   \n146             [\\begin{document}\\n, \\subsubsection*{8.9 Do No...   \n149             [\\begin{document}\\n, \\subsubsection*{9.2b Do N...   \n160             [\\begin{document}\\n, \\subsubsection*{9.7 Class...   \n\n                                                             body  \\\nproblem_set_ID                                                      \n6               [    \\item The points where a line segment beg...   \n26              [    \\subsubsection*{Do Not Solve! Make a draw...   \n30              [    \\item Complete the construction of an equ...   \n32              [\\n, \\item Given the rectangle $ABCD$ shown be...   \n36              [    \\subsubsection*{Do Not Solve! \\\\\\n,     M...   \n...                                                           ...   \n144             [\\n,   \\item Use the formulas for the area and...   \n145             [\\n,   \\item What is the equation of a circle ...   \n146             [\\n,   \\item A circle centered at the origin i...   \n149             [\\n,   \\item A transformation is applied to a ...   \n160             [\\n,   \\item Find the image of $P(1,-4)$ after...   \n\n                                                    problems_list  \\\nproblem_set_ID                                                      \n6               [The points where a line segment begins and en...   \n26              [The point $Q$ is the midpoint of $\\overline{P...   \n30              [Complete the construction of an equilateral t...   \n32              [Given the rectangle $ABCD$ shown below, with ...   \n36              [Two lines intersect making four angles: $\\ang...   \n...                                                           ...   \n144             [Use the formulas for the area and circumferen...   \n145             [What is the equation of a circle with center ...   \n146             [A circle centered at the origin includes the ...   \n149             [A transformation is applied to a triangle, $\\...   \n160             [Find the image of $P(1,-4)$ after the transla...   \n\n                                                 path  \\\nproblem_set_ID                                          \n6               /Users/chris/GitHub/course-files/Geom   \n26              /Users/chris/GitHub/course-files/Geom   \n30              /Users/chris/GitHub/course-files/Geom   \n32              /Users/chris/GitHub/course-files/Geom   \n36              /Users/chris/GitHub/course-files/Geom   \n...                                               ...   \n144             /Users/chris/GitHub/course-files/Geom   \n145             /Users/chris/GitHub/course-files/Geom   \n146             /Users/chris/GitHub/course-files/Geom   \n149             /Users/chris/GitHub/course-files/Geom   \n160             /Users/chris/GitHub/course-files/Geom   \n\n                                                         filename  \\\nproblem_set_ID                                                      \n6               /Users/chris/GitHub/course-files/Geom/01-Intro...   \n26              /Users/chris/GitHub/course-files/Geom/02-Midpo...   \n30              /Users/chris/GitHub/course-files/Geom/02-Midpo...   \n32              /Users/chris/GitHub/course-files/Geom/02-Midpo...   \n36              /Users/chris/GitHub/course-files/Geom/03-Volum...   \n...                                                           ...   \n144             /Users/chris/GitHub/course-files/Geom/08-Area+...   \n145             /Users/chris/GitHub/course-files/Geom/08-Area+...   \n146             /Users/chris/GitHub/course-files/Geom/08-Area+...   \n149             /Users/chris/GitHub/course-files/Geom/09-Congr...   \n160             /Users/chris/GitHub/course-files/Geom/09-Congr...   \n\n                                                      problem_IDs  \nproblem_set_ID                                                     \n6               [44, 45, 46, 47, 48, 49, 50, 51, 52, 53, 54, 5...  \n26                       [318, 319, 320, 321, 322, 323, 324, 325]  \n30                                           [351, 352, 353, 354]  \n32              [361, 362, 363, 364, 365, 366, 367, 368, 369, ...  \n36                            [418, 419, 420, 421, 422, 423, 424]  \n...                                                           ...  \n144             [1995, 1996, 1997, 1998, 1999, 2000, 2001, 200...  \n145             [2028, 2029, 2030, 2031, 2032, 2033, 2034, 203...  \n146                                [2043, 2044, 2045, 2046, 2047]  \n149                          [2066, 2067, 2068, 2069, 2070, 2071]  \n160             [2163, 2164, 2165, 2166, 2167, 2168, 2169, 217...  \n\n[61 rows x 9 columns]",
      "text/html": "<div>\n<style scoped>\n    .dataframe tbody tr th:only-of-type {\n        vertical-align: middle;\n    }\n\n    .dataframe tbody tr th {\n        vertical-align: top;\n    }\n\n    .dataframe thead th {\n        text-align: right;\n    }\n</style>\n<table border=\"1\" class=\"dataframe\">\n  <thead>\n    <tr style=\"text-align: right;\">\n      <th></th>\n      <th>unit</th>\n      <th>file</th>\n      <th>problem_count</th>\n      <th>head</th>\n      <th>body</th>\n      <th>problems_list</th>\n      <th>path</th>\n      <th>filename</th>\n      <th>problem_IDs</th>\n    </tr>\n    <tr>\n      <th>problem_set_ID</th>\n      <th></th>\n      <th></th>\n      <th></th>\n      <th></th>\n      <th></th>\n      <th></th>\n      <th></th>\n      <th></th>\n      <th></th>\n    </tr>\n  </thead>\n  <tbody>\n    <tr>\n      <th>6</th>\n      <td>01-Intro</td>\n      <td>1-4HW-Intro.tex</td>\n      <td>104</td>\n      <td>[\\begin{document}\\n, \\subsubsection*{Quiz Corr...</td>\n      <td>[    \\item The points where a line segment beg...</td>\n      <td>[The points where a line segment begins and en...</td>\n      <td>/Users/chris/GitHub/course-files/Geom</td>\n      <td>/Users/chris/GitHub/course-files/Geom/01-Intro...</td>\n      <td>[44, 45, 46, 47, 48, 49, 50, 51, 52, 53, 54, 5...</td>\n    </tr>\n    <tr>\n      <th>26</th>\n      <td>02-Midpoint+distance</td>\n      <td>2-7CW_Modeling.tex</td>\n      <td>8</td>\n      <td>[\\begin{document}\\n,   \\subsubsection*{2.7 Cla...</td>\n      <td>[    \\subsubsection*{Do Not Solve! Make a draw...</td>\n      <td>[The point $Q$ is the midpoint of $\\overline{P...</td>\n      <td>/Users/chris/GitHub/course-files/Geom</td>\n      <td>/Users/chris/GitHub/course-files/Geom/02-Midpo...</td>\n      <td>[318, 319, 320, 321, 322, 323, 324, 325]</td>\n    </tr>\n    <tr>\n      <th>30</th>\n      <td>02-Midpoint+distance</td>\n      <td>2-8DN_Constructions.tex</td>\n      <td>4</td>\n      <td>[\\begin{document}\\n,   \\subsubsection*{2.8 Do ...</td>\n      <td>[    \\item Complete the construction of an equ...</td>\n      <td>[Complete the construction of an equilateral t...</td>\n      <td>/Users/chris/GitHub/course-files/Geom</td>\n      <td>/Users/chris/GitHub/course-files/Geom/02-Midpo...</td>\n      <td>[351, 352, 353, 354]</td>\n    </tr>\n    <tr>\n      <th>32</th>\n      <td>02-Midpoint+distance</td>\n      <td>2-9Exam_area-distance.tex</td>\n      <td>36</td>\n      <td>[\\begin{document}\\n, \\subsubsection*{2.9 Exam:...</td>\n      <td>[\\n, \\item Given the rectangle $ABCD$ shown be...</td>\n      <td>[Given the rectangle $ABCD$ shown below, with ...</td>\n      <td>/Users/chris/GitHub/course-files/Geom</td>\n      <td>/Users/chris/GitHub/course-files/Geom/02-Midpo...</td>\n      <td>[361, 362, 363, 364, 365, 366, 367, 368, 369, ...</td>\n    </tr>\n    <tr>\n      <th>36</th>\n      <td>03-Volume+angle-bisectors</td>\n      <td>3-2CW_Angle-modeling.tex</td>\n      <td>7</td>\n      <td>[\\begin{document}\\n,   \\subsubsection*{3.2 Cla...</td>\n      <td>[    \\subsubsection*{Do Not Solve! \\\\\\n,     M...</td>\n      <td>[Two lines intersect making four angles: $\\ang...</td>\n      <td>/Users/chris/GitHub/course-files/Geom</td>\n      <td>/Users/chris/GitHub/course-files/Geom/03-Volum...</td>\n      <td>[418, 419, 420, 421, 422, 423, 424]</td>\n    </tr>\n    <tr>\n      <th>...</th>\n      <td>...</td>\n      <td>...</td>\n      <td>...</td>\n      <td>...</td>\n      <td>...</td>\n      <td>...</td>\n      <td>...</td>\n      <td>...</td>\n      <td>...</td>\n    </tr>\n    <tr>\n      <th>144</th>\n      <td>08-Area+volume</td>\n      <td>8-8Exam_Area+volume.tex</td>\n      <td>33</td>\n      <td>[\\begin{document}\\n, \\subsubsection*{8.8 Exam:...</td>\n      <td>[\\n,   \\item Use the formulas for the area and...</td>\n      <td>[Use the formulas for the area and circumferen...</td>\n      <td>/Users/chris/GitHub/course-files/Geom</td>\n      <td>/Users/chris/GitHub/course-files/Geom/08-Area+...</td>\n      <td>[1995, 1996, 1997, 1998, 1999, 2000, 2001, 200...</td>\n    </tr>\n    <tr>\n      <th>145</th>\n      <td>08-Area+volume</td>\n      <td>8-9CW_Circle-equation.tex</td>\n      <td>15</td>\n      <td>[\\begin{document}\\n, \\subsubsection*{8.9 Class...</td>\n      <td>[\\n,   \\item What is the equation of a circle ...</td>\n      <td>[What is the equation of a circle with center ...</td>\n      <td>/Users/chris/GitHub/course-files/Geom</td>\n      <td>/Users/chris/GitHub/course-files/Geom/08-Area+...</td>\n      <td>[2028, 2029, 2030, 2031, 2032, 2033, 2034, 203...</td>\n    </tr>\n    <tr>\n      <th>146</th>\n      <td>08-Area+volume</td>\n      <td>8-9DN_Circle-equation.tex</td>\n      <td>5</td>\n      <td>[\\begin{document}\\n, \\subsubsection*{8.9 Do No...</td>\n      <td>[\\n,   \\item A circle centered at the origin i...</td>\n      <td>[A circle centered at the origin includes the ...</td>\n      <td>/Users/chris/GitHub/course-files/Geom</td>\n      <td>/Users/chris/GitHub/course-files/Geom/08-Area+...</td>\n      <td>[2043, 2044, 2045, 2046, 2047]</td>\n    </tr>\n    <tr>\n      <th>149</th>\n      <td>09-Congruence-transformations</td>\n      <td>9-2bCW_Composition.tex</td>\n      <td>6</td>\n      <td>[\\begin{document}\\n, \\subsubsection*{9.2b Do N...</td>\n      <td>[\\n,   \\item A transformation is applied to a ...</td>\n      <td>[A transformation is applied to a triangle, $\\...</td>\n      <td>/Users/chris/GitHub/course-files/Geom</td>\n      <td>/Users/chris/GitHub/course-files/Geom/09-Congr...</td>\n      <td>[2066, 2067, 2068, 2069, 2070, 2071]</td>\n    </tr>\n    <tr>\n      <th>160</th>\n      <td>09-Congruence-transformations</td>\n      <td>9-7CW-Similarity-review.tex</td>\n      <td>23</td>\n      <td>[\\begin{document}\\n, \\subsubsection*{9.7 Class...</td>\n      <td>[\\n,   \\item Find the image of $P(1,-4)$ after...</td>\n      <td>[Find the image of $P(1,-4)$ after the transla...</td>\n      <td>/Users/chris/GitHub/course-files/Geom</td>\n      <td>/Users/chris/GitHub/course-files/Geom/09-Congr...</td>\n      <td>[2163, 2164, 2165, 2166, 2167, 2168, 2169, 217...</td>\n    </tr>\n  </tbody>\n</table>\n<p>61 rows × 9 columns</p>\n</div>"
     },
     "metadata": {},
     "execution_count": 11
    }
   ],
   "source": [
    "# Look for string in pset body\n",
    "pset_df[pset_df.body.apply(lambda x: 'subsect' in str(x))] #r'[\\\\item'"
   ]
  },
  {
   "cell_type": "code",
   "execution_count": 13,
   "metadata": {},
   "outputs": [
    {
     "output_type": "execute_result",
     "data": {
      "text/plain": "            problem_set_ID                                           question  \\\nproblem_ID                                                                      \n351                     30  Complete the construction of an equilateral tr...   \n352                     30                                         \\newpage\\n   \n353                     30                                     $x^2+6x+5=0$\\n   \n354                     30             $x^2+5x=14$\\n    \\end{multicols}\\n\\n\\n   \n\n                               file  q_len  \nproblem_ID                                  \n351         2-8DN_Constructions.tex    684  \n352         2-8DN_Constructions.tex     11  \n353         2-8DN_Constructions.tex     13  \n354         2-8DN_Constructions.tex     34  ",
      "text/html": "<div>\n<style scoped>\n    .dataframe tbody tr th:only-of-type {\n        vertical-align: middle;\n    }\n\n    .dataframe tbody tr th {\n        vertical-align: top;\n    }\n\n    .dataframe thead th {\n        text-align: right;\n    }\n</style>\n<table border=\"1\" class=\"dataframe\">\n  <thead>\n    <tr style=\"text-align: right;\">\n      <th></th>\n      <th>problem_set_ID</th>\n      <th>question</th>\n      <th>file</th>\n      <th>q_len</th>\n    </tr>\n    <tr>\n      <th>problem_ID</th>\n      <th></th>\n      <th></th>\n      <th></th>\n      <th></th>\n    </tr>\n  </thead>\n  <tbody>\n    <tr>\n      <th>351</th>\n      <td>30</td>\n      <td>Complete the construction of an equilateral tr...</td>\n      <td>2-8DN_Constructions.tex</td>\n      <td>684</td>\n    </tr>\n    <tr>\n      <th>352</th>\n      <td>30</td>\n      <td>\\newpage\\n</td>\n      <td>2-8DN_Constructions.tex</td>\n      <td>11</td>\n    </tr>\n    <tr>\n      <th>353</th>\n      <td>30</td>\n      <td>$x^2+6x+5=0$\\n</td>\n      <td>2-8DN_Constructions.tex</td>\n      <td>13</td>\n    </tr>\n    <tr>\n      <th>354</th>\n      <td>30</td>\n      <td>$x^2+5x=14$\\n    \\end{multicols}\\n\\n\\n</td>\n      <td>2-8DN_Constructions.tex</td>\n      <td>34</td>\n    </tr>\n  </tbody>\n</table>\n</div>"
     },
     "metadata": {},
     "execution_count": 13
    }
   ],
   "source": [
    "# CHECK Problem with itemize instead of enumerate\n",
    "problem_df[problem_df.problem_set_ID == 30].sort_index()"
   ]
  },
  {
   "cell_type": "code",
   "execution_count": 34,
   "metadata": {
    "tags": []
   },
   "outputs": [
    {
     "output_type": "stream",
     "name": "stdout",
     "text": "Complete the construction of an equilateral triangle with one side as $\\overline{AB}$. \\vspace{3cm}\n    \\begin{center}\n    \\begin{tikzpicture}\n      \\draw [-, thick] (0,0)--(0,6);\n      \\draw [fill] (0,0) circle [radius=0.05] node[left]{$A$};\n      \\draw [fill] (0,6) circle [radius=0.05] node[left]{$B$};\n    \\end{tikzpicture}\n    \\end{center} \\vspace{3cm}\n    \\begin{enumerate}\n      \\item Identify two circles in the construction. For each, name the center of the circle and the radius.  \\vspace{3cm}\n      \\item Assuming that the third vertex of the triangle is point $C$, explain why the distance from $A$ to $C$ is the same as the distance from $A$ to $B$.\n    \\end{enumerate}\n\n\n  \\newpage\n\n$x^2+6x+5=0$\n\n$x^2+5x=14$\n    \\end{multicols}\n\n\n\n"
    }
   ],
   "source": [
    "for q in problem_df[problem_df.problem_set_ID == 30].sort_index().question:\n",
    "    print(q)"
   ]
  },
  {
   "cell_type": "code",
   "execution_count": 12,
   "metadata": {},
   "outputs": [
    {
     "output_type": "execute_result",
     "data": {
      "text/plain": "unit                                          02-Midpoint+distance\nfile                                       2-8DN_Constructions.tex\nproblem_count                                                    5\nhead             [\\begin{document}\\n,   \\subsubsection*{2.8 Do ...\nbody             [\\item Complete the construction of an equilat...\nproblems_list    [Complete the construction of an equilateral t...\npath                         /Users/chris/GitHub/course-files/Geom\nfilename         /Users/chris/GitHub/course-files/Geom/02-Midpo...\nproblem_IDs                              [364, 366, 367, 365, 363]\nName: 30, dtype: object"
     },
     "metadata": {},
     "execution_count": 12
    }
   ],
   "source": [
    "pset_df.loc[30]"
   ]
  },
  {
   "cell_type": "code",
   "execution_count": 23,
   "metadata": {},
   "outputs": [
    {
     "output_type": "execute_result",
     "data": {
      "text/plain": "Empty DataFrame\nColumns: [filename, head, body, problems_list, problem_kind, problem_count, path, unit, file]\nIndex: []",
      "text/html": "<div>\n<style scoped>\n    .dataframe tbody tr th:only-of-type {\n        vertical-align: middle;\n    }\n\n    .dataframe tbody tr th {\n        vertical-align: top;\n    }\n\n    .dataframe thead th {\n        text-align: right;\n    }\n</style>\n<table border=\"1\" class=\"dataframe\">\n  <thead>\n    <tr style=\"text-align: right;\">\n      <th></th>\n      <th>filename</th>\n      <th>head</th>\n      <th>body</th>\n      <th>problems_list</th>\n      <th>problem_kind</th>\n      <th>problem_count</th>\n      <th>path</th>\n      <th>unit</th>\n      <th>file</th>\n    </tr>\n    <tr>\n      <th>problem_set_ID</th>\n      <th></th>\n      <th></th>\n      <th></th>\n      <th></th>\n      <th></th>\n      <th></th>\n      <th></th>\n      <th></th>\n      <th></th>\n    </tr>\n  </thead>\n  <tbody>\n  </tbody>\n</table>\n</div>"
     },
     "metadata": {},
     "execution_count": 23
    }
   ],
   "source": [
    "pset_df[pset_df.problems_list.apply(len) != pset_df.problem_kind.apply(len)]"
   ]
  },
  {
   "cell_type": "code",
   "execution_count": 16,
   "metadata": {},
   "outputs": [
    {
     "output_type": "execute_result",
     "data": {
      "text/plain": "            problem_set_ID                                     question  \\\nproblem_ID                                                                \n1647                   116                     \\subsubsection*{Spicy}\\n   \n91                       6               Find the value of $|2-7|$.\\n\\n   \n61                       6             Find the value of $|8.5-3|$.\\n\\n   \n816                     57           \\subsubsection*{Early finishers}\\n   \n777                     56           \\subsubsection*{Early finishers}\\n   \n1011                    73           \\subsubsection*{Early finishers}\\n   \n1303                    88           \\subsubsection*{Early finishers}\\n   \n1062                    76           \\subsubsection*{Early finishers}\\n   \n1400                    95           \\subsubsection*{Early finishers}\\n   \n114                      6         Find the value of $|11-4|+|-3|$.\\n\\n   \n869                     65         \\subsubsection*{Early finishers}\\n\\n   \n1275                    85         \\subsubsection*{Early finishers}\\n\\n   \n647                     47         \\subsubsection*{Early finishers}\\n\\n   \n1152                    79          %\\subsubsection*{Early Finishers}\\n   \n366                     30           \\subsubsection*{Early finishers}\\n   \n1565                   112       \\subsubsection*{Isosceles triangles}\\n   \n2131                   146      \\subsubsection*{Algebra competencies}\\n   \n534                     45  \\subsubsection*{Early finishers, spicy}\\n\\n   \n600                     46  \\subsubsection*{Early finishers, spicy}\\n\\n   \n1915                   134   \\subsubsection*{Applying density ratios}\\n   \n\n                kind                            filename  q_len  \nproblem_ID                                                       \n1647         section              7-7Exam-Similarity.tex     23  \n91          question                     1-4HW-Intro.tex     28  \n61          question                     1-4HW-Intro.tex     30  \n816          section       5-11bExam_Transformations.tex     33  \n777          section        5-11Exam_Transformations.tex     33  \n1011         section                6-10bCW_Dilation.tex     33  \n1303         section           6-7EN_Midpoint-graphs.tex     33  \n1062         section           6-11HW_pretest-angles.tex     33  \n1400         section          6-9HW_pretest-graphing.tex     33  \n114         question                     1-4HW-Intro.tex     34  \n869          section         5-7DNQ_Regents-dilation.tex     34  \n1275         section           6-6bDN_Distance+slope.tex     34  \n647          section           4-11Exam_Transversals.tex     34  \n1152         section      6-12Exam-Analytic-geometry.tex     34  \n366          section             2-8DN_Constructions.tex     35  \n1565         section       7-5bCW_Graphing+isosceles.tex     37  \n2131         section           8-9DN_Circle-equation.tex     38  \n534          section  3-9Exam_Volume+angle-bisectors.tex     41  \n600          section        4-10PreExam_Transversals.tex     41  \n1915         section                   8-3DN_Density.tex     41  ",
      "text/html": "<div>\n<style scoped>\n    .dataframe tbody tr th:only-of-type {\n        vertical-align: middle;\n    }\n\n    .dataframe tbody tr th {\n        vertical-align: top;\n    }\n\n    .dataframe thead th {\n        text-align: right;\n    }\n</style>\n<table border=\"1\" class=\"dataframe\">\n  <thead>\n    <tr style=\"text-align: right;\">\n      <th></th>\n      <th>problem_set_ID</th>\n      <th>question</th>\n      <th>kind</th>\n      <th>filename</th>\n      <th>q_len</th>\n    </tr>\n    <tr>\n      <th>problem_ID</th>\n      <th></th>\n      <th></th>\n      <th></th>\n      <th></th>\n      <th></th>\n    </tr>\n  </thead>\n  <tbody>\n    <tr>\n      <th>1647</th>\n      <td>116</td>\n      <td>\\subsubsection*{Spicy}\\n</td>\n      <td>section</td>\n      <td>7-7Exam-Similarity.tex</td>\n      <td>23</td>\n    </tr>\n    <tr>\n      <th>91</th>\n      <td>6</td>\n      <td>Find the value of $|2-7|$.\\n\\n</td>\n      <td>question</td>\n      <td>1-4HW-Intro.tex</td>\n      <td>28</td>\n    </tr>\n    <tr>\n      <th>61</th>\n      <td>6</td>\n      <td>Find the value of $|8.5-3|$.\\n\\n</td>\n      <td>question</td>\n      <td>1-4HW-Intro.tex</td>\n      <td>30</td>\n    </tr>\n    <tr>\n      <th>816</th>\n      <td>57</td>\n      <td>\\subsubsection*{Early finishers}\\n</td>\n      <td>section</td>\n      <td>5-11bExam_Transformations.tex</td>\n      <td>33</td>\n    </tr>\n    <tr>\n      <th>777</th>\n      <td>56</td>\n      <td>\\subsubsection*{Early finishers}\\n</td>\n      <td>section</td>\n      <td>5-11Exam_Transformations.tex</td>\n      <td>33</td>\n    </tr>\n    <tr>\n      <th>1011</th>\n      <td>73</td>\n      <td>\\subsubsection*{Early finishers}\\n</td>\n      <td>section</td>\n      <td>6-10bCW_Dilation.tex</td>\n      <td>33</td>\n    </tr>\n    <tr>\n      <th>1303</th>\n      <td>88</td>\n      <td>\\subsubsection*{Early finishers}\\n</td>\n      <td>section</td>\n      <td>6-7EN_Midpoint-graphs.tex</td>\n      <td>33</td>\n    </tr>\n    <tr>\n      <th>1062</th>\n      <td>76</td>\n      <td>\\subsubsection*{Early finishers}\\n</td>\n      <td>section</td>\n      <td>6-11HW_pretest-angles.tex</td>\n      <td>33</td>\n    </tr>\n    <tr>\n      <th>1400</th>\n      <td>95</td>\n      <td>\\subsubsection*{Early finishers}\\n</td>\n      <td>section</td>\n      <td>6-9HW_pretest-graphing.tex</td>\n      <td>33</td>\n    </tr>\n    <tr>\n      <th>114</th>\n      <td>6</td>\n      <td>Find the value of $|11-4|+|-3|$.\\n\\n</td>\n      <td>question</td>\n      <td>1-4HW-Intro.tex</td>\n      <td>34</td>\n    </tr>\n    <tr>\n      <th>869</th>\n      <td>65</td>\n      <td>\\subsubsection*{Early finishers}\\n\\n</td>\n      <td>section</td>\n      <td>5-7DNQ_Regents-dilation.tex</td>\n      <td>34</td>\n    </tr>\n    <tr>\n      <th>1275</th>\n      <td>85</td>\n      <td>\\subsubsection*{Early finishers}\\n\\n</td>\n      <td>section</td>\n      <td>6-6bDN_Distance+slope.tex</td>\n      <td>34</td>\n    </tr>\n    <tr>\n      <th>647</th>\n      <td>47</td>\n      <td>\\subsubsection*{Early finishers}\\n\\n</td>\n      <td>section</td>\n      <td>4-11Exam_Transversals.tex</td>\n      <td>34</td>\n    </tr>\n    <tr>\n      <th>1152</th>\n      <td>79</td>\n      <td>%\\subsubsection*{Early Finishers}\\n</td>\n      <td>section</td>\n      <td>6-12Exam-Analytic-geometry.tex</td>\n      <td>34</td>\n    </tr>\n    <tr>\n      <th>366</th>\n      <td>30</td>\n      <td>\\subsubsection*{Early finishers}\\n</td>\n      <td>section</td>\n      <td>2-8DN_Constructions.tex</td>\n      <td>35</td>\n    </tr>\n    <tr>\n      <th>1565</th>\n      <td>112</td>\n      <td>\\subsubsection*{Isosceles triangles}\\n</td>\n      <td>section</td>\n      <td>7-5bCW_Graphing+isosceles.tex</td>\n      <td>37</td>\n    </tr>\n    <tr>\n      <th>2131</th>\n      <td>146</td>\n      <td>\\subsubsection*{Algebra competencies}\\n</td>\n      <td>section</td>\n      <td>8-9DN_Circle-equation.tex</td>\n      <td>38</td>\n    </tr>\n    <tr>\n      <th>534</th>\n      <td>45</td>\n      <td>\\subsubsection*{Early finishers, spicy}\\n\\n</td>\n      <td>section</td>\n      <td>3-9Exam_Volume+angle-bisectors.tex</td>\n      <td>41</td>\n    </tr>\n    <tr>\n      <th>600</th>\n      <td>46</td>\n      <td>\\subsubsection*{Early finishers, spicy}\\n\\n</td>\n      <td>section</td>\n      <td>4-10PreExam_Transversals.tex</td>\n      <td>41</td>\n    </tr>\n    <tr>\n      <th>1915</th>\n      <td>134</td>\n      <td>\\subsubsection*{Applying density ratios}\\n</td>\n      <td>section</td>\n      <td>8-3DN_Density.tex</td>\n      <td>41</td>\n    </tr>\n  </tbody>\n</table>\n</div>"
     },
     "metadata": {},
     "execution_count": 16
    }
   ],
   "source": [
    "problem_df[problem_df.q_len > 16].head(20)"
   ]
  },
  {
   "cell_type": "code",
   "execution_count": 22,
   "metadata": {},
   "outputs": [
    {
     "output_type": "execute_result",
     "data": {
      "text/plain": "          problem_set_ID  question  filename  q_len\nkind                                               \nnewpage              509       509       509    509\nquestion            1813      1813      1813   1813\nsection              121       121       121    121",
      "text/html": "<div>\n<style scoped>\n    .dataframe tbody tr th:only-of-type {\n        vertical-align: middle;\n    }\n\n    .dataframe tbody tr th {\n        vertical-align: top;\n    }\n\n    .dataframe thead th {\n        text-align: right;\n    }\n</style>\n<table border=\"1\" class=\"dataframe\">\n  <thead>\n    <tr style=\"text-align: right;\">\n      <th></th>\n      <th>problem_set_ID</th>\n      <th>question</th>\n      <th>filename</th>\n      <th>q_len</th>\n    </tr>\n    <tr>\n      <th>kind</th>\n      <th></th>\n      <th></th>\n      <th></th>\n      <th></th>\n    </tr>\n  </thead>\n  <tbody>\n    <tr>\n      <th>newpage</th>\n      <td>509</td>\n      <td>509</td>\n      <td>509</td>\n      <td>509</td>\n    </tr>\n    <tr>\n      <th>question</th>\n      <td>1813</td>\n      <td>1813</td>\n      <td>1813</td>\n      <td>1813</td>\n    </tr>\n    <tr>\n      <th>section</th>\n      <td>121</td>\n      <td>121</td>\n      <td>121</td>\n      <td>121</td>\n    </tr>\n  </tbody>\n</table>\n</div>"
     },
     "metadata": {},
     "execution_count": 22
    }
   ],
   "source": [
    "problem_df.groupby('kind').count()"
   ]
  },
  {
   "cell_type": "code",
   "execution_count": 21,
   "metadata": {},
   "outputs": [
    {
     "output_type": "execute_result",
     "data": {
      "text/plain": "            problem_set_ID                                           question  \\\nproblem_ID                                                                      \n0                        0  Given the line segment $\\overline{PQ}$ shown b...   \n1                        0                                       \\newpage\\n\\n   \n2                        0  Given an angle with vertex $A$. Answer the que...   \n3                        0                                         \\newpage\\n   \n4                        0  Given the rectangle $ABCD$ shown below. Answer...   \n...                    ...                                                ...   \n2438                   171  What is the equation of a line through $(-7,10...   \n2439                   171  What is an equation of the perpendicular bisec...   \n2440                   171                                       \\newpage\\n\\n   \n2441                   171  $\\triangle ABC$ is shown with $m\\angle C=90^\\c...   \n2442                   171  The following diagram shows a pole BT 1.6 m ta...   \n\n                kind                       filename  q_len  \nproblem_ID                                                  \n0           question          1-1CW_Measurement.tex    732  \n1            newpage          1-1CW_Measurement.tex     10  \n2           question          1-1CW_Measurement.tex    676  \n3            newpage          1-1CW_Measurement.tex      9  \n4           question          1-1CW_Measurement.tex   1165  \n...              ...                            ...    ...  \n2438        question  10-6DN_Tangent-situations.tex    104  \n2439        question  10-6DN_Tangent-situations.tex    113  \n2440         newpage  10-6DN_Tangent-situations.tex     10  \n2441        question  10-6DN_Tangent-situations.tex    745  \n2442        question  10-6DN_Tangent-situations.tex    885  \n\n[2443 rows x 5 columns]",
      "text/html": "<div>\n<style scoped>\n    .dataframe tbody tr th:only-of-type {\n        vertical-align: middle;\n    }\n\n    .dataframe tbody tr th {\n        vertical-align: top;\n    }\n\n    .dataframe thead th {\n        text-align: right;\n    }\n</style>\n<table border=\"1\" class=\"dataframe\">\n  <thead>\n    <tr style=\"text-align: right;\">\n      <th></th>\n      <th>problem_set_ID</th>\n      <th>question</th>\n      <th>kind</th>\n      <th>filename</th>\n      <th>q_len</th>\n    </tr>\n    <tr>\n      <th>problem_ID</th>\n      <th></th>\n      <th></th>\n      <th></th>\n      <th></th>\n      <th></th>\n    </tr>\n  </thead>\n  <tbody>\n    <tr>\n      <th>0</th>\n      <td>0</td>\n      <td>Given the line segment $\\overline{PQ}$ shown b...</td>\n      <td>question</td>\n      <td>1-1CW_Measurement.tex</td>\n      <td>732</td>\n    </tr>\n    <tr>\n      <th>1</th>\n      <td>0</td>\n      <td>\\newpage\\n\\n</td>\n      <td>newpage</td>\n      <td>1-1CW_Measurement.tex</td>\n      <td>10</td>\n    </tr>\n    <tr>\n      <th>2</th>\n      <td>0</td>\n      <td>Given an angle with vertex $A$. Answer the que...</td>\n      <td>question</td>\n      <td>1-1CW_Measurement.tex</td>\n      <td>676</td>\n    </tr>\n    <tr>\n      <th>3</th>\n      <td>0</td>\n      <td>\\newpage\\n</td>\n      <td>newpage</td>\n      <td>1-1CW_Measurement.tex</td>\n      <td>9</td>\n    </tr>\n    <tr>\n      <th>4</th>\n      <td>0</td>\n      <td>Given the rectangle $ABCD$ shown below. Answer...</td>\n      <td>question</td>\n      <td>1-1CW_Measurement.tex</td>\n      <td>1165</td>\n    </tr>\n    <tr>\n      <th>...</th>\n      <td>...</td>\n      <td>...</td>\n      <td>...</td>\n      <td>...</td>\n      <td>...</td>\n    </tr>\n    <tr>\n      <th>2438</th>\n      <td>171</td>\n      <td>What is the equation of a line through $(-7,10...</td>\n      <td>question</td>\n      <td>10-6DN_Tangent-situations.tex</td>\n      <td>104</td>\n    </tr>\n    <tr>\n      <th>2439</th>\n      <td>171</td>\n      <td>What is an equation of the perpendicular bisec...</td>\n      <td>question</td>\n      <td>10-6DN_Tangent-situations.tex</td>\n      <td>113</td>\n    </tr>\n    <tr>\n      <th>2440</th>\n      <td>171</td>\n      <td>\\newpage\\n\\n</td>\n      <td>newpage</td>\n      <td>10-6DN_Tangent-situations.tex</td>\n      <td>10</td>\n    </tr>\n    <tr>\n      <th>2441</th>\n      <td>171</td>\n      <td>$\\triangle ABC$ is shown with $m\\angle C=90^\\c...</td>\n      <td>question</td>\n      <td>10-6DN_Tangent-situations.tex</td>\n      <td>745</td>\n    </tr>\n    <tr>\n      <th>2442</th>\n      <td>171</td>\n      <td>The following diagram shows a pole BT 1.6 m ta...</td>\n      <td>question</td>\n      <td>10-6DN_Tangent-situations.tex</td>\n      <td>885</td>\n    </tr>\n  </tbody>\n</table>\n<p>2443 rows × 5 columns</p>\n</div>"
     },
     "metadata": {},
     "execution_count": 21
    }
   ],
   "source": [
    "problem_df"
   ]
  },
  {
   "cell_type": "code",
   "execution_count": 27,
   "metadata": {},
   "outputs": [
    {
     "output_type": "execute_result",
     "data": {
      "text/plain": "                                          filename  problem_count\nproblem_set_ID                                                   \n161                    9-8DN-Similarity-review.tex             20\n132                          8-2bDN_Estimation.tex             22\n115                       7-6bCW_Tangent+mixed.tex             23\n143                    8-7bPreExam_Area+volume.tex             23\n13                         1-7Exam-corrections.tex             23\n71                           5-9bDN_Multi-step.tex             24\n12                               1-7Exam-Intro.tex             25\n160                    9-7CW-Similarity-review.tex             25\n117                        7-7bExam-Similarity.tex             26\n164                   9-9bExam-transformations.tex             28\n70                  5-9PreExam_Transformations.tex             28\n159                   9-5bExam-transformations.tex             31\n80                 6-12bExam-Analytic-geometry.tex             33\n130                              8-1DN_Circles.tex             34\n163                    9-9Exam-transformations.tex             35\n144                        8-8Exam_Area+volume.tex             37\n32                       2-9Exam_area-distance.tex             37\n116                         7-7Exam-Similarity.tex             37\n82                        6-3CW_Absense-packet.tex             39\n57                   5-11bExam_Transformations.tex             40\n56                    5-11Exam_Transformations.tex             42\n133                   8-3CW_Circle-terminology.tex             43\n79                  6-12Exam-Analytic-geometry.tex             43\n45              3-9Exam_Volume+angle-bisectors.tex             46\n47                       4-11Exam_Transversals.tex             48\n76                       6-11HW_pretest-angles.tex             49\n73                            6-10bCW_Dilation.tex             55\n95                      6-9HW_pretest-graphing.tex             57\n46                    4-10PreExam_Transversals.tex             64\n6                                  1-4HW-Intro.tex            115",
      "text/html": "<div>\n<style scoped>\n    .dataframe tbody tr th:only-of-type {\n        vertical-align: middle;\n    }\n\n    .dataframe tbody tr th {\n        vertical-align: top;\n    }\n\n    .dataframe thead th {\n        text-align: right;\n    }\n</style>\n<table border=\"1\" class=\"dataframe\">\n  <thead>\n    <tr style=\"text-align: right;\">\n      <th></th>\n      <th>filename</th>\n      <th>problem_count</th>\n    </tr>\n    <tr>\n      <th>problem_set_ID</th>\n      <th></th>\n      <th></th>\n    </tr>\n  </thead>\n  <tbody>\n    <tr>\n      <th>161</th>\n      <td>9-8DN-Similarity-review.tex</td>\n      <td>20</td>\n    </tr>\n    <tr>\n      <th>132</th>\n      <td>8-2bDN_Estimation.tex</td>\n      <td>22</td>\n    </tr>\n    <tr>\n      <th>115</th>\n      <td>7-6bCW_Tangent+mixed.tex</td>\n      <td>23</td>\n    </tr>\n    <tr>\n      <th>143</th>\n      <td>8-7bPreExam_Area+volume.tex</td>\n      <td>23</td>\n    </tr>\n    <tr>\n      <th>13</th>\n      <td>1-7Exam-corrections.tex</td>\n      <td>23</td>\n    </tr>\n    <tr>\n      <th>71</th>\n      <td>5-9bDN_Multi-step.tex</td>\n      <td>24</td>\n    </tr>\n    <tr>\n      <th>12</th>\n      <td>1-7Exam-Intro.tex</td>\n      <td>25</td>\n    </tr>\n    <tr>\n      <th>160</th>\n      <td>9-7CW-Similarity-review.tex</td>\n      <td>25</td>\n    </tr>\n    <tr>\n      <th>117</th>\n      <td>7-7bExam-Similarity.tex</td>\n      <td>26</td>\n    </tr>\n    <tr>\n      <th>164</th>\n      <td>9-9bExam-transformations.tex</td>\n      <td>28</td>\n    </tr>\n    <tr>\n      <th>70</th>\n      <td>5-9PreExam_Transformations.tex</td>\n      <td>28</td>\n    </tr>\n    <tr>\n      <th>159</th>\n      <td>9-5bExam-transformations.tex</td>\n      <td>31</td>\n    </tr>\n    <tr>\n      <th>80</th>\n      <td>6-12bExam-Analytic-geometry.tex</td>\n      <td>33</td>\n    </tr>\n    <tr>\n      <th>130</th>\n      <td>8-1DN_Circles.tex</td>\n      <td>34</td>\n    </tr>\n    <tr>\n      <th>163</th>\n      <td>9-9Exam-transformations.tex</td>\n      <td>35</td>\n    </tr>\n    <tr>\n      <th>144</th>\n      <td>8-8Exam_Area+volume.tex</td>\n      <td>37</td>\n    </tr>\n    <tr>\n      <th>32</th>\n      <td>2-9Exam_area-distance.tex</td>\n      <td>37</td>\n    </tr>\n    <tr>\n      <th>116</th>\n      <td>7-7Exam-Similarity.tex</td>\n      <td>37</td>\n    </tr>\n    <tr>\n      <th>82</th>\n      <td>6-3CW_Absense-packet.tex</td>\n      <td>39</td>\n    </tr>\n    <tr>\n      <th>57</th>\n      <td>5-11bExam_Transformations.tex</td>\n      <td>40</td>\n    </tr>\n    <tr>\n      <th>56</th>\n      <td>5-11Exam_Transformations.tex</td>\n      <td>42</td>\n    </tr>\n    <tr>\n      <th>133</th>\n      <td>8-3CW_Circle-terminology.tex</td>\n      <td>43</td>\n    </tr>\n    <tr>\n      <th>79</th>\n      <td>6-12Exam-Analytic-geometry.tex</td>\n      <td>43</td>\n    </tr>\n    <tr>\n      <th>45</th>\n      <td>3-9Exam_Volume+angle-bisectors.tex</td>\n      <td>46</td>\n    </tr>\n    <tr>\n      <th>47</th>\n      <td>4-11Exam_Transversals.tex</td>\n      <td>48</td>\n    </tr>\n    <tr>\n      <th>76</th>\n      <td>6-11HW_pretest-angles.tex</td>\n      <td>49</td>\n    </tr>\n    <tr>\n      <th>73</th>\n      <td>6-10bCW_Dilation.tex</td>\n      <td>55</td>\n    </tr>\n    <tr>\n      <th>95</th>\n      <td>6-9HW_pretest-graphing.tex</td>\n      <td>57</td>\n    </tr>\n    <tr>\n      <th>46</th>\n      <td>4-10PreExam_Transversals.tex</td>\n      <td>64</td>\n    </tr>\n    <tr>\n      <th>6</th>\n      <td>1-4HW-Intro.tex</td>\n      <td>115</td>\n    </tr>\n  </tbody>\n</table>\n</div>"
     },
     "metadata": {},
     "execution_count": 27
    }
   ],
   "source": [
    "pset_df.sort_values('problem_count')[['filename', 'problem_count']].tail(30)"
   ]
  },
  {
   "cell_type": "code",
   "execution_count": null,
   "metadata": {},
   "outputs": [],
   "source": []
  }
 ]
}