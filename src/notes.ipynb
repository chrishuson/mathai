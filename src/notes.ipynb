{
 "metadata": {
  "language_info": {
   "codemirror_mode": {
    "name": "ipython",
    "version": 3
   },
   "file_extension": ".py",
   "mimetype": "text/x-python",
   "name": "python",
   "nbconvert_exporter": "python",
   "pygments_lexer": "ipython3",
   "version": "3.7.6-final"
  },
  "orig_nbformat": 2,
  "kernelspec": {
   "name": "python_defaultSpec_1599053025681",
   "display_name": "Python 3.7.6 64-bit ('base': conda)"
  }
 },
 "nbformat": 4,
 "nbformat_minor": 2,
 "cells": [
  {
   "cell_type": "code",
   "execution_count": 1,
   "metadata": {
    "tags": []
   },
   "outputs": [
    {
     "output_type": "execute_result",
     "data": {
      "text/plain": "'/Users/chris/GitHub/mathai/src'"
     },
     "metadata": {},
     "execution_count": 1
    }
   ],
   "source": [
    "import os\n",
    "import sys\n",
    "import subprocess\n",
    "import pandas as pd\n",
    "import numpy as np\n",
    "from ast import literal_eval\n",
    "\n",
    "os.getcwd()"
   ]
  },
  {
   "cell_type": "code",
   "execution_count": 2,
   "metadata": {
    "tags": []
   },
   "outputs": [
    {
     "output_type": "stream",
     "name": "stdout",
     "text": "Loaded dataframes: \nworksheet_files_df:\n index name:  None \ncolumns:  Index(['Unnamed: 0', 'unit', 'file_count', 'filename'], dtype='object') \n149 rows:  149 \n\nproblem_sets_df:\n index name:  problem_set_ID \ncolumns:  Index(['filename', 'head', 'body', 'problems_list', 'problem_count',\n       'problem_IDs'],\n      dtype='object') \n149 rows:  149 \n\nproblems_df:\n index name:  problem_ID \ncolumns:  Index(['problem_set_ID', 'question'], dtype='object') \n1855 rows:  1855 \n\nstandards_df:\n index name:  None \ncolumns:  Index(['course', 'chapter', 'topic', 'ccss_ID'], dtype='object') \n314 rows:  314 \n\nstandards_desc_df:\n index name:  ccss_ID \ncolumns:  Index(['description'], dtype='object') \n131 rows:  131 \n\n"
    }
   ],
   "source": [
    "from main import map_course_files\n",
    "from main import parse_course_files\n",
    "from main import parse_problem_sets\n",
    "from main import print_problems_df\n",
    "from main import print_problem_set_df"
   ]
  },
  {
   "cell_type": "markdown",
   "metadata": {},
   "source": [
    "## saving and loading problem and problem set dataframes"
   ]
  },
  {
   "cell_type": "code",
   "execution_count": 127,
   "metadata": {},
   "outputs": [],
   "source": [
    "problem_df.to_csv('/Users/chris/GitHub/mathai/db/problem_df.csv')\n",
    "pset_df.to_csv('/Users/chris/GitHub/mathai/db/pset_df.csv')"
   ]
  },
  {
   "cell_type": "code",
   "execution_count": 4,
   "metadata": {
    "tags": []
   },
   "outputs": [
    {
     "output_type": "stream",
     "name": "stdout",
     "text": "problem_df:  2351 problem_ID Index(['problem_set_ID', 'question', 'file', 'q_len'], dtype='object')\npset_df:  172 problem_set_ID Index(['unit', 'file', 'problem_count', 'head', 'body', 'problems_list',\n       'path', 'filename', 'problem_IDs'],\n      dtype='object')\n"
    }
   ],
   "source": [
    "problem_df = pd.read_csv('../db/problem_df.csv', index_col='problem_ID')\n",
    "cols_into_lists = {'problem_IDs':literal_eval, 'head':literal_eval, 'body':literal_eval, 'problems_list':literal_eval}\n",
    "pset_df = pd.read_csv('../db/pset_df.csv', index_col='problem_set_ID', converters=cols_into_lists)\n",
    "print('problem_df: ', len(problem_df), problem_df.index.name, problem_df.columns)\n",
    "print('pset_df: ', len(pset_df), pset_df.index.name, pset_df.columns)\n"
   ]
  },
  {
   "cell_type": "markdown",
   "metadata": {},
   "source": [
    "## Printing Problem Sets"
   ]
  },
  {
   "cell_type": "code",
   "execution_count": 22,
   "metadata": {},
   "outputs": [],
   "source": [
    "title = ('file is 9-3bDN.tex', '2 September 2020', '9-3bDN-Composition.tex')\n",
    "df = problem_df[problem_df.file.str.startswith('9-3bDN')].sort_index()\n",
    "print_problems_df(df, filename='batch2/9-3bDN', title=title)"
   ]
  },
  {
   "cell_type": "code",
   "execution_count": 20,
   "metadata": {},
   "outputs": [
    {
     "output_type": "execute_result",
     "data": {
      "text/plain": "            problem_set_ID                                           question  \\\nproblem_ID                                                                      \n2094                   153  A transformation is applied to a triangle, $\\t...   \n2095                   153  Determine and state the transformation mapping...   \n2096                   153  First reflect the trapezoid $BECA$ across the ...   \n2097                   153                                         \\newpage\\n   \n2098                   153  Two transformations have been applied to a tri...   \n2099                   153  The quadrilateral $ROCK$ undergoes two transfo...   \n\n                              file  q_len  \nproblem_ID                                 \n2094        9-3bDN_Composition.tex   1104  \n2095        9-3bDN_Composition.tex    674  \n2096        9-3bDN_Composition.tex    577  \n2097        9-3bDN_Composition.tex      9  \n2098        9-3bDN_Composition.tex    948  \n2099        9-3bDN_Composition.tex    905  ",
      "text/html": "<div>\n<style scoped>\n    .dataframe tbody tr th:only-of-type {\n        vertical-align: middle;\n    }\n\n    .dataframe tbody tr th {\n        vertical-align: top;\n    }\n\n    .dataframe thead th {\n        text-align: right;\n    }\n</style>\n<table border=\"1\" class=\"dataframe\">\n  <thead>\n    <tr style=\"text-align: right;\">\n      <th></th>\n      <th>problem_set_ID</th>\n      <th>question</th>\n      <th>file</th>\n      <th>q_len</th>\n    </tr>\n    <tr>\n      <th>problem_ID</th>\n      <th></th>\n      <th></th>\n      <th></th>\n      <th></th>\n    </tr>\n  </thead>\n  <tbody>\n    <tr>\n      <th>2094</th>\n      <td>153</td>\n      <td>A transformation is applied to a triangle, $\\t...</td>\n      <td>9-3bDN_Composition.tex</td>\n      <td>1104</td>\n    </tr>\n    <tr>\n      <th>2095</th>\n      <td>153</td>\n      <td>Determine and state the transformation mapping...</td>\n      <td>9-3bDN_Composition.tex</td>\n      <td>674</td>\n    </tr>\n    <tr>\n      <th>2096</th>\n      <td>153</td>\n      <td>First reflect the trapezoid $BECA$ across the ...</td>\n      <td>9-3bDN_Composition.tex</td>\n      <td>577</td>\n    </tr>\n    <tr>\n      <th>2097</th>\n      <td>153</td>\n      <td>\\newpage\\n</td>\n      <td>9-3bDN_Composition.tex</td>\n      <td>9</td>\n    </tr>\n    <tr>\n      <th>2098</th>\n      <td>153</td>\n      <td>Two transformations have been applied to a tri...</td>\n      <td>9-3bDN_Composition.tex</td>\n      <td>948</td>\n    </tr>\n    <tr>\n      <th>2099</th>\n      <td>153</td>\n      <td>The quadrilateral $ROCK$ undergoes two transfo...</td>\n      <td>9-3bDN_Composition.tex</td>\n      <td>905</td>\n    </tr>\n  </tbody>\n</table>\n</div>"
     },
     "metadata": {},
     "execution_count": 20
    }
   ],
   "source": [
    "problem_df[problem_df.file.str.startswith('9-3CW')].sort_index() #Graphics files example\n",
    "problem_df[problem_df.file.str.startswith('9-3bDN')].sort_index()"
   ]
  },
  {
   "cell_type": "code",
   "execution_count": 23,
   "metadata": {},
   "outputs": [
    {
     "output_type": "execute_result",
     "data": {
      "text/plain": "0"
     },
     "metadata": {},
     "execution_count": 23
    }
   ],
   "source": [
    "os.system('pdflatex ../out/batch2/9-3bDN.tex')"
   ]
  },
  {
   "cell_type": "code",
   "execution_count": 25,
   "metadata": {},
   "outputs": [
    {
     "output_type": "execute_result",
     "data": {
      "text/plain": "problem_set_ID\n153                 9-3bDN_Composition.tex\n154             9-3bHW_Transformations.tex\n155    9-4CW_Triangle-congruence-proof.tex\n156                   9-4DN-reflection.tex\n157                 9-4bCW_Composition.tex\n158                  9-4bDN-reflection.tex\n159           9-5bExam-transformations.tex\n160            9-7CW-Similarity-review.tex\nName: file, dtype: object"
     },
     "metadata": {},
     "execution_count": 25
    }
   ],
   "source": [
    "pset_df.loc[154:156].file"
   ]
  },
  {
   "cell_type": "code",
   "execution_count": 26,
   "metadata": {
    "tags": []
   },
   "outputs": [
    {
     "output_type": "stream",
     "name": "stdout",
     "text": "problem_set_ID                                           question  \\\nproblem_ID                                                                      \n2094                   153  A transformation is applied to a triangle, $\\t...   \n2095                   153  Determine and state the transformation mapping...   \n2096                   153  First reflect the trapezoid $BECA$ across the ...   \n2097                   153                                         \\newpage\\n   \n2098                   153  Two transformations have been applied to a tri...   \n2099                   153  The quadrilateral $ROCK$ undergoes two transfo...   \n\n                              file  q_len  \nproblem_ID                                 \n2094        9-3bDN_Composition.tex   1104  \n2095        9-3bDN_Composition.tex    674  \n2096        9-3bDN_Composition.tex    577  \n2097        9-3bDN_Composition.tex      9  \n2098        9-3bDN_Composition.tex    948  \n2099        9-3bDN_Composition.tex    905  \n            problem_set_ID                                           question  \\\nproblem_ID                                                                      \n2100                   154  Apply the translation $(x,y) \\rightarrow (x-2,...   \n2101                   154  What is the image of $B(2,4)$ under a reflecti...   \n2102                   154  State the translation that would map $C(-3,1)$...   \n2103                   154                                         \\newpage\\n   \n2104                   154  Given $D(1,9) \\rightarrow D'(4,3)$. Find the i...   \n2105                   154  The image of triangle $ABC$ after a translatio...   \n2106                   154  On the graph below, draw $\\overline{AB}$, with...   \n\n                                  file  q_len  \nproblem_ID                                     \n2100        9-3bHW_Transformations.tex    333  \n2101        9-3bHW_Transformations.tex    340  \n2102        9-3bHW_Transformations.tex    333  \n2103        9-3bHW_Transformations.tex      9  \n2104        9-3bHW_Transformations.tex    357  \n2105        9-3bHW_Transformations.tex    187  \n2106        9-3bHW_Transformations.tex    454  \n            problem_set_ID                                           question  \\\nproblem_ID                                                                      \n2107                   155  Given $\\triangle ABC$ and $\\triangle EFG$ with...   \n2108                   155  Two parallel lines intersect a transversal,  $...   \n2109                   155                                         \\newpage\\n   \n2110                   155  Given $\\triangle ABC$ and $\\triangle EFG$ with...   \n2111                   155  Given $\\triangle ABP$ and $\\triangle JKP$ with...   \n2112                   155                                         \\newpage\\n   \n2113                   155  List of theorem/situations for $\\triangle \\con...   \n\n                                           file  q_len  \nproblem_ID                                              \n2107        9-4CW_Triangle-congruence-proof.tex   1297  \n2108        9-4CW_Triangle-congruence-proof.tex   1858  \n2109        9-4CW_Triangle-congruence-proof.tex      9  \n2110        9-4CW_Triangle-congruence-proof.tex   1279  \n2111        9-4CW_Triangle-congruence-proof.tex   1110  \n2112        9-4CW_Triangle-congruence-proof.tex      9  \n2113        9-4CW_Triangle-congruence-proof.tex    423  \n            problem_set_ID                                           question  \\\nproblem_ID                                                                      \n2114                   156  Which of the following would map $\\triangle CA...   \n2115                   156  Draw the line of reflection used to map $\\tria...   \n2116                   156  Draw the line of reflection for each diagram b...   \n2117                   156                                         \\newpage\\n   \n2118                   156  Given two parallel lines are intersected by a ...   \n2119                   156  In the diagram above, the point $M$ bisects $\\...   \n2120                   156  Given two vertical angles, $m \\angle 1 = 5x+9$...   \n\n                            file  q_len  \nproblem_ID                               \n2114        9-4DN-reflection.tex   1131  \n2115        9-4DN-reflection.tex    625  \n2116        9-4DN-reflection.tex    755  \n2117        9-4DN-reflection.tex      9  \n2118        9-4DN-reflection.tex    724  \n2119        9-4DN-reflection.tex     97  \n2120        9-4DN-reflection.tex    405  \n            problem_set_ID                                           question  \\\nproblem_ID                                                                      \n2121                   157  A transformation is applied to a triangle, $\\t...   \n2122                   157  Determine and state the transformation mapping...   \n2123                   157  First reflect the trapezoid $BECA$ across the ...   \n2124                   157                                         \\newpage\\n   \n2125                   157  Two transformations have been applied to a tri...   \n2126                   157  The quadrilateral $ROCK$ undergoes two transfo...   \n\n                              file  q_len  \nproblem_ID                                 \n2121        9-4bCW_Composition.tex   1080  \n2122        9-4bCW_Composition.tex    674  \n2123        9-4bCW_Composition.tex    580  \n2124        9-4bCW_Composition.tex      9  \n2125        9-4bCW_Composition.tex    944  \n2126        9-4bCW_Composition.tex    905  \n            problem_set_ID                                           question  \\\nproblem_ID                                                                      \n2127                   158  Which of the following would map $\\triangle CA...   \n2128                   158  Draw the line of reflection used to map $\\tria...   \n2129                   158  Draw the line of reflection for each diagram b...   \n2130                   158                                         \\newpage\\n   \n2131                   158  Determine and state the sequence of transfroma...   \n\n                             file  q_len  \nproblem_ID                                \n2127        9-4bDN-reflection.tex   1131  \n2128        9-4bDN-reflection.tex    625  \n2129        9-4bDN-reflection.tex    755  \n2130        9-4bDN-reflection.tex      9  \n2131        9-4bDN-reflection.tex    890  \n            problem_set_ID                                           question  \\\nproblem_ID                                                                      \n2132                   159  Slide $\\triangle ABC$ to the left four and up ...   \n2133                   159  Apply the translation $(x,y) \\rightarrow (x-3,...   \n2134                   159  On the axes below, graph the point $N(-3,2)$ a...   \n2135                   159                                         \\newpage\\n   \n2136                   159  Identify the transformation that maps $\\triang...   \n2137                   159  State the translation that would map $Q(4,3)$ ...   \n2138                   159  On the set of axes below, $\\triangle ABC \\cong...   \n2139                   159                                         \\newpage\\n   \n2140                   159  Triangle $A'B'C'$ is the image of triangle $AB...   \n2141                   159  Rotate $\\triangle JKL$ $90^\\circ$ counterclock...   \n2142                   159  Draw the line of reflection that would map $\\t...   \n2143                   159                                         \\newpage\\n   \n2144                   159  On the axes below, plot the point $A(-4,-1)$ a...   \n2145                   159  The image of triangle $ABC$ after a translatio...   \n2146                   159  Determine and state the transformation mapping...   \n2147                   159                                         \\newpage\\n   \n2148                   159  State the translation that would map $C(-4,0)$...   \n2149                   159  Two transformations have been applied to a tri...   \n2150                   159  What are the coordinates of the image of $B(2,...   \n2151                   159                                         \\newpage\\n   \n2152                   159  Which of the following would map $\\triangle CA...   \n2153                   159  First reflect the trapezoid $BECA$ across the ...   \n2154                   159  Draw the line of reflection for quadrilaterals...   \n2155                   159                                         \\newpage\\n   \n2156                   159  The quadrilateral $ROCK$ undergoes rigid motio...   \n2157                   159  The quadrilateral $MATH$ is mapped to $M'A'T'H...   \n2158                   159  What are the coordinates of the image of $C(4,...   \n2159                   159                                         \\newpage\\n   \n2160                   159  Given $\\triangle WIN \\cong \\triangle W'I'N'$. ...   \n2161                   159  Determine and state the sequence of transfroma...   \n2162                   159  Determine and state the transformation mapping...   \n\n                                    file  q_len  \nproblem_ID                                       \n2132        9-5bExam-transformations.tex    525  \n2133        9-5bExam-transformations.tex     93  \n2134        9-5bExam-transformations.tex    426  \n2135        9-5bExam-transformations.tex      9  \n2136        9-5bExam-transformations.tex    641  \n2137        9-5bExam-transformations.tex     80  \n2138        9-5bExam-transformations.tex    687  \n2139        9-5bExam-transformations.tex      9  \n2140        9-5bExam-transformations.tex    177  \n2141        9-5bExam-transformations.tex    540  \n2142        9-5bExam-transformations.tex    613  \n2143        9-5bExam-transformations.tex      9  \n2144        9-5bExam-transformations.tex    427  \n2145        9-5bExam-transformations.tex    189  \n2146        9-5bExam-transformations.tex    623  \n2147        9-5bExam-transformations.tex      9  \n2148        9-5bExam-transformations.tex    374  \n2149        9-5bExam-transformations.tex    893  \n2150        9-5bExam-transformations.tex    511  \n2151        9-5bExam-transformations.tex      9  \n2152        9-5bExam-transformations.tex   1105  \n2153        9-5bExam-transformations.tex    605  \n2154        9-5bExam-transformations.tex    452  \n2155        9-5bExam-transformations.tex      9  \n2156        9-5bExam-transformations.tex    898  \n2157        9-5bExam-transformations.tex    858  \n2158        9-5bExam-transformations.tex    557  \n2159        9-5bExam-transformations.tex      9  \n2160        9-5bExam-transformations.tex    664  \n2161        9-5bExam-transformations.tex    706  \n2162        9-5bExam-transformations.tex    639  \n            problem_set_ID                                           question  \\\nproblem_ID                                                                      \n2163                   160  Find the image of $P(1,-4)$ after the translat...   \n2164                   160  Given $\\triangle ABC \\sim \\triangle DEF$. $m\\a...   \n2165                   160  In the diagram of $\\triangle ABC$, $D$ is a po...   \n2166                   160  \\begin{enumerate}[itemsep=1.5cm]\\n    \\item In...   \n2167                   160                                         \\newpage\\n   \n2168                   160  Given $\\triangle ABP \\sim \\triangle JKP$ as sh...   \n2169                   160  A dilation centered at the origin with scale f...   \n2170                   160  A translation maps $N(-2, 7) \\rightarrow N'(-4...   \n2171                   160                                         \\newpage\\n   \n2172                   160  The vertices of $\\triangle JKL$ have the coord...   \n2173                   160  A dilation centered at $A$ maps $\\triangle ABC...   \n2174                   160                                         \\newpage\\n   \n2175                   160  The line $\\overleftrightarrow{AB}$ has the equ...   \n2176                   160  The diagram below shows $\\triangle ABC$, with ...   \n2177                   160  In the diagram below, the chords $\\overline{AE...   \n2178                   160                                         \\newpage\\n   \n2179                   160  What transformation or series of transformatio...   \n2180                   160  Reflect $\\triangle ABC$ over the $y$-axis. Mak...   \n2181                   160                                         \\newpage\\n   \n2182                   160  Rotate $\\triangle ABC$ $90^\\circ$ counterclock...   \n2183                   160  The $\\triangle ABC$ is reflected across $l$ to...   \n2184                   160                                         \\newpage\\n   \n2185                   160  In this problem use the following theorem (cop...   \n\n                                   file  q_len  \nproblem_ID                                      \n2163        9-7CW-Similarity-review.tex     99  \n2164        9-7CW-Similarity-review.tex    141  \n2165        9-7CW-Similarity-review.tex    617  \n2166        9-7CW-Similarity-review.tex    758  \n2167        9-7CW-Similarity-review.tex      9  \n2168        9-7CW-Similarity-review.tex    459  \n2169        9-7CW-Similarity-review.tex    914  \n2170        9-7CW-Similarity-review.tex    118  \n2171        9-7CW-Similarity-review.tex      9  \n2172        9-7CW-Similarity-review.tex    882  \n2173        9-7CW-Similarity-review.tex    954  \n2174        9-7CW-Similarity-review.tex      9  \n2175        9-7CW-Similarity-review.tex    876  \n2176        9-7CW-Similarity-review.tex    717  \n2177        9-7CW-Similarity-review.tex    538  \n2178        9-7CW-Similarity-review.tex      9  \n2179        9-7CW-Similarity-review.tex    693  \n2180        9-7CW-Similarity-review.tex    510  \n2181        9-7CW-Similarity-review.tex      9  \n2182        9-7CW-Similarity-review.tex    762  \n2183        9-7CW-Similarity-review.tex    585  \n2184        9-7CW-Similarity-review.tex      9  \n2185        9-7CW-Similarity-review.tex   1028  \n"
    }
   ],
   "source": [
    "for x in range(153, 161):\n",
    "    print(problem_df[problem_df.problem_set_ID == x].sort_index())"
   ]
  },
  {
   "cell_type": "code",
   "execution_count": 27,
   "metadata": {},
   "outputs": [
    {
     "output_type": "execute_result",
     "data": {
      "text/plain": "                 filename      unit\n0  Problem_set_ID_154.tex  unit_xyz\n1  Problem_set_ID_155.tex  unit_xyz\n2  Problem_set_ID_156.tex  unit_xyz",
      "text/html": "<div>\n<style scoped>\n    .dataframe tbody tr th:only-of-type {\n        vertical-align: middle;\n    }\n\n    .dataframe tbody tr th {\n        vertical-align: top;\n    }\n\n    .dataframe thead th {\n        text-align: right;\n    }\n</style>\n<table border=\"1\" class=\"dataframe\">\n  <thead>\n    <tr style=\"text-align: right;\">\n      <th></th>\n      <th>filename</th>\n      <th>unit</th>\n    </tr>\n  </thead>\n  <tbody>\n    <tr>\n      <th>0</th>\n      <td>Problem_set_ID_154.tex</td>\n      <td>unit_xyz</td>\n    </tr>\n    <tr>\n      <th>1</th>\n      <td>Problem_set_ID_155.tex</td>\n      <td>unit_xyz</td>\n    </tr>\n    <tr>\n      <th>2</th>\n      <td>Problem_set_ID_156.tex</td>\n      <td>unit_xyz</td>\n    </tr>\n  </tbody>\n</table>\n</div>"
     },
     "metadata": {},
     "execution_count": 27
    }
   ],
   "source": [
    "out_file_df = print_problem_set_df(pset_df.loc[[154, 155, 156]], problem_df)\n",
    "out_file_df"
   ]
  },
  {
   "cell_type": "code",
   "execution_count": 31,
   "metadata": {
    "tags": []
   },
   "outputs": [
    {
     "output_type": "stream",
     "name": "stdout",
     "text": "pdflatex Problem_set_ID_154.tex.tex\npdflatex Problem_set_ID_155.tex.tex\npdflatex Problem_set_ID_156.tex.tex\n"
    }
   ],
   "source": [
    "for file in out_file_df.filename:\n",
    "    print('pdflatex ' + file + '.tex')\n",
    "    os.system('pdflatex ../out/' + file + '.tex')"
   ]
  },
  {
   "cell_type": "code",
   "execution_count": 24,
   "metadata": {},
   "outputs": [
    {
     "output_type": "execute_result",
     "data": {
      "text/plain": "file\n1-1CW_Measurement.tex                 8\n1-1DNQ_Distance+slope.tex             4\n1-1DN_Algebra.tex                     7\n1-1HW_Algebra.tex                     8\n1-3DN_Function-intercepts.tex         6\n1-3HW_Equilateral-triangle.tex       11\n1-4HW-Intro.tex                     104\n1-4HW_Segment-addition.tex           11\n1-5CW_Angle-terminology.tex           8\n1-5HW_Pretest-segments-intro.tex     17\n1-6DN_Angle-pairs.tex                 6\n1-6HW_Angle-pairs.tex                 6\n1-7Exam-Intro.tex                    25\n1-7Exam-corrections.tex              25\n1-7Exam-spicy.tex                     7\n1-7HW_Calculations.tex                8\n10-1DN_Trig.tex                       7\n10-1bDN_Trig.tex                      7\n10-2DN_Analytics-review.tex           9\n10-2bDN_Analytics-review.tex         13\nName: question, dtype: int64"
     },
     "metadata": {},
     "execution_count": 24
    }
   ],
   "source": [
    "problem_df.sort_index().groupby('file').question.count().head(20)"
   ]
  },
  {
   "cell_type": "code",
   "execution_count": 113,
   "metadata": {},
   "outputs": [
    {
     "output_type": "execute_result",
     "data": {
      "text/plain": "                                        unit                           file  \\\nproblem_set_ID                                                                \n0                                   01-Intro          1-1CW_Measurement.tex   \n1                                   01-Intro      1-1DNQ_Distance+slope.tex   \n2                                   01-Intro              1-1DN_Algebra.tex   \n3                                   01-Intro              1-1HW_Algebra.tex   \n4                                   01-Intro  1-3DN_Function-intercepts.tex   \n...                                      ...                            ...   \n167             10-Trig+similarity+analytics    10-2DN_Analytics-review.tex   \n168             10-Trig+similarity+analytics   10-2bDN_Analytics-review.tex   \n169             10-Trig+similarity+analytics  10-4DN_Tangent-situations.tex   \n170             10-Trig+similarity+analytics   10-4bDN_Analytics-review.tex   \n171             10-Trig+similarity+analytics  10-6DN_Tangent-situations.tex   \n\n                problem_count  \\\nproblem_set_ID                  \n0                           8   \n1                           4   \n2                           7   \n3                           8   \n4                           6   \n...                       ...   \n167                         9   \n168                        13   \n169                         8   \n170                        13   \n171                         8   \n\n                                                             head  \\\nproblem_set_ID                                                      \n0               [\\begin{document}\\n, \\subsubsection*{1-1 Class...   \n1               [\\begin{document}\\n, \\subsubsection*{0.1 Quiz:...   \n2               [\\begin{document}\\n, \\subsubsection*{1-1 Do No...   \n3               [\\begin{document}\\n, \\subsubsection*{1-1 Homew...   \n4               [\\begin{document}\\n, \\subsubsection*{1-3 Do No...   \n...                                                           ...   \n167             [\\begin{document}\\n, \\subsubsection*{10.3 Do N...   \n168             [\\begin{document}\\n, \\subsubsection*{10.3b Do ...   \n169             [\\begin{document}\\n, \\subsubsection*{10.4 Do N...   \n170             [\\begin{document}\\n, \\subsubsection*{10.4b Do ...   \n171             [\\begin{document}\\n, \\subsubsection*{10.6 Clas...   \n\n                                                             body  \\\nproblem_set_ID                                                      \n0               [\\n,   \\item Given the line segment $\\overline...   \n1               [\\n,   \\item Write down the slope and $y$-inte...   \n2               [\\n, \\n,   \\item In the following two problems...   \n3               [\\n, \\n,   \\item In the following two problems...   \n4               [  \\item I have a compass, ruler, protractor, ...   \n...                                                           ...   \n167             [\\n, \\n,   \\item Write down the slope perpendi...   \n168             [\\n,   \\item Write down the slope parallel or ...   \n169             [\\n,   \\item Write down the slope perpendicula...   \n170             [\\n,   \\item Write down the slope parallel or ...   \n171             [\\n,   \\item Write down the slope perpendicula...   \n\n                                                    problems_list  \\\nproblem_set_ID                                                      \n0               [Given the line segment $\\overline{PQ}$ shown ...   \n1               [Write down the slope and $y$-intercept of eac...   \n2               [In the following two problems, solve for the ...   \n3               [In the following two problems, solve for the ...   \n4               [I have a compass, ruler, protractor, notebook...   \n...                                                           ...   \n167             [Write down the slope perpendicular to the giv...   \n168             [Write down the slope parallel or perpendicula...   \n169             [Write down the slope perpendicular to the giv...   \n170             [Write down the slope parallel or perpendicula...   \n171             [Write down the slope perpendicular to the giv...   \n\n                                                 path  \\\nproblem_set_ID                                          \n0               /Users/chris/GitHub/course-files/Geom   \n1               /Users/chris/GitHub/course-files/Geom   \n2               /Users/chris/GitHub/course-files/Geom   \n3               /Users/chris/GitHub/course-files/Geom   \n4               /Users/chris/GitHub/course-files/Geom   \n...                                               ...   \n167             /Users/chris/GitHub/course-files/Geom   \n168             /Users/chris/GitHub/course-files/Geom   \n169             /Users/chris/GitHub/course-files/Geom   \n170             /Users/chris/GitHub/course-files/Geom   \n171             /Users/chris/GitHub/course-files/Geom   \n\n                                                         filename  \nproblem_set_ID                                                     \n0               /Users/chris/GitHub/course-files/Geom/01-Intro...  \n1               /Users/chris/GitHub/course-files/Geom/01-Intro...  \n2               /Users/chris/GitHub/course-files/Geom/01-Intro...  \n3               /Users/chris/GitHub/course-files/Geom/01-Intro...  \n4               /Users/chris/GitHub/course-files/Geom/01-Intro...  \n...                                                           ...  \n167             /Users/chris/GitHub/course-files/Geom/10-Trig+...  \n168             /Users/chris/GitHub/course-files/Geom/10-Trig+...  \n169             /Users/chris/GitHub/course-files/Geom/10-Trig+...  \n170             /Users/chris/GitHub/course-files/Geom/10-Trig+...  \n171             /Users/chris/GitHub/course-files/Geom/10-Trig+...  \n\n[172 rows x 8 columns]",
      "text/html": "<div>\n<style scoped>\n    .dataframe tbody tr th:only-of-type {\n        vertical-align: middle;\n    }\n\n    .dataframe tbody tr th {\n        vertical-align: top;\n    }\n\n    .dataframe thead th {\n        text-align: right;\n    }\n</style>\n<table border=\"1\" class=\"dataframe\">\n  <thead>\n    <tr style=\"text-align: right;\">\n      <th></th>\n      <th>unit</th>\n      <th>file</th>\n      <th>problem_count</th>\n      <th>head</th>\n      <th>body</th>\n      <th>problems_list</th>\n      <th>path</th>\n      <th>filename</th>\n    </tr>\n    <tr>\n      <th>problem_set_ID</th>\n      <th></th>\n      <th></th>\n      <th></th>\n      <th></th>\n      <th></th>\n      <th></th>\n      <th></th>\n      <th></th>\n    </tr>\n  </thead>\n  <tbody>\n    <tr>\n      <th>0</th>\n      <td>01-Intro</td>\n      <td>1-1CW_Measurement.tex</td>\n      <td>8</td>\n      <td>[\\begin{document}\\n, \\subsubsection*{1-1 Class...</td>\n      <td>[\\n,   \\item Given the line segment $\\overline...</td>\n      <td>[Given the line segment $\\overline{PQ}$ shown ...</td>\n      <td>/Users/chris/GitHub/course-files/Geom</td>\n      <td>/Users/chris/GitHub/course-files/Geom/01-Intro...</td>\n    </tr>\n    <tr>\n      <th>1</th>\n      <td>01-Intro</td>\n      <td>1-1DNQ_Distance+slope.tex</td>\n      <td>4</td>\n      <td>[\\begin{document}\\n, \\subsubsection*{0.1 Quiz:...</td>\n      <td>[\\n,   \\item Write down the slope and $y$-inte...</td>\n      <td>[Write down the slope and $y$-intercept of eac...</td>\n      <td>/Users/chris/GitHub/course-files/Geom</td>\n      <td>/Users/chris/GitHub/course-files/Geom/01-Intro...</td>\n    </tr>\n    <tr>\n      <th>2</th>\n      <td>01-Intro</td>\n      <td>1-1DN_Algebra.tex</td>\n      <td>7</td>\n      <td>[\\begin{document}\\n, \\subsubsection*{1-1 Do No...</td>\n      <td>[\\n, \\n,   \\item In the following two problems...</td>\n      <td>[In the following two problems, solve for the ...</td>\n      <td>/Users/chris/GitHub/course-files/Geom</td>\n      <td>/Users/chris/GitHub/course-files/Geom/01-Intro...</td>\n    </tr>\n    <tr>\n      <th>3</th>\n      <td>01-Intro</td>\n      <td>1-1HW_Algebra.tex</td>\n      <td>8</td>\n      <td>[\\begin{document}\\n, \\subsubsection*{1-1 Homew...</td>\n      <td>[\\n, \\n,   \\item In the following two problems...</td>\n      <td>[In the following two problems, solve for the ...</td>\n      <td>/Users/chris/GitHub/course-files/Geom</td>\n      <td>/Users/chris/GitHub/course-files/Geom/01-Intro...</td>\n    </tr>\n    <tr>\n      <th>4</th>\n      <td>01-Intro</td>\n      <td>1-3DN_Function-intercepts.tex</td>\n      <td>6</td>\n      <td>[\\begin{document}\\n, \\subsubsection*{1-3 Do No...</td>\n      <td>[  \\item I have a compass, ruler, protractor, ...</td>\n      <td>[I have a compass, ruler, protractor, notebook...</td>\n      <td>/Users/chris/GitHub/course-files/Geom</td>\n      <td>/Users/chris/GitHub/course-files/Geom/01-Intro...</td>\n    </tr>\n    <tr>\n      <th>...</th>\n      <td>...</td>\n      <td>...</td>\n      <td>...</td>\n      <td>...</td>\n      <td>...</td>\n      <td>...</td>\n      <td>...</td>\n      <td>...</td>\n    </tr>\n    <tr>\n      <th>167</th>\n      <td>10-Trig+similarity+analytics</td>\n      <td>10-2DN_Analytics-review.tex</td>\n      <td>9</td>\n      <td>[\\begin{document}\\n, \\subsubsection*{10.3 Do N...</td>\n      <td>[\\n, \\n,   \\item Write down the slope perpendi...</td>\n      <td>[Write down the slope perpendicular to the giv...</td>\n      <td>/Users/chris/GitHub/course-files/Geom</td>\n      <td>/Users/chris/GitHub/course-files/Geom/10-Trig+...</td>\n    </tr>\n    <tr>\n      <th>168</th>\n      <td>10-Trig+similarity+analytics</td>\n      <td>10-2bDN_Analytics-review.tex</td>\n      <td>13</td>\n      <td>[\\begin{document}\\n, \\subsubsection*{10.3b Do ...</td>\n      <td>[\\n,   \\item Write down the slope parallel or ...</td>\n      <td>[Write down the slope parallel or perpendicula...</td>\n      <td>/Users/chris/GitHub/course-files/Geom</td>\n      <td>/Users/chris/GitHub/course-files/Geom/10-Trig+...</td>\n    </tr>\n    <tr>\n      <th>169</th>\n      <td>10-Trig+similarity+analytics</td>\n      <td>10-4DN_Tangent-situations.tex</td>\n      <td>8</td>\n      <td>[\\begin{document}\\n, \\subsubsection*{10.4 Do N...</td>\n      <td>[\\n,   \\item Write down the slope perpendicula...</td>\n      <td>[Write down the slope perpendicular to the giv...</td>\n      <td>/Users/chris/GitHub/course-files/Geom</td>\n      <td>/Users/chris/GitHub/course-files/Geom/10-Trig+...</td>\n    </tr>\n    <tr>\n      <th>170</th>\n      <td>10-Trig+similarity+analytics</td>\n      <td>10-4bDN_Analytics-review.tex</td>\n      <td>13</td>\n      <td>[\\begin{document}\\n, \\subsubsection*{10.4b Do ...</td>\n      <td>[\\n,   \\item Write down the slope parallel or ...</td>\n      <td>[Write down the slope parallel or perpendicula...</td>\n      <td>/Users/chris/GitHub/course-files/Geom</td>\n      <td>/Users/chris/GitHub/course-files/Geom/10-Trig+...</td>\n    </tr>\n    <tr>\n      <th>171</th>\n      <td>10-Trig+similarity+analytics</td>\n      <td>10-6DN_Tangent-situations.tex</td>\n      <td>8</td>\n      <td>[\\begin{document}\\n, \\subsubsection*{10.6 Clas...</td>\n      <td>[\\n,   \\item Write down the slope perpendicula...</td>\n      <td>[Write down the slope perpendicular to the giv...</td>\n      <td>/Users/chris/GitHub/course-files/Geom</td>\n      <td>/Users/chris/GitHub/course-files/Geom/10-Trig+...</td>\n    </tr>\n  </tbody>\n</table>\n<p>172 rows × 8 columns</p>\n</div>"
     },
     "metadata": {},
     "execution_count": 113
    }
   ],
   "source": [
    "pset_df"
   ]
  },
  {
   "cell_type": "code",
   "execution_count": 95,
   "metadata": {},
   "outputs": [],
   "source": [
    "print_list = [0, 1, 2]\n",
    "for pset in print_list:\n",
    "    title = ('file is 1-temp-' + str(pset), '17 August 2020', 'Test run of print unit')\n",
    "    df = problem_df[problem_df.problem_set_ID == pset].sort_index()\n",
    "    print_problems_df(df, filename='1-temp-' + str(pset), title=title)"
   ]
  },
  {
   "cell_type": "markdown",
   "metadata": {},
   "source": [
    "## Fix issue with item prefix for new lines, stop trimming \\item prefix from problem question text"
   ]
  },
  {
   "cell_type": "markdown",
   "metadata": {},
   "source": [
    "## Reinitialize dfs from course files"
   ]
  },
  {
   "cell_type": "code",
   "execution_count": 3,
   "metadata": {
    "tags": []
   },
   "outputs": [
    {
     "output_type": "stream",
     "name": "stdout",
     "text": "dict len, type:  13 <class 'dict'> \n df len:  208 \n\n"
    },
    {
     "output_type": "execute_result",
     "data": {
      "text/plain": "array(['01-Intro', '02-Midpoint+distance', '03-Volume+angle-bisectors',\n       '04-Transversals', '05-Transformations', '06-Analytic-geometry',\n       '07-Similarity', '08-Area+volume', '09-Congruence-transformations',\n       '10-Trig+similarity+analytics', '11-Algebra2-intro', 'Slides',\n       'Trajectories'], dtype=object)"
     },
     "metadata": {},
     "execution_count": 3
    }
   ],
   "source": [
    "course_files, course_file_df = map_course_files(course_dir='/Users/chris/GitHub/course-files/Geom')\n",
    "print('dict len, type: ', len(course_files), type(course_files), '\\n df len: ', len(course_file_df), '\\n')\n",
    "course_file_df.unit.unique()"
   ]
  },
  {
   "cell_type": "code",
   "execution_count": 4,
   "metadata": {},
   "outputs": [
    {
     "output_type": "execute_result",
     "data": {
      "text/plain": "                             unit  file_count                       filename\n0                        01-Intro          16          1-1CW_Measurement.tex\n1                        01-Intro          16      1-1DNQ_Distance+slope.tex\n2                        01-Intro          16              1-1DN_Algebra.tex\n3                        01-Intro          16              1-1HW_Algebra.tex\n4                        01-Intro          16  1-3DN_Function-intercepts.tex\n..                            ...         ...                            ...\n167  10-Trig+similarity+analytics           7    10-2DN_Analytics-review.tex\n168  10-Trig+similarity+analytics           7   10-2bDN_Analytics-review.tex\n169  10-Trig+similarity+analytics           7  10-4DN_Tangent-situations.tex\n170  10-Trig+similarity+analytics           7   10-4bDN_Analytics-review.tex\n171  10-Trig+similarity+analytics           7  10-6DN_Tangent-situations.tex\n\n[172 rows x 3 columns]",
      "text/html": "<div>\n<style scoped>\n    .dataframe tbody tr th:only-of-type {\n        vertical-align: middle;\n    }\n\n    .dataframe tbody tr th {\n        vertical-align: top;\n    }\n\n    .dataframe thead th {\n        text-align: right;\n    }\n</style>\n<table border=\"1\" class=\"dataframe\">\n  <thead>\n    <tr style=\"text-align: right;\">\n      <th></th>\n      <th>unit</th>\n      <th>file_count</th>\n      <th>filename</th>\n    </tr>\n  </thead>\n  <tbody>\n    <tr>\n      <th>0</th>\n      <td>01-Intro</td>\n      <td>16</td>\n      <td>1-1CW_Measurement.tex</td>\n    </tr>\n    <tr>\n      <th>1</th>\n      <td>01-Intro</td>\n      <td>16</td>\n      <td>1-1DNQ_Distance+slope.tex</td>\n    </tr>\n    <tr>\n      <th>2</th>\n      <td>01-Intro</td>\n      <td>16</td>\n      <td>1-1DN_Algebra.tex</td>\n    </tr>\n    <tr>\n      <th>3</th>\n      <td>01-Intro</td>\n      <td>16</td>\n      <td>1-1HW_Algebra.tex</td>\n    </tr>\n    <tr>\n      <th>4</th>\n      <td>01-Intro</td>\n      <td>16</td>\n      <td>1-3DN_Function-intercepts.tex</td>\n    </tr>\n    <tr>\n      <th>...</th>\n      <td>...</td>\n      <td>...</td>\n      <td>...</td>\n    </tr>\n    <tr>\n      <th>167</th>\n      <td>10-Trig+similarity+analytics</td>\n      <td>7</td>\n      <td>10-2DN_Analytics-review.tex</td>\n    </tr>\n    <tr>\n      <th>168</th>\n      <td>10-Trig+similarity+analytics</td>\n      <td>7</td>\n      <td>10-2bDN_Analytics-review.tex</td>\n    </tr>\n    <tr>\n      <th>169</th>\n      <td>10-Trig+similarity+analytics</td>\n      <td>7</td>\n      <td>10-4DN_Tangent-situations.tex</td>\n    </tr>\n    <tr>\n      <th>170</th>\n      <td>10-Trig+similarity+analytics</td>\n      <td>7</td>\n      <td>10-4bDN_Analytics-review.tex</td>\n    </tr>\n    <tr>\n      <th>171</th>\n      <td>10-Trig+similarity+analytics</td>\n      <td>7</td>\n      <td>10-6DN_Tangent-situations.tex</td>\n    </tr>\n  </tbody>\n</table>\n<p>172 rows × 3 columns</p>\n</div>"
     },
     "metadata": {},
     "execution_count": 4
    }
   ],
   "source": [
    "drop_units = ['11-Algebra2-intro', 'Slides', 'Trajectories']\n",
    "for unit in drop_units:\n",
    "    course_file_df.drop(course_file_df[course_file_df.unit == unit].index, inplace=True)\n",
    "#course_file_df"
   ]
  },
  {
   "cell_type": "code",
   "execution_count": 17,
   "metadata": {
    "tags": []
   },
   "outputs": [
    {
     "output_type": "execute_result",
     "data": {
      "text/plain": "                                                         filename  \\\nproblem_set_ID                                                      \n0               /Users/chris/GitHub/course-files/Geom/01-Intro...   \n1               /Users/chris/GitHub/course-files/Geom/01-Intro...   \n2               /Users/chris/GitHub/course-files/Geom/01-Intro...   \n3               /Users/chris/GitHub/course-files/Geom/01-Intro...   \n4               /Users/chris/GitHub/course-files/Geom/01-Intro...   \n...                                                           ...   \n167             /Users/chris/GitHub/course-files/Geom/10-Trig+...   \n168             /Users/chris/GitHub/course-files/Geom/10-Trig+...   \n169             /Users/chris/GitHub/course-files/Geom/10-Trig+...   \n170             /Users/chris/GitHub/course-files/Geom/10-Trig+...   \n171             /Users/chris/GitHub/course-files/Geom/10-Trig+...   \n\n                                                             head  \\\nproblem_set_ID                                                      \n0               [\\begin{document}\\n, \\subsubsection*{1-1 Class...   \n1               [\\begin{document}\\n, \\subsubsection*{0.1 Quiz:...   \n2               [\\begin{document}\\n, \\subsubsection*{1-1 Do No...   \n3               [\\begin{document}\\n, \\subsubsection*{1-1 Homew...   \n4               [\\begin{document}\\n, \\subsubsection*{1-3 Do No...   \n...                                                           ...   \n167             [\\begin{document}\\n, \\subsubsection*{10.3 Do N...   \n168             [\\begin{document}\\n, \\subsubsection*{10.3b Do ...   \n169             [\\begin{document}\\n, \\subsubsection*{10.4 Do N...   \n170             [\\begin{document}\\n, \\subsubsection*{10.4b Do ...   \n171             [\\begin{document}\\n, \\subsubsection*{10.6 Clas...   \n\n                                                             body  \\\nproblem_set_ID                                                      \n0               [\\n,   \\item Given the line segment $\\overline...   \n1               [\\n,   \\item Write down the slope and $y$-inte...   \n2               [\\n, \\n,   \\item In the following two problems...   \n3               [\\n, \\n,   \\item In the following two problems...   \n4               [  \\item I have a compass, ruler, protractor, ...   \n...                                                           ...   \n167             [\\n, \\n,   \\item Write down the slope perpendi...   \n168             [\\n,   \\item Write down the slope parallel or ...   \n169             [\\n,   \\item Write down the slope perpendicula...   \n170             [\\n,   \\item Write down the slope parallel or ...   \n171             [\\n,   \\item Write down the slope perpendicula...   \n\n                                                    problems_list  \\\nproblem_set_ID                                                      \n0               [Given the line segment $\\overline{PQ}$ shown ...   \n1               [Write down the slope and $y$-intercept of eac...   \n2               [In the following two problems, solve for the ...   \n3               [In the following two problems, solve for the ...   \n4               [I have a compass, ruler, protractor, notebook...   \n...                                                           ...   \n167             [Write down the slope perpendicular to the giv...   \n168             [Write down the slope parallel or perpendicula...   \n169             [Write down the slope perpendicular to the giv...   \n170             [Write down the slope parallel or perpendicula...   \n171             [Write down the slope perpendicular to the giv...   \n\n                problem_count                                   path  \\\nproblem_set_ID                                                         \n0                           8  /Users/chris/GitHub/course-files/Geom   \n1                           4  /Users/chris/GitHub/course-files/Geom   \n2                           7  /Users/chris/GitHub/course-files/Geom   \n3                           8  /Users/chris/GitHub/course-files/Geom   \n4                           6  /Users/chris/GitHub/course-files/Geom   \n...                       ...                                    ...   \n167                         9  /Users/chris/GitHub/course-files/Geom   \n168                        13  /Users/chris/GitHub/course-files/Geom   \n169                         8  /Users/chris/GitHub/course-files/Geom   \n170                        13  /Users/chris/GitHub/course-files/Geom   \n171                         8  /Users/chris/GitHub/course-files/Geom   \n\n                                        unit                           file  \nproblem_set_ID                                                               \n0                                   01-Intro          1-1CW_Measurement.tex  \n1                                   01-Intro      1-1DNQ_Distance+slope.tex  \n2                                   01-Intro              1-1DN_Algebra.tex  \n3                                   01-Intro              1-1HW_Algebra.tex  \n4                                   01-Intro  1-3DN_Function-intercepts.tex  \n...                                      ...                            ...  \n167             10-Trig+similarity+analytics    10-2DN_Analytics-review.tex  \n168             10-Trig+similarity+analytics   10-2bDN_Analytics-review.tex  \n169             10-Trig+similarity+analytics  10-4DN_Tangent-situations.tex  \n170             10-Trig+similarity+analytics   10-4bDN_Analytics-review.tex  \n171             10-Trig+similarity+analytics  10-6DN_Tangent-situations.tex  \n\n[172 rows x 8 columns]",
      "text/html": "<div>\n<style scoped>\n    .dataframe tbody tr th:only-of-type {\n        vertical-align: middle;\n    }\n\n    .dataframe tbody tr th {\n        vertical-align: top;\n    }\n\n    .dataframe thead th {\n        text-align: right;\n    }\n</style>\n<table border=\"1\" class=\"dataframe\">\n  <thead>\n    <tr style=\"text-align: right;\">\n      <th></th>\n      <th>filename</th>\n      <th>head</th>\n      <th>body</th>\n      <th>problems_list</th>\n      <th>problem_count</th>\n      <th>path</th>\n      <th>unit</th>\n      <th>file</th>\n    </tr>\n    <tr>\n      <th>problem_set_ID</th>\n      <th></th>\n      <th></th>\n      <th></th>\n      <th></th>\n      <th></th>\n      <th></th>\n      <th></th>\n      <th></th>\n    </tr>\n  </thead>\n  <tbody>\n    <tr>\n      <th>0</th>\n      <td>/Users/chris/GitHub/course-files/Geom/01-Intro...</td>\n      <td>[\\begin{document}\\n, \\subsubsection*{1-1 Class...</td>\n      <td>[\\n,   \\item Given the line segment $\\overline...</td>\n      <td>[Given the line segment $\\overline{PQ}$ shown ...</td>\n      <td>8</td>\n      <td>/Users/chris/GitHub/course-files/Geom</td>\n      <td>01-Intro</td>\n      <td>1-1CW_Measurement.tex</td>\n    </tr>\n    <tr>\n      <th>1</th>\n      <td>/Users/chris/GitHub/course-files/Geom/01-Intro...</td>\n      <td>[\\begin{document}\\n, \\subsubsection*{0.1 Quiz:...</td>\n      <td>[\\n,   \\item Write down the slope and $y$-inte...</td>\n      <td>[Write down the slope and $y$-intercept of eac...</td>\n      <td>4</td>\n      <td>/Users/chris/GitHub/course-files/Geom</td>\n      <td>01-Intro</td>\n      <td>1-1DNQ_Distance+slope.tex</td>\n    </tr>\n    <tr>\n      <th>2</th>\n      <td>/Users/chris/GitHub/course-files/Geom/01-Intro...</td>\n      <td>[\\begin{document}\\n, \\subsubsection*{1-1 Do No...</td>\n      <td>[\\n, \\n,   \\item In the following two problems...</td>\n      <td>[In the following two problems, solve for the ...</td>\n      <td>7</td>\n      <td>/Users/chris/GitHub/course-files/Geom</td>\n      <td>01-Intro</td>\n      <td>1-1DN_Algebra.tex</td>\n    </tr>\n    <tr>\n      <th>3</th>\n      <td>/Users/chris/GitHub/course-files/Geom/01-Intro...</td>\n      <td>[\\begin{document}\\n, \\subsubsection*{1-1 Homew...</td>\n      <td>[\\n, \\n,   \\item In the following two problems...</td>\n      <td>[In the following two problems, solve for the ...</td>\n      <td>8</td>\n      <td>/Users/chris/GitHub/course-files/Geom</td>\n      <td>01-Intro</td>\n      <td>1-1HW_Algebra.tex</td>\n    </tr>\n    <tr>\n      <th>4</th>\n      <td>/Users/chris/GitHub/course-files/Geom/01-Intro...</td>\n      <td>[\\begin{document}\\n, \\subsubsection*{1-3 Do No...</td>\n      <td>[  \\item I have a compass, ruler, protractor, ...</td>\n      <td>[I have a compass, ruler, protractor, notebook...</td>\n      <td>6</td>\n      <td>/Users/chris/GitHub/course-files/Geom</td>\n      <td>01-Intro</td>\n      <td>1-3DN_Function-intercepts.tex</td>\n    </tr>\n    <tr>\n      <th>...</th>\n      <td>...</td>\n      <td>...</td>\n      <td>...</td>\n      <td>...</td>\n      <td>...</td>\n      <td>...</td>\n      <td>...</td>\n      <td>...</td>\n    </tr>\n    <tr>\n      <th>167</th>\n      <td>/Users/chris/GitHub/course-files/Geom/10-Trig+...</td>\n      <td>[\\begin{document}\\n, \\subsubsection*{10.3 Do N...</td>\n      <td>[\\n, \\n,   \\item Write down the slope perpendi...</td>\n      <td>[Write down the slope perpendicular to the giv...</td>\n      <td>9</td>\n      <td>/Users/chris/GitHub/course-files/Geom</td>\n      <td>10-Trig+similarity+analytics</td>\n      <td>10-2DN_Analytics-review.tex</td>\n    </tr>\n    <tr>\n      <th>168</th>\n      <td>/Users/chris/GitHub/course-files/Geom/10-Trig+...</td>\n      <td>[\\begin{document}\\n, \\subsubsection*{10.3b Do ...</td>\n      <td>[\\n,   \\item Write down the slope parallel or ...</td>\n      <td>[Write down the slope parallel or perpendicula...</td>\n      <td>13</td>\n      <td>/Users/chris/GitHub/course-files/Geom</td>\n      <td>10-Trig+similarity+analytics</td>\n      <td>10-2bDN_Analytics-review.tex</td>\n    </tr>\n    <tr>\n      <th>169</th>\n      <td>/Users/chris/GitHub/course-files/Geom/10-Trig+...</td>\n      <td>[\\begin{document}\\n, \\subsubsection*{10.4 Do N...</td>\n      <td>[\\n,   \\item Write down the slope perpendicula...</td>\n      <td>[Write down the slope perpendicular to the giv...</td>\n      <td>8</td>\n      <td>/Users/chris/GitHub/course-files/Geom</td>\n      <td>10-Trig+similarity+analytics</td>\n      <td>10-4DN_Tangent-situations.tex</td>\n    </tr>\n    <tr>\n      <th>170</th>\n      <td>/Users/chris/GitHub/course-files/Geom/10-Trig+...</td>\n      <td>[\\begin{document}\\n, \\subsubsection*{10.4b Do ...</td>\n      <td>[\\n,   \\item Write down the slope parallel or ...</td>\n      <td>[Write down the slope parallel or perpendicula...</td>\n      <td>13</td>\n      <td>/Users/chris/GitHub/course-files/Geom</td>\n      <td>10-Trig+similarity+analytics</td>\n      <td>10-4bDN_Analytics-review.tex</td>\n    </tr>\n    <tr>\n      <th>171</th>\n      <td>/Users/chris/GitHub/course-files/Geom/10-Trig+...</td>\n      <td>[\\begin{document}\\n, \\subsubsection*{10.6 Clas...</td>\n      <td>[\\n,   \\item Write down the slope perpendicula...</td>\n      <td>[Write down the slope perpendicular to the giv...</td>\n      <td>8</td>\n      <td>/Users/chris/GitHub/course-files/Geom</td>\n      <td>10-Trig+similarity+analytics</td>\n      <td>10-6DN_Tangent-situations.tex</td>\n    </tr>\n  </tbody>\n</table>\n<p>172 rows × 8 columns</p>\n</div>"
     },
     "metadata": {},
     "execution_count": 17
    }
   ],
   "source": [
    "pset_df = parse_course_files(course_file_df, course_dir='/Users/chris/GitHub/course-files/Geom')\n",
    "pset_df[['path', 'unit', 'file']] = pset_df.filename.str.rsplit('/', n=2, expand=True)\n",
    "new_cols = ['unit', 'file', 'problem_count', 'head', 'body', 'problems_list', 'path', 'filename']\n",
    "pset_df = pset_df.reindex(columns=new_cols)\n",
    "pset_df[pset_df.unit.str.startswith('01')]"
   ]
  },
  {
   "cell_type": "code",
   "execution_count": 19,
   "metadata": {},
   "outputs": [],
   "source": [
    "problem_df = parse_problem_sets(pset_df)\n",
    "problem_df['file'] = problem_df.problem_set_ID.apply(lambda x: pset_df.loc[x, 'file'])\n",
    "problem_df['q_len'] = problem_df.question.str.len()\n",
    "problem_df.sort_values('q_len', inplace=True)"
   ]
  },
  {
   "cell_type": "code",
   "execution_count": 5,
   "metadata": {},
   "outputs": [],
   "source": [
    "problem_IDs = []\n",
    "for problem_set_ID in pset_df.index:\n",
    "    problem_IDs.append(\n",
    "        [p_ID for p_ID in problem_df[problem_df.problem_set_ID == problem_set_ID].index])\n",
    "pset_df['problem_IDs'] = problem_IDs\n",
    "\n",
    "print('pset_df: ', len(pset_df), pset_df.index.name, pset_df.columns)"
   ]
  },
  {
   "cell_type": "markdown",
   "metadata": {},
   "source": [
    "## Parse small subsets of course"
   ]
  },
  {
   "cell_type": "code",
   "execution_count": 74,
   "metadata": {},
   "outputs": [
    {
     "output_type": "execute_result",
     "data": {
      "text/plain": "       unit  file_count                       filename\n0  01-Intro           6  1-3DN_Function-intercepts.tex",
      "text/html": "<div>\n<style scoped>\n    .dataframe tbody tr th:only-of-type {\n        vertical-align: middle;\n    }\n\n    .dataframe tbody tr th {\n        vertical-align: top;\n    }\n\n    .dataframe thead th {\n        text-align: right;\n    }\n</style>\n<table border=\"1\" class=\"dataframe\">\n  <thead>\n    <tr style=\"text-align: right;\">\n      <th></th>\n      <th>unit</th>\n      <th>file_count</th>\n      <th>filename</th>\n    </tr>\n  </thead>\n  <tbody>\n    <tr>\n      <th>0</th>\n      <td>01-Intro</td>\n      <td>6</td>\n      <td>1-3DN_Function-intercepts.tex</td>\n    </tr>\n  </tbody>\n</table>\n</div>"
     },
     "metadata": {},
     "execution_count": 74
    }
   ],
   "source": [
    "course_file_df = pd.DataFrame({\"unit\":['01-Intro'], \"file_count\":[6], \"filename\":['1-3DN_Function-intercepts.tex']})\n",
    "course_file_df"
   ]
  },
  {
   "cell_type": "code",
   "execution_count": 75,
   "metadata": {
    "tags": []
   },
   "outputs": [],
   "source": [
    "#pset_df[pset_df.file.str.startswith('1-3DN')]\n",
    "pset_1_3DN_df = parse_course_files(course_file_df, course_dir='/Users/chris/GitHub/course-files/Geom')"
   ]
  },
  {
   "cell_type": "code",
   "execution_count": 78,
   "metadata": {},
   "outputs": [],
   "source": [
    "pset_1_3DN_df[['path', 'unit', 'file']] = pset_1_3DN_df.filename.str.rsplit('/', n=2, expand=True)\n",
    "new_cols = ['unit', 'file', 'problem_count', 'head', 'body', 'problems_list', 'path', 'filename']\n",
    "pset_df = pset_df.reindex(columns=new_cols)"
   ]
  },
  {
   "cell_type": "markdown",
   "metadata": {},
   "source": [
    "## Review problems"
   ]
  },
  {
   "cell_type": "code",
   "execution_count": 8,
   "metadata": {},
   "outputs": [
    {
     "output_type": "execute_result",
     "data": {
      "text/plain": "            problem_set_ID      question                           file  q_len\nproblem_ID                                                                    \n2245                   163    \\newpage\\n    9-9Exam-transformations.tex      9\n2248                   163    \\newpage\\n    9-9Exam-transformations.tex      9\n2251                   163    \\newpage\\n    9-9Exam-transformations.tex      9\n2255                   163    \\newpage\\n    9-9Exam-transformations.tex      9\n2261                   164    \\newpage\\n   9-9bExam-transformations.tex      9\n2265                   164    \\newpage\\n   9-9bExam-transformations.tex      9\n2268                   164    \\newpage\\n   9-9bExam-transformations.tex      9\n2273                   164    \\newpage\\n   9-9bExam-transformations.tex      9\n2276                   164    \\newpage\\n   9-9bExam-transformations.tex      9\n2279                   164    \\newpage\\n   9-9bExam-transformations.tex      9\n2283                   164    \\newpage\\n   9-9bExam-transformations.tex      9\n2289                   165    \\newpage\\n                10-1DN_Trig.tex      9\n2296                   166    \\newpage\\n               10-1bDN_Trig.tex      9\n2305                   167    \\newpage\\n    10-2DN_Analytics-review.tex      9\n2314                   168  \\newpage  \\n   10-2bDN_Analytics-review.tex     11\n2318                   168    \\newpage\\n   10-2bDN_Analytics-review.tex      9\n2327                   169    \\newpage\\n  10-4DN_Tangent-situations.tex      9\n2335                   170  \\newpage  \\n   10-4bDN_Analytics-review.tex     11\n2339                   170    \\newpage\\n   10-4bDN_Analytics-review.tex      9\n2348                   171    \\newpage\\n  10-6DN_Tangent-situations.tex      9",
      "text/html": "<div>\n<style scoped>\n    .dataframe tbody tr th:only-of-type {\n        vertical-align: middle;\n    }\n\n    .dataframe tbody tr th {\n        vertical-align: top;\n    }\n\n    .dataframe thead th {\n        text-align: right;\n    }\n</style>\n<table border=\"1\" class=\"dataframe\">\n  <thead>\n    <tr style=\"text-align: right;\">\n      <th></th>\n      <th>problem_set_ID</th>\n      <th>question</th>\n      <th>file</th>\n      <th>q_len</th>\n    </tr>\n    <tr>\n      <th>problem_ID</th>\n      <th></th>\n      <th></th>\n      <th></th>\n      <th></th>\n    </tr>\n  </thead>\n  <tbody>\n    <tr>\n      <th>2245</th>\n      <td>163</td>\n      <td>\\newpage\\n</td>\n      <td>9-9Exam-transformations.tex</td>\n      <td>9</td>\n    </tr>\n    <tr>\n      <th>2248</th>\n      <td>163</td>\n      <td>\\newpage\\n</td>\n      <td>9-9Exam-transformations.tex</td>\n      <td>9</td>\n    </tr>\n    <tr>\n      <th>2251</th>\n      <td>163</td>\n      <td>\\newpage\\n</td>\n      <td>9-9Exam-transformations.tex</td>\n      <td>9</td>\n    </tr>\n    <tr>\n      <th>2255</th>\n      <td>163</td>\n      <td>\\newpage\\n</td>\n      <td>9-9Exam-transformations.tex</td>\n      <td>9</td>\n    </tr>\n    <tr>\n      <th>2261</th>\n      <td>164</td>\n      <td>\\newpage\\n</td>\n      <td>9-9bExam-transformations.tex</td>\n      <td>9</td>\n    </tr>\n    <tr>\n      <th>2265</th>\n      <td>164</td>\n      <td>\\newpage\\n</td>\n      <td>9-9bExam-transformations.tex</td>\n      <td>9</td>\n    </tr>\n    <tr>\n      <th>2268</th>\n      <td>164</td>\n      <td>\\newpage\\n</td>\n      <td>9-9bExam-transformations.tex</td>\n      <td>9</td>\n    </tr>\n    <tr>\n      <th>2273</th>\n      <td>164</td>\n      <td>\\newpage\\n</td>\n      <td>9-9bExam-transformations.tex</td>\n      <td>9</td>\n    </tr>\n    <tr>\n      <th>2276</th>\n      <td>164</td>\n      <td>\\newpage\\n</td>\n      <td>9-9bExam-transformations.tex</td>\n      <td>9</td>\n    </tr>\n    <tr>\n      <th>2279</th>\n      <td>164</td>\n      <td>\\newpage\\n</td>\n      <td>9-9bExam-transformations.tex</td>\n      <td>9</td>\n    </tr>\n    <tr>\n      <th>2283</th>\n      <td>164</td>\n      <td>\\newpage\\n</td>\n      <td>9-9bExam-transformations.tex</td>\n      <td>9</td>\n    </tr>\n    <tr>\n      <th>2289</th>\n      <td>165</td>\n      <td>\\newpage\\n</td>\n      <td>10-1DN_Trig.tex</td>\n      <td>9</td>\n    </tr>\n    <tr>\n      <th>2296</th>\n      <td>166</td>\n      <td>\\newpage\\n</td>\n      <td>10-1bDN_Trig.tex</td>\n      <td>9</td>\n    </tr>\n    <tr>\n      <th>2305</th>\n      <td>167</td>\n      <td>\\newpage\\n</td>\n      <td>10-2DN_Analytics-review.tex</td>\n      <td>9</td>\n    </tr>\n    <tr>\n      <th>2314</th>\n      <td>168</td>\n      <td>\\newpage  \\n</td>\n      <td>10-2bDN_Analytics-review.tex</td>\n      <td>11</td>\n    </tr>\n    <tr>\n      <th>2318</th>\n      <td>168</td>\n      <td>\\newpage\\n</td>\n      <td>10-2bDN_Analytics-review.tex</td>\n      <td>9</td>\n    </tr>\n    <tr>\n      <th>2327</th>\n      <td>169</td>\n      <td>\\newpage\\n</td>\n      <td>10-4DN_Tangent-situations.tex</td>\n      <td>9</td>\n    </tr>\n    <tr>\n      <th>2335</th>\n      <td>170</td>\n      <td>\\newpage  \\n</td>\n      <td>10-4bDN_Analytics-review.tex</td>\n      <td>11</td>\n    </tr>\n    <tr>\n      <th>2339</th>\n      <td>170</td>\n      <td>\\newpage\\n</td>\n      <td>10-4bDN_Analytics-review.tex</td>\n      <td>9</td>\n    </tr>\n    <tr>\n      <th>2348</th>\n      <td>171</td>\n      <td>\\newpage\\n</td>\n      <td>10-6DN_Tangent-situations.tex</td>\n      <td>9</td>\n    </tr>\n  </tbody>\n</table>\n</div>"
     },
     "metadata": {},
     "execution_count": 8
    }
   ],
   "source": [
    "problem_df[problem_df.q_len < 13].tail(20)"
   ]
  },
  {
   "cell_type": "code",
   "execution_count": 14,
   "metadata": {},
   "outputs": [
    {
     "output_type": "execute_result",
     "data": {
      "text/plain": "       problem_set_ID  question  file\nq_len                                \n9                 431       431   431\n10                 22        22    22\n11                 40        40    40\n12                  2         2     2\n13                 13        13    13",
      "text/html": "<div>\n<style scoped>\n    .dataframe tbody tr th:only-of-type {\n        vertical-align: middle;\n    }\n\n    .dataframe tbody tr th {\n        vertical-align: top;\n    }\n\n    .dataframe thead th {\n        text-align: right;\n    }\n</style>\n<table border=\"1\" class=\"dataframe\">\n  <thead>\n    <tr style=\"text-align: right;\">\n      <th></th>\n      <th>problem_set_ID</th>\n      <th>question</th>\n      <th>file</th>\n    </tr>\n    <tr>\n      <th>q_len</th>\n      <th></th>\n      <th></th>\n      <th></th>\n    </tr>\n  </thead>\n  <tbody>\n    <tr>\n      <th>9</th>\n      <td>431</td>\n      <td>431</td>\n      <td>431</td>\n    </tr>\n    <tr>\n      <th>10</th>\n      <td>22</td>\n      <td>22</td>\n      <td>22</td>\n    </tr>\n    <tr>\n      <th>11</th>\n      <td>40</td>\n      <td>40</td>\n      <td>40</td>\n    </tr>\n    <tr>\n      <th>12</th>\n      <td>2</td>\n      <td>2</td>\n      <td>2</td>\n    </tr>\n    <tr>\n      <th>13</th>\n      <td>13</td>\n      <td>13</td>\n      <td>13</td>\n    </tr>\n  </tbody>\n</table>\n</div>"
     },
     "metadata": {},
     "execution_count": 14
    }
   ],
   "source": [
    "problem_df[problem_df.question.str.contains(r'\\\\newpage')].groupby('q_len').count()"
   ]
  },
  {
   "cell_type": "code",
   "execution_count": 11,
   "metadata": {},
   "outputs": [
    {
     "output_type": "execute_result",
     "data": {
      "text/plain": "'\\\\newpage  \\n'"
     },
     "metadata": {},
     "execution_count": 11
    }
   ],
   "source": [
    "problem_df[problem_df.question.str.contains(r'\\\\newpage')].question.loc[2335]"
   ]
  },
  {
   "cell_type": "code",
   "execution_count": 16,
   "metadata": {},
   "outputs": [
    {
     "output_type": "execute_result",
     "data": {
      "text/plain": "problem_set_ID                             170\nquestion                          \\newpage  \\n\nfile              10-4bDN_Analytics-review.tex\nq_len                                       11\nName: 2335, dtype: object"
     },
     "metadata": {},
     "execution_count": 16
    }
   ],
   "source": [
    "problem_df.loc[2335]"
   ]
  },
  {
   "cell_type": "code",
   "execution_count": 21,
   "metadata": {},
   "outputs": [
    {
     "output_type": "execute_result",
     "data": {
      "text/plain": "            problem_set_ID                                           question  \\\nproblem_ID                                                                      \n2063                   148  Check those transformations that are rigid mot...   \n2053                   147  Check those transformations that are rigid mot...   \n797                     59  Exams and test corrections\\n    \\begin{itemize...   \n1769                   130  \\textbf{Inscribed polygons and angles:} Circle...   \n1768                   130  \\textbf{Areas:} Circle with center at point $Q...   \n1974                   142  \\textbf{Polygons and angles in circles:} %Circ...   \n1864                   134  \\textbf{Polygons and angles in circles:} %Circ...   \n1891                   136  \\textbf{Polygons and angles in circles:} %Circ...   \n2050                   147  Reflect $\\triangle TRS$ across the $y$-axis, l...   \n2061                   148  Reflect $\\triangle TRS$ across the $y$-axis, l...   \n796                     59  Constructions and projects\\n    \\begin{itemize...   \n1890                   136  \\textbf{Areas:} Circle with center at point $Q...   \n1863                   134  \\textbf{Areas:} Circle with center at point $Q...   \n1973                   142  \\textbf{Areas:} Circle with center at point $Q...   \n1767                   130  \\textbf{External lines:} Circle with center at...   \n1766                   130  \\textbf{Internal line segments:} Circle with c...   \n990                     74  Checklist:\\n  \\begin{itemize}\\n    \\item[$\\squ...   \n1972                   142  \\textbf{External lines:} Circle with center at...   \n1889                   136  \\textbf{External lines:} Circle with center at...   \n1862                   134  \\textbf{External lines:} Circle with center at...   \n1888                   136  \\textbf{Internal line segments:} Circle with c...   \n1861                   134  \\textbf{Internal line segments:} Circle with c...   \n1971                   142  \\textbf{Internal line segments:} Circle with c...   \n2121                   157  A transformation is applied to a triangle, $\\t...   \n2264                   164  Which of the following would map $\\triangle DO...   \n2066                   149  A transformation is applied to a triangle, $\\t...   \n2077                   151  A transformation is applied to a triangle, $\\t...   \n2094                   153  A transformation is applied to a triangle, $\\t...   \n2152                   159  Which of the following would map $\\triangle CA...   \n2233                   163  Which of the following would map $\\triangle DO...   \n2114                   156  Which of the following would map $\\triangle CA...   \n2127                   158  Which of the following would map $\\triangle CA...   \n1045                    76  Checklist:\\n  \\begin{itemize}\\n    \\item[$\\squ...   \n1314                    95  Checklist:\\n  \\begin{itemize}\\n    \\item[$\\squ...   \n593                     47  Do Not Solve. Circle the appropriate equation,...   \n\n                                     file  q_len  \nproblem_ID                                        \n2063            9-1bDN_Correspondence.tex    301  \n2053             9-1DN_Correspondence.tex    301  \n797         5-2CW_Portfolio-checklist.tex    662  \n1769                    8-1DN_Circles.tex    712  \n1768                    8-1DN_Circles.tex    735  \n1974                8-7DN_Unit-review.tex    754  \n1864                    8-3DN_Density.tex    754  \n1891               8-4cEN_Area+volume.tex    755  \n2050             9-1DN_Correspondence.tex    779  \n2061            9-1bDN_Correspondence.tex    780  \n796         5-2CW_Portfolio-checklist.tex    810  \n1890               8-4cEN_Area+volume.tex    816  \n1863                    8-3DN_Density.tex    816  \n1973                8-7DN_Unit-review.tex    816  \n1767                    8-1DN_Circles.tex    855  \n1766                    8-1DN_Circles.tex    945  \n990                  6-10bDN_Graphing.tex    946  \n1972                8-7DN_Unit-review.tex    964  \n1889               8-4cEN_Area+volume.tex    964  \n1862                    8-3DN_Density.tex    964  \n1888               8-4cEN_Area+volume.tex   1079  \n1861                    8-3DN_Density.tex   1079  \n1971                8-7DN_Unit-review.tex   1079  \n2121               9-4bCW_Composition.tex   1080  \n2264         9-9bExam-transformations.tex   1093  \n2066               9-2bCW_Composition.tex   1095  \n2077                9-3DN_Composition.tex   1095  \n2094               9-3bDN_Composition.tex   1104  \n2152         9-5bExam-transformations.tex   1105  \n2233          9-9Exam-transformations.tex   1121  \n2114                 9-4DN-reflection.tex   1131  \n2127                9-4bDN-reflection.tex   1131  \n1045            6-11HW_pretest-angles.tex   1263  \n1314           6-9HW_pretest-graphing.tex   1264  \n593             4-11Exam_Transversals.tex   3636  ",
      "text/html": "<div>\n<style scoped>\n    .dataframe tbody tr th:only-of-type {\n        vertical-align: middle;\n    }\n\n    .dataframe tbody tr th {\n        vertical-align: top;\n    }\n\n    .dataframe thead th {\n        text-align: right;\n    }\n</style>\n<table border=\"1\" class=\"dataframe\">\n  <thead>\n    <tr style=\"text-align: right;\">\n      <th></th>\n      <th>problem_set_ID</th>\n      <th>question</th>\n      <th>file</th>\n      <th>q_len</th>\n    </tr>\n    <tr>\n      <th>problem_ID</th>\n      <th></th>\n      <th></th>\n      <th></th>\n      <th></th>\n    </tr>\n  </thead>\n  <tbody>\n    <tr>\n      <th>2063</th>\n      <td>148</td>\n      <td>Check those transformations that are rigid mot...</td>\n      <td>9-1bDN_Correspondence.tex</td>\n      <td>301</td>\n    </tr>\n    <tr>\n      <th>2053</th>\n      <td>147</td>\n      <td>Check those transformations that are rigid mot...</td>\n      <td>9-1DN_Correspondence.tex</td>\n      <td>301</td>\n    </tr>\n    <tr>\n      <th>797</th>\n      <td>59</td>\n      <td>Exams and test corrections\\n    \\begin{itemize...</td>\n      <td>5-2CW_Portfolio-checklist.tex</td>\n      <td>662</td>\n    </tr>\n    <tr>\n      <th>1769</th>\n      <td>130</td>\n      <td>\\textbf{Inscribed polygons and angles:} Circle...</td>\n      <td>8-1DN_Circles.tex</td>\n      <td>712</td>\n    </tr>\n    <tr>\n      <th>1768</th>\n      <td>130</td>\n      <td>\\textbf{Areas:} Circle with center at point $Q...</td>\n      <td>8-1DN_Circles.tex</td>\n      <td>735</td>\n    </tr>\n    <tr>\n      <th>1974</th>\n      <td>142</td>\n      <td>\\textbf{Polygons and angles in circles:} %Circ...</td>\n      <td>8-7DN_Unit-review.tex</td>\n      <td>754</td>\n    </tr>\n    <tr>\n      <th>1864</th>\n      <td>134</td>\n      <td>\\textbf{Polygons and angles in circles:} %Circ...</td>\n      <td>8-3DN_Density.tex</td>\n      <td>754</td>\n    </tr>\n    <tr>\n      <th>1891</th>\n      <td>136</td>\n      <td>\\textbf{Polygons and angles in circles:} %Circ...</td>\n      <td>8-4cEN_Area+volume.tex</td>\n      <td>755</td>\n    </tr>\n    <tr>\n      <th>2050</th>\n      <td>147</td>\n      <td>Reflect $\\triangle TRS$ across the $y$-axis, l...</td>\n      <td>9-1DN_Correspondence.tex</td>\n      <td>779</td>\n    </tr>\n    <tr>\n      <th>2061</th>\n      <td>148</td>\n      <td>Reflect $\\triangle TRS$ across the $y$-axis, l...</td>\n      <td>9-1bDN_Correspondence.tex</td>\n      <td>780</td>\n    </tr>\n    <tr>\n      <th>796</th>\n      <td>59</td>\n      <td>Constructions and projects\\n    \\begin{itemize...</td>\n      <td>5-2CW_Portfolio-checklist.tex</td>\n      <td>810</td>\n    </tr>\n    <tr>\n      <th>1890</th>\n      <td>136</td>\n      <td>\\textbf{Areas:} Circle with center at point $Q...</td>\n      <td>8-4cEN_Area+volume.tex</td>\n      <td>816</td>\n    </tr>\n    <tr>\n      <th>1863</th>\n      <td>134</td>\n      <td>\\textbf{Areas:} Circle with center at point $Q...</td>\n      <td>8-3DN_Density.tex</td>\n      <td>816</td>\n    </tr>\n    <tr>\n      <th>1973</th>\n      <td>142</td>\n      <td>\\textbf{Areas:} Circle with center at point $Q...</td>\n      <td>8-7DN_Unit-review.tex</td>\n      <td>816</td>\n    </tr>\n    <tr>\n      <th>1767</th>\n      <td>130</td>\n      <td>\\textbf{External lines:} Circle with center at...</td>\n      <td>8-1DN_Circles.tex</td>\n      <td>855</td>\n    </tr>\n    <tr>\n      <th>1766</th>\n      <td>130</td>\n      <td>\\textbf{Internal line segments:} Circle with c...</td>\n      <td>8-1DN_Circles.tex</td>\n      <td>945</td>\n    </tr>\n    <tr>\n      <th>990</th>\n      <td>74</td>\n      <td>Checklist:\\n  \\begin{itemize}\\n    \\item[$\\squ...</td>\n      <td>6-10bDN_Graphing.tex</td>\n      <td>946</td>\n    </tr>\n    <tr>\n      <th>1972</th>\n      <td>142</td>\n      <td>\\textbf{External lines:} Circle with center at...</td>\n      <td>8-7DN_Unit-review.tex</td>\n      <td>964</td>\n    </tr>\n    <tr>\n      <th>1889</th>\n      <td>136</td>\n      <td>\\textbf{External lines:} Circle with center at...</td>\n      <td>8-4cEN_Area+volume.tex</td>\n      <td>964</td>\n    </tr>\n    <tr>\n      <th>1862</th>\n      <td>134</td>\n      <td>\\textbf{External lines:} Circle with center at...</td>\n      <td>8-3DN_Density.tex</td>\n      <td>964</td>\n    </tr>\n    <tr>\n      <th>1888</th>\n      <td>136</td>\n      <td>\\textbf{Internal line segments:} Circle with c...</td>\n      <td>8-4cEN_Area+volume.tex</td>\n      <td>1079</td>\n    </tr>\n    <tr>\n      <th>1861</th>\n      <td>134</td>\n      <td>\\textbf{Internal line segments:} Circle with c...</td>\n      <td>8-3DN_Density.tex</td>\n      <td>1079</td>\n    </tr>\n    <tr>\n      <th>1971</th>\n      <td>142</td>\n      <td>\\textbf{Internal line segments:} Circle with c...</td>\n      <td>8-7DN_Unit-review.tex</td>\n      <td>1079</td>\n    </tr>\n    <tr>\n      <th>2121</th>\n      <td>157</td>\n      <td>A transformation is applied to a triangle, $\\t...</td>\n      <td>9-4bCW_Composition.tex</td>\n      <td>1080</td>\n    </tr>\n    <tr>\n      <th>2264</th>\n      <td>164</td>\n      <td>Which of the following would map $\\triangle DO...</td>\n      <td>9-9bExam-transformations.tex</td>\n      <td>1093</td>\n    </tr>\n    <tr>\n      <th>2066</th>\n      <td>149</td>\n      <td>A transformation is applied to a triangle, $\\t...</td>\n      <td>9-2bCW_Composition.tex</td>\n      <td>1095</td>\n    </tr>\n    <tr>\n      <th>2077</th>\n      <td>151</td>\n      <td>A transformation is applied to a triangle, $\\t...</td>\n      <td>9-3DN_Composition.tex</td>\n      <td>1095</td>\n    </tr>\n    <tr>\n      <th>2094</th>\n      <td>153</td>\n      <td>A transformation is applied to a triangle, $\\t...</td>\n      <td>9-3bDN_Composition.tex</td>\n      <td>1104</td>\n    </tr>\n    <tr>\n      <th>2152</th>\n      <td>159</td>\n      <td>Which of the following would map $\\triangle CA...</td>\n      <td>9-5bExam-transformations.tex</td>\n      <td>1105</td>\n    </tr>\n    <tr>\n      <th>2233</th>\n      <td>163</td>\n      <td>Which of the following would map $\\triangle DO...</td>\n      <td>9-9Exam-transformations.tex</td>\n      <td>1121</td>\n    </tr>\n    <tr>\n      <th>2114</th>\n      <td>156</td>\n      <td>Which of the following would map $\\triangle CA...</td>\n      <td>9-4DN-reflection.tex</td>\n      <td>1131</td>\n    </tr>\n    <tr>\n      <th>2127</th>\n      <td>158</td>\n      <td>Which of the following would map $\\triangle CA...</td>\n      <td>9-4bDN-reflection.tex</td>\n      <td>1131</td>\n    </tr>\n    <tr>\n      <th>1045</th>\n      <td>76</td>\n      <td>Checklist:\\n  \\begin{itemize}\\n    \\item[$\\squ...</td>\n      <td>6-11HW_pretest-angles.tex</td>\n      <td>1263</td>\n    </tr>\n    <tr>\n      <th>1314</th>\n      <td>95</td>\n      <td>Checklist:\\n  \\begin{itemize}\\n    \\item[$\\squ...</td>\n      <td>6-9HW_pretest-graphing.tex</td>\n      <td>1264</td>\n    </tr>\n    <tr>\n      <th>593</th>\n      <td>47</td>\n      <td>Do Not Solve. Circle the appropriate equation,...</td>\n      <td>4-11Exam_Transversals.tex</td>\n      <td>3636</td>\n    </tr>\n  </tbody>\n</table>\n</div>"
     },
     "metadata": {},
     "execution_count": 21
    }
   ],
   "source": [
    "problem_df[problem_df.question.str.contains('itemize')]"
   ]
  },
  {
   "cell_type": "code",
   "execution_count": 17,
   "metadata": {},
   "outputs": [
    {
     "output_type": "execute_result",
     "data": {
      "text/plain": "Empty DataFrame\nColumns: [unit, file, problem_count, head, body, problems_list, path, filename, problem_IDs]\nIndex: []",
      "text/html": "<div>\n<style scoped>\n    .dataframe tbody tr th:only-of-type {\n        vertical-align: middle;\n    }\n\n    .dataframe tbody tr th {\n        vertical-align: top;\n    }\n\n    .dataframe thead th {\n        text-align: right;\n    }\n</style>\n<table border=\"1\" class=\"dataframe\">\n  <thead>\n    <tr style=\"text-align: right;\">\n      <th></th>\n      <th>unit</th>\n      <th>file</th>\n      <th>problem_count</th>\n      <th>head</th>\n      <th>body</th>\n      <th>problems_list</th>\n      <th>path</th>\n      <th>filename</th>\n      <th>problem_IDs</th>\n    </tr>\n    <tr>\n      <th>problem_set_ID</th>\n      <th></th>\n      <th></th>\n      <th></th>\n      <th></th>\n      <th></th>\n      <th></th>\n      <th></th>\n      <th></th>\n      <th></th>\n    </tr>\n  </thead>\n  <tbody>\n  </tbody>\n</table>\n</div>"
     },
     "metadata": {},
     "execution_count": 17
    }
   ],
   "source": [
    "# Look for string in pset body\n",
    "pset_df[pset_df.body.apply(lambda x: r'[\\\\item' in str(x))]"
   ]
  },
  {
   "cell_type": "code",
   "execution_count": 18,
   "metadata": {},
   "outputs": [
    {
     "output_type": "execute_result",
     "data": {
      "text/plain": "            problem_set_ID                                           question  \\\nproblem_ID                                                                      \n794                     59   Optional binder cover sheet with original work\\n   \n795                     59  Title page (An original construction with your...   \n796                     59  Constructions and projects\\n    \\begin{itemize...   \n797                     59  Exams and test corrections\\n    \\begin{itemize...   \n\n                                     file  q_len  \nproblem_ID                                        \n794         5-2CW_Portfolio-checklist.tex     47  \n795         5-2CW_Portfolio-checklist.tex     75  \n796         5-2CW_Portfolio-checklist.tex    810  \n797         5-2CW_Portfolio-checklist.tex    662  ",
      "text/html": "<div>\n<style scoped>\n    .dataframe tbody tr th:only-of-type {\n        vertical-align: middle;\n    }\n\n    .dataframe tbody tr th {\n        vertical-align: top;\n    }\n\n    .dataframe thead th {\n        text-align: right;\n    }\n</style>\n<table border=\"1\" class=\"dataframe\">\n  <thead>\n    <tr style=\"text-align: right;\">\n      <th></th>\n      <th>problem_set_ID</th>\n      <th>question</th>\n      <th>file</th>\n      <th>q_len</th>\n    </tr>\n    <tr>\n      <th>problem_ID</th>\n      <th></th>\n      <th></th>\n      <th></th>\n      <th></th>\n    </tr>\n  </thead>\n  <tbody>\n    <tr>\n      <th>794</th>\n      <td>59</td>\n      <td>Optional binder cover sheet with original work\\n</td>\n      <td>5-2CW_Portfolio-checklist.tex</td>\n      <td>47</td>\n    </tr>\n    <tr>\n      <th>795</th>\n      <td>59</td>\n      <td>Title page (An original construction with your...</td>\n      <td>5-2CW_Portfolio-checklist.tex</td>\n      <td>75</td>\n    </tr>\n    <tr>\n      <th>796</th>\n      <td>59</td>\n      <td>Constructions and projects\\n    \\begin{itemize...</td>\n      <td>5-2CW_Portfolio-checklist.tex</td>\n      <td>810</td>\n    </tr>\n    <tr>\n      <th>797</th>\n      <td>59</td>\n      <td>Exams and test corrections\\n    \\begin{itemize...</td>\n      <td>5-2CW_Portfolio-checklist.tex</td>\n      <td>662</td>\n    </tr>\n  </tbody>\n</table>\n</div>"
     },
     "metadata": {},
     "execution_count": 18
    }
   ],
   "source": [
    "# CHECK Problem with itemize instead of enumerate\n",
    "problem_df[problem_df.problem_set_ID == 59].sort_index()"
   ]
  },
  {
   "cell_type": "code",
   "execution_count": 22,
   "metadata": {
    "tags": []
   },
   "outputs": [
    {
     "output_type": "stream",
     "name": "stdout",
     "text": "Optional binder cover sheet with original work\n\nTitle page (An original construction with your name and class information)\n\nConstructions and projects\n    \\begin{itemize}\n      \\item[$\\square$] September 10 - 1.4 Equilateral triangle (compass)\n      \\item[$\\square$] September 17 - 2.2 Equilateral triangle (Geogebra)\n      \\item[$\\square$] September 24 - 2.7 Four constructions (Geogebra \\& MS Word)\n      \\item[$\\square$] October 8 - 3.4 Compare four constructions in one paper \\\\(duplicate with prior, make sure you have at least one)\n      \\item[$\\square$] October 11 - 3.6 Perpendicular, angle bisector, hexagon (optional)(compass)\n      \\item[$\\square$] October 15 - 3.7 Angle bisector construction (Geogebra \\& MS Word)\n      \\item[$\\square$] October 22 - 4.3 Angle bisector revision (Geogebra \\& MS Word)\n      \\item[$\\square$] October 29 - 4.8 A polygon’s internal angles' measures (Geogebra \\& MS Word)\n    \\end{itemize}\n  \n\nExams and test corrections\n    \\begin{itemize}\n      \\item[$\\square$] September 13 - 1.7 Exam: Tools of Geometry\n      \\item[$\\square$] September 20 - 2.5 Pop Quiz: Segment \\& Area Calculations\n      \\item[$\\square$] September 25 - 2.7 Re-Quiz: Segment \\& Area Calculations\n      \\item[$\\square$] September 27 - 2.9 Area, perimeter, line segments\n          \\item[$\\square$] Test corrections\n      \\item[$\\square$] October 17 - 3.9 Area, volume, perimeter; line segments and angles\n        \\item[$\\square$] Test corrections\n     \\item[$\\square$] November 1 - 4.11 Transversals, volume; angle relationships\n      \\item[$\\square$] Test corrections\n  \\end{itemize}\n\n\n"
    }
   ],
   "source": [
    "for q in problem_df[problem_df.problem_set_ID == 59].sort_index().question:\n",
    "    print(q)"
   ]
  },
  {
   "cell_type": "code",
   "execution_count": 87,
   "metadata": {
    "tags": []
   },
   "outputs": [
    {
     "output_type": "stream",
     "name": "stdout",
     "text": "Translate $\\triangle ABC$ by $(x,y) \\rightarrow (x+3, y-5)$. Label the image $\\triangle A'B'C'$.\n  \\begin{center}\n      \\begin{tikzpicture}[scale=.48]\n      \\draw [help lines] (-7,-5) grid (10,6);\n      \\draw [thick, <->] (-7.4,0) -- (10.4,0) node [right] {$x$};\n      \\draw [thick, <->] (0,-5.4)--(0,6.4) node [above] {$y$};  \n      \\draw [thick]\n        (-4,4) node[below left] {$A$}--\n        (3,4) node[above] {$B$}--\n        (1,1) node[below] {$C$}--cycle;  \n    \\end{tikzpicture}\n  \\end{center}\n\n  \n  \\begin{multicols}{2}\n\nWhat transformation maps $\\triangle ABC$ onto $\\triangle DEC$, shown below? Fully specify the transformation. Complete the table of mappings to  corresponding objects.]  \\vspace{0.5cm}\n    \\begin{enumerate}\n      \\item $A \\rightarrow$ \\rule{2cm}{0.15mm}\n      \\item $B \\rightarrow$ \\rule{2cm}{0.15mm}\n      \\item $C \\rightarrow$ \\rule{2cm}{0.15mm}\n      \\item $\\angle ACB \\cong$ \\rule{2cm}{0.15mm}\n      \\item \\rule{2cm}{0.15mm} $\\cong \\overline {DE}$\n    \\end{enumerate}\n    \\begin{tikzpicture}[scale=.48]\n      \\draw [help lines] (-4,-3) grid (9,8);\n      \\draw [thick, <->] (-4.4,0) -- (9.4,0) node [right] {$x$};\n      \\draw [thick, <->] (0,-3.4)--(0,8.4) node [above] {$y$};  \n      \\draw [thick]\n      (4,-2) node[below left] {$A$}--\n      (7,1) node[right] {$B$}--\n      (1,1) node[below left] {$C$}--cycle;  \n      \\draw [thick]\n      (4,4) node[right] {$D$}--\n      (1,7) node[left] {$E$}--\n      (1,1) --cycle; \n    \\end{tikzpicture}\n  \\end{multicols}\n  \n  \\begin{multicols}{2}\n\nReflect $\\triangle TRS$ across the $y$-axis, labeling the image $\\triangle T'R'S'$. Check those properties that are maintained by reflection.]  \\vspace{0.5cm}\n    \\begin{itemize}\n\n$\\square$] Length\n\n$\\square$] Angle measures\n\n$\\square$] Orientation\n\n$\\square$] Parallel relationships\n\n$\\square$] Area\n    \\end{itemize}\n    \\begin{tikzpicture}[scale=.48]\n      \\draw [help lines] (-7,-4) grid (7,5);\n      \\draw [thick, <->] (-7.4,0) -- (7.4,0) node [right] {$x$};\n      \\draw [thick, <->] (0,-4.4)--(0,5.4) node [above] {$y$};  \n      \\draw [thick]\n      (4,-2) node[below left] {$T$}--\n      (5,1) node[right] {$R$}--\n      (2,2) node[below left] {$S$}--cycle;\n    \\end{tikzpicture}\n  \\end{multicols}\n\n\n  \\begin{multicols}{2}\n\nA translation maps triangle $PQR$ onto triangle $STU$.] \\vspace{0.5cm}\n      \\begin{tikzpicture}[scale=0.9]\n        \\coordinate [label=above left:$P$](A) at (95:2);\n        \\coordinate [label=below:$Q$](B) at (0, 0);\n        \\coordinate [label=right:$R$](C) at (-10:3.5);\n        \\draw [thick] (A)--(B)--(C)--cycle;\n        \\draw [thick, xshift=3cm, yshift=1.5cm] (95:2) node[above]{$S$}--\n        (0,0) node[below]{$T$}--\n        (-10:3.5) node[right]{$U$}--cycle;\n      \\end{tikzpicture}\\\\\n      Write each corresponding object.\n      \\begin{enumerate}\n        \\item $Q \\rightarrow$ \\rule{2cm}{0.15mm}\n        \\item $\\angle QRP \\cong$ \\rule{2cm}{0.15mm}\n        \\item \\rule{2cm}{0.15mm} $\\cong \\overline {ST}$\n        \\item Justify $\\triangle PQR \\cong \\triangle STU$. Use the words ``rigid motion\".\n      \\end{enumerate}\n    \\end{multicols}  \\vspace{2cm}\n\n\nCheck those transformations that are rigid motions.\n    \\begin{itemize}\n\n$\\square$] Dilation\n\n$\\square$] Translation\n\n$\\square$] Reflection\n\n$\\square$] Rotation\n\n$\\square$] An isometry\n\n$\\square$] Horizontal stretch\n    \\end{itemize}\n\n  \\begin{multicols}{2}\n\nA rigid motion maps $\\triangle DEF$ onto $\\triangle LMN$. Fill in the blanks.] \\vspace{0.5cm}\n      The following is given:\\\\*[0.5cm]\n      $DE=10$ \\\\\n      $m\\angle E = 40^\\circ$ \\\\\n      $m\\angle F = 110^\\circ$ \\\\[0.5cm]\n      \\columnbreak\n      \n      \\begin{enumerate}\n        \\item $D \\rightarrow$ \\rule{2cm}{0.15mm}\n        \\item $LM =$ \\rule{2cm}{0.15mm}\n        \\item $m\\angle M =$ \\rule{2cm}{0.15mm}\n        \\item $\\overline{LM} \\cong$ \\rule{2cm}{0.15mm}\n      \\end{enumerate}\n    \\end{multicols} \n\n\nGiven $\\triangle JKL \\sim \\triangle MNO$. $m\\angle K = 40^\\circ$ and $m\\angle M = 100^\\circ$.\\\\\n    Find the measure of $\\angle J$. \\vspace{3cm}\n\n\n\n\n"
    }
   ],
   "source": [
    "for q in problem_df[problem_df.file == '9-1DN_Correspondence.tex'].sort_index().question:\n",
    "    print(q)"
   ]
  },
  {
   "cell_type": "code",
   "execution_count": 62,
   "metadata": {
    "tags": []
   },
   "outputs": [
    {
     "output_type": "stream",
     "name": "stdout",
     "text": "<class 'list'>\n['\\n', \"  \\\\item Translate $\\\\triangle ABC$ by $(x,y) \\\\rightarrow (x+3, y-5)$. Label the image $\\\\triangle A'B'C'$.\\n\", '  \\\\begin{center}\\n', '      \\\\begin{tikzpicture}[scale=.48]\\n', '      \\\\draw [help lines] (-7,-5) grid (10,6);\\n', '      \\\\draw [thick, <->] (-7.4,0) -- (10.4,0) node [right] {$x$};\\n', '      \\\\draw [thick, <->] (0,-5.4)--(0,6.4) node [above] {$y$};  \\n', '      \\\\draw [thick]\\n', '        (-4,4) node[below left] {$A$}--\\n', '        (3,4) node[above] {$B$}--\\n', '        (1,1) node[below] {$C$}--cycle;  \\n', '    \\\\end{tikzpicture}\\n', '  \\\\end{center}\\n', '\\n', '  \\\\item What transformation maps $\\\\triangle ABC$ onto $\\\\triangle DEC$, shown below? Fully specify the transformation. Complete the table of mappings to  corresponding objects.  \\\\vspace{0.5cm}\\n', '    \\\\begin{multicols}{2}\\n', '      \\\\begin{enumerate}\\n', '        \\\\item $A \\\\rightarrow$ \\\\rule{2cm}{0.15mm}\\n', '        \\\\item $B \\\\rightarrow$ \\\\rule{2cm}{0.15mm}\\n', '        \\\\item $C \\\\rightarrow$ \\\\rule{2cm}{0.15mm}\\n', '        \\\\item $\\\\angle ACB \\\\cong$ \\\\rule{2cm}{0.15mm}\\n', '        \\\\item \\\\rule{2cm}{0.15mm} $\\\\cong \\\\overline {DE}$\\n', '      \\\\end{enumerate}\\n', '      \\\\begin{tikzpicture}[scale=.48]\\n', '        \\\\draw [help lines] (-4,-3) grid (9,8);\\n', '        \\\\draw [thick, <->] (-4.4,0) -- (9.4,0) node [right] {$x$};\\n', '        \\\\draw [thick, <->] (0,-3.4)--(0,8.4) node [above] {$y$};  \\n', '        \\\\draw [thick]\\n', '        (4,-2) node[below left] {$A$}--\\n', '        (7,1) node[right] {$B$}--\\n', '        (1,1) node[below left] {$C$}--cycle;  \\n', '        \\\\draw [thick]\\n', '        (4,4) node[right] {$D$}--\\n', '        (1,7) node[left] {$E$}--\\n', '        (1,1) --cycle; \\n', '      \\\\end{tikzpicture}\\n', '    \\\\end{multicols}\\n', '  \\n', \"  \\\\item Reflect $\\\\triangle TRS$ across the $y$-axis, labeling the image $\\\\triangle T'R'S'$. Check those properties that are maintained by reflection. \\\\vspace{0.5cm}\\n\", '  \\\\begin{multicols}{2}\\n', '    \\\\begin{itemize}\\n', '      \\\\item[$\\\\square$] Length\\n', '      \\\\item[$\\\\square$] Angle measures\\n', '      \\\\item[$\\\\square$] Orientation\\n', '      \\\\item[$\\\\square$] Parallel relationships\\n', '      \\\\item[$\\\\square$] Area\\n', '    \\\\end{itemize}\\n', '    \\\\begin{tikzpicture}[scale=.48]\\n', '      \\\\draw [help lines] (-7,-4) grid (7,3);\\n', '      \\\\draw [thick, <->] (-7.4,0) -- (7.4,0) node [right] {$x$};\\n', '      \\\\draw [thick, <->] (0,-4.4)--(0,3.4) node [above] {$y$};  \\n', '      \\\\draw [thick]\\n', '      (4,-2) node[below left] {$T$}--\\n', '      (5,1) node[right] {$R$}--\\n', '      (2,2) node[below left] {$S$}--cycle;\\n', '    \\\\end{tikzpicture}\\n', '  \\\\end{multicols}\\n', '\\n', '\\\\newpage\\n', '  \\\\item A translation maps triangle $PQR$ onto triangle $STU$. \\\\vspace{0.5cm}\\n', '    \\\\begin{multicols}{2}\\n', '      \\\\begin{tikzpicture}[scale=0.9]\\n', '        \\\\coordinate [label=above left:$P$](A) at (95:2);\\n', '        \\\\coordinate [label=below:$Q$](B) at (0, 0);\\n', '        \\\\coordinate [label=right:$R$](C) at (-10:3.5);\\n', '        \\\\draw [thick] (A)--(B)--(C)--cycle;\\n', '        \\\\draw [thick, xshift=3cm, yshift=1.5cm] (95:2) node[above]{$S$}--\\n', '        (0,0) node[below]{$T$}--\\n', '        (-10:3.5) node[right]{$U$}--cycle;\\n', '      \\\\end{tikzpicture}\\\\\\\\\\n', '      Write each corresponding object.\\n', '      \\\\begin{enumerate}\\n', '        \\\\item $Q \\\\rightarrow$ \\\\rule{2cm}{0.15mm}\\n', '        \\\\item $\\\\angle QRP \\\\cong$ \\\\rule{2cm}{0.15mm}\\n', '        \\\\item \\\\rule{2cm}{0.15mm} $\\\\cong \\\\overline {ST}$\\n', '        \\\\item Justify $\\\\triangle PQR \\\\cong \\\\triangle STU$. Use the words ``rigid motion\".\\n', '      \\\\end{enumerate}\\n', '    \\\\end{multicols}  \\\\vspace{2cm}\\n', '\\n', '    \\\\item Check those transformations that are rigid motions.\\n', '    \\\\begin{itemize}\\n', '      \\\\item[$\\\\square$] Dilation\\n', '      \\\\item[$\\\\square$] Translation\\n', '      \\\\item[$\\\\square$] Reflection\\n', '      \\\\item[$\\\\square$] Rotation\\n', '      \\\\item[$\\\\square$] An isometry\\n', '      \\\\item[$\\\\square$] Horizontal stretch\\n', '    \\\\end{itemize}\\n', '\\n', '  \\\\item A rigid motion maps $\\\\triangle DEF$ onto $\\\\triangle LMN$. Fill in the blanks. \\\\vspace{0.5cm}\\n', '  \\\\begin{multicols}{2}\\n', '    The following is given:\\\\\\\\*[0.5cm]\\n', '    $DE=10$ \\\\\\\\\\n', '    $m\\\\angle E = 40^\\\\circ$ \\\\\\\\\\n', '    $m\\\\angle F = 110^\\\\circ$ \\\\\\\\[0.5cm]\\n', '    \\\\columnbreak\\n', '    \\\\begin{enumerate}\\n', '      \\\\item $D \\\\rightarrow$ \\\\rule{2cm}{0.15mm}\\n', '      \\\\item $LM =$ \\\\rule{2cm}{0.15mm}\\n', '      \\\\item $m\\\\angle M =$ \\\\rule{2cm}{0.15mm}\\n', '      \\\\item $\\\\overline{LM} \\\\cong$ \\\\rule{2cm}{0.15mm}\\n', '    \\\\end{enumerate}\\n', '  \\\\end{multicols} \\n', '\\n', '  \\\\item Given $\\\\triangle JKL \\\\sim \\\\triangle MNO$. $m\\\\angle K = 40^\\\\circ$ and $m\\\\angle M = 100^\\\\circ$.\\\\\\\\\\n', '    Find the measure of $\\\\angle J$. \\\\vspace{3cm}\\n', '\\n', '\\\\end{enumerate}\\n']\n"
    }
   ],
   "source": [
    "body = pset_df.loc[147, 'body']\n",
    "print(type(body))\n",
    "print(body)"
   ]
  },
  {
   "cell_type": "code",
   "execution_count": 38,
   "metadata": {},
   "outputs": [
    {
     "output_type": "execute_result",
     "data": {
      "text/plain": "            problem_set_ID                                           question  \\\nproblem_ID                                                                      \n0                        0  Given the line segment $\\overline{PQ}$ shown b...   \n1                        0                                         \\newpage\\n   \n2                        0  Given an angle with vertex $A$. Answer the que...   \n3                        0                                         \\newpage\\n   \n4                        0  Given the rectangle $ABCD$ shown below. Answer...   \n5                        0                                         \\newpage\\n   \n6                        0  The points shown are in a straight line, $\\ove...   \n7                        0  Given $\\overleftrightarrow{QS}$ as shown on th...   \n8                        1  Write down the slope and $y$-intercept of each...   \n9                        1  What is the slope of a line parallel to the li...   \n10                       1                                         \\newpage\\n   \n11                       1  Graph and label the two equations. Mark their ...   \n12                       2  In the following two problems, solve for the v...   \n13                       2  Given $g(x)=3x^2-7x+5$. Fine $g(0)$. \\vspace{4...   \n14                       2  Given $f(x)=2x-1$. Solve for $x$ such that for...   \n15                       2  Given $x^2+6x+5=0$. Factor and find the roots....   \n16                       2                                         \\newpage\\n   \n17                       2  The line $l$ has the equation $y=\\frac{1}{2}x+...   \n18                       2  On the grid below, graph the line $y=2x-4$.\\n ...   \n19                       3  In the following two problems, solve for the v...   \n20                       3  Given $g(x)=x^2-5x+15$. Simplify $g(0)$. \\vspa...   \n21                       3  Given $f(x)=3x-2$. Solve for $x$ such that for...   \n22                       3  Given $h(x)=x^2-x-12$. Solve $h(x)=0$. \\vspace...   \n23                       3  Simplify each expression. (Leave it in radical...   \n24                       3                                         \\newpage\\n   \n25                       3  The line $l$ has the equation $y=\\frac{3}{2}x-...   \n26                       3  On the grid below, graph the line $y=-\\frac{1}...   \n\n                                 file  q_len  \nproblem_ID                                    \n0               1-1CW_Measurement.tex    732  \n1               1-1CW_Measurement.tex     11  \n2               1-1CW_Measurement.tex    675  \n3               1-1CW_Measurement.tex      9  \n4               1-1CW_Measurement.tex   1164  \n5               1-1CW_Measurement.tex      9  \n6               1-1CW_Measurement.tex    533  \n7               1-1CW_Measurement.tex    680  \n8           1-1DNQ_Distance+slope.tex    433  \n9           1-1DNQ_Distance+slope.tex     81  \n10          1-1DNQ_Distance+slope.tex      9  \n11          1-1DNQ_Distance+slope.tex    494  \n12                  1-1DN_Algebra.tex    232  \n13                  1-1DN_Algebra.tex     50  \n14                  1-1DN_Algebra.tex     70  \n15                  1-1DN_Algebra.tex     63  \n16                  1-1DN_Algebra.tex      9  \n17                  1-1DN_Algebra.tex    208  \n18                  1-1DN_Algebra.tex    376  \n19                  1-1HW_Algebra.tex    233  \n20                  1-1HW_Algebra.tex     54  \n21                  1-1HW_Algebra.tex     71  \n22                  1-1HW_Algebra.tex     56  \n23                  1-1HW_Algebra.tex    275  \n24                  1-1HW_Algebra.tex      9  \n25                  1-1HW_Algebra.tex    283  \n26                  1-1HW_Algebra.tex    387  ",
      "text/html": "<div>\n<style scoped>\n    .dataframe tbody tr th:only-of-type {\n        vertical-align: middle;\n    }\n\n    .dataframe tbody tr th {\n        vertical-align: top;\n    }\n\n    .dataframe thead th {\n        text-align: right;\n    }\n</style>\n<table border=\"1\" class=\"dataframe\">\n  <thead>\n    <tr style=\"text-align: right;\">\n      <th></th>\n      <th>problem_set_ID</th>\n      <th>question</th>\n      <th>file</th>\n      <th>q_len</th>\n    </tr>\n    <tr>\n      <th>problem_ID</th>\n      <th></th>\n      <th></th>\n      <th></th>\n      <th></th>\n    </tr>\n  </thead>\n  <tbody>\n    <tr>\n      <th>0</th>\n      <td>0</td>\n      <td>Given the line segment $\\overline{PQ}$ shown b...</td>\n      <td>1-1CW_Measurement.tex</td>\n      <td>732</td>\n    </tr>\n    <tr>\n      <th>1</th>\n      <td>0</td>\n      <td>\\newpage\\n</td>\n      <td>1-1CW_Measurement.tex</td>\n      <td>11</td>\n    </tr>\n    <tr>\n      <th>2</th>\n      <td>0</td>\n      <td>Given an angle with vertex $A$. Answer the que...</td>\n      <td>1-1CW_Measurement.tex</td>\n      <td>675</td>\n    </tr>\n    <tr>\n      <th>3</th>\n      <td>0</td>\n      <td>\\newpage\\n</td>\n      <td>1-1CW_Measurement.tex</td>\n      <td>9</td>\n    </tr>\n    <tr>\n      <th>4</th>\n      <td>0</td>\n      <td>Given the rectangle $ABCD$ shown below. Answer...</td>\n      <td>1-1CW_Measurement.tex</td>\n      <td>1164</td>\n    </tr>\n    <tr>\n      <th>5</th>\n      <td>0</td>\n      <td>\\newpage\\n</td>\n      <td>1-1CW_Measurement.tex</td>\n      <td>9</td>\n    </tr>\n    <tr>\n      <th>6</th>\n      <td>0</td>\n      <td>The points shown are in a straight line, $\\ove...</td>\n      <td>1-1CW_Measurement.tex</td>\n      <td>533</td>\n    </tr>\n    <tr>\n      <th>7</th>\n      <td>0</td>\n      <td>Given $\\overleftrightarrow{QS}$ as shown on th...</td>\n      <td>1-1CW_Measurement.tex</td>\n      <td>680</td>\n    </tr>\n    <tr>\n      <th>8</th>\n      <td>1</td>\n      <td>Write down the slope and $y$-intercept of each...</td>\n      <td>1-1DNQ_Distance+slope.tex</td>\n      <td>433</td>\n    </tr>\n    <tr>\n      <th>9</th>\n      <td>1</td>\n      <td>What is the slope of a line parallel to the li...</td>\n      <td>1-1DNQ_Distance+slope.tex</td>\n      <td>81</td>\n    </tr>\n    <tr>\n      <th>10</th>\n      <td>1</td>\n      <td>\\newpage\\n</td>\n      <td>1-1DNQ_Distance+slope.tex</td>\n      <td>9</td>\n    </tr>\n    <tr>\n      <th>11</th>\n      <td>1</td>\n      <td>Graph and label the two equations. Mark their ...</td>\n      <td>1-1DNQ_Distance+slope.tex</td>\n      <td>494</td>\n    </tr>\n    <tr>\n      <th>12</th>\n      <td>2</td>\n      <td>In the following two problems, solve for the v...</td>\n      <td>1-1DN_Algebra.tex</td>\n      <td>232</td>\n    </tr>\n    <tr>\n      <th>13</th>\n      <td>2</td>\n      <td>Given $g(x)=3x^2-7x+5$. Fine $g(0)$. \\vspace{4...</td>\n      <td>1-1DN_Algebra.tex</td>\n      <td>50</td>\n    </tr>\n    <tr>\n      <th>14</th>\n      <td>2</td>\n      <td>Given $f(x)=2x-1$. Solve for $x$ such that for...</td>\n      <td>1-1DN_Algebra.tex</td>\n      <td>70</td>\n    </tr>\n    <tr>\n      <th>15</th>\n      <td>2</td>\n      <td>Given $x^2+6x+5=0$. Factor and find the roots....</td>\n      <td>1-1DN_Algebra.tex</td>\n      <td>63</td>\n    </tr>\n    <tr>\n      <th>16</th>\n      <td>2</td>\n      <td>\\newpage\\n</td>\n      <td>1-1DN_Algebra.tex</td>\n      <td>9</td>\n    </tr>\n    <tr>\n      <th>17</th>\n      <td>2</td>\n      <td>The line $l$ has the equation $y=\\frac{1}{2}x+...</td>\n      <td>1-1DN_Algebra.tex</td>\n      <td>208</td>\n    </tr>\n    <tr>\n      <th>18</th>\n      <td>2</td>\n      <td>On the grid below, graph the line $y=2x-4$.\\n ...</td>\n      <td>1-1DN_Algebra.tex</td>\n      <td>376</td>\n    </tr>\n    <tr>\n      <th>19</th>\n      <td>3</td>\n      <td>In the following two problems, solve for the v...</td>\n      <td>1-1HW_Algebra.tex</td>\n      <td>233</td>\n    </tr>\n    <tr>\n      <th>20</th>\n      <td>3</td>\n      <td>Given $g(x)=x^2-5x+15$. Simplify $g(0)$. \\vspa...</td>\n      <td>1-1HW_Algebra.tex</td>\n      <td>54</td>\n    </tr>\n    <tr>\n      <th>21</th>\n      <td>3</td>\n      <td>Given $f(x)=3x-2$. Solve for $x$ such that for...</td>\n      <td>1-1HW_Algebra.tex</td>\n      <td>71</td>\n    </tr>\n    <tr>\n      <th>22</th>\n      <td>3</td>\n      <td>Given $h(x)=x^2-x-12$. Solve $h(x)=0$. \\vspace...</td>\n      <td>1-1HW_Algebra.tex</td>\n      <td>56</td>\n    </tr>\n    <tr>\n      <th>23</th>\n      <td>3</td>\n      <td>Simplify each expression. (Leave it in radical...</td>\n      <td>1-1HW_Algebra.tex</td>\n      <td>275</td>\n    </tr>\n    <tr>\n      <th>24</th>\n      <td>3</td>\n      <td>\\newpage\\n</td>\n      <td>1-1HW_Algebra.tex</td>\n      <td>9</td>\n    </tr>\n    <tr>\n      <th>25</th>\n      <td>3</td>\n      <td>The line $l$ has the equation $y=\\frac{3}{2}x-...</td>\n      <td>1-1HW_Algebra.tex</td>\n      <td>283</td>\n    </tr>\n    <tr>\n      <th>26</th>\n      <td>3</td>\n      <td>On the grid below, graph the line $y=-\\frac{1}...</td>\n      <td>1-1HW_Algebra.tex</td>\n      <td>387</td>\n    </tr>\n  </tbody>\n</table>\n</div>"
     },
     "metadata": {},
     "execution_count": 38
    }
   ],
   "source": [
    "problem_df[problem_df.file.str.startswith('1-1')].sort_index()"
   ]
  },
  {
   "cell_type": "code",
   "execution_count": null,
   "metadata": {},
   "outputs": [],
   "source": []
  }
 ]
}