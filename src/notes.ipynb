{
 "metadata": {
  "language_info": {
   "codemirror_mode": {
    "name": "ipython",
    "version": 3
   },
   "file_extension": ".py",
   "mimetype": "text/x-python",
   "name": "python",
   "nbconvert_exporter": "python",
   "pygments_lexer": "ipython3",
   "version": "3.7.3-final"
  },
  "orig_nbformat": 2,
  "kernelspec": {
   "name": "python_defaultSpec_1600179374139",
   "display_name": "Python 3.7.6 64-bit ('base': conda)"
  }
 },
 "nbformat": 4,
 "nbformat_minor": 2,
 "cells": [
  {
   "cell_type": "code",
   "execution_count": 1,
   "metadata": {
    "tags": []
   },
   "outputs": [
    {
     "output_type": "execute_result",
     "data": {
      "text/plain": "'/Users/chuson/GitHub/mathai/src'"
     },
     "metadata": {},
     "execution_count": 1
    }
   ],
   "source": [
    "import os\n",
    "import sys\n",
    "import subprocess\n",
    "import pandas as pd\n",
    "import numpy as np\n",
    "from ast import literal_eval\n",
    "os.getcwd()"
   ]
  },
  {
   "cell_type": "code",
   "execution_count": 2,
   "metadata": {
    "tags": []
   },
   "outputs": [
    {
     "output_type": "stream",
     "name": "stdout",
     "text": "ran main\n"
    }
   ],
   "source": [
    "#from main import map_course_files\n",
    "#from main import parse_course_files\n",
    "from main import build_pset_df_tex\n",
    "from main import build_problem_df_tex\n",
    "from main import build_pset_df_pdf"
   ]
  },
  {
   "cell_type": "code",
   "execution_count": 4,
   "metadata": {},
   "outputs": [
    {
     "output_type": "execute_result",
     "data": {
      "text/plain": "'/Users/chuson'"
     },
     "metadata": {},
     "execution_count": 4
    }
   ],
   "source": [
    "os.environ['HOME']"
   ]
  },
  {
   "cell_type": "code",
   "execution_count": 6,
   "metadata": {
    "tags": []
   },
   "outputs": [
    {
     "output_type": "stream",
     "name": "stdout",
     "text": "/Users/chuson/Users/chuson/GitHub/mathai/db/\n"
    }
   ],
   "source": [
    "HOME = os.environ[\"HOME\"]\n",
    "db_dir = HOME + \"/GitHub/mathai/db/\"\n",
    "out_dir = HOME + \"/GitHub/mathai/out/\"\n",
    "in_dir = HOME + \"/GitHub/mathai/in/\"\n",
    "course_dir = HOME + \"/GitHub/course-files/Geom2021/\"\n",
    "print(db_dir)"
   ]
  },
  {
   "cell_type": "markdown",
   "metadata": {},
   "source": [
    "## saving and loading problem and problem set dataframes"
   ]
  },
  {
   "cell_type": "code",
   "execution_count": 28,
   "metadata": {},
   "outputs": [],
   "source": [
    "problem_df.to_csv('/Users/chris/GitHub/mathai/db/problem_df.csv')\n",
    "pset_df.to_csv('/Users/chris/GitHub/mathai/db/pset_df.csv')\n",
    "course_file_df.to_csv('/Users/chris/GitHub/mathai/db/course_file_df.csv')"
   ]
  },
  {
   "cell_type": "code",
   "execution_count": 3,
   "metadata": {
    "tags": []
   },
   "outputs": [
    {
     "output_type": "stream",
     "name": "stdout",
     "text": "course_file_df:  172 None Index(['unit', 'file_count', 'filename'], dtype='object')\npset_df:  172 problem_set_ID Index(['unit', 'filename', 'problem_count', 'problem_IDs', 'problems_list',\n       'problem_kind', 'header', 'body'],\n      dtype='object')\nproblem_df:  2443 problem_ID Index(['problem_set_ID', 'question', 'kind', 'filename', 'q_len'], dtype='object')\n"
    }
   ],
   "source": [
    "course_file_df = pd.read_csv('/Users/chris/GitHub/mathai/db/course_file_df.csv', index_col=0)\n",
    "print('course_file_df: ', len(course_file_df), course_file_df.index.name, course_file_df.columns)\n",
    "\n",
    "cols_into_lists = {'problem_IDs':literal_eval, 'header':literal_eval, 'body':literal_eval, 'problems_list':literal_eval, 'problem_kind':literal_eval}\n",
    "pset_df = pd.read_csv('../db/pset_df.csv', index_col='problem_set_ID', converters=cols_into_lists)\n",
    "print('pset_df: ', len(pset_df), pset_df.index.name, pset_df.columns)\n",
    "\n",
    "problem_df = pd.read_csv('../db/problem_df.csv', index_col='problem_ID')\n",
    "print('problem_df: ', len(problem_df), problem_df.index.name, problem_df.columns)"
   ]
  },
  {
   "cell_type": "code",
   "execution_count": 15,
   "metadata": {
    "tags": []
   },
   "outputs": [
    {
     "output_type": "stream",
     "name": "stdout",
     "text": "standards_df:  314 None Index(['course', 'chapter', 'topic', 'ccss_ID'], dtype='object')\n\nstandards_desc_df:  131 None Index(['ccss_ID', 'description'], dtype='object')\n"
    }
   ],
   "source": [
    "standards_df = pd.read_csv(db_dir + 'standards_df.csv')\n",
    "print('standards_df: ', len(standards_df), standards_df.index.name, standards_df.columns)\n",
    "standards_desc_df = pd.read_csv(db_dir + 'standards_desc_df.csv')\n",
    "print('\\nstandards_desc_df: ', len(standards_desc_df), standards_desc_df.index.name, standards_desc_df.columns)"
   ]
  },
  {
   "cell_type": "code",
   "execution_count": 4,
   "metadata": {},
   "outputs": [],
   "source": [
    "# load saved dfs for test comparison\n",
    "cols_into_lists = {'problem_IDs':literal_eval, 'header':literal_eval, 'body':literal_eval, 'problems_list':literal_eval, 'problem_kind':literal_eval}\n",
    "pset_df2 = pd.read_csv('../db/pset_df.csv', index_col='problem_set_ID', converters=cols_into_lists)\n",
    "problem_df2 = pd.read_csv('../db/problem_df.csv', index_col='problem_ID')"
   ]
  },
  {
   "cell_type": "markdown",
   "metadata": {},
   "source": [
    "## Printing Problem Sets"
   ]
  },
  {
   "cell_type": "code",
   "execution_count": 4,
   "metadata": {
    "tags": []
   },
   "outputs": [
    {
     "output_type": "stream",
     "name": "stdout",
     "text": "Index(['unit', 'filename', 'problem_count', 'problem_IDs', 'problems_list',\n       'problem_kind', 'header', 'body'],\n      dtype='object')\n\nunits:  ['01-Intro' '02-Midpoint+distance' '03-Volume+angle-bisectors'\n '04-Transversals' '05-Transformations' '06-Analytic-geometry'\n '07-Similarity' '08-Area+volume' '09-Congruence-transformations'\n '10-Trig+similarity+analytics']\n"
    }
   ],
   "source": [
    "print(pset_df.columns)\n",
    "units = pset_df.unit.unique()\n",
    "print('\\nunits: ', units)"
   ]
  },
  {
   "cell_type": "code",
   "execution_count": 23,
   "metadata": {
    "tags": []
   },
   "outputs": [
    {
     "output_type": "stream",
     "name": "stdout",
     "text": "['\\\\begin{document}\\n', '\\\\subsubsection*{1-1 Classwork: Geometric measurement}\\n', '  \\\\vspace{0.5cm}\\n']\n"
    }
   ],
   "source": [
    "print(pset_df.loc[0, 'header'])"
   ]
  },
  {
   "cell_type": "code",
   "execution_count": 10,
   "metadata": {},
   "outputs": [
    {
     "output_type": "execute_result",
     "data": {
      "text/plain": "'/Users/chris/GitHub/course-files/Geom2021/10-Trig+similarity+analytics'"
     },
     "metadata": {},
     "execution_count": 10
    }
   ],
   "source": [
    "os.getcwd()"
   ]
  },
  {
   "cell_type": "code",
   "execution_count": 14,
   "metadata": {},
   "outputs": [
    {
     "output_type": "execute_result",
     "data": {
      "text/plain": "                                    filename                  unit  \\\npset_ID                                                              \n0                      1-1CW_Measurement.tex              01-Intro   \n1                  1-1DNQ_Distance+slope.tex              01-Intro   \n2                          1-1DN_Algebra.tex              01-Intro   \n3                          1-1HW_Algebra.tex              01-Intro   \n4              1-3DN_Function-intercepts.tex              01-Intro   \n5             1-3HW_Equilateral-triangle.tex              01-Intro   \n6                            1-4HW-Intro.tex              01-Intro   \n7                 1-4HW_Segment-addition.tex              01-Intro   \n8                1-5CW_Angle-terminology.tex              01-Intro   \n9           1-5HW_Pretest-segments-intro.tex              01-Intro   \n10                     1-6DN_Angle-pairs.tex              01-Intro   \n11                     1-6HW_Angle-pairs.tex              01-Intro   \n12                         1-7Exam-Intro.tex              01-Intro   \n13                   1-7Exam-corrections.tex              01-Intro   \n14                         1-7Exam-spicy.tex              01-Intro   \n15                    1-7HW_Calculations.tex              01-Intro   \n16                     2-1DN_Exam-review.tex  02-Midpoint+distance   \n17                  2-2HW_Midpoint-calcs.tex  02-Midpoint+distance   \n18             2-3DN_Midpoint+rectangles.tex  02-Midpoint+distance   \n19                   2-3HW_Triangle-area.tex  02-Midpoint+distance   \n20                   2-4DN_Triangle-area.tex  02-Midpoint+distance   \n21               2-4HW_Parameter-solving.tex  02-Midpoint+distance   \n22                  2-5DNQ_Segments+area.tex  02-Midpoint+distance   \n23                       2-5HW_Perimeter.tex  02-Midpoint+distance   \n24              2-6DN_Distance+Perimeter.tex  02-Midpoint+distance   \n25                 2-6HW_Compound-shapes.tex  02-Midpoint+distance   \n26                        2-7CW_Modeling.tex  02-Midpoint+distance   \n27                 2-7DNRQ_Segments+area.tex  02-Midpoint+distance   \n28       2-7DN_Compound-areas+perimeters.tex  02-Midpoint+distance   \n29          2-7Pretest_areas+numberlines.tex  02-Midpoint+distance   \n30                   2-8DN_Constructions.tex  02-Midpoint+distance   \n31               2-8HW_Parameter-solving.tex  02-Midpoint+distance   \n32                 2-9Exam_area-distance.tex  02-Midpoint+distance   \n33                    2-9HW_Calculations.tex  02-Midpoint+distance   \n\n                                        path_plus_filename  \npset_ID                                                     \n0        /Users/chris/GitHub/course-files/Geom2021/01-I...  \n1        /Users/chris/GitHub/course-files/Geom2021/01-I...  \n2        /Users/chris/GitHub/course-files/Geom2021/01-I...  \n3        /Users/chris/GitHub/course-files/Geom2021/01-I...  \n4        /Users/chris/GitHub/course-files/Geom2021/01-I...  \n5        /Users/chris/GitHub/course-files/Geom2021/01-I...  \n6        /Users/chris/GitHub/course-files/Geom2021/01-I...  \n7        /Users/chris/GitHub/course-files/Geom2021/01-I...  \n8        /Users/chris/GitHub/course-files/Geom2021/01-I...  \n9        /Users/chris/GitHub/course-files/Geom2021/01-I...  \n10       /Users/chris/GitHub/course-files/Geom2021/01-I...  \n11       /Users/chris/GitHub/course-files/Geom2021/01-I...  \n12       /Users/chris/GitHub/course-files/Geom2021/01-I...  \n13       /Users/chris/GitHub/course-files/Geom2021/01-I...  \n14       /Users/chris/GitHub/course-files/Geom2021/01-I...  \n15       /Users/chris/GitHub/course-files/Geom2021/01-I...  \n16       /Users/chris/GitHub/course-files/Geom2021/02-M...  \n17       /Users/chris/GitHub/course-files/Geom2021/02-M...  \n18       /Users/chris/GitHub/course-files/Geom2021/02-M...  \n19       /Users/chris/GitHub/course-files/Geom2021/02-M...  \n20       /Users/chris/GitHub/course-files/Geom2021/02-M...  \n21       /Users/chris/GitHub/course-files/Geom2021/02-M...  \n22       /Users/chris/GitHub/course-files/Geom2021/02-M...  \n23       /Users/chris/GitHub/course-files/Geom2021/02-M...  \n24       /Users/chris/GitHub/course-files/Geom2021/02-M...  \n25       /Users/chris/GitHub/course-files/Geom2021/02-M...  \n26       /Users/chris/GitHub/course-files/Geom2021/02-M...  \n27       /Users/chris/GitHub/course-files/Geom2021/02-M...  \n28       /Users/chris/GitHub/course-files/Geom2021/02-M...  \n29       /Users/chris/GitHub/course-files/Geom2021/02-M...  \n30       /Users/chris/GitHub/course-files/Geom2021/02-M...  \n31       /Users/chris/GitHub/course-files/Geom2021/02-M...  \n32       /Users/chris/GitHub/course-files/Geom2021/02-M...  \n33       /Users/chris/GitHub/course-files/Geom2021/02-M...  ",
      "text/html": "<div>\n<style scoped>\n    .dataframe tbody tr th:only-of-type {\n        vertical-align: middle;\n    }\n\n    .dataframe tbody tr th {\n        vertical-align: top;\n    }\n\n    .dataframe thead th {\n        text-align: right;\n    }\n</style>\n<table border=\"1\" class=\"dataframe\">\n  <thead>\n    <tr style=\"text-align: right;\">\n      <th></th>\n      <th>filename</th>\n      <th>unit</th>\n      <th>path_plus_filename</th>\n    </tr>\n    <tr>\n      <th>pset_ID</th>\n      <th></th>\n      <th></th>\n      <th></th>\n    </tr>\n  </thead>\n  <tbody>\n    <tr>\n      <th>0</th>\n      <td>1-1CW_Measurement.tex</td>\n      <td>01-Intro</td>\n      <td>/Users/chris/GitHub/course-files/Geom2021/01-I...</td>\n    </tr>\n    <tr>\n      <th>1</th>\n      <td>1-1DNQ_Distance+slope.tex</td>\n      <td>01-Intro</td>\n      <td>/Users/chris/GitHub/course-files/Geom2021/01-I...</td>\n    </tr>\n    <tr>\n      <th>2</th>\n      <td>1-1DN_Algebra.tex</td>\n      <td>01-Intro</td>\n      <td>/Users/chris/GitHub/course-files/Geom2021/01-I...</td>\n    </tr>\n    <tr>\n      <th>3</th>\n      <td>1-1HW_Algebra.tex</td>\n      <td>01-Intro</td>\n      <td>/Users/chris/GitHub/course-files/Geom2021/01-I...</td>\n    </tr>\n    <tr>\n      <th>4</th>\n      <td>1-3DN_Function-intercepts.tex</td>\n      <td>01-Intro</td>\n      <td>/Users/chris/GitHub/course-files/Geom2021/01-I...</td>\n    </tr>\n    <tr>\n      <th>5</th>\n      <td>1-3HW_Equilateral-triangle.tex</td>\n      <td>01-Intro</td>\n      <td>/Users/chris/GitHub/course-files/Geom2021/01-I...</td>\n    </tr>\n    <tr>\n      <th>6</th>\n      <td>1-4HW-Intro.tex</td>\n      <td>01-Intro</td>\n      <td>/Users/chris/GitHub/course-files/Geom2021/01-I...</td>\n    </tr>\n    <tr>\n      <th>7</th>\n      <td>1-4HW_Segment-addition.tex</td>\n      <td>01-Intro</td>\n      <td>/Users/chris/GitHub/course-files/Geom2021/01-I...</td>\n    </tr>\n    <tr>\n      <th>8</th>\n      <td>1-5CW_Angle-terminology.tex</td>\n      <td>01-Intro</td>\n      <td>/Users/chris/GitHub/course-files/Geom2021/01-I...</td>\n    </tr>\n    <tr>\n      <th>9</th>\n      <td>1-5HW_Pretest-segments-intro.tex</td>\n      <td>01-Intro</td>\n      <td>/Users/chris/GitHub/course-files/Geom2021/01-I...</td>\n    </tr>\n    <tr>\n      <th>10</th>\n      <td>1-6DN_Angle-pairs.tex</td>\n      <td>01-Intro</td>\n      <td>/Users/chris/GitHub/course-files/Geom2021/01-I...</td>\n    </tr>\n    <tr>\n      <th>11</th>\n      <td>1-6HW_Angle-pairs.tex</td>\n      <td>01-Intro</td>\n      <td>/Users/chris/GitHub/course-files/Geom2021/01-I...</td>\n    </tr>\n    <tr>\n      <th>12</th>\n      <td>1-7Exam-Intro.tex</td>\n      <td>01-Intro</td>\n      <td>/Users/chris/GitHub/course-files/Geom2021/01-I...</td>\n    </tr>\n    <tr>\n      <th>13</th>\n      <td>1-7Exam-corrections.tex</td>\n      <td>01-Intro</td>\n      <td>/Users/chris/GitHub/course-files/Geom2021/01-I...</td>\n    </tr>\n    <tr>\n      <th>14</th>\n      <td>1-7Exam-spicy.tex</td>\n      <td>01-Intro</td>\n      <td>/Users/chris/GitHub/course-files/Geom2021/01-I...</td>\n    </tr>\n    <tr>\n      <th>15</th>\n      <td>1-7HW_Calculations.tex</td>\n      <td>01-Intro</td>\n      <td>/Users/chris/GitHub/course-files/Geom2021/01-I...</td>\n    </tr>\n    <tr>\n      <th>16</th>\n      <td>2-1DN_Exam-review.tex</td>\n      <td>02-Midpoint+distance</td>\n      <td>/Users/chris/GitHub/course-files/Geom2021/02-M...</td>\n    </tr>\n    <tr>\n      <th>17</th>\n      <td>2-2HW_Midpoint-calcs.tex</td>\n      <td>02-Midpoint+distance</td>\n      <td>/Users/chris/GitHub/course-files/Geom2021/02-M...</td>\n    </tr>\n    <tr>\n      <th>18</th>\n      <td>2-3DN_Midpoint+rectangles.tex</td>\n      <td>02-Midpoint+distance</td>\n      <td>/Users/chris/GitHub/course-files/Geom2021/02-M...</td>\n    </tr>\n    <tr>\n      <th>19</th>\n      <td>2-3HW_Triangle-area.tex</td>\n      <td>02-Midpoint+distance</td>\n      <td>/Users/chris/GitHub/course-files/Geom2021/02-M...</td>\n    </tr>\n    <tr>\n      <th>20</th>\n      <td>2-4DN_Triangle-area.tex</td>\n      <td>02-Midpoint+distance</td>\n      <td>/Users/chris/GitHub/course-files/Geom2021/02-M...</td>\n    </tr>\n    <tr>\n      <th>21</th>\n      <td>2-4HW_Parameter-solving.tex</td>\n      <td>02-Midpoint+distance</td>\n      <td>/Users/chris/GitHub/course-files/Geom2021/02-M...</td>\n    </tr>\n    <tr>\n      <th>22</th>\n      <td>2-5DNQ_Segments+area.tex</td>\n      <td>02-Midpoint+distance</td>\n      <td>/Users/chris/GitHub/course-files/Geom2021/02-M...</td>\n    </tr>\n    <tr>\n      <th>23</th>\n      <td>2-5HW_Perimeter.tex</td>\n      <td>02-Midpoint+distance</td>\n      <td>/Users/chris/GitHub/course-files/Geom2021/02-M...</td>\n    </tr>\n    <tr>\n      <th>24</th>\n      <td>2-6DN_Distance+Perimeter.tex</td>\n      <td>02-Midpoint+distance</td>\n      <td>/Users/chris/GitHub/course-files/Geom2021/02-M...</td>\n    </tr>\n    <tr>\n      <th>25</th>\n      <td>2-6HW_Compound-shapes.tex</td>\n      <td>02-Midpoint+distance</td>\n      <td>/Users/chris/GitHub/course-files/Geom2021/02-M...</td>\n    </tr>\n    <tr>\n      <th>26</th>\n      <td>2-7CW_Modeling.tex</td>\n      <td>02-Midpoint+distance</td>\n      <td>/Users/chris/GitHub/course-files/Geom2021/02-M...</td>\n    </tr>\n    <tr>\n      <th>27</th>\n      <td>2-7DNRQ_Segments+area.tex</td>\n      <td>02-Midpoint+distance</td>\n      <td>/Users/chris/GitHub/course-files/Geom2021/02-M...</td>\n    </tr>\n    <tr>\n      <th>28</th>\n      <td>2-7DN_Compound-areas+perimeters.tex</td>\n      <td>02-Midpoint+distance</td>\n      <td>/Users/chris/GitHub/course-files/Geom2021/02-M...</td>\n    </tr>\n    <tr>\n      <th>29</th>\n      <td>2-7Pretest_areas+numberlines.tex</td>\n      <td>02-Midpoint+distance</td>\n      <td>/Users/chris/GitHub/course-files/Geom2021/02-M...</td>\n    </tr>\n    <tr>\n      <th>30</th>\n      <td>2-8DN_Constructions.tex</td>\n      <td>02-Midpoint+distance</td>\n      <td>/Users/chris/GitHub/course-files/Geom2021/02-M...</td>\n    </tr>\n    <tr>\n      <th>31</th>\n      <td>2-8HW_Parameter-solving.tex</td>\n      <td>02-Midpoint+distance</td>\n      <td>/Users/chris/GitHub/course-files/Geom2021/02-M...</td>\n    </tr>\n    <tr>\n      <th>32</th>\n      <td>2-9Exam_area-distance.tex</td>\n      <td>02-Midpoint+distance</td>\n      <td>/Users/chris/GitHub/course-files/Geom2021/02-M...</td>\n    </tr>\n    <tr>\n      <th>33</th>\n      <td>2-9HW_Calculations.tex</td>\n      <td>02-Midpoint+distance</td>\n      <td>/Users/chris/GitHub/course-files/Geom2021/02-M...</td>\n    </tr>\n  </tbody>\n</table>\n</div>"
     },
     "metadata": {},
     "execution_count": 14
    }
   ],
   "source": [
    "build_pset_df_tex(pset_df[:34], problem_df)"
   ]
  },
  {
   "cell_type": "code",
   "execution_count": 15,
   "metadata": {},
   "outputs": [],
   "source": [
    "build_pset_df_pdf(pset_df[:34], problem_df)"
   ]
  },
  {
   "cell_type": "code",
   "execution_count": 32,
   "metadata": {
    "tags": []
   },
   "outputs": [
    {
     "output_type": "execute_result",
     "data": {
      "text/plain": "            problem_set_ID                                           question  \\\nproblem_ID                                                                      \n2184                   153  A transformation is applied to a triangle, $\\t...   \n2185                   153  Determine and state the transformation mapping...   \n2186                   153  First reflect the trapezoid $BECA$ across the ...   \n2187                   153                                         \\newpage\\n   \n2188                   153  Two transformations have been applied to a tri...   \n2189                   153  The quadrilateral $ROCK$ undergoes two transfo...   \n2197                   155  Given $\\triangle ABC$ and $\\triangle EFG$ with...   \n2198                   155  Two parallel lines intersect a transversal,  $...   \n2199                   155                                         \\newpage\\n   \n2200                   155  Given $\\triangle ABC$ and $\\triangle EFG$ with...   \n2201                   155  Given $\\triangle ABP$ and $\\triangle JKP$ with...   \n2202                   155                                         \\newpage\\n   \n2203                   155  List of theorem/situations for $\\triangle \\con...   \n\n                                       filename  q_len  \nproblem_ID                                              \n2184                     9-3bDN_Composition.tex   1104  \n2185                     9-3bDN_Composition.tex    674  \n2186                     9-3bDN_Composition.tex    577  \n2187                     9-3bDN_Composition.tex      9  \n2188                     9-3bDN_Composition.tex    948  \n2189                     9-3bDN_Composition.tex    905  \n2197        9-4CW_Triangle-congruence-proof.tex   1297  \n2198        9-4CW_Triangle-congruence-proof.tex   1858  \n2199        9-4CW_Triangle-congruence-proof.tex      9  \n2200        9-4CW_Triangle-congruence-proof.tex   1279  \n2201        9-4CW_Triangle-congruence-proof.tex   1110  \n2202        9-4CW_Triangle-congruence-proof.tex      9  \n2203        9-4CW_Triangle-congruence-proof.tex    423  ",
      "text/html": "<div>\n<style scoped>\n    .dataframe tbody tr th:only-of-type {\n        vertical-align: middle;\n    }\n\n    .dataframe tbody tr th {\n        vertical-align: top;\n    }\n\n    .dataframe thead th {\n        text-align: right;\n    }\n</style>\n<table border=\"1\" class=\"dataframe\">\n  <thead>\n    <tr style=\"text-align: right;\">\n      <th></th>\n      <th>problem_set_ID</th>\n      <th>question</th>\n      <th>filename</th>\n      <th>q_len</th>\n    </tr>\n    <tr>\n      <th>problem_ID</th>\n      <th></th>\n      <th></th>\n      <th></th>\n      <th></th>\n    </tr>\n  </thead>\n  <tbody>\n    <tr>\n      <th>2184</th>\n      <td>153</td>\n      <td>A transformation is applied to a triangle, $\\t...</td>\n      <td>9-3bDN_Composition.tex</td>\n      <td>1104</td>\n    </tr>\n    <tr>\n      <th>2185</th>\n      <td>153</td>\n      <td>Determine and state the transformation mapping...</td>\n      <td>9-3bDN_Composition.tex</td>\n      <td>674</td>\n    </tr>\n    <tr>\n      <th>2186</th>\n      <td>153</td>\n      <td>First reflect the trapezoid $BECA$ across the ...</td>\n      <td>9-3bDN_Composition.tex</td>\n      <td>577</td>\n    </tr>\n    <tr>\n      <th>2187</th>\n      <td>153</td>\n      <td>\\newpage\\n</td>\n      <td>9-3bDN_Composition.tex</td>\n      <td>9</td>\n    </tr>\n    <tr>\n      <th>2188</th>\n      <td>153</td>\n      <td>Two transformations have been applied to a tri...</td>\n      <td>9-3bDN_Composition.tex</td>\n      <td>948</td>\n    </tr>\n    <tr>\n      <th>2189</th>\n      <td>153</td>\n      <td>The quadrilateral $ROCK$ undergoes two transfo...</td>\n      <td>9-3bDN_Composition.tex</td>\n      <td>905</td>\n    </tr>\n    <tr>\n      <th>2197</th>\n      <td>155</td>\n      <td>Given $\\triangle ABC$ and $\\triangle EFG$ with...</td>\n      <td>9-4CW_Triangle-congruence-proof.tex</td>\n      <td>1297</td>\n    </tr>\n    <tr>\n      <th>2198</th>\n      <td>155</td>\n      <td>Two parallel lines intersect a transversal,  $...</td>\n      <td>9-4CW_Triangle-congruence-proof.tex</td>\n      <td>1858</td>\n    </tr>\n    <tr>\n      <th>2199</th>\n      <td>155</td>\n      <td>\\newpage\\n</td>\n      <td>9-4CW_Triangle-congruence-proof.tex</td>\n      <td>9</td>\n    </tr>\n    <tr>\n      <th>2200</th>\n      <td>155</td>\n      <td>Given $\\triangle ABC$ and $\\triangle EFG$ with...</td>\n      <td>9-4CW_Triangle-congruence-proof.tex</td>\n      <td>1279</td>\n    </tr>\n    <tr>\n      <th>2201</th>\n      <td>155</td>\n      <td>Given $\\triangle ABP$ and $\\triangle JKP$ with...</td>\n      <td>9-4CW_Triangle-congruence-proof.tex</td>\n      <td>1110</td>\n    </tr>\n    <tr>\n      <th>2202</th>\n      <td>155</td>\n      <td>\\newpage\\n</td>\n      <td>9-4CW_Triangle-congruence-proof.tex</td>\n      <td>9</td>\n    </tr>\n    <tr>\n      <th>2203</th>\n      <td>155</td>\n      <td>List of theorem/situations for $\\triangle \\con...</td>\n      <td>9-4CW_Triangle-congruence-proof.tex</td>\n      <td>423</td>\n    </tr>\n  </tbody>\n</table>\n</div>"
     },
     "metadata": {},
     "execution_count": 32
    }
   ],
   "source": [
    "problem_df[problem_df.problem_set_ID.apply(lambda x: x in [153, 155])].sort_index()"
   ]
  },
  {
   "cell_type": "code",
   "execution_count": 15,
   "metadata": {
    "tags": []
   },
   "outputs": [
    {
     "output_type": "stream",
     "name": "stdout",
     "text": "A cardboard mailing carton is $10 \\frac{1}{2}$ inches long, 7 inches wide, and $1 \\frac{1}{2}$ inches tall. Find the volume of the box. Show the calculation.\n  \\begin{flushright}\n    \\begin{tikzpicture}[scale=1]\n      \\draw [-, thick] (0,0)--(7,0)--(7,1)--(0,1)--cycle;\n      \\draw [-, thick] (0,1)--(0.5,2.5)--(7.5,2.5)--(7,1);\n      \\draw [-, thick] (7,0)--(7.5,1.5)--(7.5,2.5);\n      \\node at (7.8, 2){$1 \\frac{1}{2}$};\n      \\node at (3.5, -0.35){$10 \\frac{1}{2}$};\n      \\node at (7.6, 0.8){$7$};\n    \\end{tikzpicture}\n    \\end{flushright} \\vspace{2cm}\n\n\n A cardboard mailing carton is $12 \\frac{1}{2}$ inches long, 9 inches wide, and $1 \\frac{1}{2}$ inches tall. Find the volume of the box. Show the calculation.\n  \\begin{flushright}\n    \\begin{tikzpicture}[scale=1]\n      \\draw [-, thick] (0,0)--(7,0)--(7,1)--(0,1)--cycle;\n      \\draw [-, thick] (0,1)--(0.5,2.5)--(7.5,2.5)--(7,1);\n      \\draw [-, thick] (7,0)--(7.5,1.5)--(7.5,2.5);\n      \\node at (7.8, 2){$1 \\frac{1}{2}$};\n      \\node at (3.5, -0.35){$12 \\frac{1}{2}$};\n      \\node at (7.6, 0.8){$9$};\n    \\end{tikzpicture}\n    \\end{flushright} \\vspace{2cm}\n\n\n"
    }
   ],
   "source": [
    "# DUPES\n",
    "print(problem_df.loc[667, 'question'])\n",
    "print(problem_df.loc[512, 'question'])\n",
    "#problem_df[problem_df.kind == 'question'].sort_values('question').head(30)\n",
    "#problem_df.groupby('question').filename.count().sort_values(ascending = False)"
   ]
  },
  {
   "cell_type": "markdown",
   "metadata": {},
   "source": [
    "## Reinitialize dfs from course files"
   ]
  },
  {
   "cell_type": "code",
   "execution_count": 4,
   "metadata": {
    "tags": []
   },
   "outputs": [
    {
     "output_type": "stream",
     "name": "stdout",
     "text": "dict len, type:  13 <class 'dict'> \n df len:  208 \n\n"
    },
    {
     "output_type": "execute_result",
     "data": {
      "text/plain": "array(['01-Intro', '02-Midpoint+distance', '03-Volume+angle-bisectors',\n       '04-Transversals', '05-Transformations', '06-Analytic-geometry',\n       '07-Similarity', '08-Area+volume', '09-Congruence-transformations',\n       '10-Trig+similarity+analytics', '11-Algebra2-intro', 'Slides',\n       'Trajectories'], dtype=object)"
     },
     "metadata": {},
     "execution_count": 4
    }
   ],
   "source": [
    "course_files, course_file_df = map_course_files(course_dir='/Users/chris/GitHub/course-files/Geom')\n",
    "print('dict len, type: ', len(course_files), type(course_files), '\\n df len: ', len(course_file_df), '\\n')\n",
    "course_file_df.unit.unique()"
   ]
  },
  {
   "cell_type": "code",
   "execution_count": 5,
   "metadata": {},
   "outputs": [],
   "source": [
    "drop_units = ['11-Algebra2-intro', 'Slides', 'Trajectories']\n",
    "for unit in drop_units:\n",
    "    course_file_df.drop(course_file_df[course_file_df.unit == unit].index, inplace=True)\n",
    "#course_file_df"
   ]
  },
  {
   "cell_type": "code",
   "execution_count": 4,
   "metadata": {
    "tags": []
   },
   "outputs": [
    {
     "output_type": "stream",
     "name": "stdout",
     "text": "course_file_df:  172 None Index(['unit', 'file_count', 'filename'], dtype='object')\n"
    },
    {
     "output_type": "execute_result",
     "data": {
      "text/plain": "       unit  file_count                   filename\n0  01-Intro          16      1-1CW_Measurement.tex\n1  01-Intro          16  1-1DNQ_Distance+slope.tex",
      "text/html": "<div>\n<style scoped>\n    .dataframe tbody tr th:only-of-type {\n        vertical-align: middle;\n    }\n\n    .dataframe tbody tr th {\n        vertical-align: top;\n    }\n\n    .dataframe thead th {\n        text-align: right;\n    }\n</style>\n<table border=\"1\" class=\"dataframe\">\n  <thead>\n    <tr style=\"text-align: right;\">\n      <th></th>\n      <th>unit</th>\n      <th>file_count</th>\n      <th>filename</th>\n    </tr>\n  </thead>\n  <tbody>\n    <tr>\n      <th>0</th>\n      <td>01-Intro</td>\n      <td>16</td>\n      <td>1-1CW_Measurement.tex</td>\n    </tr>\n    <tr>\n      <th>1</th>\n      <td>01-Intro</td>\n      <td>16</td>\n      <td>1-1DNQ_Distance+slope.tex</td>\n    </tr>\n  </tbody>\n</table>\n</div>"
     },
     "metadata": {},
     "execution_count": 4
    }
   ],
   "source": [
    "# Initialize for testing\n",
    "course_file_df = pd.read_csv('/Users/chris/GitHub/mathai/db/course_file_df.csv', index_col=0)\n",
    "print('course_file_df: ', len(course_file_df), course_file_df.index.name, course_file_df.columns)\n",
    "course_file_df.head(2)"
   ]
  },
  {
   "cell_type": "code",
   "execution_count": 5,
   "metadata": {},
   "outputs": [
    {
     "output_type": "execute_result",
     "data": {
      "text/plain": "                    unit                   filename  problem_count  \\\nproblem_set_ID                                                       \n0               01-Intro      1-1CW_Measurement.tex              8   \n1               01-Intro  1-1DNQ_Distance+slope.tex              4   \n\n                             problem_IDs  \\\nproblem_set_ID                             \n0               [0, 1, 2, 3, 4, 5, 6, 7]   \n1                         [8, 9, 10, 11]   \n\n                                                    problems_list  \\\nproblem_set_ID                                                      \n0               [Given the line segment $\\overline{PQ}$ shown ...   \n1               [Write down the slope and $y$-intercept of eac...   \n\n                                                     problem_kind  \\\nproblem_set_ID                                                      \n0               [question, newpage, question, newpage, questio...   \n1                         [question, question, newpage, question]   \n\n                                                             head  \\\nproblem_set_ID                                                      \n0               [\\begin{document}\\n, \\subsubsection*{1-1 Class...   \n1               [\\begin{document}\\n, \\subsubsection*{0.1 Quiz:...   \n\n                                                             body  \nproblem_set_ID                                                     \n0               [\\n,   \\item Given the line segment $\\overline...  \n1               [\\n,   \\item Write down the slope and $y$-inte...  ",
      "text/html": "<div>\n<style scoped>\n    .dataframe tbody tr th:only-of-type {\n        vertical-align: middle;\n    }\n\n    .dataframe tbody tr th {\n        vertical-align: top;\n    }\n\n    .dataframe thead th {\n        text-align: right;\n    }\n</style>\n<table border=\"1\" class=\"dataframe\">\n  <thead>\n    <tr style=\"text-align: right;\">\n      <th></th>\n      <th>unit</th>\n      <th>filename</th>\n      <th>problem_count</th>\n      <th>problem_IDs</th>\n      <th>problems_list</th>\n      <th>problem_kind</th>\n      <th>head</th>\n      <th>body</th>\n    </tr>\n    <tr>\n      <th>problem_set_ID</th>\n      <th></th>\n      <th></th>\n      <th></th>\n      <th></th>\n      <th></th>\n      <th></th>\n      <th></th>\n      <th></th>\n    </tr>\n  </thead>\n  <tbody>\n    <tr>\n      <th>0</th>\n      <td>01-Intro</td>\n      <td>1-1CW_Measurement.tex</td>\n      <td>8</td>\n      <td>[0, 1, 2, 3, 4, 5, 6, 7]</td>\n      <td>[Given the line segment $\\overline{PQ}$ shown ...</td>\n      <td>[question, newpage, question, newpage, questio...</td>\n      <td>[\\begin{document}\\n, \\subsubsection*{1-1 Class...</td>\n      <td>[\\n,   \\item Given the line segment $\\overline...</td>\n    </tr>\n    <tr>\n      <th>1</th>\n      <td>01-Intro</td>\n      <td>1-1DNQ_Distance+slope.tex</td>\n      <td>4</td>\n      <td>[8, 9, 10, 11]</td>\n      <td>[Write down the slope and $y$-intercept of eac...</td>\n      <td>[question, question, newpage, question]</td>\n      <td>[\\begin{document}\\n, \\subsubsection*{0.1 Quiz:...</td>\n      <td>[\\n,   \\item Write down the slope and $y$-inte...</td>\n    </tr>\n  </tbody>\n</table>\n</div>"
     },
     "metadata": {},
     "execution_count": 5
    }
   ],
   "source": [
    "pset_df, problem_df = parse_course_files(course_file_df, course_dir='/Users/chris/GitHub/course-files/Geom')\n",
    "pset_df.head(2)"
   ]
  },
  {
   "cell_type": "code",
   "execution_count": 10,
   "metadata": {
    "tags": []
   },
   "outputs": [
    {
     "output_type": "stream",
     "name": "stdout",
     "text": "pset_df:  172 problem_set_ID Index(['unit', 'filename', 'problem_count', 'problem_IDs', 'problems_list',\n       'problem_kind', 'head', 'body'],\n      dtype='object')\n\nproblem_df:  2443 problem_ID Index(['problem_set_ID', 'question', 'kind', 'filename', 'q_len'], dtype='object')\n"
    }
   ],
   "source": [
    "print('pset_df: ', len(pset_df), pset_df.index.name, pset_df.columns)\n",
    "print('\\nproblem_df: ', len(problem_df), problem_df.index.name, problem_df.columns)"
   ]
  },
  {
   "cell_type": "code",
   "execution_count": 11,
   "metadata": {
    "tags": []
   },
   "outputs": [
    {
     "output_type": "stream",
     "name": "stdout",
     "text": "pset_df2:  172 problem_set_ID Index(['unit', 'filename', 'problem_count', 'problems_list', 'problem_kind',\n       'head', 'body', 'problem_IDs'],\n      dtype='object')\n\nproblem_df2:  2443 problem_ID Index(['problem_set_ID', 'question', 'filename', 'q_len'], dtype='object')\n"
    }
   ],
   "source": [
    "print('pset_df2: ', len(pset_df2), pset_df2.index.name, pset_df2.columns)\n",
    "print('\\nproblem_df2: ', len(problem_df2), problem_df2.index.name, problem_df2.columns)"
   ]
  },
  {
   "cell_type": "code",
   "execution_count": 8,
   "metadata": {},
   "outputs": [],
   "source": [
    "problem_df.sort_values('q_len', inplace=True)"
   ]
  },
  {
   "cell_type": "code",
   "execution_count": 9,
   "metadata": {},
   "outputs": [
    {
     "output_type": "execute_result",
     "data": {
      "text/plain": "True"
     },
     "metadata": {},
     "execution_count": 9
    }
   ],
   "source": [
    "all(problem_df[['problem_set_ID', 'question', 'filename', 'q_len']] == problem_df2[['problem_set_ID', 'question', 'filename', 'q_len']])"
   ]
  },
  {
   "cell_type": "markdown",
   "metadata": {},
   "source": [
    "## Parse small subsets of course"
   ]
  },
  {
   "cell_type": "code",
   "execution_count": 74,
   "metadata": {},
   "outputs": [
    {
     "output_type": "execute_result",
     "data": {
      "text/plain": "       unit  file_count                       filename\n0  01-Intro           6  1-3DN_Function-intercepts.tex",
      "text/html": "<div>\n<style scoped>\n    .dataframe tbody tr th:only-of-type {\n        vertical-align: middle;\n    }\n\n    .dataframe tbody tr th {\n        vertical-align: top;\n    }\n\n    .dataframe thead th {\n        text-align: right;\n    }\n</style>\n<table border=\"1\" class=\"dataframe\">\n  <thead>\n    <tr style=\"text-align: right;\">\n      <th></th>\n      <th>unit</th>\n      <th>file_count</th>\n      <th>filename</th>\n    </tr>\n  </thead>\n  <tbody>\n    <tr>\n      <th>0</th>\n      <td>01-Intro</td>\n      <td>6</td>\n      <td>1-3DN_Function-intercepts.tex</td>\n    </tr>\n  </tbody>\n</table>\n</div>"
     },
     "metadata": {},
     "execution_count": 74
    }
   ],
   "source": [
    "course_file_df = pd.DataFrame({\"unit\":['01-Intro'], \"file_count\":[6], \"filename\":['1-3DN_Function-intercepts.tex']})\n",
    "course_file_df"
   ]
  },
  {
   "cell_type": "code",
   "execution_count": 75,
   "metadata": {
    "tags": []
   },
   "outputs": [],
   "source": [
    "#pset_df[pset_df.file.str.startswith('1-3DN')]\n",
    "pset_1_3DN_df = parse_course_files(course_file_df, course_dir='/Users/chris/GitHub/course-files/Geom')"
   ]
  },
  {
   "source": [
    "# Standards"
   ],
   "cell_type": "markdown",
   "metadata": {}
  },
  {
   "cell_type": "code",
   "execution_count": 19,
   "metadata": {},
   "outputs": [
    {
     "output_type": "execute_result",
     "data": {
      "text/plain": "'Use proportional relationships to solve multistep ratio and percent problems. Examples: simple interest, tax, markups and markdowns, gratuities and commissions, fees, percent increase and decrease, percent error.'"
     },
     "metadata": {},
     "execution_count": 19
    }
   ],
   "source": [
    "standards_desc_df.description.iloc[2]"
   ]
  },
  {
   "cell_type": "markdown",
   "metadata": {},
   "source": [
    "## Review problems"
   ]
  },
  {
   "cell_type": "code",
   "execution_count": 4,
   "metadata": {},
   "outputs": [
    {
     "output_type": "execute_result",
     "data": {
      "text/plain": "array(['01-Intro', '02-Midpoint+distance', '03-Volume+angle-bisectors',\n       '04-Transversals', '05-Transformations', '06-Analytic-geometry',\n       '07-Similarity', '08-Area+volume', '09-Congruence-transformations',\n       '10-Trig+similarity+analytics'], dtype=object)"
     },
     "metadata": {},
     "execution_count": 4
    }
   ],
   "source": [
    "pset_df.unit.unique()"
   ]
  },
  {
   "cell_type": "code",
   "execution_count": 5,
   "metadata": {},
   "outputs": [
    {
     "output_type": "execute_result",
     "data": {
      "text/plain": "                               filename  problem_count  problem_IDs  \\\nunit                                                                  \n01-Intro                             16             16           16   \n02-Midpoint+distance                 18             18           18   \n03-Volume+angle-bisectors            12             12           12   \n04-Transversals                       8              8            8   \n05-Transformations                   18             18           18   \n06-Analytic-geometry                 25             25           25   \n07-Similarity                        27             27           27   \n08-Area+volume                       23             23           23   \n09-Congruence-transformations        18             18           18   \n10-Trig+similarity+analytics          7              7            7   \n\n                               problems_list  problem_kind  head  body  \nunit                                                                    \n01-Intro                                  16            16    16    16  \n02-Midpoint+distance                      18            18    18    18  \n03-Volume+angle-bisectors                 12            12    12    12  \n04-Transversals                            8             8     8     8  \n05-Transformations                        18            18    18    18  \n06-Analytic-geometry                      25            25    25    25  \n07-Similarity                             27            27    27    27  \n08-Area+volume                            23            23    23    23  \n09-Congruence-transformations             18            18    18    18  \n10-Trig+similarity+analytics               7             7     7     7  ",
      "text/html": "<div>\n<style scoped>\n    .dataframe tbody tr th:only-of-type {\n        vertical-align: middle;\n    }\n\n    .dataframe tbody tr th {\n        vertical-align: top;\n    }\n\n    .dataframe thead th {\n        text-align: right;\n    }\n</style>\n<table border=\"1\" class=\"dataframe\">\n  <thead>\n    <tr style=\"text-align: right;\">\n      <th></th>\n      <th>filename</th>\n      <th>problem_count</th>\n      <th>problem_IDs</th>\n      <th>problems_list</th>\n      <th>problem_kind</th>\n      <th>head</th>\n      <th>body</th>\n    </tr>\n    <tr>\n      <th>unit</th>\n      <th></th>\n      <th></th>\n      <th></th>\n      <th></th>\n      <th></th>\n      <th></th>\n      <th></th>\n    </tr>\n  </thead>\n  <tbody>\n    <tr>\n      <th>01-Intro</th>\n      <td>16</td>\n      <td>16</td>\n      <td>16</td>\n      <td>16</td>\n      <td>16</td>\n      <td>16</td>\n      <td>16</td>\n    </tr>\n    <tr>\n      <th>02-Midpoint+distance</th>\n      <td>18</td>\n      <td>18</td>\n      <td>18</td>\n      <td>18</td>\n      <td>18</td>\n      <td>18</td>\n      <td>18</td>\n    </tr>\n    <tr>\n      <th>03-Volume+angle-bisectors</th>\n      <td>12</td>\n      <td>12</td>\n      <td>12</td>\n      <td>12</td>\n      <td>12</td>\n      <td>12</td>\n      <td>12</td>\n    </tr>\n    <tr>\n      <th>04-Transversals</th>\n      <td>8</td>\n      <td>8</td>\n      <td>8</td>\n      <td>8</td>\n      <td>8</td>\n      <td>8</td>\n      <td>8</td>\n    </tr>\n    <tr>\n      <th>05-Transformations</th>\n      <td>18</td>\n      <td>18</td>\n      <td>18</td>\n      <td>18</td>\n      <td>18</td>\n      <td>18</td>\n      <td>18</td>\n    </tr>\n    <tr>\n      <th>06-Analytic-geometry</th>\n      <td>25</td>\n      <td>25</td>\n      <td>25</td>\n      <td>25</td>\n      <td>25</td>\n      <td>25</td>\n      <td>25</td>\n    </tr>\n    <tr>\n      <th>07-Similarity</th>\n      <td>27</td>\n      <td>27</td>\n      <td>27</td>\n      <td>27</td>\n      <td>27</td>\n      <td>27</td>\n      <td>27</td>\n    </tr>\n    <tr>\n      <th>08-Area+volume</th>\n      <td>23</td>\n      <td>23</td>\n      <td>23</td>\n      <td>23</td>\n      <td>23</td>\n      <td>23</td>\n      <td>23</td>\n    </tr>\n    <tr>\n      <th>09-Congruence-transformations</th>\n      <td>18</td>\n      <td>18</td>\n      <td>18</td>\n      <td>18</td>\n      <td>18</td>\n      <td>18</td>\n      <td>18</td>\n    </tr>\n    <tr>\n      <th>10-Trig+similarity+analytics</th>\n      <td>7</td>\n      <td>7</td>\n      <td>7</td>\n      <td>7</td>\n      <td>7</td>\n      <td>7</td>\n      <td>7</td>\n    </tr>\n  </tbody>\n</table>\n</div>"
     },
     "metadata": {},
     "execution_count": 5
    }
   ],
   "source": [
    "pset_df.groupby('unit').count()"
   ]
  },
  {
   "cell_type": "code",
   "execution_count": 33,
   "metadata": {},
   "outputs": [
    {
     "output_type": "execute_result",
     "data": {
      "text/plain": "                                unit                          filename  \\\nproblem_set_ID                                                           \n0                           01-Intro             1-1CW_Measurement.tex   \n1                           01-Intro         1-1DNQ_Distance+slope.tex   \n2                           01-Intro                 1-1DN_Algebra.tex   \n3                           01-Intro                 1-1HW_Algebra.tex   \n4                           01-Intro     1-3DN_Function-intercepts.tex   \n5                           01-Intro    1-3HW_Equilateral-triangle.tex   \n6                           01-Intro                   1-4HW-Intro.tex   \n7                           01-Intro        1-4HW_Segment-addition.tex   \n8                           01-Intro       1-5CW_Angle-terminology.tex   \n9                           01-Intro  1-5HW_Pretest-segments-intro.tex   \n10                          01-Intro             1-6DN_Angle-pairs.tex   \n11                          01-Intro             1-6HW_Angle-pairs.tex   \n12                          01-Intro                 1-7Exam-Intro.tex   \n13                          01-Intro           1-7Exam-corrections.tex   \n14                          01-Intro                 1-7Exam-spicy.tex   \n15                          01-Intro            1-7HW_Calculations.tex   \n16              02-Midpoint+distance             2-1DN_Exam-review.tex   \n17              02-Midpoint+distance          2-2HW_Midpoint-calcs.tex   \n18              02-Midpoint+distance     2-3DN_Midpoint+rectangles.tex   \n19              02-Midpoint+distance           2-3HW_Triangle-area.tex   \n\n                problem_count  \\\nproblem_set_ID                  \n0                           8   \n1                           4   \n2                           7   \n3                           8   \n4                           6   \n5                          11   \n6                         115   \n7                          11   \n8                           8   \n9                          17   \n10                          6   \n11                          6   \n12                         25   \n13                         23   \n14                          7   \n15                          8   \n16                          1   \n17                          5   \n18                          7   \n19                          7   \n\n                                                    problems_list  \\\nproblem_set_ID                                                      \n0               [Given the line segment $\\overline{PQ}$ shown ...   \n1               [Write down the slope and $y$-intercept of eac...   \n2               [In the following two problems, solve for the ...   \n3               [In the following two problems, solve for the ...   \n4               [I have a compass, ruler, protractor, notebook...   \n5               [Construct an equilateral triangle with $\\over...   \n6               [The points where a line segment begins and en...   \n7               [I have a compass, ruler, protractor, notebook...   \n8               [I have a compass, ruler, protractor, notebook...   \n9               [Points that are all located on the same line ...   \n10              [Complete the construction of an equilateral t...   \n11              [Points that are all located on the same line ...   \n12              [I have a calculator. (circle one). Yes \\qquad...   \n13              [Points that are all located on the same line ...   \n14              [Given $\\overline{ABC}$, $AB=4$, and $AC=25$.\\...   \n15              [Given $\\overline{ABC}$, $AB=84$, and $AC=116$...   \n16              [Complete the construction of an equilateral t...   \n17              [Complete the construction of a perpendicular ...   \n18              [Given $\\overleftrightarrow{TC}$ as shown on t...   \n19              [Find the area of $\\triangle ABC$,  $Area= \\fr...   \n\n                                                     problem_kind  \\\nproblem_set_ID                                                      \n0               [question, newpage, question, newpage, questio...   \n1                         [question, question, newpage, question]   \n2               [question, question, question, question, newpa...   \n3               [question, question, question, question, quest...   \n4               [question, question, question, newpage, questi...   \n5               [question, question, newpage, question, questi...   \n6               [question, question, question, question, quest...   \n7               [question, question, question, question, quest...   \n8               [question, question, question, question, quest...   \n9               [question, question, question, question, quest...   \n10              [question, newpage, question, question, questi...   \n11              [question, question, question, newpage, questi...   \n12              [question, question, question, newpage, questi...   \n13              [question, question, question, question, quest...   \n14              [question, question, question, newpage, questi...   \n15              [question, question, question, question, newpa...   \n16                                                     [question]   \n17              [question, newpage, question, question, question]   \n18              [question, question, question, newpage, questi...   \n19              [question, question, question, newpage, questi...   \n\n                                                             head  \\\nproblem_set_ID                                                      \n0               [\\begin{document}\\n, \\subsubsection*{1-1 Class...   \n1               [\\begin{document}\\n, \\subsubsection*{0.1 Quiz:...   \n2               [\\begin{document}\\n, \\subsubsection*{1-1 Do No...   \n3               [\\begin{document}\\n, \\subsubsection*{1-1 Homew...   \n4               [\\begin{document}\\n, \\subsubsection*{1-3 Do No...   \n5               [\\begin{document}\\n, \\subsubsection*{Homework ...   \n6               [\\begin{document}\\n, \\subsubsection*{Quiz Corr...   \n7               [\\begin{document}\\n, \\subsubsection*{Homework ...   \n8               [\\begin{document}\\n, \\subsubsection*{Classwork...   \n9               [\\begin{document}\\n, \\subsubsection*{1-8 Homew...   \n10              [\\begin{document}\\n, \\subsubsection*{1.6 Do No...   \n11              [\\begin{document}\\n, \\subsubsection*{1.6 Homew...   \n12              [\\begin{document}\\n,   \\subsubsection*{1.7 Exa...   \n13              [\\begin{document}\\n,   \\subsubsection*{2.1 Do ...   \n14              [\\begin{document}\\n, \\subsubsection*{1.7 Exam:...   \n15              [\\begin{document}\\n, \\subsubsection*{1.7 Homew...   \n16              [\\begin{document}\\n,   \\subsubsection*{2.1 Do ...   \n17              [\\begin{document}\\n,   \\subsubsection*{2.2 Hom...   \n18              [\\begin{document}\\n,   \\subsubsection*{2.3 Do ...   \n19              [\\begin{document}\\n,   \\subsubsection*{2.3 Hom...   \n\n                                                             body  \\\nproblem_set_ID                                                      \n0               [\\n,   \\item Given the line segment $\\overline...   \n1               [\\n,   \\item Write down the slope and $y$-inte...   \n2               [\\n, \\n,   \\item In the following two problems...   \n3               [\\n, \\n,   \\item In the following two problems...   \n4               [  \\item I have a compass, ruler, protractor, ...   \n5               [\\n,     \\item Construct an equilateral triang...   \n6               [  \\item The points where a line segment begin...   \n7               [    \\item I have a compass, ruler, protractor...   \n8               [    \\item I have a compass, ruler, protractor...   \n9               [  \\item Points that are all located on the sa...   \n10              [\\n,   \\item Complete the construction of an e...   \n11              [\\n,   \\item Points that are all located on th...   \n12              [\\n,   \\item I have a calculator. (circle one)...   \n13              [  \\item Points that are all located on the sa...   \n14              [\\n,   \\item Given $\\overline{ABC}$, $AB=4$, a...   \n15              [\\n,   \\item Given $\\overline{ABC}$, $AB=84$, ...   \n16              [      \\item Complete the construction of an e...   \n17              [      \\item Complete the construction of a pe...   \n18              [\\n,     \\item Given $\\overleftrightarrow{TC}$...   \n19              [\\n, \\n,    \\item Find the area of $\\triangle ...   \n\n                                                      problem_IDs  \nproblem_set_ID                                                     \n0                                        [3, 5, 1, 6, 2, 7, 0, 4]  \n1                                                  [10, 9, 8, 11]  \n2                                    [16, 13, 15, 14, 17, 12, 18]  \n3                                [24, 20, 22, 21, 19, 23, 25, 26]  \n4                                        [30, 27, 28, 31, 29, 32]  \n5                    [35, 41, 40, 39, 36, 42, 38, 37, 33, 34, 43]  \n6               [118, 100, 106, 109, 155, 123, 145, 127, 130, ...  \n7               [166, 165, 161, 159, 167, 169, 164, 163, 168, ...  \n8                        [175, 173, 170, 172, 171, 174, 177, 176]  \n9               [192, 189, 183, 180, 178, 181, 186, 187, 194, ...  \n10                                 [196, 197, 198, 199, 195, 200]  \n11                                 [204, 201, 202, 203, 205, 206]  \n12              [228, 225, 210, 217, 222, 207, 214, 211, 215, ...  \n13              [251, 249, 239, 247, 244, 236, 235, 232, 237, ...  \n14                            [258, 261, 255, 259, 256, 260, 257]  \n15                       [266, 269, 262, 263, 264, 267, 265, 268]  \n16                                                          [270]  \n17                                      [272, 275, 274, 273, 271]  \n18                            [279, 282, 280, 278, 276, 281, 277]  \n19                            [286, 288, 285, 283, 289, 287, 284]  ",
      "text/html": "<div>\n<style scoped>\n    .dataframe tbody tr th:only-of-type {\n        vertical-align: middle;\n    }\n\n    .dataframe tbody tr th {\n        vertical-align: top;\n    }\n\n    .dataframe thead th {\n        text-align: right;\n    }\n</style>\n<table border=\"1\" class=\"dataframe\">\n  <thead>\n    <tr style=\"text-align: right;\">\n      <th></th>\n      <th>unit</th>\n      <th>filename</th>\n      <th>problem_count</th>\n      <th>problems_list</th>\n      <th>problem_kind</th>\n      <th>head</th>\n      <th>body</th>\n      <th>problem_IDs</th>\n    </tr>\n    <tr>\n      <th>problem_set_ID</th>\n      <th></th>\n      <th></th>\n      <th></th>\n      <th></th>\n      <th></th>\n      <th></th>\n      <th></th>\n      <th></th>\n    </tr>\n  </thead>\n  <tbody>\n    <tr>\n      <th>0</th>\n      <td>01-Intro</td>\n      <td>1-1CW_Measurement.tex</td>\n      <td>8</td>\n      <td>[Given the line segment $\\overline{PQ}$ shown ...</td>\n      <td>[question, newpage, question, newpage, questio...</td>\n      <td>[\\begin{document}\\n, \\subsubsection*{1-1 Class...</td>\n      <td>[\\n,   \\item Given the line segment $\\overline...</td>\n      <td>[3, 5, 1, 6, 2, 7, 0, 4]</td>\n    </tr>\n    <tr>\n      <th>1</th>\n      <td>01-Intro</td>\n      <td>1-1DNQ_Distance+slope.tex</td>\n      <td>4</td>\n      <td>[Write down the slope and $y$-intercept of eac...</td>\n      <td>[question, question, newpage, question]</td>\n      <td>[\\begin{document}\\n, \\subsubsection*{0.1 Quiz:...</td>\n      <td>[\\n,   \\item Write down the slope and $y$-inte...</td>\n      <td>[10, 9, 8, 11]</td>\n    </tr>\n    <tr>\n      <th>2</th>\n      <td>01-Intro</td>\n      <td>1-1DN_Algebra.tex</td>\n      <td>7</td>\n      <td>[In the following two problems, solve for the ...</td>\n      <td>[question, question, question, question, newpa...</td>\n      <td>[\\begin{document}\\n, \\subsubsection*{1-1 Do No...</td>\n      <td>[\\n, \\n,   \\item In the following two problems...</td>\n      <td>[16, 13, 15, 14, 17, 12, 18]</td>\n    </tr>\n    <tr>\n      <th>3</th>\n      <td>01-Intro</td>\n      <td>1-1HW_Algebra.tex</td>\n      <td>8</td>\n      <td>[In the following two problems, solve for the ...</td>\n      <td>[question, question, question, question, quest...</td>\n      <td>[\\begin{document}\\n, \\subsubsection*{1-1 Homew...</td>\n      <td>[\\n, \\n,   \\item In the following two problems...</td>\n      <td>[24, 20, 22, 21, 19, 23, 25, 26]</td>\n    </tr>\n    <tr>\n      <th>4</th>\n      <td>01-Intro</td>\n      <td>1-3DN_Function-intercepts.tex</td>\n      <td>6</td>\n      <td>[I have a compass, ruler, protractor, notebook...</td>\n      <td>[question, question, question, newpage, questi...</td>\n      <td>[\\begin{document}\\n, \\subsubsection*{1-3 Do No...</td>\n      <td>[  \\item I have a compass, ruler, protractor, ...</td>\n      <td>[30, 27, 28, 31, 29, 32]</td>\n    </tr>\n    <tr>\n      <th>5</th>\n      <td>01-Intro</td>\n      <td>1-3HW_Equilateral-triangle.tex</td>\n      <td>11</td>\n      <td>[Construct an equilateral triangle with $\\over...</td>\n      <td>[question, question, newpage, question, questi...</td>\n      <td>[\\begin{document}\\n, \\subsubsection*{Homework ...</td>\n      <td>[\\n,     \\item Construct an equilateral triang...</td>\n      <td>[35, 41, 40, 39, 36, 42, 38, 37, 33, 34, 43]</td>\n    </tr>\n    <tr>\n      <th>6</th>\n      <td>01-Intro</td>\n      <td>1-4HW-Intro.tex</td>\n      <td>115</td>\n      <td>[The points where a line segment begins and en...</td>\n      <td>[question, question, question, question, quest...</td>\n      <td>[\\begin{document}\\n, \\subsubsection*{Quiz Corr...</td>\n      <td>[  \\item The points where a line segment begin...</td>\n      <td>[118, 100, 106, 109, 155, 123, 145, 127, 130, ...</td>\n    </tr>\n    <tr>\n      <th>7</th>\n      <td>01-Intro</td>\n      <td>1-4HW_Segment-addition.tex</td>\n      <td>11</td>\n      <td>[I have a compass, ruler, protractor, notebook...</td>\n      <td>[question, question, question, question, quest...</td>\n      <td>[\\begin{document}\\n, \\subsubsection*{Homework ...</td>\n      <td>[    \\item I have a compass, ruler, protractor...</td>\n      <td>[166, 165, 161, 159, 167, 169, 164, 163, 168, ...</td>\n    </tr>\n    <tr>\n      <th>8</th>\n      <td>01-Intro</td>\n      <td>1-5CW_Angle-terminology.tex</td>\n      <td>8</td>\n      <td>[I have a compass, ruler, protractor, notebook...</td>\n      <td>[question, question, question, question, quest...</td>\n      <td>[\\begin{document}\\n, \\subsubsection*{Classwork...</td>\n      <td>[    \\item I have a compass, ruler, protractor...</td>\n      <td>[175, 173, 170, 172, 171, 174, 177, 176]</td>\n    </tr>\n    <tr>\n      <th>9</th>\n      <td>01-Intro</td>\n      <td>1-5HW_Pretest-segments-intro.tex</td>\n      <td>17</td>\n      <td>[Points that are all located on the same line ...</td>\n      <td>[question, question, question, question, quest...</td>\n      <td>[\\begin{document}\\n, \\subsubsection*{1-8 Homew...</td>\n      <td>[  \\item Points that are all located on the sa...</td>\n      <td>[192, 189, 183, 180, 178, 181, 186, 187, 194, ...</td>\n    </tr>\n    <tr>\n      <th>10</th>\n      <td>01-Intro</td>\n      <td>1-6DN_Angle-pairs.tex</td>\n      <td>6</td>\n      <td>[Complete the construction of an equilateral t...</td>\n      <td>[question, newpage, question, question, questi...</td>\n      <td>[\\begin{document}\\n, \\subsubsection*{1.6 Do No...</td>\n      <td>[\\n,   \\item Complete the construction of an e...</td>\n      <td>[196, 197, 198, 199, 195, 200]</td>\n    </tr>\n    <tr>\n      <th>11</th>\n      <td>01-Intro</td>\n      <td>1-6HW_Angle-pairs.tex</td>\n      <td>6</td>\n      <td>[Points that are all located on the same line ...</td>\n      <td>[question, question, question, newpage, questi...</td>\n      <td>[\\begin{document}\\n, \\subsubsection*{1.6 Homew...</td>\n      <td>[\\n,   \\item Points that are all located on th...</td>\n      <td>[204, 201, 202, 203, 205, 206]</td>\n    </tr>\n    <tr>\n      <th>12</th>\n      <td>01-Intro</td>\n      <td>1-7Exam-Intro.tex</td>\n      <td>25</td>\n      <td>[I have a calculator. (circle one). Yes \\qquad...</td>\n      <td>[question, question, question, newpage, questi...</td>\n      <td>[\\begin{document}\\n,   \\subsubsection*{1.7 Exa...</td>\n      <td>[\\n,   \\item I have a calculator. (circle one)...</td>\n      <td>[228, 225, 210, 217, 222, 207, 214, 211, 215, ...</td>\n    </tr>\n    <tr>\n      <th>13</th>\n      <td>01-Intro</td>\n      <td>1-7Exam-corrections.tex</td>\n      <td>23</td>\n      <td>[Points that are all located on the same line ...</td>\n      <td>[question, question, question, question, quest...</td>\n      <td>[\\begin{document}\\n,   \\subsubsection*{2.1 Do ...</td>\n      <td>[  \\item Points that are all located on the sa...</td>\n      <td>[251, 249, 239, 247, 244, 236, 235, 232, 237, ...</td>\n    </tr>\n    <tr>\n      <th>14</th>\n      <td>01-Intro</td>\n      <td>1-7Exam-spicy.tex</td>\n      <td>7</td>\n      <td>[Given $\\overline{ABC}$, $AB=4$, and $AC=25$.\\...</td>\n      <td>[question, question, question, newpage, questi...</td>\n      <td>[\\begin{document}\\n, \\subsubsection*{1.7 Exam:...</td>\n      <td>[\\n,   \\item Given $\\overline{ABC}$, $AB=4$, a...</td>\n      <td>[258, 261, 255, 259, 256, 260, 257]</td>\n    </tr>\n    <tr>\n      <th>15</th>\n      <td>01-Intro</td>\n      <td>1-7HW_Calculations.tex</td>\n      <td>8</td>\n      <td>[Given $\\overline{ABC}$, $AB=84$, and $AC=116$...</td>\n      <td>[question, question, question, question, newpa...</td>\n      <td>[\\begin{document}\\n, \\subsubsection*{1.7 Homew...</td>\n      <td>[\\n,   \\item Given $\\overline{ABC}$, $AB=84$, ...</td>\n      <td>[266, 269, 262, 263, 264, 267, 265, 268]</td>\n    </tr>\n    <tr>\n      <th>16</th>\n      <td>02-Midpoint+distance</td>\n      <td>2-1DN_Exam-review.tex</td>\n      <td>1</td>\n      <td>[Complete the construction of an equilateral t...</td>\n      <td>[question]</td>\n      <td>[\\begin{document}\\n,   \\subsubsection*{2.1 Do ...</td>\n      <td>[      \\item Complete the construction of an e...</td>\n      <td>[270]</td>\n    </tr>\n    <tr>\n      <th>17</th>\n      <td>02-Midpoint+distance</td>\n      <td>2-2HW_Midpoint-calcs.tex</td>\n      <td>5</td>\n      <td>[Complete the construction of a perpendicular ...</td>\n      <td>[question, newpage, question, question, question]</td>\n      <td>[\\begin{document}\\n,   \\subsubsection*{2.2 Hom...</td>\n      <td>[      \\item Complete the construction of a pe...</td>\n      <td>[272, 275, 274, 273, 271]</td>\n    </tr>\n    <tr>\n      <th>18</th>\n      <td>02-Midpoint+distance</td>\n      <td>2-3DN_Midpoint+rectangles.tex</td>\n      <td>7</td>\n      <td>[Given $\\overleftrightarrow{TC}$ as shown on t...</td>\n      <td>[question, question, question, newpage, questi...</td>\n      <td>[\\begin{document}\\n,   \\subsubsection*{2.3 Do ...</td>\n      <td>[\\n,     \\item Given $\\overleftrightarrow{TC}$...</td>\n      <td>[279, 282, 280, 278, 276, 281, 277]</td>\n    </tr>\n    <tr>\n      <th>19</th>\n      <td>02-Midpoint+distance</td>\n      <td>2-3HW_Triangle-area.tex</td>\n      <td>7</td>\n      <td>[Find the area of $\\triangle ABC$,  $Area= \\fr...</td>\n      <td>[question, question, question, newpage, questi...</td>\n      <td>[\\begin{document}\\n,   \\subsubsection*{2.3 Hom...</td>\n      <td>[\\n, \\n,    \\item Find the area of $\\triangle ...</td>\n      <td>[286, 288, 285, 283, 289, 287, 284]</td>\n    </tr>\n  </tbody>\n</table>\n</div>"
     },
     "metadata": {},
     "execution_count": 33
    }
   ],
   "source": [
    "pset_df.head(20)"
   ]
  },
  {
   "cell_type": "code",
   "execution_count": 12,
   "metadata": {},
   "outputs": [
    {
     "output_type": "execute_result",
     "data": {
      "text/plain": "            problem_set_ID                                           question  \\\nproblem_ID                                                                      \n432                     36      \\subsubsection*{Do Not Solve! \\\\\\n    Mode...   \n433                     36  Two lines intersect making four angles: $\\angl...   \n434                     36  Given that $m\\angle 2= 5x+30$ and $m\\angle 4=7...   \n435                     36  In the diagram below $\\angle AOB = 30^\\circ$ a...   \n436                     36  In the diagram below $\\angle DOE = 60^\\circ$ a...   \n437                     36                                       \\newpage\\n\\n   \n438                     36        \\subsubsection*{Early finishers: Spicy}\\n\\n   \n439                     36  The length of the given rectangle is 12 more t...   \n440                     36  The circle with center $B$ is shown below with...   \n\n                kind                  filename  q_len  \nproblem_ID                                             \n432          section  3-2CW_Angle-modeling.tex    137  \n433         question  3-2CW_Angle-modeling.tex    418  \n434         question  3-2CW_Angle-modeling.tex    358  \n435         question  3-2CW_Angle-modeling.tex    820  \n436         question  3-2CW_Angle-modeling.tex    826  \n437          newpage  3-2CW_Angle-modeling.tex     12  \n438          section  3-2CW_Angle-modeling.tex     43  \n439         question  3-2CW_Angle-modeling.tex    399  \n440         question  3-2CW_Angle-modeling.tex    722  ",
      "text/html": "<div>\n<style scoped>\n    .dataframe tbody tr th:only-of-type {\n        vertical-align: middle;\n    }\n\n    .dataframe tbody tr th {\n        vertical-align: top;\n    }\n\n    .dataframe thead th {\n        text-align: right;\n    }\n</style>\n<table border=\"1\" class=\"dataframe\">\n  <thead>\n    <tr style=\"text-align: right;\">\n      <th></th>\n      <th>problem_set_ID</th>\n      <th>question</th>\n      <th>kind</th>\n      <th>filename</th>\n      <th>q_len</th>\n    </tr>\n    <tr>\n      <th>problem_ID</th>\n      <th></th>\n      <th></th>\n      <th></th>\n      <th></th>\n      <th></th>\n    </tr>\n  </thead>\n  <tbody>\n    <tr>\n      <th>432</th>\n      <td>36</td>\n      <td>\\subsubsection*{Do Not Solve! \\\\\\n    Mode...</td>\n      <td>section</td>\n      <td>3-2CW_Angle-modeling.tex</td>\n      <td>137</td>\n    </tr>\n    <tr>\n      <th>433</th>\n      <td>36</td>\n      <td>Two lines intersect making four angles: $\\angl...</td>\n      <td>question</td>\n      <td>3-2CW_Angle-modeling.tex</td>\n      <td>418</td>\n    </tr>\n    <tr>\n      <th>434</th>\n      <td>36</td>\n      <td>Given that $m\\angle 2= 5x+30$ and $m\\angle 4=7...</td>\n      <td>question</td>\n      <td>3-2CW_Angle-modeling.tex</td>\n      <td>358</td>\n    </tr>\n    <tr>\n      <th>435</th>\n      <td>36</td>\n      <td>In the diagram below $\\angle AOB = 30^\\circ$ a...</td>\n      <td>question</td>\n      <td>3-2CW_Angle-modeling.tex</td>\n      <td>820</td>\n    </tr>\n    <tr>\n      <th>436</th>\n      <td>36</td>\n      <td>In the diagram below $\\angle DOE = 60^\\circ$ a...</td>\n      <td>question</td>\n      <td>3-2CW_Angle-modeling.tex</td>\n      <td>826</td>\n    </tr>\n    <tr>\n      <th>437</th>\n      <td>36</td>\n      <td>\\newpage\\n\\n</td>\n      <td>newpage</td>\n      <td>3-2CW_Angle-modeling.tex</td>\n      <td>12</td>\n    </tr>\n    <tr>\n      <th>438</th>\n      <td>36</td>\n      <td>\\subsubsection*{Early finishers: Spicy}\\n\\n</td>\n      <td>section</td>\n      <td>3-2CW_Angle-modeling.tex</td>\n      <td>43</td>\n    </tr>\n    <tr>\n      <th>439</th>\n      <td>36</td>\n      <td>The length of the given rectangle is 12 more t...</td>\n      <td>question</td>\n      <td>3-2CW_Angle-modeling.tex</td>\n      <td>399</td>\n    </tr>\n    <tr>\n      <th>440</th>\n      <td>36</td>\n      <td>The circle with center $B$ is shown below with...</td>\n      <td>question</td>\n      <td>3-2CW_Angle-modeling.tex</td>\n      <td>722</td>\n    </tr>\n  </tbody>\n</table>\n</div>"
     },
     "metadata": {},
     "execution_count": 12
    }
   ],
   "source": [
    "\n",
    "problem_df[problem_df.filename.str.contains('3-2CW')]"
   ]
  },
  {
   "cell_type": "code",
   "execution_count": 10,
   "metadata": {},
   "outputs": [
    {
     "output_type": "execute_result",
     "data": {
      "text/plain": "['In the following two problems, solve for the value of $x$.\\n  \\\\begin{multicols}{2}\\n    \\\\begin{enumerate}\\n      \\\\item   $x-5=12$ \\\\vspace{6cm}\\n      \\\\item   $13-x=-3$ \\\\vspace{6cm}\\n    \\\\end{enumerate}\\n  \\\\end{multicols}\\n    \\\\vspace{3cm}\\n\\n',\n 'Given $g(x)=x^2-5x+15$. Simplify $g(0)$. \\\\vspace{3cm}\\n',\n 'Given $f(x)=3x-2$. Solve for $x$ such that for $f(x)=13$. \\\\vspace{4cm}\\n',\n 'Given $h(x)=x^2-x-12$. Solve $h(x)=0$. \\\\vspace{5cm}\\n  \\n\\n',\n 'Simplify each expression. (Leave it in radical form if necessary, not a decimal.)\\n    \\\\begin{enumerate}\\n      \\\\begin{multicols}{2}\\n      \\\\item   $\\\\sqrt{25}$ \\\\vspace{1.5cm}\\n      \\\\item   $\\\\sqrt{24}$ \\\\vspace{1.5cm}\\n      \\\\end{multicols}\\n    \\\\end{enumerate}\\n    \\\\vspace{0.5cm}\\n\\n',\n '\\\\newpage\\n\\n',\n \"The line $l$ has the equation $y=\\\\frac{3}{2}x-1$. \\n\\\\begin{enumerate}\\n  \\\\item Write down it's slope. $m=$\\n  \\\\vspace{0.5cm}\\n  \\\\item Write down it's $y$-intercept. $b=$\\n  \\\\vspace{0.5cm}\\n  \\\\item Is the point $(4, 4)$ on the line $l$? Justify your answer.\\n\\\\end{enumerate}\\n\\\\vspace{2.5cm}\\n\\n\",\n 'On the grid below, graph the line $y=-\\\\frac{1}{2}x+2$.\\n  \\\\vspace{0.5cm}\\n\\n    \\\\begin{center} %4 quadrant regents grid w T-Chart\\n    \\\\begin{tikzpicture}[scale=.635]\\n      \\\\draw [help lines] (-10,-10) grid (10,10);\\n      \\\\draw [thick, ->] (-10.2,0) -- (10.4,0) node [below right] {$x$};\\n      \\\\draw [thick, ->] (0,-10.2)--(0,10.4) node [left] {$y$};\\n    \\\\end{tikzpicture}\\n    \\\\end{center}\\n\\n']"
     },
     "metadata": {},
     "execution_count": 10
    }
   ],
   "source": [
    "pset_df.loc[3,'problems_list']"
   ]
  },
  {
   "cell_type": "code",
   "execution_count": 11,
   "metadata": {},
   "outputs": [
    {
     "output_type": "execute_result",
     "data": {
      "text/plain": "            problem_set_ID                                           question  \\\nproblem_ID                                                                      \n367                     30  Solve for $x$ by factoring\\n    \\begin{multico...   \n400                     32  \\emph{Factor and solve for $x$.}\\n  \\begin{enu...   \n2133                   146  Simplify each radical.\\n  \\begin{multicols}{2}...   \n2132                   146  Expand each binomial-squared expression to the...   \n1209                    81  In the following two problems, solve for the v...   \n\n                                 file  q_len  \nproblem_ID                                    \n367           2-8DN_Constructions.tex    171  \n400         2-9Exam_area-distance.tex    172  \n2133        8-9DN_Circle-equation.tex    183  \n2132        8-9DN_Circle-equation.tex    214  \n1209               6-1DN_graphing.tex    226  ",
      "text/html": "<div>\n<style scoped>\n    .dataframe tbody tr th:only-of-type {\n        vertical-align: middle;\n    }\n\n    .dataframe tbody tr th {\n        vertical-align: top;\n    }\n\n    .dataframe thead th {\n        text-align: right;\n    }\n</style>\n<table border=\"1\" class=\"dataframe\">\n  <thead>\n    <tr style=\"text-align: right;\">\n      <th></th>\n      <th>problem_set_ID</th>\n      <th>question</th>\n      <th>file</th>\n      <th>q_len</th>\n    </tr>\n    <tr>\n      <th>problem_ID</th>\n      <th></th>\n      <th></th>\n      <th></th>\n      <th></th>\n    </tr>\n  </thead>\n  <tbody>\n    <tr>\n      <th>367</th>\n      <td>30</td>\n      <td>Solve for $x$ by factoring\\n    \\begin{multico...</td>\n      <td>2-8DN_Constructions.tex</td>\n      <td>171</td>\n    </tr>\n    <tr>\n      <th>400</th>\n      <td>32</td>\n      <td>\\emph{Factor and solve for $x$.}\\n  \\begin{enu...</td>\n      <td>2-9Exam_area-distance.tex</td>\n      <td>172</td>\n    </tr>\n    <tr>\n      <th>2133</th>\n      <td>146</td>\n      <td>Simplify each radical.\\n  \\begin{multicols}{2}...</td>\n      <td>8-9DN_Circle-equation.tex</td>\n      <td>183</td>\n    </tr>\n    <tr>\n      <th>2132</th>\n      <td>146</td>\n      <td>Expand each binomial-squared expression to the...</td>\n      <td>8-9DN_Circle-equation.tex</td>\n      <td>214</td>\n    </tr>\n    <tr>\n      <th>1209</th>\n      <td>81</td>\n      <td>In the following two problems, solve for the v...</td>\n      <td>6-1DN_graphing.tex</td>\n      <td>226</td>\n    </tr>\n  </tbody>\n</table>\n</div>"
     },
     "metadata": {},
     "execution_count": 11
    }
   ],
   "source": [
    "problem_df[(problem_df.question.str.contains('multicol'))].head()"
   ]
  },
  {
   "cell_type": "code",
   "execution_count": 14,
   "metadata": {},
   "outputs": [
    {
     "output_type": "execute_result",
     "data": {
      "text/plain": "       problem_set_ID  question  file\nq_len                                \n9                 431       431   431\n10                 22        22    22\n11                 40        40    40\n12                  2         2     2\n13                 13        13    13",
      "text/html": "<div>\n<style scoped>\n    .dataframe tbody tr th:only-of-type {\n        vertical-align: middle;\n    }\n\n    .dataframe tbody tr th {\n        vertical-align: top;\n    }\n\n    .dataframe thead th {\n        text-align: right;\n    }\n</style>\n<table border=\"1\" class=\"dataframe\">\n  <thead>\n    <tr style=\"text-align: right;\">\n      <th></th>\n      <th>problem_set_ID</th>\n      <th>question</th>\n      <th>file</th>\n    </tr>\n    <tr>\n      <th>q_len</th>\n      <th></th>\n      <th></th>\n      <th></th>\n    </tr>\n  </thead>\n  <tbody>\n    <tr>\n      <th>9</th>\n      <td>431</td>\n      <td>431</td>\n      <td>431</td>\n    </tr>\n    <tr>\n      <th>10</th>\n      <td>22</td>\n      <td>22</td>\n      <td>22</td>\n    </tr>\n    <tr>\n      <th>11</th>\n      <td>40</td>\n      <td>40</td>\n      <td>40</td>\n    </tr>\n    <tr>\n      <th>12</th>\n      <td>2</td>\n      <td>2</td>\n      <td>2</td>\n    </tr>\n    <tr>\n      <th>13</th>\n      <td>13</td>\n      <td>13</td>\n      <td>13</td>\n    </tr>\n  </tbody>\n</table>\n</div>"
     },
     "metadata": {},
     "execution_count": 14
    }
   ],
   "source": [
    "problem_df[problem_df.question.str.contains(r'\\\\newpage')].groupby('q_len').count()"
   ]
  },
  {
   "cell_type": "code",
   "execution_count": 23,
   "metadata": {},
   "outputs": [
    {
     "output_type": "error",
     "ename": "KeyError",
     "evalue": "6",
     "traceback": [
      "\u001b[0;31m---------------------------------------------------------------------------\u001b[0m",
      "\u001b[0;31mKeyError\u001b[0m                                  Traceback (most recent call last)",
      "\u001b[0;32m~/opt/anaconda3/lib/python3.7/site-packages/pandas/core/indexes/base.py\u001b[0m in \u001b[0;36mget_loc\u001b[0;34m(self, key, method, tolerance)\u001b[0m\n\u001b[1;32m   2645\u001b[0m             \u001b[0;32mtry\u001b[0m\u001b[0;34m:\u001b[0m\u001b[0;34m\u001b[0m\u001b[0;34m\u001b[0m\u001b[0m\n\u001b[0;32m-> 2646\u001b[0;31m                 \u001b[0;32mreturn\u001b[0m \u001b[0mself\u001b[0m\u001b[0;34m.\u001b[0m\u001b[0m_engine\u001b[0m\u001b[0;34m.\u001b[0m\u001b[0mget_loc\u001b[0m\u001b[0;34m(\u001b[0m\u001b[0mkey\u001b[0m\u001b[0;34m)\u001b[0m\u001b[0;34m\u001b[0m\u001b[0;34m\u001b[0m\u001b[0m\n\u001b[0m\u001b[1;32m   2647\u001b[0m             \u001b[0;32mexcept\u001b[0m \u001b[0mKeyError\u001b[0m\u001b[0;34m:\u001b[0m\u001b[0;34m\u001b[0m\u001b[0;34m\u001b[0m\u001b[0m\n",
      "\u001b[0;32mpandas/_libs/index.pyx\u001b[0m in \u001b[0;36mpandas._libs.index.IndexEngine.get_loc\u001b[0;34m()\u001b[0m\n",
      "\u001b[0;32mpandas/_libs/index.pyx\u001b[0m in \u001b[0;36mpandas._libs.index.IndexEngine.get_loc\u001b[0;34m()\u001b[0m\n",
      "\u001b[0;32mpandas/_libs/hashtable_class_helper.pxi\u001b[0m in \u001b[0;36mpandas._libs.hashtable.Int64HashTable.get_item\u001b[0;34m()\u001b[0m\n",
      "\u001b[0;32mpandas/_libs/hashtable_class_helper.pxi\u001b[0m in \u001b[0;36mpandas._libs.hashtable.Int64HashTable.get_item\u001b[0;34m()\u001b[0m\n",
      "\u001b[0;31mKeyError\u001b[0m: 6",
      "\nDuring handling of the above exception, another exception occurred:\n",
      "\u001b[0;31mKeyError\u001b[0m                                  Traceback (most recent call last)",
      "\u001b[0;32m<ipython-input-23-9231ad623c85>\u001b[0m in \u001b[0;36m<module>\u001b[0;34m\u001b[0m\n\u001b[1;32m      1\u001b[0m \u001b[0;31m# Example queries\u001b[0m\u001b[0;34m\u001b[0m\u001b[0;34m\u001b[0m\u001b[0;34m\u001b[0m\u001b[0m\n\u001b[0;32m----> 2\u001b[0;31m \u001b[0mproblem_df\u001b[0m\u001b[0;34m[\u001b[0m\u001b[0mproblem_df\u001b[0m\u001b[0;34m.\u001b[0m\u001b[0mquestion\u001b[0m\u001b[0;34m.\u001b[0m\u001b[0mstr\u001b[0m\u001b[0;34m.\u001b[0m\u001b[0mcontains\u001b[0m\u001b[0;34m(\u001b[0m\u001b[0;34mr'\\\\newpage'\u001b[0m\u001b[0;34m)\u001b[0m\u001b[0;34m]\u001b[0m\u001b[0;34m.\u001b[0m\u001b[0mquestion\u001b[0m\u001b[0;34m.\u001b[0m\u001b[0mloc\u001b[0m\u001b[0;34m[\u001b[0m\u001b[0;36m6\u001b[0m\u001b[0;34m]\u001b[0m\u001b[0;34m\u001b[0m\u001b[0;34m\u001b[0m\u001b[0m\n\u001b[0m\u001b[1;32m      3\u001b[0m \u001b[0mproblem_df\u001b[0m\u001b[0;34m[\u001b[0m\u001b[0mproblem_df\u001b[0m\u001b[0;34m.\u001b[0m\u001b[0mfile\u001b[0m\u001b[0;34m.\u001b[0m\u001b[0mstr\u001b[0m\u001b[0;34m.\u001b[0m\u001b[0mstartswith\u001b[0m\u001b[0;34m(\u001b[0m\u001b[0;34m'1-1'\u001b[0m\u001b[0;34m)\u001b[0m\u001b[0;34m]\u001b[0m\u001b[0;34m.\u001b[0m\u001b[0msort_index\u001b[0m\u001b[0;34m(\u001b[0m\u001b[0;34m)\u001b[0m\u001b[0;34m\u001b[0m\u001b[0;34m\u001b[0m\u001b[0m\n",
      "\u001b[0;32m~/opt/anaconda3/lib/python3.7/site-packages/pandas/core/indexing.py\u001b[0m in \u001b[0;36m__getitem__\u001b[0;34m(self, key)\u001b[0m\n\u001b[1;32m   1765\u001b[0m \u001b[0;34m\u001b[0m\u001b[0m\n\u001b[1;32m   1766\u001b[0m             \u001b[0mmaybe_callable\u001b[0m \u001b[0;34m=\u001b[0m \u001b[0mcom\u001b[0m\u001b[0;34m.\u001b[0m\u001b[0mapply_if_callable\u001b[0m\u001b[0;34m(\u001b[0m\u001b[0mkey\u001b[0m\u001b[0;34m,\u001b[0m \u001b[0mself\u001b[0m\u001b[0;34m.\u001b[0m\u001b[0mobj\u001b[0m\u001b[0;34m)\u001b[0m\u001b[0;34m\u001b[0m\u001b[0;34m\u001b[0m\u001b[0m\n\u001b[0;32m-> 1767\u001b[0;31m             \u001b[0;32mreturn\u001b[0m \u001b[0mself\u001b[0m\u001b[0;34m.\u001b[0m\u001b[0m_getitem_axis\u001b[0m\u001b[0;34m(\u001b[0m\u001b[0mmaybe_callable\u001b[0m\u001b[0;34m,\u001b[0m \u001b[0maxis\u001b[0m\u001b[0;34m=\u001b[0m\u001b[0maxis\u001b[0m\u001b[0;34m)\u001b[0m\u001b[0;34m\u001b[0m\u001b[0;34m\u001b[0m\u001b[0m\n\u001b[0m\u001b[1;32m   1768\u001b[0m \u001b[0;34m\u001b[0m\u001b[0m\n\u001b[1;32m   1769\u001b[0m     \u001b[0;32mdef\u001b[0m \u001b[0m_is_scalar_access\u001b[0m\u001b[0;34m(\u001b[0m\u001b[0mself\u001b[0m\u001b[0;34m,\u001b[0m \u001b[0mkey\u001b[0m\u001b[0;34m:\u001b[0m \u001b[0mTuple\u001b[0m\u001b[0;34m)\u001b[0m\u001b[0;34m:\u001b[0m\u001b[0;34m\u001b[0m\u001b[0;34m\u001b[0m\u001b[0m\n",
      "\u001b[0;32m~/opt/anaconda3/lib/python3.7/site-packages/pandas/core/indexing.py\u001b[0m in \u001b[0;36m_getitem_axis\u001b[0;34m(self, key, axis)\u001b[0m\n\u001b[1;32m   1962\u001b[0m         \u001b[0;31m# fall thru to straight lookup\u001b[0m\u001b[0;34m\u001b[0m\u001b[0;34m\u001b[0m\u001b[0;34m\u001b[0m\u001b[0m\n\u001b[1;32m   1963\u001b[0m         \u001b[0mself\u001b[0m\u001b[0;34m.\u001b[0m\u001b[0m_validate_key\u001b[0m\u001b[0;34m(\u001b[0m\u001b[0mkey\u001b[0m\u001b[0;34m,\u001b[0m \u001b[0maxis\u001b[0m\u001b[0;34m)\u001b[0m\u001b[0;34m\u001b[0m\u001b[0;34m\u001b[0m\u001b[0m\n\u001b[0;32m-> 1964\u001b[0;31m         \u001b[0;32mreturn\u001b[0m \u001b[0mself\u001b[0m\u001b[0;34m.\u001b[0m\u001b[0m_get_label\u001b[0m\u001b[0;34m(\u001b[0m\u001b[0mkey\u001b[0m\u001b[0;34m,\u001b[0m \u001b[0maxis\u001b[0m\u001b[0;34m=\u001b[0m\u001b[0maxis\u001b[0m\u001b[0;34m)\u001b[0m\u001b[0;34m\u001b[0m\u001b[0;34m\u001b[0m\u001b[0m\n\u001b[0m\u001b[1;32m   1965\u001b[0m \u001b[0;34m\u001b[0m\u001b[0m\n\u001b[1;32m   1966\u001b[0m \u001b[0;34m\u001b[0m\u001b[0m\n",
      "\u001b[0;32m~/opt/anaconda3/lib/python3.7/site-packages/pandas/core/indexing.py\u001b[0m in \u001b[0;36m_get_label\u001b[0;34m(self, label, axis)\u001b[0m\n\u001b[1;32m    618\u001b[0m             \u001b[0;31m# but will fail when the index is not present\u001b[0m\u001b[0;34m\u001b[0m\u001b[0;34m\u001b[0m\u001b[0;34m\u001b[0m\u001b[0m\n\u001b[1;32m    619\u001b[0m             \u001b[0;31m# see GH5667\u001b[0m\u001b[0;34m\u001b[0m\u001b[0;34m\u001b[0m\u001b[0;34m\u001b[0m\u001b[0m\n\u001b[0;32m--> 620\u001b[0;31m             \u001b[0;32mreturn\u001b[0m \u001b[0mself\u001b[0m\u001b[0;34m.\u001b[0m\u001b[0mobj\u001b[0m\u001b[0;34m.\u001b[0m\u001b[0m_xs\u001b[0m\u001b[0;34m(\u001b[0m\u001b[0mlabel\u001b[0m\u001b[0;34m,\u001b[0m \u001b[0maxis\u001b[0m\u001b[0;34m=\u001b[0m\u001b[0maxis\u001b[0m\u001b[0;34m)\u001b[0m\u001b[0;34m\u001b[0m\u001b[0;34m\u001b[0m\u001b[0m\n\u001b[0m\u001b[1;32m    621\u001b[0m         \u001b[0;32melif\u001b[0m \u001b[0misinstance\u001b[0m\u001b[0;34m(\u001b[0m\u001b[0mlabel\u001b[0m\u001b[0;34m,\u001b[0m \u001b[0mtuple\u001b[0m\u001b[0;34m)\u001b[0m \u001b[0;32mand\u001b[0m \u001b[0misinstance\u001b[0m\u001b[0;34m(\u001b[0m\u001b[0mlabel\u001b[0m\u001b[0;34m[\u001b[0m\u001b[0maxis\u001b[0m\u001b[0;34m]\u001b[0m\u001b[0;34m,\u001b[0m \u001b[0mslice\u001b[0m\u001b[0;34m)\u001b[0m\u001b[0;34m:\u001b[0m\u001b[0;34m\u001b[0m\u001b[0;34m\u001b[0m\u001b[0m\n\u001b[1;32m    622\u001b[0m             \u001b[0;32mraise\u001b[0m \u001b[0mIndexingError\u001b[0m\u001b[0;34m(\u001b[0m\u001b[0;34m\"no slices here, handle elsewhere\"\u001b[0m\u001b[0;34m)\u001b[0m\u001b[0;34m\u001b[0m\u001b[0;34m\u001b[0m\u001b[0m\n",
      "\u001b[0;32m~/opt/anaconda3/lib/python3.7/site-packages/pandas/core/generic.py\u001b[0m in \u001b[0;36mxs\u001b[0;34m(self, key, axis, level, drop_level)\u001b[0m\n\u001b[1;32m   3535\u001b[0m             \u001b[0mloc\u001b[0m\u001b[0;34m,\u001b[0m \u001b[0mnew_index\u001b[0m \u001b[0;34m=\u001b[0m \u001b[0mself\u001b[0m\u001b[0;34m.\u001b[0m\u001b[0mindex\u001b[0m\u001b[0;34m.\u001b[0m\u001b[0mget_loc_level\u001b[0m\u001b[0;34m(\u001b[0m\u001b[0mkey\u001b[0m\u001b[0;34m,\u001b[0m \u001b[0mdrop_level\u001b[0m\u001b[0;34m=\u001b[0m\u001b[0mdrop_level\u001b[0m\u001b[0;34m)\u001b[0m\u001b[0;34m\u001b[0m\u001b[0;34m\u001b[0m\u001b[0m\n\u001b[1;32m   3536\u001b[0m         \u001b[0;32melse\u001b[0m\u001b[0;34m:\u001b[0m\u001b[0;34m\u001b[0m\u001b[0;34m\u001b[0m\u001b[0m\n\u001b[0;32m-> 3537\u001b[0;31m             \u001b[0mloc\u001b[0m \u001b[0;34m=\u001b[0m \u001b[0mself\u001b[0m\u001b[0;34m.\u001b[0m\u001b[0mindex\u001b[0m\u001b[0;34m.\u001b[0m\u001b[0mget_loc\u001b[0m\u001b[0;34m(\u001b[0m\u001b[0mkey\u001b[0m\u001b[0;34m)\u001b[0m\u001b[0;34m\u001b[0m\u001b[0;34m\u001b[0m\u001b[0m\n\u001b[0m\u001b[1;32m   3538\u001b[0m \u001b[0;34m\u001b[0m\u001b[0m\n\u001b[1;32m   3539\u001b[0m             \u001b[0;32mif\u001b[0m \u001b[0misinstance\u001b[0m\u001b[0;34m(\u001b[0m\u001b[0mloc\u001b[0m\u001b[0;34m,\u001b[0m \u001b[0mnp\u001b[0m\u001b[0;34m.\u001b[0m\u001b[0mndarray\u001b[0m\u001b[0;34m)\u001b[0m\u001b[0;34m:\u001b[0m\u001b[0;34m\u001b[0m\u001b[0;34m\u001b[0m\u001b[0m\n",
      "\u001b[0;32m~/opt/anaconda3/lib/python3.7/site-packages/pandas/core/indexes/base.py\u001b[0m in \u001b[0;36mget_loc\u001b[0;34m(self, key, method, tolerance)\u001b[0m\n\u001b[1;32m   2646\u001b[0m                 \u001b[0;32mreturn\u001b[0m \u001b[0mself\u001b[0m\u001b[0;34m.\u001b[0m\u001b[0m_engine\u001b[0m\u001b[0;34m.\u001b[0m\u001b[0mget_loc\u001b[0m\u001b[0;34m(\u001b[0m\u001b[0mkey\u001b[0m\u001b[0;34m)\u001b[0m\u001b[0;34m\u001b[0m\u001b[0;34m\u001b[0m\u001b[0m\n\u001b[1;32m   2647\u001b[0m             \u001b[0;32mexcept\u001b[0m \u001b[0mKeyError\u001b[0m\u001b[0;34m:\u001b[0m\u001b[0;34m\u001b[0m\u001b[0;34m\u001b[0m\u001b[0m\n\u001b[0;32m-> 2648\u001b[0;31m                 \u001b[0;32mreturn\u001b[0m \u001b[0mself\u001b[0m\u001b[0;34m.\u001b[0m\u001b[0m_engine\u001b[0m\u001b[0;34m.\u001b[0m\u001b[0mget_loc\u001b[0m\u001b[0;34m(\u001b[0m\u001b[0mself\u001b[0m\u001b[0;34m.\u001b[0m\u001b[0m_maybe_cast_indexer\u001b[0m\u001b[0;34m(\u001b[0m\u001b[0mkey\u001b[0m\u001b[0;34m)\u001b[0m\u001b[0;34m)\u001b[0m\u001b[0;34m\u001b[0m\u001b[0;34m\u001b[0m\u001b[0m\n\u001b[0m\u001b[1;32m   2649\u001b[0m         \u001b[0mindexer\u001b[0m \u001b[0;34m=\u001b[0m \u001b[0mself\u001b[0m\u001b[0;34m.\u001b[0m\u001b[0mget_indexer\u001b[0m\u001b[0;34m(\u001b[0m\u001b[0;34m[\u001b[0m\u001b[0mkey\u001b[0m\u001b[0;34m]\u001b[0m\u001b[0;34m,\u001b[0m \u001b[0mmethod\u001b[0m\u001b[0;34m=\u001b[0m\u001b[0mmethod\u001b[0m\u001b[0;34m,\u001b[0m \u001b[0mtolerance\u001b[0m\u001b[0;34m=\u001b[0m\u001b[0mtolerance\u001b[0m\u001b[0;34m)\u001b[0m\u001b[0;34m\u001b[0m\u001b[0;34m\u001b[0m\u001b[0m\n\u001b[1;32m   2650\u001b[0m         \u001b[0;32mif\u001b[0m \u001b[0mindexer\u001b[0m\u001b[0;34m.\u001b[0m\u001b[0mndim\u001b[0m \u001b[0;34m>\u001b[0m \u001b[0;36m1\u001b[0m \u001b[0;32mor\u001b[0m \u001b[0mindexer\u001b[0m\u001b[0;34m.\u001b[0m\u001b[0msize\u001b[0m \u001b[0;34m>\u001b[0m \u001b[0;36m1\u001b[0m\u001b[0;34m:\u001b[0m\u001b[0;34m\u001b[0m\u001b[0;34m\u001b[0m\u001b[0m\n",
      "\u001b[0;32mpandas/_libs/index.pyx\u001b[0m in \u001b[0;36mpandas._libs.index.IndexEngine.get_loc\u001b[0;34m()\u001b[0m\n",
      "\u001b[0;32mpandas/_libs/index.pyx\u001b[0m in \u001b[0;36mpandas._libs.index.IndexEngine.get_loc\u001b[0;34m()\u001b[0m\n",
      "\u001b[0;32mpandas/_libs/hashtable_class_helper.pxi\u001b[0m in \u001b[0;36mpandas._libs.hashtable.Int64HashTable.get_item\u001b[0;34m()\u001b[0m\n",
      "\u001b[0;32mpandas/_libs/hashtable_class_helper.pxi\u001b[0m in \u001b[0;36mpandas._libs.hashtable.Int64HashTable.get_item\u001b[0;34m()\u001b[0m\n",
      "\u001b[0;31mKeyError\u001b[0m: 6"
     ]
    }
   ],
   "source": [
    "# Example queries\n",
    "problem_df[problem_df.question.str.contains(r'\\\\newpage')].question.loc[6]\n",
    "problem_df[problem_df.file.str.startswith('1-1')].sort_index()"
   ]
  },
  {
   "cell_type": "code",
   "execution_count": 22,
   "metadata": {},
   "outputs": [
    {
     "output_type": "execute_result",
     "data": {
      "text/plain": "problem_set_ID                                                  163\nquestion          Given $\\triangle ABC$, $D$ is the midpoint of ...\nfilename                                9-9Exam-transformations.tex\nq_len                                                           548\nName: 2335, dtype: object"
     },
     "metadata": {},
     "execution_count": 22
    }
   ],
   "source": [
    "problem_df.loc[2335]"
   ]
  },
  {
   "cell_type": "code",
   "execution_count": 38,
   "metadata": {},
   "outputs": [
    {
     "output_type": "execute_result",
     "data": {
      "text/plain": "            problem_set_ID                                           question  \\\nproblem_ID                                                                      \n0                        0  Given the line segment $\\overline{PQ}$ shown b...   \n1                        0                                         \\newpage\\n   \n2                        0  Given an angle with vertex $A$. Answer the que...   \n3                        0                                         \\newpage\\n   \n4                        0  Given the rectangle $ABCD$ shown below. Answer...   \n5                        0                                         \\newpage\\n   \n6                        0  The points shown are in a straight line, $\\ove...   \n7                        0  Given $\\overleftrightarrow{QS}$ as shown on th...   \n8                        1  Write down the slope and $y$-intercept of each...   \n9                        1  What is the slope of a line parallel to the li...   \n10                       1                                         \\newpage\\n   \n11                       1  Graph and label the two equations. Mark their ...   \n12                       2  In the following two problems, solve for the v...   \n13                       2  Given $g(x)=3x^2-7x+5$. Fine $g(0)$. \\vspace{4...   \n14                       2  Given $f(x)=2x-1$. Solve for $x$ such that for...   \n15                       2  Given $x^2+6x+5=0$. Factor and find the roots....   \n16                       2                                         \\newpage\\n   \n17                       2  The line $l$ has the equation $y=\\frac{1}{2}x+...   \n18                       2  On the grid below, graph the line $y=2x-4$.\\n ...   \n19                       3  In the following two problems, solve for the v...   \n20                       3  Given $g(x)=x^2-5x+15$. Simplify $g(0)$. \\vspa...   \n21                       3  Given $f(x)=3x-2$. Solve for $x$ such that for...   \n22                       3  Given $h(x)=x^2-x-12$. Solve $h(x)=0$. \\vspace...   \n23                       3  Simplify each expression. (Leave it in radical...   \n24                       3                                         \\newpage\\n   \n25                       3  The line $l$ has the equation $y=\\frac{3}{2}x-...   \n26                       3  On the grid below, graph the line $y=-\\frac{1}...   \n\n                                 file  q_len  \nproblem_ID                                    \n0               1-1CW_Measurement.tex    732  \n1               1-1CW_Measurement.tex     11  \n2               1-1CW_Measurement.tex    675  \n3               1-1CW_Measurement.tex      9  \n4               1-1CW_Measurement.tex   1164  \n5               1-1CW_Measurement.tex      9  \n6               1-1CW_Measurement.tex    533  \n7               1-1CW_Measurement.tex    680  \n8           1-1DNQ_Distance+slope.tex    433  \n9           1-1DNQ_Distance+slope.tex     81  \n10          1-1DNQ_Distance+slope.tex      9  \n11          1-1DNQ_Distance+slope.tex    494  \n12                  1-1DN_Algebra.tex    232  \n13                  1-1DN_Algebra.tex     50  \n14                  1-1DN_Algebra.tex     70  \n15                  1-1DN_Algebra.tex     63  \n16                  1-1DN_Algebra.tex      9  \n17                  1-1DN_Algebra.tex    208  \n18                  1-1DN_Algebra.tex    376  \n19                  1-1HW_Algebra.tex    233  \n20                  1-1HW_Algebra.tex     54  \n21                  1-1HW_Algebra.tex     71  \n22                  1-1HW_Algebra.tex     56  \n23                  1-1HW_Algebra.tex    275  \n24                  1-1HW_Algebra.tex      9  \n25                  1-1HW_Algebra.tex    283  \n26                  1-1HW_Algebra.tex    387  ",
      "text/html": "<div>\n<style scoped>\n    .dataframe tbody tr th:only-of-type {\n        vertical-align: middle;\n    }\n\n    .dataframe tbody tr th {\n        vertical-align: top;\n    }\n\n    .dataframe thead th {\n        text-align: right;\n    }\n</style>\n<table border=\"1\" class=\"dataframe\">\n  <thead>\n    <tr style=\"text-align: right;\">\n      <th></th>\n      <th>problem_set_ID</th>\n      <th>question</th>\n      <th>file</th>\n      <th>q_len</th>\n    </tr>\n    <tr>\n      <th>problem_ID</th>\n      <th></th>\n      <th></th>\n      <th></th>\n      <th></th>\n    </tr>\n  </thead>\n  <tbody>\n    <tr>\n      <th>0</th>\n      <td>0</td>\n      <td>Given the line segment $\\overline{PQ}$ shown b...</td>\n      <td>1-1CW_Measurement.tex</td>\n      <td>732</td>\n    </tr>\n    <tr>\n      <th>1</th>\n      <td>0</td>\n      <td>\\newpage\\n</td>\n      <td>1-1CW_Measurement.tex</td>\n      <td>11</td>\n    </tr>\n    <tr>\n      <th>2</th>\n      <td>0</td>\n      <td>Given an angle with vertex $A$. Answer the que...</td>\n      <td>1-1CW_Measurement.tex</td>\n      <td>675</td>\n    </tr>\n    <tr>\n      <th>3</th>\n      <td>0</td>\n      <td>\\newpage\\n</td>\n      <td>1-1CW_Measurement.tex</td>\n      <td>9</td>\n    </tr>\n    <tr>\n      <th>4</th>\n      <td>0</td>\n      <td>Given the rectangle $ABCD$ shown below. Answer...</td>\n      <td>1-1CW_Measurement.tex</td>\n      <td>1164</td>\n    </tr>\n    <tr>\n      <th>5</th>\n      <td>0</td>\n      <td>\\newpage\\n</td>\n      <td>1-1CW_Measurement.tex</td>\n      <td>9</td>\n    </tr>\n    <tr>\n      <th>6</th>\n      <td>0</td>\n      <td>The points shown are in a straight line, $\\ove...</td>\n      <td>1-1CW_Measurement.tex</td>\n      <td>533</td>\n    </tr>\n    <tr>\n      <th>7</th>\n      <td>0</td>\n      <td>Given $\\overleftrightarrow{QS}$ as shown on th...</td>\n      <td>1-1CW_Measurement.tex</td>\n      <td>680</td>\n    </tr>\n    <tr>\n      <th>8</th>\n      <td>1</td>\n      <td>Write down the slope and $y$-intercept of each...</td>\n      <td>1-1DNQ_Distance+slope.tex</td>\n      <td>433</td>\n    </tr>\n    <tr>\n      <th>9</th>\n      <td>1</td>\n      <td>What is the slope of a line parallel to the li...</td>\n      <td>1-1DNQ_Distance+slope.tex</td>\n      <td>81</td>\n    </tr>\n    <tr>\n      <th>10</th>\n      <td>1</td>\n      <td>\\newpage\\n</td>\n      <td>1-1DNQ_Distance+slope.tex</td>\n      <td>9</td>\n    </tr>\n    <tr>\n      <th>11</th>\n      <td>1</td>\n      <td>Graph and label the two equations. Mark their ...</td>\n      <td>1-1DNQ_Distance+slope.tex</td>\n      <td>494</td>\n    </tr>\n    <tr>\n      <th>12</th>\n      <td>2</td>\n      <td>In the following two problems, solve for the v...</td>\n      <td>1-1DN_Algebra.tex</td>\n      <td>232</td>\n    </tr>\n    <tr>\n      <th>13</th>\n      <td>2</td>\n      <td>Given $g(x)=3x^2-7x+5$. Fine $g(0)$. \\vspace{4...</td>\n      <td>1-1DN_Algebra.tex</td>\n      <td>50</td>\n    </tr>\n    <tr>\n      <th>14</th>\n      <td>2</td>\n      <td>Given $f(x)=2x-1$. Solve for $x$ such that for...</td>\n      <td>1-1DN_Algebra.tex</td>\n      <td>70</td>\n    </tr>\n    <tr>\n      <th>15</th>\n      <td>2</td>\n      <td>Given $x^2+6x+5=0$. Factor and find the roots....</td>\n      <td>1-1DN_Algebra.tex</td>\n      <td>63</td>\n    </tr>\n    <tr>\n      <th>16</th>\n      <td>2</td>\n      <td>\\newpage\\n</td>\n      <td>1-1DN_Algebra.tex</td>\n      <td>9</td>\n    </tr>\n    <tr>\n      <th>17</th>\n      <td>2</td>\n      <td>The line $l$ has the equation $y=\\frac{1}{2}x+...</td>\n      <td>1-1DN_Algebra.tex</td>\n      <td>208</td>\n    </tr>\n    <tr>\n      <th>18</th>\n      <td>2</td>\n      <td>On the grid below, graph the line $y=2x-4$.\\n ...</td>\n      <td>1-1DN_Algebra.tex</td>\n      <td>376</td>\n    </tr>\n    <tr>\n      <th>19</th>\n      <td>3</td>\n      <td>In the following two problems, solve for the v...</td>\n      <td>1-1HW_Algebra.tex</td>\n      <td>233</td>\n    </tr>\n    <tr>\n      <th>20</th>\n      <td>3</td>\n      <td>Given $g(x)=x^2-5x+15$. Simplify $g(0)$. \\vspa...</td>\n      <td>1-1HW_Algebra.tex</td>\n      <td>54</td>\n    </tr>\n    <tr>\n      <th>21</th>\n      <td>3</td>\n      <td>Given $f(x)=3x-2$. Solve for $x$ such that for...</td>\n      <td>1-1HW_Algebra.tex</td>\n      <td>71</td>\n    </tr>\n    <tr>\n      <th>22</th>\n      <td>3</td>\n      <td>Given $h(x)=x^2-x-12$. Solve $h(x)=0$. \\vspace...</td>\n      <td>1-1HW_Algebra.tex</td>\n      <td>56</td>\n    </tr>\n    <tr>\n      <th>23</th>\n      <td>3</td>\n      <td>Simplify each expression. (Leave it in radical...</td>\n      <td>1-1HW_Algebra.tex</td>\n      <td>275</td>\n    </tr>\n    <tr>\n      <th>24</th>\n      <td>3</td>\n      <td>\\newpage\\n</td>\n      <td>1-1HW_Algebra.tex</td>\n      <td>9</td>\n    </tr>\n    <tr>\n      <th>25</th>\n      <td>3</td>\n      <td>The line $l$ has the equation $y=\\frac{3}{2}x-...</td>\n      <td>1-1HW_Algebra.tex</td>\n      <td>283</td>\n    </tr>\n    <tr>\n      <th>26</th>\n      <td>3</td>\n      <td>On the grid below, graph the line $y=-\\frac{1}...</td>\n      <td>1-1HW_Algebra.tex</td>\n      <td>387</td>\n    </tr>\n  </tbody>\n</table>\n</div>"
     },
     "metadata": {},
     "execution_count": 38
    }
   ],
   "source": []
  },
  {
   "cell_type": "code",
   "execution_count": 11,
   "metadata": {},
   "outputs": [
    {
     "output_type": "execute_result",
     "data": {
      "text/plain": "                                         unit                         file  \\\nproblem_set_ID                                                               \n6                                    01-Intro              1-4HW-Intro.tex   \n26                       02-Midpoint+distance           2-7CW_Modeling.tex   \n30                       02-Midpoint+distance      2-8DN_Constructions.tex   \n32                       02-Midpoint+distance    2-9Exam_area-distance.tex   \n36                  03-Volume+angle-bisectors     3-2CW_Angle-modeling.tex   \n...                                       ...                          ...   \n144                            08-Area+volume      8-8Exam_Area+volume.tex   \n145                            08-Area+volume    8-9CW_Circle-equation.tex   \n146                            08-Area+volume    8-9DN_Circle-equation.tex   \n149             09-Congruence-transformations       9-2bCW_Composition.tex   \n160             09-Congruence-transformations  9-7CW-Similarity-review.tex   \n\n                problem_count  \\\nproblem_set_ID                  \n6                         104   \n26                          8   \n30                          4   \n32                         36   \n36                          7   \n...                       ...   \n144                        33   \n145                        15   \n146                         5   \n149                         6   \n160                        23   \n\n                                                             head  \\\nproblem_set_ID                                                      \n6               [\\begin{document}\\n, \\subsubsection*{Quiz Corr...   \n26              [\\begin{document}\\n,   \\subsubsection*{2.7 Cla...   \n30              [\\begin{document}\\n,   \\subsubsection*{2.8 Do ...   \n32              [\\begin{document}\\n, \\subsubsection*{2.9 Exam:...   \n36              [\\begin{document}\\n,   \\subsubsection*{3.2 Cla...   \n...                                                           ...   \n144             [\\begin{document}\\n, \\subsubsection*{8.8 Exam:...   \n145             [\\begin{document}\\n, \\subsubsection*{8.9 Class...   \n146             [\\begin{document}\\n, \\subsubsection*{8.9 Do No...   \n149             [\\begin{document}\\n, \\subsubsection*{9.2b Do N...   \n160             [\\begin{document}\\n, \\subsubsection*{9.7 Class...   \n\n                                                             body  \\\nproblem_set_ID                                                      \n6               [    \\item The points where a line segment beg...   \n26              [    \\subsubsection*{Do Not Solve! Make a draw...   \n30              [    \\item Complete the construction of an equ...   \n32              [\\n, \\item Given the rectangle $ABCD$ shown be...   \n36              [    \\subsubsection*{Do Not Solve! \\\\\\n,     M...   \n...                                                           ...   \n144             [\\n,   \\item Use the formulas for the area and...   \n145             [\\n,   \\item What is the equation of a circle ...   \n146             [\\n,   \\item A circle centered at the origin i...   \n149             [\\n,   \\item A transformation is applied to a ...   \n160             [\\n,   \\item Find the image of $P(1,-4)$ after...   \n\n                                                    problems_list  \\\nproblem_set_ID                                                      \n6               [The points where a line segment begins and en...   \n26              [The point $Q$ is the midpoint of $\\overline{P...   \n30              [Complete the construction of an equilateral t...   \n32              [Given the rectangle $ABCD$ shown below, with ...   \n36              [Two lines intersect making four angles: $\\ang...   \n...                                                           ...   \n144             [Use the formulas for the area and circumferen...   \n145             [What is the equation of a circle with center ...   \n146             [A circle centered at the origin includes the ...   \n149             [A transformation is applied to a triangle, $\\...   \n160             [Find the image of $P(1,-4)$ after the transla...   \n\n                                                 path  \\\nproblem_set_ID                                          \n6               /Users/chris/GitHub/course-files/Geom   \n26              /Users/chris/GitHub/course-files/Geom   \n30              /Users/chris/GitHub/course-files/Geom   \n32              /Users/chris/GitHub/course-files/Geom   \n36              /Users/chris/GitHub/course-files/Geom   \n...                                               ...   \n144             /Users/chris/GitHub/course-files/Geom   \n145             /Users/chris/GitHub/course-files/Geom   \n146             /Users/chris/GitHub/course-files/Geom   \n149             /Users/chris/GitHub/course-files/Geom   \n160             /Users/chris/GitHub/course-files/Geom   \n\n                                                         filename  \\\nproblem_set_ID                                                      \n6               /Users/chris/GitHub/course-files/Geom/01-Intro...   \n26              /Users/chris/GitHub/course-files/Geom/02-Midpo...   \n30              /Users/chris/GitHub/course-files/Geom/02-Midpo...   \n32              /Users/chris/GitHub/course-files/Geom/02-Midpo...   \n36              /Users/chris/GitHub/course-files/Geom/03-Volum...   \n...                                                           ...   \n144             /Users/chris/GitHub/course-files/Geom/08-Area+...   \n145             /Users/chris/GitHub/course-files/Geom/08-Area+...   \n146             /Users/chris/GitHub/course-files/Geom/08-Area+...   \n149             /Users/chris/GitHub/course-files/Geom/09-Congr...   \n160             /Users/chris/GitHub/course-files/Geom/09-Congr...   \n\n                                                      problem_IDs  \nproblem_set_ID                                                     \n6               [44, 45, 46, 47, 48, 49, 50, 51, 52, 53, 54, 5...  \n26                       [318, 319, 320, 321, 322, 323, 324, 325]  \n30                                           [351, 352, 353, 354]  \n32              [361, 362, 363, 364, 365, 366, 367, 368, 369, ...  \n36                            [418, 419, 420, 421, 422, 423, 424]  \n...                                                           ...  \n144             [1995, 1996, 1997, 1998, 1999, 2000, 2001, 200...  \n145             [2028, 2029, 2030, 2031, 2032, 2033, 2034, 203...  \n146                                [2043, 2044, 2045, 2046, 2047]  \n149                          [2066, 2067, 2068, 2069, 2070, 2071]  \n160             [2163, 2164, 2165, 2166, 2167, 2168, 2169, 217...  \n\n[61 rows x 9 columns]",
      "text/html": "<div>\n<style scoped>\n    .dataframe tbody tr th:only-of-type {\n        vertical-align: middle;\n    }\n\n    .dataframe tbody tr th {\n        vertical-align: top;\n    }\n\n    .dataframe thead th {\n        text-align: right;\n    }\n</style>\n<table border=\"1\" class=\"dataframe\">\n  <thead>\n    <tr style=\"text-align: right;\">\n      <th></th>\n      <th>unit</th>\n      <th>file</th>\n      <th>problem_count</th>\n      <th>head</th>\n      <th>body</th>\n      <th>problems_list</th>\n      <th>path</th>\n      <th>filename</th>\n      <th>problem_IDs</th>\n    </tr>\n    <tr>\n      <th>problem_set_ID</th>\n      <th></th>\n      <th></th>\n      <th></th>\n      <th></th>\n      <th></th>\n      <th></th>\n      <th></th>\n      <th></th>\n      <th></th>\n    </tr>\n  </thead>\n  <tbody>\n    <tr>\n      <th>6</th>\n      <td>01-Intro</td>\n      <td>1-4HW-Intro.tex</td>\n      <td>104</td>\n      <td>[\\begin{document}\\n, \\subsubsection*{Quiz Corr...</td>\n      <td>[    \\item The points where a line segment beg...</td>\n      <td>[The points where a line segment begins and en...</td>\n      <td>/Users/chris/GitHub/course-files/Geom</td>\n      <td>/Users/chris/GitHub/course-files/Geom/01-Intro...</td>\n      <td>[44, 45, 46, 47, 48, 49, 50, 51, 52, 53, 54, 5...</td>\n    </tr>\n    <tr>\n      <th>26</th>\n      <td>02-Midpoint+distance</td>\n      <td>2-7CW_Modeling.tex</td>\n      <td>8</td>\n      <td>[\\begin{document}\\n,   \\subsubsection*{2.7 Cla...</td>\n      <td>[    \\subsubsection*{Do Not Solve! Make a draw...</td>\n      <td>[The point $Q$ is the midpoint of $\\overline{P...</td>\n      <td>/Users/chris/GitHub/course-files/Geom</td>\n      <td>/Users/chris/GitHub/course-files/Geom/02-Midpo...</td>\n      <td>[318, 319, 320, 321, 322, 323, 324, 325]</td>\n    </tr>\n    <tr>\n      <th>30</th>\n      <td>02-Midpoint+distance</td>\n      <td>2-8DN_Constructions.tex</td>\n      <td>4</td>\n      <td>[\\begin{document}\\n,   \\subsubsection*{2.8 Do ...</td>\n      <td>[    \\item Complete the construction of an equ...</td>\n      <td>[Complete the construction of an equilateral t...</td>\n      <td>/Users/chris/GitHub/course-files/Geom</td>\n      <td>/Users/chris/GitHub/course-files/Geom/02-Midpo...</td>\n      <td>[351, 352, 353, 354]</td>\n    </tr>\n    <tr>\n      <th>32</th>\n      <td>02-Midpoint+distance</td>\n      <td>2-9Exam_area-distance.tex</td>\n      <td>36</td>\n      <td>[\\begin{document}\\n, \\subsubsection*{2.9 Exam:...</td>\n      <td>[\\n, \\item Given the rectangle $ABCD$ shown be...</td>\n      <td>[Given the rectangle $ABCD$ shown below, with ...</td>\n      <td>/Users/chris/GitHub/course-files/Geom</td>\n      <td>/Users/chris/GitHub/course-files/Geom/02-Midpo...</td>\n      <td>[361, 362, 363, 364, 365, 366, 367, 368, 369, ...</td>\n    </tr>\n    <tr>\n      <th>36</th>\n      <td>03-Volume+angle-bisectors</td>\n      <td>3-2CW_Angle-modeling.tex</td>\n      <td>7</td>\n      <td>[\\begin{document}\\n,   \\subsubsection*{3.2 Cla...</td>\n      <td>[    \\subsubsection*{Do Not Solve! \\\\\\n,     M...</td>\n      <td>[Two lines intersect making four angles: $\\ang...</td>\n      <td>/Users/chris/GitHub/course-files/Geom</td>\n      <td>/Users/chris/GitHub/course-files/Geom/03-Volum...</td>\n      <td>[418, 419, 420, 421, 422, 423, 424]</td>\n    </tr>\n    <tr>\n      <th>...</th>\n      <td>...</td>\n      <td>...</td>\n      <td>...</td>\n      <td>...</td>\n      <td>...</td>\n      <td>...</td>\n      <td>...</td>\n      <td>...</td>\n      <td>...</td>\n    </tr>\n    <tr>\n      <th>144</th>\n      <td>08-Area+volume</td>\n      <td>8-8Exam_Area+volume.tex</td>\n      <td>33</td>\n      <td>[\\begin{document}\\n, \\subsubsection*{8.8 Exam:...</td>\n      <td>[\\n,   \\item Use the formulas for the area and...</td>\n      <td>[Use the formulas for the area and circumferen...</td>\n      <td>/Users/chris/GitHub/course-files/Geom</td>\n      <td>/Users/chris/GitHub/course-files/Geom/08-Area+...</td>\n      <td>[1995, 1996, 1997, 1998, 1999, 2000, 2001, 200...</td>\n    </tr>\n    <tr>\n      <th>145</th>\n      <td>08-Area+volume</td>\n      <td>8-9CW_Circle-equation.tex</td>\n      <td>15</td>\n      <td>[\\begin{document}\\n, \\subsubsection*{8.9 Class...</td>\n      <td>[\\n,   \\item What is the equation of a circle ...</td>\n      <td>[What is the equation of a circle with center ...</td>\n      <td>/Users/chris/GitHub/course-files/Geom</td>\n      <td>/Users/chris/GitHub/course-files/Geom/08-Area+...</td>\n      <td>[2028, 2029, 2030, 2031, 2032, 2033, 2034, 203...</td>\n    </tr>\n    <tr>\n      <th>146</th>\n      <td>08-Area+volume</td>\n      <td>8-9DN_Circle-equation.tex</td>\n      <td>5</td>\n      <td>[\\begin{document}\\n, \\subsubsection*{8.9 Do No...</td>\n      <td>[\\n,   \\item A circle centered at the origin i...</td>\n      <td>[A circle centered at the origin includes the ...</td>\n      <td>/Users/chris/GitHub/course-files/Geom</td>\n      <td>/Users/chris/GitHub/course-files/Geom/08-Area+...</td>\n      <td>[2043, 2044, 2045, 2046, 2047]</td>\n    </tr>\n    <tr>\n      <th>149</th>\n      <td>09-Congruence-transformations</td>\n      <td>9-2bCW_Composition.tex</td>\n      <td>6</td>\n      <td>[\\begin{document}\\n, \\subsubsection*{9.2b Do N...</td>\n      <td>[\\n,   \\item A transformation is applied to a ...</td>\n      <td>[A transformation is applied to a triangle, $\\...</td>\n      <td>/Users/chris/GitHub/course-files/Geom</td>\n      <td>/Users/chris/GitHub/course-files/Geom/09-Congr...</td>\n      <td>[2066, 2067, 2068, 2069, 2070, 2071]</td>\n    </tr>\n    <tr>\n      <th>160</th>\n      <td>09-Congruence-transformations</td>\n      <td>9-7CW-Similarity-review.tex</td>\n      <td>23</td>\n      <td>[\\begin{document}\\n, \\subsubsection*{9.7 Class...</td>\n      <td>[\\n,   \\item Find the image of $P(1,-4)$ after...</td>\n      <td>[Find the image of $P(1,-4)$ after the transla...</td>\n      <td>/Users/chris/GitHub/course-files/Geom</td>\n      <td>/Users/chris/GitHub/course-files/Geom/09-Congr...</td>\n      <td>[2163, 2164, 2165, 2166, 2167, 2168, 2169, 217...</td>\n    </tr>\n  </tbody>\n</table>\n<p>61 rows × 9 columns</p>\n</div>"
     },
     "metadata": {},
     "execution_count": 11
    }
   ],
   "source": [
    "# Look for string in pset body\n",
    "pset_df[pset_df.body.apply(lambda x: 'subsect' in str(x))] #r'[\\\\item'"
   ]
  },
  {
   "cell_type": "code",
   "execution_count": 13,
   "metadata": {},
   "outputs": [
    {
     "output_type": "execute_result",
     "data": {
      "text/plain": "            problem_set_ID                                           question  \\\nproblem_ID                                                                      \n351                     30  Complete the construction of an equilateral tr...   \n352                     30                                         \\newpage\\n   \n353                     30                                     $x^2+6x+5=0$\\n   \n354                     30             $x^2+5x=14$\\n    \\end{multicols}\\n\\n\\n   \n\n                               file  q_len  \nproblem_ID                                  \n351         2-8DN_Constructions.tex    684  \n352         2-8DN_Constructions.tex     11  \n353         2-8DN_Constructions.tex     13  \n354         2-8DN_Constructions.tex     34  ",
      "text/html": "<div>\n<style scoped>\n    .dataframe tbody tr th:only-of-type {\n        vertical-align: middle;\n    }\n\n    .dataframe tbody tr th {\n        vertical-align: top;\n    }\n\n    .dataframe thead th {\n        text-align: right;\n    }\n</style>\n<table border=\"1\" class=\"dataframe\">\n  <thead>\n    <tr style=\"text-align: right;\">\n      <th></th>\n      <th>problem_set_ID</th>\n      <th>question</th>\n      <th>file</th>\n      <th>q_len</th>\n    </tr>\n    <tr>\n      <th>problem_ID</th>\n      <th></th>\n      <th></th>\n      <th></th>\n      <th></th>\n    </tr>\n  </thead>\n  <tbody>\n    <tr>\n      <th>351</th>\n      <td>30</td>\n      <td>Complete the construction of an equilateral tr...</td>\n      <td>2-8DN_Constructions.tex</td>\n      <td>684</td>\n    </tr>\n    <tr>\n      <th>352</th>\n      <td>30</td>\n      <td>\\newpage\\n</td>\n      <td>2-8DN_Constructions.tex</td>\n      <td>11</td>\n    </tr>\n    <tr>\n      <th>353</th>\n      <td>30</td>\n      <td>$x^2+6x+5=0$\\n</td>\n      <td>2-8DN_Constructions.tex</td>\n      <td>13</td>\n    </tr>\n    <tr>\n      <th>354</th>\n      <td>30</td>\n      <td>$x^2+5x=14$\\n    \\end{multicols}\\n\\n\\n</td>\n      <td>2-8DN_Constructions.tex</td>\n      <td>34</td>\n    </tr>\n  </tbody>\n</table>\n</div>"
     },
     "metadata": {},
     "execution_count": 13
    }
   ],
   "source": [
    "# CHECK Problem with itemize instead of enumerate\n",
    "problem_df[problem_df.problem_set_ID == 30].sort_index()"
   ]
  },
  {
   "cell_type": "code",
   "execution_count": 34,
   "metadata": {
    "tags": []
   },
   "outputs": [
    {
     "output_type": "stream",
     "name": "stdout",
     "text": "Complete the construction of an equilateral triangle with one side as $\\overline{AB}$. \\vspace{3cm}\n    \\begin{center}\n    \\begin{tikzpicture}\n      \\draw [-, thick] (0,0)--(0,6);\n      \\draw [fill] (0,0) circle [radius=0.05] node[left]{$A$};\n      \\draw [fill] (0,6) circle [radius=0.05] node[left]{$B$};\n    \\end{tikzpicture}\n    \\end{center} \\vspace{3cm}\n    \\begin{enumerate}\n      \\item Identify two circles in the construction. For each, name the center of the circle and the radius.  \\vspace{3cm}\n      \\item Assuming that the third vertex of the triangle is point $C$, explain why the distance from $A$ to $C$ is the same as the distance from $A$ to $B$.\n    \\end{enumerate}\n\n\n  \\newpage\n\n$x^2+6x+5=0$\n\n$x^2+5x=14$\n    \\end{multicols}\n\n\n\n"
    }
   ],
   "source": [
    "for q in problem_df[problem_df.problem_set_ID == 30].sort_index().question:\n",
    "    print(q)"
   ]
  },
  {
   "cell_type": "code",
   "execution_count": 12,
   "metadata": {},
   "outputs": [
    {
     "output_type": "execute_result",
     "data": {
      "text/plain": "unit                                          02-Midpoint+distance\nfile                                       2-8DN_Constructions.tex\nproblem_count                                                    5\nhead             [\\begin{document}\\n,   \\subsubsection*{2.8 Do ...\nbody             [\\item Complete the construction of an equilat...\nproblems_list    [Complete the construction of an equilateral t...\npath                         /Users/chris/GitHub/course-files/Geom\nfilename         /Users/chris/GitHub/course-files/Geom/02-Midpo...\nproblem_IDs                              [364, 366, 367, 365, 363]\nName: 30, dtype: object"
     },
     "metadata": {},
     "execution_count": 12
    }
   ],
   "source": [
    "pset_df.loc[30]"
   ]
  },
  {
   "cell_type": "code",
   "execution_count": 23,
   "metadata": {},
   "outputs": [
    {
     "output_type": "execute_result",
     "data": {
      "text/plain": "Empty DataFrame\nColumns: [filename, head, body, problems_list, problem_kind, problem_count, path, unit, file]\nIndex: []",
      "text/html": "<div>\n<style scoped>\n    .dataframe tbody tr th:only-of-type {\n        vertical-align: middle;\n    }\n\n    .dataframe tbody tr th {\n        vertical-align: top;\n    }\n\n    .dataframe thead th {\n        text-align: right;\n    }\n</style>\n<table border=\"1\" class=\"dataframe\">\n  <thead>\n    <tr style=\"text-align: right;\">\n      <th></th>\n      <th>filename</th>\n      <th>head</th>\n      <th>body</th>\n      <th>problems_list</th>\n      <th>problem_kind</th>\n      <th>problem_count</th>\n      <th>path</th>\n      <th>unit</th>\n      <th>file</th>\n    </tr>\n    <tr>\n      <th>problem_set_ID</th>\n      <th></th>\n      <th></th>\n      <th></th>\n      <th></th>\n      <th></th>\n      <th></th>\n      <th></th>\n      <th></th>\n      <th></th>\n    </tr>\n  </thead>\n  <tbody>\n  </tbody>\n</table>\n</div>"
     },
     "metadata": {},
     "execution_count": 23
    }
   ],
   "source": [
    "pset_df[pset_df.problems_list.apply(len) != pset_df.problem_kind.apply(len)]"
   ]
  },
  {
   "cell_type": "code",
   "execution_count": 16,
   "metadata": {},
   "outputs": [
    {
     "output_type": "execute_result",
     "data": {
      "text/plain": "            problem_set_ID                                     question  \\\nproblem_ID                                                                \n1647                   116                     \\subsubsection*{Spicy}\\n   \n91                       6               Find the value of $|2-7|$.\\n\\n   \n61                       6             Find the value of $|8.5-3|$.\\n\\n   \n816                     57           \\subsubsection*{Early finishers}\\n   \n777                     56           \\subsubsection*{Early finishers}\\n   \n1011                    73           \\subsubsection*{Early finishers}\\n   \n1303                    88           \\subsubsection*{Early finishers}\\n   \n1062                    76           \\subsubsection*{Early finishers}\\n   \n1400                    95           \\subsubsection*{Early finishers}\\n   \n114                      6         Find the value of $|11-4|+|-3|$.\\n\\n   \n869                     65         \\subsubsection*{Early finishers}\\n\\n   \n1275                    85         \\subsubsection*{Early finishers}\\n\\n   \n647                     47         \\subsubsection*{Early finishers}\\n\\n   \n1152                    79          %\\subsubsection*{Early Finishers}\\n   \n366                     30           \\subsubsection*{Early finishers}\\n   \n1565                   112       \\subsubsection*{Isosceles triangles}\\n   \n2131                   146      \\subsubsection*{Algebra competencies}\\n   \n534                     45  \\subsubsection*{Early finishers, spicy}\\n\\n   \n600                     46  \\subsubsection*{Early finishers, spicy}\\n\\n   \n1915                   134   \\subsubsection*{Applying density ratios}\\n   \n\n                kind                            filename  q_len  \nproblem_ID                                                       \n1647         section              7-7Exam-Similarity.tex     23  \n91          question                     1-4HW-Intro.tex     28  \n61          question                     1-4HW-Intro.tex     30  \n816          section       5-11bExam_Transformations.tex     33  \n777          section        5-11Exam_Transformations.tex     33  \n1011         section                6-10bCW_Dilation.tex     33  \n1303         section           6-7EN_Midpoint-graphs.tex     33  \n1062         section           6-11HW_pretest-angles.tex     33  \n1400         section          6-9HW_pretest-graphing.tex     33  \n114         question                     1-4HW-Intro.tex     34  \n869          section         5-7DNQ_Regents-dilation.tex     34  \n1275         section           6-6bDN_Distance+slope.tex     34  \n647          section           4-11Exam_Transversals.tex     34  \n1152         section      6-12Exam-Analytic-geometry.tex     34  \n366          section             2-8DN_Constructions.tex     35  \n1565         section       7-5bCW_Graphing+isosceles.tex     37  \n2131         section           8-9DN_Circle-equation.tex     38  \n534          section  3-9Exam_Volume+angle-bisectors.tex     41  \n600          section        4-10PreExam_Transversals.tex     41  \n1915         section                   8-3DN_Density.tex     41  ",
      "text/html": "<div>\n<style scoped>\n    .dataframe tbody tr th:only-of-type {\n        vertical-align: middle;\n    }\n\n    .dataframe tbody tr th {\n        vertical-align: top;\n    }\n\n    .dataframe thead th {\n        text-align: right;\n    }\n</style>\n<table border=\"1\" class=\"dataframe\">\n  <thead>\n    <tr style=\"text-align: right;\">\n      <th></th>\n      <th>problem_set_ID</th>\n      <th>question</th>\n      <th>kind</th>\n      <th>filename</th>\n      <th>q_len</th>\n    </tr>\n    <tr>\n      <th>problem_ID</th>\n      <th></th>\n      <th></th>\n      <th></th>\n      <th></th>\n      <th></th>\n    </tr>\n  </thead>\n  <tbody>\n    <tr>\n      <th>1647</th>\n      <td>116</td>\n      <td>\\subsubsection*{Spicy}\\n</td>\n      <td>section</td>\n      <td>7-7Exam-Similarity.tex</td>\n      <td>23</td>\n    </tr>\n    <tr>\n      <th>91</th>\n      <td>6</td>\n      <td>Find the value of $|2-7|$.\\n\\n</td>\n      <td>question</td>\n      <td>1-4HW-Intro.tex</td>\n      <td>28</td>\n    </tr>\n    <tr>\n      <th>61</th>\n      <td>6</td>\n      <td>Find the value of $|8.5-3|$.\\n\\n</td>\n      <td>question</td>\n      <td>1-4HW-Intro.tex</td>\n      <td>30</td>\n    </tr>\n    <tr>\n      <th>816</th>\n      <td>57</td>\n      <td>\\subsubsection*{Early finishers}\\n</td>\n      <td>section</td>\n      <td>5-11bExam_Transformations.tex</td>\n      <td>33</td>\n    </tr>\n    <tr>\n      <th>777</th>\n      <td>56</td>\n      <td>\\subsubsection*{Early finishers}\\n</td>\n      <td>section</td>\n      <td>5-11Exam_Transformations.tex</td>\n      <td>33</td>\n    </tr>\n    <tr>\n      <th>1011</th>\n      <td>73</td>\n      <td>\\subsubsection*{Early finishers}\\n</td>\n      <td>section</td>\n      <td>6-10bCW_Dilation.tex</td>\n      <td>33</td>\n    </tr>\n    <tr>\n      <th>1303</th>\n      <td>88</td>\n      <td>\\subsubsection*{Early finishers}\\n</td>\n      <td>section</td>\n      <td>6-7EN_Midpoint-graphs.tex</td>\n      <td>33</td>\n    </tr>\n    <tr>\n      <th>1062</th>\n      <td>76</td>\n      <td>\\subsubsection*{Early finishers}\\n</td>\n      <td>section</td>\n      <td>6-11HW_pretest-angles.tex</td>\n      <td>33</td>\n    </tr>\n    <tr>\n      <th>1400</th>\n      <td>95</td>\n      <td>\\subsubsection*{Early finishers}\\n</td>\n      <td>section</td>\n      <td>6-9HW_pretest-graphing.tex</td>\n      <td>33</td>\n    </tr>\n    <tr>\n      <th>114</th>\n      <td>6</td>\n      <td>Find the value of $|11-4|+|-3|$.\\n\\n</td>\n      <td>question</td>\n      <td>1-4HW-Intro.tex</td>\n      <td>34</td>\n    </tr>\n    <tr>\n      <th>869</th>\n      <td>65</td>\n      <td>\\subsubsection*{Early finishers}\\n\\n</td>\n      <td>section</td>\n      <td>5-7DNQ_Regents-dilation.tex</td>\n      <td>34</td>\n    </tr>\n    <tr>\n      <th>1275</th>\n      <td>85</td>\n      <td>\\subsubsection*{Early finishers}\\n\\n</td>\n      <td>section</td>\n      <td>6-6bDN_Distance+slope.tex</td>\n      <td>34</td>\n    </tr>\n    <tr>\n      <th>647</th>\n      <td>47</td>\n      <td>\\subsubsection*{Early finishers}\\n\\n</td>\n      <td>section</td>\n      <td>4-11Exam_Transversals.tex</td>\n      <td>34</td>\n    </tr>\n    <tr>\n      <th>1152</th>\n      <td>79</td>\n      <td>%\\subsubsection*{Early Finishers}\\n</td>\n      <td>section</td>\n      <td>6-12Exam-Analytic-geometry.tex</td>\n      <td>34</td>\n    </tr>\n    <tr>\n      <th>366</th>\n      <td>30</td>\n      <td>\\subsubsection*{Early finishers}\\n</td>\n      <td>section</td>\n      <td>2-8DN_Constructions.tex</td>\n      <td>35</td>\n    </tr>\n    <tr>\n      <th>1565</th>\n      <td>112</td>\n      <td>\\subsubsection*{Isosceles triangles}\\n</td>\n      <td>section</td>\n      <td>7-5bCW_Graphing+isosceles.tex</td>\n      <td>37</td>\n    </tr>\n    <tr>\n      <th>2131</th>\n      <td>146</td>\n      <td>\\subsubsection*{Algebra competencies}\\n</td>\n      <td>section</td>\n      <td>8-9DN_Circle-equation.tex</td>\n      <td>38</td>\n    </tr>\n    <tr>\n      <th>534</th>\n      <td>45</td>\n      <td>\\subsubsection*{Early finishers, spicy}\\n\\n</td>\n      <td>section</td>\n      <td>3-9Exam_Volume+angle-bisectors.tex</td>\n      <td>41</td>\n    </tr>\n    <tr>\n      <th>600</th>\n      <td>46</td>\n      <td>\\subsubsection*{Early finishers, spicy}\\n\\n</td>\n      <td>section</td>\n      <td>4-10PreExam_Transversals.tex</td>\n      <td>41</td>\n    </tr>\n    <tr>\n      <th>1915</th>\n      <td>134</td>\n      <td>\\subsubsection*{Applying density ratios}\\n</td>\n      <td>section</td>\n      <td>8-3DN_Density.tex</td>\n      <td>41</td>\n    </tr>\n  </tbody>\n</table>\n</div>"
     },
     "metadata": {},
     "execution_count": 16
    }
   ],
   "source": [
    "problem_df[problem_df.q_len > 16].head(20)"
   ]
  },
  {
   "cell_type": "code",
   "execution_count": 22,
   "metadata": {},
   "outputs": [
    {
     "output_type": "execute_result",
     "data": {
      "text/plain": "          problem_set_ID  question  filename  q_len\nkind                                               \nnewpage              509       509       509    509\nquestion            1813      1813      1813   1813\nsection              121       121       121    121",
      "text/html": "<div>\n<style scoped>\n    .dataframe tbody tr th:only-of-type {\n        vertical-align: middle;\n    }\n\n    .dataframe tbody tr th {\n        vertical-align: top;\n    }\n\n    .dataframe thead th {\n        text-align: right;\n    }\n</style>\n<table border=\"1\" class=\"dataframe\">\n  <thead>\n    <tr style=\"text-align: right;\">\n      <th></th>\n      <th>problem_set_ID</th>\n      <th>question</th>\n      <th>filename</th>\n      <th>q_len</th>\n    </tr>\n    <tr>\n      <th>kind</th>\n      <th></th>\n      <th></th>\n      <th></th>\n      <th></th>\n    </tr>\n  </thead>\n  <tbody>\n    <tr>\n      <th>newpage</th>\n      <td>509</td>\n      <td>509</td>\n      <td>509</td>\n      <td>509</td>\n    </tr>\n    <tr>\n      <th>question</th>\n      <td>1813</td>\n      <td>1813</td>\n      <td>1813</td>\n      <td>1813</td>\n    </tr>\n    <tr>\n      <th>section</th>\n      <td>121</td>\n      <td>121</td>\n      <td>121</td>\n      <td>121</td>\n    </tr>\n  </tbody>\n</table>\n</div>"
     },
     "metadata": {},
     "execution_count": 22
    }
   ],
   "source": [
    "problem_df.groupby('kind').count()"
   ]
  },
  {
   "cell_type": "code",
   "execution_count": 21,
   "metadata": {},
   "outputs": [
    {
     "output_type": "execute_result",
     "data": {
      "text/plain": "            problem_set_ID                                           question  \\\nproblem_ID                                                                      \n0                        0  Given the line segment $\\overline{PQ}$ shown b...   \n1                        0                                       \\newpage\\n\\n   \n2                        0  Given an angle with vertex $A$. Answer the que...   \n3                        0                                         \\newpage\\n   \n4                        0  Given the rectangle $ABCD$ shown below. Answer...   \n...                    ...                                                ...   \n2438                   171  What is the equation of a line through $(-7,10...   \n2439                   171  What is an equation of the perpendicular bisec...   \n2440                   171                                       \\newpage\\n\\n   \n2441                   171  $\\triangle ABC$ is shown with $m\\angle C=90^\\c...   \n2442                   171  The following diagram shows a pole BT 1.6 m ta...   \n\n                kind                       filename  q_len  \nproblem_ID                                                  \n0           question          1-1CW_Measurement.tex    732  \n1            newpage          1-1CW_Measurement.tex     10  \n2           question          1-1CW_Measurement.tex    676  \n3            newpage          1-1CW_Measurement.tex      9  \n4           question          1-1CW_Measurement.tex   1165  \n...              ...                            ...    ...  \n2438        question  10-6DN_Tangent-situations.tex    104  \n2439        question  10-6DN_Tangent-situations.tex    113  \n2440         newpage  10-6DN_Tangent-situations.tex     10  \n2441        question  10-6DN_Tangent-situations.tex    745  \n2442        question  10-6DN_Tangent-situations.tex    885  \n\n[2443 rows x 5 columns]",
      "text/html": "<div>\n<style scoped>\n    .dataframe tbody tr th:only-of-type {\n        vertical-align: middle;\n    }\n\n    .dataframe tbody tr th {\n        vertical-align: top;\n    }\n\n    .dataframe thead th {\n        text-align: right;\n    }\n</style>\n<table border=\"1\" class=\"dataframe\">\n  <thead>\n    <tr style=\"text-align: right;\">\n      <th></th>\n      <th>problem_set_ID</th>\n      <th>question</th>\n      <th>kind</th>\n      <th>filename</th>\n      <th>q_len</th>\n    </tr>\n    <tr>\n      <th>problem_ID</th>\n      <th></th>\n      <th></th>\n      <th></th>\n      <th></th>\n      <th></th>\n    </tr>\n  </thead>\n  <tbody>\n    <tr>\n      <th>0</th>\n      <td>0</td>\n      <td>Given the line segment $\\overline{PQ}$ shown b...</td>\n      <td>question</td>\n      <td>1-1CW_Measurement.tex</td>\n      <td>732</td>\n    </tr>\n    <tr>\n      <th>1</th>\n      <td>0</td>\n      <td>\\newpage\\n\\n</td>\n      <td>newpage</td>\n      <td>1-1CW_Measurement.tex</td>\n      <td>10</td>\n    </tr>\n    <tr>\n      <th>2</th>\n      <td>0</td>\n      <td>Given an angle with vertex $A$. Answer the que...</td>\n      <td>question</td>\n      <td>1-1CW_Measurement.tex</td>\n      <td>676</td>\n    </tr>\n    <tr>\n      <th>3</th>\n      <td>0</td>\n      <td>\\newpage\\n</td>\n      <td>newpage</td>\n      <td>1-1CW_Measurement.tex</td>\n      <td>9</td>\n    </tr>\n    <tr>\n      <th>4</th>\n      <td>0</td>\n      <td>Given the rectangle $ABCD$ shown below. Answer...</td>\n      <td>question</td>\n      <td>1-1CW_Measurement.tex</td>\n      <td>1165</td>\n    </tr>\n    <tr>\n      <th>...</th>\n      <td>...</td>\n      <td>...</td>\n      <td>...</td>\n      <td>...</td>\n      <td>...</td>\n    </tr>\n    <tr>\n      <th>2438</th>\n      <td>171</td>\n      <td>What is the equation of a line through $(-7,10...</td>\n      <td>question</td>\n      <td>10-6DN_Tangent-situations.tex</td>\n      <td>104</td>\n    </tr>\n    <tr>\n      <th>2439</th>\n      <td>171</td>\n      <td>What is an equation of the perpendicular bisec...</td>\n      <td>question</td>\n      <td>10-6DN_Tangent-situations.tex</td>\n      <td>113</td>\n    </tr>\n    <tr>\n      <th>2440</th>\n      <td>171</td>\n      <td>\\newpage\\n\\n</td>\n      <td>newpage</td>\n      <td>10-6DN_Tangent-situations.tex</td>\n      <td>10</td>\n    </tr>\n    <tr>\n      <th>2441</th>\n      <td>171</td>\n      <td>$\\triangle ABC$ is shown with $m\\angle C=90^\\c...</td>\n      <td>question</td>\n      <td>10-6DN_Tangent-situations.tex</td>\n      <td>745</td>\n    </tr>\n    <tr>\n      <th>2442</th>\n      <td>171</td>\n      <td>The following diagram shows a pole BT 1.6 m ta...</td>\n      <td>question</td>\n      <td>10-6DN_Tangent-situations.tex</td>\n      <td>885</td>\n    </tr>\n  </tbody>\n</table>\n<p>2443 rows × 5 columns</p>\n</div>"
     },
     "metadata": {},
     "execution_count": 21
    }
   ],
   "source": [
    "problem_df"
   ]
  },
  {
   "cell_type": "code",
   "execution_count": 27,
   "metadata": {},
   "outputs": [
    {
     "output_type": "execute_result",
     "data": {
      "text/plain": "                                          filename  problem_count\nproblem_set_ID                                                   \n161                    9-8DN-Similarity-review.tex             20\n132                          8-2bDN_Estimation.tex             22\n115                       7-6bCW_Tangent+mixed.tex             23\n143                    8-7bPreExam_Area+volume.tex             23\n13                         1-7Exam-corrections.tex             23\n71                           5-9bDN_Multi-step.tex             24\n12                               1-7Exam-Intro.tex             25\n160                    9-7CW-Similarity-review.tex             25\n117                        7-7bExam-Similarity.tex             26\n164                   9-9bExam-transformations.tex             28\n70                  5-9PreExam_Transformations.tex             28\n159                   9-5bExam-transformations.tex             31\n80                 6-12bExam-Analytic-geometry.tex             33\n130                              8-1DN_Circles.tex             34\n163                    9-9Exam-transformations.tex             35\n144                        8-8Exam_Area+volume.tex             37\n32                       2-9Exam_area-distance.tex             37\n116                         7-7Exam-Similarity.tex             37\n82                        6-3CW_Absense-packet.tex             39\n57                   5-11bExam_Transformations.tex             40\n56                    5-11Exam_Transformations.tex             42\n133                   8-3CW_Circle-terminology.tex             43\n79                  6-12Exam-Analytic-geometry.tex             43\n45              3-9Exam_Volume+angle-bisectors.tex             46\n47                       4-11Exam_Transversals.tex             48\n76                       6-11HW_pretest-angles.tex             49\n73                            6-10bCW_Dilation.tex             55\n95                      6-9HW_pretest-graphing.tex             57\n46                    4-10PreExam_Transversals.tex             64\n6                                  1-4HW-Intro.tex            115",
      "text/html": "<div>\n<style scoped>\n    .dataframe tbody tr th:only-of-type {\n        vertical-align: middle;\n    }\n\n    .dataframe tbody tr th {\n        vertical-align: top;\n    }\n\n    .dataframe thead th {\n        text-align: right;\n    }\n</style>\n<table border=\"1\" class=\"dataframe\">\n  <thead>\n    <tr style=\"text-align: right;\">\n      <th></th>\n      <th>filename</th>\n      <th>problem_count</th>\n    </tr>\n    <tr>\n      <th>problem_set_ID</th>\n      <th></th>\n      <th></th>\n    </tr>\n  </thead>\n  <tbody>\n    <tr>\n      <th>161</th>\n      <td>9-8DN-Similarity-review.tex</td>\n      <td>20</td>\n    </tr>\n    <tr>\n      <th>132</th>\n      <td>8-2bDN_Estimation.tex</td>\n      <td>22</td>\n    </tr>\n    <tr>\n      <th>115</th>\n      <td>7-6bCW_Tangent+mixed.tex</td>\n      <td>23</td>\n    </tr>\n    <tr>\n      <th>143</th>\n      <td>8-7bPreExam_Area+volume.tex</td>\n      <td>23</td>\n    </tr>\n    <tr>\n      <th>13</th>\n      <td>1-7Exam-corrections.tex</td>\n      <td>23</td>\n    </tr>\n    <tr>\n      <th>71</th>\n      <td>5-9bDN_Multi-step.tex</td>\n      <td>24</td>\n    </tr>\n    <tr>\n      <th>12</th>\n      <td>1-7Exam-Intro.tex</td>\n      <td>25</td>\n    </tr>\n    <tr>\n      <th>160</th>\n      <td>9-7CW-Similarity-review.tex</td>\n      <td>25</td>\n    </tr>\n    <tr>\n      <th>117</th>\n      <td>7-7bExam-Similarity.tex</td>\n      <td>26</td>\n    </tr>\n    <tr>\n      <th>164</th>\n      <td>9-9bExam-transformations.tex</td>\n      <td>28</td>\n    </tr>\n    <tr>\n      <th>70</th>\n      <td>5-9PreExam_Transformations.tex</td>\n      <td>28</td>\n    </tr>\n    <tr>\n      <th>159</th>\n      <td>9-5bExam-transformations.tex</td>\n      <td>31</td>\n    </tr>\n    <tr>\n      <th>80</th>\n      <td>6-12bExam-Analytic-geometry.tex</td>\n      <td>33</td>\n    </tr>\n    <tr>\n      <th>130</th>\n      <td>8-1DN_Circles.tex</td>\n      <td>34</td>\n    </tr>\n    <tr>\n      <th>163</th>\n      <td>9-9Exam-transformations.tex</td>\n      <td>35</td>\n    </tr>\n    <tr>\n      <th>144</th>\n      <td>8-8Exam_Area+volume.tex</td>\n      <td>37</td>\n    </tr>\n    <tr>\n      <th>32</th>\n      <td>2-9Exam_area-distance.tex</td>\n      <td>37</td>\n    </tr>\n    <tr>\n      <th>116</th>\n      <td>7-7Exam-Similarity.tex</td>\n      <td>37</td>\n    </tr>\n    <tr>\n      <th>82</th>\n      <td>6-3CW_Absense-packet.tex</td>\n      <td>39</td>\n    </tr>\n    <tr>\n      <th>57</th>\n      <td>5-11bExam_Transformations.tex</td>\n      <td>40</td>\n    </tr>\n    <tr>\n      <th>56</th>\n      <td>5-11Exam_Transformations.tex</td>\n      <td>42</td>\n    </tr>\n    <tr>\n      <th>133</th>\n      <td>8-3CW_Circle-terminology.tex</td>\n      <td>43</td>\n    </tr>\n    <tr>\n      <th>79</th>\n      <td>6-12Exam-Analytic-geometry.tex</td>\n      <td>43</td>\n    </tr>\n    <tr>\n      <th>45</th>\n      <td>3-9Exam_Volume+angle-bisectors.tex</td>\n      <td>46</td>\n    </tr>\n    <tr>\n      <th>47</th>\n      <td>4-11Exam_Transversals.tex</td>\n      <td>48</td>\n    </tr>\n    <tr>\n      <th>76</th>\n      <td>6-11HW_pretest-angles.tex</td>\n      <td>49</td>\n    </tr>\n    <tr>\n      <th>73</th>\n      <td>6-10bCW_Dilation.tex</td>\n      <td>55</td>\n    </tr>\n    <tr>\n      <th>95</th>\n      <td>6-9HW_pretest-graphing.tex</td>\n      <td>57</td>\n    </tr>\n    <tr>\n      <th>46</th>\n      <td>4-10PreExam_Transversals.tex</td>\n      <td>64</td>\n    </tr>\n    <tr>\n      <th>6</th>\n      <td>1-4HW-Intro.tex</td>\n      <td>115</td>\n    </tr>\n  </tbody>\n</table>\n</div>"
     },
     "metadata": {},
     "execution_count": 27
    }
   ],
   "source": [
    "pset_df.sort_values('problem_count')[['filename', 'problem_count']].tail(30)"
   ]
  },
  {
   "cell_type": "code",
   "execution_count": null,
   "metadata": {},
   "outputs": [],
   "source": []
  }
 ]
}