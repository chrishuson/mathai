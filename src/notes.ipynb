{
 "metadata": {
  "language_info": {
   "codemirror_mode": {
    "name": "ipython",
    "version": 3
   },
   "file_extension": ".py",
   "mimetype": "text/x-python",
   "name": "python",
   "nbconvert_exporter": "python",
   "pygments_lexer": "ipython3",
   "version": "3.7.6-final"
  },
  "orig_nbformat": 2,
  "kernelspec": {
   "name": "python_defaultSpec_1597921922881",
   "display_name": "Python 3.7.6 64-bit ('base': conda)"
  }
 },
 "nbformat": 4,
 "nbformat_minor": 2,
 "cells": [
  {
   "cell_type": "code",
   "execution_count": 1,
   "metadata": {
    "tags": []
   },
   "outputs": [
    {
     "output_type": "execute_result",
     "data": {
      "text/plain": "'/Users/chris/GitHub/mathai/src'"
     },
     "metadata": {},
     "execution_count": 1
    }
   ],
   "source": [
    "import os\n",
    "import sys\n",
    "import pandas as pd\n",
    "import numpy as np\n",
    "from ast import literal_eval\n",
    "\n",
    "os.getcwd()"
   ]
  },
  {
   "cell_type": "code",
   "execution_count": 5,
   "metadata": {
    "tags": []
   },
   "outputs": [
    {
     "output_type": "error",
     "ename": "SyntaxError",
     "evalue": "trailing comma not allowed without surrounding parentheses (<ipython-input-5-b8f3d3b4f3ea>, line 1)",
     "traceback": [
      "\u001b[0;36m  File \u001b[0;32m\"<ipython-input-5-b8f3d3b4f3ea>\"\u001b[0;36m, line \u001b[0;32m1\u001b[0m\n\u001b[0;31m    from main import print_problems_df, map_course_files, parse_course_files, parse_problem_sets,\u001b[0m\n\u001b[0m                    ^\u001b[0m\n\u001b[0;31mSyntaxError\u001b[0m\u001b[0;31m:\u001b[0m trailing comma not allowed without surrounding parentheses\n"
     ]
    }
   ],
   "source": [
    "from main import print_problems_df, map_course_files, parse_course_files, parse_problem_sets"
   ]
  },
  {
   "cell_type": "markdown",
   "metadata": {},
   "source": [
    "## problems and problem set dataframes, refactoring"
   ]
  },
  {
   "cell_type": "code",
   "execution_count": 90,
   "metadata": {},
   "outputs": [],
   "source": [
    "newpage_df.to_csv('/Users/chris/GitHub/mathai/db/newpage_df.csv')\n",
    "problem_df.to_csv('/Users/chris/GitHub/mathai/db/problem_df.csv')\n",
    "pset_df.to_csv('/Users/chris/GitHub/mathai/db/pset_df.csv')\n",
    "multicol_error_pset_df.to_csv('/Users/chris/GitHub/mathai/db/multicol_error_pset_df.csv')"
   ]
  },
  {
   "cell_type": "code",
   "execution_count": 67,
   "metadata": {},
   "outputs": [],
   "source": []
  },
  {
   "cell_type": "code",
   "execution_count": 2,
   "metadata": {
    "tags": []
   },
   "outputs": [
    {
     "output_type": "stream",
     "name": "stdout",
     "text": "problem_df:  2107 problem_ID Index(['problem_set_ID', 'question', 'q_len', 'file'], dtype='object')\nnewpage_df:  513 problem_ID Index(['problem_set_ID', 'question', 'q_len', 'file'], dtype='object')\npset_df:  172 problem_set_ID Index(['filename', 'head', 'body', 'problems_list', 'problem_count', 'path',\n       'unit', 'file'],\n      dtype='object')\nmulticol_error_pset_df:  38\n"
    }
   ],
   "source": [
    "problem_df = pd.read_csv('../db/problem_df.csv', index_col='problem_ID')\n",
    "newpage_df = pd.read_csv('../db/newpage_df.csv', index_col='problem_ID')\n",
    "cols_into_lists = {'problem_IDs':literal_eval, 'head':literal_eval, 'body':literal_eval, 'problems_list':literal_eval}\n",
    "pset_df = pd.read_csv('../db/pset_df.csv', index_col='problem_set_ID', converters=cols_into_lists)\n",
    "multicol_error_pset_df = pd.read_csv('../db/multicol_error_pset_df.csv', index_col='problem_set_ID', converters=cols_into_lists)\n",
    "print('problem_df: ', len(problem_df), problem_df.index.name, problem_df.columns)\n",
    "print('newpage_df: ', len(newpage_df), newpage_df.index.name, newpage_df.columns)\n",
    "print('pset_df: ', len(pset_df), pset_df.index.name, pset_df.columns)\n",
    "print('multicol_error_pset_df: ', len(multicol_error_pset_df))"
   ]
  },
  {
   "cell_type": "code",
   "execution_count": 47,
   "metadata": {},
   "outputs": [
    {
     "output_type": "execute_result",
     "data": {
      "text/plain": "                                                         filename  \\\nproblem_set_ID                                                      \n0               /Users/chris/GitHub/course-files/Geom/01-Intro...   \n1               /Users/chris/GitHub/course-files/Geom/01-Intro...   \n2               /Users/chris/GitHub/course-files/Geom/01-Intro...   \n3               /Users/chris/GitHub/course-files/Geom/01-Intro...   \n4               /Users/chris/GitHub/course-files/Geom/01-Intro...   \n...                                                           ...   \n167             /Users/chris/GitHub/course-files/Geom/10-Trig+...   \n168             /Users/chris/GitHub/course-files/Geom/10-Trig+...   \n169             /Users/chris/GitHub/course-files/Geom/10-Trig+...   \n170             /Users/chris/GitHub/course-files/Geom/10-Trig+...   \n171             /Users/chris/GitHub/course-files/Geom/10-Trig+...   \n\n                                                             head  \\\nproblem_set_ID                                                      \n0               [\\begin{document}\\n, \\subsubsection*{1-1 Class...   \n1               [\\begin{document}\\n, \\subsubsection*{1-1 Do No...   \n2               [\\begin{document}\\n, \\subsubsection*{1-1 Homew...   \n3               [\\begin{document}\\n, \\subsubsection*{1-3 Do No...   \n4               [\\begin{document}\\n, \\subsubsection*{Homework ...   \n...                                                           ...   \n167             [\\begin{document}\\n, \\subsubsection*{10.3 Do N...   \n168             [\\begin{document}\\n, \\subsubsection*{10.3b Do ...   \n169             [\\begin{document}\\n, \\subsubsection*{10.4 Do N...   \n170             [\\begin{document}\\n, \\subsubsection*{10.4b Do ...   \n171             [\\begin{document}\\n, \\subsubsection*{10.6 Clas...   \n\n                                                             body  \\\nproblem_set_ID                                                      \n0               [\\n,   \\item Given the line segment $\\overline...   \n1               [\\n, \\n,   \\item In the following two problems...   \n2               [\\n, \\n,   \\item In the following two problems...   \n3               [  \\item I have a compass, ruler, protractor, ...   \n4               [\\n,     \\item Construct an equilateral triang...   \n...                                                           ...   \n167             [\\n, \\n,   \\item Write down the slope perpendi...   \n168             [\\n,   \\item Write down the slope parallel or ...   \n169             [\\n,   \\item Write down the slope perpendicula...   \n170             [\\n,   \\item Write down the slope parallel or ...   \n171             [\\n,   \\item Write down the slope perpendicula...   \n\n                                                    problems_list  \\\nproblem_set_ID                                                      \n0               [Given the line segment $\\overline{PQ}$ shown ...   \n1               [\\n\\n, In the following two problems, solve fo...   \n2               [\\n\\n, In the following two problems, solve fo...   \n3               [I have a compass, ruler, protractor, notebook...   \n4               [Construct an equilateral triangle with $\\over...   \n...                                                           ...   \n167             [\\n\\n, Write down the slope perpendicular to t...   \n168             [Write down the slope parallel or perpendicula...   \n169             [Write down the slope perpendicular to the giv...   \n170             [Write down the slope parallel or perpendicula...   \n171             [Write down the slope perpendicular to the giv...   \n\n                problem_count                                   path  \\\nproblem_set_ID                                                         \n0                           9  /Users/chris/GitHub/course-files/Geom   \n1                           8  /Users/chris/GitHub/course-files/Geom   \n2                           9  /Users/chris/GitHub/course-files/Geom   \n3                           6  /Users/chris/GitHub/course-files/Geom   \n4                          11  /Users/chris/GitHub/course-files/Geom   \n...                       ...                                    ...   \n167                        10  /Users/chris/GitHub/course-files/Geom   \n168                        13  /Users/chris/GitHub/course-files/Geom   \n169                         8  /Users/chris/GitHub/course-files/Geom   \n170                        13  /Users/chris/GitHub/course-files/Geom   \n171                         8  /Users/chris/GitHub/course-files/Geom   \n\n                                        unit                            file  \nproblem_set_ID                                                                \n0                                   01-Intro           1-1CW_Measurement.tex  \n1                                   01-Intro               1-1DN_Algebra.tex  \n2                                   01-Intro               1-1HW_Algebra.tex  \n3                                   01-Intro   1-3DN_Function-intercepts.tex  \n4                                   01-Intro  1-3HW_Equilateral-triangle.tex  \n...                                      ...                             ...  \n167             10-Trig+similarity+analytics     10-2DN_Analytics-review.tex  \n168             10-Trig+similarity+analytics    10-2bDN_Analytics-review.tex  \n169             10-Trig+similarity+analytics   10-4DN_Tangent-situations.tex  \n170             10-Trig+similarity+analytics    10-4bDN_Analytics-review.tex  \n171             10-Trig+similarity+analytics   10-6DN_Tangent-situations.tex  \n\n[172 rows x 8 columns]",
      "text/html": "<div>\n<style scoped>\n    .dataframe tbody tr th:only-of-type {\n        vertical-align: middle;\n    }\n\n    .dataframe tbody tr th {\n        vertical-align: top;\n    }\n\n    .dataframe thead th {\n        text-align: right;\n    }\n</style>\n<table border=\"1\" class=\"dataframe\">\n  <thead>\n    <tr style=\"text-align: right;\">\n      <th></th>\n      <th>filename</th>\n      <th>head</th>\n      <th>body</th>\n      <th>problems_list</th>\n      <th>problem_count</th>\n      <th>path</th>\n      <th>unit</th>\n      <th>file</th>\n    </tr>\n    <tr>\n      <th>problem_set_ID</th>\n      <th></th>\n      <th></th>\n      <th></th>\n      <th></th>\n      <th></th>\n      <th></th>\n      <th></th>\n      <th></th>\n    </tr>\n  </thead>\n  <tbody>\n    <tr>\n      <th>0</th>\n      <td>/Users/chris/GitHub/course-files/Geom/01-Intro...</td>\n      <td>[\\begin{document}\\n, \\subsubsection*{1-1 Class...</td>\n      <td>[\\n,   \\item Given the line segment $\\overline...</td>\n      <td>[Given the line segment $\\overline{PQ}$ shown ...</td>\n      <td>9</td>\n      <td>/Users/chris/GitHub/course-files/Geom</td>\n      <td>01-Intro</td>\n      <td>1-1CW_Measurement.tex</td>\n    </tr>\n    <tr>\n      <th>1</th>\n      <td>/Users/chris/GitHub/course-files/Geom/01-Intro...</td>\n      <td>[\\begin{document}\\n, \\subsubsection*{1-1 Do No...</td>\n      <td>[\\n, \\n,   \\item In the following two problems...</td>\n      <td>[\\n\\n, In the following two problems, solve fo...</td>\n      <td>8</td>\n      <td>/Users/chris/GitHub/course-files/Geom</td>\n      <td>01-Intro</td>\n      <td>1-1DN_Algebra.tex</td>\n    </tr>\n    <tr>\n      <th>2</th>\n      <td>/Users/chris/GitHub/course-files/Geom/01-Intro...</td>\n      <td>[\\begin{document}\\n, \\subsubsection*{1-1 Homew...</td>\n      <td>[\\n, \\n,   \\item In the following two problems...</td>\n      <td>[\\n\\n, In the following two problems, solve fo...</td>\n      <td>9</td>\n      <td>/Users/chris/GitHub/course-files/Geom</td>\n      <td>01-Intro</td>\n      <td>1-1HW_Algebra.tex</td>\n    </tr>\n    <tr>\n      <th>3</th>\n      <td>/Users/chris/GitHub/course-files/Geom/01-Intro...</td>\n      <td>[\\begin{document}\\n, \\subsubsection*{1-3 Do No...</td>\n      <td>[  \\item I have a compass, ruler, protractor, ...</td>\n      <td>[I have a compass, ruler, protractor, notebook...</td>\n      <td>6</td>\n      <td>/Users/chris/GitHub/course-files/Geom</td>\n      <td>01-Intro</td>\n      <td>1-3DN_Function-intercepts.tex</td>\n    </tr>\n    <tr>\n      <th>4</th>\n      <td>/Users/chris/GitHub/course-files/Geom/01-Intro...</td>\n      <td>[\\begin{document}\\n, \\subsubsection*{Homework ...</td>\n      <td>[\\n,     \\item Construct an equilateral triang...</td>\n      <td>[Construct an equilateral triangle with $\\over...</td>\n      <td>11</td>\n      <td>/Users/chris/GitHub/course-files/Geom</td>\n      <td>01-Intro</td>\n      <td>1-3HW_Equilateral-triangle.tex</td>\n    </tr>\n    <tr>\n      <th>...</th>\n      <td>...</td>\n      <td>...</td>\n      <td>...</td>\n      <td>...</td>\n      <td>...</td>\n      <td>...</td>\n      <td>...</td>\n      <td>...</td>\n    </tr>\n    <tr>\n      <th>167</th>\n      <td>/Users/chris/GitHub/course-files/Geom/10-Trig+...</td>\n      <td>[\\begin{document}\\n, \\subsubsection*{10.3 Do N...</td>\n      <td>[\\n, \\n,   \\item Write down the slope perpendi...</td>\n      <td>[\\n\\n, Write down the slope perpendicular to t...</td>\n      <td>10</td>\n      <td>/Users/chris/GitHub/course-files/Geom</td>\n      <td>10-Trig+similarity+analytics</td>\n      <td>10-2DN_Analytics-review.tex</td>\n    </tr>\n    <tr>\n      <th>168</th>\n      <td>/Users/chris/GitHub/course-files/Geom/10-Trig+...</td>\n      <td>[\\begin{document}\\n, \\subsubsection*{10.3b Do ...</td>\n      <td>[\\n,   \\item Write down the slope parallel or ...</td>\n      <td>[Write down the slope parallel or perpendicula...</td>\n      <td>13</td>\n      <td>/Users/chris/GitHub/course-files/Geom</td>\n      <td>10-Trig+similarity+analytics</td>\n      <td>10-2bDN_Analytics-review.tex</td>\n    </tr>\n    <tr>\n      <th>169</th>\n      <td>/Users/chris/GitHub/course-files/Geom/10-Trig+...</td>\n      <td>[\\begin{document}\\n, \\subsubsection*{10.4 Do N...</td>\n      <td>[\\n,   \\item Write down the slope perpendicula...</td>\n      <td>[Write down the slope perpendicular to the giv...</td>\n      <td>8</td>\n      <td>/Users/chris/GitHub/course-files/Geom</td>\n      <td>10-Trig+similarity+analytics</td>\n      <td>10-4DN_Tangent-situations.tex</td>\n    </tr>\n    <tr>\n      <th>170</th>\n      <td>/Users/chris/GitHub/course-files/Geom/10-Trig+...</td>\n      <td>[\\begin{document}\\n, \\subsubsection*{10.4b Do ...</td>\n      <td>[\\n,   \\item Write down the slope parallel or ...</td>\n      <td>[Write down the slope parallel or perpendicula...</td>\n      <td>13</td>\n      <td>/Users/chris/GitHub/course-files/Geom</td>\n      <td>10-Trig+similarity+analytics</td>\n      <td>10-4bDN_Analytics-review.tex</td>\n    </tr>\n    <tr>\n      <th>171</th>\n      <td>/Users/chris/GitHub/course-files/Geom/10-Trig+...</td>\n      <td>[\\begin{document}\\n, \\subsubsection*{10.6 Clas...</td>\n      <td>[\\n,   \\item Write down the slope perpendicula...</td>\n      <td>[Write down the slope perpendicular to the giv...</td>\n      <td>8</td>\n      <td>/Users/chris/GitHub/course-files/Geom</td>\n      <td>10-Trig+similarity+analytics</td>\n      <td>10-6DN_Tangent-situations.tex</td>\n    </tr>\n  </tbody>\n</table>\n<p>172 rows × 8 columns</p>\n</div>"
     },
     "metadata": {},
     "execution_count": 47
    }
   ],
   "source": [
    "pset_df"
   ]
  },
  {
   "cell_type": "code",
   "execution_count": 3,
   "metadata": {},
   "outputs": [
    {
     "output_type": "error",
     "ename": "NameError",
     "evalue": "name 'p_df' is not defined",
     "traceback": [
      "\u001b[0;31m---------------------------------------------------------------------------\u001b[0m",
      "\u001b[0;31mNameError\u001b[0m                                 Traceback (most recent call last)",
      "\u001b[0;32m<ipython-input-3-d4148adb8b51>\u001b[0m in \u001b[0;36m<module>\u001b[0;34m\u001b[0m\n\u001b[0;32m----> 1\u001b[0;31m \u001b[0mp_df\u001b[0m\u001b[0;34m[\u001b[0m\u001b[0;34m'file'\u001b[0m\u001b[0;34m]\u001b[0m \u001b[0;34m=\u001b[0m \u001b[0mproblem_df\u001b[0m\u001b[0;34m.\u001b[0m\u001b[0mproblem_set_ID\u001b[0m\u001b[0;34m.\u001b[0m\u001b[0mapply\u001b[0m\u001b[0;34m(\u001b[0m\u001b[0;32mlambda\u001b[0m \u001b[0mx\u001b[0m\u001b[0;34m:\u001b[0m \u001b[0mpset_df\u001b[0m\u001b[0;34m.\u001b[0m\u001b[0mloc\u001b[0m\u001b[0;34m[\u001b[0m\u001b[0mx\u001b[0m\u001b[0;34m,\u001b[0m \u001b[0;34m'file'\u001b[0m\u001b[0;34m]\u001b[0m\u001b[0;34m)\u001b[0m\u001b[0;34m\u001b[0m\u001b[0;34m\u001b[0m\u001b[0m\n\u001b[0m\u001b[1;32m      2\u001b[0m \u001b[0mp_df\u001b[0m\u001b[0;34m[\u001b[0m\u001b[0;34m'q_len'\u001b[0m\u001b[0;34m]\u001b[0m \u001b[0;34m=\u001b[0m \u001b[0mproblem_df\u001b[0m\u001b[0;34m.\u001b[0m\u001b[0mquestion\u001b[0m\u001b[0;34m.\u001b[0m\u001b[0mstr\u001b[0m\u001b[0;34m.\u001b[0m\u001b[0mlen\u001b[0m\u001b[0;34m(\u001b[0m\u001b[0;34m)\u001b[0m\u001b[0;34m\u001b[0m\u001b[0;34m\u001b[0m\u001b[0m\n\u001b[1;32m      3\u001b[0m \u001b[0mp_df\u001b[0m\u001b[0;34m.\u001b[0m\u001b[0msort_values\u001b[0m\u001b[0;34m(\u001b[0m\u001b[0;34m'q_len'\u001b[0m\u001b[0;34m,\u001b[0m \u001b[0minplace\u001b[0m\u001b[0;34m=\u001b[0m\u001b[0;32mTrue\u001b[0m\u001b[0;34m)\u001b[0m\u001b[0;34m\u001b[0m\u001b[0;34m\u001b[0m\u001b[0m\n\u001b[1;32m      4\u001b[0m \u001b[0mp_df\u001b[0m\u001b[0;34m\u001b[0m\u001b[0;34m\u001b[0m\u001b[0m\n",
      "\u001b[0;31mNameError\u001b[0m: name 'p_df' is not defined"
     ]
    }
   ],
   "source": [
    "p_df['file'] = problem_df.problem_set_ID.apply(lambda x: pset_df.loc[x, 'file'])\n",
    "p_df['q_len'] = problem_df.question.str.len()\n",
    "p_df.sort_values('q_len', inplace=True)\n",
    "p_df"
   ]
  },
  {
   "cell_type": "code",
   "execution_count": 63,
   "metadata": {
    "tags": []
   },
   "outputs": [],
   "source": [
    "#print(pset_df.loc[62, 'body'])\n",
    "multicol_error_pset_df = pset_df[pset_df.body.apply(lambda x: r'[\\\\item' in str(x))].copy()"
   ]
  },
  {
   "cell_type": "code",
   "execution_count": 94,
   "metadata": {
    "tags": []
   },
   "outputs": [
    {
     "output_type": "execute_result",
     "data": {
      "text/plain": "                    unit                              file  problem_count  \\\nproblem_set_ID                                                              \n0               01-Intro             1-1CW_Measurement.tex              9   \n1               01-Intro                 1-1DN_Algebra.tex              8   \n2               01-Intro                 1-1HW_Algebra.tex              9   \n3               01-Intro     1-3DN_Function-intercepts.tex              6   \n4               01-Intro    1-3HW_Equilateral-triangle.tex             11   \n5               01-Intro        1-4HW_Segment-addition.tex             11   \n6               01-Intro       1-5CW_Angle-terminology.tex              8   \n7               01-Intro  1-5HW_Pretest-segments-intro.tex             18   \n8               01-Intro             1-6DN_Angle-pairs.tex              6   \n9               01-Intro             1-6HW_Angle-pairs.tex              6   \n10              01-Intro                 1-7Exam-Intro.tex             26   \n11              01-Intro           1-7Exam-corrections.tex              0   \n12              01-Intro                 1-7Exam-spicy.tex              7   \n13              01-Intro            1-7HW_Calculations.tex              8   \n14              01-Intro                    1-HW-Intro.tex            104   \n\n                                                             head  \\\nproblem_set_ID                                                      \n0               [\\begin{document}\\n, \\subsubsection*{1-1 Class...   \n1               [\\begin{document}\\n, \\subsubsection*{1-1 Do No...   \n2               [\\begin{document}\\n, \\subsubsection*{1-1 Homew...   \n3               [\\begin{document}\\n, \\subsubsection*{1-3 Do No...   \n4               [\\begin{document}\\n, \\subsubsection*{Homework ...   \n5               [\\begin{document}\\n, \\subsubsection*{Homework ...   \n6               [\\begin{document}\\n, \\subsubsection*{Classwork...   \n7               [\\begin{document}\\n, \\subsubsection*{1-8 Homew...   \n8               [\\begin{document}\\n, \\subsubsection*{1.6 Do No...   \n9               [\\begin{document}\\n, \\subsubsection*{1.6 Homew...   \n10              [\\begin{document}\\n,   \\subsubsection*{1.7 Exa...   \n11                                                             []   \n12              [\\begin{document}\\n, \\subsubsection*{1.7 Exam:...   \n13              [\\begin{document}\\n, \\subsubsection*{1.7 Homew...   \n14              [\\begin{document}\\n, \\subsubsection*{Quiz Corr...   \n\n                                                             body  \\\nproblem_set_ID                                                      \n0               [\\n,   \\item Given the line segment $\\overline...   \n1               [\\n, \\n,   \\item In the following two problems...   \n2               [\\n, \\n,   \\item In the following two problems...   \n3               [  \\item I have a compass, ruler, protractor, ...   \n4               [\\n,     \\item Construct an equilateral triang...   \n5               [    \\item I have a compass, ruler, protractor...   \n6               [    \\item I have a compass, ruler, protractor...   \n7               [    \\item Points that are all located on the ...   \n8               [\\n,   \\item Complete the construction of an e...   \n9               [\\n,   \\item Points that are all located on th...   \n10              [      \\item I have a calculator. (circle one)...   \n11                                                             []   \n12              [\\n,   \\item Given $\\overline{ABC}$, $AB=4$, a...   \n13              [\\n,   \\item Given $\\overline{ABC}$, $AB=84$, ...   \n14              [    \\item The points where a line segment beg...   \n\n                                                    problems_list  \\\nproblem_set_ID                                                      \n0               [Given the line segment $\\overline{PQ}$ shown ...   \n1               [\\n\\n, In the following two problems, solve fo...   \n2               [\\n\\n, In the following two problems, solve fo...   \n3               [I have a compass, ruler, protractor, notebook...   \n4               [Construct an equilateral triangle with $\\over...   \n5               [I have a compass, ruler, protractor, notebook...   \n6               [I have a compass, ruler, protractor, notebook...   \n7               [Points that are all located on the same line ...   \n8               [Complete the construction of an equilateral t...   \n9               [Points that are all located on the same line ...   \n10              [I have a calculator. (circle one). Yes \\qquad...   \n11                                                             []   \n12              [Given $\\overline{ABC}$, $AB=4$, and $AC=25$.\\...   \n13              [Given $\\overline{ABC}$, $AB=84$, and $AC=116$...   \n14              [The points where a line segment begins and en...   \n\n                                                 path  \\\nproblem_set_ID                                          \n0               /Users/chris/GitHub/course-files/Geom   \n1               /Users/chris/GitHub/course-files/Geom   \n2               /Users/chris/GitHub/course-files/Geom   \n3               /Users/chris/GitHub/course-files/Geom   \n4               /Users/chris/GitHub/course-files/Geom   \n5               /Users/chris/GitHub/course-files/Geom   \n6               /Users/chris/GitHub/course-files/Geom   \n7               /Users/chris/GitHub/course-files/Geom   \n8               /Users/chris/GitHub/course-files/Geom   \n9               /Users/chris/GitHub/course-files/Geom   \n10              /Users/chris/GitHub/course-files/Geom   \n11              /Users/chris/GitHub/course-files/Geom   \n12              /Users/chris/GitHub/course-files/Geom   \n13              /Users/chris/GitHub/course-files/Geom   \n14              /Users/chris/GitHub/course-files/Geom   \n\n                                                         filename  \nproblem_set_ID                                                     \n0               /Users/chris/GitHub/course-files/Geom/01-Intro...  \n1               /Users/chris/GitHub/course-files/Geom/01-Intro...  \n2               /Users/chris/GitHub/course-files/Geom/01-Intro...  \n3               /Users/chris/GitHub/course-files/Geom/01-Intro...  \n4               /Users/chris/GitHub/course-files/Geom/01-Intro...  \n5               /Users/chris/GitHub/course-files/Geom/01-Intro...  \n6               /Users/chris/GitHub/course-files/Geom/01-Intro...  \n7               /Users/chris/GitHub/course-files/Geom/01-Intro...  \n8               /Users/chris/GitHub/course-files/Geom/01-Intro...  \n9               /Users/chris/GitHub/course-files/Geom/01-Intro...  \n10              /Users/chris/GitHub/course-files/Geom/01-Intro...  \n11              /Users/chris/GitHub/course-files/Geom/01-Intro...  \n12              /Users/chris/GitHub/course-files/Geom/01-Intro...  \n13              /Users/chris/GitHub/course-files/Geom/01-Intro...  \n14              /Users/chris/GitHub/course-files/Geom/01-Intro...  ",
      "text/html": "<div>\n<style scoped>\n    .dataframe tbody tr th:only-of-type {\n        vertical-align: middle;\n    }\n\n    .dataframe tbody tr th {\n        vertical-align: top;\n    }\n\n    .dataframe thead th {\n        text-align: right;\n    }\n</style>\n<table border=\"1\" class=\"dataframe\">\n  <thead>\n    <tr style=\"text-align: right;\">\n      <th></th>\n      <th>unit</th>\n      <th>file</th>\n      <th>problem_count</th>\n      <th>head</th>\n      <th>body</th>\n      <th>problems_list</th>\n      <th>path</th>\n      <th>filename</th>\n    </tr>\n    <tr>\n      <th>problem_set_ID</th>\n      <th></th>\n      <th></th>\n      <th></th>\n      <th></th>\n      <th></th>\n      <th></th>\n      <th></th>\n      <th></th>\n    </tr>\n  </thead>\n  <tbody>\n    <tr>\n      <th>0</th>\n      <td>01-Intro</td>\n      <td>1-1CW_Measurement.tex</td>\n      <td>9</td>\n      <td>[\\begin{document}\\n, \\subsubsection*{1-1 Class...</td>\n      <td>[\\n,   \\item Given the line segment $\\overline...</td>\n      <td>[Given the line segment $\\overline{PQ}$ shown ...</td>\n      <td>/Users/chris/GitHub/course-files/Geom</td>\n      <td>/Users/chris/GitHub/course-files/Geom/01-Intro...</td>\n    </tr>\n    <tr>\n      <th>1</th>\n      <td>01-Intro</td>\n      <td>1-1DN_Algebra.tex</td>\n      <td>8</td>\n      <td>[\\begin{document}\\n, \\subsubsection*{1-1 Do No...</td>\n      <td>[\\n, \\n,   \\item In the following two problems...</td>\n      <td>[\\n\\n, In the following two problems, solve fo...</td>\n      <td>/Users/chris/GitHub/course-files/Geom</td>\n      <td>/Users/chris/GitHub/course-files/Geom/01-Intro...</td>\n    </tr>\n    <tr>\n      <th>2</th>\n      <td>01-Intro</td>\n      <td>1-1HW_Algebra.tex</td>\n      <td>9</td>\n      <td>[\\begin{document}\\n, \\subsubsection*{1-1 Homew...</td>\n      <td>[\\n, \\n,   \\item In the following two problems...</td>\n      <td>[\\n\\n, In the following two problems, solve fo...</td>\n      <td>/Users/chris/GitHub/course-files/Geom</td>\n      <td>/Users/chris/GitHub/course-files/Geom/01-Intro...</td>\n    </tr>\n    <tr>\n      <th>3</th>\n      <td>01-Intro</td>\n      <td>1-3DN_Function-intercepts.tex</td>\n      <td>6</td>\n      <td>[\\begin{document}\\n, \\subsubsection*{1-3 Do No...</td>\n      <td>[  \\item I have a compass, ruler, protractor, ...</td>\n      <td>[I have a compass, ruler, protractor, notebook...</td>\n      <td>/Users/chris/GitHub/course-files/Geom</td>\n      <td>/Users/chris/GitHub/course-files/Geom/01-Intro...</td>\n    </tr>\n    <tr>\n      <th>4</th>\n      <td>01-Intro</td>\n      <td>1-3HW_Equilateral-triangle.tex</td>\n      <td>11</td>\n      <td>[\\begin{document}\\n, \\subsubsection*{Homework ...</td>\n      <td>[\\n,     \\item Construct an equilateral triang...</td>\n      <td>[Construct an equilateral triangle with $\\over...</td>\n      <td>/Users/chris/GitHub/course-files/Geom</td>\n      <td>/Users/chris/GitHub/course-files/Geom/01-Intro...</td>\n    </tr>\n    <tr>\n      <th>5</th>\n      <td>01-Intro</td>\n      <td>1-4HW_Segment-addition.tex</td>\n      <td>11</td>\n      <td>[\\begin{document}\\n, \\subsubsection*{Homework ...</td>\n      <td>[    \\item I have a compass, ruler, protractor...</td>\n      <td>[I have a compass, ruler, protractor, notebook...</td>\n      <td>/Users/chris/GitHub/course-files/Geom</td>\n      <td>/Users/chris/GitHub/course-files/Geom/01-Intro...</td>\n    </tr>\n    <tr>\n      <th>6</th>\n      <td>01-Intro</td>\n      <td>1-5CW_Angle-terminology.tex</td>\n      <td>8</td>\n      <td>[\\begin{document}\\n, \\subsubsection*{Classwork...</td>\n      <td>[    \\item I have a compass, ruler, protractor...</td>\n      <td>[I have a compass, ruler, protractor, notebook...</td>\n      <td>/Users/chris/GitHub/course-files/Geom</td>\n      <td>/Users/chris/GitHub/course-files/Geom/01-Intro...</td>\n    </tr>\n    <tr>\n      <th>7</th>\n      <td>01-Intro</td>\n      <td>1-5HW_Pretest-segments-intro.tex</td>\n      <td>18</td>\n      <td>[\\begin{document}\\n, \\subsubsection*{1-8 Homew...</td>\n      <td>[    \\item Points that are all located on the ...</td>\n      <td>[Points that are all located on the same line ...</td>\n      <td>/Users/chris/GitHub/course-files/Geom</td>\n      <td>/Users/chris/GitHub/course-files/Geom/01-Intro...</td>\n    </tr>\n    <tr>\n      <th>8</th>\n      <td>01-Intro</td>\n      <td>1-6DN_Angle-pairs.tex</td>\n      <td>6</td>\n      <td>[\\begin{document}\\n, \\subsubsection*{1.6 Do No...</td>\n      <td>[\\n,   \\item Complete the construction of an e...</td>\n      <td>[Complete the construction of an equilateral t...</td>\n      <td>/Users/chris/GitHub/course-files/Geom</td>\n      <td>/Users/chris/GitHub/course-files/Geom/01-Intro...</td>\n    </tr>\n    <tr>\n      <th>9</th>\n      <td>01-Intro</td>\n      <td>1-6HW_Angle-pairs.tex</td>\n      <td>6</td>\n      <td>[\\begin{document}\\n, \\subsubsection*{1.6 Homew...</td>\n      <td>[\\n,   \\item Points that are all located on th...</td>\n      <td>[Points that are all located on the same line ...</td>\n      <td>/Users/chris/GitHub/course-files/Geom</td>\n      <td>/Users/chris/GitHub/course-files/Geom/01-Intro...</td>\n    </tr>\n    <tr>\n      <th>10</th>\n      <td>01-Intro</td>\n      <td>1-7Exam-Intro.tex</td>\n      <td>26</td>\n      <td>[\\begin{document}\\n,   \\subsubsection*{1.7 Exa...</td>\n      <td>[      \\item I have a calculator. (circle one)...</td>\n      <td>[I have a calculator. (circle one). Yes \\qquad...</td>\n      <td>/Users/chris/GitHub/course-files/Geom</td>\n      <td>/Users/chris/GitHub/course-files/Geom/01-Intro...</td>\n    </tr>\n    <tr>\n      <th>11</th>\n      <td>01-Intro</td>\n      <td>1-7Exam-corrections.tex</td>\n      <td>0</td>\n      <td>[]</td>\n      <td>[]</td>\n      <td>[]</td>\n      <td>/Users/chris/GitHub/course-files/Geom</td>\n      <td>/Users/chris/GitHub/course-files/Geom/01-Intro...</td>\n    </tr>\n    <tr>\n      <th>12</th>\n      <td>01-Intro</td>\n      <td>1-7Exam-spicy.tex</td>\n      <td>7</td>\n      <td>[\\begin{document}\\n, \\subsubsection*{1.7 Exam:...</td>\n      <td>[\\n,   \\item Given $\\overline{ABC}$, $AB=4$, a...</td>\n      <td>[Given $\\overline{ABC}$, $AB=4$, and $AC=25$.\\...</td>\n      <td>/Users/chris/GitHub/course-files/Geom</td>\n      <td>/Users/chris/GitHub/course-files/Geom/01-Intro...</td>\n    </tr>\n    <tr>\n      <th>13</th>\n      <td>01-Intro</td>\n      <td>1-7HW_Calculations.tex</td>\n      <td>8</td>\n      <td>[\\begin{document}\\n, \\subsubsection*{1.7 Homew...</td>\n      <td>[\\n,   \\item Given $\\overline{ABC}$, $AB=84$, ...</td>\n      <td>[Given $\\overline{ABC}$, $AB=84$, and $AC=116$...</td>\n      <td>/Users/chris/GitHub/course-files/Geom</td>\n      <td>/Users/chris/GitHub/course-files/Geom/01-Intro...</td>\n    </tr>\n    <tr>\n      <th>14</th>\n      <td>01-Intro</td>\n      <td>1-HW-Intro.tex</td>\n      <td>104</td>\n      <td>[\\begin{document}\\n, \\subsubsection*{Quiz Corr...</td>\n      <td>[    \\item The points where a line segment beg...</td>\n      <td>[The points where a line segment begins and en...</td>\n      <td>/Users/chris/GitHub/course-files/Geom</td>\n      <td>/Users/chris/GitHub/course-files/Geom/01-Intro...</td>\n    </tr>\n  </tbody>\n</table>\n</div>"
     },
     "metadata": {},
     "execution_count": 94
    }
   ],
   "source": [
    "new_cols = ['unit', 'file', 'problem_count', 'head', 'body', 'problems_list', 'path', 'filename']\n",
    "pset_df = pset_df.reindex(columns=new_cols)\n",
    "pset_df[pset_df.unit.str.startswith('01')]"
   ]
  },
  {
   "cell_type": "code",
   "execution_count": 133,
   "metadata": {
    "tags": []
   },
   "outputs": [
    {
     "output_type": "stream",
     "name": "stdout",
     "text": "Given $\\triangle ABP \\sim \\triangle JKP$ as shown below. $AP=5.7$, $JP=11.4$, and $JK=14.8$. Find $AB$.\n \\begin{flushright}\n   \\begin{tikzpicture}[scale=1.4]\n       \\draw [thick]\n         (0.25,-1)node[right]{$B$}--\n         (-0.5,2)node[left]{$K$}--\n         (4,0)node[right]{$J$}--\n         (0,0)node[above right]{$P$}--\n         (-2,0)node[left]{$A$}--cycle;\n     \\end{tikzpicture}\n     \\end{flushright}\n     \\vspace{3cm}\n\n   \\begin{multicols}{2}\n\n"
    },
    {
     "output_type": "execute_result",
     "data": {
      "text/plain": "'A translation maps triangle $CAT$ onto triangle $DOG$.] \\\\vspace{0.5cm}\\n      \\\\begin{tikzpicture}[scale=0.9]\\n        \\\\coordinate [label=above left:$C$](A) at (95:2);\\n        \\\\coordinate [label=below:$A$](B) at (0, 0);\\n        \\\\coordinate [label=right:$T$](C) at (-10:3.5);\\n        \\\\draw [thick] (A)--(B)--(C)--cycle;\\n  \\n        \\\\draw [thick, xshift=3cm, yshift=1.5cm] (95:2) node[above]{$D$}--\\n        (0,0) node[below]{$O$}--\\n        (-10:3.5) node[right]{$G$}--cycle;\\n      \\\\end{tikzpicture}\\\\\\\\\\n      Fill in the blank with the corresponding object.\\n      \\\\begin{enumerate}\\n        \\\\item $A \\\\rightarrow$ \\\\rule{2cm}{0.15mm}\\n        \\\\item $\\\\angle CTA \\\\cong$ \\\\rule{2cm}{0.15mm}\\n        \\\\item \\\\rule{2cm}{0.15mm} $\\\\cong \\\\overline {DG}$\\n      \\\\end{enumerate}\\n    \\\\end{multicols}  \\\\vspace{4cm}\\n\\n'"
     },
     "metadata": {},
     "execution_count": 133
    }
   ],
   "source": [
    "print(pset_df.loc[62, 'problems_list'][7])\n",
    "pset_df.loc[62, 'problems_list'][8]"
   ]
  },
  {
   "cell_type": "code",
   "execution_count": 88,
   "metadata": {},
   "outputs": [
    {
     "output_type": "execute_result",
     "data": {
      "text/plain": "problem_set_ID\n0.0      5\n1.0      6\n2.0      7\n3.0      5\n4.0     10\n5.0     10\n6.0      7\n7.0     14\n8.0      5\n9.0      5\n10.0    20\n12.0     6\n13.0     7\n14.0    83\n15.0     1\n16.0     4\n17.0     6\n18.0     6\n19.0     5\n20.0     6\n21.0     5\n22.0     6\n23.0     4\n24.0     5\n25.0     7\n26.0     5\n27.0     6\n28.0     9\n29.0     3\n30.0     5\nName: question, dtype: int64"
     },
     "metadata": {},
     "execution_count": 88
    }
   ],
   "source": [
    "problem_df.groupby('problem_set_ID').question.count().head(30)"
   ]
  },
  {
   "cell_type": "markdown",
   "metadata": {},
   "source": [
    "## Printing Problem Sets"
   ]
  },
  {
   "cell_type": "code",
   "execution_count": 84,
   "metadata": {},
   "outputs": [],
   "source": [
    "title = ('file is 1-6DN-Angle-pairs.tex', '17 August 2020', 'Test run of problems df')\n",
    "df = problem_df[problem_df.file == '1-6DN_Angle-pairs.tex'].sort_index()\n",
    "print_problems_df(df, filename='1-6DN_', title=title)"
   ]
  },
  {
   "cell_type": "code",
   "execution_count": 134,
   "metadata": {},
   "outputs": [],
   "source": [
    "title = ('file is 5-4DN-similarity-ratios.tex, PSet 62', '18 August 2020', 'Issue with multicols')\n",
    "df = problem_df[problem_df.problem_set_ID == 62].sort_index()\n",
    "print_problems_df(df, filename='5-4DN-mulitcols-issue', title=title)"
   ]
  },
  {
   "cell_type": "code",
   "execution_count": 95,
   "metadata": {},
   "outputs": [],
   "source": [
    "print_list = [0, 1, 2]\n",
    "for pset in print_list:\n",
    "    title = ('file is 1-temp-' + str(pset), '17 August 2020', 'Test run of print unit')\n",
    "    df = problem_df[problem_df.problem_set_ID == pset].sort_index()\n",
    "    print_problems_df(df, filename='1-temp-' + str(pset), title=title)"
   ]
  },
  {
   "cell_type": "code",
   "execution_count": null,
   "metadata": {},
   "outputs": [],
   "source": []
  },
  {
   "cell_type": "code",
   "execution_count": 2,
   "metadata": {
    "tags": []
   },
   "outputs": [
    {
     "output_type": "stream",
     "name": "stdout",
     "text": "Loaded dataframes: \nworksheet_files_df:\n index name:  None \ncolumns:  Index(['Unnamed: 0', 'unit', 'file_count', 'filename'], dtype='object') \n149 rows:  149 \n\nproblem_sets_df:\n index name:  problem_set_ID \ncolumns:  Index(['filename', 'head', 'body', 'problems_list', 'problem_count',\n       'problem_IDs'],\n      dtype='object') \n149 rows:  149 \n\nproblems_df:\n index name:  problem_ID \ncolumns:  Index(['problem_set_ID', 'question'], dtype='object') \n1855 rows:  1855 \n\nstandards_df:\n index name:  None \ncolumns:  Index(['course', 'chapter', 'topic', 'ccss_ID'], dtype='object') \n314 rows:  314 \n\nstandards_desc_df:\n index name:  ccss_ID \ncolumns:  Index(['description'], dtype='object') \n131 rows:  131 \n\n"
    }
   ],
   "source": [
    "from main import map_course_files"
   ]
  },
  {
   "cell_type": "code",
   "execution_count": 3,
   "metadata": {
    "tags": []
   },
   "outputs": [
    {
     "output_type": "stream",
     "name": "stdout",
     "text": "dict len, type:  13 <class 'dict'> \n df len:  208 \n\n"
    },
    {
     "output_type": "execute_result",
     "data": {
      "text/plain": "array(['01-Intro', '02-Midpoint+distance', '03-Volume+angle-bisectors',\n       '04-Transversals', '05-Transformations', '06-Analytic-geometry',\n       '07-Similarity', '08-Area+volume', '09-Congruence-transformations',\n       '10-Trig+similarity+analytics', '11-Algebra2-intro', 'Slides',\n       'Trajectories'], dtype=object)"
     },
     "metadata": {},
     "execution_count": 3
    }
   ],
   "source": [
    "course_files, course_file_df = map_course_files(course_dir='/Users/chris/GitHub/course-files/Geom')\n",
    "print('dict len, type: ', len(course_files), type(course_files), '\\n df len: ', len(course_file_df), '\\n')\n",
    "course_file_df.unit.unique()"
   ]
  },
  {
   "cell_type": "code",
   "execution_count": 4,
   "metadata": {},
   "outputs": [
    {
     "output_type": "execute_result",
     "data": {
      "text/plain": "                             unit  file_count                       filename\n0                        01-Intro          16          1-1CW_Measurement.tex\n1                        01-Intro          16      1-1DNQ_Distance+slope.tex\n2                        01-Intro          16              1-1DN_Algebra.tex\n3                        01-Intro          16              1-1HW_Algebra.tex\n4                        01-Intro          16  1-3DN_Function-intercepts.tex\n..                            ...         ...                            ...\n167  10-Trig+similarity+analytics           7    10-2DN_Analytics-review.tex\n168  10-Trig+similarity+analytics           7   10-2bDN_Analytics-review.tex\n169  10-Trig+similarity+analytics           7  10-4DN_Tangent-situations.tex\n170  10-Trig+similarity+analytics           7   10-4bDN_Analytics-review.tex\n171  10-Trig+similarity+analytics           7  10-6DN_Tangent-situations.tex\n\n[172 rows x 3 columns]",
      "text/html": "<div>\n<style scoped>\n    .dataframe tbody tr th:only-of-type {\n        vertical-align: middle;\n    }\n\n    .dataframe tbody tr th {\n        vertical-align: top;\n    }\n\n    .dataframe thead th {\n        text-align: right;\n    }\n</style>\n<table border=\"1\" class=\"dataframe\">\n  <thead>\n    <tr style=\"text-align: right;\">\n      <th></th>\n      <th>unit</th>\n      <th>file_count</th>\n      <th>filename</th>\n    </tr>\n  </thead>\n  <tbody>\n    <tr>\n      <th>0</th>\n      <td>01-Intro</td>\n      <td>16</td>\n      <td>1-1CW_Measurement.tex</td>\n    </tr>\n    <tr>\n      <th>1</th>\n      <td>01-Intro</td>\n      <td>16</td>\n      <td>1-1DNQ_Distance+slope.tex</td>\n    </tr>\n    <tr>\n      <th>2</th>\n      <td>01-Intro</td>\n      <td>16</td>\n      <td>1-1DN_Algebra.tex</td>\n    </tr>\n    <tr>\n      <th>3</th>\n      <td>01-Intro</td>\n      <td>16</td>\n      <td>1-1HW_Algebra.tex</td>\n    </tr>\n    <tr>\n      <th>4</th>\n      <td>01-Intro</td>\n      <td>16</td>\n      <td>1-3DN_Function-intercepts.tex</td>\n    </tr>\n    <tr>\n      <th>...</th>\n      <td>...</td>\n      <td>...</td>\n      <td>...</td>\n    </tr>\n    <tr>\n      <th>167</th>\n      <td>10-Trig+similarity+analytics</td>\n      <td>7</td>\n      <td>10-2DN_Analytics-review.tex</td>\n    </tr>\n    <tr>\n      <th>168</th>\n      <td>10-Trig+similarity+analytics</td>\n      <td>7</td>\n      <td>10-2bDN_Analytics-review.tex</td>\n    </tr>\n    <tr>\n      <th>169</th>\n      <td>10-Trig+similarity+analytics</td>\n      <td>7</td>\n      <td>10-4DN_Tangent-situations.tex</td>\n    </tr>\n    <tr>\n      <th>170</th>\n      <td>10-Trig+similarity+analytics</td>\n      <td>7</td>\n      <td>10-4bDN_Analytics-review.tex</td>\n    </tr>\n    <tr>\n      <th>171</th>\n      <td>10-Trig+similarity+analytics</td>\n      <td>7</td>\n      <td>10-6DN_Tangent-situations.tex</td>\n    </tr>\n  </tbody>\n</table>\n<p>172 rows × 3 columns</p>\n</div>"
     },
     "metadata": {},
     "execution_count": 4
    }
   ],
   "source": [
    "drop_units = ['11-Algebra2-intro', 'Slides', 'Trajectories']\n",
    "for unit in drop_units:\n",
    "    course_file_df.drop(course_file_df[course_file_df.unit == unit].index, inplace=True)\n",
    "course_file_df"
   ]
  },
  {
   "cell_type": "code",
   "execution_count": 5,
   "metadata": {
    "tags": []
   },
   "outputs": [],
   "source": [
    "from main import parse_course_files #parse_problem_sets"
   ]
  },
  {
   "cell_type": "code",
   "execution_count": 54,
   "metadata": {
    "tags": []
   },
   "outputs": [
    {
     "output_type": "execute_result",
     "data": {
      "text/plain": "                                                         filename  \\\nproblem_set_ID                                                      \n0               /Users/chris/GitHub/course-files/Geom/01-Intro...   \n1               /Users/chris/GitHub/course-files/Geom/01-Intro...   \n2               /Users/chris/GitHub/course-files/Geom/01-Intro...   \n3               /Users/chris/GitHub/course-files/Geom/01-Intro...   \n4               /Users/chris/GitHub/course-files/Geom/01-Intro...   \n...                                                           ...   \n167             /Users/chris/GitHub/course-files/Geom/10-Trig+...   \n168             /Users/chris/GitHub/course-files/Geom/10-Trig+...   \n169             /Users/chris/GitHub/course-files/Geom/10-Trig+...   \n170             /Users/chris/GitHub/course-files/Geom/10-Trig+...   \n171             /Users/chris/GitHub/course-files/Geom/10-Trig+...   \n\n                                                             head  \\\nproblem_set_ID                                                      \n0               [\\begin{document}\\n, \\subsubsection*{1-1 Class...   \n1               [\\begin{document}\\n, \\subsubsection*{0.1 Quiz:...   \n2               [\\begin{document}\\n, \\subsubsection*{1-1 Do No...   \n3               [\\begin{document}\\n, \\subsubsection*{1-1 Homew...   \n4               [\\begin{document}\\n, \\subsubsection*{1-3 Do No...   \n...                                                           ...   \n167             [\\begin{document}\\n, \\subsubsection*{10.3 Do N...   \n168             [\\begin{document}\\n, \\subsubsection*{10.3b Do ...   \n169             [\\begin{document}\\n, \\subsubsection*{10.4 Do N...   \n170             [\\begin{document}\\n, \\subsubsection*{10.4b Do ...   \n171             [\\begin{document}\\n, \\subsubsection*{10.6 Clas...   \n\n                                                             body  \\\nproblem_set_ID                                                      \n0               [\\n,   \\item Given the line segment $\\overline...   \n1               [\\n,   \\item Write down the slope and $y$-inte...   \n2               [\\n, \\n,   \\item In the following two problems...   \n3               [\\n, \\n,   \\item In the following two problems...   \n4               [  \\item I have a compass, ruler, protractor, ...   \n...                                                           ...   \n167             [\\n, \\n,   \\item Write down the slope perpendi...   \n168             [\\n,   \\item Write down the slope parallel or ...   \n169             [\\n,   \\item Write down the slope perpendicula...   \n170             [\\n,   \\item Write down the slope parallel or ...   \n171             [\\n,   \\item Write down the slope perpendicula...   \n\n                                                    problems_list  \\\nproblem_set_ID                                                      \n0               [Given the line segment $\\overline{PQ}$ shown ...   \n1               [Write down the slope and $y$-intercept of eac...   \n2               [In the following two problems, solve for the ...   \n3               [In the following two problems, solve for the ...   \n4               [I have a compass, ruler, protractor, notebook...   \n...                                                           ...   \n167             [Write down the slope perpendicular to the giv...   \n168             [Write down the slope parallel or perpendicula...   \n169             [Write down the slope perpendicular to the giv...   \n170             [Write down the slope parallel or perpendicula...   \n171             [Write down the slope perpendicular to the giv...   \n\n                problem_count                                   path  \\\nproblem_set_ID                                                         \n0                           8  /Users/chris/GitHub/course-files/Geom   \n1                           4  /Users/chris/GitHub/course-files/Geom   \n2                           7  /Users/chris/GitHub/course-files/Geom   \n3                           8  /Users/chris/GitHub/course-files/Geom   \n4                           6  /Users/chris/GitHub/course-files/Geom   \n...                       ...                                    ...   \n167                         9  /Users/chris/GitHub/course-files/Geom   \n168                        13  /Users/chris/GitHub/course-files/Geom   \n169                         8  /Users/chris/GitHub/course-files/Geom   \n170                        13  /Users/chris/GitHub/course-files/Geom   \n171                         8  /Users/chris/GitHub/course-files/Geom   \n\n                                        unit                           file  \nproblem_set_ID                                                               \n0                                   01-Intro          1-1CW_Measurement.tex  \n1                                   01-Intro      1-1DNQ_Distance+slope.tex  \n2                                   01-Intro              1-1DN_Algebra.tex  \n3                                   01-Intro              1-1HW_Algebra.tex  \n4                                   01-Intro  1-3DN_Function-intercepts.tex  \n...                                      ...                            ...  \n167             10-Trig+similarity+analytics    10-2DN_Analytics-review.tex  \n168             10-Trig+similarity+analytics   10-2bDN_Analytics-review.tex  \n169             10-Trig+similarity+analytics  10-4DN_Tangent-situations.tex  \n170             10-Trig+similarity+analytics   10-4bDN_Analytics-review.tex  \n171             10-Trig+similarity+analytics  10-6DN_Tangent-situations.tex  \n\n[172 rows x 8 columns]",
      "text/html": "<div>\n<style scoped>\n    .dataframe tbody tr th:only-of-type {\n        vertical-align: middle;\n    }\n\n    .dataframe tbody tr th {\n        vertical-align: top;\n    }\n\n    .dataframe thead th {\n        text-align: right;\n    }\n</style>\n<table border=\"1\" class=\"dataframe\">\n  <thead>\n    <tr style=\"text-align: right;\">\n      <th></th>\n      <th>filename</th>\n      <th>head</th>\n      <th>body</th>\n      <th>problems_list</th>\n      <th>problem_count</th>\n      <th>path</th>\n      <th>unit</th>\n      <th>file</th>\n    </tr>\n    <tr>\n      <th>problem_set_ID</th>\n      <th></th>\n      <th></th>\n      <th></th>\n      <th></th>\n      <th></th>\n      <th></th>\n      <th></th>\n      <th></th>\n    </tr>\n  </thead>\n  <tbody>\n    <tr>\n      <th>0</th>\n      <td>/Users/chris/GitHub/course-files/Geom/01-Intro...</td>\n      <td>[\\begin{document}\\n, \\subsubsection*{1-1 Class...</td>\n      <td>[\\n,   \\item Given the line segment $\\overline...</td>\n      <td>[Given the line segment $\\overline{PQ}$ shown ...</td>\n      <td>8</td>\n      <td>/Users/chris/GitHub/course-files/Geom</td>\n      <td>01-Intro</td>\n      <td>1-1CW_Measurement.tex</td>\n    </tr>\n    <tr>\n      <th>1</th>\n      <td>/Users/chris/GitHub/course-files/Geom/01-Intro...</td>\n      <td>[\\begin{document}\\n, \\subsubsection*{0.1 Quiz:...</td>\n      <td>[\\n,   \\item Write down the slope and $y$-inte...</td>\n      <td>[Write down the slope and $y$-intercept of eac...</td>\n      <td>4</td>\n      <td>/Users/chris/GitHub/course-files/Geom</td>\n      <td>01-Intro</td>\n      <td>1-1DNQ_Distance+slope.tex</td>\n    </tr>\n    <tr>\n      <th>2</th>\n      <td>/Users/chris/GitHub/course-files/Geom/01-Intro...</td>\n      <td>[\\begin{document}\\n, \\subsubsection*{1-1 Do No...</td>\n      <td>[\\n, \\n,   \\item In the following two problems...</td>\n      <td>[In the following two problems, solve for the ...</td>\n      <td>7</td>\n      <td>/Users/chris/GitHub/course-files/Geom</td>\n      <td>01-Intro</td>\n      <td>1-1DN_Algebra.tex</td>\n    </tr>\n    <tr>\n      <th>3</th>\n      <td>/Users/chris/GitHub/course-files/Geom/01-Intro...</td>\n      <td>[\\begin{document}\\n, \\subsubsection*{1-1 Homew...</td>\n      <td>[\\n, \\n,   \\item In the following two problems...</td>\n      <td>[In the following two problems, solve for the ...</td>\n      <td>8</td>\n      <td>/Users/chris/GitHub/course-files/Geom</td>\n      <td>01-Intro</td>\n      <td>1-1HW_Algebra.tex</td>\n    </tr>\n    <tr>\n      <th>4</th>\n      <td>/Users/chris/GitHub/course-files/Geom/01-Intro...</td>\n      <td>[\\begin{document}\\n, \\subsubsection*{1-3 Do No...</td>\n      <td>[  \\item I have a compass, ruler, protractor, ...</td>\n      <td>[I have a compass, ruler, protractor, notebook...</td>\n      <td>6</td>\n      <td>/Users/chris/GitHub/course-files/Geom</td>\n      <td>01-Intro</td>\n      <td>1-3DN_Function-intercepts.tex</td>\n    </tr>\n    <tr>\n      <th>...</th>\n      <td>...</td>\n      <td>...</td>\n      <td>...</td>\n      <td>...</td>\n      <td>...</td>\n      <td>...</td>\n      <td>...</td>\n      <td>...</td>\n    </tr>\n    <tr>\n      <th>167</th>\n      <td>/Users/chris/GitHub/course-files/Geom/10-Trig+...</td>\n      <td>[\\begin{document}\\n, \\subsubsection*{10.3 Do N...</td>\n      <td>[\\n, \\n,   \\item Write down the slope perpendi...</td>\n      <td>[Write down the slope perpendicular to the giv...</td>\n      <td>9</td>\n      <td>/Users/chris/GitHub/course-files/Geom</td>\n      <td>10-Trig+similarity+analytics</td>\n      <td>10-2DN_Analytics-review.tex</td>\n    </tr>\n    <tr>\n      <th>168</th>\n      <td>/Users/chris/GitHub/course-files/Geom/10-Trig+...</td>\n      <td>[\\begin{document}\\n, \\subsubsection*{10.3b Do ...</td>\n      <td>[\\n,   \\item Write down the slope parallel or ...</td>\n      <td>[Write down the slope parallel or perpendicula...</td>\n      <td>13</td>\n      <td>/Users/chris/GitHub/course-files/Geom</td>\n      <td>10-Trig+similarity+analytics</td>\n      <td>10-2bDN_Analytics-review.tex</td>\n    </tr>\n    <tr>\n      <th>169</th>\n      <td>/Users/chris/GitHub/course-files/Geom/10-Trig+...</td>\n      <td>[\\begin{document}\\n, \\subsubsection*{10.4 Do N...</td>\n      <td>[\\n,   \\item Write down the slope perpendicula...</td>\n      <td>[Write down the slope perpendicular to the giv...</td>\n      <td>8</td>\n      <td>/Users/chris/GitHub/course-files/Geom</td>\n      <td>10-Trig+similarity+analytics</td>\n      <td>10-4DN_Tangent-situations.tex</td>\n    </tr>\n    <tr>\n      <th>170</th>\n      <td>/Users/chris/GitHub/course-files/Geom/10-Trig+...</td>\n      <td>[\\begin{document}\\n, \\subsubsection*{10.4b Do ...</td>\n      <td>[\\n,   \\item Write down the slope parallel or ...</td>\n      <td>[Write down the slope parallel or perpendicula...</td>\n      <td>13</td>\n      <td>/Users/chris/GitHub/course-files/Geom</td>\n      <td>10-Trig+similarity+analytics</td>\n      <td>10-4bDN_Analytics-review.tex</td>\n    </tr>\n    <tr>\n      <th>171</th>\n      <td>/Users/chris/GitHub/course-files/Geom/10-Trig+...</td>\n      <td>[\\begin{document}\\n, \\subsubsection*{10.6 Clas...</td>\n      <td>[\\n,   \\item Write down the slope perpendicula...</td>\n      <td>[Write down the slope perpendicular to the giv...</td>\n      <td>8</td>\n      <td>/Users/chris/GitHub/course-files/Geom</td>\n      <td>10-Trig+similarity+analytics</td>\n      <td>10-6DN_Tangent-situations.tex</td>\n    </tr>\n  </tbody>\n</table>\n<p>172 rows × 8 columns</p>\n</div>"
     },
     "metadata": {},
     "execution_count": 54
    }
   ],
   "source": [
    "pset_df = parse_course_files(course_file_df, course_dir='/Users/chris/GitHub/course-files/Geom')\n",
    "pset_df[['path', 'unit', 'file']] = pset_df.filename.str.rsplit('/', n=2, expand=True)\n",
    "pset_df"
   ]
  },
  {
   "cell_type": "code",
   "execution_count": 7,
   "metadata": {},
   "outputs": [],
   "source": [
    "from main import parse_problem_sets"
   ]
  },
  {
   "cell_type": "code",
   "execution_count": 55,
   "metadata": {},
   "outputs": [],
   "source": [
    "problem_df = parse_problem_sets(pset_df)"
   ]
  },
  {
   "cell_type": "code",
   "execution_count": 56,
   "metadata": {},
   "outputs": [],
   "source": [
    "problem_df['file'] = problem_df.problem_set_ID.apply(lambda x: pset_df.loc[x, 'file'])\n",
    "problem_df['q_len'] = problem_df.question.str.len()\n",
    "problem_df.sort_values('q_len', inplace=True)"
   ]
  },
  {
   "cell_type": "code",
   "execution_count": 62,
   "metadata": {},
   "outputs": [
    {
     "output_type": "execute_result",
     "data": {
      "text/plain": "            problem_set_ID      question                                file  \\\nproblem_ID                                                                     \n1092                    76    \\newpage\\n           6-11HW_pretest-angles.tex   \n1908                   133    \\newpage\\n        8-3CW_Circle-terminology.tex   \n576                     46    \\newpage\\n        4-10PreExam_Transversals.tex   \n345                     29    \\newpage\\n    2-7Pretest_areas+numberlines.tex   \n417                     35    \\newpage\\n    3-1HW_Volume+vertical-angles.tex   \n477                     44    \\newpage\\n            3-8DN_Angle-modeling.tex   \n2147                   144    \\newpage\\n             8-8Exam_Area+volume.tex   \n2261                   152    \\newpage\\n           9-3HW_Transformations.tex   \n352                     30    \\newpage\\n             2-8DN_Constructions.tex   \n422                     36    \\newpage\\n            3-2CW_Angle-modeling.tex   \n2209                   148  \\newpage  \\n           9-1bDN_Correspondence.tex   \n407                     34    \\newpage\\n         3-1DN_Angle-terminology.tex   \n2127                   143    \\newpage\\n         8-7bPreExam_Area+volume.tex   \n1556                   110  \\newpage  \\n        7-5DN_Similarity+tangent.tex   \n902                     70    \\newpage\\n      5-9PreExam_Transformations.tex   \n517                     45    \\newpage\\n  3-9Exam_Volume+angle-bisectors.tex   \n61                       6    \\newpage\\n                     1-4HW-Intro.tex   \n155                      7    \\newpage\\n          1-4HW_Segment-addition.tex   \n1505                   105    \\newpage\\n        7-2bDN_Graphing-practice.tex   \n2433                   163    \\newpage\\n         9-9Exam-transformations.tex   \n1                        0    \\newpage\\n               1-1CW_Measurement.tex   \n670                     50    \\newpage\\n         4-7CW-construction-dupe.tex   \n1132                    79    \\newpage\\n      6-12Exam-Analytic-geometry.tex   \n1139                    79    \\newpage\\n      6-12Exam-Analytic-geometry.tex   \n2346                   159  \\newpage  \\n        9-5bExam-transformations.tex   \n1172                    80    \\newpage\\n     6-12bExam-Analytic-geometry.tex   \n676                     51    \\newpage\\n              4-7CW-construction.tex   \n1179                    80    \\newpage\\n     6-12bExam-Analytic-geometry.tex   \n136                      6    \\newpage\\n                     1-4HW-Intro.tex   \n2531                   168  \\newpage  \\n        10-2bDN_Analytics-review.tex   \n1626                   115  \\newpage  \\n            7-6bCW_Tangent+mixed.tex   \n35                       5    \\newpage\\n      1-3HW_Equilateral-triangle.tex   \n1932                   133    \\newpage\\n        8-3CW_Circle-terminology.tex   \n145                      6    \\newpage\\n                     1-4HW-Intro.tex   \n1929                   133    \\newpage\\n        8-3CW_Circle-terminology.tex   \n460                     42    \\newpage\\n            3-5DN_Angle-modeling.tex   \n1498                   105    \\newpage\\n        7-2bDN_Graphing-practice.tex   \n242                     13    \\newpage\\n             1-7Exam-corrections.tex   \n463                     42    \\newpage\\n            3-5DN_Angle-modeling.tex   \n1923                   133    \\newpage\\n        8-3CW_Circle-terminology.tex   \n1920                   133    \\newpage\\n        8-3CW_Circle-terminology.tex   \n2334                   159  \\newpage  \\n        9-5bExam-transformations.tex   \n2552                   170  \\newpage  \\n        10-4bDN_Analytics-review.tex   \n\n            q_len  \nproblem_ID         \n1092           11  \n1908           11  \n576            11  \n345            11  \n417            11  \n477            11  \n2147           11  \n2261           11  \n352            11  \n422            11  \n2209           11  \n407            11  \n2127           11  \n1556           11  \n902            11  \n517            11  \n61             11  \n155            11  \n1505           11  \n2433           11  \n1              11  \n670            11  \n1132           11  \n1139           11  \n2346           11  \n1172           11  \n676            11  \n1179           11  \n136            11  \n2531           11  \n1626           11  \n35             11  \n1932           11  \n145            11  \n1929           11  \n460            11  \n1498           11  \n242            11  \n463            11  \n1923           11  \n1920           11  \n2334           11  \n2552           11  ",
      "text/html": "<div>\n<style scoped>\n    .dataframe tbody tr th:only-of-type {\n        vertical-align: middle;\n    }\n\n    .dataframe tbody tr th {\n        vertical-align: top;\n    }\n\n    .dataframe thead th {\n        text-align: right;\n    }\n</style>\n<table border=\"1\" class=\"dataframe\">\n  <thead>\n    <tr style=\"text-align: right;\">\n      <th></th>\n      <th>problem_set_ID</th>\n      <th>question</th>\n      <th>file</th>\n      <th>q_len</th>\n    </tr>\n    <tr>\n      <th>problem_ID</th>\n      <th></th>\n      <th></th>\n      <th></th>\n      <th></th>\n    </tr>\n  </thead>\n  <tbody>\n    <tr>\n      <th>1092</th>\n      <td>76</td>\n      <td>\\newpage\\n</td>\n      <td>6-11HW_pretest-angles.tex</td>\n      <td>11</td>\n    </tr>\n    <tr>\n      <th>1908</th>\n      <td>133</td>\n      <td>\\newpage\\n</td>\n      <td>8-3CW_Circle-terminology.tex</td>\n      <td>11</td>\n    </tr>\n    <tr>\n      <th>576</th>\n      <td>46</td>\n      <td>\\newpage\\n</td>\n      <td>4-10PreExam_Transversals.tex</td>\n      <td>11</td>\n    </tr>\n    <tr>\n      <th>345</th>\n      <td>29</td>\n      <td>\\newpage\\n</td>\n      <td>2-7Pretest_areas+numberlines.tex</td>\n      <td>11</td>\n    </tr>\n    <tr>\n      <th>417</th>\n      <td>35</td>\n      <td>\\newpage\\n</td>\n      <td>3-1HW_Volume+vertical-angles.tex</td>\n      <td>11</td>\n    </tr>\n    <tr>\n      <th>477</th>\n      <td>44</td>\n      <td>\\newpage\\n</td>\n      <td>3-8DN_Angle-modeling.tex</td>\n      <td>11</td>\n    </tr>\n    <tr>\n      <th>2147</th>\n      <td>144</td>\n      <td>\\newpage\\n</td>\n      <td>8-8Exam_Area+volume.tex</td>\n      <td>11</td>\n    </tr>\n    <tr>\n      <th>2261</th>\n      <td>152</td>\n      <td>\\newpage\\n</td>\n      <td>9-3HW_Transformations.tex</td>\n      <td>11</td>\n    </tr>\n    <tr>\n      <th>352</th>\n      <td>30</td>\n      <td>\\newpage\\n</td>\n      <td>2-8DN_Constructions.tex</td>\n      <td>11</td>\n    </tr>\n    <tr>\n      <th>422</th>\n      <td>36</td>\n      <td>\\newpage\\n</td>\n      <td>3-2CW_Angle-modeling.tex</td>\n      <td>11</td>\n    </tr>\n    <tr>\n      <th>2209</th>\n      <td>148</td>\n      <td>\\newpage  \\n</td>\n      <td>9-1bDN_Correspondence.tex</td>\n      <td>11</td>\n    </tr>\n    <tr>\n      <th>407</th>\n      <td>34</td>\n      <td>\\newpage\\n</td>\n      <td>3-1DN_Angle-terminology.tex</td>\n      <td>11</td>\n    </tr>\n    <tr>\n      <th>2127</th>\n      <td>143</td>\n      <td>\\newpage\\n</td>\n      <td>8-7bPreExam_Area+volume.tex</td>\n      <td>11</td>\n    </tr>\n    <tr>\n      <th>1556</th>\n      <td>110</td>\n      <td>\\newpage  \\n</td>\n      <td>7-5DN_Similarity+tangent.tex</td>\n      <td>11</td>\n    </tr>\n    <tr>\n      <th>902</th>\n      <td>70</td>\n      <td>\\newpage\\n</td>\n      <td>5-9PreExam_Transformations.tex</td>\n      <td>11</td>\n    </tr>\n    <tr>\n      <th>517</th>\n      <td>45</td>\n      <td>\\newpage\\n</td>\n      <td>3-9Exam_Volume+angle-bisectors.tex</td>\n      <td>11</td>\n    </tr>\n    <tr>\n      <th>61</th>\n      <td>6</td>\n      <td>\\newpage\\n</td>\n      <td>1-4HW-Intro.tex</td>\n      <td>11</td>\n    </tr>\n    <tr>\n      <th>155</th>\n      <td>7</td>\n      <td>\\newpage\\n</td>\n      <td>1-4HW_Segment-addition.tex</td>\n      <td>11</td>\n    </tr>\n    <tr>\n      <th>1505</th>\n      <td>105</td>\n      <td>\\newpage\\n</td>\n      <td>7-2bDN_Graphing-practice.tex</td>\n      <td>11</td>\n    </tr>\n    <tr>\n      <th>2433</th>\n      <td>163</td>\n      <td>\\newpage\\n</td>\n      <td>9-9Exam-transformations.tex</td>\n      <td>11</td>\n    </tr>\n    <tr>\n      <th>1</th>\n      <td>0</td>\n      <td>\\newpage\\n</td>\n      <td>1-1CW_Measurement.tex</td>\n      <td>11</td>\n    </tr>\n    <tr>\n      <th>670</th>\n      <td>50</td>\n      <td>\\newpage\\n</td>\n      <td>4-7CW-construction-dupe.tex</td>\n      <td>11</td>\n    </tr>\n    <tr>\n      <th>1132</th>\n      <td>79</td>\n      <td>\\newpage\\n</td>\n      <td>6-12Exam-Analytic-geometry.tex</td>\n      <td>11</td>\n    </tr>\n    <tr>\n      <th>1139</th>\n      <td>79</td>\n      <td>\\newpage\\n</td>\n      <td>6-12Exam-Analytic-geometry.tex</td>\n      <td>11</td>\n    </tr>\n    <tr>\n      <th>2346</th>\n      <td>159</td>\n      <td>\\newpage  \\n</td>\n      <td>9-5bExam-transformations.tex</td>\n      <td>11</td>\n    </tr>\n    <tr>\n      <th>1172</th>\n      <td>80</td>\n      <td>\\newpage\\n</td>\n      <td>6-12bExam-Analytic-geometry.tex</td>\n      <td>11</td>\n    </tr>\n    <tr>\n      <th>676</th>\n      <td>51</td>\n      <td>\\newpage\\n</td>\n      <td>4-7CW-construction.tex</td>\n      <td>11</td>\n    </tr>\n    <tr>\n      <th>1179</th>\n      <td>80</td>\n      <td>\\newpage\\n</td>\n      <td>6-12bExam-Analytic-geometry.tex</td>\n      <td>11</td>\n    </tr>\n    <tr>\n      <th>136</th>\n      <td>6</td>\n      <td>\\newpage\\n</td>\n      <td>1-4HW-Intro.tex</td>\n      <td>11</td>\n    </tr>\n    <tr>\n      <th>2531</th>\n      <td>168</td>\n      <td>\\newpage  \\n</td>\n      <td>10-2bDN_Analytics-review.tex</td>\n      <td>11</td>\n    </tr>\n    <tr>\n      <th>1626</th>\n      <td>115</td>\n      <td>\\newpage  \\n</td>\n      <td>7-6bCW_Tangent+mixed.tex</td>\n      <td>11</td>\n    </tr>\n    <tr>\n      <th>35</th>\n      <td>5</td>\n      <td>\\newpage\\n</td>\n      <td>1-3HW_Equilateral-triangle.tex</td>\n      <td>11</td>\n    </tr>\n    <tr>\n      <th>1932</th>\n      <td>133</td>\n      <td>\\newpage\\n</td>\n      <td>8-3CW_Circle-terminology.tex</td>\n      <td>11</td>\n    </tr>\n    <tr>\n      <th>145</th>\n      <td>6</td>\n      <td>\\newpage\\n</td>\n      <td>1-4HW-Intro.tex</td>\n      <td>11</td>\n    </tr>\n    <tr>\n      <th>1929</th>\n      <td>133</td>\n      <td>\\newpage\\n</td>\n      <td>8-3CW_Circle-terminology.tex</td>\n      <td>11</td>\n    </tr>\n    <tr>\n      <th>460</th>\n      <td>42</td>\n      <td>\\newpage\\n</td>\n      <td>3-5DN_Angle-modeling.tex</td>\n      <td>11</td>\n    </tr>\n    <tr>\n      <th>1498</th>\n      <td>105</td>\n      <td>\\newpage\\n</td>\n      <td>7-2bDN_Graphing-practice.tex</td>\n      <td>11</td>\n    </tr>\n    <tr>\n      <th>242</th>\n      <td>13</td>\n      <td>\\newpage\\n</td>\n      <td>1-7Exam-corrections.tex</td>\n      <td>11</td>\n    </tr>\n    <tr>\n      <th>463</th>\n      <td>42</td>\n      <td>\\newpage\\n</td>\n      <td>3-5DN_Angle-modeling.tex</td>\n      <td>11</td>\n    </tr>\n    <tr>\n      <th>1923</th>\n      <td>133</td>\n      <td>\\newpage\\n</td>\n      <td>8-3CW_Circle-terminology.tex</td>\n      <td>11</td>\n    </tr>\n    <tr>\n      <th>1920</th>\n      <td>133</td>\n      <td>\\newpage\\n</td>\n      <td>8-3CW_Circle-terminology.tex</td>\n      <td>11</td>\n    </tr>\n    <tr>\n      <th>2334</th>\n      <td>159</td>\n      <td>\\newpage  \\n</td>\n      <td>9-5bExam-transformations.tex</td>\n      <td>11</td>\n    </tr>\n    <tr>\n      <th>2552</th>\n      <td>170</td>\n      <td>\\newpage  \\n</td>\n      <td>10-4bDN_Analytics-review.tex</td>\n      <td>11</td>\n    </tr>\n  </tbody>\n</table>\n</div>"
     },
     "metadata": {},
     "execution_count": 62
    }
   ],
   "source": [
    "problem_df[problem_df.q_len == 11]"
   ]
  },
  {
   "cell_type": "code",
   "execution_count": 59,
   "metadata": {},
   "outputs": [
    {
     "output_type": "execute_result",
     "data": {
      "text/plain": "       problem_set_ID  question  file\nq_len                                \n9                 425       425   425\n10                 25        25    25\n11                 43        43    43\n12                  2         2     2\n13                 13        13    13",
      "text/html": "<div>\n<style scoped>\n    .dataframe tbody tr th:only-of-type {\n        vertical-align: middle;\n    }\n\n    .dataframe tbody tr th {\n        vertical-align: top;\n    }\n\n    .dataframe thead th {\n        text-align: right;\n    }\n</style>\n<table border=\"1\" class=\"dataframe\">\n  <thead>\n    <tr style=\"text-align: right;\">\n      <th></th>\n      <th>problem_set_ID</th>\n      <th>question</th>\n      <th>file</th>\n    </tr>\n    <tr>\n      <th>q_len</th>\n      <th></th>\n      <th></th>\n      <th></th>\n    </tr>\n  </thead>\n  <tbody>\n    <tr>\n      <th>9</th>\n      <td>425</td>\n      <td>425</td>\n      <td>425</td>\n    </tr>\n    <tr>\n      <th>10</th>\n      <td>25</td>\n      <td>25</td>\n      <td>25</td>\n    </tr>\n    <tr>\n      <th>11</th>\n      <td>43</td>\n      <td>43</td>\n      <td>43</td>\n    </tr>\n    <tr>\n      <th>12</th>\n      <td>2</td>\n      <td>2</td>\n      <td>2</td>\n    </tr>\n    <tr>\n      <th>13</th>\n      <td>13</td>\n      <td>13</td>\n      <td>13</td>\n    </tr>\n  </tbody>\n</table>\n</div>"
     },
     "metadata": {},
     "execution_count": 59
    }
   ],
   "source": [
    "problem_df[problem_df.question.str.contains(r'\\\\newpage')].groupby('q_len').count()"
   ]
  },
  {
   "cell_type": "code",
   "execution_count": 41,
   "metadata": {},
   "outputs": [
    {
     "output_type": "execute_result",
     "data": {
      "text/plain": "            problem_set_ID                                           question  \\\nproblem_ID                                                                      \n1873                   131  Find the volume of a pyramid ($V=\\frac{1}{3}Bh...   \n1815                   129      Find the area of a circle with radius 4 cm.\\n   \n\n                                     file  q_len  \nproblem_ID                                        \n1873                 8-2DN_Estimation.tex    204  \n1815        8-1DN_Circle-trajectories.tex     44  ",
      "text/html": "<div>\n<style scoped>\n    .dataframe tbody tr th:only-of-type {\n        vertical-align: middle;\n    }\n\n    .dataframe tbody tr th {\n        vertical-align: top;\n    }\n\n    .dataframe thead th {\n        text-align: right;\n    }\n</style>\n<table border=\"1\" class=\"dataframe\">\n  <thead>\n    <tr style=\"text-align: right;\">\n      <th></th>\n      <th>problem_set_ID</th>\n      <th>question</th>\n      <th>file</th>\n      <th>q_len</th>\n    </tr>\n    <tr>\n      <th>problem_ID</th>\n      <th></th>\n      <th></th>\n      <th></th>\n      <th></th>\n    </tr>\n  </thead>\n  <tbody>\n    <tr>\n      <th>1873</th>\n      <td>131</td>\n      <td>Find the volume of a pyramid ($V=\\frac{1}{3}Bh...</td>\n      <td>8-2DN_Estimation.tex</td>\n      <td>204</td>\n    </tr>\n    <tr>\n      <th>1815</th>\n      <td>129</td>\n      <td>Find the area of a circle with radius 4 cm.\\n</td>\n      <td>8-1DN_Circle-trajectories.tex</td>\n      <td>44</td>\n    </tr>\n  </tbody>\n</table>\n</div>"
     },
     "metadata": {},
     "execution_count": 41
    }
   ],
   "source": [
    "problem_df.loc[[1873, 1815]]"
   ]
  },
  {
   "cell_type": "code",
   "execution_count": 63,
   "metadata": {},
   "outputs": [
    {
     "output_type": "execute_result",
     "data": {
      "text/plain": "            problem_set_ID                                           question  \\\nproblem_ID                                                                      \n2187                   147  Translate $\\triangle ABC$ by $(x,y) \\rightarro...   \n2188                   147  What transformation maps $\\triangle ABC$ onto ...   \n2189                   147  Reflect $\\triangle TRS$ across the $y$-axis, l...   \n2190                   147                                $\\square$] Length\\n   \n2191                   147                        $\\square$] Angle measures\\n   \n2192                   147                           $\\square$] Orientation\\n   \n2193                   147                $\\square$] Parallel relationships\\n   \n2194                   147  $\\square$] Area\\n    \\end{itemize}\\n    \\begin...   \n2195                   147                                         \\newpage\\n   \n2196                   147  A translation maps triangle $PQR$ onto triangl...   \n2197                   147  Check those transformations that are rigid mot...   \n2198                   147                              $\\square$] Dilation\\n   \n2199                   147                           $\\square$] Translation\\n   \n2200                   147                            $\\square$] Reflection\\n   \n2201                   147                              $\\square$] Rotation\\n   \n2202                   147                           $\\square$] An isometry\\n   \n2203                   147  $\\square$] Horizontal stretch\\n    \\end{itemiz...   \n2204                   147  A rigid motion maps $\\triangle DEF$ onto $\\tri...   \n2205                   147  Given $\\triangle JKL \\sim \\triangle MNO$. $m\\a...   \n\n                                file  q_len  \nproblem_ID                                   \n2187        9-1DN_Correspondence.tex    528  \n2188        9-1DN_Correspondence.tex    988  \n2189        9-1DN_Correspondence.tex    179  \n2190        9-1DN_Correspondence.tex     18  \n2191        9-1DN_Correspondence.tex     26  \n2192        9-1DN_Correspondence.tex     23  \n2193        9-1DN_Correspondence.tex     34  \n2194        9-1DN_Correspondence.tex    418  \n2195        9-1DN_Correspondence.tex      9  \n2196        9-1DN_Correspondence.tex    883  \n2197        9-1DN_Correspondence.tex     72  \n2198        9-1DN_Correspondence.tex     20  \n2199        9-1DN_Correspondence.tex     23  \n2200        9-1DN_Correspondence.tex     22  \n2201        9-1DN_Correspondence.tex     20  \n2202        9-1DN_Correspondence.tex     23  \n2203        9-1DN_Correspondence.tex     72  \n2204        9-1DN_Correspondence.tex    508  \n2205        9-1DN_Correspondence.tex    148  ",
      "text/html": "<div>\n<style scoped>\n    .dataframe tbody tr th:only-of-type {\n        vertical-align: middle;\n    }\n\n    .dataframe tbody tr th {\n        vertical-align: top;\n    }\n\n    .dataframe thead th {\n        text-align: right;\n    }\n</style>\n<table border=\"1\" class=\"dataframe\">\n  <thead>\n    <tr style=\"text-align: right;\">\n      <th></th>\n      <th>problem_set_ID</th>\n      <th>question</th>\n      <th>file</th>\n      <th>q_len</th>\n    </tr>\n    <tr>\n      <th>problem_ID</th>\n      <th></th>\n      <th></th>\n      <th></th>\n      <th></th>\n    </tr>\n  </thead>\n  <tbody>\n    <tr>\n      <th>2187</th>\n      <td>147</td>\n      <td>Translate $\\triangle ABC$ by $(x,y) \\rightarro...</td>\n      <td>9-1DN_Correspondence.tex</td>\n      <td>528</td>\n    </tr>\n    <tr>\n      <th>2188</th>\n      <td>147</td>\n      <td>What transformation maps $\\triangle ABC$ onto ...</td>\n      <td>9-1DN_Correspondence.tex</td>\n      <td>988</td>\n    </tr>\n    <tr>\n      <th>2189</th>\n      <td>147</td>\n      <td>Reflect $\\triangle TRS$ across the $y$-axis, l...</td>\n      <td>9-1DN_Correspondence.tex</td>\n      <td>179</td>\n    </tr>\n    <tr>\n      <th>2190</th>\n      <td>147</td>\n      <td>$\\square$] Length\\n</td>\n      <td>9-1DN_Correspondence.tex</td>\n      <td>18</td>\n    </tr>\n    <tr>\n      <th>2191</th>\n      <td>147</td>\n      <td>$\\square$] Angle measures\\n</td>\n      <td>9-1DN_Correspondence.tex</td>\n      <td>26</td>\n    </tr>\n    <tr>\n      <th>2192</th>\n      <td>147</td>\n      <td>$\\square$] Orientation\\n</td>\n      <td>9-1DN_Correspondence.tex</td>\n      <td>23</td>\n    </tr>\n    <tr>\n      <th>2193</th>\n      <td>147</td>\n      <td>$\\square$] Parallel relationships\\n</td>\n      <td>9-1DN_Correspondence.tex</td>\n      <td>34</td>\n    </tr>\n    <tr>\n      <th>2194</th>\n      <td>147</td>\n      <td>$\\square$] Area\\n    \\end{itemize}\\n    \\begin...</td>\n      <td>9-1DN_Correspondence.tex</td>\n      <td>418</td>\n    </tr>\n    <tr>\n      <th>2195</th>\n      <td>147</td>\n      <td>\\newpage\\n</td>\n      <td>9-1DN_Correspondence.tex</td>\n      <td>9</td>\n    </tr>\n    <tr>\n      <th>2196</th>\n      <td>147</td>\n      <td>A translation maps triangle $PQR$ onto triangl...</td>\n      <td>9-1DN_Correspondence.tex</td>\n      <td>883</td>\n    </tr>\n    <tr>\n      <th>2197</th>\n      <td>147</td>\n      <td>Check those transformations that are rigid mot...</td>\n      <td>9-1DN_Correspondence.tex</td>\n      <td>72</td>\n    </tr>\n    <tr>\n      <th>2198</th>\n      <td>147</td>\n      <td>$\\square$] Dilation\\n</td>\n      <td>9-1DN_Correspondence.tex</td>\n      <td>20</td>\n    </tr>\n    <tr>\n      <th>2199</th>\n      <td>147</td>\n      <td>$\\square$] Translation\\n</td>\n      <td>9-1DN_Correspondence.tex</td>\n      <td>23</td>\n    </tr>\n    <tr>\n      <th>2200</th>\n      <td>147</td>\n      <td>$\\square$] Reflection\\n</td>\n      <td>9-1DN_Correspondence.tex</td>\n      <td>22</td>\n    </tr>\n    <tr>\n      <th>2201</th>\n      <td>147</td>\n      <td>$\\square$] Rotation\\n</td>\n      <td>9-1DN_Correspondence.tex</td>\n      <td>20</td>\n    </tr>\n    <tr>\n      <th>2202</th>\n      <td>147</td>\n      <td>$\\square$] An isometry\\n</td>\n      <td>9-1DN_Correspondence.tex</td>\n      <td>23</td>\n    </tr>\n    <tr>\n      <th>2203</th>\n      <td>147</td>\n      <td>$\\square$] Horizontal stretch\\n    \\end{itemiz...</td>\n      <td>9-1DN_Correspondence.tex</td>\n      <td>72</td>\n    </tr>\n    <tr>\n      <th>2204</th>\n      <td>147</td>\n      <td>A rigid motion maps $\\triangle DEF$ onto $\\tri...</td>\n      <td>9-1DN_Correspondence.tex</td>\n      <td>508</td>\n    </tr>\n    <tr>\n      <th>2205</th>\n      <td>147</td>\n      <td>Given $\\triangle JKL \\sim \\triangle MNO$. $m\\a...</td>\n      <td>9-1DN_Correspondence.tex</td>\n      <td>148</td>\n    </tr>\n  </tbody>\n</table>\n</div>"
     },
     "metadata": {},
     "execution_count": 63
    }
   ],
   "source": [
    "# CHECK Problem with itemize instead of enumerate\n",
    "problem_df[problem_df.problem_set_ID == 147].sort_index()"
   ]
  },
  {
   "cell_type": "code",
   "execution_count": 73,
   "metadata": {
    "tags": []
   },
   "outputs": [
    {
     "output_type": "stream",
     "name": "stdout",
     "text": "On the graph below, dilate the triangle $ABC$ by a factor of $\\frac{3}{2}$ centered on the origin.\\\\\n    \\begin{tikzpicture}[scale=.635]\n      \\draw [help lines] (-3,-2) grid (8,6);\n      \\draw [thick, ->] (-3.2,0) -- (8.4,0) node [below right] {$x$};\n      \\draw [thick, ->] (0,-2.2)--(0,6.4) node [left] {$y$};\n      \\draw [thick] (0,0)node[below right]{$A$}--\n       (4,0)node[below right]{$B$}--\n         (4,2)node[above]{$C$}--cycle;\n    \\end{tikzpicture}\n   \\vspace{2cm}\n\n\n\nTriangle $ABC$ is dilated with a factor of $\\frac{5}{3}$ centered at $A$, yielding $\\triangle ADE$, as shown. Given $AB=9$, $BC=12$, and $AC=15$. \\\\[0.25cm] Find $AD$, $AE$, and $DE$. \\vspace{0.5cm}\n \\begin{flushright}\n     \\begin{tikzpicture}[scale=0.7]\n       \\draw [thick]\n       (0,0)node[left]{$B$}--\n       (8,0)node[above right]{$C$}--\n       (2,6)node[left]{$A$}--cycle;\n       \\draw [thick]\n       (0,0)--\n       (-1,-3)node[left]{$D$}--\n       (11,-3)node[above right]{$E$}--(8,0);\n       \\node at (4,0)[below]{$12$};\n       \\node at (5.3, 3)[right]{$15$};\n       \\node at (0.3, 2.8)[above]{$9$};\n     \\end{tikzpicture}\n   \\end{flushright}\n\n\n\\newpage\n\nThe coordinates of the endpoints of $\\overline{AB}$ are $A(1,2)$ and $B(4,2)$. Determine the length of $\\overline{A'B'}$, the image of  $\\overline{AB}$, after a dilation of $k=2$ centered at the origin.\\\\[0.25cm]\nDraw and label the two line segments,  $\\overline{AB}$ and  $\\overline{A'B'}$, on the set of axes below.\n  \\vspace{1cm}\n  \\begin{center}\n    \\begin{tikzpicture}[scale=.635]\n      \\draw [help lines] (-3,-2) grid (10,9);\n      \\draw [thick, <->] (-3.4,0) -- (10.4,0) node [right] {$x$};\n      \\draw [thick, <->] (0,-2.4)--(0,9.4) node [above] {$y$};\n    \\end{tikzpicture}\n  \\end{center}\n\n\n\nGiven similar triangles $\\triangle ABC \\sim \\triangle ADE$, as shown. Given $AB=5$, $BC=7$, $AC=8$, and $BD=5$. \\\\[0.25cm] Find the scale factor $k$, $DE$, $AE$, and $CE$. \\vspace{1cm}\n\\begin{flushright}\n   \\begin{tikzpicture}[scale=0.5]\n     \\draw [thick]\n     (0.5,1.5)node[left]{$B$}--\n     (6.5,1.5)node[above right]{$C$}--\n     (2,6)node[above]{$A$}--cycle;\n     \\draw [thick]\n     (0.5,1.5)--\n     (-1,-3)node[left]{$D$}--\n     (11,-3)node[above right]{$E$}--(6.5,1.5);\n     \\node at (3,1.5)[below]{$7$};\n     \\node at (4.5, 4)[right]{$8$};\n     \\node at (0.6, 3.3)[above]{$5$};\n     \\node at (-0.7, -1)[above]{$5$};\n   \\end{tikzpicture}\n \\end{flushright}\n\n\n\\newpage\n\nGiven $\\triangle ABC \\sim \\triangle DEF$. $m\\angle A = 40^\\circ$ and $m\\angle E = 35^\\circ$.\\\\\n Find the measure of $\\angle C$. \\vspace{3cm}\n\n\nGiven $\\triangle ABP \\sim \\triangle JKP$ as shown below. $AP=5.7$, $JP=11.4$, and $JK=14.8$. Find $AB$.\n \\begin{flushright}\n   \\begin{tikzpicture}[scale=1.4]\n       \\draw [thick]\n         (0.25,-1)node[right]{$B$}--\n         (-0.5,2)node[left]{$K$}--\n         (4,0)node[right]{$J$}--\n         (0,0)node[above right]{$P$}--\n         (-2,0)node[left]{$A$}--cycle;\n     \\end{tikzpicture}\n     \\end{flushright}\n     \\vspace{3cm}\n\n   \\begin{multicols}{2}\n\nA translation maps triangle $CAT$ onto triangle $DOG$.] \\vspace{0.5cm}\n      \\begin{tikzpicture}[scale=0.9]\n        \\coordinate [label=above left:$C$](A) at (95:2);\n        \\coordinate [label=below:$A$](B) at (0, 0);\n        \\coordinate [label=right:$T$](C) at (-10:3.5);\n        \\draw [thick] (A)--(B)--(C)--cycle;\n  \n        \\draw [thick, xshift=3cm, yshift=1.5cm] (95:2) node[above]{$D$}--\n        (0,0) node[below]{$O$}--\n        (-10:3.5) node[right]{$G$}--cycle;\n      \\end{tikzpicture}\\\\\n      Fill in the blank with the corresponding object.\n      \\begin{enumerate}\n        \\item $A \\rightarrow$ \\rule{2cm}{0.15mm}\n        \\item $\\angle CTA \\cong$ \\rule{2cm}{0.15mm}\n        \\item \\rule{2cm}{0.15mm} $\\cong \\overline {DG}$\n      \\end{enumerate}\n    \\end{multicols}  \\vspace{4cm}\n\n\n\\newpage\n\nUsing a compass and straightedge, construct the perpendicular bisector of $\\overline{BB'}$  \\\\[0.25cm]\nWhat transformation has been applied to map $\\triangle ABC$ on to $\\triangle A'B'C'$? \\vspace{2cm}\n    \\begin{center}\n    \\begin{tikzpicture}[scale=.8]\n      %\\draw [thick, <->] (-7.4,0) -- (10.4,0) node [right] {$x$};\n      %\\draw [thick, <->] (0,-6.4)--(0,10.4) node [above] {$y$};\n\n      \\draw [thick]\n      (5,-1) node[below left] {$A$}--\n      (8,2) node[right] {$B$}--\n      (1,0) node[below left] {$C$}--cycle;\n\n      \\draw [thick]\n      (-1,5) node[right] {$A'$}--\n      (2,8) node[above] {$B'$}--\n      (0,1) node[below left] {$C'$}--cycle;\n\n    \\end{tikzpicture}\n  \\end{center}\n\n\nTriangle $ABC$ is dilated with a factor of $\\frac{3}{2}$ centered at $A$, yielding $\\triangle ADE$, as shown. Given $AB=10$, $BC=12$, and $AC=14$. \\\\[0.25cm] Find $AD$, $AE$, and $DE$. \\vspace{1cm}\n\\begin{flushright}\n    \\begin{tikzpicture}[scale=0.5]\n      \\draw [thick]\n      (0,0)node[left]{$B$}--\n      (8,0)node[above right]{$C$}--\n      (2,6)node[left]{$A$}--cycle;\n      \\draw [thick]\n      (0,0)--\n      (-1,-3)node[left]{$D$}--\n      (11,-3)node[above right]{$E$}--(8,0);\n      \\node at (4,0)[below]{$12$};\n      \\node at (5.3, 3)[right]{$14$};\n      \\node at (0.3, 2.8)[above]{$10$};\n    \\end{tikzpicture}\n  \\end{flushright}\n\n\n"
    }
   ],
   "source": [
    "for q in p_df[p_df.problem_set_ID == 62].sort_index().question:\n",
    "    print(q)"
   ]
  },
  {
   "cell_type": "code",
   "execution_count": 64,
   "metadata": {
    "tags": []
   },
   "outputs": [
    {
     "output_type": "stream",
     "name": "stdout",
     "text": "<class 'list'>\n['\\n', '\\\\subsubsection*{Do Not Solve! \\\\\\\\\\n', 'Model the situation with an equation in terms of $x$.}\\n', '\\n', '  \\\\item Given $\\\\overline{ABC}$, with $AB=2x-1$, $BC=3x+3$, and $AC=17$. Find $x$. \\\\vspace{1cm}\\n', '  \\\\begin{flushright}\\n', '    \\\\begin{tikzpicture}\\n', '      \\\\draw [-, thick] (0,0) node[below]{$A$}--\\n', '      (2,0) node[below]{$B$}--\\n', '      (6,0) node[below]{$C$};\\n', '      \\\\draw [fill] (0,0) circle [radius=0.05];\\n', '      \\\\draw [fill] (2,0) circle [radius=0.05];\\n', '      \\\\draw [fill] (6,0) circle [radius=0.05];\\n', '    \\\\end{tikzpicture}\\n', '    \\\\end{flushright} \\\\vspace{1cm}\\n', '  \\n', '  \\\\item Given $m\\\\angle 3 = x+30$ and $m\\\\angle 5 = 4x-20$. Find $x$. \\n', '  \\\\begin{flushright}\\n', '  \\\\begin{tikzpicture}\\n', '    \\\\draw [<->, thick] (3,2)--(8,2);\\n', '    \\\\draw [<->, thick] (2,0)--(7,0);\\n', '    \\\\draw [<->, thick] (4,-1)--(5.5,3);\\n', '    \\\\node at (4.5,0.3) [left]{$5$};\\n', '    \\\\node at (4.5,0.3) [right]{$6$};\\n', '    \\\\node at (4.3,-0.3) [left]{$7$};\\n', '    \\\\node at (4.3,-0.3) [right]{$8$};\\n', '    \\\\node at (5.2,2) [above left]{$1$};\\n', '    \\\\node at (5.2,2) [above right]{$2$};\\n', '    \\\\node at (5,2) [below left]{$3$};\\n', '    \\\\node at (5,2) [below right]{$4$};\\n', '  \\\\end{tikzpicture}\\n', '  \\\\end{flushright} \\\\vspace{0.5cm}\\n', '\\n', '  \\\\item In the diagram below $m\\\\angle AOB = 6x+5$ and $m\\\\angle COB = 8x+15$. Find $x$. %\\\\vspace{0.25cm}\\n', '  \\\\begin{flushright}\\n', '  \\\\begin{tikzpicture}[scale=0.7, rotate=30]\\n', '  \\\\draw [<->, thick] (-25:5)--(0,0)--(155:5);\\n', '  \\\\draw [<->, thick] (-5,0)--(5,0);\\n', '  \\\\draw [->, thick] (0,0)--(0,4);\\n', '  \\\\draw (0,0)++(0.3,0)--++(0,0.3)--+(-0.3,0);\\n', '  %\\\\draw [fill] (-1,2.5) circle [radius=0.05] node[left ]{$B$};\\n', '  \\\\draw [fill] (155:3) circle [radius=0.05] node[below left]{$B$};\\n', '  \\\\draw [fill] (-4,0) circle [radius=0.05] node[below]{$A$}; \\n', '  \\\\draw [fill] (0,0) circle [radius=0.05] node[below]{$O$};\\n', '  \\\\draw [fill] (0,3) circle [radius=0.05] node[left]{$C$};\\n', '  \\\\draw [fill] (4,0) circle [radius=0.05] node[below]{$D$};\\n', '  \\\\draw [fill] (-25:2) circle [radius=0.05] node[below]{$E$};\\n', '  \\\\end{tikzpicture}\\n', '  \\\\end{flushright}\\n', '\\n', '  \\\\item The point $K$ is the midpoint of $\\\\overline{JL}$, $JK=3x+15$, and $JL=9x+9$. Find $x$.  \\\\vspace{1cm}\\n', '  \\\\begin{flushright}\\n', '    \\\\begin{tikzpicture}\\n', '      \\\\draw [-, thick] (0,0) node[below]{$J$}--\\n', '      (3,0) node[below]{$K$}--\\n', '      (6,0) node[below]{$L$};\\n', '      \\\\draw [fill] (0,0) circle [radius=0.05];\\n', '      \\\\draw [fill] (3,0) circle [radius=0.05];\\n', '      \\\\draw [fill] (6,0) circle [radius=0.05];\\n', '    \\\\end{tikzpicture}\\n', '    \\\\end{flushright} \\\\vspace{2cm}\\n', '\\n', '\\\\newpage\\n', \"    \\\\item On the graph below, $\\\\overleftrightarrow{AB}$ is shown with A(0, 4), B(3,0). A dilation of $k=2$ centered at the origin maps $\\\\overleftrightarrow{AB} \\\\rightarrow \\\\overleftrightarrow{A'B'}$.\\\\\\\\*[0.5cm]\\n\", \"  Draw $\\\\overleftrightarrow{A'B'}$ on the graph, labeling $A'$ and $B'$.\\n\", '    \\\\begin{center}\\n', '      \\\\begin{tikzpicture}[scale=.635]\\n', '        \\\\draw [help lines] (-10,-10) grid (10,10);\\n', '        \\\\draw [thick, ->] (-10.2,0) -- (10.4,0) node [below right] {$x$};\\n', '        \\\\draw [thick, ->] (0,-10.2)--(0,10.4) node [left] {$y$};\\n', '        \\\\draw [thick, <->] (-3,8)--(6,-4);\\n', '        \\\\draw [fill] (0, 4) circle[radius = 0.1] node[above right]{$A$};\\n', '        \\\\draw [fill] (3, 0) circle[radius = 0.1] node[above right]{$B$};\\n', '      \\\\end{tikzpicture}\\n', '    \\\\end{center}\\n', '      \\\\vspace{1cm}\\n', '    \\\\begin{enumerate}\\n', '      \\\\item Write down the equation $\\\\overleftrightarrow{AB}$ \\\\vspace{2cm}\\n', \"      \\\\item Write down the equation $\\\\overleftrightarrow{A'B'}$\\n\", '    \\\\end{enumerate}\\n', '\\n', '\\\\newpage\\n', '  \\n', '  \\\\item Triangle $ABC$ is dilated with a scale factor of $k = 1.25$ centered at $A$, yielding $\\\\triangle ADE$, as shown. Given $AB=8$, $BC=12$, and $AC=16$. \\\\\\\\[0.25cm] Find $AD$, $DE$, and $CE$.\\n', '  \\\\begin{flushright}\\n', '      \\\\begin{tikzpicture}[scale=0.5]\\n', '        \\\\draw [thick]\\n', '        (0,0)node[left]{$B$}--\\n', '        (8,0)node[above right]{$C$}--\\n', '        (2,6)node[left]{$A$}--cycle;\\n', '        \\\\draw [thick]\\n', '        (0,0)--\\n', '        (-1,-3)node[left]{$D$}--\\n', '        (11,-3)node[above right]{$E$}--(8,0);\\n', '        \\\\node at (4,0)[below]{$12$};\\n', '        \\\\node at (5.3, 3)[right]{$16$};\\n', '        \\\\node at (0.3, 2.8)[above]{$8$};\\n', '      \\\\end{tikzpicture}\\n', '    \\\\end{flushright} \\\\vspace{2.5cm}\\n', '\\n', '  \\\\item Find the image of $P(3,1)$ after the translation $(x,y) \\\\rightarrow (x-1,y+12)$.  \\\\vspace{2.5cm}\\n', '  \\n', '  \\\\begin{multicols}{2}\\n', '    [\\\\item A translation maps triangle $ABC$ onto triangle $PQR$.] \\\\vspace{0.5cm}\\n', '      \\\\begin{tikzpicture}[scale=0.9]\\n', '        \\\\coordinate [label=above left:$A$](A) at (95:2);\\n', '        \\\\coordinate [label=below:$B$](B) at (0, 0);\\n', '        \\\\coordinate [label=right:$C$](C) at (25:3.5);\\n', '        \\\\draw [thick] (A)--(B)--(C)--cycle;\\n', '  \\n', '        \\\\draw [thick, xshift=3cm, yshift=-2cm] (95:2) node[left]{$P$}--\\n', '        (0,0) node[below]{$Q$}--\\n', '        (25:3.5) node[right]{$R$}--cycle;\\n', '      \\\\end{tikzpicture}\\\\\\\\\\n', '      Write each corresponding object.\\n', '      \\\\begin{enumerate}\\n', '        \\\\item $B \\\\rightarrow$ \\\\rule{2cm}{0.15mm}\\n', '        \\\\item $\\\\angle C \\\\cong$ \\\\rule{2cm}{0.15mm}\\n', '        \\\\item $\\\\overline {AC} \\\\cong$ \\\\rule{2cm}{0.15mm} \\n', '        \\\\item \\\\rule{2cm}{0.15mm} $\\\\cong \\\\overline {QR}$\\n', '      \\\\end{enumerate}\\n', '    \\\\end{multicols} \\n', '\\n', '\\\\newpage\\n', '  \\n', '  \\\\item A dilation centered at $A$ maps $\\\\triangle ABC \\\\rightarrow \\\\triangle ADE$. Given the sides of the preimage, $AC = 4$, $BC = 3$, $AB = 5$, and of $DE = 9$ find the scale factor $k$ and the lengths $AD$ and $AE$.\\n', '    \\\\begin{flushright}\\n', '      \\\\begin{tikzpicture}[scale=0.6]\\n', '        \\\\draw [-, thick] (0,0) node[above left]{$A$}--\\n', '        (10,0) node[below]{$E$}--\\n', '        (10,7.5) node[above left]{$D$}--cycle;\\n', '        \\\\draw [thick] (4,0)--(4,3);\\n', '        \\\\node at (4,0) [below]{$C$};\\n', '        \\\\node at (4,3) [above left]{$B$};\\n', '        \\\\node at (2, 0) [below]{$4$};\\n', '        \\\\node at (2, 2) [above]{$5$};\\n', '        \\\\node at (10, 4) [right]{$9$};\\n', '        \\\\node at (4, 1.5) [right]{$3$};\\n', '      \\\\end{tikzpicture}\\n', '    \\\\end{flushright} \\\\vspace{0.5cm}\\n', '\\n', '    \\\\item Given $\\\\triangle ABC \\\\sim \\\\triangle DEF$. $m\\\\angle A = 40^\\\\circ$ and $m\\\\angle E = 35^\\\\circ$. Find the measure of $\\\\angle C$. \\\\\\\\*[0.25cm] (\\\\emph{hint: the order of corresponding letters match}) \\\\vspace{2.5cm}\\n', '    \\n', '    \\\\item Translate $\\\\triangle ABC$ by $(x,y) \\\\rightarrow (x-4, y+2)$. Make a table of the coordinates and plot and label the image on the axes.\\n', '    \\\\begin{flushright}\\n', '        \\\\begin{tikzpicture}[scale=.48]\\n', '        \\\\draw [help lines] (-7,-4) grid (10,9);\\n', '        \\\\draw [thick, <->] (-7.4,0) -- (10.4,0) node [right] {$x$};\\n', '        \\\\draw [thick, <->] (0,-4.4)--(0,9.4) node [above] {$y$};  \\n', '        \\\\draw [thick]\\n', '          (1,2) node[below left] {$A$}--\\n', '          (4,5) node[above left] {$B$}--\\n', '          (5,1) node[below] {$C$}--cycle;  \\n', '      \\\\end{tikzpicture}\\n', '    \\\\end{flushright}\\n', '     \\n', '\\\\newpage\\n', '\\\\item Solve for $y$, then graph and label, marking the intersection as an ordered pair.\\n', '        \\\\vspace{0.25cm}\\n', '        \\\\begin{multicols}{2}\\n', '          $x + 2y =  4$\\\\\\\\\\n', '          $\\\\displaystyle \\\\frac{1}{2} x -y = 4$\\n', '        \\\\end{multicols}\\n', '        \\\\vspace{4cm}\\n', '\\n', '    \\\\begin{center} %4 quadrant regents grid w T-Chart\\n', '    \\\\begin{tikzpicture}[scale=.635]\\n', '      \\\\draw [help lines] (-9,-9) grid (9,9);\\n', '      \\\\draw [thick, ->] (-9.2,0) -- (9.4,0) node [below right] {$x$};\\n', '      \\\\draw [thick, ->] (0,-9.2)--(0,9.4) node [left] {$y$};\\n', '    \\\\end{tikzpicture}\\n', '    \\\\end{center}\\n', '\\n', '\\\\newpage\\n', '    \\n', '  \\\\item Given two parallel lines and a transversal, as shown below.\\n', '  \\\\begin{center}\\n', '  \\\\begin{tikzpicture}\\n', '    \\\\draw [<->, thick] (1,2)--(9,2);\\n', '    \\\\draw [<->, thick] (0,0)--(8,0);\\n', '    \\\\draw [<->, thick] (4,-1)--(5.5,3);\\n', '    \\\\node at (4.5,0.3) [left]{$5$};\\n', '    \\\\node at (4.5,0.3) [right]{$6$};\\n', '    \\\\node at (4.3,-0.3) [left]{$7$};\\n', '    \\\\node at (4.3,-0.3) [right]{$8$};\\n', '    \\\\node at (5.2,2) [above left]{$1$};\\n', '    \\\\node at (5.2,2) [above right]{$2$};\\n', '    \\\\node at (5,2) [below left]{$3$};\\n', '    \\\\node at (5,2) [below right]{$4$};\\n', '  \\\\end{tikzpicture}\\n', '  \\\\end{center}\\n', '  \\\\begin{enumerate}\\n', '    \\\\item State the angle corresponding with $\\\\angle 1$. \\\\vspace{0.5cm}\\n', '    \\\\item What theorem would justify $m\\\\angle 4 + m\\\\angle 6 =180^\\\\circ$? \\\\rule{5cm}{0.15mm} \\\\vspace{0.5cm}\\n', '    \\\\item What theorem would justify $\\\\angle 3 \\\\cong \\\\angle 6$? \\\\rule{7cm}{0.15mm} \\\\vspace{0.5cm}\\n', '    \\\\item Given $m\\\\angle 1 = 108^\\\\circ$ and $m\\\\angle 8 = (4x-16)^\\\\circ$. Find $x$. \\\\vspace{4.5cm}\\n', '  \\\\end{enumerate}\\n', '\\n', \"  \\\\item The side $\\\\overline{AB}$ of triangle $ABC$ is extended and an altitude to the vertex $C$ is drawn, as shown below. The triangle's height is $h=7.2$ and its base measures $AB=12.4$. Find the area of the triangle.\\n\", '    \\\\begin{flushright}\\n', '      \\\\begin{tikzpicture}[scale=0.8]\\n', '        \\\\draw [thick]\\n', '          (0,0)node[below]{$A$}--\\n', '          (6,0)node[below]{$B$}--\\n', '          (7,4)node[above]{$C$} --cycle;\\n', '      \\\\draw [dashed] (7,0)--(7,4);\\n', '      \\\\draw [dashed, ->] (6,0)--(7.5,0);\\n', '      \\\\draw (7,0)++(-0.3,0)--++(0,0.3)--+(0.3,0);\\n', '      \\\\node at (7,2.2)[right]{$h=7.2$};\\n', '      \\\\node at (3,0)[below]{$12.4$};\\n', '      \\\\end{tikzpicture}\\n', '    \\\\end{flushright}\\n', '\\n', '\\\\newpage   \\n', '\\\\subsubsection*{Do Not Solve! Make a drawing on the right, an equation to the left, and circle where it states what to find.}\\n', '\\\\vspace{0.5cm}\\n', '  \\n', '  \\\\item The point $Q$ is the midpoint of $\\\\overline{PR}$, $PQ=11$, and $QR=2x+1$. Find ${x}$.\\n', '  \\\\vspace{4cm}\\n', '  \\n', '  \\\\item Given $\\\\overline{PQR}$, with $PQ=3x-7$, $QR=x+3$, and $PR=12$. Find ${x}$.\\n', '  \\\\vspace{4cm}\\n', '  \\n', '  \\\\item Given that $Q$ bisects $\\\\overline{PR}$. $PQ=2x-5$, $PR=42$. Find ${x}$.\\n', '  \\\\vspace{4cm}\\n', '  \\n', '  \\\\item The points $P$, $Q$, and $R$ are collinear, with $PQ=x+4$ and $PR=27$. $\\\\overline{QR}$ is twice the length of $\\\\overline{PQ}$. Find ${x}$.\\n', '  \\n', '  \\n', '\\n', '\\\\newpage\\n', '    \\\\item Given isosceles $\\\\triangle TUV$ with $\\\\overline{TU} \\\\cong \\\\overline{UV}$ and $m\\\\angle U = 50$. Mark the triangle in the diagram and find $m\\\\angle U$ and $m\\\\angle V$.\\n', '  \\\\begin{flushright}\\n', '    (\\\\emph{the diagram is not to scale})\\\\\\\\\\n', '  \\\\begin{tikzpicture}[scale=0.8]\\n', '    \\\\draw [thick](0,0)--(4,0)--(2,3.5)--(0,0);\\n', '    \\\\node at (0,0) [left]{$T$};\\n', '    \\\\node at (4,0) [right]{$U$};\\n', '    \\\\node at (2,3.5) [right]{$V$};\\n', '  \\\\end{tikzpicture}\\n', '  \\\\end{flushright}\\n', '\\n', '  \\\\item The points $R$, $S$, and $T$ are collinear, with $RS=4x-8$, $ST=21$, and $RT=6x-1$. \\\\\\\\*[0.25cm]\\n', '  Mark the diagram and find ${RT}$. \\\\vspace{0.5cm}\\n', '  \\\\begin{flushright}\\n', '    \\\\begin{tikzpicture}\\n', '      \\\\draw [-, thick] (0,0)--(6,0);\\n', '      \\\\draw [fill] (0,0) circle [radius=0.05] node[below]{$R$};\\n', '      \\\\draw [fill] (2.9,0) circle [radius=0.05] node[below]{$S$};\\n', '      \\\\draw [fill] (6,0) circle [radius=0.05] node[below]{$T$};\\n', '    \\\\end{tikzpicture}\\n', '    \\\\end{flushright} \\\\vspace{4cm}\\n', '\\n', \"  \\\\item A translation maps $X(2,-7) \\\\rightarrow X'(3,5)$. \\n\", '    \\\\begin{enumerate}\\n', '      \\\\item What translation was applied (be specific)?  \\\\vspace{2cm}\\n', '      \\\\item What is the image of $Y(1,3)$ under the same translation?\\n', '      \\\\end{enumerate} \\\\vspace{2cm}\\n', '  \\n', '\\\\newpage\\n', ' \\n', '  \\\\item Given $\\\\triangle ABC$ point $D$ on $\\\\overline{AB}$ and point $E$ on $\\\\overline{BC}$ such that $\\\\triangle ABC \\\\sim \\\\triangle DBE$. \\\\\\\\*[0.25cm]\\n', '  Given $AB=15$, $BC=10$, and $AD=9$. Mark the lengths on the triangle, showing $DB$ as well. \\\\\\\\*[0.25cm] Find the length of $\\\\overline{BE}$.\\n', '    \\\\begin{flushright}\\n', '      \\\\begin{tikzpicture}[scale=0.6]\\n', '        \\\\coordinate [label=left:$A$](A) at (-12,6);\\n', '        \\\\coordinate [label=below:$B$](B) at (0, 0);\\n', '        \\\\coordinate [label=below left:$C$](C) at (-9.6,0);\\n', '        \\\\coordinate [label=above:$D$](D) at (-5, 2.5);\\n', '        \\\\coordinate [label=below:$E$](E) at (-4,0);\\n', '        \\\\draw [thick] (A)--(B)--(C)--cycle;\\n', '        \\\\draw [thick] (A)--(C);\\n', '        \\\\draw [thick] (D)--(E);\\n', '      \\\\end{tikzpicture}\\n', '    \\\\end{flushright} \\\\vspace{3cm}\\n', '\\n', '  \\\\item $\\\\triangle ABC$ is shown with vertices $A(2,-3)$, $B(-2,3)$, and $C(3,4)$. Translate the triangle to the left three units and up two units. Write down its coordinates in a table and plot and label it on the graph.\\n', '    \\\\begin{flushright}\\n', '      \\\\begin{tikzpicture}[scale=.48]\\n', '        \\\\draw [help lines] (-8,-8) grid (8,8);\\n', '        \\\\draw [thick, <->] (-8.4,0) -- (8.4,0) node [below right] {$x$};\\n', '        \\\\draw [thick, <->] (0,-8.4)--(0,8.4) node [left] {$y$};\\n', '        \\\\draw [thick] (2,-3) node[left] {$A$}--\\n', '          (-2,3) node[left] {$B$}--\\n', '          (3,4) node[above right] {$C$}--\\n', '          cycle;\\n', '      \\\\end{tikzpicture}\\n', '      \\\\end{flushright}\\n', '\\n', '\\\\newpage\\n', '  \\\\item The shape shown below is composed of straight lines and right angles, with some lengths as marked. Find the area of the figure. (the figure is not drawn to scale)\\n', '  \\\\begin{flushleft}\\n', '  \\\\begin{tikzpicture}[scale=0.5]\\n', '  \\\\draw [-, thick] (0,0)--(13,0)--(13,3)--(9,3)--(9,9)--\\n', '  (0,9)--(0,7)--(4,7)--(4,3)--(0,3)--cycle;\\n', '  %\\\\draw [fill] (0,0) circle [radius=0.05] node[left]{$A$};\\n', '  %\\\\draw [fill] (7,0) circle [radius=0.05] node[right]{$B$};\\n', '  %\\\\draw [fill] (7,2) circle [radius=0.05] node[right]{$C$};\\n', '  %\\\\draw [fill] (0,2) circle [radius=0.05] node[left]{$D$};\\n', '  \\\\node at (4.5, 5){4};\\n', '  \\\\node at (2, 2.5){4};\\n', '  \\\\node at (8.5, 6){6};\\n', '  \\\\node at (11, 2.5){4};\\n', '  \\\\node at (6.5, -0.5){13};\\n', '  \\\\node at (13.5, 1.5){3};\\n', '  %\\\\node at (13.5, 8){2};\\n', '  \\\\end{tikzpicture}\\n', '  \\\\end{flushleft} \\\\vspace{3cm}\\n', '\\n', '  \\\\item Given isosceles $\\\\triangle RSU$ with $\\\\overline{US} \\\\cong \\\\overline{RS}$. If $m\\\\angle UST=150$ find $m\\\\angle U$.\\n', '  \\\\begin{flushright}\\n', '  \\\\begin{tikzpicture}[scale=0.8]\\n', '    %\\\\draw [->, thick] (0,0)--(5,5);\\n', '    \\\\draw [<-, thick] (8,0)--\\n', '      (7,0) node[below]{$T$}--\\n', '      (0.5,0) node[below]{$R$}--\\n', '      (2,3) node[above]{$U$}--\\n', '      (5,0) node[below]{$S$};\\n', '  \\\\end{tikzpicture}\\n', '  \\\\end{flushright} \\\\vspace{1cm}\\n', '\\n', '\\\\newpage\\n', \"  \\\\item One side of the $\\\\triangle ABC$ has a length $AB=15$. The triangle's area is $71 \\\\frac{1}{4}$. Find the length of the altitude $h$ of the triangle.\\\\\\\\[0.5cm]\\n\", '  \\\\begin{tikzpicture}[scale=1, rotate=-15]\\n', '  \\\\draw [thick]\\n', '  (2,0)node[below left]{$A$}--\\n', '  (8,0)node[below]{$B$}--\\n', '  (5,3)node[above]{$C$} --(2,0);\\n', '  \\\\draw [dashed] (5,0)--(5,3);\\n', '  \\\\draw (5,0)++(0.3,0)--++(0,0.3)--+(-0.3,0);\\n', '  \\\\node at (5.1,0.9)[right]{$h=?$};\\n', '  \\\\node at (5,0)[below left]{$15$};\\n', '  \\\\end{tikzpicture} \\\\vspace{3.0cm}\\n', '\\n', '  \\\\item The point $K$ is the midpoint of $\\\\overline{JL}$, $JK=3x+11$, and $JL=9x+1$. Mark the line on the right and find ${JK}$.  \\\\vspace{1cm}\\n', '  \\\\begin{flushright}\\n', '    \\\\begin{tikzpicture}\\n', '      \\\\draw [-, thick] (0,0)--(6,0);\\n', '      \\\\draw [fill] (0,0) circle [radius=0.05];\\n', '      \\\\draw [fill] (6,0) circle [radius=0.05];\\n', '    \\\\end{tikzpicture}\\n', '    \\\\end{flushright} \\\\vspace{2cm}\\n', '\\n', '\\n', '\\\\end{enumerate}\\n']\n"
    }
   ],
   "source": [
    "body = pset_df.loc[82, 'body']\n",
    "print(type(body))\n",
    "print(body)"
   ]
  },
  {
   "cell_type": "code",
   "execution_count": 65,
   "metadata": {},
   "outputs": [],
   "source": [
    "spacing = []\n",
    "nested = False\n",
    "problem = []\n",
    "problems = []\n",
    "line = body.pop(0)"
   ]
  },
  {
   "cell_type": "code",
   "execution_count": 66,
   "metadata": {
    "tags": []
   },
   "outputs": [],
   "source": [
    "while body:\n",
    "    if r'\\subsection' in line:\n",
    "        spacing.append(line)\n",
    "        problems.append(problem)\n",
    "        problem = []\n",
    "    elif r'\\subsubsection' in line:\n",
    "        while r'\\item' not in line and body:\n",
    "            line = body.pop(0)\n",
    "        problem = []\n",
    "        problem.append(line)\n",
    "    elif r'\\newpage' in line: #newlines are saved as problems\n",
    "        spacing.append(line)\n",
    "        problems.append(problem)\n",
    "        problem = []\n",
    "        problem.append(line)\n",
    "        problems.append(problem)\n",
    "        problem = []\n",
    "    elif r'\\item' in line and not nested:\n",
    "        problems.append(problem)\n",
    "        problem = []\n",
    "        problem.append(line)\n",
    "    elif r'\\begin{enumerate}' in line:\n",
    "        nested = True\n",
    "        problem.append(line)\n",
    "    elif r'\\end{enumerate}' in line:\n",
    "        if nested:\n",
    "            nested = False\n",
    "            problem.append(line)\n",
    "        else:\n",
    "            spacing.append(line)\n",
    "            problems.append(problem)\n",
    "            problem = []\n",
    "    else:\n",
    "        problem.append(line)\n",
    "    if body:\n",
    "        line = body.pop(0)"
   ]
  },
  {
   "cell_type": "code",
   "execution_count": 67,
   "metadata": {
    "tags": []
   },
   "outputs": [
    {
     "output_type": "execute_result",
     "data": {
      "text/plain": "[['  \\\\item Given $\\\\overline{ABC}$, with $AB=2x-1$, $BC=3x+3$, and $AC=17$. Find $x$. \\\\vspace{1cm}\\n',\n  '  \\\\begin{flushright}\\n',\n  '    \\\\begin{tikzpicture}\\n',\n  '      \\\\draw [-, thick] (0,0) node[below]{$A$}--\\n',\n  '      (2,0) node[below]{$B$}--\\n',\n  '      (6,0) node[below]{$C$};\\n',\n  '      \\\\draw [fill] (0,0) circle [radius=0.05];\\n',\n  '      \\\\draw [fill] (2,0) circle [radius=0.05];\\n',\n  '      \\\\draw [fill] (6,0) circle [radius=0.05];\\n',\n  '    \\\\end{tikzpicture}\\n',\n  '    \\\\end{flushright} \\\\vspace{1cm}\\n',\n  '  \\n'],\n ['  \\\\item Given $m\\\\angle 3 = x+30$ and $m\\\\angle 5 = 4x-20$. Find $x$. \\n',\n  '  \\\\begin{flushright}\\n',\n  '  \\\\begin{tikzpicture}\\n',\n  '    \\\\draw [<->, thick] (3,2)--(8,2);\\n',\n  '    \\\\draw [<->, thick] (2,0)--(7,0);\\n',\n  '    \\\\draw [<->, thick] (4,-1)--(5.5,3);\\n',\n  '    \\\\node at (4.5,0.3) [left]{$5$};\\n',\n  '    \\\\node at (4.5,0.3) [right]{$6$};\\n',\n  '    \\\\node at (4.3,-0.3) [left]{$7$};\\n',\n  '    \\\\node at (4.3,-0.3) [right]{$8$};\\n',\n  '    \\\\node at (5.2,2) [above left]{$1$};\\n',\n  '    \\\\node at (5.2,2) [above right]{$2$};\\n',\n  '    \\\\node at (5,2) [below left]{$3$};\\n',\n  '    \\\\node at (5,2) [below right]{$4$};\\n',\n  '  \\\\end{tikzpicture}\\n',\n  '  \\\\end{flushright} \\\\vspace{0.5cm}\\n',\n  '\\n'],\n ['  \\\\item In the diagram below $m\\\\angle AOB = 6x+5$ and $m\\\\angle COB = 8x+15$. Find $x$. %\\\\vspace{0.25cm}\\n',\n  '  \\\\begin{flushright}\\n',\n  '  \\\\begin{tikzpicture}[scale=0.7, rotate=30]\\n',\n  '  \\\\draw [<->, thick] (-25:5)--(0,0)--(155:5);\\n',\n  '  \\\\draw [<->, thick] (-5,0)--(5,0);\\n',\n  '  \\\\draw [->, thick] (0,0)--(0,4);\\n',\n  '  \\\\draw (0,0)++(0.3,0)--++(0,0.3)--+(-0.3,0);\\n',\n  '  %\\\\draw [fill] (-1,2.5) circle [radius=0.05] node[left ]{$B$};\\n',\n  '  \\\\draw [fill] (155:3) circle [radius=0.05] node[below left]{$B$};\\n',\n  '  \\\\draw [fill] (-4,0) circle [radius=0.05] node[below]{$A$}; \\n',\n  '  \\\\draw [fill] (0,0) circle [radius=0.05] node[below]{$O$};\\n',\n  '  \\\\draw [fill] (0,3) circle [radius=0.05] node[left]{$C$};\\n',\n  '  \\\\draw [fill] (4,0) circle [radius=0.05] node[below]{$D$};\\n',\n  '  \\\\draw [fill] (-25:2) circle [radius=0.05] node[below]{$E$};\\n',\n  '  \\\\end{tikzpicture}\\n',\n  '  \\\\end{flushright}\\n',\n  '\\n'],\n ['  \\\\item The point $K$ is the midpoint of $\\\\overline{JL}$, $JK=3x+15$, and $JL=9x+9$. Find $x$.  \\\\vspace{1cm}\\n',\n  '  \\\\begin{flushright}\\n',\n  '    \\\\begin{tikzpicture}\\n',\n  '      \\\\draw [-, thick] (0,0) node[below]{$J$}--\\n',\n  '      (3,0) node[below]{$K$}--\\n',\n  '      (6,0) node[below]{$L$};\\n',\n  '      \\\\draw [fill] (0,0) circle [radius=0.05];\\n',\n  '      \\\\draw [fill] (3,0) circle [radius=0.05];\\n',\n  '      \\\\draw [fill] (6,0) circle [radius=0.05];\\n',\n  '    \\\\end{tikzpicture}\\n',\n  '    \\\\end{flushright} \\\\vspace{2cm}\\n',\n  '\\n'],\n ['\\\\newpage\\n'],\n [],\n [\"    \\\\item On the graph below, $\\\\overleftrightarrow{AB}$ is shown with A(0, 4), B(3,0). A dilation of $k=2$ centered at the origin maps $\\\\overleftrightarrow{AB} \\\\rightarrow \\\\overleftrightarrow{A'B'}$.\\\\\\\\*[0.5cm]\\n\",\n  \"  Draw $\\\\overleftrightarrow{A'B'}$ on the graph, labeling $A'$ and $B'$.\\n\",\n  '    \\\\begin{center}\\n',\n  '      \\\\begin{tikzpicture}[scale=.635]\\n',\n  '        \\\\draw [help lines] (-10,-10) grid (10,10);\\n',\n  '        \\\\draw [thick, ->] (-10.2,0) -- (10.4,0) node [below right] {$x$};\\n',\n  '        \\\\draw [thick, ->] (0,-10.2)--(0,10.4) node [left] {$y$};\\n',\n  '        \\\\draw [thick, <->] (-3,8)--(6,-4);\\n',\n  '        \\\\draw [fill] (0, 4) circle[radius = 0.1] node[above right]{$A$};\\n',\n  '        \\\\draw [fill] (3, 0) circle[radius = 0.1] node[above right]{$B$};\\n',\n  '      \\\\end{tikzpicture}\\n',\n  '    \\\\end{center}\\n',\n  '      \\\\vspace{1cm}\\n',\n  '    \\\\begin{enumerate}\\n',\n  '      \\\\item Write down the equation $\\\\overleftrightarrow{AB}$ \\\\vspace{2cm}\\n',\n  \"      \\\\item Write down the equation $\\\\overleftrightarrow{A'B'}$\\n\",\n  '    \\\\end{enumerate}\\n',\n  '\\n'],\n ['\\\\newpage\\n'],\n ['  \\n'],\n ['  \\\\item Triangle $ABC$ is dilated with a scale factor of $k = 1.25$ centered at $A$, yielding $\\\\triangle ADE$, as shown. Given $AB=8$, $BC=12$, and $AC=16$. \\\\\\\\[0.25cm] Find $AD$, $DE$, and $CE$.\\n',\n  '  \\\\begin{flushright}\\n',\n  '      \\\\begin{tikzpicture}[scale=0.5]\\n',\n  '        \\\\draw [thick]\\n',\n  '        (0,0)node[left]{$B$}--\\n',\n  '        (8,0)node[above right]{$C$}--\\n',\n  '        (2,6)node[left]{$A$}--cycle;\\n',\n  '        \\\\draw [thick]\\n',\n  '        (0,0)--\\n',\n  '        (-1,-3)node[left]{$D$}--\\n',\n  '        (11,-3)node[above right]{$E$}--(8,0);\\n',\n  '        \\\\node at (4,0)[below]{$12$};\\n',\n  '        \\\\node at (5.3, 3)[right]{$16$};\\n',\n  '        \\\\node at (0.3, 2.8)[above]{$8$};\\n',\n  '      \\\\end{tikzpicture}\\n',\n  '    \\\\end{flushright} \\\\vspace{2.5cm}\\n',\n  '\\n'],\n ['  \\\\item Find the image of $P(3,1)$ after the translation $(x,y) \\\\rightarrow (x-1,y+12)$.  \\\\vspace{2.5cm}\\n',\n  '  \\n',\n  '  \\\\begin{multicols}{2}\\n'],\n ['    [\\\\item A translation maps triangle $ABC$ onto triangle $PQR$.] \\\\vspace{0.5cm}\\n',\n  '      \\\\begin{tikzpicture}[scale=0.9]\\n',\n  '        \\\\coordinate [label=above left:$A$](A) at (95:2);\\n',\n  '        \\\\coordinate [label=below:$B$](B) at (0, 0);\\n',\n  '        \\\\coordinate [label=right:$C$](C) at (25:3.5);\\n',\n  '        \\\\draw [thick] (A)--(B)--(C)--cycle;\\n',\n  '  \\n',\n  '        \\\\draw [thick, xshift=3cm, yshift=-2cm] (95:2) node[left]{$P$}--\\n',\n  '        (0,0) node[below]{$Q$}--\\n',\n  '        (25:3.5) node[right]{$R$}--cycle;\\n',\n  '      \\\\end{tikzpicture}\\\\\\\\\\n',\n  '      Write each corresponding object.\\n',\n  '      \\\\begin{enumerate}\\n',\n  '        \\\\item $B \\\\rightarrow$ \\\\rule{2cm}{0.15mm}\\n',\n  '        \\\\item $\\\\angle C \\\\cong$ \\\\rule{2cm}{0.15mm}\\n',\n  '        \\\\item $\\\\overline {AC} \\\\cong$ \\\\rule{2cm}{0.15mm} \\n',\n  '        \\\\item \\\\rule{2cm}{0.15mm} $\\\\cong \\\\overline {QR}$\\n',\n  '      \\\\end{enumerate}\\n',\n  '    \\\\end{multicols} \\n',\n  '\\n'],\n ['\\\\newpage\\n'],\n ['  \\n'],\n ['  \\\\item A dilation centered at $A$ maps $\\\\triangle ABC \\\\rightarrow \\\\triangle ADE$. Given the sides of the preimage, $AC = 4$, $BC = 3$, $AB = 5$, and of $DE = 9$ find the scale factor $k$ and the lengths $AD$ and $AE$.\\n',\n  '    \\\\begin{flushright}\\n',\n  '      \\\\begin{tikzpicture}[scale=0.6]\\n',\n  '        \\\\draw [-, thick] (0,0) node[above left]{$A$}--\\n',\n  '        (10,0) node[below]{$E$}--\\n',\n  '        (10,7.5) node[above left]{$D$}--cycle;\\n',\n  '        \\\\draw [thick] (4,0)--(4,3);\\n',\n  '        \\\\node at (4,0) [below]{$C$};\\n',\n  '        \\\\node at (4,3) [above left]{$B$};\\n',\n  '        \\\\node at (2, 0) [below]{$4$};\\n',\n  '        \\\\node at (2, 2) [above]{$5$};\\n',\n  '        \\\\node at (10, 4) [right]{$9$};\\n',\n  '        \\\\node at (4, 1.5) [right]{$3$};\\n',\n  '      \\\\end{tikzpicture}\\n',\n  '    \\\\end{flushright} \\\\vspace{0.5cm}\\n',\n  '\\n'],\n ['    \\\\item Given $\\\\triangle ABC \\\\sim \\\\triangle DEF$. $m\\\\angle A = 40^\\\\circ$ and $m\\\\angle E = 35^\\\\circ$. Find the measure of $\\\\angle C$. \\\\\\\\*[0.25cm] (\\\\emph{hint: the order of corresponding letters match}) \\\\vspace{2.5cm}\\n',\n  '    \\n'],\n ['    \\\\item Translate $\\\\triangle ABC$ by $(x,y) \\\\rightarrow (x-4, y+2)$. Make a table of the coordinates and plot and label the image on the axes.\\n',\n  '    \\\\begin{flushright}\\n',\n  '        \\\\begin{tikzpicture}[scale=.48]\\n',\n  '        \\\\draw [help lines] (-7,-4) grid (10,9);\\n',\n  '        \\\\draw [thick, <->] (-7.4,0) -- (10.4,0) node [right] {$x$};\\n',\n  '        \\\\draw [thick, <->] (0,-4.4)--(0,9.4) node [above] {$y$};  \\n',\n  '        \\\\draw [thick]\\n',\n  '          (1,2) node[below left] {$A$}--\\n',\n  '          (4,5) node[above left] {$B$}--\\n',\n  '          (5,1) node[below] {$C$}--cycle;  \\n',\n  '      \\\\end{tikzpicture}\\n',\n  '    \\\\end{flushright}\\n',\n  '     \\n'],\n ['\\\\newpage\\n'],\n [],\n ['\\\\item Solve for $y$, then graph and label, marking the intersection as an ordered pair.\\n',\n  '        \\\\vspace{0.25cm}\\n',\n  '        \\\\begin{multicols}{2}\\n',\n  '          $x + 2y =  4$\\\\\\\\\\n',\n  '          $\\\\displaystyle \\\\frac{1}{2} x -y = 4$\\n',\n  '        \\\\end{multicols}\\n',\n  '        \\\\vspace{4cm}\\n',\n  '\\n',\n  '    \\\\begin{center} %4 quadrant regents grid w T-Chart\\n',\n  '    \\\\begin{tikzpicture}[scale=.635]\\n',\n  '      \\\\draw [help lines] (-9,-9) grid (9,9);\\n',\n  '      \\\\draw [thick, ->] (-9.2,0) -- (9.4,0) node [below right] {$x$};\\n',\n  '      \\\\draw [thick, ->] (0,-9.2)--(0,9.4) node [left] {$y$};\\n',\n  '    \\\\end{tikzpicture}\\n',\n  '    \\\\end{center}\\n',\n  '\\n'],\n ['\\\\newpage\\n'],\n ['    \\n'],\n ['  \\\\item Given two parallel lines and a transversal, as shown below.\\n',\n  '  \\\\begin{center}\\n',\n  '  \\\\begin{tikzpicture}\\n',\n  '    \\\\draw [<->, thick] (1,2)--(9,2);\\n',\n  '    \\\\draw [<->, thick] (0,0)--(8,0);\\n',\n  '    \\\\draw [<->, thick] (4,-1)--(5.5,3);\\n',\n  '    \\\\node at (4.5,0.3) [left]{$5$};\\n',\n  '    \\\\node at (4.5,0.3) [right]{$6$};\\n',\n  '    \\\\node at (4.3,-0.3) [left]{$7$};\\n',\n  '    \\\\node at (4.3,-0.3) [right]{$8$};\\n',\n  '    \\\\node at (5.2,2) [above left]{$1$};\\n',\n  '    \\\\node at (5.2,2) [above right]{$2$};\\n',\n  '    \\\\node at (5,2) [below left]{$3$};\\n',\n  '    \\\\node at (5,2) [below right]{$4$};\\n',\n  '  \\\\end{tikzpicture}\\n',\n  '  \\\\end{center}\\n',\n  '  \\\\begin{enumerate}\\n',\n  '    \\\\item State the angle corresponding with $\\\\angle 1$. \\\\vspace{0.5cm}\\n',\n  '    \\\\item What theorem would justify $m\\\\angle 4 + m\\\\angle 6 =180^\\\\circ$? \\\\rule{5cm}{0.15mm} \\\\vspace{0.5cm}\\n',\n  '    \\\\item What theorem would justify $\\\\angle 3 \\\\cong \\\\angle 6$? \\\\rule{7cm}{0.15mm} \\\\vspace{0.5cm}\\n',\n  '    \\\\item Given $m\\\\angle 1 = 108^\\\\circ$ and $m\\\\angle 8 = (4x-16)^\\\\circ$. Find $x$. \\\\vspace{4.5cm}\\n',\n  '  \\\\end{enumerate}\\n',\n  '\\n'],\n [\"  \\\\item The side $\\\\overline{AB}$ of triangle $ABC$ is extended and an altitude to the vertex $C$ is drawn, as shown below. The triangle's height is $h=7.2$ and its base measures $AB=12.4$. Find the area of the triangle.\\n\",\n  '    \\\\begin{flushright}\\n',\n  '      \\\\begin{tikzpicture}[scale=0.8]\\n',\n  '        \\\\draw [thick]\\n',\n  '          (0,0)node[below]{$A$}--\\n',\n  '          (6,0)node[below]{$B$}--\\n',\n  '          (7,4)node[above]{$C$} --cycle;\\n',\n  '      \\\\draw [dashed] (7,0)--(7,4);\\n',\n  '      \\\\draw [dashed, ->] (6,0)--(7.5,0);\\n',\n  '      \\\\draw (7,0)++(-0.3,0)--++(0,0.3)--+(0.3,0);\\n',\n  '      \\\\node at (7,2.2)[right]{$h=7.2$};\\n',\n  '      \\\\node at (3,0)[below]{$12.4$};\\n',\n  '      \\\\end{tikzpicture}\\n',\n  '    \\\\end{flushright}\\n',\n  '\\n'],\n ['\\\\newpage   \\n'],\n ['  \\\\item The point $Q$ is the midpoint of $\\\\overline{PR}$, $PQ=11$, and $QR=2x+1$. Find ${x}$.\\n',\n  '  \\\\vspace{4cm}\\n',\n  '  \\n'],\n ['  \\\\item Given $\\\\overline{PQR}$, with $PQ=3x-7$, $QR=x+3$, and $PR=12$. Find ${x}$.\\n',\n  '  \\\\vspace{4cm}\\n',\n  '  \\n'],\n ['  \\\\item Given that $Q$ bisects $\\\\overline{PR}$. $PQ=2x-5$, $PR=42$. Find ${x}$.\\n',\n  '  \\\\vspace{4cm}\\n',\n  '  \\n'],\n ['  \\\\item The points $P$, $Q$, and $R$ are collinear, with $PQ=x+4$ and $PR=27$. $\\\\overline{QR}$ is twice the length of $\\\\overline{PQ}$. Find ${x}$.\\n',\n  '  \\n',\n  '  \\n',\n  '\\n'],\n ['\\\\newpage\\n'],\n [],\n ['    \\\\item Given isosceles $\\\\triangle TUV$ with $\\\\overline{TU} \\\\cong \\\\overline{UV}$ and $m\\\\angle U = 50$. Mark the triangle in the diagram and find $m\\\\angle U$ and $m\\\\angle V$.\\n',\n  '  \\\\begin{flushright}\\n',\n  '    (\\\\emph{the diagram is not to scale})\\\\\\\\\\n',\n  '  \\\\begin{tikzpicture}[scale=0.8]\\n',\n  '    \\\\draw [thick](0,0)--(4,0)--(2,3.5)--(0,0);\\n',\n  '    \\\\node at (0,0) [left]{$T$};\\n',\n  '    \\\\node at (4,0) [right]{$U$};\\n',\n  '    \\\\node at (2,3.5) [right]{$V$};\\n',\n  '  \\\\end{tikzpicture}\\n',\n  '  \\\\end{flushright}\\n',\n  '\\n'],\n ['  \\\\item The points $R$, $S$, and $T$ are collinear, with $RS=4x-8$, $ST=21$, and $RT=6x-1$. \\\\\\\\*[0.25cm]\\n',\n  '  Mark the diagram and find ${RT}$. \\\\vspace{0.5cm}\\n',\n  '  \\\\begin{flushright}\\n',\n  '    \\\\begin{tikzpicture}\\n',\n  '      \\\\draw [-, thick] (0,0)--(6,0);\\n',\n  '      \\\\draw [fill] (0,0) circle [radius=0.05] node[below]{$R$};\\n',\n  '      \\\\draw [fill] (2.9,0) circle [radius=0.05] node[below]{$S$};\\n',\n  '      \\\\draw [fill] (6,0) circle [radius=0.05] node[below]{$T$};\\n',\n  '    \\\\end{tikzpicture}\\n',\n  '    \\\\end{flushright} \\\\vspace{4cm}\\n',\n  '\\n'],\n [\"  \\\\item A translation maps $X(2,-7) \\\\rightarrow X'(3,5)$. \\n\",\n  '    \\\\begin{enumerate}\\n',\n  '      \\\\item What translation was applied (be specific)?  \\\\vspace{2cm}\\n',\n  '      \\\\item What is the image of $Y(1,3)$ under the same translation?\\n',\n  '      \\\\end{enumerate} \\\\vspace{2cm}\\n',\n  '  \\n'],\n ['\\\\newpage\\n'],\n [' \\n'],\n ['  \\\\item Given $\\\\triangle ABC$ point $D$ on $\\\\overline{AB}$ and point $E$ on $\\\\overline{BC}$ such that $\\\\triangle ABC \\\\sim \\\\triangle DBE$. \\\\\\\\*[0.25cm]\\n',\n  '  Given $AB=15$, $BC=10$, and $AD=9$. Mark the lengths on the triangle, showing $DB$ as well. \\\\\\\\*[0.25cm] Find the length of $\\\\overline{BE}$.\\n',\n  '    \\\\begin{flushright}\\n',\n  '      \\\\begin{tikzpicture}[scale=0.6]\\n',\n  '        \\\\coordinate [label=left:$A$](A) at (-12,6);\\n',\n  '        \\\\coordinate [label=below:$B$](B) at (0, 0);\\n',\n  '        \\\\coordinate [label=below left:$C$](C) at (-9.6,0);\\n',\n  '        \\\\coordinate [label=above:$D$](D) at (-5, 2.5);\\n',\n  '        \\\\coordinate [label=below:$E$](E) at (-4,0);\\n',\n  '        \\\\draw [thick] (A)--(B)--(C)--cycle;\\n',\n  '        \\\\draw [thick] (A)--(C);\\n',\n  '        \\\\draw [thick] (D)--(E);\\n',\n  '      \\\\end{tikzpicture}\\n',\n  '    \\\\end{flushright} \\\\vspace{3cm}\\n',\n  '\\n'],\n ['  \\\\item $\\\\triangle ABC$ is shown with vertices $A(2,-3)$, $B(-2,3)$, and $C(3,4)$. Translate the triangle to the left three units and up two units. Write down its coordinates in a table and plot and label it on the graph.\\n',\n  '    \\\\begin{flushright}\\n',\n  '      \\\\begin{tikzpicture}[scale=.48]\\n',\n  '        \\\\draw [help lines] (-8,-8) grid (8,8);\\n',\n  '        \\\\draw [thick, <->] (-8.4,0) -- (8.4,0) node [below right] {$x$};\\n',\n  '        \\\\draw [thick, <->] (0,-8.4)--(0,8.4) node [left] {$y$};\\n',\n  '        \\\\draw [thick] (2,-3) node[left] {$A$}--\\n',\n  '          (-2,3) node[left] {$B$}--\\n',\n  '          (3,4) node[above right] {$C$}--\\n',\n  '          cycle;\\n',\n  '      \\\\end{tikzpicture}\\n',\n  '      \\\\end{flushright}\\n',\n  '\\n'],\n ['\\\\newpage\\n'],\n [],\n ['  \\\\item The shape shown below is composed of straight lines and right angles, with some lengths as marked. Find the area of the figure. (the figure is not drawn to scale)\\n',\n  '  \\\\begin{flushleft}\\n',\n  '  \\\\begin{tikzpicture}[scale=0.5]\\n',\n  '  \\\\draw [-, thick] (0,0)--(13,0)--(13,3)--(9,3)--(9,9)--\\n',\n  '  (0,9)--(0,7)--(4,7)--(4,3)--(0,3)--cycle;\\n',\n  '  %\\\\draw [fill] (0,0) circle [radius=0.05] node[left]{$A$};\\n',\n  '  %\\\\draw [fill] (7,0) circle [radius=0.05] node[right]{$B$};\\n',\n  '  %\\\\draw [fill] (7,2) circle [radius=0.05] node[right]{$C$};\\n',\n  '  %\\\\draw [fill] (0,2) circle [radius=0.05] node[left]{$D$};\\n',\n  '  \\\\node at (4.5, 5){4};\\n',\n  '  \\\\node at (2, 2.5){4};\\n',\n  '  \\\\node at (8.5, 6){6};\\n',\n  '  \\\\node at (11, 2.5){4};\\n',\n  '  \\\\node at (6.5, -0.5){13};\\n',\n  '  \\\\node at (13.5, 1.5){3};\\n',\n  '  %\\\\node at (13.5, 8){2};\\n',\n  '  \\\\end{tikzpicture}\\n',\n  '  \\\\end{flushleft} \\\\vspace{3cm}\\n',\n  '\\n'],\n ['  \\\\item Given isosceles $\\\\triangle RSU$ with $\\\\overline{US} \\\\cong \\\\overline{RS}$. If $m\\\\angle UST=150$ find $m\\\\angle U$.\\n',\n  '  \\\\begin{flushright}\\n',\n  '  \\\\begin{tikzpicture}[scale=0.8]\\n',\n  '    %\\\\draw [->, thick] (0,0)--(5,5);\\n',\n  '    \\\\draw [<-, thick] (8,0)--\\n',\n  '      (7,0) node[below]{$T$}--\\n',\n  '      (0.5,0) node[below]{$R$}--\\n',\n  '      (2,3) node[above]{$U$}--\\n',\n  '      (5,0) node[below]{$S$};\\n',\n  '  \\\\end{tikzpicture}\\n',\n  '  \\\\end{flushright} \\\\vspace{1cm}\\n',\n  '\\n'],\n ['\\\\newpage\\n'],\n [],\n [\"  \\\\item One side of the $\\\\triangle ABC$ has a length $AB=15$. The triangle's area is $71 \\\\frac{1}{4}$. Find the length of the altitude $h$ of the triangle.\\\\\\\\[0.5cm]\\n\",\n  '  \\\\begin{tikzpicture}[scale=1, rotate=-15]\\n',\n  '  \\\\draw [thick]\\n',\n  '  (2,0)node[below left]{$A$}--\\n',\n  '  (8,0)node[below]{$B$}--\\n',\n  '  (5,3)node[above]{$C$} --(2,0);\\n',\n  '  \\\\draw [dashed] (5,0)--(5,3);\\n',\n  '  \\\\draw (5,0)++(0.3,0)--++(0,0.3)--+(-0.3,0);\\n',\n  '  \\\\node at (5.1,0.9)[right]{$h=?$};\\n',\n  '  \\\\node at (5,0)[below left]{$15$};\\n',\n  '  \\\\end{tikzpicture} \\\\vspace{3.0cm}\\n',\n  '\\n'],\n ['  \\\\item The point $K$ is the midpoint of $\\\\overline{JL}$, $JK=3x+11$, and $JL=9x+1$. Mark the line on the right and find ${JK}$.  \\\\vspace{1cm}\\n',\n  '  \\\\begin{flushright}\\n',\n  '    \\\\begin{tikzpicture}\\n',\n  '      \\\\draw [-, thick] (0,0)--(6,0);\\n',\n  '      \\\\draw [fill] (0,0) circle [radius=0.05];\\n',\n  '      \\\\draw [fill] (6,0) circle [radius=0.05];\\n',\n  '    \\\\end{tikzpicture}\\n',\n  '    \\\\end{flushright} \\\\vspace{2cm}\\n',\n  '\\n',\n  '\\n']]"
     },
     "metadata": {},
     "execution_count": 67
    }
   ],
   "source": [
    "problems.append(problem)\n",
    "problems"
   ]
  },
  {
   "cell_type": "code",
   "execution_count": 63,
   "metadata": {},
   "outputs": [
    {
     "output_type": "execute_result",
     "data": {
      "text/plain": "[['  \\\\item In the following two problems, solve for the value of $x$.\\n',\n  '  \\\\begin{multicols}{2}\\n',\n  '    \\\\begin{enumerate}\\n',\n  '      \\\\item   $x-5=12$ \\\\vspace{6cm}\\n',\n  '      \\\\item   $13-x=-3$ \\\\vspace{6cm}\\n',\n  '    \\\\end{enumerate}\\n',\n  '  \\\\end{multicols}\\n',\n  '    \\\\vspace{3cm}\\n',\n  '\\n'],\n ['  \\\\item Given $g(x)=x^2-5x+15$. Simplify $g(0)$. \\\\vspace{3cm}\\n'],\n ['  \\\\item Given $f(x)=3x-2$. Solve for $x$ such that for $f(x)=13$. \\\\vspace{4cm}\\n'],\n ['  \\\\item Given $h(x)=x^2-x-12$. Solve $h(x)=0$. \\\\vspace{5cm}\\n',\n  '  \\n',\n  '\\n'],\n ['  \\\\item Simplify each expression. (Leave it in radical form if necessary, not a decimal.)\\n',\n  '    \\\\begin{enumerate}\\n',\n  '      \\\\begin{multicols}{2}\\n',\n  '      \\\\item   $\\\\sqrt{25}$ \\\\vspace{1.5cm}\\n',\n  '      \\\\item   $\\\\sqrt{24}$ \\\\vspace{1.5cm}\\n',\n  '      \\\\end{multicols}\\n',\n  '    \\\\end{enumerate}\\n',\n  '    \\\\vspace{0.5cm}\\n',\n  '\\n'],\n ['\\\\newpage\\n'],\n ['\\\\item The line $l$ has the equation $y=\\\\frac{3}{2}x-1$. \\n',\n  '\\\\begin{enumerate}\\n',\n  \"  \\\\item Write down it's slope. $m=$\\n\",\n  '  \\\\vspace{0.5cm}\\n',\n  \"  \\\\item Write down it's $y$-intercept. $b=$\\n\",\n  '  \\\\vspace{0.5cm}\\n',\n  '  \\\\item Is the point $(4, 4)$ on the line $l$? Justify your answer.\\n',\n  '\\\\end{enumerate}\\n',\n  '\\\\vspace{2.5cm}\\n',\n  '\\n'],\n ['\\\\item On the grid below, graph the line $y=-\\\\frac{1}{2}x+2$.\\n',\n  '  \\\\vspace{0.5cm}\\n',\n  '\\n',\n  '    \\\\begin{center} %4 quadrant regents grid w T-Chart\\n',\n  '    \\\\begin{tikzpicture}[scale=.635]\\n',\n  '      \\\\draw [help lines] (-10,-10) grid (10,10);\\n',\n  '      \\\\draw [thick, ->] (-10.2,0) -- (10.4,0) node [below right] {$x$};\\n',\n  '      \\\\draw [thick, ->] (0,-10.2)--(0,10.4) node [left] {$y$};\\n',\n  '    \\\\end{tikzpicture}\\n',\n  '    \\\\end{center}\\n',\n  '\\n']]"
     },
     "metadata": {},
     "execution_count": 63
    }
   ],
   "source": [
    "newline = ['\\n', '\\n']\n",
    "problems.remove(newline)\n",
    "problems"
   ]
  },
  {
   "cell_type": "code",
   "execution_count": 28,
   "metadata": {},
   "outputs": [
    {
     "output_type": "execute_result",
     "data": {
      "text/plain": "'  \\\\newpage\\n'"
     },
     "metadata": {},
     "execution_count": 28
    }
   ],
   "source": [
    "p_df.loc[1240].question #561, 1240"
   ]
  },
  {
   "cell_type": "code",
   "execution_count": 36,
   "metadata": {
    "tags": []
   },
   "outputs": [
    {
     "output_type": "execute_result",
     "data": {
      "text/plain": "            problem_set_ID    question  q_len                          file\nproblem_ID                                                                 \n884                   62.0  \\newpage\\n      9   5-4DN-similarity-ratios.tex\n1621                 109.0  \\newpage\\n      9            7-4bCW_Tangent.tex\n876                   61.0  \\newpage\\n      9          5-3DN_area-units.tex\n1606                 107.0  \\newpage\\n      9       7-3HW_AA-similarity.tex\n2531                 162.0  \\newpage\\n      9  9-8bDN-Similarity-review.tex",
      "text/html": "<div>\n<style scoped>\n    .dataframe tbody tr th:only-of-type {\n        vertical-align: middle;\n    }\n\n    .dataframe tbody tr th {\n        vertical-align: top;\n    }\n\n    .dataframe thead th {\n        text-align: right;\n    }\n</style>\n<table border=\"1\" class=\"dataframe\">\n  <thead>\n    <tr style=\"text-align: right;\">\n      <th></th>\n      <th>problem_set_ID</th>\n      <th>question</th>\n      <th>q_len</th>\n      <th>file</th>\n    </tr>\n    <tr>\n      <th>problem_ID</th>\n      <th></th>\n      <th></th>\n      <th></th>\n      <th></th>\n    </tr>\n  </thead>\n  <tbody>\n    <tr>\n      <th>884</th>\n      <td>62.0</td>\n      <td>\\newpage\\n</td>\n      <td>9</td>\n      <td>5-4DN-similarity-ratios.tex</td>\n    </tr>\n    <tr>\n      <th>1621</th>\n      <td>109.0</td>\n      <td>\\newpage\\n</td>\n      <td>9</td>\n      <td>7-4bCW_Tangent.tex</td>\n    </tr>\n    <tr>\n      <th>876</th>\n      <td>61.0</td>\n      <td>\\newpage\\n</td>\n      <td>9</td>\n      <td>5-3DN_area-units.tex</td>\n    </tr>\n    <tr>\n      <th>1606</th>\n      <td>107.0</td>\n      <td>\\newpage\\n</td>\n      <td>9</td>\n      <td>7-3HW_AA-similarity.tex</td>\n    </tr>\n    <tr>\n      <th>2531</th>\n      <td>162.0</td>\n      <td>\\newpage\\n</td>\n      <td>9</td>\n      <td>9-8bDN-Similarity-review.tex</td>\n    </tr>\n  </tbody>\n</table>\n</div>"
     },
     "metadata": {},
     "execution_count": 36
    }
   ],
   "source": [
    "problem_df.drop(problem_df.iloc[:57].index, inplace=True) #careful to check rows before deleting (only once)"
   ]
  },
  {
   "cell_type": "code",
   "execution_count": 73,
   "metadata": {
    "tags": []
   },
   "outputs": [],
   "source": [
    "newpage_df = problem_df[problem_df.q_len < 13].copy()\n",
    "problem_df = problem_df[problem_df.q_len > 12]\n",
    "#newpage_df = newpage_df.append(problem_df[problem_df.q_len == 10])"
   ]
  },
  {
   "cell_type": "code",
   "execution_count": 77,
   "metadata": {
    "tags": []
   },
   "outputs": [
    {
     "output_type": "stream",
     "name": "stdout",
     "text": "Int64Index([1221, 2578,  334,  121,  282,  288, 1904,  316, 1750, 1930,  295,\n             329,  160,  430,   67,  452, 2541,   89,  368,   95],\n           dtype='int64', name='problem_ID')\n"
    }
   ],
   "source": [
    "len13 = problem_df[problem_df.q_len == 13].index\n",
    "print(len13)"
   ]
  },
  {
   "cell_type": "code",
   "execution_count": 80,
   "metadata": {},
   "outputs": [
    {
     "output_type": "execute_result",
     "data": {
      "text/plain": "            problem_set_ID        question  q_len  \\\nproblem_ID                                          \n929                   68.0      \\newpage\\n     12   \n917                   67.0      \\newpage\\n     12   \n1221                  79.0      \\newpage\\n     13   \n2578                 164.0  \\newpage    \\n     13   \n121                   12.0      \\newpage\\n     13   \n282                   22.0      \\newpage\\n     13   \n288                   23.0      \\newpage\\n     13   \n1904                 129.0  \\newpage    \\n     13   \n316                   27.0      \\newpage\\n     13   \n1750                 116.0  \\newpage    \\n     13   \n1930                 130.0  \\newpage    \\n     13   \n295                   24.0      \\newpage\\n     13   \n329                   28.0     \\newpage \\n     13   \n160                   14.0      \\newpage\\n     13   \n430                   39.0      \\newpage\\n     13   \n67                     7.0      \\newpage\\n     13   \n452                   42.0      \\newpage\\n     13   \n2541                 163.0  \\newpage    \\n     13   \n89                     9.0      \\newpage\\n     13   \n95                    10.0      \\newpage\\n     13   \n\n                                           file  \nproblem_ID                                       \n929                5-8DNb-similarity-ratios.tex  \n917                 5-8DN-similarity-ratios.tex  \n1221             6-12Exam-Analytic-geometry.tex  \n2578               9-9bExam-transformations.tex  \n121                           1-7Exam-spicy.tex  \n282                         2-5HW_Perimeter.tex  \n288                2-6DN_Distance+Perimeter.tex  \n1904              8-1DN_Circle-trajectories.tex  \n316         2-7DN_Compound-areas+perimeters.tex  \n1750                     7-7Exam-Similarity.tex  \n1930                          8-1DN_Circles.tex  \n295                   2-6HW_Compound-shapes.tex  \n329            2-7Pretest_areas+numberlines.tex  \n160                              1-HW-Intro.tex  \n430                       3-3DN_Area+volume.tex  \n67             1-5HW_Pretest-segments-intro.tex  \n452           3-7DN_Segment-modeling+volume.tex  \n2541                9-9Exam-transformations.tex  \n89                        1-6HW_Angle-pairs.tex  \n95                            1-7Exam-Intro.tex  ",
      "text/html": "<div>\n<style scoped>\n    .dataframe tbody tr th:only-of-type {\n        vertical-align: middle;\n    }\n\n    .dataframe tbody tr th {\n        vertical-align: top;\n    }\n\n    .dataframe thead th {\n        text-align: right;\n    }\n</style>\n<table border=\"1\" class=\"dataframe\">\n  <thead>\n    <tr style=\"text-align: right;\">\n      <th></th>\n      <th>problem_set_ID</th>\n      <th>question</th>\n      <th>q_len</th>\n      <th>file</th>\n    </tr>\n    <tr>\n      <th>problem_ID</th>\n      <th></th>\n      <th></th>\n      <th></th>\n      <th></th>\n    </tr>\n  </thead>\n  <tbody>\n    <tr>\n      <th>929</th>\n      <td>68.0</td>\n      <td>\\newpage\\n</td>\n      <td>12</td>\n      <td>5-8DNb-similarity-ratios.tex</td>\n    </tr>\n    <tr>\n      <th>917</th>\n      <td>67.0</td>\n      <td>\\newpage\\n</td>\n      <td>12</td>\n      <td>5-8DN-similarity-ratios.tex</td>\n    </tr>\n    <tr>\n      <th>1221</th>\n      <td>79.0</td>\n      <td>\\newpage\\n</td>\n      <td>13</td>\n      <td>6-12Exam-Analytic-geometry.tex</td>\n    </tr>\n    <tr>\n      <th>2578</th>\n      <td>164.0</td>\n      <td>\\newpage    \\n</td>\n      <td>13</td>\n      <td>9-9bExam-transformations.tex</td>\n    </tr>\n    <tr>\n      <th>121</th>\n      <td>12.0</td>\n      <td>\\newpage\\n</td>\n      <td>13</td>\n      <td>1-7Exam-spicy.tex</td>\n    </tr>\n    <tr>\n      <th>282</th>\n      <td>22.0</td>\n      <td>\\newpage\\n</td>\n      <td>13</td>\n      <td>2-5HW_Perimeter.tex</td>\n    </tr>\n    <tr>\n      <th>288</th>\n      <td>23.0</td>\n      <td>\\newpage\\n</td>\n      <td>13</td>\n      <td>2-6DN_Distance+Perimeter.tex</td>\n    </tr>\n    <tr>\n      <th>1904</th>\n      <td>129.0</td>\n      <td>\\newpage    \\n</td>\n      <td>13</td>\n      <td>8-1DN_Circle-trajectories.tex</td>\n    </tr>\n    <tr>\n      <th>316</th>\n      <td>27.0</td>\n      <td>\\newpage\\n</td>\n      <td>13</td>\n      <td>2-7DN_Compound-areas+perimeters.tex</td>\n    </tr>\n    <tr>\n      <th>1750</th>\n      <td>116.0</td>\n      <td>\\newpage    \\n</td>\n      <td>13</td>\n      <td>7-7Exam-Similarity.tex</td>\n    </tr>\n    <tr>\n      <th>1930</th>\n      <td>130.0</td>\n      <td>\\newpage    \\n</td>\n      <td>13</td>\n      <td>8-1DN_Circles.tex</td>\n    </tr>\n    <tr>\n      <th>295</th>\n      <td>24.0</td>\n      <td>\\newpage\\n</td>\n      <td>13</td>\n      <td>2-6HW_Compound-shapes.tex</td>\n    </tr>\n    <tr>\n      <th>329</th>\n      <td>28.0</td>\n      <td>\\newpage \\n</td>\n      <td>13</td>\n      <td>2-7Pretest_areas+numberlines.tex</td>\n    </tr>\n    <tr>\n      <th>160</th>\n      <td>14.0</td>\n      <td>\\newpage\\n</td>\n      <td>13</td>\n      <td>1-HW-Intro.tex</td>\n    </tr>\n    <tr>\n      <th>430</th>\n      <td>39.0</td>\n      <td>\\newpage\\n</td>\n      <td>13</td>\n      <td>3-3DN_Area+volume.tex</td>\n    </tr>\n    <tr>\n      <th>67</th>\n      <td>7.0</td>\n      <td>\\newpage\\n</td>\n      <td>13</td>\n      <td>1-5HW_Pretest-segments-intro.tex</td>\n    </tr>\n    <tr>\n      <th>452</th>\n      <td>42.0</td>\n      <td>\\newpage\\n</td>\n      <td>13</td>\n      <td>3-7DN_Segment-modeling+volume.tex</td>\n    </tr>\n    <tr>\n      <th>2541</th>\n      <td>163.0</td>\n      <td>\\newpage    \\n</td>\n      <td>13</td>\n      <td>9-9Exam-transformations.tex</td>\n    </tr>\n    <tr>\n      <th>89</th>\n      <td>9.0</td>\n      <td>\\newpage\\n</td>\n      <td>13</td>\n      <td>1-6HW_Angle-pairs.tex</td>\n    </tr>\n    <tr>\n      <th>95</th>\n      <td>10.0</td>\n      <td>\\newpage\\n</td>\n      <td>13</td>\n      <td>1-7Exam-Intro.tex</td>\n    </tr>\n  </tbody>\n</table>\n</div>"
     },
     "metadata": {},
     "execution_count": 80
    }
   ],
   "source": [
    "#newpage_df\n",
    "newpage_df = newpage_df.append(problem_df.loc[[1221, 2578, 121, 282, 288, 1904, 316, 1750, 1930, 295, 329,  160,  430,   67,  452, 2541, 89, 95]])\n",
    "problem_df.drop([1221, 2578, 121, 282, 288, 1904, 316, 1750, 1930, 295, 329,  160,  430,   67,  452, 2541, 89, 95], inplace=True)\n",
    "newpage_df = newpage_df.append(problem_df.loc[[1959, 1900, 102, 76, 107, 73]])\n",
    "problem_df.drop([1959, 1900, 102, 76, 107, 73], inplace=True)"
   ]
  },
  {
   "cell_type": "code",
   "execution_count": null,
   "metadata": {},
   "outputs": [],
   "source": []
  },
  {
   "cell_type": "code",
   "execution_count": 87,
   "metadata": {
    "tags": []
   },
   "outputs": [
    {
     "output_type": "stream",
     "name": "stdout",
     "text": "Translate $\\triangle ABC$ by $(x,y) \\rightarrow (x+3, y-5)$. Label the image $\\triangle A'B'C'$.\n  \\begin{center}\n      \\begin{tikzpicture}[scale=.48]\n      \\draw [help lines] (-7,-5) grid (10,6);\n      \\draw [thick, <->] (-7.4,0) -- (10.4,0) node [right] {$x$};\n      \\draw [thick, <->] (0,-5.4)--(0,6.4) node [above] {$y$};  \n      \\draw [thick]\n        (-4,4) node[below left] {$A$}--\n        (3,4) node[above] {$B$}--\n        (1,1) node[below] {$C$}--cycle;  \n    \\end{tikzpicture}\n  \\end{center}\n\n  \n  \\begin{multicols}{2}\n\nWhat transformation maps $\\triangle ABC$ onto $\\triangle DEC$, shown below? Fully specify the transformation. Complete the table of mappings to  corresponding objects.]  \\vspace{0.5cm}\n    \\begin{enumerate}\n      \\item $A \\rightarrow$ \\rule{2cm}{0.15mm}\n      \\item $B \\rightarrow$ \\rule{2cm}{0.15mm}\n      \\item $C \\rightarrow$ \\rule{2cm}{0.15mm}\n      \\item $\\angle ACB \\cong$ \\rule{2cm}{0.15mm}\n      \\item \\rule{2cm}{0.15mm} $\\cong \\overline {DE}$\n    \\end{enumerate}\n    \\begin{tikzpicture}[scale=.48]\n      \\draw [help lines] (-4,-3) grid (9,8);\n      \\draw [thick, <->] (-4.4,0) -- (9.4,0) node [right] {$x$};\n      \\draw [thick, <->] (0,-3.4)--(0,8.4) node [above] {$y$};  \n      \\draw [thick]\n      (4,-2) node[below left] {$A$}--\n      (7,1) node[right] {$B$}--\n      (1,1) node[below left] {$C$}--cycle;  \n      \\draw [thick]\n      (4,4) node[right] {$D$}--\n      (1,7) node[left] {$E$}--\n      (1,1) --cycle; \n    \\end{tikzpicture}\n  \\end{multicols}\n  \n  \\begin{multicols}{2}\n\nReflect $\\triangle TRS$ across the $y$-axis, labeling the image $\\triangle T'R'S'$. Check those properties that are maintained by reflection.]  \\vspace{0.5cm}\n    \\begin{itemize}\n\n$\\square$] Length\n\n$\\square$] Angle measures\n\n$\\square$] Orientation\n\n$\\square$] Parallel relationships\n\n$\\square$] Area\n    \\end{itemize}\n    \\begin{tikzpicture}[scale=.48]\n      \\draw [help lines] (-7,-4) grid (7,5);\n      \\draw [thick, <->] (-7.4,0) -- (7.4,0) node [right] {$x$};\n      \\draw [thick, <->] (0,-4.4)--(0,5.4) node [above] {$y$};  \n      \\draw [thick]\n      (4,-2) node[below left] {$T$}--\n      (5,1) node[right] {$R$}--\n      (2,2) node[below left] {$S$}--cycle;\n    \\end{tikzpicture}\n  \\end{multicols}\n\n\n  \\begin{multicols}{2}\n\nA translation maps triangle $PQR$ onto triangle $STU$.] \\vspace{0.5cm}\n      \\begin{tikzpicture}[scale=0.9]\n        \\coordinate [label=above left:$P$](A) at (95:2);\n        \\coordinate [label=below:$Q$](B) at (0, 0);\n        \\coordinate [label=right:$R$](C) at (-10:3.5);\n        \\draw [thick] (A)--(B)--(C)--cycle;\n        \\draw [thick, xshift=3cm, yshift=1.5cm] (95:2) node[above]{$S$}--\n        (0,0) node[below]{$T$}--\n        (-10:3.5) node[right]{$U$}--cycle;\n      \\end{tikzpicture}\\\\\n      Write each corresponding object.\n      \\begin{enumerate}\n        \\item $Q \\rightarrow$ \\rule{2cm}{0.15mm}\n        \\item $\\angle QRP \\cong$ \\rule{2cm}{0.15mm}\n        \\item \\rule{2cm}{0.15mm} $\\cong \\overline {ST}$\n        \\item Justify $\\triangle PQR \\cong \\triangle STU$. Use the words ``rigid motion\".\n      \\end{enumerate}\n    \\end{multicols}  \\vspace{2cm}\n\n\nCheck those transformations that are rigid motions.\n    \\begin{itemize}\n\n$\\square$] Dilation\n\n$\\square$] Translation\n\n$\\square$] Reflection\n\n$\\square$] Rotation\n\n$\\square$] An isometry\n\n$\\square$] Horizontal stretch\n    \\end{itemize}\n\n  \\begin{multicols}{2}\n\nA rigid motion maps $\\triangle DEF$ onto $\\triangle LMN$. Fill in the blanks.] \\vspace{0.5cm}\n      The following is given:\\\\*[0.5cm]\n      $DE=10$ \\\\\n      $m\\angle E = 40^\\circ$ \\\\\n      $m\\angle F = 110^\\circ$ \\\\[0.5cm]\n      \\columnbreak\n      \n      \\begin{enumerate}\n        \\item $D \\rightarrow$ \\rule{2cm}{0.15mm}\n        \\item $LM =$ \\rule{2cm}{0.15mm}\n        \\item $m\\angle M =$ \\rule{2cm}{0.15mm}\n        \\item $\\overline{LM} \\cong$ \\rule{2cm}{0.15mm}\n      \\end{enumerate}\n    \\end{multicols} \n\n\nGiven $\\triangle JKL \\sim \\triangle MNO$. $m\\angle K = 40^\\circ$ and $m\\angle M = 100^\\circ$.\\\\\n    Find the measure of $\\angle J$. \\vspace{3cm}\n\n\n\n\n"
    }
   ],
   "source": [
    "for q in problem_df[problem_df.file == '9-1DN_Correspondence.tex'].sort_index().question:\n",
    "    print(q)"
   ]
  },
  {
   "cell_type": "code",
   "execution_count": null,
   "metadata": {},
   "outputs": [],
   "source": []
  },
  {
   "cell_type": "code",
   "execution_count": 270,
   "metadata": {},
   "outputs": [
    {
     "output_type": "execute_result",
     "data": {
      "text/plain": "            problem_set_ID                                           question  \\\nproblem_ID                                                                      \n1754                   140  \\n\\subsubsection*{Draw a linear pair with give...   \n1785                   142  \\subsubsection*{Perpendicular (bisector, throu...   \n1815                   144  \\n\\begin{enumerate}\\n\\subsubsection*{Segment a...   \n964                     91   \\fancyhead[L]{BECA / Dr. Huson / 10th Grade G...   \n356                     24  \\subsubsection*{Circle the appropriate equatio...   \n111                      3  \\subsubsection*{Do Now 1b.6: Angle pair practi...   \n1442                   120  \\setcounter{page}{1}\\n%\\subsubsection*{13-1 Ho...   \n1631                   133  \\setcounter{page}{1}\\n\\subsubsection*{13.9 Exi...   \n1759                   140  \\emph{variation} Given two perpendicular rays,...   \n1757                   140  \\n\\subsubsection*{Vertical angle algebra}\\n  \\...   \n1756                   140  \\n\\subsubsection*{Complementary \\& supplementa...   \n1042                    94   \\fancyhead[L]{BECA / Dr. Huson / 10th Grade G...   \n1035                    94    \\setcounter{page}{1}\\n\\subsubsection*{9.10 H...   \n1749                   139  \\n  \\begin{enumerate}\\n    \\subsubsection*{Abs...   \n1231                   102    \\setcounter{page}{1}\\n\\subsubsection*{10.10 ...   \n\n            n_begin_enumerate  n_end_enumerate  n_sub-subsection  n_subsection  \nproblem_ID                                                                      \n1754                        5                4                 3             0  \n1785                        0                0                 2             0  \n1815                        2                1                 2             0  \n964                         2                1                 1             0  \n356                         0                0                 1             0  \n111                         2                1                 1             0  \n1442                        2                1                 1             0  \n1631                        1                0                 1             0  \n1759                        0                0                 1             0  \n1757                        2                1                 1             0  \n1756                        2                1                 1             0  \n1042                        2                1                 1             0  \n1035                        2                1                 1             0  \n1749                        1                1                 1             0  \n1231                        2                1                 1             0  ",
      "text/html": "<div>\n<style scoped>\n    .dataframe tbody tr th:only-of-type {\n        vertical-align: middle;\n    }\n\n    .dataframe tbody tr th {\n        vertical-align: top;\n    }\n\n    .dataframe thead th {\n        text-align: right;\n    }\n</style>\n<table border=\"1\" class=\"dataframe\">\n  <thead>\n    <tr style=\"text-align: right;\">\n      <th></th>\n      <th>problem_set_ID</th>\n      <th>question</th>\n      <th>n_begin_enumerate</th>\n      <th>n_end_enumerate</th>\n      <th>n_sub-subsection</th>\n      <th>n_subsection</th>\n    </tr>\n    <tr>\n      <th>problem_ID</th>\n      <th></th>\n      <th></th>\n      <th></th>\n      <th></th>\n      <th></th>\n      <th></th>\n    </tr>\n  </thead>\n  <tbody>\n    <tr>\n      <th>1754</th>\n      <td>140</td>\n      <td>\\n\\subsubsection*{Draw a linear pair with give...</td>\n      <td>5</td>\n      <td>4</td>\n      <td>3</td>\n      <td>0</td>\n    </tr>\n    <tr>\n      <th>1785</th>\n      <td>142</td>\n      <td>\\subsubsection*{Perpendicular (bisector, throu...</td>\n      <td>0</td>\n      <td>0</td>\n      <td>2</td>\n      <td>0</td>\n    </tr>\n    <tr>\n      <th>1815</th>\n      <td>144</td>\n      <td>\\n\\begin{enumerate}\\n\\subsubsection*{Segment a...</td>\n      <td>2</td>\n      <td>1</td>\n      <td>2</td>\n      <td>0</td>\n    </tr>\n    <tr>\n      <th>964</th>\n      <td>91</td>\n      <td>\\fancyhead[L]{BECA / Dr. Huson / 10th Grade G...</td>\n      <td>2</td>\n      <td>1</td>\n      <td>1</td>\n      <td>0</td>\n    </tr>\n    <tr>\n      <th>356</th>\n      <td>24</td>\n      <td>\\subsubsection*{Circle the appropriate equatio...</td>\n      <td>0</td>\n      <td>0</td>\n      <td>1</td>\n      <td>0</td>\n    </tr>\n    <tr>\n      <th>111</th>\n      <td>3</td>\n      <td>\\subsubsection*{Do Now 1b.6: Angle pair practi...</td>\n      <td>2</td>\n      <td>1</td>\n      <td>1</td>\n      <td>0</td>\n    </tr>\n    <tr>\n      <th>1442</th>\n      <td>120</td>\n      <td>\\setcounter{page}{1}\\n%\\subsubsection*{13-1 Ho...</td>\n      <td>2</td>\n      <td>1</td>\n      <td>1</td>\n      <td>0</td>\n    </tr>\n    <tr>\n      <th>1631</th>\n      <td>133</td>\n      <td>\\setcounter{page}{1}\\n\\subsubsection*{13.9 Exi...</td>\n      <td>1</td>\n      <td>0</td>\n      <td>1</td>\n      <td>0</td>\n    </tr>\n    <tr>\n      <th>1759</th>\n      <td>140</td>\n      <td>\\emph{variation} Given two perpendicular rays,...</td>\n      <td>0</td>\n      <td>0</td>\n      <td>1</td>\n      <td>0</td>\n    </tr>\n    <tr>\n      <th>1757</th>\n      <td>140</td>\n      <td>\\n\\subsubsection*{Vertical angle algebra}\\n  \\...</td>\n      <td>2</td>\n      <td>1</td>\n      <td>1</td>\n      <td>0</td>\n    </tr>\n    <tr>\n      <th>1756</th>\n      <td>140</td>\n      <td>\\n\\subsubsection*{Complementary \\&amp; supplementa...</td>\n      <td>2</td>\n      <td>1</td>\n      <td>1</td>\n      <td>0</td>\n    </tr>\n    <tr>\n      <th>1042</th>\n      <td>94</td>\n      <td>\\fancyhead[L]{BECA / Dr. Huson / 10th Grade G...</td>\n      <td>2</td>\n      <td>1</td>\n      <td>1</td>\n      <td>0</td>\n    </tr>\n    <tr>\n      <th>1035</th>\n      <td>94</td>\n      <td>\\setcounter{page}{1}\\n\\subsubsection*{9.10 H...</td>\n      <td>2</td>\n      <td>1</td>\n      <td>1</td>\n      <td>0</td>\n    </tr>\n    <tr>\n      <th>1749</th>\n      <td>139</td>\n      <td>\\n  \\begin{enumerate}\\n    \\subsubsection*{Abs...</td>\n      <td>1</td>\n      <td>1</td>\n      <td>1</td>\n      <td>0</td>\n    </tr>\n    <tr>\n      <th>1231</th>\n      <td>102</td>\n      <td>\\setcounter{page}{1}\\n\\subsubsection*{10.10 ...</td>\n      <td>2</td>\n      <td>1</td>\n      <td>1</td>\n      <td>0</td>\n    </tr>\n  </tbody>\n</table>\n</div>"
     },
     "metadata": {},
     "execution_count": 270
    }
   ],
   "source": [
    "p_df = problems_df.copy()\n",
    "p_df['n_begin_enumerate'] = problems_df.question.str.count(r'\\\\begin{enumerate}')\n",
    "p_df['n_end_enumerate'] = problems_df.question.str.count('end{enumerate}')\n",
    "p_df['n_sub-subsection'] = problems_df.question.str.count(r'\\\\subsubsection')\n",
    "p_df['n_subsection'] = problems_df.question.str.count(r'\\\\subsection')\n",
    "p_df.sort_values('n_sub-subsection', ascending=False)[:15]"
   ]
  }
 ]
}