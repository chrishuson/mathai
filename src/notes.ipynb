{
 "metadata": {
  "language_info": {
   "codemirror_mode": {
    "name": "ipython",
    "version": 3
   },
   "file_extension": ".py",
   "mimetype": "text/x-python",
   "name": "python",
   "nbconvert_exporter": "python",
   "pygments_lexer": "ipython3",
   "version": 3
  },
  "orig_nbformat": 2,
  "kernelspec": {
   "name": "python_defaultSpec_1596811256884",
   "display_name": "Python 3.7.6 64-bit ('base': conda)"
  }
 },
 "nbformat": 4,
 "nbformat_minor": 2,
 "cells": [
  {
   "cell_type": "code",
   "execution_count": 78,
   "metadata": {
    "tags": []
   },
   "outputs": [
    {
     "output_type": "execute_result",
     "data": {
      "text/plain": "'/Users/chris/GitHub/mathai/src'"
     },
     "metadata": {},
     "execution_count": 78
    }
   ],
   "source": [
    "import os\n",
    "import sys\n",
    "import pandas as pd\n",
    "import numpy as np\n",
    "from ast import literal_eval\n",
    "\n",
    "os.getcwd()"
   ]
  },
  {
   "cell_type": "code",
   "execution_count": 227,
   "metadata": {},
   "outputs": [],
   "source": [
    "from main import print_problems_df"
   ]
  },
  {
   "cell_type": "markdown",
   "metadata": {},
   "source": [
    "## problems and problem set dataframes, refactoring"
   ]
  },
  {
   "cell_type": "code",
   "execution_count": 105,
   "metadata": {
    "tags": []
   },
   "outputs": [],
   "source": [
    "problems_df = pd.read_csv('../db/problems_df.csv', index_col='problem_ID')\n",
    "cols_into_lists = {'problem_IDs':literal_eval, 'head':literal_eval, 'body':literal_eval, 'problems_list':literal_eval}\n",
    "problem_sets_df = pd.read_csv('../db/problem_sets_df.csv', index_col='problem_set_ID', converters=cols_into_lists)"
   ]
  },
  {
   "cell_type": "code",
   "execution_count": 108,
   "metadata": {
    "tags": []
   },
   "outputs": [
    {
     "output_type": "display_data",
     "data": {
      "text/plain": "            problem_set_ID                                           question\nproblem_ID                                                                   \n0                        0  Points that are all located on the same line a...\n1                        0  Use symbols to write the name of each geometri...",
      "text/html": "<div>\n<style scoped>\n    .dataframe tbody tr th:only-of-type {\n        vertical-align: middle;\n    }\n\n    .dataframe tbody tr th {\n        vertical-align: top;\n    }\n\n    .dataframe thead th {\n        text-align: right;\n    }\n</style>\n<table border=\"1\" class=\"dataframe\">\n  <thead>\n    <tr style=\"text-align: right;\">\n      <th></th>\n      <th>problem_set_ID</th>\n      <th>question</th>\n    </tr>\n    <tr>\n      <th>problem_ID</th>\n      <th></th>\n      <th></th>\n    </tr>\n  </thead>\n  <tbody>\n    <tr>\n      <th>0</th>\n      <td>0</td>\n      <td>Points that are all located on the same line a...</td>\n    </tr>\n    <tr>\n      <th>1</th>\n      <td>0</td>\n      <td>Use symbols to write the name of each geometri...</td>\n    </tr>\n  </tbody>\n</table>\n</div>"
     },
     "metadata": {}
    },
    {
     "output_type": "stream",
     "name": "stdout",
     "text": "problem count:  1855\n\nquestion text length min, mean, max:\n 2 506 3217 \n\nproblem_set_ID <class 'numpy.int64'>\nquestion <class 'str'>\n"
    }
   ],
   "source": [
    "# Problems DF\n",
    "display(problems_df.head(2))\n",
    "print('problem count: ', len(problems_df))\n",
    "\n",
    "question_lengths = problems_df.question.apply(len)\n",
    "print('\\nquestion text length min, mean, max:\\n', question_lengths.min(), \n",
    "    round(question_lengths.mean()), question_lengths.max(), '\\n')\n",
    "\n",
    "#for col in problems_df.columns:\n",
    "#    print(col, type(problems_df.loc[0,col]))"
   ]
  },
  {
   "cell_type": "code",
   "execution_count": 241,
   "metadata": {
    "tags": []
   },
   "outputs": [
    {
     "output_type": "display_data",
     "data": {
      "text/plain": "                                                         filename  \\\nproblem_set_ID                                                      \n0               /Users/chris/GitHub/course-files/Geometry/01-I...   \n1               /Users/chris/GitHub/course-files/Geometry/01-I...   \n2               /Users/chris/GitHub/course-files/Geometry/01-I...   \n\n                                                             head  \\\nproblem_set_ID                                                      \n0               [\\begin{document}\\n, \\subsubsection*{1-8 Homew...   \n1               [\\begin{document}\\n, \\subsubsection*{Quiz Corr...   \n2               [\\begin{document}\\n, \\subsubsection*{Exam 1b: ...   \n\n                                                             body  \\\nproblem_set_ID                                                      \n0               [    \\item Points that are all located on the ...   \n1               [    \\item The points where a line segment beg...   \n2               [\\n,   \\item Complete the construction of an a...   \n\n                                                    problems_list  \\\nproblem_set_ID                                                      \n0               [Points that are all located on the same line ...   \n1               [The points where a line segment begins and en...   \n2               [Complete the construction of an angle bisecto...   \n\n                problem_count  \\\nproblem_set_ID                  \n0                          37   \n1                          48   \n2                          12   \n\n                                                      problem_IDs  \nproblem_set_ID                                                     \n0               [0, 1, 2, 3, 4, 5, 6, 7, 8, 9, 10, 11, 12, 13,...  \n1               [37, 38, 39, 40, 41, 42, 43, 44, 45, 46, 47, 4...  \n2                [85, 86, 87, 88, 89, 90, 91, 92, 93, 94, 95, 96]  ",
      "text/html": "<div>\n<style scoped>\n    .dataframe tbody tr th:only-of-type {\n        vertical-align: middle;\n    }\n\n    .dataframe tbody tr th {\n        vertical-align: top;\n    }\n\n    .dataframe thead th {\n        text-align: right;\n    }\n</style>\n<table border=\"1\" class=\"dataframe\">\n  <thead>\n    <tr style=\"text-align: right;\">\n      <th></th>\n      <th>filename</th>\n      <th>head</th>\n      <th>body</th>\n      <th>problems_list</th>\n      <th>problem_count</th>\n      <th>problem_IDs</th>\n    </tr>\n    <tr>\n      <th>problem_set_ID</th>\n      <th></th>\n      <th></th>\n      <th></th>\n      <th></th>\n      <th></th>\n      <th></th>\n    </tr>\n  </thead>\n  <tbody>\n    <tr>\n      <th>0</th>\n      <td>/Users/chris/GitHub/course-files/Geometry/01-I...</td>\n      <td>[\\begin{document}\\n, \\subsubsection*{1-8 Homew...</td>\n      <td>[    \\item Points that are all located on the ...</td>\n      <td>[Points that are all located on the same line ...</td>\n      <td>37</td>\n      <td>[0, 1, 2, 3, 4, 5, 6, 7, 8, 9, 10, 11, 12, 13,...</td>\n    </tr>\n    <tr>\n      <th>1</th>\n      <td>/Users/chris/GitHub/course-files/Geometry/01-I...</td>\n      <td>[\\begin{document}\\n, \\subsubsection*{Quiz Corr...</td>\n      <td>[    \\item The points where a line segment beg...</td>\n      <td>[The points where a line segment begins and en...</td>\n      <td>48</td>\n      <td>[37, 38, 39, 40, 41, 42, 43, 44, 45, 46, 47, 4...</td>\n    </tr>\n    <tr>\n      <th>2</th>\n      <td>/Users/chris/GitHub/course-files/Geometry/01-I...</td>\n      <td>[\\begin{document}\\n, \\subsubsection*{Exam 1b: ...</td>\n      <td>[\\n,   \\item Complete the construction of an a...</td>\n      <td>[Complete the construction of an angle bisecto...</td>\n      <td>12</td>\n      <td>[85, 86, 87, 88, 89, 90, 91, 92, 93, 94, 95, 96]</td>\n    </tr>\n  </tbody>\n</table>\n</div>"
     },
     "metadata": {}
    },
    {
     "output_type": "stream",
     "name": "stdout",
     "text": "pset count:  149\nAverage length of problems_list (num lines): \n 12\n"
    }
   ],
   "source": [
    "\n",
    "# Problem Sets DF\n",
    "#for col in problem_sets_df.columns:\n",
    "#    print(col, type(problem_sets_df.loc[0,col]))\n",
    "display(problem_sets_df[:3])\n",
    "print('pset count: ', len(problem_sets_df))\n",
    "\n",
    "print('Average length of problems_list (num lines): \\n', round(problem_sets_df.problems_list.str.len().mean()))"
   ]
  },
  {
   "cell_type": "code",
   "execution_count": 154,
   "metadata": {
    "tags": []
   },
   "outputs": [
    {
     "output_type": "stream",
     "name": "stdout",
     "text": "['A(n) $\\\\rule{4cm}{0.15mm}$ is a straight continuous arrangement of an infinite number of points.\\n', 'A(n) $\\\\rule{4cm}{0.15mm}$ is a portion of a line that begins with a single point and extends infinitely in one direction.\\n', 'Points that are all located on the same line are $\\\\rule{4cm}{0.15mm}$.\\n', 'The points where a line segment begins and ends are the $\\\\rule{4cm}{0.15mm}$.\\n', 'Two or more line segments of equal measure are $\\\\rule{4cm}{0.15mm}$.\\n', 'A(n) $\\\\rule{4cm}{0.15mm}$ is a portion of a line that includes two points and all of the collinear points between the two points.\\n', 'A flat surface is a(n) $\\\\rule{4cm}{0.15mm}$.\\n\\n', 'Use each term according to its geometric meaning: ``sketch\", ``draw\", ``construct\".\\n', '$\\\\rule{4cm}{0.15mm}$ is to make a freehand diagram showing important features.\\n', '$\\\\rule{4cm}{0.15mm}$ is to depict with accurate measures using ruler, protractor, and compass.\\n', '$\\\\rule{4cm}{0.15mm}$ is a formal, logical process to create geometric figures using only a straightedge and compass.\\n\\n', 'Use symbols to write the name of each geometric figure.\\n  \\\\begin{enumerate}\\n  \\\\item %Ray DE\\n    \\\\begin{tikzpicture}\\n      \\\\draw [->, thick] (0,0)--(3,1.5);\\n      \\\\draw [fill] (0,0) circle [radius=0.05] node[below]{$D$};\\n      \\\\draw [fill] (2,1) circle [radius=0.05] node[below]{$E$};\\n    \\\\end{tikzpicture}\\n  \\\\item \\\\hspace{1cm}%Line AB\\n    \\\\begin{tikzpicture}\\n      \\\\draw [<->, thick] (1,0)--(1,3);\\n      \\\\draw [fill] (1,0.5) circle [radius=0.05] node[right]{$A$};\\n      \\\\draw [fill] (1,2.5) circle [radius=0.05] node[right]{$B$};\\n    \\\\end{tikzpicture}\\n    \\\\item %Line segment XY\\n      \\\\begin{tikzpicture}\\n        \\\\draw [-, thick] (1,0)--(0,2);\\n        \\\\draw [fill] (1,0) circle [radius=0.05] node[below]{$X$};\\n        \\\\draw [fill] (0,2) circle [radius=0.05] node[left]{$Y$};\\n      \\\\end{tikzpicture}\\n  \\\\end{enumerate}\\n\\n', 'Draw the line segment $\\\\overline{AB}$ with $AB=2 \\\\text{ inches}$\\n', 'Draw and label the geometric object $\\\\overrightarrow{AB}$.\\n  \\\\vspace{2cm}\\n\\n', 'Given the points $X$ and $Y$, draw $\\\\overrightarrow{YX}$.\\\\\\\\\\n  \\\\vspace{2cm}\\n  \\\\begin{center}\\n    \\\\begin{tikzpicture}\\n    \\\\draw [fill] (0,2) circle [radius=0.05] node[below]{$X$};\\n    \\\\draw [fill] (5,0) circle [radius=0.05] node[below]{$Y$};\\n  \\\\end{tikzpicture}\\n  \\\\end{center}\\n  \\\\vspace{2cm}\\n\\n'] <class 'list'> \n A(n) $\\rule{4cm}{0.15mm}$ is a straight continuous arrangement of an infinite number of points.\n\n1831\n"
    }
   ],
   "source": [
    "n = 148\n",
    "pset_list = problem_sets_df.loc[n, 'problems_list']\n",
    "print(pset_list, type(pset_list), '\\n', pset_list[0])\n",
    "print(problem_sets_df.loc[147,'problem_IDs'][0])\n"
   ]
  },
  {
   "cell_type": "code",
   "execution_count": 169,
   "metadata": {},
   "outputs": [
    {
     "output_type": "execute_result",
     "data": {
      "text/plain": "problem_set_ID\n120      [13-Review, 13-01-DN-similarity-ratios.tex]\n121         [13-Review, 13-01DN-transformations.tex]\n122    [13-Review, 13-02DN+HW-similarity-ratios.tex]\n123            [13-Review, 13-03HW-construction.tex]\nName: filename, dtype: object"
     },
     "metadata": {},
     "execution_count": 169
    }
   ],
   "source": [
    "names = problem_sets_df.filename\n",
    "names.apply(lambda x: x.split('/')[-2:]).iloc[120:124]"
   ]
  },
  {
   "cell_type": "code",
   "execution_count": 242,
   "metadata": {},
   "outputs": [
    {
     "output_type": "execute_result",
     "data": {
      "text/plain": "                          chapter                                 fn\nproblem_set_ID                                                      \n0                        01-Intro                   1-Exam-Intro.tex\n1                        01-Intro                     1-HW-Intro.tex\n2                        01-Intro            1b-Exam-Angle-pairs.tex\n3                        01-Intro                   1b2-HW-Intro.tex\n4                        01-Intro                   Exam-1-Intro.tex\n5                        01-Intro                  Exam-1b-Intro.tex\n6                        01-Intro                   HW-1b2-Intro.tex\n107                   11-Capstone        11-1DN+CW_density-calcs.tex\n108                   11-Capstone            11-2HW_density+trig.tex\n109                   11-Capstone  11-3HW_compound-volumes-cover.tex\n110                   11-Capstone     11-5DN+ENQ+HW_density+trig.tex\n111                   11-Capstone           11-6DNQ_density+trig.tex\n112             11-Quadrilaterals      11-1DN_slope-applications.tex\n113             11-Quadrilaterals      11-2HW_slope-applications.tex\n114             11-Quadrilaterals     11-3DNb_slope-applications.tex\n115             11-Quadrilaterals       11-3DoNow_quadrilaterals.tex\n116             11-Quadrilaterals             11-3HW_Point-slope.tex\n117             11-Quadrilaterals       11-3PreTest_quads+volume.tex\n118             11-Quadrilaterals         11-4HW_Triangle-review.tex\n119             11-Quadrilaterals          11-4Test_quads+volume.tex",
      "text/html": "<div>\n<style scoped>\n    .dataframe tbody tr th:only-of-type {\n        vertical-align: middle;\n    }\n\n    .dataframe tbody tr th {\n        vertical-align: top;\n    }\n\n    .dataframe thead th {\n        text-align: right;\n    }\n</style>\n<table border=\"1\" class=\"dataframe\">\n  <thead>\n    <tr style=\"text-align: right;\">\n      <th></th>\n      <th>chapter</th>\n      <th>fn</th>\n    </tr>\n    <tr>\n      <th>problem_set_ID</th>\n      <th></th>\n      <th></th>\n    </tr>\n  </thead>\n  <tbody>\n    <tr>\n      <th>0</th>\n      <td>01-Intro</td>\n      <td>1-Exam-Intro.tex</td>\n    </tr>\n    <tr>\n      <th>1</th>\n      <td>01-Intro</td>\n      <td>1-HW-Intro.tex</td>\n    </tr>\n    <tr>\n      <th>2</th>\n      <td>01-Intro</td>\n      <td>1b-Exam-Angle-pairs.tex</td>\n    </tr>\n    <tr>\n      <th>3</th>\n      <td>01-Intro</td>\n      <td>1b2-HW-Intro.tex</td>\n    </tr>\n    <tr>\n      <th>4</th>\n      <td>01-Intro</td>\n      <td>Exam-1-Intro.tex</td>\n    </tr>\n    <tr>\n      <th>5</th>\n      <td>01-Intro</td>\n      <td>Exam-1b-Intro.tex</td>\n    </tr>\n    <tr>\n      <th>6</th>\n      <td>01-Intro</td>\n      <td>HW-1b2-Intro.tex</td>\n    </tr>\n    <tr>\n      <th>107</th>\n      <td>11-Capstone</td>\n      <td>11-1DN+CW_density-calcs.tex</td>\n    </tr>\n    <tr>\n      <th>108</th>\n      <td>11-Capstone</td>\n      <td>11-2HW_density+trig.tex</td>\n    </tr>\n    <tr>\n      <th>109</th>\n      <td>11-Capstone</td>\n      <td>11-3HW_compound-volumes-cover.tex</td>\n    </tr>\n    <tr>\n      <th>110</th>\n      <td>11-Capstone</td>\n      <td>11-5DN+ENQ+HW_density+trig.tex</td>\n    </tr>\n    <tr>\n      <th>111</th>\n      <td>11-Capstone</td>\n      <td>11-6DNQ_density+trig.tex</td>\n    </tr>\n    <tr>\n      <th>112</th>\n      <td>11-Quadrilaterals</td>\n      <td>11-1DN_slope-applications.tex</td>\n    </tr>\n    <tr>\n      <th>113</th>\n      <td>11-Quadrilaterals</td>\n      <td>11-2HW_slope-applications.tex</td>\n    </tr>\n    <tr>\n      <th>114</th>\n      <td>11-Quadrilaterals</td>\n      <td>11-3DNb_slope-applications.tex</td>\n    </tr>\n    <tr>\n      <th>115</th>\n      <td>11-Quadrilaterals</td>\n      <td>11-3DoNow_quadrilaterals.tex</td>\n    </tr>\n    <tr>\n      <th>116</th>\n      <td>11-Quadrilaterals</td>\n      <td>11-3HW_Point-slope.tex</td>\n    </tr>\n    <tr>\n      <th>117</th>\n      <td>11-Quadrilaterals</td>\n      <td>11-3PreTest_quads+volume.tex</td>\n    </tr>\n    <tr>\n      <th>118</th>\n      <td>11-Quadrilaterals</td>\n      <td>11-4HW_Triangle-review.tex</td>\n    </tr>\n    <tr>\n      <th>119</th>\n      <td>11-Quadrilaterals</td>\n      <td>11-4Test_quads+volume.tex</td>\n    </tr>\n  </tbody>\n</table>\n</div>"
     },
     "metadata": {},
     "execution_count": 242
    }
   ],
   "source": [
    "names2 = problem_sets_df.filename.str.split('/')\n",
    "#display(names2)\n",
    "file_list = pd.DataFrame()\n",
    "file_list['chapter'] = names2.str.get(-2)\n",
    "file_list['fn'] = names2.str.get(-1)\n",
    "file_list[file_list.chapter.str.contains('1-')]"
   ]
  },
  {
   "cell_type": "code",
   "execution_count": 273,
   "metadata": {
    "tags": []
   },
   "outputs": [
    {
     "output_type": "stream",
     "name": "stdout",
     "text": "Given parallelogram $ABCD$ with $m\\angle A=75^\\circ$, $AB=8$, and $BC=12$. Find the value of each angle measure or side length.\n     \\begin{enumerate}\n       \\item $m\\angle B=$\\vspace{0.5cm}\n       \\item $m\\angle C=$\\vspace{0.5cm}\n       \\item $m\\angle D=$\\vspace{0.5cm}\n       \\item $CD=$ \\vspace{0.5cm}\n       \\item $AD=$ \\vspace{0.5cm}\n     \\end{enumerate}\n\n\n"
    }
   ],
   "source": [
    "print(problems_df.loc[problem_sets_df.loc[117,'problem_IDs']].iloc[0]['question'])\n"
   ]
  },
  {
   "cell_type": "code",
   "execution_count": 275,
   "metadata": {
    "tags": []
   },
   "outputs": [
    {
     "output_type": "display_data",
     "data": {
      "text/plain": "['\\n',\n '   \\\\item Given parallelogram $ABCD$ with $m\\\\angle A=75^\\\\circ$, $AB=8$, and $BC=12$. Find the value of each angle measure or side length.\\n',\n '     \\\\begin{enumerate}\\n',\n '       \\\\item $m\\\\angle B=$\\\\vspace{0.5cm}\\n',\n '       \\\\item $m\\\\angle C=$\\\\vspace{0.5cm}\\n',\n '       \\\\item $m\\\\angle D=$\\\\vspace{0.5cm}\\n',\n '       \\\\item $CD=$ \\\\vspace{0.5cm}\\n',\n '       \\\\item $AD=$ \\\\vspace{0.5cm}\\n',\n '     \\\\end{enumerate}\\n']"
     },
     "metadata": {}
    },
    {
     "output_type": "stream",
     "name": "stdout",
     "text": "Given parallelogram $ABCD$ with $m\\angle A=75^\\circ$, $AB=8$, and $BC=12$. Find the value of each angle measure or side length.\n     \\begin{enumerate}\n       \\item $m\\angle B=$\\vspace{0.5cm}\n       \\item $m\\angle C=$\\vspace{0.5cm}\n       \\item $m\\angle D=$\\vspace{0.5cm}\n       \\item $CD=$ \\vspace{0.5cm}\n       \\item $AD=$ \\vspace{0.5cm}\n     \\end{enumerate}\n\n\n"
    }
   ],
   "source": [
    "display(problem_sets_df.loc[117, 'body'][:9])\n",
    "print(problem_sets_df.loc[117, 'problems_list'][:1][0])"
   ]
  },
  {
   "cell_type": "code",
   "execution_count": 228,
   "metadata": {
    "tags": []
   },
   "outputs": [
    {
     "output_type": "stream",
     "name": "stdout",
     "text": "Identify a linear pair of angles in the given diagram.\n    \\begin{center}\n    \\begin{tikzpicture}\n      %\\draw [->, thick] (0,0)--(5,5);\n      \\draw [<-, thick] (-2,0)--(3,0)--(2,3)--(0,0);\n      \\draw [fill] (-1.5,0) circle [radius=0.05] node[below]{$R$};\n      \\draw [fill] (0,0) circle [radius=0.05] node[below]{$S$};\n      \\draw [fill] (2,3) circle [radius=0.05] node[right]{$U$};\n      \\draw [fill] (3,0) circle [radius=0.05] node[right]{$T$};\n    \\end{tikzpicture}\n    \\end{center}\n\n\nNew Problem\nIdentify three rays in the given plane.\\\\[0.25in]\n      \\begin{tikzpicture}[scale=0.8]\n        \\draw [thick](0,0) node[above right]{$\\ m$} --(6,0)--(8,4)--(2,4)--(0,0);\n        \\draw [<->, thick] (1,1)--(6,3);\n        \\draw [fill] (3.5,2) circle [radius=0.05] node[below]{$P \\ $};\n        \\draw [fill] (5,2.6) circle [radius=0.05] node[below]{$Q$};\n        \\draw [<->, thick] (2,3.5)--(5.25,.25);\n        \\draw [fill] (5,0.5) circle [radius=0.05] node[left]{$R \\ $};\n      \\end{tikzpicture}\n      \\vspace{0.5cm}\n\n\nNew Problem\nGiven $\\overleftrightarrow{QS}$ as shown on the number line. \\\\[10pt] %\\vspace{1cm}\n      \\begin{tikzpicture}\n        \\draw [<->] (-4.5,0)--(6.5,0);\n        \\foreach \\x in {-4,...,6} %2 leading for diff!=1\n          \\draw[shift={(\\x,0)},color=black] (0pt,-3pt) -- (0pt,3pt) node[below=5pt]  {$\\x$};\n          \\draw [fill] (2,0) circle [radius=0.05] node[above] {$Q$};\n          \\draw [fill] (5,0) circle [radius=0.05] node[above] {$S$};\n      \\end{tikzpicture}\n      \\begin{enumerate}\n        \\item Mark the point $R$, the midpoint of $\\overline{QS}$.\n        \\item The point $P$ is collinear with $\\overleftrightarrow{QS}$ such that $Q$ is the midpoint of $\\overleftrightarrow{PS}$. Mark $P$ on the line.\n      \\end{enumerate}\n\n\n"
    },
    {
     "output_type": "execute_result",
     "data": {
      "text/plain": "            problem_set_ID                                           question\nproblem_ID                                                                   \n190                      7  Identify a linear pair of angles in the given ...\n191                      7  Identify three rays in the given plane.\\\\[0.25...\n192                      7  Given $\\overleftrightarrow{QS}$ as shown on th...",
      "text/html": "<div>\n<style scoped>\n    .dataframe tbody tr th:only-of-type {\n        vertical-align: middle;\n    }\n\n    .dataframe tbody tr th {\n        vertical-align: top;\n    }\n\n    .dataframe thead th {\n        text-align: right;\n    }\n</style>\n<table border=\"1\" class=\"dataframe\">\n  <thead>\n    <tr style=\"text-align: right;\">\n      <th></th>\n      <th>problem_set_ID</th>\n      <th>question</th>\n    </tr>\n    <tr>\n      <th>problem_ID</th>\n      <th></th>\n      <th></th>\n    </tr>\n  </thead>\n  <tbody>\n    <tr>\n      <th>190</th>\n      <td>7</td>\n      <td>Identify a linear pair of angles in the given ...</td>\n    </tr>\n    <tr>\n      <th>191</th>\n      <td>7</td>\n      <td>Identify three rays in the given plane.\\\\[0.25...</td>\n    </tr>\n    <tr>\n      <th>192</th>\n      <td>7</td>\n      <td>Given $\\overleftrightarrow{QS}$ as shown on th...</td>\n    </tr>\n  </tbody>\n</table>\n</div>"
     },
     "metadata": {},
     "execution_count": 228
    }
   ],
   "source": [
    "short_df = problems_df[problems_df.problem_set_ID==7].head(3)\n",
    "prefix = '\\nNew Problem\\n'\n",
    "problem_tex = short_df.question.str.cat(sep=prefix)\n",
    "print(problem_tex)\n",
    "short_df"
   ]
  },
  {
   "cell_type": "code",
   "execution_count": 236,
   "metadata": {},
   "outputs": [],
   "source": [
    "title = ('Start of problems', '9 August 2020', 'Test run of problems df')\n",
    "df = problems_df[problems_df.problem_set_ID == 41]\n",
    "print_problems_df(df, filename='PSet41', title=title)"
   ]
  },
  {
   "cell_type": "code",
   "execution_count": 235,
   "metadata": {
    "tags": []
   },
   "outputs": [
    {
     "output_type": "stream",
     "name": "stdout",
     "text": "problem_count                       4\nproblem_IDs      [521, 522, 523, 524]\nName: 41, dtype: object\n"
    },
    {
     "output_type": "execute_result",
     "data": {
      "text/plain": "            problem_set_ID                                           question\nproblem_ID                                                                   \n521                     41  $\\triangle ABC$ is shown with $m\\angle C=90^\\c...\n522                     41  Solve for the length, $c$, of the hyptenuse of...\n523                     41  Find the area of $\\triangle ABC$,  $Area= \\fra...\n524                     41  The area of a triangular banner is 12710 squar...",
      "text/html": "<div>\n<style scoped>\n    .dataframe tbody tr th:only-of-type {\n        vertical-align: middle;\n    }\n\n    .dataframe tbody tr th {\n        vertical-align: top;\n    }\n\n    .dataframe thead th {\n        text-align: right;\n    }\n</style>\n<table border=\"1\" class=\"dataframe\">\n  <thead>\n    <tr style=\"text-align: right;\">\n      <th></th>\n      <th>problem_set_ID</th>\n      <th>question</th>\n    </tr>\n    <tr>\n      <th>problem_ID</th>\n      <th></th>\n      <th></th>\n    </tr>\n  </thead>\n  <tbody>\n    <tr>\n      <th>521</th>\n      <td>41</td>\n      <td>$\\triangle ABC$ is shown with $m\\angle C=90^\\c...</td>\n    </tr>\n    <tr>\n      <th>522</th>\n      <td>41</td>\n      <td>Solve for the length, $c$, of the hyptenuse of...</td>\n    </tr>\n    <tr>\n      <th>523</th>\n      <td>41</td>\n      <td>Find the area of $\\triangle ABC$,  $Area= \\fra...</td>\n    </tr>\n    <tr>\n      <th>524</th>\n      <td>41</td>\n      <td>The area of a triangular banner is 12710 squar...</td>\n    </tr>\n  </tbody>\n</table>\n</div>"
     },
     "metadata": {},
     "execution_count": 235
    }
   ],
   "source": [
    "print(problem_sets_df.loc[41,['problem_count', 'problem_IDs']])\n",
    "df"
   ]
  },
  {
   "cell_type": "code",
   "execution_count": 240,
   "metadata": {
    "tags": []
   },
   "outputs": [
    {
     "output_type": "stream",
     "name": "stdout",
     "text": "\\setcounter{page}{1}\n  \\subsubsection*{Exam: Tools of Geometry}\n    \\vspace{0.5cm}\n    \\begin{enumerate}\n      \\item Points that are all located on the same plane are $\\rule{4cm}{0.15mm}$.\\bigskip\n\n\n      \\item Draw and label a line segment $\\overline{AB}$ such that the distance between points $A$ and $B$ is 4 cm. \\vspace{2cm}\n\n\n      \\item Identify three points in the given plane.\\\\[0.25in]\n        \\begin{tikzpicture}\n          \\draw [thick](0,0) node[above right]{$\\ p$} --(6,0)--(8,4)--(2,4)--(0,0);\n          \\draw [<->, thick] (1,1)--(6,3);\n          \\draw [fill] (3.5,2) circle [radius=0.05] node[below]{$W \\ $};\n          \\draw [fill] (5,2.6) circle [radius=0.05] node[below]{$X$};\n          \\draw [<->, thick] (2,3.5)--(5.25,.25);\n          \\draw [fill] (5,0.5) circle [radius=0.05] node[below left]{$Y$};\n        \\end{tikzpicture} \\vspace{1cm}\n\n\n      \\item A flat surface is a(n) $\\rule{4cm}{0.15mm}$. \\bigskip\n\n      \\item Find the value of $|5-3|+|4-5|$. \\bigskip\n\n      \\item Two line segments or angles of equal measure are $\\rule{4cm}{0.15mm}$.\n        \\bigskip\n\n      \\item Given $\\overline{DEF}$, $DE=5 \\frac{1}{2}$, and $EF=2 \\frac{1}{2}$.\n      \\begin{enumerate}\n        \\item Find ${DF}$.\\\\[.5in]\n          \\begin{tikzpicture}\n            \\draw [-, thick] (1,0)--(7,0);\n            \\draw [fill] (1,0) circle [radius=0.05] node[below]{$D$};\n            \\draw [fill] (5,0) circle [radius=0.05] node[below]{$E$};\n            \\draw [fill] (7,0) circle [radius=0.05] node[below]{$F$};\n          \\end{tikzpicture} \\bigskip\n        \\item The postulate used in this problem is the \\rule{6cm}{0.15mm}.\n      \\end{enumerate}\n\n\n"
    }
   ],
   "source": [
    "#print(problems_df[problems_df.question.str.contains('Tools of Geometry')].loc[13,'question'])\n",
    "problem_sets"
   ]
  },
  {
   "cell_type": "code",
   "execution_count": 270,
   "metadata": {},
   "outputs": [
    {
     "output_type": "execute_result",
     "data": {
      "text/plain": "            problem_set_ID                                           question  \\\nproblem_ID                                                                      \n1754                   140  \\n\\subsubsection*{Draw a linear pair with give...   \n1785                   142  \\subsubsection*{Perpendicular (bisector, throu...   \n1815                   144  \\n\\begin{enumerate}\\n\\subsubsection*{Segment a...   \n964                     91   \\fancyhead[L]{BECA / Dr. Huson / 10th Grade G...   \n356                     24  \\subsubsection*{Circle the appropriate equatio...   \n111                      3  \\subsubsection*{Do Now 1b.6: Angle pair practi...   \n1442                   120  \\setcounter{page}{1}\\n%\\subsubsection*{13-1 Ho...   \n1631                   133  \\setcounter{page}{1}\\n\\subsubsection*{13.9 Exi...   \n1759                   140  \\emph{variation} Given two perpendicular rays,...   \n1757                   140  \\n\\subsubsection*{Vertical angle algebra}\\n  \\...   \n1756                   140  \\n\\subsubsection*{Complementary \\& supplementa...   \n1042                    94   \\fancyhead[L]{BECA / Dr. Huson / 10th Grade G...   \n1035                    94    \\setcounter{page}{1}\\n\\subsubsection*{9.10 H...   \n1749                   139  \\n  \\begin{enumerate}\\n    \\subsubsection*{Abs...   \n1231                   102    \\setcounter{page}{1}\\n\\subsubsection*{10.10 ...   \n\n            n_begin_enumerate  n_end_enumerate  n_sub-subsection  n_subsection  \nproblem_ID                                                                      \n1754                        5                4                 3             0  \n1785                        0                0                 2             0  \n1815                        2                1                 2             0  \n964                         2                1                 1             0  \n356                         0                0                 1             0  \n111                         2                1                 1             0  \n1442                        2                1                 1             0  \n1631                        1                0                 1             0  \n1759                        0                0                 1             0  \n1757                        2                1                 1             0  \n1756                        2                1                 1             0  \n1042                        2                1                 1             0  \n1035                        2                1                 1             0  \n1749                        1                1                 1             0  \n1231                        2                1                 1             0  ",
      "text/html": "<div>\n<style scoped>\n    .dataframe tbody tr th:only-of-type {\n        vertical-align: middle;\n    }\n\n    .dataframe tbody tr th {\n        vertical-align: top;\n    }\n\n    .dataframe thead th {\n        text-align: right;\n    }\n</style>\n<table border=\"1\" class=\"dataframe\">\n  <thead>\n    <tr style=\"text-align: right;\">\n      <th></th>\n      <th>problem_set_ID</th>\n      <th>question</th>\n      <th>n_begin_enumerate</th>\n      <th>n_end_enumerate</th>\n      <th>n_sub-subsection</th>\n      <th>n_subsection</th>\n    </tr>\n    <tr>\n      <th>problem_ID</th>\n      <th></th>\n      <th></th>\n      <th></th>\n      <th></th>\n      <th></th>\n      <th></th>\n    </tr>\n  </thead>\n  <tbody>\n    <tr>\n      <th>1754</th>\n      <td>140</td>\n      <td>\\n\\subsubsection*{Draw a linear pair with give...</td>\n      <td>5</td>\n      <td>4</td>\n      <td>3</td>\n      <td>0</td>\n    </tr>\n    <tr>\n      <th>1785</th>\n      <td>142</td>\n      <td>\\subsubsection*{Perpendicular (bisector, throu...</td>\n      <td>0</td>\n      <td>0</td>\n      <td>2</td>\n      <td>0</td>\n    </tr>\n    <tr>\n      <th>1815</th>\n      <td>144</td>\n      <td>\\n\\begin{enumerate}\\n\\subsubsection*{Segment a...</td>\n      <td>2</td>\n      <td>1</td>\n      <td>2</td>\n      <td>0</td>\n    </tr>\n    <tr>\n      <th>964</th>\n      <td>91</td>\n      <td>\\fancyhead[L]{BECA / Dr. Huson / 10th Grade G...</td>\n      <td>2</td>\n      <td>1</td>\n      <td>1</td>\n      <td>0</td>\n    </tr>\n    <tr>\n      <th>356</th>\n      <td>24</td>\n      <td>\\subsubsection*{Circle the appropriate equatio...</td>\n      <td>0</td>\n      <td>0</td>\n      <td>1</td>\n      <td>0</td>\n    </tr>\n    <tr>\n      <th>111</th>\n      <td>3</td>\n      <td>\\subsubsection*{Do Now 1b.6: Angle pair practi...</td>\n      <td>2</td>\n      <td>1</td>\n      <td>1</td>\n      <td>0</td>\n    </tr>\n    <tr>\n      <th>1442</th>\n      <td>120</td>\n      <td>\\setcounter{page}{1}\\n%\\subsubsection*{13-1 Ho...</td>\n      <td>2</td>\n      <td>1</td>\n      <td>1</td>\n      <td>0</td>\n    </tr>\n    <tr>\n      <th>1631</th>\n      <td>133</td>\n      <td>\\setcounter{page}{1}\\n\\subsubsection*{13.9 Exi...</td>\n      <td>1</td>\n      <td>0</td>\n      <td>1</td>\n      <td>0</td>\n    </tr>\n    <tr>\n      <th>1759</th>\n      <td>140</td>\n      <td>\\emph{variation} Given two perpendicular rays,...</td>\n      <td>0</td>\n      <td>0</td>\n      <td>1</td>\n      <td>0</td>\n    </tr>\n    <tr>\n      <th>1757</th>\n      <td>140</td>\n      <td>\\n\\subsubsection*{Vertical angle algebra}\\n  \\...</td>\n      <td>2</td>\n      <td>1</td>\n      <td>1</td>\n      <td>0</td>\n    </tr>\n    <tr>\n      <th>1756</th>\n      <td>140</td>\n      <td>\\n\\subsubsection*{Complementary \\&amp; supplementa...</td>\n      <td>2</td>\n      <td>1</td>\n      <td>1</td>\n      <td>0</td>\n    </tr>\n    <tr>\n      <th>1042</th>\n      <td>94</td>\n      <td>\\fancyhead[L]{BECA / Dr. Huson / 10th Grade G...</td>\n      <td>2</td>\n      <td>1</td>\n      <td>1</td>\n      <td>0</td>\n    </tr>\n    <tr>\n      <th>1035</th>\n      <td>94</td>\n      <td>\\setcounter{page}{1}\\n\\subsubsection*{9.10 H...</td>\n      <td>2</td>\n      <td>1</td>\n      <td>1</td>\n      <td>0</td>\n    </tr>\n    <tr>\n      <th>1749</th>\n      <td>139</td>\n      <td>\\n  \\begin{enumerate}\\n    \\subsubsection*{Abs...</td>\n      <td>1</td>\n      <td>1</td>\n      <td>1</td>\n      <td>0</td>\n    </tr>\n    <tr>\n      <th>1231</th>\n      <td>102</td>\n      <td>\\setcounter{page}{1}\\n\\subsubsection*{10.10 ...</td>\n      <td>2</td>\n      <td>1</td>\n      <td>1</td>\n      <td>0</td>\n    </tr>\n  </tbody>\n</table>\n</div>"
     },
     "metadata": {},
     "execution_count": 270
    }
   ],
   "source": [
    "p_df = problems_df.copy()\n",
    "p_df['n_begin_enumerate'] = problems_df.question.str.count(r'\\\\begin{enumerate}')\n",
    "p_df['n_end_enumerate'] = problems_df.question.str.count('end{enumerate}')\n",
    "p_df['n_sub-subsection'] = problems_df.question.str.count(r'\\\\subsubsection')\n",
    "p_df['n_subsection'] = problems_df.question.str.count(r'\\\\subsection')\n",
    "p_df.sort_values('n_sub-subsection', ascending=False)[:15]"
   ]
  },
  {
   "cell_type": "code",
   "execution_count": 272,
   "metadata": {
    "tags": []
   },
   "outputs": [
    {
     "output_type": "display_data",
     "data": {
      "text/plain": "                        chapter           fn\nproblem_set_ID                              \n139             15-Trajectories  Algebra.tex",
      "text/html": "<div>\n<style scoped>\n    .dataframe tbody tr th:only-of-type {\n        vertical-align: middle;\n    }\n\n    .dataframe tbody tr th {\n        vertical-align: top;\n    }\n\n    .dataframe thead th {\n        text-align: right;\n    }\n</style>\n<table border=\"1\" class=\"dataframe\">\n  <thead>\n    <tr style=\"text-align: right;\">\n      <th></th>\n      <th>chapter</th>\n      <th>fn</th>\n    </tr>\n    <tr>\n      <th>problem_set_ID</th>\n      <th></th>\n      <th></th>\n    </tr>\n  </thead>\n  <tbody>\n    <tr>\n      <th>139</th>\n      <td>15-Trajectories</td>\n      <td>Algebra.tex</td>\n    </tr>\n  </tbody>\n</table>\n</div>"
     },
     "metadata": {}
    },
    {
     "output_type": "stream",
     "name": "stdout",
     "text": "\n  \\begin{enumerate}\n    \\subsubsection*{Absolute value}\n    \\item Absolute value: Find the value of $|180-120|+|60-90|$. %\\vspace{2cm}\n    \\item Find the value of $|1.5-4|-1$.\n\n\n  \\end{enumerate}\n\n"
    }
   ],
   "source": [
    "n = 1749\n",
    "display(file_list[problem_sets_df.problem_IDs.apply(lambda x: n in x)])\n",
    "print(problems_df.loc[n,'question'])"
   ]
  },
  {
   "cell_type": "code",
   "execution_count": 276,
   "metadata": {},
   "outputs": [],
   "source": [
    "from main import map_course_files"
   ]
  },
  {
   "cell_type": "code",
   "execution_count": 291,
   "metadata": {},
   "outputs": [],
   "source": [
    "from main import parse_course_files, parse_problem_sets"
   ]
  },
  {
   "cell_type": "code",
   "execution_count": 280,
   "metadata": {
    "tags": []
   },
   "outputs": [
    {
     "output_type": "stream",
     "name": "stdout",
     "text": "dict len, type:  14 <class 'dict'> \n df len:  209 \n\n"
    },
    {
     "output_type": "execute_result",
     "data": {
      "text/plain": "              unit  file_count                         filename\n98   07-Similarity          27       7-10DN_Transformations.tex\n99   07-Similarity          27      7-10bDN_Transformations.tex\n100  07-Similarity          27      7-11bDN_Transformations.tex\n101  07-Similarity          27        7-12DN_Transformation.tex\n102  07-Similarity          27        7-1DN_Graphing-review.tex\n103  07-Similarity          27      7-1HW_Similarity-ratios.tex\n104  07-Similarity          27                7-2DN_Tangent.tex\n105  07-Similarity          27      7-2HW_Similarity-ratios.tex\n106  07-Similarity          27     7-2bDN_Graphing-practice.tex\n107  07-Similarity          27                7-3DN_Tangent.tex\n108  07-Similarity          27          7-3HW_AA-similarity.tex\n109  07-Similarity          27               7-3bDN_Tangent.tex\n110  07-Similarity          27               7-4bCW_Tangent.tex\n111  07-Similarity          27     7-5DN_Similarity+tangent.tex\n112  07-Similarity          27               7-5HW_Symmetry.tex\n113  07-Similarity          27    7-5bCW_Graphing+isosceles.tex\n114  07-Similarity          27               7-6DN_Symmetry.tex\n115  07-Similarity          27               7-6HW_Symmetry.tex\n116  07-Similarity          27         7-6bCW_Tangent+mixed.tex\n117  07-Similarity          27           7-7Exam-Similarity.tex\n118  07-Similarity          27          7-7bExam-Similarity.tex\n119  07-Similarity          27          7-8DN_Exam-followup.tex\n120  07-Similarity          27  7-8HW_Right-triangle-ratios.tex\n121  07-Similarity          27         7-8bDN_Exam-followup.tex\n122  07-Similarity          27         7-8bHW_Constructions.tex\n123  07-Similarity          27          7-9CW_Constructions.tex\n124  07-Similarity          27         7-9DN_Analytic-proof.tex",
      "text/html": "<div>\n<style scoped>\n    .dataframe tbody tr th:only-of-type {\n        vertical-align: middle;\n    }\n\n    .dataframe tbody tr th {\n        vertical-align: top;\n    }\n\n    .dataframe thead th {\n        text-align: right;\n    }\n</style>\n<table border=\"1\" class=\"dataframe\">\n  <thead>\n    <tr style=\"text-align: right;\">\n      <th></th>\n      <th>unit</th>\n      <th>file_count</th>\n      <th>filename</th>\n    </tr>\n  </thead>\n  <tbody>\n    <tr>\n      <th>98</th>\n      <td>07-Similarity</td>\n      <td>27</td>\n      <td>7-10DN_Transformations.tex</td>\n    </tr>\n    <tr>\n      <th>99</th>\n      <td>07-Similarity</td>\n      <td>27</td>\n      <td>7-10bDN_Transformations.tex</td>\n    </tr>\n    <tr>\n      <th>100</th>\n      <td>07-Similarity</td>\n      <td>27</td>\n      <td>7-11bDN_Transformations.tex</td>\n    </tr>\n    <tr>\n      <th>101</th>\n      <td>07-Similarity</td>\n      <td>27</td>\n      <td>7-12DN_Transformation.tex</td>\n    </tr>\n    <tr>\n      <th>102</th>\n      <td>07-Similarity</td>\n      <td>27</td>\n      <td>7-1DN_Graphing-review.tex</td>\n    </tr>\n    <tr>\n      <th>103</th>\n      <td>07-Similarity</td>\n      <td>27</td>\n      <td>7-1HW_Similarity-ratios.tex</td>\n    </tr>\n    <tr>\n      <th>104</th>\n      <td>07-Similarity</td>\n      <td>27</td>\n      <td>7-2DN_Tangent.tex</td>\n    </tr>\n    <tr>\n      <th>105</th>\n      <td>07-Similarity</td>\n      <td>27</td>\n      <td>7-2HW_Similarity-ratios.tex</td>\n    </tr>\n    <tr>\n      <th>106</th>\n      <td>07-Similarity</td>\n      <td>27</td>\n      <td>7-2bDN_Graphing-practice.tex</td>\n    </tr>\n    <tr>\n      <th>107</th>\n      <td>07-Similarity</td>\n      <td>27</td>\n      <td>7-3DN_Tangent.tex</td>\n    </tr>\n    <tr>\n      <th>108</th>\n      <td>07-Similarity</td>\n      <td>27</td>\n      <td>7-3HW_AA-similarity.tex</td>\n    </tr>\n    <tr>\n      <th>109</th>\n      <td>07-Similarity</td>\n      <td>27</td>\n      <td>7-3bDN_Tangent.tex</td>\n    </tr>\n    <tr>\n      <th>110</th>\n      <td>07-Similarity</td>\n      <td>27</td>\n      <td>7-4bCW_Tangent.tex</td>\n    </tr>\n    <tr>\n      <th>111</th>\n      <td>07-Similarity</td>\n      <td>27</td>\n      <td>7-5DN_Similarity+tangent.tex</td>\n    </tr>\n    <tr>\n      <th>112</th>\n      <td>07-Similarity</td>\n      <td>27</td>\n      <td>7-5HW_Symmetry.tex</td>\n    </tr>\n    <tr>\n      <th>113</th>\n      <td>07-Similarity</td>\n      <td>27</td>\n      <td>7-5bCW_Graphing+isosceles.tex</td>\n    </tr>\n    <tr>\n      <th>114</th>\n      <td>07-Similarity</td>\n      <td>27</td>\n      <td>7-6DN_Symmetry.tex</td>\n    </tr>\n    <tr>\n      <th>115</th>\n      <td>07-Similarity</td>\n      <td>27</td>\n      <td>7-6HW_Symmetry.tex</td>\n    </tr>\n    <tr>\n      <th>116</th>\n      <td>07-Similarity</td>\n      <td>27</td>\n      <td>7-6bCW_Tangent+mixed.tex</td>\n    </tr>\n    <tr>\n      <th>117</th>\n      <td>07-Similarity</td>\n      <td>27</td>\n      <td>7-7Exam-Similarity.tex</td>\n    </tr>\n    <tr>\n      <th>118</th>\n      <td>07-Similarity</td>\n      <td>27</td>\n      <td>7-7bExam-Similarity.tex</td>\n    </tr>\n    <tr>\n      <th>119</th>\n      <td>07-Similarity</td>\n      <td>27</td>\n      <td>7-8DN_Exam-followup.tex</td>\n    </tr>\n    <tr>\n      <th>120</th>\n      <td>07-Similarity</td>\n      <td>27</td>\n      <td>7-8HW_Right-triangle-ratios.tex</td>\n    </tr>\n    <tr>\n      <th>121</th>\n      <td>07-Similarity</td>\n      <td>27</td>\n      <td>7-8bDN_Exam-followup.tex</td>\n    </tr>\n    <tr>\n      <th>122</th>\n      <td>07-Similarity</td>\n      <td>27</td>\n      <td>7-8bHW_Constructions.tex</td>\n    </tr>\n    <tr>\n      <th>123</th>\n      <td>07-Similarity</td>\n      <td>27</td>\n      <td>7-9CW_Constructions.tex</td>\n    </tr>\n    <tr>\n      <th>124</th>\n      <td>07-Similarity</td>\n      <td>27</td>\n      <td>7-9DN_Analytic-proof.tex</td>\n    </tr>\n  </tbody>\n</table>\n</div>"
     },
     "metadata": {},
     "execution_count": 280
    }
   ],
   "source": [
    "course_files, course_files_df = map_course_files(course_dir='/Users/chris/GitHub/course-files/Geom')\n",
    "print('dict len, type: ', len(course_files), type(course_files), '\\n df len: ', len(course_files_df), '\\n')\n",
    "course_files_df[course_files_df.unit == '07-Similarity']"
   ]
  },
  {
   "cell_type": "code",
   "execution_count": 293,
   "metadata": {
    "tags": [
     "outputPrepend"
    ]
   },
   "outputs": [
    {
     "output_type": "stream",
     "name": "stdout",
     "text": "}\n\n3 - body section. first line \n   \\begin{enumerate}\n\n4 - last line: \n \\end{document}\n\nOpened and read file: \n /Users/chris/GitHub/course-files/Geom/09-Congruence-transformations/9-3CW_SSA.tex\nlength in lines:  43\n1 - packages section. first line: \n \\documentclass[12pt, twoside]{article}\n\n2 - header section. first line: \n \\begin{document}\n\n3 - body section. first line \n   \\begin{enumerate}\n\n4 - last line: \n \\end{document}\n\nOpened and read file: \n /Users/chris/GitHub/course-files/Geom/09-Congruence-transformations/9-3DN_Composition.tex\nlength in lines:  136\n1 - packages section. first line: \n \\documentclass[12pt, twoside]{article}\n\n2 - header section. first line: \n \\begin{document}\n\n3 - body section. first line \n   \\begin{enumerate}\n\n4 - last line: \n \\end{document}\n\nOpened and read file: \n /Users/chris/GitHub/course-files/Geom/09-Congruence-transformations/9-3HW_Transformations.tex\nlength in lines:  59\n1 - packages section. first line: \n \\documentclass[12pt, twoside]{article}\n\n2 - header section. first line: \n \\begin{document}\n\n3 - body section. first line \n   \\begin{enumerate}\n\n4 - last line: \n \\end{document}\n\nOpened and read file: \n /Users/chris/GitHub/course-files/Geom/09-Congruence-transformations/9-3bDN_Composition.tex\nlength in lines:  136\n1 - packages section. first line: \n \\documentclass[12pt, twoside]{article}\n\n2 - header section. first line: \n \\begin{document}\n\n3 - body section. first line \n   \\begin{enumerate}\n\n4 - last line: \n \\end{document}\n\nOpened and read file: \n /Users/chris/GitHub/course-files/Geom/09-Congruence-transformations/9-3bHW_Transformations.tex\nlength in lines:  80\n1 - packages section. first line: \n \\documentclass[12pt, twoside]{article}\n\n2 - header section. first line: \n \\begin{document}\n\n3 - body section. first line \n   \\begin{enumerate}\n\n4 - last line: \n \\end{document}\n\nOpened and read file: \n /Users/chris/GitHub/course-files/Geom/09-Congruence-transformations/9-4CW_Triangle-congruence-proof.tex\nlength in lines:  186\n1 - packages section. first line: \n \\documentclass[12pt, twoside]{article}\n\n2 - header section. first line: \n \\begin{document}\n\n3 - body section. first line \n   \\begin{enumerate}\n\n4 - last line: \n \\end{document}\n\nOpened and read file: \n /Users/chris/GitHub/course-files/Geom/09-Congruence-transformations/9-4DN-reflection.tex\nlength in lines:  124\n1 - packages section. first line: \n \\documentclass[12pt, twoside]{article}\n\n2 - header section. first line: \n \\begin{document}\n\n3 - body section. first line \n   \\begin{enumerate}\n\n4 - last line: \n \\end{document}\n\nOpened and read file: \n /Users/chris/GitHub/course-files/Geom/09-Congruence-transformations/9-4bCW_Composition.tex\nlength in lines:  136\n1 - packages section. first line: \n \\documentclass[12pt, twoside]{article}\n\n2 - header section. first line: \n \\begin{document}\n\n3 - body section. first line \n   \\begin{enumerate}\n\n4 - last line: \n \\end{document}\n\nOpened and read file: \n /Users/chris/GitHub/course-files/Geom/09-Congruence-transformations/9-4bDN-reflection.tex\nlength in lines:  122\n1 - packages section. first line: \n \\documentclass[12pt, twoside]{article}\n\n2 - header section. first line: \n \\begin{document}\n\n3 - body section. first line \n   \\begin{enumerate}\n\n4 - last line: \n \\end{document}\n\nOpened and read file: \n /Users/chris/GitHub/course-files/Geom/09-Congruence-transformations/9-5bExam-transformations.tex\nlength in lines:  379\n1 - packages section. first line: \n \\documentclass[12pt, twoside]{article}\n\n2 - header section. first line: \n \\begin{document}\n\n3 - body section. first line \n   \\begin{enumerate}\n\n4 - last line: \n \\end{document}\n\nOpened and read file: \n /Users/chris/GitHub/course-files/Geom/09-Congruence-transformations/9-7CW-Similarity-review.tex\nlength in lines:  273\n1 - packages section. first line: \n \\documentclass[12pt, twoside]{article}\n\n2 - header section. first line: \n \\begin{document}\n\n3 - body section. first line \n   \\begin{enumerate}\n\n4 - last line: \n \\end{document}\nOpened and read file: \n /Users/chris/GitHub/course-files/Geom/09-Congruence-transformations/9-8DN-Similarity-review.tex\nlength in lines:  268\n1 - packages section. first line: \n \\documentclass[12pt, twoside]{article}\n\n2 - header section. first line: \n \\begin{document}\n\n3 - body section. first line \n   \\begin{enumerate}\n\n4 - last line: \n \\end{document}\nOpened and read file: \n /Users/chris/GitHub/course-files/Geom/09-Congruence-transformations/9-8bDN-Similarity-review.tex\nlength in lines:  237\n1 - packages section. first line: \n \\documentclass[12pt, twoside]{article}\n\n2 - header section. first line: \n \\begin{document}\n\n3 - body section. first line \n   \\begin{enumerate}\n\n4 - last line: \n \\end{document}\nOpened and read file: \n /Users/chris/GitHub/course-files/Geom/09-Congruence-transformations/9-9Exam-transformations.tex\nlength in lines:  465\n1 - packages section. first line: \n \\documentclass[12pt, twoside]{article}\n\n2 - header section. first line: \n \\begin{document}\n\n3 - body section. first line \n   \\begin{enumerate}\n\n4 - last line: \n \\end{document}\n\nOpened and read file: \n /Users/chris/GitHub/course-files/Geom/09-Congruence-transformations/9-9bExam-transformations.tex\nlength in lines:  377\n1 - packages section. first line: \n \\documentclass[12pt, twoside]{article}\n\n2 - header section. first line: \n \\begin{document}\n\n3 - body section. first line \n   \\begin{enumerate}\n\n4 - last line: \n \\end{document}\n\nOpened and read file: \n /Users/chris/GitHub/course-files/Geom/10-Trig+similarity+analytics/10-1DN_Trig.tex\nlength in lines:  122\n1 - packages section. first line: \n \\documentclass[12pt, twoside]{article}\n\n2 - header section. first line: \n \\begin{document}\n\n3 - body section. first line \n   \\begin{enumerate}\n\n4 - last line: \n \\end{document}\n\nOpened and read file: \n /Users/chris/GitHub/course-files/Geom/10-Trig+similarity+analytics/10-1bDN_Trig.tex\nlength in lines:  122\n1 - packages section. first line: \n \\documentclass[12pt, twoside]{article}\n\n2 - header section. first line: \n \\begin{document}\n\n3 - body section. first line \n   \\begin{enumerate}\n\n4 - last line: \n \\end{document}\n\nOpened and read file: \n /Users/chris/GitHub/course-files/Geom/10-Trig+similarity+analytics/10-2DN_Analytics-review.tex\nlength in lines:  116\n1 - packages section. first line: \n \\documentclass[12pt, twoside]{article}\n\n2 - header section. first line: \n \\begin{document}\n\n3 - body section. first line \n   \\begin{enumerate}\n\n4 - last line: \n \\end{document}\n\nOpened and read file: \n /Users/chris/GitHub/course-files/Geom/10-Trig+similarity+analytics/10-2bDN_Analytics-review.tex\nlength in lines:  154\n1 - packages section. first line: \n \\documentclass[12pt, twoside]{article}\n\n2 - header section. first line: \n \\begin{document}\n\n3 - body section. first line \n   \\begin{enumerate}\n\n4 - last line: \n \\end{document}\n\nOpened and read file: \n /Users/chris/GitHub/course-files/Geom/10-Trig+similarity+analytics/10-4DN_Tangent-situations.tex\nlength in lines:  101\n1 - packages section. first line: \n \\documentclass[12pt, twoside]{article}\n\n2 - header section. first line: \n \\begin{document}\n\n3 - body section. first line \n   \\begin{enumerate}\n\n4 - last line: \n \\end{document}\n\nOpened and read file: \n /Users/chris/GitHub/course-files/Geom/10-Trig+similarity+analytics/10-4bDN_Analytics-review.tex\nlength in lines:  154\n1 - packages section. first line: \n \\documentclass[12pt, twoside]{article}\n\n2 - header section. first line: \n \\begin{document}\n\n3 - body section. first line \n   \\begin{enumerate}\n\n4 - last line: \n \\end{document}\n\nOpened and read file: \n /Users/chris/GitHub/course-files/Geom/10-Trig+similarity+analytics/10-6DN_Tangent-situations.tex\nlength in lines:  101\n1 - packages section. first line: \n \\documentclass[12pt, twoside]{article}\n\n2 - header section. first line: \n \\begin{document}\n\n3 - body section. first line \n   \\begin{enumerate}\n\n4 - last line: \n \\end{document}\n\nOpened and read file: \n /Users/chris/GitHub/course-files/Geom/11-Algebra2-intro/11-1CW_Algebra-competencies.tex\nlength in lines:  145\n1 - packages section. first line: \n \\documentclass[12pt, twoside]{article}\n\n2 - header section. first line: \n \\begin{document}\n\n3 - body section. first line \n \\begin{enumerate}\n\n4 - last line: \n \\end{document}\n\nOpened and read file: \n /Users/chris/GitHub/course-files/Geom/11-Algebra2-intro/11-2HW_Literals+radicals.tex\nlength in lines:  80\n1 - packages section. first line: \n \\documentclass[12pt, twoside]{article}\n\n2 - header section. first line: \n \\begin{document}\n\n3 - body section. first line \n \\begin{enumerate}\n\n4 - last line: \n \\end{document}\n\nOpened and read file: \n /Users/chris/GitHub/course-files/Geom/11-Algebra2-intro/11-3HW_Simplify-radicals.tex\nlength in lines:  68\n1 - packages section. first line: \n \\documentclass[12pt, twoside]{article}\n\n2 - header section. first line: \n \\begin{document}\n\n3 - body section. first line \n \\begin{enumerate}\n\n4 - last line: \n \\end{document}\n\nOpened and read file: \n /Users/chris/GitHub/course-files/Geom/11-Algebra2-intro/11-4HW_Cosine+sine.tex\nlength in lines:  100\n1 - packages section. first line: \n \\documentclass[12pt, twoside]{article}\n\n2 - header section. first line: \n \\begin{document}\n\n3 - body section. first line \n \\begin{enumerate}\n\n4 - last line: \n \\end{document}\n\nOpened and read file: \n /Users/chris/GitHub/course-files/Geom/11-Algebra2-intro/11-5HW_Trig-inverses.tex\nlength in lines:  82\n1 - packages section. first line: \n \\documentclass[12pt, twoside]{article}\n\n2 - header section. first line: \n \\begin{document}\n\n3 - body section. first line \n \\begin{enumerate}\n\n4 - last line: \n \\end{document}\n\nOpened and read file: \n /Users/chris/GitHub/course-files/Geom/11-Algebra2-intro/11-6HW_Trig-radicals.tex\nlength in lines:  94\n1 - packages section. first line: \n \\documentclass[12pt, twoside]{article}\n\n2 - header section. first line: \n \\begin{document}\n\n3 - body section. first line \n \\begin{enumerate}\n\n4 - last line: \n \\end{document}\n\nOpened and read file: \n /Users/chris/GitHub/course-files/Geom/11-Algebra2-intro/11-7HW_Trig-radians.tex\nlength in lines:  95\n1 - packages section. first line: \n \\documentclass[12pt, twoside]{article}\n\n2 - header section. first line: \n \\begin{document}\n\n3 - body section. first line \n \\begin{enumerate}\n\n4 - last line: \n \\end{document}\n\nOpened and read file: \n /Users/chris/GitHub/course-files/Geom/11-Algebra2-intro/11-8HW_Reference-angles.tex\nlength in lines:  104\n1 - packages section. first line: \n \\documentclass[12pt, twoside]{article}\n\n2 - header section. first line: \n \\begin{document}\n\n3 - body section. first line \n \\begin{enumerate}\n\n4 - last line: \n \\end{document}\n\nOpened and read file: \n /Users/chris/GitHub/course-files/Geom/11-Algebra2-intro/11-Slides_Algebra-modified.tex\nlength in lines:  230\n1 - packages section. first line: \n \\documentclass{beamer}\n\n2 - header section. first line: \n \\begin{document}\n\n3 - body section. first line \n   \\begin{enumerate}\n\n4 - last line: \n \\end{document}\n\nOpened and read file: \n /Users/chris/GitHub/course-files/Geom/11-Algebra2-intro/11-Slides_Algebra.tex\nlength in lines:  412\n1 - packages section. first line: \n \\documentclass{beamer}\n\n2 - header section. first line: \n \\begin{document}\n\n3 - body section. first line \n   \\begin{enumerate}\n\n4 - last line: \n \\end{document}\n\nOpened and read file: \n /Users/chris/GitHub/course-files/Geom/Slides/00-Plan-Slides-Geom.tex\nlength in lines:  125\n1 - packages section. first line: \n \\documentclass{beamer}\n\n2 - header section. first line: \n \\begin{document}\n\n3 - body section. first line \n       \\begin{enumerate}\n\n4 - last line: \n \\end{document}\n\nOpened and read file: \n /Users/chris/GitHub/course-files/Geom/Slides/01-Slides.tex\nlength in lines:  197\n1 - packages section. first line: \n \\documentclass{beamer}\n\n2 - header section. first line: \n \\begin{document}\n\n3 - body section. first line \n   \\begin{enumerate}\n\n4 - last line: \n \\end{document}\nOpened and read file: \n /Users/chris/GitHub/course-files/Geom/Slides/02-Slides_Midpoint+distance.tex\nlength in lines:  263\n1 - packages section. first line: \n \\documentclass{beamer}\n\n2 - header section. first line: \n \\begin{document}\n\n3 - body section. first line \n     \\begin{enumerate}\n\n4 - last line: \n \\end{document}\n\nOpened and read file: \n /Users/chris/GitHub/course-files/Geom/Slides/03-Slides_Volume+angle-bisectors.tex\nlength in lines:  201\n1 - packages section. first line: \n \\documentclass{beamer}\n\n2 - header section. first line: \n \\begin{document}\n\n3 - body section. first line \n     \\begin{enumerate}\n\n4 - last line: \n \\end{document}\nOpened and read file: \n /Users/chris/GitHub/course-files/Geom/Slides/04-Slides_Transversals.tex\nlength in lines:  267\n1 - packages section. first line: \n \\documentclass{beamer}\n\n2 - header section. first line: \n \\begin{document}\n\n3 - body section. first line \n     \\begin{enumerate}\n\n4 - last line: \n \\end{document}\n\nOpened and read file: \n /Users/chris/GitHub/course-files/Geom/Slides/05-Slides_Transformations.tex\nlength in lines:  328\n1 - packages section. first line: \n \\documentclass{beamer}\n\n2 - header section. first line: \n \\begin{document}\n\n3 - body section. first line \n     \\begin{enumerate}\n\n4 - last line: \n \\end{document}\n\nOpened and read file: \n /Users/chris/GitHub/course-files/Geom/Slides/06-Slides_Analytic-geometry.tex\nlength in lines:  347\n1 - packages section. first line: \n \\documentclass{beamer}\n\n2 - header section. first line: \n \\begin{document}\n\n3 - body section. first line \n     \\begin{enumerate}\n\n4 - last line: \n \\end{document}\n\nOpened and read file: \n /Users/chris/GitHub/course-files/Geom/Slides/07-Slides_Similarity.tex\nlength in lines:  259\n1 - packages section. first line: \n \\documentclass{beamer}\n\n2 - header section. first line: \n \\begin{document}\n\n3 - body section. first line \n   \\begin{enumerate}\n\n4 - last line: \n \\end{document}\n\nOpened and read file: \n /Users/chris/GitHub/course-files/Geom/Slides/08-Slides_Area+volume.tex\nlength in lines:  295\n1 - packages section. first line: \n \\documentclass{beamer}\n\n2 - header section. first line: \n \\begin{document}\n\n3 - body section. first line \n   \\begin{enumerate}\n\n4 - last line: \n \\end{document}\n\nOpened and read file: \n /Users/chris/GitHub/course-files/Geom/Slides/09-Slides_Congruence-transformations.tex\nlength in lines:  194\n1 - packages section. first line: \n \\documentclass{beamer}\n\n2 - header section. first line: \n \\begin{document}\n\n3 - body section. first line \n \n\nmy IndexError: pop from empty list /Users/chris/GitHub/course-files/Geom/Slides/09-Slides_Congruence-transformations.tex\n4 - last line: \n \n\nOpened and read file: \n /Users/chris/GitHub/course-files/Geom/Slides/10-Slides_Trig+similarity+analytics.tex\nlength in lines:  157\n1 - packages section. first line: \n \\documentclass{beamer}\n\n2 - header section. first line: \n \\begin{document}\n\n3 - body section. first line \n \n\nmy IndexError: pop from empty list /Users/chris/GitHub/course-files/Geom/Slides/10-Slides_Trig+similarity+analytics.tex\n4 - last line: \n \n\nOpened and read file: \n /Users/chris/GitHub/course-files/Geom/Slides/11-Slides_Analytic-geom.tex\nlength in lines:  300\n1 - packages section. first line: \n \\documentclass{beamer}\n\n2 - header section. first line: \n \\begin{document}\n\n3 - body section. first line \n     \\begin{enumerate}\n\n4 - last line: \n \\end{document}\n\nOpened and read file: \n /Users/chris/GitHub/course-files/Geom/Slides/1c-Slides-Geom.tex\nlength in lines:  153\n1 - packages section. first line: \n \\documentclass{beamer}\n\n2 - header section. first line: \n \\begin{document}\n\n3 - body section. first line \n       \\begin{enumerate}\n\n4 - last line: \n \\end{document}\n\nOpened and read file: \n /Users/chris/GitHub/course-files/Geom/Slides/Plan-Geom.tex\nlength in lines:  147\n1 - packages section. first line: \n \\documentclass[12pt, twoside]{article}\n\n2 - header section. first line: \n \\begin{document}\n\n3 - body section. first line \n \\end{document}\n\nmy IndexError: pop from empty list /Users/chris/GitHub/course-files/Geom/Slides/Plan-Geom.tex\n4 - last line: \n \\end{document}\n\nOpened and read file: \n /Users/chris/GitHub/course-files/Geom/Trajectories/6_Analytic-geometry.tex\nlength in lines:  180\n1 - packages section. first line: \n \\documentclass[12pt, twoside]{article}\n\n2 - header section. first line: \n \\begin{document}\n\n3 - body section. first line \n   \\begin{enumerate}\n\n4 - last line: \n \\end{document}\n\nOpened and read file: \n /Users/chris/GitHub/course-files/Geom/Trajectories/8_Area+perimeter_circles.tex\nlength in lines:  340\n1 - packages section. first line: \n \\documentclass[12pt, twoside]{article}\n\n2 - header section. first line: \n \\begin{document}\n\n3 - body section. first line \n   \\begin{enumerate}\n\n4 - last line: \n \\end{document}\n\nOpened and read file: \n /Users/chris/GitHub/course-files/Geom/Trajectories/8_Solid-rotations+Cross-sections.tex\nlength in lines:  202\n1 - packages section. first line: \n \\documentclass[12pt, twoside]{article}\n\n2 - header section. first line: \n \\begin{document}\n\n3 - body section. first line \n  \\begin{enumerate}\n\n4 - last line: \n \\end{document}\n\nOpened and read file: \n /Users/chris/GitHub/course-files/Geom/Trajectories/8_Volumes.tex\nlength in lines:  53\n1 - packages section. first line: \n \\documentclass[12pt, twoside]{article}\n\n2 - header section. first line: \n \\begin{document}\n\n3 - body section. first line \n   \\begin{enumerate}\n\n4 - last line: \n \\end{document}\n\nOpened and read file: \n /Users/chris/GitHub/course-files/Geom/Trajectories/Algebra.tex\nlength in lines:  50\n1 - packages section. first line: \n \\documentclass[12pt, twoside]{article}\n\n2 - header section. first line: \n \\begin{document}\n\n3 - body section. first line \n   \\begin{enumerate}\n\n4 - last line: \n \\end{document}\n\nOpened and read file: \n /Users/chris/GitHub/course-files/Geom/Trajectories/Angle-pairs.tex\nlength in lines:  239\n1 - packages section. first line: \n \\documentclass[12pt, twoside]{article}\n\n2 - header section. first line: \n \\begin{document}\n\n3 - body section. first line \n   \\begin{enumerate}\n\n4 - last line: \n \\end{document}\n\nOpened and read file: \n /Users/chris/GitHub/course-files/Geom/Trajectories/Constructions.tex\nlength in lines:  185\n1 - packages section. first line: \n \\documentclass[12pt, twoside]{article}\n\n2 - header section. first line: \n \\begin{document}\n\n3 - body section. first line \n \\begin{enumerate}\n\n4 - last line: \n \\end{document}\n\nOpened and read file: \n /Users/chris/GitHub/course-files/Geom/Trajectories/Segments.tex\nlength in lines:  106\n1 - packages section. first line: \n \\documentclass[12pt, twoside]{article}\n\n2 - header section. first line: \n \\begin{document}\n\n3 - body section. first line \n \\begin{enumerate}\n\n4 - last line: \n \\end{document}\n\nOpened and read file: \n /Users/chris/GitHub/course-files/Geom/Trajectories/Transformations.tex\nlength in lines:  72\n1 - packages section. first line: \n \\documentclass[12pt, twoside]{article}\n\n2 - header section. first line: \n \\begin{document}\n\n3 - body section. first line \n   \\begin{enumerate}\n\n4 - last line: \n \\end{document}\n\nOpened and read file: \n /Users/chris/GitHub/course-files/Geom/Trajectories/Transversals.tex\nlength in lines:  97\n1 - packages section. first line: \n \\documentclass[12pt, twoside]{article}\n\n2 - header section. first line: \n \\begin{document}\n\n3 - body section. first line \n   \\begin{enumerate}\n\n4 - last line: \n \\end{document}\n\nOpened and read file: \n /Users/chris/GitHub/course-files/Geom/Trajectories/Trig.tex\nlength in lines:  55\n1 - packages section. first line: \n \\documentclass[12pt, twoside]{article}\n\n2 - header section. first line: \n \\begin{document}\n\n3 - body section. first line \n   \\begin{enumerate}\n\n4 - last line: \n \\end{document}\n\nOpened and read file: \n /Users/chris/GitHub/course-files/Geom/Trajectories/Vocabulary.tex\nlength in lines:  82\n1 - packages section. first line: \n \\documentclass[12pt, oneside]{article}\n\n2 - header section. first line: \n \\begin{document}\n\n3 - body section. first line \n \\begin{enumerate}\n\n4 - last line: \n \\end{document}\n\nTried to run parse_body on empty file\nTried to run parse_body on empty file\nTried to run parse_body on empty file\nTried to run parse_body on empty file\n"
    }
   ],
   "source": [
    "pset_df = parse_course_files(course_files_df, course_dir='/Users/chris/GitHub/course-files/Geom')"
   ]
  },
  {
   "cell_type": "code",
   "execution_count": 296,
   "metadata": {},
   "outputs": [],
   "source": [
    "problem_df = parse_problem_sets(pset_df)"
   ]
  },
  {
   "cell_type": "code",
   "execution_count": 306,
   "metadata": {
    "tags": []
   },
   "outputs": [
    {
     "output_type": "execute_result",
     "data": {
      "text/plain": "            problem_set_ID      question\nproblem_ID                              \n907                   65.0          \\n\\n\n689                   54.0          \\n\\n\n652                   49.0          \\n\\n\n254                   19.0          \\n\\n\n2629                 168.0          \\n\\n\n...                    ...           ...\n2665                 171.0  \\newpage  \\n\n2457                 160.0  \\newpage  \\n\n1643                 111.0  \\newpage  \\n\n1958                 131.0  \\newpage  \\n\n2644                 169.0  \\newpage  \\n\n\n[564 rows x 2 columns]",
      "text/html": "<div>\n<style scoped>\n    .dataframe tbody tr th:only-of-type {\n        vertical-align: middle;\n    }\n\n    .dataframe tbody tr th {\n        vertical-align: top;\n    }\n\n    .dataframe thead th {\n        text-align: right;\n    }\n</style>\n<table border=\"1\" class=\"dataframe\">\n  <thead>\n    <tr style=\"text-align: right;\">\n      <th></th>\n      <th>problem_set_ID</th>\n      <th>question</th>\n    </tr>\n    <tr>\n      <th>problem_ID</th>\n      <th></th>\n      <th></th>\n    </tr>\n  </thead>\n  <tbody>\n    <tr>\n      <th>907</th>\n      <td>65.0</td>\n      <td>\\n\\n</td>\n    </tr>\n    <tr>\n      <th>689</th>\n      <td>54.0</td>\n      <td>\\n\\n</td>\n    </tr>\n    <tr>\n      <th>652</th>\n      <td>49.0</td>\n      <td>\\n\\n</td>\n    </tr>\n    <tr>\n      <th>254</th>\n      <td>19.0</td>\n      <td>\\n\\n</td>\n    </tr>\n    <tr>\n      <th>2629</th>\n      <td>168.0</td>\n      <td>\\n\\n</td>\n    </tr>\n    <tr>\n      <th>...</th>\n      <td>...</td>\n      <td>...</td>\n    </tr>\n    <tr>\n      <th>2665</th>\n      <td>171.0</td>\n      <td>\\newpage  \\n</td>\n    </tr>\n    <tr>\n      <th>2457</th>\n      <td>160.0</td>\n      <td>\\newpage  \\n</td>\n    </tr>\n    <tr>\n      <th>1643</th>\n      <td>111.0</td>\n      <td>\\newpage  \\n</td>\n    </tr>\n    <tr>\n      <th>1958</th>\n      <td>131.0</td>\n      <td>\\newpage  \\n</td>\n    </tr>\n    <tr>\n      <th>2644</th>\n      <td>169.0</td>\n      <td>\\newpage  \\n</td>\n    </tr>\n  </tbody>\n</table>\n<p>564 rows × 2 columns</p>\n</div>"
     },
     "metadata": {},
     "execution_count": 306
    }
   ],
   "source": [
    "#pset_df.head()\n",
    "problem_df[problem_df.question.str.len() < 12].sort_values('question')"
   ]
  },
  {
   "cell_type": "code",
   "execution_count": 289,
   "metadata": {},
   "outputs": [
    {
     "output_type": "display_data",
     "data": {
      "text/plain": "                             unit  num_files\n0              00-Prior-knowledge          1\n1                        01-Intro         15\n2            02-Midpoint+distance         18\n3       03-Volume+angle-bisectors         12\n4                 04-Transversals          8\n5              05-Transformations         19\n6            06-Analytic-geometry         25\n7                   07-Similarity         27\n8                  08-Area+volume         23\n9   09-Congruence-transformations         18\n10   10-Trig+similarity+analytics          7\n11              11-Algebra2-intro         10\n12                         Slides         14\n13                   Trajectories         12",
      "text/html": "<div>\n<style scoped>\n    .dataframe tbody tr th:only-of-type {\n        vertical-align: middle;\n    }\n\n    .dataframe tbody tr th {\n        vertical-align: top;\n    }\n\n    .dataframe thead th {\n        text-align: right;\n    }\n</style>\n<table border=\"1\" class=\"dataframe\">\n  <thead>\n    <tr style=\"text-align: right;\">\n      <th></th>\n      <th>unit</th>\n      <th>num_files</th>\n    </tr>\n  </thead>\n  <tbody>\n    <tr>\n      <th>0</th>\n      <td>00-Prior-knowledge</td>\n      <td>1</td>\n    </tr>\n    <tr>\n      <th>1</th>\n      <td>01-Intro</td>\n      <td>15</td>\n    </tr>\n    <tr>\n      <th>2</th>\n      <td>02-Midpoint+distance</td>\n      <td>18</td>\n    </tr>\n    <tr>\n      <th>3</th>\n      <td>03-Volume+angle-bisectors</td>\n      <td>12</td>\n    </tr>\n    <tr>\n      <th>4</th>\n      <td>04-Transversals</td>\n      <td>8</td>\n    </tr>\n    <tr>\n      <th>5</th>\n      <td>05-Transformations</td>\n      <td>19</td>\n    </tr>\n    <tr>\n      <th>6</th>\n      <td>06-Analytic-geometry</td>\n      <td>25</td>\n    </tr>\n    <tr>\n      <th>7</th>\n      <td>07-Similarity</td>\n      <td>27</td>\n    </tr>\n    <tr>\n      <th>8</th>\n      <td>08-Area+volume</td>\n      <td>23</td>\n    </tr>\n    <tr>\n      <th>9</th>\n      <td>09-Congruence-transformations</td>\n      <td>18</td>\n    </tr>\n    <tr>\n      <th>10</th>\n      <td>10-Trig+similarity+analytics</td>\n      <td>7</td>\n    </tr>\n    <tr>\n      <th>11</th>\n      <td>11-Algebra2-intro</td>\n      <td>10</td>\n    </tr>\n    <tr>\n      <th>12</th>\n      <td>Slides</td>\n      <td>14</td>\n    </tr>\n    <tr>\n      <th>13</th>\n      <td>Trajectories</td>\n      <td>12</td>\n    </tr>\n  </tbody>\n</table>\n</div>"
     },
     "metadata": {}
    }
   ],
   "source": [
    "chapter_df = course_files_df.groupby(['unit']).filename.count().reset_index()\n",
    "chapter_df.rename(columns={'filename':'num_files'}, inplace=True)\n",
    "display(chapter_df)"
   ]
  },
  {
   "cell_type": "code",
   "execution_count": 290,
   "metadata": {},
   "outputs": [
    {
     "output_type": "execute_result",
     "data": {
      "text/plain": "209"
     },
     "metadata": {},
     "execution_count": 290
    }
   ],
   "source": [
    "chapter_df.num_files.sum()"
   ]
  },
  {
   "cell_type": "code",
   "execution_count": null,
   "metadata": {},
   "outputs": [],
   "source": []
  }
 ]
}