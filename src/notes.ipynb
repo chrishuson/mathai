{
 "metadata": {
  "language_info": {
   "codemirror_mode": {
    "name": "ipython",
    "version": 3
   },
   "file_extension": ".py",
   "mimetype": "text/x-python",
   "name": "python",
   "nbconvert_exporter": "python",
   "pygments_lexer": "ipython3",
   "version": "3.7.6-final"
  },
  "orig_nbformat": 2,
  "kernelspec": {
   "name": "python_defaultSpec_1599053025681",
   "display_name": "Python 3.7.6 64-bit ('base': conda)"
  }
 },
 "nbformat": 4,
 "nbformat_minor": 2,
 "cells": [
  {
   "cell_type": "code",
   "execution_count": 1,
   "metadata": {
    "tags": []
   },
   "outputs": [],
   "source": [
    "import os\n",
    "import sys\n",
    "import subprocess\n",
    "import pandas as pd\n",
    "import numpy as np\n",
    "from ast import literal_eval\n",
    "# os.getcwd()"
   ]
  },
  {
   "cell_type": "code",
   "execution_count": 2,
   "metadata": {
    "tags": []
   },
   "outputs": [
    {
     "output_type": "stream",
     "name": "stdout",
     "text": "Loaded dataframes: \nworksheet_files_df:\n index name:  None \ncolumns:  Index(['Unnamed: 0', 'unit', 'file_count', 'filename'], dtype='object') \n149 rows:  149 \n\nproblem_sets_df:\n index name:  problem_set_ID \ncolumns:  Index(['filename', 'head', 'body', 'problems_list', 'problem_count',\n       'problem_IDs'],\n      dtype='object') \n149 rows:  149 \n\nproblems_df:\n index name:  problem_ID \ncolumns:  Index(['problem_set_ID', 'question'], dtype='object') \n1855 rows:  1855 \n\nstandards_df:\n index name:  None \ncolumns:  Index(['course', 'chapter', 'topic', 'ccss_ID'], dtype='object') \n314 rows:  314 \n\nstandards_desc_df:\n index name:  ccss_ID \ncolumns:  Index(['description'], dtype='object') \n131 rows:  131 \n\n"
    }
   ],
   "source": [
    "from main import map_course_files\n",
    "from main import parse_course_files\n",
    "from main import parse_problem_sets\n",
    "#from main import print_problems_df\n",
    "#from main import print_problem_set_df\n",
    "from main import build_pset_df_tex\n",
    "from main import build_problem_df_tex"
   ]
  },
  {
   "cell_type": "markdown",
   "metadata": {},
   "source": [
    "## saving and loading problem and problem set dataframes"
   ]
  },
  {
   "cell_type": "code",
   "execution_count": 127,
   "metadata": {},
   "outputs": [],
   "source": [
    "problem_df.to_csv('/Users/chris/GitHub/mathai/db/problem_df.csv')\n",
    "pset_df.to_csv('/Users/chris/GitHub/mathai/db/pset_df.csv')"
   ]
  },
  {
   "cell_type": "code",
   "execution_count": 3,
   "metadata": {
    "tags": []
   },
   "outputs": [
    {
     "output_type": "stream",
     "name": "stdout",
     "text": "problem_df:  2351 problem_ID Index(['problem_set_ID', 'question', 'file', 'q_len'], dtype='object')\npset_df:  172 problem_set_ID Index(['unit', 'file', 'problem_count', 'head', 'body', 'problems_list',\n       'path', 'filename', 'problem_IDs'],\n      dtype='object')\n"
    }
   ],
   "source": [
    "problem_df = pd.read_csv('../db/problem_df.csv', index_col='problem_ID')\n",
    "cols_into_lists = {'problem_IDs':literal_eval, 'head':literal_eval, 'body':literal_eval, 'problems_list':literal_eval}\n",
    "pset_df = pd.read_csv('../db/pset_df.csv', index_col='problem_set_ID', converters=cols_into_lists)\n",
    "print('problem_df: ', len(problem_df), problem_df.index.name, problem_df.columns)\n",
    "print('pset_df: ', len(pset_df), pset_df.index.name, pset_df.columns)"
   ]
  },
  {
   "cell_type": "markdown",
   "metadata": {},
   "source": [
    "## Printing Problem Sets"
   ]
  },
  {
   "cell_type": "code",
   "execution_count": 20,
   "metadata": {},
   "outputs": [
    {
     "output_type": "execute_result",
     "data": {
      "text/plain": "unit                                          02-Midpoint+distance\nfile                                       2-8DN_Constructions.tex\nproblem_count                                                    4\nhead             [\\begin{document}\\n,   \\subsubsection*{2.8 Do ...\nbody             [    \\item Complete the construction of an equ...\nproblems_list    [Complete the construction of an equilateral t...\npath                         /Users/chris/GitHub/course-files/Geom\nfilename         /Users/chris/GitHub/course-files/Geom/02-Midpo...\nproblem_IDs                                   [351, 352, 353, 354]\nName: 30, dtype: object"
     },
     "metadata": {},
     "execution_count": 20
    }
   ],
   "source": [
    "pset_df.loc[pset_ID]"
   ]
  },
  {
   "cell_type": "code",
   "execution_count": 19,
   "metadata": {},
   "outputs": [
    {
     "output_type": "execute_result",
     "data": {
      "text/plain": "            problem_set_ID                                           question  \\\nproblem_ID                                                                      \n351                     30  Complete the construction of an equilateral tr...   \n352                     30                                         \\newpage\\n   \n353                     30                                     $x^2+6x+5=0$\\n   \n354                     30             $x^2+5x=14$\\n    \\end{multicols}\\n\\n\\n   \n\n                               file  q_len  \nproblem_ID                                  \n351         2-8DN_Constructions.tex    684  \n352         2-8DN_Constructions.tex     11  \n353         2-8DN_Constructions.tex     13  \n354         2-8DN_Constructions.tex     34  ",
      "text/html": "<div>\n<style scoped>\n    .dataframe tbody tr th:only-of-type {\n        vertical-align: middle;\n    }\n\n    .dataframe tbody tr th {\n        vertical-align: top;\n    }\n\n    .dataframe thead th {\n        text-align: right;\n    }\n</style>\n<table border=\"1\" class=\"dataframe\">\n  <thead>\n    <tr style=\"text-align: right;\">\n      <th></th>\n      <th>problem_set_ID</th>\n      <th>question</th>\n      <th>file</th>\n      <th>q_len</th>\n    </tr>\n    <tr>\n      <th>problem_ID</th>\n      <th></th>\n      <th></th>\n      <th></th>\n      <th></th>\n    </tr>\n  </thead>\n  <tbody>\n    <tr>\n      <th>351</th>\n      <td>30</td>\n      <td>Complete the construction of an equilateral tr...</td>\n      <td>2-8DN_Constructions.tex</td>\n      <td>684</td>\n    </tr>\n    <tr>\n      <th>352</th>\n      <td>30</td>\n      <td>\\newpage\\n</td>\n      <td>2-8DN_Constructions.tex</td>\n      <td>11</td>\n    </tr>\n    <tr>\n      <th>353</th>\n      <td>30</td>\n      <td>$x^2+6x+5=0$\\n</td>\n      <td>2-8DN_Constructions.tex</td>\n      <td>13</td>\n    </tr>\n    <tr>\n      <th>354</th>\n      <td>30</td>\n      <td>$x^2+5x=14$\\n    \\end{multicols}\\n\\n\\n</td>\n      <td>2-8DN_Constructions.tex</td>\n      <td>34</td>\n    </tr>\n  </tbody>\n</table>\n</div>"
     },
     "metadata": {},
     "execution_count": 19
    }
   ],
   "source": [
    "pset_ID = 30\n",
    "p_df = problem_df[problem_df.problem_set_ID == pset_ID]\n",
    "p_df"
   ]
  },
  {
   "cell_type": "code",
   "execution_count": 23,
   "metadata": {},
   "outputs": [],
   "source": [
    "filename = pset_df.loc[pset_ID, 'file'][:-4]\n",
    "title = (filename, 'pset ID: ' + str(pset_ID), 'find dangling end-multicols') #no underbars\n",
    "build_problem_df_tex(p_df, filename, title)"
   ]
  },
  {
   "cell_type": "code",
   "execution_count": 24,
   "metadata": {},
   "outputs": [
    {
     "output_type": "execute_result",
     "data": {
      "text/plain": "256"
     },
     "metadata": {},
     "execution_count": 24
    }
   ],
   "source": [
    "os.system('pdflatex ../out/' + 'filename' + '.tex')"
   ]
  },
  {
   "cell_type": "code",
   "execution_count": 7,
   "metadata": {
    "tags": []
   },
   "outputs": [
    {
     "output_type": "execute_result",
     "data": {
      "text/plain": "                             filename                          unit\npset_ID                                                            \n170      10-4bDN_Analytics-review.tex  10-Trig+similarity+analytics\n71              5-9bDN_Multi-step.tex            05-Transformations\n75         6-11DN_Transformations.tex          06-Analytic-geometry",
      "text/html": "<div>\n<style scoped>\n    .dataframe tbody tr th:only-of-type {\n        vertical-align: middle;\n    }\n\n    .dataframe tbody tr th {\n        vertical-align: top;\n    }\n\n    .dataframe thead th {\n        text-align: right;\n    }\n</style>\n<table border=\"1\" class=\"dataframe\">\n  <thead>\n    <tr style=\"text-align: right;\">\n      <th></th>\n      <th>filename</th>\n      <th>unit</th>\n    </tr>\n    <tr>\n      <th>pset_ID</th>\n      <th></th>\n      <th></th>\n    </tr>\n  </thead>\n  <tbody>\n    <tr>\n      <th>170</th>\n      <td>10-4bDN_Analytics-review.tex</td>\n      <td>10-Trig+similarity+analytics</td>\n    </tr>\n    <tr>\n      <th>71</th>\n      <td>5-9bDN_Multi-step.tex</td>\n      <td>05-Transformations</td>\n    </tr>\n    <tr>\n      <th>75</th>\n      <td>6-11DN_Transformations.tex</td>\n      <td>06-Analytic-geometry</td>\n    </tr>\n  </tbody>\n</table>\n</div>"
     },
     "metadata": {},
     "execution_count": 7
    }
   ],
   "source": [
    "out_file_df = build_pset_df_tex(pset_df.loc[[170, 71, 75]], problem_df)\n",
    "out_file_df"
   ]
  },
  {
   "cell_type": "code",
   "execution_count": 8,
   "metadata": {
    "tags": []
   },
   "outputs": [
    {
     "output_type": "stream",
     "name": "stdout",
     "text": "pdflatex 10-4bDN_Analytics-review.tex\npdflatex 5-9bDN_Multi-step.tex\npdflatex 6-11DN_Transformations.tex\n"
    }
   ],
   "source": [
    "for file in out_file_df.filename:\n",
    "    print('pdflatex ' + file)\n",
    "    os.system('pdflatex ../out/' + file)"
   ]
  },
  {
   "cell_type": "code",
   "execution_count": null,
   "metadata": {},
   "outputs": [],
   "source": []
  },
  {
   "cell_type": "code",
   "execution_count": 26,
   "metadata": {
    "tags": []
   },
   "outputs": [
    {
     "output_type": "stream",
     "name": "stdout",
     "text": "problem_set_ID                                           question  \\\nproblem_ID                                                                      \n2094                   153  A transformation is applied to a triangle, $\\t...   \n2095                   153  Determine and state the transformation mapping...   \n2096                   153  First reflect the trapezoid $BECA$ across the ...   \n2097                   153                                         \\newpage\\n   \n2098                   153  Two transformations have been applied to a tri...   \n2099                   153  The quadrilateral $ROCK$ undergoes two transfo...   \n\n                              file  q_len  \nproblem_ID                                 \n2094        9-3bDN_Composition.tex   1104  \n2095        9-3bDN_Composition.tex    674  \n2096        9-3bDN_Composition.tex    577  \n2097        9-3bDN_Composition.tex      9  \n2098        9-3bDN_Composition.tex    948  \n2099        9-3bDN_Composition.tex    905  \n            problem_set_ID                                           question  \\\nproblem_ID                                                                      \n2100                   154  Apply the translation $(x,y) \\rightarrow (x-2,...   \n2101                   154  What is the image of $B(2,4)$ under a reflecti...   \n2102                   154  State the translation that would map $C(-3,1)$...   \n2103                   154                                         \\newpage\\n   \n2104                   154  Given $D(1,9) \\rightarrow D'(4,3)$. Find the i...   \n2105                   154  The image of triangle $ABC$ after a translatio...   \n2106                   154  On the graph below, draw $\\overline{AB}$, with...   \n\n                                  file  q_len  \nproblem_ID                                     \n2100        9-3bHW_Transformations.tex    333  \n2101        9-3bHW_Transformations.tex    340  \n2102        9-3bHW_Transformations.tex    333  \n2103        9-3bHW_Transformations.tex      9  \n2104        9-3bHW_Transformations.tex    357  \n2105        9-3bHW_Transformations.tex    187  \n2106        9-3bHW_Transformations.tex    454  \n            problem_set_ID                                           question  \\\nproblem_ID                                                                      \n2107                   155  Given $\\triangle ABC$ and $\\triangle EFG$ with...   \n2108                   155  Two parallel lines intersect a transversal,  $...   \n2109                   155                                         \\newpage\\n   \n2110                   155  Given $\\triangle ABC$ and $\\triangle EFG$ with...   \n2111                   155  Given $\\triangle ABP$ and $\\triangle JKP$ with...   \n2112                   155                                         \\newpage\\n   \n2113                   155  List of theorem/situations for $\\triangle \\con...   \n\n                                           file  q_len  \nproblem_ID                                              \n2107        9-4CW_Triangle-congruence-proof.tex   1297  \n2108        9-4CW_Triangle-congruence-proof.tex   1858  \n2109        9-4CW_Triangle-congruence-proof.tex      9  \n2110        9-4CW_Triangle-congruence-proof.tex   1279  \n2111        9-4CW_Triangle-congruence-proof.tex   1110  \n2112        9-4CW_Triangle-congruence-proof.tex      9  \n2113        9-4CW_Triangle-congruence-proof.tex    423  \n            problem_set_ID                                           question  \\\nproblem_ID                                                                      \n2114                   156  Which of the following would map $\\triangle CA...   \n2115                   156  Draw the line of reflection used to map $\\tria...   \n2116                   156  Draw the line of reflection for each diagram b...   \n2117                   156                                         \\newpage\\n   \n2118                   156  Given two parallel lines are intersected by a ...   \n2119                   156  In the diagram above, the point $M$ bisects $\\...   \n2120                   156  Given two vertical angles, $m \\angle 1 = 5x+9$...   \n\n                            file  q_len  \nproblem_ID                               \n2114        9-4DN-reflection.tex   1131  \n2115        9-4DN-reflection.tex    625  \n2116        9-4DN-reflection.tex    755  \n2117        9-4DN-reflection.tex      9  \n2118        9-4DN-reflection.tex    724  \n2119        9-4DN-reflection.tex     97  \n2120        9-4DN-reflection.tex    405  \n            problem_set_ID                                           question  \\\nproblem_ID                                                                      \n2121                   157  A transformation is applied to a triangle, $\\t...   \n2122                   157  Determine and state the transformation mapping...   \n2123                   157  First reflect the trapezoid $BECA$ across the ...   \n2124                   157                                         \\newpage\\n   \n2125                   157  Two transformations have been applied to a tri...   \n2126                   157  The quadrilateral $ROCK$ undergoes two transfo...   \n\n                              file  q_len  \nproblem_ID                                 \n2121        9-4bCW_Composition.tex   1080  \n2122        9-4bCW_Composition.tex    674  \n2123        9-4bCW_Composition.tex    580  \n2124        9-4bCW_Composition.tex      9  \n2125        9-4bCW_Composition.tex    944  \n2126        9-4bCW_Composition.tex    905  \n            problem_set_ID                                           question  \\\nproblem_ID                                                                      \n2127                   158  Which of the following would map $\\triangle CA...   \n2128                   158  Draw the line of reflection used to map $\\tria...   \n2129                   158  Draw the line of reflection for each diagram b...   \n2130                   158                                         \\newpage\\n   \n2131                   158  Determine and state the sequence of transfroma...   \n\n                             file  q_len  \nproblem_ID                                \n2127        9-4bDN-reflection.tex   1131  \n2128        9-4bDN-reflection.tex    625  \n2129        9-4bDN-reflection.tex    755  \n2130        9-4bDN-reflection.tex      9  \n2131        9-4bDN-reflection.tex    890  \n            problem_set_ID                                           question  \\\nproblem_ID                                                                      \n2132                   159  Slide $\\triangle ABC$ to the left four and up ...   \n2133                   159  Apply the translation $(x,y) \\rightarrow (x-3,...   \n2134                   159  On the axes below, graph the point $N(-3,2)$ a...   \n2135                   159                                         \\newpage\\n   \n2136                   159  Identify the transformation that maps $\\triang...   \n2137                   159  State the translation that would map $Q(4,3)$ ...   \n2138                   159  On the set of axes below, $\\triangle ABC \\cong...   \n2139                   159                                         \\newpage\\n   \n2140                   159  Triangle $A'B'C'$ is the image of triangle $AB...   \n2141                   159  Rotate $\\triangle JKL$ $90^\\circ$ counterclock...   \n2142                   159  Draw the line of reflection that would map $\\t...   \n2143                   159                                         \\newpage\\n   \n2144                   159  On the axes below, plot the point $A(-4,-1)$ a...   \n2145                   159  The image of triangle $ABC$ after a translatio...   \n2146                   159  Determine and state the transformation mapping...   \n2147                   159                                         \\newpage\\n   \n2148                   159  State the translation that would map $C(-4,0)$...   \n2149                   159  Two transformations have been applied to a tri...   \n2150                   159  What are the coordinates of the image of $B(2,...   \n2151                   159                                         \\newpage\\n   \n2152                   159  Which of the following would map $\\triangle CA...   \n2153                   159  First reflect the trapezoid $BECA$ across the ...   \n2154                   159  Draw the line of reflection for quadrilaterals...   \n2155                   159                                         \\newpage\\n   \n2156                   159  The quadrilateral $ROCK$ undergoes rigid motio...   \n2157                   159  The quadrilateral $MATH$ is mapped to $M'A'T'H...   \n2158                   159  What are the coordinates of the image of $C(4,...   \n2159                   159                                         \\newpage\\n   \n2160                   159  Given $\\triangle WIN \\cong \\triangle W'I'N'$. ...   \n2161                   159  Determine and state the sequence of transfroma...   \n2162                   159  Determine and state the transformation mapping...   \n\n                                    file  q_len  \nproblem_ID                                       \n2132        9-5bExam-transformations.tex    525  \n2133        9-5bExam-transformations.tex     93  \n2134        9-5bExam-transformations.tex    426  \n2135        9-5bExam-transformations.tex      9  \n2136        9-5bExam-transformations.tex    641  \n2137        9-5bExam-transformations.tex     80  \n2138        9-5bExam-transformations.tex    687  \n2139        9-5bExam-transformations.tex      9  \n2140        9-5bExam-transformations.tex    177  \n2141        9-5bExam-transformations.tex    540  \n2142        9-5bExam-transformations.tex    613  \n2143        9-5bExam-transformations.tex      9  \n2144        9-5bExam-transformations.tex    427  \n2145        9-5bExam-transformations.tex    189  \n2146        9-5bExam-transformations.tex    623  \n2147        9-5bExam-transformations.tex      9  \n2148        9-5bExam-transformations.tex    374  \n2149        9-5bExam-transformations.tex    893  \n2150        9-5bExam-transformations.tex    511  \n2151        9-5bExam-transformations.tex      9  \n2152        9-5bExam-transformations.tex   1105  \n2153        9-5bExam-transformations.tex    605  \n2154        9-5bExam-transformations.tex    452  \n2155        9-5bExam-transformations.tex      9  \n2156        9-5bExam-transformations.tex    898  \n2157        9-5bExam-transformations.tex    858  \n2158        9-5bExam-transformations.tex    557  \n2159        9-5bExam-transformations.tex      9  \n2160        9-5bExam-transformations.tex    664  \n2161        9-5bExam-transformations.tex    706  \n2162        9-5bExam-transformations.tex    639  \n            problem_set_ID                                           question  \\\nproblem_ID                                                                      \n2163                   160  Find the image of $P(1,-4)$ after the translat...   \n2164                   160  Given $\\triangle ABC \\sim \\triangle DEF$. $m\\a...   \n2165                   160  In the diagram of $\\triangle ABC$, $D$ is a po...   \n2166                   160  \\begin{enumerate}[itemsep=1.5cm]\\n    \\item In...   \n2167                   160                                         \\newpage\\n   \n2168                   160  Given $\\triangle ABP \\sim \\triangle JKP$ as sh...   \n2169                   160  A dilation centered at the origin with scale f...   \n2170                   160  A translation maps $N(-2, 7) \\rightarrow N'(-4...   \n2171                   160                                         \\newpage\\n   \n2172                   160  The vertices of $\\triangle JKL$ have the coord...   \n2173                   160  A dilation centered at $A$ maps $\\triangle ABC...   \n2174                   160                                         \\newpage\\n   \n2175                   160  The line $\\overleftrightarrow{AB}$ has the equ...   \n2176                   160  The diagram below shows $\\triangle ABC$, with ...   \n2177                   160  In the diagram below, the chords $\\overline{AE...   \n2178                   160                                         \\newpage\\n   \n2179                   160  What transformation or series of transformatio...   \n2180                   160  Reflect $\\triangle ABC$ over the $y$-axis. Mak...   \n2181                   160                                         \\newpage\\n   \n2182                   160  Rotate $\\triangle ABC$ $90^\\circ$ counterclock...   \n2183                   160  The $\\triangle ABC$ is reflected across $l$ to...   \n2184                   160                                         \\newpage\\n   \n2185                   160  In this problem use the following theorem (cop...   \n\n                                   file  q_len  \nproblem_ID                                      \n2163        9-7CW-Similarity-review.tex     99  \n2164        9-7CW-Similarity-review.tex    141  \n2165        9-7CW-Similarity-review.tex    617  \n2166        9-7CW-Similarity-review.tex    758  \n2167        9-7CW-Similarity-review.tex      9  \n2168        9-7CW-Similarity-review.tex    459  \n2169        9-7CW-Similarity-review.tex    914  \n2170        9-7CW-Similarity-review.tex    118  \n2171        9-7CW-Similarity-review.tex      9  \n2172        9-7CW-Similarity-review.tex    882  \n2173        9-7CW-Similarity-review.tex    954  \n2174        9-7CW-Similarity-review.tex      9  \n2175        9-7CW-Similarity-review.tex    876  \n2176        9-7CW-Similarity-review.tex    717  \n2177        9-7CW-Similarity-review.tex    538  \n2178        9-7CW-Similarity-review.tex      9  \n2179        9-7CW-Similarity-review.tex    693  \n2180        9-7CW-Similarity-review.tex    510  \n2181        9-7CW-Similarity-review.tex      9  \n2182        9-7CW-Similarity-review.tex    762  \n2183        9-7CW-Similarity-review.tex    585  \n2184        9-7CW-Similarity-review.tex      9  \n2185        9-7CW-Similarity-review.tex   1028  \n"
    }
   ],
   "source": [
    "for x in range(153, 161):\n",
    "    print(problem_df[problem_df.problem_set_ID == x].sort_index())"
   ]
  },
  {
   "cell_type": "code",
   "execution_count": 13,
   "metadata": {
    "tags": []
   },
   "outputs": [
    {
     "output_type": "stream",
     "name": "stdout",
     "text": "problem_ID \n Index(['problem_set_ID', 'question', 'file', 'q_len'], dtype='object') \n 2351\n"
    }
   ],
   "source": [
    "print(problem_df.index.name, '\\n', problem_df.columns, '\\n', len(problem_df))"
   ]
  },
  {
   "cell_type": "code",
   "execution_count": null,
   "metadata": {},
   "outputs": [],
   "source": []
  },
  {
   "cell_type": "code",
   "execution_count": 76,
   "metadata": {
    "tags": []
   },
   "outputs": [
    {
     "output_type": "stream",
     "name": "stdout",
     "text": "Num of newpage *:  496\nNum of >= triples:  204\nNum of doubles ~ :  416\n"
    }
   ],
   "source": [
    "# DUPES\n",
    "print('Num of newpage * : ',\n",
    "    problem_df.groupby('question').file.count().sort_values().iloc[-4:].sum())\n",
    "print('Num of >= triples: ',\n",
    "    problem_df.groupby('question').file.count().sort_values().iloc[-67:-4].sum())\n",
    "print('Num of doubles ~ : ',\n",
    "    problem_df.groupby('question').file.count().sort_values().iloc[-275:-67].sum())"
   ]
  },
  {
   "cell_type": "code",
   "execution_count": 135,
   "metadata": {},
   "outputs": [
    {
     "output_type": "execute_result",
     "data": {
      "text/plain": "            problem_set_ID                                           question  \\\nproblem_ID                                                                      \n2346                   171  What is the equation of a line through $(-7,10...   \n2347                   171  What is an equation of the perpendicular bisec...   \n2348                   171                                         \\newpage\\n   \n2349                   171  $\\triangle ABC$ is shown with $m\\angle C=90^\\c...   \n2350                   171  The following diagram shows a pole BT 1.6 m ta...   \n\n                                     file  q_len  \nproblem_ID                                        \n2346        10-6DN_Tangent-situations.tex    104  \n2347        10-6DN_Tangent-situations.tex    113  \n2348        10-6DN_Tangent-situations.tex      9  \n2349        10-6DN_Tangent-situations.tex    745  \n2350        10-6DN_Tangent-situations.tex    885  ",
      "text/html": "<div>\n<style scoped>\n    .dataframe tbody tr th:only-of-type {\n        vertical-align: middle;\n    }\n\n    .dataframe tbody tr th {\n        vertical-align: top;\n    }\n\n    .dataframe thead th {\n        text-align: right;\n    }\n</style>\n<table border=\"1\" class=\"dataframe\">\n  <thead>\n    <tr style=\"text-align: right;\">\n      <th></th>\n      <th>problem_set_ID</th>\n      <th>question</th>\n      <th>file</th>\n      <th>q_len</th>\n    </tr>\n    <tr>\n      <th>problem_ID</th>\n      <th></th>\n      <th></th>\n      <th></th>\n      <th></th>\n    </tr>\n  </thead>\n  <tbody>\n    <tr>\n      <th>2346</th>\n      <td>171</td>\n      <td>What is the equation of a line through $(-7,10...</td>\n      <td>10-6DN_Tangent-situations.tex</td>\n      <td>104</td>\n    </tr>\n    <tr>\n      <th>2347</th>\n      <td>171</td>\n      <td>What is an equation of the perpendicular bisec...</td>\n      <td>10-6DN_Tangent-situations.tex</td>\n      <td>113</td>\n    </tr>\n    <tr>\n      <th>2348</th>\n      <td>171</td>\n      <td>\\newpage\\n</td>\n      <td>10-6DN_Tangent-situations.tex</td>\n      <td>9</td>\n    </tr>\n    <tr>\n      <th>2349</th>\n      <td>171</td>\n      <td>$\\triangle ABC$ is shown with $m\\angle C=90^\\c...</td>\n      <td>10-6DN_Tangent-situations.tex</td>\n      <td>745</td>\n    </tr>\n    <tr>\n      <th>2350</th>\n      <td>171</td>\n      <td>The following diagram shows a pole BT 1.6 m ta...</td>\n      <td>10-6DN_Tangent-situations.tex</td>\n      <td>885</td>\n    </tr>\n  </tbody>\n</table>\n</div>"
     },
     "metadata": {},
     "execution_count": 135
    }
   ],
   "source": [
    "problem_df.tail(5)"
   ]
  },
  {
   "cell_type": "markdown",
   "metadata": {},
   "source": [
    "## Reinitialize dfs from course files"
   ]
  },
  {
   "cell_type": "code",
   "execution_count": 3,
   "metadata": {
    "tags": []
   },
   "outputs": [
    {
     "output_type": "stream",
     "name": "stdout",
     "text": "dict len, type:  13 <class 'dict'> \n df len:  208 \n\n"
    },
    {
     "output_type": "execute_result",
     "data": {
      "text/plain": "array(['01-Intro', '02-Midpoint+distance', '03-Volume+angle-bisectors',\n       '04-Transversals', '05-Transformations', '06-Analytic-geometry',\n       '07-Similarity', '08-Area+volume', '09-Congruence-transformations',\n       '10-Trig+similarity+analytics', '11-Algebra2-intro', 'Slides',\n       'Trajectories'], dtype=object)"
     },
     "metadata": {},
     "execution_count": 3
    }
   ],
   "source": [
    "course_files, course_file_df = map_course_files(course_dir='/Users/chris/GitHub/course-files/Geom')\n",
    "print('dict len, type: ', len(course_files), type(course_files), '\\n df len: ', len(course_file_df), '\\n')\n",
    "course_file_df.unit.unique()"
   ]
  },
  {
   "cell_type": "code",
   "execution_count": 4,
   "metadata": {},
   "outputs": [],
   "source": [
    "drop_units = ['11-Algebra2-intro', 'Slides', 'Trajectories']\n",
    "for unit in drop_units:\n",
    "    course_file_df.drop(course_file_df[course_file_df.unit == unit].index, inplace=True)\n",
    "#course_file_df"
   ]
  },
  {
   "cell_type": "code",
   "execution_count": 5,
   "metadata": {
    "tags": []
   },
   "outputs": [
    {
     "output_type": "execute_result",
     "data": {
      "text/plain": "                    unit                              file  problem_count  \\\nproblem_set_ID                                                              \n0               01-Intro             1-1CW_Measurement.tex              8   \n1               01-Intro         1-1DNQ_Distance+slope.tex              4   \n2               01-Intro                 1-1DN_Algebra.tex              7   \n3               01-Intro                 1-1HW_Algebra.tex              8   \n4               01-Intro     1-3DN_Function-intercepts.tex              6   \n5               01-Intro    1-3HW_Equilateral-triangle.tex             11   \n6               01-Intro                   1-4HW-Intro.tex            115   \n7               01-Intro        1-4HW_Segment-addition.tex             11   \n8               01-Intro       1-5CW_Angle-terminology.tex              8   \n9               01-Intro  1-5HW_Pretest-segments-intro.tex             17   \n10              01-Intro             1-6DN_Angle-pairs.tex              6   \n11              01-Intro             1-6HW_Angle-pairs.tex              6   \n12              01-Intro                 1-7Exam-Intro.tex             25   \n13              01-Intro           1-7Exam-corrections.tex             23   \n14              01-Intro                 1-7Exam-spicy.tex              7   \n15              01-Intro            1-7HW_Calculations.tex              8   \n\n                                                             head  \\\nproblem_set_ID                                                      \n0               [\\begin{document}\\n, \\subsubsection*{1-1 Class...   \n1               [\\begin{document}\\n, \\subsubsection*{0.1 Quiz:...   \n2               [\\begin{document}\\n, \\subsubsection*{1-1 Do No...   \n3               [\\begin{document}\\n, \\subsubsection*{1-1 Homew...   \n4               [\\begin{document}\\n, \\subsubsection*{1-3 Do No...   \n5               [\\begin{document}\\n, \\subsubsection*{Homework ...   \n6               [\\begin{document}\\n, \\subsubsection*{Quiz Corr...   \n7               [\\begin{document}\\n, \\subsubsection*{Homework ...   \n8               [\\begin{document}\\n, \\subsubsection*{Classwork...   \n9               [\\begin{document}\\n, \\subsubsection*{1-8 Homew...   \n10              [\\begin{document}\\n, \\subsubsection*{1.6 Do No...   \n11              [\\begin{document}\\n, \\subsubsection*{1.6 Homew...   \n12              [\\begin{document}\\n,   \\subsubsection*{1.7 Exa...   \n13              [\\begin{document}\\n,   \\subsubsection*{2.1 Do ...   \n14              [\\begin{document}\\n, \\subsubsection*{1.7 Exam:...   \n15              [\\begin{document}\\n, \\subsubsection*{1.7 Homew...   \n\n                                                             body  \\\nproblem_set_ID                                                      \n0               [\\n,   \\item Given the line segment $\\overline...   \n1               [\\n,   \\item Write down the slope and $y$-inte...   \n2               [\\n, \\n,   \\item In the following two problems...   \n3               [\\n, \\n,   \\item In the following two problems...   \n4               [  \\item I have a compass, ruler, protractor, ...   \n5               [\\n,     \\item Construct an equilateral triang...   \n6               [  \\item The points where a line segment begin...   \n7               [    \\item I have a compass, ruler, protractor...   \n8               [    \\item I have a compass, ruler, protractor...   \n9               [  \\item Points that are all located on the sa...   \n10              [\\n,   \\item Complete the construction of an e...   \n11              [\\n,   \\item Points that are all located on th...   \n12              [\\n,   \\item I have a calculator. (circle one)...   \n13              [  \\item Points that are all located on the sa...   \n14              [\\n,   \\item Given $\\overline{ABC}$, $AB=4$, a...   \n15              [\\n,   \\item Given $\\overline{ABC}$, $AB=84$, ...   \n\n                                                    problems_list  \\\nproblem_set_ID                                                      \n0               [Given the line segment $\\overline{PQ}$ shown ...   \n1               [Write down the slope and $y$-intercept of eac...   \n2               [In the following two problems, solve for the ...   \n3               [In the following two problems, solve for the ...   \n4               [I have a compass, ruler, protractor, notebook...   \n5               [Construct an equilateral triangle with $\\over...   \n6               [The points where a line segment begins and en...   \n7               [I have a compass, ruler, protractor, notebook...   \n8               [I have a compass, ruler, protractor, notebook...   \n9               [Points that are all located on the same line ...   \n10              [Complete the construction of an equilateral t...   \n11              [Points that are all located on the same line ...   \n12              [I have a calculator. (circle one). Yes \\qquad...   \n13              [Points that are all located on the same line ...   \n14              [Given $\\overline{ABC}$, $AB=4$, and $AC=25$.\\...   \n15              [Given $\\overline{ABC}$, $AB=84$, and $AC=116$...   \n\n                                                 path  \\\nproblem_set_ID                                          \n0               /Users/chris/GitHub/course-files/Geom   \n1               /Users/chris/GitHub/course-files/Geom   \n2               /Users/chris/GitHub/course-files/Geom   \n3               /Users/chris/GitHub/course-files/Geom   \n4               /Users/chris/GitHub/course-files/Geom   \n5               /Users/chris/GitHub/course-files/Geom   \n6               /Users/chris/GitHub/course-files/Geom   \n7               /Users/chris/GitHub/course-files/Geom   \n8               /Users/chris/GitHub/course-files/Geom   \n9               /Users/chris/GitHub/course-files/Geom   \n10              /Users/chris/GitHub/course-files/Geom   \n11              /Users/chris/GitHub/course-files/Geom   \n12              /Users/chris/GitHub/course-files/Geom   \n13              /Users/chris/GitHub/course-files/Geom   \n14              /Users/chris/GitHub/course-files/Geom   \n15              /Users/chris/GitHub/course-files/Geom   \n\n                                                         filename  \nproblem_set_ID                                                     \n0               /Users/chris/GitHub/course-files/Geom/01-Intro...  \n1               /Users/chris/GitHub/course-files/Geom/01-Intro...  \n2               /Users/chris/GitHub/course-files/Geom/01-Intro...  \n3               /Users/chris/GitHub/course-files/Geom/01-Intro...  \n4               /Users/chris/GitHub/course-files/Geom/01-Intro...  \n5               /Users/chris/GitHub/course-files/Geom/01-Intro...  \n6               /Users/chris/GitHub/course-files/Geom/01-Intro...  \n7               /Users/chris/GitHub/course-files/Geom/01-Intro...  \n8               /Users/chris/GitHub/course-files/Geom/01-Intro...  \n9               /Users/chris/GitHub/course-files/Geom/01-Intro...  \n10              /Users/chris/GitHub/course-files/Geom/01-Intro...  \n11              /Users/chris/GitHub/course-files/Geom/01-Intro...  \n12              /Users/chris/GitHub/course-files/Geom/01-Intro...  \n13              /Users/chris/GitHub/course-files/Geom/01-Intro...  \n14              /Users/chris/GitHub/course-files/Geom/01-Intro...  \n15              /Users/chris/GitHub/course-files/Geom/01-Intro...  ",
      "text/html": "<div>\n<style scoped>\n    .dataframe tbody tr th:only-of-type {\n        vertical-align: middle;\n    }\n\n    .dataframe tbody tr th {\n        vertical-align: top;\n    }\n\n    .dataframe thead th {\n        text-align: right;\n    }\n</style>\n<table border=\"1\" class=\"dataframe\">\n  <thead>\n    <tr style=\"text-align: right;\">\n      <th></th>\n      <th>unit</th>\n      <th>file</th>\n      <th>problem_count</th>\n      <th>head</th>\n      <th>body</th>\n      <th>problems_list</th>\n      <th>path</th>\n      <th>filename</th>\n    </tr>\n    <tr>\n      <th>problem_set_ID</th>\n      <th></th>\n      <th></th>\n      <th></th>\n      <th></th>\n      <th></th>\n      <th></th>\n      <th></th>\n      <th></th>\n    </tr>\n  </thead>\n  <tbody>\n    <tr>\n      <th>0</th>\n      <td>01-Intro</td>\n      <td>1-1CW_Measurement.tex</td>\n      <td>8</td>\n      <td>[\\begin{document}\\n, \\subsubsection*{1-1 Class...</td>\n      <td>[\\n,   \\item Given the line segment $\\overline...</td>\n      <td>[Given the line segment $\\overline{PQ}$ shown ...</td>\n      <td>/Users/chris/GitHub/course-files/Geom</td>\n      <td>/Users/chris/GitHub/course-files/Geom/01-Intro...</td>\n    </tr>\n    <tr>\n      <th>1</th>\n      <td>01-Intro</td>\n      <td>1-1DNQ_Distance+slope.tex</td>\n      <td>4</td>\n      <td>[\\begin{document}\\n, \\subsubsection*{0.1 Quiz:...</td>\n      <td>[\\n,   \\item Write down the slope and $y$-inte...</td>\n      <td>[Write down the slope and $y$-intercept of eac...</td>\n      <td>/Users/chris/GitHub/course-files/Geom</td>\n      <td>/Users/chris/GitHub/course-files/Geom/01-Intro...</td>\n    </tr>\n    <tr>\n      <th>2</th>\n      <td>01-Intro</td>\n      <td>1-1DN_Algebra.tex</td>\n      <td>7</td>\n      <td>[\\begin{document}\\n, \\subsubsection*{1-1 Do No...</td>\n      <td>[\\n, \\n,   \\item In the following two problems...</td>\n      <td>[In the following two problems, solve for the ...</td>\n      <td>/Users/chris/GitHub/course-files/Geom</td>\n      <td>/Users/chris/GitHub/course-files/Geom/01-Intro...</td>\n    </tr>\n    <tr>\n      <th>3</th>\n      <td>01-Intro</td>\n      <td>1-1HW_Algebra.tex</td>\n      <td>8</td>\n      <td>[\\begin{document}\\n, \\subsubsection*{1-1 Homew...</td>\n      <td>[\\n, \\n,   \\item In the following two problems...</td>\n      <td>[In the following two problems, solve for the ...</td>\n      <td>/Users/chris/GitHub/course-files/Geom</td>\n      <td>/Users/chris/GitHub/course-files/Geom/01-Intro...</td>\n    </tr>\n    <tr>\n      <th>4</th>\n      <td>01-Intro</td>\n      <td>1-3DN_Function-intercepts.tex</td>\n      <td>6</td>\n      <td>[\\begin{document}\\n, \\subsubsection*{1-3 Do No...</td>\n      <td>[  \\item I have a compass, ruler, protractor, ...</td>\n      <td>[I have a compass, ruler, protractor, notebook...</td>\n      <td>/Users/chris/GitHub/course-files/Geom</td>\n      <td>/Users/chris/GitHub/course-files/Geom/01-Intro...</td>\n    </tr>\n    <tr>\n      <th>5</th>\n      <td>01-Intro</td>\n      <td>1-3HW_Equilateral-triangle.tex</td>\n      <td>11</td>\n      <td>[\\begin{document}\\n, \\subsubsection*{Homework ...</td>\n      <td>[\\n,     \\item Construct an equilateral triang...</td>\n      <td>[Construct an equilateral triangle with $\\over...</td>\n      <td>/Users/chris/GitHub/course-files/Geom</td>\n      <td>/Users/chris/GitHub/course-files/Geom/01-Intro...</td>\n    </tr>\n    <tr>\n      <th>6</th>\n      <td>01-Intro</td>\n      <td>1-4HW-Intro.tex</td>\n      <td>115</td>\n      <td>[\\begin{document}\\n, \\subsubsection*{Quiz Corr...</td>\n      <td>[  \\item The points where a line segment begin...</td>\n      <td>[The points where a line segment begins and en...</td>\n      <td>/Users/chris/GitHub/course-files/Geom</td>\n      <td>/Users/chris/GitHub/course-files/Geom/01-Intro...</td>\n    </tr>\n    <tr>\n      <th>7</th>\n      <td>01-Intro</td>\n      <td>1-4HW_Segment-addition.tex</td>\n      <td>11</td>\n      <td>[\\begin{document}\\n, \\subsubsection*{Homework ...</td>\n      <td>[    \\item I have a compass, ruler, protractor...</td>\n      <td>[I have a compass, ruler, protractor, notebook...</td>\n      <td>/Users/chris/GitHub/course-files/Geom</td>\n      <td>/Users/chris/GitHub/course-files/Geom/01-Intro...</td>\n    </tr>\n    <tr>\n      <th>8</th>\n      <td>01-Intro</td>\n      <td>1-5CW_Angle-terminology.tex</td>\n      <td>8</td>\n      <td>[\\begin{document}\\n, \\subsubsection*{Classwork...</td>\n      <td>[    \\item I have a compass, ruler, protractor...</td>\n      <td>[I have a compass, ruler, protractor, notebook...</td>\n      <td>/Users/chris/GitHub/course-files/Geom</td>\n      <td>/Users/chris/GitHub/course-files/Geom/01-Intro...</td>\n    </tr>\n    <tr>\n      <th>9</th>\n      <td>01-Intro</td>\n      <td>1-5HW_Pretest-segments-intro.tex</td>\n      <td>17</td>\n      <td>[\\begin{document}\\n, \\subsubsection*{1-8 Homew...</td>\n      <td>[  \\item Points that are all located on the sa...</td>\n      <td>[Points that are all located on the same line ...</td>\n      <td>/Users/chris/GitHub/course-files/Geom</td>\n      <td>/Users/chris/GitHub/course-files/Geom/01-Intro...</td>\n    </tr>\n    <tr>\n      <th>10</th>\n      <td>01-Intro</td>\n      <td>1-6DN_Angle-pairs.tex</td>\n      <td>6</td>\n      <td>[\\begin{document}\\n, \\subsubsection*{1.6 Do No...</td>\n      <td>[\\n,   \\item Complete the construction of an e...</td>\n      <td>[Complete the construction of an equilateral t...</td>\n      <td>/Users/chris/GitHub/course-files/Geom</td>\n      <td>/Users/chris/GitHub/course-files/Geom/01-Intro...</td>\n    </tr>\n    <tr>\n      <th>11</th>\n      <td>01-Intro</td>\n      <td>1-6HW_Angle-pairs.tex</td>\n      <td>6</td>\n      <td>[\\begin{document}\\n, \\subsubsection*{1.6 Homew...</td>\n      <td>[\\n,   \\item Points that are all located on th...</td>\n      <td>[Points that are all located on the same line ...</td>\n      <td>/Users/chris/GitHub/course-files/Geom</td>\n      <td>/Users/chris/GitHub/course-files/Geom/01-Intro...</td>\n    </tr>\n    <tr>\n      <th>12</th>\n      <td>01-Intro</td>\n      <td>1-7Exam-Intro.tex</td>\n      <td>25</td>\n      <td>[\\begin{document}\\n,   \\subsubsection*{1.7 Exa...</td>\n      <td>[\\n,   \\item I have a calculator. (circle one)...</td>\n      <td>[I have a calculator. (circle one). Yes \\qquad...</td>\n      <td>/Users/chris/GitHub/course-files/Geom</td>\n      <td>/Users/chris/GitHub/course-files/Geom/01-Intro...</td>\n    </tr>\n    <tr>\n      <th>13</th>\n      <td>01-Intro</td>\n      <td>1-7Exam-corrections.tex</td>\n      <td>23</td>\n      <td>[\\begin{document}\\n,   \\subsubsection*{2.1 Do ...</td>\n      <td>[  \\item Points that are all located on the sa...</td>\n      <td>[Points that are all located on the same line ...</td>\n      <td>/Users/chris/GitHub/course-files/Geom</td>\n      <td>/Users/chris/GitHub/course-files/Geom/01-Intro...</td>\n    </tr>\n    <tr>\n      <th>14</th>\n      <td>01-Intro</td>\n      <td>1-7Exam-spicy.tex</td>\n      <td>7</td>\n      <td>[\\begin{document}\\n, \\subsubsection*{1.7 Exam:...</td>\n      <td>[\\n,   \\item Given $\\overline{ABC}$, $AB=4$, a...</td>\n      <td>[Given $\\overline{ABC}$, $AB=4$, and $AC=25$.\\...</td>\n      <td>/Users/chris/GitHub/course-files/Geom</td>\n      <td>/Users/chris/GitHub/course-files/Geom/01-Intro...</td>\n    </tr>\n    <tr>\n      <th>15</th>\n      <td>01-Intro</td>\n      <td>1-7HW_Calculations.tex</td>\n      <td>8</td>\n      <td>[\\begin{document}\\n, \\subsubsection*{1.7 Homew...</td>\n      <td>[\\n,   \\item Given $\\overline{ABC}$, $AB=84$, ...</td>\n      <td>[Given $\\overline{ABC}$, $AB=84$, and $AC=116$...</td>\n      <td>/Users/chris/GitHub/course-files/Geom</td>\n      <td>/Users/chris/GitHub/course-files/Geom/01-Intro...</td>\n    </tr>\n  </tbody>\n</table>\n</div>"
     },
     "metadata": {},
     "execution_count": 5
    }
   ],
   "source": [
    "pset_df = parse_course_files(course_file_df, course_dir='/Users/chris/GitHub/course-files/Geom')\n",
    "pset_df[['path', 'unit', 'file']] = pset_df.filename.str.rsplit('/', n=2, expand=True)\n",
    "new_cols = ['unit', 'file', 'problem_count', 'head', 'body', 'problems_list', 'path', 'filename']\n",
    "pset_df = pset_df.reindex(columns=new_cols)\n",
    "pset_df[pset_df.unit.str.startswith('01')]"
   ]
  },
  {
   "cell_type": "code",
   "execution_count": 6,
   "metadata": {},
   "outputs": [],
   "source": [
    "problem_df = parse_problem_sets(pset_df)\n",
    "problem_df['file'] = problem_df.problem_set_ID.apply(lambda x: pset_df.loc[x, 'file'])\n",
    "problem_df['q_len'] = problem_df.question.str.len()\n",
    "problem_df.sort_values('q_len', inplace=True)"
   ]
  },
  {
   "cell_type": "code",
   "execution_count": 7,
   "metadata": {
    "tags": []
   },
   "outputs": [
    {
     "output_type": "stream",
     "name": "stdout",
     "text": "pset_df:  172 problem_set_ID Index(['unit', 'file', 'problem_count', 'head', 'body', 'problems_list',\n       'path', 'filename', 'problem_IDs'],\n      dtype='object')\n"
    }
   ],
   "source": [
    "problem_IDs = []\n",
    "for problem_set_ID in pset_df.index:\n",
    "    problem_IDs.append(\n",
    "        [p_ID for p_ID in problem_df[problem_df.problem_set_ID == problem_set_ID].index])\n",
    "pset_df['problem_IDs'] = problem_IDs\n",
    "\n",
    "print('pset_df: ', len(pset_df), pset_df.index.name, pset_df.columns)\n",
    "print('problem_df: ', len(problem_df), problem_df.index.name, problem_df.columns)"
   ]
  },
  {
   "cell_type": "markdown",
   "metadata": {},
   "source": [
    "## Parse small subsets of course"
   ]
  },
  {
   "cell_type": "code",
   "execution_count": 74,
   "metadata": {},
   "outputs": [
    {
     "output_type": "execute_result",
     "data": {
      "text/plain": "       unit  file_count                       filename\n0  01-Intro           6  1-3DN_Function-intercepts.tex",
      "text/html": "<div>\n<style scoped>\n    .dataframe tbody tr th:only-of-type {\n        vertical-align: middle;\n    }\n\n    .dataframe tbody tr th {\n        vertical-align: top;\n    }\n\n    .dataframe thead th {\n        text-align: right;\n    }\n</style>\n<table border=\"1\" class=\"dataframe\">\n  <thead>\n    <tr style=\"text-align: right;\">\n      <th></th>\n      <th>unit</th>\n      <th>file_count</th>\n      <th>filename</th>\n    </tr>\n  </thead>\n  <tbody>\n    <tr>\n      <th>0</th>\n      <td>01-Intro</td>\n      <td>6</td>\n      <td>1-3DN_Function-intercepts.tex</td>\n    </tr>\n  </tbody>\n</table>\n</div>"
     },
     "metadata": {},
     "execution_count": 74
    }
   ],
   "source": [
    "course_file_df = pd.DataFrame({\"unit\":['01-Intro'], \"file_count\":[6], \"filename\":['1-3DN_Function-intercepts.tex']})\n",
    "course_file_df"
   ]
  },
  {
   "cell_type": "code",
   "execution_count": 75,
   "metadata": {
    "tags": []
   },
   "outputs": [],
   "source": [
    "#pset_df[pset_df.file.str.startswith('1-3DN')]\n",
    "pset_1_3DN_df = parse_course_files(course_file_df, course_dir='/Users/chris/GitHub/course-files/Geom')"
   ]
  },
  {
   "cell_type": "code",
   "execution_count": 78,
   "metadata": {},
   "outputs": [],
   "source": [
    "pset_1_3DN_df[['path', 'unit', 'file']] = pset_1_3DN_df.filename.str.rsplit('/', n=2, expand=True)\n",
    "new_cols = ['unit', 'file', 'problem_count', 'head', 'body', 'problems_list', 'path', 'filename']\n",
    "pset_df = pset_df.reindex(columns=new_cols)"
   ]
  },
  {
   "cell_type": "markdown",
   "metadata": {},
   "source": [
    "## Review problems"
   ]
  },
  {
   "cell_type": "code",
   "execution_count": 13,
   "metadata": {},
   "outputs": [
    {
     "output_type": "execute_result",
     "data": {
      "text/plain": "'The line $\\\\overleftrightarrow{PQ}$ has the equation $y=3x+9$ with the two points\\' coordinates $P(0,a)$ and $Q(b,0)$. Find the values of $a$ and $b$. \\\\vspace{5cm}\\n\\n  Simplify each expression (``Collect like terms\")\\n  \\\\begin{multicols}{2}\\n'"
     },
     "metadata": {},
     "execution_count": 13
    }
   ],
   "source": [
    "problem_df.loc[1160, 'question']"
   ]
  },
  {
   "cell_type": "code",
   "execution_count": 10,
   "metadata": {},
   "outputs": [
    {
     "output_type": "execute_result",
     "data": {
      "text/plain": "            problem_set_ID                                           question  \\\nproblem_ID                                                                      \n1160                    81  The line $\\overleftrightarrow{PQ}$ has the equ...   \n1161                    81            $x^2-3x -4 +2x^2+2x+4$ \\vspace{3.5cm}\\n   \n1162                    81  $5(a^2-3a +1) -2(a^2+2a-3)$ \\vspace{3cm}\\n  \\e...   \n1163                    81                                       \\newpage\\n\\n   \n1164                    81  Graph and label the two equations. Mark their ...   \n1165                    81  In the following two problems, solve for the v...   \n\n                          file  q_len  \nproblem_ID                             \n1160        6-1DN_graphing.tex    237  \n1161        6-1DN_graphing.tex     38  \n1162        6-1DN_graphing.tex     65  \n1163        6-1DN_graphing.tex     10  \n1164        6-1DN_graphing.tex    551  \n1165        6-1DN_graphing.tex    226  ",
      "text/html": "<div>\n<style scoped>\n    .dataframe tbody tr th:only-of-type {\n        vertical-align: middle;\n    }\n\n    .dataframe tbody tr th {\n        vertical-align: top;\n    }\n\n    .dataframe thead th {\n        text-align: right;\n    }\n</style>\n<table border=\"1\" class=\"dataframe\">\n  <thead>\n    <tr style=\"text-align: right;\">\n      <th></th>\n      <th>problem_set_ID</th>\n      <th>question</th>\n      <th>file</th>\n      <th>q_len</th>\n    </tr>\n    <tr>\n      <th>problem_ID</th>\n      <th></th>\n      <th></th>\n      <th></th>\n      <th></th>\n    </tr>\n  </thead>\n  <tbody>\n    <tr>\n      <th>1160</th>\n      <td>81</td>\n      <td>The line $\\overleftrightarrow{PQ}$ has the equ...</td>\n      <td>6-1DN_graphing.tex</td>\n      <td>237</td>\n    </tr>\n    <tr>\n      <th>1161</th>\n      <td>81</td>\n      <td>$x^2-3x -4 +2x^2+2x+4$ \\vspace{3.5cm}\\n</td>\n      <td>6-1DN_graphing.tex</td>\n      <td>38</td>\n    </tr>\n    <tr>\n      <th>1162</th>\n      <td>81</td>\n      <td>$5(a^2-3a +1) -2(a^2+2a-3)$ \\vspace{3cm}\\n  \\e...</td>\n      <td>6-1DN_graphing.tex</td>\n      <td>65</td>\n    </tr>\n    <tr>\n      <th>1163</th>\n      <td>81</td>\n      <td>\\newpage\\n\\n</td>\n      <td>6-1DN_graphing.tex</td>\n      <td>10</td>\n    </tr>\n    <tr>\n      <th>1164</th>\n      <td>81</td>\n      <td>Graph and label the two equations. Mark their ...</td>\n      <td>6-1DN_graphing.tex</td>\n      <td>551</td>\n    </tr>\n    <tr>\n      <th>1165</th>\n      <td>81</td>\n      <td>In the following two problems, solve for the v...</td>\n      <td>6-1DN_graphing.tex</td>\n      <td>226</td>\n    </tr>\n  </tbody>\n</table>\n</div>"
     },
     "metadata": {},
     "execution_count": 10
    }
   ],
   "source": [
    "ps = range(1160, 1166)\n",
    "problem_df.loc[ps]"
   ]
  },
  {
   "cell_type": "code",
   "execution_count": 6,
   "metadata": {},
   "outputs": [
    {
     "output_type": "execute_result",
     "data": {
      "text/plain": "['In the following two problems, solve for the value of $x$.\\n  \\\\begin{multicols}{2}\\n    \\\\begin{enumerate}\\n      \\\\item   $x-5=12$ \\\\vspace{6cm}\\n      \\\\item   $13-x=-3$ \\\\vspace{6cm}\\n    \\\\end{enumerate}\\n  \\\\end{multicols}\\n    \\\\vspace{3cm}\\n\\n',\n 'Given $g(x)=x^2-5x+15$. Simplify $g(0)$. \\\\vspace{3cm}\\n',\n 'Given $f(x)=3x-2$. Solve for $x$ such that for $f(x)=13$. \\\\vspace{4cm}\\n',\n 'Given $h(x)=x^2-x-12$. Solve $h(x)=0$. \\\\vspace{5cm}\\n  \\n\\n',\n 'Simplify each expression. (Leave it in radical form if necessary, not a decimal.)\\n    \\\\begin{enumerate}\\n      \\\\begin{multicols}{2}\\n      \\\\item   $\\\\sqrt{25}$ \\\\vspace{1.5cm}\\n      \\\\item   $\\\\sqrt{24}$ \\\\vspace{1.5cm}\\n      \\\\end{multicols}\\n    \\\\end{enumerate}\\n    \\\\vspace{0.5cm}\\n\\n',\n '\\\\newpage\\n\\n',\n \"The line $l$ has the equation $y=\\\\frac{3}{2}x-1$. \\n\\\\begin{enumerate}\\n  \\\\item Write down it's slope. $m=$\\n  \\\\vspace{0.5cm}\\n  \\\\item Write down it's $y$-intercept. $b=$\\n  \\\\vspace{0.5cm}\\n  \\\\item Is the point $(4, 4)$ on the line $l$? Justify your answer.\\n\\\\end{enumerate}\\n\\\\vspace{2.5cm}\\n\\n\",\n 'On the grid below, graph the line $y=-\\\\frac{1}{2}x+2$.\\n  \\\\vspace{0.5cm}\\n\\n    \\\\begin{center} %4 quadrant regents grid w T-Chart\\n    \\\\begin{tikzpicture}[scale=.635]\\n      \\\\draw [help lines] (-10,-10) grid (10,10);\\n      \\\\draw [thick, ->] (-10.2,0) -- (10.4,0) node [below right] {$x$};\\n      \\\\draw [thick, ->] (0,-10.2)--(0,10.4) node [left] {$y$};\\n    \\\\end{tikzpicture}\\n    \\\\end{center}\\n\\n']"
     },
     "metadata": {},
     "execution_count": 6
    }
   ],
   "source": [
    "pset_df.loc[3,'problems_list']"
   ]
  },
  {
   "cell_type": "code",
   "execution_count": 10,
   "metadata": {},
   "outputs": [
    {
     "output_type": "execute_result",
     "data": {
      "text/plain": "            problem_set_ID                                           question  \\\nproblem_ID                                                                      \n367                     30  Solve for $x$ by factoring\\n    \\begin{multico...   \n400                     32  \\emph{Factor and solve for $x$.}\\n  \\begin{enu...   \n2133                   146  Simplify each radical.\\n  \\begin{multicols}{2}...   \n2132                   146  Expand each binomial-squared expression to the...   \n1209                    81  In the following two problems, solve for the v...   \n1611                   115  Convert each equation to slope-intercept form,...   \n12                       2  In the following two problems, solve for the v...   \n194                      9  In the following two problems, solve for the v...   \n19                       3  In the following two problems, solve for the v...   \n1206                    81  Simplify each expression (``Collect like terms...   \n1814                   130  Simplify each radical.\\n  \\begin{multicols}{2}...   \n1788                   129  Simplify each radical.\\n  \\begin{multicols}{2}...   \n1815                   130  Solve for the appropriate variable ($h$ and $r...   \n1511                   106  Express the result to the nearest thousandth. ...   \n2382                   165  Express the result to the nearest thousandth. ...   \n2389                   166  Express the result to the nearest thousandth. ...   \n2037                   142  Solve each equation for the appropriate variab...   \n1512                   106  Round each value to the nearest degree.  \\vspa...   \n231                     12  In the following two problems, solve for the v...   \n2390                   166  Round each value to the nearest degree.  \\vspa...   \n2383                   165  Round each value to the nearest degree.  \\vspa...   \n261                     14  In the following two problems, solve for the v...   \n269                     15  In the following two problems, solve for the v...   \n1786                   129  Expand each binomial-squared expression to the...   \n2063                   143  Solve each equation for the appropriate variab...   \n1787                   129  Factor each trinomial as a binomial squared.\\n...   \n2086                   144  Solve each equation for the appropriate variab...   \n1813                   130  Expand each binomial-squared expression to the...   \n418                     33  In the following two problems, solve for the v...   \n1597                   115  Solve for $x$, rounding to the nearest whole d...   \n\n                                        file  q_len  \nproblem_ID                                           \n367                  2-8DN_Constructions.tex    171  \n400                2-9Exam_area-distance.tex    172  \n2133               8-9DN_Circle-equation.tex    183  \n2132               8-9DN_Circle-equation.tex    214  \n1209                      6-1DN_graphing.tex    226  \n1611                7-6bCW_Tangent+mixed.tex    230  \n12                         1-1DN_Algebra.tex    232  \n194         1-5HW_Pretest-segments-intro.tex    232  \n19                         1-1HW_Algebra.tex    233  \n1206                      6-1DN_graphing.tex    233  \n1814                       8-1DN_Circles.tex    235  \n1788           8-1DN_Circle-trajectories.tex    237  \n1815                       8-1DN_Circles.tex    243  \n1511                       7-3DN_Tangent.tex    244  \n2382                         10-1DN_Trig.tex    244  \n2389                        10-1bDN_Trig.tex    244  \n2037                   8-7DN_Unit-review.tex    245  \n1512                       7-3DN_Tangent.tex    245  \n231                        1-7Exam-Intro.tex    247  \n2390                        10-1bDN_Trig.tex    248  \n2383                         10-1DN_Trig.tex    248  \n261                        1-7Exam-spicy.tex    251  \n269                   1-7HW_Calculations.tex    251  \n1786           8-1DN_Circle-trajectories.tex    253  \n2063             8-7bPreExam_Area+volume.tex    256  \n1787           8-1DN_Circle-trajectories.tex    256  \n2086                 8-8Exam_Area+volume.tex    256  \n1813                       8-1DN_Circles.tex    258  \n418                   2-9HW_Calculations.tex    264  \n1597                7-6bCW_Tangent+mixed.tex    265  ",
      "text/html": "<div>\n<style scoped>\n    .dataframe tbody tr th:only-of-type {\n        vertical-align: middle;\n    }\n\n    .dataframe tbody tr th {\n        vertical-align: top;\n    }\n\n    .dataframe thead th {\n        text-align: right;\n    }\n</style>\n<table border=\"1\" class=\"dataframe\">\n  <thead>\n    <tr style=\"text-align: right;\">\n      <th></th>\n      <th>problem_set_ID</th>\n      <th>question</th>\n      <th>file</th>\n      <th>q_len</th>\n    </tr>\n    <tr>\n      <th>problem_ID</th>\n      <th></th>\n      <th></th>\n      <th></th>\n      <th></th>\n    </tr>\n  </thead>\n  <tbody>\n    <tr>\n      <th>367</th>\n      <td>30</td>\n      <td>Solve for $x$ by factoring\\n    \\begin{multico...</td>\n      <td>2-8DN_Constructions.tex</td>\n      <td>171</td>\n    </tr>\n    <tr>\n      <th>400</th>\n      <td>32</td>\n      <td>\\emph{Factor and solve for $x$.}\\n  \\begin{enu...</td>\n      <td>2-9Exam_area-distance.tex</td>\n      <td>172</td>\n    </tr>\n    <tr>\n      <th>2133</th>\n      <td>146</td>\n      <td>Simplify each radical.\\n  \\begin{multicols}{2}...</td>\n      <td>8-9DN_Circle-equation.tex</td>\n      <td>183</td>\n    </tr>\n    <tr>\n      <th>2132</th>\n      <td>146</td>\n      <td>Expand each binomial-squared expression to the...</td>\n      <td>8-9DN_Circle-equation.tex</td>\n      <td>214</td>\n    </tr>\n    <tr>\n      <th>1209</th>\n      <td>81</td>\n      <td>In the following two problems, solve for the v...</td>\n      <td>6-1DN_graphing.tex</td>\n      <td>226</td>\n    </tr>\n    <tr>\n      <th>1611</th>\n      <td>115</td>\n      <td>Convert each equation to slope-intercept form,...</td>\n      <td>7-6bCW_Tangent+mixed.tex</td>\n      <td>230</td>\n    </tr>\n    <tr>\n      <th>12</th>\n      <td>2</td>\n      <td>In the following two problems, solve for the v...</td>\n      <td>1-1DN_Algebra.tex</td>\n      <td>232</td>\n    </tr>\n    <tr>\n      <th>194</th>\n      <td>9</td>\n      <td>In the following two problems, solve for the v...</td>\n      <td>1-5HW_Pretest-segments-intro.tex</td>\n      <td>232</td>\n    </tr>\n    <tr>\n      <th>19</th>\n      <td>3</td>\n      <td>In the following two problems, solve for the v...</td>\n      <td>1-1HW_Algebra.tex</td>\n      <td>233</td>\n    </tr>\n    <tr>\n      <th>1206</th>\n      <td>81</td>\n      <td>Simplify each expression (``Collect like terms...</td>\n      <td>6-1DN_graphing.tex</td>\n      <td>233</td>\n    </tr>\n    <tr>\n      <th>1814</th>\n      <td>130</td>\n      <td>Simplify each radical.\\n  \\begin{multicols}{2}...</td>\n      <td>8-1DN_Circles.tex</td>\n      <td>235</td>\n    </tr>\n    <tr>\n      <th>1788</th>\n      <td>129</td>\n      <td>Simplify each radical.\\n  \\begin{multicols}{2}...</td>\n      <td>8-1DN_Circle-trajectories.tex</td>\n      <td>237</td>\n    </tr>\n    <tr>\n      <th>1815</th>\n      <td>130</td>\n      <td>Solve for the appropriate variable ($h$ and $r...</td>\n      <td>8-1DN_Circles.tex</td>\n      <td>243</td>\n    </tr>\n    <tr>\n      <th>1511</th>\n      <td>106</td>\n      <td>Express the result to the nearest thousandth. ...</td>\n      <td>7-3DN_Tangent.tex</td>\n      <td>244</td>\n    </tr>\n    <tr>\n      <th>2382</th>\n      <td>165</td>\n      <td>Express the result to the nearest thousandth. ...</td>\n      <td>10-1DN_Trig.tex</td>\n      <td>244</td>\n    </tr>\n    <tr>\n      <th>2389</th>\n      <td>166</td>\n      <td>Express the result to the nearest thousandth. ...</td>\n      <td>10-1bDN_Trig.tex</td>\n      <td>244</td>\n    </tr>\n    <tr>\n      <th>2037</th>\n      <td>142</td>\n      <td>Solve each equation for the appropriate variab...</td>\n      <td>8-7DN_Unit-review.tex</td>\n      <td>245</td>\n    </tr>\n    <tr>\n      <th>1512</th>\n      <td>106</td>\n      <td>Round each value to the nearest degree.  \\vspa...</td>\n      <td>7-3DN_Tangent.tex</td>\n      <td>245</td>\n    </tr>\n    <tr>\n      <th>231</th>\n      <td>12</td>\n      <td>In the following two problems, solve for the v...</td>\n      <td>1-7Exam-Intro.tex</td>\n      <td>247</td>\n    </tr>\n    <tr>\n      <th>2390</th>\n      <td>166</td>\n      <td>Round each value to the nearest degree.  \\vspa...</td>\n      <td>10-1bDN_Trig.tex</td>\n      <td>248</td>\n    </tr>\n    <tr>\n      <th>2383</th>\n      <td>165</td>\n      <td>Round each value to the nearest degree.  \\vspa...</td>\n      <td>10-1DN_Trig.tex</td>\n      <td>248</td>\n    </tr>\n    <tr>\n      <th>261</th>\n      <td>14</td>\n      <td>In the following two problems, solve for the v...</td>\n      <td>1-7Exam-spicy.tex</td>\n      <td>251</td>\n    </tr>\n    <tr>\n      <th>269</th>\n      <td>15</td>\n      <td>In the following two problems, solve for the v...</td>\n      <td>1-7HW_Calculations.tex</td>\n      <td>251</td>\n    </tr>\n    <tr>\n      <th>1786</th>\n      <td>129</td>\n      <td>Expand each binomial-squared expression to the...</td>\n      <td>8-1DN_Circle-trajectories.tex</td>\n      <td>253</td>\n    </tr>\n    <tr>\n      <th>2063</th>\n      <td>143</td>\n      <td>Solve each equation for the appropriate variab...</td>\n      <td>8-7bPreExam_Area+volume.tex</td>\n      <td>256</td>\n    </tr>\n    <tr>\n      <th>1787</th>\n      <td>129</td>\n      <td>Factor each trinomial as a binomial squared.\\n...</td>\n      <td>8-1DN_Circle-trajectories.tex</td>\n      <td>256</td>\n    </tr>\n    <tr>\n      <th>2086</th>\n      <td>144</td>\n      <td>Solve each equation for the appropriate variab...</td>\n      <td>8-8Exam_Area+volume.tex</td>\n      <td>256</td>\n    </tr>\n    <tr>\n      <th>1813</th>\n      <td>130</td>\n      <td>Expand each binomial-squared expression to the...</td>\n      <td>8-1DN_Circles.tex</td>\n      <td>258</td>\n    </tr>\n    <tr>\n      <th>418</th>\n      <td>33</td>\n      <td>In the following two problems, solve for the v...</td>\n      <td>2-9HW_Calculations.tex</td>\n      <td>264</td>\n    </tr>\n    <tr>\n      <th>1597</th>\n      <td>115</td>\n      <td>Solve for $x$, rounding to the nearest whole d...</td>\n      <td>7-6bCW_Tangent+mixed.tex</td>\n      <td>265</td>\n    </tr>\n  </tbody>\n</table>\n</div>"
     },
     "metadata": {},
     "execution_count": 10
    }
   ],
   "source": [
    "problem_df[(problem_df.question.str.contains('multicol'))].head()"
   ]
  },
  {
   "cell_type": "code",
   "execution_count": 14,
   "metadata": {},
   "outputs": [
    {
     "output_type": "execute_result",
     "data": {
      "text/plain": "       problem_set_ID  question  file\nq_len                                \n9                 431       431   431\n10                 22        22    22\n11                 40        40    40\n12                  2         2     2\n13                 13        13    13",
      "text/html": "<div>\n<style scoped>\n    .dataframe tbody tr th:only-of-type {\n        vertical-align: middle;\n    }\n\n    .dataframe tbody tr th {\n        vertical-align: top;\n    }\n\n    .dataframe thead th {\n        text-align: right;\n    }\n</style>\n<table border=\"1\" class=\"dataframe\">\n  <thead>\n    <tr style=\"text-align: right;\">\n      <th></th>\n      <th>problem_set_ID</th>\n      <th>question</th>\n      <th>file</th>\n    </tr>\n    <tr>\n      <th>q_len</th>\n      <th></th>\n      <th></th>\n      <th></th>\n    </tr>\n  </thead>\n  <tbody>\n    <tr>\n      <th>9</th>\n      <td>431</td>\n      <td>431</td>\n      <td>431</td>\n    </tr>\n    <tr>\n      <th>10</th>\n      <td>22</td>\n      <td>22</td>\n      <td>22</td>\n    </tr>\n    <tr>\n      <th>11</th>\n      <td>40</td>\n      <td>40</td>\n      <td>40</td>\n    </tr>\n    <tr>\n      <th>12</th>\n      <td>2</td>\n      <td>2</td>\n      <td>2</td>\n    </tr>\n    <tr>\n      <th>13</th>\n      <td>13</td>\n      <td>13</td>\n      <td>13</td>\n    </tr>\n  </tbody>\n</table>\n</div>"
     },
     "metadata": {},
     "execution_count": 14
    }
   ],
   "source": [
    "problem_df[problem_df.question.str.contains(r'\\\\newpage')].groupby('q_len').count()"
   ]
  },
  {
   "cell_type": "code",
   "execution_count": 11,
   "metadata": {},
   "outputs": [
    {
     "output_type": "execute_result",
     "data": {
      "text/plain": "'\\\\newpage  \\n'"
     },
     "metadata": {},
     "execution_count": 11
    }
   ],
   "source": [
    "# Example queries\n",
    "problem_df[problem_df.question.str.contains(r'\\\\newpage')].question.loc[2335]\n",
    "problem_df[problem_df.file.str.startswith('1-1')].sort_index()"
   ]
  },
  {
   "cell_type": "code",
   "execution_count": 16,
   "metadata": {},
   "outputs": [
    {
     "output_type": "execute_result",
     "data": {
      "text/plain": "problem_set_ID                             170\nquestion                          \\newpage  \\n\nfile              10-4bDN_Analytics-review.tex\nq_len                                       11\nName: 2335, dtype: object"
     },
     "metadata": {},
     "execution_count": 16
    }
   ],
   "source": [
    "problem_df.loc[2335]"
   ]
  },
  {
   "cell_type": "code",
   "execution_count": 38,
   "metadata": {},
   "outputs": [
    {
     "output_type": "execute_result",
     "data": {
      "text/plain": "            problem_set_ID                                           question  \\\nproblem_ID                                                                      \n0                        0  Given the line segment $\\overline{PQ}$ shown b...   \n1                        0                                         \\newpage\\n   \n2                        0  Given an angle with vertex $A$. Answer the que...   \n3                        0                                         \\newpage\\n   \n4                        0  Given the rectangle $ABCD$ shown below. Answer...   \n5                        0                                         \\newpage\\n   \n6                        0  The points shown are in a straight line, $\\ove...   \n7                        0  Given $\\overleftrightarrow{QS}$ as shown on th...   \n8                        1  Write down the slope and $y$-intercept of each...   \n9                        1  What is the slope of a line parallel to the li...   \n10                       1                                         \\newpage\\n   \n11                       1  Graph and label the two equations. Mark their ...   \n12                       2  In the following two problems, solve for the v...   \n13                       2  Given $g(x)=3x^2-7x+5$. Fine $g(0)$. \\vspace{4...   \n14                       2  Given $f(x)=2x-1$. Solve for $x$ such that for...   \n15                       2  Given $x^2+6x+5=0$. Factor and find the roots....   \n16                       2                                         \\newpage\\n   \n17                       2  The line $l$ has the equation $y=\\frac{1}{2}x+...   \n18                       2  On the grid below, graph the line $y=2x-4$.\\n ...   \n19                       3  In the following two problems, solve for the v...   \n20                       3  Given $g(x)=x^2-5x+15$. Simplify $g(0)$. \\vspa...   \n21                       3  Given $f(x)=3x-2$. Solve for $x$ such that for...   \n22                       3  Given $h(x)=x^2-x-12$. Solve $h(x)=0$. \\vspace...   \n23                       3  Simplify each expression. (Leave it in radical...   \n24                       3                                         \\newpage\\n   \n25                       3  The line $l$ has the equation $y=\\frac{3}{2}x-...   \n26                       3  On the grid below, graph the line $y=-\\frac{1}...   \n\n                                 file  q_len  \nproblem_ID                                    \n0               1-1CW_Measurement.tex    732  \n1               1-1CW_Measurement.tex     11  \n2               1-1CW_Measurement.tex    675  \n3               1-1CW_Measurement.tex      9  \n4               1-1CW_Measurement.tex   1164  \n5               1-1CW_Measurement.tex      9  \n6               1-1CW_Measurement.tex    533  \n7               1-1CW_Measurement.tex    680  \n8           1-1DNQ_Distance+slope.tex    433  \n9           1-1DNQ_Distance+slope.tex     81  \n10          1-1DNQ_Distance+slope.tex      9  \n11          1-1DNQ_Distance+slope.tex    494  \n12                  1-1DN_Algebra.tex    232  \n13                  1-1DN_Algebra.tex     50  \n14                  1-1DN_Algebra.tex     70  \n15                  1-1DN_Algebra.tex     63  \n16                  1-1DN_Algebra.tex      9  \n17                  1-1DN_Algebra.tex    208  \n18                  1-1DN_Algebra.tex    376  \n19                  1-1HW_Algebra.tex    233  \n20                  1-1HW_Algebra.tex     54  \n21                  1-1HW_Algebra.tex     71  \n22                  1-1HW_Algebra.tex     56  \n23                  1-1HW_Algebra.tex    275  \n24                  1-1HW_Algebra.tex      9  \n25                  1-1HW_Algebra.tex    283  \n26                  1-1HW_Algebra.tex    387  ",
      "text/html": "<div>\n<style scoped>\n    .dataframe tbody tr th:only-of-type {\n        vertical-align: middle;\n    }\n\n    .dataframe tbody tr th {\n        vertical-align: top;\n    }\n\n    .dataframe thead th {\n        text-align: right;\n    }\n</style>\n<table border=\"1\" class=\"dataframe\">\n  <thead>\n    <tr style=\"text-align: right;\">\n      <th></th>\n      <th>problem_set_ID</th>\n      <th>question</th>\n      <th>file</th>\n      <th>q_len</th>\n    </tr>\n    <tr>\n      <th>problem_ID</th>\n      <th></th>\n      <th></th>\n      <th></th>\n      <th></th>\n    </tr>\n  </thead>\n  <tbody>\n    <tr>\n      <th>0</th>\n      <td>0</td>\n      <td>Given the line segment $\\overline{PQ}$ shown b...</td>\n      <td>1-1CW_Measurement.tex</td>\n      <td>732</td>\n    </tr>\n    <tr>\n      <th>1</th>\n      <td>0</td>\n      <td>\\newpage\\n</td>\n      <td>1-1CW_Measurement.tex</td>\n      <td>11</td>\n    </tr>\n    <tr>\n      <th>2</th>\n      <td>0</td>\n      <td>Given an angle with vertex $A$. Answer the que...</td>\n      <td>1-1CW_Measurement.tex</td>\n      <td>675</td>\n    </tr>\n    <tr>\n      <th>3</th>\n      <td>0</td>\n      <td>\\newpage\\n</td>\n      <td>1-1CW_Measurement.tex</td>\n      <td>9</td>\n    </tr>\n    <tr>\n      <th>4</th>\n      <td>0</td>\n      <td>Given the rectangle $ABCD$ shown below. Answer...</td>\n      <td>1-1CW_Measurement.tex</td>\n      <td>1164</td>\n    </tr>\n    <tr>\n      <th>5</th>\n      <td>0</td>\n      <td>\\newpage\\n</td>\n      <td>1-1CW_Measurement.tex</td>\n      <td>9</td>\n    </tr>\n    <tr>\n      <th>6</th>\n      <td>0</td>\n      <td>The points shown are in a straight line, $\\ove...</td>\n      <td>1-1CW_Measurement.tex</td>\n      <td>533</td>\n    </tr>\n    <tr>\n      <th>7</th>\n      <td>0</td>\n      <td>Given $\\overleftrightarrow{QS}$ as shown on th...</td>\n      <td>1-1CW_Measurement.tex</td>\n      <td>680</td>\n    </tr>\n    <tr>\n      <th>8</th>\n      <td>1</td>\n      <td>Write down the slope and $y$-intercept of each...</td>\n      <td>1-1DNQ_Distance+slope.tex</td>\n      <td>433</td>\n    </tr>\n    <tr>\n      <th>9</th>\n      <td>1</td>\n      <td>What is the slope of a line parallel to the li...</td>\n      <td>1-1DNQ_Distance+slope.tex</td>\n      <td>81</td>\n    </tr>\n    <tr>\n      <th>10</th>\n      <td>1</td>\n      <td>\\newpage\\n</td>\n      <td>1-1DNQ_Distance+slope.tex</td>\n      <td>9</td>\n    </tr>\n    <tr>\n      <th>11</th>\n      <td>1</td>\n      <td>Graph and label the two equations. Mark their ...</td>\n      <td>1-1DNQ_Distance+slope.tex</td>\n      <td>494</td>\n    </tr>\n    <tr>\n      <th>12</th>\n      <td>2</td>\n      <td>In the following two problems, solve for the v...</td>\n      <td>1-1DN_Algebra.tex</td>\n      <td>232</td>\n    </tr>\n    <tr>\n      <th>13</th>\n      <td>2</td>\n      <td>Given $g(x)=3x^2-7x+5$. Fine $g(0)$. \\vspace{4...</td>\n      <td>1-1DN_Algebra.tex</td>\n      <td>50</td>\n    </tr>\n    <tr>\n      <th>14</th>\n      <td>2</td>\n      <td>Given $f(x)=2x-1$. Solve for $x$ such that for...</td>\n      <td>1-1DN_Algebra.tex</td>\n      <td>70</td>\n    </tr>\n    <tr>\n      <th>15</th>\n      <td>2</td>\n      <td>Given $x^2+6x+5=0$. Factor and find the roots....</td>\n      <td>1-1DN_Algebra.tex</td>\n      <td>63</td>\n    </tr>\n    <tr>\n      <th>16</th>\n      <td>2</td>\n      <td>\\newpage\\n</td>\n      <td>1-1DN_Algebra.tex</td>\n      <td>9</td>\n    </tr>\n    <tr>\n      <th>17</th>\n      <td>2</td>\n      <td>The line $l$ has the equation $y=\\frac{1}{2}x+...</td>\n      <td>1-1DN_Algebra.tex</td>\n      <td>208</td>\n    </tr>\n    <tr>\n      <th>18</th>\n      <td>2</td>\n      <td>On the grid below, graph the line $y=2x-4$.\\n ...</td>\n      <td>1-1DN_Algebra.tex</td>\n      <td>376</td>\n    </tr>\n    <tr>\n      <th>19</th>\n      <td>3</td>\n      <td>In the following two problems, solve for the v...</td>\n      <td>1-1HW_Algebra.tex</td>\n      <td>233</td>\n    </tr>\n    <tr>\n      <th>20</th>\n      <td>3</td>\n      <td>Given $g(x)=x^2-5x+15$. Simplify $g(0)$. \\vspa...</td>\n      <td>1-1HW_Algebra.tex</td>\n      <td>54</td>\n    </tr>\n    <tr>\n      <th>21</th>\n      <td>3</td>\n      <td>Given $f(x)=3x-2$. Solve for $x$ such that for...</td>\n      <td>1-1HW_Algebra.tex</td>\n      <td>71</td>\n    </tr>\n    <tr>\n      <th>22</th>\n      <td>3</td>\n      <td>Given $h(x)=x^2-x-12$. Solve $h(x)=0$. \\vspace...</td>\n      <td>1-1HW_Algebra.tex</td>\n      <td>56</td>\n    </tr>\n    <tr>\n      <th>23</th>\n      <td>3</td>\n      <td>Simplify each expression. (Leave it in radical...</td>\n      <td>1-1HW_Algebra.tex</td>\n      <td>275</td>\n    </tr>\n    <tr>\n      <th>24</th>\n      <td>3</td>\n      <td>\\newpage\\n</td>\n      <td>1-1HW_Algebra.tex</td>\n      <td>9</td>\n    </tr>\n    <tr>\n      <th>25</th>\n      <td>3</td>\n      <td>The line $l$ has the equation $y=\\frac{3}{2}x-...</td>\n      <td>1-1HW_Algebra.tex</td>\n      <td>283</td>\n    </tr>\n    <tr>\n      <th>26</th>\n      <td>3</td>\n      <td>On the grid below, graph the line $y=-\\frac{1}...</td>\n      <td>1-1HW_Algebra.tex</td>\n      <td>387</td>\n    </tr>\n  </tbody>\n</table>\n</div>"
     },
     "metadata": {},
     "execution_count": 38
    }
   ],
   "source": []
  },
  {
   "cell_type": "code",
   "execution_count": 11,
   "metadata": {},
   "outputs": [
    {
     "output_type": "execute_result",
     "data": {
      "text/plain": "                                         unit                         file  \\\nproblem_set_ID                                                               \n6                                    01-Intro              1-4HW-Intro.tex   \n26                       02-Midpoint+distance           2-7CW_Modeling.tex   \n30                       02-Midpoint+distance      2-8DN_Constructions.tex   \n32                       02-Midpoint+distance    2-9Exam_area-distance.tex   \n36                  03-Volume+angle-bisectors     3-2CW_Angle-modeling.tex   \n...                                       ...                          ...   \n144                            08-Area+volume      8-8Exam_Area+volume.tex   \n145                            08-Area+volume    8-9CW_Circle-equation.tex   \n146                            08-Area+volume    8-9DN_Circle-equation.tex   \n149             09-Congruence-transformations       9-2bCW_Composition.tex   \n160             09-Congruence-transformations  9-7CW-Similarity-review.tex   \n\n                problem_count  \\\nproblem_set_ID                  \n6                         104   \n26                          8   \n30                          4   \n32                         36   \n36                          7   \n...                       ...   \n144                        33   \n145                        15   \n146                         5   \n149                         6   \n160                        23   \n\n                                                             head  \\\nproblem_set_ID                                                      \n6               [\\begin{document}\\n, \\subsubsection*{Quiz Corr...   \n26              [\\begin{document}\\n,   \\subsubsection*{2.7 Cla...   \n30              [\\begin{document}\\n,   \\subsubsection*{2.8 Do ...   \n32              [\\begin{document}\\n, \\subsubsection*{2.9 Exam:...   \n36              [\\begin{document}\\n,   \\subsubsection*{3.2 Cla...   \n...                                                           ...   \n144             [\\begin{document}\\n, \\subsubsection*{8.8 Exam:...   \n145             [\\begin{document}\\n, \\subsubsection*{8.9 Class...   \n146             [\\begin{document}\\n, \\subsubsection*{8.9 Do No...   \n149             [\\begin{document}\\n, \\subsubsection*{9.2b Do N...   \n160             [\\begin{document}\\n, \\subsubsection*{9.7 Class...   \n\n                                                             body  \\\nproblem_set_ID                                                      \n6               [    \\item The points where a line segment beg...   \n26              [    \\subsubsection*{Do Not Solve! Make a draw...   \n30              [    \\item Complete the construction of an equ...   \n32              [\\n, \\item Given the rectangle $ABCD$ shown be...   \n36              [    \\subsubsection*{Do Not Solve! \\\\\\n,     M...   \n...                                                           ...   \n144             [\\n,   \\item Use the formulas for the area and...   \n145             [\\n,   \\item What is the equation of a circle ...   \n146             [\\n,   \\item A circle centered at the origin i...   \n149             [\\n,   \\item A transformation is applied to a ...   \n160             [\\n,   \\item Find the image of $P(1,-4)$ after...   \n\n                                                    problems_list  \\\nproblem_set_ID                                                      \n6               [The points where a line segment begins and en...   \n26              [The point $Q$ is the midpoint of $\\overline{P...   \n30              [Complete the construction of an equilateral t...   \n32              [Given the rectangle $ABCD$ shown below, with ...   \n36              [Two lines intersect making four angles: $\\ang...   \n...                                                           ...   \n144             [Use the formulas for the area and circumferen...   \n145             [What is the equation of a circle with center ...   \n146             [A circle centered at the origin includes the ...   \n149             [A transformation is applied to a triangle, $\\...   \n160             [Find the image of $P(1,-4)$ after the transla...   \n\n                                                 path  \\\nproblem_set_ID                                          \n6               /Users/chris/GitHub/course-files/Geom   \n26              /Users/chris/GitHub/course-files/Geom   \n30              /Users/chris/GitHub/course-files/Geom   \n32              /Users/chris/GitHub/course-files/Geom   \n36              /Users/chris/GitHub/course-files/Geom   \n...                                               ...   \n144             /Users/chris/GitHub/course-files/Geom   \n145             /Users/chris/GitHub/course-files/Geom   \n146             /Users/chris/GitHub/course-files/Geom   \n149             /Users/chris/GitHub/course-files/Geom   \n160             /Users/chris/GitHub/course-files/Geom   \n\n                                                         filename  \\\nproblem_set_ID                                                      \n6               /Users/chris/GitHub/course-files/Geom/01-Intro...   \n26              /Users/chris/GitHub/course-files/Geom/02-Midpo...   \n30              /Users/chris/GitHub/course-files/Geom/02-Midpo...   \n32              /Users/chris/GitHub/course-files/Geom/02-Midpo...   \n36              /Users/chris/GitHub/course-files/Geom/03-Volum...   \n...                                                           ...   \n144             /Users/chris/GitHub/course-files/Geom/08-Area+...   \n145             /Users/chris/GitHub/course-files/Geom/08-Area+...   \n146             /Users/chris/GitHub/course-files/Geom/08-Area+...   \n149             /Users/chris/GitHub/course-files/Geom/09-Congr...   \n160             /Users/chris/GitHub/course-files/Geom/09-Congr...   \n\n                                                      problem_IDs  \nproblem_set_ID                                                     \n6               [44, 45, 46, 47, 48, 49, 50, 51, 52, 53, 54, 5...  \n26                       [318, 319, 320, 321, 322, 323, 324, 325]  \n30                                           [351, 352, 353, 354]  \n32              [361, 362, 363, 364, 365, 366, 367, 368, 369, ...  \n36                            [418, 419, 420, 421, 422, 423, 424]  \n...                                                           ...  \n144             [1995, 1996, 1997, 1998, 1999, 2000, 2001, 200...  \n145             [2028, 2029, 2030, 2031, 2032, 2033, 2034, 203...  \n146                                [2043, 2044, 2045, 2046, 2047]  \n149                          [2066, 2067, 2068, 2069, 2070, 2071]  \n160             [2163, 2164, 2165, 2166, 2167, 2168, 2169, 217...  \n\n[61 rows x 9 columns]",
      "text/html": "<div>\n<style scoped>\n    .dataframe tbody tr th:only-of-type {\n        vertical-align: middle;\n    }\n\n    .dataframe tbody tr th {\n        vertical-align: top;\n    }\n\n    .dataframe thead th {\n        text-align: right;\n    }\n</style>\n<table border=\"1\" class=\"dataframe\">\n  <thead>\n    <tr style=\"text-align: right;\">\n      <th></th>\n      <th>unit</th>\n      <th>file</th>\n      <th>problem_count</th>\n      <th>head</th>\n      <th>body</th>\n      <th>problems_list</th>\n      <th>path</th>\n      <th>filename</th>\n      <th>problem_IDs</th>\n    </tr>\n    <tr>\n      <th>problem_set_ID</th>\n      <th></th>\n      <th></th>\n      <th></th>\n      <th></th>\n      <th></th>\n      <th></th>\n      <th></th>\n      <th></th>\n      <th></th>\n    </tr>\n  </thead>\n  <tbody>\n    <tr>\n      <th>6</th>\n      <td>01-Intro</td>\n      <td>1-4HW-Intro.tex</td>\n      <td>104</td>\n      <td>[\\begin{document}\\n, \\subsubsection*{Quiz Corr...</td>\n      <td>[    \\item The points where a line segment beg...</td>\n      <td>[The points where a line segment begins and en...</td>\n      <td>/Users/chris/GitHub/course-files/Geom</td>\n      <td>/Users/chris/GitHub/course-files/Geom/01-Intro...</td>\n      <td>[44, 45, 46, 47, 48, 49, 50, 51, 52, 53, 54, 5...</td>\n    </tr>\n    <tr>\n      <th>26</th>\n      <td>02-Midpoint+distance</td>\n      <td>2-7CW_Modeling.tex</td>\n      <td>8</td>\n      <td>[\\begin{document}\\n,   \\subsubsection*{2.7 Cla...</td>\n      <td>[    \\subsubsection*{Do Not Solve! Make a draw...</td>\n      <td>[The point $Q$ is the midpoint of $\\overline{P...</td>\n      <td>/Users/chris/GitHub/course-files/Geom</td>\n      <td>/Users/chris/GitHub/course-files/Geom/02-Midpo...</td>\n      <td>[318, 319, 320, 321, 322, 323, 324, 325]</td>\n    </tr>\n    <tr>\n      <th>30</th>\n      <td>02-Midpoint+distance</td>\n      <td>2-8DN_Constructions.tex</td>\n      <td>4</td>\n      <td>[\\begin{document}\\n,   \\subsubsection*{2.8 Do ...</td>\n      <td>[    \\item Complete the construction of an equ...</td>\n      <td>[Complete the construction of an equilateral t...</td>\n      <td>/Users/chris/GitHub/course-files/Geom</td>\n      <td>/Users/chris/GitHub/course-files/Geom/02-Midpo...</td>\n      <td>[351, 352, 353, 354]</td>\n    </tr>\n    <tr>\n      <th>32</th>\n      <td>02-Midpoint+distance</td>\n      <td>2-9Exam_area-distance.tex</td>\n      <td>36</td>\n      <td>[\\begin{document}\\n, \\subsubsection*{2.9 Exam:...</td>\n      <td>[\\n, \\item Given the rectangle $ABCD$ shown be...</td>\n      <td>[Given the rectangle $ABCD$ shown below, with ...</td>\n      <td>/Users/chris/GitHub/course-files/Geom</td>\n      <td>/Users/chris/GitHub/course-files/Geom/02-Midpo...</td>\n      <td>[361, 362, 363, 364, 365, 366, 367, 368, 369, ...</td>\n    </tr>\n    <tr>\n      <th>36</th>\n      <td>03-Volume+angle-bisectors</td>\n      <td>3-2CW_Angle-modeling.tex</td>\n      <td>7</td>\n      <td>[\\begin{document}\\n,   \\subsubsection*{3.2 Cla...</td>\n      <td>[    \\subsubsection*{Do Not Solve! \\\\\\n,     M...</td>\n      <td>[Two lines intersect making four angles: $\\ang...</td>\n      <td>/Users/chris/GitHub/course-files/Geom</td>\n      <td>/Users/chris/GitHub/course-files/Geom/03-Volum...</td>\n      <td>[418, 419, 420, 421, 422, 423, 424]</td>\n    </tr>\n    <tr>\n      <th>...</th>\n      <td>...</td>\n      <td>...</td>\n      <td>...</td>\n      <td>...</td>\n      <td>...</td>\n      <td>...</td>\n      <td>...</td>\n      <td>...</td>\n      <td>...</td>\n    </tr>\n    <tr>\n      <th>144</th>\n      <td>08-Area+volume</td>\n      <td>8-8Exam_Area+volume.tex</td>\n      <td>33</td>\n      <td>[\\begin{document}\\n, \\subsubsection*{8.8 Exam:...</td>\n      <td>[\\n,   \\item Use the formulas for the area and...</td>\n      <td>[Use the formulas for the area and circumferen...</td>\n      <td>/Users/chris/GitHub/course-files/Geom</td>\n      <td>/Users/chris/GitHub/course-files/Geom/08-Area+...</td>\n      <td>[1995, 1996, 1997, 1998, 1999, 2000, 2001, 200...</td>\n    </tr>\n    <tr>\n      <th>145</th>\n      <td>08-Area+volume</td>\n      <td>8-9CW_Circle-equation.tex</td>\n      <td>15</td>\n      <td>[\\begin{document}\\n, \\subsubsection*{8.9 Class...</td>\n      <td>[\\n,   \\item What is the equation of a circle ...</td>\n      <td>[What is the equation of a circle with center ...</td>\n      <td>/Users/chris/GitHub/course-files/Geom</td>\n      <td>/Users/chris/GitHub/course-files/Geom/08-Area+...</td>\n      <td>[2028, 2029, 2030, 2031, 2032, 2033, 2034, 203...</td>\n    </tr>\n    <tr>\n      <th>146</th>\n      <td>08-Area+volume</td>\n      <td>8-9DN_Circle-equation.tex</td>\n      <td>5</td>\n      <td>[\\begin{document}\\n, \\subsubsection*{8.9 Do No...</td>\n      <td>[\\n,   \\item A circle centered at the origin i...</td>\n      <td>[A circle centered at the origin includes the ...</td>\n      <td>/Users/chris/GitHub/course-files/Geom</td>\n      <td>/Users/chris/GitHub/course-files/Geom/08-Area+...</td>\n      <td>[2043, 2044, 2045, 2046, 2047]</td>\n    </tr>\n    <tr>\n      <th>149</th>\n      <td>09-Congruence-transformations</td>\n      <td>9-2bCW_Composition.tex</td>\n      <td>6</td>\n      <td>[\\begin{document}\\n, \\subsubsection*{9.2b Do N...</td>\n      <td>[\\n,   \\item A transformation is applied to a ...</td>\n      <td>[A transformation is applied to a triangle, $\\...</td>\n      <td>/Users/chris/GitHub/course-files/Geom</td>\n      <td>/Users/chris/GitHub/course-files/Geom/09-Congr...</td>\n      <td>[2066, 2067, 2068, 2069, 2070, 2071]</td>\n    </tr>\n    <tr>\n      <th>160</th>\n      <td>09-Congruence-transformations</td>\n      <td>9-7CW-Similarity-review.tex</td>\n      <td>23</td>\n      <td>[\\begin{document}\\n, \\subsubsection*{9.7 Class...</td>\n      <td>[\\n,   \\item Find the image of $P(1,-4)$ after...</td>\n      <td>[Find the image of $P(1,-4)$ after the transla...</td>\n      <td>/Users/chris/GitHub/course-files/Geom</td>\n      <td>/Users/chris/GitHub/course-files/Geom/09-Congr...</td>\n      <td>[2163, 2164, 2165, 2166, 2167, 2168, 2169, 217...</td>\n    </tr>\n  </tbody>\n</table>\n<p>61 rows × 9 columns</p>\n</div>"
     },
     "metadata": {},
     "execution_count": 11
    }
   ],
   "source": [
    "# Look for string in pset body\n",
    "pset_df[pset_df.body.apply(lambda x: 'subsect' in str(x))] #r'[\\\\item'"
   ]
  },
  {
   "cell_type": "code",
   "execution_count": 13,
   "metadata": {},
   "outputs": [
    {
     "output_type": "execute_result",
     "data": {
      "text/plain": "            problem_set_ID                                           question  \\\nproblem_ID                                                                      \n351                     30  Complete the construction of an equilateral tr...   \n352                     30                                         \\newpage\\n   \n353                     30                                     $x^2+6x+5=0$\\n   \n354                     30             $x^2+5x=14$\\n    \\end{multicols}\\n\\n\\n   \n\n                               file  q_len  \nproblem_ID                                  \n351         2-8DN_Constructions.tex    684  \n352         2-8DN_Constructions.tex     11  \n353         2-8DN_Constructions.tex     13  \n354         2-8DN_Constructions.tex     34  ",
      "text/html": "<div>\n<style scoped>\n    .dataframe tbody tr th:only-of-type {\n        vertical-align: middle;\n    }\n\n    .dataframe tbody tr th {\n        vertical-align: top;\n    }\n\n    .dataframe thead th {\n        text-align: right;\n    }\n</style>\n<table border=\"1\" class=\"dataframe\">\n  <thead>\n    <tr style=\"text-align: right;\">\n      <th></th>\n      <th>problem_set_ID</th>\n      <th>question</th>\n      <th>file</th>\n      <th>q_len</th>\n    </tr>\n    <tr>\n      <th>problem_ID</th>\n      <th></th>\n      <th></th>\n      <th></th>\n      <th></th>\n    </tr>\n  </thead>\n  <tbody>\n    <tr>\n      <th>351</th>\n      <td>30</td>\n      <td>Complete the construction of an equilateral tr...</td>\n      <td>2-8DN_Constructions.tex</td>\n      <td>684</td>\n    </tr>\n    <tr>\n      <th>352</th>\n      <td>30</td>\n      <td>\\newpage\\n</td>\n      <td>2-8DN_Constructions.tex</td>\n      <td>11</td>\n    </tr>\n    <tr>\n      <th>353</th>\n      <td>30</td>\n      <td>$x^2+6x+5=0$\\n</td>\n      <td>2-8DN_Constructions.tex</td>\n      <td>13</td>\n    </tr>\n    <tr>\n      <th>354</th>\n      <td>30</td>\n      <td>$x^2+5x=14$\\n    \\end{multicols}\\n\\n\\n</td>\n      <td>2-8DN_Constructions.tex</td>\n      <td>34</td>\n    </tr>\n  </tbody>\n</table>\n</div>"
     },
     "metadata": {},
     "execution_count": 13
    }
   ],
   "source": [
    "# CHECK Problem with itemize instead of enumerate\n",
    "problem_df[problem_df.problem_set_ID == 30].sort_index()"
   ]
  },
  {
   "cell_type": "code",
   "execution_count": 34,
   "metadata": {
    "tags": []
   },
   "outputs": [
    {
     "output_type": "stream",
     "name": "stdout",
     "text": "Complete the construction of an equilateral triangle with one side as $\\overline{AB}$. \\vspace{3cm}\n    \\begin{center}\n    \\begin{tikzpicture}\n      \\draw [-, thick] (0,0)--(0,6);\n      \\draw [fill] (0,0) circle [radius=0.05] node[left]{$A$};\n      \\draw [fill] (0,6) circle [radius=0.05] node[left]{$B$};\n    \\end{tikzpicture}\n    \\end{center} \\vspace{3cm}\n    \\begin{enumerate}\n      \\item Identify two circles in the construction. For each, name the center of the circle and the radius.  \\vspace{3cm}\n      \\item Assuming that the third vertex of the triangle is point $C$, explain why the distance from $A$ to $C$ is the same as the distance from $A$ to $B$.\n    \\end{enumerate}\n\n\n  \\newpage\n\n$x^2+6x+5=0$\n\n$x^2+5x=14$\n    \\end{multicols}\n\n\n\n"
    }
   ],
   "source": [
    "for q in problem_df[problem_df.problem_set_ID == 30].sort_index().question:\n",
    "    print(q)"
   ]
  },
  {
   "cell_type": "code",
   "execution_count": 7,
   "metadata": {},
   "outputs": [
    {
     "output_type": "execute_result",
     "data": {
      "text/plain": "unit                                          02-Midpoint+distance\nfile                                       2-8DN_Constructions.tex\nproblem_count                                                  NaN\nhead             [\\begin{document}\\n,   \\subsubsection*{2.8 Do ...\nbody             [    \\item Complete the construction of an equ...\nproblems_list                                                  NaN\npath                         /Users/chris/GitHub/course-files/Geom\nfilename         /Users/chris/GitHub/course-files/Geom/02-Midpo...\nName: 30, dtype: object"
     },
     "metadata": {},
     "execution_count": 7
    }
   ],
   "source": [
    "pset_df.loc[30]"
   ]
  },
  {
   "cell_type": "code",
   "execution_count": 14,
   "metadata": {},
   "outputs": [
    {
     "output_type": "execute_result",
     "data": {
      "text/plain": "            problem_set_ID    question                             file  q_len\nproblem_ID                                                                    \n1000                    73  \\newpage\\n             6-10bCW_Dilation.tex      9\n758                     56  \\newpage\\n     5-11Exam_Transformations.tex      9\n2301                   162  \\newpage\\n     9-8bDN-Similarity-review.tex      9\n762                     56  \\newpage\\n     5-11Exam_Transformations.tex      9\n766                     56  \\newpage\\n     5-11Exam_Transformations.tex      9\n1705                   120  \\newpage\\n         7-8bDN_Exam-followup.tex      9\n769                     56  \\newpage\\n     5-11Exam_Transformations.tex      9\n772                     56  \\newpage\\n     5-11Exam_Transformations.tex      9\n1699                   119  \\newpage\\n  7-8HW_Right-triangle-ratios.tex      9\n776                     56  \\newpage\\n     5-11Exam_Transformations.tex      9\n1697                   119  \\newpage\\n  7-8HW_Right-triangle-ratios.tex      9\n780                     56  \\newpage\\n     5-11Exam_Transformations.tex      9\n1694                   119  \\newpage\\n  7-8HW_Right-triangle-ratios.tex      9\n783                     56  \\newpage\\n     5-11Exam_Transformations.tex      9\n786                     56  \\newpage\\n     5-11Exam_Transformations.tex      9\n2295                   161  \\newpage\\n      9-8DN-Similarity-review.tex      9\n1709                   121  \\newpage\\n         7-8bHW_Constructions.tex      9\n754                     56  \\newpage\\n     5-11Exam_Transformations.tex      9\n750                     56  \\newpage\\n     5-11Exam_Transformations.tex      9\n1714                   122  \\newpage\\n          7-9CW_Constructions.tex      9",
      "text/html": "<div>\n<style scoped>\n    .dataframe tbody tr th:only-of-type {\n        vertical-align: middle;\n    }\n\n    .dataframe tbody tr th {\n        vertical-align: top;\n    }\n\n    .dataframe thead th {\n        text-align: right;\n    }\n</style>\n<table border=\"1\" class=\"dataframe\">\n  <thead>\n    <tr style=\"text-align: right;\">\n      <th></th>\n      <th>problem_set_ID</th>\n      <th>question</th>\n      <th>file</th>\n      <th>q_len</th>\n    </tr>\n    <tr>\n      <th>problem_ID</th>\n      <th></th>\n      <th></th>\n      <th></th>\n      <th></th>\n    </tr>\n  </thead>\n  <tbody>\n    <tr>\n      <th>1000</th>\n      <td>73</td>\n      <td>\\newpage\\n</td>\n      <td>6-10bCW_Dilation.tex</td>\n      <td>9</td>\n    </tr>\n    <tr>\n      <th>758</th>\n      <td>56</td>\n      <td>\\newpage\\n</td>\n      <td>5-11Exam_Transformations.tex</td>\n      <td>9</td>\n    </tr>\n    <tr>\n      <th>2301</th>\n      <td>162</td>\n      <td>\\newpage\\n</td>\n      <td>9-8bDN-Similarity-review.tex</td>\n      <td>9</td>\n    </tr>\n    <tr>\n      <th>762</th>\n      <td>56</td>\n      <td>\\newpage\\n</td>\n      <td>5-11Exam_Transformations.tex</td>\n      <td>9</td>\n    </tr>\n    <tr>\n      <th>766</th>\n      <td>56</td>\n      <td>\\newpage\\n</td>\n      <td>5-11Exam_Transformations.tex</td>\n      <td>9</td>\n    </tr>\n    <tr>\n      <th>1705</th>\n      <td>120</td>\n      <td>\\newpage\\n</td>\n      <td>7-8bDN_Exam-followup.tex</td>\n      <td>9</td>\n    </tr>\n    <tr>\n      <th>769</th>\n      <td>56</td>\n      <td>\\newpage\\n</td>\n      <td>5-11Exam_Transformations.tex</td>\n      <td>9</td>\n    </tr>\n    <tr>\n      <th>772</th>\n      <td>56</td>\n      <td>\\newpage\\n</td>\n      <td>5-11Exam_Transformations.tex</td>\n      <td>9</td>\n    </tr>\n    <tr>\n      <th>1699</th>\n      <td>119</td>\n      <td>\\newpage\\n</td>\n      <td>7-8HW_Right-triangle-ratios.tex</td>\n      <td>9</td>\n    </tr>\n    <tr>\n      <th>776</th>\n      <td>56</td>\n      <td>\\newpage\\n</td>\n      <td>5-11Exam_Transformations.tex</td>\n      <td>9</td>\n    </tr>\n    <tr>\n      <th>1697</th>\n      <td>119</td>\n      <td>\\newpage\\n</td>\n      <td>7-8HW_Right-triangle-ratios.tex</td>\n      <td>9</td>\n    </tr>\n    <tr>\n      <th>780</th>\n      <td>56</td>\n      <td>\\newpage\\n</td>\n      <td>5-11Exam_Transformations.tex</td>\n      <td>9</td>\n    </tr>\n    <tr>\n      <th>1694</th>\n      <td>119</td>\n      <td>\\newpage\\n</td>\n      <td>7-8HW_Right-triangle-ratios.tex</td>\n      <td>9</td>\n    </tr>\n    <tr>\n      <th>783</th>\n      <td>56</td>\n      <td>\\newpage\\n</td>\n      <td>5-11Exam_Transformations.tex</td>\n      <td>9</td>\n    </tr>\n    <tr>\n      <th>786</th>\n      <td>56</td>\n      <td>\\newpage\\n</td>\n      <td>5-11Exam_Transformations.tex</td>\n      <td>9</td>\n    </tr>\n    <tr>\n      <th>2295</th>\n      <td>161</td>\n      <td>\\newpage\\n</td>\n      <td>9-8DN-Similarity-review.tex</td>\n      <td>9</td>\n    </tr>\n    <tr>\n      <th>1709</th>\n      <td>121</td>\n      <td>\\newpage\\n</td>\n      <td>7-8bHW_Constructions.tex</td>\n      <td>9</td>\n    </tr>\n    <tr>\n      <th>754</th>\n      <td>56</td>\n      <td>\\newpage\\n</td>\n      <td>5-11Exam_Transformations.tex</td>\n      <td>9</td>\n    </tr>\n    <tr>\n      <th>750</th>\n      <td>56</td>\n      <td>\\newpage\\n</td>\n      <td>5-11Exam_Transformations.tex</td>\n      <td>9</td>\n    </tr>\n    <tr>\n      <th>1714</th>\n      <td>122</td>\n      <td>\\newpage\\n</td>\n      <td>7-9CW_Constructions.tex</td>\n      <td>9</td>\n    </tr>\n  </tbody>\n</table>\n</div>"
     },
     "metadata": {},
     "execution_count": 14
    }
   ],
   "source": [
    "problem_df[problem_df.q_len <16].head(20)"
   ]
  },
  {
   "cell_type": "code",
   "execution_count": null,
   "metadata": {},
   "outputs": [],
   "source": []
  }
 ]
}