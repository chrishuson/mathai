{
 "metadata": {
  "language_info": {
   "codemirror_mode": {
    "name": "ipython",
    "version": 3
   },
   "file_extension": ".py",
   "mimetype": "text/x-python",
   "name": "python",
   "nbconvert_exporter": "python",
   "pygments_lexer": "ipython3",
   "version": "3.7.6-final"
  },
  "orig_nbformat": 2,
  "kernelspec": {
   "name": "python_defaultSpec_1597495731639",
   "display_name": "Python 3.7.6 64-bit ('base': conda)"
  }
 },
 "nbformat": 4,
 "nbformat_minor": 2,
 "cells": [
  {
   "cell_type": "code",
   "execution_count": 1,
   "metadata": {
    "tags": []
   },
   "outputs": [
    {
     "output_type": "execute_result",
     "data": {
      "text/plain": "'/Users/chris/GitHub/mathai/src'"
     },
     "metadata": {},
     "execution_count": 1
    }
   ],
   "source": [
    "import os\n",
    "import sys\n",
    "import pandas as pd\n",
    "import numpy as np\n",
    "from ast import literal_eval\n",
    "\n",
    "os.getcwd()"
   ]
  },
  {
   "cell_type": "code",
   "execution_count": 68,
   "metadata": {
    "tags": []
   },
   "outputs": [
    {
     "output_type": "stream",
     "name": "stdout",
     "text": "Loaded dataframes: \nworksheet_files_df:\n index name:  None \ncolumns:  Index(['Unnamed: 0', 'unit', 'file_count', 'filename'], dtype='object') \n149 rows:  149 \n\nproblem_sets_df:\n index name:  problem_set_ID \ncolumns:  Index(['filename', 'head', 'body', 'problems_list', 'problem_count',\n       'problem_IDs'],\n      dtype='object') \n149 rows:  149 \n\nproblems_df:\n index name:  problem_ID \ncolumns:  Index(['problem_set_ID', 'question'], dtype='object') \n1855 rows:  1855 \n\nstandards_df:\n index name:  None \ncolumns:  Index(['course', 'chapter', 'topic', 'ccss_ID'], dtype='object') \n314 rows:  314 \n\nstandards_desc_df:\n index name:  ccss_ID \ncolumns:  Index(['description'], dtype='object') \n131 rows:  131 \n\n"
    }
   ],
   "source": [
    "from main import print_problems_df\n",
    "    #map_course_files, parse_course_files, parse_problem_sets, "
   ]
  },
  {
   "cell_type": "markdown",
   "metadata": {},
   "source": [
    "## problems and problem set dataframes, refactoring"
   ]
  },
  {
   "cell_type": "code",
   "execution_count": 90,
   "metadata": {},
   "outputs": [],
   "source": [
    "newpage_df.to_csv('/Users/chris/GitHub/mathai/db/newpage_df.csv')\n",
    "problem_df.to_csv('/Users/chris/GitHub/mathai/db/problem_df.csv')\n",
    "pset_df.to_csv('/Users/chris/GitHub/mathai/db/pset_df.csv')\n",
    "multicol_error_pset_df.to_csv('/Users/chris/GitHub/mathai/db/multicol_error_pset_df.csv')"
   ]
  },
  {
   "cell_type": "code",
   "execution_count": 67,
   "metadata": {},
   "outputs": [],
   "source": []
  },
  {
   "cell_type": "code",
   "execution_count": 2,
   "metadata": {
    "tags": []
   },
   "outputs": [
    {
     "output_type": "stream",
     "name": "stdout",
     "text": "problem_df:  2107 Index(['problem_set_ID', 'question', 'q_len', 'file'], dtype='object')\nnewpage_df:  513 Index(['problem_set_ID', 'question', 'q_len', 'file'], dtype='object')\npset_df:  172 Index(['filename', 'head', 'body', 'problems_list', 'problem_count', 'path',\n       'unit', 'file'],\n      dtype='object')\n"
    }
   ],
   "source": [
    "problem_df = pd.read_csv('../db/problem_df.csv', index_col='problem_ID')\n",
    "newpage_df = pd.read_csv('../db/newpage_df.csv', index_col='problem_ID')\n",
    "cols_into_lists = {'problem_IDs':literal_eval, 'head':literal_eval, 'body':literal_eval, 'problems_list':literal_eval}\n",
    "pset_df = pd.read_csv('../db/pset_df.csv', index_col='problem_set_ID', converters=cols_into_lists)\n",
    "multicol_error_pset_df = pd.read_csv('../db/multicol_error_pset_df.csv', index_col='problem_set_ID', converters=cols_into_lists)\n",
    "print('problem_df: ', len(problem_df), problem_df.index.name, problem_df.columns)\n",
    "print('newpage_df: ', len(newpage_df), newpage_df.index.name, newpage_df.columns)\n",
    "print('pset_df: ', len(pset_df), pset_df.index.name, pset_df.columns)\n",
    "print('multicol_error_pset_df: ', len(multicol_error_pset_df))"
   ]
  },
  {
   "cell_type": "code",
   "execution_count": null,
   "metadata": {},
   "outputs": [],
   "source": [
    "p_df = pd.read_csv('../db/problem_df.csv', index_col='problem_ID')"
   ]
  },
  {
   "cell_type": "code",
   "execution_count": null,
   "metadata": {},
   "outputs": [],
   "source": [
    "os.getcwd()"
   ]
  },
  {
   "cell_type": "code",
   "execution_count": null,
   "metadata": {},
   "outputs": [],
   "source": [
    "p_df"
   ]
  },
  {
   "cell_type": "code",
   "execution_count": null,
   "metadata": {},
   "outputs": [],
   "source": [
    "p_df['file'] = problem_df.problem_set_ID.apply(lambda x: pset_df.loc[x, 'file'])\n",
    "p_df['q_len'] = problem_df.question.str.len()\n",
    "p_df.sort_values('q_len', inplace=True)\n",
    "p_df"
   ]
  },
  {
   "cell_type": "code",
   "execution_count": 112,
   "metadata": {},
   "outputs": [
    {
     "output_type": "execute_result",
     "data": {
      "text/plain": "                                                         filename  \\\nproblem_set_ID                                                      \n56              /Users/chris/GitHub/course-files/Geom/05-Trans...   \n57              /Users/chris/GitHub/course-files/Geom/05-Trans...   \n62              /Users/chris/GitHub/course-files/Geom/05-Trans...   \n69              /Users/chris/GitHub/course-files/Geom/05-Trans...   \n71              /Users/chris/GitHub/course-files/Geom/05-Trans...   \n73              /Users/chris/GitHub/course-files/Geom/06-Analy...   \n75              /Users/chris/GitHub/course-files/Geom/06-Analy...   \n76              /Users/chris/GitHub/course-files/Geom/06-Analy...   \n77              /Users/chris/GitHub/course-files/Geom/06-Analy...   \n79              /Users/chris/GitHub/course-files/Geom/06-Analy...   \n80              /Users/chris/GitHub/course-files/Geom/06-Analy...   \n82              /Users/chris/GitHub/course-files/Geom/06-Analy...   \n95              /Users/chris/GitHub/course-files/Geom/06-Analy...   \n104             /Users/chris/GitHub/course-files/Geom/07-Simil...   \n105             /Users/chris/GitHub/course-files/Geom/07-Simil...   \n107             /Users/chris/GitHub/course-files/Geom/07-Simil...   \n110             /Users/chris/GitHub/course-files/Geom/07-Simil...   \n111             /Users/chris/GitHub/course-files/Geom/07-Simil...   \n112             /Users/chris/GitHub/course-files/Geom/07-Simil...   \n113             /Users/chris/GitHub/course-files/Geom/07-Simil...   \n116             /Users/chris/GitHub/course-files/Geom/07-Simil...   \n119             /Users/chris/GitHub/course-files/Geom/07-Simil...   \n121             /Users/chris/GitHub/course-files/Geom/07-Simil...   \n134             /Users/chris/GitHub/course-files/Geom/08-Area+...   \n147             /Users/chris/GitHub/course-files/Geom/09-Congr...   \n148             /Users/chris/GitHub/course-files/Geom/09-Congr...   \n149             /Users/chris/GitHub/course-files/Geom/09-Congr...   \n151             /Users/chris/GitHub/course-files/Geom/09-Congr...   \n153             /Users/chris/GitHub/course-files/Geom/09-Congr...   \n156             /Users/chris/GitHub/course-files/Geom/09-Congr...   \n157             /Users/chris/GitHub/course-files/Geom/09-Congr...   \n158             /Users/chris/GitHub/course-files/Geom/09-Congr...   \n159             /Users/chris/GitHub/course-files/Geom/09-Congr...   \n160             /Users/chris/GitHub/course-files/Geom/09-Congr...   \n161             /Users/chris/GitHub/course-files/Geom/09-Congr...   \n162             /Users/chris/GitHub/course-files/Geom/09-Congr...   \n163             /Users/chris/GitHub/course-files/Geom/09-Congr...   \n164             /Users/chris/GitHub/course-files/Geom/09-Congr...   \n\n                                                             head  \\\nproblem_set_ID                                                      \n56              [\\begin{document}\\n, \\subsubsection*{5.11 Exam...   \n57              [\\begin{document}\\n, \\subsubsection*{5.11b Exa...   \n62              [\\begin{document}\\n, \\subsubsection*{5.4 Do No...   \n69              [\\begin{document}\\n, \\subsubsection*{5.9 Do No...   \n71              [\\begin{document}\\n, \\subsubsection*{5.9b Do N...   \n73              [\\begin{document}\\n, \\subsubsection*{6.10b Cla...   \n75              [\\begin{document}\\n, \\subsubsection*{6.11 Do N...   \n76              [\\begin{document}\\n, \\subsubsection*{6.11 Home...   \n77              [\\begin{document}\\n, \\subsubsection*{6.11b Do ...   \n79              [\\begin{document}\\n, \\subsubsection*{6.12 Exam...   \n80              [\\begin{document}\\n, \\subsubsection*{6.12b Exa...   \n82              [\\begin{document}\\n, \\subsubsection*{6.3 Class...   \n95              [\\begin{document}\\n, \\subsubsection*{6.9 Homew...   \n104             [\\begin{document}\\n, \\subsubsection*{7.2 Homew...   \n105             [\\begin{document}\\n, \\subsubsection*{7.2 Do No...   \n107             [\\begin{document}\\n, \\subsubsection*{7.3 Homew...   \n110             [\\begin{document}\\n, \\subsubsection*{7.5 Do No...   \n111             [\\begin{document}\\n, \\subsubsection*{7.5 Homew...   \n112             [\\begin{document}\\n, \\subsubsection*{7.5b Do N...   \n113             [\\begin{document}\\n, \\subsubsection*{7.6 Do No...   \n116             [\\begin{document}\\n, \\subsubsection*{7.7 Exam:...   \n119             [\\begin{document}\\n, \\subsubsection*{7.8 Homew...   \n121             [\\begin{document}\\n, \\subsubsection*{7.8b Home...   \n134             [\\begin{document}\\n, \\subsubsection*{8.3 Do No...   \n147             [\\begin{document}\\n, \\subsubsection*{9.1 Do No...   \n148             [\\begin{document}\\n, \\subsubsection*{9.1b Do N...   \n149             [\\begin{document}\\n, \\subsubsection*{9.2b Do N...   \n151             [\\begin{document}\\n, \\subsubsection*{9.3 Do No...   \n153             [\\begin{document}\\n, \\subsubsection*{9.3 Do No...   \n156             [\\begin{document}\\n, \\subsubsection*{9.4 Do No...   \n157             [\\begin{document}\\n, \\subsubsection*{9.4b Clas...   \n158             [\\begin{document}\\n, \\subsubsection*{9.4b Do N...   \n159             [\\begin{document}\\n, \\subsubsection*{9.5b Exam...   \n160             [\\begin{document}\\n, \\subsubsection*{9.7 Class...   \n161             [\\begin{document}\\n, \\subsubsection*{9.8 Class...   \n162             [\\begin{document}\\n, \\subsubsection*{9.8b Clas...   \n163             [\\begin{document}\\n, \\subsubsection*{9.9 Exam:...   \n164             [\\begin{document}\\n, \\subsubsection*{9.9b Exam...   \n\n                                                             body  \\\nproblem_set_ID                                                      \n56              [\\n,   \\begin{multicols}{2}\\n,     [\\item A tr...   \n57              [\\n,   \\begin{multicols}{2}\\n,     [\\item A tr...   \n62              [\\n,   \\item On the graph below, dilate the tr...   \n69              [\\n,   \\begin{multicols}{2}\\n,     [\\item A tr...   \n71              [\\n,   \\begin{multicols}{2}\\n,     [\\item A tr...   \n73              [  \\n,   \\item A dilation centered at $A$ maps...   \n75              [\\n,   \\begin{multicols}{2}\\n,     [\\item A di...   \n76              [\\n, \\item Given two parallel lines and a tran...   \n77              [\\n,   \\begin{multicols}{2}\\n,     [\\item A di...   \n79              [\\n,   \\item Graph and label the two equations...   \n80              [\\n,   \\item Graph and label the two equations...   \n82              [\\n, \\subsubsection*{Do Not Solve! \\\\\\n, Model...   \n95              [\\n,   \\item Checklist:\\n,   \\begin{itemize}\\n...   \n104             [\\n,   \\begin{multicols}{2}[\\item The diagram ...   \n105             [  \\item \\begin{enumerate}\\n,     \\item Graph ...   \n107             [\\n,     \\begin{multicols}{2}[\\item Two triang...   \n110             [  \\begin{multicols}{2}[\\item The diagram belo...   \n111             [\\n,   \\item After a dilation with center $(0,...   \n112             [  \\item \\begin{enumerate}\\n,     \\item Graph ...   \n113             [\\n,   \\begin{multicols}{2}\\n,   [\\item A tran...   \n116             [\\n,   \\item Given the following two linear eq...   \n119             [\\n,   \\begin{multicols}{2}[\\item In $\\triangl...   \n121             [\\n,   \\begin{multicols}{2}[\\item In $\\triangl...   \n134             [\\n,   \\item A pentagon is inscribed in circle...   \n147             [\\n,   \\item Translate $\\triangle ABC$ by $(x,...   \n148             [\\n,   \\item Slide $\\triangle ABC$ to the righ...   \n149             [\\n,   \\begin{multicols}{2}\\n,     [\\item A tr...   \n151             [\\n,   \\begin{multicols}{2}\\n,     [\\item A tr...   \n153             [\\n,   \\begin{multicols}{2}\\n,     [\\item A tr...   \n156             [\\n,     \\begin{multicols}{2}\\n,       [\\item ...   \n157             [\\n,   \\begin{multicols}{2}\\n,     [\\item A tr...   \n158             [\\n,     \\begin{multicols}{2}\\n,       [\\item ...   \n159             [\\n,   \\item Slide $\\triangle ABC$ to the left...   \n160             [\\n,   \\item Find the image of $P(1,-4)$ after...   \n161             [\\n,     \\begin{multicols}{2}[\\item Two triang...   \n162             [\\n, \\item A dilation centered at the origin w...   \n163             [\\n,   \\item State the translation that would ...   \n164             [\\n,   \\item State the translation that would ...   \n\n                                                    problems_list  \\\nproblem_set_ID                                                      \n56              [\\n  \\begin{multicols}{2}\\n, A translation map...   \n57              [\\n  \\begin{multicols}{2}\\n, A translation map...   \n62              [On the graph below, dilate the triangle $ABC$...   \n69              [\\n  \\begin{multicols}{2}\\n, A translation map...   \n71              [\\n  \\begin{multicols}{2}\\n, A translation map...   \n73              [  \\n, A dilation centered at $A$ maps $\\trian...   \n75              [\\n  \\begin{multicols}{2}\\n, A dilation with $...   \n76              [Given two parallel lines and a transversal, a...   \n77              [\\n  \\begin{multicols}{2}\\n, A dilation with $...   \n79              [Graph and label the two equations. Mark their...   \n80              [Graph and label the two equations. Mark their...   \n82              [Given $\\overline{ABC}$, with $AB=2x-1$, $BC=3...   \n95              [Checklist:\\n  \\begin{itemize}\\n, $\\square$]  ...   \n104             [The diagram below shows $\\triangle ABC$, with...   \n105             [\\begin{enumerate}\\n, Graph and label the two ...   \n107             [Two triangles are shown with $P$ the intersec...   \n110             [The diagram below shows $\\triangle ABC$, with...   \n111             [After a dilation with center $(0,0)$, the ima...   \n112             [\\begin{enumerate}\\n, Graph and label the two ...   \n113             [\\n  \\begin{multicols}{2}\\n, A translation map...   \n116             [Given the following two linear equations:\\n  ...   \n119             [In $\\triangle ABC$ shown below, $\\angle ACB$ ...   \n121             [In $\\triangle ABC$ shown below, $\\angle ACB$ ...   \n134             [A pentagon is inscribed in circle $O$, as sho...   \n147             [Translate $\\triangle ABC$ by $(x,y) \\rightarr...   \n148             [Slide $\\triangle ABC$ to the right three and ...   \n149             [\\n  \\begin{multicols}{2}\\n, A transformation ...   \n151             [\\n  \\begin{multicols}{2}\\n, A transformation ...   \n153             [\\n  \\begin{multicols}{2}\\n, A transformation ...   \n156             [\\n    \\begin{multicols}{2}\\n, Which of the fo...   \n157             [\\n  \\begin{multicols}{2}\\n, A transformation ...   \n158             [\\n    \\begin{multicols}{2}\\n, Which of the fo...   \n159             [Slide $\\triangle ABC$ to the left four and up...   \n160             [Find the image of $P(1,-4)$ after the transla...   \n161             [Two triangles are shown with $P$ the intersec...   \n162             [A dilation centered at the origin with scale ...   \n163             [State the translation that would map $M(-2,9)...   \n164             [State the translation that would map $M(-2,9)...   \n\n                problem_count                                   path  \\\nproblem_set_ID                                                         \n56                         42  /Users/chris/GitHub/course-files/Geom   \n57                         40  /Users/chris/GitHub/course-files/Geom   \n62                         12  /Users/chris/GitHub/course-files/Geom   \n69                         15  /Users/chris/GitHub/course-files/Geom   \n71                         25  /Users/chris/GitHub/course-files/Geom   \n73                         59  /Users/chris/GitHub/course-files/Geom   \n75                         19  /Users/chris/GitHub/course-files/Geom   \n76                         55  /Users/chris/GitHub/course-files/Geom   \n77                         14  /Users/chris/GitHub/course-files/Geom   \n79                         40  /Users/chris/GitHub/course-files/Geom   \n80                         33  /Users/chris/GitHub/course-files/Geom   \n82                         41  /Users/chris/GitHub/course-files/Geom   \n95                         62  /Users/chris/GitHub/course-files/Geom   \n104                        11  /Users/chris/GitHub/course-files/Geom   \n105                        18  /Users/chris/GitHub/course-files/Geom   \n107                         6  /Users/chris/GitHub/course-files/Geom   \n110                        17  /Users/chris/GitHub/course-files/Geom   \n111                         7  /Users/chris/GitHub/course-files/Geom   \n112                        25  /Users/chris/GitHub/course-files/Geom   \n113                         8  /Users/chris/GitHub/course-files/Geom   \n116                        40  /Users/chris/GitHub/course-files/Geom   \n119                        11  /Users/chris/GitHub/course-files/Geom   \n121                         5  /Users/chris/GitHub/course-files/Geom   \n134                        31  /Users/chris/GitHub/course-files/Geom   \n147                        20  /Users/chris/GitHub/course-files/Geom   \n148                        22  /Users/chris/GitHub/course-files/Geom   \n149                        12  /Users/chris/GitHub/course-files/Geom   \n151                        12  /Users/chris/GitHub/course-files/Geom   \n153                        12  /Users/chris/GitHub/course-files/Geom   \n156                        14  /Users/chris/GitHub/course-files/Geom   \n157                        12  /Users/chris/GitHub/course-files/Geom   \n158                        12  /Users/chris/GitHub/course-files/Geom   \n159                        38  /Users/chris/GitHub/course-files/Geom   \n160                        24  /Users/chris/GitHub/course-files/Geom   \n161                        20  /Users/chris/GitHub/course-files/Geom   \n162                        18  /Users/chris/GitHub/course-files/Geom   \n163                        41  /Users/chris/GitHub/course-files/Geom   \n164                        34  /Users/chris/GitHub/course-files/Geom   \n\n                                         unit                             file  \nproblem_set_ID                                                                  \n56                         05-Transformations     5-11Exam_Transformations.tex  \n57                         05-Transformations    5-11bExam_Transformations.tex  \n62                         05-Transformations      5-4DN-similarity-ratios.tex  \n69                         05-Transformations             5-9DN_Multi-step.tex  \n71                         05-Transformations            5-9bDN_Multi-step.tex  \n73                       06-Analytic-geometry             6-10bCW_Dilation.tex  \n75                       06-Analytic-geometry       6-11DN_Transformations.tex  \n76                       06-Analytic-geometry        6-11HW_pretest-angles.tex  \n77                       06-Analytic-geometry      6-11bDN_Transformations.tex  \n79                       06-Analytic-geometry   6-12Exam-Analytic-geometry.tex  \n80                       06-Analytic-geometry  6-12bExam-Analytic-geometry.tex  \n82                       06-Analytic-geometry         6-3CW_Absense-packet.tex  \n95                       06-Analytic-geometry       6-9HW_pretest-graphing.tex  \n104                             07-Similarity      7-2HW_Similarity-ratios.tex  \n105                             07-Similarity     7-2bDN_Graphing-practice.tex  \n107                             07-Similarity          7-3HW_AA-similarity.tex  \n110                             07-Similarity     7-5DN_Similarity+tangent.tex  \n111                             07-Similarity               7-5HW_Symmetry.tex  \n112                             07-Similarity    7-5bCW_Graphing+isosceles.tex  \n113                             07-Similarity               7-6DN_Symmetry.tex  \n116                             07-Similarity           7-7Exam-Similarity.tex  \n119                             07-Similarity  7-8HW_Right-triangle-ratios.tex  \n121                             07-Similarity         7-8bHW_Constructions.tex  \n134                            08-Area+volume                8-3DN_Density.tex  \n147             09-Congruence-transformations         9-1DN_Correspondence.tex  \n148             09-Congruence-transformations        9-1bDN_Correspondence.tex  \n149             09-Congruence-transformations           9-2bCW_Composition.tex  \n151             09-Congruence-transformations            9-3DN_Composition.tex  \n153             09-Congruence-transformations           9-3bDN_Composition.tex  \n156             09-Congruence-transformations             9-4DN-reflection.tex  \n157             09-Congruence-transformations           9-4bCW_Composition.tex  \n158             09-Congruence-transformations            9-4bDN-reflection.tex  \n159             09-Congruence-transformations     9-5bExam-transformations.tex  \n160             09-Congruence-transformations      9-7CW-Similarity-review.tex  \n161             09-Congruence-transformations      9-8DN-Similarity-review.tex  \n162             09-Congruence-transformations     9-8bDN-Similarity-review.tex  \n163             09-Congruence-transformations      9-9Exam-transformations.tex  \n164             09-Congruence-transformations     9-9bExam-transformations.tex  ",
      "text/html": "<div>\n<style scoped>\n    .dataframe tbody tr th:only-of-type {\n        vertical-align: middle;\n    }\n\n    .dataframe tbody tr th {\n        vertical-align: top;\n    }\n\n    .dataframe thead th {\n        text-align: right;\n    }\n</style>\n<table border=\"1\" class=\"dataframe\">\n  <thead>\n    <tr style=\"text-align: right;\">\n      <th></th>\n      <th>filename</th>\n      <th>head</th>\n      <th>body</th>\n      <th>problems_list</th>\n      <th>problem_count</th>\n      <th>path</th>\n      <th>unit</th>\n      <th>file</th>\n    </tr>\n    <tr>\n      <th>problem_set_ID</th>\n      <th></th>\n      <th></th>\n      <th></th>\n      <th></th>\n      <th></th>\n      <th></th>\n      <th></th>\n      <th></th>\n    </tr>\n  </thead>\n  <tbody>\n    <tr>\n      <th>56</th>\n      <td>/Users/chris/GitHub/course-files/Geom/05-Trans...</td>\n      <td>[\\begin{document}\\n, \\subsubsection*{5.11 Exam...</td>\n      <td>[\\n,   \\begin{multicols}{2}\\n,     [\\item A tr...</td>\n      <td>[\\n  \\begin{multicols}{2}\\n, A translation map...</td>\n      <td>42</td>\n      <td>/Users/chris/GitHub/course-files/Geom</td>\n      <td>05-Transformations</td>\n      <td>5-11Exam_Transformations.tex</td>\n    </tr>\n    <tr>\n      <th>57</th>\n      <td>/Users/chris/GitHub/course-files/Geom/05-Trans...</td>\n      <td>[\\begin{document}\\n, \\subsubsection*{5.11b Exa...</td>\n      <td>[\\n,   \\begin{multicols}{2}\\n,     [\\item A tr...</td>\n      <td>[\\n  \\begin{multicols}{2}\\n, A translation map...</td>\n      <td>40</td>\n      <td>/Users/chris/GitHub/course-files/Geom</td>\n      <td>05-Transformations</td>\n      <td>5-11bExam_Transformations.tex</td>\n    </tr>\n    <tr>\n      <th>62</th>\n      <td>/Users/chris/GitHub/course-files/Geom/05-Trans...</td>\n      <td>[\\begin{document}\\n, \\subsubsection*{5.4 Do No...</td>\n      <td>[\\n,   \\item On the graph below, dilate the tr...</td>\n      <td>[On the graph below, dilate the triangle $ABC$...</td>\n      <td>12</td>\n      <td>/Users/chris/GitHub/course-files/Geom</td>\n      <td>05-Transformations</td>\n      <td>5-4DN-similarity-ratios.tex</td>\n    </tr>\n    <tr>\n      <th>69</th>\n      <td>/Users/chris/GitHub/course-files/Geom/05-Trans...</td>\n      <td>[\\begin{document}\\n, \\subsubsection*{5.9 Do No...</td>\n      <td>[\\n,   \\begin{multicols}{2}\\n,     [\\item A tr...</td>\n      <td>[\\n  \\begin{multicols}{2}\\n, A translation map...</td>\n      <td>15</td>\n      <td>/Users/chris/GitHub/course-files/Geom</td>\n      <td>05-Transformations</td>\n      <td>5-9DN_Multi-step.tex</td>\n    </tr>\n    <tr>\n      <th>71</th>\n      <td>/Users/chris/GitHub/course-files/Geom/05-Trans...</td>\n      <td>[\\begin{document}\\n, \\subsubsection*{5.9b Do N...</td>\n      <td>[\\n,   \\begin{multicols}{2}\\n,     [\\item A tr...</td>\n      <td>[\\n  \\begin{multicols}{2}\\n, A translation map...</td>\n      <td>25</td>\n      <td>/Users/chris/GitHub/course-files/Geom</td>\n      <td>05-Transformations</td>\n      <td>5-9bDN_Multi-step.tex</td>\n    </tr>\n    <tr>\n      <th>73</th>\n      <td>/Users/chris/GitHub/course-files/Geom/06-Analy...</td>\n      <td>[\\begin{document}\\n, \\subsubsection*{6.10b Cla...</td>\n      <td>[  \\n,   \\item A dilation centered at $A$ maps...</td>\n      <td>[  \\n, A dilation centered at $A$ maps $\\trian...</td>\n      <td>59</td>\n      <td>/Users/chris/GitHub/course-files/Geom</td>\n      <td>06-Analytic-geometry</td>\n      <td>6-10bCW_Dilation.tex</td>\n    </tr>\n    <tr>\n      <th>75</th>\n      <td>/Users/chris/GitHub/course-files/Geom/06-Analy...</td>\n      <td>[\\begin{document}\\n, \\subsubsection*{6.11 Do N...</td>\n      <td>[\\n,   \\begin{multicols}{2}\\n,     [\\item A di...</td>\n      <td>[\\n  \\begin{multicols}{2}\\n, A dilation with $...</td>\n      <td>19</td>\n      <td>/Users/chris/GitHub/course-files/Geom</td>\n      <td>06-Analytic-geometry</td>\n      <td>6-11DN_Transformations.tex</td>\n    </tr>\n    <tr>\n      <th>76</th>\n      <td>/Users/chris/GitHub/course-files/Geom/06-Analy...</td>\n      <td>[\\begin{document}\\n, \\subsubsection*{6.11 Home...</td>\n      <td>[\\n, \\item Given two parallel lines and a tran...</td>\n      <td>[Given two parallel lines and a transversal, a...</td>\n      <td>55</td>\n      <td>/Users/chris/GitHub/course-files/Geom</td>\n      <td>06-Analytic-geometry</td>\n      <td>6-11HW_pretest-angles.tex</td>\n    </tr>\n    <tr>\n      <th>77</th>\n      <td>/Users/chris/GitHub/course-files/Geom/06-Analy...</td>\n      <td>[\\begin{document}\\n, \\subsubsection*{6.11b Do ...</td>\n      <td>[\\n,   \\begin{multicols}{2}\\n,     [\\item A di...</td>\n      <td>[\\n  \\begin{multicols}{2}\\n, A dilation with $...</td>\n      <td>14</td>\n      <td>/Users/chris/GitHub/course-files/Geom</td>\n      <td>06-Analytic-geometry</td>\n      <td>6-11bDN_Transformations.tex</td>\n    </tr>\n    <tr>\n      <th>79</th>\n      <td>/Users/chris/GitHub/course-files/Geom/06-Analy...</td>\n      <td>[\\begin{document}\\n, \\subsubsection*{6.12 Exam...</td>\n      <td>[\\n,   \\item Graph and label the two equations...</td>\n      <td>[Graph and label the two equations. Mark their...</td>\n      <td>40</td>\n      <td>/Users/chris/GitHub/course-files/Geom</td>\n      <td>06-Analytic-geometry</td>\n      <td>6-12Exam-Analytic-geometry.tex</td>\n    </tr>\n    <tr>\n      <th>80</th>\n      <td>/Users/chris/GitHub/course-files/Geom/06-Analy...</td>\n      <td>[\\begin{document}\\n, \\subsubsection*{6.12b Exa...</td>\n      <td>[\\n,   \\item Graph and label the two equations...</td>\n      <td>[Graph and label the two equations. Mark their...</td>\n      <td>33</td>\n      <td>/Users/chris/GitHub/course-files/Geom</td>\n      <td>06-Analytic-geometry</td>\n      <td>6-12bExam-Analytic-geometry.tex</td>\n    </tr>\n    <tr>\n      <th>82</th>\n      <td>/Users/chris/GitHub/course-files/Geom/06-Analy...</td>\n      <td>[\\begin{document}\\n, \\subsubsection*{6.3 Class...</td>\n      <td>[\\n, \\subsubsection*{Do Not Solve! \\\\\\n, Model...</td>\n      <td>[Given $\\overline{ABC}$, with $AB=2x-1$, $BC=3...</td>\n      <td>41</td>\n      <td>/Users/chris/GitHub/course-files/Geom</td>\n      <td>06-Analytic-geometry</td>\n      <td>6-3CW_Absense-packet.tex</td>\n    </tr>\n    <tr>\n      <th>95</th>\n      <td>/Users/chris/GitHub/course-files/Geom/06-Analy...</td>\n      <td>[\\begin{document}\\n, \\subsubsection*{6.9 Homew...</td>\n      <td>[\\n,   \\item Checklist:\\n,   \\begin{itemize}\\n...</td>\n      <td>[Checklist:\\n  \\begin{itemize}\\n, $\\square$]  ...</td>\n      <td>62</td>\n      <td>/Users/chris/GitHub/course-files/Geom</td>\n      <td>06-Analytic-geometry</td>\n      <td>6-9HW_pretest-graphing.tex</td>\n    </tr>\n    <tr>\n      <th>104</th>\n      <td>/Users/chris/GitHub/course-files/Geom/07-Simil...</td>\n      <td>[\\begin{document}\\n, \\subsubsection*{7.2 Homew...</td>\n      <td>[\\n,   \\begin{multicols}{2}[\\item The diagram ...</td>\n      <td>[The diagram below shows $\\triangle ABC$, with...</td>\n      <td>11</td>\n      <td>/Users/chris/GitHub/course-files/Geom</td>\n      <td>07-Similarity</td>\n      <td>7-2HW_Similarity-ratios.tex</td>\n    </tr>\n    <tr>\n      <th>105</th>\n      <td>/Users/chris/GitHub/course-files/Geom/07-Simil...</td>\n      <td>[\\begin{document}\\n, \\subsubsection*{7.2 Do No...</td>\n      <td>[  \\item \\begin{enumerate}\\n,     \\item Graph ...</td>\n      <td>[\\begin{enumerate}\\n, Graph and label the two ...</td>\n      <td>18</td>\n      <td>/Users/chris/GitHub/course-files/Geom</td>\n      <td>07-Similarity</td>\n      <td>7-2bDN_Graphing-practice.tex</td>\n    </tr>\n    <tr>\n      <th>107</th>\n      <td>/Users/chris/GitHub/course-files/Geom/07-Simil...</td>\n      <td>[\\begin{document}\\n, \\subsubsection*{7.3 Homew...</td>\n      <td>[\\n,     \\begin{multicols}{2}[\\item Two triang...</td>\n      <td>[Two triangles are shown with $P$ the intersec...</td>\n      <td>6</td>\n      <td>/Users/chris/GitHub/course-files/Geom</td>\n      <td>07-Similarity</td>\n      <td>7-3HW_AA-similarity.tex</td>\n    </tr>\n    <tr>\n      <th>110</th>\n      <td>/Users/chris/GitHub/course-files/Geom/07-Simil...</td>\n      <td>[\\begin{document}\\n, \\subsubsection*{7.5 Do No...</td>\n      <td>[  \\begin{multicols}{2}[\\item The diagram belo...</td>\n      <td>[The diagram below shows $\\triangle ABC$, with...</td>\n      <td>17</td>\n      <td>/Users/chris/GitHub/course-files/Geom</td>\n      <td>07-Similarity</td>\n      <td>7-5DN_Similarity+tangent.tex</td>\n    </tr>\n    <tr>\n      <th>111</th>\n      <td>/Users/chris/GitHub/course-files/Geom/07-Simil...</td>\n      <td>[\\begin{document}\\n, \\subsubsection*{7.5 Homew...</td>\n      <td>[\\n,   \\item After a dilation with center $(0,...</td>\n      <td>[After a dilation with center $(0,0)$, the ima...</td>\n      <td>7</td>\n      <td>/Users/chris/GitHub/course-files/Geom</td>\n      <td>07-Similarity</td>\n      <td>7-5HW_Symmetry.tex</td>\n    </tr>\n    <tr>\n      <th>112</th>\n      <td>/Users/chris/GitHub/course-files/Geom/07-Simil...</td>\n      <td>[\\begin{document}\\n, \\subsubsection*{7.5b Do N...</td>\n      <td>[  \\item \\begin{enumerate}\\n,     \\item Graph ...</td>\n      <td>[\\begin{enumerate}\\n, Graph and label the two ...</td>\n      <td>25</td>\n      <td>/Users/chris/GitHub/course-files/Geom</td>\n      <td>07-Similarity</td>\n      <td>7-5bCW_Graphing+isosceles.tex</td>\n    </tr>\n    <tr>\n      <th>113</th>\n      <td>/Users/chris/GitHub/course-files/Geom/07-Simil...</td>\n      <td>[\\begin{document}\\n, \\subsubsection*{7.6 Do No...</td>\n      <td>[\\n,   \\begin{multicols}{2}\\n,   [\\item A tran...</td>\n      <td>[\\n  \\begin{multicols}{2}\\n, A translation map...</td>\n      <td>8</td>\n      <td>/Users/chris/GitHub/course-files/Geom</td>\n      <td>07-Similarity</td>\n      <td>7-6DN_Symmetry.tex</td>\n    </tr>\n    <tr>\n      <th>116</th>\n      <td>/Users/chris/GitHub/course-files/Geom/07-Simil...</td>\n      <td>[\\begin{document}\\n, \\subsubsection*{7.7 Exam:...</td>\n      <td>[\\n,   \\item Given the following two linear eq...</td>\n      <td>[Given the following two linear equations:\\n  ...</td>\n      <td>40</td>\n      <td>/Users/chris/GitHub/course-files/Geom</td>\n      <td>07-Similarity</td>\n      <td>7-7Exam-Similarity.tex</td>\n    </tr>\n    <tr>\n      <th>119</th>\n      <td>/Users/chris/GitHub/course-files/Geom/07-Simil...</td>\n      <td>[\\begin{document}\\n, \\subsubsection*{7.8 Homew...</td>\n      <td>[\\n,   \\begin{multicols}{2}[\\item In $\\triangl...</td>\n      <td>[In $\\triangle ABC$ shown below, $\\angle ACB$ ...</td>\n      <td>11</td>\n      <td>/Users/chris/GitHub/course-files/Geom</td>\n      <td>07-Similarity</td>\n      <td>7-8HW_Right-triangle-ratios.tex</td>\n    </tr>\n    <tr>\n      <th>121</th>\n      <td>/Users/chris/GitHub/course-files/Geom/07-Simil...</td>\n      <td>[\\begin{document}\\n, \\subsubsection*{7.8b Home...</td>\n      <td>[\\n,   \\begin{multicols}{2}[\\item In $\\triangl...</td>\n      <td>[In $\\triangle ABC$ shown below, $\\angle ACB$ ...</td>\n      <td>5</td>\n      <td>/Users/chris/GitHub/course-files/Geom</td>\n      <td>07-Similarity</td>\n      <td>7-8bHW_Constructions.tex</td>\n    </tr>\n    <tr>\n      <th>134</th>\n      <td>/Users/chris/GitHub/course-files/Geom/08-Area+...</td>\n      <td>[\\begin{document}\\n, \\subsubsection*{8.3 Do No...</td>\n      <td>[\\n,   \\item A pentagon is inscribed in circle...</td>\n      <td>[A pentagon is inscribed in circle $O$, as sho...</td>\n      <td>31</td>\n      <td>/Users/chris/GitHub/course-files/Geom</td>\n      <td>08-Area+volume</td>\n      <td>8-3DN_Density.tex</td>\n    </tr>\n    <tr>\n      <th>147</th>\n      <td>/Users/chris/GitHub/course-files/Geom/09-Congr...</td>\n      <td>[\\begin{document}\\n, \\subsubsection*{9.1 Do No...</td>\n      <td>[\\n,   \\item Translate $\\triangle ABC$ by $(x,...</td>\n      <td>[Translate $\\triangle ABC$ by $(x,y) \\rightarr...</td>\n      <td>20</td>\n      <td>/Users/chris/GitHub/course-files/Geom</td>\n      <td>09-Congruence-transformations</td>\n      <td>9-1DN_Correspondence.tex</td>\n    </tr>\n    <tr>\n      <th>148</th>\n      <td>/Users/chris/GitHub/course-files/Geom/09-Congr...</td>\n      <td>[\\begin{document}\\n, \\subsubsection*{9.1b Do N...</td>\n      <td>[\\n,   \\item Slide $\\triangle ABC$ to the righ...</td>\n      <td>[Slide $\\triangle ABC$ to the right three and ...</td>\n      <td>22</td>\n      <td>/Users/chris/GitHub/course-files/Geom</td>\n      <td>09-Congruence-transformations</td>\n      <td>9-1bDN_Correspondence.tex</td>\n    </tr>\n    <tr>\n      <th>149</th>\n      <td>/Users/chris/GitHub/course-files/Geom/09-Congr...</td>\n      <td>[\\begin{document}\\n, \\subsubsection*{9.2b Do N...</td>\n      <td>[\\n,   \\begin{multicols}{2}\\n,     [\\item A tr...</td>\n      <td>[\\n  \\begin{multicols}{2}\\n, A transformation ...</td>\n      <td>12</td>\n      <td>/Users/chris/GitHub/course-files/Geom</td>\n      <td>09-Congruence-transformations</td>\n      <td>9-2bCW_Composition.tex</td>\n    </tr>\n    <tr>\n      <th>151</th>\n      <td>/Users/chris/GitHub/course-files/Geom/09-Congr...</td>\n      <td>[\\begin{document}\\n, \\subsubsection*{9.3 Do No...</td>\n      <td>[\\n,   \\begin{multicols}{2}\\n,     [\\item A tr...</td>\n      <td>[\\n  \\begin{multicols}{2}\\n, A transformation ...</td>\n      <td>12</td>\n      <td>/Users/chris/GitHub/course-files/Geom</td>\n      <td>09-Congruence-transformations</td>\n      <td>9-3DN_Composition.tex</td>\n    </tr>\n    <tr>\n      <th>153</th>\n      <td>/Users/chris/GitHub/course-files/Geom/09-Congr...</td>\n      <td>[\\begin{document}\\n, \\subsubsection*{9.3 Do No...</td>\n      <td>[\\n,   \\begin{multicols}{2}\\n,     [\\item A tr...</td>\n      <td>[\\n  \\begin{multicols}{2}\\n, A transformation ...</td>\n      <td>12</td>\n      <td>/Users/chris/GitHub/course-files/Geom</td>\n      <td>09-Congruence-transformations</td>\n      <td>9-3bDN_Composition.tex</td>\n    </tr>\n    <tr>\n      <th>156</th>\n      <td>/Users/chris/GitHub/course-files/Geom/09-Congr...</td>\n      <td>[\\begin{document}\\n, \\subsubsection*{9.4 Do No...</td>\n      <td>[\\n,     \\begin{multicols}{2}\\n,       [\\item ...</td>\n      <td>[\\n    \\begin{multicols}{2}\\n, Which of the fo...</td>\n      <td>14</td>\n      <td>/Users/chris/GitHub/course-files/Geom</td>\n      <td>09-Congruence-transformations</td>\n      <td>9-4DN-reflection.tex</td>\n    </tr>\n    <tr>\n      <th>157</th>\n      <td>/Users/chris/GitHub/course-files/Geom/09-Congr...</td>\n      <td>[\\begin{document}\\n, \\subsubsection*{9.4b Clas...</td>\n      <td>[\\n,   \\begin{multicols}{2}\\n,     [\\item A tr...</td>\n      <td>[\\n  \\begin{multicols}{2}\\n, A transformation ...</td>\n      <td>12</td>\n      <td>/Users/chris/GitHub/course-files/Geom</td>\n      <td>09-Congruence-transformations</td>\n      <td>9-4bCW_Composition.tex</td>\n    </tr>\n    <tr>\n      <th>158</th>\n      <td>/Users/chris/GitHub/course-files/Geom/09-Congr...</td>\n      <td>[\\begin{document}\\n, \\subsubsection*{9.4b Do N...</td>\n      <td>[\\n,     \\begin{multicols}{2}\\n,       [\\item ...</td>\n      <td>[\\n    \\begin{multicols}{2}\\n, Which of the fo...</td>\n      <td>12</td>\n      <td>/Users/chris/GitHub/course-files/Geom</td>\n      <td>09-Congruence-transformations</td>\n      <td>9-4bDN-reflection.tex</td>\n    </tr>\n    <tr>\n      <th>159</th>\n      <td>/Users/chris/GitHub/course-files/Geom/09-Congr...</td>\n      <td>[\\begin{document}\\n, \\subsubsection*{9.5b Exam...</td>\n      <td>[\\n,   \\item Slide $\\triangle ABC$ to the left...</td>\n      <td>[Slide $\\triangle ABC$ to the left four and up...</td>\n      <td>38</td>\n      <td>/Users/chris/GitHub/course-files/Geom</td>\n      <td>09-Congruence-transformations</td>\n      <td>9-5bExam-transformations.tex</td>\n    </tr>\n    <tr>\n      <th>160</th>\n      <td>/Users/chris/GitHub/course-files/Geom/09-Congr...</td>\n      <td>[\\begin{document}\\n, \\subsubsection*{9.7 Class...</td>\n      <td>[\\n,   \\item Find the image of $P(1,-4)$ after...</td>\n      <td>[Find the image of $P(1,-4)$ after the transla...</td>\n      <td>24</td>\n      <td>/Users/chris/GitHub/course-files/Geom</td>\n      <td>09-Congruence-transformations</td>\n      <td>9-7CW-Similarity-review.tex</td>\n    </tr>\n    <tr>\n      <th>161</th>\n      <td>/Users/chris/GitHub/course-files/Geom/09-Congr...</td>\n      <td>[\\begin{document}\\n, \\subsubsection*{9.8 Class...</td>\n      <td>[\\n,     \\begin{multicols}{2}[\\item Two triang...</td>\n      <td>[Two triangles are shown with $P$ the intersec...</td>\n      <td>20</td>\n      <td>/Users/chris/GitHub/course-files/Geom</td>\n      <td>09-Congruence-transformations</td>\n      <td>9-8DN-Similarity-review.tex</td>\n    </tr>\n    <tr>\n      <th>162</th>\n      <td>/Users/chris/GitHub/course-files/Geom/09-Congr...</td>\n      <td>[\\begin{document}\\n, \\subsubsection*{9.8b Clas...</td>\n      <td>[\\n, \\item A dilation centered at the origin w...</td>\n      <td>[A dilation centered at the origin with scale ...</td>\n      <td>18</td>\n      <td>/Users/chris/GitHub/course-files/Geom</td>\n      <td>09-Congruence-transformations</td>\n      <td>9-8bDN-Similarity-review.tex</td>\n    </tr>\n    <tr>\n      <th>163</th>\n      <td>/Users/chris/GitHub/course-files/Geom/09-Congr...</td>\n      <td>[\\begin{document}\\n, \\subsubsection*{9.9 Exam:...</td>\n      <td>[\\n,   \\item State the translation that would ...</td>\n      <td>[State the translation that would map $M(-2,9)...</td>\n      <td>41</td>\n      <td>/Users/chris/GitHub/course-files/Geom</td>\n      <td>09-Congruence-transformations</td>\n      <td>9-9Exam-transformations.tex</td>\n    </tr>\n    <tr>\n      <th>164</th>\n      <td>/Users/chris/GitHub/course-files/Geom/09-Congr...</td>\n      <td>[\\begin{document}\\n, \\subsubsection*{9.9b Exam...</td>\n      <td>[\\n,   \\item State the translation that would ...</td>\n      <td>[State the translation that would map $M(-2,9)...</td>\n      <td>34</td>\n      <td>/Users/chris/GitHub/course-files/Geom</td>\n      <td>09-Congruence-transformations</td>\n      <td>9-9bExam-transformations.tex</td>\n    </tr>\n  </tbody>\n</table>\n</div>"
     },
     "metadata": {},
     "execution_count": 112
    }
   ],
   "source": [
    "multicol_error_pset_df"
   ]
  },
  {
   "cell_type": "code",
   "execution_count": 128,
   "metadata": {
    "tags": []
   },
   "outputs": [
    {
     "output_type": "execute_result",
     "data": {
      "text/plain": "problem_ID\n882    On the graph below, dilate the triangle $ABC$ ...\n883    Triangle $ABC$ is dilated with a factor of $\\f...\n885    The coordinates of the endpoints of $\\overline...\n886    Given similar triangles $\\triangle ABC \\sim \\t...\n888    Given $\\triangle ABC \\sim \\triangle DEF$. $m\\a...\n889    Given $\\triangle ABP \\sim \\triangle JKP$ as sh...\n890    A translation maps triangle $CAT$ onto triangl...\n892    Using a compass and straightedge, construct th...\n893    Triangle $ABC$ is dilated with a factor of $\\f...\nName: question, dtype: object"
     },
     "metadata": {},
     "execution_count": 128
    }
   ],
   "source": [
    "problem_df[problem_df.problem_set_ID == 62].sort_index().question"
   ]
  },
  {
   "cell_type": "code",
   "execution_count": 7,
   "metadata": {
    "tags": []
   },
   "outputs": [
    {
     "output_type": "stream",
     "name": "stdout",
     "text": "Translate $\\triangle ABC$ by $(x,y) \\rightarrow (x+3, y-5)$. Label the image $\\triangle A'B'C'$.\n  \\begin{center}\n      \\begin{tikzpicture}[scale=.48]\n      \\draw [help lines] (-7,-5) grid (10,6);\n      \\draw [thick, <->] (-7.4,0) -- (10.4,0) node [right] {$x$};\n      \\draw [thick, <->] (0,-5.4)--(0,6.4) node [above] {$y$};  \n      \\draw [thick]\n        (-4,4) node[below left] {$A$}--\n        (3,4) node[above] {$B$}--\n        (1,1) node[below] {$C$}--cycle;  \n    \\end{tikzpicture}\n  \\end{center}\n\n  \n  \\begin{multicols}{2}\n\nWhat transformation maps $\\triangle ABC$ onto $\\triangle DEC$, shown below? Fully specify the transformation. Complete the table of mappings to  corresponding objects.]  \\vspace{0.5cm}\n    \\begin{enumerate}\n      \\item $A \\rightarrow$ \\rule{2cm}{0.15mm}\n      \\item $B \\rightarrow$ \\rule{2cm}{0.15mm}\n      \\item $C \\rightarrow$ \\rule{2cm}{0.15mm}\n      \\item $\\angle ACB \\cong$ \\rule{2cm}{0.15mm}\n      \\item \\rule{2cm}{0.15mm} $\\cong \\overline {DE}$\n    \\end{enumerate}\n    \\begin{tikzpicture}[scale=.48]\n      \\draw [help lines] (-4,-3) grid (9,8);\n      \\draw [thick, <->] (-4.4,0) -- (9.4,0) node [right] {$x$};\n      \\draw [thick, <->] (0,-3.4)--(0,8.4) node [above] {$y$};  \n      \\draw [thick]\n      (4,-2) node[below left] {$A$}--\n      (7,1) node[right] {$B$}--\n      (1,1) node[below left] {$C$}--cycle;  \n      \\draw [thick]\n      (4,4) node[right] {$D$}--\n      (1,7) node[left] {$E$}--\n      (1,1) --cycle; \n    \\end{tikzpicture}\n  \\end{multicols}\n  \n  \\begin{multicols}{2}\n\nReflect $\\triangle TRS$ across the $y$-axis, labeling the image $\\triangle T'R'S'$. Check those properties that are maintained by reflection.]  \\vspace{0.5cm}\n    \\begin{itemize}\n\n$\\square$] Length\n\n$\\square$] Angle measures\n\n$\\square$] Orientation\n\n$\\square$] Parallel relationships\n\n$\\square$] Area\n    \\end{itemize}\n    \\begin{tikzpicture}[scale=.48]\n      \\draw [help lines] (-7,-4) grid (7,5);\n      \\draw [thick, <->] (-7.4,0) -- (7.4,0) node [right] {$x$};\n      \\draw [thick, <->] (0,-4.4)--(0,5.4) node [above] {$y$};  \n      \\draw [thick]\n      (4,-2) node[below left] {$T$}--\n      (5,1) node[right] {$R$}--\n      (2,2) node[below left] {$S$}--cycle;\n    \\end{tikzpicture}\n  \\end{multicols}\n\n\n  \\begin{multicols}{2}\n\nA translation maps triangle $PQR$ onto triangle $STU$.] \\vspace{0.5cm}\n      \\begin{tikzpicture}[scale=0.9]\n        \\coordinate [label=above left:$P$](A) at (95:2);\n        \\coordinate [label=below:$Q$](B) at (0, 0);\n        \\coordinate [label=right:$R$](C) at (-10:3.5);\n        \\draw [thick] (A)--(B)--(C)--cycle;\n        \\draw [thick, xshift=3cm, yshift=1.5cm] (95:2) node[above]{$S$}--\n        (0,0) node[below]{$T$}--\n        (-10:3.5) node[right]{$U$}--cycle;\n      \\end{tikzpicture}\\\\\n      Write each corresponding object.\n      \\begin{enumerate}\n        \\item $Q \\rightarrow$ \\rule{2cm}{0.15mm}\n        \\item $\\angle QRP \\cong$ \\rule{2cm}{0.15mm}\n        \\item \\rule{2cm}{0.15mm} $\\cong \\overline {ST}$\n        \\item Justify $\\triangle PQR \\cong \\triangle STU$. Use the words ``rigid motion\".\n      \\end{enumerate}\n    \\end{multicols}  \\vspace{2cm}\n\n\nCheck those transformations that are rigid motions.\n    \\begin{itemize}\n\n$\\square$] Dilation\n\n$\\square$] Translation\n\n$\\square$] Reflection\n\n$\\square$] Rotation\n\n$\\square$] An isometry\n\n$\\square$] Horizontal stretch\n    \\end{itemize}\n\n  \\begin{multicols}{2}\n\nA rigid motion maps $\\triangle DEF$ onto $\\triangle LMN$. Fill in the blanks.] \\vspace{0.5cm}\n      The following is given:\\\\*[0.5cm]\n      $DE=10$ \\\\\n      $m\\angle E = 40^\\circ$ \\\\\n      $m\\angle F = 110^\\circ$ \\\\[0.5cm]\n      \\columnbreak\n      \n      \\begin{enumerate}\n        \\item $D \\rightarrow$ \\rule{2cm}{0.15mm}\n        \\item $LM =$ \\rule{2cm}{0.15mm}\n        \\item $m\\angle M =$ \\rule{2cm}{0.15mm}\n        \\item $\\overline{LM} \\cong$ \\rule{2cm}{0.15mm}\n      \\end{enumerate}\n    \\end{multicols} \n\n\nGiven $\\triangle JKL \\sim \\triangle MNO$. $m\\angle K = 40^\\circ$ and $m\\angle M = 100^\\circ$.\\\\\n    Find the measure of $\\angle J$. \\vspace{3cm}\n\n\n\n\n"
    }
   ],
   "source": [
    "for q in problem_df[problem_df.file == '9-1DN_Correspondence.tex'].sort_index().question:\n",
    "    print(q)"
   ]
  },
  {
   "cell_type": "code",
   "execution_count": 63,
   "metadata": {
    "tags": []
   },
   "outputs": [],
   "source": [
    "#print(pset_df.loc[62, 'body'])\n",
    "multicol_error_pset_df = pset_df[pset_df.body.apply(lambda x: r'[\\\\item' in str(x))].copy()"
   ]
  },
  {
   "cell_type": "code",
   "execution_count": 83,
   "metadata": {},
   "outputs": [
    {
     "output_type": "execute_result",
     "data": {
      "text/plain": "            problem_set_ID                                           question  \\\nproblem_ID                                                                      \n82                     8.0  Points that are all located on the same plane ...   \n83                     8.0  Given $\\overline{ABC}$, $AB=3.8$, and $BC=1.7$...   \n84                     8.0  Given $\\overleftrightarrow{MN}$ as shown on th...   \n80                     8.0  Complete the construction of an equilateral tr...   \n85                     8.0  Given the situation in the diagram, answer eac...   \n\n            q_len                   file  \nproblem_ID                                \n82             82  1-6DN_Angle-pairs.tex  \n83            491  1-6DN_Angle-pairs.tex  \n84            546  1-6DN_Angle-pairs.tex  \n80            900  1-6DN_Angle-pairs.tex  \n85           1066  1-6DN_Angle-pairs.tex  ",
      "text/html": "<div>\n<style scoped>\n    .dataframe tbody tr th:only-of-type {\n        vertical-align: middle;\n    }\n\n    .dataframe tbody tr th {\n        vertical-align: top;\n    }\n\n    .dataframe thead th {\n        text-align: right;\n    }\n</style>\n<table border=\"1\" class=\"dataframe\">\n  <thead>\n    <tr style=\"text-align: right;\">\n      <th></th>\n      <th>problem_set_ID</th>\n      <th>question</th>\n      <th>q_len</th>\n      <th>file</th>\n    </tr>\n    <tr>\n      <th>problem_ID</th>\n      <th></th>\n      <th></th>\n      <th></th>\n      <th></th>\n    </tr>\n  </thead>\n  <tbody>\n    <tr>\n      <th>82</th>\n      <td>8.0</td>\n      <td>Points that are all located on the same plane ...</td>\n      <td>82</td>\n      <td>1-6DN_Angle-pairs.tex</td>\n    </tr>\n    <tr>\n      <th>83</th>\n      <td>8.0</td>\n      <td>Given $\\overline{ABC}$, $AB=3.8$, and $BC=1.7$...</td>\n      <td>491</td>\n      <td>1-6DN_Angle-pairs.tex</td>\n    </tr>\n    <tr>\n      <th>84</th>\n      <td>8.0</td>\n      <td>Given $\\overleftrightarrow{MN}$ as shown on th...</td>\n      <td>546</td>\n      <td>1-6DN_Angle-pairs.tex</td>\n    </tr>\n    <tr>\n      <th>80</th>\n      <td>8.0</td>\n      <td>Complete the construction of an equilateral tr...</td>\n      <td>900</td>\n      <td>1-6DN_Angle-pairs.tex</td>\n    </tr>\n    <tr>\n      <th>85</th>\n      <td>8.0</td>\n      <td>Given the situation in the diagram, answer eac...</td>\n      <td>1066</td>\n      <td>1-6DN_Angle-pairs.tex</td>\n    </tr>\n  </tbody>\n</table>\n</div>"
     },
     "metadata": {},
     "execution_count": 83
    }
   ],
   "source": [
    "#p_summary = problem_df.groupby('problem_set_ID')[['problem_set_ID', 'file']].count()\n",
    "#p_summary['num_questions'] = problem_df.groupby('problem_set_ID').question.count()\n",
    "problem_df[problem_df.file == '1-6DN_Angle-pairs.tex'].sort_index(inplace=True)"
   ]
  },
  {
   "cell_type": "code",
   "execution_count": 94,
   "metadata": {
    "tags": []
   },
   "outputs": [
    {
     "output_type": "execute_result",
     "data": {
      "text/plain": "                    unit                              file  problem_count  \\\nproblem_set_ID                                                              \n0               01-Intro             1-1CW_Measurement.tex              9   \n1               01-Intro                 1-1DN_Algebra.tex              8   \n2               01-Intro                 1-1HW_Algebra.tex              9   \n3               01-Intro     1-3DN_Function-intercepts.tex              6   \n4               01-Intro    1-3HW_Equilateral-triangle.tex             11   \n5               01-Intro        1-4HW_Segment-addition.tex             11   \n6               01-Intro       1-5CW_Angle-terminology.tex              8   \n7               01-Intro  1-5HW_Pretest-segments-intro.tex             18   \n8               01-Intro             1-6DN_Angle-pairs.tex              6   \n9               01-Intro             1-6HW_Angle-pairs.tex              6   \n10              01-Intro                 1-7Exam-Intro.tex             26   \n11              01-Intro           1-7Exam-corrections.tex              0   \n12              01-Intro                 1-7Exam-spicy.tex              7   \n13              01-Intro            1-7HW_Calculations.tex              8   \n14              01-Intro                    1-HW-Intro.tex            104   \n\n                                                             head  \\\nproblem_set_ID                                                      \n0               [\\begin{document}\\n, \\subsubsection*{1-1 Class...   \n1               [\\begin{document}\\n, \\subsubsection*{1-1 Do No...   \n2               [\\begin{document}\\n, \\subsubsection*{1-1 Homew...   \n3               [\\begin{document}\\n, \\subsubsection*{1-3 Do No...   \n4               [\\begin{document}\\n, \\subsubsection*{Homework ...   \n5               [\\begin{document}\\n, \\subsubsection*{Homework ...   \n6               [\\begin{document}\\n, \\subsubsection*{Classwork...   \n7               [\\begin{document}\\n, \\subsubsection*{1-8 Homew...   \n8               [\\begin{document}\\n, \\subsubsection*{1.6 Do No...   \n9               [\\begin{document}\\n, \\subsubsection*{1.6 Homew...   \n10              [\\begin{document}\\n,   \\subsubsection*{1.7 Exa...   \n11                                                             []   \n12              [\\begin{document}\\n, \\subsubsection*{1.7 Exam:...   \n13              [\\begin{document}\\n, \\subsubsection*{1.7 Homew...   \n14              [\\begin{document}\\n, \\subsubsection*{Quiz Corr...   \n\n                                                             body  \\\nproblem_set_ID                                                      \n0               [\\n,   \\item Given the line segment $\\overline...   \n1               [\\n, \\n,   \\item In the following two problems...   \n2               [\\n, \\n,   \\item In the following two problems...   \n3               [  \\item I have a compass, ruler, protractor, ...   \n4               [\\n,     \\item Construct an equilateral triang...   \n5               [    \\item I have a compass, ruler, protractor...   \n6               [    \\item I have a compass, ruler, protractor...   \n7               [    \\item Points that are all located on the ...   \n8               [\\n,   \\item Complete the construction of an e...   \n9               [\\n,   \\item Points that are all located on th...   \n10              [      \\item I have a calculator. (circle one)...   \n11                                                             []   \n12              [\\n,   \\item Given $\\overline{ABC}$, $AB=4$, a...   \n13              [\\n,   \\item Given $\\overline{ABC}$, $AB=84$, ...   \n14              [    \\item The points where a line segment beg...   \n\n                                                    problems_list  \\\nproblem_set_ID                                                      \n0               [Given the line segment $\\overline{PQ}$ shown ...   \n1               [\\n\\n, In the following two problems, solve fo...   \n2               [\\n\\n, In the following two problems, solve fo...   \n3               [I have a compass, ruler, protractor, notebook...   \n4               [Construct an equilateral triangle with $\\over...   \n5               [I have a compass, ruler, protractor, notebook...   \n6               [I have a compass, ruler, protractor, notebook...   \n7               [Points that are all located on the same line ...   \n8               [Complete the construction of an equilateral t...   \n9               [Points that are all located on the same line ...   \n10              [I have a calculator. (circle one). Yes \\qquad...   \n11                                                             []   \n12              [Given $\\overline{ABC}$, $AB=4$, and $AC=25$.\\...   \n13              [Given $\\overline{ABC}$, $AB=84$, and $AC=116$...   \n14              [The points where a line segment begins and en...   \n\n                                                 path  \\\nproblem_set_ID                                          \n0               /Users/chris/GitHub/course-files/Geom   \n1               /Users/chris/GitHub/course-files/Geom   \n2               /Users/chris/GitHub/course-files/Geom   \n3               /Users/chris/GitHub/course-files/Geom   \n4               /Users/chris/GitHub/course-files/Geom   \n5               /Users/chris/GitHub/course-files/Geom   \n6               /Users/chris/GitHub/course-files/Geom   \n7               /Users/chris/GitHub/course-files/Geom   \n8               /Users/chris/GitHub/course-files/Geom   \n9               /Users/chris/GitHub/course-files/Geom   \n10              /Users/chris/GitHub/course-files/Geom   \n11              /Users/chris/GitHub/course-files/Geom   \n12              /Users/chris/GitHub/course-files/Geom   \n13              /Users/chris/GitHub/course-files/Geom   \n14              /Users/chris/GitHub/course-files/Geom   \n\n                                                         filename  \nproblem_set_ID                                                     \n0               /Users/chris/GitHub/course-files/Geom/01-Intro...  \n1               /Users/chris/GitHub/course-files/Geom/01-Intro...  \n2               /Users/chris/GitHub/course-files/Geom/01-Intro...  \n3               /Users/chris/GitHub/course-files/Geom/01-Intro...  \n4               /Users/chris/GitHub/course-files/Geom/01-Intro...  \n5               /Users/chris/GitHub/course-files/Geom/01-Intro...  \n6               /Users/chris/GitHub/course-files/Geom/01-Intro...  \n7               /Users/chris/GitHub/course-files/Geom/01-Intro...  \n8               /Users/chris/GitHub/course-files/Geom/01-Intro...  \n9               /Users/chris/GitHub/course-files/Geom/01-Intro...  \n10              /Users/chris/GitHub/course-files/Geom/01-Intro...  \n11              /Users/chris/GitHub/course-files/Geom/01-Intro...  \n12              /Users/chris/GitHub/course-files/Geom/01-Intro...  \n13              /Users/chris/GitHub/course-files/Geom/01-Intro...  \n14              /Users/chris/GitHub/course-files/Geom/01-Intro...  ",
      "text/html": "<div>\n<style scoped>\n    .dataframe tbody tr th:only-of-type {\n        vertical-align: middle;\n    }\n\n    .dataframe tbody tr th {\n        vertical-align: top;\n    }\n\n    .dataframe thead th {\n        text-align: right;\n    }\n</style>\n<table border=\"1\" class=\"dataframe\">\n  <thead>\n    <tr style=\"text-align: right;\">\n      <th></th>\n      <th>unit</th>\n      <th>file</th>\n      <th>problem_count</th>\n      <th>head</th>\n      <th>body</th>\n      <th>problems_list</th>\n      <th>path</th>\n      <th>filename</th>\n    </tr>\n    <tr>\n      <th>problem_set_ID</th>\n      <th></th>\n      <th></th>\n      <th></th>\n      <th></th>\n      <th></th>\n      <th></th>\n      <th></th>\n      <th></th>\n    </tr>\n  </thead>\n  <tbody>\n    <tr>\n      <th>0</th>\n      <td>01-Intro</td>\n      <td>1-1CW_Measurement.tex</td>\n      <td>9</td>\n      <td>[\\begin{document}\\n, \\subsubsection*{1-1 Class...</td>\n      <td>[\\n,   \\item Given the line segment $\\overline...</td>\n      <td>[Given the line segment $\\overline{PQ}$ shown ...</td>\n      <td>/Users/chris/GitHub/course-files/Geom</td>\n      <td>/Users/chris/GitHub/course-files/Geom/01-Intro...</td>\n    </tr>\n    <tr>\n      <th>1</th>\n      <td>01-Intro</td>\n      <td>1-1DN_Algebra.tex</td>\n      <td>8</td>\n      <td>[\\begin{document}\\n, \\subsubsection*{1-1 Do No...</td>\n      <td>[\\n, \\n,   \\item In the following two problems...</td>\n      <td>[\\n\\n, In the following two problems, solve fo...</td>\n      <td>/Users/chris/GitHub/course-files/Geom</td>\n      <td>/Users/chris/GitHub/course-files/Geom/01-Intro...</td>\n    </tr>\n    <tr>\n      <th>2</th>\n      <td>01-Intro</td>\n      <td>1-1HW_Algebra.tex</td>\n      <td>9</td>\n      <td>[\\begin{document}\\n, \\subsubsection*{1-1 Homew...</td>\n      <td>[\\n, \\n,   \\item In the following two problems...</td>\n      <td>[\\n\\n, In the following two problems, solve fo...</td>\n      <td>/Users/chris/GitHub/course-files/Geom</td>\n      <td>/Users/chris/GitHub/course-files/Geom/01-Intro...</td>\n    </tr>\n    <tr>\n      <th>3</th>\n      <td>01-Intro</td>\n      <td>1-3DN_Function-intercepts.tex</td>\n      <td>6</td>\n      <td>[\\begin{document}\\n, \\subsubsection*{1-3 Do No...</td>\n      <td>[  \\item I have a compass, ruler, protractor, ...</td>\n      <td>[I have a compass, ruler, protractor, notebook...</td>\n      <td>/Users/chris/GitHub/course-files/Geom</td>\n      <td>/Users/chris/GitHub/course-files/Geom/01-Intro...</td>\n    </tr>\n    <tr>\n      <th>4</th>\n      <td>01-Intro</td>\n      <td>1-3HW_Equilateral-triangle.tex</td>\n      <td>11</td>\n      <td>[\\begin{document}\\n, \\subsubsection*{Homework ...</td>\n      <td>[\\n,     \\item Construct an equilateral triang...</td>\n      <td>[Construct an equilateral triangle with $\\over...</td>\n      <td>/Users/chris/GitHub/course-files/Geom</td>\n      <td>/Users/chris/GitHub/course-files/Geom/01-Intro...</td>\n    </tr>\n    <tr>\n      <th>5</th>\n      <td>01-Intro</td>\n      <td>1-4HW_Segment-addition.tex</td>\n      <td>11</td>\n      <td>[\\begin{document}\\n, \\subsubsection*{Homework ...</td>\n      <td>[    \\item I have a compass, ruler, protractor...</td>\n      <td>[I have a compass, ruler, protractor, notebook...</td>\n      <td>/Users/chris/GitHub/course-files/Geom</td>\n      <td>/Users/chris/GitHub/course-files/Geom/01-Intro...</td>\n    </tr>\n    <tr>\n      <th>6</th>\n      <td>01-Intro</td>\n      <td>1-5CW_Angle-terminology.tex</td>\n      <td>8</td>\n      <td>[\\begin{document}\\n, \\subsubsection*{Classwork...</td>\n      <td>[    \\item I have a compass, ruler, protractor...</td>\n      <td>[I have a compass, ruler, protractor, notebook...</td>\n      <td>/Users/chris/GitHub/course-files/Geom</td>\n      <td>/Users/chris/GitHub/course-files/Geom/01-Intro...</td>\n    </tr>\n    <tr>\n      <th>7</th>\n      <td>01-Intro</td>\n      <td>1-5HW_Pretest-segments-intro.tex</td>\n      <td>18</td>\n      <td>[\\begin{document}\\n, \\subsubsection*{1-8 Homew...</td>\n      <td>[    \\item Points that are all located on the ...</td>\n      <td>[Points that are all located on the same line ...</td>\n      <td>/Users/chris/GitHub/course-files/Geom</td>\n      <td>/Users/chris/GitHub/course-files/Geom/01-Intro...</td>\n    </tr>\n    <tr>\n      <th>8</th>\n      <td>01-Intro</td>\n      <td>1-6DN_Angle-pairs.tex</td>\n      <td>6</td>\n      <td>[\\begin{document}\\n, \\subsubsection*{1.6 Do No...</td>\n      <td>[\\n,   \\item Complete the construction of an e...</td>\n      <td>[Complete the construction of an equilateral t...</td>\n      <td>/Users/chris/GitHub/course-files/Geom</td>\n      <td>/Users/chris/GitHub/course-files/Geom/01-Intro...</td>\n    </tr>\n    <tr>\n      <th>9</th>\n      <td>01-Intro</td>\n      <td>1-6HW_Angle-pairs.tex</td>\n      <td>6</td>\n      <td>[\\begin{document}\\n, \\subsubsection*{1.6 Homew...</td>\n      <td>[\\n,   \\item Points that are all located on th...</td>\n      <td>[Points that are all located on the same line ...</td>\n      <td>/Users/chris/GitHub/course-files/Geom</td>\n      <td>/Users/chris/GitHub/course-files/Geom/01-Intro...</td>\n    </tr>\n    <tr>\n      <th>10</th>\n      <td>01-Intro</td>\n      <td>1-7Exam-Intro.tex</td>\n      <td>26</td>\n      <td>[\\begin{document}\\n,   \\subsubsection*{1.7 Exa...</td>\n      <td>[      \\item I have a calculator. (circle one)...</td>\n      <td>[I have a calculator. (circle one). Yes \\qquad...</td>\n      <td>/Users/chris/GitHub/course-files/Geom</td>\n      <td>/Users/chris/GitHub/course-files/Geom/01-Intro...</td>\n    </tr>\n    <tr>\n      <th>11</th>\n      <td>01-Intro</td>\n      <td>1-7Exam-corrections.tex</td>\n      <td>0</td>\n      <td>[]</td>\n      <td>[]</td>\n      <td>[]</td>\n      <td>/Users/chris/GitHub/course-files/Geom</td>\n      <td>/Users/chris/GitHub/course-files/Geom/01-Intro...</td>\n    </tr>\n    <tr>\n      <th>12</th>\n      <td>01-Intro</td>\n      <td>1-7Exam-spicy.tex</td>\n      <td>7</td>\n      <td>[\\begin{document}\\n, \\subsubsection*{1.7 Exam:...</td>\n      <td>[\\n,   \\item Given $\\overline{ABC}$, $AB=4$, a...</td>\n      <td>[Given $\\overline{ABC}$, $AB=4$, and $AC=25$.\\...</td>\n      <td>/Users/chris/GitHub/course-files/Geom</td>\n      <td>/Users/chris/GitHub/course-files/Geom/01-Intro...</td>\n    </tr>\n    <tr>\n      <th>13</th>\n      <td>01-Intro</td>\n      <td>1-7HW_Calculations.tex</td>\n      <td>8</td>\n      <td>[\\begin{document}\\n, \\subsubsection*{1.7 Homew...</td>\n      <td>[\\n,   \\item Given $\\overline{ABC}$, $AB=84$, ...</td>\n      <td>[Given $\\overline{ABC}$, $AB=84$, and $AC=116$...</td>\n      <td>/Users/chris/GitHub/course-files/Geom</td>\n      <td>/Users/chris/GitHub/course-files/Geom/01-Intro...</td>\n    </tr>\n    <tr>\n      <th>14</th>\n      <td>01-Intro</td>\n      <td>1-HW-Intro.tex</td>\n      <td>104</td>\n      <td>[\\begin{document}\\n, \\subsubsection*{Quiz Corr...</td>\n      <td>[    \\item The points where a line segment beg...</td>\n      <td>[The points where a line segment begins and en...</td>\n      <td>/Users/chris/GitHub/course-files/Geom</td>\n      <td>/Users/chris/GitHub/course-files/Geom/01-Intro...</td>\n    </tr>\n  </tbody>\n</table>\n</div>"
     },
     "metadata": {},
     "execution_count": 94
    }
   ],
   "source": [
    "new_cols = ['unit', 'file', 'problem_count', 'head', 'body', 'problems_list', 'path', 'filename']\n",
    "pset_df = pset_df.reindex(columns=new_cols)\n",
    "pset_df[pset_df.unit.str.startswith('01')]"
   ]
  },
  {
   "cell_type": "code",
   "execution_count": 122,
   "metadata": {
    "tags": []
   },
   "outputs": [
    {
     "output_type": "stream",
     "name": "stdout",
     "text": "79    \\begin{multicols}{2}\n\n97     \\end{multicols}  \\vspace{4cm}\n\n"
    }
   ],
   "source": [
    "for num, line in enumerate(pset_df.loc[62, 'body']):\n",
    "    if 'multicol' in line:\n",
    "        print(num, line)\n"
   ]
  },
  {
   "cell_type": "code",
   "execution_count": 133,
   "metadata": {
    "tags": []
   },
   "outputs": [
    {
     "output_type": "stream",
     "name": "stdout",
     "text": "Given $\\triangle ABP \\sim \\triangle JKP$ as shown below. $AP=5.7$, $JP=11.4$, and $JK=14.8$. Find $AB$.\n \\begin{flushright}\n   \\begin{tikzpicture}[scale=1.4]\n       \\draw [thick]\n         (0.25,-1)node[right]{$B$}--\n         (-0.5,2)node[left]{$K$}--\n         (4,0)node[right]{$J$}--\n         (0,0)node[above right]{$P$}--\n         (-2,0)node[left]{$A$}--cycle;\n     \\end{tikzpicture}\n     \\end{flushright}\n     \\vspace{3cm}\n\n   \\begin{multicols}{2}\n\n"
    },
    {
     "output_type": "execute_result",
     "data": {
      "text/plain": "'A translation maps triangle $CAT$ onto triangle $DOG$.] \\\\vspace{0.5cm}\\n      \\\\begin{tikzpicture}[scale=0.9]\\n        \\\\coordinate [label=above left:$C$](A) at (95:2);\\n        \\\\coordinate [label=below:$A$](B) at (0, 0);\\n        \\\\coordinate [label=right:$T$](C) at (-10:3.5);\\n        \\\\draw [thick] (A)--(B)--(C)--cycle;\\n  \\n        \\\\draw [thick, xshift=3cm, yshift=1.5cm] (95:2) node[above]{$D$}--\\n        (0,0) node[below]{$O$}--\\n        (-10:3.5) node[right]{$G$}--cycle;\\n      \\\\end{tikzpicture}\\\\\\\\\\n      Fill in the blank with the corresponding object.\\n      \\\\begin{enumerate}\\n        \\\\item $A \\\\rightarrow$ \\\\rule{2cm}{0.15mm}\\n        \\\\item $\\\\angle CTA \\\\cong$ \\\\rule{2cm}{0.15mm}\\n        \\\\item \\\\rule{2cm}{0.15mm} $\\\\cong \\\\overline {DG}$\\n      \\\\end{enumerate}\\n    \\\\end{multicols}  \\\\vspace{4cm}\\n\\n'"
     },
     "metadata": {},
     "execution_count": 133
    }
   ],
   "source": [
    "print(pset_df.loc[62, 'problems_list'][7])\n",
    "pset_df.loc[62, 'problems_list'][8]"
   ]
  },
  {
   "cell_type": "code",
   "execution_count": 88,
   "metadata": {},
   "outputs": [
    {
     "output_type": "execute_result",
     "data": {
      "text/plain": "problem_set_ID\n0.0      5\n1.0      6\n2.0      7\n3.0      5\n4.0     10\n5.0     10\n6.0      7\n7.0     14\n8.0      5\n9.0      5\n10.0    20\n12.0     6\n13.0     7\n14.0    83\n15.0     1\n16.0     4\n17.0     6\n18.0     6\n19.0     5\n20.0     6\n21.0     5\n22.0     6\n23.0     4\n24.0     5\n25.0     7\n26.0     5\n27.0     6\n28.0     9\n29.0     3\n30.0     5\nName: question, dtype: int64"
     },
     "metadata": {},
     "execution_count": 88
    }
   ],
   "source": [
    "problem_df.groupby('problem_set_ID').question.count().head(30)"
   ]
  },
  {
   "cell_type": "markdown",
   "metadata": {},
   "source": [
    "## Printing Problem Sets"
   ]
  },
  {
   "cell_type": "code",
   "execution_count": 84,
   "metadata": {},
   "outputs": [],
   "source": [
    "title = ('file is 1-6DN-Angle-pairs.tex', '17 August 2020', 'Test run of problems df')\n",
    "df = problem_df[problem_df.file == '1-6DN_Angle-pairs.tex'].sort_index()\n",
    "print_problems_df(df, filename='1-6DN_', title=title)"
   ]
  },
  {
   "cell_type": "code",
   "execution_count": 134,
   "metadata": {},
   "outputs": [],
   "source": [
    "title = ('file is 5-4DN-similarity-ratios.tex, PSet 62', '18 August 2020', 'Issue with multicols')\n",
    "df = problem_df[problem_df.problem_set_ID == 62].sort_index()\n",
    "print_problems_df(df, filename='5-4DN-mulitcols-issue', title=title)"
   ]
  },
  {
   "cell_type": "code",
   "execution_count": 95,
   "metadata": {},
   "outputs": [],
   "source": [
    "print_list = [0, 1, 2]\n",
    "for pset in print_list:\n",
    "    title = ('file is 1-temp-' + str(pset), '17 August 2020', 'Test run of print unit')\n",
    "    df = problem_df[problem_df.problem_set_ID == pset].sort_index()\n",
    "    print_problems_df(df, filename='1-temp-' + str(pset), title=title)"
   ]
  },
  {
   "cell_type": "code",
   "execution_count": 137,
   "metadata": {
    "tags": []
   },
   "outputs": [
    {
     "output_type": "stream",
     "name": "stdout",
     "text": "This is pdfTeX, Version 3.14159265-2.6-1.40.21 (TeX Live 2020) (preloaded format=pdflatex)\n restricted \\write18 enabled.\nentering extended mode\n(../out/tmp.tex\nLaTeX2e <2020-02-02> patch level 5\nL3 programming layer <2020-03-06>\n(/usr/local/texlive/2020/texmf-dist/tex/latex/base/article.cls\nDocument Class: article 2019/12/20 v1.4l Standard LaTeX document class\n(/usr/local/texlive/2020/texmf-dist/tex/latex/base/size12.clo))\n(/usr/local/texlive/2020/texmf-dist/tex/latex/geometry/geometry.sty\n(/usr/local/texlive/2020/texmf-dist/tex/latex/graphics/keyval.sty)\n(/usr/local/texlive/2020/texmf-dist/tex/generic/iftex/ifvtex.sty\n(/usr/local/texlive/2020/texmf-dist/tex/generic/iftex/iftex.sty)))\n(/usr/local/texlive/2020/texmf-dist/tex/generic/babel/babel.sty\n(/usr/local/texlive/2020/texmf-dist/tex/generic/babel/switch.def)\n(/usr/local/texlive/2020/texmf-dist/tex/generic/babel-english/english.ldf\n(/usr/local/texlive/2020/texmf-dist/tex/generic/babel/babel.def\n(/usr/local/texlive/2020/texmf-dist/tex/generic/babel/txtbabel.def))))\n(/usr/local/texlive/2020/texmf-dist/tex/latex/base/inputenc.sty)\n(/usr/local/texlive/2020/texmf-dist/tex/latex/amsmath/amsmath.sty\nFor additional information on amsmath, use the `?' option.\n(/usr/local/texlive/2020/texmf-dist/tex/latex/amsmath/amstext.sty\n(/usr/local/texlive/2020/texmf-dist/tex/latex/amsmath/amsgen.sty))\n(/usr/local/texlive/2020/texmf-dist/tex/latex/amsmath/amsbsy.sty)\n(/usr/local/texlive/2020/texmf-dist/tex/latex/amsmath/amsopn.sty))\n(/usr/local/texlive/2020/texmf-dist/tex/latex/amsfonts/amsfonts.sty)\n(/usr/local/texlive/2020/texmf-dist/tex/latex/amsfonts/amssymb.sty)\n(/usr/local/texlive/2020/texmf-dist/tex/latex/pgf/frontendlayer/tikz.sty\n(/usr/local/texlive/2020/texmf-dist/tex/latex/pgf/basiclayer/pgf.sty\n(/usr/local/texlive/2020/texmf-dist/tex/latex/pgf/utilities/pgfrcs.sty\n(/usr/local/texlive/2020/texmf-dist/tex/generic/pgf/utilities/pgfutil-common.te\nx\n(/usr/local/texlive/2020/texmf-dist/tex/generic/pgf/utilities/pgfutil-common-li\nsts.tex))\n(/usr/local/texlive/2020/texmf-dist/tex/generic/pgf/utilities/pgfutil-latex.def\n(/usr/local/texlive/2020/texmf-dist/tex/latex/ms/everyshi.sty))\n(/usr/local/texlive/2020/texmf-dist/tex/generic/pgf/utilities/pgfrcs.code.tex\n(/usr/local/texlive/2020/texmf-dist/tex/generic/pgf/pgf.revision.tex)))\n(/usr/local/texlive/2020/texmf-dist/tex/latex/pgf/basiclayer/pgfcore.sty\n(/usr/local/texlive/2020/texmf-dist/tex/latex/graphics/graphicx.sty\n(/usr/local/texlive/2020/texmf-dist/tex/latex/graphics/graphics.sty\n(/usr/local/texlive/2020/texmf-dist/tex/latex/graphics/trig.sty)\n(/usr/local/texlive/2020/texmf-dist/tex/latex/graphics-cfg/graphics.cfg)\n(/usr/local/texlive/2020/texmf-dist/tex/latex/graphics-def/pdftex.def)))\n(/usr/local/texlive/2020/texmf-dist/tex/latex/pgf/systemlayer/pgfsys.sty\n(/usr/local/texlive/2020/texmf-dist/tex/generic/pgf/systemlayer/pgfsys.code.tex\n(/usr/local/texlive/2020/texmf-dist/tex/generic/pgf/utilities/pgfkeys.code.tex\n(/usr/local/texlive/2020/texmf-dist/tex/generic/pgf/utilities/pgfkeysfiltered.c\node.tex))\n(/usr/local/texlive/2020/texmf-dist/tex/generic/pgf/systemlayer/pgf.cfg)\n(/usr/local/texlive/2020/texmf-dist/tex/generic/pgf/systemlayer/pgfsys-pdftex.d\nef\n(/usr/local/texlive/2020/texmf-dist/tex/generic/pgf/systemlayer/pgfsys-common-p\ndf.def)))\n(/usr/local/texlive/2020/texmf-dist/tex/generic/pgf/systemlayer/pgfsyssoftpath.\ncode.tex)\n(/usr/local/texlive/2020/texmf-dist/tex/generic/pgf/systemlayer/pgfsysprotocol.\ncode.tex)) (/usr/local/texlive/2020/texmf-dist/tex/latex/xcolor/xcolor.sty\n(/usr/local/texlive/2020/texmf-dist/tex/latex/graphics-cfg/color.cfg))\n(/usr/local/texlive/2020/texmf-dist/tex/generic/pgf/basiclayer/pgfcore.code.tex\n(/usr/local/texlive/2020/texmf-dist/tex/generic/pgf/math/pgfmath.code.tex\n(/usr/local/texlive/2020/texmf-dist/tex/generic/pgf/math/pgfmathcalc.code.tex\n(/usr/local/texlive/2020/texmf-dist/tex/generic/pgf/math/pgfmathutil.code.tex)\n(/usr/local/texlive/2020/texmf-dist/tex/generic/pgf/math/pgfmathparser.code.tex\n)\n(/usr/local/texlive/2020/texmf-dist/tex/generic/pgf/math/pgfmathfunctions.code.\ntex\n(/usr/local/texlive/2020/texmf-dist/tex/generic/pgf/math/pgfmathfunctions.basic\n.code.tex)\n(/usr/local/texlive/2020/texmf-dist/tex/generic/pgf/math/pgfmathfunctions.trigo\nnometric.code.tex)\n(/usr/local/texlive/2020/texmf-dist/tex/generic/pgf/math/pgfmathfunctions.rando\nm.code.tex)\n(/usr/local/texlive/2020/texmf-dist/tex/generic/pgf/math/pgfmathfunctions.compa\nrison.code.tex)\n(/usr/local/texlive/2020/texmf-dist/tex/generic/pgf/math/pgfmathfunctions.base.\ncode.tex)\n(/usr/local/texlive/2020/texmf-dist/tex/generic/pgf/math/pgfmathfunctions.round\n.code.tex)\n(/usr/local/texlive/2020/texmf-dist/tex/generic/pgf/math/pgfmathfunctions.misc.\ncode.tex)\n(/usr/local/texlive/2020/texmf-dist/tex/generic/pgf/math/pgfmathfunctions.integ\nerarithmetics.code.tex)))\n(/usr/local/texlive/2020/texmf-dist/tex/generic/pgf/math/pgfmathfloat.code.tex)\n) (/usr/local/texlive/2020/texmf-dist/tex/generic/pgf/math/pgfint.code.tex)\n(/usr/local/texlive/2020/texmf-dist/tex/generic/pgf/basiclayer/pgfcorepoints.co\nde.tex)\n(/usr/local/texlive/2020/texmf-dist/tex/generic/pgf/basiclayer/pgfcorepathconst\nruct.code.tex)\n(/usr/local/texlive/2020/texmf-dist/tex/generic/pgf/basiclayer/pgfcorepathusage\n.code.tex)\n(/usr/local/texlive/2020/texmf-dist/tex/generic/pgf/basiclayer/pgfcorescopes.co\nde.tex)\n(/usr/local/texlive/2020/texmf-dist/tex/generic/pgf/basiclayer/pgfcoregraphicst\nate.code.tex)\n(/usr/local/texlive/2020/texmf-dist/tex/generic/pgf/basiclayer/pgfcoretransform\nations.code.tex)\n(/usr/local/texlive/2020/texmf-dist/tex/generic/pgf/basiclayer/pgfcorequick.cod\ne.tex)\n(/usr/local/texlive/2020/texmf-dist/tex/generic/pgf/basiclayer/pgfcoreobjects.c\node.tex)\n(/usr/local/texlive/2020/texmf-dist/tex/generic/pgf/basiclayer/pgfcorepathproce\nssing.code.tex)\n(/usr/local/texlive/2020/texmf-dist/tex/generic/pgf/basiclayer/pgfcorearrows.co\nde.tex)\n(/usr/local/texlive/2020/texmf-dist/tex/generic/pgf/basiclayer/pgfcoreshade.cod\ne.tex)\n(/usr/local/texlive/2020/texmf-dist/tex/generic/pgf/basiclayer/pgfcoreimage.cod\ne.tex\n(/usr/local/texlive/2020/texmf-dist/tex/generic/pgf/basiclayer/pgfcoreexternal.\ncode.tex))\n(/usr/local/texlive/2020/texmf-dist/tex/generic/pgf/basiclayer/pgfcorelayers.co\nde.tex)\n(/usr/local/texlive/2020/texmf-dist/tex/generic/pgf/basiclayer/pgfcoretranspare\nncy.code.tex)\n(/usr/local/texlive/2020/texmf-dist/tex/generic/pgf/basiclayer/pgfcorepatterns.\ncode.tex)\n(/usr/local/texlive/2020/texmf-dist/tex/generic/pgf/basiclayer/pgfcorerdf.code.\ntex)))\n(/usr/local/texlive/2020/texmf-dist/tex/generic/pgf/modules/pgfmoduleshapes.cod\ne.tex)\n(/usr/local/texlive/2020/texmf-dist/tex/generic/pgf/modules/pgfmoduleplot.code.\ntex)\n(/usr/local/texlive/2020/texmf-dist/tex/latex/pgf/compatibility/pgfcomp-version\n-0-65.sty)\n(/usr/local/texlive/2020/texmf-dist/tex/latex/pgf/compatibility/pgfcomp-version\n-1-18.sty))\n(/usr/local/texlive/2020/texmf-dist/tex/latex/pgf/utilities/pgffor.sty\n(/usr/local/texlive/2020/texmf-dist/tex/latex/pgf/utilities/pgfkeys.sty\n(/usr/local/texlive/2020/texmf-dist/tex/generic/pgf/utilities/pgfkeys.code.tex)\n) (/usr/local/texlive/2020/texmf-dist/tex/latex/pgf/math/pgfmath.sty\n(/usr/local/texlive/2020/texmf-dist/tex/generic/pgf/math/pgfmath.code.tex))\n(/usr/local/texlive/2020/texmf-dist/tex/generic/pgf/utilities/pgffor.code.tex\n(/usr/local/texlive/2020/texmf-dist/tex/generic/pgf/math/pgfmath.code.tex)))\n(/usr/local/texlive/2020/texmf-dist/tex/generic/pgf/frontendlayer/tikz/tikz.cod\ne.tex\n(/usr/local/texlive/2020/texmf-dist/tex/generic/pgf/libraries/pgflibraryplothan\ndlers.code.tex)\n(/usr/local/texlive/2020/texmf-dist/tex/generic/pgf/modules/pgfmodulematrix.cod\ne.tex)\n(/usr/local/texlive/2020/texmf-dist/tex/generic/pgf/frontendlayer/tikz/librarie\ns/tikzlibrarytopaths.code.tex)))\n(/usr/local/texlive/2020/texmf-dist/tex/latex/enumitem/enumitem.sty)\n(/usr/local/texlive/2020/texmf-dist/tex/latex/tools/multicol.sty)\n(/usr/local/texlive/2020/texmf-dist/tex/latex/fancyhdr/fancyhdr.sty)\n(/usr/local/texlive/2020/texmf-dist/tex/latex/l3backend/l3backend-pdfmode.def)\nNo file tmp.aux.\n*geometry* driver: auto-detecting\n*geometry* detected driver: pdftex\nABD: EveryShipout initializing macros\n(/usr/local/texlive/2020/texmf-dist/tex/context/base/mkii/supp-pdf.mkii\n[Loading MPS to PDF converter (version 2006.09.02).]\n) (/usr/local/texlive/2020/texmf-dist/tex/latex/epstopdf-pkg/epstopdf-base.sty\n(/usr/local/texlive/2020/texmf-dist/tex/latex/latexconfig/epstopdf-sys.cfg))\n(/usr/local/texlive/2020/texmf-dist/tex/latex/amsfonts/umsa.fd)\n(/usr/local/texlive/2020/texmf-dist/tex/latex/amsfonts/umsb.fd) [1{/usr/local/t\nexlive/2020/texmf-var/fonts/map/pdftex/updmap/pdftex.map}] (./tmp.aux) )</usr/l\nocal/texlive/2020/texmf-dist/fonts/type1/public/amsfonts/cm/cmmi12.pfb></usr/lo\ncal/texlive/2020/texmf-dist/fonts/type1/public/amsfonts/cm/cmr12.pfb></usr/loca\nl/texlive/2020/texmf-dist/fonts/type1/public/amsfonts/cm/cmsy10.pfb>\nOutput written on tmp.pdf (1 page, 35627 bytes).\nTranscript written on tmp.log.\n"
    }
   ],
   "source": [
    "!pdflatex ../out/tmp.tex"
   ]
  },
  {
   "cell_type": "code",
   "execution_count": null,
   "metadata": {},
   "outputs": [],
   "source": []
  },
  {
   "cell_type": "code",
   "execution_count": 6,
   "metadata": {
    "tags": []
   },
   "outputs": [
    {
     "output_type": "stream",
     "name": "stdout",
     "text": "dict len, type:  14 <class 'dict'> \n df len:  209 \n\n"
    },
    {
     "output_type": "execute_result",
     "data": {
      "text/plain": "array(['00-Prior-knowledge', '01-Intro', '02-Midpoint+distance',\n       '03-Volume+angle-bisectors', '04-Transversals',\n       '05-Transformations', '06-Analytic-geometry', '07-Similarity',\n       '08-Area+volume', '09-Congruence-transformations',\n       '10-Trig+similarity+analytics', '11-Algebra2-intro', 'Slides',\n       'Trajectories'], dtype=object)"
     },
     "metadata": {},
     "execution_count": 6
    }
   ],
   "source": [
    "course_files, course_file_df = map_course_files(course_dir='/Users/chris/GitHub/course-files/Geom')\n",
    "print('dict len, type: ', len(course_files), type(course_files), '\\n df len: ', len(course_file_df), '\\n')\n",
    "course_file_df.unit.unique()"
   ]
  },
  {
   "cell_type": "code",
   "execution_count": 9,
   "metadata": {},
   "outputs": [
    {
     "output_type": "execute_result",
     "data": {
      "text/plain": "                             unit  file_count                        filename\n1                        01-Intro          15           1-1CW_Measurement.tex\n2                        01-Intro          15               1-1DN_Algebra.tex\n3                        01-Intro          15               1-1HW_Algebra.tex\n4                        01-Intro          15   1-3DN_Function-intercepts.tex\n5                        01-Intro          15  1-3HW_Equilateral-triangle.tex\n..                            ...         ...                             ...\n168  10-Trig+similarity+analytics           7     10-2DN_Analytics-review.tex\n169  10-Trig+similarity+analytics           7    10-2bDN_Analytics-review.tex\n170  10-Trig+similarity+analytics           7   10-4DN_Tangent-situations.tex\n171  10-Trig+similarity+analytics           7    10-4bDN_Analytics-review.tex\n172  10-Trig+similarity+analytics           7   10-6DN_Tangent-situations.tex\n\n[172 rows x 3 columns]",
      "text/html": "<div>\n<style scoped>\n    .dataframe tbody tr th:only-of-type {\n        vertical-align: middle;\n    }\n\n    .dataframe tbody tr th {\n        vertical-align: top;\n    }\n\n    .dataframe thead th {\n        text-align: right;\n    }\n</style>\n<table border=\"1\" class=\"dataframe\">\n  <thead>\n    <tr style=\"text-align: right;\">\n      <th></th>\n      <th>unit</th>\n      <th>file_count</th>\n      <th>filename</th>\n    </tr>\n  </thead>\n  <tbody>\n    <tr>\n      <th>1</th>\n      <td>01-Intro</td>\n      <td>15</td>\n      <td>1-1CW_Measurement.tex</td>\n    </tr>\n    <tr>\n      <th>2</th>\n      <td>01-Intro</td>\n      <td>15</td>\n      <td>1-1DN_Algebra.tex</td>\n    </tr>\n    <tr>\n      <th>3</th>\n      <td>01-Intro</td>\n      <td>15</td>\n      <td>1-1HW_Algebra.tex</td>\n    </tr>\n    <tr>\n      <th>4</th>\n      <td>01-Intro</td>\n      <td>15</td>\n      <td>1-3DN_Function-intercepts.tex</td>\n    </tr>\n    <tr>\n      <th>5</th>\n      <td>01-Intro</td>\n      <td>15</td>\n      <td>1-3HW_Equilateral-triangle.tex</td>\n    </tr>\n    <tr>\n      <th>...</th>\n      <td>...</td>\n      <td>...</td>\n      <td>...</td>\n    </tr>\n    <tr>\n      <th>168</th>\n      <td>10-Trig+similarity+analytics</td>\n      <td>7</td>\n      <td>10-2DN_Analytics-review.tex</td>\n    </tr>\n    <tr>\n      <th>169</th>\n      <td>10-Trig+similarity+analytics</td>\n      <td>7</td>\n      <td>10-2bDN_Analytics-review.tex</td>\n    </tr>\n    <tr>\n      <th>170</th>\n      <td>10-Trig+similarity+analytics</td>\n      <td>7</td>\n      <td>10-4DN_Tangent-situations.tex</td>\n    </tr>\n    <tr>\n      <th>171</th>\n      <td>10-Trig+similarity+analytics</td>\n      <td>7</td>\n      <td>10-4bDN_Analytics-review.tex</td>\n    </tr>\n    <tr>\n      <th>172</th>\n      <td>10-Trig+similarity+analytics</td>\n      <td>7</td>\n      <td>10-6DN_Tangent-situations.tex</td>\n    </tr>\n  </tbody>\n</table>\n<p>172 rows × 3 columns</p>\n</div>"
     },
     "metadata": {},
     "execution_count": 9
    }
   ],
   "source": [
    "drop_units = ['00-Prior-knowledge', '11-Algebra2-intro', 'Slides',\n",
    "       'Trajectories']\n",
    "for unit in drop_units:\n",
    "    course_file_df.drop(course_file_df[course_file_df.unit == unit].index, inplace=True)\n",
    "course_file_df"
   ]
  },
  {
   "cell_type": "code",
   "execution_count": 10,
   "metadata": {
    "tags": []
   },
   "outputs": [
    {
     "output_type": "stream",
     "name": "stdout",
     "text": "my IndexError: pop from empty list /Users/chris/GitHub/course-files/Geom/01-Intro/1-7Exam-corrections.tex\nTried to run parse_body on empty file\n"
    },
    {
     "output_type": "execute_result",
     "data": {
      "text/plain": "                                                         filename  \\\nproblem_set_ID                                                      \n0               /Users/chris/GitHub/course-files/Geom/01-Intro...   \n1               /Users/chris/GitHub/course-files/Geom/01-Intro...   \n2               /Users/chris/GitHub/course-files/Geom/01-Intro...   \n3               /Users/chris/GitHub/course-files/Geom/01-Intro...   \n4               /Users/chris/GitHub/course-files/Geom/01-Intro...   \n...                                                           ...   \n167             /Users/chris/GitHub/course-files/Geom/10-Trig+...   \n168             /Users/chris/GitHub/course-files/Geom/10-Trig+...   \n169             /Users/chris/GitHub/course-files/Geom/10-Trig+...   \n170             /Users/chris/GitHub/course-files/Geom/10-Trig+...   \n171             /Users/chris/GitHub/course-files/Geom/10-Trig+...   \n\n                                                             head  \\\nproblem_set_ID                                                      \n0               [\\begin{document}\\n, \\subsubsection*{1-1 Class...   \n1               [\\begin{document}\\n, \\subsubsection*{1-1 Do No...   \n2               [\\begin{document}\\n, \\subsubsection*{1-1 Homew...   \n3               [\\begin{document}\\n, \\subsubsection*{1-3 Do No...   \n4               [\\begin{document}\\n, \\subsubsection*{Homework ...   \n...                                                           ...   \n167             [\\begin{document}\\n, \\subsubsection*{10.3 Do N...   \n168             [\\begin{document}\\n, \\subsubsection*{10.3b Do ...   \n169             [\\begin{document}\\n, \\subsubsection*{10.4 Do N...   \n170             [\\begin{document}\\n, \\subsubsection*{10.4b Do ...   \n171             [\\begin{document}\\n, \\subsubsection*{10.6 Clas...   \n\n                                                             body  \\\nproblem_set_ID                                                      \n0               [\\n,   \\item Given the line segment $\\overline...   \n1               [\\n, \\n,   \\item In the following two problems...   \n2               [\\n, \\n,   \\item In the following two problems...   \n3               [  \\item I have a compass, ruler, protractor, ...   \n4               [\\n,     \\item Construct an equilateral triang...   \n...                                                           ...   \n167             [\\n, \\n,   \\item Write down the slope perpendi...   \n168             [\\n,   \\item Write down the slope parallel or ...   \n169             [\\n,   \\item Write down the slope perpendicula...   \n170             [\\n,   \\item Write down the slope parallel or ...   \n171             [\\n,   \\item Write down the slope perpendicula...   \n\n                                                    problems_list  \\\nproblem_set_ID                                                      \n0               [Given the line segment $\\overline{PQ}$ shown ...   \n1               [\\n\\n, In the following two problems, solve fo...   \n2               [\\n\\n, In the following two problems, solve fo...   \n3               [I have a compass, ruler, protractor, notebook...   \n4               [Construct an equilateral triangle with $\\over...   \n...                                                           ...   \n167             [\\n\\n, Write down the slope perpendicular to t...   \n168             [Write down the slope parallel or perpendicula...   \n169             [Write down the slope perpendicular to the giv...   \n170             [Write down the slope parallel or perpendicula...   \n171             [Write down the slope perpendicular to the giv...   \n\n                problem_count  \nproblem_set_ID                 \n0                           9  \n1                           8  \n2                           9  \n3                           6  \n4                          11  \n...                       ...  \n167                        10  \n168                        13  \n169                         8  \n170                        13  \n171                         8  \n\n[172 rows x 5 columns]",
      "text/html": "<div>\n<style scoped>\n    .dataframe tbody tr th:only-of-type {\n        vertical-align: middle;\n    }\n\n    .dataframe tbody tr th {\n        vertical-align: top;\n    }\n\n    .dataframe thead th {\n        text-align: right;\n    }\n</style>\n<table border=\"1\" class=\"dataframe\">\n  <thead>\n    <tr style=\"text-align: right;\">\n      <th></th>\n      <th>filename</th>\n      <th>head</th>\n      <th>body</th>\n      <th>problems_list</th>\n      <th>problem_count</th>\n    </tr>\n    <tr>\n      <th>problem_set_ID</th>\n      <th></th>\n      <th></th>\n      <th></th>\n      <th></th>\n      <th></th>\n    </tr>\n  </thead>\n  <tbody>\n    <tr>\n      <th>0</th>\n      <td>/Users/chris/GitHub/course-files/Geom/01-Intro...</td>\n      <td>[\\begin{document}\\n, \\subsubsection*{1-1 Class...</td>\n      <td>[\\n,   \\item Given the line segment $\\overline...</td>\n      <td>[Given the line segment $\\overline{PQ}$ shown ...</td>\n      <td>9</td>\n    </tr>\n    <tr>\n      <th>1</th>\n      <td>/Users/chris/GitHub/course-files/Geom/01-Intro...</td>\n      <td>[\\begin{document}\\n, \\subsubsection*{1-1 Do No...</td>\n      <td>[\\n, \\n,   \\item In the following two problems...</td>\n      <td>[\\n\\n, In the following two problems, solve fo...</td>\n      <td>8</td>\n    </tr>\n    <tr>\n      <th>2</th>\n      <td>/Users/chris/GitHub/course-files/Geom/01-Intro...</td>\n      <td>[\\begin{document}\\n, \\subsubsection*{1-1 Homew...</td>\n      <td>[\\n, \\n,   \\item In the following two problems...</td>\n      <td>[\\n\\n, In the following two problems, solve fo...</td>\n      <td>9</td>\n    </tr>\n    <tr>\n      <th>3</th>\n      <td>/Users/chris/GitHub/course-files/Geom/01-Intro...</td>\n      <td>[\\begin{document}\\n, \\subsubsection*{1-3 Do No...</td>\n      <td>[  \\item I have a compass, ruler, protractor, ...</td>\n      <td>[I have a compass, ruler, protractor, notebook...</td>\n      <td>6</td>\n    </tr>\n    <tr>\n      <th>4</th>\n      <td>/Users/chris/GitHub/course-files/Geom/01-Intro...</td>\n      <td>[\\begin{document}\\n, \\subsubsection*{Homework ...</td>\n      <td>[\\n,     \\item Construct an equilateral triang...</td>\n      <td>[Construct an equilateral triangle with $\\over...</td>\n      <td>11</td>\n    </tr>\n    <tr>\n      <th>...</th>\n      <td>...</td>\n      <td>...</td>\n      <td>...</td>\n      <td>...</td>\n      <td>...</td>\n    </tr>\n    <tr>\n      <th>167</th>\n      <td>/Users/chris/GitHub/course-files/Geom/10-Trig+...</td>\n      <td>[\\begin{document}\\n, \\subsubsection*{10.3 Do N...</td>\n      <td>[\\n, \\n,   \\item Write down the slope perpendi...</td>\n      <td>[\\n\\n, Write down the slope perpendicular to t...</td>\n      <td>10</td>\n    </tr>\n    <tr>\n      <th>168</th>\n      <td>/Users/chris/GitHub/course-files/Geom/10-Trig+...</td>\n      <td>[\\begin{document}\\n, \\subsubsection*{10.3b Do ...</td>\n      <td>[\\n,   \\item Write down the slope parallel or ...</td>\n      <td>[Write down the slope parallel or perpendicula...</td>\n      <td>13</td>\n    </tr>\n    <tr>\n      <th>169</th>\n      <td>/Users/chris/GitHub/course-files/Geom/10-Trig+...</td>\n      <td>[\\begin{document}\\n, \\subsubsection*{10.4 Do N...</td>\n      <td>[\\n,   \\item Write down the slope perpendicula...</td>\n      <td>[Write down the slope perpendicular to the giv...</td>\n      <td>8</td>\n    </tr>\n    <tr>\n      <th>170</th>\n      <td>/Users/chris/GitHub/course-files/Geom/10-Trig+...</td>\n      <td>[\\begin{document}\\n, \\subsubsection*{10.4b Do ...</td>\n      <td>[\\n,   \\item Write down the slope parallel or ...</td>\n      <td>[Write down the slope parallel or perpendicula...</td>\n      <td>13</td>\n    </tr>\n    <tr>\n      <th>171</th>\n      <td>/Users/chris/GitHub/course-files/Geom/10-Trig+...</td>\n      <td>[\\begin{document}\\n, \\subsubsection*{10.6 Clas...</td>\n      <td>[\\n,   \\item Write down the slope perpendicula...</td>\n      <td>[Write down the slope perpendicular to the giv...</td>\n      <td>8</td>\n    </tr>\n  </tbody>\n</table>\n<p>172 rows × 5 columns</p>\n</div>"
     },
     "metadata": {},
     "execution_count": 10
    }
   ],
   "source": [
    "pset_df = parse_course_files(course_file_df, course_dir='/Users/chris/GitHub/course-files/Geom')\n",
    "pset_df[['path', 'unit', 'file']] = pset_df.filename.str.rsplit('/', n=2, expand=True)\n",
    "pset_df"
   ]
  },
  {
   "cell_type": "code",
   "execution_count": 13,
   "metadata": {},
   "outputs": [],
   "source": [
    "problem_df = parse_problem_sets(pset_df)"
   ]
  },
  {
   "cell_type": "code",
   "execution_count": 17,
   "metadata": {},
   "outputs": [
    {
     "output_type": "execute_result",
     "data": {
      "text/plain": "            problem_set_ID                                           question  \\\nproblem_ID                                                                      \n2383                 155.0                                                 \\n   \n1305                  82.0                                                 \\n   \n874                   61.0                                               \\n\\n   \n264                   20.0                                               \\n\\n   \n291                   24.0                                               \\n\\n   \n...                    ...                                                ...   \n2633                 167.0  Mark the missing labels for a reflection acros...   \n2664                 170.0  Mark the missing labels for a rotation of $180...   \n2643                 168.0  Mark the missing labels for a reflection acros...   \n2385                 155.0  Two parallel lines intersect a transversal,  $...   \n1394                  91.0  This diagram is an example of what is called `...   \n\n            q_len                                 file  \nproblem_ID                                              \n2383            2  9-4CW_Triangle-congruence-proof.tex  \n1305            2             6-3CW_Absense-packet.tex  \n874             2                 5-3DN_area-units.tex  \n264             2          2-4HW_Parameter-solving.tex  \n291             2            2-6HW_Compound-shapes.tex  \n...           ...                                  ...  \n2633         1382          10-2DN_Analytics-review.tex  \n2664         1382         10-4bDN_Analytics-review.tex  \n2643         1382         10-2bDN_Analytics-review.tex  \n2385         1858  9-4CW_Triangle-congruence-proof.tex  \n1394         2123            6-8DN_Euclids-orchard.tex  \n\n[2677 rows x 4 columns]",
      "text/html": "<div>\n<style scoped>\n    .dataframe tbody tr th:only-of-type {\n        vertical-align: middle;\n    }\n\n    .dataframe tbody tr th {\n        vertical-align: top;\n    }\n\n    .dataframe thead th {\n        text-align: right;\n    }\n</style>\n<table border=\"1\" class=\"dataframe\">\n  <thead>\n    <tr style=\"text-align: right;\">\n      <th></th>\n      <th>problem_set_ID</th>\n      <th>question</th>\n      <th>q_len</th>\n      <th>file</th>\n    </tr>\n    <tr>\n      <th>problem_ID</th>\n      <th></th>\n      <th></th>\n      <th></th>\n      <th></th>\n    </tr>\n  </thead>\n  <tbody>\n    <tr>\n      <th>2383</th>\n      <td>155.0</td>\n      <td>\\n</td>\n      <td>2</td>\n      <td>9-4CW_Triangle-congruence-proof.tex</td>\n    </tr>\n    <tr>\n      <th>1305</th>\n      <td>82.0</td>\n      <td>\\n</td>\n      <td>2</td>\n      <td>6-3CW_Absense-packet.tex</td>\n    </tr>\n    <tr>\n      <th>874</th>\n      <td>61.0</td>\n      <td>\\n\\n</td>\n      <td>2</td>\n      <td>5-3DN_area-units.tex</td>\n    </tr>\n    <tr>\n      <th>264</th>\n      <td>20.0</td>\n      <td>\\n\\n</td>\n      <td>2</td>\n      <td>2-4HW_Parameter-solving.tex</td>\n    </tr>\n    <tr>\n      <th>291</th>\n      <td>24.0</td>\n      <td>\\n\\n</td>\n      <td>2</td>\n      <td>2-6HW_Compound-shapes.tex</td>\n    </tr>\n    <tr>\n      <th>...</th>\n      <td>...</td>\n      <td>...</td>\n      <td>...</td>\n      <td>...</td>\n    </tr>\n    <tr>\n      <th>2633</th>\n      <td>167.0</td>\n      <td>Mark the missing labels for a reflection acros...</td>\n      <td>1382</td>\n      <td>10-2DN_Analytics-review.tex</td>\n    </tr>\n    <tr>\n      <th>2664</th>\n      <td>170.0</td>\n      <td>Mark the missing labels for a rotation of $180...</td>\n      <td>1382</td>\n      <td>10-4bDN_Analytics-review.tex</td>\n    </tr>\n    <tr>\n      <th>2643</th>\n      <td>168.0</td>\n      <td>Mark the missing labels for a reflection acros...</td>\n      <td>1382</td>\n      <td>10-2bDN_Analytics-review.tex</td>\n    </tr>\n    <tr>\n      <th>2385</th>\n      <td>155.0</td>\n      <td>Two parallel lines intersect a transversal,  $...</td>\n      <td>1858</td>\n      <td>9-4CW_Triangle-congruence-proof.tex</td>\n    </tr>\n    <tr>\n      <th>1394</th>\n      <td>91.0</td>\n      <td>This diagram is an example of what is called `...</td>\n      <td>2123</td>\n      <td>6-8DN_Euclids-orchard.tex</td>\n    </tr>\n  </tbody>\n</table>\n<p>2677 rows × 4 columns</p>\n</div>"
     },
     "metadata": {},
     "execution_count": 17
    }
   ],
   "source": [
    "problem_df['file'] = problem_df.problem_set_ID.apply(lambda x: pset_df.loc[x, 'file'])\n",
    "problem_df['q_len'] = problem_df.question.str.len()\n",
    "problem_df.sort_values('q_len', inplace=True)\n",
    "problem_df"
   ]
  },
  {
   "cell_type": "code",
   "execution_count": 36,
   "metadata": {
    "tags": []
   },
   "outputs": [
    {
     "output_type": "execute_result",
     "data": {
      "text/plain": "            problem_set_ID    question  q_len                          file\nproblem_ID                                                                 \n884                   62.0  \\newpage\\n      9   5-4DN-similarity-ratios.tex\n1621                 109.0  \\newpage\\n      9            7-4bCW_Tangent.tex\n876                   61.0  \\newpage\\n      9          5-3DN_area-units.tex\n1606                 107.0  \\newpage\\n      9       7-3HW_AA-similarity.tex\n2531                 162.0  \\newpage\\n      9  9-8bDN-Similarity-review.tex",
      "text/html": "<div>\n<style scoped>\n    .dataframe tbody tr th:only-of-type {\n        vertical-align: middle;\n    }\n\n    .dataframe tbody tr th {\n        vertical-align: top;\n    }\n\n    .dataframe thead th {\n        text-align: right;\n    }\n</style>\n<table border=\"1\" class=\"dataframe\">\n  <thead>\n    <tr style=\"text-align: right;\">\n      <th></th>\n      <th>problem_set_ID</th>\n      <th>question</th>\n      <th>q_len</th>\n      <th>file</th>\n    </tr>\n    <tr>\n      <th>problem_ID</th>\n      <th></th>\n      <th></th>\n      <th></th>\n      <th></th>\n    </tr>\n  </thead>\n  <tbody>\n    <tr>\n      <th>884</th>\n      <td>62.0</td>\n      <td>\\newpage\\n</td>\n      <td>9</td>\n      <td>5-4DN-similarity-ratios.tex</td>\n    </tr>\n    <tr>\n      <th>1621</th>\n      <td>109.0</td>\n      <td>\\newpage\\n</td>\n      <td>9</td>\n      <td>7-4bCW_Tangent.tex</td>\n    </tr>\n    <tr>\n      <th>876</th>\n      <td>61.0</td>\n      <td>\\newpage\\n</td>\n      <td>9</td>\n      <td>5-3DN_area-units.tex</td>\n    </tr>\n    <tr>\n      <th>1606</th>\n      <td>107.0</td>\n      <td>\\newpage\\n</td>\n      <td>9</td>\n      <td>7-3HW_AA-similarity.tex</td>\n    </tr>\n    <tr>\n      <th>2531</th>\n      <td>162.0</td>\n      <td>\\newpage\\n</td>\n      <td>9</td>\n      <td>9-8bDN-Similarity-review.tex</td>\n    </tr>\n  </tbody>\n</table>\n</div>"
     },
     "metadata": {},
     "execution_count": 36
    }
   ],
   "source": [
    "problem_df.drop(problem_df.iloc[:57].index, inplace=True) #careful to check rows before deleting (only once)"
   ]
  },
  {
   "cell_type": "code",
   "execution_count": 73,
   "metadata": {
    "tags": []
   },
   "outputs": [],
   "source": [
    "newpage_df = problem_df[problem_df.q_len < 13].copy()\n",
    "problem_df = problem_df[problem_df.q_len > 12]\n",
    "#newpage_df = newpage_df.append(problem_df[problem_df.q_len == 10])"
   ]
  },
  {
   "cell_type": "code",
   "execution_count": 77,
   "metadata": {
    "tags": []
   },
   "outputs": [
    {
     "output_type": "stream",
     "name": "stdout",
     "text": "Int64Index([1221, 2578,  334,  121,  282,  288, 1904,  316, 1750, 1930,  295,\n             329,  160,  430,   67,  452, 2541,   89,  368,   95],\n           dtype='int64', name='problem_ID')\n"
    }
   ],
   "source": [
    "len13 = problem_df[problem_df.q_len == 13].index\n",
    "print(len13)"
   ]
  },
  {
   "cell_type": "code",
   "execution_count": 80,
   "metadata": {},
   "outputs": [
    {
     "output_type": "execute_result",
     "data": {
      "text/plain": "            problem_set_ID        question  q_len  \\\nproblem_ID                                          \n929                   68.0      \\newpage\\n     12   \n917                   67.0      \\newpage\\n     12   \n1221                  79.0      \\newpage\\n     13   \n2578                 164.0  \\newpage    \\n     13   \n121                   12.0      \\newpage\\n     13   \n282                   22.0      \\newpage\\n     13   \n288                   23.0      \\newpage\\n     13   \n1904                 129.0  \\newpage    \\n     13   \n316                   27.0      \\newpage\\n     13   \n1750                 116.0  \\newpage    \\n     13   \n1930                 130.0  \\newpage    \\n     13   \n295                   24.0      \\newpage\\n     13   \n329                   28.0     \\newpage \\n     13   \n160                   14.0      \\newpage\\n     13   \n430                   39.0      \\newpage\\n     13   \n67                     7.0      \\newpage\\n     13   \n452                   42.0      \\newpage\\n     13   \n2541                 163.0  \\newpage    \\n     13   \n89                     9.0      \\newpage\\n     13   \n95                    10.0      \\newpage\\n     13   \n\n                                           file  \nproblem_ID                                       \n929                5-8DNb-similarity-ratios.tex  \n917                 5-8DN-similarity-ratios.tex  \n1221             6-12Exam-Analytic-geometry.tex  \n2578               9-9bExam-transformations.tex  \n121                           1-7Exam-spicy.tex  \n282                         2-5HW_Perimeter.tex  \n288                2-6DN_Distance+Perimeter.tex  \n1904              8-1DN_Circle-trajectories.tex  \n316         2-7DN_Compound-areas+perimeters.tex  \n1750                     7-7Exam-Similarity.tex  \n1930                          8-1DN_Circles.tex  \n295                   2-6HW_Compound-shapes.tex  \n329            2-7Pretest_areas+numberlines.tex  \n160                              1-HW-Intro.tex  \n430                       3-3DN_Area+volume.tex  \n67             1-5HW_Pretest-segments-intro.tex  \n452           3-7DN_Segment-modeling+volume.tex  \n2541                9-9Exam-transformations.tex  \n89                        1-6HW_Angle-pairs.tex  \n95                            1-7Exam-Intro.tex  ",
      "text/html": "<div>\n<style scoped>\n    .dataframe tbody tr th:only-of-type {\n        vertical-align: middle;\n    }\n\n    .dataframe tbody tr th {\n        vertical-align: top;\n    }\n\n    .dataframe thead th {\n        text-align: right;\n    }\n</style>\n<table border=\"1\" class=\"dataframe\">\n  <thead>\n    <tr style=\"text-align: right;\">\n      <th></th>\n      <th>problem_set_ID</th>\n      <th>question</th>\n      <th>q_len</th>\n      <th>file</th>\n    </tr>\n    <tr>\n      <th>problem_ID</th>\n      <th></th>\n      <th></th>\n      <th></th>\n      <th></th>\n    </tr>\n  </thead>\n  <tbody>\n    <tr>\n      <th>929</th>\n      <td>68.0</td>\n      <td>\\newpage\\n</td>\n      <td>12</td>\n      <td>5-8DNb-similarity-ratios.tex</td>\n    </tr>\n    <tr>\n      <th>917</th>\n      <td>67.0</td>\n      <td>\\newpage\\n</td>\n      <td>12</td>\n      <td>5-8DN-similarity-ratios.tex</td>\n    </tr>\n    <tr>\n      <th>1221</th>\n      <td>79.0</td>\n      <td>\\newpage\\n</td>\n      <td>13</td>\n      <td>6-12Exam-Analytic-geometry.tex</td>\n    </tr>\n    <tr>\n      <th>2578</th>\n      <td>164.0</td>\n      <td>\\newpage    \\n</td>\n      <td>13</td>\n      <td>9-9bExam-transformations.tex</td>\n    </tr>\n    <tr>\n      <th>121</th>\n      <td>12.0</td>\n      <td>\\newpage\\n</td>\n      <td>13</td>\n      <td>1-7Exam-spicy.tex</td>\n    </tr>\n    <tr>\n      <th>282</th>\n      <td>22.0</td>\n      <td>\\newpage\\n</td>\n      <td>13</td>\n      <td>2-5HW_Perimeter.tex</td>\n    </tr>\n    <tr>\n      <th>288</th>\n      <td>23.0</td>\n      <td>\\newpage\\n</td>\n      <td>13</td>\n      <td>2-6DN_Distance+Perimeter.tex</td>\n    </tr>\n    <tr>\n      <th>1904</th>\n      <td>129.0</td>\n      <td>\\newpage    \\n</td>\n      <td>13</td>\n      <td>8-1DN_Circle-trajectories.tex</td>\n    </tr>\n    <tr>\n      <th>316</th>\n      <td>27.0</td>\n      <td>\\newpage\\n</td>\n      <td>13</td>\n      <td>2-7DN_Compound-areas+perimeters.tex</td>\n    </tr>\n    <tr>\n      <th>1750</th>\n      <td>116.0</td>\n      <td>\\newpage    \\n</td>\n      <td>13</td>\n      <td>7-7Exam-Similarity.tex</td>\n    </tr>\n    <tr>\n      <th>1930</th>\n      <td>130.0</td>\n      <td>\\newpage    \\n</td>\n      <td>13</td>\n      <td>8-1DN_Circles.tex</td>\n    </tr>\n    <tr>\n      <th>295</th>\n      <td>24.0</td>\n      <td>\\newpage\\n</td>\n      <td>13</td>\n      <td>2-6HW_Compound-shapes.tex</td>\n    </tr>\n    <tr>\n      <th>329</th>\n      <td>28.0</td>\n      <td>\\newpage \\n</td>\n      <td>13</td>\n      <td>2-7Pretest_areas+numberlines.tex</td>\n    </tr>\n    <tr>\n      <th>160</th>\n      <td>14.0</td>\n      <td>\\newpage\\n</td>\n      <td>13</td>\n      <td>1-HW-Intro.tex</td>\n    </tr>\n    <tr>\n      <th>430</th>\n      <td>39.0</td>\n      <td>\\newpage\\n</td>\n      <td>13</td>\n      <td>3-3DN_Area+volume.tex</td>\n    </tr>\n    <tr>\n      <th>67</th>\n      <td>7.0</td>\n      <td>\\newpage\\n</td>\n      <td>13</td>\n      <td>1-5HW_Pretest-segments-intro.tex</td>\n    </tr>\n    <tr>\n      <th>452</th>\n      <td>42.0</td>\n      <td>\\newpage\\n</td>\n      <td>13</td>\n      <td>3-7DN_Segment-modeling+volume.tex</td>\n    </tr>\n    <tr>\n      <th>2541</th>\n      <td>163.0</td>\n      <td>\\newpage    \\n</td>\n      <td>13</td>\n      <td>9-9Exam-transformations.tex</td>\n    </tr>\n    <tr>\n      <th>89</th>\n      <td>9.0</td>\n      <td>\\newpage\\n</td>\n      <td>13</td>\n      <td>1-6HW_Angle-pairs.tex</td>\n    </tr>\n    <tr>\n      <th>95</th>\n      <td>10.0</td>\n      <td>\\newpage\\n</td>\n      <td>13</td>\n      <td>1-7Exam-Intro.tex</td>\n    </tr>\n  </tbody>\n</table>\n</div>"
     },
     "metadata": {},
     "execution_count": 80
    }
   ],
   "source": [
    "#newpage_df\n",
    "newpage_df = newpage_df.append(problem_df.loc[[1221, 2578, 121, 282, 288, 1904, 316, 1750, 1930, 295, 329,  160,  430,   67,  452, 2541, 89, 95]])\n",
    "problem_df.drop([1221, 2578, 121, 282, 288, 1904, 316, 1750, 1930, 295, 329,  160,  430,   67,  452, 2541, 89, 95], inplace=True)\n",
    "newpage_df = newpage_df.append(problem_df.loc[[1959, 1900, 102, 76, 107, 73]])\n",
    "problem_df.drop([1959, 1900, 102, 76, 107, 73], inplace=True)"
   ]
  },
  {
   "cell_type": "code",
   "execution_count": null,
   "metadata": {},
   "outputs": [],
   "source": []
  },
  {
   "cell_type": "code",
   "execution_count": 87,
   "metadata": {
    "tags": []
   },
   "outputs": [
    {
     "output_type": "stream",
     "name": "stdout",
     "text": "Translate $\\triangle ABC$ by $(x,y) \\rightarrow (x+3, y-5)$. Label the image $\\triangle A'B'C'$.\n  \\begin{center}\n      \\begin{tikzpicture}[scale=.48]\n      \\draw [help lines] (-7,-5) grid (10,6);\n      \\draw [thick, <->] (-7.4,0) -- (10.4,0) node [right] {$x$};\n      \\draw [thick, <->] (0,-5.4)--(0,6.4) node [above] {$y$};  \n      \\draw [thick]\n        (-4,4) node[below left] {$A$}--\n        (3,4) node[above] {$B$}--\n        (1,1) node[below] {$C$}--cycle;  \n    \\end{tikzpicture}\n  \\end{center}\n\n  \n  \\begin{multicols}{2}\n\nWhat transformation maps $\\triangle ABC$ onto $\\triangle DEC$, shown below? Fully specify the transformation. Complete the table of mappings to  corresponding objects.]  \\vspace{0.5cm}\n    \\begin{enumerate}\n      \\item $A \\rightarrow$ \\rule{2cm}{0.15mm}\n      \\item $B \\rightarrow$ \\rule{2cm}{0.15mm}\n      \\item $C \\rightarrow$ \\rule{2cm}{0.15mm}\n      \\item $\\angle ACB \\cong$ \\rule{2cm}{0.15mm}\n      \\item \\rule{2cm}{0.15mm} $\\cong \\overline {DE}$\n    \\end{enumerate}\n    \\begin{tikzpicture}[scale=.48]\n      \\draw [help lines] (-4,-3) grid (9,8);\n      \\draw [thick, <->] (-4.4,0) -- (9.4,0) node [right] {$x$};\n      \\draw [thick, <->] (0,-3.4)--(0,8.4) node [above] {$y$};  \n      \\draw [thick]\n      (4,-2) node[below left] {$A$}--\n      (7,1) node[right] {$B$}--\n      (1,1) node[below left] {$C$}--cycle;  \n      \\draw [thick]\n      (4,4) node[right] {$D$}--\n      (1,7) node[left] {$E$}--\n      (1,1) --cycle; \n    \\end{tikzpicture}\n  \\end{multicols}\n  \n  \\begin{multicols}{2}\n\nReflect $\\triangle TRS$ across the $y$-axis, labeling the image $\\triangle T'R'S'$. Check those properties that are maintained by reflection.]  \\vspace{0.5cm}\n    \\begin{itemize}\n\n$\\square$] Length\n\n$\\square$] Angle measures\n\n$\\square$] Orientation\n\n$\\square$] Parallel relationships\n\n$\\square$] Area\n    \\end{itemize}\n    \\begin{tikzpicture}[scale=.48]\n      \\draw [help lines] (-7,-4) grid (7,5);\n      \\draw [thick, <->] (-7.4,0) -- (7.4,0) node [right] {$x$};\n      \\draw [thick, <->] (0,-4.4)--(0,5.4) node [above] {$y$};  \n      \\draw [thick]\n      (4,-2) node[below left] {$T$}--\n      (5,1) node[right] {$R$}--\n      (2,2) node[below left] {$S$}--cycle;\n    \\end{tikzpicture}\n  \\end{multicols}\n\n\n  \\begin{multicols}{2}\n\nA translation maps triangle $PQR$ onto triangle $STU$.] \\vspace{0.5cm}\n      \\begin{tikzpicture}[scale=0.9]\n        \\coordinate [label=above left:$P$](A) at (95:2);\n        \\coordinate [label=below:$Q$](B) at (0, 0);\n        \\coordinate [label=right:$R$](C) at (-10:3.5);\n        \\draw [thick] (A)--(B)--(C)--cycle;\n        \\draw [thick, xshift=3cm, yshift=1.5cm] (95:2) node[above]{$S$}--\n        (0,0) node[below]{$T$}--\n        (-10:3.5) node[right]{$U$}--cycle;\n      \\end{tikzpicture}\\\\\n      Write each corresponding object.\n      \\begin{enumerate}\n        \\item $Q \\rightarrow$ \\rule{2cm}{0.15mm}\n        \\item $\\angle QRP \\cong$ \\rule{2cm}{0.15mm}\n        \\item \\rule{2cm}{0.15mm} $\\cong \\overline {ST}$\n        \\item Justify $\\triangle PQR \\cong \\triangle STU$. Use the words ``rigid motion\".\n      \\end{enumerate}\n    \\end{multicols}  \\vspace{2cm}\n\n\nCheck those transformations that are rigid motions.\n    \\begin{itemize}\n\n$\\square$] Dilation\n\n$\\square$] Translation\n\n$\\square$] Reflection\n\n$\\square$] Rotation\n\n$\\square$] An isometry\n\n$\\square$] Horizontal stretch\n    \\end{itemize}\n\n  \\begin{multicols}{2}\n\nA rigid motion maps $\\triangle DEF$ onto $\\triangle LMN$. Fill in the blanks.] \\vspace{0.5cm}\n      The following is given:\\\\*[0.5cm]\n      $DE=10$ \\\\\n      $m\\angle E = 40^\\circ$ \\\\\n      $m\\angle F = 110^\\circ$ \\\\[0.5cm]\n      \\columnbreak\n      \n      \\begin{enumerate}\n        \\item $D \\rightarrow$ \\rule{2cm}{0.15mm}\n        \\item $LM =$ \\rule{2cm}{0.15mm}\n        \\item $m\\angle M =$ \\rule{2cm}{0.15mm}\n        \\item $\\overline{LM} \\cong$ \\rule{2cm}{0.15mm}\n      \\end{enumerate}\n    \\end{multicols} \n\n\nGiven $\\triangle JKL \\sim \\triangle MNO$. $m\\angle K = 40^\\circ$ and $m\\angle M = 100^\\circ$.\\\\\n    Find the measure of $\\angle J$. \\vspace{3cm}\n\n\n\n\n"
    }
   ],
   "source": [
    "for q in problem_df[problem_df.file == '9-1DN_Correspondence.tex'].sort_index().question:\n",
    "    print(q)"
   ]
  },
  {
   "cell_type": "code",
   "execution_count": null,
   "metadata": {},
   "outputs": [],
   "source": []
  },
  {
   "cell_type": "code",
   "execution_count": 270,
   "metadata": {},
   "outputs": [
    {
     "output_type": "execute_result",
     "data": {
      "text/plain": "            problem_set_ID                                           question  \\\nproblem_ID                                                                      \n1754                   140  \\n\\subsubsection*{Draw a linear pair with give...   \n1785                   142  \\subsubsection*{Perpendicular (bisector, throu...   \n1815                   144  \\n\\begin{enumerate}\\n\\subsubsection*{Segment a...   \n964                     91   \\fancyhead[L]{BECA / Dr. Huson / 10th Grade G...   \n356                     24  \\subsubsection*{Circle the appropriate equatio...   \n111                      3  \\subsubsection*{Do Now 1b.6: Angle pair practi...   \n1442                   120  \\setcounter{page}{1}\\n%\\subsubsection*{13-1 Ho...   \n1631                   133  \\setcounter{page}{1}\\n\\subsubsection*{13.9 Exi...   \n1759                   140  \\emph{variation} Given two perpendicular rays,...   \n1757                   140  \\n\\subsubsection*{Vertical angle algebra}\\n  \\...   \n1756                   140  \\n\\subsubsection*{Complementary \\& supplementa...   \n1042                    94   \\fancyhead[L]{BECA / Dr. Huson / 10th Grade G...   \n1035                    94    \\setcounter{page}{1}\\n\\subsubsection*{9.10 H...   \n1749                   139  \\n  \\begin{enumerate}\\n    \\subsubsection*{Abs...   \n1231                   102    \\setcounter{page}{1}\\n\\subsubsection*{10.10 ...   \n\n            n_begin_enumerate  n_end_enumerate  n_sub-subsection  n_subsection  \nproblem_ID                                                                      \n1754                        5                4                 3             0  \n1785                        0                0                 2             0  \n1815                        2                1                 2             0  \n964                         2                1                 1             0  \n356                         0                0                 1             0  \n111                         2                1                 1             0  \n1442                        2                1                 1             0  \n1631                        1                0                 1             0  \n1759                        0                0                 1             0  \n1757                        2                1                 1             0  \n1756                        2                1                 1             0  \n1042                        2                1                 1             0  \n1035                        2                1                 1             0  \n1749                        1                1                 1             0  \n1231                        2                1                 1             0  ",
      "text/html": "<div>\n<style scoped>\n    .dataframe tbody tr th:only-of-type {\n        vertical-align: middle;\n    }\n\n    .dataframe tbody tr th {\n        vertical-align: top;\n    }\n\n    .dataframe thead th {\n        text-align: right;\n    }\n</style>\n<table border=\"1\" class=\"dataframe\">\n  <thead>\n    <tr style=\"text-align: right;\">\n      <th></th>\n      <th>problem_set_ID</th>\n      <th>question</th>\n      <th>n_begin_enumerate</th>\n      <th>n_end_enumerate</th>\n      <th>n_sub-subsection</th>\n      <th>n_subsection</th>\n    </tr>\n    <tr>\n      <th>problem_ID</th>\n      <th></th>\n      <th></th>\n      <th></th>\n      <th></th>\n      <th></th>\n      <th></th>\n    </tr>\n  </thead>\n  <tbody>\n    <tr>\n      <th>1754</th>\n      <td>140</td>\n      <td>\\n\\subsubsection*{Draw a linear pair with give...</td>\n      <td>5</td>\n      <td>4</td>\n      <td>3</td>\n      <td>0</td>\n    </tr>\n    <tr>\n      <th>1785</th>\n      <td>142</td>\n      <td>\\subsubsection*{Perpendicular (bisector, throu...</td>\n      <td>0</td>\n      <td>0</td>\n      <td>2</td>\n      <td>0</td>\n    </tr>\n    <tr>\n      <th>1815</th>\n      <td>144</td>\n      <td>\\n\\begin{enumerate}\\n\\subsubsection*{Segment a...</td>\n      <td>2</td>\n      <td>1</td>\n      <td>2</td>\n      <td>0</td>\n    </tr>\n    <tr>\n      <th>964</th>\n      <td>91</td>\n      <td>\\fancyhead[L]{BECA / Dr. Huson / 10th Grade G...</td>\n      <td>2</td>\n      <td>1</td>\n      <td>1</td>\n      <td>0</td>\n    </tr>\n    <tr>\n      <th>356</th>\n      <td>24</td>\n      <td>\\subsubsection*{Circle the appropriate equatio...</td>\n      <td>0</td>\n      <td>0</td>\n      <td>1</td>\n      <td>0</td>\n    </tr>\n    <tr>\n      <th>111</th>\n      <td>3</td>\n      <td>\\subsubsection*{Do Now 1b.6: Angle pair practi...</td>\n      <td>2</td>\n      <td>1</td>\n      <td>1</td>\n      <td>0</td>\n    </tr>\n    <tr>\n      <th>1442</th>\n      <td>120</td>\n      <td>\\setcounter{page}{1}\\n%\\subsubsection*{13-1 Ho...</td>\n      <td>2</td>\n      <td>1</td>\n      <td>1</td>\n      <td>0</td>\n    </tr>\n    <tr>\n      <th>1631</th>\n      <td>133</td>\n      <td>\\setcounter{page}{1}\\n\\subsubsection*{13.9 Exi...</td>\n      <td>1</td>\n      <td>0</td>\n      <td>1</td>\n      <td>0</td>\n    </tr>\n    <tr>\n      <th>1759</th>\n      <td>140</td>\n      <td>\\emph{variation} Given two perpendicular rays,...</td>\n      <td>0</td>\n      <td>0</td>\n      <td>1</td>\n      <td>0</td>\n    </tr>\n    <tr>\n      <th>1757</th>\n      <td>140</td>\n      <td>\\n\\subsubsection*{Vertical angle algebra}\\n  \\...</td>\n      <td>2</td>\n      <td>1</td>\n      <td>1</td>\n      <td>0</td>\n    </tr>\n    <tr>\n      <th>1756</th>\n      <td>140</td>\n      <td>\\n\\subsubsection*{Complementary \\&amp; supplementa...</td>\n      <td>2</td>\n      <td>1</td>\n      <td>1</td>\n      <td>0</td>\n    </tr>\n    <tr>\n      <th>1042</th>\n      <td>94</td>\n      <td>\\fancyhead[L]{BECA / Dr. Huson / 10th Grade G...</td>\n      <td>2</td>\n      <td>1</td>\n      <td>1</td>\n      <td>0</td>\n    </tr>\n    <tr>\n      <th>1035</th>\n      <td>94</td>\n      <td>\\setcounter{page}{1}\\n\\subsubsection*{9.10 H...</td>\n      <td>2</td>\n      <td>1</td>\n      <td>1</td>\n      <td>0</td>\n    </tr>\n    <tr>\n      <th>1749</th>\n      <td>139</td>\n      <td>\\n  \\begin{enumerate}\\n    \\subsubsection*{Abs...</td>\n      <td>1</td>\n      <td>1</td>\n      <td>1</td>\n      <td>0</td>\n    </tr>\n    <tr>\n      <th>1231</th>\n      <td>102</td>\n      <td>\\setcounter{page}{1}\\n\\subsubsection*{10.10 ...</td>\n      <td>2</td>\n      <td>1</td>\n      <td>1</td>\n      <td>0</td>\n    </tr>\n  </tbody>\n</table>\n</div>"
     },
     "metadata": {},
     "execution_count": 270
    }
   ],
   "source": [
    "p_df = problems_df.copy()\n",
    "p_df['n_begin_enumerate'] = problems_df.question.str.count(r'\\\\begin{enumerate}')\n",
    "p_df['n_end_enumerate'] = problems_df.question.str.count('end{enumerate}')\n",
    "p_df['n_sub-subsection'] = problems_df.question.str.count(r'\\\\subsubsection')\n",
    "p_df['n_subsection'] = problems_df.question.str.count(r'\\\\subsection')\n",
    "p_df.sort_values('n_sub-subsection', ascending=False)[:15]"
   ]
  }
 ]
}