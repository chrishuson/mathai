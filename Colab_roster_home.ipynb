{
  "nbformat": 4,
  "nbformat_minor": 0,
  "metadata": {
    "colab": {
      "name": "Colab-roster-home.ipynb",
      "provenance": [],
      "authorship_tag": "ABX9TyMG0C8UzQ2g8HD5dxzqYeSt",
      "include_colab_link": true
    },
    "kernelspec": {
      "name": "python3",
      "display_name": "Python 3"
    }
  },
  "cells": [
    {
      "cell_type": "markdown",
      "metadata": {
        "id": "view-in-github",
        "colab_type": "text"
      },
      "source": [
        "<a href=\"https://colab.research.google.com/github/chrishuson/mathai/blob/master/Colab_roster_home.ipynb\" target=\"_parent\"><img src=\"https://colab.research.google.com/assets/colab-badge.svg\" alt=\"Open In Colab\"/></a>"
      ]
    },
    {
      "cell_type": "code",
      "metadata": {
        "id": "abzHpv3fAYp-",
        "outputId": "7565a50d-cef7-4910-cd51-4fa06939512a",
        "colab": {
          "base_uri": "https://localhost:8080/",
          "height": 36
        }
      },
      "source": [
        "import os\n",
        "import sys\n",
        "import pandas as pd\n",
        "import numpy as np\n",
        "import matplotlib.pyplot as plt\n",
        "%matplotlib inline\n",
        "# Versions\n",
        "# pd.show_versions(as_json=False)\n",
        "os.getcwd()"
      ],
      "execution_count": 1,
      "outputs": [
        {
          "output_type": "execute_result",
          "data": {
            "application/vnd.google.colaboratory.intrinsic+json": {
              "type": "string"
            },
            "text/plain": [
              "'/content'"
            ]
          },
          "metadata": {
            "tags": []
          },
          "execution_count": 1
        }
      ]
    },
    {
      "cell_type": "code",
      "metadata": {
        "id": "rgyAad2lyjNk",
        "outputId": "43653773-d6ea-4bfa-dff5-3975f01a2ec5",
        "colab": {
          "base_uri": "https://localhost:8080/",
          "height": 34
        }
      },
      "source": [
        "from google.colab import drive\n",
        "drive.mount('/content/drive')"
      ],
      "execution_count": 2,
      "outputs": [
        {
          "output_type": "stream",
          "text": [
            "Mounted at /content/drive\n"
          ],
          "name": "stdout"
        }
      ]
    },
    {
      "cell_type": "code",
      "metadata": {
        "id": "koN4ExaOItXT",
        "outputId": "da27e83c-f8d1-4d76-c447-12ac49c2dabc",
        "colab": {
          "base_uri": "https://localhost:8080/",
          "height": 208
        }
      },
      "source": [
        "os.listdir('/content/drive/My Drive/Class_lists')"
      ],
      "execution_count": 13,
      "outputs": [
        {
          "output_type": "execute_result",
          "data": {
            "text/plain": [
              "['HS Master Contact List: 2020 2021.gsheet',\n",
              " 'HS Rosters.gsheet',\n",
              " 'HS-roster-Oct10.csv',\n",
              " '1-5Deltamath-.xlsx',\n",
              " '1-5Deltamath.xlsx',\n",
              " 'scores.csv',\n",
              " 'HS_Master_Contact_List_2020_2021_HS_List.csv',\n",
              " 'HS_Rosters_Master_List_Oct12.csv',\n",
              " 'No_Deltamath.csv',\n",
              " 'scores_deltamath.csv',\n",
              " 'scores_deltamath.gsheet']"
            ]
          },
          "metadata": {
            "tags": []
          },
          "execution_count": 13
        }
      ]
    },
    {
      "cell_type": "code",
      "metadata": {
        "id": "tOe1GPAvY1Oj",
        "outputId": "e97a0111-880f-47ad-db64-a637197b1e81",
        "colab": {
          "base_uri": "https://localhost:8080/",
          "height": 49
        }
      },
      "source": [
        "# Import and format HS and 10th grade roster dataframes\n",
        "HS_roster_df = pd.read_csv('/content/drive/My Drive/Class_lists/HS_Rosters_Master_List_Oct12.csv')\n",
        "HS_roster_df.dropna(subset=['Student'], inplace=True)\n",
        "\n",
        "# No comma in Student name\n",
        "HS_roster_df.loc[~HS_roster_df.Student.str.contains(','), 'Student'] = HS_roster_df[~HS_roster_df.Student.str.contains(',')].Student.str.replace(' ', ', ')\n",
        "HS_roster_df[HS_roster_df.OSIS.isnull()]"
      ],
      "execution_count": 6,
      "outputs": [
        {
          "output_type": "execute_result",
          "data": {
            "text/html": [
              "<div>\n",
              "<style scoped>\n",
              "    .dataframe tbody tr th:only-of-type {\n",
              "        vertical-align: middle;\n",
              "    }\n",
              "\n",
              "    .dataframe tbody tr th {\n",
              "        vertical-align: top;\n",
              "    }\n",
              "\n",
              "    .dataframe thead th {\n",
              "        text-align: right;\n",
              "    }\n",
              "</style>\n",
              "<table border=\"1\" class=\"dataframe\">\n",
              "  <thead>\n",
              "    <tr style=\"text-align: right;\">\n",
              "      <th></th>\n",
              "      <th>Student</th>\n",
              "      <th>OSIS</th>\n",
              "      <th>Learning Model</th>\n",
              "      <th>Advisor</th>\n",
              "      <th>Group</th>\n",
              "      <th>Schedule</th>\n",
              "      <th>BECA324 Email</th>\n",
              "    </tr>\n",
              "  </thead>\n",
              "  <tbody>\n",
              "  </tbody>\n",
              "</table>\n",
              "</div>"
            ],
            "text/plain": [
              "Empty DataFrame\n",
              "Columns: [Student, OSIS, Learning Model, Advisor, Group, Schedule, BECA324 Email]\n",
              "Index: []"
            ]
          },
          "metadata": {
            "tags": []
          },
          "execution_count": 6
        }
      ]
    },
    {
      "cell_type": "code",
      "metadata": {
        "id": "PnycqG9-ZQIU",
        "outputId": "49c1f867-c21b-4ef9-8477-bf185710b9ee",
        "colab": {
          "base_uri": "https://localhost:8080/",
          "height": 206
        }
      },
      "source": [
        "\n",
        "HS_roster_df.OSIS = HS_roster_df.OSIS.apply(int)\n",
        "new_column_names = {'Learning Model':'Learning_model', 'BECA324 Email':'Email'}\n",
        "HS_roster_df.rename(columns=new_column_names, inplace=True)\n",
        "\n",
        "HS_roster_df.Student = HS_roster_df.Student.str.replace('-', ' ').str.title()\n",
        "#HS_roster_df.Student = HS_roster_df.Student.str.title()\n",
        "HS_roster_df[['Last', 'First']] = HS_roster_df.Student.str.split(',', expand=True)\n",
        "HS_roster_df.First = HS_roster_df.First.str.strip()\n",
        "HS_roster_df.Last = HS_roster_df.Last.str.strip()\n",
        "HS_roster_df.Last = HS_roster_df.Last.str.split(' ').apply(lambda x: x[0]) # causes a problem for \"De Los Santos\", and similar\n",
        "\n",
        "HS_roster_df['First'] = HS_roster_df['First'].replace(['Nathanial Richard', 'Bianca Anelis', 'Ethan Allen', 'Jaylin Noel', 'John Paul', 'Yiselle', 'Hilary'],\n",
        "                                                    ['Nathanial', 'Bianca', 'Ethan', 'Jaylin', 'John Paul', 'Yisselle', 'Hillary'])\n",
        "\n",
        "cols_to_order = ['First', 'Last', 'Schedule', 'Advisor', 'Email']\n",
        "new_columns = cols_to_order + (HS_roster_df.columns.drop(cols_to_order).tolist())\n",
        "HS_roster_df = HS_roster_df[new_columns]\n",
        "HS_roster_df = HS_roster_df.sort_values(['Schedule', 'First', 'Last'])\n",
        "\n",
        "HS_roster_df[HS_roster_df.Schedule.str.startswith('10')].head()"
      ],
      "execution_count": 7,
      "outputs": [
        {
          "output_type": "execute_result",
          "data": {
            "text/html": [
              "<div>\n",
              "<style scoped>\n",
              "    .dataframe tbody tr th:only-of-type {\n",
              "        vertical-align: middle;\n",
              "    }\n",
              "\n",
              "    .dataframe tbody tr th {\n",
              "        vertical-align: top;\n",
              "    }\n",
              "\n",
              "    .dataframe thead th {\n",
              "        text-align: right;\n",
              "    }\n",
              "</style>\n",
              "<table border=\"1\" class=\"dataframe\">\n",
              "  <thead>\n",
              "    <tr style=\"text-align: right;\">\n",
              "      <th></th>\n",
              "      <th>First</th>\n",
              "      <th>Last</th>\n",
              "      <th>Schedule</th>\n",
              "      <th>Advisor</th>\n",
              "      <th>Email</th>\n",
              "      <th>Student</th>\n",
              "      <th>OSIS</th>\n",
              "      <th>Learning_model</th>\n",
              "      <th>Group</th>\n",
              "    </tr>\n",
              "  </thead>\n",
              "  <tbody>\n",
              "    <tr>\n",
              "      <th>271</th>\n",
              "      <td>Aiden</td>\n",
              "      <td>Sandoval</td>\n",
              "      <td>10B</td>\n",
              "      <td>Krzeminski</td>\n",
              "      <td>asandoval1@beca324.org</td>\n",
              "      <td>Sandoval, Aiden</td>\n",
              "      <td>221038003</td>\n",
              "      <td>Hybrid</td>\n",
              "      <td>10B</td>\n",
              "    </tr>\n",
              "    <tr>\n",
              "      <th>248</th>\n",
              "      <td>Carlos</td>\n",
              "      <td>Rodriguez</td>\n",
              "      <td>10B</td>\n",
              "      <td>Easton</td>\n",
              "      <td>crodriguez1@beca324.org</td>\n",
              "      <td>Rodriguez, Carlos</td>\n",
              "      <td>216045260</td>\n",
              "      <td>Hybrid</td>\n",
              "      <td>10B</td>\n",
              "    </tr>\n",
              "    <tr>\n",
              "      <th>111</th>\n",
              "      <td>Juliet</td>\n",
              "      <td>Gonzalez</td>\n",
              "      <td>10B</td>\n",
              "      <td>Maldonado</td>\n",
              "      <td>jgonzalez1@beca324.org</td>\n",
              "      <td>Gonzalez, Juliet</td>\n",
              "      <td>224956979</td>\n",
              "      <td>Hybrid</td>\n",
              "      <td>10B</td>\n",
              "    </tr>\n",
              "    <tr>\n",
              "      <th>163</th>\n",
              "      <td>Tyquan</td>\n",
              "      <td>Mcclary</td>\n",
              "      <td>10B</td>\n",
              "      <td>Spaeth</td>\n",
              "      <td>tmcclary1@beca324.org</td>\n",
              "      <td>Mcclary, Tyquan</td>\n",
              "      <td>220772693</td>\n",
              "      <td>Hybrid</td>\n",
              "      <td>10B</td>\n",
              "    </tr>\n",
              "    <tr>\n",
              "      <th>237</th>\n",
              "      <td>Bianca</td>\n",
              "      <td>Reyes</td>\n",
              "      <td>10C</td>\n",
              "      <td>Huson</td>\n",
              "      <td>breyes1@beca324.org</td>\n",
              "      <td>Reyes, Bianca Anelis</td>\n",
              "      <td>223011388</td>\n",
              "      <td>Hybrid</td>\n",
              "      <td>10C</td>\n",
              "    </tr>\n",
              "  </tbody>\n",
              "</table>\n",
              "</div>"
            ],
            "text/plain": [
              "      First       Last Schedule  ...       OSIS Learning_model Group\n",
              "271   Aiden   Sandoval      10B  ...  221038003         Hybrid   10B\n",
              "248  Carlos  Rodriguez      10B  ...  216045260         Hybrid   10B\n",
              "111  Juliet   Gonzalez      10B  ...  224956979         Hybrid   10B\n",
              "163  Tyquan    Mcclary      10B  ...  220772693         Hybrid   10B\n",
              "237  Bianca      Reyes      10C  ...  223011388         Hybrid   10C\n",
              "\n",
              "[5 rows x 9 columns]"
            ]
          },
          "metadata": {
            "tags": []
          },
          "execution_count": 7
        }
      ]
    },
    {
      "cell_type": "code",
      "metadata": {
        "id": "BbkX4istdBnR"
      },
      "source": [
        "HS_summary = HS_roster_df.value_counts('Schedule').reset_index()\n",
        "HS_summary.columns = ['Schedule', 'Cohort_size']\n",
        "HS_summary['Grade'] = HS_summary.Schedule.str[0:2]\n",
        "HS_summary['Section'] = HS_summary.Schedule.str[2:]\n",
        "HS_summary.pivot_table(values='Cohort_size', index='Grade', columns='Section', fill_value='')\n"
      ],
      "execution_count": null,
      "outputs": []
    },
    {
      "cell_type": "code",
      "metadata": {
        "id": "QW4jjM4wCWz0",
        "outputId": "c9ea8e04-9330-4720-d6a4-046e049721fe",
        "colab": {
          "base_uri": "https://localhost:8080/",
          "height": 208
        }
      },
      "source": [
        "roster10_df = HS_roster_df[HS_roster_df.Schedule.str.startswith('10')].copy().reset_index(drop=True)\n",
        "print(roster10_df.columns)\n",
        "print('HS len: ', len(HS_roster_df), '\\n10th len: ', len(roster10_df))\n",
        "roster10_df.value_counts('Schedule')"
      ],
      "execution_count": 9,
      "outputs": [
        {
          "output_type": "stream",
          "text": [
            "Index(['First', 'Last', 'Schedule', 'Advisor', 'Email', 'Student', 'OSIS',\n",
            "       'Learning_model', 'Group'],\n",
            "      dtype='object')\n",
            "HS len:  325 \n",
            "10th len:  90\n"
          ],
          "name": "stdout"
        },
        {
          "output_type": "execute_result",
          "data": {
            "text/plain": [
              "Schedule\n",
              "10D2    43\n",
              "10D1    37\n",
              "10C      6\n",
              "10B      4\n",
              "dtype: int64"
            ]
          },
          "metadata": {
            "tags": []
          },
          "execution_count": 9
        }
      ]
    },
    {
      "cell_type": "code",
      "metadata": {
        "id": "hYw8cbmSZevZ"
      },
      "source": [
        "classroom_raw_df = pd.read_csv('/content/drive/My Drive/Class_lists/Geometry_10_Dr_Huson.csv')\n",
        "classroom_raw_df.columns"
      ],
      "execution_count": null,
      "outputs": []
    },
    {
      "cell_type": "code",
      "metadata": {
        "id": "qPkdT9jKdEPt",
        "outputId": "a220eb7f-4026-49b4-a2fa-c15e8a241183",
        "colab": {
          "base_uri": "https://localhost:8080/",
          "height": 206
        }
      },
      "source": [
        "classroom_df =pd.DataFrame()\n",
        "scored_columns = ['Last Name', 'First Name', 'Unit 1 Attendance', '1.5 Deltamath Algebra and Graphing practice',\n",
        "                  'Homework: watch first Geometry unit of Khan Academy', '1.5 Worksheet: Notation and terminology, skills',\n",
        "                  '1.7 Construction of an equilateral triangle','1.7 Genius Scan app on your phone to snap photos and upload assignments', 'Email Address',]\n",
        "classroom_df[['Last', 'First', 'Attendance', 'Deltamath', 'Khan', 'Worksheet', 'Construction', 'Genius', 'Email']] = classroom_raw_df[scored_columns]\n",
        "classroom_df.head()"
      ],
      "execution_count": 35,
      "outputs": [
        {
          "output_type": "execute_result",
          "data": {
            "text/html": [
              "<div>\n",
              "<style scoped>\n",
              "    .dataframe tbody tr th:only-of-type {\n",
              "        vertical-align: middle;\n",
              "    }\n",
              "\n",
              "    .dataframe tbody tr th {\n",
              "        vertical-align: top;\n",
              "    }\n",
              "\n",
              "    .dataframe thead th {\n",
              "        text-align: right;\n",
              "    }\n",
              "</style>\n",
              "<table border=\"1\" class=\"dataframe\">\n",
              "  <thead>\n",
              "    <tr style=\"text-align: right;\">\n",
              "      <th></th>\n",
              "      <th>Last</th>\n",
              "      <th>First</th>\n",
              "      <th>Attendance</th>\n",
              "      <th>Deltamath</th>\n",
              "      <th>Khan</th>\n",
              "      <th>Worksheet</th>\n",
              "      <th>Construction</th>\n",
              "      <th>Genius</th>\n",
              "      <th>Email</th>\n",
              "    </tr>\n",
              "  </thead>\n",
              "  <tbody>\n",
              "    <tr>\n",
              "      <th>0</th>\n",
              "      <td>Sandoval</td>\n",
              "      <td>(10B)Aiden</td>\n",
              "      <td>3</td>\n",
              "      <td>3</td>\n",
              "      <td>1</td>\n",
              "      <td>3</td>\n",
              "      <td>3</td>\n",
              "      <td>1</td>\n",
              "      <td>asandoval1@beca324.org</td>\n",
              "    </tr>\n",
              "    <tr>\n",
              "      <th>1</th>\n",
              "      <td>Rodriguez</td>\n",
              "      <td>(10B)Carlos</td>\n",
              "      <td>3</td>\n",
              "      <td>1</td>\n",
              "      <td>1</td>\n",
              "      <td>1</td>\n",
              "      <td>3</td>\n",
              "      <td>1</td>\n",
              "      <td>crodriguez1@beca324.org</td>\n",
              "    </tr>\n",
              "    <tr>\n",
              "      <th>2</th>\n",
              "      <td>Mcclary</td>\n",
              "      <td>(10B)Tyquan</td>\n",
              "      <td>3</td>\n",
              "      <td>1</td>\n",
              "      <td>1</td>\n",
              "      <td>1</td>\n",
              "      <td>3</td>\n",
              "      <td>1</td>\n",
              "      <td>tmcclary1@beca324.org</td>\n",
              "    </tr>\n",
              "    <tr>\n",
              "      <th>3</th>\n",
              "      <td>Reyes</td>\n",
              "      <td>(10C)Bianca</td>\n",
              "      <td>3</td>\n",
              "      <td>2</td>\n",
              "      <td>3</td>\n",
              "      <td>1</td>\n",
              "      <td>3</td>\n",
              "      <td>1</td>\n",
              "      <td>breyes1@beca324.org</td>\n",
              "    </tr>\n",
              "    <tr>\n",
              "      <th>4</th>\n",
              "      <td>Delgado</td>\n",
              "      <td>(10C)Donovan</td>\n",
              "      <td>3</td>\n",
              "      <td>4</td>\n",
              "      <td>4</td>\n",
              "      <td>3</td>\n",
              "      <td>3</td>\n",
              "      <td>3</td>\n",
              "      <td>ddelgado1@beca324.org</td>\n",
              "    </tr>\n",
              "  </tbody>\n",
              "</table>\n",
              "</div>"
            ],
            "text/plain": [
              "        Last         First  ...  Genius                    Email\n",
              "0   Sandoval    (10B)Aiden  ...       1   asandoval1@beca324.org\n",
              "1  Rodriguez   (10B)Carlos  ...       1  crodriguez1@beca324.org\n",
              "2    Mcclary   (10B)Tyquan  ...       1    tmcclary1@beca324.org\n",
              "3      Reyes   (10C)Bianca  ...       1      breyes1@beca324.org\n",
              "4    Delgado  (10C)Donovan  ...       3    ddelgado1@beca324.org\n",
              "\n",
              "[5 rows x 9 columns]"
            ]
          },
          "metadata": {
            "tags": []
          },
          "execution_count": 35
        }
      ]
    },
    {
      "cell_type": "code",
      "metadata": {
        "id": "4jd7tij5Zejf",
        "outputId": "7785e10b-5494-4ef3-f513-f62979eacab9",
        "colab": {
          "base_uri": "https://localhost:8080/",
          "height": 496
        }
      },
      "source": [
        "g_scores_df = roster10_df.merge(classroom_df, how='inner', on='Email', suffixes=(None, '_y'))\n",
        "print('Google Classroom roster length: ', len(classroom_df))\n",
        "print('10th Grade Master length: ', len(roster10_df))\n",
        "print('Merged roster length: ', len(g_scores_df))\n",
        "#g_scores_df[g_scores_df.Last.str[:4] != g_scores_df.Last_y.str.title().str[:4]]\n",
        "g_scores_df.drop(columns=['Student', 'OSIS', 'Learning_model', 'Group', 'Last_y', 'First_y'])"
      ],
      "execution_count": 48,
      "outputs": [
        {
          "output_type": "stream",
          "text": [
            "Google Classroom roster length:  86\n",
            "10th Grade Master length:  90\n",
            "Merged roster length:  86\n"
          ],
          "name": "stdout"
        },
        {
          "output_type": "execute_result",
          "data": {
            "text/html": [
              "<div>\n",
              "<style scoped>\n",
              "    .dataframe tbody tr th:only-of-type {\n",
              "        vertical-align: middle;\n",
              "    }\n",
              "\n",
              "    .dataframe tbody tr th {\n",
              "        vertical-align: top;\n",
              "    }\n",
              "\n",
              "    .dataframe thead th {\n",
              "        text-align: right;\n",
              "    }\n",
              "</style>\n",
              "<table border=\"1\" class=\"dataframe\">\n",
              "  <thead>\n",
              "    <tr style=\"text-align: right;\">\n",
              "      <th></th>\n",
              "      <th>First</th>\n",
              "      <th>Last</th>\n",
              "      <th>Schedule</th>\n",
              "      <th>Advisor</th>\n",
              "      <th>Email</th>\n",
              "      <th>Attendance</th>\n",
              "      <th>Deltamath</th>\n",
              "      <th>Khan</th>\n",
              "      <th>Worksheet</th>\n",
              "      <th>Construction</th>\n",
              "      <th>Genius</th>\n",
              "    </tr>\n",
              "  </thead>\n",
              "  <tbody>\n",
              "    <tr>\n",
              "      <th>0</th>\n",
              "      <td>Aiden</td>\n",
              "      <td>Sandoval</td>\n",
              "      <td>10B</td>\n",
              "      <td>Krzeminski</td>\n",
              "      <td>asandoval1@beca324.org</td>\n",
              "      <td>3</td>\n",
              "      <td>3</td>\n",
              "      <td>1</td>\n",
              "      <td>3</td>\n",
              "      <td>3</td>\n",
              "      <td>1</td>\n",
              "    </tr>\n",
              "    <tr>\n",
              "      <th>1</th>\n",
              "      <td>Carlos</td>\n",
              "      <td>Rodriguez</td>\n",
              "      <td>10B</td>\n",
              "      <td>Easton</td>\n",
              "      <td>crodriguez1@beca324.org</td>\n",
              "      <td>3</td>\n",
              "      <td>1</td>\n",
              "      <td>1</td>\n",
              "      <td>1</td>\n",
              "      <td>3</td>\n",
              "      <td>1</td>\n",
              "    </tr>\n",
              "    <tr>\n",
              "      <th>2</th>\n",
              "      <td>Tyquan</td>\n",
              "      <td>Mcclary</td>\n",
              "      <td>10B</td>\n",
              "      <td>Spaeth</td>\n",
              "      <td>tmcclary1@beca324.org</td>\n",
              "      <td>3</td>\n",
              "      <td>1</td>\n",
              "      <td>1</td>\n",
              "      <td>1</td>\n",
              "      <td>3</td>\n",
              "      <td>1</td>\n",
              "    </tr>\n",
              "    <tr>\n",
              "      <th>3</th>\n",
              "      <td>Bianca</td>\n",
              "      <td>Reyes</td>\n",
              "      <td>10C</td>\n",
              "      <td>Huson</td>\n",
              "      <td>breyes1@beca324.org</td>\n",
              "      <td>3</td>\n",
              "      <td>2</td>\n",
              "      <td>3</td>\n",
              "      <td>1</td>\n",
              "      <td>3</td>\n",
              "      <td>1</td>\n",
              "    </tr>\n",
              "    <tr>\n",
              "      <th>4</th>\n",
              "      <td>Donovan</td>\n",
              "      <td>Delgado</td>\n",
              "      <td>10C</td>\n",
              "      <td>Johnsen</td>\n",
              "      <td>ddelgado1@beca324.org</td>\n",
              "      <td>3</td>\n",
              "      <td>4</td>\n",
              "      <td>4</td>\n",
              "      <td>3</td>\n",
              "      <td>3</td>\n",
              "      <td>3</td>\n",
              "    </tr>\n",
              "    <tr>\n",
              "      <th>...</th>\n",
              "      <td>...</td>\n",
              "      <td>...</td>\n",
              "      <td>...</td>\n",
              "      <td>...</td>\n",
              "      <td>...</td>\n",
              "      <td>...</td>\n",
              "      <td>...</td>\n",
              "      <td>...</td>\n",
              "      <td>...</td>\n",
              "      <td>...</td>\n",
              "      <td>...</td>\n",
              "    </tr>\n",
              "    <tr>\n",
              "      <th>81</th>\n",
              "      <td>Steven</td>\n",
              "      <td>Lopez</td>\n",
              "      <td>10D2</td>\n",
              "      <td>Spaeth</td>\n",
              "      <td>slopez2@beca324.org</td>\n",
              "      <td>1</td>\n",
              "      <td>1</td>\n",
              "      <td>3</td>\n",
              "      <td>1</td>\n",
              "      <td>1</td>\n",
              "      <td>1</td>\n",
              "    </tr>\n",
              "    <tr>\n",
              "      <th>82</th>\n",
              "      <td>Tigidanke</td>\n",
              "      <td>Dukuray</td>\n",
              "      <td>10D2</td>\n",
              "      <td>Krzeminski</td>\n",
              "      <td>tdukuray1@beca324.org</td>\n",
              "      <td>2</td>\n",
              "      <td>2</td>\n",
              "      <td>3</td>\n",
              "      <td>1</td>\n",
              "      <td>3</td>\n",
              "      <td>3</td>\n",
              "    </tr>\n",
              "    <tr>\n",
              "      <th>83</th>\n",
              "      <td>Yisselle</td>\n",
              "      <td>Perez</td>\n",
              "      <td>10D2</td>\n",
              "      <td>Maldonado</td>\n",
              "      <td>yperezsantiago1@beca324.org</td>\n",
              "      <td>2</td>\n",
              "      <td>2</td>\n",
              "      <td>2</td>\n",
              "      <td>1</td>\n",
              "      <td>3</td>\n",
              "      <td>1</td>\n",
              "    </tr>\n",
              "    <tr>\n",
              "      <th>84</th>\n",
              "      <td>Yolanda</td>\n",
              "      <td>Tello</td>\n",
              "      <td>10D2</td>\n",
              "      <td>O'Grady</td>\n",
              "      <td>ytello1@beca324.org</td>\n",
              "      <td>3</td>\n",
              "      <td>3</td>\n",
              "      <td>3</td>\n",
              "      <td>1</td>\n",
              "      <td>2</td>\n",
              "      <td>3</td>\n",
              "    </tr>\n",
              "    <tr>\n",
              "      <th>85</th>\n",
              "      <td>Zarilyn</td>\n",
              "      <td>Sanchez</td>\n",
              "      <td>10D2</td>\n",
              "      <td>Spaeth</td>\n",
              "      <td>zsanchez1@beca324.org</td>\n",
              "      <td>3</td>\n",
              "      <td>3</td>\n",
              "      <td>4</td>\n",
              "      <td>3</td>\n",
              "      <td>2</td>\n",
              "      <td>3</td>\n",
              "    </tr>\n",
              "  </tbody>\n",
              "</table>\n",
              "<p>86 rows × 11 columns</p>\n",
              "</div>"
            ],
            "text/plain": [
              "        First       Last Schedule  ... Worksheet Construction  Genius\n",
              "0       Aiden   Sandoval      10B  ...         3            3       1\n",
              "1      Carlos  Rodriguez      10B  ...         1            3       1\n",
              "2      Tyquan    Mcclary      10B  ...         1            3       1\n",
              "3      Bianca      Reyes      10C  ...         1            3       1\n",
              "4     Donovan    Delgado      10C  ...         3            3       3\n",
              "..        ...        ...      ...  ...       ...          ...     ...\n",
              "81     Steven      Lopez     10D2  ...         1            1       1\n",
              "82  Tigidanke    Dukuray     10D2  ...         1            3       3\n",
              "83   Yisselle      Perez     10D2  ...         1            3       1\n",
              "84    Yolanda      Tello     10D2  ...         1            2       3\n",
              "85    Zarilyn    Sanchez     10D2  ...         3            2       3\n",
              "\n",
              "[86 rows x 11 columns]"
            ]
          },
          "metadata": {
            "tags": []
          },
          "execution_count": 48
        }
      ]
    },
    {
      "cell_type": "code",
      "metadata": {
        "id": "_V-EEmcMR2gt"
      },
      "source": [
        "deltamath_df = pd.read_excel('/content/drive/My Drive/Class_lists/1-5Deltamath.xlsx', skipfooter=6)\n",
        "deltamath_df.drop(columns='Class', inplace=True)\n",
        "deltamath_df.columns = ['First', 'Last', 'Deltamath_1_5', 'Deltamath_1_4', 'Deltamath_1_2']\n",
        "deltamath_df[['First', 'Last']] = deltamath_df[['First', 'Last']].apply(lambda x: x.str.strip())\n",
        "deltamath_df.Last = deltamath_df.Last.str.split(' ').apply(lambda x: x[0])\n",
        "\n",
        "print('Deltamath accounts: ', len(deltamath_df))\n",
        "deltamath_df.tail(45)"
      ],
      "execution_count": null,
      "outputs": []
    },
    {
      "cell_type": "code",
      "metadata": {
        "id": "3Iaqve2HG8JM"
      },
      "source": [
        "deltamath_df.First = deltamath_df.First.replace('Lena', 'Leanne')\n",
        "#deltamath_df[deltamath_df.First.str.contains('Le')]"
      ],
      "execution_count": 50,
      "outputs": []
    },
    {
      "cell_type": "code",
      "metadata": {
        "id": "B8eAm21mS3Eu"
      },
      "source": [
        "scores_df = roster10_df.merge(deltamath_df, how='outer').sort_values(['Schedule', 'First', 'Last'])\n",
        "scores_df[scores_df[['Schedule', 'Deltamath_1_5']].isnull().any(axis=1)] # Find unmatched"
      ],
      "execution_count": null,
      "outputs": []
    },
    {
      "cell_type": "code",
      "metadata": {
        "id": "MXT8zmndp4gV"
      },
      "source": [
        "scores_df.fillna(0, inplace=True)"
      ],
      "execution_count": 52,
      "outputs": []
    },
    {
      "cell_type": "code",
      "metadata": {
        "id": "Yr2CQG7yjU4h"
      },
      "source": [
        "scores_df[['First', 'Last', 'Deltamath_1_5', 'Deltamath_1_4', 'Deltamath_1_2']].boxplot()"
      ],
      "execution_count": null,
      "outputs": []
    },
    {
      "cell_type": "code",
      "metadata": {
        "id": "W2Qy6hrWm6Wt"
      },
      "source": [
        "def rubric(d):\n",
        "  total = sum(d)\n",
        "  if total ==  300:\n",
        "    return 4\n",
        "  elif total > 200:\n",
        "    return 3\n",
        "  elif total >= 75:\n",
        "    return 2\n",
        "  else:\n",
        "    return 1"
      ],
      "execution_count": 53,
      "outputs": []
    },
    {
      "cell_type": "code",
      "metadata": {
        "id": "_nGE2SAOkoqY"
      },
      "source": [
        "#scores_df[['Deltamath_1_5', 'Deltamath_1_4', 'Deltamath_1_2']].apply(lambda x: 4 if x[0] else x[1], axis=1)\n",
        "scores_df['Deltamath'] = scores_df[['Deltamath_1_5', 'Deltamath_1_4', 'Deltamath_1_2']].apply(rubric, axis=1)\n",
        "scores_df[['First', 'Last', 'Deltamath', 'Deltamath_1_5', 'Deltamath_1_4', 'Deltamath_1_2']].sort_values(['Deltamath', 'Deltamath_1_5']).iloc[20:60]"
      ],
      "execution_count": null,
      "outputs": []
    },
    {
      "cell_type": "code",
      "metadata": {
        "id": "G1R2y4_Al4ib",
        "outputId": "2f514154-68f2-4b1a-9a94-d1ed78d226d2",
        "colab": {
          "base_uri": "https://localhost:8080/",
          "height": 49
        }
      },
      "source": [
        "combined_scores_df = g_scores_df.merge(scores_df, how='left', on=['Last', 'First'], suffixes=(None, '_raw'))\n",
        "combined_scores_df[combined_scores_df.Deltamath != combined_scores_df.Deltamath_raw][['First', 'Last', 'Deltamath', 'Deltamath_raw', 'Deltamath_1_5', 'Deltamath_1_4', 'Deltamath_1_2']]"
      ],
      "execution_count": 65,
      "outputs": [
        {
          "output_type": "execute_result",
          "data": {
            "text/html": [
              "<div>\n",
              "<style scoped>\n",
              "    .dataframe tbody tr th:only-of-type {\n",
              "        vertical-align: middle;\n",
              "    }\n",
              "\n",
              "    .dataframe tbody tr th {\n",
              "        vertical-align: top;\n",
              "    }\n",
              "\n",
              "    .dataframe thead th {\n",
              "        text-align: right;\n",
              "    }\n",
              "</style>\n",
              "<table border=\"1\" class=\"dataframe\">\n",
              "  <thead>\n",
              "    <tr style=\"text-align: right;\">\n",
              "      <th></th>\n",
              "      <th>First</th>\n",
              "      <th>Last</th>\n",
              "      <th>Deltamath</th>\n",
              "      <th>Deltamath_raw</th>\n",
              "      <th>Deltamath_1_5</th>\n",
              "      <th>Deltamath_1_4</th>\n",
              "      <th>Deltamath_1_2</th>\n",
              "    </tr>\n",
              "  </thead>\n",
              "  <tbody>\n",
              "  </tbody>\n",
              "</table>\n",
              "</div>"
            ],
            "text/plain": [
              "Empty DataFrame\n",
              "Columns: [First, Last, Deltamath, Deltamath_raw, Deltamath_1_5, Deltamath_1_4, Deltamath_1_2]\n",
              "Index: []"
            ]
          },
          "metadata": {
            "tags": []
          },
          "execution_count": 65
        }
      ]
    },
    {
      "cell_type": "code",
      "metadata": {
        "id": "91N2PAeupCuV"
      },
      "source": [
        "scores_df[scores_df.Deltamath_1_5.isnull()][['First', 'Last', 'Schedule', 'Advisor', 'Email']].to_csv('/content/drive/My Drive/Class_lists/No_Deltamath.csv')"
      ],
      "execution_count": 76,
      "outputs": []
    },
    {
      "cell_type": "code",
      "metadata": {
        "id": "ojZ32w1_tlbD",
        "outputId": "586b03c7-0c49-4385-9180-4b53685a9a68",
        "colab": {
          "base_uri": "https://localhost:8080/",
          "height": 139
        }
      },
      "source": [
        "combined_scores_df.columns"
      ],
      "execution_count": 66,
      "outputs": [
        {
          "output_type": "execute_result",
          "data": {
            "text/plain": [
              "Index(['First', 'Last', 'Schedule', 'Advisor', 'Email', 'Student', 'OSIS',\n",
              "       'Learning_model', 'Group', 'Last_y', 'First_y', 'Attendance',\n",
              "       'Deltamath', 'Khan', 'Worksheet', 'Construction', 'Genius',\n",
              "       'Schedule_raw', 'Advisor_raw', 'Email_raw', 'Student_raw', 'OSIS_raw',\n",
              "       'Learning_model_raw', 'Group_raw', 'Deltamath_1_5', 'Deltamath_1_4',\n",
              "       'Deltamath_1_2', 'Deltamath_raw'],\n",
              "      dtype='object')"
            ]
          },
          "metadata": {
            "tags": []
          },
          "execution_count": 66
        }
      ]
    },
    {
      "cell_type": "code",
      "metadata": {
        "id": "xT7ddsLSH53u"
      },
      "source": [
        "combined_scores_df[['Schedule', 'First', 'Last', 'Attendance', 'Khan', 'Worksheet', 'Construction', \n",
        "                    'Genius', 'Deltamath', 'Deltamath_1_5',\n",
        "       'Deltamath_1_4', 'Deltamath_1_2', 'Advisor', 'Email']]\\\n",
        "       .sort_values(['Schedule', 'First', 'Last'])\\\n",
        "       .to_csv('/content/drive/My Drive/Class_lists/combined_scores.csv')"
      ],
      "execution_count": 68,
      "outputs": []
    },
    {
      "cell_type": "code",
      "metadata": {
        "id": "9mleady5bfeR"
      },
      "source": [
        "scores_df.to_csv('/content/drive/My Drive/Class_lists/scores.csv')"
      ],
      "execution_count": 19,
      "outputs": []
    },
    {
      "cell_type": "code",
      "metadata": {
        "id": "sQx7TPiHV4Mf"
      },
      "source": [
        "scores_df = pd.read_csv('/content/drive/My Drive/Class_lists/scores.csv')\n",
        "scores_df"
      ],
      "execution_count": null,
      "outputs": []
    },
    {
      "cell_type": "code",
      "metadata": {
        "id": "HUatWamRWgPC",
        "outputId": "5ca4ee63-f558-434e-ad1b-a46dd955c32d",
        "colab": {
          "base_uri": "https://localhost:8080/",
          "height": 118
        }
      },
      "source": [
        "scores_df[scores_df.Last == 'Arvelo']"
      ],
      "execution_count": 9,
      "outputs": [
        {
          "output_type": "execute_result",
          "data": {
            "text/html": [
              "<div>\n",
              "<style scoped>\n",
              "    .dataframe tbody tr th:only-of-type {\n",
              "        vertical-align: middle;\n",
              "    }\n",
              "\n",
              "    .dataframe tbody tr th {\n",
              "        vertical-align: top;\n",
              "    }\n",
              "\n",
              "    .dataframe thead th {\n",
              "        text-align: right;\n",
              "    }\n",
              "</style>\n",
              "<table border=\"1\" class=\"dataframe\">\n",
              "  <thead>\n",
              "    <tr style=\"text-align: right;\">\n",
              "      <th></th>\n",
              "      <th>Unnamed: 0</th>\n",
              "      <th>Cohort</th>\n",
              "      <th>First</th>\n",
              "      <th>Last</th>\n",
              "      <th>Deltamath_1_5</th>\n",
              "      <th>Deltamath_1_4</th>\n",
              "      <th>Deltamath_1_2</th>\n",
              "      <th>Advisor</th>\n",
              "      <th>Email</th>\n",
              "      <th>IEP</th>\n",
              "      <th>ENL</th>\n",
              "      <th>Worksheet_1_5</th>\n",
              "    </tr>\n",
              "  </thead>\n",
              "  <tbody>\n",
              "    <tr>\n",
              "      <th>35</th>\n",
              "      <td>35</td>\n",
              "      <td>10D1</td>\n",
              "      <td>Natalie</td>\n",
              "      <td>Arvelo</td>\n",
              "      <td>0.0</td>\n",
              "      <td>75.0</td>\n",
              "      <td>100.0</td>\n",
              "      <td>Johnsen</td>\n",
              "      <td>narvelo1@beca324.org</td>\n",
              "      <td>ICT</td>\n",
              "      <td>Expanding</td>\n",
              "      <td>0</td>\n",
              "    </tr>\n",
              "  </tbody>\n",
              "</table>\n",
              "</div>"
            ],
            "text/plain": [
              "    Unnamed: 0 Cohort    First  ...  IEP        ENL  Worksheet_1_5\n",
              "35          35   10D1  Natalie  ...  ICT  Expanding              0\n",
              "\n",
              "[1 rows x 12 columns]"
            ]
          },
          "metadata": {
            "tags": []
          },
          "execution_count": 9
        }
      ]
    },
    {
      "cell_type": "code",
      "metadata": {
        "id": "qOkqqF0vY39Y"
      },
      "source": [
        "scores_df['Worksheet_1_5'] = 0"
      ],
      "execution_count": 8,
      "outputs": []
    },
    {
      "cell_type": "code",
      "metadata": {
        "id": "WaCxpnyUZJa3"
      },
      "source": [
        "worksheet_credit = ['Sandoval', 'Delgado', 'Arvelo', 'Rosario', 'Mosso', 'Frimpong', 'Masoud']\n",
        "scores_df.loc[scores_df.Last.isin(worksheet_credit), 'Worksheet_1_5'] = 100"
      ],
      "execution_count": 13,
      "outputs": []
    },
    {
      "cell_type": "code",
      "metadata": {
        "id": "K8K9YdAGa2qU"
      },
      "source": [
        "scores_df.loc[scores_df.First.isin(['Norma', 'Alissa', 'Leanne']), 'Worksheet_1_5'] = 100"
      ],
      "execution_count": 17,
      "outputs": []
    }
  ]
}